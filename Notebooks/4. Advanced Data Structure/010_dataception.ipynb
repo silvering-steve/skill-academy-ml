{
 "cells": [
  {
   "cell_type": "markdown",
   "metadata": {
    "id": "fm2-G4LLE6fT"
   },
   "source": [
    "# Working with data\n",
    "\n",
    "After learning variables, function, conditional, list, iteration, and dictionary, after this what we'll learn is mostly when everything is combined together."
   ]
  },
  {
   "cell_type": "markdown",
   "metadata": {
    "id": "rnPYMNLNE6fV"
   },
   "source": [
    "# A list of dictionary?! A key in dictionary that has a list of dictionary as value?!\n",
    "\n",
    "Nested data (a data structure within a data structure) is a common occurrence and can be challenging to understand. Let's start with a simple example:"
   ]
  },
  {
   "cell_type": "code",
   "execution_count": 1,
   "metadata": {
    "id": "MW21M0ZNE6fW",
    "ExecuteTime": {
     "end_time": "2023-12-05T03:21:04.999847Z",
     "start_time": "2023-12-05T03:21:04.989838500Z"
    }
   },
   "outputs": [],
   "source": [
    "student = {\n",
    "    \"name\": \"Mark\",\n",
    "    \"student_id\": 15163,\n",
    "    \"lectures\": [\n",
    "        \"Data Science\",\n",
    "        \"Programming\",\n",
    "        \"Linear Algebra\"\n",
    "    ]\n",
    "}"
   ]
  },
  {
   "cell_type": "markdown",
   "metadata": {
    "id": "ByzDRon9E6fX"
   },
   "source": [
    "As you can see, above dictionary has a list of lectures as a value for the key \"lectures\". Let's see how we can access the list of lectures:"
   ]
  },
  {
   "cell_type": "code",
   "execution_count": 2,
   "metadata": {
    "id": "5AHCJb9GE6fX",
    "outputId": "4ee3ec4f-19da-4a63-d864-93e6f1d4c426",
    "ExecuteTime": {
     "end_time": "2023-12-05T03:21:05.326741Z",
     "start_time": "2023-12-05T03:21:05.319231800Z"
    }
   },
   "outputs": [
    {
     "name": "stdout",
     "output_type": "stream",
     "text": [
      "['Data Science', 'Programming', 'Linear Algebra']\n",
      "Data Science\n"
     ]
    }
   ],
   "source": [
    "print(student[\"lectures\"])\n",
    "print(student[\"lectures\"][0])\n"
   ]
  },
  {
   "cell_type": "markdown",
   "metadata": {
    "id": "-7OrjYAoE6fY"
   },
   "source": [
    "# List of dictionaries\n",
    "\n",
    "If on above learning we learned that a list can be a value of a key in a dictionary, then a dictionary can also be a value in a list. Let's see how we can access the dictionary in a list:"
   ]
  },
  {
   "cell_type": "code",
   "execution_count": 3,
   "metadata": {
    "id": "RC1OVZ3RE6fY",
    "outputId": "baee8b1e-4128-441e-cfae-06f2cfbc8a22",
    "ExecuteTime": {
     "end_time": "2023-12-05T03:21:07.494313500Z",
     "start_time": "2023-12-05T03:21:07.479736500Z"
    }
   },
   "outputs": [
    {
     "name": "stdout",
     "output_type": "stream",
     "text": [
      "All students:\n",
      "[{'name': 'Mark', 'student_id': 15163, 'lectures': ['Data Science', 'Programming', 'Linear Algebra']}, {'name': 'Jessica', 'student_id': 15164, 'lectures': ['Data Science', 'Programming', 'Linear Algebra']}, {'name': 'Pablo', 'student_id': 15165, 'lectures': ['Data Science', 'Programming', 'Linear Algebra']}]\n",
      "\n",
      "Second student info: \n",
      "{'name': 'Jessica', 'student_id': 15164, 'lectures': ['Data Science', 'Programming', 'Linear Algebra']}\n",
      "\n",
      "Second student name:\n",
      "Jessica\n",
      "\n",
      "Second student second lecture:\n",
      "Programming\n"
     ]
    }
   ],
   "source": [
    "# If on above learning we learned that a list can be a value of a key in a dictionary, then a dictionary can also be a value in a list. Let's see how we can access the dictionary in a list:\n",
    "\n",
    "students = [\n",
    "    {\n",
    "        \"name\": \"Mark\",\n",
    "        \"student_id\": 15163,\n",
    "        \"lectures\": [\n",
    "            \"Data Science\",\n",
    "            \"Programming\",\n",
    "            \"Linear Algebra\"\n",
    "        ]\n",
    "    },\n",
    "    {\n",
    "        \"name\": \"Jessica\",\n",
    "        \"student_id\": 15164,\n",
    "        \"lectures\": [\n",
    "            \"Data Science\",\n",
    "            \"Programming\",\n",
    "            \"Linear Algebra\"\n",
    "        ]\n",
    "    },\n",
    "    {\n",
    "        \"name\": \"Pablo\",\n",
    "        \"student_id\": 15165,\n",
    "        \"lectures\": [\n",
    "            \"Data Science\",\n",
    "            \"Programming\",\n",
    "            \"Linear Algebra\"\n",
    "        ]\n",
    "    }\n",
    "]\n",
    "\n",
    "print(\"All students:\")\n",
    "print(students)\n",
    "\n",
    "print(\"\\nSecond student info: \")\n",
    "print(students[1])\n",
    "\n",
    "print(\"\\nSecond student name:\")\n",
    "print(students[1][\"name\"])\n",
    "\n",
    "print(\"\\nSecond student second lecture:\")\n",
    "print(students[1][\"lectures\"][1])"
   ]
  },
  {
   "cell_type": "markdown",
   "metadata": {
    "id": "ZXCRhNW2E6fY"
   },
   "source": [
    "Take your time understanding how to access nested data on above example. It's might look intimidating at first, but once you get the hang of it, it's actually pretty simple.\n",
    "\n",
    "> Note: `\\n` is a special character that means \"new line\", it's used to add a new line in a string (similar to pressing enter on a keyboard)."
   ]
  },
  {
   "cell_type": "markdown",
   "metadata": {
    "id": "LJuOzk4vE6fZ"
   },
   "source": [
    "# Challenge!"
   ]
  },
  {
   "cell_type": "markdown",
   "metadata": {
    "id": "z3ICYlmyE6fZ"
   },
   "source": [
    "Read and run below code"
   ]
  },
  {
   "cell_type": "code",
   "execution_count": 4,
   "metadata": {
    "id": "FMuwQBRVE6fZ",
    "ExecuteTime": {
     "end_time": "2023-12-05T03:21:16.554299200Z",
     "start_time": "2023-12-05T03:21:16.544170400Z"
    }
   },
   "outputs": [],
   "source": [
    "airports = [\n",
    "    {\n",
    "        \"name\": \"Soekarno-Hatta International Airport\",\n",
    "        \"airport_code\": \"CGK\",\n",
    "        \"country\": \"Indonesia\",\n",
    "        \"airlines\": [\n",
    "            \"Garuda Indonesia\",\n",
    "            \"Lion Air\",\n",
    "            \"AirAsia\"\n",
    "        ],\n",
    "        \"terminals\": [\n",
    "            {\n",
    "                \"terminal_id\": 1,\n",
    "                \"gates\": [\"1A\", \"1B\", \"1C\"],\n",
    "                \"restaurants\": [\"Garuda Restaurant\", \"Kopi Luwak\"],\n",
    "                \"flights\": [\"GA200\", \"LW500\"]\n",
    "            },\n",
    "            {\n",
    "                \"terminal_id\": 2,\n",
    "                \"gates\": [\"2A\", \"2B\"],\n",
    "                \"restaurants\": [\"Sate Padang\", \"Nasi Goreng Wagon\"],\n",
    "                \"flights\": [\"AA100\", \"AR150\"]\n",
    "            }\n",
    "        ]\n",
    "    },\n",
    "    {\n",
    "        \"name\": \"Ngurah Rai International Airport\",\n",
    "        \"airport_code\": \"DPS\",\n",
    "        \"country\": \"Indonesia\",\n",
    "        \"airlines\": [\n",
    "            \"Garuda Indonesia\",\n",
    "            \"Lion Air\",\n",
    "            \"AirAsia\"\n",
    "        ],\n",
    "        \"terminals\": [\n",
    "            {\n",
    "                \"terminal_id\": 1,\n",
    "                \"gates\": [\"1A\", \"1B\"],\n",
    "                \"restaurants\": [\"Java Coffee House\", \"Bali Buana\"],\n",
    "                \"flights\": [\"GA350\", \"AA250\"]\n",
    "            },\n",
    "            {\n",
    "                \"terminal_id\": 2,\n",
    "                \"gates\": [\"2A\", \"2B\", \"2C\"],\n",
    "                \"restaurants\": [\"Seafood Island\", \"Bali Spice\"],\n",
    "                \"flights\": [\"LW900\", \"A3500\"]\n",
    "            }\n",
    "        ]\n",
    "    }\n",
    "]"
   ]
  },
  {
   "cell_type": "markdown",
   "metadata": {
    "id": "xa97BIWSE6fZ"
   },
   "source": [
    "- Example: Retrieve Soekarno-Hatta International Airport's airport code"
   ]
  },
  {
   "cell_type": "code",
   "execution_count": 5,
   "metadata": {
    "id": "eHFv6vRCE6fZ",
    "outputId": "37064825-3b7c-4977-c9d3-748cb8cb6d27",
    "ExecuteTime": {
     "end_time": "2023-12-05T03:21:17.928960900Z",
     "start_time": "2023-12-05T03:21:17.918335100Z"
    }
   },
   "outputs": [
    {
     "name": "stdout",
     "output_type": "stream",
     "text": [
      "CGK\n"
     ]
    }
   ],
   "source": [
    "print(airports[0][\"airport_code\"])"
   ]
  },
  {
   "cell_type": "markdown",
   "metadata": {
    "id": "Dk8K5huyE6fa"
   },
   "source": [
    "## Challenge 1\n",
    "\n",
    "What airlines is available in the Ngurah Rai Airport?"
   ]
  },
  {
   "cell_type": "code",
   "execution_count": 8,
   "metadata": {
    "id": "b_Fb5faoE6fa",
    "ExecuteTime": {
     "end_time": "2023-12-05T03:21:38.632365800Z",
     "start_time": "2023-12-05T03:21:38.615340700Z"
    }
   },
   "outputs": [
    {
     "name": "stdout",
     "output_type": "stream",
     "text": [
      "['Garuda Indonesia', 'Lion Air', 'AirAsia']\n"
     ]
    }
   ],
   "source": [
    "print(airports[0]['airlines']) # Change it to fulfill above task, the answer should be `[\"Garuda Indonesia\", \"Lion Air\", \"AirAsia\"]`"
   ]
  },
  {
   "cell_type": "markdown",
   "metadata": {
    "id": "7V6d9xCME6fa"
   },
   "source": [
    "When you are done with the above challenge, then:\n",
    "\n",
    "1. Change the text \"my result\" below with the text \"done\"\n",
    "2. Run the code block by pressing the play button."
   ]
  },
  {
   "cell_type": "code",
   "execution_count": 9,
   "metadata": {
    "id": "1O0UptZkE6fa",
    "ExecuteTime": {
     "end_time": "2023-12-05T03:21:53.631463600Z",
     "start_time": "2023-12-05T03:21:51.910500300Z"
    }
   },
   "outputs": [
    {
     "name": "stderr",
     "output_type": "stream",
     "text": [
      "\n",
      "[notice] A new release of pip is available: 23.2.1 -> 23.3.1\n",
      "[notice] To update, run: python.exe -m pip install --upgrade pip\n"
     ]
    },
    {
     "name": "stdout",
     "output_type": "stream",
     "text": [
      "Requirement already satisfied: rggrader in d:\\repositories\\skill-academy-ml\\venv\\lib\\site-packages (0.1.6)\n",
      "Requirement already satisfied: requests in d:\\repositories\\skill-academy-ml\\venv\\lib\\site-packages (from rggrader) (2.31.0)\n",
      "Requirement already satisfied: pandas in d:\\repositories\\skill-academy-ml\\venv\\lib\\site-packages (from rggrader) (2.1.3)\n",
      "Requirement already satisfied: Pillow in d:\\repositories\\skill-academy-ml\\venv\\lib\\site-packages (from rggrader) (10.1.0)\n",
      "Requirement already satisfied: numpy<2,>=1.22.4 in d:\\repositories\\skill-academy-ml\\venv\\lib\\site-packages (from pandas->rggrader) (1.26.2)\n",
      "Requirement already satisfied: python-dateutil>=2.8.2 in d:\\repositories\\skill-academy-ml\\venv\\lib\\site-packages (from pandas->rggrader) (2.8.2)\n",
      "Requirement already satisfied: pytz>=2020.1 in d:\\repositories\\skill-academy-ml\\venv\\lib\\site-packages (from pandas->rggrader) (2023.3.post1)\n",
      "Requirement already satisfied: tzdata>=2022.1 in d:\\repositories\\skill-academy-ml\\venv\\lib\\site-packages (from pandas->rggrader) (2023.3)\n",
      "Requirement already satisfied: charset-normalizer<4,>=2 in d:\\repositories\\skill-academy-ml\\venv\\lib\\site-packages (from requests->rggrader) (3.3.2)\n",
      "Requirement already satisfied: idna<4,>=2.5 in d:\\repositories\\skill-academy-ml\\venv\\lib\\site-packages (from requests->rggrader) (3.6)\n",
      "Requirement already satisfied: urllib3<3,>=1.21.1 in d:\\repositories\\skill-academy-ml\\venv\\lib\\site-packages (from requests->rggrader) (2.1.0)\n",
      "Requirement already satisfied: certifi>=2017.4.17 in d:\\repositories\\skill-academy-ml\\venv\\lib\\site-packages (from requests->rggrader) (2023.11.17)\n",
      "Requirement already satisfied: six>=1.5 in d:\\repositories\\skill-academy-ml\\venv\\lib\\site-packages (from python-dateutil>=2.8.2->pandas->rggrader) (1.16.0)\n"
     ]
    },
    {
     "data": {
      "text/plain": "'Assignment successfully submitted'"
     },
     "execution_count": 9,
     "metadata": {},
     "output_type": "execute_result"
    }
   ],
   "source": [
    "!pip install rggrader\n",
    "\n",
    "from rggrader import submit\n",
    "\n",
    "# @title #### Student Identity\n",
    "student_id = \"REA3X5EN\" # @param {type:\"string\"}\n",
    "name = \"Steven Adi Santoso\" # @param {type:\"string\"}\n",
    "\n",
    "# Submit Method\n",
    "assignment_id = \"010_dataception\"\n",
    "question_id = \"04_dictionary_airport_1\"\n",
    "\n",
    "result = \"done\"\n",
    "\n",
    "submit(student_id, name, assignment_id, result, question_id)"
   ]
  },
  {
   "cell_type": "markdown",
   "metadata": {
    "id": "aiYBN3Y3E6fb"
   },
   "source": [
    "## Challenge 2\n",
    "\n",
    "Print the list of all restaurants available at the Ngurah Rai Airport on terminal with terminal ID = 2"
   ]
  },
  {
   "cell_type": "code",
   "execution_count": null,
   "metadata": {
    "id": "pqFJrBI_E6fb"
   },
   "outputs": [],
   "source": [
    "print(airports) # Change it to fulfill above task, the answer should be `[\"Seafood Island\", \"Bali Spice\"],`"
   ]
  },
  {
   "cell_type": "markdown",
   "metadata": {
    "id": "Fq8cQ_hmE6fb"
   },
   "source": [
    "When you are done with the above challenge, then:\n",
    "\n",
    "1. Change the text \"my result\" below with the text \"done\"\n",
    "2. Run the code block by pressing the play button."
   ]
  },
  {
   "cell_type": "code",
   "execution_count": 10,
   "metadata": {
    "id": "Lj-HRhSUE6fb",
    "ExecuteTime": {
     "end_time": "2023-12-05T03:21:59.512858700Z",
     "start_time": "2023-12-05T03:21:59.159227Z"
    }
   },
   "outputs": [
    {
     "data": {
      "text/plain": "'Assignment successfully submitted'"
     },
     "execution_count": 10,
     "metadata": {},
     "output_type": "execute_result"
    }
   ],
   "source": [
    "# Submit Method\n",
    "assignment_id = \"010_dataception\"\n",
    "question_id = \"05_dictionary_airport_2\"\n",
    "\n",
    "result = \"done\"\n",
    "\n",
    "submit(student_id, name, assignment_id, result, question_id)"
   ]
  },
  {
   "cell_type": "markdown",
   "metadata": {
    "id": "-LbnD1u6E6fc"
   },
   "source": [
    "# Mutating data inside data\n",
    "\n",
    "Mutating data inside a data, for example mutating a value inside a dictionary that is inside a list, is pretty much straightforward. You just access the data and assign a new value to it. Let's see how we can do it:"
   ]
  },
  {
   "cell_type": "code",
   "execution_count": null,
   "metadata": {
    "id": "d9COygKkE6fc",
    "outputId": "740fe5e4-66df-49c4-f4f9-1fda9df619e2",
    "colab": {
     "base_uri": "https://localhost:8080/"
    }
   },
   "outputs": [
    {
     "output_type": "stream",
     "name": "stdout",
     "text": [
      "[{'name': 'Mark', 'age': 25, 'salary': 4000}, {'name': 'Jessica', 'age': 23, 'salary': 3000}, {'name': 'Pablo', 'age': 30, 'salary': 5000}]\n",
      "[{'name': 'Mark', 'age': 25, 'salary': 4000}, {'name': 'Jessica', 'age': 23, 'salary': 5000}, {'name': 'Pablo', 'age': 30, 'salary': 5000}]\n"
     ]
    }
   ],
   "source": [
    "employee = [\n",
    "    {\n",
    "        \"name\": \"Mark\",\n",
    "        \"age\": 25,\n",
    "        \"salary\": 4000,\n",
    "    },\n",
    "    {\n",
    "        \"name\": \"Jessica\",\n",
    "        \"age\": 23,\n",
    "        \"salary\": 3000,\n",
    "    },\n",
    "    {\n",
    "        \"name\": \"Pablo\",\n",
    "        \"age\": 30,\n",
    "        \"salary\": 5000,\n",
    "    }\n",
    "]\n",
    "\n",
    "print(employee)\n",
    "\n",
    "employee[1][\"salary\"] = 5000\n",
    "\n",
    "print(employee)\n"
   ]
  },
  {
   "cell_type": "markdown",
   "metadata": {
    "id": "MVWV3RkcE6fc"
   },
   "source": [
    "# Challenge"
   ]
  },
  {
   "cell_type": "markdown",
   "metadata": {
    "id": "QChcjRS4E6fd"
   },
   "source": [
    "## Challenge 1\n",
    "\n",
    "Change the Alicia's grade to 90\n"
   ]
  },
  {
   "cell_type": "code",
   "execution_count": 11,
   "metadata": {
    "id": "3bXzT8CKE6fd",
    "colab": {
     "base_uri": "https://localhost:8080/"
    },
    "outputId": "1ddfa2c4-a230-41a5-8828-4a7d3f13e082",
    "ExecuteTime": {
     "end_time": "2023-12-05T03:22:19.135613100Z",
     "start_time": "2023-12-05T03:22:19.119098900Z"
    }
   },
   "outputs": [
    {
     "name": "stdout",
     "output_type": "stream",
     "text": [
      "90\n"
     ]
    }
   ],
   "source": [
    "students = [\n",
    "    {\n",
    "        \"name\": \"Alicia\",\n",
    "        \"age\": 20,\n",
    "        \"grade\": 90,\n",
    "    },\n",
    "    {\n",
    "        \"name\": \"Ben\",\n",
    "        \"age\": 22,\n",
    "        \"grade\": 90,\n",
    "    },\n",
    "    {\n",
    "        \"name\": \"Charlie\",\n",
    "        \"age\": 21,\n",
    "        \"grade\": 72,\n",
    "    },\n",
    "    {\n",
    "        \"name\": \"Daisy\",\n",
    "        \"age\": 23,\n",
    "        \"grade\": 88,\n",
    "    },\n",
    "    {\n",
    "        \"name\": \"Ethan\",\n",
    "        \"age\": 20,\n",
    "        \"grade\": 92,\n",
    "    }\n",
    "]\n",
    "\n",
    "# Write your code here\n",
    "students = students\n",
    "\n",
    "print(students[0]['grade']) # Expected output: 90"
   ]
  },
  {
   "cell_type": "markdown",
   "metadata": {
    "id": "x-qTPRiXE6fd"
   },
   "source": [
    "When you are done with the above challenge, then:\n",
    "\n",
    "1. Run the code block by pressing the play button."
   ]
  },
  {
   "cell_type": "code",
   "execution_count": 12,
   "metadata": {
    "id": "Zlq12TPvE6fd",
    "ExecuteTime": {
     "end_time": "2023-12-05T03:22:22.897636Z",
     "start_time": "2023-12-05T03:22:22.510427800Z"
    }
   },
   "outputs": [
    {
     "data": {
      "text/plain": "'Assignment successfully submitted'"
     },
     "execution_count": 12,
     "metadata": {},
     "output_type": "execute_result"
    }
   ],
   "source": [
    "# Submit Method\n",
    "assignment_id = \"010_dataception\"\n",
    "question_id = \"01_data_update\"\n",
    "\n",
    "submit(student_id, name, assignment_id, str(students[0][\"grade\"]), question_id)"
   ]
  },
  {
   "cell_type": "markdown",
   "metadata": {
    "id": "P1T5JOrTE6fd"
   },
   "source": [
    "## Challenge 2\n",
    "\n",
    "We have a list of new grades that you should assign each students to their new grade. The order of the list is the same as the order of the students in the `students` list."
   ]
  },
  {
   "cell_type": "code",
   "execution_count": 15,
   "metadata": {
    "id": "D81sT_-nE6fe",
    "ExecuteTime": {
     "end_time": "2023-12-05T03:35:14.619784300Z",
     "start_time": "2023-12-05T03:35:14.606642Z"
    }
   },
   "outputs": [
    {
     "name": "stdout",
     "output_type": "stream",
     "text": [
      "[{'name': 'Alicia', 'age': 20, 'grade': 98}, {'name': 'Ben', 'age': 22, 'grade': 76}, {'name': 'Charlie', 'age': 21, 'grade': 60}, {'name': 'Daisy', 'age': 23, 'grade': 99}, {'name': 'Ethan', 'age': 20, 'grade': 40}]\n"
     ]
    }
   ],
   "source": [
    "new_grades = [98, 76, 60, 99, 40]\n",
    "\n",
    "# Write your code here\n",
    "# Hint: Use for loop\n",
    "\n",
    "for i, student in enumerate(students):\n",
    "    student[\"grade\"] = new_grades[i]\n",
    "    \n",
    "\n",
    "print(students)\n",
    "# Expected output:\n",
    "# [\n",
    "#     {\n",
    "#         \"name\": \"Alicia\",\n",
    "#         \"age\": 20,\n",
    "#         \"grade\": 98,\n",
    "#     },\n",
    "#     {\n",
    "#         \"name\": \"Ben\",\n",
    "#         \"age\": 22,\n",
    "#         \"grade\": 76,\n",
    "#     },\n",
    "#     {\n",
    "#         \"name\": \"Charlie\",\n",
    "#         \"age\": 21,\n",
    "#         \"grade\": 60,\n",
    "#     },\n",
    "#     {\n",
    "#         \"name\": \"Daisy\",\n",
    "#         \"age\": 23,\n",
    "#         \"grade\": 99,\n",
    "#     },\n",
    "#     {\n",
    "#         \"name\": \"Ethan\",\n",
    "#         \"age\": 20,\n",
    "#         \"grade\": 40,\n",
    "#     }\n",
    "# ]"
   ]
  },
  {
   "cell_type": "markdown",
   "metadata": {
    "id": "YAZWe_S1E6fe"
   },
   "source": [
    "When you are done with the above challenge, then:\n",
    "\n",
    "1. Run the code block by pressing the play button."
   ]
  },
  {
   "cell_type": "code",
   "execution_count": 16,
   "metadata": {
    "id": "j4dcYxRSE6fe",
    "ExecuteTime": {
     "end_time": "2023-12-05T03:35:24.614739100Z",
     "start_time": "2023-12-05T03:35:24.286432900Z"
    }
   },
   "outputs": [
    {
     "data": {
      "text/plain": "'Assignment successfully submitted'"
     },
     "execution_count": 16,
     "metadata": {},
     "output_type": "execute_result"
    }
   ],
   "source": [
    "# Submit Method\n",
    "assignment_id = \"010_dataception\"\n",
    "question_id = \"02_data_update_batch\"\n",
    "\n",
    "submit(student_id, name, assignment_id, str(students[4][\"grade\"]), question_id)"
   ]
  },
  {
   "cell_type": "markdown",
   "metadata": {
    "id": "DIXgZehDE6fe"
   },
   "source": [
    "## Challenge 3\n",
    "\n",
    "You are given a list of dictionaries where each dictionary represents weather data for a particular day. Each dictionary contains the date, the average temperature, and whether it was raining or not.\n",
    "\n"
   ]
  },
  {
   "cell_type": "code",
   "execution_count": 17,
   "metadata": {
    "id": "HSG4Kg5VE6ff",
    "ExecuteTime": {
     "end_time": "2023-12-05T03:39:21.687503700Z",
     "start_time": "2023-12-05T03:39:21.684502600Z"
    }
   },
   "outputs": [],
   "source": [
    "weather_data = [\n",
    "    {\"date\": \"2022-01-01\", \"temperature\": 22, \"rain\": False},\n",
    "    {\"date\": \"2022-01-02\", \"temperature\": 25, \"rain\": True},\n",
    "    {\"date\": \"2022-01-03\", \"temperature\": 20, \"rain\": False},\n",
    "    {\"date\": \"2022-01-04\", \"temperature\": 30, \"rain\": True},\n",
    "    {\"date\": \"2022-01-05\", \"temperature\": 28, \"rain\": False},\n",
    "]"
   ]
  },
  {
   "cell_type": "markdown",
   "metadata": {
    "id": "NXA6Qm1_E6ff"
   },
   "source": [
    "Your task is to write a Python function `analyze_weather(data)` that takes this list as input and returns a dictionary with the following information:\n",
    "\n",
    "- `hottest_day`: The date of the hottest day.\n",
    "- `average_temperature`: The average temperature over all the days.\n",
    "- `rainy_days`: The number of rainy days."
   ]
  },
  {
   "cell_type": "code",
   "execution_count": 20,
   "metadata": {
    "id": "cgui5ckIE6ff",
    "ExecuteTime": {
     "end_time": "2023-12-05T03:45:23.358619Z",
     "start_time": "2023-12-05T03:45:23.342106400Z"
    }
   },
   "outputs": [
    {
     "name": "stdout",
     "output_type": "stream",
     "text": [
      "{'date': '2022-01-01', 'temperature': 22, 'rain': False}\n",
      "{'date': '2022-01-02', 'temperature': 25, 'rain': True}\n",
      "{'date': '2022-01-03', 'temperature': 20, 'rain': False}\n",
      "{'date': '2022-01-04', 'temperature': 30, 'rain': True}\n",
      "{'date': '2022-01-05', 'temperature': 28, 'rain': False}\n"
     ]
    },
    {
     "data": {
      "text/plain": "{'hottest_day': '2022-01-04', 'average_temperature': 25.0, 'rainy_days': 2}"
     },
     "execution_count": 20,
     "metadata": {},
     "output_type": "execute_result"
    }
   ],
   "source": [
    "def analyze_weather(data):\n",
    "    # Initialize variables\n",
    "    hottest_day = None\n",
    "    total_temperature = 0\n",
    "    rainy_days = 0\n",
    "    current_hottest_temperature = 0 # Hint: Use this variable to store the current hottest temperature\n",
    "\n",
    "    # Iterate over the data\n",
    "    for day in data:\n",
    "        print(day)\n",
    "        # Update hottest_day if necessary\n",
    "        # Hint: Use current_hottest_temperature variable to check if the current day is more hotter than\n",
    "        # current_hottest_temperature. If it is, then update current_hottest_temperature and hottest_day\n",
    "        # TODO: Fill in this part\n",
    "        if current_hottest_temperature < day[\"temperature\"]:\n",
    "            hottest_day = day[\"date\"]\n",
    "            \n",
    "            current_hottest_temperature = day[\"temperature\"]\n",
    "            \n",
    "        # Add to total_temperature\n",
    "        # TODO: Fill in this part\n",
    "        total_temperature += day[\"temperature\"]\n",
    "        \n",
    "        # Increment rainy_days if necessary\n",
    "        # TODO: Fill in this part\n",
    "        rainy_days += 1 if day[\"rain\"] else 0\n",
    "    # Calculate average_temperature\n",
    "    average_temperature = total_temperature / len(data)\n",
    "\n",
    "    # Return the result\n",
    "    return {\n",
    "        \"hottest_day\": hottest_day,\n",
    "        \"average_temperature\": average_temperature,\n",
    "        \"rainy_days\": rainy_days\n",
    "    }\n",
    "\n",
    "analyze_weather(weather_data)\n",
    "# {\n",
    "#     \"hottest_day\": \"2022-01-04\",\n",
    "#     \"average_temperature\": 25,\n",
    "#     \"rainy_days\": 2\n",
    "# }"
   ]
  },
  {
   "cell_type": "markdown",
   "metadata": {
    "id": "RRLffMHjE6ff"
   },
   "source": [
    "When you are done with the above challenge, then:\n",
    "\n",
    "1. Run the code block by pressing the play button."
   ]
  },
  {
   "cell_type": "code",
   "execution_count": 21,
   "metadata": {
    "id": "SawMvUKsE6fg",
    "ExecuteTime": {
     "end_time": "2023-12-05T03:45:32.442535400Z",
     "start_time": "2023-12-05T03:45:32.015480700Z"
    }
   },
   "outputs": [
    {
     "name": "stdout",
     "output_type": "stream",
     "text": [
      "{'date': '2023-12-01', 'temperature': 25, 'rain': True}\n",
      "{'date': '2023-12-02', 'temperature': 20, 'rain': True}\n",
      "{'date': '2023-12-03', 'temperature': 28, 'rain': False}\n",
      "{'date': '2023-12-04', 'temperature': 20, 'rain': False}\n",
      "{'date': '2023-12-05', 'temperature': 30, 'rain': True}\n"
     ]
    },
    {
     "data": {
      "text/plain": "'Assignment successfully submitted'"
     },
     "execution_count": 21,
     "metadata": {},
     "output_type": "execute_result"
    }
   ],
   "source": [
    "# Submit Method\n",
    "assignment_id = \"010_dataception\"\n",
    "question_id = \"03_data_add_batch\"\n",
    "\n",
    "weather_2023 = [\n",
    "    {\"date\": \"2023-12-01\", \"temperature\": 25, \"rain\": True},\n",
    "    {\"date\": \"2023-12-02\", \"temperature\": 20, \"rain\": True},\n",
    "    {\"date\": \"2023-12-03\", \"temperature\": 28, \"rain\": False},\n",
    "    {\"date\": \"2023-12-04\", \"temperature\": 20, \"rain\": False},\n",
    "    {\"date\": \"2023-12-05\", \"temperature\": 30, \"rain\": True},\n",
    "]\n",
    "\n",
    "submit(student_id, name, assignment_id, str(analyze_weather(weather_2023)), question_id)"
   ]
  }
 ],
 "metadata": {
  "kernelspec": {
   "display_name": "Python 3 (ipykernel)",
   "language": "python",
   "name": "python3"
  },
  "language_info": {
   "codemirror_mode": {
    "name": "ipython",
    "version": 3
   },
   "file_extension": ".py",
   "mimetype": "text/x-python",
   "name": "python",
   "nbconvert_exporter": "python",
   "pygments_lexer": "ipython3",
   "version": "3.11.3"
  },
  "colab": {
   "provenance": []
  }
 },
 "nbformat": 4,
 "nbformat_minor": 0
}
