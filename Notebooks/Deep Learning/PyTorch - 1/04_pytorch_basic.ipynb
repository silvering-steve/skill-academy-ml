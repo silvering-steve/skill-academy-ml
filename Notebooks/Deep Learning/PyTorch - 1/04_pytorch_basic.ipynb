{
 "cells": [
  {
   "cell_type": "markdown",
   "metadata": {
    "id": "2Nyfj_CwgjqE"
   },
   "source": [
    "# Pytorch Basic\n",
    "\n",
    "Pytorch is a python library for deep learning. It provides a high level abstraction which make it easy to train deep neural networks.\n",
    "\n",
    "Let's install pytorch first."
   ]
  },
  {
   "cell_type": "code",
   "execution_count": 1,
   "metadata": {
    "id": "M7_1vLa1gjqI",
    "ExecuteTime": {
     "end_time": "2024-01-24T14:21:02.831031057Z",
     "start_time": "2024-01-24T14:21:00.127614226Z"
    }
   },
   "outputs": [
    {
     "name": "stdout",
     "output_type": "stream",
     "text": [
      "Requirement already satisfied: torch in /home/steve/.conda/envs/skill-academy-ml/lib/python3.10/site-packages (2.1.2)\r\n",
      "Requirement already satisfied: filelock in /home/steve/.conda/envs/skill-academy-ml/lib/python3.10/site-packages (from torch) (3.13.1)\r\n",
      "Requirement already satisfied: typing-extensions in /home/steve/.conda/envs/skill-academy-ml/lib/python3.10/site-packages (from torch) (4.9.0)\r\n",
      "Requirement already satisfied: sympy in /home/steve/.conda/envs/skill-academy-ml/lib/python3.10/site-packages (from torch) (1.12)\r\n",
      "Requirement already satisfied: networkx in /home/steve/.conda/envs/skill-academy-ml/lib/python3.10/site-packages (from torch) (3.2.1)\r\n",
      "Requirement already satisfied: jinja2 in /home/steve/.conda/envs/skill-academy-ml/lib/python3.10/site-packages (from torch) (3.1.2)\r\n",
      "Requirement already satisfied: fsspec in /home/steve/.conda/envs/skill-academy-ml/lib/python3.10/site-packages (from torch) (2023.10.0)\r\n",
      "Requirement already satisfied: nvidia-cuda-nvrtc-cu12==12.1.105 in /home/steve/.conda/envs/skill-academy-ml/lib/python3.10/site-packages (from torch) (12.1.105)\r\n",
      "Requirement already satisfied: nvidia-cuda-runtime-cu12==12.1.105 in /home/steve/.conda/envs/skill-academy-ml/lib/python3.10/site-packages (from torch) (12.1.105)\r\n",
      "Requirement already satisfied: nvidia-cuda-cupti-cu12==12.1.105 in /home/steve/.conda/envs/skill-academy-ml/lib/python3.10/site-packages (from torch) (12.1.105)\r\n",
      "Requirement already satisfied: nvidia-cudnn-cu12==8.9.2.26 in /home/steve/.conda/envs/skill-academy-ml/lib/python3.10/site-packages (from torch) (8.9.2.26)\r\n",
      "Requirement already satisfied: nvidia-cublas-cu12==12.1.3.1 in /home/steve/.conda/envs/skill-academy-ml/lib/python3.10/site-packages (from torch) (12.1.3.1)\r\n",
      "Requirement already satisfied: nvidia-cufft-cu12==11.0.2.54 in /home/steve/.conda/envs/skill-academy-ml/lib/python3.10/site-packages (from torch) (11.0.2.54)\r\n",
      "Requirement already satisfied: nvidia-curand-cu12==10.3.2.106 in /home/steve/.conda/envs/skill-academy-ml/lib/python3.10/site-packages (from torch) (10.3.2.106)\r\n",
      "Requirement already satisfied: nvidia-cusolver-cu12==11.4.5.107 in /home/steve/.conda/envs/skill-academy-ml/lib/python3.10/site-packages (from torch) (11.4.5.107)\r\n",
      "Requirement already satisfied: nvidia-cusparse-cu12==12.1.0.106 in /home/steve/.conda/envs/skill-academy-ml/lib/python3.10/site-packages (from torch) (12.1.0.106)\r\n",
      "Requirement already satisfied: nvidia-nccl-cu12==2.18.1 in /home/steve/.conda/envs/skill-academy-ml/lib/python3.10/site-packages (from torch) (2.18.1)\r\n",
      "Requirement already satisfied: nvidia-nvtx-cu12==12.1.105 in /home/steve/.conda/envs/skill-academy-ml/lib/python3.10/site-packages (from torch) (12.1.105)\r\n",
      "Requirement already satisfied: triton==2.1.0 in /home/steve/.conda/envs/skill-academy-ml/lib/python3.10/site-packages (from torch) (2.1.0)\r\n",
      "Requirement already satisfied: nvidia-nvjitlink-cu12 in /home/steve/.conda/envs/skill-academy-ml/lib/python3.10/site-packages (from nvidia-cusolver-cu12==11.4.5.107->torch) (12.3.101)\r\n",
      "Requirement already satisfied: MarkupSafe>=2.0 in /home/steve/.conda/envs/skill-academy-ml/lib/python3.10/site-packages (from jinja2->torch) (2.1.3)\r\n",
      "Requirement already satisfied: mpmath>=0.19 in /home/steve/.conda/envs/skill-academy-ml/lib/python3.10/site-packages (from sympy->torch) (1.3.0)\r\n"
     ]
    }
   ],
   "source": [
    "!pip install torch"
   ]
  },
  {
   "cell_type": "markdown",
   "metadata": {
    "id": "N2C3ArGHgjqK"
   },
   "source": [
    "For this tutorial, we will use the following version:"
   ]
  },
  {
   "cell_type": "code",
   "execution_count": 2,
   "metadata": {
    "id": "2lgmJED6gjqK",
    "outputId": "80cad99f-dd07-47cb-9ee9-9de4490bdc28",
    "ExecuteTime": {
     "end_time": "2024-01-24T14:21:03.850238161Z",
     "start_time": "2024-01-24T14:21:02.830721855Z"
    }
   },
   "outputs": [
    {
     "name": "stdout",
     "output_type": "stream",
     "text": [
      "2.1.2+cu121\n"
     ]
    }
   ],
   "source": [
    "# Check pytorch version\n",
    "import torch\n",
    "print(torch.__version__)"
   ]
  },
  {
   "cell_type": "markdown",
   "metadata": {
    "id": "LN3ABPV4gjqL"
   },
   "source": [
    "## Tensor\n",
    "\n",
    "Tensor is the basic data structure in pytorch. It is similar to numpy array, but it provides automatic differentiation and it can be run on GPU.\n",
    "\n",
    "If we look at the trend, it's current [the most popular deep learning library](https://paperswithcode.com/trends)\n",
    "\n",
    "The capability of running on GPU is very important for deep learning. It can speed up the training process by a lot by parallelizing the computation. Watch this demo: [GPU vs CPU Demonstration](https://www.youtube.com/watch?v=-P28LKWTzrI)"
   ]
  },
  {
   "cell_type": "markdown",
   "metadata": {
    "id": "uzBdMoJsgjqM"
   },
   "source": [
    "Tensor is n-dimensional array. When n is 0, it is a scalar. When n is 1, it is a vector. When n is 2, it is a matrix. When n is 3, it is a cube. When n is 4, it is a 4-dimensional array. And so on."
   ]
  },
  {
   "cell_type": "code",
   "execution_count": 3,
   "metadata": {
    "id": "LXTSUtExgjqN",
    "outputId": "998d2530-56b6-45d3-a0a4-dcbf667f7ab6",
    "ExecuteTime": {
     "end_time": "2024-01-24T14:21:03.853048412Z",
     "start_time": "2024-01-24T14:21:03.847775254Z"
    }
   },
   "outputs": [
    {
     "name": "stdout",
     "output_type": "stream",
     "text": [
      "tensor(42)\n"
     ]
    }
   ],
   "source": [
    "# 0 dimension tensor\n",
    "import torch\n",
    "\n",
    "x = torch.tensor(42)\n",
    "print(x)"
   ]
  },
  {
   "cell_type": "code",
   "execution_count": 4,
   "metadata": {
    "id": "Sl4tKOzKgjqO",
    "outputId": "d2fc0893-6ba3-4f96-b87f-8beaac5a1059",
    "ExecuteTime": {
     "end_time": "2024-01-24T14:21:03.856728616Z",
     "start_time": "2024-01-24T14:21:03.851293083Z"
    }
   },
   "outputs": [
    {
     "name": "stdout",
     "output_type": "stream",
     "text": [
      "tensor([42, 43])\n"
     ]
    }
   ],
   "source": [
    "# 1 dimension tensor\n",
    "import torch\n",
    "\n",
    "x = torch.tensor([42, 43])\n",
    "print(x)"
   ]
  },
  {
   "cell_type": "code",
   "execution_count": 5,
   "metadata": {
    "id": "4yT3PgT7gjqO",
    "outputId": "360bd667-4012-4d94-c5f8-e7a03a507260",
    "ExecuteTime": {
     "end_time": "2024-01-24T14:21:03.865544683Z",
     "start_time": "2024-01-24T14:21:03.857302350Z"
    }
   },
   "outputs": [
    {
     "name": "stdout",
     "output_type": "stream",
     "text": [
      "tensor([[42, 43],\n",
      "        [44, 45]])\n"
     ]
    }
   ],
   "source": [
    "# 2 dimension tensor\n",
    "import torch\n",
    "\n",
    "x = torch.tensor([[42, 43], [44, 45]])\n",
    "print(x)"
   ]
  },
  {
   "cell_type": "code",
   "execution_count": 6,
   "metadata": {
    "id": "_q99sLWDgjqP",
    "outputId": "ed9a0bb0-e830-4e9a-c61e-b008341bfe13",
    "ExecuteTime": {
     "end_time": "2024-01-24T14:21:03.868222718Z",
     "start_time": "2024-01-24T14:21:03.861431492Z"
    }
   },
   "outputs": [
    {
     "name": "stdout",
     "output_type": "stream",
     "text": [
      "tensor([[[42, 43],\n",
      "         [44, 45]],\n",
      "\n",
      "        [[46, 47],\n",
      "         [48, 49]]])\n"
     ]
    }
   ],
   "source": [
    "# 3 dimension tensor\n",
    "import torch\n",
    "\n",
    "x = torch.tensor([[[42, 43], [44, 45]], [[46, 47], [48, 49]]])\n",
    "print(x)"
   ]
  },
  {
   "cell_type": "markdown",
   "metadata": {
    "id": "5m91YYVqgjqP"
   },
   "source": [
    "To check the dimension of a tensor, we can use the `dim()` method."
   ]
  },
  {
   "cell_type": "code",
   "execution_count": 7,
   "metadata": {
    "id": "6ussEU6AgjqQ",
    "outputId": "2c91038d-c4a6-48a1-b7cb-a24e8d65cd4b",
    "ExecuteTime": {
     "end_time": "2024-01-24T14:21:03.936158986Z",
     "start_time": "2024-01-24T14:21:03.866474876Z"
    }
   },
   "outputs": [
    {
     "name": "stdout",
     "output_type": "stream",
     "text": [
      "3\n",
      "0\n"
     ]
    }
   ],
   "source": [
    "x = torch.tensor([[[42, 43], [44, 45]], [[46, 47], [48, 49]]])\n",
    "print(x.dim())\n",
    "\n",
    "x = torch.tensor(42)\n",
    "print(x.dim())"
   ]
  },
  {
   "cell_type": "markdown",
   "metadata": {
    "id": "xQNOQmEUgjqQ"
   },
   "source": [
    "## Constructing Tensor"
   ]
  },
  {
   "cell_type": "markdown",
   "metadata": {
    "id": "fG8y4J0UgjqQ"
   },
   "source": [
    "### Random Tensor"
   ]
  },
  {
   "cell_type": "code",
   "execution_count": 8,
   "metadata": {
    "id": "V9a3De0VgjqQ",
    "outputId": "d6a1e6e2-ce27-4aa2-b906-89a8ff266db0",
    "ExecuteTime": {
     "end_time": "2024-01-24T14:21:03.937594694Z",
     "start_time": "2024-01-24T14:21:03.908831113Z"
    }
   },
   "outputs": [
    {
     "data": {
      "text/plain": "tensor([[0.3578, 0.0278, 0.2041],\n        [0.1766, 0.3871, 0.1607],\n        [0.5307, 0.4715, 0.8806],\n        [0.3519, 0.8731, 0.5240],\n        [0.5874, 0.4203, 0.3554]])"
     },
     "execution_count": 8,
     "metadata": {},
     "output_type": "execute_result"
    }
   ],
   "source": [
    "import torch\n",
    "torch.rand(5, 3)"
   ]
  },
  {
   "cell_type": "markdown",
   "metadata": {
    "id": "yS2voBXugjqR"
   },
   "source": [
    "The parameters of the `rand()` method are the dimension of the tensor. For example, `torch.rand(2, 3)` will create a 2x3 tensor with random values."
   ]
  },
  {
   "cell_type": "code",
   "execution_count": 9,
   "metadata": {
    "id": "Ne26D2uVgjqR",
    "outputId": "b5801f69-a20e-4b4e-da93-525a0a7f3e1f",
    "ExecuteTime": {
     "end_time": "2024-01-24T14:21:03.938671499Z",
     "start_time": "2024-01-24T14:21:03.909010313Z"
    }
   },
   "outputs": [
    {
     "data": {
      "text/plain": "tensor([0.2976, 0.0255, 0.4862, 0.0042, 0.9213])"
     },
     "execution_count": 9,
     "metadata": {},
     "output_type": "execute_result"
    }
   ],
   "source": [
    "import torch\n",
    "# One dimensional tensor containing 5 random numbers\n",
    "torch.rand(5)"
   ]
  },
  {
   "cell_type": "markdown",
   "metadata": {
    "id": "njfx_-q0gjqR"
   },
   "source": [
    "### Ones Tensor\n",
    "\n",
    "Ones tensor is a tensor with all values equal to 1"
   ]
  },
  {
   "cell_type": "code",
   "execution_count": 10,
   "metadata": {
    "id": "8SaZsrBkgjqR",
    "outputId": "e179a202-7064-4796-895a-958554865b10",
    "ExecuteTime": {
     "end_time": "2024-01-24T14:21:03.948811694Z",
     "start_time": "2024-01-24T14:21:03.909148790Z"
    }
   },
   "outputs": [
    {
     "data": {
      "text/plain": "tensor([[1., 1., 1.],\n        [1., 1., 1.]])"
     },
     "execution_count": 10,
     "metadata": {},
     "output_type": "execute_result"
    }
   ],
   "source": [
    "import torch\n",
    "torch.ones(2, 3)"
   ]
  },
  {
   "cell_type": "markdown",
   "metadata": {
    "id": "bjnboJJzgjqR"
   },
   "source": [
    "Quiz: what's the output of `torch.ones(1, 2)`?"
   ]
  },
  {
   "cell_type": "code",
   "execution_count": 11,
   "metadata": {
    "id": "3Y29-KSCgjqS",
    "ExecuteTime": {
     "end_time": "2024-01-24T14:21:03.950062285Z",
     "start_time": "2024-01-24T14:21:03.909274964Z"
    }
   },
   "outputs": [
    {
     "data": {
      "text/plain": "tensor([[0., 0.]])"
     },
     "execution_count": 11,
     "metadata": {},
     "output_type": "execute_result"
    }
   ],
   "source": [
    "import torch\n",
    "torch.zeros(1, 2)"
   ]
  },
  {
   "cell_type": "markdown",
   "metadata": {
    "id": "6jUYsH1NgjqS"
   },
   "source": [
    "### Zeros Tensor\n",
    "\n",
    "Zeros tensor is a tensor with all values equal to 0"
   ]
  },
  {
   "cell_type": "code",
   "execution_count": 12,
   "metadata": {
    "id": "_IkNyJO3gjqS",
    "outputId": "b7297870-b1ea-4f83-f80f-8c253720530a",
    "ExecuteTime": {
     "end_time": "2024-01-24T14:21:03.951157786Z",
     "start_time": "2024-01-24T14:21:03.909458427Z"
    }
   },
   "outputs": [
    {
     "data": {
      "text/plain": "tensor([[[0., 0., 0.],\n         [0., 0., 0.]]])"
     },
     "execution_count": 12,
     "metadata": {},
     "output_type": "execute_result"
    }
   ],
   "source": [
    "import torch\n",
    "torch.zeros(1,2,3)"
   ]
  },
  {
   "cell_type": "markdown",
   "metadata": {
    "id": "XrzhSdtbgjqS"
   },
   "source": [
    "### Range Tensor\n",
    "\n",
    "If we want to create a tensor with values from 0 to n-1, we can use the `torch.arange(n)` method."
   ]
  },
  {
   "cell_type": "code",
   "execution_count": 13,
   "metadata": {
    "id": "CcJ1poLEgjqT",
    "outputId": "333bd427-9167-42f7-b426-f9661e9f28bd",
    "ExecuteTime": {
     "end_time": "2024-01-24T14:21:03.952115890Z",
     "start_time": "2024-01-24T14:21:03.909576647Z"
    }
   },
   "outputs": [
    {
     "data": {
      "text/plain": "tensor([1, 2, 3, 4, 5, 6, 7, 8, 9])"
     },
     "execution_count": 13,
     "metadata": {},
     "output_type": "execute_result"
    }
   ],
   "source": [
    "import torch\n",
    "torch.arange(1, 10)"
   ]
  },
  {
   "cell_type": "code",
   "execution_count": 14,
   "metadata": {
    "id": "NCe7DdVIgjqT",
    "outputId": "6c70aab3-19d4-4bf7-f3c4-dce172985f8e",
    "ExecuteTime": {
     "end_time": "2024-01-24T14:21:04.076985642Z",
     "start_time": "2024-01-24T14:21:03.956903375Z"
    }
   },
   "outputs": [
    {
     "data": {
      "text/plain": "tensor([-3, -1,  1])"
     },
     "execution_count": 14,
     "metadata": {},
     "output_type": "execute_result"
    }
   ],
   "source": [
    "torch.arange(-3, 3, 2)"
   ]
  },
  {
   "cell_type": "markdown",
   "metadata": {
    "id": "-2iyZ5LHgjqT"
   },
   "source": [
    "### Full\n",
    "\n",
    "If we want to create a tensor with all values equal to a constant, we can use the `torch.full()` method."
   ]
  },
  {
   "cell_type": "code",
   "execution_count": 15,
   "metadata": {
    "id": "7GkI0WHXgjqT",
    "outputId": "060c7521-8368-4389-bc9c-43a53eb777f0",
    "ExecuteTime": {
     "end_time": "2024-01-24T14:21:04.078164956Z",
     "start_time": "2024-01-24T14:21:03.957101304Z"
    }
   },
   "outputs": [
    {
     "data": {
      "text/plain": "tensor([42, 42])"
     },
     "execution_count": 15,
     "metadata": {},
     "output_type": "execute_result"
    }
   ],
   "source": [
    "import torch\n",
    "torch.full((2, ), 42)"
   ]
  },
  {
   "cell_type": "code",
   "execution_count": 16,
   "metadata": {
    "id": "SU4j250dgjqU",
    "outputId": "a93ae847-f86d-47b3-e2c7-9bbf86f97122",
    "ExecuteTime": {
     "end_time": "2024-01-24T14:21:04.079185045Z",
     "start_time": "2024-01-24T14:21:03.957188372Z"
    }
   },
   "outputs": [
    {
     "data": {
      "text/plain": "tensor([[42, 42, 42],\n        [42, 42, 42]])"
     },
     "execution_count": 16,
     "metadata": {},
     "output_type": "execute_result"
    }
   ],
   "source": [
    "import torch\n",
    "torch.full((2, 3), 42)"
   ]
  },
  {
   "cell_type": "markdown",
   "metadata": {
    "id": "3O2NxSKGgjqU"
   },
   "source": [
    "## Tensor Operations"
   ]
  },
  {
   "cell_type": "markdown",
   "metadata": {
    "id": "CDqkjHpdgjqU"
   },
   "source": [
    "We can do normal arithmetic operations on tensor:"
   ]
  },
  {
   "cell_type": "code",
   "execution_count": 17,
   "metadata": {
    "id": "sqcbshU3gjqU",
    "outputId": "b6f30a7a-d529-4b4d-b478-2ee54675b99d",
    "ExecuteTime": {
     "end_time": "2024-01-24T14:21:04.080137960Z",
     "start_time": "2024-01-24T14:21:03.957301110Z"
    }
   },
   "outputs": [
    {
     "name": "stdout",
     "output_type": "stream",
     "text": [
      "tensor(44)\n",
      "tensor(126)\n",
      "tensor(1764)\n",
      "tensor(21.)\n"
     ]
    }
   ],
   "source": [
    "x = torch.tensor(42)\n",
    "print(x + 2)\n",
    "print(x * 3)\n",
    "print(x ** 2)\n",
    "print(x / 2)"
   ]
  },
  {
   "cell_type": "markdown",
   "metadata": {
    "id": "OYTu7DCXgjqU"
   },
   "source": [
    "We can do similar operations on higher dimensional tensors:"
   ]
  },
  {
   "cell_type": "code",
   "execution_count": 18,
   "metadata": {
    "id": "Si5WgAvJgjqV",
    "outputId": "84290185-85b6-4793-9294-af59b991b779",
    "ExecuteTime": {
     "end_time": "2024-01-24T14:21:04.081161945Z",
     "start_time": "2024-01-24T14:21:03.957394787Z"
    }
   },
   "outputs": [
    {
     "name": "stdout",
     "output_type": "stream",
     "text": [
      "tensor([2, 3])\n",
      "tensor([[2, 3],\n",
      "        [4, 5]])\n"
     ]
    }
   ],
   "source": [
    "x = torch.tensor([1, 2])\n",
    "print(x + 1)\n",
    "\n",
    "x = torch.tensor([[1, 2], [3, 4]])\n",
    "print(x + 1)"
   ]
  },
  {
   "cell_type": "markdown",
   "metadata": {
    "id": "ZBgbPLm8gjqV"
   },
   "source": [
    "Wow from mathematic lesson, didn't we learn that addition operations are only defined for tensors with the same shape? How come we can add a scalar tensor (0 dim) with a 2 dim tensor?\n",
    "\n",
    "This is because of broadcasting. Pytorch will automatically broadcast the scalar tensor to match the shape of the other tensor.\n",
    "\n",
    "So,\n",
    "\n",
    "$$\n",
    "\\begin{bmatrix}\n",
    "1 & 2 & 3 \\\\\n",
    "4 & 5 & 6 \\\\\n",
    "\\end{bmatrix}\n",
    "+ 1\n",
    "$$\n",
    "\n",
    "would become\n",
    "\n",
    "$$\n",
    "\\begin{bmatrix}\n",
    "1 & 2 & 3 \\\\\n",
    "4 & 5 & 6 \\\\\n",
    "\\end{bmatrix}\n",
    "+\n",
    "\\begin{bmatrix}\n",
    "1 & 1 & 1 \\\\\n",
    "1 & 1 & 1 \\\\\n",
    "\\end{bmatrix}\n",
    "$$"
   ]
  },
  {
   "cell_type": "markdown",
   "metadata": {
    "id": "T52ZKorDgjqV"
   },
   "source": [
    "## Broadcasting"
   ]
  },
  {
   "cell_type": "markdown",
   "metadata": {
    "id": "BdEu7LyEgjqV"
   },
   "source": [
    "So how does broadcasting work?\n",
    "\n",
    "Taken from [Pytorch Docs](https://pytorch.org/docs/stable/notes/broadcasting.html):\n",
    "\n",
    "Two tensors are “broadcastable” if the following rules hold:\n",
    "\n",
    "- Each tensor has at least one dimension.\n",
    "- When iterating over the dimension sizes, starting at the trailing dimension, the dimension sizes must either be equal, one of them is 1, or one of them does not exist."
   ]
  },
  {
   "cell_type": "markdown",
   "metadata": {
    "id": "OOjo-jqOgjqV"
   },
   "source": [
    "Broadcasting rules:\n",
    "\n",
    "- If the number of dimensions of x and y are not equal, prepend 1 to the dimensions of the tensor with fewer dimensions to make them equal length.\n",
    "- Then, for each dimension size, the resulting dimension size is the max of the sizes of x and y along that dimension."
   ]
  },
  {
   "cell_type": "code",
   "execution_count": 19,
   "metadata": {
    "id": "sfUWMbRtgjqW",
    "outputId": "c658b48d-abd0-4138-d5b9-ed48671e1d49",
    "ExecuteTime": {
     "end_time": "2024-01-24T14:21:04.082081637Z",
     "start_time": "2024-01-24T14:21:03.957588613Z"
    }
   },
   "outputs": [
    {
     "data": {
      "text/plain": "tensor([6., 6., 6.])"
     },
     "execution_count": 19,
     "metadata": {},
     "output_type": "execute_result"
    }
   ],
   "source": [
    "import torch\n",
    "torch.full((1,), 5) + torch.ones(3)\n"
   ]
  },
  {
   "cell_type": "markdown",
   "metadata": {
    "id": "-xaBSfvMgjqb"
   },
   "source": [
    "$$\n",
    "\\begin{bmatrix}\n",
    "5\n",
    "\\end{bmatrix}\n",
    "+\n",
    "\\begin{bmatrix}\n",
    "1 \\\\\n",
    "1 \\\\\n",
    "1\n",
    "\\end{bmatrix}\n",
    "=\n",
    "\\begin{bmatrix}\n",
    "5 \\\\\n",
    "5 \\\\\n",
    "5\n",
    "\\end{bmatrix}\n",
    "+\n",
    "\\begin{bmatrix}\n",
    "1 \\\\\n",
    "1 \\\\\n",
    "1\n",
    "\\end{bmatrix}\n",
    "$$"
   ]
  },
  {
   "cell_type": "code",
   "execution_count": 20,
   "metadata": {
    "id": "B-KzXcxSgjqb",
    "ExecuteTime": {
     "end_time": "2024-01-24T14:21:04.169065191Z",
     "start_time": "2024-01-24T14:21:03.957708783Z"
    }
   },
   "outputs": [
    {
     "ename": "RuntimeError",
     "evalue": "The size of tensor a (3) must match the size of tensor b (5) at non-singleton dimension 0",
     "output_type": "error",
     "traceback": [
      "\u001B[0;31m---------------------------------------------------------------------------\u001B[0m",
      "\u001B[0;31mRuntimeError\u001B[0m                              Traceback (most recent call last)",
      "Cell \u001B[0;32mIn[20], line 3\u001B[0m\n\u001B[1;32m      1\u001B[0m \u001B[38;5;28;01mimport\u001B[39;00m \u001B[38;5;21;01mtorch\u001B[39;00m\n\u001B[1;32m      2\u001B[0m \u001B[38;5;66;03m# Error\u001B[39;00m\n\u001B[0;32m----> 3\u001B[0m \u001B[43mtorch\u001B[49m\u001B[38;5;241;43m.\u001B[39;49m\u001B[43mones\u001B[49m\u001B[43m(\u001B[49m\u001B[38;5;241;43m3\u001B[39;49m\u001B[43m)\u001B[49m\u001B[43m \u001B[49m\u001B[38;5;241;43m+\u001B[39;49m\u001B[43m \u001B[49m\u001B[43mtorch\u001B[49m\u001B[38;5;241;43m.\u001B[39;49m\u001B[43mones\u001B[49m\u001B[43m(\u001B[49m\u001B[38;5;241;43m5\u001B[39;49m\u001B[43m)\u001B[49m\n",
      "\u001B[0;31mRuntimeError\u001B[0m: The size of tensor a (3) must match the size of tensor b (5) at non-singleton dimension 0"
     ]
    }
   ],
   "source": [
    "import torch\n",
    "# Error\n",
    "torch.ones(3) + torch.ones(5)"
   ]
  },
  {
   "cell_type": "markdown",
   "metadata": {
    "id": "lwPB9Vv4gjqb"
   },
   "source": [
    "$$\n",
    "\\begin{bmatrix}\n",
    "1 \\\\\n",
    "1 \\\\\n",
    "1\n",
    "\\end{bmatrix}\n",
    "+\n",
    "\\begin{bmatrix}\n",
    "1 \\\\\n",
    "1 \\\\\n",
    "1 \\\\\n",
    "1 \\\\\n",
    "1\n",
    "\\end{bmatrix}\n",
    "=\n",
    "error\n",
    "$$"
   ]
  },
  {
   "cell_type": "markdown",
   "metadata": {
    "id": "jCPHsEENgjqb"
   },
   "source": [
    "Why is it an error?\n",
    "\n",
    "Remember this rule:\n",
    "\n",
    "> When iterating over the dimension sizes, starting at the trailing dimension, the dimension sizes must either be equal, one of them is 1, or one of them does not exist.\n",
    "\n",
    "The trailing dimension of the first tensor is 3, while the trailing dimension of the second tensor is 5. They are not equal, one of them is not 1, and one of them does not exist. So it's an error."
   ]
  },
  {
   "cell_type": "markdown",
   "metadata": {
    "id": "x-z8jWCxgjqb"
   },
   "source": [
    "Let's try again"
   ]
  },
  {
   "cell_type": "code",
   "execution_count": 35,
   "metadata": {
    "id": "amUFn3Wdgjqb",
    "outputId": "739de874-1882-4ed1-8be3-2359cae4de4e",
    "ExecuteTime": {
     "end_time": "2024-01-24T14:27:21.934289457Z",
     "start_time": "2024-01-24T14:27:21.879088008Z"
    }
   },
   "outputs": [
    {
     "data": {
      "text/plain": "tensor([[8, 8],\n        [8, 8]])"
     },
     "execution_count": 35,
     "metadata": {},
     "output_type": "execute_result"
    }
   ],
   "source": [
    "import torch\n",
    "\n",
    "torch.full((2, 2), 5) + torch.full((1, 2), 3)"
   ]
  },
  {
   "cell_type": "markdown",
   "metadata": {
    "id": "LbaBDqL8gjqc"
   },
   "source": [
    "$$\n",
    "\\begin{bmatrix}\n",
    "5 && 5 \\\\\n",
    "5 && 5 \\\\\n",
    "\\end{bmatrix}\n",
    "+\n",
    "\\begin{bmatrix}\n",
    "3 && 3\n",
    "\\end{bmatrix}\n",
    "=\n",
    "\\begin{bmatrix}\n",
    "5 && 5 \\\\\n",
    "5 && 5 \\\\\n",
    "\\end{bmatrix}\n",
    "+\n",
    "\\begin{bmatrix}\n",
    "3 && 3 \\\\\n",
    "3 && 3 \\\\\n",
    "\\end{bmatrix}\n",
    "$$"
   ]
  },
  {
   "cell_type": "code",
   "execution_count": 22,
   "metadata": {
    "id": "_8eaeN0Zgjqc",
    "outputId": "fc061cd8-0c53-45a6-f218-58af0f0e1825",
    "ExecuteTime": {
     "end_time": "2024-01-24T14:22:30.041018687Z",
     "start_time": "2024-01-24T14:22:29.982904551Z"
    }
   },
   "outputs": [
    {
     "name": "stdout",
     "output_type": "stream",
     "text": [
      "x = tensor([[[5, 5],\n",
      "         [5, 5],\n",
      "         [5, 5],\n",
      "         [5, 5]],\n",
      "\n",
      "        [[5, 5],\n",
      "         [5, 5],\n",
      "         [5, 5],\n",
      "         [5, 5]],\n",
      "\n",
      "        [[5, 5],\n",
      "         [5, 5],\n",
      "         [5, 5],\n",
      "         [5, 5]]])\n",
      "y = tensor([3, 3])\n",
      "z =  tensor([[[8, 8],\n",
      "         [8, 8],\n",
      "         [8, 8],\n",
      "         [8, 8]],\n",
      "\n",
      "        [[8, 8],\n",
      "         [8, 8],\n",
      "         [8, 8],\n",
      "         [8, 8]],\n",
      "\n",
      "        [[8, 8],\n",
      "         [8, 8],\n",
      "         [8, 8],\n",
      "         [8, 8]]])\n"
     ]
    }
   ],
   "source": [
    "import torch\n",
    "\n",
    "x = torch.full((3, 4, 2), 5)\n",
    "y = torch.full((2,), 3)\n",
    "z = x + y\n",
    "print('x =', x)\n",
    "print('y =', y)\n",
    "print('z = ',z)"
   ]
  },
  {
   "cell_type": "markdown",
   "metadata": {
    "id": "_sB4LsyUgjqc"
   },
   "source": [
    "## Matrix Operation\n",
    "\n",
    "Tensor can be multiplied with another tensor using the `matmul()` method or the `@` operator."
   ]
  },
  {
   "cell_type": "code",
   "execution_count": 23,
   "metadata": {
    "id": "-NUrCe9Bgjqc",
    "outputId": "b08284a8-2405-4fc0-af28-835350bd96f0",
    "ExecuteTime": {
     "end_time": "2024-01-24T14:22:30.158433117Z",
     "start_time": "2024-01-24T14:22:30.048262880Z"
    }
   },
   "outputs": [
    {
     "name": "stdout",
     "output_type": "stream",
     "text": [
      "torch.Size([1, 2])\n",
      "torch.Size([2, 3])\n"
     ]
    },
    {
     "data": {
      "text/plain": "tensor([[19, 26, 33]])"
     },
     "execution_count": 23,
     "metadata": {},
     "output_type": "execute_result"
    }
   ],
   "source": [
    "import torch\n",
    "\n",
    "x = torch.tensor([[3, 4]])\n",
    "print(x.shape)\n",
    "y = torch.tensor([[1, 2, 3], [4, 5, 6]])\n",
    "print(y.shape)\n",
    "x @ y\n"
   ]
  },
  {
   "cell_type": "markdown",
   "metadata": {
    "id": "Mx4jXe4Mgjqc"
   },
   "source": [
    "$$\n",
    "\\begin{bmatrix}\n",
    "3 && 4\n",
    "\\end{bmatrix}\n",
    "\\times\n",
    "\\begin{bmatrix}\n",
    "1 && 2 && 3 \\\\\n",
    "4 && 5 && 6\n",
    "\\end{bmatrix}\n",
    "$$"
   ]
  },
  {
   "cell_type": "markdown",
   "metadata": {
    "id": "xg2RkBTagjqd"
   },
   "source": [
    "Be careful not to be confused with the `*` operator. The `*` operator is element-wise multiplication."
   ]
  },
  {
   "cell_type": "code",
   "execution_count": 24,
   "metadata": {
    "id": "5GiT2Tl_gjqd",
    "outputId": "ec247085-ca5f-4b10-9e8c-3b2d4dc286ac",
    "ExecuteTime": {
     "end_time": "2024-01-24T14:22:30.274521559Z",
     "start_time": "2024-01-24T14:22:30.188090057Z"
    }
   },
   "outputs": [
    {
     "data": {
      "text/plain": "tensor([[ 9, 16]])"
     },
     "execution_count": 24,
     "metadata": {},
     "output_type": "execute_result"
    }
   ],
   "source": [
    "import torch\n",
    "\n",
    "x = torch.tensor([[3, 4]])\n",
    "x * x\n"
   ]
  },
  {
   "cell_type": "markdown",
   "metadata": {
    "id": "VbKzU4LCgjqd"
   },
   "source": [
    "## Transpose\n",
    "\n",
    "We can transpose a tensor using the `t` method."
   ]
  },
  {
   "cell_type": "code",
   "execution_count": 25,
   "metadata": {
    "id": "L9tnAguPgjqd",
    "outputId": "d0d4deaf-a1e8-477e-87bd-fd3b1301b8a3",
    "ExecuteTime": {
     "end_time": "2024-01-24T14:22:30.295553615Z",
     "start_time": "2024-01-24T14:22:30.276537339Z"
    }
   },
   "outputs": [
    {
     "name": "stdout",
     "output_type": "stream",
     "text": [
      "tensor([[3, 4]])\n",
      "torch.Size([1, 2])\n",
      "tensor([[3],\n",
      "        [4]])\n",
      "torch.Size([2, 1])\n"
     ]
    }
   ],
   "source": [
    "import torch\n",
    "\n",
    "x = torch.tensor([[3, 4]])\n",
    "print(x)\n",
    "print(x.shape)\n",
    "print(x.T)\n",
    "print(x.T.shape)\n"
   ]
  },
  {
   "cell_type": "markdown",
   "metadata": {
    "id": "-q132RUUgjqd"
   },
   "source": [
    "## Neural Network with Pytorch\n",
    "\n",
    "Now we have learned the required knowledge to build a neural network with pytorch.\n"
   ]
  },
  {
   "cell_type": "code",
   "execution_count": 26,
   "metadata": {
    "id": "89V9WdEKgjqe",
    "outputId": "53899e63-8ffe-46b6-f15d-10a017e564ec",
    "ExecuteTime": {
     "end_time": "2024-01-24T14:22:32.040006491Z",
     "start_time": "2024-01-24T14:22:30.675736016Z"
    }
   },
   "outputs": [
    {
     "data": {
      "image/svg+xml": "<?xml version=\"1.0\" encoding=\"UTF-8\" standalone=\"no\"?>\n<!DOCTYPE svg PUBLIC \"-//W3C//DTD SVG 1.1//EN\"\n \"http://www.w3.org/Graphics/SVG/1.1/DTD/svg11.dtd\">\n<!-- Generated by graphviz version 2.50.0 (0)\n -->\n<!-- Title: G Pages: 1 -->\n<svg width=\"522pt\" height=\"231pt\"\n viewBox=\"0.00 0.00 521.98 230.53\" xmlns=\"http://www.w3.org/2000/svg\" xmlns:xlink=\"http://www.w3.org/1999/xlink\">\n<g id=\"graph0\" class=\"graph\" transform=\"scale(1 1) rotate(0) translate(4 226.53)\">\n<title>G</title>\n<polygon fill=\"white\" stroke=\"transparent\" points=\"-4,4 -4,-226.53 517.98,-226.53 517.98,4 -4,4\"/>\n<!-- z -->\n<g id=\"node1\" class=\"node\">\n<title>z</title>\n<polygon fill=\"none\" stroke=\"black\" points=\"217.89,-122 149.89,-122 145.89,-118 145.89,-72 213.89,-72 217.89,-76 217.89,-122\"/>\n<polyline fill=\"none\" stroke=\"black\" points=\"213.89,-118 145.89,-118 \"/>\n<polyline fill=\"none\" stroke=\"black\" points=\"213.89,-118 213.89,-72 \"/>\n<polyline fill=\"none\" stroke=\"black\" points=\"213.89,-118 217.89,-122 \"/>\n<text text-anchor=\"middle\" x=\"181.89\" y=\"-93.3\" font-family=\"Times,serif\" font-size=\"14.00\">z</text>\n</g>\n<!-- alignmentNode -->\n<!-- z&#45;&gt;alignmentNode -->\n<!-- a -->\n<g id=\"node6\" class=\"node\">\n<title>a</title>\n<ellipse fill=\"none\" stroke=\"black\" cx=\"327.79\" cy=\"-97\" rx=\"27\" ry=\"18\"/>\n<text text-anchor=\"middle\" x=\"327.79\" y=\"-93.3\" font-family=\"Times,serif\" font-size=\"14.00\">a</text>\n</g>\n<!-- z&#45;&gt;a -->\n<g id=\"edge6\" class=\"edge\">\n<title>z&#45;&gt;a</title>\n<path fill=\"none\" stroke=\"black\" d=\"M218.09,-97C240.07,-97 268.3,-97 290.49,-97\"/>\n<polygon fill=\"black\" stroke=\"black\" points=\"290.52,-100.5 300.52,-97 290.52,-93.5 290.52,-100.5\"/>\n</g>\n<!-- bias -->\n<g id=\"node2\" class=\"node\">\n<title>bias</title>\n<ellipse fill=\"none\" stroke=\"black\" cx=\"181.89\" cy=\"-190\" rx=\"32.55\" ry=\"32.55\"/>\n<text text-anchor=\"middle\" x=\"181.89\" y=\"-186.3\" font-family=\"Times,serif\" font-size=\"14.00\">bias</text>\n</g>\n<!-- bias&#45;&gt;z -->\n<g id=\"edge5\" class=\"edge\">\n<title>bias&#45;&gt;z</title>\n<path fill=\"none\" stroke=\"black\" d=\"M181.89,-157.28C181.89,-149.23 181.89,-140.58 181.89,-132.42\"/>\n<polygon fill=\"black\" stroke=\"black\" points=\"185.39,-132.41 181.89,-122.41 178.39,-132.41 185.39,-132.41\"/>\n<text text-anchor=\"middle\" x=\"171.39\" y=\"-136.04\" font-family=\"Times,serif\" font-size=\"14.00\">5</text>\n</g>\n<!-- bias&#45;&gt;alignmentNode -->\n<!-- x_0 -->\n<g id=\"node3\" class=\"node\">\n<title>x_0</title>\n<ellipse fill=\"none\" stroke=\"black\" cx=\"27\" cy=\"-124\" rx=\"27\" ry=\"18\"/>\n<text text-anchor=\"middle\" x=\"27\" y=\"-120.3\" font-family=\"Times,serif\" font-size=\"14.00\">1</text>\n</g>\n<!-- x_0&#45;&gt;z -->\n<g id=\"edge3\" class=\"edge\">\n<title>x_0&#45;&gt;z</title>\n<path fill=\"none\" stroke=\"black\" d=\"M53.25,-119.54C75.66,-115.58 108.94,-109.71 135.9,-104.95\"/>\n<polygon fill=\"black\" stroke=\"black\" points=\"136.64,-108.37 145.88,-103.18 135.43,-101.48 136.64,-108.37\"/>\n<text text-anchor=\"middle\" x=\"77\" y=\"-119.8\" font-family=\"Times,serif\" font-size=\"14.00\">3</text>\n</g>\n<!-- x_1 -->\n<g id=\"node4\" class=\"node\">\n<title>x_1</title>\n<ellipse fill=\"none\" stroke=\"black\" cx=\"27\" cy=\"-70\" rx=\"27\" ry=\"18\"/>\n<text text-anchor=\"middle\" x=\"27\" y=\"-66.3\" font-family=\"Times,serif\" font-size=\"14.00\">2</text>\n</g>\n<!-- x_1&#45;&gt;z -->\n<g id=\"edge4\" class=\"edge\">\n<title>x_1&#45;&gt;z</title>\n<path fill=\"none\" stroke=\"black\" d=\"M53.25,-74.46C75.66,-78.42 108.94,-84.29 135.9,-89.05\"/>\n<polygon fill=\"black\" stroke=\"black\" points=\"135.43,-92.52 145.88,-90.82 136.64,-85.63 135.43,-92.52\"/>\n<text text-anchor=\"middle\" x=\"77\" y=\"-83.8\" font-family=\"Times,serif\" font-size=\"14.00\">4</text>\n</g>\n<!-- output -->\n<g id=\"node7\" class=\"node\">\n<title>output</title>\n<ellipse fill=\"none\" stroke=\"black\" cx=\"472.38\" cy=\"-97\" rx=\"41.69\" ry=\"18\"/>\n<text text-anchor=\"middle\" x=\"472.38\" y=\"-93.3\" font-family=\"Times,serif\" font-size=\"14.00\">output</text>\n</g>\n<!-- a&#45;&gt;output -->\n<g id=\"edge7\" class=\"edge\">\n<title>a&#45;&gt;output</title>\n<path fill=\"none\" stroke=\"black\" d=\"M354.94,-97C373.19,-97 398.16,-97 420.29,-97\"/>\n<polygon fill=\"black\" stroke=\"black\" points=\"420.55,-100.5 430.55,-97 420.55,-93.5 420.55,-100.5\"/>\n<text text-anchor=\"middle\" x=\"392.79\" y=\"-100.8\" font-family=\"Times,serif\" font-size=\"14.00\">ReLU</text>\n</g>\n</g>\n</svg>\n",
      "text/plain": "<graphviz.sources.Source at 0x7f52fb6269e0>"
     },
     "execution_count": 26,
     "metadata": {},
     "output_type": "execute_result"
    }
   ],
   "source": [
    "from fastbook import *\n",
    "\n",
    "\n",
    "# Draw neurons with multiple inputs and weights\n",
    "gv('''\n",
    "z[shape=box3d width=1 height=0.7]\n",
    "bias[shape=circle width=0.3]\n",
    "x_0[label=1]\n",
    "x_1[label=2]\n",
    "// Subgraph to force alignment on x-axis\n",
    "subgraph {\n",
    "    rank=same;\n",
    "    z;\n",
    "    bias;\n",
    "    alignmentNode [style=invis, width=0]; // invisible node for alignment\n",
    "    bias -> alignmentNode [style=invis]; // invisible edge\n",
    "    z -> alignmentNode [style=invis]; // invisible edge\n",
    "}\n",
    "x_0->z [label=\"3\"]\n",
    "x_1->z [label=\"4\"]\n",
    "bias->z [label=\"5\" pos=\"0,1.2!\"]\n",
    "z->a\n",
    "a->output [label=\"ReLU\"]\n",
    "''')\n"
   ]
  },
  {
   "cell_type": "markdown",
   "metadata": {
    "id": "dFt9QJl-gjqe"
   },
   "source": [
    "\n",
    "Remember the equation\n",
    "\n",
    "$$\n",
    "z = wx + b\\\\\n",
    "a = ReLU(z)\n",
    "$$\n",
    "\n",
    "Let's represent it in pytorch"
   ]
  },
  {
   "cell_type": "code",
   "execution_count": 27,
   "metadata": {
    "id": "eNgsZgzZgjqe",
    "outputId": "c0831449-68ff-4616-b724-5c66a1d62128",
    "ExecuteTime": {
     "end_time": "2024-01-24T14:22:32.060410756Z",
     "start_time": "2024-01-24T14:22:32.041194239Z"
    }
   },
   "outputs": [
    {
     "data": {
      "text/plain": "tensor([16])"
     },
     "execution_count": 27,
     "metadata": {},
     "output_type": "execute_result"
    }
   ],
   "source": [
    "x = torch.tensor([[1],[2]])\n",
    "\n",
    "w = torch.tensor([3, 4])\n",
    "b = torch.tensor(5)\n",
    "z = w @ x + b\n",
    "a = z.relu()\n",
    "a"
   ]
  },
  {
   "cell_type": "markdown",
   "metadata": {
    "id": "Xd_apB25gjqe"
   },
   "source": [
    "How about multiple layers? Easy!"
   ]
  },
  {
   "cell_type": "code",
   "execution_count": 28,
   "metadata": {
    "id": "jB65_Ik2gjqe",
    "outputId": "3b6dc117-c23c-4044-a5cf-d1a3590c6c0b",
    "ExecuteTime": {
     "end_time": "2024-01-24T14:22:32.132666618Z",
     "start_time": "2024-01-24T14:22:32.084758878Z"
    }
   },
   "outputs": [
    {
     "data": {
      "image/svg+xml": "<?xml version=\"1.0\" encoding=\"UTF-8\" standalone=\"no\"?>\n<!DOCTYPE svg PUBLIC \"-//W3C//DTD SVG 1.1//EN\"\n \"http://www.w3.org/Graphics/SVG/1.1/DTD/svg11.dtd\">\n<!-- Generated by graphviz version 2.50.0 (0)\n -->\n<!-- Title: G Pages: 1 -->\n<svg width=\"400pt\" height=\"115pt\"\n viewBox=\"0.00 0.00 400.38 115.31\" xmlns=\"http://www.w3.org/2000/svg\" xmlns:xlink=\"http://www.w3.org/1999/xlink\">\n<g id=\"graph0\" class=\"graph\" transform=\"scale(1 1) rotate(0) translate(4 111.31)\">\n<title>G</title>\n<polygon fill=\"white\" stroke=\"transparent\" points=\"-4,4 -4,-111.31 396.38,-111.31 396.38,4 -4,4\"/>\n<!-- x_0 -->\n<g id=\"node1\" class=\"node\">\n<title>x_0</title>\n<ellipse fill=\"none\" stroke=\"black\" cx=\"27\" cy=\"-89.31\" rx=\"27\" ry=\"18\"/>\n<text text-anchor=\"middle\" x=\"27\" y=\"-85.61\" font-family=\"Times,serif\" font-size=\"14.00\">1</text>\n</g>\n<!-- a_0_0 -->\n<g id=\"node3\" class=\"node\">\n<title>a_0_0</title>\n<ellipse fill=\"none\" stroke=\"black\" cx=\"134.55\" cy=\"-84.31\" rx=\"30.59\" ry=\"18\"/>\n<text text-anchor=\"middle\" x=\"134.55\" y=\"-80.61\" font-family=\"Times,serif\" font-size=\"14.00\">b=3</text>\n</g>\n<!-- x_0&#45;&gt;a_0_0 -->\n<g id=\"edge1\" class=\"edge\">\n<title>x_0&#45;&gt;a_0_0</title>\n<path fill=\"none\" stroke=\"black\" d=\"M54.04,-91.38C59.94,-91.77 66.18,-92.11 72,-92.31 78.22,-92.52 79.8,-92.83 86,-92.31 89.03,-92.06 92.16,-91.72 95.29,-91.32\"/>\n<polygon fill=\"black\" stroke=\"black\" points=\"95.84,-94.77 105.23,-89.87 94.83,-87.85 95.84,-94.77\"/>\n<text text-anchor=\"middle\" x=\"79\" y=\"-96.11\" font-family=\"Times,serif\" font-size=\"14.00\">&#45;3</text>\n</g>\n<!-- a_0_1 -->\n<g id=\"node4\" class=\"node\">\n<title>a_0_1</title>\n<ellipse fill=\"none\" stroke=\"black\" cx=\"134.55\" cy=\"-30.31\" rx=\"30.59\" ry=\"18\"/>\n<text text-anchor=\"middle\" x=\"134.55\" y=\"-26.61\" font-family=\"Times,serif\" font-size=\"14.00\">b=2</text>\n</g>\n<!-- x_0&#45;&gt;a_0_1 -->\n<g id=\"edge2\" class=\"edge\">\n<title>x_0&#45;&gt;a_0_1</title>\n<path fill=\"none\" stroke=\"black\" d=\"M48.35,-77.94C63.86,-69.27 85.46,-57.19 103.04,-47.37\"/>\n<polygon fill=\"black\" stroke=\"black\" points=\"104.78,-50.4 111.81,-42.47 101.37,-44.29 104.78,-50.4\"/>\n<text text-anchor=\"middle\" x=\"79\" y=\"-67.11\" font-family=\"Times,serif\" font-size=\"14.00\">4</text>\n</g>\n<!-- x_1 -->\n<g id=\"node2\" class=\"node\">\n<title>x_1</title>\n<ellipse fill=\"none\" stroke=\"black\" cx=\"27\" cy=\"-24.31\" rx=\"27\" ry=\"18\"/>\n<text text-anchor=\"middle\" x=\"27\" y=\"-20.61\" font-family=\"Times,serif\" font-size=\"14.00\">2</text>\n</g>\n<!-- x_1&#45;&gt;a_0_0 -->\n<g id=\"edge3\" class=\"edge\">\n<title>x_1&#45;&gt;a_0_0</title>\n<path fill=\"none\" stroke=\"black\" d=\"M53.74,-27.26C64.26,-29.28 76.23,-32.66 86,-38.31 96.07,-44.14 95.7,-49.16 104,-57.31 105.65,-58.93 107.37,-60.59 109.12,-62.25\"/>\n<polygon fill=\"black\" stroke=\"black\" points=\"107.08,-65.13 116.79,-69.38 111.85,-60.01 107.08,-65.13\"/>\n<text text-anchor=\"middle\" x=\"79\" y=\"-42.11\" font-family=\"Times,serif\" font-size=\"14.00\">5</text>\n</g>\n<!-- x_1&#45;&gt;a_0_1 -->\n<g id=\"edge4\" class=\"edge\">\n<title>x_1&#45;&gt;a_0_1</title>\n<path fill=\"none\" stroke=\"black\" d=\"M45.44,-10.95C56.79,-3.87 72.03,2.61 86,-1.31 93,-3.28 100,-6.6 106.39,-10.3\"/>\n<polygon fill=\"black\" stroke=\"black\" points=\"104.91,-13.51 115.24,-15.89 108.65,-7.59 104.91,-13.51\"/>\n<text text-anchor=\"middle\" x=\"79\" y=\"-5.11\" font-family=\"Times,serif\" font-size=\"14.00\">&#45;6</text>\n</g>\n<!-- a_1_0 -->\n<g id=\"node5\" class=\"node\">\n<title>a_1_0</title>\n<ellipse fill=\"none\" stroke=\"black\" cx=\"241.64\" cy=\"-57.31\" rx=\"30.59\" ry=\"18\"/>\n<text text-anchor=\"middle\" x=\"241.64\" y=\"-53.61\" font-family=\"Times,serif\" font-size=\"14.00\">b=1</text>\n</g>\n<!-- a_0_0&#45;&gt;a_1_0 -->\n<g id=\"edge5\" class=\"edge\">\n<title>a_0_0&#45;&gt;a_1_0</title>\n<path fill=\"none\" stroke=\"black\" d=\"M162.89,-77.29C175.29,-74.1 190.16,-70.28 203.55,-66.84\"/>\n<polygon fill=\"black\" stroke=\"black\" points=\"204.63,-70.18 213.44,-64.3 202.88,-63.4 204.63,-70.18\"/>\n<text text-anchor=\"middle\" x=\"188.09\" y=\"-75.11\" font-family=\"Times,serif\" font-size=\"14.00\">7</text>\n</g>\n<!-- a_0_1&#45;&gt;a_1_0 -->\n<g id=\"edge6\" class=\"edge\">\n<title>a_0_1&#45;&gt;a_1_0</title>\n<path fill=\"none\" stroke=\"black\" d=\"M162.89,-37.34C175.29,-40.52 190.16,-44.34 203.55,-47.78\"/>\n<polygon fill=\"black\" stroke=\"black\" points=\"202.88,-51.23 213.44,-50.32 204.63,-44.45 202.88,-51.23\"/>\n<text text-anchor=\"middle\" x=\"188.09\" y=\"-48.11\" font-family=\"Times,serif\" font-size=\"14.00\">8</text>\n</g>\n<!-- output -->\n<g id=\"node6\" class=\"node\">\n<title>output</title>\n<ellipse fill=\"none\" stroke=\"black\" cx=\"350.79\" cy=\"-57.31\" rx=\"41.69\" ry=\"18\"/>\n<text text-anchor=\"middle\" x=\"350.79\" y=\"-53.61\" font-family=\"Times,serif\" font-size=\"14.00\">output</text>\n</g>\n<!-- a_1_0&#45;&gt;output -->\n<g id=\"edge7\" class=\"edge\">\n<title>a_1_0&#45;&gt;output</title>\n<path fill=\"none\" stroke=\"black\" d=\"M272.2,-57.31C280.48,-57.31 289.73,-57.31 298.87,-57.31\"/>\n<polygon fill=\"black\" stroke=\"black\" points=\"299.09,-60.81 309.09,-57.31 299.09,-53.81 299.09,-60.81\"/>\n</g>\n</g>\n</svg>\n",
      "text/plain": "<graphviz.sources.Source at 0x7f5208285b40>"
     },
     "execution_count": 28,
     "metadata": {},
     "output_type": "execute_result"
    }
   ],
   "source": [
    "from fastbook import *\n",
    "\n",
    "gv('''\n",
    "   x_0[label=1]\n",
    "   x_1[label=2]\n",
    "   a_0_0[label=\"b=3\"]\n",
    "   a_0_1[label=\"b=2\"]\n",
    "   a_1_0[label=\"b=1\"]\n",
    "   x_0 -> a_0_0 [label=-3]\n",
    "   x_0 -> a_0_1 [label=4]\n",
    "   x_1 -> a_0_0 [label=5]\n",
    "   x_1 -> a_0_1 [label=-6]\n",
    "   a_0_0 -> a_1_0 [label=7]\n",
    "   a_0_1 -> a_1_0 [label=8]\n",
    "   a_1_0 -> output\n",
    "   ''')"
   ]
  },
  {
   "cell_type": "code",
   "execution_count": 29,
   "metadata": {
    "id": "wc2WG2Ybgjqe",
    "outputId": "c5aa9a44-65ee-48a1-e26a-d5d27337f11a",
    "ExecuteTime": {
     "end_time": "2024-01-24T14:22:32.133963600Z",
     "start_time": "2024-01-24T14:22:32.085012124Z"
    }
   },
   "outputs": [
    {
     "data": {
      "text/plain": "tensor([[71]])"
     },
     "execution_count": 29,
     "metadata": {},
     "output_type": "execute_result"
    }
   ],
   "source": [
    "x = torch.tensor([[1],[2]])\n",
    "\n",
    "w_0 = torch.tensor([[-3, 5], [4, -6]])\n",
    "b_0 = torch.tensor([[3], [2]])\n",
    "a_0 = torch.relu(w_0 @ x + b_0)\n",
    "\n",
    "w_1 = torch.tensor([[7, 8]])\n",
    "b_1 = torch.tensor([[1]])\n",
    "a_1 = torch.relu(w_1 @ a_0 + b_1)\n",
    "a_1"
   ]
  },
  {
   "cell_type": "markdown",
   "metadata": {
    "id": "gfPgH-nJgjqf"
   },
   "source": [
    "## Exercise"
   ]
  },
  {
   "cell_type": "code",
   "execution_count": 30,
   "metadata": {
    "id": "PM5yxSO9gjqf",
    "ExecuteTime": {
     "end_time": "2024-01-24T14:22:34.406557517Z",
     "start_time": "2024-01-24T14:22:32.626452766Z"
    }
   },
   "outputs": [
    {
     "name": "stdout",
     "output_type": "stream",
     "text": [
      "Requirement already satisfied: rggrader in /home/steve/.conda/envs/skill-academy-ml/lib/python3.10/site-packages (0.1.6)\r\n",
      "Requirement already satisfied: requests in /home/steve/.conda/envs/skill-academy-ml/lib/python3.10/site-packages (from rggrader) (2.31.0)\r\n",
      "Requirement already satisfied: pandas in /home/steve/.conda/envs/skill-academy-ml/lib/python3.10/site-packages (from rggrader) (2.1.4)\r\n",
      "Requirement already satisfied: Pillow in /home/steve/.conda/envs/skill-academy-ml/lib/python3.10/site-packages (from rggrader) (10.1.0)\r\n",
      "Requirement already satisfied: numpy<2,>=1.22.4 in /home/steve/.conda/envs/skill-academy-ml/lib/python3.10/site-packages (from pandas->rggrader) (1.26.2)\r\n",
      "Requirement already satisfied: python-dateutil>=2.8.2 in /home/steve/.conda/envs/skill-academy-ml/lib/python3.10/site-packages (from pandas->rggrader) (2.8.2)\r\n",
      "Requirement already satisfied: pytz>=2020.1 in /home/steve/.conda/envs/skill-academy-ml/lib/python3.10/site-packages (from pandas->rggrader) (2023.3.post1)\r\n",
      "Requirement already satisfied: tzdata>=2022.1 in /home/steve/.conda/envs/skill-academy-ml/lib/python3.10/site-packages (from pandas->rggrader) (2023.3)\r\n",
      "Requirement already satisfied: charset-normalizer<4,>=2 in /home/steve/.conda/envs/skill-academy-ml/lib/python3.10/site-packages (from requests->rggrader) (3.3.2)\r\n",
      "Requirement already satisfied: idna<4,>=2.5 in /home/steve/.conda/envs/skill-academy-ml/lib/python3.10/site-packages (from requests->rggrader) (3.6)\r\n",
      "Requirement already satisfied: urllib3<3,>=1.21.1 in /home/steve/.conda/envs/skill-academy-ml/lib/python3.10/site-packages (from requests->rggrader) (2.1.0)\r\n",
      "Requirement already satisfied: certifi>=2017.4.17 in /home/steve/.conda/envs/skill-academy-ml/lib/python3.10/site-packages (from requests->rggrader) (2023.11.17)\r\n",
      "Requirement already satisfied: six>=1.5 in /home/steve/.conda/envs/skill-academy-ml/lib/python3.10/site-packages (from python-dateutil>=2.8.2->pandas->rggrader) (1.16.0)\r\n"
     ]
    }
   ],
   "source": [
    "!pip install rggrader"
   ]
  },
  {
   "cell_type": "code",
   "execution_count": 34,
   "metadata": {
    "id": "ysvOL6q5gjqf",
    "ExecuteTime": {
     "end_time": "2024-01-24T14:24:40.162356735Z",
     "start_time": "2024-01-24T14:24:40.100708425Z"
    }
   },
   "outputs": [],
   "source": [
    "# @title #### Student Identity\n",
    "student_id = \"REA3X5EN\" # @param {type:\"string\"}\n",
    "name = \"Steven Adi Santoso\" # @param {type:\"string\"}"
   ]
  },
  {
   "cell_type": "markdown",
   "metadata": {
    "id": "IaVhGkOsgjqf"
   },
   "source": [
    "Implement the following neural network"
   ]
  },
  {
   "cell_type": "code",
   "execution_count": 32,
   "metadata": {
    "id": "IBYfavebgjqf",
    "outputId": "ea829354-2b47-43f6-f01f-205dd8e2999b",
    "ExecuteTime": {
     "end_time": "2024-01-24T14:22:34.453664342Z",
     "start_time": "2024-01-24T14:22:34.448809258Z"
    }
   },
   "outputs": [
    {
     "data": {
      "image/svg+xml": "<?xml version=\"1.0\" encoding=\"UTF-8\" standalone=\"no\"?>\n<!DOCTYPE svg PUBLIC \"-//W3C//DTD SVG 1.1//EN\"\n \"http://www.w3.org/Graphics/SVG/1.1/DTD/svg11.dtd\">\n<!-- Generated by graphviz version 2.50.0 (0)\n -->\n<!-- Title: G Pages: 1 -->\n<svg width=\"530pt\" height=\"98pt\"\n viewBox=\"0.00 0.00 530.37 98.00\" xmlns=\"http://www.w3.org/2000/svg\" xmlns:xlink=\"http://www.w3.org/1999/xlink\">\n<g id=\"graph0\" class=\"graph\" transform=\"scale(1 1) rotate(0) translate(4 94)\">\n<title>G</title>\n<polygon fill=\"white\" stroke=\"transparent\" points=\"-4,4 -4,-94 526.37,-94 526.37,4 -4,4\"/>\n<!-- x_0 -->\n<g id=\"node1\" class=\"node\">\n<title>x_0</title>\n<ellipse fill=\"none\" stroke=\"black\" cx=\"27\" cy=\"-45\" rx=\"27\" ry=\"18\"/>\n<text text-anchor=\"middle\" x=\"27\" y=\"-41.3\" font-family=\"Times,serif\" font-size=\"14.00\">3</text>\n</g>\n<!-- a_0_0 -->\n<g id=\"node2\" class=\"node\">\n<title>a_0_0</title>\n<ellipse fill=\"none\" stroke=\"black\" cx=\"168.34\" cy=\"-72\" rx=\"64.19\" ry=\"18\"/>\n<text text-anchor=\"middle\" x=\"168.34\" y=\"-68.3\" font-family=\"Times,serif\" font-size=\"14.00\">b=&#45;2, ReLU</text>\n</g>\n<!-- x_0&#45;&gt;a_0_0 -->\n<g id=\"edge1\" class=\"edge\">\n<title>x_0&#45;&gt;a_0_0</title>\n<path fill=\"none\" stroke=\"black\" d=\"M53.23,-49.89C67.73,-52.7 86.62,-56.36 104.85,-59.89\"/>\n<polygon fill=\"black\" stroke=\"black\" points=\"104.4,-63.37 114.88,-61.83 105.73,-56.5 104.4,-63.37\"/>\n<text text-anchor=\"middle\" x=\"79\" y=\"-59.8\" font-family=\"Times,serif\" font-size=\"14.00\">&#45;2</text>\n</g>\n<!-- a_0_1 -->\n<g id=\"node3\" class=\"node\">\n<title>a_0_1</title>\n<ellipse fill=\"none\" stroke=\"black\" cx=\"168.34\" cy=\"-18\" rx=\"61.99\" ry=\"18\"/>\n<text text-anchor=\"middle\" x=\"168.34\" y=\"-14.3\" font-family=\"Times,serif\" font-size=\"14.00\">b=5, ReLU</text>\n</g>\n<!-- x_0&#45;&gt;a_0_1 -->\n<g id=\"edge2\" class=\"edge\">\n<title>x_0&#45;&gt;a_0_1</title>\n<path fill=\"none\" stroke=\"black\" d=\"M52.59,-38.49C58.89,-36.92 65.68,-35.32 72,-34 82.15,-31.88 92.95,-29.86 103.5,-28\"/>\n<polygon fill=\"black\" stroke=\"black\" points=\"104.24,-31.42 113.5,-26.27 103.05,-24.52 104.24,-31.42\"/>\n<text text-anchor=\"middle\" x=\"79\" y=\"-37.8\" font-family=\"Times,serif\" font-size=\"14.00\">5</text>\n</g>\n<!-- a_1_0 -->\n<g id=\"node4\" class=\"node\">\n<title>a_1_0</title>\n<ellipse fill=\"none\" stroke=\"black\" cx=\"340.43\" cy=\"-45\" rx=\"61.99\" ry=\"18\"/>\n<text text-anchor=\"middle\" x=\"340.43\" y=\"-41.3\" font-family=\"Times,serif\" font-size=\"14.00\">b=0, ReLU</text>\n</g>\n<!-- a_0_0&#45;&gt;a_1_0 -->\n<g id=\"edge3\" class=\"edge\">\n<title>a_0_0&#45;&gt;a_1_0</title>\n<path fill=\"none\" stroke=\"black\" d=\"M224.57,-63.23C240.87,-60.65 258.86,-57.79 275.65,-55.12\"/>\n<polygon fill=\"black\" stroke=\"black\" points=\"276.61,-58.52 285.94,-53.49 275.51,-51.6 276.61,-58.52\"/>\n<text text-anchor=\"middle\" x=\"255.69\" y=\"-61.8\" font-family=\"Times,serif\" font-size=\"14.00\">3</text>\n</g>\n<!-- a_0_1&#45;&gt;a_1_0 -->\n<g id=\"edge4\" class=\"edge\">\n<title>a_0_1&#45;&gt;a_1_0</title>\n<path fill=\"none\" stroke=\"black\" d=\"M223.16,-26.54C239.92,-29.2 258.56,-32.16 275.92,-34.92\"/>\n<polygon fill=\"black\" stroke=\"black\" points=\"275.54,-38.4 285.97,-36.51 276.64,-31.49 275.54,-38.4\"/>\n<text text-anchor=\"middle\" x=\"255.69\" y=\"-35.8\" font-family=\"Times,serif\" font-size=\"14.00\">2</text>\n</g>\n<!-- output -->\n<g id=\"node5\" class=\"node\">\n<title>output</title>\n<ellipse fill=\"none\" stroke=\"black\" cx=\"480.77\" cy=\"-45\" rx=\"41.69\" ry=\"18\"/>\n<text text-anchor=\"middle\" x=\"480.77\" y=\"-41.3\" font-family=\"Times,serif\" font-size=\"14.00\">output</text>\n</g>\n<!-- a_1_0&#45;&gt;output -->\n<g id=\"edge5\" class=\"edge\">\n<title>a_1_0&#45;&gt;output</title>\n<path fill=\"none\" stroke=\"black\" d=\"M402.51,-45C411.26,-45 420.19,-45 428.71,-45\"/>\n<polygon fill=\"black\" stroke=\"black\" points=\"428.88,-48.5 438.88,-45 428.88,-41.5 428.88,-48.5\"/>\n</g>\n</g>\n</svg>\n",
      "text/plain": "<graphviz.sources.Source at 0x7f520845b040>"
     },
     "execution_count": 32,
     "metadata": {},
     "output_type": "execute_result"
    }
   ],
   "source": [
    "from fastbook import *\n",
    "\n",
    "gv('''\n",
    "   x_0[label=3]\n",
    "   a_0_0[label=\"b=-2, ReLU\"]\n",
    "   a_0_1[label=\"b=5, ReLU\"]\n",
    "   a_1_0[label=\"b=0, ReLU\"]\n",
    "   x_0 -> a_0_0 [label=-2]\n",
    "   x_0 -> a_0_1 [label=5]\n",
    "   a_0_0 -> a_1_0 [label=3]\n",
    "   a_0_1 -> a_1_0 [label=2]\n",
    "\n",
    "   a_1_0 -> output\n",
    "   ''')"
   ]
  },
  {
   "cell_type": "code",
   "execution_count": 39,
   "metadata": {
    "id": "2wq9L8FZgjqf",
    "ExecuteTime": {
     "end_time": "2024-01-24T14:35:33.109813200Z",
     "start_time": "2024-01-24T14:35:20.387156633Z"
    }
   },
   "outputs": [
    {
     "name": "stdout",
     "output_type": "stream",
     "text": [
      "tensor([[40]])\n"
     ]
    },
    {
     "data": {
      "text/plain": "'Assignment successfully submitted'"
     },
     "execution_count": 39,
     "metadata": {},
     "output_type": "execute_result"
    }
   ],
   "source": [
    "from rggrader import submit\n",
    "\n",
    "# Put your code here\n",
    "x = torch.tensor([[3]])\n",
    "\n",
    "w_0 = torch.tensor([[-2], [5]])\n",
    "b_0 = torch.tensor([[-2], [5]])\n",
    "a_0 = torch.relu(w_0 @ x + b_0)\n",
    "\n",
    "w_1 = torch.tensor([[3, 2]])\n",
    "b_1 = torch.tensor([[0]])\n",
    "a_1 = torch.relu(w_1 @ a_0 + b_1)\n",
    "\n",
    "answer = a_1\n",
    "\n",
    "print(a_1)\n",
    "\n",
    "assignment_id = \"10_pytorch-basic\"\n",
    "question_id = \"00_single-input-nn\"\n",
    "submit(student_id, name, assignment_id, str(answer), question_id)\n"
   ]
  },
  {
   "cell_type": "code",
   "execution_count": 40,
   "metadata": {
    "id": "o-Z-RgBAgjqg",
    "outputId": "2eed5c2c-98a1-435c-8bd5-d2beed3c0d50",
    "ExecuteTime": {
     "end_time": "2024-01-24T14:35:37.863928223Z",
     "start_time": "2024-01-24T14:35:37.830751997Z"
    }
   },
   "outputs": [
    {
     "data": {
      "image/svg+xml": "<?xml version=\"1.0\" encoding=\"UTF-8\" standalone=\"no\"?>\n<!DOCTYPE svg PUBLIC \"-//W3C//DTD SVG 1.1//EN\"\n \"http://www.w3.org/Graphics/SVG/1.1/DTD/svg11.dtd\">\n<!-- Generated by graphviz version 2.50.0 (0)\n -->\n<!-- Title: G Pages: 1 -->\n<svg width=\"530pt\" height=\"192pt\"\n viewBox=\"0.00 0.00 530.37 192.42\" xmlns=\"http://www.w3.org/2000/svg\" xmlns:xlink=\"http://www.w3.org/1999/xlink\">\n<g id=\"graph0\" class=\"graph\" transform=\"scale(1 1) rotate(0) translate(4 188.42)\">\n<title>G</title>\n<polygon fill=\"white\" stroke=\"transparent\" points=\"-4,4 -4,-188.42 526.37,-188.42 526.37,4 -4,4\"/>\n<!-- x_0 -->\n<g id=\"node1\" class=\"node\">\n<title>x_0</title>\n<ellipse fill=\"none\" stroke=\"black\" cx=\"27\" cy=\"-152.42\" rx=\"27\" ry=\"18\"/>\n<text text-anchor=\"middle\" x=\"27\" y=\"-148.72\" font-family=\"Times,serif\" font-size=\"14.00\">3</text>\n</g>\n<!-- a_0_0 -->\n<g id=\"node3\" class=\"node\">\n<title>a_0_0</title>\n<ellipse fill=\"none\" stroke=\"black\" cx=\"168.34\" cy=\"-95.42\" rx=\"61.99\" ry=\"18\"/>\n<text text-anchor=\"middle\" x=\"168.34\" y=\"-91.72\" font-family=\"Times,serif\" font-size=\"14.00\">b=8, ReLU</text>\n</g>\n<!-- x_0&#45;&gt;a_0_0 -->\n<g id=\"edge1\" class=\"edge\">\n<title>x_0&#45;&gt;a_0_0</title>\n<path fill=\"none\" stroke=\"black\" d=\"M50.98,-144.04C61.68,-140.05 74.55,-135.13 86,-130.42 94.1,-127.09 95.97,-125.91 104,-122.42 110.19,-119.73 116.72,-116.91 123.16,-114.15\"/>\n<polygon fill=\"black\" stroke=\"black\" points=\"124.63,-117.33 132.45,-110.18 121.88,-110.89 124.63,-117.33\"/>\n<text text-anchor=\"middle\" x=\"79\" y=\"-139.22\" font-family=\"Times,serif\" font-size=\"14.00\">&#45;2</text>\n</g>\n<!-- a_0_1 -->\n<g id=\"node4\" class=\"node\">\n<title>a_0_1</title>\n<ellipse fill=\"none\" stroke=\"black\" cx=\"168.34\" cy=\"-149.42\" rx=\"64.19\" ry=\"18\"/>\n<text text-anchor=\"middle\" x=\"168.34\" y=\"-145.72\" font-family=\"Times,serif\" font-size=\"14.00\">b=&#45;2, ReLU</text>\n</g>\n<!-- x_0&#45;&gt;a_0_1 -->\n<g id=\"edge2\" class=\"edge\">\n<title>x_0&#45;&gt;a_0_1</title>\n<path fill=\"none\" stroke=\"black\" d=\"M49.97,-162.11C56.88,-164.69 64.64,-167.12 72,-168.42 87.26,-171.11 103.84,-169.42 118.83,-166.16\"/>\n<polygon fill=\"black\" stroke=\"black\" points=\"120.04,-169.46 128.91,-163.68 118.37,-162.67 120.04,-169.46\"/>\n<text text-anchor=\"middle\" x=\"79\" y=\"-173.22\" font-family=\"Times,serif\" font-size=\"14.00\">5</text>\n</g>\n<!-- a_0_2 -->\n<g id=\"node5\" class=\"node\">\n<title>a_0_2</title>\n<ellipse fill=\"none\" stroke=\"black\" cx=\"168.34\" cy=\"-41.42\" rx=\"61.99\" ry=\"18\"/>\n<text text-anchor=\"middle\" x=\"168.34\" y=\"-37.72\" font-family=\"Times,serif\" font-size=\"14.00\">b=4, ReLU</text>\n</g>\n<!-- x_0&#45;&gt;a_0_2 -->\n<g id=\"edge3\" class=\"edge\">\n<title>x_0&#45;&gt;a_0_2</title>\n<path fill=\"none\" stroke=\"black\" d=\"M34.26,-134.94C41.12,-118.08 53.65,-92.89 72,-77.42 82.88,-68.24 96.35,-61.27 109.69,-56.04\"/>\n<polygon fill=\"black\" stroke=\"black\" points=\"111.15,-59.23 119.35,-52.52 108.75,-52.65 111.15,-59.23\"/>\n<text text-anchor=\"middle\" x=\"79\" y=\"-81.22\" font-family=\"Times,serif\" font-size=\"14.00\">3</text>\n</g>\n<!-- x_1 -->\n<g id=\"node2\" class=\"node\">\n<title>x_1</title>\n<ellipse fill=\"none\" stroke=\"black\" cx=\"27\" cy=\"-38.42\" rx=\"27\" ry=\"18\"/>\n<text text-anchor=\"middle\" x=\"27\" y=\"-34.72\" font-family=\"Times,serif\" font-size=\"14.00\">5</text>\n</g>\n<!-- x_1&#45;&gt;a_0_0 -->\n<g id=\"edge4\" class=\"edge\">\n<title>x_1&#45;&gt;a_0_0</title>\n<path fill=\"none\" stroke=\"black\" d=\"M53.1,-33.73C63.86,-32.96 76.19,-33.85 86,-39.42 99.19,-46.91 92.49,-58.54 104,-68.42 107.93,-71.79 112.33,-74.79 116.95,-77.45\"/>\n<polygon fill=\"black\" stroke=\"black\" points=\"115.52,-80.65 126.01,-82.16 118.75,-74.44 115.52,-80.65\"/>\n<text text-anchor=\"middle\" x=\"79\" y=\"-43.22\" font-family=\"Times,serif\" font-size=\"14.00\">8</text>\n</g>\n<!-- x_1&#45;&gt;a_0_1 -->\n<g id=\"edge5\" class=\"edge\">\n<title>x_1&#45;&gt;a_0_1</title>\n<path fill=\"none\" stroke=\"black\" d=\"M38.72,-54.64C51.96,-73.47 76.16,-104.26 104,-122.42 108.63,-125.44 113.66,-128.25 118.78,-130.83\"/>\n<polygon fill=\"black\" stroke=\"black\" points=\"117.52,-134.1 128.05,-135.21 120.51,-127.77 117.52,-134.1\"/>\n<text text-anchor=\"middle\" x=\"79\" y=\"-110.22\" font-family=\"Times,serif\" font-size=\"14.00\">&#45;2</text>\n</g>\n<!-- x_1&#45;&gt;a_0_2 -->\n<g id=\"edge6\" class=\"edge\">\n<title>x_1&#45;&gt;a_0_2</title>\n<path fill=\"none\" stroke=\"black\" d=\"M41.38,-22.82C49.34,-14.76 60.18,-5.73 72,-1.42 77.85,0.71 79.94,-0.01 86,-1.42 102.22,-5.19 118.93,-12.68 132.95,-20.17\"/>\n<polygon fill=\"black\" stroke=\"black\" points=\"131.31,-23.26 141.75,-25.05 134.7,-17.13 131.31,-23.26\"/>\n<text text-anchor=\"middle\" x=\"79\" y=\"-5.22\" font-family=\"Times,serif\" font-size=\"14.00\">4</text>\n</g>\n<!-- a_1_0 -->\n<g id=\"node6\" class=\"node\">\n<title>a_1_0</title>\n<ellipse fill=\"none\" stroke=\"black\" cx=\"340.43\" cy=\"-95.42\" rx=\"61.99\" ry=\"18\"/>\n<text text-anchor=\"middle\" x=\"340.43\" y=\"-91.72\" font-family=\"Times,serif\" font-size=\"14.00\">b=3, ReLU</text>\n</g>\n<!-- a_0_0&#45;&gt;a_1_0 -->\n<g id=\"edge7\" class=\"edge\">\n<title>a_0_0&#45;&gt;a_1_0</title>\n<path fill=\"none\" stroke=\"black\" d=\"M230.27,-95.42C242.68,-95.42 255.84,-95.42 268.56,-95.42\"/>\n<polygon fill=\"black\" stroke=\"black\" points=\"268.65,-98.92 278.65,-95.42 268.65,-91.92 268.65,-98.92\"/>\n<text text-anchor=\"middle\" x=\"255.69\" y=\"-99.22\" font-family=\"Times,serif\" font-size=\"14.00\">3</text>\n</g>\n<!-- a_0_1&#45;&gt;a_1_0 -->\n<g id=\"edge8\" class=\"edge\">\n<title>a_0_1&#45;&gt;a_1_0</title>\n<path fill=\"none\" stroke=\"black\" d=\"M211.83,-135.93C235,-128.57 263.86,-119.41 288.27,-111.66\"/>\n<polygon fill=\"black\" stroke=\"black\" points=\"289.61,-114.91 298.08,-108.55 287.49,-108.24 289.61,-114.91\"/>\n<text text-anchor=\"middle\" x=\"255.69\" y=\"-126.22\" font-family=\"Times,serif\" font-size=\"14.00\">2</text>\n</g>\n<!-- a_0_2&#45;&gt;a_1_0 -->\n<g id=\"edge9\" class=\"edge\">\n<title>a_0_2&#45;&gt;a_1_0</title>\n<path fill=\"none\" stroke=\"black\" d=\"M210.95,-54.63C234.31,-62.04 263.64,-71.35 288.38,-79.21\"/>\n<polygon fill=\"black\" stroke=\"black\" points=\"287.37,-82.56 297.96,-82.25 289.49,-75.89 287.37,-82.56\"/>\n<text text-anchor=\"middle\" x=\"255.69\" y=\"-73.22\" font-family=\"Times,serif\" font-size=\"14.00\">8</text>\n</g>\n<!-- output -->\n<g id=\"node7\" class=\"node\">\n<title>output</title>\n<ellipse fill=\"none\" stroke=\"black\" cx=\"480.77\" cy=\"-95.42\" rx=\"41.69\" ry=\"18\"/>\n<text text-anchor=\"middle\" x=\"480.77\" y=\"-91.72\" font-family=\"Times,serif\" font-size=\"14.00\">output</text>\n</g>\n<!-- a_1_0&#45;&gt;output -->\n<g id=\"edge10\" class=\"edge\">\n<title>a_1_0&#45;&gt;output</title>\n<path fill=\"none\" stroke=\"black\" d=\"M402.51,-95.42C411.26,-95.42 420.19,-95.42 428.71,-95.42\"/>\n<polygon fill=\"black\" stroke=\"black\" points=\"428.88,-98.92 438.88,-95.42 428.88,-91.92 428.88,-98.92\"/>\n</g>\n</g>\n</svg>\n",
      "text/plain": "<graphviz.sources.Source at 0x7f51d73b13c0>"
     },
     "execution_count": 40,
     "metadata": {},
     "output_type": "execute_result"
    }
   ],
   "source": [
    "from fastbook import *\n",
    "\n",
    "gv('''\n",
    "   x_0[label=3]\n",
    "   x_1[label=5]\n",
    "   a_0_0[label=\"b=8, ReLU\"]\n",
    "   a_0_1[label=\"b=-2, ReLU\"]\n",
    "   a_0_2[label=\"b=4, ReLU\"]\n",
    "   a_1_0[label=\"b=3, ReLU\"]\n",
    "   x_0 -> a_0_0 [label=-2]\n",
    "   x_0 -> a_0_1 [label=5]\n",
    "   x_0 -> a_0_2 [label=3]\n",
    "   x_1 -> a_0_0 [label=8]\n",
    "   x_1 -> a_0_1 [label=-2]\n",
    "   x_1 -> a_0_2 [label=4]\n",
    "   a_0_0 -> a_1_0 [label=3]\n",
    "   a_0_1 -> a_1_0 [label=2]\n",
    "   a_0_2 -> a_1_0 [label=8]\n",
    "\n",
    "   a_1_0 -> output\n",
    "   ''')"
   ]
  },
  {
   "cell_type": "code",
   "execution_count": 42,
   "metadata": {
    "id": "hFmhow5xgjqg",
    "ExecuteTime": {
     "end_time": "2024-01-24T14:43:05.053123497Z",
     "start_time": "2024-01-24T14:43:03.875373241Z"
    }
   },
   "outputs": [
    {
     "name": "stdout",
     "output_type": "stream",
     "text": [
      "tensor([[399]])\n"
     ]
    },
    {
     "data": {
      "text/plain": "'Assignment successfully submitted'"
     },
     "execution_count": 42,
     "metadata": {},
     "output_type": "execute_result"
    }
   ],
   "source": [
    "from rggrader import submit\n",
    "\n",
    "# Put your code here\n",
    "x = torch.tensor([[3], [5]])\n",
    "\n",
    "w_0 = torch.tensor([[5, -2], [-2, 8], [3, 4]])\n",
    "b_0 = torch.tensor([[-2], [8], [4]])\n",
    "a_0 = torch.relu(w_0 @ x + b_0)\n",
    "\n",
    "w_1 = torch.tensor([[2, 3, 8]])\n",
    "b_1 = torch.tensor([[3]])\n",
    "a_1 = torch.relu(w_1 @ a_0 + b_1)\n",
    "\n",
    "answer = a_1\n",
    "\n",
    "print(a_1)\n",
    "\n",
    "assignment_id = \"10_pytorch-basic\"\n",
    "question_id = \"01_multi-input-nn\"\n",
    "submit(student_id, name, assignment_id, str(answer), question_id)\n"
   ]
  }
 ],
 "metadata": {
  "kernelspec": {
   "display_name": "Python 3",
   "language": "python",
   "name": "python3"
  },
  "language_info": {
   "codemirror_mode": {
    "name": "ipython",
    "version": 3
   },
   "file_extension": ".py",
   "mimetype": "text/x-python",
   "name": "python",
   "nbconvert_exporter": "python",
   "pygments_lexer": "ipython3",
   "version": "3.11.1"
  },
  "orig_nbformat": 4,
  "colab": {
   "provenance": []
  }
 },
 "nbformat": 4,
 "nbformat_minor": 0
}
