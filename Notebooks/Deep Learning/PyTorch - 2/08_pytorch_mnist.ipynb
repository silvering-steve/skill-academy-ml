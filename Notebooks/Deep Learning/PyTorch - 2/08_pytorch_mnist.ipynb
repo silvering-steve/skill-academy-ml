{
  "cells": [
    {
      "cell_type": "markdown",
      "metadata": {
        "id": "7kbp8SNNGZa9"
      },
      "source": [
        "# Pytorch MNIST"
      ]
    },
    {
      "cell_type": "markdown",
      "metadata": {
        "id": "lbFwC-YAGZbC"
      },
      "source": [
        "## Standard MNIST"
      ]
    },
    {
      "cell_type": "markdown",
      "metadata": {
        "id": "oso8szESGZbC"
      },
      "source": [
        "Let's solve the MNIST problem using Pytorch."
      ]
    },
    {
      "cell_type": "code",
      "execution_count": null,
      "metadata": {
        "id": "5ZO3HRVRGZbD",
        "outputId": "8c4dc6d4-9b10-4e4a-c307-db11802f20e1"
      },
      "outputs": [
        {
          "name": "stdout",
          "output_type": "stream",
          "text": [
            "Dataset MNIST\n",
            "    Number of datapoints: 60000\n",
            "    Root location: ./data\n",
            "    Split: Train\n",
            "    StandardTransform\n",
            "Transform: ToTensor()\n",
            "Dataset MNIST\n",
            "    Number of datapoints: 10000\n",
            "    Root location: ./data\n",
            "    Split: Test\n",
            "    StandardTransform\n",
            "Transform: ToTensor()\n",
            "torch.Size([1, 28, 28])\n"
          ]
        }
      ],
      "source": [
        "# MNIST solver\n",
        "\n",
        "import torch\n",
        "\n",
        "# Load MNIST data\n",
        "from torchvision import datasets, transforms\n",
        "from torch.utils.data import DataLoader\n",
        "\n",
        "# Load MNIST data\n",
        "mnist_train = datasets.MNIST(root='./data', train=True, transform=transforms.ToTensor(), download=True)\n",
        "mnist_test = datasets.MNIST(root='./data', train=False, transform=transforms.ToTensor(), download=True)\n",
        "\n",
        "# Inspect data\n",
        "print(mnist_train)\n",
        "print(mnist_test)\n",
        "\n",
        "# Print the shape of the first image in the training set\n",
        "print(mnist_train[0][0].shape)\n"
      ]
    },
    {
      "cell_type": "markdown",
      "metadata": {
        "id": "m356W6ywGZbG"
      },
      "source": [
        "The data is huge, the training data consist of 60,000 entries of 28x28 images, i.e. it's a matrix of 60,000x28x28"
      ]
    },
    {
      "cell_type": "markdown",
      "metadata": {
        "id": "zs72vtQJGZbG"
      },
      "source": [
        "## Stochastic Gradient Descent\n",
        "\n",
        "Stochastic Gradient Descent (SGD) is a special type of Gradient Descent where the loss is computed on a single example. This is a very common approach in Deep Learning because it is much faster than computing the loss on the whole dataset. The loss is computed on a single example and the weights are updated after each example. This is why it is called Stochastic Gradient Descent."
      ]
    },
    {
      "cell_type": "markdown",
      "metadata": {
        "id": "U0eG1FSUGZbH"
      },
      "source": [
        "## Mini-batch Gradient Descent\n",
        "\n",
        "Mini-batch Gradient Descent is a compromise between SGD and Batch Gradient Descent. In Mini-batch Gradient Descent, the loss is computed on a small number of examples (typically between 8 and 256) instead of a single example. This makes it more computationally efficient than SGD because you can use vectorized operations, especially when using GPUs."
      ]
    },
    {
      "cell_type": "markdown",
      "metadata": {
        "id": "cmfUvJAMGZbH"
      },
      "source": [
        "## Data Loader\n",
        "\n",
        "Pytorch has a data loader that can be used to load the data in batches. This is very useful when the data is huge and cannot be loaded in memory."
      ]
    },
    {
      "cell_type": "code",
      "execution_count": null,
      "metadata": {
        "id": "mkK-zFfnGZbI",
        "outputId": "1f140c71-2d06-4500-8869-a0b03c6b375a"
      },
      "outputs": [
        {
          "name": "stdout",
          "output_type": "stream",
          "text": [
            "Image batch dimensions: torch.Size([100, 1, 28, 28])\n",
            "Image label dimensions: torch.Size([100])\n"
          ]
        }
      ],
      "source": [
        "# MNIST solver\n",
        "\n",
        "import torch\n",
        "\n",
        "# Load MNIST data\n",
        "from torchvision import datasets, transforms\n",
        "from torch.utils.data import DataLoader\n",
        "\n",
        "# Load MNIST data\n",
        "mnist_train = datasets.MNIST(root='./data', train=True, transform=transforms.ToTensor(), download=True)\n",
        "mnist_test = datasets.MNIST(root='./data', train=False, transform=transforms.ToTensor(), download=True)\n",
        "\n",
        "# Use Data Loader\n",
        "train_loader = DataLoader(mnist_train, batch_size=100, shuffle=True)\n",
        "test_loader = DataLoader(mnist_test, batch_size=100, shuffle=False)\n",
        "\n",
        "# Iterate through data\n",
        "for images, labels in train_loader:\n",
        "    print('Image batch dimensions:', images.shape)\n",
        "    print('Image label dimensions:', labels.shape)\n",
        "    break"
      ]
    },
    {
      "cell_type": "markdown",
      "metadata": {
        "id": "br98QaSzGZbJ"
      },
      "source": [
        "Let's start training"
      ]
    },
    {
      "cell_type": "markdown",
      "metadata": {
        "id": "t-5xcfDIGZbJ"
      },
      "source": [
        "#"
      ]
    },
    {
      "cell_type": "code",
      "execution_count": null,
      "metadata": {
        "id": "enwscy37GZbJ",
        "outputId": "5560ad35-3d53-468f-9cc0-f89c762b6ed7"
      },
      "outputs": [
        {
          "name": "stdout",
          "output_type": "stream",
          "text": [
            "Epoch [1/20], Loss: 0.7701\n",
            "Test loss: 0.7179, Test accuracy: 0.8514\n"
          ]
        }
      ],
      "source": [
        "# MNIST solver\n",
        "\n",
        "import torch\n",
        "\n",
        "# Load MNIST data\n",
        "from torchvision import datasets, transforms\n",
        "from torch.utils.data import DataLoader\n",
        "\n",
        "# Load MNIST data\n",
        "mnist_train = datasets.MNIST(root='./data', train=True, transform=transforms.ToTensor(), download=True)\n",
        "mnist_test = datasets.MNIST(root='./data', train=False, transform=transforms.ToTensor(), download=True)\n",
        "\n",
        "# Use Data Loader\n",
        "train_loader = DataLoader(mnist_train, batch_size=100, shuffle=True)\n",
        "test_loader = DataLoader(mnist_test, batch_size=100, shuffle=False)\n",
        "\n",
        "# Train\n",
        "import torch.nn as nn\n",
        "\n",
        "# Define model\n",
        "class MnistModel(nn.Module):\n",
        "    def __init__(self):\n",
        "        super().__init__()\n",
        "        self.linear = nn.Linear(784, 10)\n",
        "\n",
        "    def forward(self, xb):\n",
        "        # Flatten the image tensors using reshape\n",
        "        xb = xb.reshape(-1, 784)\n",
        "        out = self.linear(xb)\n",
        "        return out\n",
        "\n",
        "# Instantiate the model\n",
        "model = MnistModel()\n",
        "\n",
        "# Define loss function\n",
        "loss_fn = nn.CrossEntropyLoss()\n",
        "\n",
        "# Define optimizer\n",
        "learning_rate = 1e-2\n",
        "optimizer = torch.optim.SGD(model.parameters(), lr=learning_rate)\n",
        "\n",
        "# Define accuracy function\n",
        "def accuracy(outputs, labels):\n",
        "    _, preds = torch.max(outputs, dim=1)\n",
        "    return torch.tensor(torch.sum(preds == labels).item() / len(preds))\n",
        "\n",
        "# Train\n",
        "for epoch in range(1):\n",
        "    for images, labels in train_loader:\n",
        "        # Generate predictions\n",
        "        outputs = model(images)\n",
        "        loss = loss_fn(outputs, labels)\n",
        "        # Perform gradient descent\n",
        "        optimizer.zero_grad()\n",
        "        loss.backward()\n",
        "        optimizer.step()\n",
        "        print('Epoch [{}/{}], Loss: {:.4f}'.format(epoch+1, 20, loss.item()))\n",
        "\n",
        "# Evaluate\n",
        "with torch.no_grad():\n",
        "    accum_acc = 0\n",
        "    accum_lost = 0\n",
        "    for images, labels in test_loader:\n",
        "        outputs = model(images)\n",
        "        loss = loss_fn(outputs, labels)\n",
        "        accum_lost += loss.item()\n",
        "        acc = accuracy(outputs, labels)\n",
        "        accum_acc += acc\n",
        "\n",
        "    print('Test loss: {:.4f}, Test accuracy: {:.4f}'.format(accum_lost/len(test_loader), accum_acc/len(test_loader)))\n"
      ]
    },
    {
      "cell_type": "markdown",
      "metadata": {
        "id": "Rurlwk-nGZbK"
      },
      "source": [
        "Let's add hidden layer"
      ]
    },
    {
      "cell_type": "code",
      "execution_count": null,
      "metadata": {
        "id": "ImLo3N_aGZbK",
        "outputId": "5daa70ad-0ddb-4a24-8d44-4dd9951d3450"
      },
      "outputs": [
        {
          "name": "stdout",
          "output_type": "stream",
          "text": [
            "Epoch [1/20], Loss: 0.7054\n",
            "Epoch [2/20], Loss: 0.4153\n",
            "Epoch [3/20], Loss: 0.4130\n",
            "Epoch [4/20], Loss: 0.5600\n",
            "Epoch [5/20], Loss: 0.2385\n",
            "Epoch [6/20], Loss: 0.4459\n",
            "Epoch [7/20], Loss: 0.2949\n",
            "Epoch [8/20], Loss: 0.2567\n",
            "Epoch [9/20], Loss: 0.3537\n",
            "Epoch [10/20], Loss: 0.3268\n",
            "Epoch [11/20], Loss: 0.2535\n",
            "Epoch [12/20], Loss: 0.2902\n",
            "Epoch [13/20], Loss: 0.2985\n",
            "Epoch [14/20], Loss: 0.3891\n",
            "Epoch [15/20], Loss: 0.2007\n",
            "Epoch [16/20], Loss: 0.4770\n",
            "Epoch [17/20], Loss: 0.2669\n",
            "Epoch [18/20], Loss: 0.2373\n",
            "Epoch [19/20], Loss: 0.2236\n",
            "Epoch [20/20], Loss: 0.3353\n",
            "Test loss: 0.3888, Test accuracy: 0.9206\n"
          ]
        }
      ],
      "source": [
        "# MNIST solver\n",
        "\n",
        "import torch\n",
        "\n",
        "# Load MNIST data\n",
        "from torchvision import datasets, transforms\n",
        "from torch.utils.data import DataLoader\n",
        "\n",
        "# Load MNIST data\n",
        "mnist_train = datasets.MNIST(root='./data', train=True, transform=transforms.ToTensor(), download=True)\n",
        "mnist_test = datasets.MNIST(root='./data', train=False, transform=transforms.ToTensor(), download=True)\n",
        "\n",
        "# Use Data Loader\n",
        "train_loader = DataLoader(mnist_train, batch_size=100, shuffle=True)\n",
        "test_loader = DataLoader(mnist_test, batch_size=100, shuffle=False)\n",
        "\n",
        "# Train\n",
        "import torch.nn as nn\n",
        "\n",
        "# Define model\n",
        "class MnistModel(nn.Module):\n",
        "    def __init__(self):\n",
        "        super().__init__()\n",
        "        self.linear = nn.Linear(784, 100)\n",
        "        self.hidden = nn.Linear(100, 10)\n",
        "\n",
        "    def forward(self, xb):\n",
        "        # Flatten the image tensors using reshape\n",
        "        xb = xb.reshape(-1, 784)\n",
        "        out = self.linear(xb)\n",
        "        out = self.hidden(out)\n",
        "        return out\n",
        "\n",
        "# Instantiate the model\n",
        "model = MnistModel()\n",
        "\n",
        "# Define loss function\n",
        "loss_fn = nn.CrossEntropyLoss()\n",
        "\n",
        "# Define optimizer\n",
        "learning_rate = 1e-2\n",
        "optimizer = torch.optim.SGD(model.parameters(), lr=learning_rate)\n",
        "\n",
        "# Define accuracy function\n",
        "def accuracy(outputs, labels):\n",
        "    _, preds = torch.max(outputs, dim=1)\n",
        "    return torch.tensor(torch.sum(preds == labels).item() / len(preds))\n",
        "\n",
        "# Train\n",
        "for epoch in range(20):\n",
        "    for images, labels in train_loader:\n",
        "        # Generate predictions\n",
        "        outputs = model(images)\n",
        "        loss = loss_fn(outputs, labels)\n",
        "        # Perform gradient descent\n",
        "        optimizer.zero_grad()\n",
        "        loss.backward()\n",
        "        optimizer.step()\n",
        "        print('Epoch [{}/{}], Loss: {:.4f}'.format(epoch+1, 20, loss.item()))\n",
        "\n",
        "# Evaluate\n",
        "with torch.no_grad():\n",
        "    accum_acc = 0\n",
        "    for images, labels in test_loader:\n",
        "        outputs = model(images)\n",
        "        loss = loss_fn(outputs, labels)\n",
        "        acc = accuracy(outputs, labels)\n",
        "        accum_acc += acc\n",
        "\n",
        "    print('Test loss: {:.4f}, Test accuracy: {:.4f}'.format(loss.item(), accum_acc/len(test_loader)))\n"
      ]
    },
    {
      "cell_type": "markdown",
      "metadata": {
        "id": "rPA7Lu7IGZbK"
      },
      "source": [
        "## Exercise 1\n",
        "\n",
        "The SOTA for MNIST is 99.8% accuracy. Can you get there?"
      ]
    },
    {
      "cell_type": "code",
      "execution_count": null,
      "metadata": {
        "id": "pxq3Yr7CGZbL"
      },
      "outputs": [],
      "source": [
        "!pip install rggrader"
      ]
    },
    {
      "cell_type": "code",
      "execution_count": null,
      "metadata": {
        "id": "mRLOalHHGZbL"
      },
      "outputs": [],
      "source": [
        "from rggrader import submit\n",
        "\n",
        "# @title #### Student Identity\n",
        "student_id = \"your student id\" # @param {type:\"string\"}\n",
        "name = \"your name\" # @param {type:\"string\"}"
      ]
    },
    {
      "cell_type": "code",
      "execution_count": null,
      "metadata": {
        "id": "DOGpyvhfGZbL"
      },
      "outputs": [],
      "source": [
        "assignment_id = \"13_pytorch-mnist\"\n",
        "question_id = \"00_mnist-data\"\n",
        "my_accuracy = \"\"\n",
        "submit(student_id, name, assignment_id, str(my_accuracy), question_id)"
      ]
    },
    {
      "cell_type": "markdown",
      "metadata": {
        "id": "Uw5rRrjNGZbL"
      },
      "source": [
        "## Fashion MNIST"
      ]
    },
    {
      "cell_type": "code",
      "execution_count": null,
      "metadata": {
        "id": "WjIP2pHAGZbL",
        "outputId": "73e1e536-fcbd-400d-83fd-53c33ef8d3ac"
      },
      "outputs": [
        {
          "name": "stdout",
          "output_type": "stream",
          "text": [
            "Downloading http://fashion-mnist.s3-website.eu-central-1.amazonaws.com/train-images-idx3-ubyte.gz\n",
            "Downloading http://fashion-mnist.s3-website.eu-central-1.amazonaws.com/train-images-idx3-ubyte.gz to ./data/FashionMNIST/raw/train-images-idx3-ubyte.gz\n"
          ]
        },
        {
          "name": "stderr",
          "output_type": "stream",
          "text": [
            "100%|██████████| 26421880/26421880 [09:53<00:00, 44521.39it/s] \n"
          ]
        },
        {
          "name": "stdout",
          "output_type": "stream",
          "text": [
            "Extracting ./data/FashionMNIST/raw/train-images-idx3-ubyte.gz to ./data/FashionMNIST/raw\n",
            "\n",
            "Downloading http://fashion-mnist.s3-website.eu-central-1.amazonaws.com/train-labels-idx1-ubyte.gz\n",
            "Downloading http://fashion-mnist.s3-website.eu-central-1.amazonaws.com/train-labels-idx1-ubyte.gz to ./data/FashionMNIST/raw/train-labels-idx1-ubyte.gz\n"
          ]
        },
        {
          "name": "stderr",
          "output_type": "stream",
          "text": [
            "100%|██████████| 29515/29515 [00:00<00:00, 159889.65it/s]\n"
          ]
        },
        {
          "name": "stdout",
          "output_type": "stream",
          "text": [
            "Extracting ./data/FashionMNIST/raw/train-labels-idx1-ubyte.gz to ./data/FashionMNIST/raw\n",
            "\n",
            "Downloading http://fashion-mnist.s3-website.eu-central-1.amazonaws.com/t10k-images-idx3-ubyte.gz\n",
            "Downloading http://fashion-mnist.s3-website.eu-central-1.amazonaws.com/t10k-images-idx3-ubyte.gz to ./data/FashionMNIST/raw/t10k-images-idx3-ubyte.gz\n"
          ]
        },
        {
          "name": "stderr",
          "output_type": "stream",
          "text": [
            "100%|██████████| 4422102/4422102 [01:29<00:00, 49617.97it/s] \n"
          ]
        },
        {
          "name": "stdout",
          "output_type": "stream",
          "text": [
            "Extracting ./data/FashionMNIST/raw/t10k-images-idx3-ubyte.gz to ./data/FashionMNIST/raw\n",
            "\n",
            "Downloading http://fashion-mnist.s3-website.eu-central-1.amazonaws.com/t10k-labels-idx1-ubyte.gz\n",
            "Downloading http://fashion-mnist.s3-website.eu-central-1.amazonaws.com/t10k-labels-idx1-ubyte.gz to ./data/FashionMNIST/raw/t10k-labels-idx1-ubyte.gz\n"
          ]
        },
        {
          "name": "stderr",
          "output_type": "stream",
          "text": [
            "100%|██████████| 5148/5148 [00:00<00:00, 488281.07it/s]"
          ]
        },
        {
          "name": "stdout",
          "output_type": "stream",
          "text": [
            "Extracting ./data/FashionMNIST/raw/t10k-labels-idx1-ubyte.gz to ./data/FashionMNIST/raw\n",
            "\n",
            "Dataset FashionMNIST\n",
            "    Number of datapoints: 60000\n",
            "    Root location: ./data\n",
            "    Split: Train\n",
            "    StandardTransform\n",
            "Transform: ToTensor()\n",
            "Dataset FashionMNIST\n",
            "    Number of datapoints: 10000\n",
            "    Root location: ./data\n",
            "    Split: Test\n",
            "    StandardTransform\n",
            "Transform: ToTensor()\n",
            "torch.Size([1, 28, 28])\n"
          ]
        },
        {
          "name": "stderr",
          "output_type": "stream",
          "text": [
            "\n"
          ]
        }
      ],
      "source": [
        "import torch\n",
        "\n",
        "from torchvision import datasets, transforms\n",
        "from torch.utils.data import DataLoader\n",
        "\n",
        "# Load Fashion MNIST data\n",
        "fmnist_train = datasets.FashionMNIST(root='./data', train=True, transform=transforms.ToTensor(), download=True)\n",
        "fmnist_test = datasets.FashionMNIST(root='./data', train=False, transform=transforms.ToTensor(), download=True)\n",
        "\n",
        "# Inspect data\n",
        "print(fmnist_train)\n",
        "print(fmnist_test)\n",
        "\n",
        "# Print the shape of the first image in the training set\n",
        "print(fmnist_train[0][0].shape)\n"
      ]
    },
    {
      "cell_type": "markdown",
      "metadata": {
        "id": "e9SJa2KQGZbM"
      },
      "source": [
        "## Exercise 2\n",
        "\n",
        "Try implement the Fashion MNIST dataset, and see if you can get to 90%+ accuracy."
      ]
    },
    {
      "cell_type": "code",
      "execution_count": null,
      "metadata": {
        "id": "GofDi_1VGZbM"
      },
      "outputs": [],
      "source": [
        "assignment_id = \"13_pytorch-mnist\"\n",
        "question_id = \"01_fashion-mnist-data\"\n",
        "my_accuracy = \"\"\n",
        "submit(student_id, name, assignment_id, str(my_accuracy), question_id)"
      ]
    }
  ],
  "metadata": {
    "kernelspec": {
      "display_name": "Python 3",
      "language": "python",
      "name": "python3"
    },
    "language_info": {
      "codemirror_mode": {
        "name": "ipython",
        "version": 3
      },
      "file_extension": ".py",
      "mimetype": "text/x-python",
      "name": "python",
      "nbconvert_exporter": "python",
      "pygments_lexer": "ipython3",
      "version": "3.11.1"
    },
    "orig_nbformat": 4,
    "colab": {
      "provenance": []
    }
  },
  "nbformat": 4,
  "nbformat_minor": 0
}