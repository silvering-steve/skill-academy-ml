{
  "cells": [
    {
      "cell_type": "markdown",
      "metadata": {
        "id": "Gsj8j0lhGHLC"
      },
      "source": [
        "# Pytorch Dimension Modification"
      ]
    },
    {
      "cell_type": "markdown",
      "metadata": {
        "id": "tGr-h8DKGHLG"
      },
      "source": [
        "One of the common mistakes in Pytorch is wrong dimension. To avoid this, we need to know how to modify the dimension of the tensor to fit the requirement of the model."
      ]
    },
    {
      "cell_type": "markdown",
      "metadata": {
        "id": "fCY7R_rxGHLH"
      },
      "source": [
        "## Unsqueeze\n",
        "\n",
        "Unsqueeze is used to add a dimension to a tensor."
      ]
    },
    {
      "cell_type": "code",
      "execution_count": null,
      "metadata": {
        "id": "GosLLGB8GHLI",
        "outputId": "a742c8d6-68a1-4c8b-97bb-0fc374686666"
      },
      "outputs": [
        {
          "name": "stdout",
          "output_type": "stream",
          "text": [
            "torch.Size([4])\n",
            "tensor([1, 2, 3, 4])\n",
            "\n",
            "torch.Size([1, 4])\n",
            "tensor([[1, 2, 3, 4]])\n",
            "\n",
            "torch.Size([1, 1, 4])\n",
            "tensor([[[1, 2, 3, 4]]])\n",
            "\n"
          ]
        }
      ],
      "source": [
        "# Unsqueeze demo\n",
        "import torch\n",
        "\n",
        "# Unsqueeze\n",
        "x = torch.tensor([1, 2, 3, 4])\n",
        "print(x.shape)\n",
        "print(x)\n",
        "print()\n",
        "\n",
        "x = x.unsqueeze(0)\n",
        "print(x.shape)\n",
        "print(x)\n",
        "print()\n",
        "\n",
        "x = x.unsqueeze(1)\n",
        "print(x.shape)\n",
        "print(x)\n",
        "print()"
      ]
    },
    {
      "cell_type": "markdown",
      "metadata": {
        "id": "4lghNAHFGHLK"
      },
      "source": [
        "By default, the dimension is added at the beginning. For example, if the input tensor has shape `(3, 4)`, the output tensor will have shape `(1, 3, 4)` after unsqueeze.\n",
        "\n",
        "We can also specify specific dimension to be added:"
      ]
    },
    {
      "cell_type": "code",
      "execution_count": null,
      "metadata": {
        "id": "lIRKkLXOGHLL",
        "outputId": "87cd9bf9-7d1a-4fab-c64b-e1a1e2f7016b"
      },
      "outputs": [
        {
          "name": "stdout",
          "output_type": "stream",
          "text": [
            "torch.Size([4])\n",
            "tensor([1, 2, 3, 4])\n",
            "\n",
            "torch.Size([1, 4])\n",
            "tensor([[1, 2, 3, 4]])\n",
            "\n",
            "torch.Size([1, 4, 1])\n",
            "tensor([[[1],\n",
            "         [2],\n",
            "         [3],\n",
            "         [4]]])\n",
            "\n"
          ]
        }
      ],
      "source": [
        "import torch\n",
        "\n",
        "# Unsqueeze\n",
        "x = torch.tensor([1, 2, 3, 4])\n",
        "print(x.shape)\n",
        "print(x)\n",
        "print()\n",
        "\n",
        "x = x.unsqueeze(0)\n",
        "print(x.shape)\n",
        "print(x)\n",
        "print()\n",
        "\n",
        "x = x.unsqueeze(2)\n",
        "print(x.shape)\n",
        "print(x)\n",
        "print()"
      ]
    },
    {
      "cell_type": "markdown",
      "metadata": {
        "id": "SxyfMMTiGHLL"
      },
      "source": [
        "## Squeeze\n",
        "\n",
        "Squeeze is used to remove a dimension from a tensor. It's like squeezing a bottle of water, the bottle becomes smaller."
      ]
    },
    {
      "cell_type": "code",
      "execution_count": null,
      "metadata": {
        "id": "TcWf3fDrGHLM",
        "outputId": "2b550f7b-380c-4979-96be-448830e84dbf"
      },
      "outputs": [
        {
          "name": "stdout",
          "output_type": "stream",
          "text": [
            "torch.Size([1, 1, 4])\n",
            "tensor([[[1, 2, 3, 4]]])\n",
            "\n",
            "torch.Size([1, 4])\n",
            "tensor([[1, 2, 3, 4]])\n",
            "\n"
          ]
        }
      ],
      "source": [
        "# Squeeze demo\n",
        "import torch\n",
        "\n",
        "x = torch.tensor([[[1, 2, 3, 4]]])\n",
        "\n",
        "print(x.shape)\n",
        "print(x)\n",
        "print()\n",
        "\n",
        "x = x.squeeze(0)\n",
        "print(x.shape)\n",
        "print(x)\n",
        "print()"
      ]
    },
    {
      "cell_type": "markdown",
      "metadata": {
        "id": "6bMnmt_pGHLM"
      },
      "source": [
        "If we don't specify the dimension to be removed, squeeze will remove all the dimensions with size 1.\n",
        "\n",
        "`A x B x 1 x C x 1 x D` will become `A x B x C x D` after squeeze."
      ]
    },
    {
      "cell_type": "code",
      "execution_count": null,
      "metadata": {
        "id": "_cVOVQyCGHLN",
        "outputId": "8996c59d-75ca-44a5-8847-d8a5f900d3d2"
      },
      "outputs": [
        {
          "name": "stdout",
          "output_type": "stream",
          "text": [
            "torch.Size([1, 1, 4])\n",
            "tensor([[[1, 2, 3, 4]]])\n",
            "\n",
            "torch.Size([4])\n",
            "tensor([1, 2, 3, 4])\n",
            "\n"
          ]
        }
      ],
      "source": [
        "import torch\n",
        "\n",
        "x = torch.tensor([[[1, 2, 3, 4]]])\n",
        "\n",
        "print(x.shape)\n",
        "print(x)\n",
        "print()\n",
        "\n",
        "x = x.squeeze()\n",
        "print(x.shape)\n",
        "print(x)\n",
        "print()"
      ]
    },
    {
      "cell_type": "markdown",
      "metadata": {
        "id": "v--gS02wGHLN"
      },
      "source": [
        "If the input is of shape `A x 1 x B x C x 1 x D` then the out tensor will be of shape: `A x B x C x D`"
      ]
    },
    {
      "cell_type": "code",
      "execution_count": null,
      "metadata": {
        "id": "OfrGkPZkGHLN",
        "outputId": "0a0261f0-fccc-4102-8952-47138108db85"
      },
      "outputs": [
        {
          "name": "stdout",
          "output_type": "stream",
          "text": [
            "torch.Size([2, 1, 2])\n",
            "tensor([[[1., 1.]],\n",
            "\n",
            "        [[1., 1.]]])\n",
            "\n",
            "torch.Size([2, 2])\n",
            "tensor([[1., 1.],\n",
            "        [1., 1.]])\n",
            "\n"
          ]
        }
      ],
      "source": [
        "import torch\n",
        "\n",
        "x = torch.ones(2, 1, 2)\n",
        "\n",
        "print(x.shape)\n",
        "print(x)\n",
        "print()\n",
        "\n",
        "x = x.squeeze(1)\n",
        "\n",
        "print(x.shape)\n",
        "print(x)\n",
        "print()"
      ]
    },
    {
      "cell_type": "markdown",
      "metadata": {
        "id": "Fh6v2EK3GHLO"
      },
      "source": [
        "If the specified dimension does not have size 1, the input tensor is returned unchanged."
      ]
    },
    {
      "cell_type": "code",
      "execution_count": null,
      "metadata": {
        "id": "t7E3Xr2iGHLO",
        "outputId": "89066ad8-5441-4a3d-c6f2-ad80622f3eb6"
      },
      "outputs": [
        {
          "name": "stdout",
          "output_type": "stream",
          "text": [
            "torch.Size([2, 1, 2])\n",
            "tensor([[[1., 1.]],\n",
            "\n",
            "        [[1., 1.]]])\n",
            "\n",
            "torch.Size([2, 1, 2])\n",
            "tensor([[[1., 1.]],\n",
            "\n",
            "        [[1., 1.]]])\n",
            "\n"
          ]
        }
      ],
      "source": [
        "import torch\n",
        "\n",
        "x = torch.ones(2, 1, 2)\n",
        "\n",
        "print(x.shape)\n",
        "print(x)\n",
        "print()\n",
        "\n",
        "x = x.squeeze(2)\n",
        "\n",
        "print(x.shape)\n",
        "print(x)\n",
        "print()"
      ]
    },
    {
      "cell_type": "markdown",
      "metadata": {
        "id": "ig7XV4xDGHLO"
      },
      "source": [
        "## Reshape\n",
        "\n",
        "Reshape is used to change the shape of a tensor. It's commonly used, so understanding it is very important."
      ]
    },
    {
      "cell_type": "code",
      "execution_count": null,
      "metadata": {
        "id": "9bXWTnfNGHLO",
        "outputId": "57bad173-51ac-4b1f-8843-387d6b902e78"
      },
      "outputs": [
        {
          "name": "stdout",
          "output_type": "stream",
          "text": [
            "torch.Size([2, 4])\n",
            "tensor([[1, 2, 3, 4],\n",
            "        [5, 6, 7, 8]])\n",
            "\n",
            "torch.Size([4, 2])\n",
            "tensor([[1, 2],\n",
            "        [3, 4],\n",
            "        [5, 6],\n",
            "        [7, 8]])\n",
            "\n"
          ]
        }
      ],
      "source": [
        "## Reshape demo\n",
        "import torch\n",
        "\n",
        "x = torch.tensor([[1, 2, 3, 4], [5, 6, 7, 8]])\n",
        "print(x.shape)\n",
        "print(x)\n",
        "print()\n",
        "\n",
        "x = x.reshape(4, 2)\n",
        "print(x.shape)\n",
        "print(x)\n",
        "print()"
      ]
    },
    {
      "cell_type": "markdown",
      "metadata": {
        "id": "2eGs4qtGGHLP"
      },
      "source": [
        "Let's explore more:"
      ]
    },
    {
      "cell_type": "code",
      "execution_count": null,
      "metadata": {
        "id": "Iq7oq7wgGHLP",
        "outputId": "41abf78f-d79c-47d3-995a-e0c7f2ce546a"
      },
      "outputs": [
        {
          "name": "stdout",
          "output_type": "stream",
          "text": [
            "torch.Size([2, 2, 2])\n",
            "tensor([[[1, 2],\n",
            "         [3, 4]],\n",
            "\n",
            "        [[5, 6],\n",
            "         [7, 8]]])\n",
            "\n",
            "torch.Size([2, 2, 2, 1])\n",
            "tensor([[[[1],\n",
            "          [2]],\n",
            "\n",
            "         [[3],\n",
            "          [4]]],\n",
            "\n",
            "\n",
            "        [[[5],\n",
            "          [6]],\n",
            "\n",
            "         [[7],\n",
            "          [8]]]])\n",
            "\n",
            "torch.Size([8, 1])\n",
            "tensor([[1],\n",
            "        [2],\n",
            "        [3],\n",
            "        [4],\n",
            "        [5],\n",
            "        [6],\n",
            "        [7],\n",
            "        [8]])\n",
            "\n"
          ]
        }
      ],
      "source": [
        "import torch\n",
        "\n",
        "x = torch.tensor([[1, 2, 3, 4], [5, 6, 7, 8]])\n",
        "\n",
        "x = x.reshape(2, 2, 2)\n",
        "print(x.shape)\n",
        "print(x)\n",
        "print()\n",
        "\n",
        "x = x.reshape(2, 2, 2, 1)\n",
        "print(x.shape)\n",
        "print(x)\n",
        "print()\n",
        "\n",
        "x = x.reshape(8, 1)\n",
        "print(x.shape)\n",
        "print(x)\n",
        "print()"
      ]
    },
    {
      "cell_type": "markdown",
      "metadata": {
        "id": "IXeDF3uWGHLP"
      },
      "source": [
        "What would be the output of the following?"
      ]
    },
    {
      "cell_type": "code",
      "execution_count": null,
      "metadata": {
        "id": "IEa4M8Z_GHLP"
      },
      "outputs": [],
      "source": [
        "import torch\n",
        "\n",
        "x = torch.tensor([[1, 2, 3, 4], [5, 6, 7, 8]])\n",
        "x = x.reshape(1, 8)\n",
        "print(x.shape)\n",
        "print(x)\n",
        "print()"
      ]
    },
    {
      "cell_type": "markdown",
      "metadata": {
        "id": "1rhqYm4RGHLP"
      },
      "source": [
        "How about this:"
      ]
    },
    {
      "cell_type": "code",
      "execution_count": null,
      "metadata": {
        "id": "m5lt8uxBGHLP",
        "outputId": "43aff3a9-a9e4-4108-aafc-591991c5bad1"
      },
      "outputs": [
        {
          "ename": "RuntimeError",
          "evalue": "shape '[4]' is invalid for input of size 8",
          "output_type": "error",
          "traceback": [
            "\u001b[0;31m---------------------------------------------------------------------------\u001b[0m",
            "\u001b[0;31mRuntimeError\u001b[0m                              Traceback (most recent call last)",
            "Cell \u001b[0;32mIn[26], line 4\u001b[0m\n\u001b[1;32m      1\u001b[0m \u001b[39mimport\u001b[39;00m \u001b[39mtorch\u001b[39;00m\n\u001b[1;32m      3\u001b[0m x \u001b[39m=\u001b[39m torch\u001b[39m.\u001b[39mtensor([[\u001b[39m1\u001b[39m, \u001b[39m2\u001b[39m, \u001b[39m3\u001b[39m, \u001b[39m4\u001b[39m], [\u001b[39m5\u001b[39m, \u001b[39m6\u001b[39m, \u001b[39m7\u001b[39m, \u001b[39m8\u001b[39m]])\n\u001b[0;32m----> 4\u001b[0m x \u001b[39m=\u001b[39m x\u001b[39m.\u001b[39;49mreshape(\u001b[39m4\u001b[39;49m)\n\u001b[1;32m      5\u001b[0m \u001b[39mprint\u001b[39m(x\u001b[39m.\u001b[39mshape)\n\u001b[1;32m      6\u001b[0m \u001b[39mprint\u001b[39m(x)\n",
            "\u001b[0;31mRuntimeError\u001b[0m: shape '[4]' is invalid for input of size 8"
          ]
        }
      ],
      "source": [
        "import torch\n",
        "\n",
        "x = torch.tensor([[1, 2, 3, 4], [5, 6, 7, 8]])\n",
        "x = x.reshape(4)\n",
        "print(x.shape)\n",
        "print(x)\n",
        "print()"
      ]
    },
    {
      "cell_type": "markdown",
      "metadata": {
        "id": "Vu6HHnk8GHLQ"
      },
      "source": [
        "## Flatten\n",
        "\n",
        "Flatten is used to flatten a tensor."
      ]
    },
    {
      "cell_type": "code",
      "execution_count": null,
      "metadata": {
        "id": "kxLKyFa1GHLQ",
        "outputId": "8d9f5032-f176-4996-c950-f78bbddb166c"
      },
      "outputs": [
        {
          "name": "stdout",
          "output_type": "stream",
          "text": [
            "torch.Size([8])\n",
            "tensor([1, 2, 3, 4, 5, 6, 7, 8])\n",
            "\n"
          ]
        }
      ],
      "source": [
        "# Flatten demo\n",
        "\n",
        "import torch\n",
        "\n",
        "x = torch.tensor([[1, 2, 3, 4], [5, 6, 7, 8]])\n",
        "x = x.flatten()\n",
        "print(x.shape)\n",
        "print(x)\n",
        "print()"
      ]
    },
    {
      "cell_type": "markdown",
      "metadata": {
        "id": "cwPmIs7qGHLQ"
      },
      "source": [
        "Flatten will always convert a tensor into a 1D array. The dimension of the output tensor is 1."
      ]
    },
    {
      "cell_type": "code",
      "execution_count": null,
      "metadata": {
        "id": "-bjuoqVQGHLQ",
        "outputId": "a8a122e4-9d25-4f34-85d9-e477c178f87e"
      },
      "outputs": [
        {
          "name": "stdout",
          "output_type": "stream",
          "text": [
            "torch.Size([2, 2, 2, 2])\n",
            "tensor([[[[1., 1.],\n",
            "          [1., 1.]],\n",
            "\n",
            "         [[1., 1.],\n",
            "          [1., 1.]]],\n",
            "\n",
            "\n",
            "        [[[1., 1.],\n",
            "          [1., 1.]],\n",
            "\n",
            "         [[1., 1.],\n",
            "          [1., 1.]]]])\n",
            "\n",
            "torch.Size([16])\n",
            "tensor([1., 1., 1., 1., 1., 1., 1., 1., 1., 1., 1., 1., 1., 1., 1., 1.])\n",
            "\n"
          ]
        }
      ],
      "source": [
        "# Multi-dimension tensor\n",
        "\n",
        "import torch\n",
        "x = torch.ones(2, 2, 2, 2)\n",
        "print(x.shape)\n",
        "print(x)\n",
        "print()\n",
        "\n",
        "x = x.flatten()\n",
        "print(x.shape)\n",
        "print(x)\n",
        "print()"
      ]
    },
    {
      "cell_type": "markdown",
      "metadata": {
        "id": "Mmx8lna2GHLQ"
      },
      "source": [
        "## Permute\n",
        "\n",
        "Permute is used to change the order of the dimensions of a tensor.\n",
        "\n",
        "The parameter is the new order of the dimensions\n",
        "\n",
        "So, if we have a tensor of shape `(A, B, C, D)`, the output tensor will have shape `(D, C, B, A)` given parameter `(3, 2, 1, 0)`."
      ]
    },
    {
      "cell_type": "code",
      "execution_count": null,
      "metadata": {
        "id": "3pJ9E5H8GHLR",
        "outputId": "1927f9e5-3ab6-4d99-8bc1-3ecf98c437cc"
      },
      "outputs": [
        {
          "name": "stdout",
          "output_type": "stream",
          "text": [
            "torch.Size([2, 3, 4])\n",
            "tensor([[[1., 1., 1., 1.],\n",
            "         [1., 1., 1., 1.],\n",
            "         [1., 1., 1., 1.]],\n",
            "\n",
            "        [[1., 1., 1., 1.],\n",
            "         [1., 1., 1., 1.],\n",
            "         [1., 1., 1., 1.]]])\n",
            "\n",
            "torch.Size([4, 2, 3])\n",
            "tensor([[[1., 1., 1.],\n",
            "         [1., 1., 1.]],\n",
            "\n",
            "        [[1., 1., 1.],\n",
            "         [1., 1., 1.]],\n",
            "\n",
            "        [[1., 1., 1.],\n",
            "         [1., 1., 1.]],\n",
            "\n",
            "        [[1., 1., 1.],\n",
            "         [1., 1., 1.]]])\n",
            "\n"
          ]
        }
      ],
      "source": [
        "# Permute demo\n",
        "\n",
        "import torch\n",
        "\n",
        "x = torch.ones(2, 3, 4)\n",
        "print(x.shape)\n",
        "print(x)\n",
        "print()\n",
        "\n",
        "x = x.permute(2, 0, 1)\n",
        "print(x.shape)\n",
        "print(x)\n",
        "print()"
      ]
    }
  ],
  "metadata": {
    "kernelspec": {
      "display_name": "Python 3",
      "language": "python",
      "name": "python3"
    },
    "language_info": {
      "codemirror_mode": {
        "name": "ipython",
        "version": 3
      },
      "file_extension": ".py",
      "mimetype": "text/x-python",
      "name": "python",
      "nbconvert_exporter": "python",
      "pygments_lexer": "ipython3",
      "version": "3.11.1"
    },
    "orig_nbformat": 4,
    "colab": {
      "provenance": []
    }
  },
  "nbformat": 4,
  "nbformat_minor": 0
}