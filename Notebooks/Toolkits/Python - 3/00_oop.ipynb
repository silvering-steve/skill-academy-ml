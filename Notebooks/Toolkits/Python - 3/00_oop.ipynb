{
  "cells": [
    {
      "cell_type": "markdown",
      "metadata": {
        "id": "yv4m3_AvDa5O"
      },
      "source": [
        "# Object oriented programming: Fitting functionality into single objects\n",
        "\n",
        "Object oriented programming is a programming paradigm that uses something called objects to fit lots of functionality and data into a single object."
      ]
    },
    {
      "cell_type": "code",
      "execution_count": 1,
      "metadata": {
        "id": "FROJYPJnDa5Q",
        "outputId": "87b788b0-cdb9-4665-da1e-4f8db1507a3a"
      },
      "outputs": [
        {
          "name": "stdout",
          "output_type": "stream",
          "text": [
            "Grades for Alice:\n",
            "Math: 90\n",
            "English: 85\n",
            "History: 92\n",
            "Alice's GPA: 89.0\n",
            "\n",
            "\n",
            "Grades for Bob:\n",
            "Math: 78\n",
            "English: 92\n",
            "History: 88\n",
            "Bob's GPA: 86.0\n"
          ]
        }
      ],
      "source": [
        "class Student:\n",
        "    def __init__(self, name, age):\n",
        "        self.name = name\n",
        "        self.age = age\n",
        "        self.grades = {}\n",
        "\n",
        "    def add_grade(self, subject, grade):\n",
        "        self.grades[subject] = grade\n",
        "\n",
        "    def calculate_gpa(self):\n",
        "        if not self.grades:\n",
        "            return 0  # No grades available\n",
        "\n",
        "        total_grade_points = sum(self.grades.values())\n",
        "        num_subjects = len(self.grades)\n",
        "        return total_grade_points / num_subjects\n",
        "\n",
        "    def display_grades(self):\n",
        "        print(f\"Grades for {self.name}:\")\n",
        "        for subject, grade in self.grades.items():\n",
        "            print(f\"{subject}: {grade}\")\n",
        "\n",
        "# Example usage:\n",
        "student1 = Student(\"Alice\", 18)\n",
        "student1.add_grade(\"Math\", 90)\n",
        "student1.add_grade(\"English\", 85)\n",
        "student1.add_grade(\"History\", 92)\n",
        "\n",
        "student2 = Student(\"Bob\", 19)\n",
        "student2.add_grade(\"Math\", 78)\n",
        "student2.add_grade(\"English\", 92)\n",
        "student2.add_grade(\"History\", 88)\n",
        "\n",
        "# Display grades and calculate GPA\n",
        "student1.display_grades()\n",
        "print(f\"{student1.name}'s GPA: {student1.calculate_gpa()}\")\n",
        "\n",
        "print(\"\\n\")\n",
        "\n",
        "student2.display_grades()\n",
        "print(f\"{student2.name}'s GPA: {student2.calculate_gpa()}\")\n"
      ]
    },
    {
      "cell_type": "markdown",
      "metadata": {
        "id": "TgZ9r_xpDa5S"
      },
      "source": [
        "As you can see above, we can have a \"self-sufficient\" data-type that contains both data and functionality that they can use to manipulate themselves."
      ]
    },
    {
      "cell_type": "markdown",
      "metadata": {
        "id": "Q2ayqjVsDa5S"
      },
      "source": [
        "# Object oriented programming mimics real life\n",
        "\n",
        "To understand object oriented programming, it is best to think of it as a way to mimic how we think about things in real life.\n",
        "\n",
        "## Method\n",
        "\n",
        "An object in real life is something that \"contains\" lots of functionalities by itself. For example, a car is an object that can drive, park, and honk.\n",
        "\n",
        "If we try to model above car in Python, we can do it like so:\n",
        "\n",
        "```python\n",
        "class Car:\n",
        "    def drive(self):\n",
        "        print(\"Driving\")\n",
        "        # Do something to drive the car\n",
        "    \n",
        "    def park(self):\n",
        "        print(\"Parking\")\n",
        "        # Do something to park the car\n",
        "    \n",
        "    def honk(self):\n",
        "        print(\"Honking\")\n",
        "        # Do something to honk the car\n",
        "```\n",
        "\n",
        "For the usage is as simple like we're using a function:\n",
        "\n",
        "```python\n",
        "car = Car()\n",
        "car.drive()\n",
        "car.park()\n",
        "car.honk()\n",
        "```\n",
        "\n",
        "## Attributes\n",
        "\n",
        "In addition to having methods, objects also have attributes. Attributes are data that the object contains. For example, a car has a color, a model, and a year.\n",
        "\n",
        "```python\n",
        "class Car:\n",
        "    def __init__(self, color, model, year):\n",
        "        self.color = color\n",
        "        self.model = model\n",
        "        self.year = year\n",
        "```\n",
        "\n",
        "To access the attributes, we can do it like so:\n",
        "\n",
        "```python\n",
        "car = Car(\"red\", \"Toyota\", 2019)\n",
        "print(car.color)\n",
        "print(car.model)\n",
        "print(car.year)\n",
        "```"
      ]
    },
    {
      "cell_type": "markdown",
      "metadata": {
        "id": "3POB_gVRDa5S"
      },
      "source": [
        "# Term: Class and object\n",
        "\n",
        "For now let's take a step back and talk about some terminology."
      ]
    },
    {
      "cell_type": "markdown",
      "metadata": {
        "id": "pW7nOLL3Da5T"
      },
      "source": [
        "## Class\n",
        "\n",
        "Class is a blueprint, it will define what kind of data and functionality an object will have.\n",
        "\n",
        "```python\n",
        "class Car:\n",
        "    def __init__(self, manufacturer, model, year):\n",
        "        self.manufacturer = manufacturer\n",
        "        self.model = model\n",
        "        self.year = year\n",
        "        self.speed = 0\n",
        "\n",
        "    def accelerate(self):\n",
        "        self.speed += 5\n",
        "        print(f\"{self.manufacturer} {self.model} is accelerating. Current speed: {self.speed} mph\")\n",
        "\n",
        "    def brake(self):\n",
        "        if self.speed > 0:\n",
        "            self.speed -= 5\n",
        "            print(f\"{self.manufacturer} {self.model} is braking. Current speed: {self.speed} mph\")\n",
        "        else:\n",
        "            print(f\"{self.manufacturer} {self.model} is already stationary.\")\n",
        "```\n",
        "\n",
        "As you can see above, we have a class called `Car`. It has 3 data attributes (which is defined in `__init__` method): `manufacturer`, `model`, and `year`. It also has 2 \"functionalities\" (which more commonly called methods): `accelerate` and `brake`."
      ]
    },
    {
      "cell_type": "markdown",
      "metadata": {
        "id": "pfyxSgX1Da5T"
      },
      "source": [
        "## Object\n",
        "\n",
        "Object is a derived instance of a class, basically a class is a blueprint and an object is the actual thing that is built from the blueprint.\n",
        "\n",
        "```python\n",
        "# Creating an object from `Car` class\n",
        "car1 = Car(\"Toyota\", \"Camry\", 2022)\n",
        "car2 = Car(\"Ford\", \"Mustang\", 2023)\n",
        "\n",
        "# Using the objects\n",
        "car1.accelerate()\n",
        "car2.accelerate()\n",
        "car1.brake()\n",
        "car2.brake()\n",
        "```"
      ]
    },
    {
      "cell_type": "markdown",
      "metadata": {
        "id": "aTB0o69sDa5T"
      },
      "source": [
        "# __init__ method\n",
        "\n",
        "`__init__` method is a special method that is called when an object is created. It is usually used to initialize the data attributes of the object.\n",
        "\n",
        "```python\n",
        "```\n"
      ]
    },
    {
      "cell_type": "code",
      "execution_count": 2,
      "metadata": {
        "id": "Bd_qN64gDa5T",
        "outputId": "ddb66661-5ad2-4392-9fc7-0ef0bdf7121e"
      },
      "outputs": [
        {
          "name": "stdout",
          "output_type": "stream",
          "text": [
            "Alice\n",
            "18\n",
            "Beginner\n"
          ]
        }
      ],
      "source": [
        "class Person:\n",
        "    def __init__(self, name, age):\n",
        "        self.name = name\n",
        "        self.age = age\n",
        "        self.level = \"Beginner\"\n",
        "\n",
        "person = Person(\"Alice\", 18)\n",
        "print(person.name)\n",
        "print(person.age)\n",
        "print(person.level)"
      ]
    },
    {
      "cell_type": "markdown",
      "metadata": {
        "id": "RXWZgcOUDa5T"
      },
      "source": [
        "You can see on above code that we are assigning three data attributes to the object: `name`, `age`, and `level`. `name` and `age` are assigned from the arguments that we passed when creating the object, while `level` is assigned with a default value of `\"Beginner\"`.\n",
        "\n",
        "`self` is a special keyword, that we'll learn in just a bit."
      ]
    },
    {
      "cell_type": "markdown",
      "metadata": {
        "id": "9onGAwL0Da5U"
      },
      "source": [
        "# Using instance methods\n",
        "\n",
        "Instance methods are methods that are defined inside a class, and can be used by the object of that class."
      ]
    },
    {
      "cell_type": "code",
      "execution_count": 3,
      "metadata": {
        "id": "LDoAH9mPDa5U",
        "outputId": "7b05e61e-40d2-45de-8a11-484633fcc9ef"
      },
      "outputs": [
        {
          "name": "stdout",
          "output_type": "stream",
          "text": [
            "Hello, my name is Alice!\n"
          ]
        }
      ],
      "source": [
        "class Person:\n",
        "    def __init__(self, name, age):\n",
        "        self.name = name\n",
        "        self.age = age\n",
        "        self.level = \"Beginner\"\n",
        "\n",
        "    def greet(self):\n",
        "        print(f\"Hello, my name is {self.name}!\")\n",
        "\n",
        "person = Person(\"Alice\", 18)\n",
        "person.greet()"
      ]
    },
    {
      "cell_type": "markdown",
      "metadata": {
        "id": "ufcsSBdWDa5U"
      },
      "source": [
        "# Mutating instance attributes\n",
        "\n",
        "Instance attributes can be mutated by two ways\n",
        "\n",
        "## Directly accessing the attribute on the object"
      ]
    },
    {
      "cell_type": "code",
      "execution_count": null,
      "metadata": {
        "id": "9IXBCOCBDa5U",
        "outputId": "e017d52d-e58f-4436-b0ca-c70c7e7baeea"
      },
      "outputs": [
        {
          "name": "stdout",
          "output_type": "stream",
          "text": [
            "18\n",
            "19\n"
          ]
        }
      ],
      "source": [
        "class Person:\n",
        "    def __init__(self, name, age):\n",
        "        self.name = name\n",
        "        self.age = age\n",
        "        self.level = \"Beginner\"\n",
        "\n",
        "person = Person(\"Alice\", 18)\n",
        "print(person.age)\n",
        "person.age = 19\n",
        "print(person.age)"
      ]
    },
    {
      "cell_type": "markdown",
      "metadata": {
        "id": "KwoeXOJqDa5U"
      },
      "source": [
        "## Mutating the attribute using a method"
      ]
    },
    {
      "cell_type": "code",
      "execution_count": 4,
      "metadata": {
        "id": "Pd2baYfDDa5U",
        "outputId": "36c4baa5-f39f-44ac-fcfb-eb6bc46f90e5"
      },
      "outputs": [
        {
          "name": "stdout",
          "output_type": "stream",
          "text": [
            "18\n",
            "19\n"
          ]
        }
      ],
      "source": [
        "class Person:\n",
        "    def __init__(self, name, age):\n",
        "        self.name = name\n",
        "        self.age = age\n",
        "        self.level = \"Beginner\"\n",
        "\n",
        "    def set_age(self, age):\n",
        "        self.age = age\n",
        "\n",
        "person = Person(\"Alice\", 18)\n",
        "print(person.age)\n",
        "person.set_age(19)\n",
        "print(person.age)"
      ]
    },
    {
      "cell_type": "markdown",
      "metadata": {
        "id": "pYQ1ucO3Da5V"
      },
      "source": [
        "# `self` keyword\n",
        "\n",
        "We've mentioned `self` keyword a couple of times now, but what is it? Basically `self` is a reference to the object itself. It is a special keyword that is used to access the \"current\" object's attributes and methods."
      ]
    },
    {
      "cell_type": "markdown",
      "metadata": {
        "id": "A2PGB6pPDa5V"
      },
      "source": [
        "# Two objects created from the same class are independent\n",
        "\n",
        "Two objects created from the same class are independent from each other. Mutating one object's attribute will not affect the other object's attribute."
      ]
    },
    {
      "cell_type": "code",
      "execution_count": null,
      "metadata": {
        "id": "MZIFgp1gDa5V"
      },
      "outputs": [],
      "source": [
        "class Person:\n",
        "    def __init__(self, name, age):\n",
        "        self.name = name\n",
        "        self.age = age\n",
        "        self.level = \"Beginner\"\n",
        "\n",
        "    def set_age(self, age):\n",
        "        self.age = age\n",
        "\n",
        "person = Person(\"Alice\", 18)\n",
        "person2 = Person(\"Bob\", 19)\n",
        "\n",
        "print(person.age)\n",
        "print(person2.age)\n",
        "\n",
        "person.set_age(19)\n",
        "person2.set_age(20)\n",
        "\n",
        "print(person.age)\n",
        "print(person2.age)"
      ]
    },
    {
      "cell_type": "markdown",
      "metadata": {
        "id": "_JDmX23oDa5V"
      },
      "source": [
        "# Exercise"
      ]
    },
    {
      "cell_type": "code",
      "execution_count": 6,
      "metadata": {
        "id": "pl5xUb7ADa5V"
      },
      "outputs": [
        {
          "name": "stdout",
          "output_type": "stream",
          "text": [
            "Requirement already satisfied: rggrader in /home/steve/.conda/envs/skill-academy-ml/lib/python3.10/site-packages (0.1.6)\n",
            "Requirement already satisfied: requests in /home/steve/.conda/envs/skill-academy-ml/lib/python3.10/site-packages (from rggrader) (2.31.0)\n",
            "Requirement already satisfied: pandas in /home/steve/.conda/envs/skill-academy-ml/lib/python3.10/site-packages (from rggrader) (2.1.4)\n",
            "Requirement already satisfied: Pillow in /home/steve/.conda/envs/skill-academy-ml/lib/python3.10/site-packages (from rggrader) (10.1.0)\n",
            "Requirement already satisfied: numpy<2,>=1.22.4 in /home/steve/.conda/envs/skill-academy-ml/lib/python3.10/site-packages (from pandas->rggrader) (1.26.2)\n",
            "Requirement already satisfied: python-dateutil>=2.8.2 in /home/steve/.conda/envs/skill-academy-ml/lib/python3.10/site-packages (from pandas->rggrader) (2.8.2)\n",
            "Requirement already satisfied: pytz>=2020.1 in /home/steve/.conda/envs/skill-academy-ml/lib/python3.10/site-packages (from pandas->rggrader) (2023.3.post1)\n",
            "Requirement already satisfied: tzdata>=2022.1 in /home/steve/.conda/envs/skill-academy-ml/lib/python3.10/site-packages (from pandas->rggrader) (2023.3)\n",
            "Requirement already satisfied: charset-normalizer<4,>=2 in /home/steve/.conda/envs/skill-academy-ml/lib/python3.10/site-packages (from requests->rggrader) (3.3.2)\n",
            "Requirement already satisfied: idna<4,>=2.5 in /home/steve/.conda/envs/skill-academy-ml/lib/python3.10/site-packages (from requests->rggrader) (3.6)\n",
            "Requirement already satisfied: urllib3<3,>=1.21.1 in /home/steve/.conda/envs/skill-academy-ml/lib/python3.10/site-packages (from requests->rggrader) (2.1.0)\n",
            "Requirement already satisfied: certifi>=2017.4.17 in /home/steve/.conda/envs/skill-academy-ml/lib/python3.10/site-packages (from requests->rggrader) (2023.11.17)\n",
            "Requirement already satisfied: six>=1.5 in /home/steve/.conda/envs/skill-academy-ml/lib/python3.10/site-packages (from python-dateutil>=2.8.2->pandas->rggrader) (1.16.0)\n"
          ]
        }
      ],
      "source": [
        "!pip install rggrader"
      ]
    },
    {
      "cell_type": "code",
      "execution_count": 7,
      "metadata": {
        "id": "aD-Cc9PLDa5V"
      },
      "outputs": [],
      "source": [
        "# @title #### Student Identity\n",
        "student_id = \"REA3X5EN\" # @param {type:\"string\"}\n",
        "name = \"Steven Adi Santoso\" # @param {type:\"string\"}"
      ]
    },
    {
      "cell_type": "code",
      "execution_count": 8,
      "metadata": {
        "id": "ddP6XsMpDa5V"
      },
      "outputs": [
        {
          "name": "stdout",
          "output_type": "stream",
          "text": [
            "['This car is a Toyota Corolla', 'Toyota says honk honk!', 'This car is a Ford Mustang', 'Ford says honk honk!']\n"
          ]
        },
        {
          "data": {
            "text/plain": [
              "'Assignment successfully submitted'"
            ]
          },
          "execution_count": 8,
          "metadata": {},
          "output_type": "execute_result"
        }
      ],
      "source": [
        "# @title #### 04. Automobile Dealership\n",
        "from rggrader import submit\n",
        "\n",
        "# In this assignment, you will implement classes in Python.\n",
        "\n",
        "# Here's the details of the task:\n",
        "# 1. Create a class named 'Car' having attributes 'manufacturer' and 'model'.\n",
        "# 2. The 'Car' class should have the following methods:\n",
        "#     a. `display_info`: This should return a string \"This car is a {manufacturer} {model}\". The placeholders correspond to the 'manufacturer' and 'model' respectively.\n",
        "#     b. `honk`: This should return a string \"{manufacturer} says honk honk!\". The placeholder corresponds to the 'manufacturer'.\n",
        "#     c. `set_car_info`: This should be a method to set a new 'manufacturer' and 'model' for the car.\n",
        "#\n",
        "# The initial creation of a Car object should take the 'manufacturer' and 'model' as arguments.\n",
        "# Here is an example of what your code should emulate:\n",
        "\n",
        "class Car():\n",
        "    def __init__(self, manufacturer, model):\n",
        "        self.manufacturer = manufacturer\n",
        "        self.model = model\n",
        "    \n",
        "    def display_info(self):\n",
        "        return f\"This car is a {self.manufacturer} {self.model}\"\n",
        "\n",
        "    def honk(self):\n",
        "        return f\"{self.manufacturer} says honk honk!\"\n",
        "\n",
        "    def set_car_info(self, manufacturer, model):\n",
        "        self.manufacturer = manufacturer\n",
        "        self.model = model\n",
        "\n",
        "\n",
        "my_car = Car(\"Toyota\", \"Corolla\")\n",
        "answer = []\n",
        "answer.append(my_car.display_info()) # This should add \"This car is a Toyota Corolla\" to the 'answer' list\n",
        "answer.append(my_car.honk()) # This should add \"Toyota says honk honk!\" to the 'answer' list\n",
        "my_car.set_car_info(\"Ford\", \"Mustang\")\n",
        "answer.append(my_car.display_info()) # This should add \"This car is a Ford Mustang\" to the 'answer' list\n",
        "answer.append(my_car.honk()) # This should add \"Ford says honk honk!\" to the 'answer' list\n",
        "\n",
        "print(answer)\n",
        "# Finally submit your answer\n",
        "assignment_id = \"04-classes\"\n",
        "question_id = \"04_automobile_dealership\"\n",
        "submit(student_id, name, assignment_id, str(answer), question_id)"
      ]
    }
  ],
  "metadata": {
    "celltoolbar": "Slideshow",
    "colab": {
      "provenance": []
    },
    "kernelspec": {
      "display_name": "Python 3 (ipykernel)",
      "language": "python",
      "name": "python3"
    },
    "language_info": {
      "codemirror_mode": {
        "name": "ipython",
        "version": 3
      },
      "file_extension": ".py",
      "mimetype": "text/x-python",
      "name": "python",
      "nbconvert_exporter": "python",
      "pygments_lexer": "ipython3",
      "version": "3.10.13"
    }
  },
  "nbformat": 4,
  "nbformat_minor": 0
}
