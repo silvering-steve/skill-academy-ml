{
 "cells": [
  {
   "cell_type": "markdown",
   "metadata": {
    "id": "St9PbPlxprzO"
   },
   "source": [
    "# Modules and Packages"
   ]
  },
  {
   "cell_type": "markdown",
   "metadata": {
    "id": "conBEJhVprzT"
   },
   "source": [
    "Modules and packages are useful for organization of Python code making our code clean, modular and easy to maintain."
   ]
  },
  {
   "cell_type": "markdown",
   "metadata": {
    "id": "eU2cBK0YprzU"
   },
   "source": [
    "## Python Modules\n",
    "\n",
    "In Python, a module is a file containing Python code, which can include functions, classes, or variables. Modules help us to organize and reuse our code effectively."
   ]
  },
  {
   "cell_type": "markdown",
   "metadata": {
    "id": "8BjqQ34eprzU"
   },
   "source": [
    ">Note: For the following examples, you need to create manually `mod.py` and the new file using your own code editor, simply copy and paste the code into two separate files."
   ]
  },
  {
   "cell_type": "markdown",
   "metadata": {
    "id": "sZQZEuinprzV"
   },
   "source": [
    "## Create a Module\n",
    "\n",
    "To create a module we simply write our Python code into a file and give it a name with `.py` extension, in this case we shall name it `mod.py`."
   ]
  },
  {
   "cell_type": "markdown",
   "metadata": {
    "id": "kWnfUV_SprzV"
   },
   "source": [
    "```python\n",
    "#mod.py\n",
    "s = \"I'm learning Python in order to become an AI engineer.\"\n",
    "a = [100, 200, 300]\n",
    "\n",
    "def foo(arg):\n",
    "    print(f'arg = {arg}')\n",
    "```"
   ]
  },
  {
   "cell_type": "markdown",
   "metadata": {
    "id": "RTJxdUagprzV"
   },
   "source": [
    "## Using Modules\n",
    "\n",
    "To use a module, we use the keyword `import`. After importing a module, you can use its functions and classes by using the module name followed by a dot, and then the function or class you want to use."
   ]
  },
  {
   "cell_type": "markdown",
   "metadata": {
    "id": "nKDCGZpEprzW"
   },
   "source": [
    "```python\n",
    "import mod\n",
    "print(mod.s)\n",
    "\n",
    "mod.a\n",
    "\n",
    "mod.foo(['quux', 'corge', 'grault'])\n",
    "```"
   ]
  },
  {
   "cell_type": "markdown",
   "metadata": {
    "id": "Hi5BxHXBprzX"
   },
   "source": [
    "## Package Management with pip\n",
    "\n",
    "\n",
    "`pip` is the package manager for Python, and it allows you to easily install, update, and remove packages. Packages are collections of modules that provide additional functionality. You can download packages from the Python Package Index (PyPI)."
   ]
  },
  {
   "cell_type": "markdown",
   "metadata": {
    "id": "mJCVx25MprzX"
   },
   "source": [
    "### Basic commands\n",
    "\n",
    "Here is a list of basic commands for package management with pip:\n",
    "\n",
    "- To install a package: `pip install package_name`\n",
    "- To update a package: `pip install --upgrade package_name`\n",
    "- To remove a package: `pip uninstall package_name`\n",
    "- To list installed packages: `pip list`"
   ]
  },
  {
   "cell_type": "markdown",
   "metadata": {
    "id": "dVPPt2QsprzY"
   },
   "source": [
    "### Requirements file\n",
    "\n",
    "A `requirements.txt` file helps you to manage package dependencies for your project. It lists the package names with their version numbers that your project depends on.\n",
    "\n",
    "You can create this file manually or generate it using `pip freeze > requirements.txt`."
   ]
  },
  {
   "cell_type": "markdown",
   "metadata": {
    "id": "VPUL4bl2przY"
   },
   "source": [
    "The file should list one package per line\n",
    "\n",
    "```txt\n",
    "numpy==1.21.2\n",
    "pandas==1.3.3\n",
    "matplotlib==3.4.3\n",
    "```\n",
    "\n",
    "Use the `pip install -r requirements.txt` command to update the installed packages according to the new `requirements.txt` file."
   ]
  },
  {
   "cell_type": "markdown",
   "metadata": {
    "id": "N2xD6LNxprzY"
   },
   "source": [
    "## Using Modules from Packages\n",
    "\n",
    "First, we need to install the packages using `pip`:\n",
    "\n",
    "```shell\n",
    "pip install pandas numpy\n",
    "```\n",
    "\n",
    "Then, you can import a module in your Python script using the `import` statement."
   ]
  },
  {
   "cell_type": "code",
   "execution_count": 1,
   "metadata": {
    "id": "of9YXkOQprzY",
    "ExecuteTime": {
     "end_time": "2023-12-12T08:40:55.103840900Z",
     "start_time": "2023-12-12T08:40:54.567538900Z"
    }
   },
   "outputs": [
    {
     "name": "stdout",
     "output_type": "stream",
     "text": [
      "Mean Age: 32.5\n",
      "Total Salary: 230000\n",
      "      Name  Age  Salary  Salary_with_bonus\n",
      "0    Alice   25   50000            55000.0\n",
      "1      Bob   30   55000            60500.0\n",
      "2  Charlie   35   60000            66000.0\n",
      "3    David   40   65000            71500.0\n"
     ]
    }
   ],
   "source": [
    "import pandas as pd\n",
    "import numpy as np\n",
    "\n",
    "# Create a simple dataset\n",
    "data = {\n",
    "    'Name': ['Alice', 'Bob', 'Charlie', 'David'],\n",
    "    'Age': [25, 30, 35, 40],\n",
    "    'Salary': [50000, 55000, 60000, 65000]\n",
    "}\n",
    "\n",
    "# Convert the dataset to a pandas DataFrame\n",
    "df = pd.DataFrame(data)\n",
    "\n",
    "# Calculate the mean of the Age column using numpy\n",
    "mean_age = np.mean(df['Age'])\n",
    "print(f'Mean Age: {mean_age}')\n",
    "\n",
    "# Calculate the sum of the Salary column using pandas\n",
    "total_salary = df['Salary'].sum()\n",
    "print(f'Total Salary: {total_salary}')\n",
    "\n",
    "# Add a new column named 'Salary_with_bonus' to the DataFrame\n",
    "df['Salary_with_bonus'] = df['Salary'] * 1.1\n",
    "print(df)"
   ]
  },
  {
   "cell_type": "markdown",
   "metadata": {
    "id": "ssTyl_PUprza"
   },
   "source": [
    "## Exercise Modules and Packages"
   ]
  },
  {
   "cell_type": "code",
   "execution_count": null,
   "metadata": {
    "id": "MWriUzmkprza"
   },
   "outputs": [],
   "source": [
    "!pip install rggrader"
   ]
  },
  {
   "cell_type": "code",
   "execution_count": 2,
   "metadata": {
    "id": "ziDCdNpgprza",
    "ExecuteTime": {
     "end_time": "2023-12-12T08:41:05.536421700Z",
     "start_time": "2023-12-12T08:41:05.513213900Z"
    }
   },
   "outputs": [],
   "source": [
    "# @title #### Student Identity\n",
    "student_id = \"REA3X5EN\" # @param {type:\"string\"}\n",
    "name = \"Steven Adi Santoso\" # @param {type:\"string\"}"
   ]
  },
  {
   "cell_type": "code",
   "execution_count": 4,
   "metadata": {
    "id": "IuEkhWCPprza",
    "ExecuteTime": {
     "end_time": "2023-12-12T08:41:30.630162500Z",
     "start_time": "2023-12-12T08:41:29.955949400Z"
    }
   },
   "outputs": [
    {
     "name": "stdout",
     "output_type": "stream",
     "text": [
      "3.0\n"
     ]
    },
    {
     "data": {
      "text/plain": "'Assignment successfully submitted'"
     },
     "execution_count": 4,
     "metadata": {},
     "output_type": "execute_result"
    }
   ],
   "source": [
    "# @title #### 00. Install and Use a Package\n",
    "from rggrader import submit\n",
    "\n",
    "# TODO:\n",
    "# 1. Import the numpy package with alias \"np\". Note: you do not need to install numpy using pip in this context, assume it is already installed.\n",
    "# 2. Use numpy's function that can calculate the average of the list [1, 2, 3, 4, 5] and assign the output to a variable named 'average'.\n",
    "\n",
    "\n",
    "# Put your code here:\n",
    "average = np.mean([1, 2, 3, 4, 5])\n",
    "\n",
    "print(average)\n",
    "# ---- End of your code ----\n",
    "\n",
    "# Do not modify the code below. It is used to submit your solution.\n",
    "assignment_id = \"05-modules-and-packages\"\n",
    "question_id = \"00_install_use_package\"\n",
    "submit(student_id, name, assignment_id, str(average), question_id)\n",
    "\n",
    "# Example:\n",
    "# Package: numpy with alias \"np\"\n",
    "# Function: Calculate the sum of the list [10, 20, 30, 40, 50]\n",
    "# Output: 150"
   ]
  },
  {
   "cell_type": "code",
   "execution_count": 6,
   "metadata": {
    "id": "WYd-Y-H_prza",
    "ExecuteTime": {
     "end_time": "2023-12-12T09:27:09.991345600Z",
     "start_time": "2023-12-12T09:27:09.299625800Z"
    }
   },
   "outputs": [
    {
     "name": "stdout",
     "output_type": "stream",
     "text": [
      "1.4142135623730951\n"
     ]
    },
    {
     "data": {
      "text/plain": "'Assignment successfully submitted'"
     },
     "execution_count": 6,
     "metadata": {},
     "output_type": "execute_result"
    }
   ],
   "source": [
    "# @title #### 01. Standard Deviation of list elements\n",
    "from rggrader import submit\n",
    "\n",
    "# TODO:\n",
    "# 1. Import numpy package with alias \"np\".\n",
    "# 2. Use numpy's function that can calculate the standard deviation of elements in the list [1, 2, 3, 4, 5] and assign the output to a variable named 'std_dev'.\n",
    "\n",
    "\n",
    "# Put your code here:\n",
    "std_dev = np.std([1, 2, 3, 4, 5])\n",
    "\n",
    "print(std_dev)\n",
    "\n",
    "# ---- End of your code ----\n",
    "\n",
    "# Do not modify the code below. It is used to submit your solution.\n",
    "assignment_id = \"05-modules-and-packages\"\n",
    "question_id = \"02_std_dev_of_list\"\n",
    "submit(student_id, name, assignment_id, str(std_dev), question_id)\n",
    "\n",
    "# Example:\n",
    "# Package: numpy with alias \"np\"\n",
    "# Function: Calculate the standard deviation of the list [10, 20, 30, 40, 50]\n",
    "# Output: 14.142136"
   ]
  },
  {
   "cell_type": "code",
   "execution_count": 7,
   "metadata": {
    "id": "w03IQO-1przb",
    "ExecuteTime": {
     "end_time": "2023-12-12T09:27:34.972869100Z",
     "start_time": "2023-12-12T09:27:34.237837800Z"
    }
   },
   "outputs": [
    {
     "name": "stdout",
     "output_type": "stream",
     "text": [
      "      Name  Age\n",
      "0     Anna   21\n",
      "1      Bob   25\n",
      "2  Charlie   30\n"
     ]
    },
    {
     "data": {
      "text/plain": "'Assignment successfully submitted'"
     },
     "execution_count": 7,
     "metadata": {},
     "output_type": "execute_result"
    }
   ],
   "source": [
    "# @title #### 02. Create a DataFrame using pandas\n",
    "from rggrader import submit\n",
    "\n",
    "# TODO:\n",
    "# 1. Import pandas package with alias \"pd\".\n",
    "# 2. Use pandas DataFrame constructor to create a DataFrame from the dictionary: {\"Name\": [\"Anna\", \"Bob\", \"Charlie\"], \"Age\": [21, 25, 30]}.\n",
    "#    Assign the output to a variable named 'df'.\n",
    "\n",
    "\n",
    "# Put your code here:\n",
    "df = pd.DataFrame({\"Name\": [\"Anna\", \"Bob\", \"Charlie\"], \"Age\": [21, 25, 30]})\n",
    "\n",
    "print(df)\n",
    "\n",
    "# ---- End of your code ----\n",
    "\n",
    "# Do not modify the code below. It is used to submit your solution.\n",
    "assignment_id = \"05-modules-and-packages\"\n",
    "question_id = \"03_create_dataframe\"\n",
    "submit(student_id, name, assignment_id, df.to_string(), question_id)\n",
    "\n",
    "# Example:\n",
    "# Package: pandas with alias \"pd\"\n",
    "# Function: Create a DataFrame from the dictionary: {\"Country\": [\"Finland\", \"Sweden\", \"Norway\"], \"Population\": [5.5, 10.4, 5.4]}\n",
    "# Output:\n",
    "#    Country  |  Population\n",
    "#    Finland  |  5.5\n",
    "#    Sweden   |  10.4\n",
    "#    Norway   |  5.4"
   ]
  }
 ],
 "metadata": {
  "celltoolbar": "Slideshow",
  "kernelspec": {
   "display_name": "Python 3 (ipykernel)",
   "language": "python",
   "name": "python3"
  },
  "language_info": {
   "codemirror_mode": {
    "name": "ipython",
    "version": 3
   },
   "file_extension": ".py",
   "mimetype": "text/x-python",
   "name": "python",
   "nbconvert_exporter": "python",
   "pygments_lexer": "ipython3",
   "version": "3.11.3"
  },
  "colab": {
   "provenance": []
  }
 },
 "nbformat": 4,
 "nbformat_minor": 0
}
