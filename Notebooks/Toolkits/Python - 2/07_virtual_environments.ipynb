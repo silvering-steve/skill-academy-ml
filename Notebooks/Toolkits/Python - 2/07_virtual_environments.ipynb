{
  "cells": [
    {
      "cell_type": "markdown",
      "metadata": {
        "id": "9XLkBFaNp_Tw"
      },
      "source": [
        "# Virtual Environments"
      ]
    },
    {
      "cell_type": "markdown",
      "metadata": {
        "id": "tO8ipzQGp_T0"
      },
      "source": [
        "## Creating and Managing Virtual Environments\n",
        "\n",
        "Creating and managing virtual environments in Python is essential when working with multiple projects, as it allows you to maintain isolated environments for each project, preventing conflicts between package versions."
      ]
    },
    {
      "cell_type": "markdown",
      "metadata": {
        "id": "yTvVTZVCp_T0"
      },
      "source": [
        "### Creating a Virtual Environment\n",
        "\n",
        "To create a virtual environment, you can use Python's built-in `venv` module for Python 3.3+ or `virtualenv` package for earlier versions of Python."
      ]
    },
    {
      "cell_type": "markdown",
      "metadata": {
        "id": "225QyK9Jp_T1"
      },
      "source": [
        "Now, let's create a new virtual environment called `my_venv`"
      ]
    },
    {
      "cell_type": "markdown",
      "metadata": {
        "id": "Px64duGzp_T1"
      },
      "source": [
        "- Using venv for Python 3.3+\n",
        "\n",
        "    ```shell\n",
        "    python -m venv my_venv\n",
        "    ```"
      ]
    },
    {
      "cell_type": "markdown",
      "metadata": {
        "id": "s-wmxZDRp_T2"
      },
      "source": [
        "- Using `virtualenv` for earlier versions\n",
        "\n",
        "    ```shell\n",
        "    virtualenv my_venv\n",
        "    ```"
      ]
    },
    {
      "cell_type": "markdown",
      "metadata": {
        "id": "BJ_qGU6Tp_T2"
      },
      "source": [
        "### Activating the Virtual Environment\n",
        "\n",
        "Activate the virtual environment to modify the current shell environment variables and ensure that the appropriate Python interpreter and packages are used"
      ]
    },
    {
      "cell_type": "markdown",
      "metadata": {
        "id": "ndfEstzLp_T3"
      },
      "source": [
        "- On Windows\n",
        "\n",
        "    ```shell\n",
        "    my_venv\\Scripts\\activate\n",
        "    ```"
      ]
    },
    {
      "cell_type": "markdown",
      "metadata": {
        "id": "v3lEyDj8p_T3"
      },
      "source": [
        "- On macOS/Linux\n",
        "\n",
        "    ```shell\n",
        "    source my_venv/bin/activate\n",
        "    ```"
      ]
    },
    {
      "cell_type": "markdown",
      "metadata": {
        "id": "GV7BSh07p_T4"
      },
      "source": [
        "After activation, the command prompt should change to show the virtual environment's name (in this case, `my_venv`)."
      ]
    },
    {
      "cell_type": "markdown",
      "metadata": {
        "id": "ZVJVzvI5p_T4"
      },
      "source": [
        "### Package management\n",
        "\n",
        "Once a virtual environment is activated, you can use `pip` to install packages specifically for that environment. These packages won't affect the global Python interpreter or any other virtual environments."
      ]
    },
    {
      "cell_type": "markdown",
      "metadata": {
        "id": "hCEz8SiSp_T4"
      },
      "source": [
        "For example, let's install the `numpy`, `pandas`, `matplotlib` package:\n",
        "\n",
        "```shell\n",
        "pip install numpy pandas matplotlib\n",
        "```\n",
        "\n",
        "Now, the `numpy`, `pandas`, `matplotlib` package is installed only in the my_venv virtual environment and won't affect the global Python interpreter or any other virtual environments."
      ]
    },
    {
      "cell_type": "markdown",
      "metadata": {
        "id": "G-49xfhfp_T4"
      },
      "source": [
        "### Deactivating the Virtual Environment\n",
        "\n",
        "When you're done working with the virtual environment, deactivate it by running the following command:\n",
        "\n",
        "```shell\n",
        "deactivate\n",
        "```\n",
        "\n",
        "This returns you back to the global Python interpreter."
      ]
    },
    {
      "cell_type": "markdown",
      "metadata": {
        "id": "KGnFs5hep_T5"
      },
      "source": [
        "## Using Virtual Environments for Projects\n",
        "\n",
        "Using virtual environments for projects in Python offers several key benefits that enhance the development, maintenance, and collaboration aspects of the projects."
      ]
    },
    {
      "cell_type": "markdown",
      "metadata": {
        "id": "W_0JAztVp_T5"
      },
      "source": [
        "### Isolated dependencies\n",
        "\n",
        "Virtual environments enable each project to have its own isolated dependencies, preventing conflicts between package versions. This way, upgrading or downgrading a package for one project won't impact any other projects or the global Python installation."
      ]
    },
    {
      "cell_type": "markdown",
      "metadata": {
        "id": "SbPolWUPp_T5"
      },
      "source": [
        "### Reproducibility\n",
        "\n",
        "Virtual environments facilitate the process of reproducing your project on other machines or sharing it with collaborators. When working with a virtual environment, you can easily generate a list of the project's dependencies and later install those dependencies in another virtual environment with `pip install -r requirements.txt`."
      ]
    },
    {
      "cell_type": "markdown",
      "metadata": {
        "id": "8fcJv4ukp_T5"
      },
      "source": [
        "### Consistency\n",
        "\n",
        "By using virtual environments, you can maintain a consistent development environment across your team, as everyone will use the same Python interpreter and package versions specified in the project's virtual environment. This reduces the risk of discrepancies between development environments that could lead to inconsistent behavior."
      ]
    },
    {
      "cell_type": "markdown",
      "metadata": {
        "id": "jgGozZV5p_T5"
      },
      "source": [
        "### Easier debugging & testing\n",
        "\n",
        "By testing your code in an isolated environment with specific package versions, you can more accurately identify issues and avoid unexpected runtime errors. Virtual environments make it easier to test different configurations or package versions without affecting other projects or the global Python installation."
      ]
    },
    {
      "cell_type": "markdown",
      "metadata": {
        "id": "14rrrfxrp_T5"
      },
      "source": [
        "### Simplified deployment\n",
        "\n",
        "Deploying a project with a virtual environment simplifies the process of setting up dependencies on the target machine, reducing the risk of version mismatch issues. Virtual environments help ensure your project runs with the correct package versions during deployment."
      ]
    },
    {
      "cell_type": "markdown",
      "metadata": {
        "id": "PFAoq-GBp_T6"
      },
      "source": [
        "### Summary\n",
        "\n",
        "Here are some advantages of using a virtual environment for Python projects:\n",
        "- Helps maintain project-specific dependencies\n",
        "- Improve reproducibility\n",
        "- Provide a consistent development environment\n",
        "- Simplify debugging and testing processes\n",
        "- Simplify deployment."
      ]
    }
  ],
  "metadata": {
    "celltoolbar": "Slideshow",
    "kernelspec": {
      "display_name": "Python 3 (ipykernel)",
      "language": "python",
      "name": "python3"
    },
    "language_info": {
      "codemirror_mode": {
        "name": "ipython",
        "version": 3
      },
      "file_extension": ".py",
      "mimetype": "text/x-python",
      "name": "python",
      "nbconvert_exporter": "python",
      "pygments_lexer": "ipython3",
      "version": "3.11.3"
    },
    "colab": {
      "provenance": []
    }
  },
  "nbformat": 4,
  "nbformat_minor": 0
}