{
 "cells": [
  {
   "cell_type": "markdown",
   "metadata": {
    "id": "oWwV7b5Yp0oU"
   },
   "source": [
    "# Working with Files"
   ]
  },
  {
   "cell_type": "markdown",
   "metadata": {
    "id": "THH2MUlFp0oY"
   },
   "source": [
    "Python provides built-in function to handle file manipulation from creating, reading to writing."
   ]
  },
  {
   "cell_type": "markdown",
   "metadata": {
    "id": "kswbmBQzp0oY"
   },
   "source": [
    "## Reading Text Files\n",
    "\n",
    "To read a text file in Python, you can use the built-in `open()` function with the desired file path and mode. The most common modes are:\n",
    "\n",
    "- `'r'`: read (default mode)\n",
    "- `'w'`: write\n",
    "- `'a'`: append\n",
    "- `'x'`: create (and write)"
   ]
  },
  {
   "cell_type": "markdown",
   "metadata": {
    "id": "3q72MPJFp0oZ"
   },
   "source": [
    "Here's an example of reading a text file:"
   ]
  },
  {
   "cell_type": "markdown",
   "metadata": {
    "id": "Cb3ZVYMvp0oZ"
   },
   "source": [
    "```python\n",
    "with open('file.txt', 'r') as file:\n",
    "    data = file.read()\n",
    "    print(data)\n",
    "```"
   ]
  },
  {
   "cell_type": "markdown",
   "metadata": {
    "id": "oCdRjmMZp0oa"
   },
   "source": [
    "## Writing Text Files\n",
    "\n",
    "To write data to a text file, you can use the `open()` function with the `'w'` (write) or `'a'`(append) mode."
   ]
  },
  {
   "cell_type": "markdown",
   "metadata": {
    "id": "wQleT96mp0oa"
   },
   "source": [
    "In this example, we write data to a file:"
   ]
  },
  {
   "cell_type": "markdown",
   "metadata": {
    "id": "t8ZeFtK-p0ob"
   },
   "source": [
    "```python\n",
    "data = \"This is a text file.\"\n",
    "\n",
    "with open('file.txt', 'w') as file:\n",
    "    file.write(data)\n",
    "```"
   ]
  },
  {
   "cell_type": "markdown",
   "metadata": {
    "id": "_idEb2hxp0ob"
   },
   "source": [
    "## Example"
   ]
  },
  {
   "cell_type": "markdown",
   "metadata": {
    "id": "csnkqQpPp0oc"
   },
   "source": [
    "Suppose you have a CSV file with user data that needs to be cleaned and transformed before being saved into a new file. The CSV file has the following columns: user_id, name, email, and age."
   ]
  },
  {
   "cell_type": "markdown",
   "metadata": {
    "id": "NsXTNVBPp0oc"
   },
   "source": [
    "```csv\n",
    "user_id,name,email,age\n",
    "1,John Doe,johndoe@example.com,32\n",
    "2,Jane Smith,janesmith@example.com,28\n",
    "3,James Brown,jamesbrown@example.com,55\n",
    "```"
   ]
  },
  {
   "cell_type": "markdown",
   "metadata": {
    "id": "6uPdxF5ep0oc"
   },
   "source": [
    "The following Python script reads the CSV file, removes all users aged below 30, and saves the new data into another file. We'll use the build-in module `csv`."
   ]
  },
  {
   "cell_type": "markdown",
   "metadata": {
    "id": "AEK0ectVp0oc"
   },
   "source": [
    "```python\n",
    "import csv\n",
    "\n",
    "input_file = 'users.csv'\n",
    "output_file = 'filtered_users.csv'\n",
    "\n",
    "with open(input_file, 'r') as infile, open(output_file, 'w', newline='') as outfile:\n",
    "    csv_reader = csv.DictReader(infile)\n",
    "    fieldnames = csv_reader.fieldnames\n",
    "\n",
    "    csv_writer = csv.DictWriter(outfile, fieldnames=fieldnames)\n",
    "    csv_writer.writeheader()\n",
    "\n",
    "    for row in csv_reader:\n",
    "        if int(row['age']) >= 30:\n",
    "            csv_writer.writerow(row)\n",
    "```"
   ]
  },
  {
   "cell_type": "markdown",
   "metadata": {
    "id": "yGls0sLPp0od"
   },
   "source": [
    "## Exercise Working with Files"
   ]
  },
  {
   "cell_type": "code",
   "execution_count": 1,
   "metadata": {
    "id": "-uw4L90zp0od",
    "ExecuteTime": {
     "end_time": "2023-12-12T09:27:55.180116900Z",
     "start_time": "2023-12-12T09:27:52.937363200Z"
    }
   },
   "outputs": [
    {
     "name": "stdout",
     "output_type": "stream",
     "text": [
      "Requirement already satisfied: rggrader in c:\\users\\silve\\conda\\envs\\skill-academy-ml\\lib\\site-packages (0.1.6)\n",
      "Requirement already satisfied: requests in c:\\users\\silve\\conda\\envs\\skill-academy-ml\\lib\\site-packages (from rggrader) (2.31.0)\n",
      "Requirement already satisfied: pandas in c:\\users\\silve\\conda\\envs\\skill-academy-ml\\lib\\site-packages (from rggrader) (2.1.3)\n",
      "Requirement already satisfied: Pillow in c:\\users\\silve\\conda\\envs\\skill-academy-ml\\lib\\site-packages (from rggrader) (10.1.0)\n",
      "Requirement already satisfied: numpy<2,>=1.22.4 in c:\\users\\silve\\conda\\envs\\skill-academy-ml\\lib\\site-packages (from pandas->rggrader) (1.26.2)\n",
      "Requirement already satisfied: python-dateutil>=2.8.2 in c:\\users\\silve\\conda\\envs\\skill-academy-ml\\lib\\site-packages (from pandas->rggrader) (2.8.2)\n",
      "Requirement already satisfied: pytz>=2020.1 in c:\\users\\silve\\conda\\envs\\skill-academy-ml\\lib\\site-packages (from pandas->rggrader) (2023.3.post1)\n",
      "Requirement already satisfied: tzdata>=2022.1 in c:\\users\\silve\\conda\\envs\\skill-academy-ml\\lib\\site-packages (from pandas->rggrader) (2023.3)\n",
      "Requirement already satisfied: charset-normalizer<4,>=2 in c:\\users\\silve\\conda\\envs\\skill-academy-ml\\lib\\site-packages (from requests->rggrader) (3.3.2)\n",
      "Requirement already satisfied: idna<4,>=2.5 in c:\\users\\silve\\conda\\envs\\skill-academy-ml\\lib\\site-packages (from requests->rggrader) (3.6)\n",
      "Requirement already satisfied: urllib3<3,>=1.21.1 in c:\\users\\silve\\conda\\envs\\skill-academy-ml\\lib\\site-packages (from requests->rggrader) (2.1.0)\n",
      "Requirement already satisfied: certifi>=2017.4.17 in c:\\users\\silve\\conda\\envs\\skill-academy-ml\\lib\\site-packages (from requests->rggrader) (2023.11.17)\n",
      "Requirement already satisfied: six>=1.5 in c:\\users\\silve\\conda\\envs\\skill-academy-ml\\lib\\site-packages (from python-dateutil>=2.8.2->pandas->rggrader) (1.16.0)\n"
     ]
    }
   ],
   "source": [
    "!pip install rggrader"
   ]
  },
  {
   "cell_type": "code",
   "execution_count": 2,
   "metadata": {
    "id": "zY_SFP4Sp0oe",
    "ExecuteTime": {
     "end_time": "2023-12-12T09:27:55.223896800Z",
     "start_time": "2023-12-12T09:27:55.181115100Z"
    }
   },
   "outputs": [],
   "source": [
    "# @title #### Student Identity\n",
    "student_id = \"REA3X5EN\" # @param {type:\"string\"}\n",
    "name = \"Steven Adi Santoso\" # @param {type:\"string\"}"
   ]
  },
  {
   "cell_type": "code",
   "execution_count": 3,
   "metadata": {
    "id": "lORVYvm5p0oe",
    "ExecuteTime": {
     "end_time": "2023-12-12T09:29:17.472228500Z",
     "start_time": "2023-12-12T09:29:16.133818900Z"
    }
   },
   "outputs": [
    {
     "data": {
      "text/plain": "'Assignment successfully submitted'"
     },
     "execution_count": 3,
     "metadata": {},
     "output_type": "execute_result"
    }
   ],
   "source": [
    "# @title #### 00. Read File\n",
    "from rggrader import submit\n",
    "\n",
    "# TODO:\n",
    "# 1. In Google Colab, navigate to the left sidebar and click on the file folder icon 📁. Create a new text file named 'output.txt' by right clicking in the file panel and selecting 'New File'.\n",
    "# 2. Assume that you need to write the string \"Hello, OpenAI!\" to 'output.txt'.\n",
    "# 3. Write a Python code that opens 'output.txt' in write mode and writes this string to the file.\n",
    "# 4. Assign the string \"Hello, OpenAI!\" to a variable named 'content'.\n",
    "\n",
    "# Note: This exercise is for demonstrating that you know the appropriate Python code for writing to a file. The actual file writing won't occur.\n",
    "\n",
    "# Put your code here:\n",
    "file_content = \"Hello, OpenAI!\"\n",
    "\n",
    "\n",
    "# ---- End of your code ----\n",
    "\n",
    "\n",
    "# Do not modify the code below. It is used to submit your solution.\n",
    "assignment_id = \"06-working-with-files\"\n",
    "question_id = \"00_read_file\"\n",
    "submit(student_id, name, assignment_id, file_content, question_id)\n",
    "\n",
    "# Example:\n",
    "# Assume File: 'data.txt'\n",
    "# Content: \"Data Science with OpenAI\"\n",
    "# Output: After reading and stripping, the content should be \"Data Science with OpenAI\""
   ]
  }
 ],
 "metadata": {
  "celltoolbar": "Slideshow",
  "kernelspec": {
   "display_name": "Python 3 (ipykernel)",
   "language": "python",
   "name": "python3"
  },
  "language_info": {
   "codemirror_mode": {
    "name": "ipython",
    "version": 3
   },
   "file_extension": ".py",
   "mimetype": "text/x-python",
   "name": "python",
   "nbconvert_exporter": "python",
   "pygments_lexer": "ipython3",
   "version": "3.11.3"
  },
  "colab": {
   "provenance": []
  }
 },
 "nbformat": 4,
 "nbformat_minor": 0
}
