{
  "cells": [
    {
      "cell_type": "markdown",
      "metadata": {
        "id": "OxxZQyqcWjZ6"
      },
      "source": [
        "# Git Introduction\n",
        "\n",
        "![Git Introduction](https://storage.googleapis.com/rg-ai-bootcamp/toolkits/git-intro-min.png)"
      ]
    },
    {
      "cell_type": "markdown",
      "metadata": {
        "id": "njzwyP9iWjZ9"
      },
      "source": [
        "## What is Git?\n",
        "\n",
        "Git is a distributed _Version Control System_ (VCS) for managing _files_ in _folders_ **(Repository/Repo)**. The _file_ change history is saved using a series of **commits**.\n",
        "\n",
        "By using Git we can make several changed versions of a _file_ without duplicating the existing _file_ or **Save As**. For example, in programming, we create a _login_ feature. Usually, we will create the program _file_ in the 📁 login folder and the _folder_ is in the repository:\n",
        "\n",
        "- 📁 applications (repositories)\n",
        "   - ⬇🔵: \"feat: initialize project\" (commit)\n",
        "   - ⬇🔵: \"feat: added view for login and register\" (commit)\n",
        "   - ⬇🔵: \"feat: create controller user\" (commit)\n",
        "   - ⬇🔵: \"fix: fix error in email input format\" (commit)\n",
        "   - ⬇🔴⟼ _Peek at saved information:_\n",
        "     - **Commit:** 6bebc5658521d98f3eeadb42362e43bc072f0273\n",
        "     - **Author:** User <example@gmail.com>\n",
        "     - **Date:** Tue Jun 28 2022 18:53:48 GMT+0700 (Western Indonesia Time)\n",
        "     - **Messages:** feat: create authentication and authorization models\n",
        "   - ⬇🔵: ...\n",
        "   - 📁 login\n",
        "\n",
        "It can be seen that the login _folder_ has been monitored and changes are saved as **a series of commits** (`commit`) by Git as changes/revisions are made. A series of `commits` is a version of each change that occurred (`snapshot`). If we open one of the `commit` points, we will see some important information when we make changes to each version, namely:\n",
        "\n",
        "- **Commit**: hash/ID as a marker for each `commit` so that it can be tracked.\n",
        "- **Author**: the person who did the `commit` (this will be useful when we work with a team).\n",
        "- **Date**: time of `commit`\n",
        "- **Messages**: messages from each `commit`, this is very important because it will tell you what has been done in each `commit`\n",
        "\n",
        "Here are some things that differentiate Git from other VCS:"
      ]
    },
    {
      "cell_type": "markdown",
      "metadata": {
        "id": "tLaSN4QNWjZ-"
      },
      "source": [
        "## Snapshots, Not Differences\n",
        "\n",
        "Conceptually, most VCS save a set of changes **file-based** or what is usually referred to as **delta-based** version control\n",
        "\n",
        "![Deltas](https://storage.googleapis.com/rg-ai-bootcamp/toolkits/deltas.png)\n",
        "\n",
        "Deltas (Source: [git-scm.com](https://git-scm.com/book/en/v2/images/deltas.png))\n",
        "\n",
        "However, Git does not store its data this way. Git treats its data as a series of **snapshots**. So, every time you commit a project, Git will take a snapshot of all files and save it. If the _file_ has not changed, Git will not save the _file_ again, it will only link to a _file_ that is identical to the previous _file_ it saved. This will create a **snapshot stream**. So doing one `commit` means we create one **snapshot**\n",
        "\n",
        "![Snapshots](https://storage.googleapis.com/rg-ai-bootcamp/toolkits/snapshots.png)\n",
        "\n",
        "Snapshots (Source: [git-scm.com](https://git-scm.com/book/en/v2/images/snapshots.png))\n",
        "\n",
        "This is an important difference between Git and other VCS. This makes Git more like a mini _file_ system with some _tools_ rather than just a regular VCS."
      ]
    },
    {
      "cell_type": "markdown",
      "metadata": {
        "id": "vgCZvUOVWjZ-"
      },
      "source": [
        "## Nearly Every Operation Is Local\n",
        "\n",
        "Git has the entire project history on _local disk_, this makes most operations in Git very fast. How did it happen? 😲\n",
        "\n",
        "For example, to browse the _history_ (history) of changes from a project, Git does not need to go to the _server_ to get the _history_ and display it, Git simply reads it directly from the _local database_. This means seeing the _history_ of the project almost instantly.\n",
        "\n",
        "The interesting thing is that **a lot can be done offline**. For example, when we get on a plane or train and want to do a little work, we can commit (`commit`) easily until we get an internet connection and upload it to the _server_."
      ]
    },
    {
      "cell_type": "markdown",
      "metadata": {
        "id": "ua_ivnDwWjZ-"
      },
      "source": [
        "## Git Has Integrity\n",
        "\n",
        "<!-- describes Git integrity that always knows what was changed -->\n",
        "\n",
        "We will not lose any information during _transit_ or get _file corruption_ without being detected by Git because the mechanism Git uses for _checksumming_ is _hash_ **SHA-1**. This is a 40-character string consisting of hexadecimal characters **(0–9 and a–f)** and is calculated based on the contents of a _file_ or directory structure in Git. Hash example:\n",
        "\n",
        "```bash\n",
        "24b9da6552252987aa493b52f8696cd6d3b00373\n",
        "```\n",
        "\n",
        "We'll see this _hash_ value all over the place in Git. Git stores everything in its database based on its _hash_ value."
      ]
    },
    {
      "cell_type": "markdown",
      "metadata": {
        "id": "VyjYlYeAWjZ_"
      },
      "source": [
        "## Git Generally Only Adds Data\n",
        "\n",
        "When doing activities in Git, almost everything is just adding data to the Git _database_. Like any VCS, Git can lose or break uncommitted changes, but once you commit them to Git, it's very difficult to lose them, especially if you regularly upload them to a repository on a server, such as Github. or **Gitlab**."
      ]
    },
    {
      "cell_type": "markdown",
      "metadata": {
        "id": "KENAi98zWjZ_"
      },
      "source": [
        "## The Three States\n",
        "\n",
        "The main thing to remember is that Git has **3** states where _files_ are: **modified**, **staged**, and **committed**:\n",
        "\n",
        "- **Modified** means we change (add, edit, delete) _file_, but it has not been saved permanently to the repository\n",
        "- **Staged** means that we mark the modifications we make to _file_ to be saved permanently to the repository\n",
        "- **Committed** means the data is safe and stored in the repository\n",
        "\n",
        "This brings us to the three main parts of a Git project: **Working tree**, **Staging area**, and **Git directory**.\n",
        "\n",
        "![Areas](https://storage.googleapis.com/rg-ai-bootcamp/toolkits/areas.png)\n",
        "Areas (Source: [git-scm.com](https://git-scm.com/book/en/v2/images/areas.png))"
      ]
    },
    {
      "cell_type": "markdown",
      "metadata": {
        "id": "SP4VN61OWjZ_"
      },
      "source": [
        "## Install Git\n",
        "\n",
        "### Mac And Linux\n",
        "\n",
        "For Mac and various Linux distros, Git is usually installed automatically. You can check this by running `git --version` in the _terminal_.\n",
        "\n",
        "If you don't find Git on your Linux distro, please check [this] link (https://git-scm.com/download/linux) for the installation guide according to the distro you are using.\n",
        "\n",
        "### Windows\n",
        "\n",
        "For Windows, you can install Git by downloading the installation [here](https://git-scm.com/download/win).\n",
        "\n",
        "After installing you can use _Git Bash_ or _Command Line Window_ to use Git."
      ]
    },
    {
      "cell_type": "markdown",
      "metadata": {
        "id": "zpLd9cJbWjZ_"
      },
      "source": [
        "## Basic Config\n",
        "\n",
        "### First-Time Git Setup\n",
        "\n",
        "After the Git installation is complete, we can do several things to adjust the _environment_ in Git. This _tool_ is called `git config` which allows us to set variable configurations (_setting_) for all aspects of the appearance and operation of Git. Among them:\n",
        "\n",
        "- `~/.gitconfig` file: This is specific only to the user in question. We can make Git read and write to this _file_ specifically by providing the `--global` option.\n",
        "\n",
        "- _config file_ in the git directory (`.git/config`) or whatever repository is being used: This is specific to that repository only. Each _config_ at the level closest to the code (_source code_) will always override the _config_ that has been set at the upper level.\n",
        "\n",
        "We can see all the _settings_ and where they come from using the command:\n",
        "\n",
        "```terminal\n",
        "[user@localhost]$ git config --list --show-origin\n",
        "```\n",
        "\n",
        "### Git global setup\n",
        "\n",
        "The first thing to do after installing Git is to set up a **username** and **email address**. This is important because every _commit_ with Git will use this information.\n",
        "\n",
        "```terminal\n",
        "[user@localhost]$ git config --global user.name \"Aditira Jamhuri\"\n",
        "[user@localhost]$ git config --global user.email \"aditirajamhuri@gmail.com\"\n",
        "```\n",
        "\n",
        "### Editors\n",
        "\n",
        "Now that the identity is set, we can configure the **default text editor** to use when Git needs it. If not configured, Git will use the _default editor_. If we want to use a different text editor, such as VSCode, we can do the command:\n",
        "\n",
        "```terminal\n",
        "[user@localhost]$ git config --global core.editor \"code --wait\"\n",
        "```\n",
        "\n",
        "More details for _settings_ _text editor_ are [here](https://git-scm.com/book/en/v2/Appendix-C%3A-Git-Commands-Setup-and-Config#ch_core_editor)\n",
        "\n",
        "### Default branch name\n",
        "\n",
        "By default, Git will create a _branch_ named `master` when we create a new repository with `git init`. From Git version 2.28 onwards, we can set a different initial _branch_ name. For example, we can change the initial _branch_ name to `main`:\n",
        "\n",
        "```terminal\n",
        "[user@localhost]$ git config --global init.defaultBranch main\n",
        "```\n",
        "\n",
        "### Checking Your Settings\n",
        "\n",
        "If we want to check _settings_, we can use the `git config --list` command to see a list of all existing settings:\n",
        "\n",
        "```terminal\n",
        "[user@localhost]$ git config --list\n",
        "user.name=Aditira\n",
        "user.email=aditirajamhuri@gmail.com\n",
        "color. status=auto\n",
        "color. branch=auto\n",
        "color.interactive=auto\n",
        "color. diff=auto\n",
        "...\n",
        "```\n",
        "\n",
        "We can also see _value_ with certain keywords, by typing `git config <key>`, for example:\n",
        "\n",
        "```terminal\n",
        "[user@localhost]$ git config user.name\n",
        "Aditya\n",
        "```"
      ]
    }
  ],
  "metadata": {
    "kernelspec": {
      "display_name": "Python 3 (ipykernel)",
      "language": "python",
      "name": "python3"
    },
    "language_info": {
      "codemirror_mode": {
        "name": "ipython",
        "version": 3
      },
      "file_extension": ".py",
      "mimetype": "text/x-python",
      "name": "python",
      "nbconvert_exporter": "python",
      "pygments_lexer": "ipython3",
      "version": "3.11.5"
    },
    "colab": {
      "provenance": []
    }
  },
  "nbformat": 4,
  "nbformat_minor": 0
}