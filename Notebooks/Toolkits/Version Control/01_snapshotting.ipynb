{
  "cells": [
    {
      "cell_type": "markdown",
      "metadata": {
        "id": "pbiEmX_UaYjy"
      },
      "source": [
        "# Snapshotting"
      ]
    },
    {
      "cell_type": "markdown",
      "metadata": {
        "id": "lP-q_dCLaYj0"
      },
      "source": [
        "## Introduction To Git Snapshots\n",
        "\n",
        "We learned earlier that Git uses the _snapshot_ method which will capture the situation and conditions of the repository when we save changes using Git commands.\n",
        "\n",
        "With the _snapshot_ method, Git will only save changes that occur in both _files_ and _folders_ into _snapshot_ at that time. Meanwhile, _files_ and _folders_ that have not changed will be saved as references to the previous _snapshot_.\n",
        "\n",
        "Let's learn together how a Git _snapshot_ is created:\n",
        "\n",
        "> Note: Before running the Git command below, make sure it is in the Git _repository_, if not, then use the `git init` command first."
      ]
    },
    {
      "cell_type": "markdown",
      "metadata": {
        "id": "EcNegV5QaYj1"
      },
      "source": [
        "## File stages in Git\n",
        "\n",
        "![Working, staging and commit](https://storage.googleapis.com/rg-ai-bootcamp/toolkits/wd-sd-commit-min.gif)\n",
        "\n",
        "Working, staging and commit (Source: [axosoft.com](https://blog.axosoft.com/wp-content/uploads/2019/11/wd-sd-commit.gif))\n",
        "\n",
        "The files in a Git repository will exist in **three different stages**:\n",
        "\n",
        "- **Not staged**: The _folder_ we are working on now is called the **working directory**. When we create or change a _file_ in the _working directory_, the _file_ is **not staged**. When we work on a task, there will be _files_ that we change or that we leave as is. Now for the _file_ that we changed, to save it into Git, we need to move it to the _staging area_.\n",
        "- **Staged**: The **staged** process will select which _file_ we want to 'commit' later. When the files have been collected, we can save them and move them to the committed stage with the `git commit` command.\n",
        "- **Committed**: The series of `commits` becomes the history of our _project_ from start to finish, each `commit` can be seen in the `git log` and with it we can see the entire history of our _project_ from the start of our git repository."
      ]
    },
    {
      "cell_type": "markdown",
      "metadata": {
        "id": "MGSQqzGvaYj2"
      },
      "source": [
        "## Commands to check current repository status and history\n",
        "\n",
        "The Git commands that are very useful for viewing the status of the repository that we are working on and often use are:\n",
        "\n",
        "- `git status`: displays the state of the **working directory** and **staging area** so we can see which files are _not staged_ and which are _staged_. More details [here](https://www.cs.swarthmore.edu/git/git-status.php)\n",
        "\n",
        "- `git log`: displays committed **commits**. More details [here](https://www.javatpoint.com/git-log)\n",
        "\n",
        "To see Git Snapshot in practice, watch the following video:\n",
        "\n",
        "[![Introduction Github Snapshot](http://img.youtube.com/vi/Pn-YsfxfSd8/0.jpg)](http://www.youtube.com/watch?v=Pn-YsfxfSd8 \"Introduction Github Snapshot\")"
      ]
    },
    {
      "cell_type": "markdown",
      "metadata": {
        "id": "19l-oNdkaYj2"
      },
      "source": [
        "## Add\n",
        "\n",
        "![Git add visualization](https://storage.googleapis.com/rg-ai-bootcamp/toolkits/git-add-min.gif)\n",
        "\n",
        "Git add visualization (Source: [img-bc.icode.best](https://img-bc.icode.best/img_convert/41e54e0d7ffa167ea14a1462f0b9e459.gif))\n",
        "\n",
        "The `git add` command functions to add **new files** or **changed files** in the _working directory_ to the _staging area_"
      ]
    },
    {
      "cell_type": "markdown",
      "metadata": {
        "id": "lHuHHEL1aYj2"
      },
      "source": [
        "### How to Use `git add`\n",
        "\n",
        "Common usage and options for `git add`\n",
        "\n",
        "- `git add <file>`: Adds the specified _file_\n",
        "     ```shell\n",
        "     > git add file1.txt\n",
        "     ```\n",
        "\n",
        "- `git add .`: Adds all _files_\n",
        "     ```shell\n",
        "     > git add .\n",
        "     ```\n",
        "\n",
        "We can see the other `git add` options with `tldr git add` or `git add -h`\n",
        "\n",
        "The safest way to use `git add` is to designate a specific _file_ or directory that we want to add to the _staging area_. Example:\n",
        "\n",
        "- `git add login/`: Adds all changes to _files_ inside _folder_ **login**\n",
        "- `git add README.md`: Adds all changes to the README.md _file_"
      ]
    },
    {
      "cell_type": "markdown",
      "metadata": {
        "id": "pgqCWyLBaYj2"
      },
      "source": [
        "### `git add` All Files\n",
        "\n",
        "If we want to add to the staging area **all files**, there are several commands that can be used, namely:\n",
        "\n",
        "| Command | New Files | Modified Files | Deleted Files | Description |\n",
        "|:--------:|:-------:|:------------:|:-----------:|:--------------------------------------------------------------:|\n",
        "| git add . | ✔️ | ✔️ | ✔️ | Adds all _files_ recursively in the current _folder_ |\n",
        "| git add -u | ❌ | ✔️ | ✔️ | Adds all _files_ that have previously been tracked in Git. |\n",
        "\n",
        "Source: [stackoverflow.com](https://stackoverflow.com/questions/572549/difference-between-git-add-a-and-git-add?rq=1)\n",
        "\n",
        "Saving all _files_ to the _staging area_ has several risks, namely:\n",
        "\n",
        "- Creating a `commit` that is too large may contain changes that have nothing to do with what is being done.\n",
        "- There may be _files_ containing sensitive information that we accidentally `committed` such as _password_, _token_, etc.\n",
        "\n",
        "We can prevent the possibility of the 2 points above by ensuring that each `commit` only contains related changes and match the description of its _commit_."
      ]
    },
    {
      "cell_type": "markdown",
      "metadata": {
        "id": "L7cSWJbKaYj3"
      },
      "source": [
        "### Undo Added Files\n",
        "\n",
        "For example, we have _files_ `hello.txt` and `world.txt` in _repository_ and we have added both to the **staging area**\n",
        "\n",
        "```shell\n",
        "> git status\n",
        "On branch main\n",
        "\n",
        "No commits yet\n",
        "\n",
        "Changes to be committed:\n",
        "   (use \"git rm --cached <file>...\" to unstage)\n",
        "         new file: hello.txt\n",
        "         new file: world.txt\n",
        "```\n",
        "\n",
        "Then we do the `git reset` command on _file_ hello.txt to return it to **working directory**\n",
        "\n",
        "```shell\n",
        "> git reset hello.txt\n",
        "> git status\n",
        "On branch main\n",
        "\n",
        "No commits yet\n",
        "\n",
        "Changes to be committed:\n",
        "   (use \"git rm --cached <file>...\" to unstage)\n",
        "         new file: world.txt\n",
        "\n",
        "Untracked files:\n",
        "   (use \"git add <file>...\" to include in what will be committed)\n",
        "         hello.txt\n",
        "```\n",
        "\n",
        "So we can see that the _file_ `hello.txt` has moved to the **working directory**. If we do `git commit`, only `world.txt` will be committed. In this way, we can ensure that the _files_ that are committed are only the _files_ that we want."
      ]
    },
    {
      "cell_type": "markdown",
      "metadata": {
        "id": "yoJNRiUBaYj4"
      },
      "source": [
        "## Commit\n",
        "\n",
        "![Git Commit Flow](https://storage.googleapis.com/rg-ai-bootcamp/toolkits/git-commit-flow-min.png)\n",
        "\n",
        "Git Commit Flow (Source: [cspsprotocol.com](https://www.cspsprotocol.com/wp-content/uploads/2020/05/GIT-Commit-Flow.png))"
      ]
    },
    {
      "cell_type": "markdown",
      "metadata": {
        "id": "AlJkSWgNaYj4"
      },
      "source": [
        "### How to use `git commit`\n",
        "\n",
        "The `git commit` command functions to save and move **files** in the _staging area_ to the _committed stage_.\n",
        "\n",
        "When saving we are required to provide a _commit message_ which contains a record of the changes that occurred in the _file_ or collection of _files_ that we _committed_."
      ]
    },
    {
      "cell_type": "markdown",
      "metadata": {
        "id": "jMGyMsH6aYj4"
      },
      "source": [
        "### Commit Message Best Practice\n",
        "\n",
        "_Commit message_ must be short and describe the changes made. Why should so? Because when looking at the history of the _project_, we will be guided by the _commit message_, so that the _commit message_ ideally tells a story from the beginning of the history of our _project_ to the end.\n",
        "\n",
        "The _Commit message_ must be in **present tense** and **explain clearly & concisely the changes made**. We can also add [semantic commit message](https://gist.github.com/joshbuchea/6f47e86d2510bce28f8e7f42ae84c716) so that each `commit` _message_ has its own category (_feat: feature_, _fix_: fix, _docs_: addition of document) as in the following example :\n",
        "\n",
        "- `git commit -m \"feat: create file structure for Git guides\"`\n",
        "- `git commit -m \"fix: translate Git cheat sheet into German\"`\n",
        "- `git commit -m \"docs: update broken URL to Git resources\"`\n",
        "\n",
        "By ensuring our _commit message_ can be read easily, we'll be able to _rollback_ (restore the status of our _project_) to any _commit_."
      ]
    },
    {
      "cell_type": "markdown",
      "metadata": {
        "id": "buVO97UuaYj4"
      },
      "source": [
        "### Checkout\n",
        "\n",
        "The `git checkout` command is a command that is often used, one of which is to move between `commits` so that we can review the contents of a particular `commit`.\n",
        "\n",
        "Let's say we have a repository that has several `commits` and we do a `checkout` to one of the `commits`.\n",
        "\n",
        "With the command `git log --oneline` it will display `commit` per line and have a short output in the form of the first seven characters of the `commit` id (example: `7ba2a60`) and `commit` message. Use the `commit` id to switch `commit`:\n",
        "\n",
        "![Graph commit 1](https://storage.googleapis.com/rg-ai-bootcamp/toolkits/graph-commit-1-min.png)\n",
        "\n",
        "```bash\n",
        "> git log --oneline\n",
        "c21091a6 (HEAD -> master) docs: add note to snapshot and git add\n",
        "e2eea3ae docs: add ideation\n",
        "> git checkout e2eea3ae\n",
        "> git log --oneline\n",
        "d82c536 (HEAD) docs: add ideation\n",
        "```\n",
        "\n",
        "![Graph commit 2](https://storage.googleapis.com/rg-ai-bootcamp/toolkits/graph-commit-2-min.png)\n",
        "\n",
        "So it can be seen that by doing `checkout` we can move to `commit` with id `d82c536`. If we want to get back to work after seeing the contents of this commit, we can run the command: `git checkout -`\n",
        "\n",
        "```bash\n",
        "> git checkout -\n",
        "> git log --oneline\n",
        "7ba2a60 (HEAD -> master) docs: add note to snapshot and git add\n",
        "d82c536 docs: add ideation\n",
        "```\n",
        "\n",
        "![Graph commit 1](https://storage.googleapis.com/rg-ai-bootcamp/toolkits/graph-commit-1-min.png)\n",
        "\n",
        "So, it can be seen that `commit` has moved to the previous position."
      ]
    },
    {
      "cell_type": "markdown",
      "metadata": {
        "id": "sK-q_mXPaYj5"
      },
      "source": [
        "### How To Undo A Commit With `git revert`\n",
        "\n",
        "`git revert` is the highly recommended and safest way to undo a commit.\n",
        "\n",
        "```bash\n",
        "> git log --oneline\n",
        "47d87b4 (HEAD -> master) docs: minor typo fix\n",
        "c21091a docs: add note to snapshot and git add\n",
        "e2eea3a docs: add ideation\n",
        "```\n",
        "\n",
        "For example, if we want to _undo_ `commit` \"docs: add note to snapshot and git add\", we can do the following command:\n",
        "\n",
        "```bash\n",
        "> git revert c21091a\n",
        "```\n",
        "\n",
        "`git revert` will create a new _commit_ whose contents are the opposite (_inverse_) of the _commit_ we want to _undo_. If we call `git log` again:\n",
        "\n",
        "```bash\n",
        "> git log --oneline\n",
        "562560e (HEAD -> master) Revert \"docs: add note to snapshot and git add\"\n",
        "47d87b4 docs: minor typo fix\n",
        "c21091a docs: add note to snapshot and git add\n",
        "e2eea3a docs: add ideation\n",
        "```\n",
        "\n",
        "![Graph commit 3](https://storage.googleapis.com/rg-ai-bootcamp/toolkits/graph-commit-3-min.png)\n",
        "\n",
        "Then `git revert` will become a new `commit` which will undo all the changes we have made previously:\n",
        "\n",
        "- If we have added _files_, `git revert` will remove them\n",
        "- If we make changes to a _file_ the changes will be cancelled\n",
        "- If we delete a _file_, `git revert` will add it back.\n",
        "\n",
        "![Git revert](https://storage.googleapis.com/rg-ai-bootcamp/toolkits/git-revert-min.gif)\n",
        "\n",
        "Git revert (Source: [cloudinary.com](https://res.cloudinary.com/practicaldev/image/fetch/s--eckmvr2M--/c_limit%2Cf_auto%2Cfl_progressive%2Cq_66%2Cw_880/https://dev-to-uploads.s3.amazonaws.com/i/3kkd2ahn41zixs12xgpf.gif))"
      ]
    },
    {
      "cell_type": "markdown",
      "metadata": {
        "id": "3QXV5nebaYj5"
      },
      "source": [
        "### Updating Commits With Git Commit Amend\n",
        "\n",
        "For example, we have done a _commit_ and we realize that there was an error in the _commit_ (whether we forgot to edit a few lines of the file or gave the wrong _commit message_) we can do `git commit --amend`, where the entire file is _staging_ will now be put in the previous _commit_.\n",
        "\n",
        "> Warning: do not do `git commit --amend` if the previous _commit_ has already been `push`"
      ]
    },
    {
      "cell_type": "markdown",
      "metadata": {
        "id": "1ZlUmUTFaYj5"
      },
      "source": [
        "## `git rm`\n",
        "\n",
        "There are 2 ways to use `git rm`:\n",
        "\n",
        "- Used to delete _files_ from the _staging area_ and _working directory_\n",
        "- Used to cancel (delete) _file_ from _staging area_ back to _working directory_. You could say this is the opposite of the `git add` command.\n",
        "\n",
        "Here we will focus on the second use, namely canceling the _file_ from the _staging area_ back to the _working directory_. For that we will use `git rm --cached`."
      ]
    },
    {
      "cell_type": "markdown",
      "metadata": {
        "id": "t7mEb4onaYj5"
      },
      "source": [
        "### How to use `git rm` for staged files\n",
        "\n",
        "We use the `git rm --cached` command to move a file from _staging_ to _working directory_. For example, we have a _file_ named `hello.txt` which is already in the **staging area**.\n",
        "\n",
        "```shell\n",
        "[user@localhost]$ git status\n",
        "On branchmaster\n",
        "No commits yet\n",
        "Changes to be committed:\n",
        "   (use \"git rm --cached <file>...\" to unstage)\n",
        "         new file: hello.txt\n",
        "```\n",
        "\n",
        "So we can move _file_ `hello.txt` from **staging area** to **working directory** without deleting it from _file system_ by:\n",
        "\n",
        "```shell\n",
        "[user@localhost]$ git rm hello.txt --cached\n",
        "rm 'hello.txt'\n",
        "[user@localhost]$ git status\n",
        "On branch main\n",
        "No commits yet\n",
        "Untracked files:\n",
        "   (use \"git add <file>...\" to include in what will be committed)\n",
        "         hello.txt\n",
        "nothing added to commit but untracked files present (use \"git add\" to track)\n",
        "```\n",
        "\n",
        "So it can be seen that the _file_ `hello.txt` is no longer in the **staging area** but has moved to the **working directory**.\n",
        "\n",
        "> Note: Remember to use the `--cached` option. Without the `--cached` option, the file will be deleted from the staging area and working directory."
      ]
    },
    {
      "cell_type": "markdown",
      "metadata": {
        "id": "rjCENbCYaYj5"
      },
      "source": [
        "## `git diff`"
      ]
    },
    {
      "cell_type": "markdown",
      "metadata": {
        "id": "agyFcd-jaYj5"
      },
      "source": [
        "### What is git diff?\n",
        "\n",
        "`git diff` is used to inspect changes we make when working on a Git repository. The way it works is to compare the _file_ in the _working directory_ with the file in the _commit_ in the repository."
      ]
    },
    {
      "cell_type": "markdown",
      "metadata": {
        "id": "T7fqWGD3aYj6"
      },
      "source": [
        "#### Examples\n",
        "\n",
        "We add a _file_ in the initialized _repository_ to try `git diff`\n",
        "\n",
        "```bash\n",
        "> touch diff_test.txt\n",
        "> echo \"this is a git diff test example\" > diff_test.txt\n",
        "> git add diff_test.txt\n",
        "> git commit -am \"add diff test file\"\n",
        "[main (root-commit) 6f77fc3] add diff test file\n",
        "1 file changed, 1 insertion(+)\n",
        "create mode 100644 diff_test.txt\n",
        "```\n",
        "\n",
        "For example, now we change all the contents of the _file_ **diff_test.txt**.\n",
        "\n",
        "```bash\n",
        "> echo \"this is a diff example\" > diff_test.txt\n",
        "```\n",
        "\n",
        "By executing `git diff`, we will compare the changes just committed (changing the contents of _file_ `diff_test.txt`) with the previous _commit_, which will produce the following output:\n",
        "\n",
        "```bash\n",
        "> git diff\n",
        "diff --git a/diff_test.txt b/diff_test.txt\n",
        "index 6b0c6cf..b37e70a 100644\n",
        "--- a/diff_test.txt\n",
        "+++ b/diff_test.txt\n",
        "@@ -1 +1 @@\n",
        "-this is a git diff test example\n",
        "+this is a different example\n",
        "```\n",
        "\n",
        "The following is an explanation of the output above:\n",
        "\n",
        "1. _Comparison input_\n",
        "\n",
        "    ```bash\n",
        "    diff --git a/diff_test.txt b/diff_test.txt\n",
        "    ```\n",
        "\n",
        "    `a/diff_test.txt` is the _file_ in the commit that we are comparing with the _file_ in the _working directory_, which is written here as `b/diff_test.txt`.\n",
        "\n",
        "2. Markers for changes\n",
        "\n",
        "    ```bash\n",
        "    --- a/diff_test.txt\n",
        "    +++ b/diff_test.txt\n",
        "    ```\n",
        "\n",
        "    These lines are the symbols assigned to each _input source_. Changes from `a/diff_test.txt` are marked with the symbol `---` and changes from `b/diff_test.txt` are marked with the symbol `+++`.\n",
        "\n",
        "3. Diff content\n",
        "\n",
        "    ```bash\n",
        "    -this is a git diff test example\n",
        "    +this is a different example\n",
        "    ```\n",
        "\n",
        "    * The `-` sign indicates that this line is deleted and does not exist in the file currently in the _working directory_.\n",
        "    * The `+` sign indicates that this line was added in the current file and is not present in the file we _committed_ to the repository.\n",
        "\n",
        "    If the `-` sign and the `+` sign are close together, this usually indicates that a replacement has occurred in that line. In the example above, the line `this is a git diff test example` is replaced with `this is a diff example`. And that's what we do in this example."
      ]
    }
  ],
  "metadata": {
    "kernelspec": {
      "display_name": "Python 3 (ipykernel)",
      "language": "python",
      "name": "python3"
    },
    "language_info": {
      "codemirror_mode": {
        "name": "ipython",
        "version": 3
      },
      "file_extension": ".py",
      "mimetype": "text/x-python",
      "name": "python",
      "nbconvert_exporter": "python",
      "pygments_lexer": "ipython3",
      "version": "3.11.5"
    },
    "colab": {
      "provenance": []
    }
  },
  "nbformat": 4,
  "nbformat_minor": 0
}