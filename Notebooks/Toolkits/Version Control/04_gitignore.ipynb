{
  "cells": [
    {
      "cell_type": "markdown",
      "metadata": {
        "id": "kbXBrIJECJ6W"
      },
      "source": [
        "# `.gitignore`\n",
        "\n",
        "![theme](https://storage.googleapis.com/rg-ai-bootcamp/toolkits/git-ignore-min.jpg)\n",
        "Git Ignore (Source: [wpforthewin.com](https://wpforthewin.com/wp-content/uploads/2018/06/Forget-Gitignored-Files-1024x576.jpg))"
      ]
    },
    {
      "cell_type": "markdown",
      "metadata": {
        "id": "3-d2J7CtCJ6b"
      },
      "source": [
        "## What is `.gitignore`?\n",
        "\n",
        "When sharing our code with others, there are often _files_ or parts of the project that we don't want to share. Or it could also be that the _file_ is not suitable for tracking in Git (such as _binary files_)\n",
        "\n",
        "Common examples are:\n",
        "\n",
        "- Log files\n",
        "- Databases\n",
        "- Temporary files\n",
        "- Hidden files\n",
        "- Personal files\n",
        "- etc\n",
        "\n",
        "Git can determine which _files_ or parts of a project should be ignored by Git using _file_ `.gitignore`. Git will not track the _files_ and _folders_ specified in `.gitignore` but the `.gitignore` files themselves will be tracked by Git."
      ]
    },
    {
      "cell_type": "markdown",
      "metadata": {
        "id": "FiF_sTBxCJ6c"
      },
      "source": [
        "## Rules when using .gitignore\n",
        "\n",
        "Here are some general rules for pattern matching in `.gitignore` files:\n",
        "\n",
        "| Pattern | Explanation | Example |\n",
        "|:-------:|-----|-----------------|\n",
        "| name | All _file_ names and _folder_ names in any _folder_ | /name.log **or** /name/file.txt **or** /lib/name.log |\n",
        "| name/ | `names` ending with `/` will determine the pattern for _folder_. This matches all _files_ and _folders_ within the _folder_ name | /name/file.txt **or** /name/log/name.log **does not match:** /name.log |\n",
        "| \\*.file | All _files_ with the extension .file | /name.file **or** /lib/name.file |\n",
        "\n",
        "To see more complete rules for `.gitignore`, you can see [here](https://www.w3schools.com/git/git_ignore.asp?remote=github#:~:text=Git%20can%20specify%20which%20files,gitignore%20)"
      ]
    },
    {
      "cell_type": "markdown",
      "metadata": {
        "id": "nXp_ojDSCJ6c"
      },
      "source": [
        "## Example of `.gitignore`\n",
        "\n",
        "To create a `.gitignore` file, go to the _root_ of the Git _repository_ and create the _file_:\n",
        "\n",
        "Linux or Mac:\n",
        "\n",
        "```shell\n",
        "touch .gitignore\n",
        "```\n",
        "\n",
        "Windows:\n",
        "\n",
        "```shell\n",
        "type nul > .gitignore\n",
        "```\n",
        "\n",
        "Now open the _file_ using the _text editor_ and we can add two simple **rules**:\n",
        "\n",
        "- Ignore any files with `.log` extension\n",
        "- Ignore everything in any directory/_folder_ named `temp`\n",
        "\n",
        "The following are the contents of the _file_ `.gitignore` by implementing the rules above (the text after the `#` is a comment):\n",
        "\n",
        "```shell\n",
        "# Ignore ALL .log files\n",
        "*.log\n",
        "\n",
        "# Ignore ALL files in ANY directory named temp\n",
        "temp/\n",
        "```\n",
        "\n",
        "Now all `.log` _files_ and anything in the `temp` _folder_ will be ignored by Git.\n",
        "\n",
        "> Note: Here, we are using a single `.gitignore` that applies to the entire repository.\n",
        "\n",
        "It is also possible to have additional `.gitignore` files in subdirectories. This will only apply to _files_ or _folders_ in that directory, for example:\n",
        "\n",
        "![sample .gitignore](https://storage.googleapis.com/rg-ai-bootcamp/toolkits/gitignore-sub-directory-min.png)\n",
        "\n",
        "Explanation of the image above:\n",
        "\n",
        "- Note that `.gitignore` is in a **sub-directory** not in the _root repository_ and it has a rule for Git to ignore _files_ `documentation.md` and `sub-documentation.md`.\n",
        "\n",
        "- When we do `git status` we see that _file_ `documentation.md` and _folder_ `sub-directory/` are still tracked. Remember that Git will track `.gitignore` files.\n",
        "\n",
        "- But if you pay attention there is something strange, you can see that the _file_ `documentation.md` is still being tracked by Git. This should not happen because we have already registered it in the `.gitignore` _file_. Why could that happen?\n",
        "\n",
        "- This proves that `.gitignore` in **sub-directory** only affects the _files_ inside it, while outside the _folder_ it will have no effect.\n",
        "\n",
        "For more details, you can watch the following video:\n",
        "\n",
        "[![Example .gitignore](http://img.youtube.com/vi/IABAxrQhj_A/1.jpg)](http://www.youtube.com/watch?v=IABAxrQhj_A \"Example .gitignore\")"
      ]
    }
  ],
  "metadata": {
    "kernelspec": {
      "display_name": "Python 3 (ipykernel)",
      "language": "python",
      "name": "python3"
    },
    "language_info": {
      "codemirror_mode": {
        "name": "ipython",
        "version": 3
      },
      "file_extension": ".py",
      "mimetype": "text/x-python",
      "name": "python",
      "nbconvert_exporter": "python",
      "pygments_lexer": "ipython3",
      "version": "3.11.5"
    },
    "colab": {
      "provenance": []
    }
  },
  "nbformat": 4,
  "nbformat_minor": 0
}