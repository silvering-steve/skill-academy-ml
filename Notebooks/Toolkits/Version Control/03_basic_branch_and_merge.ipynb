{
  "cells": [
    {
      "cell_type": "markdown",
      "metadata": {
        "id": "Sgqg7GmQ-Wv1"
      },
      "source": [
        "# Basic branch and merge\n",
        "\n",
        "![Git Branch](https://storage.googleapis.com/rg-ai-bootcamp/toolkits/git-branch-theme-min.png)\n",
        "\n",
        "Git Branch (source: [sitepoint.com](https://uploads.sitepoint.com/wp-content/uploads/2019/06/155993572204-gitflow.png))"
      ]
    },
    {
      "cell_type": "markdown",
      "metadata": {
        "id": "NSk0EiMG-Wv6"
      },
      "source": [
        "## Branch concept\n",
        "\n",
        "When we create a new _repository_, a main _branch_ will automatically be created which we can see by running `git status`.\n",
        "\n",
        "```shell\n",
        "> git init\n",
        "> git status\n",
        "\n",
        "On branch master\n",
        "\n",
        "No commits yet\n",
        "\n",
        "nothing to commit (create/copy files and use \"git add\" to track)\n",
        "```\n",
        "\n",
        "In this example we see that the main _branch_ that is automatically created after `git init` is _branch_ `master`.\n",
        "\n",
        "By creating a new _branch_ while we are in the main _branch_, we will automatically have all the previous _commits_ in the _branch_ `master`, with which we can create various _commits_ that are **independent** from those in `master`, and in the future, we can **merge all commits again** using the merging concept.\n",
        "\n",
        "With the ability to separate from the main _branch_, and later combine it again, we can create a feature individually first before we decide to put it on the main _branch_."
      ]
    },
    {
      "cell_type": "markdown",
      "metadata": {
        "id": "8pz8EtUX-Wv7"
      },
      "source": [
        "## Creating a New Branch\n",
        "\n",
        "Before creating a new _branch_, we try adding a _commit_ first so that later we can study the `git log`.\n",
        "\n",
        "```sh\n",
        "> git add .\n",
        "> git commit -m \"Adding authentication\"\n",
        "[master (root-commit) c0e5bfa] Adding authentication\n",
        "  1 file changed, 1 insertion(+)\n",
        "  create mode 100644 auth.sh\n",
        "> git log\n",
        "commit c0e5bfa0259090c4919b5604c86bbd1e5fa45eaa (HEAD -> master)\n",
        "Author: Imam Assidiqqi <imam.assidiqqi@ruangguru.com>\n",
        "Date: Tue Aug 2 14:14:22 2022 +0700\n",
        "\n",
        "     Adding authentication\n",
        "```\n",
        "\n",
        "Next we will learn how to create a new _branch_. We do this with the command `git checkout -b <branch name>`, where this _command_ will create a new _branch_, and we automatically `checkout` that _branch_:\n",
        "\n",
        "```bash\n",
        "> git branch\n",
        "*master\n",
        "> git checkout -b fix-authentication-bug\n",
        "Switched to a new branch 'fix-authentication-bug'\n",
        "> git branch\n",
        "* fix-authentication-bug\n",
        "   masters\n",
        "```\n",
        "\n",
        "We see that we have a new _branch_, which if we compare it to the `master` _branch_, will have the same _history_ as the existing _history_ in `master`.\n",
        "\n",
        "```bash\n",
        "> git log\n",
        "commit c0e5bfa0259090c4919b5604c86bbd1e5fa45eaa (HEAD -> fix-authentication-bug, master)\n",
        "Author: Imam Assidiqqi <imam.assidiqqi@ruangguru.com>\n",
        "Date: Tue Aug 2 14:14:22 2022 +0700\n",
        "\n",
        "     Adding authentication\n",
        "\n",
        "> git log master\n",
        "commit c0e5bfa0259090c4919b5604c86bbd1e5fa45eaa (HEAD -> fix-authentication-bug, master)\n",
        "Author: Imam Assidiqqi <imam.assidiqqi@ruangguru.com>\n",
        "Date: Tue Aug 2 14:14:22 2022 +0700\n",
        "\n",
        "     Adding authentication\n",
        "```\n",
        "\n",
        "Now we add a new _commit_ in this _branch_.\n",
        "\n",
        "```bash\n",
        "> git add .\n",
        "> git commit -m \"Fixing bug in auth\"\n",
        "> git log\n",
        "commit c2507da9d997be98873c14095205dbc430078874 (HEAD -> fix-authentication-bug)\n",
        "Author: Imam Assidiqqi <imam.assidiqqi@ruangguru.com>\n",
        "Date: Tue Aug 2 14:21:46 2022 +0700\n",
        "\n",
        "     Fixed bug in auth\n",
        "\n",
        "commit c0e5bfa0259090c4919b5604c86bbd1e5fa45eaa (master)\n",
        "Author: Imam Assidiqqi <imam.assidiqqi@ruangguru.com>\n",
        "Date: Tue Aug 2 14:14:22 2022 +0700\n",
        "\n",
        "     Adding authentication\n",
        "\n",
        "> git log master\n",
        "commit c0e5bfa0259090c4919b5604c86bbd1e5fa45eaa (master)\n",
        "Author: Imam Assidiqqi <imam.assidiqqi@ruangguru.com>\n",
        "Date: Tue Aug 2 14:14:22 2022 +0700\n",
        "\n",
        "     Adding authentication\n",
        "```\n",
        "\n",
        "So it can be seen that `fix-authentication-bug` will have one _commit_ different from `master`.\n",
        "\n",
        "Then we can also conclude above that `HEAD` is a position that points to the branch we are in now."
      ]
    },
    {
      "cell_type": "markdown",
      "metadata": {
        "id": "JhKKaAjh-Wv8"
      },
      "source": [
        "## How To Move Between Branches & Merging\n",
        "\n",
        "_Merging_ is the process of bringing together _commits_ from two different _branches_. A common example is when we want to merge the `master` _branch_ with the _branch_ containing the new feature we are working on.\n",
        "\n",
        "_Merging_ can be done by running `git merge <name of branch to be merged>`.\n",
        "\n",
        "To merge the repository that we have previously worked on above, we need to first enter the branch that we will merge with with `git checkout master`, then run `git merge fix-authentication-bug`.\n",
        "\n",
        "```bash\n",
        "> git branch\n",
        "* fix-authentication-bug\n",
        "   masters\n",
        "\n",
        "> git checkout master\n",
        "Switched to branch 'master'\n",
        "\n",
        "> git merge fix-authentication-bug\n",
        "Updating c0e5bfa..c2507da\n",
        "Fast forward\n",
        "  auth.sh | 1+\n",
        "  1 file changed, 1 insertion(+)\n",
        "\n",
        "> git log\n",
        "commit c2507da9d997be98873c14095205dbc430078874 (HEAD -> master, fix-authentication-bug)\n",
        "Author: Imam Assidiqqi <imam.assidiqqi@ruangguru.com>\n",
        "Date: Tue Aug 2 14:21:46 2022 +0700\n",
        "\n",
        "     Fixed bug in auth\n",
        "\n",
        "commit c0e5bfa0259090c4919b5604c86bbd1e5fa45eaa\n",
        "Author: Imam Assidiqqi <imam.assidiqqi@ruangguru.com>\n",
        "Date: Tue Aug 2 14:14:22 2022 +0700\n",
        "\n",
        "     Adding authentication\n",
        "```\n",
        "\n",
        "So we will see that now the _commits_ that were in `fix-authentication-bug`, will also be in `master`."
      ]
    },
    {
      "cell_type": "markdown",
      "metadata": {
        "id": "ThUjURfd-Wv_"
      },
      "source": [
        "## Git Merge Conflict Resolution\n",
        "\n",
        "The _merge_ process is handled automatically by Git, but there are times when the _merge_ we do fails, this is called **Git Merge Conflict**. For this reason, we need to check and make changes manually. For more details, let's watch the following video:\n",
        "\n",
        "[![Introduction Github Snapshot](http://img.youtube.com/vi/zsNWepWweLs/1.jpg)](http://www.youtube.com/watch?v=zsNWepWweLs \"Git Merge Conflict Resolution\")"
      ]
    }
  ],
  "metadata": {
    "kernelspec": {
      "display_name": "Python 3 (ipykernel)",
      "language": "python",
      "name": "python3"
    },
    "language_info": {
      "codemirror_mode": {
        "name": "ipython",
        "version": 3
      },
      "file_extension": ".py",
      "mimetype": "text/x-python",
      "name": "python",
      "nbconvert_exporter": "python",
      "pygments_lexer": "ipython3",
      "version": "3.11.5"
    },
    "colab": {
      "provenance": []
    }
  },
  "nbformat": 4,
  "nbformat_minor": 0
}