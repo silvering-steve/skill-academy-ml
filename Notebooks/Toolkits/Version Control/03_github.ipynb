{
  "cells": [
    {
      "cell_type": "markdown",
      "metadata": {
        "id": "D7S4jqa4FVUU"
      },
      "source": [
        "# Github\n",
        "\n",
        "![Github theme](https://storage.googleapis.com/rg-ai-bootcamp/toolkits/github-theme-min.png)\n",
        "\n",
        "Github (Source: [github.githubassets.com](https://github.githubassets.com/images/modules/site/social-cards/github-social.png))"
      ]
    },
    {
      "cell_type": "markdown",
      "metadata": {
        "id": "tO4IKuXiFVUX"
      },
      "source": [
        "## What is Github?\n",
        "\n",
        "GitHub is a special developer platform created because it was inspired by the way programmers work. From _open source_ to business, we can review code, manage projects, and build _software_ with more than 56 million users worldwide.\n",
        "\n",
        "Simply put, GitHub is a _project management_, _version control system_ (VCS), as well as a social network _platform_ for _developers_ all over the world."
      ]
    },
    {
      "cell_type": "markdown",
      "metadata": {
        "id": "Bh6pekSaFVUZ"
      },
      "source": [
        "## Why do we need Github?\n",
        "\n",
        "### 1. Facilitate collaboration on project work\n",
        "\n",
        "Github's main function is to facilitate online collaboration when working on a project. With _distributed version control_, all _developers_ or team members can manage code in one place. For example, conducting joint code reviews, bug fix discussions, and so on.\n",
        "\n",
        "Apart from that, GitHub also provides a _project management_ feature in the form of a Kanban board like Trello (more details about Kanban [here](https://kanbanize.com/kanban-resources/getting-started/what-is-kanban}). This feature is certainly very useful for those who have many projects. Because, we can more easily determine _work priority_, manage _workflow_, and see the _progress_ of the project.\n",
        "\n",
        "![Github Portfolio](https://storage.googleapis.com/rg-ai-bootcamp/toolkits/project-board-basic-kanban-template.png)\n",
        "\n",
        "Github Portfolio (Source: [docs.github.com](https://docs.github.com/assets/cb-110288/images/help/projects/project-board-basic-kanban-template.png))\n",
        "\n",
        "### 2. As a portfolio for developers\n",
        "\n",
        "Github also functions as a portfolio for _developers_.\n",
        "\n",
        "![Github Portfolio](https://storage.googleapis.com/rg-ai-bootcamp/toolkits/github-folio-min.png)\n",
        "\n",
        "Github Portfolio (Source: [camo.githubusercontent.com](https://camo.githubusercontent.com/47e6faffcc14578e8f4e09d5f79700f829ef7b1c9ec2d7d9127dafe70c419c5c/68747470733a2f2f696d6775722e636f6d2f47674a617650642e706e67))\n",
        "\n",
        "On GitHub, we can set the projects we are working on to be displayed publicly. This will show our abilities as professionals.\n",
        "\n",
        "That way, prospective _clients_ or targeted companies can immediately see our work and contributions to various projects according to our expertise."
      ]
    },
    {
      "cell_type": "markdown",
      "metadata": {
        "id": "PSHF5w8DFVUZ"
      },
      "source": [
        "## Create Github Account\n",
        "\n",
        "We can create a Github _account_ for free [here](https://github.com/signup?source=login). Follow the steps and we are ready to discuss more about Github."
      ]
    },
    {
      "cell_type": "markdown",
      "metadata": {
        "id": "3RzwJDIgFVUa"
      },
      "source": [
        "## Repository"
      ]
    },
    {
      "cell_type": "markdown",
      "metadata": {
        "id": "Coy82ie-FVUa"
      },
      "source": [
        "### Remote Repository\n",
        "\n",
        "- **Local repository**: Git repository stored on our computer.\n",
        "- **Remote repository** : Git repository stored on the **server**.\n",
        "\n",
        "For our lesson now, we will put our **remote repository** on a Github server."
      ]
    },
    {
      "cell_type": "markdown",
      "metadata": {
        "id": "3wuoolVvFVUa"
      },
      "source": [
        "### Create a repository in Github\n",
        "\n",
        "We can create a new _remote repository_ on our Github by:\n",
        "\n",
        "1. Go to the [github.com](https://github.com/) page and click **+** _drop-down menu_ in the top right corner, then select **New repository**\n",
        "2. We will be directed to the **Create a new repository** page, then fill in the requested information. Here's an example:\n",
        "\n",
        "When finished, click the **Create repository** button. So our Github _repository_ has been created and is ready to be used to store projects and collaborate with our team."
      ]
    },
    {
      "cell_type": "markdown",
      "metadata": {
        "id": "GVoZRW5VFVUb"
      },
      "source": [
        "## Auth Github\n",
        "\n",
        "To keep your Github account secure, we must authenticate before we can access certain _resources_ on Github. Github has several different authentication modes, namely:\n",
        "\n",
        "- SSH keys\n",
        "- Personal access token\n",
        "- Username and password with two-factor authentication\n",
        "\n",
        "Here we will learn more about authentication with SSH keys"
      ]
    },
    {
      "cell_type": "markdown",
      "metadata": {
        "id": "TLE_XEPEFVUb"
      },
      "source": [
        "### SSH Key\n",
        "\n",
        "SSH _(Secure Shell)_ is a _transfer_ protocol that allows users to control a device _remote_ or from a distance via an internet connection securely. So we can connect to Github to access and manage our repositories without providing _username_ and _personal access token_ in every Git command we run."
      ]
    },
    {
      "cell_type": "markdown",
      "metadata": {
        "id": "7dvgA4HZFVUb"
      },
      "source": [
        "#### Generate SSH key\n",
        "\n",
        "1. Open the Linux _terminal_ or WSL for Windows users.\n",
        "2. Follow the commands below:\n",
        "\n",
        "    ```bash\n",
        "    > ssh-keygen -t ed25519 -C \"your_email@example.com\" # IMPORTANT: Replace with your email\n",
        "    Generating public/private algorithm key pairs.\n",
        "    Enter file in which to save the key (/home/user/.ssh/id_ed25519): # [Press enter]\n",
        "    Enter passphrase (empty for no passphrase): # [Type a password]\n",
        "    Enter same passphrase again: # [Type password again]\n",
        "    ```"
      ]
    },
    {
      "cell_type": "markdown",
      "metadata": {
        "id": "GLlSxKvTFVUc"
      },
      "source": [
        "#### Adding your SSH key to the ssh-agent\n",
        "\n",
        "`ssh-agent` is a program that manages **SSH keys** and remembers our _password_. So we don't need to re-enter the _password_ every time we use **SSH key**, just follow the steps below:\n",
        "\n",
        "1. Open the Linux _terminal_ or WSL for Windows users.\n",
        "\n",
        "2. Follow the steps below:\n",
        "\n",
        "    ```bash\n",
        "    > eval \"$(ssh-agent -s)\" # ensure ssh-agent is running\n",
        "    Agent pid 59566\n",
        "    > ssh-add ~/.ssh/id_ed25519 # add our SSH key to ssh-agent\n",
        "    Enter passphrase for /home/user/.ssh/id_ed25519: # [Type SSH key password]\n",
        "    Identity added: /home/user/.ssh/id_ed25519 (your_email@example.com)\n",
        "    ```"
      ]
    },
    {
      "cell_type": "markdown",
      "metadata": {
        "id": "YwxsafEVFVUc"
      },
      "source": [
        "#### Add SSH key to Github\n",
        "\n",
        "So that Github can accept connections from our computer, we need to add the **SSH key** that we generated earlier to our Github account.\n",
        "\n",
        "1. Copy the _SSH public key_ to the clipboard.\n",
        "\n",
        "    ```bash\n",
        "    > clip < ~/.ssh/id_ed25519.pub # Copy the contents of the id_ed25519.pub file to the clipboard\n",
        "    ```\n",
        "\n",
        "    **Note**: If `clip` doesn't work, read the contents of the _file_ with the command `cat ~/.ssh/id_ed25519.pub` then copy the contents of the _file_.\n",
        "2. In the top right corner of any page, click your profile photo, then click **Settings**.\n",
        "3. In the \"Access\" section of the _sidebar_, click 🔑 **SSH and GPG keys**.\n",
        "4. Click **New SSH key** or **Add SSH key**.\n",
        "5. In the \"**Title**\" field, add a title for the new _key_. This _title_ can be filled in with the name of your _device_ or other identification that is easy to distinguish.\n",
        "6. Paste the key that has been _generated_ into the \"**Key**\" field.\n",
        "7. Click **Add SSH key**.\n",
        "8. If prompted, confirm your Github _password_.\n"
      ]
    },
    {
      "cell_type": "markdown",
      "metadata": {
        "id": "cNRx6jgvFVUc"
      },
      "source": [
        "## Pull and Push"
      ]
    },
    {
      "cell_type": "markdown",
      "metadata": {
        "id": "UcQxHuQxFVUd"
      },
      "source": [
        "### What are `git pull` and `git push`?\n",
        "\n",
        "- `git pull`: a command to **take** all `commits` in **remote branch** and merge each commit with **local branch**.\n",
        "- `git push`: a command to **upload** all `commits` in **local branch** to **remote branch**.\n",
        "\n",
        "By default, `git push` and `git pull` only perform operations on the current `branch`. So, it's best to use the `git status` command to see which branch we are in before doing `git push` or `git pull`."
      ]
    },
    {
      "cell_type": "markdown",
      "metadata": {
        "id": "H_tjv3h-FVUd"
      },
      "source": [
        "### How to Use `git pull`\n",
        "\n",
        "The `git pull` command is:\n",
        "\n",
        "```bash\n",
        "> git pull\n",
        "```"
      ]
    },
    {
      "cell_type": "markdown",
      "metadata": {
        "id": "1HtWJC2EFVUd"
      },
      "source": [
        "#### Example of using `git pull`\n",
        "\n",
        "For example, on another computer that has the same repository, we haven't gotten the _update_ `commit` with the _message_ \"docs: add guide notes\" that we `push` before.\n",
        "\n",
        "```bash\n",
        "> git log --oneline\n",
        "71efdaa (HEAD -> main, origin/main) docs: add ideation\n",
        "5dfaf0b docs: add README.md\n",
        "```\n",
        "\n",
        "So do `git pull` to get the _update_:\n",
        "\n",
        "```bash\n",
        "> git pull\n",
        "> git log --oneline\n",
        "a144815 (HEAD -> main, origin/main) docs: add guide notes\n",
        "71efdaa docs: add ideation\n",
        "5dfaf0b docs: add README.md\n",
        "```\n",
        "\n",
        "So you can see that there is an additional `commit` with the message \"docs: add guide notes\".\n",
        "\n"
      ]
    },
    {
      "cell_type": "markdown",
      "metadata": {
        "id": "et1PjCL2FVUd"
      },
      "source": [
        "### How to Use `git push`\n",
        "\n",
        "It is recommended to run the `git pull` command before starting to make changes. This will update our local branch with all new commits that other contributors may have made.\n",
        "\n",
        "Commonly used `git push` commands are:\n",
        "\n",
        "- Push to specific remotes and `branches`\n",
        "\n",
        "   ```bash\n",
        "   > git push <remote name> <branch name>\n",
        "   ```\n",
        "\n",
        "   Example:\n",
        "\n",
        "   ```bash\n",
        "   > git push origin main\n",
        "   ```\n",
        "\n",
        "   We can also ensure that every time we do a `push` it always goes to **the same remote**, by running the command:\n",
        "\n",
        "   ```bash\n",
        "   git push -u <remote name> <branch name>\n",
        "   ```\n",
        "\n",
        "   So after we run `git push` with the `-u` option, we simply run `git push` without having to provide the remote and `branch` names again.\n",
        "\n",
        "   Example:\n",
        "\n",
        "   ```bash\n",
        "   > git push -u origin main\n",
        "   > git push # here we don't need to provide the remote and branch name anymore\n",
        "   ```\n",
        "\n",
        "- Push all `branches`\n",
        "\n",
        "   ```bash\n",
        "   > git push --all\n",
        "   ```"
      ]
    },
    {
      "cell_type": "markdown",
      "metadata": {
        "id": "EeEKjTNeFVUd"
      },
      "source": [
        "#### Example of using `git push`\n",
        "\n",
        "![Github commit before push](https://storage.googleapis.com/rg-ai-bootcamp/toolkits/training-kit-second-commit-min.png)\n",
        "Commits that exist in the remote repository before being pushed\n",
        "\n",
        "```bash\n",
        "> git log --oneline\n",
        "a144815 (HEAD -> main) docs: add guide notes\n",
        "71efdaa (origin/main) docs: add ideation\n",
        "5dfaf0b docs: add README.md\n",
        "```\n",
        "\n",
        "We see that between the _screenshot_ and the _log_ above, there is one _commit_ that is not yet in the _remote_ (\"docs: add guide notes\").\n",
        "\n",
        "Now try executing the `git push` command.\n",
        "\n",
        "```bash\n",
        "> git push\n",
        "> git log --oneline\n",
        "a144815 (HEAD -> main, origin/main) docs: add guide notes # now this commit is in the remote repository\n",
        "71efdaa docs: add ideation\n",
        "5dfaf0b docs: add README.md\n",
        "```\n",
        "\n",
        "![Github commit after push](https://storage.googleapis.com/rg-ai-bootcamp/toolkits/training-kit-third-commit-min.png)\n",
        "\n",
        "It can be seen that our `commit` has been successfully `push` to the _remote_ repository.\n",
        "\n",
        "So that's how we collaborate using _remote_ repositories."
      ]
    },
    {
      "cell_type": "markdown",
      "metadata": {
        "id": "kCOuHXNgFVUd"
      },
      "source": [
        "## Clone"
      ]
    },
    {
      "cell_type": "markdown",
      "metadata": {
        "id": "04hbnGHIFVUe"
      },
      "source": [
        "## What is `git clone`?\n",
        "\n",
        "The `git clone` command is used to make a copy of a particular repository from a remote repository to our local computer.\n",
        "\n",
        "_Cloning_ will copy the entire remote repository, including all files, `commit` and `branch`."
      ]
    },
    {
      "cell_type": "markdown",
      "metadata": {
        "id": "m-CGn96GFVUe"
      },
      "source": [
        "### How to Use `git clone`\n",
        "\n",
        "The way to do _cloning_ is:\n",
        "\n",
        "1. On GitHub.com, navigate to the main page of the repository to be_cloned_.\n",
        "\n",
        "2. Above the file list, click ⤓ **Code**.\n",
        "\n",
        "    ![Code buttons](https://storage.googleapis.com/rg-ai-bootcamp/toolkits/code-button-clone-min.png)\n",
        "\n",
        "3. Select the SSH tab to copy the repository url and _clone_ the repository with the SSH protocol:\n",
        "\n",
        "4. Open the Linux _terminal_ or WSL on Windows.\n",
        "\n",
        "5. Change the current _folder_ to where we will save the _clone_.\n",
        "\n",
        "6. Type `git clone`, then **paste the remote URL** you copied earlier and press **Enter**.\n",
        "\n",
        "    ```bash\n",
        "    > git clone git@github.com:ruang-guru/playground.git\n",
        "    Cloning into `playground`...\n",
        "    remote: Counting objects: 10, done.\n",
        "    remote: Compressing objects: 100% (8/8), done.\n",
        "    remove: Total 10 (delta 1), reused 10 (delta 1)\n",
        "    Unpacking objects: 100% (10/10), done.\n",
        "    ```\n",
        "\n",
        "7. We can see the cloned remote URL with the command `git remote -v`:\n",
        "\n",
        "    ```bash\n",
        "    > git remote -v\n",
        "    origin git@github.com:ruang-guru/playground.git (fetch)\n",
        "    origin git@github.com:ruang-guru/playground.git (push)\n",
        "    ```\n",
        "\n",
        "8. Notice that we now have a _clone_ repository located in _folder_ `playground`:\n",
        "    ```bash\n",
        "    > ls playground\n",
        "    README.md frontend introduction-to-programming\n",
        "    ...\n",
        "    ```\n",
        "\n",
        "Now we can use the repository on the local computer and change it as needed."
      ]
    },
    {
      "cell_type": "markdown",
      "metadata": {
        "id": "5cBMPz2SFVUe"
      },
      "source": [
        "## Collaboration\n",
        "\n",
        "_Collaborative development models_ are divided into 2, namely:\n",
        "\n",
        "1. _**Fork and pull model**_: we do not need permission from the repository owner to `push` and changes are submitted by making a **pull request** from the `fork` to the original repository.\n",
        "\n",
        "2. _**Shared repository model**_: collaborators are given `push` access to one repository and `branches` are created when changes need to be made, **pull requests** are made to review changes that have been made."
      ]
    },
    {
      "cell_type": "markdown",
      "metadata": {
        "id": "MGwuPS-ZFVUe"
      },
      "source": [
        "### Git Flow\n",
        "\n",
        "Collaborating on Github requires us to discuss with other people every change that occurs. Usually the journey is as follows:\n",
        "\n",
        "- **Create a branch**: creates a `branch` so we can make changes without disturbing the _flow_ of the _main branch_.\n",
        "- **Make changes**: `commit` and `push` changes made to `branch` until ready to request _feedback_.\n",
        "- **Create a Pull Request**: to request _feedback_ from collaborators about the changes we make.\n",
        "- **Address review comments**: the reviewer makes _questions_, _comments_, and _suggestions_ on the changes made and continues to `commit` and `push` in response to the review results.\n",
        "- **Merge your Pull Request**: after the Pull Request is **approved**, do **merge** the Pull Request that we created.\n",
        "- **Delete your branch**: indicates that work in `branch` has been completed."
      ]
    },
    {
      "cell_type": "markdown",
      "metadata": {
        "id": "bKjgPo93FVUe"
      },
      "source": [
        "### Pull Request\n",
        "\n",
        "PR _(Pull Request)_ is a request to add changes to Github. When making homework, make a summary of the changes and _issue_ to be solved, you can use images, links, or tables.\n",
        "\n",
        "![PR Body](https://storage.googleapis.com/rg-ai-bootcamp/toolkits/pull-request-body-min.png)\n",
        "PR Body (source: [docs.github.com](https://docs.github.com/assets/cb-155985/images/help/pull_requests/pull-request-body.png))\n",
        "\n",
        "We can also add comments to certain lines to indicate something to the reviewer.\n",
        "\n",
        "<!-- Image -->\n",
        "\n",
        "![PR comment](https://storage.googleapis.com/rg-ai-bootcamp/toolkits/pull-request-comment-min.png)\n",
        "PR comment (source: [docs.github.com](https://docs.github.com/assets/cb-37772/images/help/pull_requests/pull-request-comment.png))"
      ]
    },
    {
      "cell_type": "markdown",
      "metadata": {
        "id": "l2v31_gHFVUf"
      },
      "source": [
        "#### Creating a pull request\n",
        "\n",
        "- We can create a PR (Pull Request) by following the documentation: [Creating a pull request](https://docs.github.com/en/pull-requests/collaborating-with-pull-requests/proposing-changes-to- your-work-with-pull-requests/creating-a-pull-request).\n",
        "\n",
        "- We can also create a PR for `fork` by following the documentation: [Creating a Pull Request from a Fork](https://docs.github.com/en/pull-requests/collaborating-with-pull-requests/proposing- changes-to-your-work-with-pull-requests/creating-a-pull-request-from-a-fork)."
      ]
    },
    {
      "cell_type": "markdown",
      "metadata": {
        "id": "117p1llfFVUf"
      },
      "source": [
        "### PR Review\n",
        "\n",
        "Review is the activity of commenting on proposed changes, approving changes, or requesting changes before a PR is merged.\n",
        "\n",
        "![Review with comment](https://storage.googleapis.com/rg-ai-bootcamp/toolkits/review-header-with-line-comment-min.png)\n",
        "Review with comment (source: [docs.github.com](https://docs.github.com/assets/cb-56682/images/help/pull_requests/review-header-with-line-comment.png))"
      ]
    },
    {
      "cell_type": "markdown",
      "metadata": {
        "id": "fJEZtYVAFVUf"
      },
      "source": [
        "#### Status Review\n",
        "\n",
        "A review has three possible **status**, namely:\n",
        "\n",
        "- **Comment**: provide _feedback_ without agreeing to changes or requesting additional changes.\n",
        "- **Approve**: provides _feedback_ and approves the incorporation of proposed changes.\n",
        "- **Request changes**: provides _feedback_ that must be addressed before changes can be merged.\n",
        "\n",
        "![PR statuses](https://storage.googleapis.com/rg-ai-bootcamp/toolkits/pull-request-review-statuses-min.png)\n",
        "\n",
        "PR statuses (source: [ocs.github.com](https://docs.github.com/assets/cb-36162/images/help/pull_requests/pull-request-review-statuses.png))\n",
        "\n",
        "We can see all reviews in the _Conversation timeline_ tab, and we can see reviews by collaborators in _Pull Request's merge box_.\n",
        "\n",
        "![Conversation](https://storage.googleapis.com/rg-ai-bootcamp/toolkits/conversation-min.png)\n",
        "\n",
        "Conversation (source: [docs.github.com](https://docs.github.com/assets/cb-60255/images/help/pull_requests/conversation.png))\n",
        "\n",
        "![Review in merge box](https://storage.googleapis.com/rg-ai-bootcamp/toolkits/pr-reviews-in-merge-box-min.png)\n",
        "\n",
        "Review in merge box (source: [docs.github.com](https://docs.github.com/assets/cb-57373/images/help/pull_requests/merge_box/pr-reviews-in-merge-box.png ))"
      ]
    },
    {
      "cell_type": "markdown",
      "metadata": {
        "id": "GTy67GSFFVUf"
      },
      "source": [
        "#### Resolving conversations\n",
        "\n",
        "We can finish the conversation to show that **the file has finished changing**, we can click **Resolve conversation** in the _comment bar_.\n",
        "\n",
        "![Resolve button](https://storage.googleapis.com/rg-ai-bootcamp/toolkits/conversation-with-resolve-button-min.png)\n",
        "\n",
        "Resolve conversation button (source: [docs.github.com](https://docs.github.com/assets/cb-36035/images/help/pull_requests/conversation-with-resolve-button.png))\n",
        "\n",
        "All conversations will be collapsed and marked as resolved, making it easier to find conversations that still need to be addressed.\n",
        "\n",
        "![Resolved conversation](https://storage.googleapis.com/rg-ai-bootcamp/toolkits/resolved-conversation-min.png)\n",
        "\n",
        "Resolved conversation (source: [docs.github.com](https://docs.github.com/assets/cb-21971/images/help/pull_requests/resolved-conversation.png))"
      ]
    },
    {
      "cell_type": "markdown",
      "metadata": {
        "id": "3X0FHUgdFVUg"
      },
      "source": [
        "#### Discovering and navigating conversations\n",
        "\n",
        "We can find and navigate to all conversations using the **Conversations** menu displayed on the **Files changed** tab.\n",
        "\n",
        "From this view, we can see which conversations are **unresolved**, **resolved**, and **outdated**. This makes it easier for us to find and complete conversations.\n",
        "\n",
        "![Conversation menu](https://storage.googleapis.com/rg-ai-bootcamp/toolkits/conversations-menu-min.png)\n",
        "Conversation menu (source: [docs.github.com](https://docs.github.com/assets/cb-36465/images/help/pull_requests/conversations-menu.png))"
      ]
    },
    {
      "cell_type": "markdown",
      "metadata": {
        "id": "ppiqxkp0FVUg"
      },
      "source": [
        "#### Re-requesting a review\n",
        "\n",
        "We can request a review after we make changes. To do this, on the _sidebar tab_ **Conversation**, click ![Re-review-icon](https://storage.googleapis.com/rg-ai-bootcamp/toolkits/re-review-icon.png) _(icon)_.\n",
        "\n",
        "![Re-request review](https://storage.googleapis.com/rg-ai-bootcamp/toolkits/re-review-min.png)\n",
        "\n",
        "For more details on how we comment on PRs we can see the documentation: [Commenting on a pull request](https://docs.github.com/en/pull-requests/collaborating-with-pull-requests/reviewing-changes-in-pull-requests/commenting-on-a-pull-request)."
      ]
    },
    {
      "cell_type": "markdown",
      "metadata": {
        "id": "JwfOe1OYFVUg"
      },
      "source": [
        "## Organization"
      ]
    },
    {
      "cell_type": "markdown",
      "metadata": {
        "id": "uym01viaFVUh"
      },
      "source": [
        "### What is the organization in Github?\n",
        "\n",
        "Organizations on Github are shared accounts where businesses and open-source projects collaborate with multiple projects at once. **Owner** and **Administrator** can manage member access to data and organizations with advanced security and administrative features.\n",
        "\n",
        "Everyone who uses GitHub can use their account to create an organization. These organizations include:\n",
        "\n",
        "- Unlimited membership with multiple roles providing varying levels of access to the organization and its data\n",
        "- Ability to grant members various access permissions to repositories in the organization\n",
        "- Create teams to reflect a company or group structure with tiered access permissions\n",
        "\n",
        "All organizations can have both **public** and **private** repositories."
      ]
    },
    {
      "cell_type": "markdown",
      "metadata": {
        "id": "ZtOxBLANFVUh"
      },
      "source": [
        "### Create an organization in Github\n",
        "\n",
        "How to create an organization is quite easy, we can follow these steps:\n",
        "\n",
        "1. In the top right corner of any page, click your profile photo, then click **Settings**.\n",
        "2. In the \"Access\" section of the _sidebar_, click **Organizations**.\n",
        "3. In the \"Organizations\" section, click **New organization**.\n",
        "4. Follow the instructions to create an organization. More details can be seen at the following link: \"[GitHub's products](https://docs.github.com/en/get-started/learning-about-github/githubs-products)\""
      ]
    },
    {
      "cell_type": "markdown",
      "metadata": {
        "id": "c77KtveKFVUh"
      },
      "source": [
        "### Accessing your organization's settings\n",
        "\n",
        "The organization's _account settings_ page provides several ways to manage accounts, such as _billing_, _team membership_ and _repository settings_.\n",
        "\n",
        "1. In the top right corner of GitHub.com, click your profile photo, then click **Your organization**.\n",
        "2. Next to the organization, click **Settings**.\n",
        "\n",
        "There are more information there that can be customized for your Organization."
      ]
    }
  ],
  "metadata": {
    "kernelspec": {
      "display_name": "Python 3 (ipykernel)",
      "language": "python",
      "name": "python3"
    },
    "language_info": {
      "codemirror_mode": {
        "name": "ipython",
        "version": 3
      },
      "file_extension": ".py",
      "mimetype": "text/x-python",
      "name": "python",
      "nbconvert_exporter": "python",
      "pygments_lexer": "ipython3",
      "version": "3.11.3"
    },
    "colab": {
      "provenance": []
    }
  },
  "nbformat": 4,
  "nbformat_minor": 0
}