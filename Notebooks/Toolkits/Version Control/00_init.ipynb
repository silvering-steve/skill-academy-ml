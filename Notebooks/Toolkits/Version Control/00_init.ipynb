{
  "cells": [
    {
      "cell_type": "markdown",
      "metadata": {
        "id": "__yB77jzYhu0"
      },
      "source": [
        "# `Init`"
      ]
    },
    {
      "cell_type": "markdown",
      "metadata": {
        "id": "4wleYVvSYhu2"
      },
      "source": [
        "## `Git Init '\n",
        "\n",
        "![Git local flow](https://storage.googleapis.com/rg-ai-bootcamp/toolkits/repository-min.png)\n",
        "\n",
        "Git local flow (Source:[s3.ap-south-1.amazonaws.com](https://s3.ap-south-1.amazonaws.com/s3.studytonight.com/tutorials/uploads/pictures/1622201105-103268.png))"
      ]
    },
    {
      "cell_type": "markdown",
      "metadata": {
        "id": "BUbVpLCpYhu3"
      },
      "source": [
        "## Introduction\n",
        "\n",
        "In the workflow when using Git in _local_, the first step that must be taken is to initialize Git in the _folder_, so that Git can record any changes that occur in the _folder_. The command is:\n",
        "\n",
        "```bash\n",
        "git init\n",
        "```\n",
        "\n",
        "`git init` can turn any directory(📁 folder) into a **Git repository**. Let's study `git init` further."
      ]
    },
    {
      "cell_type": "markdown",
      "metadata": {
        "id": "LoeYUbRmYhu3"
      },
      "source": [
        "## What Does `git init` Do?\n",
        "\n",
        "To start a new project and initialize a repository with Git, we can use the `git init` command. Git creates a hidden directory called `.git` and it is this directory that separates the regular _folder_ from the Git repository."
      ]
    },
    {
      "cell_type": "markdown",
      "metadata": {
        "id": "08ew3coPYhu3"
      },
      "source": [
        "## How to Use `git init`\n",
        "\n",
        "### Common usage and options for `git init`\n",
        "\n",
        "- `git init`: Converts the current directory to a Git repository.\n",
        "- `git init <directory>`: Creates a folder and turns it into a Git repository.\n",
        "\n",
        "We can see all the `git init` options in the [git-scm] documentation(https://git-scm.com/docs/git-init).\n",
        "\n",
        "### Example `git init`\n",
        "\n",
        "It's possible that we already have an application project locally, but it's not yet integrated with Git, so `git init` is the right command. This is only run once, even if other collaborators want to contribute to our project. For example, consider the Git command below:\n",
        "\n",
        "![Git init](https://storage.googleapis.com/rg-ai-bootcamp/toolkits/git-init-min.gif)\n",
        "\n",
        "Git init (Source: [amazonaws.com](https://dev-to-uploads.s3.amazonaws.com/i/9omg3gta1we59p7qhj08.gif))\n",
        "\n",
        "As seen above, to check whether _folder_ **my-cool-repo** has become a Git repository or not, you can use the `git status` command. Once we see that the _folder_ is not a Git repository, we can use the `git init` command.\n",
        "\n",
        "Now _folder_ **my-cool-repo** has become a Git repository. So any changes in that _folder_ will be recorded by Git. Next, we can carry out activities using Git, namely:\n",
        "\n",
        "- `git add`: Selects files and adds them to the staging area in preparation for versioning.\n",
        "- `git commit`: Records files in the _staging area_ permanently as _version history_.\n",
        "- `git push`: Upload all _local commits_ to the server.\n",
        "\n",
        "The following is the flow of Git activity:\n",
        "\n",
        "![Git init flow](https://storage.googleapis.com/rg-ai-bootcamp/toolkits/git-init-min.png)\n",
        "\n",
        "Git init flow (Source: [miro.medium.com](https://miro.medium.com/max/1400/1*npYJvNW9VWtxX_AMFDG4CA.png))\n",
        "\n",
        "### `Git init` Existing Folder\n",
        "\n",
        "By default `git init` is to change the current directory to a Git repository. To make an existing project a Git repository, navigate to the targeted _root_ directory. Then, run `git init`.\n",
        "\n",
        "Alternatively, we can create a new repository in the directory at the current path. Use `git init <directory>` and specify which directory to turn into a Git repository, for example: `git init ./Downloads/my-cool-repo`\n",
        "\n",
        "### `Git init` Gone Wrong\n",
        "\n",
        "Running `git init` in the wrong place will create an unexpected repository. What does it mean? 🤔 Nested `git init` is the most common example:\n",
        "\n",
        "```structure-directory\n",
        "  📁repository (git init)\n",
        "    |_ 📁.git\n",
        "    |_ 📄file\n",
        "    |_ 📄file\n",
        "    |_ 📁repository (git init)\n",
        "      |_ 📁.git\n",
        "      |_ 📄file\n",
        "      |_ 📁repository (git init) <- YOU ARE HERE!\n",
        "         |_ 📁.git\n",
        "         |_ 📄file\n",
        "```\n",
        "\n",
        "Doing the above will duplicate version tracking information on each sub-directory and make the _root_ `.git` unable to track changes to the sub-directory because it has its own `.git`. Duplicating version information in sub-directories will create abnormal situations that will result in inconsistencies sooner or later.\n",
        "\n",
        "To fix this, we have to track down which directories are unwanted repositories. Use `git status` to see if the current directory is tracked by Git. If so, we can run `ls -al` and look for hidden `.git` directories.\n",
        "\n",
        "If you don't see it, navigate one level up in the directory structure with `cd ..`. Then use `git status` again in combination with `ls -al`. Repeat until you find the `.git` directory you want to delete\n",
        "\n",
        "Once you've found the `.git` directory, and are sure that you don't want it to be a Git repository, use `rm -rf .git`. This will delete the `.git` directory, effectively uninitializing the unwanted repository.\n",
        "\n",
        "---\n",
        "\n",
        "But what if there is already a structure like that, but we have already done several history commits in it and don't want to delete it? 🤔\n",
        "The solution is that we can move the existing nested directory `.git` to a separate directory and delete the previous repository directory. Examples are as follows:\n",
        "\n",
        "```structure-directory\n",
        "📁repository (git init)\n",
        "   |_ 📁.git\n",
        "   |_ 📄file\n",
        "      📁repository2 (git init)\n",
        "      |_ 📁.git\n",
        "      |_ 📄file\n",
        "```\n",
        "\n",
        "become\n",
        "\n",
        "```structure-directory\n",
        "📁repository (git init)\n",
        "   |_ 📁.git\n",
        "   |_ 📄file\n",
        "      📁repository2 (git init) <- [REMOVE]\n",
        "      |_ 📁.git <- [REMOVE]\n",
        "      |_ 📄file <- [REMOVE]\n",
        "\n",
        "📁repository2 (git init)\n",
        "   |_ 📁.git\n",
        "   |_ 📄file\n",
        "```\n",
        "\n",
        "The method above can be used as a corrective step.\n",
        "\n",
        "It's best to know the directory structure we will use when we initialize a Git repository project. Avoid **nested directories** as they can be very confusing."
      ]
    }
  ],
  "metadata": {
    "kernelspec": {
      "display_name": "Python 3 (ipykernel)",
      "language": "python",
      "name": "python3"
    },
    "language_info": {
      "codemirror_mode": {
        "name": "ipython",
        "version": 3
      },
      "file_extension": ".py",
      "mimetype": "text/x-python",
      "name": "python",
      "nbconvert_exporter": "python",
      "pygments_lexer": "ipython3",
      "version": "3.11.5"
    },
    "colab": {
      "provenance": []
    }
  },
  "nbformat": 4,
  "nbformat_minor": 0
}