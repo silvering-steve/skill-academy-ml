{
  "cells": [
    {
      "cell_type": "markdown",
      "metadata": {
        "id": "plclXbs1VNYh"
      },
      "source": [
        "# Introduction to Version Control"
      ]
    },
    {
      "cell_type": "markdown",
      "metadata": {
        "id": "mJvi3lalVNYl"
      },
      "source": [
        "## Before Version Control System\n",
        "\n",
        "When we do work, we often make revisions. For example, when creating a proposal or thesis document.\n",
        "\n",
        "- Example when writing a thesis:\n",
        "   - Usually we create a 📁 (folder) for example with the name \"thesis\"\n",
        "     - Then we start writing in 📄 (file) thesis.docx\n",
        "     - When there is a revision, usually we will create a file with a new version 📄 thesis_revisi-1.docx\n",
        "     - When there is a further revision, we make 📄 thesis_revision-3.docx\n",
        "     - Next 📄 thesis_revisi-4.docx\n",
        "     - 📄 thesis_revision-5.docx\n",
        "     - 📄 thesis_revision-6.docx\n",
        "     - ... etc\n",
        "     - Until maybe in the end: 📄 thesis_final_ready_sidang.docx 😄\n",
        "- Why do we do this? Of course, so that we know the changes that occur between document revisions. If at any time we need to use the previous revision, we can use it easily.\n",
        "- As a _software developer_ (_developer_), it is very natural to revise a lot of code, maybe tens or even hundreds of lines. And this code revision is usually carried out in more than one _file_.\n",
        "- By using VCS to manage versions of files, we only need to do it in one _file_ (📄 thesis.docx), but in that _file_ there are changes from the previous version.\n",
        "- Imagine if we have made revisions to dozens of _files_ and added features to our code, but not long afterward we are asked to cancel these features. This would be difficult without a VCS. Therefore, let's get acquainted with VCS further.\n"
      ]
    },
    {
      "cell_type": "markdown",
      "metadata": {
        "id": "LS3Y41IUVNYm"
      },
      "source": [
        "## What is a Version Control System?\n",
        "\n",
        "A _Version Control System_ (VCS) is a system that records changes to a _file_ or a set of _files_ of an application program (_software_) or _source code_ from time to time so that we can look back at the old version someday.\n",
        "\n",
        "VCS allows us to restore _files_ to a previous state, revert entire projects back to a previous state, compare changes over time, see who last changed something that might have caused a problem and much more.\n",
        "\n",
        "In short, with VCS, if we make a mistake or lose a _file_, we can easily recover it."
      ]
    },
    {
      "cell_type": "markdown",
      "metadata": {
        "id": "sKt_dy5FVNYn"
      },
      "source": [
        "## Why use Version Control\n",
        "\n",
        "_Version control system_ allows us to collaborate in teams, without losing or overwriting anyone's work. After a _developer_ makes a series of changes to the code in one or more _files_, they tell the VCS to save a representation of those changes.\n",
        "\n",
        "In this way, a history of code changes or versions is created as the application develops. This history is stored so that all _developers_, even if they work in different locations, have access to consistent and up-to-date project history.\n",
        "\n"
      ]
    },
    {
      "cell_type": "markdown",
      "metadata": {
        "id": "-ZWrHcN5VNYn"
      },
      "source": [
        "### Benefits of Version Control\n",
        "\n",
        "- Keeping Track of All the Modifications Made to the Code\n",
        "\n",
        "   ![Git Log](https://storage.googleapis.com/rg-ai-bootcamp/toolkits/git-log-min.png)\n",
        "\n",
        "   The team working on the project continues to produce new source code and continues to make changes to the code. These changes are logged for future reference and can be used if needed in the future to find the root cause of a particular issue.\n",
        "\n",
        "   ![Git Graph](https://storage.googleapis.com/rg-ai-bootcamp/toolkits/git-graph-min.png)\n",
        "\n",
        "- Comparing Earlier Versions of the Code\n",
        "\n",
        "   Because all versions of code are saved, this allows developers to go back at any time and compare previous versions of code to help fix errors and reduce disruption to all team members.\n",
        "\n",
        "   ![Git Diff](https://storage.googleapis.com/rg-ai-bootcamp/toolkits/git-diff-min.png)\n",
        "\n",
        "\n",
        "Finally, let's take a look at some of the best Version Control Systems available today:\n",
        "\n",
        "![Best VCS in the market](https://storage.googleapis.com/rg-ai-bootcamp/toolkits/best-vcs-market.png)\n",
        "Best VCS in the market (Source: [simplilearn.com](https://www.simplilearn.com/ice9/free_resources_article_thumb/Best_VCS_in_the_market.png))"
      ]
    }
  ],
  "metadata": {
    "kernelspec": {
      "display_name": "Python 3 (ipykernel)",
      "language": "python",
      "name": "python3"
    },
    "language_info": {
      "codemirror_mode": {
        "name": "ipython",
        "version": 3
      },
      "file_extension": ".py",
      "mimetype": "text/x-python",
      "name": "python",
      "nbconvert_exporter": "python",
      "pygments_lexer": "ipython3",
      "version": "3.11.5"
    },
    "colab": {
      "provenance": []
    }
  },
  "nbformat": 4,
  "nbformat_minor": 0
}