{
  "cells": [
    {
      "cell_type": "markdown",
      "metadata": {
        "id": "GwlbxtTsnBlG"
      },
      "source": [
        "# Jupyter Notebooks"
      ]
    },
    {
      "cell_type": "markdown",
      "metadata": {
        "id": "M0vfZOr4nBlI"
      },
      "source": [
        "## What is Jupyter Notebook\n",
        "\n",
        "Jupyter Notebook is an open-source, interactive, web-based computing environment that allows you to create and share documents containing live code, equations, visualizations, and narrative text.\n",
        "\n",
        "Jupyter Notebook is widely used among data scientists, researchers, and students for data analysis, visualization, and machine learning purposes."
      ]
    },
    {
      "cell_type": "markdown",
      "metadata": {
        "id": "3m-D6x22nBlJ"
      },
      "source": [
        "## Installation and Setup\n",
        "\n",
        "Jupyter Notebook requires **Python and pip to be installed** on your system. Here's a step-by-step guide to set up Jupyter Notebook on your computer:"
      ]
    },
    {
      "cell_type": "markdown",
      "metadata": {
        "id": "Nn8RyNflnBlJ"
      },
      "source": [
        "**Step 1: Install Jupyter Notebook**\n",
        "\n",
        "Once you have Python and pip installed, you can install Jupyter Notebook using the following command:\n",
        "\n",
        "```shell\n",
        "pip install notebook\n",
        "```"
      ]
    },
    {
      "cell_type": "markdown",
      "metadata": {
        "id": "gj_T9zDrnBlJ"
      },
      "source": [
        "**Step 2: Launch Jupyter Notebook**\n",
        "\n",
        "To start the Jupyter Notebook server and open the interactive web interface, run the following command in your terminal or command prompt:\n",
        "\n",
        "```shell\n",
        "jupyter notebook\n",
        "```"
      ]
    },
    {
      "cell_type": "markdown",
      "metadata": {
        "id": "pS0xmr38nBlK"
      },
      "source": [
        "This command will launch the Jupyter Notebook interface in your default web browser. You can now create a new Notebook, open an existing one, or explore the available examples."
      ]
    },
    {
      "cell_type": "markdown",
      "metadata": {
        "id": "JzyiA4VVnBlK"
      },
      "source": [
        "## Alternative: Install using Anaconda (Optional)\n",
        "\n",
        "Anaconda is a popular cross-platform distribution that simplifies package management and installation of scientific software, including Jupyter Notebook.\n",
        "To install Anaconda and Jupyter Notebook, follow these steps:\n",
        "\n",
        "- Download Anaconda from [anaconda.com](anaconda.com).\n",
        "- Run the installer and follow the on-screen instructions.\n",
        "- Once installed, open the Anaconda Navigator application.\n",
        "- Click the \"Launch\" button under Jupyter Notebook.\n",
        "\n",
        "Jupyter Notebook server interface will open in your default web browser."
      ]
    }
  ],
  "metadata": {
    "celltoolbar": "Slideshow",
    "kernelspec": {
      "display_name": "Python 3 (ipykernel)",
      "language": "python",
      "name": "python3"
    },
    "language_info": {
      "codemirror_mode": {
        "name": "ipython",
        "version": 3
      },
      "file_extension": ".py",
      "mimetype": "text/x-python",
      "name": "python",
      "nbconvert_exporter": "python",
      "pygments_lexer": "ipython3",
      "version": "3.11.3"
    },
    "colab": {
      "provenance": []
    }
  },
  "nbformat": 4,
  "nbformat_minor": 0
}