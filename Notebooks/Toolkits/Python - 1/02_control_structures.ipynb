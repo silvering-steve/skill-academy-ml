{
 "cells": [
  {
   "cell_type": "markdown",
   "metadata": {
    "id": "AyZpNK40onFW"
   },
   "source": [
    "# Control Structures"
   ]
  },
  {
   "cell_type": "markdown",
   "metadata": {
    "id": "TB-8TR5JonFa"
   },
   "source": [
    "## Conditional Branching"
   ]
  },
  {
   "cell_type": "markdown",
   "metadata": {
    "id": "9tv2L52_onFa"
   },
   "source": [
    "### `if` statement\n",
    "\n",
    "The `if` statement checks if a specific condition or expression evaluates to `True`. If the condition is satisfied (`True`), the block of code associated with the `if` statement will be executed."
   ]
  },
  {
   "cell_type": "code",
   "execution_count": 1,
   "metadata": {
    "ExecuteTime": {
     "end_time": "2023-12-12T07:43:52.487440700Z",
     "start_time": "2023-12-12T07:43:52.468358500Z"
    },
    "id": "GP1neKNzonFb"
   },
   "outputs": [
    {
     "name": "stdout",
     "output_type": "stream",
     "text": [
      "x is positive.\n",
      "The value of x is 10\n"
     ]
    }
   ],
   "source": [
    "x = 10\n",
    "\n",
    "if x > 0:\n",
    "    print(\"x is positive.\")\n",
    "    print(\"The value of x is\", x)"
   ]
  },
  {
   "cell_type": "markdown",
   "metadata": {
    "id": "Uh7LsDV2onFd"
   },
   "source": [
    "In this example, the condition `x > 0` evaluates to `True`, so the indented block of code following the `if` statement is executed."
   ]
  },
  {
   "cell_type": "markdown",
   "metadata": {
    "id": "BvLs1-yqonFd"
   },
   "source": [
    "### `if-else` statement\n",
    "\n",
    "The `else` statement is used whenever you want to execute a different block of code if the condition in the `if` statement is `False`."
   ]
  },
  {
   "cell_type": "code",
   "execution_count": 2,
   "metadata": {
    "ExecuteTime": {
     "end_time": "2023-12-12T07:43:53.248004200Z",
     "start_time": "2023-12-12T07:43:53.233468Z"
    },
    "id": "o5PDqDqmonFe"
   },
   "outputs": [
    {
     "name": "stdout",
     "output_type": "stream",
     "text": [
      "x is not positive.\n"
     ]
    }
   ],
   "source": [
    "x = -5\n",
    "\n",
    "if x > 0:\n",
    "    print(\"x is positive.\")\n",
    "else:\n",
    "    print(\"x is not positive.\")"
   ]
  },
  {
   "cell_type": "markdown",
   "metadata": {
    "id": "fC8OQKVIonFe"
   },
   "source": [
    "In this example, the condition `x > 0` evaluates to `False`, so the block of code following the `else` statement is executed."
   ]
  },
  {
   "cell_type": "markdown",
   "metadata": {
    "id": "lPKzGI-ponFf"
   },
   "source": [
    "### `if-elif-else` statement\n",
    "\n",
    "Use the `elif` statement to check multiple conditions. `elif` (short for \"else if\") is used in conjunction with `if` and `else` to create a series of conditions. The block of code associated with the first `if/elif` condition that evaluates to `True` will be executed. If no condition is satisfied, the code associated with the `else` statement (if present) will be executed.\n"
   ]
  },
  {
   "cell_type": "code",
   "execution_count": 3,
   "metadata": {
    "ExecuteTime": {
     "end_time": "2023-12-12T07:43:54.708791100Z",
     "start_time": "2023-12-12T07:43:54.698122300Z"
    },
    "id": "lt4gAW18onFf"
   },
   "outputs": [
    {
     "name": "stdout",
     "output_type": "stream",
     "text": [
      "It's chilly outside.\n"
     ]
    }
   ],
   "source": [
    "temperature = 15\n",
    "\n",
    "if temperature < 0:\n",
    "    print(\"It's freezing outside.\")\n",
    "elif temperature < 10:\n",
    "    print(\"It's cold outside.\")\n",
    "elif temperature < 20:\n",
    "    print(\"It's chilly outside.\")\n",
    "elif temperature < 30:\n",
    "    print(\"It's warm outside.\")\n",
    "else:\n",
    "    print(\"It's hot outside.\")"
   ]
  },
  {
   "cell_type": "markdown",
   "metadata": {
    "id": "X2zGLYsxonFf"
   },
   "source": [
    "In this example, the first two conditions (`temperature < 0` and `temperature < 10`) evaluate to `False`,\n",
    "while the third condition (`temperature < 20`) evaluates to `True`. Thus, the block of code associated with this condition is executed, and \"It's chilly outside.\" is printed as output."
   ]
  },
  {
   "cell_type": "markdown",
   "metadata": {
    "id": "bia7ihDdonFg"
   },
   "source": [
    "### Nested `if` statements\n",
    "\n",
    "Nested `if` statements allow you to make more complex condition checks by placing an `if` statement inside another `if` statement."
   ]
  },
  {
   "cell_type": "code",
   "execution_count": 4,
   "metadata": {
    "ExecuteTime": {
     "end_time": "2023-12-12T07:43:56.279770300Z",
     "start_time": "2023-12-12T07:43:56.259080100Z"
    },
    "id": "_wUGx8b0onFg"
   },
   "outputs": [
    {
     "name": "stdout",
     "output_type": "stream",
     "text": [
      "x is positive, but y is not.\n"
     ]
    }
   ],
   "source": [
    "x = 5\n",
    "y = -2\n",
    "\n",
    "if x > 0:\n",
    "    if y > 0:\n",
    "        print(\"Both x and y are positive.\")\n",
    "    else:\n",
    "        print(\"x is positive, but y is not.\")\n",
    "else:\n",
    "    if y > 0:\n",
    "        print(\"y is positive, but x is not.\")\n",
    "    else:\n",
    "        print(\"Neither x nor y is positive.\")"
   ]
  },
  {
   "cell_type": "markdown",
   "metadata": {
    "id": "unbOTRTtonFg"
   },
   "source": [
    "In this example, the condition `x > 0` evaluates to `True`, so the first nested `if` statement is executed. Within the nested statement, the condition `y > 0` evaluates to `False`, executing the code associated with the `else` statement. Thus, \"x is positive, but y is not.\" is the output."
   ]
  },
  {
   "cell_type": "markdown",
   "metadata": {
    "id": "WlPmVdbkonFg"
   },
   "source": [
    "### One-liner `if-else` expression\n",
    "\n",
    "You can use a single line of code to execute simple `if-else` statements. This is called the ternary conditional operator."
   ]
  },
  {
   "cell_type": "code",
   "execution_count": 5,
   "metadata": {
    "ExecuteTime": {
     "end_time": "2023-12-12T07:43:57.963846Z",
     "start_time": "2023-12-12T07:43:57.951330400Z"
    },
    "id": "29l-rH92onFg",
    "scrolled": true
   },
   "outputs": [
    {
     "name": "stdout",
     "output_type": "stream",
     "text": [
      "x is positive\n"
     ]
    }
   ],
   "source": [
    "x = 5\n",
    "str_result = \"x is positive\" if x > 0 else \"x is not positive\"\n",
    "print(str_result)"
   ]
  },
  {
   "cell_type": "markdown",
   "metadata": {
    "id": "CL8sxWRQonFh"
   },
   "source": [
    "In this example, the condition `x > 0` is `True`, so the variable `str_result` will be assigned the value \"x is positive\""
   ]
  },
  {
   "cell_type": "markdown",
   "metadata": {
    "id": "nzGezQ8conFh"
   },
   "source": [
    "## Loops"
   ]
  },
  {
   "cell_type": "markdown",
   "metadata": {
    "id": "Dpb7vwrVonFj"
   },
   "source": [
    "### `for` loop\n",
    "\n",
    "The `for` loop in Python is used to iterate over a sequence, such as a list, tuple, or string. `for` loops iterate over each element in the sequence, executing the associated block of code for each element."
   ]
  },
  {
   "cell_type": "code",
   "execution_count": 6,
   "metadata": {
    "ExecuteTime": {
     "end_time": "2023-12-12T07:44:18.373794600Z",
     "start_time": "2023-12-12T07:44:18.364199700Z"
    },
    "id": "iSY90uuQonFj"
   },
   "outputs": [
    {
     "name": "stdout",
     "output_type": "stream",
     "text": [
      "1\n",
      "2\n",
      "3\n",
      "4\n",
      "5\n"
     ]
    }
   ],
   "source": [
    "# Example using a list\n",
    "numbers = [1, 2, 3, 4, 5]\n",
    "for num in numbers:\n",
    "    print(num)"
   ]
  },
  {
   "cell_type": "markdown",
   "metadata": {
    "id": "pxKblRXuonFj"
   },
   "source": [
    "In this example, the `for` loop iterates over each element in the `numbers` list. The loop variable `num` takes on the value of each element in the list, and the `print(num)` statement is executed."
   ]
  },
  {
   "cell_type": "code",
   "execution_count": 7,
   "metadata": {
    "ExecuteTime": {
     "end_time": "2023-12-12T07:44:20.067234900Z",
     "start_time": "2023-12-12T07:44:20.052199900Z"
    },
    "id": "7AVqVXKEonFj"
   },
   "outputs": [
    {
     "name": "stdout",
     "output_type": "stream",
     "text": [
      "P\n",
      "y\n",
      "t\n",
      "h\n",
      "o\n",
      "n\n"
     ]
    }
   ],
   "source": [
    "# Example using a string\n",
    "name = \"Python\"\n",
    "for letter in name:\n",
    "    print(letter)"
   ]
  },
  {
   "cell_type": "markdown",
   "metadata": {
    "id": "lFJG0x32onFj"
   },
   "source": [
    "In this example, the `for` loop iterates over each character in the name string."
   ]
  },
  {
   "cell_type": "markdown",
   "metadata": {
    "id": "gn1908amonFj"
   },
   "source": [
    "### `for` loop with `range()`\n",
    "\n",
    "The `range()` function generates a sequence of numbers. It is commonly used in `for` loops when you want to repeat a block of code a specific number of times."
   ]
  },
  {
   "cell_type": "code",
   "execution_count": 8,
   "metadata": {
    "ExecuteTime": {
     "end_time": "2023-12-12T07:44:21.678470600Z",
     "start_time": "2023-12-12T07:44:21.673381500Z"
    },
    "id": "xSdkhUk9onFk"
   },
   "outputs": [
    {
     "name": "stdout",
     "output_type": "stream",
     "text": [
      "0\n",
      "1\n",
      "2\n",
      "3\n",
      "4\n"
     ]
    }
   ],
   "source": [
    "# range(stop): Generates a sequence of numbers from 0 to stop - 1\n",
    "for i in range(5):\n",
    "    print(i)"
   ]
  },
  {
   "cell_type": "markdown",
   "metadata": {
    "id": "wU5c1pVFonFk"
   },
   "source": [
    "In this example, the `range(5)` function generates the sequence `[0, 1, 2, 3, 4]`, and the `for` loop iterates over that sequence."
   ]
  },
  {
   "cell_type": "markdown",
   "metadata": {
    "id": "ug8fd_J9onFk"
   },
   "source": [
    "### `while` loop\n",
    "\n",
    "The `while` loop is used to repeatedly execute a block of code while a specified condition is `True`. When the condition becomes `False`, the loop terminates, and the program continues with the code following the `while` loop."
   ]
  },
  {
   "cell_type": "code",
   "execution_count": 9,
   "metadata": {
    "ExecuteTime": {
     "end_time": "2023-12-12T07:44:23.050244700Z",
     "start_time": "2023-12-12T07:44:23.034977Z"
    },
    "id": "VQt0hck8onFk"
   },
   "outputs": [
    {
     "name": "stdout",
     "output_type": "stream",
     "text": [
      "counter: 0\n",
      "counter: 1\n",
      "counter: 2\n",
      "counter: 3\n",
      "counter: 4\n"
     ]
    }
   ],
   "source": [
    "# Example\n",
    "counter = 0\n",
    "while counter < 5:\n",
    "    print(\"counter:\", counter)\n",
    "    counter = counter + 1"
   ]
  },
  {
   "cell_type": "markdown",
   "metadata": {
    "id": "QjyQlT-conFk"
   },
   "source": [
    "In this example, the `while` loop will continue to execute its block of code as long as the `counter` variable is less than 5. After each iteration, the value of `counter` is incremented by 1. When `counter` reaches 5, the loop condition becomes `False`, and the loop terminates."
   ]
  },
  {
   "cell_type": "markdown",
   "metadata": {
    "id": "mGubE2aronFk"
   },
   "source": [
    "## List Comprehensions\n",
    "\n",
    "List comprehensions are a concise and readable way to create lists in Python. They provide an alternative to creating lists using `for` loops, offering more compact and readable code for specific scenarios. List comprehensions are especially useful when working with transformations or filters for lists.\n",
    "\n",
    "The syntax for list comprehensions is as follows:\n",
    "```py\n",
    "[expression for item in iterable if condition]\n",
    "```\n",
    "\n",
    "notes: `if condition` is optional. This is the filter that will only include `item` in the resulting list if the given condition is `True`."
   ]
  },
  {
   "cell_type": "code",
   "execution_count": 10,
   "metadata": {
    "ExecuteTime": {
     "end_time": "2023-12-12T07:44:24.925152300Z",
     "start_time": "2023-12-12T07:44:24.908614100Z"
    },
    "id": "CUJAlxKfonFl"
   },
   "outputs": [],
   "source": [
    "# Create a list of the squares of the numbers from 1 to 10:\n",
    "squares = [x**2 for x in range(1, 11)]\n",
    "\n",
    "# Create a list of even numbers between 1 and 20:\n",
    "even_numbers = [x for x in range(1, 21) if x % 2 == 0]"
   ]
  },
  {
   "cell_type": "markdown",
   "metadata": {
    "id": "EX38Fl-UonFl"
   },
   "source": [
    "## Exercise Control Structures"
   ]
  },
  {
   "cell_type": "code",
   "execution_count": 11,
   "metadata": {
    "ExecuteTime": {
     "end_time": "2023-12-12T07:44:29.704570900Z",
     "start_time": "2023-12-12T07:44:27.137309900Z"
    },
    "id": "EZ_E-lQQonFl"
   },
   "outputs": [
    {
     "name": "stdout",
     "output_type": "stream",
     "text": [
      "Requirement already satisfied: rggrader in c:\\users\\silve\\conda\\envs\\skill-academy-ml\\lib\\site-packages (0.1.6)\n",
      "Requirement already satisfied: requests in c:\\users\\silve\\conda\\envs\\skill-academy-ml\\lib\\site-packages (from rggrader) (2.31.0)\n",
      "Requirement already satisfied: pandas in c:\\users\\silve\\conda\\envs\\skill-academy-ml\\lib\\site-packages (from rggrader) (2.1.3)\n",
      "Requirement already satisfied: Pillow in c:\\users\\silve\\conda\\envs\\skill-academy-ml\\lib\\site-packages (from rggrader) (10.1.0)\n",
      "Requirement already satisfied: numpy<2,>=1.22.4 in c:\\users\\silve\\conda\\envs\\skill-academy-ml\\lib\\site-packages (from pandas->rggrader) (1.26.2)\n",
      "Requirement already satisfied: python-dateutil>=2.8.2 in c:\\users\\silve\\conda\\envs\\skill-academy-ml\\lib\\site-packages (from pandas->rggrader) (2.8.2)\n",
      "Requirement already satisfied: pytz>=2020.1 in c:\\users\\silve\\conda\\envs\\skill-academy-ml\\lib\\site-packages (from pandas->rggrader) (2023.3.post1)\n",
      "Requirement already satisfied: tzdata>=2022.1 in c:\\users\\silve\\conda\\envs\\skill-academy-ml\\lib\\site-packages (from pandas->rggrader) (2023.3)\n",
      "Requirement already satisfied: charset-normalizer<4,>=2 in c:\\users\\silve\\conda\\envs\\skill-academy-ml\\lib\\site-packages (from requests->rggrader) (3.3.2)\n",
      "Requirement already satisfied: idna<4,>=2.5 in c:\\users\\silve\\conda\\envs\\skill-academy-ml\\lib\\site-packages (from requests->rggrader) (3.6)\n",
      "Requirement already satisfied: urllib3<3,>=1.21.1 in c:\\users\\silve\\conda\\envs\\skill-academy-ml\\lib\\site-packages (from requests->rggrader) (2.1.0)\n",
      "Requirement already satisfied: certifi>=2017.4.17 in c:\\users\\silve\\conda\\envs\\skill-academy-ml\\lib\\site-packages (from requests->rggrader) (2023.11.17)\n",
      "Requirement already satisfied: six>=1.5 in c:\\users\\silve\\conda\\envs\\skill-academy-ml\\lib\\site-packages (from python-dateutil>=2.8.2->pandas->rggrader) (1.16.0)\n"
     ]
    }
   ],
   "source": [
    "!pip install rggrader"
   ]
  },
  {
   "cell_type": "code",
   "execution_count": 1,
   "metadata": {
    "ExecuteTime": {
     "end_time": "2023-12-12T07:50:16.215498Z",
     "start_time": "2023-12-12T07:50:16.208501800Z"
    },
    "id": "22wQNgRyonFl"
   },
   "outputs": [],
   "source": [
    "# @title #### Student Identity\n",
    "student_id = \"REA3X5EN\" # @param {type:\"string\"}\n",
    "name = \"Steven Adi Santoso\" # @param {type:\"string\"}"
   ]
  },
  {
   "cell_type": "code",
   "execution_count": 5,
   "metadata": {
    "ExecuteTime": {
     "end_time": "2023-12-12T07:50:26.893554600Z",
     "start_time": "2023-12-12T07:50:26.191159200Z"
    },
    "id": "OvPPeIvjonFl"
   },
   "outputs": [
    {
     "name": "stdout",
     "output_type": "stream",
     "text": [
      "650\n"
     ]
    },
    {
     "data": {
      "text/plain": [
       "'Assignment successfully submitted'"
      ]
     },
     "execution_count": 5,
     "metadata": {},
     "output_type": "execute_result"
    }
   ],
   "source": [
    "# @title #### 00. Sum of Even Numbers\n",
    "from rggrader import submit\n",
    "\n",
    "# sum = 2 + 4 + ... + n\n",
    "\n",
    "n = 50\n",
    "# TODO: compute the sum\n",
    "# The sum of all even numbers from 1 to n:\n",
    "total = sum([x for x in range(n + 1) if x % 2 == 0])\n",
    "\n",
    "print(total)\n",
    "\n",
    "# Submit Method\n",
    "assignment_id = \"01-control-structures\"\n",
    "question_id = \"00_sum-of-even-numbers\"\n",
    "submit(student_id, name, assignment_id, str(total), question_id)"
   ]
  },
  {
   "cell_type": "code",
   "execution_count": 6,
   "metadata": {
    "ExecuteTime": {
     "end_time": "2023-12-12T07:50:18.622862100Z",
     "start_time": "2023-12-12T07:50:17.874778100Z"
    },
    "id": "JVj9gg1ponFl"
   },
   "outputs": [
    {
     "name": "stdout",
     "output_type": "stream",
     "text": [
      "25\n"
     ]
    },
    {
     "data": {
      "text/plain": [
       "'Assignment successfully submitted'"
      ]
     },
     "execution_count": 6,
     "metadata": {},
     "output_type": "execute_result"
    }
   ],
   "source": [
    "# @title #### 01. Alternating Sum Even Odd\n",
    "from rggrader import submit\n",
    "\n",
    "# sum = -1 + 2 - 3 + 4 + ... + n\n",
    "\n",
    "n = 50\n",
    "# TODO: compute the sum\n",
    "# Sum all even numbers and subtract all odd numbers from 1 to n:\n",
    "total = sum([-x if x % 2 != 0 else x for x in range(1, n + 1)])\n",
    "\n",
    "print(total)\n",
    "\n",
    "# Submit Method\n",
    "assignment_id = \"01-control-structures\"\n",
    "question_id = \"01_alternating-sum-even-odd\"\n",
    "submit(student_id, name, assignment_id, str(total), question_id)"
   ]
  }
 ],
 "metadata": {
  "celltoolbar": "Slideshow",
  "colab": {
   "provenance": []
  },
  "kernelspec": {
   "display_name": "Python 3 (ipykernel)",
   "language": "python",
   "name": "python3"
  },
  "language_info": {
   "codemirror_mode": {
    "name": "ipython",
    "version": 3
   },
   "file_extension": ".py",
   "mimetype": "text/x-python",
   "name": "python",
   "nbconvert_exporter": "python",
   "pygments_lexer": "ipython3",
   "version": "3.10.13"
  }
 },
 "nbformat": 4,
 "nbformat_minor": 0
}
