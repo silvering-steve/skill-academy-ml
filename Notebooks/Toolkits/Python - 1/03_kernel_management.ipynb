{
 "cells": [
  {
   "cell_type": "markdown",
   "metadata": {
    "id": "3kn2WtjFn3L3"
   },
   "source": [
    "# Kernel Management"
   ]
  },
  {
   "cell_type": "markdown",
   "metadata": {
    "id": "Pfwjz260n3L6"
   },
   "source": [
    "## What is a kernel?\n",
    "\n",
    "A 'kernel' in Jupyter parlance is the computational engine that executes the code written in the notebook. The kernel also handles tasks such as computations for widgets and tab completion.\n",
    "\n",
    "When you open a notebook, the associated kernel is automatically launched for you. The kernel’s language corresponds to the language of the notebook. For instance, if you're working in a Python notebook, the kernel is responsible for executing Python code.\n"
   ]
  },
  {
   "cell_type": "markdown",
   "metadata": {
    "id": "MTxTRqCUn3L7"
   },
   "source": [
    "## Selecting and switching kernels\n",
    "\n",
    "The ability to select and switch kernels is an integral part of kernel management. This functionality allows users to run different code cells within the same notebook using different programming languages.\n"
   ]
  },
  {
   "cell_type": "markdown",
   "metadata": {
    "id": "S4OKlfkkn3L7"
   },
   "source": [
    "### How to Select a Kernel\n",
    "When you create a new notebook, you need to specify which kernel to use. The kernel you choose is dependent on the programming language you intend to use. Here are the steps:\n",
    "\n",
    "1. Click on the \"File\" tab on the Jupyter notebook interface.\n",
    "2. Scroll down and click \"New Notebook.\"\n",
    "3. A side menu will pop up with a list of available kernels.\n",
    "4. Select the kernel that corresponds to the programming language you wish to use."
   ]
  },
  {
   "cell_type": "markdown",
   "metadata": {
    "id": "R5R1VvsYn3L8"
   },
   "source": [
    "### How to Switch Kernels\n",
    "If you want to change the kernel in an existing notebook, follow these steps:\n",
    "\n",
    "1. Open the notebook you want to switch kernels in.\n",
    "2. Click on the \"Kernel\" tab on the notebook interface.\n",
    "3. Scroll down and click \"Change Kernel.\"\n",
    "4. A side menu will pop up with a list of available kernels.\n",
    "5. Select the kernel that you wish to switch to."
   ]
  },
  {
   "cell_type": "markdown",
   "metadata": {
    "id": "OVQUqzwmn3L8"
   },
   "source": [
    "### Example\n",
    "\n",
    "Let's say you're working on a Python notebook but you want to switch to an R kernel to leverage some of the exclusive statistical packages that R provides.\n",
    "\n",
    "Here's how you'd do it:\n",
    "\n",
    "1. Write your Python code as you normally would. Execute all the cells you need.\n",
    "2. Go to the `Kernel` menu, then `Change kernel`, and select `R`.\n",
    "3. Now your notebook is in R mode. You can write and execute R code."
   ]
  },
  {
   "cell_type": "markdown",
   "metadata": {
    "id": "d0nYboGQn3L9"
   },
   "source": [
    "Please note that the Python and R variables are not shared. That means an R kernel is oblivious to what happens in a Python kernel and vice versa."
   ]
  },
  {
   "cell_type": "markdown",
   "metadata": {
    "id": "3-7Vaf50n3L-"
   },
   "source": [
    "### Important\n",
    "\n",
    "Keep in mind that for you to switch to a given kernel, you **must have that kernel installed in your machine**. If it's not installed, Jupyter will not list it as an option in the `Change kernel` dropdown menu."
   ]
  },
  {
   "cell_type": "markdown",
   "metadata": {
    "id": "zvE_Uzdgn3L-"
   },
   "source": [
    "##   Restarting, interrupting, and shutting down kernels"
   ]
  },
  {
   "cell_type": "markdown",
   "metadata": {
    "id": "W7hhiKcln3L_"
   },
   "source": [
    "### Restarting kernels\n",
    "\n",
    "There are situations where you might want to restart the kernel— for example, if your **code is stuck in an infinite loop** or if **the kernel is consuming too much memory**.\n",
    "\n",
    "Another example, if you're debugging your code and you want to ensure that your results are not due to variables from previous cells, you might choose to restart your kernel to clear all loaded variables."
   ]
  },
  {
   "cell_type": "markdown",
   "metadata": {
    "id": "Rm0RGlhan3L_"
   },
   "source": [
    "To restart the kernel:\n",
    "\n",
    "1. Go to the `Kernel` menu.\n",
    "2. Click `Restart`.\n",
    "\n",
    "This will restart the kernel, meaning the kernel process is shut down and started anew. This is a pretty \"**hard**\" operation, but sometimes necessary. Any variables or functions defined will be lost."
   ]
  },
  {
   "cell_type": "markdown",
   "metadata": {
    "id": "oMP-CBeEn3MA"
   },
   "source": [
    "### Interrupting Kernels\n",
    "\n",
    "If you want to stop the execution of a code cell, you can interrupt the kernel. This is useful if a computation is taking longer than expected and you want to stop it to modify and rerun the code.\n",
    "\n",
    "Let's say you're running a machine learning model with a large dataset, but you realize you've made a mistake in your code that will affect the output. Rather than waiting for the lengthy process to finish, you can interrupt the kernel, fix your code, and rerun the cell."
   ]
  },
  {
   "cell_type": "markdown",
   "metadata": {
    "id": "X75AA407n3MB"
   },
   "source": [
    "To interrupt the kernel:\n",
    "\n",
    "1. Go to the `Kernel` menu.\n",
    "2. Click `Interrupt`.\n",
    "\n",
    "This sends a signal to the kernel to stop execution as soon as possible. If the kernel is currently executing a system call or similar that cannot be interrupted, you'll have to wait for it to return."
   ]
  },
  {
   "cell_type": "markdown",
   "metadata": {
    "id": "dPQq4K-jn3MB"
   },
   "source": [
    "### Shutting Down Kernels\n",
    "\n",
    "Shutting down a kernel removes it from the kernel menu and **frees up the resources** it was using. If you're done with your analysis and no longer need the notebook, you can shut down the kernel to free up system resources.\n",
    "\n",
    "To shut down the kernel:\n",
    "\n",
    "1. Go to the `File` menu.\n",
    "2. Click `Close and Halt`."
   ]
  },
  {
   "cell_type": "markdown",
   "metadata": {
    "id": "H6PigWpjn3MB"
   },
   "source": [
    "Note: Restarting, interrupting, and shutting down kernels are actions that **cannot be undone**. Hence, use these options wisely and save your work frequently."
   ]
  },
  {
   "cell_type": "markdown",
   "metadata": {
    "id": "0u8vjFgcn3MB"
   },
   "source": [
    "## Clearing cell outputs\n",
    "\n",
    "Let's say you have a notebook with a lot of cells that generate long outputs, like computation results or visualizations. Over time, the notebook can get quite cluttered, making it difficult to navigate and causing it to load slowly."
   ]
  },
  {
   "cell_type": "markdown",
   "metadata": {
    "id": "LTJGmq7-n3MB"
   },
   "source": [
    "For instance, you might be working with a cell that generates a large DataFrame output:"
   ]
  },
  {
   "cell_type": "code",
   "execution_count": 1,
   "metadata": {
    "scrolled": true,
    "id": "8Ncri4Fqn3MB",
    "ExecuteTime": {
     "end_time": "2023-12-12T07:59:37.143482600Z",
     "start_time": "2023-12-12T07:59:36.760852400Z"
    }
   },
   "outputs": [
    {
     "data": {
      "text/plain": "    0   1   2   3   4   5   6   7   8   9   ...  40  41  42  43  44  45  46  \\\n0    9  77   9  64  34  38  78  76  91   2  ...  18   6  14  88  24  36  11   \n1   53  66  83  58   5  76  10  99  79  37  ...  32  67  23   0  85  68  10   \n2    7  53  76  54  74  10  29  55  20  76  ...  18  23   4  64  43  77  96   \n3   60  29  67  31   0  66  69  21  31  43  ...  29  47  27  57  44  57  83   \n4   81  59  29  61  53  68  80  45  14  65  ...  49  47  69   4  60  64  39   \n..  ..  ..  ..  ..  ..  ..  ..  ..  ..  ..  ...  ..  ..  ..  ..  ..  ..  ..   \n95  41  72  23  33  34  61  61  84  34  56  ...  16  48  97  12  18  94  93   \n96  22  18   3  23  15  67  50  16  32  26  ...   3  30  12  69   9  74  20   \n97  69  46  21  90  89  91  97  13  72  11  ...  27  37  21  84  36  34  72   \n98  83  22   3   9  44  27  10   1  71  77  ...  21  58  15   1  73  88  30   \n99  53  78  39   5  48  78   2  90  95  53  ...  30   9  95  66  24  64   0   \n\n    47  48  49  \n0   35  41  21  \n1   49  15  94  \n2   48   1  64  \n3   19  90  68  \n4   84  49  23  \n..  ..  ..  ..  \n95  29  34  99  \n96  82  63  35  \n97  49  82  55  \n98  41  13  88  \n99  72  49  23  \n\n[100 rows x 50 columns]",
      "text/html": "<div>\n<style scoped>\n    .dataframe tbody tr th:only-of-type {\n        vertical-align: middle;\n    }\n\n    .dataframe tbody tr th {\n        vertical-align: top;\n    }\n\n    .dataframe thead th {\n        text-align: right;\n    }\n</style>\n<table border=\"1\" class=\"dataframe\">\n  <thead>\n    <tr style=\"text-align: right;\">\n      <th></th>\n      <th>0</th>\n      <th>1</th>\n      <th>2</th>\n      <th>3</th>\n      <th>4</th>\n      <th>5</th>\n      <th>6</th>\n      <th>7</th>\n      <th>8</th>\n      <th>9</th>\n      <th>...</th>\n      <th>40</th>\n      <th>41</th>\n      <th>42</th>\n      <th>43</th>\n      <th>44</th>\n      <th>45</th>\n      <th>46</th>\n      <th>47</th>\n      <th>48</th>\n      <th>49</th>\n    </tr>\n  </thead>\n  <tbody>\n    <tr>\n      <th>0</th>\n      <td>9</td>\n      <td>77</td>\n      <td>9</td>\n      <td>64</td>\n      <td>34</td>\n      <td>38</td>\n      <td>78</td>\n      <td>76</td>\n      <td>91</td>\n      <td>2</td>\n      <td>...</td>\n      <td>18</td>\n      <td>6</td>\n      <td>14</td>\n      <td>88</td>\n      <td>24</td>\n      <td>36</td>\n      <td>11</td>\n      <td>35</td>\n      <td>41</td>\n      <td>21</td>\n    </tr>\n    <tr>\n      <th>1</th>\n      <td>53</td>\n      <td>66</td>\n      <td>83</td>\n      <td>58</td>\n      <td>5</td>\n      <td>76</td>\n      <td>10</td>\n      <td>99</td>\n      <td>79</td>\n      <td>37</td>\n      <td>...</td>\n      <td>32</td>\n      <td>67</td>\n      <td>23</td>\n      <td>0</td>\n      <td>85</td>\n      <td>68</td>\n      <td>10</td>\n      <td>49</td>\n      <td>15</td>\n      <td>94</td>\n    </tr>\n    <tr>\n      <th>2</th>\n      <td>7</td>\n      <td>53</td>\n      <td>76</td>\n      <td>54</td>\n      <td>74</td>\n      <td>10</td>\n      <td>29</td>\n      <td>55</td>\n      <td>20</td>\n      <td>76</td>\n      <td>...</td>\n      <td>18</td>\n      <td>23</td>\n      <td>4</td>\n      <td>64</td>\n      <td>43</td>\n      <td>77</td>\n      <td>96</td>\n      <td>48</td>\n      <td>1</td>\n      <td>64</td>\n    </tr>\n    <tr>\n      <th>3</th>\n      <td>60</td>\n      <td>29</td>\n      <td>67</td>\n      <td>31</td>\n      <td>0</td>\n      <td>66</td>\n      <td>69</td>\n      <td>21</td>\n      <td>31</td>\n      <td>43</td>\n      <td>...</td>\n      <td>29</td>\n      <td>47</td>\n      <td>27</td>\n      <td>57</td>\n      <td>44</td>\n      <td>57</td>\n      <td>83</td>\n      <td>19</td>\n      <td>90</td>\n      <td>68</td>\n    </tr>\n    <tr>\n      <th>4</th>\n      <td>81</td>\n      <td>59</td>\n      <td>29</td>\n      <td>61</td>\n      <td>53</td>\n      <td>68</td>\n      <td>80</td>\n      <td>45</td>\n      <td>14</td>\n      <td>65</td>\n      <td>...</td>\n      <td>49</td>\n      <td>47</td>\n      <td>69</td>\n      <td>4</td>\n      <td>60</td>\n      <td>64</td>\n      <td>39</td>\n      <td>84</td>\n      <td>49</td>\n      <td>23</td>\n    </tr>\n    <tr>\n      <th>...</th>\n      <td>...</td>\n      <td>...</td>\n      <td>...</td>\n      <td>...</td>\n      <td>...</td>\n      <td>...</td>\n      <td>...</td>\n      <td>...</td>\n      <td>...</td>\n      <td>...</td>\n      <td>...</td>\n      <td>...</td>\n      <td>...</td>\n      <td>...</td>\n      <td>...</td>\n      <td>...</td>\n      <td>...</td>\n      <td>...</td>\n      <td>...</td>\n      <td>...</td>\n      <td>...</td>\n    </tr>\n    <tr>\n      <th>95</th>\n      <td>41</td>\n      <td>72</td>\n      <td>23</td>\n      <td>33</td>\n      <td>34</td>\n      <td>61</td>\n      <td>61</td>\n      <td>84</td>\n      <td>34</td>\n      <td>56</td>\n      <td>...</td>\n      <td>16</td>\n      <td>48</td>\n      <td>97</td>\n      <td>12</td>\n      <td>18</td>\n      <td>94</td>\n      <td>93</td>\n      <td>29</td>\n      <td>34</td>\n      <td>99</td>\n    </tr>\n    <tr>\n      <th>96</th>\n      <td>22</td>\n      <td>18</td>\n      <td>3</td>\n      <td>23</td>\n      <td>15</td>\n      <td>67</td>\n      <td>50</td>\n      <td>16</td>\n      <td>32</td>\n      <td>26</td>\n      <td>...</td>\n      <td>3</td>\n      <td>30</td>\n      <td>12</td>\n      <td>69</td>\n      <td>9</td>\n      <td>74</td>\n      <td>20</td>\n      <td>82</td>\n      <td>63</td>\n      <td>35</td>\n    </tr>\n    <tr>\n      <th>97</th>\n      <td>69</td>\n      <td>46</td>\n      <td>21</td>\n      <td>90</td>\n      <td>89</td>\n      <td>91</td>\n      <td>97</td>\n      <td>13</td>\n      <td>72</td>\n      <td>11</td>\n      <td>...</td>\n      <td>27</td>\n      <td>37</td>\n      <td>21</td>\n      <td>84</td>\n      <td>36</td>\n      <td>34</td>\n      <td>72</td>\n      <td>49</td>\n      <td>82</td>\n      <td>55</td>\n    </tr>\n    <tr>\n      <th>98</th>\n      <td>83</td>\n      <td>22</td>\n      <td>3</td>\n      <td>9</td>\n      <td>44</td>\n      <td>27</td>\n      <td>10</td>\n      <td>1</td>\n      <td>71</td>\n      <td>77</td>\n      <td>...</td>\n      <td>21</td>\n      <td>58</td>\n      <td>15</td>\n      <td>1</td>\n      <td>73</td>\n      <td>88</td>\n      <td>30</td>\n      <td>41</td>\n      <td>13</td>\n      <td>88</td>\n    </tr>\n    <tr>\n      <th>99</th>\n      <td>53</td>\n      <td>78</td>\n      <td>39</td>\n      <td>5</td>\n      <td>48</td>\n      <td>78</td>\n      <td>2</td>\n      <td>90</td>\n      <td>95</td>\n      <td>53</td>\n      <td>...</td>\n      <td>30</td>\n      <td>9</td>\n      <td>95</td>\n      <td>66</td>\n      <td>24</td>\n      <td>64</td>\n      <td>0</td>\n      <td>72</td>\n      <td>49</td>\n      <td>23</td>\n    </tr>\n  </tbody>\n</table>\n<p>100 rows × 50 columns</p>\n</div>"
     },
     "execution_count": 1,
     "metadata": {},
     "output_type": "execute_result"
    }
   ],
   "source": [
    "import pandas as pd\n",
    "import numpy as np\n",
    "\n",
    "# generate a DataFrame with 100 rows and 50 columns\n",
    "df = pd.DataFrame(data=np.random.randint(0, 100, (100, 50)))\n",
    "\n",
    "df"
   ]
  },
  {
   "cell_type": "markdown",
   "metadata": {
    "id": "xIqFYNlhn3MC"
   },
   "source": [
    "The output of this cell would be a large DataFrame that takes up a lot of space in your notebook.\n",
    "\n",
    "To make your notebook more manageable, you can clear the output of this cell. After running the cell, you would go to the `Cell` menu, select `Current Outputs`, and then `Clear`. The large DataFrame output will now be removed from your view, making your notebook cleaner and more concise."
   ]
  }
 ],
 "metadata": {
  "celltoolbar": "Slideshow",
  "kernelspec": {
   "display_name": "Python 3 (ipykernel)",
   "language": "python",
   "name": "python3"
  },
  "language_info": {
   "codemirror_mode": {
    "name": "ipython",
    "version": 3
   },
   "file_extension": ".py",
   "mimetype": "text/x-python",
   "name": "python",
   "nbconvert_exporter": "python",
   "pygments_lexer": "ipython3",
   "version": "3.11.3"
  },
  "colab": {
   "provenance": []
  }
 },
 "nbformat": 4,
 "nbformat_minor": 0
}
