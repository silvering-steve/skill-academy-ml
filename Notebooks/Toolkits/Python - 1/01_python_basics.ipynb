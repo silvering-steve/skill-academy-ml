{
 "cells": [
  {
   "cell_type": "markdown",
   "metadata": {
    "id": "Iy-kZFBBm4ay"
   },
   "source": [
    "# Python Basics"
   ]
  },
  {
   "cell_type": "markdown",
   "metadata": {
    "id": "Zd6QsgU8m4a2"
   },
   "source": [
    "## Basic syntax"
   ]
  },
  {
   "cell_type": "markdown",
   "metadata": {
    "id": "o86VImIum4a2"
   },
   "source": [
    "### Comment\n",
    "\n",
    "Comments are completely ignored by the interpreter. They are meant for fellow programmers. In Python, there are two types of comments:\n",
    "- Single-line comment\n",
    "- Multi-line comment\n",
    "\n",
    "We use the `#` symbol to write a single-line comment and triple quotes, either `'''` or `\"\"\"` to write multi-line comment."
   ]
  },
  {
   "cell_type": "code",
   "execution_count": 1,
   "metadata": {
    "ExecuteTime": {
     "end_time": "2023-12-12T07:39:15.113162700Z",
     "start_time": "2023-12-12T07:39:15.091115200Z"
    },
    "id": "RNyWEcs-m4a3"
   },
   "outputs": [
    {
     "data": {
      "text/plain": [
       "'\\nThis is a\\nmulti-line\\ncomment in Python\\n'"
      ]
     },
     "execution_count": 1,
     "metadata": {},
     "output_type": "execute_result"
    }
   ],
   "source": [
    "# This is a single-line comment in Python\n",
    "\n",
    "\"\"\"\n",
    "This is a\n",
    "multi-line\n",
    "comment in Python\n",
    "\"\"\""
   ]
  },
  {
   "cell_type": "markdown",
   "metadata": {
    "id": "-wS_lOIEm4a4"
   },
   "source": [
    "### Indentation\n",
    "\n",
    "Python uses indentation to define blocks of code, instead of curly braces. Both tabs and spaces are supported, but the standard indentation requires standard Python code to use four spaces"
   ]
  },
  {
   "cell_type": "code",
   "execution_count": 2,
   "metadata": {
    "ExecuteTime": {
     "end_time": "2023-12-12T07:39:15.129201200Z",
     "start_time": "2023-12-12T07:39:15.114162100Z"
    },
    "id": "Kz0wE0YFm4a5"
   },
   "outputs": [
    {
     "name": "stdout",
     "output_type": "stream",
     "text": [
      "5 is greater than 2\n",
      "10 is greater than 5\n"
     ]
    }
   ],
   "source": [
    "if 5 > 2:\n",
    "    # Indented four spaces\n",
    "    # This block has one level of indentation\n",
    "    print(\"5 is greater than 2\")\n",
    "\n",
    "    if 10 > 5:\n",
    "        # This block has two levels of indentation\n",
    "        print(\"10 is greater than 5\")"
   ]
  },
  {
   "cell_type": "markdown",
   "metadata": {
    "id": "I2HhDF1dm4a5"
   },
   "source": [
    "### Lines\n",
    "\n",
    "You can use a backslash if you need to place a long statement on multiple lines or put multiple short statements on the same line using a semicolon."
   ]
  },
  {
   "cell_type": "code",
   "execution_count": 3,
   "metadata": {
    "ExecuteTime": {
     "end_time": "2023-12-12T07:39:16.337019900Z",
     "start_time": "2023-12-12T07:39:16.325313300Z"
    },
    "id": "1tt3Jauvm4a6"
   },
   "outputs": [],
   "source": [
    "# This is a long statement broken into two lines by using a backslash\n",
    "result = 1 + 2 + 3 + 4 + \\\n",
    "         5 + 6 + 7 + 8\n",
    "\n",
    "# These are two short statements placed on the same line using a semicolon\n",
    "x = 5; y = 10"
   ]
  },
  {
   "cell_type": "markdown",
   "metadata": {
    "id": "aCu454Kam4a7"
   },
   "source": [
    "## Data types"
   ]
  },
  {
   "cell_type": "markdown",
   "metadata": {
    "id": "8w2J6Uzbm4a7"
   },
   "source": [
    "### Numbers\n",
    "\n",
    "Python supports two types of numbers - integers(whole numbers) and floating point numbers(decimals).\n",
    "\n",
    "Integers are whole numbers, both positive and negative, without decimals. Floats represent real numbers, both positive and negative, with decimal points."
   ]
  },
  {
   "cell_type": "code",
   "execution_count": 4,
   "metadata": {
    "ExecuteTime": {
     "end_time": "2023-12-12T07:39:18.274200300Z",
     "start_time": "2023-12-12T07:39:18.251079200Z"
    },
    "id": "yJTlxQErm4a8"
   },
   "outputs": [],
   "source": [
    "myint1 = 5  # An integer\n",
    "myint2 = -42 # Another integer\n",
    "\n",
    "myfloat1 = 3.14   # A float\n",
    "myfloat2 = -0.007 # Another float"
   ]
  },
  {
   "cell_type": "markdown",
   "metadata": {
    "id": "5Rbus5VHm4a8"
   },
   "source": [
    "### String\n",
    "\n",
    "Strings are sequences of characters, enclosed in single or double quotes."
   ]
  },
  {
   "cell_type": "code",
   "execution_count": 5,
   "metadata": {
    "ExecuteTime": {
     "end_time": "2023-12-12T07:39:20.009336Z",
     "start_time": "2023-12-12T07:39:20.002768500Z"
    },
    "id": "shVsE9rum4a8"
   },
   "outputs": [],
   "source": [
    "mystring1 = 'Hello, World!' # A string using single quotes\n",
    "mystring2 = \"Hello, World!\" # A string using double quotes"
   ]
  },
  {
   "cell_type": "markdown",
   "metadata": {
    "id": "vWqqJpWlm4a8"
   },
   "source": [
    "### Boolean\n",
    "\n",
    "A binary variable, having two possible values called `True` and `False`.\n"
   ]
  },
  {
   "cell_type": "code",
   "execution_count": 6,
   "metadata": {
    "ExecuteTime": {
     "end_time": "2023-12-12T07:39:22.156213400Z",
     "start_time": "2023-12-12T07:39:22.122380100Z"
    },
    "id": "wZADrG2Um4a8"
   },
   "outputs": [],
   "source": [
    "x = True  # A boolean with the value True\n",
    "y = False # A boolean with the value False"
   ]
  },
  {
   "cell_type": "markdown",
   "metadata": {
    "id": "BWA_U4Hom4a9"
   },
   "source": [
    "## Variables and value assignment"
   ]
  },
  {
   "cell_type": "markdown",
   "metadata": {
    "id": "HopT54Nzm4a9"
   },
   "source": [
    "Variable names in Python should start with a letter or an underscore (_) and can be followed by any combination of letters, numbers, or underscores. They are case-sensitive, so `var1` and `Var1` are different variables. Assigning a value to a variable is done using the assignment operator (`=`)."
   ]
  },
  {
   "cell_type": "code",
   "execution_count": 7,
   "metadata": {
    "ExecuteTime": {
     "end_time": "2023-12-12T07:39:23.466820100Z",
     "start_time": "2023-12-12T07:39:23.450196300Z"
    },
    "id": "SCSNH2_sm4a9"
   },
   "outputs": [],
   "source": [
    "# Assigning an integer value to a variable\n",
    "x = 10\n",
    "\n",
    "# Assigning a float value to a variable\n",
    "y = 5.5\n",
    "\n",
    "# Assigning a string value to a variable\n",
    "name = \"John Doe\"\n",
    "\n",
    "# Assigning a boolean value to a variable\n",
    "is_active = True"
   ]
  },
  {
   "cell_type": "markdown",
   "metadata": {
    "id": "oW9kLzyBm4a9"
   },
   "source": [
    "Assignments can be done on more than one variable \"simultaneously\" on the same line, and you can assign the same value to multiple variables"
   ]
  },
  {
   "cell_type": "code",
   "execution_count": 8,
   "metadata": {
    "ExecuteTime": {
     "end_time": "2023-12-12T07:39:24.812995300Z",
     "start_time": "2023-12-12T07:39:24.801447600Z"
    },
    "id": "5KQ8R4arm4a9"
   },
   "outputs": [],
   "source": [
    "# assign values to multiple variables\n",
    "a, b, c = 1, 2, 3\n",
    "\n",
    "# assign the same value to multiple variables\n",
    "x = y = z = 8"
   ]
  },
  {
   "cell_type": "markdown",
   "metadata": {
    "id": "J_LBqxTSm4a-"
   },
   "source": [
    "## Mathematical and comparison operations"
   ]
  },
  {
   "cell_type": "markdown",
   "metadata": {
    "id": "5WBGPGNNm4a-"
   },
   "source": [
    "### Mathematical Operations"
   ]
  },
  {
   "cell_type": "code",
   "execution_count": 9,
   "metadata": {
    "ExecuteTime": {
     "end_time": "2023-12-12T07:39:25.965138700Z",
     "start_time": "2023-12-12T07:39:25.948347600Z"
    },
    "id": "xj8Iq10Qm4a-"
   },
   "outputs": [],
   "source": [
    "# Addition (+)\n",
    "a = 5 + 3 # a will be 8\n",
    "\n",
    "# Subtraction (-)\n",
    "b = 5 - 3 # b will be 2\n",
    "\n",
    "# Multiplication (*)\n",
    "c = 5 * 3 # c will be 15\n",
    "\n",
    "# Division (/)\n",
    "d = 15 / 3 # d will be 5.0\n",
    "\n",
    "# Modulus (%)\n",
    "e = 7 % 3 # e will be 1\n",
    "\n",
    "# Exponentiation (**)\n",
    "f = 2 ** 3 # f will be 8\n",
    "\n",
    "# Floor Division (//)\n",
    "g = 7 // 3 # g will be 2"
   ]
  },
  {
   "cell_type": "markdown",
   "metadata": {
    "id": "m9FbW6t1m4a-"
   },
   "source": [
    "### Comparison Operations"
   ]
  },
  {
   "cell_type": "code",
   "execution_count": 10,
   "metadata": {
    "ExecuteTime": {
     "end_time": "2023-12-12T07:39:27.238995100Z",
     "start_time": "2023-12-12T07:39:27.190850Z"
    },
    "id": "pGEmxfoWm4a-"
   },
   "outputs": [],
   "source": [
    "# Equal to (==)\n",
    "result = (5 == 3) # result will be False\n",
    "\n",
    "# Not equal to (!=)\n",
    "result = (5 != 3) # result will be True\n",
    "\n",
    "# Greater than (>)\n",
    "result = (5 > 3) # result will be True\n",
    "\n",
    "# Less than (<)\n",
    "result = (5 < 3) # result will be False\n",
    "\n",
    "# Greater than or equal to (>=)\n",
    "result = (5 >= 3) # result will be True\n",
    "\n",
    "# Less than or equal to (<=)\n",
    "result = (5 <= 3) # result will be False"
   ]
  },
  {
   "cell_type": "markdown",
   "metadata": {
    "id": "fTrHwozSm4a_"
   },
   "source": [
    "## Logical operations\n",
    "\n",
    "In Python, you can perform logical operations using the following logical operators: `and`, `or`, and `not`. They are used to combine or modify boolean values (`True` and `False`)."
   ]
  },
  {
   "cell_type": "markdown",
   "metadata": {
    "id": "BKytuJ6fm4a_"
   },
   "source": [
    "### `and`\n",
    "\n",
    "Returns `True` if **both** operands are `True`, otherwise returns `False`."
   ]
  },
  {
   "cell_type": "code",
   "execution_count": 11,
   "metadata": {
    "ExecuteTime": {
     "end_time": "2023-12-12T07:39:28.938624700Z",
     "start_time": "2023-12-12T07:39:28.913467900Z"
    },
    "id": "brqXDhX_m4a_"
   },
   "outputs": [],
   "source": [
    "x = True and False # x will be False\n",
    "y = True and True  # y will be True"
   ]
  },
  {
   "cell_type": "markdown",
   "metadata": {
    "id": "fZx3DyAim4a_"
   },
   "source": [
    "### `or`\n",
    "\n",
    "Returns `True` if **at least one** operand is `True`, otherwise returns `False`."
   ]
  },
  {
   "cell_type": "code",
   "execution_count": 12,
   "metadata": {
    "ExecuteTime": {
     "end_time": "2023-12-12T07:39:29.749867800Z",
     "start_time": "2023-12-12T07:39:29.739357300Z"
    },
    "id": "LiP4z56zm4a_"
   },
   "outputs": [],
   "source": [
    "x = True or False # x will be True\n",
    "y = False or False # y will be False"
   ]
  },
  {
   "cell_type": "markdown",
   "metadata": {
    "id": "sf-5N07Gm4a_"
   },
   "source": [
    "### `not`\n",
    "\n",
    "Returns `True` if the operand is `False`, and `False` if the operand is `True`."
   ]
  },
  {
   "cell_type": "code",
   "execution_count": 13,
   "metadata": {
    "ExecuteTime": {
     "end_time": "2023-12-12T07:39:31.235052Z",
     "start_time": "2023-12-12T07:39:31.155082800Z"
    },
    "id": "SYgTAr3km4a_"
   },
   "outputs": [],
   "source": [
    "x = not True  # x will be False\n",
    "y = not False # y will be True"
   ]
  },
  {
   "cell_type": "markdown",
   "metadata": {
    "id": "WWpDWGKVm4bA"
   },
   "source": [
    "You can combine multiple logical operators and use parentheses to group conditions and control the order of evaluation."
   ]
  },
  {
   "cell_type": "code",
   "execution_count": 14,
   "metadata": {
    "ExecuteTime": {
     "end_time": "2023-12-12T07:39:32.060326700Z",
     "start_time": "2023-12-12T07:39:32.044776500Z"
    },
    "id": "PhUANcGim4bA"
   },
   "outputs": [],
   "source": [
    "a = 5\n",
    "b = 3\n",
    "c = 2\n",
    "\n",
    "result = (a > b) and (c < b) # result will be True"
   ]
  },
  {
   "cell_type": "markdown",
   "metadata": {
    "id": "bvwYJoh6m4bA"
   },
   "source": [
    "In this example, (a > b) is True, (c < b) is True, and as both conditions are True, the logical and operation returns True."
   ]
  },
  {
   "cell_type": "markdown",
   "metadata": {
    "id": "U4mhfiYRm4bA"
   },
   "source": [
    "## Exercise Python Basics"
   ]
  },
  {
   "cell_type": "code",
   "execution_count": 15,
   "metadata": {
    "ExecuteTime": {
     "end_time": "2023-12-12T07:40:45.958251700Z",
     "start_time": "2023-12-12T07:40:41.966029200Z"
    },
    "id": "1S5-JPH6m4bA"
   },
   "outputs": [
    {
     "name": "stdout",
     "output_type": "stream",
     "text": [
      "Requirement already satisfied: rggrader in c:\\users\\silve\\conda\\envs\\skill-academy-ml\\lib\\site-packages (0.1.6)\n",
      "Requirement already satisfied: requests in c:\\users\\silve\\conda\\envs\\skill-academy-ml\\lib\\site-packages (from rggrader) (2.31.0)\n",
      "Requirement already satisfied: pandas in c:\\users\\silve\\conda\\envs\\skill-academy-ml\\lib\\site-packages (from rggrader) (2.1.3)\n",
      "Requirement already satisfied: Pillow in c:\\users\\silve\\conda\\envs\\skill-academy-ml\\lib\\site-packages (from rggrader) (10.1.0)\n",
      "Requirement already satisfied: numpy<2,>=1.22.4 in c:\\users\\silve\\conda\\envs\\skill-academy-ml\\lib\\site-packages (from pandas->rggrader) (1.26.2)\n",
      "Requirement already satisfied: python-dateutil>=2.8.2 in c:\\users\\silve\\conda\\envs\\skill-academy-ml\\lib\\site-packages (from pandas->rggrader) (2.8.2)\n",
      "Requirement already satisfied: pytz>=2020.1 in c:\\users\\silve\\conda\\envs\\skill-academy-ml\\lib\\site-packages (from pandas->rggrader) (2023.3.post1)\n",
      "Requirement already satisfied: tzdata>=2022.1 in c:\\users\\silve\\conda\\envs\\skill-academy-ml\\lib\\site-packages (from pandas->rggrader) (2023.3)\n",
      "Requirement already satisfied: charset-normalizer<4,>=2 in c:\\users\\silve\\conda\\envs\\skill-academy-ml\\lib\\site-packages (from requests->rggrader) (3.3.2)\n",
      "Requirement already satisfied: idna<4,>=2.5 in c:\\users\\silve\\conda\\envs\\skill-academy-ml\\lib\\site-packages (from requests->rggrader) (3.6)\n",
      "Requirement already satisfied: urllib3<3,>=1.21.1 in c:\\users\\silve\\conda\\envs\\skill-academy-ml\\lib\\site-packages (from requests->rggrader) (2.1.0)\n",
      "Requirement already satisfied: certifi>=2017.4.17 in c:\\users\\silve\\conda\\envs\\skill-academy-ml\\lib\\site-packages (from requests->rggrader) (2023.11.17)\n",
      "Requirement already satisfied: six>=1.5 in c:\\users\\silve\\conda\\envs\\skill-academy-ml\\lib\\site-packages (from python-dateutil>=2.8.2->pandas->rggrader) (1.16.0)\n"
     ]
    }
   ],
   "source": [
    "!pip install rggrader"
   ]
  },
  {
   "cell_type": "code",
   "execution_count": 1,
   "metadata": {
    "ExecuteTime": {
     "end_time": "2023-12-12T07:40:47.237254300Z",
     "start_time": "2023-12-12T07:40:47.209178Z"
    },
    "id": "QB9loqNcm4bA"
   },
   "outputs": [],
   "source": [
    "# @title #### Student Identity\n",
    "student_id = \"REA3X5EN\" # @param {type:\"string\"}\n",
    "name = \"Steven Adi Santoso\" # @param {type:\"string\"}"
   ]
  },
  {
   "cell_type": "code",
   "execution_count": 2,
   "metadata": {
    "ExecuteTime": {
     "end_time": "2023-12-12T07:41:39.752954500Z",
     "start_time": "2023-12-12T07:41:36.788218700Z"
    },
    "id": "tmQdcucGm4bA"
   },
   "outputs": [
    {
     "data": {
      "text/plain": [
       "'Assignment successfully submitted'"
      ]
     },
     "execution_count": 2,
     "metadata": {},
     "output_type": "execute_result"
    }
   ],
   "source": [
    "# @title #### 00. Area of a circle\n",
    "from rggrader import submit\n",
    "\n",
    "r = 5\n",
    "\n",
    "# TODO:\n",
    "# Compute the area of a circle with radius r.\n",
    "# Store the result in the 'area' variable.\n",
    "area = 3.14 * r * r\n",
    "\n",
    "# Submit Method\n",
    "assignment_id = \"00_python-basics\"\n",
    "question_id = \"00_area-of-circle\"\n",
    "submit(student_id, name, assignment_id, str(area), question_id)"
   ]
  }
 ],
 "metadata": {
  "celltoolbar": "Slideshow",
  "colab": {
   "provenance": []
  },
  "kernelspec": {
   "display_name": "Python 3 (ipykernel)",
   "language": "python",
   "name": "python3"
  },
  "language_info": {
   "codemirror_mode": {
    "name": "ipython",
    "version": 3
   },
   "file_extension": ".py",
   "mimetype": "text/x-python",
   "name": "python",
   "nbconvert_exporter": "python",
   "pygments_lexer": "ipython3",
   "version": "3.10.13"
  }
 },
 "nbformat": 4,
 "nbformat_minor": 0
}
