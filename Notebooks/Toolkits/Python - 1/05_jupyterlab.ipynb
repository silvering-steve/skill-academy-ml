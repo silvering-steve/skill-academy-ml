{
  "cells": [
    {
      "cell_type": "markdown",
      "metadata": {
        "id": "ai6GhcQSoGBa"
      },
      "source": [
        "# JupyterLab"
      ]
    },
    {
      "cell_type": "markdown",
      "metadata": {
        "id": "WuH1QDhxoGBd"
      },
      "source": [
        "JupyterLab is a web-based interactive development environment for Jupyter notebooks, code, and data. It is an extensible environment for interactive and reproducible computing, based on the Jupyter Notebook and Architecture."
      ]
    },
    {
      "cell_type": "markdown",
      "metadata": {
        "id": "YmeLZrGGoGBd"
      },
      "source": [
        "Here are some of its core features:\n",
        "\n",
        "1. **Code Console**: Allows more interactive execution of code. You can execute code in a more flexible and interactive manner than in the notebook.\n",
        "\n",
        "2. **Terminal**: JupyterLab's terminals provide full support for system shells (bash, tsch, etc.) on Mac/Linux and PowerShell on Windows.\n",
        "\n",
        "3. **Text Editor**: JupyterLab provides a text editor that is integrated with Jupyter's existing kernels to provide syntax highlighting, automatic indention, and text wrapping."
      ]
    },
    {
      "cell_type": "markdown",
      "metadata": {
        "id": "mM_teq9soGBd"
      },
      "source": [
        "4. **File Browser**: You can browse directories, open files into a new tab, or drag and drop them into the notebook, making navigation easier.\n",
        "\n",
        "5. **Notebook**: This allows you to work with Jupyter notebooks.\n",
        "\n",
        "Multiple Views: JupyterLab allows you to work with multiple notebooks, datasets or terminals simultaneously in flexible layouts."
      ]
    },
    {
      "cell_type": "markdown",
      "metadata": {
        "id": "2HkUe9lioGBe"
      },
      "source": [
        "## Differences between JupyterLab and Jupyter Notebook"
      ]
    },
    {
      "cell_type": "markdown",
      "metadata": {
        "id": "gehEdGPCoGBe"
      },
      "source": [
        "1. **User Interface**: JupyterLab has a more flexible and interactive user interface. It allows you to arrange your work area with notebooks, text files, terminals, and notebook outputs. In contrast, Jupyter Notebook has a simpler user interface.\n",
        "\n",
        "2. **Extensions**: JupyterLab supports a large number of extensions and these extensions can customize or enhance any part of JupyterLab. They can provide new file viewers and editors, themes, or renderers for rich outputs in notebooks. Jupyter Notebook also supports extensions but they aren't as powerful and flexible as in JupyterLab.\n",
        "\n",
        "3. **File Explorer**: JupyterLab has an integrated file explorer to open multiple notebooks, whereas Jupyter Notebook does not."
      ]
    },
    {
      "cell_type": "markdown",
      "metadata": {
        "id": "twf6fA9MoGBf"
      },
      "source": [
        "4. **Code Consoles**: JupyterLab provides a rich code console which is not available in Jupyter Notebook.\n",
        "\n",
        "5. **Multiple Kernels**: Both support multiple kernels but managing them is easier in JupyterLab.\n",
        "\n",
        "6. **Compatibility**: JupyterLab can run Jupyter Notebook's .ipynb files and can also support the same kernels (Python, R, Julia etc.). However, Jupyter Notebook cannot run JupyterLab's additional features."
      ]
    },
    {
      "cell_type": "markdown",
      "metadata": {
        "id": "MXIOatqRoGBf"
      },
      "source": [
        "## Summary\n",
        "\n",
        "JupyterLab is an evolution of Jupyter Notebook. It provides a lot of flexible and powerful functionalities, that make it an enhanced version of Jupyter Notebook. However, the choice between them depends on the requirements of the user."
      ]
    }
  ],
  "metadata": {
    "celltoolbar": "Slideshow",
    "kernelspec": {
      "display_name": "Python 3 (ipykernel)",
      "language": "python",
      "name": "python3"
    },
    "language_info": {
      "codemirror_mode": {
        "name": "ipython",
        "version": 3
      },
      "file_extension": ".py",
      "mimetype": "text/x-python",
      "name": "python",
      "nbconvert_exporter": "python",
      "pygments_lexer": "ipython3",
      "version": "3.11.3"
    },
    "colab": {
      "provenance": []
    }
  },
  "nbformat": 4,
  "nbformat_minor": 0
}