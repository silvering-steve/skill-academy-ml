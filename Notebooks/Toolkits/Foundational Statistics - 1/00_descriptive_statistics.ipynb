{
  "cells": [
    {
      "cell_type": "markdown",
      "metadata": {
        "id": "H2MIlivWFv7y"
      },
      "source": [
        "# Descriptive Statistics\n",
        "\n",
        "![](https://images.unsplash.com/photo-1664223308213-1e38a28be35f?ixlib=rb-4.0.3&ixid=M3wxMjA3fDB8MHxwaG90by1wYWdlfHx8fGVufDB8fHx8fA%3D%3D&auto=format&fit=crop&w=1771&q=80)\n",
        "\n",
        "_“Statistics is a way of reasoning, along with a collection of tools and methods, designed to help us understand the world”_ (**[De Veaux et al. 2006](https://www.annualreviews.org/doi/10.1146/annurev-statistics-022513-115703)**, _A statistician and data science expert_)."
      ]
    },
    {
      "cell_type": "markdown",
      "metadata": {
        "id": "PLcKkRqYFv71"
      },
      "source": [
        "Descriptive Statistics is part of **Statistical analysis**, which is a way to understand patterns in data, mostly number-based data. It's used by many, including scientists and businesses.\n",
        "\n",
        "Why do we need statistical analysis, especially in **machine learning**? In Machine Learning, we are trying to make inferences or make predictions based on the input data. There are a lot of statistical concepts, such as Probability, Descriptive and Distribution Statistics, Bayes Theorem and many others, that helps in data understanding, pattern identification, improved prediction accuracy, and model validation to make data-driven decisions.\n",
        "\n",
        "Let's start with the fundamental concept, **Descriptive Statistics**."
      ]
    },
    {
      "cell_type": "markdown",
      "metadata": {
        "id": "bqIVvLA9Fv72"
      },
      "source": [
        "## Introduction to Descriptive Statistics"
      ]
    },
    {
      "cell_type": "markdown",
      "metadata": {
        "id": "I6pceDFJFv72"
      },
      "source": [
        "In **Descriptive statistics**, we are trying to describe the data, so without looking at all the data, we can get a summary of the data."
      ]
    },
    {
      "cell_type": "markdown",
      "metadata": {
        "id": "d8bmMAQWFv72"
      },
      "source": [
        "## Types of descriptive statistics"
      ]
    },
    {
      "cell_type": "markdown",
      "metadata": {
        "id": "FIpPuFBKFv72"
      },
      "source": [
        "Here we will discuss the 2 main types of descriptive statistics:\n",
        "\n",
        "- The **central tendency** concerns the averages of the data values.\n",
        "- The **variability** or dispersion concerns how spread out the data values are."
      ]
    },
    {
      "cell_type": "markdown",
      "metadata": {
        "id": "hk_mmJv9Fv72"
      },
      "source": [
        "![Descriptive Statistics](https://storage.googleapis.com/rg-ai-bootcamp/toolkits/descriptive%20statistics-min.png)"
      ]
    },
    {
      "cell_type": "markdown",
      "metadata": {
        "id": "foyxoEoPFv73"
      },
      "source": [
        "### Measures of Central Tendency\n",
        "\n",
        "The 'middle' or 'average' of our data is called its **central tendency**. This helps us find the typical data value. The three key measures of central tendency are the **mean**, **median**, and **mode**."
      ]
    },
    {
      "cell_type": "markdown",
      "metadata": {
        "id": "BfUb1tZbFv73"
      },
      "source": [
        "#### Mean\n",
        "\n",
        "The mean, or the average, is **the most used way to find the center point** of a dataset. It's like finding the **balance point of our data**. To calculate the mean, you **add all the values** and then **divide by how many values** there are.\n",
        "\n",
        "- **What happens if we don't use the mean?**\n",
        "\n",
        "  Imagine **John**, who runs a bakery. Initially, he guessed how many loaves to bake each day. The result? Sometimes, he had too many leftovers; other times, he ran out of bread, leaving customers disappointed.\n",
        "\n",
        "- **How does the mean solve the problem?**\n",
        "\n",
        "  John started using the **mean**. He noted the number of loaves sold daily for a week, then divided the total sold by seven (days). This gave him the average (or 'typical') number of loaves his customers bought daily. Using this mean, John improved his baking plan, reducing waste and customer disappointment."
      ]
    },
    {
      "cell_type": "markdown",
      "metadata": {
        "id": "o_9uhEGhFv73"
      },
      "source": [
        "**Arithmetic mean calculator**\n",
        "\n",
        "You can calculate the mean by hand or with the help of our arithmetic mean calculator below."
      ]
    },
    {
      "cell_type": "code",
      "execution_count": 3,
      "metadata": {
        "id": "fCXiuPR9Fv73",
        "tags": [
          "Hide this cell"
        ]
      },
      "outputs": [
        {
          "name": "stderr",
          "output_type": "stream",
          "text": [
            "/home/steve/.conda/envs/skill-academy-ml/lib/python3.10/site-packages/tqdm/auto.py:21: TqdmWarning: IProgress not found. Please update jupyter and ipywidgets. See https://ipywidgets.readthedocs.io/en/stable/user_install.html\n",
            "  from .autonotebook import tqdm as notebook_tqdm\n"
          ]
        },
        {
          "name": "stdout",
          "output_type": "stream",
          "text": [
            "Running on local URL:  http://127.0.0.1:7860\n",
            "\n",
            "To create a public link, set `share=True` in `launch()`.\n"
          ]
        },
        {
          "data": {
            "text/html": [
              "<div><iframe src=\"http://127.0.0.1:7860/\" width=\"100%\" height=\"500\" allow=\"autoplay; camera; microphone; clipboard-read; clipboard-write;\" frameborder=\"0\" allowfullscreen></iframe></div>"
            ],
            "text/plain": [
              "<IPython.core.display.HTML object>"
            ]
          },
          "metadata": {},
          "output_type": "display_data"
        },
        {
          "data": {
            "text/plain": []
          },
          "execution_count": 3,
          "metadata": {},
          "output_type": "execute_result"
        }
      ],
      "source": [
        "# @title #### Arithmetic mean calculator\n",
        "import gradio as gr\n",
        "import numpy as np\n",
        "\n",
        "def calculate_mean(numbers):\n",
        "    numbers = [float(num) for num in numbers.split(',')]\n",
        "    return np.mean(numbers)\n",
        "\n",
        "iface = gr.Interface(\n",
        "                     title=\"Arithmetic mean calculator\",\n",
        "                     fn=calculate_mean,\n",
        "                     inputs=\"text\",\n",
        "                     outputs=gr.Label(label=\"Mean\"),\n",
        "                     examples=[['23,45,67,89'], ['12,34,56'], ['11,22,33,44,55']])\n",
        "iface.launch()"
      ]
    },
    {
      "cell_type": "markdown",
      "metadata": {
        "id": "i1GT-4wdFv74"
      },
      "source": [
        "In research, we often draw data from a 'sample'—a subset of the 'population'—to make inferences about the whole population. The 'population' refers to the whole set we're interested in studying.\n",
        "\n",
        "![Population vs Sample](https://storage.googleapis.com/rg-ai-bootcamp/toolkits/population-vs-sample-min.png)\n",
        "\n",
        "Population vs Sample (_Source :[www.scribbr.com](https://www.scribbr.com/methodology/population-vs-sample/)_)\n",
        "\n",
        "These sets can be anything, not just people—objects, events, organizations, countries, species, etc.\n",
        "\n",
        "We calculate the mean (average) of a sample and a population with similar formulas, distinguished by notation—capital letters for population, lowercase for sample.\n",
        "\n",
        "- **Population mean ($\\bar{X}$ or μ)**\n",
        "\n",
        "  $$\\bar{X} = \\dfrac{\\sum X}{N}$$\n",
        "\n",
        "  where $\\sum X$ is the sum of all values and $N$ is the number of values in the population.\n",
        "\n",
        "- **Sample mean ($\\bar{x}$ or M)**\n",
        "\n",
        "  $$\\bar{x} = \\dfrac{\\sum x}{n}$$\n",
        "\n",
        "  where $\\sum x$ is the sum of all sample values and $n$ is the number of values in the sample."
      ]
    },
    {
      "cell_type": "markdown",
      "metadata": {
        "id": "ehdOUzxFFv75"
      },
      "source": [
        "**Calculating the Mean: An Example**\n",
        "\n",
        "Let's calculate the mean number of loaves of bread sold daily in a bakery over a week.\n",
        "\n",
        "> **Sample data**:\n",
        "> - $x$ _Number of loaves sold daily:_ 72, 64, 78, 84, 70, 76, 82\n",
        "\n",
        "First, add up all the values:\n",
        "\n",
        "$$\\sum x = 72 + 64 + 78 + 84 + 70 + 76 + 82 = 526$$\n",
        "\n",
        "Next, divide the total by the number of values (7):\n",
        "\n",
        "$$\\bar{x} = \\dfrac{\\sum x}{n} = \\dfrac{526}{7} = 75.14$$\n",
        "\n",
        "So, on average, approximately **75** loaves of bread are sold daily. This average can help the bakery to better forecast demand, reduce waste, and improve customer satisfaction.\n",
        "\n",
        "Now, What's the role of the **mean in machine learning**?\n",
        "\n",
        "Much like in John's bakery, machine learning algorithms use the mean for **making accurate predictions**. Without the mean, they would lack a critical reference point, leading to less accurate predictions. 🎯"
      ]
    },
    {
      "cell_type": "markdown",
      "metadata": {
        "id": "jY0jciFuFv75"
      },
      "source": [
        "**Interactive chart Mean**\n",
        "\n",
        "You can explore various different data to get the mean value and learn how the mean value is positioned from our tool below."
      ]
    },
    {
      "cell_type": "code",
      "execution_count": 1,
      "metadata": {
        "id": "3KET0hYLFv75",
        "tags": [
          "Hide this cell"
        ]
      },
      "outputs": [
        {
          "name": "stderr",
          "output_type": "stream",
          "text": [
            "/home/steve/.conda/envs/skill-academy-ml/lib/python3.10/site-packages/tqdm/auto.py:21: TqdmWarning: IProgress not found. Please update jupyter and ipywidgets. See https://ipywidgets.readthedocs.io/en/stable/user_install.html\n",
            "  from .autonotebook import tqdm as notebook_tqdm\n"
          ]
        },
        {
          "name": "stdout",
          "output_type": "stream",
          "text": [
            "Running on local URL:  http://127.0.0.1:7860\n",
            "\n",
            "To create a public link, set `share=True` in `launch()`.\n"
          ]
        },
        {
          "data": {
            "text/html": [
              "<div><iframe src=\"http://127.0.0.1:7860/\" width=\"100%\" height=\"500\" allow=\"autoplay; camera; microphone; clipboard-read; clipboard-write;\" frameborder=\"0\" allowfullscreen></iframe></div>"
            ],
            "text/plain": [
              "<IPython.core.display.HTML object>"
            ]
          },
          "metadata": {},
          "output_type": "display_data"
        }
      ],
      "source": [
        "# @title #### Calculate mean and plot bar chart\n",
        "import warnings\n",
        "warnings.filterwarnings('ignore', category=UserWarning, module='gradio')\n",
        "import plotly.graph_objects as go\n",
        "import gradio as gr\n",
        "import plotly.io as pio\n",
        "from PIL import Image\n",
        "import io\n",
        "\n",
        "# Function to calculate mean and plot bar chart\n",
        "def interactive_plot(num_days, day1=0, day2=0, day3=0, day4=0, day5=0, day6=0, day7=0, sort_data=False):\n",
        "    num_days = int(num_days)  # Convert num_days to integer\n",
        "    days = [day1, day2, day3, day4, day5, day6, day7][:num_days]\n",
        "    days_names = ['day1', 'day2', 'day3', 'day4', 'day5', 'day6', 'day7'][:num_days]\n",
        "\n",
        "    if sort_data:\n",
        "        days, days_names = zip(*sorted(zip(days, days_names), key=lambda pair: pair[0]))\n",
        "\n",
        "    # Calculate the mean\n",
        "    mean_day = sum(days) / len(days)\n",
        "\n",
        "    # Create a bar chart\n",
        "    fig = go.Figure(data=go.Bar(y=days, x=days_names, name='days'))\n",
        "\n",
        "    # Add a horizontal line for the mean\n",
        "    fig.add_trace(go.Scatter(\n",
        "        x=[days_names[0], days_names[-1]],\n",
        "        y=[mean_day, mean_day],\n",
        "        mode='lines',\n",
        "        name=f'Mean: {mean_day:.2f}',\n",
        "        line=dict(color='Red', width=1, dash='dash')\n",
        "    ))\n",
        "\n",
        "    # Add labels for x and y axis\n",
        "    fig.update_layout(\n",
        "        xaxis_title=\"Days\",\n",
        "        yaxis_title=\"Number of loaves sold\",\n",
        "        font=dict(\n",
        "            size=14,\n",
        "        ),\n",
        "        legend=dict(\n",
        "            yanchor=\"top\",\n",
        "            y=1.2,\n",
        "            xanchor=\"center\",\n",
        "            x=0.5\n",
        "        )\n",
        "    )\n",
        "\n",
        "    # Convert the figure to PNG image\n",
        "    png_image = pio.to_image(fig, format='png')\n",
        "\n",
        "    # Create a PIL Image object for Gradio Output\n",
        "    image = Image.open(io.BytesIO(png_image))\n",
        "\n",
        "    return image\n",
        "\n",
        "# Create Gradio interface\n",
        "iface = gr.Interface(\n",
        "    title='Interactive Mean Plot Mean',\n",
        "    description='Interactive plot of the mean of 7 days',\n",
        "    live=True,\n",
        "    fn=interactive_plot,\n",
        "    inputs=[\n",
        "        gr.Dropdown(choices=[1, 2, 3, 4, 5, 6, 7], label=\"Number of days to use\", value=\"7\"),\n",
        "        gr.Slider(minimum=0, maximum=100, step=1, value=72),\n",
        "        gr.Slider(minimum=0, maximum=100, step=1, value=64),\n",
        "        gr.Slider(minimum=0, maximum=100, step=1, value=78),\n",
        "        gr.Slider(minimum=0, maximum=100, step=1, value=84),\n",
        "        gr.Slider(minimum=0, maximum=100, step=1, value=70),\n",
        "        gr.Slider(minimum=0, maximum=100, step=1, value=76),\n",
        "        gr.Slider(minimum=0, maximum=100, step=1, value=82),\n",
        "        gr.Checkbox(label=\"Sort data\")\n",
        "    ],\n",
        "    outputs=gr.Image(type='pil'),\n",
        "    examples=[\n",
        "        [7, 30, 35, 40, 45, 80, 90, 100], # Weekend Surge\n",
        "        [7, 80, 75, 30, 35, 75, 85, 90], # Midweek Drop\n",
        "        [7, 50, 70, 30, 90, 60, 40, 80], # Random Distribution\n",
        "        [7, 10, 20, 30, 40, 50, 60, 70], # Constant Growth\n",
        "        [7, 70, 60, 50, 40, 30, 20, 10], # Constant Decline\n",
        "    ]\n",
        ")\n",
        "\n",
        "iface.launch();"
      ]
    },
    {
      "cell_type": "markdown",
      "metadata": {
        "id": "6Ib7p9oXFv75"
      },
      "source": [
        "**Caution When Using the Mean**\n",
        "\n",
        "The mean is a common measure of central tendency, but it isn't always the best choice. In certain situations, the mean can be misleading as it may be 'pulled' towards extreme values.\n",
        "\n",
        "For example, consider a company that has 9 employees who earn between \\\\$10,000 to \\\\$20,000 per year, with the exception of the CEO who earns \\\\$1,000,000. The median salary is **\\\\$113,700**, which does not accurately represent the typical salary in this case.\n",
        "\n",
        "Why? Because the CEO's salary is very large compared to other employees, the average salary is very high and does not reflect the salary of ordinary employees."
      ]
    },
    {
      "cell_type": "code",
      "execution_count": 2,
      "metadata": {
        "id": "jbgBrck_Fv76",
        "outputId": "5905d092-905c-4ea8-fa41-82556bca1f62"
      },
      "outputs": [
        {
          "data": {
            "application/vnd.plotly.v1+json": {
              "config": {
                "plotlyServerURL": "https://plot.ly"
              },
              "data": [
                {
                  "name": "Salaries",
                  "type": "bar",
                  "x": [
                    "CEO",
                    "Employee 1",
                    "Employee 2",
                    "Employee 3",
                    "Employee 4",
                    "Employee 5",
                    "Employee 6",
                    "Employee 7",
                    "Employee 8",
                    "Employee 9"
                  ],
                  "y": [
                    1000000,
                    13000,
                    19000,
                    10000,
                    18000,
                    16000,
                    13000,
                    19000,
                    10000,
                    19000
                  ]
                },
                {
                  "line": {
                    "color": "Red",
                    "dash": "dash",
                    "width": 1
                  },
                  "mode": "lines",
                  "name": "Mean: 113700.00",
                  "type": "scatter",
                  "x": [
                    "CEO",
                    "Employee 9"
                  ],
                  "y": [
                    113700,
                    113700
                  ]
                }
              ],
              "layout": {
                "font": {
                  "size": 14
                },
                "legend": {
                  "x": 0.5,
                  "xanchor": "center",
                  "y": 1.2,
                  "yanchor": "top"
                },
                "template": {
                  "data": {
                    "bar": [
                      {
                        "error_x": {
                          "color": "#2a3f5f"
                        },
                        "error_y": {
                          "color": "#2a3f5f"
                        },
                        "marker": {
                          "line": {
                            "color": "#E5ECF6",
                            "width": 0.5
                          },
                          "pattern": {
                            "fillmode": "overlay",
                            "size": 10,
                            "solidity": 0.2
                          }
                        },
                        "type": "bar"
                      }
                    ],
                    "barpolar": [
                      {
                        "marker": {
                          "line": {
                            "color": "#E5ECF6",
                            "width": 0.5
                          },
                          "pattern": {
                            "fillmode": "overlay",
                            "size": 10,
                            "solidity": 0.2
                          }
                        },
                        "type": "barpolar"
                      }
                    ],
                    "carpet": [
                      {
                        "aaxis": {
                          "endlinecolor": "#2a3f5f",
                          "gridcolor": "white",
                          "linecolor": "white",
                          "minorgridcolor": "white",
                          "startlinecolor": "#2a3f5f"
                        },
                        "baxis": {
                          "endlinecolor": "#2a3f5f",
                          "gridcolor": "white",
                          "linecolor": "white",
                          "minorgridcolor": "white",
                          "startlinecolor": "#2a3f5f"
                        },
                        "type": "carpet"
                      }
                    ],
                    "choropleth": [
                      {
                        "colorbar": {
                          "outlinewidth": 0,
                          "ticks": ""
                        },
                        "type": "choropleth"
                      }
                    ],
                    "contour": [
                      {
                        "colorbar": {
                          "outlinewidth": 0,
                          "ticks": ""
                        },
                        "colorscale": [
                          [
                            0,
                            "#0d0887"
                          ],
                          [
                            0.1111111111111111,
                            "#46039f"
                          ],
                          [
                            0.2222222222222222,
                            "#7201a8"
                          ],
                          [
                            0.3333333333333333,
                            "#9c179e"
                          ],
                          [
                            0.4444444444444444,
                            "#bd3786"
                          ],
                          [
                            0.5555555555555556,
                            "#d8576b"
                          ],
                          [
                            0.6666666666666666,
                            "#ed7953"
                          ],
                          [
                            0.7777777777777778,
                            "#fb9f3a"
                          ],
                          [
                            0.8888888888888888,
                            "#fdca26"
                          ],
                          [
                            1,
                            "#f0f921"
                          ]
                        ],
                        "type": "contour"
                      }
                    ],
                    "contourcarpet": [
                      {
                        "colorbar": {
                          "outlinewidth": 0,
                          "ticks": ""
                        },
                        "type": "contourcarpet"
                      }
                    ],
                    "heatmap": [
                      {
                        "colorbar": {
                          "outlinewidth": 0,
                          "ticks": ""
                        },
                        "colorscale": [
                          [
                            0,
                            "#0d0887"
                          ],
                          [
                            0.1111111111111111,
                            "#46039f"
                          ],
                          [
                            0.2222222222222222,
                            "#7201a8"
                          ],
                          [
                            0.3333333333333333,
                            "#9c179e"
                          ],
                          [
                            0.4444444444444444,
                            "#bd3786"
                          ],
                          [
                            0.5555555555555556,
                            "#d8576b"
                          ],
                          [
                            0.6666666666666666,
                            "#ed7953"
                          ],
                          [
                            0.7777777777777778,
                            "#fb9f3a"
                          ],
                          [
                            0.8888888888888888,
                            "#fdca26"
                          ],
                          [
                            1,
                            "#f0f921"
                          ]
                        ],
                        "type": "heatmap"
                      }
                    ],
                    "heatmapgl": [
                      {
                        "colorbar": {
                          "outlinewidth": 0,
                          "ticks": ""
                        },
                        "colorscale": [
                          [
                            0,
                            "#0d0887"
                          ],
                          [
                            0.1111111111111111,
                            "#46039f"
                          ],
                          [
                            0.2222222222222222,
                            "#7201a8"
                          ],
                          [
                            0.3333333333333333,
                            "#9c179e"
                          ],
                          [
                            0.4444444444444444,
                            "#bd3786"
                          ],
                          [
                            0.5555555555555556,
                            "#d8576b"
                          ],
                          [
                            0.6666666666666666,
                            "#ed7953"
                          ],
                          [
                            0.7777777777777778,
                            "#fb9f3a"
                          ],
                          [
                            0.8888888888888888,
                            "#fdca26"
                          ],
                          [
                            1,
                            "#f0f921"
                          ]
                        ],
                        "type": "heatmapgl"
                      }
                    ],
                    "histogram": [
                      {
                        "marker": {
                          "pattern": {
                            "fillmode": "overlay",
                            "size": 10,
                            "solidity": 0.2
                          }
                        },
                        "type": "histogram"
                      }
                    ],
                    "histogram2d": [
                      {
                        "colorbar": {
                          "outlinewidth": 0,
                          "ticks": ""
                        },
                        "colorscale": [
                          [
                            0,
                            "#0d0887"
                          ],
                          [
                            0.1111111111111111,
                            "#46039f"
                          ],
                          [
                            0.2222222222222222,
                            "#7201a8"
                          ],
                          [
                            0.3333333333333333,
                            "#9c179e"
                          ],
                          [
                            0.4444444444444444,
                            "#bd3786"
                          ],
                          [
                            0.5555555555555556,
                            "#d8576b"
                          ],
                          [
                            0.6666666666666666,
                            "#ed7953"
                          ],
                          [
                            0.7777777777777778,
                            "#fb9f3a"
                          ],
                          [
                            0.8888888888888888,
                            "#fdca26"
                          ],
                          [
                            1,
                            "#f0f921"
                          ]
                        ],
                        "type": "histogram2d"
                      }
                    ],
                    "histogram2dcontour": [
                      {
                        "colorbar": {
                          "outlinewidth": 0,
                          "ticks": ""
                        },
                        "colorscale": [
                          [
                            0,
                            "#0d0887"
                          ],
                          [
                            0.1111111111111111,
                            "#46039f"
                          ],
                          [
                            0.2222222222222222,
                            "#7201a8"
                          ],
                          [
                            0.3333333333333333,
                            "#9c179e"
                          ],
                          [
                            0.4444444444444444,
                            "#bd3786"
                          ],
                          [
                            0.5555555555555556,
                            "#d8576b"
                          ],
                          [
                            0.6666666666666666,
                            "#ed7953"
                          ],
                          [
                            0.7777777777777778,
                            "#fb9f3a"
                          ],
                          [
                            0.8888888888888888,
                            "#fdca26"
                          ],
                          [
                            1,
                            "#f0f921"
                          ]
                        ],
                        "type": "histogram2dcontour"
                      }
                    ],
                    "mesh3d": [
                      {
                        "colorbar": {
                          "outlinewidth": 0,
                          "ticks": ""
                        },
                        "type": "mesh3d"
                      }
                    ],
                    "parcoords": [
                      {
                        "line": {
                          "colorbar": {
                            "outlinewidth": 0,
                            "ticks": ""
                          }
                        },
                        "type": "parcoords"
                      }
                    ],
                    "pie": [
                      {
                        "automargin": true,
                        "type": "pie"
                      }
                    ],
                    "scatter": [
                      {
                        "fillpattern": {
                          "fillmode": "overlay",
                          "size": 10,
                          "solidity": 0.2
                        },
                        "type": "scatter"
                      }
                    ],
                    "scatter3d": [
                      {
                        "line": {
                          "colorbar": {
                            "outlinewidth": 0,
                            "ticks": ""
                          }
                        },
                        "marker": {
                          "colorbar": {
                            "outlinewidth": 0,
                            "ticks": ""
                          }
                        },
                        "type": "scatter3d"
                      }
                    ],
                    "scattercarpet": [
                      {
                        "marker": {
                          "colorbar": {
                            "outlinewidth": 0,
                            "ticks": ""
                          }
                        },
                        "type": "scattercarpet"
                      }
                    ],
                    "scattergeo": [
                      {
                        "marker": {
                          "colorbar": {
                            "outlinewidth": 0,
                            "ticks": ""
                          }
                        },
                        "type": "scattergeo"
                      }
                    ],
                    "scattergl": [
                      {
                        "marker": {
                          "colorbar": {
                            "outlinewidth": 0,
                            "ticks": ""
                          }
                        },
                        "type": "scattergl"
                      }
                    ],
                    "scattermapbox": [
                      {
                        "marker": {
                          "colorbar": {
                            "outlinewidth": 0,
                            "ticks": ""
                          }
                        },
                        "type": "scattermapbox"
                      }
                    ],
                    "scatterpolar": [
                      {
                        "marker": {
                          "colorbar": {
                            "outlinewidth": 0,
                            "ticks": ""
                          }
                        },
                        "type": "scatterpolar"
                      }
                    ],
                    "scatterpolargl": [
                      {
                        "marker": {
                          "colorbar": {
                            "outlinewidth": 0,
                            "ticks": ""
                          }
                        },
                        "type": "scatterpolargl"
                      }
                    ],
                    "scatterternary": [
                      {
                        "marker": {
                          "colorbar": {
                            "outlinewidth": 0,
                            "ticks": ""
                          }
                        },
                        "type": "scatterternary"
                      }
                    ],
                    "surface": [
                      {
                        "colorbar": {
                          "outlinewidth": 0,
                          "ticks": ""
                        },
                        "colorscale": [
                          [
                            0,
                            "#0d0887"
                          ],
                          [
                            0.1111111111111111,
                            "#46039f"
                          ],
                          [
                            0.2222222222222222,
                            "#7201a8"
                          ],
                          [
                            0.3333333333333333,
                            "#9c179e"
                          ],
                          [
                            0.4444444444444444,
                            "#bd3786"
                          ],
                          [
                            0.5555555555555556,
                            "#d8576b"
                          ],
                          [
                            0.6666666666666666,
                            "#ed7953"
                          ],
                          [
                            0.7777777777777778,
                            "#fb9f3a"
                          ],
                          [
                            0.8888888888888888,
                            "#fdca26"
                          ],
                          [
                            1,
                            "#f0f921"
                          ]
                        ],
                        "type": "surface"
                      }
                    ],
                    "table": [
                      {
                        "cells": {
                          "fill": {
                            "color": "#EBF0F8"
                          },
                          "line": {
                            "color": "white"
                          }
                        },
                        "header": {
                          "fill": {
                            "color": "#C8D4E3"
                          },
                          "line": {
                            "color": "white"
                          }
                        },
                        "type": "table"
                      }
                    ]
                  },
                  "layout": {
                    "annotationdefaults": {
                      "arrowcolor": "#2a3f5f",
                      "arrowhead": 0,
                      "arrowwidth": 1
                    },
                    "autotypenumbers": "strict",
                    "coloraxis": {
                      "colorbar": {
                        "outlinewidth": 0,
                        "ticks": ""
                      }
                    },
                    "colorscale": {
                      "diverging": [
                        [
                          0,
                          "#8e0152"
                        ],
                        [
                          0.1,
                          "#c51b7d"
                        ],
                        [
                          0.2,
                          "#de77ae"
                        ],
                        [
                          0.3,
                          "#f1b6da"
                        ],
                        [
                          0.4,
                          "#fde0ef"
                        ],
                        [
                          0.5,
                          "#f7f7f7"
                        ],
                        [
                          0.6,
                          "#e6f5d0"
                        ],
                        [
                          0.7,
                          "#b8e186"
                        ],
                        [
                          0.8,
                          "#7fbc41"
                        ],
                        [
                          0.9,
                          "#4d9221"
                        ],
                        [
                          1,
                          "#276419"
                        ]
                      ],
                      "sequential": [
                        [
                          0,
                          "#0d0887"
                        ],
                        [
                          0.1111111111111111,
                          "#46039f"
                        ],
                        [
                          0.2222222222222222,
                          "#7201a8"
                        ],
                        [
                          0.3333333333333333,
                          "#9c179e"
                        ],
                        [
                          0.4444444444444444,
                          "#bd3786"
                        ],
                        [
                          0.5555555555555556,
                          "#d8576b"
                        ],
                        [
                          0.6666666666666666,
                          "#ed7953"
                        ],
                        [
                          0.7777777777777778,
                          "#fb9f3a"
                        ],
                        [
                          0.8888888888888888,
                          "#fdca26"
                        ],
                        [
                          1,
                          "#f0f921"
                        ]
                      ],
                      "sequentialminus": [
                        [
                          0,
                          "#0d0887"
                        ],
                        [
                          0.1111111111111111,
                          "#46039f"
                        ],
                        [
                          0.2222222222222222,
                          "#7201a8"
                        ],
                        [
                          0.3333333333333333,
                          "#9c179e"
                        ],
                        [
                          0.4444444444444444,
                          "#bd3786"
                        ],
                        [
                          0.5555555555555556,
                          "#d8576b"
                        ],
                        [
                          0.6666666666666666,
                          "#ed7953"
                        ],
                        [
                          0.7777777777777778,
                          "#fb9f3a"
                        ],
                        [
                          0.8888888888888888,
                          "#fdca26"
                        ],
                        [
                          1,
                          "#f0f921"
                        ]
                      ]
                    },
                    "colorway": [
                      "#636efa",
                      "#EF553B",
                      "#00cc96",
                      "#ab63fa",
                      "#FFA15A",
                      "#19d3f3",
                      "#FF6692",
                      "#B6E880",
                      "#FF97FF",
                      "#FECB52"
                    ],
                    "font": {
                      "color": "#2a3f5f"
                    },
                    "geo": {
                      "bgcolor": "white",
                      "lakecolor": "white",
                      "landcolor": "#E5ECF6",
                      "showlakes": true,
                      "showland": true,
                      "subunitcolor": "white"
                    },
                    "hoverlabel": {
                      "align": "left"
                    },
                    "hovermode": "closest",
                    "mapbox": {
                      "style": "light"
                    },
                    "paper_bgcolor": "white",
                    "plot_bgcolor": "#E5ECF6",
                    "polar": {
                      "angularaxis": {
                        "gridcolor": "white",
                        "linecolor": "white",
                        "ticks": ""
                      },
                      "bgcolor": "#E5ECF6",
                      "radialaxis": {
                        "gridcolor": "white",
                        "linecolor": "white",
                        "ticks": ""
                      }
                    },
                    "scene": {
                      "xaxis": {
                        "backgroundcolor": "#E5ECF6",
                        "gridcolor": "white",
                        "gridwidth": 2,
                        "linecolor": "white",
                        "showbackground": true,
                        "ticks": "",
                        "zerolinecolor": "white"
                      },
                      "yaxis": {
                        "backgroundcolor": "#E5ECF6",
                        "gridcolor": "white",
                        "gridwidth": 2,
                        "linecolor": "white",
                        "showbackground": true,
                        "ticks": "",
                        "zerolinecolor": "white"
                      },
                      "zaxis": {
                        "backgroundcolor": "#E5ECF6",
                        "gridcolor": "white",
                        "gridwidth": 2,
                        "linecolor": "white",
                        "showbackground": true,
                        "ticks": "",
                        "zerolinecolor": "white"
                      }
                    },
                    "shapedefaults": {
                      "line": {
                        "color": "#2a3f5f"
                      }
                    },
                    "ternary": {
                      "aaxis": {
                        "gridcolor": "white",
                        "linecolor": "white",
                        "ticks": ""
                      },
                      "baxis": {
                        "gridcolor": "white",
                        "linecolor": "white",
                        "ticks": ""
                      },
                      "bgcolor": "#E5ECF6",
                      "caxis": {
                        "gridcolor": "white",
                        "linecolor": "white",
                        "ticks": ""
                      }
                    },
                    "title": {
                      "x": 0.05
                    },
                    "xaxis": {
                      "automargin": true,
                      "gridcolor": "white",
                      "linecolor": "white",
                      "ticks": "",
                      "title": {
                        "standoff": 15
                      },
                      "zerolinecolor": "white",
                      "zerolinewidth": 2
                    },
                    "yaxis": {
                      "automargin": true,
                      "gridcolor": "white",
                      "linecolor": "white",
                      "ticks": "",
                      "title": {
                        "standoff": 15
                      },
                      "zerolinecolor": "white",
                      "zerolinewidth": 2
                    }
                  }
                },
                "xaxis": {
                  "title": {
                    "text": "Employees"
                  }
                },
                "yaxis": {
                  "title": {
                    "text": "Salary"
                  }
                }
              }
            }
          },
          "metadata": {},
          "output_type": "display_data"
        }
      ],
      "source": [
        "# @title #### Calculate mean and plot bar chart\n",
        "import plotly.graph_objects as go\n",
        "\n",
        "# Define the data\n",
        "salaries = [1000000, 13000, 19000, 10000, 18000, 16000, 13000, 19000, 10000, 19000]\n",
        "employee_names = ['CEO', 'Employee 1', 'Employee 2', 'Employee 3', 'Employee 4', 'Employee 5', 'Employee 6', 'Employee 7', 'Employee 8', 'Employee 9']\n",
        "\n",
        "# Calculate the mean\n",
        "mean_salary = sum(salaries) / len(salaries)\n",
        "\n",
        "# Create a bar chart\n",
        "fig = go.Figure(data=go.Bar(y=salaries, x=employee_names, name='Salaries'))\n",
        "\n",
        "# Add a horizontal line for the mean\n",
        "fig.add_trace(go.Scatter(\n",
        "    x=[employee_names[0], employee_names[-1]],\n",
        "    y=[mean_salary, mean_salary],\n",
        "    mode='lines',\n",
        "    name=f'Mean: {mean_salary:.2f}',\n",
        "    line=dict(color='Red', width=1, dash='dash')\n",
        "))\n",
        "\n",
        "# Add labels for x and y axis\n",
        "fig.update_layout(\n",
        "    xaxis_title=\"Employees\",\n",
        "    yaxis_title=\"Salary\",\n",
        "    font=dict(\n",
        "        size=14,\n",
        "    ),\n",
        "    legend=dict(\n",
        "        yanchor=\"top\",\n",
        "        y=1.2,\n",
        "        xanchor=\"center\",\n",
        "        x=0.5\n",
        "    )\n",
        ")\n",
        "\n",
        "# Show the plot\n",
        "fig.show()"
      ]
    },
    {
      "cell_type": "markdown",
      "metadata": {
        "id": "xlVBcrbvFv77"
      },
      "source": [
        "A potential solution in such cases could be to use the **Median** instead."
      ]
    },
    {
      "cell_type": "markdown",
      "metadata": {
        "id": "uuSycf6eFv77"
      },
      "source": [
        "#### Median\n",
        "\n",
        "What is a **median**? This is **the middle value** in a dataset once it's **sorted in order** either descending or ascending. If the dataset has an even number of values, the median is the mean of the two middle numbers.\n",
        "\n",
        "- **What happens if we don't use the median?**\n",
        "\n",
        "  Take for example John, a baker. John wants to establish a reliable baking plan based on the number of loaves he sells each day. Using the average (mean) in calculating daily sales can be misleading, because extreme sales (for example 1000 loaves on a festival day or 10 loaves on a rainy day) can disrupt the calculations and plans.\n",
        "\n",
        "- **How does the median solve the problem?**\n",
        "\n",
        "  By using the median, John gets a more stable picture of 'typical' daily sales, without being influenced by sales extremes, so his production plans are more reliable and efficient."
      ]
    },
    {
      "cell_type": "markdown",
      "metadata": {
        "id": "wmvo9eGgFv77"
      },
      "source": [
        "**Median calculator**\n",
        "\n",
        "You can calculate the median by hand or with the help of our median calculator below."
      ]
    },
    {
      "cell_type": "code",
      "execution_count": 3,
      "metadata": {
        "id": "kfRwT2J2Fv77",
        "tags": [
          "Hide this cell"
        ]
      },
      "outputs": [
        {
          "name": "stdout",
          "output_type": "stream",
          "text": [
            "Running on local URL:  http://127.0.0.1:7861\n",
            "\n",
            "To create a public link, set `share=True` in `launch()`.\n"
          ]
        },
        {
          "data": {
            "text/html": [
              "<div><iframe src=\"http://127.0.0.1:7861/\" width=\"100%\" height=\"500\" allow=\"autoplay; camera; microphone; clipboard-read; clipboard-write;\" frameborder=\"0\" allowfullscreen></iframe></div>"
            ],
            "text/plain": [
              "<IPython.core.display.HTML object>"
            ]
          },
          "metadata": {},
          "output_type": "display_data"
        },
        {
          "data": {
            "text/plain": []
          },
          "execution_count": 3,
          "metadata": {},
          "output_type": "execute_result"
        }
      ],
      "source": [
        "# @title #### Median calculator\n",
        "import gradio as gr\n",
        "import numpy as np\n",
        "\n",
        "def calculate_median(numbers):\n",
        "    numbers = [float(num) for num in numbers.split(',')]\n",
        "    return np.median(numbers)\n",
        "\n",
        "iface = gr.Interface(fn=calculate_median,\n",
        "                     inputs=\"text\",\n",
        "                     outputs=gr.Label(label=\"Median\"),\n",
        "                     examples=[['23,45,67,89'], ['12,34,56'], ['11,22,33,44,55']])\n",
        "iface.launch()"
      ]
    },
    {
      "cell_type": "markdown",
      "metadata": {
        "id": "tEFUjOjrFv78"
      },
      "source": [
        "##### Steps for calculating the median by hand\n",
        "\n",
        "Let's consider some examples from the daily bread sales at a bakery.\n",
        "\n",
        "- **Odd Number of Data Points**\n",
        "\n",
        "  If we track daily sales over 7 days: `[72, 64, 78, 84, 70, 76, 82]`, and arrange the values in ascending order, the median is the middle value, which is **76**.\n",
        "\n",
        "- **Even Number of Data Points**\n",
        "\n",
        "  If we track daily sales over 8 days: `[72, 64, 78, 84, 70, 76, 82, 88]`, and sort the values, the median is the mean of the two middle values. This equates to **(76+78)/2 = 77**.\n",
        "\n",
        "Why choose the **median** over the **mean**? The median is the central value of a data set, undistorted by **outliers** or **skewness**, making it a more accurate measure of central tendency for skewed data. After understanding the concept of the median, it's vital to identify any outliers in our dataset as these can skew the data distribution. So, what are **outliers** and **skewness**?"
      ]
    },
    {
      "cell_type": "markdown",
      "metadata": {
        "id": "kUKYfX7QFv78"
      },
      "source": [
        "- **Outliers** are values that are significantly different from others in the dataset. They can excessively influence the mean, leading to a deceptive representation of the data.\n",
        "\n",
        "  Outliers can be detected using the **Interquartile Range (IQR)**. Here's how:\n",
        "\n",
        "  Take for instance, the dataset: {1, 2, 3, 4, 4, 5, 100}\n",
        "\n",
        "  1. **Q1** (First Quartile): This is the median of the lower half of the dataset, which in this case is {1, 2, 3} = 2.\n",
        "  2. **Q2** (Second Quartile or Median): This is the middle value of the full dataset, which is = 4.\n",
        "  3. **Q3** (Third Quartile): This is the median of the upper half of the dataset, which in this case is {4, 5, 100} = 5.\n",
        "  4. **IQR** (Interquartile Range) = Q3 - Q1 = 5 - 2 = 3.\n",
        "  5. **Lower Limit**: This is calculated as Q1 - 1.5*IQR = 2 - 1.5*3 = **-2.5**.\n",
        "  6. **Upper Limit**: This is calculated as Q3 + 1.5*IQR = 5 + 1.5*3 = **9.5**.\n",
        "\n",
        "  Any value below **-2.5** or above **9.5** is considered an outlier. Therefore, in this dataset **100** is an outlier.\n",
        "\n",
        "  ![Outliers](https://storage.googleapis.com/rg-ai-bootcamp/toolkits/outliers-min.png)\n",
        "\n",
        "  Outliers in a box plot (_Source: [whatissixsigma.net](https://www.whatissixsigma.net/box-plot-diagram-to-identify-outliers/)_)"
      ]
    },
    {
      "cell_type": "markdown",
      "metadata": {
        "id": "bhQRGv8BFv78"
      },
      "source": [
        "- **Skewness** is an asymmetry in a dataset's distribution. When the right tail (higher values) is longer or fatter, we have **positive skewness**, and the mean typically exceeds the median. Conversely, **negative skewness** implies a longer or fatter left tail (lower values), with the mean usually less than the median.\n",
        "\n",
        "  ![Skewness](https://www.asquareschool.com/wp-content/uploads/2015/08/skewness.jpg)\n",
        "\n",
        "  Skewness (_Source: [deepai.org](https://deepai.org/machine-learning-glossary-and-terms/skewness)_)\n",
        "\n",
        "  Skewness is crucial to consider as it can mislead data interpretation. For instance, in a positively skewed distribution, the mean could overestimate the typical value, making the median a more accurate measure of central tendency.\n",
        "\n",
        "  Consider a company where all 9 employees earn between \\\\$10,000 to \\\\$20,000 per year, with the exception of the CEO who earns \\\\$1,000,000. In this scenario, the salary distribution exhibits positive skewness, because the CEO's high salary pulls the average up, making the median (middle salary) a better representative of the typical salary within the company.\n",
        "\n",
        "  If we were to consider a situation where most employees earn high salaries, but a few earn significantly less (negative skewness), the median salary would still provide a more accurate representation as it would be higher than the average, which is pulled down by the few low salaries.\n",
        "\n",
        "  Thus, in skewed salary data, the median is a more reliable and representative measure of central tendency."
      ]
    },
    {
      "cell_type": "code",
      "execution_count": 4,
      "metadata": {
        "id": "crH9sOiuFv78",
        "outputId": "d9cb273a-30c6-4320-91c1-afaa1582800f"
      },
      "outputs": [
        {
          "data": {
            "application/vnd.plotly.v1+json": {
              "config": {
                "plotlyServerURL": "https://plot.ly"
              },
              "data": [
                {
                  "name": "Salaries",
                  "type": "bar",
                  "x": [
                    "CEO",
                    "Employee 1",
                    "Employee 2",
                    "Employee 3",
                    "Employee 4",
                    "Employee 5",
                    "Employee 6",
                    "Employee 7",
                    "Employee 8",
                    "Employee 9"
                  ],
                  "y": [
                    1000000,
                    13000,
                    19000,
                    10000,
                    18000,
                    16000,
                    13000,
                    19000,
                    10000,
                    19000
                  ]
                },
                {
                  "line": {
                    "color": "Red",
                    "dash": "dash",
                    "width": 1
                  },
                  "mode": "lines",
                  "name": "Mean: 113700.00",
                  "type": "scatter",
                  "x": [
                    "CEO",
                    "Employee 9"
                  ],
                  "y": [
                    113700,
                    113700
                  ]
                },
                {
                  "line": {
                    "color": "Blue",
                    "dash": "dash",
                    "width": 1
                  },
                  "mode": "lines",
                  "name": "Median: 17000.00",
                  "type": "scatter",
                  "x": [
                    "CEO",
                    "Employee 9"
                  ],
                  "y": [
                    17000,
                    17000
                  ]
                }
              ],
              "layout": {
                "font": {
                  "size": 14
                },
                "legend": {
                  "x": 0.5,
                  "xanchor": "center",
                  "y": 1.2,
                  "yanchor": "top"
                },
                "template": {
                  "data": {
                    "bar": [
                      {
                        "error_x": {
                          "color": "#2a3f5f"
                        },
                        "error_y": {
                          "color": "#2a3f5f"
                        },
                        "marker": {
                          "line": {
                            "color": "#E5ECF6",
                            "width": 0.5
                          },
                          "pattern": {
                            "fillmode": "overlay",
                            "size": 10,
                            "solidity": 0.2
                          }
                        },
                        "type": "bar"
                      }
                    ],
                    "barpolar": [
                      {
                        "marker": {
                          "line": {
                            "color": "#E5ECF6",
                            "width": 0.5
                          },
                          "pattern": {
                            "fillmode": "overlay",
                            "size": 10,
                            "solidity": 0.2
                          }
                        },
                        "type": "barpolar"
                      }
                    ],
                    "carpet": [
                      {
                        "aaxis": {
                          "endlinecolor": "#2a3f5f",
                          "gridcolor": "white",
                          "linecolor": "white",
                          "minorgridcolor": "white",
                          "startlinecolor": "#2a3f5f"
                        },
                        "baxis": {
                          "endlinecolor": "#2a3f5f",
                          "gridcolor": "white",
                          "linecolor": "white",
                          "minorgridcolor": "white",
                          "startlinecolor": "#2a3f5f"
                        },
                        "type": "carpet"
                      }
                    ],
                    "choropleth": [
                      {
                        "colorbar": {
                          "outlinewidth": 0,
                          "ticks": ""
                        },
                        "type": "choropleth"
                      }
                    ],
                    "contour": [
                      {
                        "colorbar": {
                          "outlinewidth": 0,
                          "ticks": ""
                        },
                        "colorscale": [
                          [
                            0,
                            "#0d0887"
                          ],
                          [
                            0.1111111111111111,
                            "#46039f"
                          ],
                          [
                            0.2222222222222222,
                            "#7201a8"
                          ],
                          [
                            0.3333333333333333,
                            "#9c179e"
                          ],
                          [
                            0.4444444444444444,
                            "#bd3786"
                          ],
                          [
                            0.5555555555555556,
                            "#d8576b"
                          ],
                          [
                            0.6666666666666666,
                            "#ed7953"
                          ],
                          [
                            0.7777777777777778,
                            "#fb9f3a"
                          ],
                          [
                            0.8888888888888888,
                            "#fdca26"
                          ],
                          [
                            1,
                            "#f0f921"
                          ]
                        ],
                        "type": "contour"
                      }
                    ],
                    "contourcarpet": [
                      {
                        "colorbar": {
                          "outlinewidth": 0,
                          "ticks": ""
                        },
                        "type": "contourcarpet"
                      }
                    ],
                    "heatmap": [
                      {
                        "colorbar": {
                          "outlinewidth": 0,
                          "ticks": ""
                        },
                        "colorscale": [
                          [
                            0,
                            "#0d0887"
                          ],
                          [
                            0.1111111111111111,
                            "#46039f"
                          ],
                          [
                            0.2222222222222222,
                            "#7201a8"
                          ],
                          [
                            0.3333333333333333,
                            "#9c179e"
                          ],
                          [
                            0.4444444444444444,
                            "#bd3786"
                          ],
                          [
                            0.5555555555555556,
                            "#d8576b"
                          ],
                          [
                            0.6666666666666666,
                            "#ed7953"
                          ],
                          [
                            0.7777777777777778,
                            "#fb9f3a"
                          ],
                          [
                            0.8888888888888888,
                            "#fdca26"
                          ],
                          [
                            1,
                            "#f0f921"
                          ]
                        ],
                        "type": "heatmap"
                      }
                    ],
                    "heatmapgl": [
                      {
                        "colorbar": {
                          "outlinewidth": 0,
                          "ticks": ""
                        },
                        "colorscale": [
                          [
                            0,
                            "#0d0887"
                          ],
                          [
                            0.1111111111111111,
                            "#46039f"
                          ],
                          [
                            0.2222222222222222,
                            "#7201a8"
                          ],
                          [
                            0.3333333333333333,
                            "#9c179e"
                          ],
                          [
                            0.4444444444444444,
                            "#bd3786"
                          ],
                          [
                            0.5555555555555556,
                            "#d8576b"
                          ],
                          [
                            0.6666666666666666,
                            "#ed7953"
                          ],
                          [
                            0.7777777777777778,
                            "#fb9f3a"
                          ],
                          [
                            0.8888888888888888,
                            "#fdca26"
                          ],
                          [
                            1,
                            "#f0f921"
                          ]
                        ],
                        "type": "heatmapgl"
                      }
                    ],
                    "histogram": [
                      {
                        "marker": {
                          "pattern": {
                            "fillmode": "overlay",
                            "size": 10,
                            "solidity": 0.2
                          }
                        },
                        "type": "histogram"
                      }
                    ],
                    "histogram2d": [
                      {
                        "colorbar": {
                          "outlinewidth": 0,
                          "ticks": ""
                        },
                        "colorscale": [
                          [
                            0,
                            "#0d0887"
                          ],
                          [
                            0.1111111111111111,
                            "#46039f"
                          ],
                          [
                            0.2222222222222222,
                            "#7201a8"
                          ],
                          [
                            0.3333333333333333,
                            "#9c179e"
                          ],
                          [
                            0.4444444444444444,
                            "#bd3786"
                          ],
                          [
                            0.5555555555555556,
                            "#d8576b"
                          ],
                          [
                            0.6666666666666666,
                            "#ed7953"
                          ],
                          [
                            0.7777777777777778,
                            "#fb9f3a"
                          ],
                          [
                            0.8888888888888888,
                            "#fdca26"
                          ],
                          [
                            1,
                            "#f0f921"
                          ]
                        ],
                        "type": "histogram2d"
                      }
                    ],
                    "histogram2dcontour": [
                      {
                        "colorbar": {
                          "outlinewidth": 0,
                          "ticks": ""
                        },
                        "colorscale": [
                          [
                            0,
                            "#0d0887"
                          ],
                          [
                            0.1111111111111111,
                            "#46039f"
                          ],
                          [
                            0.2222222222222222,
                            "#7201a8"
                          ],
                          [
                            0.3333333333333333,
                            "#9c179e"
                          ],
                          [
                            0.4444444444444444,
                            "#bd3786"
                          ],
                          [
                            0.5555555555555556,
                            "#d8576b"
                          ],
                          [
                            0.6666666666666666,
                            "#ed7953"
                          ],
                          [
                            0.7777777777777778,
                            "#fb9f3a"
                          ],
                          [
                            0.8888888888888888,
                            "#fdca26"
                          ],
                          [
                            1,
                            "#f0f921"
                          ]
                        ],
                        "type": "histogram2dcontour"
                      }
                    ],
                    "mesh3d": [
                      {
                        "colorbar": {
                          "outlinewidth": 0,
                          "ticks": ""
                        },
                        "type": "mesh3d"
                      }
                    ],
                    "parcoords": [
                      {
                        "line": {
                          "colorbar": {
                            "outlinewidth": 0,
                            "ticks": ""
                          }
                        },
                        "type": "parcoords"
                      }
                    ],
                    "pie": [
                      {
                        "automargin": true,
                        "type": "pie"
                      }
                    ],
                    "scatter": [
                      {
                        "fillpattern": {
                          "fillmode": "overlay",
                          "size": 10,
                          "solidity": 0.2
                        },
                        "type": "scatter"
                      }
                    ],
                    "scatter3d": [
                      {
                        "line": {
                          "colorbar": {
                            "outlinewidth": 0,
                            "ticks": ""
                          }
                        },
                        "marker": {
                          "colorbar": {
                            "outlinewidth": 0,
                            "ticks": ""
                          }
                        },
                        "type": "scatter3d"
                      }
                    ],
                    "scattercarpet": [
                      {
                        "marker": {
                          "colorbar": {
                            "outlinewidth": 0,
                            "ticks": ""
                          }
                        },
                        "type": "scattercarpet"
                      }
                    ],
                    "scattergeo": [
                      {
                        "marker": {
                          "colorbar": {
                            "outlinewidth": 0,
                            "ticks": ""
                          }
                        },
                        "type": "scattergeo"
                      }
                    ],
                    "scattergl": [
                      {
                        "marker": {
                          "colorbar": {
                            "outlinewidth": 0,
                            "ticks": ""
                          }
                        },
                        "type": "scattergl"
                      }
                    ],
                    "scattermapbox": [
                      {
                        "marker": {
                          "colorbar": {
                            "outlinewidth": 0,
                            "ticks": ""
                          }
                        },
                        "type": "scattermapbox"
                      }
                    ],
                    "scatterpolar": [
                      {
                        "marker": {
                          "colorbar": {
                            "outlinewidth": 0,
                            "ticks": ""
                          }
                        },
                        "type": "scatterpolar"
                      }
                    ],
                    "scatterpolargl": [
                      {
                        "marker": {
                          "colorbar": {
                            "outlinewidth": 0,
                            "ticks": ""
                          }
                        },
                        "type": "scatterpolargl"
                      }
                    ],
                    "scatterternary": [
                      {
                        "marker": {
                          "colorbar": {
                            "outlinewidth": 0,
                            "ticks": ""
                          }
                        },
                        "type": "scatterternary"
                      }
                    ],
                    "surface": [
                      {
                        "colorbar": {
                          "outlinewidth": 0,
                          "ticks": ""
                        },
                        "colorscale": [
                          [
                            0,
                            "#0d0887"
                          ],
                          [
                            0.1111111111111111,
                            "#46039f"
                          ],
                          [
                            0.2222222222222222,
                            "#7201a8"
                          ],
                          [
                            0.3333333333333333,
                            "#9c179e"
                          ],
                          [
                            0.4444444444444444,
                            "#bd3786"
                          ],
                          [
                            0.5555555555555556,
                            "#d8576b"
                          ],
                          [
                            0.6666666666666666,
                            "#ed7953"
                          ],
                          [
                            0.7777777777777778,
                            "#fb9f3a"
                          ],
                          [
                            0.8888888888888888,
                            "#fdca26"
                          ],
                          [
                            1,
                            "#f0f921"
                          ]
                        ],
                        "type": "surface"
                      }
                    ],
                    "table": [
                      {
                        "cells": {
                          "fill": {
                            "color": "#EBF0F8"
                          },
                          "line": {
                            "color": "white"
                          }
                        },
                        "header": {
                          "fill": {
                            "color": "#C8D4E3"
                          },
                          "line": {
                            "color": "white"
                          }
                        },
                        "type": "table"
                      }
                    ]
                  },
                  "layout": {
                    "annotationdefaults": {
                      "arrowcolor": "#2a3f5f",
                      "arrowhead": 0,
                      "arrowwidth": 1
                    },
                    "autotypenumbers": "strict",
                    "coloraxis": {
                      "colorbar": {
                        "outlinewidth": 0,
                        "ticks": ""
                      }
                    },
                    "colorscale": {
                      "diverging": [
                        [
                          0,
                          "#8e0152"
                        ],
                        [
                          0.1,
                          "#c51b7d"
                        ],
                        [
                          0.2,
                          "#de77ae"
                        ],
                        [
                          0.3,
                          "#f1b6da"
                        ],
                        [
                          0.4,
                          "#fde0ef"
                        ],
                        [
                          0.5,
                          "#f7f7f7"
                        ],
                        [
                          0.6,
                          "#e6f5d0"
                        ],
                        [
                          0.7,
                          "#b8e186"
                        ],
                        [
                          0.8,
                          "#7fbc41"
                        ],
                        [
                          0.9,
                          "#4d9221"
                        ],
                        [
                          1,
                          "#276419"
                        ]
                      ],
                      "sequential": [
                        [
                          0,
                          "#0d0887"
                        ],
                        [
                          0.1111111111111111,
                          "#46039f"
                        ],
                        [
                          0.2222222222222222,
                          "#7201a8"
                        ],
                        [
                          0.3333333333333333,
                          "#9c179e"
                        ],
                        [
                          0.4444444444444444,
                          "#bd3786"
                        ],
                        [
                          0.5555555555555556,
                          "#d8576b"
                        ],
                        [
                          0.6666666666666666,
                          "#ed7953"
                        ],
                        [
                          0.7777777777777778,
                          "#fb9f3a"
                        ],
                        [
                          0.8888888888888888,
                          "#fdca26"
                        ],
                        [
                          1,
                          "#f0f921"
                        ]
                      ],
                      "sequentialminus": [
                        [
                          0,
                          "#0d0887"
                        ],
                        [
                          0.1111111111111111,
                          "#46039f"
                        ],
                        [
                          0.2222222222222222,
                          "#7201a8"
                        ],
                        [
                          0.3333333333333333,
                          "#9c179e"
                        ],
                        [
                          0.4444444444444444,
                          "#bd3786"
                        ],
                        [
                          0.5555555555555556,
                          "#d8576b"
                        ],
                        [
                          0.6666666666666666,
                          "#ed7953"
                        ],
                        [
                          0.7777777777777778,
                          "#fb9f3a"
                        ],
                        [
                          0.8888888888888888,
                          "#fdca26"
                        ],
                        [
                          1,
                          "#f0f921"
                        ]
                      ]
                    },
                    "colorway": [
                      "#636efa",
                      "#EF553B",
                      "#00cc96",
                      "#ab63fa",
                      "#FFA15A",
                      "#19d3f3",
                      "#FF6692",
                      "#B6E880",
                      "#FF97FF",
                      "#FECB52"
                    ],
                    "font": {
                      "color": "#2a3f5f"
                    },
                    "geo": {
                      "bgcolor": "white",
                      "lakecolor": "white",
                      "landcolor": "#E5ECF6",
                      "showlakes": true,
                      "showland": true,
                      "subunitcolor": "white"
                    },
                    "hoverlabel": {
                      "align": "left"
                    },
                    "hovermode": "closest",
                    "mapbox": {
                      "style": "light"
                    },
                    "paper_bgcolor": "white",
                    "plot_bgcolor": "#E5ECF6",
                    "polar": {
                      "angularaxis": {
                        "gridcolor": "white",
                        "linecolor": "white",
                        "ticks": ""
                      },
                      "bgcolor": "#E5ECF6",
                      "radialaxis": {
                        "gridcolor": "white",
                        "linecolor": "white",
                        "ticks": ""
                      }
                    },
                    "scene": {
                      "xaxis": {
                        "backgroundcolor": "#E5ECF6",
                        "gridcolor": "white",
                        "gridwidth": 2,
                        "linecolor": "white",
                        "showbackground": true,
                        "ticks": "",
                        "zerolinecolor": "white"
                      },
                      "yaxis": {
                        "backgroundcolor": "#E5ECF6",
                        "gridcolor": "white",
                        "gridwidth": 2,
                        "linecolor": "white",
                        "showbackground": true,
                        "ticks": "",
                        "zerolinecolor": "white"
                      },
                      "zaxis": {
                        "backgroundcolor": "#E5ECF6",
                        "gridcolor": "white",
                        "gridwidth": 2,
                        "linecolor": "white",
                        "showbackground": true,
                        "ticks": "",
                        "zerolinecolor": "white"
                      }
                    },
                    "shapedefaults": {
                      "line": {
                        "color": "#2a3f5f"
                      }
                    },
                    "ternary": {
                      "aaxis": {
                        "gridcolor": "white",
                        "linecolor": "white",
                        "ticks": ""
                      },
                      "baxis": {
                        "gridcolor": "white",
                        "linecolor": "white",
                        "ticks": ""
                      },
                      "bgcolor": "#E5ECF6",
                      "caxis": {
                        "gridcolor": "white",
                        "linecolor": "white",
                        "ticks": ""
                      }
                    },
                    "title": {
                      "x": 0.05
                    },
                    "xaxis": {
                      "automargin": true,
                      "gridcolor": "white",
                      "linecolor": "white",
                      "ticks": "",
                      "title": {
                        "standoff": 15
                      },
                      "zerolinecolor": "white",
                      "zerolinewidth": 2
                    },
                    "yaxis": {
                      "automargin": true,
                      "gridcolor": "white",
                      "linecolor": "white",
                      "ticks": "",
                      "title": {
                        "standoff": 15
                      },
                      "zerolinecolor": "white",
                      "zerolinewidth": 2
                    }
                  }
                },
                "xaxis": {
                  "title": {
                    "text": "Employees"
                  }
                },
                "yaxis": {
                  "title": {
                    "text": "Salary"
                  }
                }
              }
            }
          },
          "metadata": {},
          "output_type": "display_data"
        }
      ],
      "source": [
        "# @title #### Calculate mean, median and plot bar chart\n",
        "import plotly.graph_objects as go\n",
        "import statistics\n",
        "\n",
        "# Define the data\n",
        "salaries = [1000000, 13000, 19000, 10000, 18000, 16000, 13000, 19000, 10000, 19000]\n",
        "employee_names = ['CEO', 'Employee 1', 'Employee 2', 'Employee 3', 'Employee 4', 'Employee 5', 'Employee 6', 'Employee 7', 'Employee 8', 'Employee 9']\n",
        "\n",
        "# Calculate the mean\n",
        "mean_salary = sum(salaries) / len(salaries)\n",
        "\n",
        "# Calculate the median\n",
        "median_salary = statistics.median(salaries)\n",
        "\n",
        "# Create a bar chart\n",
        "fig = go.Figure(data=go.Bar(y=salaries, x=employee_names, name='Salaries'))\n",
        "\n",
        "# Add a horizontal line for the mean\n",
        "fig.add_trace(go.Scatter(\n",
        "    x=[employee_names[0], employee_names[-1]],\n",
        "    y=[mean_salary, mean_salary],\n",
        "    mode='lines',\n",
        "    name=f'Mean: {mean_salary:.2f}',\n",
        "    line=dict(color='Red', width=1, dash='dash')\n",
        "))\n",
        "\n",
        "# Add a horizontal line for the median\n",
        "fig.add_trace(go.Scatter(\n",
        "    x=[employee_names[0], employee_names[-1]],\n",
        "    y=[median_salary, median_salary],\n",
        "    mode='lines',\n",
        "    name=f'Median: {median_salary:.2f}',\n",
        "    line=dict(color='Blue', width=1, dash='dash')\n",
        "))\n",
        "\n",
        "# Add labels for x and y axis\n",
        "fig.update_layout(\n",
        "    xaxis_title=\"Employees\",\n",
        "    yaxis_title=\"Salary\",\n",
        "    font=dict(\n",
        "        size=14,\n",
        "    ),\n",
        "    legend=dict(\n",
        "        yanchor=\"top\",\n",
        "        y=1.2,\n",
        "        xanchor=\"center\",\n",
        "        x=0.5\n",
        "    )\n",
        ")\n",
        "\n",
        "# Show the plot\n",
        "fig.show()"
      ]
    },
    {
      "cell_type": "markdown",
      "metadata": {
        "id": "hGFFlOSaFv78"
      },
      "source": [
        "Now, What's the role of the **median in machine learning**?\n",
        "\n",
        "In machine learning, the median can sometimes be a better choice than the mean, especially when dealing with **outliers (extremely high or low values)** in the dataset. Using the median can help **avoid this distortion** and provide more reliable predictions. 🎯"
      ]
    },
    {
      "cell_type": "markdown",
      "metadata": {
        "id": "oJE1bh7cFv78"
      },
      "source": [
        "**Interactive chart median**\n",
        "\n",
        "You can explore various different data to get the median value and learn how the mean value is positioned from our tool below."
      ]
    },
    {
      "cell_type": "code",
      "execution_count": 5,
      "metadata": {
        "id": "bcHvLRLRFv79",
        "tags": [
          "Hide this cell"
        ]
      },
      "outputs": [
        {
          "name": "stdout",
          "output_type": "stream",
          "text": [
            "Running on local URL:  http://127.0.0.1:7862\n",
            "\n",
            "To create a public link, set `share=True` in `launch()`.\n"
          ]
        },
        {
          "data": {
            "text/html": [
              "<div><iframe src=\"http://127.0.0.1:7862/\" width=\"100%\" height=\"500\" allow=\"autoplay; camera; microphone; clipboard-read; clipboard-write;\" frameborder=\"0\" allowfullscreen></iframe></div>"
            ],
            "text/plain": [
              "<IPython.core.display.HTML object>"
            ]
          },
          "metadata": {},
          "output_type": "display_data"
        },
        {
          "data": {
            "text/plain": []
          },
          "execution_count": 5,
          "metadata": {},
          "output_type": "execute_result"
        }
      ],
      "source": [
        "# @title #### Calculate mean, median and plot bar chart\n",
        "import warnings\n",
        "warnings.filterwarnings('ignore', category=UserWarning, module='gradio')\n",
        "import numpy as np\n",
        "import statistics\n",
        "\n",
        "# Function to calculate mean, median and plot bar chart\n",
        "def interactive_plot(num_days, day1=0, day2=0, day3=0, day4=0, day5=0, day6=0, day7=0, day8=0, statistics_to_show=None, sort_data=False):\n",
        "    num_days = int(num_days)  # Convert num_days to integer\n",
        "    days = [day1, day2, day3, day4, day5, day6, day7, day8][:num_days]\n",
        "    days_names = ['day1', 'day2', 'day3', 'day4', 'day5', 'day6', 'day7', 'day8'][:num_days]\n",
        "\n",
        "    # Sort the data if the option is selected\n",
        "    if sort_data:\n",
        "        days, days_names = zip(*sorted(zip(days, days_names), key=lambda pair: pair[0]))\n",
        "\n",
        "    fig = go.Figure(data=go.Bar(y=days, x=days_names, name='days'))\n",
        "\n",
        "    if 'mean' in statistics_to_show:\n",
        "        # Calculate the mean\n",
        "        mean_day = np.mean(days)\n",
        "\n",
        "        # Add a horizontal line for the mean\n",
        "        fig.add_trace(go.Scatter(\n",
        "            x=[days_names[0], days_names[-1]],\n",
        "            y=[mean_day, mean_day],\n",
        "            mode='lines',\n",
        "            name=f'Mean: {mean_day:.2f}',\n",
        "            line=dict(color='Red', width=1, dash='dash')\n",
        "        ))\n",
        "\n",
        "    if 'median' in statistics_to_show:\n",
        "        # Calculate the median\n",
        "        median_day = statistics.median(days)\n",
        "\n",
        "        # Add a horizontal line for the median\n",
        "        fig.add_trace(go.Scatter(\n",
        "            x=[days_names[0], days_names[-1]],\n",
        "            y=[median_day, median_day],\n",
        "            mode='lines',\n",
        "            name=f'Median: {median_day:.2f}',\n",
        "            line=dict(color='Green', width=1, dash='dash')\n",
        "        ))\n",
        "\n",
        "    # Add labels for x and y axis\n",
        "    fig.update_layout(\n",
        "        xaxis_title=\"Days\",\n",
        "        yaxis_title=\"Number of loaves sold\",\n",
        "        font=dict(\n",
        "            size=14,\n",
        "        ),\n",
        "        legend=dict(\n",
        "            yanchor=\"top\",\n",
        "            y=0.99,\n",
        "            xanchor=\"left\",\n",
        "            x=0.01\n",
        "        )\n",
        "    )\n",
        "\n",
        "    # Convert the figure to PNG image\n",
        "    png_image = pio.to_image(fig, format='png')\n",
        "\n",
        "    # Create a PIL Image object for Gradio Output\n",
        "    image = Image.open(io.BytesIO(png_image))\n",
        "\n",
        "    return image\n",
        "\n",
        "\n",
        "# Create Gradio interface\n",
        "iface = gr.Interface(\n",
        "    title='Interactive Mean and Median Plot',\n",
        "    description='Interactive plot of the mean and median number of 8 days',\n",
        "    live=True,\n",
        "    fn=interactive_plot,\n",
        "    inputs=[\n",
        "        gr.Dropdown(choices=[1, 2, 3, 4, 5, 6, 7, 8], label=\"Number of days to use\", value=\"8\"),\n",
        "        gr.Slider(minimum=0, maximum=100, step=1, value=64),\n",
        "        gr.Slider(minimum=0, maximum=100, step=1, value=70),\n",
        "        gr.Slider(minimum=0, maximum=100, step=1, value=72),\n",
        "        gr.Slider(minimum=0, maximum=100, step=1, value=76),\n",
        "        gr.Slider(minimum=0, maximum=100, step=1, value=78),\n",
        "        gr.Slider(minimum=0, maximum=100, step=1, value=82),\n",
        "        gr.Slider(minimum=0, maximum=100, step=1, value=84),\n",
        "        gr.Slider(minimum=0, maximum=100, step=1, value=88),\n",
        "        gr.CheckboxGroup(choices=['mean', 'median'], value=['median'], label=\"Statistics to show\"),\n",
        "        gr.Checkbox(label=\"Sort data\")\n",
        "    ],\n",
        "    outputs=gr.Image(type='pil'),\n",
        ")\n",
        "\n",
        "iface.launch()"
      ]
    },
    {
      "cell_type": "markdown",
      "metadata": {
        "id": "hPHXbiSBFv79"
      },
      "source": [
        "#### Mode\n",
        "\n",
        "After discussing the **mean** and **median**, another measure of central tendency we should consider is the **mode**. The mode is the **value that appears most frequently** in a dataset, and unlike the mean and median, it can be used with categorical data.\n",
        "\n",
        "- **What happens if we don't use the mode?**\n",
        "\n",
        "   Imagine **John**, a baker. He wants to identify the most preferred type of loaf among his customers. However, without using any statistical method to analyze his sales data, he might fail to accurately identify the most sought-after loaf.\n",
        "\n",
        "- **How does the mode solve the problem?**\n",
        "\n",
        "   John decides to use the **mode**. He tallies up the types of loaves he sold within a month. The type of loaf with the highest count is the mode. This informs him of the most popular loaf type among his customers."
      ]
    },
    {
      "cell_type": "markdown",
      "metadata": {
        "id": "r0d0ZQgbFv79"
      },
      "source": [
        "**Mode calculator**\n",
        "\n",
        "You can calculate the mode by hand or with the help of our mode calculator below."
      ]
    },
    {
      "cell_type": "code",
      "execution_count": 10,
      "metadata": {
        "id": "2-Wo-V19Fv79",
        "tags": [
          "Hide this cell"
        ]
      },
      "outputs": [
        {
          "name": "stdout",
          "output_type": "stream",
          "text": [
            "Running on local URL:  http://127.0.0.1:7864\n",
            "\n",
            "To create a public link, set `share=True` in `launch()`.\n"
          ]
        },
        {
          "data": {
            "text/html": [
              "<div><iframe src=\"http://127.0.0.1:7864/\" width=\"100%\" height=\"500\" allow=\"autoplay; camera; microphone; clipboard-read; clipboard-write;\" frameborder=\"0\" allowfullscreen></iframe></div>"
            ],
            "text/plain": [
              "<IPython.core.display.HTML object>"
            ]
          },
          "metadata": {},
          "output_type": "display_data"
        },
        {
          "data": {
            "text/plain": []
          },
          "execution_count": 10,
          "metadata": {},
          "output_type": "execute_result"
        },
        {
          "name": "stderr",
          "output_type": "stream",
          "text": [
            "Traceback (most recent call last):\n",
            "  File \"/home/steve/.conda/envs/skill-academy-ml/lib/python3.10/site-packages/gradio/queueing.py\", line 455, in call_prediction\n",
            "    output = await route_utils.call_process_api(\n",
            "  File \"/home/steve/.conda/envs/skill-academy-ml/lib/python3.10/site-packages/gradio/route_utils.py\", line 232, in call_process_api\n",
            "    output = await app.get_blocks().process_api(\n",
            "  File \"/home/steve/.conda/envs/skill-academy-ml/lib/python3.10/site-packages/gradio/blocks.py\", line 1533, in process_api\n",
            "    result = await self.call_function(\n",
            "  File \"/home/steve/.conda/envs/skill-academy-ml/lib/python3.10/site-packages/gradio/blocks.py\", line 1151, in call_function\n",
            "    prediction = await anyio.to_thread.run_sync(\n",
            "  File \"/home/steve/.conda/envs/skill-academy-ml/lib/python3.10/site-packages/anyio/to_thread.py\", line 33, in run_sync\n",
            "    return await get_asynclib().run_sync_in_worker_thread(\n",
            "  File \"/home/steve/.conda/envs/skill-academy-ml/lib/python3.10/site-packages/anyio/_backends/_asyncio.py\", line 877, in run_sync_in_worker_thread\n",
            "    return await future\n",
            "  File \"/home/steve/.conda/envs/skill-academy-ml/lib/python3.10/site-packages/anyio/_backends/_asyncio.py\", line 807, in run\n",
            "    result = context.run(func, *args)\n",
            "  File \"/home/steve/.conda/envs/skill-academy-ml/lib/python3.10/site-packages/gradio/utils.py\", line 678, in wrapper\n",
            "    response = f(*args, **kwargs)\n",
            "  File \"/tmp/ipykernel_30243/3929797020.py\", line 8, in calculate_mode\n",
            "    return mode.mode[0]\n",
            "IndexError: invalid index to scalar variable.\n",
            "Traceback (most recent call last):\n",
            "  File \"/home/steve/.conda/envs/skill-academy-ml/lib/python3.10/site-packages/gradio/queueing.py\", line 455, in call_prediction\n",
            "    output = await route_utils.call_process_api(\n",
            "  File \"/home/steve/.conda/envs/skill-academy-ml/lib/python3.10/site-packages/gradio/route_utils.py\", line 232, in call_process_api\n",
            "    output = await app.get_blocks().process_api(\n",
            "  File \"/home/steve/.conda/envs/skill-academy-ml/lib/python3.10/site-packages/gradio/blocks.py\", line 1533, in process_api\n",
            "    result = await self.call_function(\n",
            "  File \"/home/steve/.conda/envs/skill-academy-ml/lib/python3.10/site-packages/gradio/blocks.py\", line 1151, in call_function\n",
            "    prediction = await anyio.to_thread.run_sync(\n",
            "  File \"/home/steve/.conda/envs/skill-academy-ml/lib/python3.10/site-packages/anyio/to_thread.py\", line 33, in run_sync\n",
            "    return await get_asynclib().run_sync_in_worker_thread(\n",
            "  File \"/home/steve/.conda/envs/skill-academy-ml/lib/python3.10/site-packages/anyio/_backends/_asyncio.py\", line 877, in run_sync_in_worker_thread\n",
            "    return await future\n",
            "  File \"/home/steve/.conda/envs/skill-academy-ml/lib/python3.10/site-packages/anyio/_backends/_asyncio.py\", line 807, in run\n",
            "    result = context.run(func, *args)\n",
            "  File \"/home/steve/.conda/envs/skill-academy-ml/lib/python3.10/site-packages/gradio/utils.py\", line 678, in wrapper\n",
            "    response = f(*args, **kwargs)\n",
            "  File \"/tmp/ipykernel_30243/3929797020.py\", line 8, in calculate_mode\n",
            "    return mode.mode[0]\n",
            "IndexError: invalid index to scalar variable.\n",
            "\n",
            "The above exception was the direct cause of the following exception:\n",
            "\n",
            "Traceback (most recent call last):\n",
            "  File \"/home/steve/.conda/envs/skill-academy-ml/lib/python3.10/site-packages/gradio/queueing.py\", line 493, in process_events\n",
            "    response = await self.call_prediction(awake_events, batch)\n",
            "  File \"/home/steve/.conda/envs/skill-academy-ml/lib/python3.10/site-packages/gradio/queueing.py\", line 464, in call_prediction\n",
            "    raise Exception(str(error) if show_error else None) from error\n",
            "Exception: None\n"
          ]
        }
      ],
      "source": [
        "# @title #### Mode calculator\n",
        "import gradio as gr\n",
        "from scipy import stats\n",
        "\n",
        "def calculate_mode(numbers):\n",
        "    numbers = [float(num) for num in numbers.split(',')]\n",
        "    mode = stats.mode(numbers)\n",
        "    return mode.mode[0]\n",
        "\n",
        "iface = gr.Interface(fn=calculate_mode,\n",
        "                     inputs=\"text\",\n",
        "                     outputs=gr.Label(label=\"Mode\"),\n",
        "                     examples=[['23,45,67,89,45'], ['12,34,56,34'], ['11,22,33,44,55,55']])\n",
        "iface.launch()"
      ]
    },
    {
      "cell_type": "markdown",
      "metadata": {
        "id": "WWmbukauFv79"
      },
      "source": [
        "**Steps for Calculating the Mode by Hand**\n",
        "\n",
        "The 'mode' is the most frequently occurring value in a dataset. It's useful when we want to find the most common value, and it's applicable to both numerical and categorical data.\n",
        "\n",
        "Let's consider some examples from a bakery.\n",
        "\n",
        "- **Numerical Data Example**\n",
        "\n",
        "  If we track daily bread sales for 10 days: `[72, 76, 72, 84, 70, 76, 76, 82, 70, 84]`, and tally up the frequency of each number of sales, **76** is the mode because it appears the most (3 times).\n",
        "\n",
        "- **Categorical Data Example**\n",
        "\n",
        "  If we track the type of pastry sold most over 10 days: `[Croissant, Baguette, Baguette, Croissant, Croissant, Baguette, Sourdough, Sourdough, Croissant, Baguette]`, both **Croissant** and **Baguette** are modes because they appear the most (4 times each).\n",
        "\n",
        "- **Grouped Data Example**\n",
        "\n",
        "  Let's say we group bread sales into intervals (`60-70`, `70-80`, `80-90`, `90-100`) and record the frequency of sales falling into each group over a month. If the frequencies are `5, 7, 9, 3` respectively, the mode is the group with the highest frequency, which is **80-90**.\n",
        "\n",
        "The mode is easy to understand and calculate, and it gives us valuable insights about the most typical or common value in our dataset.\n",
        "\n",
        "Now, What's the role of the **mode in machine learning**?\n",
        "\n",
        "In machine learning, the mode is used for **categorical data**. It helps identify the most common category in a dataset. Just like John's loaf types, knowing the mode can help the model **predict the most likely outcome** based on past data. 🎯"
      ]
    },
    {
      "cell_type": "markdown",
      "metadata": {
        "id": "TKqFObzjFv7-"
      },
      "source": [
        "To see the problem and solution in the context of using fashion, let's go back to the example of John the baker. For example, we have data on sales of different types of bread for one month, and we want to know what type of bread is the most popular."
      ]
    },
    {
      "cell_type": "code",
      "execution_count": 11,
      "metadata": {
        "id": "wk7xvzSKFv7-",
        "outputId": "ba328fd8-71fa-46ba-8b8b-9768d9aa1594"
      },
      "outputs": [
        {
          "data": {
            "application/vnd.plotly.v1+json": {
              "config": {
                "plotlyServerURL": "https://plot.ly"
              },
              "data": [
                {
                  "name": "Loaf Types",
                  "type": "bar",
                  "x": [
                    "Croissant",
                    "Baguette",
                    "Sourdough"
                  ],
                  "y": [
                    4,
                    5,
                    2
                  ]
                },
                {
                  "line": {
                    "color": "Red",
                    "dash": "dash",
                    "width": 1
                  },
                  "mode": "lines",
                  "name": "Mode: Baguette",
                  "type": "scatter",
                  "x": [
                    "Baguette",
                    "Baguette"
                  ],
                  "y": [
                    0,
                    5
                  ]
                }
              ],
              "layout": {
                "font": {
                  "size": 14
                },
                "legend": {
                  "x": 0.5,
                  "xanchor": "center",
                  "y": 1.2,
                  "yanchor": "top"
                },
                "template": {
                  "data": {
                    "bar": [
                      {
                        "error_x": {
                          "color": "#2a3f5f"
                        },
                        "error_y": {
                          "color": "#2a3f5f"
                        },
                        "marker": {
                          "line": {
                            "color": "#E5ECF6",
                            "width": 0.5
                          },
                          "pattern": {
                            "fillmode": "overlay",
                            "size": 10,
                            "solidity": 0.2
                          }
                        },
                        "type": "bar"
                      }
                    ],
                    "barpolar": [
                      {
                        "marker": {
                          "line": {
                            "color": "#E5ECF6",
                            "width": 0.5
                          },
                          "pattern": {
                            "fillmode": "overlay",
                            "size": 10,
                            "solidity": 0.2
                          }
                        },
                        "type": "barpolar"
                      }
                    ],
                    "carpet": [
                      {
                        "aaxis": {
                          "endlinecolor": "#2a3f5f",
                          "gridcolor": "white",
                          "linecolor": "white",
                          "minorgridcolor": "white",
                          "startlinecolor": "#2a3f5f"
                        },
                        "baxis": {
                          "endlinecolor": "#2a3f5f",
                          "gridcolor": "white",
                          "linecolor": "white",
                          "minorgridcolor": "white",
                          "startlinecolor": "#2a3f5f"
                        },
                        "type": "carpet"
                      }
                    ],
                    "choropleth": [
                      {
                        "colorbar": {
                          "outlinewidth": 0,
                          "ticks": ""
                        },
                        "type": "choropleth"
                      }
                    ],
                    "contour": [
                      {
                        "colorbar": {
                          "outlinewidth": 0,
                          "ticks": ""
                        },
                        "colorscale": [
                          [
                            0,
                            "#0d0887"
                          ],
                          [
                            0.1111111111111111,
                            "#46039f"
                          ],
                          [
                            0.2222222222222222,
                            "#7201a8"
                          ],
                          [
                            0.3333333333333333,
                            "#9c179e"
                          ],
                          [
                            0.4444444444444444,
                            "#bd3786"
                          ],
                          [
                            0.5555555555555556,
                            "#d8576b"
                          ],
                          [
                            0.6666666666666666,
                            "#ed7953"
                          ],
                          [
                            0.7777777777777778,
                            "#fb9f3a"
                          ],
                          [
                            0.8888888888888888,
                            "#fdca26"
                          ],
                          [
                            1,
                            "#f0f921"
                          ]
                        ],
                        "type": "contour"
                      }
                    ],
                    "contourcarpet": [
                      {
                        "colorbar": {
                          "outlinewidth": 0,
                          "ticks": ""
                        },
                        "type": "contourcarpet"
                      }
                    ],
                    "heatmap": [
                      {
                        "colorbar": {
                          "outlinewidth": 0,
                          "ticks": ""
                        },
                        "colorscale": [
                          [
                            0,
                            "#0d0887"
                          ],
                          [
                            0.1111111111111111,
                            "#46039f"
                          ],
                          [
                            0.2222222222222222,
                            "#7201a8"
                          ],
                          [
                            0.3333333333333333,
                            "#9c179e"
                          ],
                          [
                            0.4444444444444444,
                            "#bd3786"
                          ],
                          [
                            0.5555555555555556,
                            "#d8576b"
                          ],
                          [
                            0.6666666666666666,
                            "#ed7953"
                          ],
                          [
                            0.7777777777777778,
                            "#fb9f3a"
                          ],
                          [
                            0.8888888888888888,
                            "#fdca26"
                          ],
                          [
                            1,
                            "#f0f921"
                          ]
                        ],
                        "type": "heatmap"
                      }
                    ],
                    "heatmapgl": [
                      {
                        "colorbar": {
                          "outlinewidth": 0,
                          "ticks": ""
                        },
                        "colorscale": [
                          [
                            0,
                            "#0d0887"
                          ],
                          [
                            0.1111111111111111,
                            "#46039f"
                          ],
                          [
                            0.2222222222222222,
                            "#7201a8"
                          ],
                          [
                            0.3333333333333333,
                            "#9c179e"
                          ],
                          [
                            0.4444444444444444,
                            "#bd3786"
                          ],
                          [
                            0.5555555555555556,
                            "#d8576b"
                          ],
                          [
                            0.6666666666666666,
                            "#ed7953"
                          ],
                          [
                            0.7777777777777778,
                            "#fb9f3a"
                          ],
                          [
                            0.8888888888888888,
                            "#fdca26"
                          ],
                          [
                            1,
                            "#f0f921"
                          ]
                        ],
                        "type": "heatmapgl"
                      }
                    ],
                    "histogram": [
                      {
                        "marker": {
                          "pattern": {
                            "fillmode": "overlay",
                            "size": 10,
                            "solidity": 0.2
                          }
                        },
                        "type": "histogram"
                      }
                    ],
                    "histogram2d": [
                      {
                        "colorbar": {
                          "outlinewidth": 0,
                          "ticks": ""
                        },
                        "colorscale": [
                          [
                            0,
                            "#0d0887"
                          ],
                          [
                            0.1111111111111111,
                            "#46039f"
                          ],
                          [
                            0.2222222222222222,
                            "#7201a8"
                          ],
                          [
                            0.3333333333333333,
                            "#9c179e"
                          ],
                          [
                            0.4444444444444444,
                            "#bd3786"
                          ],
                          [
                            0.5555555555555556,
                            "#d8576b"
                          ],
                          [
                            0.6666666666666666,
                            "#ed7953"
                          ],
                          [
                            0.7777777777777778,
                            "#fb9f3a"
                          ],
                          [
                            0.8888888888888888,
                            "#fdca26"
                          ],
                          [
                            1,
                            "#f0f921"
                          ]
                        ],
                        "type": "histogram2d"
                      }
                    ],
                    "histogram2dcontour": [
                      {
                        "colorbar": {
                          "outlinewidth": 0,
                          "ticks": ""
                        },
                        "colorscale": [
                          [
                            0,
                            "#0d0887"
                          ],
                          [
                            0.1111111111111111,
                            "#46039f"
                          ],
                          [
                            0.2222222222222222,
                            "#7201a8"
                          ],
                          [
                            0.3333333333333333,
                            "#9c179e"
                          ],
                          [
                            0.4444444444444444,
                            "#bd3786"
                          ],
                          [
                            0.5555555555555556,
                            "#d8576b"
                          ],
                          [
                            0.6666666666666666,
                            "#ed7953"
                          ],
                          [
                            0.7777777777777778,
                            "#fb9f3a"
                          ],
                          [
                            0.8888888888888888,
                            "#fdca26"
                          ],
                          [
                            1,
                            "#f0f921"
                          ]
                        ],
                        "type": "histogram2dcontour"
                      }
                    ],
                    "mesh3d": [
                      {
                        "colorbar": {
                          "outlinewidth": 0,
                          "ticks": ""
                        },
                        "type": "mesh3d"
                      }
                    ],
                    "parcoords": [
                      {
                        "line": {
                          "colorbar": {
                            "outlinewidth": 0,
                            "ticks": ""
                          }
                        },
                        "type": "parcoords"
                      }
                    ],
                    "pie": [
                      {
                        "automargin": true,
                        "type": "pie"
                      }
                    ],
                    "scatter": [
                      {
                        "fillpattern": {
                          "fillmode": "overlay",
                          "size": 10,
                          "solidity": 0.2
                        },
                        "type": "scatter"
                      }
                    ],
                    "scatter3d": [
                      {
                        "line": {
                          "colorbar": {
                            "outlinewidth": 0,
                            "ticks": ""
                          }
                        },
                        "marker": {
                          "colorbar": {
                            "outlinewidth": 0,
                            "ticks": ""
                          }
                        },
                        "type": "scatter3d"
                      }
                    ],
                    "scattercarpet": [
                      {
                        "marker": {
                          "colorbar": {
                            "outlinewidth": 0,
                            "ticks": ""
                          }
                        },
                        "type": "scattercarpet"
                      }
                    ],
                    "scattergeo": [
                      {
                        "marker": {
                          "colorbar": {
                            "outlinewidth": 0,
                            "ticks": ""
                          }
                        },
                        "type": "scattergeo"
                      }
                    ],
                    "scattergl": [
                      {
                        "marker": {
                          "colorbar": {
                            "outlinewidth": 0,
                            "ticks": ""
                          }
                        },
                        "type": "scattergl"
                      }
                    ],
                    "scattermapbox": [
                      {
                        "marker": {
                          "colorbar": {
                            "outlinewidth": 0,
                            "ticks": ""
                          }
                        },
                        "type": "scattermapbox"
                      }
                    ],
                    "scatterpolar": [
                      {
                        "marker": {
                          "colorbar": {
                            "outlinewidth": 0,
                            "ticks": ""
                          }
                        },
                        "type": "scatterpolar"
                      }
                    ],
                    "scatterpolargl": [
                      {
                        "marker": {
                          "colorbar": {
                            "outlinewidth": 0,
                            "ticks": ""
                          }
                        },
                        "type": "scatterpolargl"
                      }
                    ],
                    "scatterternary": [
                      {
                        "marker": {
                          "colorbar": {
                            "outlinewidth": 0,
                            "ticks": ""
                          }
                        },
                        "type": "scatterternary"
                      }
                    ],
                    "surface": [
                      {
                        "colorbar": {
                          "outlinewidth": 0,
                          "ticks": ""
                        },
                        "colorscale": [
                          [
                            0,
                            "#0d0887"
                          ],
                          [
                            0.1111111111111111,
                            "#46039f"
                          ],
                          [
                            0.2222222222222222,
                            "#7201a8"
                          ],
                          [
                            0.3333333333333333,
                            "#9c179e"
                          ],
                          [
                            0.4444444444444444,
                            "#bd3786"
                          ],
                          [
                            0.5555555555555556,
                            "#d8576b"
                          ],
                          [
                            0.6666666666666666,
                            "#ed7953"
                          ],
                          [
                            0.7777777777777778,
                            "#fb9f3a"
                          ],
                          [
                            0.8888888888888888,
                            "#fdca26"
                          ],
                          [
                            1,
                            "#f0f921"
                          ]
                        ],
                        "type": "surface"
                      }
                    ],
                    "table": [
                      {
                        "cells": {
                          "fill": {
                            "color": "#EBF0F8"
                          },
                          "line": {
                            "color": "white"
                          }
                        },
                        "header": {
                          "fill": {
                            "color": "#C8D4E3"
                          },
                          "line": {
                            "color": "white"
                          }
                        },
                        "type": "table"
                      }
                    ]
                  },
                  "layout": {
                    "annotationdefaults": {
                      "arrowcolor": "#2a3f5f",
                      "arrowhead": 0,
                      "arrowwidth": 1
                    },
                    "autotypenumbers": "strict",
                    "coloraxis": {
                      "colorbar": {
                        "outlinewidth": 0,
                        "ticks": ""
                      }
                    },
                    "colorscale": {
                      "diverging": [
                        [
                          0,
                          "#8e0152"
                        ],
                        [
                          0.1,
                          "#c51b7d"
                        ],
                        [
                          0.2,
                          "#de77ae"
                        ],
                        [
                          0.3,
                          "#f1b6da"
                        ],
                        [
                          0.4,
                          "#fde0ef"
                        ],
                        [
                          0.5,
                          "#f7f7f7"
                        ],
                        [
                          0.6,
                          "#e6f5d0"
                        ],
                        [
                          0.7,
                          "#b8e186"
                        ],
                        [
                          0.8,
                          "#7fbc41"
                        ],
                        [
                          0.9,
                          "#4d9221"
                        ],
                        [
                          1,
                          "#276419"
                        ]
                      ],
                      "sequential": [
                        [
                          0,
                          "#0d0887"
                        ],
                        [
                          0.1111111111111111,
                          "#46039f"
                        ],
                        [
                          0.2222222222222222,
                          "#7201a8"
                        ],
                        [
                          0.3333333333333333,
                          "#9c179e"
                        ],
                        [
                          0.4444444444444444,
                          "#bd3786"
                        ],
                        [
                          0.5555555555555556,
                          "#d8576b"
                        ],
                        [
                          0.6666666666666666,
                          "#ed7953"
                        ],
                        [
                          0.7777777777777778,
                          "#fb9f3a"
                        ],
                        [
                          0.8888888888888888,
                          "#fdca26"
                        ],
                        [
                          1,
                          "#f0f921"
                        ]
                      ],
                      "sequentialminus": [
                        [
                          0,
                          "#0d0887"
                        ],
                        [
                          0.1111111111111111,
                          "#46039f"
                        ],
                        [
                          0.2222222222222222,
                          "#7201a8"
                        ],
                        [
                          0.3333333333333333,
                          "#9c179e"
                        ],
                        [
                          0.4444444444444444,
                          "#bd3786"
                        ],
                        [
                          0.5555555555555556,
                          "#d8576b"
                        ],
                        [
                          0.6666666666666666,
                          "#ed7953"
                        ],
                        [
                          0.7777777777777778,
                          "#fb9f3a"
                        ],
                        [
                          0.8888888888888888,
                          "#fdca26"
                        ],
                        [
                          1,
                          "#f0f921"
                        ]
                      ]
                    },
                    "colorway": [
                      "#636efa",
                      "#EF553B",
                      "#00cc96",
                      "#ab63fa",
                      "#FFA15A",
                      "#19d3f3",
                      "#FF6692",
                      "#B6E880",
                      "#FF97FF",
                      "#FECB52"
                    ],
                    "font": {
                      "color": "#2a3f5f"
                    },
                    "geo": {
                      "bgcolor": "white",
                      "lakecolor": "white",
                      "landcolor": "#E5ECF6",
                      "showlakes": true,
                      "showland": true,
                      "subunitcolor": "white"
                    },
                    "hoverlabel": {
                      "align": "left"
                    },
                    "hovermode": "closest",
                    "mapbox": {
                      "style": "light"
                    },
                    "paper_bgcolor": "white",
                    "plot_bgcolor": "#E5ECF6",
                    "polar": {
                      "angularaxis": {
                        "gridcolor": "white",
                        "linecolor": "white",
                        "ticks": ""
                      },
                      "bgcolor": "#E5ECF6",
                      "radialaxis": {
                        "gridcolor": "white",
                        "linecolor": "white",
                        "ticks": ""
                      }
                    },
                    "scene": {
                      "xaxis": {
                        "backgroundcolor": "#E5ECF6",
                        "gridcolor": "white",
                        "gridwidth": 2,
                        "linecolor": "white",
                        "showbackground": true,
                        "ticks": "",
                        "zerolinecolor": "white"
                      },
                      "yaxis": {
                        "backgroundcolor": "#E5ECF6",
                        "gridcolor": "white",
                        "gridwidth": 2,
                        "linecolor": "white",
                        "showbackground": true,
                        "ticks": "",
                        "zerolinecolor": "white"
                      },
                      "zaxis": {
                        "backgroundcolor": "#E5ECF6",
                        "gridcolor": "white",
                        "gridwidth": 2,
                        "linecolor": "white",
                        "showbackground": true,
                        "ticks": "",
                        "zerolinecolor": "white"
                      }
                    },
                    "shapedefaults": {
                      "line": {
                        "color": "#2a3f5f"
                      }
                    },
                    "ternary": {
                      "aaxis": {
                        "gridcolor": "white",
                        "linecolor": "white",
                        "ticks": ""
                      },
                      "baxis": {
                        "gridcolor": "white",
                        "linecolor": "white",
                        "ticks": ""
                      },
                      "bgcolor": "#E5ECF6",
                      "caxis": {
                        "gridcolor": "white",
                        "linecolor": "white",
                        "ticks": ""
                      }
                    },
                    "title": {
                      "x": 0.05
                    },
                    "xaxis": {
                      "automargin": true,
                      "gridcolor": "white",
                      "linecolor": "white",
                      "ticks": "",
                      "title": {
                        "standoff": 15
                      },
                      "zerolinecolor": "white",
                      "zerolinewidth": 2
                    },
                    "yaxis": {
                      "automargin": true,
                      "gridcolor": "white",
                      "linecolor": "white",
                      "ticks": "",
                      "title": {
                        "standoff": 15
                      },
                      "zerolinecolor": "white",
                      "zerolinewidth": 2
                    }
                  }
                },
                "xaxis": {
                  "title": {
                    "text": "Loaf Types"
                  }
                },
                "yaxis": {
                  "title": {
                    "text": "Frequency"
                  }
                }
              }
            }
          },
          "metadata": {},
          "output_type": "display_data"
        },
        {
          "data": {
            "text/html": [
              "<div>\n",
              "<style scoped>\n",
              "    .dataframe tbody tr th:only-of-type {\n",
              "        vertical-align: middle;\n",
              "    }\n",
              "\n",
              "    .dataframe tbody tr th {\n",
              "        vertical-align: top;\n",
              "    }\n",
              "\n",
              "    .dataframe thead th {\n",
              "        text-align: right;\n",
              "    }\n",
              "</style>\n",
              "<table border=\"1\" class=\"dataframe\">\n",
              "  <thead>\n",
              "    <tr style=\"text-align: right;\">\n",
              "      <th></th>\n",
              "      <th>Loaf Type</th>\n",
              "      <th>Counts</th>\n",
              "    </tr>\n",
              "  </thead>\n",
              "  <tbody>\n",
              "    <tr>\n",
              "      <th>0</th>\n",
              "      <td>Baguette</td>\n",
              "      <td>5</td>\n",
              "    </tr>\n",
              "    <tr>\n",
              "      <th>1</th>\n",
              "      <td>Croissant</td>\n",
              "      <td>4</td>\n",
              "    </tr>\n",
              "    <tr>\n",
              "      <th>2</th>\n",
              "      <td>Sourdough</td>\n",
              "      <td>2</td>\n",
              "    </tr>\n",
              "  </tbody>\n",
              "</table>\n",
              "</div>"
            ],
            "text/plain": [
              "   Loaf Type  Counts\n",
              "0   Baguette       5\n",
              "1  Croissant       4\n",
              "2  Sourdough       2"
            ]
          },
          "execution_count": 11,
          "metadata": {},
          "output_type": "execute_result"
        }
      ],
      "source": [
        "# @title #### Calculate mode and plot bar chart\n",
        "import plotly.graph_objects as go\n",
        "from collections import Counter\n",
        "import pandas as pd\n",
        "\n",
        "# Define the data\n",
        "loaf_types = ['Croissant', 'Baguette', 'Baguette', 'Croissant', 'Baguette', 'Croissant', 'Baguette', 'Sourdough', 'Sourdough', 'Croissant', 'Baguette']\n",
        "loaf_counts = Counter(loaf_types)\n",
        "\n",
        "# Calculate the mode\n",
        "mode_loaf = max(loaf_counts, key=loaf_counts.get)\n",
        "\n",
        "# Create a bar chart\n",
        "fig = go.Figure(data=go.Bar(y=list(loaf_counts.values()), x=list(loaf_counts.keys()), name='Loaf Types'))\n",
        "\n",
        "# Add a horizontal line for the mode\n",
        "fig.add_trace(go.Scatter(\n",
        "    x=[mode_loaf, mode_loaf],\n",
        "    y=[0, max(loaf_counts.values())],\n",
        "    mode='lines',\n",
        "    name=f'Mode: {mode_loaf}',\n",
        "    line=dict(color='Red', width=1, dash='dash')\n",
        "))\n",
        "\n",
        "# Add labels for x and y axis\n",
        "fig.update_layout(\n",
        "    xaxis_title=\"Loaf Types\",\n",
        "    yaxis_title=\"Frequency\",\n",
        "    font=dict(\n",
        "        size=14,\n",
        "    ),\n",
        "    legend=dict(\n",
        "        yanchor=\"top\",\n",
        "        y=1.2,\n",
        "        xanchor=\"center\",\n",
        "        x=0.5\n",
        "    )\n",
        ")\n",
        "\n",
        "# Show the plot\n",
        "fig.show()\n",
        "\n",
        "# Convert to pandas DataFrame\n",
        "df = pd.DataFrame(loaf_types, columns=[\"Loaf Type\"])\n",
        "\n",
        "# Group by loaf types and count the frequency\n",
        "df.groupby(\"Loaf Type\").size().reset_index(name='Counts')"
      ]
    },
    {
      "cell_type": "markdown",
      "metadata": {
        "id": "TKnvRWALFv7-"
      },
      "source": [
        "In this plot, the red line shows the mode i.e. the type of bread that is most frequently sold. The bar chart shows the frequency of sales of each type of bread, so we can see that fashion does reflect the most popular types of bread."
      ]
    },
    {
      "cell_type": "markdown",
      "metadata": {
        "id": "YoHTER0lFv7-"
      },
      "source": [
        "**Interactive chart mode**\n",
        "\n",
        "You can explore various different data to get the mode value and learn how the mean value is positioned from our tool below."
      ]
    },
    {
      "cell_type": "code",
      "execution_count": 12,
      "metadata": {
        "id": "0IVKQoG2Fv7-",
        "tags": [
          "Hide this cell"
        ]
      },
      "outputs": [
        {
          "name": "stdout",
          "output_type": "stream",
          "text": [
            "Running on local URL:  http://127.0.0.1:7865\n",
            "\n",
            "To create a public link, set `share=True` in `launch()`.\n"
          ]
        },
        {
          "data": {
            "text/html": [
              "<div><iframe src=\"http://127.0.0.1:7865/\" width=\"100%\" height=\"500\" allow=\"autoplay; camera; microphone; clipboard-read; clipboard-write;\" frameborder=\"0\" allowfullscreen></iframe></div>"
            ],
            "text/plain": [
              "<IPython.core.display.HTML object>"
            ]
          },
          "metadata": {},
          "output_type": "display_data"
        },
        {
          "data": {
            "text/plain": []
          },
          "execution_count": 12,
          "metadata": {},
          "output_type": "execute_result"
        },
        {
          "name": "stderr",
          "output_type": "stream",
          "text": [
            "Traceback (most recent call last):\n",
            "  File \"/home/steve/.conda/envs/skill-academy-ml/lib/python3.10/site-packages/gradio/queueing.py\", line 455, in call_prediction\n",
            "    output = await route_utils.call_process_api(\n",
            "  File \"/home/steve/.conda/envs/skill-academy-ml/lib/python3.10/site-packages/gradio/route_utils.py\", line 232, in call_process_api\n",
            "    output = await app.get_blocks().process_api(\n",
            "  File \"/home/steve/.conda/envs/skill-academy-ml/lib/python3.10/site-packages/gradio/blocks.py\", line 1533, in process_api\n",
            "    result = await self.call_function(\n",
            "  File \"/home/steve/.conda/envs/skill-academy-ml/lib/python3.10/site-packages/gradio/blocks.py\", line 1151, in call_function\n",
            "    prediction = await anyio.to_thread.run_sync(\n",
            "  File \"/home/steve/.conda/envs/skill-academy-ml/lib/python3.10/site-packages/anyio/to_thread.py\", line 33, in run_sync\n",
            "    return await get_asynclib().run_sync_in_worker_thread(\n",
            "  File \"/home/steve/.conda/envs/skill-academy-ml/lib/python3.10/site-packages/anyio/_backends/_asyncio.py\", line 877, in run_sync_in_worker_thread\n",
            "    return await future\n",
            "  File \"/home/steve/.conda/envs/skill-academy-ml/lib/python3.10/site-packages/anyio/_backends/_asyncio.py\", line 807, in run\n",
            "    result = context.run(func, *args)\n",
            "  File \"/home/steve/.conda/envs/skill-academy-ml/lib/python3.10/site-packages/gradio/utils.py\", line 678, in wrapper\n",
            "    response = f(*args, **kwargs)\n",
            "  File \"/tmp/ipykernel_30243/1258345898.py\", line 46, in interactive_plot\n",
            "    mode_day = stats.mode(days)[0][0]\n",
            "IndexError: invalid index to scalar variable.\n",
            "Traceback (most recent call last):\n",
            "  File \"/home/steve/.conda/envs/skill-academy-ml/lib/python3.10/site-packages/gradio/queueing.py\", line 455, in call_prediction\n",
            "    output = await route_utils.call_process_api(\n",
            "  File \"/home/steve/.conda/envs/skill-academy-ml/lib/python3.10/site-packages/gradio/route_utils.py\", line 232, in call_process_api\n",
            "    output = await app.get_blocks().process_api(\n",
            "  File \"/home/steve/.conda/envs/skill-academy-ml/lib/python3.10/site-packages/gradio/blocks.py\", line 1533, in process_api\n",
            "    result = await self.call_function(\n",
            "  File \"/home/steve/.conda/envs/skill-academy-ml/lib/python3.10/site-packages/gradio/blocks.py\", line 1151, in call_function\n",
            "    prediction = await anyio.to_thread.run_sync(\n",
            "  File \"/home/steve/.conda/envs/skill-academy-ml/lib/python3.10/site-packages/anyio/to_thread.py\", line 33, in run_sync\n",
            "    return await get_asynclib().run_sync_in_worker_thread(\n",
            "  File \"/home/steve/.conda/envs/skill-academy-ml/lib/python3.10/site-packages/anyio/_backends/_asyncio.py\", line 877, in run_sync_in_worker_thread\n",
            "    return await future\n",
            "  File \"/home/steve/.conda/envs/skill-academy-ml/lib/python3.10/site-packages/anyio/_backends/_asyncio.py\", line 807, in run\n",
            "    result = context.run(func, *args)\n",
            "  File \"/home/steve/.conda/envs/skill-academy-ml/lib/python3.10/site-packages/gradio/utils.py\", line 678, in wrapper\n",
            "    response = f(*args, **kwargs)\n",
            "  File \"/tmp/ipykernel_30243/1258345898.py\", line 46, in interactive_plot\n",
            "    mode_day = stats.mode(days)[0][0]\n",
            "IndexError: invalid index to scalar variable.\n",
            "\n",
            "The above exception was the direct cause of the following exception:\n",
            "\n",
            "Traceback (most recent call last):\n",
            "  File \"/home/steve/.conda/envs/skill-academy-ml/lib/python3.10/site-packages/gradio/queueing.py\", line 493, in process_events\n",
            "    response = await self.call_prediction(awake_events, batch)\n",
            "  File \"/home/steve/.conda/envs/skill-academy-ml/lib/python3.10/site-packages/gradio/queueing.py\", line 464, in call_prediction\n",
            "    raise Exception(str(error) if show_error else None) from error\n",
            "Exception: None\n"
          ]
        }
      ],
      "source": [
        "# @title #### Calculate mean, median, mode and plot bar chart\n",
        "import warnings\n",
        "warnings.filterwarnings('ignore', category=UserWarning, module='gradio')\n",
        "from scipy import stats\n",
        "\n",
        "# Function to calculate mean, median, mode and plot bar chart\n",
        "def interactive_plot(num_days, day1=0, day2=0, day3=0, day4=0, day5=0, day6=0, day7=0, day8=0, day9=0, day10=0, statistics_to_show=None, sort_data=False):\n",
        "    num_days = int(num_days)  # Convert num_days to integer\n",
        "    days = [day1, day2, day3, day4, day5, day6, day7, day8, day9, day10][:num_days]\n",
        "    days_names = ['day1', 'day2', 'day3', 'day4', 'day5', 'day6', 'day7', 'day8', 'day9', 'day10'][:num_days]\n",
        "\n",
        "    # Sort the data if the option is selected\n",
        "    if sort_data:\n",
        "        days, days_names = zip(*sorted(zip(days, days_names), key=lambda pair: pair[0]))\n",
        "\n",
        "    fig = go.Figure(data=go.Bar(y=days, x=days_names, name='days'))\n",
        "\n",
        "    if 'mean' in statistics_to_show:\n",
        "        # Calculate the mean\n",
        "        mean_day = np.mean(days)\n",
        "\n",
        "        # Add a horizontal line for the mean\n",
        "        fig.add_trace(go.Scatter(\n",
        "            x=[days_names[0], days_names[-1]],\n",
        "            y=[mean_day, mean_day],\n",
        "            mode='lines',\n",
        "            name=f'Mean: {mean_day:.2f}',\n",
        "            line=dict(color='Red', width=1, dash='dash')\n",
        "        ))\n",
        "\n",
        "    if 'median' in statistics_to_show:\n",
        "        # Calculate the median\n",
        "        median_day = statistics.median(days)\n",
        "\n",
        "        # Add a horizontal line for the median\n",
        "        fig.add_trace(go.Scatter(\n",
        "            x=[days_names[0], days_names[-1]],\n",
        "            y=[median_day, median_day],\n",
        "            mode='lines',\n",
        "            name=f'Median: {median_day:.2f}',\n",
        "            line=dict(color='Green', width=1, dash='dash')\n",
        "        ))\n",
        "\n",
        "    if 'mode' in statistics_to_show:\n",
        "        # Calculate the mode\n",
        "        mode_day = stats.mode(days)[0][0]\n",
        "\n",
        "        # Add a horizontal line for the mode\n",
        "        fig.add_trace(go.Scatter(\n",
        "            x=[days_names[0], days_names[-1]],\n",
        "            y=[mode_day, mode_day],\n",
        "            mode='lines',\n",
        "            name=f'Mode: {mode_day:.2f}',\n",
        "            line=dict(color='Blue', width=1, dash='dash')\n",
        "        ))\n",
        "\n",
        "    # Add labels for x and y axis\n",
        "    fig.update_layout(\n",
        "        xaxis_title=\"days\",\n",
        "        yaxis_title=\"Number of loaves sold\",\n",
        "        font=dict(\n",
        "            size=14,\n",
        "        ),\n",
        "        legend=dict(\n",
        "            yanchor=\"top\",\n",
        "            y=0.99,\n",
        "            xanchor=\"left\",\n",
        "            x=0.01\n",
        "        )\n",
        "    )\n",
        "\n",
        "    # Convert the figure to PNG image\n",
        "    png_image = pio.to_image(fig, format='png')\n",
        "\n",
        "    # Create a PIL Image object for Gradio Output\n",
        "    image = Image.open(io.BytesIO(png_image))\n",
        "\n",
        "    return image\n",
        "\n",
        "\n",
        "# Create Gradio interface\n",
        "iface = gr.Interface(\n",
        "    title='Interactive Plot Mean, Median, Mode and Bar Chart',\n",
        "    live=True,\n",
        "    fn=interactive_plot,\n",
        "    inputs=[\n",
        "        gr.Dropdown(choices=[1, 2, 3, 4, 5, 6, 7, 8, 9, 10], label=\"Number of days to use\", value=\"10\"),\n",
        "        gr.Slider(minimum=0, maximum=100, step=1, value=72),\n",
        "        gr.Slider(minimum=0, maximum=100, step=1, value=76),\n",
        "        gr.Slider(minimum=0, maximum=100, step=1, value=72),\n",
        "        gr.Slider(minimum=0, maximum=100, step=1, value=84),\n",
        "        gr.Slider(minimum=0, maximum=100, step=1, value=70),\n",
        "        gr.Slider(minimum=0, maximum=100, step=1, value=76),\n",
        "        gr.Slider(minimum=0, maximum=100, step=1, value=76),\n",
        "        gr.Slider(minimum=0, maximum=100, step=1, value=82),\n",
        "        gr.Slider(minimum=0, maximum=100, step=1, value=70),\n",
        "        gr.Slider(minimum=0, maximum=100, step=1, value=84),\n",
        "        gr.CheckboxGroup(choices=['mean', 'median', 'mode'], value=['mode'], label=\"Statistics to show\"),\n",
        "        gr.Checkbox(label=\"Sort data\")\n",
        "    ],\n",
        "    outputs=gr.Image(type='pil'),\n",
        ")\n",
        "\n",
        "iface.launch()"
      ]
    },
    {
      "cell_type": "markdown",
      "metadata": {
        "id": "1_GUz-14Fv7_"
      },
      "source": [
        "### Measures of Variability\n",
        "\n",
        "As we delve deeper into our data, we find measures that show how **spread out** or **diverse** our data is. These are called **measures of variability** and include elements like the **range** and **standard deviation**. Each of these measures provides a unique perspective on how **scattered** the values in our data are."
      ]
    },
    {
      "cell_type": "markdown",
      "metadata": {
        "id": "wxwvfc8RFv7_"
      },
      "source": [
        "#### Range\n",
        "\n",
        "What is **range**? This is the **difference between the highest and lowest values** in a dataset. In other words, it measures the spread or the dispersion of the data points in a dataset.\n",
        "\n",
        "- **Why use the range?**\n",
        "\n",
        "    - **Simplicity**: The range is one of the simplest forms of statistical analysis. It provides a quick, easy-to-understand measure of dispersion in a dataset.\n",
        "    - **Identify Spread**: The range can provide an initial sense of how spread out the numbers in the dataset are. It gives a rough overview of the dispersion of the data.\n",
        "    - **Outliers Detection**: It can also be useful in some cases for highlighting outliers. An unusually large range can signify that there may be outlier values in the dataset.\n",
        "\n",
        "However, it is important to note that the range only considers the two extreme values in the dataset and does not take into account any of the other values in the dataset. This means it can be heavily influenced by outliers and may not accurately represent the dispersion for all datasets, especially those with extreme values. For a more robust measure of dispersion, consider using other statistics, such as **standard deviation**."
      ]
    },
    {
      "cell_type": "markdown",
      "metadata": {
        "id": "B-xdi7CbFv8D"
      },
      "source": [
        "**Range calculator**\n",
        "\n",
        "You can calculate the range by hand or with the help of our range calculator below."
      ]
    },
    {
      "cell_type": "code",
      "execution_count": 13,
      "metadata": {
        "id": "8PE50fC-Fv8E",
        "tags": [
          "Hide this cell"
        ]
      },
      "outputs": [
        {
          "name": "stdout",
          "output_type": "stream",
          "text": [
            "Running on local URL:  http://127.0.0.1:7866\n",
            "\n",
            "To create a public link, set `share=True` in `launch()`.\n"
          ]
        },
        {
          "data": {
            "text/html": [
              "<div><iframe src=\"http://127.0.0.1:7866/\" width=\"100%\" height=\"500\" allow=\"autoplay; camera; microphone; clipboard-read; clipboard-write;\" frameborder=\"0\" allowfullscreen></iframe></div>"
            ],
            "text/plain": [
              "<IPython.core.display.HTML object>"
            ]
          },
          "metadata": {},
          "output_type": "display_data"
        },
        {
          "data": {
            "text/plain": []
          },
          "execution_count": 13,
          "metadata": {},
          "output_type": "execute_result"
        }
      ],
      "source": [
        "# @title #### Range calculator\n",
        "import gradio as gr\n",
        "\n",
        "def calculate_range(numbers):\n",
        "    numbers = [float(num) for num in numbers.split(',')]\n",
        "    range_value = max(numbers) - min(numbers)\n",
        "    return range_value\n",
        "\n",
        "iface = gr.Interface(fn=calculate_range,\n",
        "                     inputs=\"text\",\n",
        "                     outputs=gr.Label(label=\"Range\"),\n",
        "                     examples=[['23,45,67,89'], ['12,34,56'], ['11,22,33,44,55']])\n",
        "iface.launch()"
      ]
    },
    {
      "cell_type": "markdown",
      "metadata": {
        "id": "kjzQZCrSFv8E"
      },
      "source": [
        "**Understanding the Significance and Calculation of Range**\n",
        "\n",
        "Before diving into the mechanical aspect of calculating the range, it's essential to understand its fundamental role.\n",
        "\n",
        "Range is a statistical measure that provides insights into the spread of your data. It helps us comprehend the variability within the dataset and gives us a handle on the extent of potential prediction outputs. This understanding ultimately contributes to making more accurate forecasts in machine learning models. 🎯\n",
        "\n",
        "Now, intuitively, to gauge how spread out your data is, you'd want to consider the two extreme points - the highest and the lowest values. The greater the difference between these two, the larger is the spread, and hence, the bigger the range.\n",
        "\n",
        "With this intuitive understanding, let's formalize the concept:\n",
        "\n",
        "To calculate the range, you indeed follow these steps:\n",
        "\n",
        "1. Arrange your data from low to high.\n",
        "2. Deduct the lowest value from the highest value.\n",
        "\n",
        "These steps can be summarized in the formula:\n",
        "\n",
        "$$Range = Highest - Lowest$$\n",
        "\n",
        "Let's apply this to an example:\n",
        "\n",
        "> **Example Data**:\n",
        "> - _Daily bread sales:_ 72, 64, 78, 84, 70, 76, 82\n",
        "\n",
        "Firstly, arrange the data:\n",
        "\n",
        "> - _Ordered sales:_ **64**, 70, 72, 76, 78, 82, **84**\n",
        "\n",
        "Applying the formula gives us the range:\n",
        "\n",
        "`Range = 84 - 64`\n",
        "\n",
        "So, in our example, the range is **20** loaves. This tells us about the spread in daily bread sales but does not provide information on how sales are distributed within this range. Yet, it provides a quick overview of the data spread."
      ]
    },
    {
      "cell_type": "markdown",
      "metadata": {
        "id": "nnZqv1kJFv8E"
      },
      "source": [
        "**Caution on the use of Range**\n",
        "\n",
        "While range is very easy to calculate and can be a good indicator of data spread, just like the Mean, if we have one very big value or very small value (outliers), then the range will not reflect the data accurately.\n",
        "\n",
        "Let's say from the Daily bread sales above, there is one day where the sales of bread that day is 150, out data becomes:\n",
        "> - Daily bread sales: 72, 64, 78, 84, 70, 76, 82, 150\n",
        "\n",
        "Using the formula for Range:\n",
        "\n",
        "``Range = 150 - 64 = 86``\n",
        "\n",
        "Clearly **86** is a big jump compared to the previously calculated range of **20** loaves."
      ]
    },
    {
      "cell_type": "markdown",
      "metadata": {
        "id": "2UX_eElZFv8E"
      },
      "source": [
        "#### Standard Deviation\n",
        "\n",
        "This is where **Standard Deviation** comes in, it measures the **average distance** your data values are **from the Mean**. This is crucial as it provides a gauge of how much the data varies and how reliable the average is in representing the data.\n",
        "\n",
        "For instance, consider five individuals who might have the following amounts of money in their wallets: \\$21, \\$50, \\$62, \\$85, \\$90. The mean (average) amount is \\$61.60 and the standard deviation is **28.01**.\n",
        "\n",
        "This means that the spread is 28.01 to the right of the Mean (\\$61.60) and also 28.01 to the left. Note that it does not match exactly the highest (\\$90 vs \\$89.61) and the lowest value (\\$21 vs \\$33.59)."
      ]
    },
    {
      "cell_type": "markdown",
      "metadata": {
        "id": "zLcboULFFv8E"
      },
      "source": [
        "The formal formula for standard deviation is as follows:\n",
        "\n",
        "- For a population:\n",
        "\n",
        "   $$\\sigma =\\sqrt{\\frac{\\sum{(X - \\mu)^2}}{N}}$$\n",
        "\n",
        "- For a sample:\n",
        "\n",
        "   $$s =\\sqrt{\\frac{\\sum{(X - \\bar{x})^2}}{n - 1}}$$\n",
        "\n",
        "The distinguishing factor between the sample and population formulas lies in the denominator. For a sample, we utilize `n - 1` (known as the Bessel's correction) as the divisor, rather than `N`. This technique is implemented to **correct for bias** in the estimation of the population variance, providing a more conservative estimate."
      ]
    },
    {
      "cell_type": "markdown",
      "metadata": {
        "id": "bktxb5XWFv8F"
      },
      "source": [
        "So, how do we calculate this in practice? Let's illustrate this with an example of a dataset comprising **six test scores** to find the standard deviation:\n",
        "\n",
        "**Data set:** $46, 69, 32, 60, 52, 41$\n",
        "\n",
        "1. **Calculate the Mean (Average):** This is the central point of our data. We need the mean as a reference point to measure how much our data varies.\n",
        "\n",
        "   **Why?** The mean serves as the central value of our dataset, and we measure the variation of our data based on how far these values deviate from this central point.\n",
        "\n",
        "   Let's calculate the mean for our dataset:\n",
        "\n",
        "   $$\\mu = \\frac{\\sum{X}}{N} = \\frac{46 + 69 + 32 + 60 + 52 + 41}{6} = 50$$\n",
        "\n",
        "2. **Calculate the Difference of Each Value from the Mean:** This is the distance of each data point from the mean.\n",
        "\n",
        "   **Why?** We want to know how far each data point is from the average. The further a data point is from the average, the higher the variability.\n",
        "\n",
        "   Let’s calculate the differences:\n",
        "\n",
        "   $$\\begin{align*}\n",
        "   46 - 50 &= -4 \\\\\n",
        "   69 - 50 &= 19 \\\\\n",
        "   32 - 50 &= -18 \\\\\n",
        "   60 - 50 &= 10 \\\\\n",
        "   52 - 50 &= 2 \\\\\n",
        "   41 - 50 &= -9\n",
        "   \\end{align*}$$\n",
        "\n",
        "3. **Square the Differences:** We take the absolute value of the differences by squaring them.\n",
        "\n",
        "   **Why?** There are two main reasons.\n",
        "   \n",
        "   - First, this ensures all difference values are positive (since the square of a negative number is positive).\n",
        "     - **Why?** This is useful as summing differences without squaring could negate positive and negative divergences, falsely implying no variance when there actually is.\n",
        "   - Second, it gives more weight to values that are further from the mean.\n",
        "     - **Why?** As the square of a larger number is much greater than a smaller one's, larger deviations from the mean significantly affect variance or standard deviation values. This emphasizes the presence of **outliers**, or values notably different from the mean, in your data.\n",
        "\n",
        "   Let’s square the differences:\n",
        "\n",
        "   $$\\begin{align*}\n",
        "   (-4)^2 &= 16 \\\\\n",
        "   (19)^2 &= 361 \\\\\n",
        "   (-18)^2 &= 324 \\\\\n",
        "   (10)^2 &= 100 \\\\\n",
        "   (2)^2 &= 4 \\\\\n",
        "   (-9)^2 &= 81\n",
        "   \\end{align*}$$"
      ]
    },
    {
      "cell_type": "code",
      "execution_count": 14,
      "metadata": {
        "id": "C-k6ncF4Fv8F",
        "outputId": "f70fdeb3-7931-434f-c756-9f37091c6ea9"
      },
      "outputs": [
        {
          "data": {
            "application/vnd.plotly.v1+json": {
              "config": {
                "plotlyServerURL": "https://plot.ly"
              },
              "data": [
                {
                  "alignmentgroup": "True",
                  "hovertemplate": "Test Scores=%{x}<br>Squared Deviations=%{y}<extra></extra>",
                  "legendgroup": "",
                  "marker": {
                    "color": "#636efa",
                    "pattern": {
                      "shape": ""
                    }
                  },
                  "name": "",
                  "offsetgroup": "",
                  "orientation": "v",
                  "showlegend": false,
                  "textposition": "auto",
                  "type": "bar",
                  "x": [
                    46,
                    69,
                    32,
                    60,
                    52,
                    41
                  ],
                  "xaxis": "x",
                  "y": [
                    16,
                    361,
                    324,
                    100,
                    4,
                    81
                  ],
                  "yaxis": "y"
                },
                {
                  "line": {
                    "color": "rgba(0,0,0,0)"
                  },
                  "mode": "lines",
                  "name": "Mean Test Scores: 50.00",
                  "showlegend": true,
                  "type": "scatter",
                  "x": [
                    32,
                    69
                  ],
                  "y": [
                    50,
                    50
                  ]
                }
              ],
              "layout": {
                "barmode": "relative",
                "legend": {
                  "tracegroupgap": 0
                },
                "template": {
                  "data": {
                    "bar": [
                      {
                        "error_x": {
                          "color": "#2a3f5f"
                        },
                        "error_y": {
                          "color": "#2a3f5f"
                        },
                        "marker": {
                          "line": {
                            "color": "#E5ECF6",
                            "width": 0.5
                          },
                          "pattern": {
                            "fillmode": "overlay",
                            "size": 10,
                            "solidity": 0.2
                          }
                        },
                        "type": "bar"
                      }
                    ],
                    "barpolar": [
                      {
                        "marker": {
                          "line": {
                            "color": "#E5ECF6",
                            "width": 0.5
                          },
                          "pattern": {
                            "fillmode": "overlay",
                            "size": 10,
                            "solidity": 0.2
                          }
                        },
                        "type": "barpolar"
                      }
                    ],
                    "carpet": [
                      {
                        "aaxis": {
                          "endlinecolor": "#2a3f5f",
                          "gridcolor": "white",
                          "linecolor": "white",
                          "minorgridcolor": "white",
                          "startlinecolor": "#2a3f5f"
                        },
                        "baxis": {
                          "endlinecolor": "#2a3f5f",
                          "gridcolor": "white",
                          "linecolor": "white",
                          "minorgridcolor": "white",
                          "startlinecolor": "#2a3f5f"
                        },
                        "type": "carpet"
                      }
                    ],
                    "choropleth": [
                      {
                        "colorbar": {
                          "outlinewidth": 0,
                          "ticks": ""
                        },
                        "type": "choropleth"
                      }
                    ],
                    "contour": [
                      {
                        "colorbar": {
                          "outlinewidth": 0,
                          "ticks": ""
                        },
                        "colorscale": [
                          [
                            0,
                            "#0d0887"
                          ],
                          [
                            0.1111111111111111,
                            "#46039f"
                          ],
                          [
                            0.2222222222222222,
                            "#7201a8"
                          ],
                          [
                            0.3333333333333333,
                            "#9c179e"
                          ],
                          [
                            0.4444444444444444,
                            "#bd3786"
                          ],
                          [
                            0.5555555555555556,
                            "#d8576b"
                          ],
                          [
                            0.6666666666666666,
                            "#ed7953"
                          ],
                          [
                            0.7777777777777778,
                            "#fb9f3a"
                          ],
                          [
                            0.8888888888888888,
                            "#fdca26"
                          ],
                          [
                            1,
                            "#f0f921"
                          ]
                        ],
                        "type": "contour"
                      }
                    ],
                    "contourcarpet": [
                      {
                        "colorbar": {
                          "outlinewidth": 0,
                          "ticks": ""
                        },
                        "type": "contourcarpet"
                      }
                    ],
                    "heatmap": [
                      {
                        "colorbar": {
                          "outlinewidth": 0,
                          "ticks": ""
                        },
                        "colorscale": [
                          [
                            0,
                            "#0d0887"
                          ],
                          [
                            0.1111111111111111,
                            "#46039f"
                          ],
                          [
                            0.2222222222222222,
                            "#7201a8"
                          ],
                          [
                            0.3333333333333333,
                            "#9c179e"
                          ],
                          [
                            0.4444444444444444,
                            "#bd3786"
                          ],
                          [
                            0.5555555555555556,
                            "#d8576b"
                          ],
                          [
                            0.6666666666666666,
                            "#ed7953"
                          ],
                          [
                            0.7777777777777778,
                            "#fb9f3a"
                          ],
                          [
                            0.8888888888888888,
                            "#fdca26"
                          ],
                          [
                            1,
                            "#f0f921"
                          ]
                        ],
                        "type": "heatmap"
                      }
                    ],
                    "heatmapgl": [
                      {
                        "colorbar": {
                          "outlinewidth": 0,
                          "ticks": ""
                        },
                        "colorscale": [
                          [
                            0,
                            "#0d0887"
                          ],
                          [
                            0.1111111111111111,
                            "#46039f"
                          ],
                          [
                            0.2222222222222222,
                            "#7201a8"
                          ],
                          [
                            0.3333333333333333,
                            "#9c179e"
                          ],
                          [
                            0.4444444444444444,
                            "#bd3786"
                          ],
                          [
                            0.5555555555555556,
                            "#d8576b"
                          ],
                          [
                            0.6666666666666666,
                            "#ed7953"
                          ],
                          [
                            0.7777777777777778,
                            "#fb9f3a"
                          ],
                          [
                            0.8888888888888888,
                            "#fdca26"
                          ],
                          [
                            1,
                            "#f0f921"
                          ]
                        ],
                        "type": "heatmapgl"
                      }
                    ],
                    "histogram": [
                      {
                        "marker": {
                          "pattern": {
                            "fillmode": "overlay",
                            "size": 10,
                            "solidity": 0.2
                          }
                        },
                        "type": "histogram"
                      }
                    ],
                    "histogram2d": [
                      {
                        "colorbar": {
                          "outlinewidth": 0,
                          "ticks": ""
                        },
                        "colorscale": [
                          [
                            0,
                            "#0d0887"
                          ],
                          [
                            0.1111111111111111,
                            "#46039f"
                          ],
                          [
                            0.2222222222222222,
                            "#7201a8"
                          ],
                          [
                            0.3333333333333333,
                            "#9c179e"
                          ],
                          [
                            0.4444444444444444,
                            "#bd3786"
                          ],
                          [
                            0.5555555555555556,
                            "#d8576b"
                          ],
                          [
                            0.6666666666666666,
                            "#ed7953"
                          ],
                          [
                            0.7777777777777778,
                            "#fb9f3a"
                          ],
                          [
                            0.8888888888888888,
                            "#fdca26"
                          ],
                          [
                            1,
                            "#f0f921"
                          ]
                        ],
                        "type": "histogram2d"
                      }
                    ],
                    "histogram2dcontour": [
                      {
                        "colorbar": {
                          "outlinewidth": 0,
                          "ticks": ""
                        },
                        "colorscale": [
                          [
                            0,
                            "#0d0887"
                          ],
                          [
                            0.1111111111111111,
                            "#46039f"
                          ],
                          [
                            0.2222222222222222,
                            "#7201a8"
                          ],
                          [
                            0.3333333333333333,
                            "#9c179e"
                          ],
                          [
                            0.4444444444444444,
                            "#bd3786"
                          ],
                          [
                            0.5555555555555556,
                            "#d8576b"
                          ],
                          [
                            0.6666666666666666,
                            "#ed7953"
                          ],
                          [
                            0.7777777777777778,
                            "#fb9f3a"
                          ],
                          [
                            0.8888888888888888,
                            "#fdca26"
                          ],
                          [
                            1,
                            "#f0f921"
                          ]
                        ],
                        "type": "histogram2dcontour"
                      }
                    ],
                    "mesh3d": [
                      {
                        "colorbar": {
                          "outlinewidth": 0,
                          "ticks": ""
                        },
                        "type": "mesh3d"
                      }
                    ],
                    "parcoords": [
                      {
                        "line": {
                          "colorbar": {
                            "outlinewidth": 0,
                            "ticks": ""
                          }
                        },
                        "type": "parcoords"
                      }
                    ],
                    "pie": [
                      {
                        "automargin": true,
                        "type": "pie"
                      }
                    ],
                    "scatter": [
                      {
                        "fillpattern": {
                          "fillmode": "overlay",
                          "size": 10,
                          "solidity": 0.2
                        },
                        "type": "scatter"
                      }
                    ],
                    "scatter3d": [
                      {
                        "line": {
                          "colorbar": {
                            "outlinewidth": 0,
                            "ticks": ""
                          }
                        },
                        "marker": {
                          "colorbar": {
                            "outlinewidth": 0,
                            "ticks": ""
                          }
                        },
                        "type": "scatter3d"
                      }
                    ],
                    "scattercarpet": [
                      {
                        "marker": {
                          "colorbar": {
                            "outlinewidth": 0,
                            "ticks": ""
                          }
                        },
                        "type": "scattercarpet"
                      }
                    ],
                    "scattergeo": [
                      {
                        "marker": {
                          "colorbar": {
                            "outlinewidth": 0,
                            "ticks": ""
                          }
                        },
                        "type": "scattergeo"
                      }
                    ],
                    "scattergl": [
                      {
                        "marker": {
                          "colorbar": {
                            "outlinewidth": 0,
                            "ticks": ""
                          }
                        },
                        "type": "scattergl"
                      }
                    ],
                    "scattermapbox": [
                      {
                        "marker": {
                          "colorbar": {
                            "outlinewidth": 0,
                            "ticks": ""
                          }
                        },
                        "type": "scattermapbox"
                      }
                    ],
                    "scatterpolar": [
                      {
                        "marker": {
                          "colorbar": {
                            "outlinewidth": 0,
                            "ticks": ""
                          }
                        },
                        "type": "scatterpolar"
                      }
                    ],
                    "scatterpolargl": [
                      {
                        "marker": {
                          "colorbar": {
                            "outlinewidth": 0,
                            "ticks": ""
                          }
                        },
                        "type": "scatterpolargl"
                      }
                    ],
                    "scatterternary": [
                      {
                        "marker": {
                          "colorbar": {
                            "outlinewidth": 0,
                            "ticks": ""
                          }
                        },
                        "type": "scatterternary"
                      }
                    ],
                    "surface": [
                      {
                        "colorbar": {
                          "outlinewidth": 0,
                          "ticks": ""
                        },
                        "colorscale": [
                          [
                            0,
                            "#0d0887"
                          ],
                          [
                            0.1111111111111111,
                            "#46039f"
                          ],
                          [
                            0.2222222222222222,
                            "#7201a8"
                          ],
                          [
                            0.3333333333333333,
                            "#9c179e"
                          ],
                          [
                            0.4444444444444444,
                            "#bd3786"
                          ],
                          [
                            0.5555555555555556,
                            "#d8576b"
                          ],
                          [
                            0.6666666666666666,
                            "#ed7953"
                          ],
                          [
                            0.7777777777777778,
                            "#fb9f3a"
                          ],
                          [
                            0.8888888888888888,
                            "#fdca26"
                          ],
                          [
                            1,
                            "#f0f921"
                          ]
                        ],
                        "type": "surface"
                      }
                    ],
                    "table": [
                      {
                        "cells": {
                          "fill": {
                            "color": "#EBF0F8"
                          },
                          "line": {
                            "color": "white"
                          }
                        },
                        "header": {
                          "fill": {
                            "color": "#C8D4E3"
                          },
                          "line": {
                            "color": "white"
                          }
                        },
                        "type": "table"
                      }
                    ]
                  },
                  "layout": {
                    "annotationdefaults": {
                      "arrowcolor": "#2a3f5f",
                      "arrowhead": 0,
                      "arrowwidth": 1
                    },
                    "autotypenumbers": "strict",
                    "coloraxis": {
                      "colorbar": {
                        "outlinewidth": 0,
                        "ticks": ""
                      }
                    },
                    "colorscale": {
                      "diverging": [
                        [
                          0,
                          "#8e0152"
                        ],
                        [
                          0.1,
                          "#c51b7d"
                        ],
                        [
                          0.2,
                          "#de77ae"
                        ],
                        [
                          0.3,
                          "#f1b6da"
                        ],
                        [
                          0.4,
                          "#fde0ef"
                        ],
                        [
                          0.5,
                          "#f7f7f7"
                        ],
                        [
                          0.6,
                          "#e6f5d0"
                        ],
                        [
                          0.7,
                          "#b8e186"
                        ],
                        [
                          0.8,
                          "#7fbc41"
                        ],
                        [
                          0.9,
                          "#4d9221"
                        ],
                        [
                          1,
                          "#276419"
                        ]
                      ],
                      "sequential": [
                        [
                          0,
                          "#0d0887"
                        ],
                        [
                          0.1111111111111111,
                          "#46039f"
                        ],
                        [
                          0.2222222222222222,
                          "#7201a8"
                        ],
                        [
                          0.3333333333333333,
                          "#9c179e"
                        ],
                        [
                          0.4444444444444444,
                          "#bd3786"
                        ],
                        [
                          0.5555555555555556,
                          "#d8576b"
                        ],
                        [
                          0.6666666666666666,
                          "#ed7953"
                        ],
                        [
                          0.7777777777777778,
                          "#fb9f3a"
                        ],
                        [
                          0.8888888888888888,
                          "#fdca26"
                        ],
                        [
                          1,
                          "#f0f921"
                        ]
                      ],
                      "sequentialminus": [
                        [
                          0,
                          "#0d0887"
                        ],
                        [
                          0.1111111111111111,
                          "#46039f"
                        ],
                        [
                          0.2222222222222222,
                          "#7201a8"
                        ],
                        [
                          0.3333333333333333,
                          "#9c179e"
                        ],
                        [
                          0.4444444444444444,
                          "#bd3786"
                        ],
                        [
                          0.5555555555555556,
                          "#d8576b"
                        ],
                        [
                          0.6666666666666666,
                          "#ed7953"
                        ],
                        [
                          0.7777777777777778,
                          "#fb9f3a"
                        ],
                        [
                          0.8888888888888888,
                          "#fdca26"
                        ],
                        [
                          1,
                          "#f0f921"
                        ]
                      ]
                    },
                    "colorway": [
                      "#636efa",
                      "#EF553B",
                      "#00cc96",
                      "#ab63fa",
                      "#FFA15A",
                      "#19d3f3",
                      "#FF6692",
                      "#B6E880",
                      "#FF97FF",
                      "#FECB52"
                    ],
                    "font": {
                      "color": "#2a3f5f"
                    },
                    "geo": {
                      "bgcolor": "white",
                      "lakecolor": "white",
                      "landcolor": "#E5ECF6",
                      "showlakes": true,
                      "showland": true,
                      "subunitcolor": "white"
                    },
                    "hoverlabel": {
                      "align": "left"
                    },
                    "hovermode": "closest",
                    "mapbox": {
                      "style": "light"
                    },
                    "paper_bgcolor": "white",
                    "plot_bgcolor": "#E5ECF6",
                    "polar": {
                      "angularaxis": {
                        "gridcolor": "white",
                        "linecolor": "white",
                        "ticks": ""
                      },
                      "bgcolor": "#E5ECF6",
                      "radialaxis": {
                        "gridcolor": "white",
                        "linecolor": "white",
                        "ticks": ""
                      }
                    },
                    "scene": {
                      "xaxis": {
                        "backgroundcolor": "#E5ECF6",
                        "gridcolor": "white",
                        "gridwidth": 2,
                        "linecolor": "white",
                        "showbackground": true,
                        "ticks": "",
                        "zerolinecolor": "white"
                      },
                      "yaxis": {
                        "backgroundcolor": "#E5ECF6",
                        "gridcolor": "white",
                        "gridwidth": 2,
                        "linecolor": "white",
                        "showbackground": true,
                        "ticks": "",
                        "zerolinecolor": "white"
                      },
                      "zaxis": {
                        "backgroundcolor": "#E5ECF6",
                        "gridcolor": "white",
                        "gridwidth": 2,
                        "linecolor": "white",
                        "showbackground": true,
                        "ticks": "",
                        "zerolinecolor": "white"
                      }
                    },
                    "shapedefaults": {
                      "line": {
                        "color": "#2a3f5f"
                      }
                    },
                    "ternary": {
                      "aaxis": {
                        "gridcolor": "white",
                        "linecolor": "white",
                        "ticks": ""
                      },
                      "baxis": {
                        "gridcolor": "white",
                        "linecolor": "white",
                        "ticks": ""
                      },
                      "bgcolor": "#E5ECF6",
                      "caxis": {
                        "gridcolor": "white",
                        "linecolor": "white",
                        "ticks": ""
                      }
                    },
                    "title": {
                      "x": 0.05
                    },
                    "xaxis": {
                      "automargin": true,
                      "gridcolor": "white",
                      "linecolor": "white",
                      "ticks": "",
                      "title": {
                        "standoff": 15
                      },
                      "zerolinecolor": "white",
                      "zerolinewidth": 2
                    },
                    "yaxis": {
                      "automargin": true,
                      "gridcolor": "white",
                      "linecolor": "white",
                      "ticks": "",
                      "title": {
                        "standoff": 15
                      },
                      "zerolinecolor": "white",
                      "zerolinewidth": 2
                    }
                  }
                },
                "title": {
                  "text": "Squared Deviations of Test Scores"
                },
                "xaxis": {
                  "anchor": "y",
                  "domain": [
                    0,
                    1
                  ],
                  "title": {
                    "text": "Test Scores"
                  }
                },
                "yaxis": {
                  "anchor": "x",
                  "domain": [
                    0,
                    1
                  ],
                  "title": {
                    "text": "Squared Deviations"
                  }
                }
              }
            }
          },
          "metadata": {},
          "output_type": "display_data"
        }
      ],
      "source": [
        "import plotly.express as px\n",
        "import pandas as pd\n",
        "import numpy as np\n",
        "import plotly.graph_objs as go\n",
        "\n",
        "# Create a DataFrame with your data\n",
        "df = pd.DataFrame({\n",
        "    'Test Scores': [46, 69, 32, 60, 52, 41]\n",
        "})\n",
        "\n",
        "# Calculate the mean\n",
        "mean = df['Test Scores'].mean()\n",
        "\n",
        "# Calculate the deviations\n",
        "df['Deviation'] = df['Test Scores'] - mean\n",
        "\n",
        "# Calculate the squared deviations\n",
        "df['Squared Deviations'] = np.square(df['Deviation'])\n",
        "\n",
        "# Create a bar chart of squared deviations\n",
        "fig = px.bar(df, x='Test Scores', y='Squared Deviations',\n",
        "             title='Squared Deviations of Test Scores',\n",
        "             labels={'Squared Deviations': 'Squared Deviations', 'Test Scores': 'Test Scores'})\n",
        "\n",
        "# Add an invisible trace for mean, just for the sake of legend\n",
        "fig.add_trace(go.Scatter(\n",
        "    x=[df['Test Scores'].min(), df['Test Scores'].max()],\n",
        "    y=[mean, mean],\n",
        "    mode=\"lines\",\n",
        "    line=go.scatter.Line(color=\"rgba(0,0,0,0)\"),  # Transparent color\n",
        "    showlegend=True,\n",
        "    name=\"Mean Test Scores: {:.2f}\".format(mean),  # Show mean value in the legend\n",
        "))\n",
        "\n",
        "fig.show()"
      ]
    },
    {
      "cell_type": "markdown",
      "metadata": {
        "id": "8GZk7VBRFv8F"
      },
      "source": [
        "4. **Average the Squared Differences:** Now we calculate the average of all these squared difference values.\n",
        "\n",
        "   **Why?** We want to know on average how spread out our data is. If we were to just sum these values, larger datasets would appear to have higher spreads. By taking the average, we normalize it.\n",
        "\n",
        "   Let's calculate the average:\n",
        "\n",
        "   $$\\frac{\\sum{(X - \\mu)^2}}{N} = \\frac{16 + 361 + 324 + 100 + 4 + 81}{6} \\approx 147.67$$\n",
        "\n",
        "5. **Take the Square Root of the Average of the Squared Differences:** This is our final step, and it produces our standard deviation.\n",
        "\n",
        "   **Why?** Since we squared the differences in step 3, we have square units. Taking the square root brings this value back to its original unit, giving us a measure of data spread that we can directly compare with the values in our data.\n",
        "\n",
        "   Let's calculate the square root:\n",
        "\n",
        "   $$\\sigma = \\sqrt{\\frac{\\sum{(X - \\mu)^2}}{N}} = \\sqrt{147.67} \\approx 12.15$$\n",
        "\n",
        "So, the standard deviation of our dataset `[46, 69, 32, 60, 52, 41]` is approximately 12.15.\n",
        "\n",
        "We'll cover more about this in the next session on Distribution Statistics."
      ]
    },
    {
      "cell_type": "markdown",
      "metadata": {
        "id": "NFyc8glTFv8F"
      },
      "source": [
        "**Standard deviation calculator**\n",
        "\n",
        "You can calculate the standard deviation by hand or with the help of our standard deviation calculator below."
      ]
    },
    {
      "cell_type": "code",
      "execution_count": 15,
      "metadata": {
        "id": "iajorFwmFv8F",
        "tags": [
          "Hide this cell"
        ]
      },
      "outputs": [
        {
          "name": "stdout",
          "output_type": "stream",
          "text": [
            "Running on local URL:  http://127.0.0.1:7867\n",
            "\n",
            "To create a public link, set `share=True` in `launch()`.\n"
          ]
        },
        {
          "data": {
            "text/html": [
              "<div><iframe src=\"http://127.0.0.1:7867/\" width=\"100%\" height=\"500\" allow=\"autoplay; camera; microphone; clipboard-read; clipboard-write;\" frameborder=\"0\" allowfullscreen></iframe></div>"
            ],
            "text/plain": [
              "<IPython.core.display.HTML object>"
            ]
          },
          "metadata": {},
          "output_type": "display_data"
        },
        {
          "data": {
            "text/plain": []
          },
          "execution_count": 15,
          "metadata": {},
          "output_type": "execute_result"
        }
      ],
      "source": [
        "# @title #### Standard deviation calculator\n",
        "import gradio as gr\n",
        "import numpy as np\n",
        "\n",
        "def calculate_std_dev(numbers):\n",
        "    numbers = [float(num) for num in numbers.split(',')]\n",
        "    pop_std_dev = np.std(numbers)  # population standard deviation\n",
        "    sample_std_dev = np.std(numbers, ddof=1)  # sample standard deviation\n",
        "    return pop_std_dev, sample_std_dev\n",
        "\n",
        "iface = gr.Interface(fn=calculate_std_dev,\n",
        "                     inputs=\"text\",\n",
        "                     outputs=[\n",
        "                         gr.Label(label=\"Population Standard Deviation\"),\n",
        "                         gr.Label(label=\"Sample Standard Deviation\")\n",
        "                     ],\n",
        "                     examples=[['21,50,62,85,90'], ['12,34,56'], ['11,22,33,44,55']])\n",
        "iface.launch()"
      ]
    },
    {
      "cell_type": "markdown",
      "metadata": {
        "id": "DbCvFsgAFv8G"
      },
      "source": [
        "**The empirical rule**\n",
        "\n",
        "The **empirical rule**, or the **68-95-99.7 rule**, tells you where your values lie:\n",
        "- About 68% of your values will fall within 1 standard deviation.\n",
        "- About 95% of your values will fall within 2 standard deviation.\n",
        "- About 99.7% of your values will fall within 3 standard deviation.\n",
        "\n",
        "This is very useful in forecasting the final outcome. It gives a rough estimate of how certain an outcome will/will not happen.\n",
        "\n",
        "For Example, the average height of an adult male in Indonesia is 5'10\" with a standard deviation of 3 inches. Using **empirical rule**, it means that:\n",
        "\n",
        "- 68% of Indonesian men are 5'10\" plus or minus 3 inches tall\n",
        "- 95% of Indonesian men are 5'10\" plus or minus 6 inches tall,\n",
        "- 99.7% of Indonesian men have a height of 5'10\" plus or minus 9 inches.\n",
        "\n",
        "Therefore, only about 0.3% of Indonesian men deviate more than 9 inches from the average, with 0.15% taller than 6'7\", and 0.15% shorter than 5'1\".\n",
        "\n",
        "Using the height example, we can safely say that it's **very unlikely** that we will meet **Indonesian men** who are **taller than 6'7\"**.\n",
        "\n",
        "![stddev](https://storage.googleapis.com/rg-ai-bootcamp/toolkits/stddev.jpg)"
      ]
    },
    {
      "cell_type": "markdown",
      "metadata": {
        "id": "T-of7xONFv8G"
      },
      "source": [
        "**Role of Standard Deviation in Machine Learning**\n",
        "\n",
        "In the realm of machine learning, understanding the standard deviation is key as it provides insights into the **variability** of data. Many algorithms require data to be normalized, and knowledge of data variability helps improve a model's accuracy, thus enabling **more reliable predictions**. 🎯\n",
        "\n",
        "Explore standard deviation here: [geogebra.org](https://www.geogebra.org/m/xrVYEV8E)"
      ]
    },
    {
      "cell_type": "markdown",
      "metadata": {
        "id": "L6JVIZW_Fv8G"
      },
      "source": [
        "**Interactive chart mode**\n",
        "\n",
        "You can explore various different data to get the variance, standard deviation value and learn how the value is positioned from our tool below."
      ]
    },
    {
      "cell_type": "code",
      "execution_count": 16,
      "metadata": {
        "id": "YHzva9oKFv8G",
        "tags": [
          "Hide this cell"
        ]
      },
      "outputs": [
        {
          "name": "stdout",
          "output_type": "stream",
          "text": [
            "Running on local URL:  http://127.0.0.1:7868\n",
            "\n",
            "To create a public link, set `share=True` in `launch()`.\n"
          ]
        },
        {
          "data": {
            "text/html": [
              "<div><iframe src=\"http://127.0.0.1:7868/\" width=\"100%\" height=\"500\" allow=\"autoplay; camera; microphone; clipboard-read; clipboard-write;\" frameborder=\"0\" allowfullscreen></iframe></div>"
            ],
            "text/plain": [
              "<IPython.core.display.HTML object>"
            ]
          },
          "metadata": {},
          "output_type": "display_data"
        },
        {
          "data": {
            "text/plain": []
          },
          "execution_count": 16,
          "metadata": {},
          "output_type": "execute_result"
        }
      ],
      "source": [
        "# @title #### Bar chart, plot histogram and bellcurve\n",
        "import warnings\n",
        "warnings.filterwarnings('ignore', category=UserWarning, module='gradio')\n",
        "import matplotlib.pyplot as plt\n",
        "from scipy.stats import norm\n",
        "import plotly.graph_objects as go\n",
        "import gradio as gr\n",
        "import plotly.io as pio\n",
        "from PIL import Image\n",
        "import io\n",
        "import numpy as np\n",
        "\n",
        "# Function to calculate mean, variance, standard deviation and plot bar chart\n",
        "def interactive_bar(num_scores, scores, statistics_to_show=None, sort_data=False):\n",
        "    scores_names = ['score1', 'score2', 'score3', 'score4', 'score5', 'score6'][:num_scores]\n",
        "\n",
        "    # Sort the data if the option is selected\n",
        "    if sort_data:\n",
        "        scores, scores_names = zip(*sorted(zip(scores, scores_names), key=lambda pair: pair[0]))\n",
        "\n",
        "    fig = go.Figure(data=go.Bar(y=scores, x=scores_names, name='scores'))\n",
        "\n",
        "    # Calculate the mean\n",
        "    mean_score = np.mean(scores)\n",
        "\n",
        "    # Add a horizontal line for the mean\n",
        "    fig.add_trace(go.Scatter(x=[scores_names[0], scores_names[-1]], y=[mean_score, mean_score], mode='lines', name=f'Mean: {mean_score:.2f}', line=dict(color='Red', width=1, dash='dash')))\n",
        "\n",
        "    if 'variance' in statistics_to_show:\n",
        "        # Calculate the variance\n",
        "        variance = np.var(scores)\n",
        "\n",
        "        # Add a text annotation for the variance\n",
        "        fig.add_annotation(text=f'Variance: {variance:.2f}',\n",
        "                           xref='paper', x=0.95, yref='paper', y=0.95,\n",
        "                           showarrow=False, font=dict(size=14), bgcolor='white')\n",
        "\n",
        "    if 'std_dev' in statistics_to_show:\n",
        "        # Calculate the standard deviation\n",
        "        std_dev = np.std(scores, ddof=1)\n",
        "\n",
        "        # Add a text annotation for the standard deviation\n",
        "        fig.add_annotation(text=f'Standard Deviation: {std_dev:.2f}',\n",
        "                           xref='paper', x=0.95, yref='paper', y=0.9,\n",
        "                           showarrow=False, font=dict(size=14), bgcolor='white')\n",
        "\n",
        "    # Add labels for x and y axis\n",
        "    fig.update_layout(\n",
        "        xaxis_title=\"scores\",\n",
        "        yaxis_title=\"Value\",\n",
        "        font=dict(size=14),\n",
        "    )\n",
        "\n",
        "    # Convert the figure to PNG image\n",
        "    png_image = pio.to_image(fig, format='png')\n",
        "\n",
        "    # Create a PIL Image object for Gradio Output\n",
        "    image = Image.open(io.BytesIO(png_image))\n",
        "\n",
        "    return image\n",
        "\n",
        "# Function to create a bell curve\n",
        "def bell_curve(mean, std_dev):\n",
        "    x = np.linspace(mean - 3.5*std_dev, mean + 3.5*std_dev, 100)\n",
        "    plt.plot(x, norm.pdf(x, mean, std_dev), label=f\"mean = {mean:.2f}, std_dev = {std_dev:.2f}\")\n",
        "\n",
        "    # Highlight areas within 1, 2, and 3 standard deviations of the mean\n",
        "    plt.fill_between(x, norm.pdf(x, mean, std_dev), where=((x < mean + std_dev) & (x > mean - std_dev)), alpha=0.6, color='grey')\n",
        "    plt.fill_between(x, norm.pdf(x, mean, std_dev), where=((x < mean + 2*std_dev) & (x > mean - 2*std_dev)), alpha=0.4, color='grey')\n",
        "    plt.fill_between(x, norm.pdf(x, mean, std_dev), where=((x < mean + 3*std_dev) & (x > mean - 3*std_dev)), alpha=0.2, color='grey')\n",
        "\n",
        "    # Add vertical lines for the mean and standard deviation\n",
        "    plt.axvline(mean, color='red', linestyle='-', linewidth=2, label=f'Mean: {mean:.2f}')\n",
        "    plt.axvline(mean-std_dev, color='blue', linestyle='--', linewidth=2, label=f'1 Std Dev below: {mean-std_dev:.2f}')\n",
        "    plt.axvline(mean+std_dev, color='blue', linestyle='--', linewidth=2, label=f'1 Std Dev above: {mean+std_dev:.2f}')\n",
        "\n",
        "    # Place the legend outside of the plot\n",
        "    plt.legend(loc='upper left', bbox_to_anchor=(1,1))\n",
        "\n",
        "    # Add labels for the mean and standard deviation multiples\n",
        "    plt.text(mean, 0.01, 'Average', horizontalalignment='center', fontsize=13)\n",
        "    plt.text(mean-std_dev, 0.01, '1 below', horizontalalignment='center', fontsize=10)\n",
        "    plt.text(mean+std_dev, 0.01, '1 above', horizontalalignment='center', fontsize=10)\n",
        "    plt.text(mean-2*std_dev, 0.01, '2 below', horizontalalignment='center', fontsize=10)\n",
        "    plt.text(mean+2*std_dev, 0.01, '2 above', horizontalalignment='center', fontsize=10)\n",
        "    plt.text(mean-3*std_dev, 0.01, '3 below', horizontalalignment='center', fontsize=10)\n",
        "    plt.text(mean+3*std_dev, 0.01, '3 above', horizontalalignment='center', fontsize=10)\n",
        "\n",
        "    plt.title(\"Distribution of Test Scores\")\n",
        "    plt.xlabel(\"Test Scores\")\n",
        "    plt.ylabel(\"Number of Students\")\n",
        "\n",
        "    # Convert the Matplotlib figure to a PIL Image and return it\n",
        "    buf = io.BytesIO()\n",
        "    plt.savefig(buf, format='png', bbox_inches='tight')\n",
        "    buf.seek(0)\n",
        "    image = Image.open(buf)\n",
        "\n",
        "    return image\n",
        "\n",
        "# Final function for Gradio interface\n",
        "def final_fn(num_scores, score1=0, score2=0, score3=0, score4=0, score5=0, score6=0, statistics_to_show=None, sort_data=False):\n",
        "    num_scores = int(num_scores)  # Convert num_scores to integer\n",
        "    scores = [score1, score2, score3, score4, score5, score6][:num_scores]\n",
        "\n",
        "    mean = np.mean(scores)\n",
        "    std_dev = np.std(scores, ddof=1)\n",
        "\n",
        "    bar_image = interactive_bar(num_scores, scores, statistics_to_show, sort_data)\n",
        "    bell_image = bell_curve(mean, std_dev)\n",
        "\n",
        "    return bar_image, bell_image\n",
        "\n",
        "\n",
        "# Create Gradio interface\n",
        "iface = gr.Interface(\n",
        "    title=\"Standard Deviation and Variance\",\n",
        "    live=True,\n",
        "    fn=final_fn,\n",
        "    inputs=[\n",
        "        gr.Dropdown(choices=[1, 2, 3, 4, 5, 6], label=\"Number of scores to use\", value=\"6\"),\n",
        "        gr.Slider(minimum=0, maximum=100, step=1, value=46),\n",
        "        gr.Slider(minimum=0, maximum=100, step=1, value=69),\n",
        "        gr.Slider(minimum=0, maximum=100, step=1, value=32),\n",
        "        gr.Slider(minimum=0, maximum=100, step=1, value=60),\n",
        "        gr.Slider(minimum=0, maximum=100, step=1, value=52),\n",
        "        gr.Slider(minimum=0, maximum=100, step=1, value=41),\n",
        "        gr.CheckboxGroup(choices=['variance', 'std_dev'], value=['variance', 'std_dev'], label=\"Statistics to show\"),\n",
        "        gr.Checkbox(label=\"Sort data\")\n",
        "    ],\n",
        "    outputs=[gr.Image(type='pil', label='Bar Chart'), gr.Image(type='pil', label='Bell Curve')],\n",
        ")\n",
        "\n",
        "iface.launch()"
      ]
    }
  ],
  "metadata": {
    "colab": {
      "provenance": []
    },
    "kernelspec": {
      "display_name": "Python 3 (ipykernel)",
      "language": "python",
      "name": "python3"
    },
    "language_info": {
      "codemirror_mode": {
        "name": "ipython",
        "version": 3
      },
      "file_extension": ".py",
      "mimetype": "text/x-python",
      "name": "python",
      "nbconvert_exporter": "python",
      "pygments_lexer": "ipython3",
      "version": "3.10.13"
    }
  },
  "nbformat": 4,
  "nbformat_minor": 0
}
