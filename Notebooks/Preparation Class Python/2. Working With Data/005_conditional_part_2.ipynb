{
 "cells": [
  {
   "cell_type": "markdown",
   "metadata": {
    "id": "s2wJhS7S1pV8"
   },
   "source": [
    "# Conditional == The art of making true things true and false things false\n",
    "\n",
    "We'll dive in a little bit on the theoritical side of conditionals.\n",
    "\n",
    "`True` and `False` are a data type in Python called booleans. They are used to represent the truth value of an expression.\n",
    "\n",
    "When we're working with `if` statements, we're basically saying to the computer: \"If this is equal to `True`, do this. If it's equal to `False`, do that.\""
   ]
  },
  {
   "cell_type": "code",
   "execution_count": null,
   "metadata": {
    "colab": {
     "base_uri": "https://localhost:8080/"
    },
    "id": "UAbcpplK1pWB",
    "outputId": "7486a622-91e4-485a-eced-cdc4802da227"
   },
   "outputs": [
    {
     "output_type": "stream",
     "name": "stdout",
     "text": [
      "True\n",
      "False\n"
     ]
    }
   ],
   "source": [
    "if True:\n",
    "    print(\"True\")\n",
    "\n",
    "if True:\n",
    "    print(\"False\")"
   ]
  },
  {
   "cell_type": "markdown",
   "metadata": {
    "id": "146Doxk41pWD"
   },
   "source": [
    "So basically when we're working with conditional, we're trying to manipulate data to make sure it's end up with `True` or `False`.\n",
    "\n",
    "Like previous lesson, when we're doing example like so:"
   ]
  },
  {
   "cell_type": "code",
   "execution_count": null,
   "metadata": {
    "colab": {
     "base_uri": "https://localhost:8080/"
    },
    "id": "QQJ0hOBb1pWD",
    "outputId": "48796c6a-c3be-4d80-aa73-9354decb6eb9"
   },
   "outputs": [
    {
     "output_type": "stream",
     "name": "stdout",
     "text": [
      "True\n",
      "False\n"
     ]
    }
   ],
   "source": [
    "print(\"Imam\" == \"Imam\")\n",
    "print(\"Andi\" == \"Imam\")"
   ]
  },
  {
   "cell_type": "markdown",
   "metadata": {
    "id": "zzoyQtz_1pWE"
   },
   "source": [
    "As you can see above, `\"Imam\" == \"Imam\"` is equal to `True`, while `\"Andi\" == \"Imam\"` is equal to `False`.\n",
    "\n",
    "So basically when we're working with `if`:\n",
    "\n",
    "- We should manipulate the code after the `if` to make sure it's either values: `True` or `False`.\n",
    "\n",
    "This `\"Imam\" == \"Imam\"` and `\"Andi\" == \"Imam\"` is called **logical statement**. Logical statement is a statement that will result in `True` or `False`."
   ]
  },
  {
   "cell_type": "markdown",
   "metadata": {
    "id": "TpTqLTja1pWE"
   },
   "source": [
    "# Other example of logical statement"
   ]
  },
  {
   "cell_type": "markdown",
   "metadata": {
    "id": "nzcLn0ZN1pWE"
   },
   "source": [
    "## Logical statement on numbers\n",
    "\n",
    "Below are several examples of logical statement on numbers."
   ]
  },
  {
   "cell_type": "code",
   "execution_count": null,
   "metadata": {
    "id": "qTHrcNGV1pWF",
    "colab": {
     "base_uri": "https://localhost:8080/"
    },
    "outputId": "5022313b-581c-48cb-b53c-ca41b3ce4c4f"
   },
   "outputs": [
    {
     "output_type": "stream",
     "name": "stdout",
     "text": [
      "True\n",
      "False\n",
      "False\n",
      "True\n",
      "False\n",
      "True\n",
      "True\n"
     ]
    }
   ],
   "source": [
    "print(1 == 1) # True -> 1 is equal to 1\n",
    "print(1 == 2) # False -> 1 is not equal to 2\n",
    "print(1 > 2) # False -> 1 is not greater than 2\n",
    "print(1 < 2) # True -> 1 is less than 2\n",
    "print(1 >= 2) # False -> 1 is not greater than or equal to 2\n",
    "print(1 <= 2) # True -> 1 is less than or equal to 2\n",
    "print(1 <= 1) # True -> 1 is less than or equal to 1"
   ]
  },
  {
   "cell_type": "markdown",
   "metadata": {
    "id": "_T0yc8pf1pWF"
   },
   "source": [
    "## Negation\n",
    "\n",
    "Negation is a statement that will invert the value of the statement. Basically, if the statement is `True`, it will be converted to `False`, and `False` will be converted to `True`."
   ]
  },
  {
   "cell_type": "code",
   "execution_count": null,
   "metadata": {
    "id": "tUGOBCiS1pWG"
   },
   "outputs": [],
   "source": [
    "print(False != True) # True -> False is not equal to True\n",
    "print(True != True) # False -> True is equal to True"
   ]
  },
  {
   "cell_type": "markdown",
   "metadata": {
    "id": "8g13cKAb1pWG"
   },
   "source": [
    "# `and` and `or`\n",
    "\n",
    "`and` and `or` are logical operator that combine two or more logical statement.\n",
    "\n",
    "`and` will return `True` if all of the logical statement is `True`, and `False` if one of the logical statement is `False`.\n",
    "\n",
    "`or` will return `True` if one of the logical statement is `True`, and `False` if all of the logical statement is `False`."
   ]
  },
  {
   "cell_type": "code",
   "execution_count": null,
   "metadata": {
    "id": "OV6wyUiM1pWG"
   },
   "outputs": [],
   "source": [
    "print(True and True) # True -> All conditions are True\n",
    "print(True and False) # False -> One condition is False\n",
    "print(False and False) # False -> All conditions are False\n",
    "\n",
    "print(True or True) # True -> All conditions are True\n",
    "print(True or False) # True -> One condition is True\n",
    "print(False or False) # False -> All conditions are False\n",
    "\n",
    "print(1 == 1 and 2 == 2) # True -> All conditions are True\n",
    "print(1 == 1 and 2 == 3) # False -> One condition is False\n",
    "print(1 != 1 and 2 == 3) # False -> All conditions are False\n",
    "\n",
    "print(1 == 1 or 2 == 2) # True -> All conditions are True\n",
    "print(1 == 1 or 2 == 3) # True -> One condition is True\n",
    "print(1 != 1 or 2 == 3) # False -> All conditions are False"
   ]
  },
  {
   "cell_type": "markdown",
   "metadata": {
    "id": "g1GKOLbg1pWG"
   },
   "source": [
    "# Conditional function\n",
    "\n",
    "Let's take our learning to the next level by creating a function that will return `True` or `False` based on the input. We'll call this function `is_even_and_divisible_by_five`."
   ]
  },
  {
   "cell_type": "code",
   "execution_count": null,
   "metadata": {
    "id": "ZHc1CdVL1pWH",
    "colab": {
     "base_uri": "https://localhost:8080/"
    },
    "outputId": "593a25da-ee00-4562-e9e1-135cb97699e0"
   },
   "outputs": [
    {
     "output_type": "stream",
     "name": "stdout",
     "text": [
      "True\n",
      "False\n",
      "False\n",
      "True\n"
     ]
    }
   ],
   "source": [
    "def is_even_and_divisible_by_five(number):\n",
    "    return number % 2 == 0 and number % 5 == 0\n",
    "\n",
    "print(is_even_and_divisible_by_five(10)) # True\n",
    "print(is_even_and_divisible_by_five(5)) # False\n",
    "print(is_even_and_divisible_by_five(9)) # False\n",
    "print(is_even_and_divisible_by_five(30)) # True"
   ]
  },
  {
   "cell_type": "markdown",
   "metadata": {
    "id": "QIcxG3bm1pWH"
   },
   "source": [
    "Note: `%` in Python is called modulus. It will return the remainder of the division. For example `5 % 2` will return `1` because `5 / 2` is `2` with remainder `1`, while `4 % 2` will return `0` because `4 / 2` is `2` with remainder `0`."
   ]
  },
  {
   "cell_type": "markdown",
   "metadata": {
    "id": "fCPOTIVA1pWH"
   },
   "source": [
    "# Challenge!"
   ]
  },
  {
   "cell_type": "markdown",
   "metadata": {
    "id": "26ZSc_d21pWH"
   },
   "source": [
    "## Challenge 1\n",
    "\n",
    "Create a function that will return `True` if the input is divisible by 2 and 3, and `False` if it's not."
   ]
  },
  {
   "cell_type": "code",
   "execution_count": 2,
   "metadata": {
    "id": "QKQZsM8E1pWH",
    "colab": {
     "base_uri": "https://localhost:8080/"
    },
    "outputId": "f6a33bf0-2fcc-425c-f5a1-73513f84107e",
    "ExecuteTime": {
     "end_time": "2023-12-05T03:02:06.963935Z",
     "start_time": "2023-12-05T03:02:06.950190100Z"
    }
   },
   "outputs": [
    {
     "name": "stdout",
     "output_type": "stream",
     "text": [
      "True\n",
      "False\n",
      "False\n",
      "True\n"
     ]
    }
   ],
   "source": [
    "def is_divisible_by_two_and_three(number):\n",
    "    return number % 2 == 0 and number % 3 == 0 # Replace this line with your code\n",
    "\n",
    "print(is_divisible_by_two_and_three(6)) # True\n",
    "print(is_divisible_by_two_and_three(7)) # False\n",
    "print(is_divisible_by_two_and_three(4)) # False\n",
    "print(is_divisible_by_two_and_three(12)) # True"
   ]
  },
  {
   "cell_type": "markdown",
   "metadata": {
    "id": "PBbNkrsT1pWH"
   },
   "source": [
    "When you are done with the above challenge, then:\n",
    "1. Input your student_id and name in the box below\n",
    "2. Run the code block by pressing the play button."
   ]
  },
  {
   "cell_type": "code",
   "execution_count": 3,
   "metadata": {
    "id": "8ZSmlVqW1pWH",
    "ExecuteTime": {
     "end_time": "2023-12-05T03:02:32.930040600Z",
     "start_time": "2023-12-05T03:02:30.987521400Z"
    }
   },
   "outputs": [
    {
     "name": "stderr",
     "output_type": "stream",
     "text": [
      "\n",
      "[notice] A new release of pip is available: 23.2.1 -> 23.3.1\n",
      "[notice] To update, run: python.exe -m pip install --upgrade pip\n"
     ]
    },
    {
     "name": "stdout",
     "output_type": "stream",
     "text": [
      "Requirement already satisfied: rggrader in d:\\repositories\\skill-academy-ml\\venv\\lib\\site-packages (0.1.6)\n",
      "Requirement already satisfied: requests in d:\\repositories\\skill-academy-ml\\venv\\lib\\site-packages (from rggrader) (2.31.0)\n",
      "Requirement already satisfied: pandas in d:\\repositories\\skill-academy-ml\\venv\\lib\\site-packages (from rggrader) (2.1.3)\n",
      "Requirement already satisfied: Pillow in d:\\repositories\\skill-academy-ml\\venv\\lib\\site-packages (from rggrader) (10.1.0)\n",
      "Requirement already satisfied: numpy<2,>=1.22.4 in d:\\repositories\\skill-academy-ml\\venv\\lib\\site-packages (from pandas->rggrader) (1.26.2)\n",
      "Requirement already satisfied: python-dateutil>=2.8.2 in d:\\repositories\\skill-academy-ml\\venv\\lib\\site-packages (from pandas->rggrader) (2.8.2)\n",
      "Requirement already satisfied: pytz>=2020.1 in d:\\repositories\\skill-academy-ml\\venv\\lib\\site-packages (from pandas->rggrader) (2023.3.post1)\n",
      "Requirement already satisfied: tzdata>=2022.1 in d:\\repositories\\skill-academy-ml\\venv\\lib\\site-packages (from pandas->rggrader) (2023.3)\n",
      "Requirement already satisfied: charset-normalizer<4,>=2 in d:\\repositories\\skill-academy-ml\\venv\\lib\\site-packages (from requests->rggrader) (3.3.2)\n",
      "Requirement already satisfied: idna<4,>=2.5 in d:\\repositories\\skill-academy-ml\\venv\\lib\\site-packages (from requests->rggrader) (3.6)\n",
      "Requirement already satisfied: urllib3<3,>=1.21.1 in d:\\repositories\\skill-academy-ml\\venv\\lib\\site-packages (from requests->rggrader) (2.1.0)\n",
      "Requirement already satisfied: certifi>=2017.4.17 in d:\\repositories\\skill-academy-ml\\venv\\lib\\site-packages (from requests->rggrader) (2023.11.17)\n",
      "Requirement already satisfied: six>=1.5 in d:\\repositories\\skill-academy-ml\\venv\\lib\\site-packages (from python-dateutil>=2.8.2->pandas->rggrader) (1.16.0)\n"
     ]
    },
    {
     "data": {
      "text/plain": "'Assignment successfully submitted'"
     },
     "execution_count": 3,
     "metadata": {},
     "output_type": "execute_result"
    }
   ],
   "source": [
    "!pip install rggrader\n",
    "\n",
    "from rggrader import submit\n",
    "\n",
    "# @title #### Student Identity\n",
    "student_id = \"REA3X5EN\" # @param {type:\"string\"}\n",
    "name = \"Steven Adi Santoso\" # @param {type:\"string\"}\n",
    "\n",
    "# Submit Method\n",
    "assignment_id = \"005_conditional_part_2\"\n",
    "question_id = \"01_conditional_function_1\"\n",
    "submit(student_id, name, assignment_id, str(is_divisible_by_two_and_three(8)), question_id)"
   ]
  },
  {
   "cell_type": "markdown",
   "metadata": {
    "id": "R6DYF4FL1pWI"
   },
   "source": [
    "## Challenge 2\n",
    "\n",
    "Create a function that will return `True` if the input is divisible by 4 and 6, and `False` if it's not."
   ]
  },
  {
   "cell_type": "code",
   "execution_count": 4,
   "metadata": {
    "id": "3Ckj1E6z1pWI",
    "colab": {
     "base_uri": "https://localhost:8080/"
    },
    "outputId": "bbeb6674-2c86-4be4-a46d-2b17e106e3a3",
    "ExecuteTime": {
     "end_time": "2023-12-05T03:03:02.544720600Z",
     "start_time": "2023-12-05T03:03:02.537207400Z"
    }
   },
   "outputs": [
    {
     "name": "stdout",
     "output_type": "stream",
     "text": [
      "True\n",
      "False\n",
      "True\n"
     ]
    }
   ],
   "source": [
    "def is_divisible_by_four_and_six(number):\n",
    "    return number % 4 == 0 and number % 6 == 0 # Replace this line with your code\n",
    "\n",
    "print(is_divisible_by_four_and_six(24)) # True\n",
    "print(is_divisible_by_four_and_six(25)) # False\n",
    "print(is_divisible_by_four_and_six(36)) # True"
   ]
  },
  {
   "cell_type": "markdown",
   "metadata": {
    "id": "aOk-pBNt1pWI"
   },
   "source": [
    "When you are done with the above challenge, then:\n",
    "\n",
    "1. Run the code block by pressing the play button."
   ]
  },
  {
   "cell_type": "code",
   "execution_count": 5,
   "metadata": {
    "id": "cZ1Ril1a1pWI",
    "ExecuteTime": {
     "end_time": "2023-12-05T03:03:05.030298400Z",
     "start_time": "2023-12-05T03:03:04.648595700Z"
    }
   },
   "outputs": [
    {
     "data": {
      "text/plain": "'Assignment successfully submitted'"
     },
     "execution_count": 5,
     "metadata": {},
     "output_type": "execute_result"
    }
   ],
   "source": [
    "# Submit Method\n",
    "assignment_id = \"005_conditional_part_2\"\n",
    "question_id = \"02_conditional_function_2\"\n",
    "\n",
    "submit(student_id, name, assignment_id, str(is_divisible_by_four_and_six(50)), question_id)"
   ]
  },
  {
   "cell_type": "markdown",
   "metadata": {
    "id": "GD3atPtD1pWI"
   },
   "source": [
    "## Challenge 3\n",
    "\n",
    "Create a function that will return `True` if the input is either a person named \"Levi\" or \"Ricky\", and `False` if it's not."
   ]
  },
  {
   "cell_type": "code",
   "execution_count": 6,
   "metadata": {
    "id": "_k9mJcq01pWI",
    "colab": {
     "base_uri": "https://localhost:8080/"
    },
    "outputId": "12f4c662-7f6e-4928-96c9-32fc4bb99f76",
    "ExecuteTime": {
     "end_time": "2023-12-05T03:03:45.913047700Z",
     "start_time": "2023-12-05T03:03:45.901390800Z"
    }
   },
   "outputs": [
    {
     "name": "stdout",
     "output_type": "stream",
     "text": [
      "True\n",
      "True\n",
      "False\n",
      "False\n"
     ]
    }
   ],
   "source": [
    "def is_levi_or_ricky(name):\n",
    "    return name in [\"Levi\", \"Ricky\"] # Replace this line with your code\n",
    "\n",
    "print(is_levi_or_ricky(\"Levi\")) # True\n",
    "print(is_levi_or_ricky(\"Ricky\")) # True\n",
    "print(is_levi_or_ricky(\"Calvin\")) # False\n",
    "print(is_levi_or_ricky(\"Nick\")) # False"
   ]
  },
  {
   "cell_type": "markdown",
   "metadata": {
    "id": "-5kFt1TB1pWI"
   },
   "source": [
    "When you are done with the above challenge, then:\n",
    "\n",
    "1. Run the code block by pressing the play button."
   ]
  },
  {
   "cell_type": "code",
   "execution_count": 7,
   "metadata": {
    "id": "YV3MGhcx1pWI",
    "ExecuteTime": {
     "end_time": "2023-12-05T03:03:58.577983300Z",
     "start_time": "2023-12-05T03:03:58.237354500Z"
    }
   },
   "outputs": [
    {
     "data": {
      "text/plain": "'Assignment successfully submitted'"
     },
     "execution_count": 7,
     "metadata": {},
     "output_type": "execute_result"
    }
   ],
   "source": [
    "# Submit Method\n",
    "assignment_id = \"005_conditional_part_2\"\n",
    "question_id = \"03_conditional_function_3\"\n",
    "\n",
    "submit(student_id, name, assignment_id, str(is_levi_or_ricky(\"Levi\")), question_id)"
   ]
  },
  {
   "cell_type": "markdown",
   "metadata": {
    "id": "qbjRVRe71pWI"
   },
   "source": [
    "# Multiple condition\n",
    "\n",
    "For multiple condition such as: When we're creating a function to make sure that the return is only true when the employee type either `developer` or `designer` and the experience is more than 2 years, we can use combination of `and` and `or` to make sure that the condition is met. Let's see the example below:"
   ]
  },
  {
   "cell_type": "code",
   "execution_count": null,
   "metadata": {
    "id": "PAeB519L1pWJ",
    "outputId": "6165eafd-55c0-435f-892f-3cc795e52f7a",
    "colab": {
     "base_uri": "https://localhost:8080/"
    }
   },
   "outputs": [
    {
     "output_type": "stream",
     "name": "stdout",
     "text": [
      "True\n"
     ]
    }
   ],
   "source": [
    "def experienced_dev_or_design(role, years):\n",
    "    return (role == \"dev\" or role == \"design\") and years >= 2\n",
    "\n",
    "print(experienced_dev_or_design(\"dev\", 3)) # True\n",
    "\n"
   ]
  },
  {
   "cell_type": "code",
   "source": [
    "not (True and False)"
   ],
   "metadata": {
    "colab": {
     "base_uri": "https://localhost:8080/"
    },
    "id": "zYd5RnQygc7Y",
    "outputId": "916cde28-3608-4332-c5c2-4d4b6101bde3"
   },
   "execution_count": null,
   "outputs": [
    {
     "output_type": "execute_result",
     "data": {
      "text/plain": [
       "True"
      ]
     },
     "metadata": {},
     "execution_count": 22
    }
   ]
  },
  {
   "cell_type": "markdown",
   "metadata": {
    "id": "RImg-5qV1pWJ"
   },
   "source": [
    "So how does that work? When working with conditionals, Python will start to evaluate the condition that has parentheses first. So in below case:\n",
    "\n",
    "```python\n",
    "(role == \"dev\" or role == \"design\") and years >= 2\n",
    "```\n",
    "\n",
    "Python will evaluate the condition `role == \"dev\" or role == \"design\"` first, so, if for example the `role` is equal to `dev`, the result would be:\n",
    "\n",
    "```python\n",
    "(True or False) and years >= 2\n",
    "```\n",
    "\n",
    "Then it will be evaluated to:\n",
    "\n",
    "```python\n",
    "True and years >= 2\n",
    "```\n",
    "\n",
    "Then, if the `years` is equal to `3`, the result would be:\n",
    "\n",
    "```python\n",
    "True and True\n",
    "```\n",
    "\n",
    "When working with multiple conditionals, it's always easier \"to see\" the conditionals by evaluating it yourself one by one.\n",
    "\n",
    "## No parentheses\n",
    "\n",
    "What if there is no parentheses? Well, Python will evaluate the conditionals from left to right. Let's see that in action:\n",
    "\n",
    "\n",
    "```python\n",
    "role = \"dev\"\n",
    "years = 3\n",
    "\n",
    "role == \"dev\" or role == \"design\" and years >= 2\n",
    "True or False and True # We evaluate each logical statement first\n",
    "True and True # Then we evaluate left conditional first (True or False)\n",
    "True # Then we evaluate the next most left conditional (True and True)\n",
    "```\n",
    "\n",
    "The parentheses is mostly used to maintain readability of the code. So, if you're working with multiple conditionals, it's always better to use parentheses to make sure that the conditionals is evaluated in the order that you want and avoid confusion."
   ]
  },
  {
   "cell_type": "markdown",
   "metadata": {
    "id": "didn-3S-1pWJ"
   },
   "source": [
    "# Challenge!"
   ]
  },
  {
   "cell_type": "markdown",
   "metadata": {
    "id": "LQ0n1UvM1pWJ"
   },
   "source": [
    "## First Challenge\n",
    "\n",
    "Create a function that will return true if the gender is equal to `male` and the profession is equal to `writer` or `storyteller`.\n",
    "\n",
    "Hint:\n",
    "- Make sure you add parentheses to make sure that the conditionals is evaluated in the order that you want\n",
    "- Profession should be evaluated independently first before you evaluate the gender with the evaluated profession"
   ]
  },
  {
   "cell_type": "code",
   "execution_count": 8,
   "metadata": {
    "id": "LoBQ5NUS1pWJ",
    "ExecuteTime": {
     "end_time": "2023-12-05T03:04:55.910109200Z",
     "start_time": "2023-12-05T03:04:55.862418700Z"
    }
   },
   "outputs": [
    {
     "name": "stdout",
     "output_type": "stream",
     "text": [
      "True\n",
      "True\n",
      "False\n",
      "False\n"
     ]
    }
   ],
   "source": [
    "def get_correct_person(gender, profession):\n",
    "    return gender == \"male\" and profession in [\"writer\", \"storyteller\"] # Replace this line with your code\n",
    "\n",
    "print(get_correct_person(\"male\", \"writer\")) # True\n",
    "print(get_correct_person(\"male\", \"storyteller\")) # True\n",
    "print(get_correct_person(\"female\", \"writer\")) # False\n",
    "print(get_correct_person(\"male\", \"doctor\")) # False"
   ]
  },
  {
   "cell_type": "markdown",
   "metadata": {
    "id": "G4ijP-kh1pWJ"
   },
   "source": [
    "When you are done with the above challenge, then:\n",
    "\n",
    "1. Run the code block by pressing the play button."
   ]
  },
  {
   "cell_type": "code",
   "execution_count": 9,
   "metadata": {
    "id": "e4yvI-Hy1pWK",
    "ExecuteTime": {
     "end_time": "2023-12-05T03:04:59.174368700Z",
     "start_time": "2023-12-05T03:04:58.800436600Z"
    }
   },
   "outputs": [
    {
     "data": {
      "text/plain": "'Assignment successfully submitted'"
     },
     "execution_count": 9,
     "metadata": {},
     "output_type": "execute_result"
    }
   ],
   "source": [
    "# Submit Method\n",
    "assignment_id = \"005_conditional_part_2\"\n",
    "question_id = \"04_multiple_conditional_1\"\n",
    "\n",
    "submit(student_id, name, assignment_id, str(get_correct_person(\"female\", \"doctor\")), question_id)"
   ]
  },
  {
   "cell_type": "markdown",
   "metadata": {
    "id": "JlTRNk3B1pWK"
   },
   "source": [
    "## Second challenge\n",
    "\n",
    "Create a function that will return true if the house price is less than 1000, the house type is equal to `townhouse` or `apartment`, and the house location is equal to `Jakarta` or `Bandung`."
   ]
  },
  {
   "cell_type": "code",
   "execution_count": 10,
   "metadata": {
    "id": "nP3_2CO11pWK",
    "ExecuteTime": {
     "end_time": "2023-12-05T03:05:57.780451700Z",
     "start_time": "2023-12-05T03:05:57.778451900Z"
    }
   },
   "outputs": [
    {
     "name": "stdout",
     "output_type": "stream",
     "text": [
      "True\n",
      "True\n",
      "False\n",
      "False\n",
      "True\n",
      "False\n",
      "False\n",
      "True\n",
      "False\n"
     ]
    }
   ],
   "source": [
    "def is_house_affordable(price, house_type, location):\n",
    "    # Your code here\n",
    "    return price < 1000 and house_type in [\"townhouse\", 'apartment'] and location in [\"Jakarta\", \"Bandung\"]\n",
    "\n",
    "print(is_house_affordable(900, \"townhouse\", \"Jakarta\")) # Should return True because price is less than 1000, house type is townhouse and location is Jakarta\n",
    "print(is_house_affordable(450, \"townhouse\", \"Bandung\")) # Should return True because price is less than 1000, house type is townhouse and location is Bandung\n",
    "print(is_house_affordable(900, \"villa\", \"Jakarta\")) # Should return False because even though the price is less than 1000 and location is Jakarta, the house type is not townhouse or apartment\n",
    "print(is_house_affordable(1000, \"townhouse\", \"Jakarta\")) # Should return False because price is not less than 1000\n",
    "print(is_house_affordable(500, \"apartment\", \"Bandung\")) # Should return True because price is less than 1000, house type is apartment and location is Bandung\n",
    "print(is_house_affordable(2000, \"townhouse\", \"Paris\")) # Should return False because price is more than 1000 and location is not Jakarta or Bandung\n",
    "print(is_house_affordable(900, \"apartment\", \"Tokyo\")) # Should return False because even though the price is less than 1000 and house type is apartment, the location is not Jakarta or Bandung\n",
    "print(is_house_affordable(850, \"apartment\", \"Jakarta\")) # Should return True because price is less than 1000, house type is apartment and location is Jakarta\n",
    "print(is_house_affordable(1050, \"apartment\", \"Bandung\")) # Should return False because price is not less than 1000"
   ]
  },
  {
   "cell_type": "markdown",
   "metadata": {
    "id": "8nVwn4O01pWK"
   },
   "source": [
    "When you are done with the above challenge, then:\n",
    "\n",
    "1. Run the code block by pressing the play button."
   ]
  },
  {
   "cell_type": "code",
   "execution_count": 11,
   "metadata": {
    "id": "PD1e-BHt1pWO",
    "ExecuteTime": {
     "end_time": "2023-12-05T03:06:10.048504600Z",
     "start_time": "2023-12-05T03:06:09.679739600Z"
    }
   },
   "outputs": [
    {
     "data": {
      "text/plain": "'Assignment successfully submitted'"
     },
     "execution_count": 11,
     "metadata": {},
     "output_type": "execute_result"
    }
   ],
   "source": [
    "# Submit Method\n",
    "assignment_id = \"005_conditional_part_2\"\n",
    "question_id = \"05_multiple_conditional_2\"\n",
    "\n",
    "submit(student_id, name, assignment_id, str(is_house_affordable(1000, \"apartment\", \"Bandung\")), question_id)"
   ]
  }
 ],
 "metadata": {
  "kernelspec": {
   "display_name": "Python 3 (ipykernel)",
   "language": "python",
   "name": "python3"
  },
  "language_info": {
   "codemirror_mode": {
    "name": "ipython",
    "version": 3
   },
   "file_extension": ".py",
   "mimetype": "text/x-python",
   "name": "python",
   "nbconvert_exporter": "python",
   "pygments_lexer": "ipython3",
   "version": "3.11.3"
  },
  "colab": {
   "provenance": []
  }
 },
 "nbformat": 4,
 "nbformat_minor": 0
}
