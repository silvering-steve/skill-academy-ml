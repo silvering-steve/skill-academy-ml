{
 "cells": [
  {
   "cell_type": "markdown",
   "metadata": {
    "id": "7z8h8T3H1IMi"
   },
   "source": [
    "# Working with list of data\n",
    "\n",
    "When we're coding, often we need to work with a list of data, for example let's take a look another cool machine learning function below 👀."
   ]
  },
  {
   "cell_type": "code",
   "execution_count": 1,
   "metadata": {
    "id": "MYiqNMmx1IMn",
    "ExecuteTime": {
     "end_time": "2023-12-05T03:06:21.666497300Z",
     "start_time": "2023-12-05T03:06:19.238147600Z"
    }
   },
   "outputs": [
    {
     "name": "stdout",
     "output_type": "stream",
     "text": [
      "Requirement already satisfied: transformers in d:\\repositories\\skill-academy-ml\\venv\\lib\\site-packages (4.35.2)\n",
      "Requirement already satisfied: filelock in d:\\repositories\\skill-academy-ml\\venv\\lib\\site-packages (from transformers) (3.13.1)\n",
      "Requirement already satisfied: huggingface-hub<1.0,>=0.16.4 in d:\\repositories\\skill-academy-ml\\venv\\lib\\site-packages (from transformers) (0.19.4)\n",
      "Requirement already satisfied: numpy>=1.17 in d:\\repositories\\skill-academy-ml\\venv\\lib\\site-packages (from transformers) (1.26.2)\n",
      "Requirement already satisfied: packaging>=20.0 in d:\\repositories\\skill-academy-ml\\venv\\lib\\site-packages (from transformers) (23.2)\n",
      "Requirement already satisfied: pyyaml>=5.1 in d:\\repositories\\skill-academy-ml\\venv\\lib\\site-packages (from transformers) (6.0.1)\n",
      "Requirement already satisfied: regex!=2019.12.17 in d:\\repositories\\skill-academy-ml\\venv\\lib\\site-packages (from transformers) (2023.10.3)\n",
      "Requirement already satisfied: requests in d:\\repositories\\skill-academy-ml\\venv\\lib\\site-packages (from transformers) (2.31.0)\n",
      "Requirement already satisfied: tokenizers<0.19,>=0.14 in d:\\repositories\\skill-academy-ml\\venv\\lib\\site-packages (from transformers) (0.15.0)\n",
      "Requirement already satisfied: safetensors>=0.3.1 in d:\\repositories\\skill-academy-ml\\venv\\lib\\site-packages (from transformers) (0.4.1)\n",
      "Requirement already satisfied: tqdm>=4.27 in d:\\repositories\\skill-academy-ml\\venv\\lib\\site-packages (from transformers) (4.66.1)\n",
      "Requirement already satisfied: fsspec>=2023.5.0 in d:\\repositories\\skill-academy-ml\\venv\\lib\\site-packages (from huggingface-hub<1.0,>=0.16.4->transformers) (2023.12.0)\n",
      "Requirement already satisfied: typing-extensions>=3.7.4.3 in d:\\repositories\\skill-academy-ml\\venv\\lib\\site-packages (from huggingface-hub<1.0,>=0.16.4->transformers) (4.8.0)\n",
      "Requirement already satisfied: colorama in d:\\repositories\\skill-academy-ml\\venv\\lib\\site-packages (from tqdm>=4.27->transformers) (0.4.6)\n",
      "Requirement already satisfied: charset-normalizer<4,>=2 in d:\\repositories\\skill-academy-ml\\venv\\lib\\site-packages (from requests->transformers) (3.3.2)\n",
      "Requirement already satisfied: idna<4,>=2.5 in d:\\repositories\\skill-academy-ml\\venv\\lib\\site-packages (from requests->transformers) (3.6)\n",
      "Requirement already satisfied: urllib3<3,>=1.21.1 in d:\\repositories\\skill-academy-ml\\venv\\lib\\site-packages (from requests->transformers) (2.1.0)\n",
      "Requirement already satisfied: certifi>=2017.4.17 in d:\\repositories\\skill-academy-ml\\venv\\lib\\site-packages (from requests->transformers) (2023.11.17)\n",
      "Note: you may need to restart the kernel to use updated packages.\n"
     ]
    },
    {
     "name": "stderr",
     "output_type": "stream",
     "text": [
      "\n",
      "[notice] A new release of pip is available: 23.2.1 -> 23.3.1\n",
      "[notice] To update, run: python.exe -m pip install --upgrade pip\n"
     ]
    }
   ],
   "source": [
    "%pip install transformers\n",
    "from transformers import pipeline\n",
    "\n",
    "def classify_text(text, candidate_labels):\n",
    "    # Initialize the pipeline for zero-shot classification\n",
    "    classifier = pipeline(\n",
    "        \"zero-shot-classification\",\n",
    "        model=\"facebook/bart-large-mnli\",\n",
    "    )\n",
    "\n",
    "    # Classifying the text\n",
    "    result = classifier(text, candidate_labels)\n",
    "\n",
    "    # Returning the label with the highest score\n",
    "    return result['labels'][0]"
   ]
  },
  {
   "cell_type": "code",
   "execution_count": 2,
   "metadata": {
    "id": "IstrL0A51IMp",
    "ExecuteTime": {
     "end_time": "2023-12-05T03:09:38.380605900Z",
     "start_time": "2023-12-05T03:06:26.527097100Z"
    }
   },
   "outputs": [
    {
     "data": {
      "text/plain": "config.json:   0%|          | 0.00/1.15k [00:00<?, ?B/s]",
      "application/vnd.jupyter.widget-view+json": {
       "version_major": 2,
       "version_minor": 0,
       "model_id": "79a2aa4fde0d4327a217da6a02589805"
      }
     },
     "metadata": {},
     "output_type": "display_data"
    },
    {
     "name": "stderr",
     "output_type": "stream",
     "text": [
      "D:\\Repositories\\skill-academy-ml\\venv\\lib\\site-packages\\huggingface_hub\\file_download.py:147: UserWarning: `huggingface_hub` cache-system uses symlinks by default to efficiently store duplicated files but your machine does not support them in C:\\Users\\Pace\\.cache\\huggingface\\hub. Caching files will still work but in a degraded version that might require more space on your disk. This warning can be disabled by setting the `HF_HUB_DISABLE_SYMLINKS_WARNING` environment variable. For more details, see https://huggingface.co/docs/huggingface_hub/how-to-cache#limitations.\n",
      "To support symlinks on Windows, you either need to activate Developer Mode or to run Python as an administrator. In order to see activate developer mode, see this article: https://docs.microsoft.com/en-us/windows/apps/get-started/enable-your-device-for-development\n",
      "  warnings.warn(message)\n"
     ]
    },
    {
     "data": {
      "text/plain": "model.safetensors:   0%|          | 0.00/1.63G [00:00<?, ?B/s]",
      "application/vnd.jupyter.widget-view+json": {
       "version_major": 2,
       "version_minor": 0,
       "model_id": "116ef07dfccf455192c44360bc760a43"
      }
     },
     "metadata": {},
     "output_type": "display_data"
    },
    {
     "data": {
      "text/plain": "tokenizer_config.json:   0%|          | 0.00/26.0 [00:00<?, ?B/s]",
      "application/vnd.jupyter.widget-view+json": {
       "version_major": 2,
       "version_minor": 0,
       "model_id": "987c9c93d6f3458bba59f1cd178d6e3c"
      }
     },
     "metadata": {},
     "output_type": "display_data"
    },
    {
     "data": {
      "text/plain": "vocab.json:   0%|          | 0.00/899k [00:00<?, ?B/s]",
      "application/vnd.jupyter.widget-view+json": {
       "version_major": 2,
       "version_minor": 0,
       "model_id": "1e64ae359d3f4b3db50129036b6e6676"
      }
     },
     "metadata": {},
     "output_type": "display_data"
    },
    {
     "data": {
      "text/plain": "merges.txt:   0%|          | 0.00/456k [00:00<?, ?B/s]",
      "application/vnd.jupyter.widget-view+json": {
       "version_major": 2,
       "version_minor": 0,
       "model_id": "ba1add31fec64d1fadc84c22126bf21d"
      }
     },
     "metadata": {},
     "output_type": "display_data"
    },
    {
     "data": {
      "text/plain": "tokenizer.json:   0%|          | 0.00/1.36M [00:00<?, ?B/s]",
      "application/vnd.jupyter.widget-view+json": {
       "version_major": 2,
       "version_minor": 0,
       "model_id": "fd8a59a1b7284bd4aae0a8164567835b"
      }
     },
     "metadata": {},
     "output_type": "display_data"
    },
    {
     "data": {
      "text/plain": "'weather'"
     },
     "execution_count": 2,
     "metadata": {},
     "output_type": "execute_result"
    }
   ],
   "source": [
    "classify_text(\"Tomorrow seems will be raining\",[\"weather\", \"finance\", \"tech\"] )"
   ]
  },
  {
   "cell_type": "markdown",
   "metadata": {
    "id": "gc4nwtH61IMq"
   },
   "source": [
    "Whoa! New datatype! What is that?\n",
    "\n",
    "It's called a list. A list is a collection of data, and it's denoted by square brackets [ ]. A list might contains several data with several data types, so a list can be a list of numbers, a list of strings, a list of combination between numbers and strings, or even a list of lists!\n",
    "\n",
    "For now please have fun with above code, basically the first argument is the text that you want to classify, and the second argument is the list of possible classification.\n",
    "\n",
    "Try:\n",
    "```python\n",
    "\"Jakarta\", [\"city\", \"country\", \"building\", \"continent\" ]\n",
    "\"Andi\", [\"animal\", \"item\", \"technology\", \"person's name\" ]\n",
    "\"Hello everyone!\",[\"greeting\", \"farewell\" ]\n",
    "\"Algebra\", [\"math\", \"physics\", \"chemistry\", \"biology\", \"geography\", \"history\", \"language\", \"art\", \"music\", \"sport\", \"programming\" ]\n",
    "```"
   ]
  },
  {
   "cell_type": "markdown",
   "metadata": {
    "id": "0m47uFMg1IMq"
   },
   "source": [
    "Note that the list can be varied in length, it can have 1 element, 2 elements, 3 elements, or even 100 elements, or even 0 element! (empty list)"
   ]
  },
  {
   "cell_type": "markdown",
   "metadata": {
    "id": "yIYHq6wy1IMr"
   },
   "source": [
    "# I want to process these texts!\n",
    "\n",
    "Imagine if you have hundreds of text that you want to know the classification like below:\n",
    "\n",
    "- The service at the restaurant was really impressive\n",
    "- What is the status of my order number #1234?\n",
    "- I have a proposal for a new feature in your app\n",
    "- My package arrived late and the item was damaged\n",
    "- Your team is doing an excellent job\n",
    "- Could you help clarify the specifications of this product?\n",
    "- I'm extremely dissatisfied with the customer service\n",
    "- Have you thought about offering more plant-based options on your menu?\n",
    "- I really appreciate the speedy response from your customer service team\n",
    "- I enjoy using your application, great work\n",
    "\n",
    "And we want to classify above list of text into several categories like below:\n",
    "\n",
    "> opinion, complaint, query, suggestion, appreciation\n",
    "\n",
    "Processing list of data like this is a really common task, let's try to see below the basic of how to process this kind of data:"
   ]
  },
  {
   "cell_type": "code",
   "execution_count": 3,
   "metadata": {
    "id": "huXM514y1IMr",
    "ExecuteTime": {
     "end_time": "2023-12-05T03:10:05.724669Z",
     "start_time": "2023-12-05T03:09:38.382116700Z"
    }
   },
   "outputs": [
    {
     "name": "stdout",
     "output_type": "stream",
     "text": [
      "Text: The service at the restaurant was really impressive, Label: appreciation\n",
      "Text: What is the status of my order number #1234?, Label: query\n",
      "Text: I have a proposal for a new feature in your app, Label: suggestion\n",
      "Text: My package arrived late and the item was damaged, Label: complaint\n",
      "Text: Your team is doing an excellent job, Label: appreciation\n",
      "Text: Could you help clarify the specifications of this product?, Label: query\n",
      "Text: I'm extremely dissatisfied with the customer service, Label: complaint\n",
      "Text: Have you thought about offering more plant-based options on your menu?, Label: suggestion\n",
      "Text: I really appreciate the speedy response from your customer service team, Label: appreciation\n",
      "Text: I enjoy using your application, great work, Label: appreciation\n"
     ]
    }
   ],
   "source": [
    "texts = [\n",
    "    \"The service at the restaurant was really impressive\",\n",
    "    \"What is the status of my order number #1234?\",\n",
    "    \"I have a proposal for a new feature in your app\",\n",
    "    \"My package arrived late and the item was damaged\",\n",
    "    \"Your team is doing an excellent job\",\n",
    "    \"Could you help clarify the specifications of this product?\",\n",
    "    \"I'm extremely dissatisfied with the customer service\",\n",
    "    \"Have you thought about offering more plant-based options on your menu?\",\n",
    "    \"I really appreciate the speedy response from your customer service team\",\n",
    "    \"I enjoy using your application, great work\"\n",
    "]\n",
    "candidate_labels = [\"opinion\", \"complaint\", \"query\", \"suggestion\", \"appreciation\"]\n",
    "\n",
    "for text in texts:\n",
    "    # Classify the text\n",
    "    label = classify_text(text, candidate_labels)\n",
    "\n",
    "    # Print the text and its corresponding label\n",
    "    print(\"Text: \" + text+ \", Label: \" + label)"
   ]
  },
  {
   "cell_type": "markdown",
   "metadata": {
    "id": "pdfXof3o1IMs"
   },
   "source": [
    "As you can see above, we can use what's called a **for loop** to process a list of data. A for loop is a way to repeat a task for every element in a list. Basically every single element in the list will be assigned to a variable, for above example it's `text`, and then we process them in the loop. Like function, for loop is indent-based, so the code that we want to repeat should be indented inside the loop."
   ]
  },
  {
   "cell_type": "markdown",
   "metadata": {
    "id": "mR59Tyrc1IMt"
   },
   "source": [
    "# Challenge!\n",
    "\n",
    "What?! Challenge already?!\n",
    "\n",
    "Because `for loop` can be hard to master, before we dive deeper into the topic, let's try to do several challenges first!"
   ]
  },
  {
   "cell_type": "markdown",
   "metadata": {
    "id": "Frb4bMYg1IMt"
   },
   "source": [
    "## Challenge 1\n",
    "\n",
    "Above we have a list of text, now let's try to do a for loop with a list of numbers!\n",
    "\n",
    "Using below list, create a for loop that will print the number multiplied by 2."
   ]
  },
  {
   "cell_type": "code",
   "execution_count": 4,
   "metadata": {
    "id": "j_jJ7Zkc1IMt",
    "ExecuteTime": {
     "end_time": "2023-12-05T03:10:05.740679800Z",
     "start_time": "2023-12-05T03:10:05.725667400Z"
    }
   },
   "outputs": [
    {
     "name": "stdout",
     "output_type": "stream",
     "text": [
      "16\n",
      "18\n",
      "68\n",
      "112\n"
     ]
    }
   ],
   "source": [
    "number_list = [\n",
    "    8,\n",
    "    9,\n",
    "    34,\n",
    "    56,\n",
    "]\n",
    "\n",
    "for number in number_list:\n",
    "    # Change below code to fulfill the requirements\n",
    "    number = number * 2\n",
    "    print(number)"
   ]
  },
  {
   "cell_type": "markdown",
   "metadata": {
    "id": "Y3KKumxc1IMu"
   },
   "source": [
    "When you are done with the above challenge, then:\n",
    "1. Input your student_id and name in the box below\n",
    "2. Run the code block by pressing the play button."
   ]
  },
  {
   "cell_type": "code",
   "execution_count": 5,
   "metadata": {
    "id": "-oEuDIR51IMu",
    "ExecuteTime": {
     "end_time": "2023-12-05T03:10:07.320315400Z",
     "start_time": "2023-12-05T03:10:05.742184Z"
    }
   },
   "outputs": [
    {
     "name": "stdout",
     "output_type": "stream",
     "text": [
      "Requirement already satisfied: rggrader in d:\\repositories\\skill-academy-ml\\venv\\lib\\site-packages (0.1.6)\n",
      "Requirement already satisfied: requests in d:\\repositories\\skill-academy-ml\\venv\\lib\\site-packages (from rggrader) (2.31.0)\n",
      "Requirement already satisfied: pandas in d:\\repositories\\skill-academy-ml\\venv\\lib\\site-packages (from rggrader) (2.1.3)\n",
      "Requirement already satisfied: Pillow in d:\\repositories\\skill-academy-ml\\venv\\lib\\site-packages (from rggrader) (10.1.0)\n",
      "Requirement already satisfied: numpy<2,>=1.22.4 in d:\\repositories\\skill-academy-ml\\venv\\lib\\site-packages (from pandas->rggrader) (1.26.2)\n",
      "Requirement already satisfied: python-dateutil>=2.8.2 in d:\\repositories\\skill-academy-ml\\venv\\lib\\site-packages (from pandas->rggrader) (2.8.2)\n",
      "Requirement already satisfied: pytz>=2020.1 in d:\\repositories\\skill-academy-ml\\venv\\lib\\site-packages (from pandas->rggrader) (2023.3.post1)\n",
      "Requirement already satisfied: tzdata>=2022.1 in d:\\repositories\\skill-academy-ml\\venv\\lib\\site-packages (from pandas->rggrader) (2023.3)\n",
      "Requirement already satisfied: charset-normalizer<4,>=2 in d:\\repositories\\skill-academy-ml\\venv\\lib\\site-packages (from requests->rggrader) (3.3.2)\n",
      "Requirement already satisfied: idna<4,>=2.5 in d:\\repositories\\skill-academy-ml\\venv\\lib\\site-packages (from requests->rggrader) (3.6)\n",
      "Requirement already satisfied: urllib3<3,>=1.21.1 in d:\\repositories\\skill-academy-ml\\venv\\lib\\site-packages (from requests->rggrader) (2.1.0)\n",
      "Requirement already satisfied: certifi>=2017.4.17 in d:\\repositories\\skill-academy-ml\\venv\\lib\\site-packages (from requests->rggrader) (2023.11.17)\n",
      "Requirement already satisfied: six>=1.5 in d:\\repositories\\skill-academy-ml\\venv\\lib\\site-packages (from python-dateutil>=2.8.2->pandas->rggrader) (1.16.0)\n"
     ]
    },
    {
     "name": "stderr",
     "output_type": "stream",
     "text": [
      "\n",
      "[notice] A new release of pip is available: 23.2.1 -> 23.3.1\n",
      "[notice] To update, run: python.exe -m pip install --upgrade pip\n"
     ]
    },
    {
     "data": {
      "text/plain": "'Assignment successfully submitted'"
     },
     "execution_count": 5,
     "metadata": {},
     "output_type": "execute_result"
    }
   ],
   "source": [
    "!pip install rggrader\n",
    "\n",
    "from rggrader import submit\n",
    "\n",
    "# @title #### Student Identity\n",
    "student_id = \"REA3X5EN\" # @param {type:\"string\"}\n",
    "name = \"Steven Adi Santoso\" # @param {type:\"string\"}\n",
    "\n",
    "# Submit Method\n",
    "assignment_id = \"006_working_with_multiple_data\"\n",
    "question_id = \"01_for_loop_1\"\n",
    "submit(student_id, name, assignment_id, str(number), question_id)"
   ]
  },
  {
   "cell_type": "markdown",
   "metadata": {
    "id": "hPk3AaYj1IMu"
   },
   "source": [
    "# Challenge 2\n",
    "\n",
    "One of function that we can use to process text is `len()`, it will return the length of a string. For example:"
   ]
  },
  {
   "cell_type": "code",
   "execution_count": null,
   "metadata": {
    "id": "L3qzayuK1IMu",
    "outputId": "b036197e-c2c0-4828-f145-694006c0ade0"
   },
   "outputs": [
    {
     "name": "stdout",
     "output_type": "stream",
     "text": [
      "8\n",
      "20\n",
      "42\n"
     ]
    }
   ],
   "source": [
    "print(len(\"Hi there\"))\n",
    "print(len(\"Thanks for your help\"))\n",
    "print(len(\"I really appreciate your help on this task\"))"
   ]
  },
  {
   "cell_type": "markdown",
   "metadata": {
    "id": "PfVMU3v-1IMv"
   },
   "source": [
    "Now with that in mind, let's try to create a for loop that will print the length of each string in the list below:"
   ]
  },
  {
   "cell_type": "code",
   "execution_count": 6,
   "metadata": {
    "id": "wtSrqptz1IMv",
    "ExecuteTime": {
     "end_time": "2023-12-05T03:10:07.350666900Z",
     "start_time": "2023-12-05T03:10:07.321819300Z"
    }
   },
   "outputs": [
    {
     "name": "stdout",
     "output_type": "stream",
     "text": [
      "16\n",
      "31\n",
      "15\n"
     ]
    }
   ],
   "source": [
    "text_data = [\n",
    "    \"Hi, how are you?\",\n",
    "    \"I'm doing great. How about you?\",\n",
    "    \"I'm also great!\",\n",
    "]\n",
    "\n",
    "# Write your code here\n",
    "\n",
    "for text in text_data:\n",
    "    print(len(text))\n",
    "\n",
    "# Expected printed data:\n",
    "# 16\n",
    "# 31\n",
    "# 15"
   ]
  },
  {
   "cell_type": "markdown",
   "metadata": {
    "id": "AeCQ89_x1IMx"
   },
   "source": [
    "When you are done with the above challenge, then:\n",
    "\n",
    "1. Change the text \"my result\" below with the text \"done\"\n",
    "2. Run the code block by pressing the play button."
   ]
  },
  {
   "cell_type": "code",
   "execution_count": 8,
   "metadata": {
    "id": "PpjhVZqv1IMx",
    "ExecuteTime": {
     "end_time": "2023-12-05T03:10:08.037558600Z",
     "start_time": "2023-12-05T03:10:07.682835900Z"
    }
   },
   "outputs": [
    {
     "data": {
      "text/plain": "'Assignment successfully submitted'"
     },
     "execution_count": 8,
     "metadata": {},
     "output_type": "execute_result"
    }
   ],
   "source": [
    "# Submit Method\n",
    "assignment_id = \"006_working_with_multiple_data\"\n",
    "question_id = \"02_for_loop_2\"\n",
    "\n",
    "result = \"done\"\n",
    "\n",
    "submit(student_id, name, assignment_id, result, question_id)"
   ]
  },
  {
   "cell_type": "markdown",
   "metadata": {
    "id": "z-MlymxQ1IMx"
   },
   "source": [
    "# Challenge 3\n",
    "\n",
    "One string method that we can use to process text is `split()`, it will split a string into a list of string given a character. For example:"
   ]
  },
  {
   "cell_type": "code",
   "execution_count": null,
   "metadata": {
    "id": "obwzwWCk1IMx",
    "outputId": "83e318c9-195e-481f-9275-fbee59a31489"
   },
   "outputs": [
    {
     "data": {
      "text/plain": [
       "['Imam', 'Andi', 'Budi', 'Chandra']"
      ]
     },
     "execution_count": 3,
     "metadata": {},
     "output_type": "execute_result"
    }
   ],
   "source": [
    "\"Imam,Andi,Budi,Chandra\".split(\",\")"
   ]
  },
  {
   "cell_type": "markdown",
   "metadata": {
    "id": "PKbQEoJ71IMy"
   },
   "source": [
    "So for above word we split each word and feed them into a list of string using comma as the separator.\n",
    "\n",
    "Now split below string, and then get the length of each word using for loop!"
   ]
  },
  {
   "cell_type": "code",
   "execution_count": 9,
   "metadata": {
    "id": "5tLu3c_Z1IMy",
    "ExecuteTime": {
     "end_time": "2023-12-05T03:12:10.281353100Z",
     "start_time": "2023-12-05T03:12:10.267338Z"
    }
   },
   "outputs": [
    {
     "name": "stdout",
     "output_type": "stream",
     "text": [
      "5\n",
      "6\n",
      "5\n",
      "4\n",
      "4\n",
      "7\n"
     ]
    }
   ],
   "source": [
    "names = \"Fajar,Levina,Putri,Andi,Budi,Chandra\"\n",
    "\n",
    "# Write your code here\n",
    "\n",
    "for name in names.split(\",\"):\n",
    "    print(len(name))\n",
    "\n",
    "# Expected printed data:\n",
    "# 5\n",
    "# 6\n",
    "# 5\n",
    "# 4\n",
    "# 4\n",
    "# 7"
   ]
  },
  {
   "cell_type": "markdown",
   "metadata": {
    "id": "G82zEoST1IMy"
   },
   "source": [
    "When you are done with the above challenge, then:\n",
    "\n",
    "1. Change the text \"my result\" below with the text \"done\"\n",
    "2. Run the code block by pressing the play button."
   ]
  },
  {
   "cell_type": "code",
   "execution_count": 11,
   "metadata": {
    "id": "_DbnSXaP1IMy",
    "ExecuteTime": {
     "end_time": "2023-12-05T03:12:16.521778300Z",
     "start_time": "2023-12-05T03:12:16.206719200Z"
    }
   },
   "outputs": [
    {
     "data": {
      "text/plain": "'Assignment successfully submitted'"
     },
     "execution_count": 11,
     "metadata": {},
     "output_type": "execute_result"
    }
   ],
   "source": [
    "# Submit Method\n",
    "assignment_id = \"006_working_with_multiple_data\"\n",
    "question_id = \"03_for_loop_3\"\n",
    "\n",
    "result = \"done\"\n",
    "\n",
    "submit(student_id, name, assignment_id, result, question_id)"
   ]
  }
 ],
 "metadata": {
  "kernelspec": {
   "display_name": "Python 3 (ipykernel)",
   "language": "python",
   "name": "python3"
  },
  "language_info": {
   "codemirror_mode": {
    "name": "ipython",
    "version": 3
   },
   "file_extension": ".py",
   "mimetype": "text/x-python",
   "name": "python",
   "nbconvert_exporter": "python",
   "pygments_lexer": "ipython3",
   "version": "3.11.3"
  },
  "colab": {
   "provenance": []
  }
 },
 "nbformat": 4,
 "nbformat_minor": 0
}
