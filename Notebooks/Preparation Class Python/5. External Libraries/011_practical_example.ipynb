{
 "cells": [
  {
   "cell_type": "markdown",
   "metadata": {
    "id": "pIF7n6kwGXy5"
   },
   "source": [
    "# Let's get practical!\n",
    "\n",
    "Woohoo, after days of learning Python, we can decipher lots of python code now. Check below code out and run it!"
   ]
  },
  {
   "cell_type": "markdown",
   "metadata": {
    "id": "dA7b8s4cGXy9"
   },
   "source": [
    "%pip install gradio\n",
    "%pip install typing-extensions --upgrade"
   ]
  },
  {
   "cell_type": "code",
   "source": [
    "%pip install gradio"
   ],
   "metadata": {
    "id": "lNPMJeJQsK7Z",
    "ExecuteTime": {
     "end_time": "2023-12-05T03:46:02.562229400Z",
     "start_time": "2023-12-05T03:45:39.710083500Z"
    }
   },
   "execution_count": 1,
   "outputs": [
    {
     "name": "stdout",
     "output_type": "stream",
     "text": [
      "Collecting gradio\n",
      "  Obtaining dependency information for gradio from https://files.pythonhosted.org/packages/67/bb/4a01345de5f30b897d8463921bf341a6dffcb5d73656a660e9e9160e2196/gradio-4.8.0-py3-none-any.whl.metadata\n",
      "  Downloading gradio-4.8.0-py3-none-any.whl.metadata (17 kB)\n",
      "Collecting aiofiles<24.0,>=22.0 (from gradio)\n",
      "  Obtaining dependency information for aiofiles<24.0,>=22.0 from https://files.pythonhosted.org/packages/c5/19/5af6804c4cc0fed83f47bff6e413a98a36618e7d40185cd36e69737f3b0e/aiofiles-23.2.1-py3-none-any.whl.metadata\n",
      "  Downloading aiofiles-23.2.1-py3-none-any.whl.metadata (9.7 kB)\n",
      "Collecting altair<6.0,>=4.2.0 (from gradio)\n",
      "  Obtaining dependency information for altair<6.0,>=4.2.0 from https://files.pythonhosted.org/packages/c5/e4/7fcceef127badbb0d644d730d992410e4f3799b295c9964a172f92a469c7/altair-5.2.0-py3-none-any.whl.metadata\n",
      "  Downloading altair-5.2.0-py3-none-any.whl.metadata (8.7 kB)\n",
      "Collecting fastapi (from gradio)\n",
      "  Obtaining dependency information for fastapi from https://files.pythonhosted.org/packages/f3/4f/0ce34195b63240b6693086496c9bab4ef23999112184399a3e88854c7674/fastapi-0.104.1-py3-none-any.whl.metadata\n",
      "  Using cached fastapi-0.104.1-py3-none-any.whl.metadata (24 kB)\n",
      "Collecting ffmpy (from gradio)\n",
      "  Using cached ffmpy-0.3.1-py3-none-any.whl\n",
      "Collecting gradio-client==0.7.1 (from gradio)\n",
      "  Obtaining dependency information for gradio-client==0.7.1 from https://files.pythonhosted.org/packages/2e/9e/ce7b34549e418cb7a1c1b541cf5f108f32be08e9ef31eb061fc5218c0091/gradio_client-0.7.1-py3-none-any.whl.metadata\n",
      "  Downloading gradio_client-0.7.1-py3-none-any.whl.metadata (7.1 kB)\n",
      "Collecting httpx (from gradio)\n",
      "  Obtaining dependency information for httpx from https://files.pythonhosted.org/packages/a2/65/6940eeb21dcb2953778a6895281c179efd9100463ff08cb6232bb6480da7/httpx-0.25.2-py3-none-any.whl.metadata\n",
      "  Downloading httpx-0.25.2-py3-none-any.whl.metadata (6.9 kB)\n",
      "Requirement already satisfied: huggingface-hub>=0.14.0 in d:\\repositories\\skill-academy-ml\\venv\\lib\\site-packages (from gradio) (0.19.4)\n",
      "Collecting importlib-resources<7.0,>=1.3 (from gradio)\n",
      "  Obtaining dependency information for importlib-resources<7.0,>=1.3 from https://files.pythonhosted.org/packages/93/e8/facde510585869b5ec694e8e0363ffe4eba067cb357a8398a55f6a1f8023/importlib_resources-6.1.1-py3-none-any.whl.metadata\n",
      "  Downloading importlib_resources-6.1.1-py3-none-any.whl.metadata (4.1 kB)\n",
      "Requirement already satisfied: jinja2<4.0 in d:\\repositories\\skill-academy-ml\\venv\\lib\\site-packages (from gradio) (3.1.2)\n",
      "Requirement already satisfied: markupsafe~=2.0 in d:\\repositories\\skill-academy-ml\\venv\\lib\\site-packages (from gradio) (2.1.3)\n",
      "Collecting matplotlib~=3.0 (from gradio)\n",
      "  Obtaining dependency information for matplotlib~=3.0 from https://files.pythonhosted.org/packages/46/37/b5e27ab30ecc0a3694c8a78287b5ef35dad0c3095c144fcc43081170bfd6/matplotlib-3.8.2-cp310-cp310-win_amd64.whl.metadata\n",
      "  Using cached matplotlib-3.8.2-cp310-cp310-win_amd64.whl.metadata (5.9 kB)\n",
      "Requirement already satisfied: numpy~=1.0 in d:\\repositories\\skill-academy-ml\\venv\\lib\\site-packages (from gradio) (1.26.2)\n",
      "Collecting orjson~=3.0 (from gradio)\n",
      "  Obtaining dependency information for orjson~=3.0 from https://files.pythonhosted.org/packages/b0/6e/1b75897f9afae0eb7d72b0bedd371ef2d9063d4616444b6f4364689785f3/orjson-3.9.10-cp310-none-win_amd64.whl.metadata\n",
      "  Downloading orjson-3.9.10-cp310-none-win_amd64.whl.metadata (50 kB)\n",
      "     ---------------------------------------- 0.0/50.5 kB ? eta -:--:--\n",
      "     ------------------------ --------------- 30.7/50.5 kB 1.3 MB/s eta 0:00:01\n",
      "     -------------------------------------- 50.5/50.5 kB 856.1 kB/s eta 0:00:00\n",
      "Requirement already satisfied: packaging in d:\\repositories\\skill-academy-ml\\venv\\lib\\site-packages (from gradio) (23.2)\n",
      "Requirement already satisfied: pandas<3.0,>=1.0 in d:\\repositories\\skill-academy-ml\\venv\\lib\\site-packages (from gradio) (2.1.3)\n",
      "Requirement already satisfied: pillow<11.0,>=8.0 in d:\\repositories\\skill-academy-ml\\venv\\lib\\site-packages (from gradio) (10.1.0)\n",
      "Collecting pydantic>=2.0 (from gradio)\n",
      "  Obtaining dependency information for pydantic>=2.0 from https://files.pythonhosted.org/packages/0a/2b/64066de1c4cf3d4ed623beeb3bbf3f8d0cc26661f1e7d180ec5eb66b75a5/pydantic-2.5.2-py3-none-any.whl.metadata\n",
      "  Using cached pydantic-2.5.2-py3-none-any.whl.metadata (65 kB)\n",
      "Collecting pydub (from gradio)\n",
      "  Downloading pydub-0.25.1-py2.py3-none-any.whl (32 kB)\n",
      "Collecting python-multipart (from gradio)\n",
      "  Using cached python_multipart-0.0.6-py3-none-any.whl (45 kB)\n",
      "Requirement already satisfied: pyyaml<7.0,>=5.0 in d:\\repositories\\skill-academy-ml\\venv\\lib\\site-packages (from gradio) (6.0.1)\n",
      "Requirement already satisfied: requests~=2.0 in d:\\repositories\\skill-academy-ml\\venv\\lib\\site-packages (from gradio) (2.31.0)\n",
      "Collecting semantic-version~=2.0 (from gradio)\n",
      "  Downloading semantic_version-2.10.0-py2.py3-none-any.whl (15 kB)\n",
      "Collecting tomlkit==0.12.0 (from gradio)\n",
      "  Obtaining dependency information for tomlkit==0.12.0 from https://files.pythonhosted.org/packages/68/4f/12207897848a653d03ebbf6775a29d949408ded5f99b2d87198bc5c93508/tomlkit-0.12.0-py3-none-any.whl.metadata\n",
      "  Downloading tomlkit-0.12.0-py3-none-any.whl.metadata (2.7 kB)\n",
      "Collecting typer[all]<1.0,>=0.9 (from gradio)\n",
      "  Downloading typer-0.9.0-py3-none-any.whl (45 kB)\n",
      "     ---------------------------------------- 0.0/45.9 kB ? eta -:--:--\n",
      "     ---------------------------------------- 45.9/45.9 kB 2.2 MB/s eta 0:00:00\n",
      "Requirement already satisfied: typing-extensions~=4.0 in d:\\repositories\\skill-academy-ml\\venv\\lib\\site-packages (from gradio) (4.8.0)\n",
      "Collecting uvicorn>=0.14.0 (from gradio)\n",
      "  Obtaining dependency information for uvicorn>=0.14.0 from https://files.pythonhosted.org/packages/7e/17/4b7a76fffa7babf397481040d8aef2725b2b81ae19f1a31b5ca0c17d49e6/uvicorn-0.24.0.post1-py3-none-any.whl.metadata\n",
      "  Using cached uvicorn-0.24.0.post1-py3-none-any.whl.metadata (6.4 kB)\n",
      "Requirement already satisfied: fsspec in d:\\repositories\\skill-academy-ml\\venv\\lib\\site-packages (from gradio-client==0.7.1->gradio) (2023.12.0)\n",
      "Collecting websockets<12.0,>=10.0 (from gradio-client==0.7.1->gradio)\n",
      "  Downloading websockets-11.0.3-cp310-cp310-win_amd64.whl (124 kB)\n",
      "     ---------------------------------------- 0.0/124.7 kB ? eta -:--:--\n",
      "     -------------------------------------- 124.7/124.7 kB 3.7 MB/s eta 0:00:00\n",
      "Requirement already satisfied: jsonschema>=3.0 in d:\\repositories\\skill-academy-ml\\venv\\lib\\site-packages (from altair<6.0,>=4.2.0->gradio) (4.20.0)\n",
      "Collecting toolz (from altair<6.0,>=4.2.0->gradio)\n",
      "  Using cached toolz-0.12.0-py3-none-any.whl (55 kB)\n",
      "Requirement already satisfied: filelock in d:\\repositories\\skill-academy-ml\\venv\\lib\\site-packages (from huggingface-hub>=0.14.0->gradio) (3.13.1)\n",
      "Requirement already satisfied: tqdm>=4.42.1 in d:\\repositories\\skill-academy-ml\\venv\\lib\\site-packages (from huggingface-hub>=0.14.0->gradio) (4.66.1)\n",
      "Collecting contourpy>=1.0.1 (from matplotlib~=3.0->gradio)\n",
      "  Obtaining dependency information for contourpy>=1.0.1 from https://files.pythonhosted.org/packages/fd/7c/168f8343f33d861305e18c56901ef1bb675d3c7f977f435ec72751a71a54/contourpy-1.2.0-cp310-cp310-win_amd64.whl.metadata\n",
      "  Using cached contourpy-1.2.0-cp310-cp310-win_amd64.whl.metadata (5.8 kB)\n",
      "Collecting cycler>=0.10 (from matplotlib~=3.0->gradio)\n",
      "  Obtaining dependency information for cycler>=0.10 from https://files.pythonhosted.org/packages/e7/05/c19819d5e3d95294a6f5947fb9b9629efb316b96de511b418c53d245aae6/cycler-0.12.1-py3-none-any.whl.metadata\n",
      "  Using cached cycler-0.12.1-py3-none-any.whl.metadata (3.8 kB)\n",
      "Collecting fonttools>=4.22.0 (from matplotlib~=3.0->gradio)\n",
      "  Obtaining dependency information for fonttools>=4.22.0 from https://files.pythonhosted.org/packages/3c/35/f37c8bda77eee9d4d3a7306ad1d2d71d1e8739fd4f574fac07bd63ddc293/fonttools-4.46.0-cp310-cp310-win_amd64.whl.metadata\n",
      "  Downloading fonttools-4.46.0-cp310-cp310-win_amd64.whl.metadata (159 kB)\n",
      "     ---------------------------------------- 0.0/159.4 kB ? eta -:--:--\n",
      "     -------------------------- ----------- 112.6/159.4 kB 3.3 MB/s eta 0:00:01\n",
      "     -------------------------------------- 159.4/159.4 kB 3.2 MB/s eta 0:00:00\n",
      "Collecting kiwisolver>=1.3.1 (from matplotlib~=3.0->gradio)\n",
      "  Obtaining dependency information for kiwisolver>=1.3.1 from https://files.pythonhosted.org/packages/4a/a1/8a9c9be45c642fa12954855d8b3a02d9fd8551165a558835a19508fec2e6/kiwisolver-1.4.5-cp310-cp310-win_amd64.whl.metadata\n",
      "  Using cached kiwisolver-1.4.5-cp310-cp310-win_amd64.whl.metadata (6.5 kB)\n",
      "Collecting pyparsing>=2.3.1 (from matplotlib~=3.0->gradio)\n",
      "  Obtaining dependency information for pyparsing>=2.3.1 from https://files.pythonhosted.org/packages/39/92/8486ede85fcc088f1b3dba4ce92dd29d126fd96b0008ea213167940a2475/pyparsing-3.1.1-py3-none-any.whl.metadata\n",
      "  Using cached pyparsing-3.1.1-py3-none-any.whl.metadata (5.1 kB)\n",
      "Requirement already satisfied: python-dateutil>=2.7 in d:\\repositories\\skill-academy-ml\\venv\\lib\\site-packages (from matplotlib~=3.0->gradio) (2.8.2)\n",
      "Requirement already satisfied: pytz>=2020.1 in d:\\repositories\\skill-academy-ml\\venv\\lib\\site-packages (from pandas<3.0,>=1.0->gradio) (2023.3.post1)\n",
      "Requirement already satisfied: tzdata>=2022.1 in d:\\repositories\\skill-academy-ml\\venv\\lib\\site-packages (from pandas<3.0,>=1.0->gradio) (2023.3)\n",
      "Collecting annotated-types>=0.4.0 (from pydantic>=2.0->gradio)\n",
      "  Obtaining dependency information for annotated-types>=0.4.0 from https://files.pythonhosted.org/packages/28/78/d31230046e58c207284c6b2c4e8d96e6d3cb4e52354721b944d3e1ee4aa5/annotated_types-0.6.0-py3-none-any.whl.metadata\n",
      "  Using cached annotated_types-0.6.0-py3-none-any.whl.metadata (12 kB)\n",
      "Collecting pydantic-core==2.14.5 (from pydantic>=2.0->gradio)\n",
      "  Obtaining dependency information for pydantic-core==2.14.5 from https://files.pythonhosted.org/packages/3d/9f/bd9a41853a8ad6854cf126e72bb19a4849f79efe2d544b1a44f5351b9748/pydantic_core-2.14.5-cp310-none-win_amd64.whl.metadata\n",
      "  Using cached pydantic_core-2.14.5-cp310-none-win_amd64.whl.metadata (6.6 kB)\n",
      "Requirement already satisfied: charset-normalizer<4,>=2 in d:\\repositories\\skill-academy-ml\\venv\\lib\\site-packages (from requests~=2.0->gradio) (3.3.2)\n",
      "Requirement already satisfied: idna<4,>=2.5 in d:\\repositories\\skill-academy-ml\\venv\\lib\\site-packages (from requests~=2.0->gradio) (3.6)\n",
      "Requirement already satisfied: urllib3<3,>=1.21.1 in d:\\repositories\\skill-academy-ml\\venv\\lib\\site-packages (from requests~=2.0->gradio) (2.1.0)\n",
      "Requirement already satisfied: certifi>=2017.4.17 in d:\\repositories\\skill-academy-ml\\venv\\lib\\site-packages (from requests~=2.0->gradio) (2023.11.17)\n",
      "Collecting click<9.0.0,>=7.1.1 (from typer[all]<1.0,>=0.9->gradio)\n",
      "  Obtaining dependency information for click<9.0.0,>=7.1.1 from https://files.pythonhosted.org/packages/00/2e/d53fa4befbf2cfa713304affc7ca780ce4fc1fd8710527771b58311a3229/click-8.1.7-py3-none-any.whl.metadata\n",
      "  Using cached click-8.1.7-py3-none-any.whl.metadata (3.0 kB)\n",
      "Requirement already satisfied: colorama<0.5.0,>=0.4.3 in d:\\repositories\\skill-academy-ml\\venv\\lib\\site-packages (from typer[all]<1.0,>=0.9->gradio) (0.4.6)\n",
      "Collecting shellingham<2.0.0,>=1.3.0 (from typer[all]<1.0,>=0.9->gradio)\n",
      "  Obtaining dependency information for shellingham<2.0.0,>=1.3.0 from https://files.pythonhosted.org/packages/e0/f9/0595336914c5619e5f28a1fb793285925a8cd4b432c9da0a987836c7f822/shellingham-1.5.4-py2.py3-none-any.whl.metadata\n",
      "  Downloading shellingham-1.5.4-py2.py3-none-any.whl.metadata (3.5 kB)\n",
      "Collecting rich<14.0.0,>=10.11.0 (from typer[all]<1.0,>=0.9->gradio)\n",
      "  Obtaining dependency information for rich<14.0.0,>=10.11.0 from https://files.pythonhosted.org/packages/be/be/1520178fa01eabe014b16e72a952b9f900631142ccd03dc36cf93e30c1ce/rich-13.7.0-py3-none-any.whl.metadata\n",
      "  Downloading rich-13.7.0-py3-none-any.whl.metadata (18 kB)\n",
      "Collecting h11>=0.8 (from uvicorn>=0.14.0->gradio)\n",
      "  Using cached h11-0.14.0-py3-none-any.whl (58 kB)\n",
      "Collecting anyio<4.0.0,>=3.7.1 (from fastapi->gradio)\n",
      "  Obtaining dependency information for anyio<4.0.0,>=3.7.1 from https://files.pythonhosted.org/packages/19/24/44299477fe7dcc9cb58d0a57d5a7588d6af2ff403fdd2d47a246c91a3246/anyio-3.7.1-py3-none-any.whl.metadata\n",
      "  Using cached anyio-3.7.1-py3-none-any.whl.metadata (4.7 kB)\n",
      "Collecting starlette<0.28.0,>=0.27.0 (from fastapi->gradio)\n",
      "  Obtaining dependency information for starlette<0.28.0,>=0.27.0 from https://files.pythonhosted.org/packages/58/f8/e2cca22387965584a409795913b774235752be4176d276714e15e1a58884/starlette-0.27.0-py3-none-any.whl.metadata\n",
      "  Using cached starlette-0.27.0-py3-none-any.whl.metadata (5.8 kB)\n",
      "Collecting httpcore==1.* (from httpx->gradio)\n",
      "  Obtaining dependency information for httpcore==1.* from https://files.pythonhosted.org/packages/56/ba/78b0a99c4da0ff8b0f59defa2f13ca4668189b134bd9840b6202a93d9a0f/httpcore-1.0.2-py3-none-any.whl.metadata\n",
      "  Using cached httpcore-1.0.2-py3-none-any.whl.metadata (20 kB)\n",
      "Requirement already satisfied: sniffio in d:\\repositories\\skill-academy-ml\\venv\\lib\\site-packages (from httpx->gradio) (1.3.0)\n",
      "Requirement already satisfied: exceptiongroup in d:\\repositories\\skill-academy-ml\\venv\\lib\\site-packages (from anyio<4.0.0,>=3.7.1->fastapi->gradio) (1.2.0)\n",
      "Requirement already satisfied: attrs>=22.2.0 in d:\\repositories\\skill-academy-ml\\venv\\lib\\site-packages (from jsonschema>=3.0->altair<6.0,>=4.2.0->gradio) (23.1.0)\n",
      "Requirement already satisfied: jsonschema-specifications>=2023.03.6 in d:\\repositories\\skill-academy-ml\\venv\\lib\\site-packages (from jsonschema>=3.0->altair<6.0,>=4.2.0->gradio) (2023.11.2)\n",
      "Requirement already satisfied: referencing>=0.28.4 in d:\\repositories\\skill-academy-ml\\venv\\lib\\site-packages (from jsonschema>=3.0->altair<6.0,>=4.2.0->gradio) (0.31.1)\n",
      "Requirement already satisfied: rpds-py>=0.7.1 in d:\\repositories\\skill-academy-ml\\venv\\lib\\site-packages (from jsonschema>=3.0->altair<6.0,>=4.2.0->gradio) (0.13.2)\n",
      "Requirement already satisfied: six>=1.5 in d:\\repositories\\skill-academy-ml\\venv\\lib\\site-packages (from python-dateutil>=2.7->matplotlib~=3.0->gradio) (1.16.0)\n",
      "Collecting markdown-it-py>=2.2.0 (from rich<14.0.0,>=10.11.0->typer[all]<1.0,>=0.9->gradio)\n",
      "  Obtaining dependency information for markdown-it-py>=2.2.0 from https://files.pythonhosted.org/packages/42/d7/1ec15b46af6af88f19b8e5ffea08fa375d433c998b8a7639e76935c14f1f/markdown_it_py-3.0.0-py3-none-any.whl.metadata\n",
      "  Using cached markdown_it_py-3.0.0-py3-none-any.whl.metadata (6.9 kB)\n",
      "Requirement already satisfied: pygments<3.0.0,>=2.13.0 in d:\\repositories\\skill-academy-ml\\venv\\lib\\site-packages (from rich<14.0.0,>=10.11.0->typer[all]<1.0,>=0.9->gradio) (2.17.2)\n",
      "Collecting mdurl~=0.1 (from markdown-it-py>=2.2.0->rich<14.0.0,>=10.11.0->typer[all]<1.0,>=0.9->gradio)\n",
      "  Using cached mdurl-0.1.2-py3-none-any.whl (10.0 kB)\n",
      "Downloading gradio-4.8.0-py3-none-any.whl (16.5 MB)\n",
      "   ---------------------------------------- 0.0/16.5 MB ? eta -:--:--\n",
      "   ---------------------------------------- 0.2/16.5 MB 5.1 MB/s eta 0:00:04\n",
      "    --------------------------------------- 0.4/16.5 MB 4.5 MB/s eta 0:00:04\n",
      "   - -------------------------------------- 0.6/16.5 MB 4.5 MB/s eta 0:00:04\n",
      "   - -------------------------------------- 0.8/16.5 MB 4.5 MB/s eta 0:00:04\n",
      "   -- ------------------------------------- 1.0/16.5 MB 4.7 MB/s eta 0:00:04\n",
      "   -- ------------------------------------- 1.2/16.5 MB 4.5 MB/s eta 0:00:04\n",
      "   --- ------------------------------------ 1.4/16.5 MB 4.4 MB/s eta 0:00:04\n",
      "   ---- ----------------------------------- 1.7/16.5 MB 4.8 MB/s eta 0:00:04\n",
      "   ----- ---------------------------------- 2.1/16.5 MB 5.2 MB/s eta 0:00:03\n",
      "   ----- ---------------------------------- 2.4/16.5 MB 5.2 MB/s eta 0:00:03\n",
      "   ------ --------------------------------- 2.6/16.5 MB 5.3 MB/s eta 0:00:03\n",
      "   ------- -------------------------------- 3.0/16.5 MB 5.4 MB/s eta 0:00:03\n",
      "   ------- -------------------------------- 3.2/16.5 MB 5.4 MB/s eta 0:00:03\n",
      "   --------- ------------------------------ 3.7/16.5 MB 5.8 MB/s eta 0:00:03\n",
      "   ---------- ----------------------------- 4.3/16.5 MB 6.2 MB/s eta 0:00:02\n",
      "   ----------- ---------------------------- 4.6/16.5 MB 6.2 MB/s eta 0:00:02\n",
      "   ------------ --------------------------- 5.0/16.5 MB 6.4 MB/s eta 0:00:02\n",
      "   ------------- -------------------------- 5.6/16.5 MB 6.7 MB/s eta 0:00:02\n",
      "   -------------- ------------------------- 6.1/16.5 MB 7.0 MB/s eta 0:00:02\n",
      "   ---------------- ----------------------- 6.7/16.5 MB 7.2 MB/s eta 0:00:02\n",
      "   ----------------- ---------------------- 7.1/16.5 MB 7.3 MB/s eta 0:00:02\n",
      "   ------------------ --------------------- 7.6/16.5 MB 7.5 MB/s eta 0:00:02\n",
      "   ------------------- -------------------- 8.2/16.5 MB 7.7 MB/s eta 0:00:02\n",
      "   --------------------- ------------------ 8.7/16.5 MB 7.9 MB/s eta 0:00:01\n",
      "   ---------------------- ----------------- 9.2/16.5 MB 8.0 MB/s eta 0:00:01\n",
      "   ----------------------- ---------------- 9.6/16.5 MB 8.0 MB/s eta 0:00:01\n",
      "   ------------------------ --------------- 10.2/16.5 MB 8.1 MB/s eta 0:00:01\n",
      "   ------------------------- -------------- 10.7/16.5 MB 8.6 MB/s eta 0:00:01\n",
      "   --------------------------- ------------ 11.2/16.5 MB 9.1 MB/s eta 0:00:01\n",
      "   ---------------------------- ----------- 11.8/16.5 MB 9.6 MB/s eta 0:00:01\n",
      "   ----------------------------- ---------- 12.3/16.5 MB 9.9 MB/s eta 0:00:01\n",
      "   ------------------------------- -------- 12.8/16.5 MB 10.4 MB/s eta 0:00:01\n",
      "   -------------------------------- ------- 13.4/16.5 MB 10.9 MB/s eta 0:00:01\n",
      "   --------------------------------- ------ 13.9/16.5 MB 10.9 MB/s eta 0:00:01\n",
      "   ----------------------------------- ---- 14.5/16.5 MB 10.9 MB/s eta 0:00:01\n",
      "   ------------------------------------ --- 15.0/16.5 MB 11.3 MB/s eta 0:00:01\n",
      "   ------------------------------------- -- 15.6/16.5 MB 11.3 MB/s eta 0:00:01\n",
      "   ---------------------------------------  16.1/16.5 MB 11.3 MB/s eta 0:00:01\n",
      "   ---------------------------------------  16.5/16.5 MB 11.3 MB/s eta 0:00:01\n",
      "   ---------------------------------------  16.5/16.5 MB 11.3 MB/s eta 0:00:01\n",
      "   ---------------------------------------- 16.5/16.5 MB 10.4 MB/s eta 0:00:00\n",
      "Downloading gradio_client-0.7.1-py3-none-any.whl (302 kB)\n",
      "   ---------------------------------------- 0.0/302.9 kB ? eta -:--:--\n",
      "   --------------------------------------- 302.9/302.9 kB 19.5 MB/s eta 0:00:00\n",
      "Downloading tomlkit-0.12.0-py3-none-any.whl (37 kB)\n",
      "Downloading aiofiles-23.2.1-py3-none-any.whl (15 kB)\n",
      "Downloading altair-5.2.0-py3-none-any.whl (996 kB)\n",
      "   ---------------------------------------- 0.0/996.9 kB ? eta -:--:--\n",
      "   ------------------ --------------------- 460.8/996.9 kB 9.6 MB/s eta 0:00:01\n",
      "   ---------------------------------- ----- 860.2/996.9 kB 9.0 MB/s eta 0:00:01\n",
      "   ---------------------------------------- 996.9/996.9 kB 9.0 MB/s eta 0:00:00\n",
      "Downloading importlib_resources-6.1.1-py3-none-any.whl (33 kB)\n",
      "Using cached matplotlib-3.8.2-cp310-cp310-win_amd64.whl (7.6 MB)\n",
      "Downloading orjson-3.9.10-cp310-none-win_amd64.whl (135 kB)\n",
      "   ---------------------------------------- 0.0/135.0 kB ? eta -:--:--\n",
      "   ---------------------------------------- 135.0/135.0 kB 7.8 MB/s eta 0:00:00\n",
      "Using cached pydantic-2.5.2-py3-none-any.whl (381 kB)\n",
      "Using cached pydantic_core-2.14.5-cp310-none-win_amd64.whl (1.9 MB)\n",
      "Using cached uvicorn-0.24.0.post1-py3-none-any.whl (59 kB)\n",
      "Using cached fastapi-0.104.1-py3-none-any.whl (92 kB)\n",
      "Downloading httpx-0.25.2-py3-none-any.whl (74 kB)\n",
      "   ---------------------------------------- 0.0/75.0 kB ? eta -:--:--\n",
      "   ---------------------------------------- 75.0/75.0 kB ? eta 0:00:00\n",
      "Using cached httpcore-1.0.2-py3-none-any.whl (76 kB)\n",
      "Using cached annotated_types-0.6.0-py3-none-any.whl (12 kB)\n",
      "Using cached anyio-3.7.1-py3-none-any.whl (80 kB)\n",
      "Using cached click-8.1.7-py3-none-any.whl (97 kB)\n",
      "Using cached contourpy-1.2.0-cp310-cp310-win_amd64.whl (186 kB)\n",
      "Using cached cycler-0.12.1-py3-none-any.whl (8.3 kB)\n",
      "Downloading fonttools-4.46.0-cp310-cp310-win_amd64.whl (2.2 MB)\n",
      "   ---------------------------------------- 0.0/2.2 MB ? eta -:--:--\n",
      "   -------- ------------------------------- 0.5/2.2 MB 9.4 MB/s eta 0:00:01\n",
      "   ------------------ --------------------- 1.0/2.2 MB 10.7 MB/s eta 0:00:01\n",
      "   ---------------------------- ----------- 1.6/2.2 MB 11.0 MB/s eta 0:00:01\n",
      "   ---------------------------------------  2.1/2.2 MB 11.3 MB/s eta 0:00:01\n",
      "   ---------------------------------------- 2.2/2.2 MB 10.7 MB/s eta 0:00:00\n",
      "Using cached kiwisolver-1.4.5-cp310-cp310-win_amd64.whl (56 kB)\n",
      "Using cached pyparsing-3.1.1-py3-none-any.whl (103 kB)\n",
      "Downloading rich-13.7.0-py3-none-any.whl (240 kB)\n",
      "   ---------------------------------------- 0.0/240.6 kB ? eta -:--:--\n",
      "   ---------------------------------------- 240.6/240.6 kB 7.4 MB/s eta 0:00:00\n",
      "Downloading shellingham-1.5.4-py2.py3-none-any.whl (9.8 kB)\n",
      "Using cached starlette-0.27.0-py3-none-any.whl (66 kB)\n",
      "Using cached markdown_it_py-3.0.0-py3-none-any.whl (87 kB)\n",
      "Installing collected packages: pydub, ffmpy, websockets, toolz, tomlkit, shellingham, semantic-version, python-multipart, pyparsing, pydantic-core, orjson, mdurl, kiwisolver, importlib-resources, h11, fonttools, cycler, contourpy, click, anyio, annotated-types, aiofiles, uvicorn, typer, starlette, pydantic, matplotlib, markdown-it-py, httpcore, rich, httpx, fastapi, gradio-client, altair, gradio\n",
      "  Attempting uninstall: anyio\n",
      "    Found existing installation: anyio 4.1.0\n",
      "    Uninstalling anyio-4.1.0:\n",
      "      Successfully uninstalled anyio-4.1.0\n",
      "Successfully installed aiofiles-23.2.1 altair-5.2.0 annotated-types-0.6.0 anyio-3.7.1 click-8.1.7 contourpy-1.2.0 cycler-0.12.1 fastapi-0.104.1 ffmpy-0.3.1 fonttools-4.46.0 gradio-4.8.0 gradio-client-0.7.1 h11-0.14.0 httpcore-1.0.2 httpx-0.25.2 importlib-resources-6.1.1 kiwisolver-1.4.5 markdown-it-py-3.0.0 matplotlib-3.8.2 mdurl-0.1.2 orjson-3.9.10 pydantic-2.5.2 pydantic-core-2.14.5 pydub-0.25.1 pyparsing-3.1.1 python-multipart-0.0.6 rich-13.7.0 semantic-version-2.10.0 shellingham-1.5.4 starlette-0.27.0 tomlkit-0.12.0 toolz-0.12.0 typer-0.9.0 uvicorn-0.24.0.post1 websockets-11.0.3\n",
      "Note: you may need to restart the kernel to use updated packages.\n"
     ]
    },
    {
     "name": "stderr",
     "output_type": "stream",
     "text": [
      "\n",
      "[notice] A new release of pip is available: 23.2.1 -> 23.3.1\n",
      "[notice] To update, run: python.exe -m pip install --upgrade pip\n"
     ]
    }
   ]
  },
  {
   "cell_type": "code",
   "execution_count": 2,
   "metadata": {
    "colab": {
     "base_uri": "https://localhost:8080/",
     "height": 626
    },
    "id": "z371cmatGXy-",
    "outputId": "3333aa25-3a56-40fd-b082-7ccbd287a410",
    "ExecuteTime": {
     "end_time": "2023-12-05T03:48:54.012251900Z",
     "start_time": "2023-12-05T03:48:51.844975200Z"
    }
   },
   "outputs": [
    {
     "name": "stdout",
     "output_type": "stream",
     "text": [
      "Running on local URL:  http://127.0.0.1:7860\n",
      "\n",
      "To create a public link, set `share=True` in `launch()`.\n"
     ]
    },
    {
     "data": {
      "text/plain": "<IPython.core.display.HTML object>",
      "text/html": "<div><iframe src=\"http://127.0.0.1:7860/\" width=\"100%\" height=\"500\" allow=\"autoplay; camera; microphone; clipboard-read; clipboard-write;\" frameborder=\"0\" allowfullscreen></iframe></div>"
     },
     "metadata": {},
     "output_type": "display_data"
    },
    {
     "data": {
      "text/plain": ""
     },
     "execution_count": 2,
     "metadata": {},
     "output_type": "execute_result"
    }
   ],
   "source": [
    "import gradio as gr\n",
    "\n",
    "def greet(name):\n",
    "    return \"Hello \" + name + \"!\"\n",
    "\n",
    "demo = gr.Interface(fn=greet, inputs=\"text\", outputs=\"text\")\n",
    "\n",
    "demo.launch(show_api=False)"
   ]
  },
  {
   "cell_type": "markdown",
   "metadata": {
    "id": "G_oiDvdxGXy_"
   },
   "source": [
    "Before we try to explain several things that haven't been explained yet, try to experiment with above input: What do you get as an output? And how can above code did that?"
   ]
  },
  {
   "cell_type": "markdown",
   "metadata": {
    "id": "jOlSfEwFGXzA"
   },
   "source": [
    "# % (percentage symbol)\n",
    "\n",
    "Percentage symbol is a special symbol when working in Google Colab, which is used to run a shell command. If you know `ls`, `pwd`, etc. in Linux this `%` command is basically enabling us to run those commands in Google Colab. The majority of our use case though is mostly related to using `pip` command, the command that is used to install Python packages.\n",
    "\n",
    "For us that never interacted with Linux command line before, basically it's a \"different\" coding environment than what is used when we're writing Python code in Google Colab, so it doesn't follow the syntax of Python. But again, as we won't be using it other than installing Python packages, you don't need to worry about it."
   ]
  },
  {
   "cell_type": "markdown",
   "metadata": {
    "id": "en7sDLPqGXzB"
   },
   "source": [
    "# `pip`\n",
    "\n",
    "`pip` is a way to install Python packages, basically installing packages that are available in PyPI (Python Package Index) that you can browse on [https://pypi.org/](https://pypi.org/). A Python package is a way to share Python code, so that other people can use it just by installing it using `pip`.\n",
    "\n",
    "```python\n",
    "%pip install gradio\n",
    "%pip install transformers\n",
    "```\n",
    "\n",
    "`pip` is a command line tool, so it's not a Python code and we should prepend the line for `pip` with `%` symbol. The `install` is a command for `pip` to install a package, and the `gradio` and `transformers` are the name of the package that we want to install.\n",
    "\n",
    "Note that the package will be installed to the running runtime, so as long as the runtime is running, the package will be available, and we only need to install it once in a single notebook. If we restart the runtime, we need to install it again."
   ]
  },
  {
   "cell_type": "markdown",
   "metadata": {
    "id": "TIaJ2NbrGXzB"
   },
   "source": [
    "# Library import\n",
    "\n",
    "After the package is installed, we want to import the \"module\" that is available in the package. A module is a way to group Python code, so that we can use it in our code. For example, we can import `transformers` package that we just installed, and use the `pipeline` module that is available in the package.\n",
    "\n",
    "```python\n",
    "%pip install transformers\n",
    "from transformers import pipeline\n",
    "```\n",
    "\n",
    "If a module has the same name as the package, we can shorten the import by doing like so:\n",
    "\n",
    "```python\n",
    "import transformers\n",
    "```\n",
    "\n",
    "## Multiple module import\n",
    "\n",
    "We can also import multiple modules from a package, by separating the module name with comma.\n",
    "\n",
    "```python\n",
    "from transformers import pipeline, AutoTokenizer, AutoModelForSequenceClassification\n",
    "```\n",
    "\n",
    "## Module alias\n",
    "\n",
    "We can also import a module with an alias, so that we can use the alias instead of the full module name to shorten our code.\n",
    "\n",
    "```python\n",
    "import gradio as gr\n",
    "from transformers import pipeline as hf_pipeline\n",
    "from nltk import word_tokenize as tokenize, pos_tag\n",
    "```"
   ]
  },
  {
   "cell_type": "markdown",
   "metadata": {
    "id": "G0lQQsxAGXzD"
   },
   "source": [
    "# Class\n",
    "\n",
    "We won't teach deep about class in this course, but lots of modules that we import are actually a class (even though it can be anything else such as function, string, etc.). Let's see how it works in `gradio` module.\n"
   ]
  },
  {
   "cell_type": "code",
   "execution_count": 3,
   "metadata": {
    "id": "g5dzMwcFGXzD",
    "ExecuteTime": {
     "end_time": "2023-12-05T03:49:54.318943900Z",
     "start_time": "2023-12-05T03:49:54.099753300Z"
    }
   },
   "outputs": [
    {
     "ename": "NameError",
     "evalue": "name 'classify' is not defined",
     "output_type": "error",
     "traceback": [
      "\u001B[1;31m---------------------------------------------------------------------------\u001B[0m",
      "\u001B[1;31mNameError\u001B[0m                                 Traceback (most recent call last)",
      "Cell \u001B[1;32mIn[3], line 4\u001B[0m\n\u001B[0;32m      1\u001B[0m \u001B[38;5;28;01mimport\u001B[39;00m \u001B[38;5;21;01mgradio\u001B[39;00m \u001B[38;5;28;01mas\u001B[39;00m \u001B[38;5;21;01mgr\u001B[39;00m\n\u001B[0;32m      3\u001B[0m gr\u001B[38;5;241m.\u001B[39mInterface(\n\u001B[1;32m----> 4\u001B[0m     fn\u001B[38;5;241m=\u001B[39m\u001B[43mclassify\u001B[49m,\n\u001B[0;32m      5\u001B[0m     inputs\u001B[38;5;241m=\u001B[39mgr\u001B[38;5;241m.\u001B[39minputs\u001B[38;5;241m.\u001B[39mTextbox(lines\u001B[38;5;241m=\u001B[39m\u001B[38;5;241m5\u001B[39m, label\u001B[38;5;241m=\u001B[39m\u001B[38;5;124m\"\u001B[39m\u001B[38;5;124mText\u001B[39m\u001B[38;5;124m\"\u001B[39m),\n\u001B[0;32m      6\u001B[0m     outputs\u001B[38;5;241m=\u001B[39mgr\u001B[38;5;241m.\u001B[39moutputs\u001B[38;5;241m.\u001B[39mLabel(num_top_classes\u001B[38;5;241m=\u001B[39m\u001B[38;5;241m3\u001B[39m),\n\u001B[0;32m      7\u001B[0m     title\u001B[38;5;241m=\u001B[39m\u001B[38;5;124m\"\u001B[39m\u001B[38;5;124mToxic Comment Classifier\u001B[39m\u001B[38;5;124m\"\u001B[39m,\n\u001B[0;32m      8\u001B[0m     description\u001B[38;5;241m=\u001B[39m\u001B[38;5;124m\"\u001B[39m\u001B[38;5;124mIdentify toxic comments from Wikipedia discussion forums\u001B[39m\u001B[38;5;124m\"\u001B[39m\n\u001B[0;32m      9\u001B[0m )\u001B[38;5;241m.\u001B[39mlaunch()\n",
      "\u001B[1;31mNameError\u001B[0m: name 'classify' is not defined"
     ]
    }
   ],
   "source": [
    "import gradio as gr\n",
    "\n",
    "gr.Interface(\n",
    "    fn=classify,\n",
    "    inputs=gr.inputs.Textbox(lines=5, label=\"Text\"),\n",
    "    outputs=gr.outputs.Label(num_top_classes=3),\n",
    "    title=\"Toxic Comment Classifier\",\n",
    "    description=\"Identify toxic comments from Wikipedia discussion forums\"\n",
    ").launch()"
   ]
  },
  {
   "cell_type": "markdown",
   "metadata": {
    "id": "4bTm7-EqGXzE"
   },
   "source": [
    "You might notice, like string, above `gr` class has methods that we can call as well. It's basically because string is a class, such that `gr` is also a class."
   ]
  },
  {
   "cell_type": "markdown",
   "metadata": {
    "id": "JQI5cTsHGXzF"
   },
   "source": [
    "# Function as first class citizen\n",
    "\n",
    "In Python, function is a first class citizen, which means that we can pass function as an argument to another function, or return a function from another function. We'll focus on the first one, which is passing a function as an argument to another function."
   ]
  },
  {
   "cell_type": "code",
   "execution_count": 4,
   "metadata": {
    "id": "EmkXejupGXzF",
    "ExecuteTime": {
     "end_time": "2023-12-05T03:50:02.931424800Z",
     "start_time": "2023-12-05T03:50:02.875015800Z"
    }
   },
   "outputs": [],
   "source": [
    "def greet(name):\n",
    "    return \"Hello \" + name + \"!\"\n",
    "\n",
    "demo = gr.Interface(fn=greet, inputs=\"text\", outputs=\"text\")"
   ]
  },
  {
   "cell_type": "markdown",
   "metadata": {
    "id": "ftxr22B2GXzG"
   },
   "source": [
    "<!--\n",
    "import gradio as gr\n",
    "\n",
    "def greet(name):\n",
    "    return \"Hello \" + name + \"!\"\n",
    "\n",
    "demo = gr.Interface(fn=greet, inputs=\"text\", outputs=\"text\") -->\n",
    "\n",
    "Before we breakdown the concept of \"Function as first class citizen\", let's breakdown above two other arguments first. The `inputs` is an argument that is used to define the type of input that later the user can pass to the function. The `outputs` is an argument that is used to define the type of output that later the user can get from the function.\n",
    "\n",
    "So if we use `text` as the `inputs`, then, just like what we'll see if we ran above code, the user can input a text to the gradio interface. This text will be passed to the `fn` argument, and because we pass the `greet` function to the `fn` argument, the text will be passed to the `greet` function and then the `greet` can return a value. This value will be converted to `text`, because we use `text` as the `outputs` argument."
   ]
  },
  {
   "cell_type": "markdown",
   "metadata": {
    "id": "L8-yeMkzGXzG"
   },
   "source": [
    "## Other function that receives function as an argument\n",
    "\n",
    "Having understanding of a function being passed as an argument to another function can be crucial, so please enjoy several other examples below and try to understand what is happening."
   ]
  },
  {
   "cell_type": "markdown",
   "metadata": {
    "id": "dafk5fwBGXzG"
   },
   "source": [
    "### `map`\n",
    "\n",
    "`map` is a function that is used to apply a function to each element of a list. For example, if we have a list of numbers, and we want to add 1 to each number, we can use `map` function to do that.\n",
    "\n",
    "Note: We should convert the result of `map` function to a list by using `list` function"
   ]
  },
  {
   "cell_type": "code",
   "execution_count": 5,
   "metadata": {
    "id": "aVNyQZqlGXzG",
    "outputId": "bf3e2354-8e2e-45bd-f52e-d5801250c6af",
    "ExecuteTime": {
     "end_time": "2023-12-05T03:50:18.280445900Z",
     "start_time": "2023-12-05T03:50:18.263478800Z"
    }
   },
   "outputs": [
    {
     "name": "stdout",
     "output_type": "stream",
     "text": [
      "[8, 11, 16]\n"
     ]
    }
   ],
   "source": [
    "def add_one(x):\n",
    "    return x + 1\n",
    "\n",
    "numbers = [7, 10, 15]\n",
    "\n",
    "print(list(map(add_one, numbers)))"
   ]
  },
  {
   "cell_type": "markdown",
   "metadata": {
    "id": "8T6XWekXGXzH"
   },
   "source": [
    "## `filter`\n",
    "\n",
    "`filter` is a function that is used to filter a list based on a condition. For example, if we have a list of numbers, and we want to filter the list to only contain even numbers, we can use `filter` function to do that."
   ]
  },
  {
   "cell_type": "code",
   "execution_count": 6,
   "metadata": {
    "id": "TbIKL2n8GXzI",
    "outputId": "3e871879-b937-4759-a9fe-b8d0a297081c",
    "ExecuteTime": {
     "end_time": "2023-12-05T03:50:26.887231800Z",
     "start_time": "2023-12-05T03:50:26.870216700Z"
    }
   },
   "outputs": [
    {
     "name": "stdout",
     "output_type": "stream",
     "text": [
      "[4, 20, 100]\n"
     ]
    }
   ],
   "source": [
    "def is_even(number):\n",
    "    return number % 2 == 0\n",
    "    # % is the modulo operator, it will return the remainder of the division\n",
    "    # (e.g. 5 % 2 = 1, because 5 / 2 = 2 with remainder 1)\n",
    "    # if a number is even, the remainder of the division by 2 will be 0\n",
    "\n",
    "numbers = [4, 11, 20, 33, 100]\n",
    "\n",
    "print(list(filter(is_even, numbers)))"
   ]
  },
  {
   "cell_type": "markdown",
   "metadata": {
    "id": "N3HPZZ6QGXzI"
   },
   "source": [
    "# Challenge!"
   ]
  },
  {
   "cell_type": "markdown",
   "metadata": {
    "id": "k_LsZqz8GXzI"
   },
   "source": [
    "## Challenge 1: Multiply by 7\n",
    "\n",
    "Using `map`, iterate below list and multiply each element by 7."
   ]
  },
  {
   "cell_type": "code",
   "execution_count": 8,
   "metadata": {
    "id": "kUczRnAsGXzI",
    "ExecuteTime": {
     "end_time": "2023-12-05T03:50:56.355413100Z",
     "start_time": "2023-12-05T03:50:56.343904700Z"
    }
   },
   "outputs": [
    {
     "name": "stdout",
     "output_type": "stream",
     "text": [
      "[28, 77, 140, 231, 700]\n"
     ]
    }
   ],
   "source": [
    "def multiply_by_seven(number):\n",
    "    return number * 7 # Your code here\n",
    "\n",
    "numbers = [4, 11, 20, 33, 100]\n",
    "\n",
    "print(list(map(multiply_by_seven, numbers)))"
   ]
  },
  {
   "cell_type": "markdown",
   "metadata": {
    "id": "kkVLfFyoGXzJ"
   },
   "source": [
    "When you are done with the above challenge, then:\n",
    "\n",
    "1. Run the code block by pressing the play button."
   ]
  },
  {
   "cell_type": "code",
   "execution_count": 9,
   "metadata": {
    "id": "Bsdq6HN8GXzJ",
    "ExecuteTime": {
     "end_time": "2023-12-05T03:51:05.354346600Z",
     "start_time": "2023-12-05T03:51:03.751982Z"
    }
   },
   "outputs": [
    {
     "name": "stderr",
     "output_type": "stream",
     "text": [
      "\n",
      "[notice] A new release of pip is available: 23.2.1 -> 23.3.1\n",
      "[notice] To update, run: python.exe -m pip install --upgrade pip\n"
     ]
    },
    {
     "name": "stdout",
     "output_type": "stream",
     "text": [
      "Requirement already satisfied: rggrader in d:\\repositories\\skill-academy-ml\\venv\\lib\\site-packages (0.1.6)\n",
      "Requirement already satisfied: requests in d:\\repositories\\skill-academy-ml\\venv\\lib\\site-packages (from rggrader) (2.31.0)\n",
      "Requirement already satisfied: pandas in d:\\repositories\\skill-academy-ml\\venv\\lib\\site-packages (from rggrader) (2.1.3)\n",
      "Requirement already satisfied: Pillow in d:\\repositories\\skill-academy-ml\\venv\\lib\\site-packages (from rggrader) (10.1.0)\n",
      "Requirement already satisfied: numpy<2,>=1.22.4 in d:\\repositories\\skill-academy-ml\\venv\\lib\\site-packages (from pandas->rggrader) (1.26.2)\n",
      "Requirement already satisfied: python-dateutil>=2.8.2 in d:\\repositories\\skill-academy-ml\\venv\\lib\\site-packages (from pandas->rggrader) (2.8.2)\n",
      "Requirement already satisfied: pytz>=2020.1 in d:\\repositories\\skill-academy-ml\\venv\\lib\\site-packages (from pandas->rggrader) (2023.3.post1)\n",
      "Requirement already satisfied: tzdata>=2022.1 in d:\\repositories\\skill-academy-ml\\venv\\lib\\site-packages (from pandas->rggrader) (2023.3)\n",
      "Requirement already satisfied: charset-normalizer<4,>=2 in d:\\repositories\\skill-academy-ml\\venv\\lib\\site-packages (from requests->rggrader) (3.3.2)\n",
      "Requirement already satisfied: idna<4,>=2.5 in d:\\repositories\\skill-academy-ml\\venv\\lib\\site-packages (from requests->rggrader) (3.6)\n",
      "Requirement already satisfied: urllib3<3,>=1.21.1 in d:\\repositories\\skill-academy-ml\\venv\\lib\\site-packages (from requests->rggrader) (2.1.0)\n",
      "Requirement already satisfied: certifi>=2017.4.17 in d:\\repositories\\skill-academy-ml\\venv\\lib\\site-packages (from requests->rggrader) (2023.11.17)\n",
      "Requirement already satisfied: six>=1.5 in d:\\repositories\\skill-academy-ml\\venv\\lib\\site-packages (from python-dateutil>=2.8.2->pandas->rggrader) (1.16.0)\n"
     ]
    },
    {
     "data": {
      "text/plain": "'Assignment successfully submitted'"
     },
     "execution_count": 9,
     "metadata": {},
     "output_type": "execute_result"
    }
   ],
   "source": [
    "!pip install rggrader\n",
    "\n",
    "from rggrader import submit\n",
    "\n",
    "# @title #### Student Identity\n",
    "student_id = \"REA3X5EN\" # @param {type:\"string\"}\n",
    "name = \"Steven Adi Santoso\" # @param {type:\"string\"}\n",
    "# Submit Method\n",
    "assignment_id = \"011_practical_example\"\n",
    "question_id = \"01_data_map\"\n",
    "\n",
    "submit(student_id, name, assignment_id, str(list(map(multiply_by_seven, numbers))), question_id)"
   ]
  },
  {
   "cell_type": "markdown",
   "metadata": {
    "id": "tzsyY3L8GXzJ"
   },
   "source": [
    "## Challenge 2: Return everyone that's not a student\n",
    "\n",
    "We have list of people, and we want to return everyone that's not a student using `filter` function."
   ]
  },
  {
   "cell_type": "code",
   "execution_count": 2,
   "metadata": {
    "id": "s25OWpLJGXzJ",
    "ExecuteTime": {
     "end_time": "2023-12-06T13:45:53.582868300Z",
     "start_time": "2023-12-06T13:45:53.566826300Z"
    }
   },
   "outputs": [
    {
     "name": "stdout",
     "output_type": "stream",
     "text": [
      "[{'name': 'John', 'age': 25, 'student': False}, {'name': 'Alice', 'age': 20, 'student': False}]\n"
     ]
    }
   ],
   "source": [
    "def is_not_student(data):\n",
    "    return not data[\"student\"]# Your code here\n",
    "\n",
    "data = [\n",
    "    {\n",
    "        \"name\": \"John\",\n",
    "        \"age\": 25,\n",
    "        \"student\": False\n",
    "    },\n",
    "    {\n",
    "        \"name\": \"Jane\",\n",
    "        \"age\": 22,\n",
    "        \"student\": True\n",
    "    },\n",
    "    {\n",
    "        \"name\": \"Bob\",\n",
    "        \"age\": 18,\n",
    "        \"student\": True\n",
    "    },\n",
    "    {\n",
    "        \"name\": \"Alice\",\n",
    "        \"age\": 20,\n",
    "        \"student\": False\n",
    "    }\n",
    "]\n",
    "\n",
    "print(list(filter(is_not_student, data)))"
   ]
  },
  {
   "cell_type": "markdown",
   "metadata": {
    "id": "QnjwQQrWGXzJ"
   },
   "source": [
    "When you are done with the above challenge, then:\n",
    "\n",
    "1. Run the code block by pressing the play button."
   ]
  },
  {
   "cell_type": "code",
   "execution_count": 11,
   "metadata": {
    "id": "TWjZfSS-GXzJ",
    "ExecuteTime": {
     "end_time": "2023-12-05T03:51:52.252821500Z",
     "start_time": "2023-12-05T03:51:51.919695Z"
    }
   },
   "outputs": [
    {
     "data": {
      "text/plain": "'Assignment successfully submitted'"
     },
     "execution_count": 11,
     "metadata": {},
     "output_type": "execute_result"
    }
   ],
   "source": [
    "# Submit Method\n",
    "assignment_id = \"011_practical_example\"\n",
    "question_id = \"02_data_filter\"\n",
    "\n",
    "submit(student_id, name, assignment_id, str(list(filter(is_not_student, data))), question_id)"
   ]
  },
  {
   "cell_type": "markdown",
   "metadata": {
    "id": "5JuUnWSrGXzK"
   },
   "source": [
    "## Creating a function that receives function as an argument\n",
    "\n",
    "Below is an example of how to create a function that receives a function as an argument. Because for most of the time we're only using existing function that will receives function as arguments, we won't be delving deep into this topic."
   ]
  },
  {
   "cell_type": "code",
   "execution_count": 12,
   "metadata": {
    "id": "l5Vle1sSGXzK",
    "ExecuteTime": {
     "end_time": "2023-12-05T03:52:00.967877600Z",
     "start_time": "2023-12-05T03:52:00.961370Z"
    }
   },
   "outputs": [
    {
     "name": "stdout",
     "output_type": "stream",
     "text": [
      "75.0\n",
      "50.0\n"
     ]
    }
   ],
   "source": [
    "def apply_discount(price, discount_func):\n",
    "    return discount_func(price)\n",
    "\n",
    "def seasonal_discount(price):\n",
    "    return price - price * 0.25  # 25% discount\n",
    "\n",
    "def clearance_discount(price):\n",
    "    return price - price * 0.50  # 50% discount\n",
    "\n",
    "# example usage:\n",
    "original_price = 100\n",
    "print(apply_discount(original_price, seasonal_discount))  # Output: 75.0\n",
    "print(apply_discount(original_price, clearance_discount))  # Output: 50.0"
   ]
  }
 ],
 "metadata": {
  "kernelspec": {
   "display_name": "Python 3 (ipykernel)",
   "language": "python",
   "name": "python3"
  },
  "language_info": {
   "codemirror_mode": {
    "name": "ipython",
    "version": 3
   },
   "file_extension": ".py",
   "mimetype": "text/x-python",
   "name": "python",
   "nbconvert_exporter": "python",
   "pygments_lexer": "ipython3",
   "version": "3.11.3"
  },
  "colab": {
   "provenance": []
  }
 },
 "nbformat": 4,
 "nbformat_minor": 0
}
