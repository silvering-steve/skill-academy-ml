{
 "cells": [
  {
   "cell_type": "markdown",
   "metadata": {
    "id": "RoiIRjGHZiiv"
   },
   "source": [
    "# Variable\n",
    "\n",
    "Having to write out the same thing over and over again is tedious and error-prone.\n",
    "\n",
    "Python, like most programming languages, allows us to assign a name to a value. This is called a variable. So we can do below code:"
   ]
  },
  {
   "cell_type": "code",
   "execution_count": null,
   "metadata": {
    "id": "0zxLf9BGZiix",
    "colab": {
     "base_uri": "https://localhost:8080/",
     "height": 35
    },
    "outputId": "4d1383c1-194b-4246-8f4e-76e06c18a773"
   },
   "outputs": [
    {
     "output_type": "execute_result",
     "data": {
      "text/plain": [
       "'Dito'"
      ],
      "application/vnd.google.colaboratory.intrinsic+json": {
       "type": "string"
      }
     },
     "metadata": {},
     "execution_count": 5
    }
   ],
   "source": [
    "\"Dito\"\n",
    "\n",
    "name = \"Dito\""
   ]
  },
  {
   "cell_type": "markdown",
   "metadata": {
    "id": "hF6gZYhQZiiy"
   },
   "source": [
    "And then we can use the variable `name` again when needed"
   ]
  },
  {
   "cell_type": "code",
   "execution_count": null,
   "metadata": {
    "colab": {
     "base_uri": "https://localhost:8080/"
    },
    "id": "Q9Bv9TlEZiiz",
    "outputId": "694d798f-c4bb-4cb7-b88a-dd0488b06714"
   },
   "outputs": [
    {
     "output_type": "execute_result",
     "data": {
      "text/plain": [
       "2"
      ]
     },
     "metadata": {},
     "execution_count": 6
    }
   ],
   "source": [
    "name"
   ]
  },
  {
   "cell_type": "markdown",
   "metadata": {
    "id": "RgnAat7MZiiz"
   },
   "source": [
    "Of course assigning variable can be done for other data types such as string and other data types that we haven't yet covered."
   ]
  },
  {
   "cell_type": "code",
   "execution_count": null,
   "metadata": {
    "id": "h05tVizwZiiz"
   },
   "outputs": [],
   "source": [
    "name = 'John' # string\n",
    "age = 25 # integer\n",
    "weight = 75.5 # float\n",
    "is_adult = True # boolean\n",
    "wife = None # null"
   ]
  },
  {
   "cell_type": "code",
   "source": [
    "weight"
   ],
   "metadata": {
    "colab": {
     "base_uri": "https://localhost:8080/"
    },
    "id": "UA9pcpXVH8FT",
    "outputId": "b623f8fa-c4e6-4bb4-dda6-b755673379ca"
   },
   "execution_count": null,
   "outputs": [
    {
     "output_type": "execute_result",
     "data": {
      "text/plain": [
       "75.5"
      ]
     },
     "metadata": {},
     "execution_count": 8
    }
   ]
  },
  {
   "cell_type": "markdown",
   "metadata": {
    "id": "X5bnEMhUZii0"
   },
   "source": [
    "# `print` won't print out on a line of variable assignment\n",
    "\n",
    "Just to note is that if you're assigning a data to a variable in the last line of code, unlike previously learned, the last line of code will not be automatically printed out. You can put only the variable after you already assigned it to a value though."
   ]
  },
  {
   "cell_type": "code",
   "execution_count": null,
   "metadata": {
    "id": "moIeAL05Zii0"
   },
   "outputs": [],
   "source": [
    "will_not_be_printed = \"This will not be printed as this line is used to assign a value to a variable\""
   ]
  },
  {
   "cell_type": "code",
   "execution_count": null,
   "metadata": {
    "id": "6A_mc7xCZii0"
   },
   "outputs": [],
   "source": [
    "investor_rg = \"Aditira\"\n",
    "investor_rg"
   ]
  },
  {
   "cell_type": "markdown",
   "metadata": {
    "id": "eKswTjh-Zii0"
   },
   "source": [
    "Basic syntax rules for variable names:\n",
    "\n",
    "- Variable names can only contain letters, numbers, and underscores. Variable names can start with a letter or an underscore, but not with a number.\n",
    "- Spaces are not allowed in variable names, so we use underscores instead of spaces. For example, use `student_name` instead of `student name`.\n",
    "- You cannot use Python keywords as variable names such as `print`, `if`, `else`, `elif`, `for`, `while`, `def`, `class`, `try`, `except`, `finally`, `raise`, `import`, `from`, `as`, `with`, `lambda`, `return`, `yield`, `del`, `pass`, `break`, `continue`, `global`, `nonlocal`, `assert`, `in`, `is`, `not`, `or`, `and`, `True`, `False`, `None`, `async`, `await`, etc.\n",
    "\n",
    "Most of the time, developers will only use either this pattern \"my_variable_name\" (snake case) or this pattern \"myVariableName\" (camel case) for variable names and for most of the time developers will only use what's already been standardized by their company or their team."
   ]
  },
  {
   "cell_type": "markdown",
   "metadata": {
    "id": "KH2988HGZii1"
   },
   "source": [
    "# Operation on variables\n",
    "\n",
    "You can operate on variables just like you can operate on values - Eg. If the variable `x` is equal to 5, then `x + 1` will be equal to 6, if the variable `y` is a string, then we can operate on it with string operations such as `y.upper()`."
   ]
  },
  {
   "cell_type": "code",
   "execution_count": null,
   "metadata": {
    "colab": {
     "base_uri": "https://localhost:8080/"
    },
    "id": "bZw8bGpMZii1",
    "outputId": "8edd393e-abaf-4aab-e95b-feacaff3b94b"
   },
   "outputs": [
    {
     "output_type": "stream",
     "name": "stdout",
     "text": [
      "11\n",
      "Dito Anton\n"
     ]
    }
   ],
   "source": [
    "my_number = 10\n",
    "print(my_number + 1)\n",
    "my_name = \"Dito\"\n",
    "last_name = \"Anton\"\n",
    "print(my_name + \" \" + last_name)"
   ]
  },
  {
   "cell_type": "markdown",
   "metadata": {
    "id": "SVbV5V_LZii1"
   },
   "source": [
    "# Challenge\n",
    "\n",
    "## Challenge 1\n",
    "\n",
    "Create a variable with the name `car` and assign the value `Tesla` to it. Then make sure the variable is printed out."
   ]
  },
  {
   "cell_type": "code",
   "execution_count": 1,
   "metadata": {
    "colab": {
     "base_uri": "https://localhost:8080/",
     "height": 35
    },
    "id": "Y0iByAipZii1",
    "outputId": "96a651b5-3d62-47c6-a65e-ab24186733f6",
    "ExecuteTime": {
     "end_time": "2023-12-04T14:03:03.921367700Z",
     "start_time": "2023-12-04T14:03:03.900521600Z"
    }
   },
   "outputs": [
    {
     "data": {
      "text/plain": "'Tesla'"
     },
     "execution_count": 1,
     "metadata": {},
     "output_type": "execute_result"
    }
   ],
   "source": [
    "#write your code below\n",
    "car = \"Tesla\"\n",
    "car"
   ]
  },
  {
   "cell_type": "markdown",
   "metadata": {
    "id": "ZaDup5TeZii1"
   },
   "source": [
    "When you are done with the above challenge, then:\n",
    "1. Input your student_id and name in the box below\n",
    "3. Run the code block by pressing the play button."
   ]
  },
  {
   "cell_type": "code",
   "execution_count": 2,
   "metadata": {
    "id": "Tjc_H8MwZii1",
    "ExecuteTime": {
     "end_time": "2023-12-04T14:03:30.851519700Z",
     "start_time": "2023-12-04T14:03:27.618143600Z"
    }
   },
   "outputs": [
    {
     "name": "stdout",
     "output_type": "stream",
     "text": [
      "Requirement already satisfied: rggrader in c:\\users\\silve\\conda\\envs\\skill-academy-ml\\lib\\site-packages (0.1.6)\n",
      "Requirement already satisfied: requests in c:\\users\\silve\\conda\\envs\\skill-academy-ml\\lib\\site-packages (from rggrader) (2.31.0)\n",
      "Requirement already satisfied: pandas in c:\\users\\silve\\conda\\envs\\skill-academy-ml\\lib\\site-packages (from rggrader) (2.1.3)\n",
      "Requirement already satisfied: Pillow in c:\\users\\silve\\conda\\envs\\skill-academy-ml\\lib\\site-packages (from rggrader) (10.1.0)\n",
      "Requirement already satisfied: numpy<2,>=1.22.4 in c:\\users\\silve\\conda\\envs\\skill-academy-ml\\lib\\site-packages (from pandas->rggrader) (1.26.2)\n",
      "Requirement already satisfied: python-dateutil>=2.8.2 in c:\\users\\silve\\conda\\envs\\skill-academy-ml\\lib\\site-packages (from pandas->rggrader) (2.8.2)\n",
      "Requirement already satisfied: pytz>=2020.1 in c:\\users\\silve\\conda\\envs\\skill-academy-ml\\lib\\site-packages (from pandas->rggrader) (2023.3.post1)\n",
      "Requirement already satisfied: tzdata>=2022.1 in c:\\users\\silve\\conda\\envs\\skill-academy-ml\\lib\\site-packages (from pandas->rggrader) (2023.3)\n",
      "Requirement already satisfied: charset-normalizer<4,>=2 in c:\\users\\silve\\conda\\envs\\skill-academy-ml\\lib\\site-packages (from requests->rggrader) (3.3.2)\n",
      "Requirement already satisfied: idna<4,>=2.5 in c:\\users\\silve\\conda\\envs\\skill-academy-ml\\lib\\site-packages (from requests->rggrader) (3.6)\n",
      "Requirement already satisfied: urllib3<3,>=1.21.1 in c:\\users\\silve\\conda\\envs\\skill-academy-ml\\lib\\site-packages (from requests->rggrader) (2.1.0)\n",
      "Requirement already satisfied: certifi>=2017.4.17 in c:\\users\\silve\\conda\\envs\\skill-academy-ml\\lib\\site-packages (from requests->rggrader) (2023.11.17)\n",
      "Requirement already satisfied: six>=1.5 in c:\\users\\silve\\conda\\envs\\skill-academy-ml\\lib\\site-packages (from python-dateutil>=2.8.2->pandas->rggrader) (1.16.0)\n"
     ]
    },
    {
     "data": {
      "text/plain": "'Assignment successfully submitted'"
     },
     "execution_count": 2,
     "metadata": {},
     "output_type": "execute_result"
    }
   ],
   "source": [
    "!pip install rggrader\n",
    "\n",
    "from rggrader import submit\n",
    "\n",
    "# @title #### Student Identity\n",
    "student_id = \"REA3X5EN\" # @param {type:\"string\"}\n",
    "name = \"Steven Adi Santoso\" # @param {type:\"string\"}\n",
    "\n",
    "# Submit Method\n",
    "assignment_id = \"003_variables-and-functions\"\n",
    "question_id = \"01_variable_1\"\n",
    "submit(student_id, name, assignment_id, car, question_id)"
   ]
  },
  {
   "cell_type": "markdown",
   "metadata": {
    "id": "pl9z0c7dZii1"
   },
   "source": [
    "## Challenge 2\n",
    "\n",
    "Concatenate below three variables into one variable called `sentence` and print it out. Remember to add space between first_word and second_word."
   ]
  },
  {
   "cell_type": "code",
   "execution_count": 3,
   "metadata": {
    "id": "64vzaD3ZZii1",
    "ExecuteTime": {
     "end_time": "2023-12-04T14:04:16.015083600Z",
     "start_time": "2023-12-04T14:04:15.993102200Z"
    }
   },
   "outputs": [
    {
     "data": {
      "text/plain": "'Hello World!'"
     },
     "execution_count": 3,
     "metadata": {},
     "output_type": "execute_result"
    }
   ],
   "source": [
    "first_word = \"Hello\"\n",
    "second_word = \"World\"\n",
    "third_word = \"!\"\n",
    "\n",
    "sentence = f\"{first_word} {second_word}{third_word}\" # Put your code here, replace `None` with the variables.\n",
    "sentence # Put your code here to make sure the `sentence` variable is printed\n",
    "#Expected output: \"Hello World!\""
   ]
  },
  {
   "cell_type": "markdown",
   "metadata": {
    "id": "-ZvJSbpbZii1"
   },
   "source": [
    "When you are done with the above challenge, then:\n",
    "\n",
    "1. Run the code block below by pressing the play button."
   ]
  },
  {
   "cell_type": "code",
   "execution_count": 4,
   "metadata": {
    "id": "fHnydvxGZii1",
    "ExecuteTime": {
     "end_time": "2023-12-04T14:04:20.312956Z",
     "start_time": "2023-12-04T14:04:19.761825800Z"
    }
   },
   "outputs": [
    {
     "data": {
      "text/plain": "'Assignment successfully submitted'"
     },
     "execution_count": 4,
     "metadata": {},
     "output_type": "execute_result"
    }
   ],
   "source": [
    "# Submit Method\n",
    "assignment_id = \"003_variables-and-functions\"\n",
    "question_id = \"02_variable_2\"\n",
    "\n",
    "submit(student_id, name, assignment_id, sentence, question_id)"
   ]
  },
  {
   "cell_type": "markdown",
   "metadata": {
    "id": "d163SmuLZii1"
   },
   "source": [
    "## Variable overwriting\n",
    "\n",
    "You can overwrite a variable by assigning a new value to it. For example:\n"
   ]
  },
  {
   "cell_type": "code",
   "execution_count": null,
   "metadata": {
    "colab": {
     "base_uri": "https://localhost:8080/",
     "height": 53
    },
    "id": "RSNTtgQrZii2",
    "outputId": "d25ac33b-e45d-4ac6-8e60-e3630cf91d02"
   },
   "outputs": [
    {
     "output_type": "stream",
     "name": "stdout",
     "text": [
      "Budi\n"
     ]
    },
    {
     "output_type": "execute_result",
     "data": {
      "text/plain": [
       "'Andi'"
      ],
      "application/vnd.google.colaboratory.intrinsic+json": {
       "type": "string"
      }
     },
     "metadata": {},
     "execution_count": 2
    }
   ],
   "source": [
    "name = \"Budi\"\n",
    "print(name)\n",
    "name = \"Andi\"\n",
    "name"
   ]
  },
  {
   "cell_type": "markdown",
   "metadata": {
    "id": "o93zxzgcZii2"
   },
   "source": [
    "This behavior will help if you want to manipulate the value of a variable. For example:"
   ]
  },
  {
   "cell_type": "code",
   "execution_count": null,
   "metadata": {
    "colab": {
     "base_uri": "https://localhost:8080/",
     "height": 89
    },
    "id": "MYpxfKEQZii2",
    "outputId": "eb9a4c1b-f8d3-45ea-a34d-e489bf0d0007"
   },
   "outputs": [
    {
     "output_type": "stream",
     "name": "stdout",
     "text": [
      "baris1=pear orange apple\n",
      "baris2=mango orange apple\n",
      "baris3=mango orange apple\n"
     ]
    },
    {
     "output_type": "execute_result",
     "data": {
      "text/plain": [
       "'mango orange apple'"
      ],
      "application/vnd.google.colaboratory.intrinsic+json": {
       "type": "string"
      }
     },
     "metadata": {},
     "execution_count": 8
    }
   ],
   "source": [
    "fruits = \"pear orange apple\"\n",
    "fruits = fruits.replace(\"pear\", \"mango\") # mango orange apple\n",
    "fruits = fruits.replace(\"orange\", \"banana\") # mango banana apple\n",
    "fruits = fruits.upper() # MANGO BANANA APPLE\n",
    "fruits"
   ]
  },
  {
   "cell_type": "markdown",
   "metadata": {
    "id": "Fz-vIv3jZii2"
   },
   "source": [
    "# Challenge\n",
    "\n",
    "## Challenge 1\n",
    "\n",
    "Try to override below `city` to include `Jakarta` in the end of the string, make sure that the end result is: \"Surabaya, Bandung, Yogyakarta, Jakarta\""
   ]
  },
  {
   "cell_type": "code",
   "execution_count": 5,
   "metadata": {
    "id": "BtW1sQ2nZii2",
    "ExecuteTime": {
     "end_time": "2023-12-04T14:04:46.423340200Z",
     "start_time": "2023-12-04T14:04:46.403657100Z"
    }
   },
   "outputs": [
    {
     "data": {
      "text/plain": "'Surabaya, Bandung, Yogyakarta, Jakarta'"
     },
     "execution_count": 5,
     "metadata": {},
     "output_type": "execute_result"
    }
   ],
   "source": [
    "cities = \"Surabaya, Bandung, Yogyakarta\"\n",
    "cities = \"Surabaya, Bandung, Yogyakarta, Jakarta\" # Change this line of code only\n",
    "cities #Output must be \"Surabaya, Bandung, Yogyakarta, Jakarta\""
   ]
  },
  {
   "cell_type": "markdown",
   "metadata": {
    "id": "jXicjWUaZii2"
   },
   "source": [
    "When you are done with the above challenge, then:\n",
    "\n",
    "1. Run the code block below by pressing the play button."
   ]
  },
  {
   "cell_type": "code",
   "execution_count": 6,
   "metadata": {
    "id": "DNbe3ZJbZii2",
    "ExecuteTime": {
     "end_time": "2023-12-04T14:04:49.858483100Z",
     "start_time": "2023-12-04T14:04:49.327872Z"
    }
   },
   "outputs": [
    {
     "data": {
      "text/plain": "'Assignment successfully submitted'"
     },
     "execution_count": 6,
     "metadata": {},
     "output_type": "execute_result"
    }
   ],
   "source": [
    "# Submit Method\n",
    "assignment_id = \"003_variables-and-functions\"\n",
    "question_id = \"03_variable_overwriting_1\"\n",
    "\n",
    "submit(student_id, name, assignment_id, cities, question_id)"
   ]
  },
  {
   "cell_type": "markdown",
   "metadata": {
    "id": "PQ2I7-IoZii2"
   },
   "source": [
    "## Challenge 2\n",
    "\n",
    "Follow the guide on below line of code to finish the challenge"
   ]
  },
  {
   "cell_type": "code",
   "execution_count": 7,
   "metadata": {
    "id": "JD0bmK2bZii2",
    "ExecuteTime": {
     "end_time": "2023-12-04T14:05:04.580752800Z",
     "start_time": "2023-12-04T14:05:04.558577600Z"
    }
   },
   "outputs": [
    {
     "data": {
      "text/plain": "15"
     },
     "execution_count": 7,
     "metadata": {},
     "output_type": "execute_result"
    }
   ],
   "source": [
    "calculation = 5\n",
    "calculation = calculation * 2 # Times this variable by 2\n",
    "calculation = calculation + 10 # Add 10 to this variable\n",
    "calculation = calculation - 5 # Subtract 5 from this variable\n",
    "calculation #Output must be the number 15"
   ]
  },
  {
   "cell_type": "markdown",
   "metadata": {
    "id": "FeUJUz3ZZii2"
   },
   "source": [
    "When you are done with the above challenge, then:\n",
    "\n",
    "1. Run the code block below by pressing the play button."
   ]
  },
  {
   "cell_type": "code",
   "execution_count": 8,
   "metadata": {
    "id": "A5raICgkZii2",
    "ExecuteTime": {
     "end_time": "2023-12-04T14:05:07.609147300Z",
     "start_time": "2023-12-04T14:05:07.013583500Z"
    }
   },
   "outputs": [
    {
     "data": {
      "text/plain": "'Assignment successfully submitted'"
     },
     "execution_count": 8,
     "metadata": {},
     "output_type": "execute_result"
    }
   ],
   "source": [
    "# Submit Method\n",
    "assignment_id = \"003_variables-and-functions\"\n",
    "question_id = \"04_variable_overwriting_2\"\n",
    "\n",
    "submit(student_id, name, assignment_id, str(calculation), question_id)"
   ]
  },
  {
   "cell_type": "markdown",
   "metadata": {
    "id": "v_qvgdmlZii2"
   },
   "source": [
    "# Function\n",
    "\n",
    "Function is a block of code that can be called to perform a specific task. It can take in input and return output. It is a way to organize your code and make it reusable. The syntax for defining a function is as below:"
   ]
  },
  {
   "cell_type": "code",
   "execution_count": null,
   "metadata": {
    "id": "OngSsvAhZii2",
    "outputId": "fb27a495-ce44-44a5-c027-82f1be220508",
    "colab": {
     "base_uri": "https://localhost:8080/",
     "height": 35
    }
   },
   "outputs": [
    {
     "output_type": "execute_result",
     "data": {
      "text/plain": [
       "'Hello'"
      ],
      "application/vnd.google.colaboratory.intrinsic+json": {
       "type": "string"
      }
     },
     "metadata": {},
     "execution_count": 20
    }
   ],
   "source": [
    "def add(a, b):\n",
    "    return a + b\n",
    "\n",
    "#print(add(2, 3))\n",
    "#add(9, 14)\n",
    "\n",
    "def print_hello():\n",
    "  return \"Hello\"\n",
    "\n",
    "print_hello()"
   ]
  },
  {
   "cell_type": "markdown",
   "metadata": {
    "id": "pOU3sw1rZii2"
   },
   "source": [
    "Python is an indentation-sensitive language. The code inside the function is indented, which you can just use tab to indent.\n",
    "\n",
    "So, as long as:\n",
    "- The code after the function definition is indented, it is considered as part of the function.\n",
    "- Every code after that that's in the same indentation level, as long as it isn't separated by an empty line, is considered as part of the same function\n",
    "\n",
    "So we can have several lines of code like so:"
   ]
  },
  {
   "cell_type": "code",
   "execution_count": null,
   "metadata": {
    "id": "YW2mGnmuZii2",
    "outputId": "2b738f5f-e2fd-4a15-a9b4-610d58c84a85",
    "colab": {
     "base_uri": "https://localhost:8080/"
    }
   },
   "outputs": [
    {
     "output_type": "stream",
     "name": "stdout",
     "text": [
      "HI, I'M A DOG\n",
      "I LIKE DOG\n",
      "WE NEED YOUR DOG\n"
     ]
    }
   ],
   "source": [
    "def several_text_manipulation(text):\n",
    "    data = text.replace('cat', 'dog')\n",
    "    data = data.upper()\n",
    "    return data\n",
    "\n",
    "print(several_text_manipulation(\"Hi, I'm a cat\"))\n",
    "print(several_text_manipulation(\"I like cat\"))\n",
    "print(several_text_manipulation(\"We need your cat\"))"
   ]
  },
  {
   "cell_type": "markdown",
   "metadata": {
    "id": "ZGkpGtdtZii3"
   },
   "source": [
    "So as we can see above, we have a single `text` parameter (we'll cover this term in detail in a bit), then we manipulate that inside the function, after that we return the result, which will make it the output of the function."
   ]
  },
  {
   "cell_type": "code",
   "execution_count": null,
   "metadata": {
    "id": "f79Q2fODZii3",
    "colab": {
     "base_uri": "https://localhost:8080/",
     "height": 35
    },
    "outputId": "92d1706c-5b90-4a6c-e967-a4ecd10ea32f"
   },
   "outputs": [
    {
     "output_type": "execute_result",
     "data": {
      "text/plain": [
       "\"HI, I'M A DOG\""
      ],
      "application/vnd.google.colaboratory.intrinsic+json": {
       "type": "string"
      }
     },
     "metadata": {},
     "execution_count": 29
    }
   ],
   "source": [
    "def several_text_manipulation(text):\n",
    "    data = text.replace('cat', 'dog')\n",
    "    data = data.upper()\n",
    "    return data\n",
    "\n",
    "several_text_manipulation(\"Hi, I'm a cat\")"
   ]
  },
  {
   "cell_type": "markdown",
   "metadata": {
    "id": "rdMo-hiVZii3"
   },
   "source": [
    "This will not work, as the code after the function definition hasn't been indented correctly"
   ]
  },
  {
   "cell_type": "markdown",
   "metadata": {
    "id": "4gsGbbU7Zii6"
   },
   "source": [
    "# Intermezo: Parameters? Arguments?\n",
    "\n",
    "> This section is not mandatory to understand, it's for some of you that might learn outside of this course and might have heard these terms before. For the rest of this course you can pretend that these two terms are interchangeable, and this course will use the term \"parameter\" for both of them.\n",
    "\n",
    "We'll keep hearing these two terms a lot when talking about functions. So what are they and how are they different?\n",
    "\n",
    "## When we're writing the function it's called parameter\n",
    "\n",
    "When we're writing the function, we can define the parameters of that function. The total number of parameters can be differ from one function to another according to the need of the function, sometimes it can be zero, sometimes it can be one, sometimes it can be more than one."
   ]
  },
  {
   "cell_type": "code",
   "execution_count": null,
   "metadata": {
    "id": "WbKefDeyZii6"
   },
   "outputs": [],
   "source": [
    "def sum_three(a, b, c):\n",
    "    return a + b + c"
   ]
  },
  {
   "cell_type": "markdown",
   "metadata": {
    "id": "XnNA7Oq_Zii6"
   },
   "source": [
    "From above examples, what's called as parameter are `a`, `b`, and `c`."
   ]
  },
  {
   "cell_type": "markdown",
   "metadata": {
    "id": "k16qmT2uZii6"
   },
   "source": [
    "## When we're using the function, we're passing arguments\n",
    "\n",
    "Now when we're **using** the function after the function is already defined, we're passing arguments to the function. So if we use the `sum_three` function above, we can use it with `3`, `4`, and `5` as the arguments:"
   ]
  },
  {
   "cell_type": "code",
   "execution_count": null,
   "metadata": {
    "id": "n2z_Cza-Zii6",
    "outputId": "3aff2f7c-00c8-4bd8-db55-8cc50f72ea7e",
    "colab": {
     "base_uri": "https://localhost:8080/"
    }
   },
   "outputs": [
    {
     "output_type": "execute_result",
     "data": {
      "text/plain": [
       "12"
      ]
     },
     "metadata": {},
     "execution_count": 9
    }
   ],
   "source": [
    "sum_three(3, 4, 5)"
   ]
  },
  {
   "cell_type": "markdown",
   "metadata": {
    "id": "AtS5vD1BZii6"
   },
   "source": [
    "Of course we can use variables as the arguments:"
   ]
  },
  {
   "cell_type": "code",
   "execution_count": null,
   "metadata": {
    "id": "LDdNPM1wZii6",
    "outputId": "53042f8a-0754-4c8f-d269-5c237ae10aef",
    "colab": {
     "base_uri": "https://localhost:8080/"
    }
   },
   "outputs": [
    {
     "output_type": "execute_result",
     "data": {
      "text/plain": [
       "12"
      ]
     },
     "metadata": {},
     "execution_count": 32
    }
   ],
   "source": [
    "num_1 = 3\n",
    "num_3 = 5\n",
    "\n",
    "sum_three(num_1, 4, num_3)"
   ]
  },
  {
   "cell_type": "markdown",
   "metadata": {
    "id": "MuylL0fYZii6"
   },
   "source": [
    "Hard to remember between parameters and arguments? For learning you can remember that those two words are really similar, and not knowing which is which is not a big deal,but you'll find those two words used a lot in here and other learning resources, but you can just pretend that they're the same thing."
   ]
  },
  {
   "cell_type": "markdown",
   "metadata": {
    "id": "Nh0DSb8wZii6"
   },
   "source": [
    "# Challenge!"
   ]
  },
  {
   "cell_type": "markdown",
   "metadata": {
    "id": "iIDOn2sdZii6"
   },
   "source": [
    "## Challenge 1\n",
    "\n",
    "Using `.capitalize()` function, modify below function so it will return the capitalized version of the `input` parameter."
   ]
  },
  {
   "cell_type": "code",
   "execution_count": 9,
   "metadata": {
    "id": "elvDUfufZii6",
    "outputId": "d0cda091-2a25-423a-afc1-eabf587e3b85",
    "colab": {
     "base_uri": "https://localhost:8080/"
    },
    "ExecuteTime": {
     "end_time": "2023-12-04T14:05:23.904820700Z",
     "start_time": "2023-12-04T14:05:23.876440700Z"
    }
   },
   "outputs": [
    {
     "name": "stdout",
     "output_type": "stream",
     "text": [
      "Hello world\n",
      "My name is andi\n",
      "I am crazy text\n"
     ]
    }
   ],
   "source": [
    "def capitalize_me(input):\n",
    "    return input.capitalize() # Put your code here\n",
    "\n",
    "print(capitalize_me(\"hello world\")) # \"Hello world\"\n",
    "print(capitalize_me(\"My name is Andi\")) # \"My name is andi\"\n",
    "print(capitalize_me(\"I aM CrAzY TeXT\")) # \"I am crazy text\""
   ]
  },
  {
   "cell_type": "markdown",
   "metadata": {
    "id": "peaaH_RVZii6"
   },
   "source": [
    "When you are done with the above challenge, then:\n",
    "\n",
    "1. Run the code block below by pressing the play button."
   ]
  },
  {
   "cell_type": "code",
   "execution_count": 10,
   "metadata": {
    "id": "2M7q8-fkZii7",
    "ExecuteTime": {
     "end_time": "2023-12-04T14:05:30.879330100Z",
     "start_time": "2023-12-04T14:05:30.287619400Z"
    }
   },
   "outputs": [
    {
     "data": {
      "text/plain": "'Assignment successfully submitted'"
     },
     "execution_count": 10,
     "metadata": {},
     "output_type": "execute_result"
    }
   ],
   "source": [
    "# Submit Method\n",
    "assignment_id = \"003_variables-and-functions\"\n",
    "question_id = \"05_function_1\"\n",
    "\n",
    "submit(student_id, name, assignment_id, capitalize_me(\"ruangguru skill academy bootcamp\"), question_id)"
   ]
  },
  {
   "cell_type": "markdown",
   "metadata": {
    "id": "i8BE9aFFZii7"
   },
   "source": [
    "## Challenge 2\n",
    "\n",
    "From below two input parameters, concatenate them into one string and then make it all uppercase."
   ]
  },
  {
   "cell_type": "code",
   "execution_count": 11,
   "metadata": {
    "id": "3FJWH74vZii7",
    "ExecuteTime": {
     "end_time": "2023-12-04T14:11:09.928479100Z",
     "start_time": "2023-12-04T14:11:09.909464100Z"
    }
   },
   "outputs": [
    {
     "name": "stdout",
     "output_type": "stream",
     "text": [
      "HELLO WORLD\n",
      "IBU KOTA\n",
      "INI KAPITAL\n"
     ]
    }
   ],
   "source": [
    "def concat_then_upper(input_one, input_two):\n",
    "    to_return = f\"{input_one} {input_two}\" # Example: Concatenate the two inputs\n",
    "    to_return = to_return.upper() # Make the result uppercase\n",
    "    return to_return\n",
    "\n",
    "print(concat_then_upper(\"Hello\", \"World\")) # \"HELLO WORLD\"\n",
    "print(concat_then_upper(\"Ibu\", \"Kota\")) # \"IBU KOTA\"\n",
    "print(concat_then_upper(\"Ini\", \"Kapital\")) # \"INI KAPITAL\""
   ]
  },
  {
   "cell_type": "markdown",
   "metadata": {
    "id": "oB4VqUysZii7"
   },
   "source": [
    "When you are done with the above challenge, then:\n",
    "\n",
    "1. Run the code block below by pressing the play button."
   ]
  },
  {
   "cell_type": "code",
   "execution_count": 12,
   "metadata": {
    "id": "-xEsjDVrZii7",
    "ExecuteTime": {
     "end_time": "2023-12-04T14:15:15.798955700Z",
     "start_time": "2023-12-04T14:15:15.210716Z"
    }
   },
   "outputs": [
    {
     "data": {
      "text/plain": "'Assignment successfully submitted'"
     },
     "execution_count": 12,
     "metadata": {},
     "output_type": "execute_result"
    }
   ],
   "source": [
    "# Submit Method\n",
    "assignment_id = \"003_variables-and-functions\"\n",
    "question_id = \"06_function_2\"\n",
    "\n",
    "submit(student_id, name, assignment_id, concat_then_upper(\"Mastering\", \"ai\"), question_id)"
   ]
  },
  {
   "cell_type": "markdown",
   "metadata": {
    "id": "K69cj62FZii7"
   },
   "source": [
    "## Challenge 3\n",
    "\n",
    "From below three input parameters, concatenate them into one string and then make it all uppercase."
   ]
  },
  {
   "cell_type": "code",
   "execution_count": 13,
   "metadata": {
    "id": "rwTSOVWTZii7",
    "ExecuteTime": {
     "end_time": "2023-12-04T14:15:45.326691100Z",
     "start_time": "2023-12-04T14:15:45.308602500Z"
    }
   },
   "outputs": [
    {
     "name": "stdout",
     "output_type": "stream",
     "text": [
      "HELLO ALL OF YOU\n",
      "IBU KOTA INDONESIA\n",
      "INI KAPITAL LOH\n"
     ]
    }
   ],
   "source": [
    "def concat_then_upper(input_one, input_two, input_three):\n",
    "    to_return = f\"{input_one} {input_two} {input_three}\" # Concatenate the three inputs\n",
    "    to_return = to_return.upper() # Make the result uppercase\n",
    "    return to_return\n",
    "\n",
    "print(concat_then_upper(\"Hello\", \"all of\", \"you\")) # \"HELLO ALL OF YOU\"\n",
    "print(concat_then_upper(\"Ibu\", \"Kota\", \"Indonesia\")) # \"IBU KOTA INDONESIA\"\n",
    "print(concat_then_upper(\"Ini\", \"Kapital\", \"loh\")) # \"INI KAPITAL LOH\""
   ]
  },
  {
   "cell_type": "markdown",
   "metadata": {
    "id": "_5PpUcZkZii7"
   },
   "source": [
    "When you are done with the above challenge, then:\n",
    "\n",
    "1. Run the code block below by pressing the play button."
   ]
  },
  {
   "cell_type": "code",
   "execution_count": 14,
   "metadata": {
    "id": "9GKvlWk-Zii7",
    "ExecuteTime": {
     "end_time": "2023-12-04T14:15:47.821911300Z",
     "start_time": "2023-12-04T14:15:47.261977900Z"
    }
   },
   "outputs": [
    {
     "data": {
      "text/plain": "'Assignment successfully submitted'"
     },
     "execution_count": 14,
     "metadata": {},
     "output_type": "execute_result"
    }
   ],
   "source": [
    "# Submit Method\n",
    "assignment_id = \"003_variables-and-functions\"\n",
    "question_id = \"07_function_3\"\n",
    "\n",
    "submit(student_id, name, assignment_id, concat_then_upper(\"Mastering\", \"ai\", \"Bootcamp\"), question_id)"
   ]
  },
  {
   "cell_type": "markdown",
   "metadata": {
    "id": "qGNDCa3WZii7"
   },
   "source": [
    "## Challenge 4\n",
    "\n",
    "From below two input parameters, subtract first parameter with the second parameter (first parameter - second parameter) and then return the result."
   ]
  },
  {
   "cell_type": "code",
   "execution_count": 15,
   "metadata": {
    "id": "1jUh2QvNZii7",
    "ExecuteTime": {
     "end_time": "2023-12-04T14:16:01.836490900Z",
     "start_time": "2023-12-04T14:16:01.810877500Z"
    }
   },
   "outputs": [
    {
     "name": "stdout",
     "output_type": "stream",
     "text": [
      "5\n",
      "10\n",
      "50\n"
     ]
    }
   ],
   "source": [
    "def substract(first, second):\n",
    "    return first - second # Put your code here\n",
    "\n",
    "print(substract(10, 5)) # 5\n",
    "print(substract(20, 10)) # 10\n",
    "print(substract(100, 50)) # 50"
   ]
  },
  {
   "cell_type": "markdown",
   "metadata": {
    "id": "SP6U3ymOZii7"
   },
   "source": [
    "When you are done with the above challenge, then:\n",
    "\n",
    "1. Run the code block below by pressing the play button."
   ]
  },
  {
   "cell_type": "code",
   "execution_count": 16,
   "metadata": {
    "id": "CZ_hnYNSZii7",
    "ExecuteTime": {
     "end_time": "2023-12-04T14:16:07.190803600Z",
     "start_time": "2023-12-04T14:16:06.609080400Z"
    }
   },
   "outputs": [
    {
     "data": {
      "text/plain": "'Assignment successfully submitted'"
     },
     "execution_count": 16,
     "metadata": {},
     "output_type": "execute_result"
    }
   ],
   "source": [
    "# Submit Method\n",
    "assignment_id = \"003_variables-and-functions\"\n",
    "question_id = \"08_function_4\"\n",
    "\n",
    "submit(student_id, name, assignment_id, str(substract(1024, 128)), question_id)"
   ]
  },
  {
   "cell_type": "markdown",
   "metadata": {
    "id": "z7JB9DDpZii7"
   },
   "source": [
    "## Challenge 5\n",
    "\n",
    "Create a very basic multiplication function that will receive two arguments and return the multiplication result of those two arguments. Feel free write the name of the function and the parameters as you like (as long as it's following the rules of variable naming)!"
   ]
  },
  {
   "cell_type": "code",
   "execution_count": 17,
   "metadata": {
    "id": "b-uuLMiqZii7",
    "ExecuteTime": {
     "end_time": "2023-12-04T14:16:37.196964800Z",
     "start_time": "2023-12-04T14:16:37.174740900Z"
    }
   },
   "outputs": [],
   "source": [
    "# Put your code below\n",
    "def a(b, c):\n",
    "    return b + c"
   ]
  },
  {
   "cell_type": "markdown",
   "metadata": {
    "id": "so45bifXZii7"
   },
   "source": [
    "When you are done with the above challenge, then:\n",
    "\n",
    "1. Change the text \"my result\" below with the text \"done\"\n",
    "2. Run the code block by pressing the play button."
   ]
  },
  {
   "cell_type": "code",
   "execution_count": null,
   "metadata": {
    "id": "hzsh7hhFZii8"
   },
   "outputs": [],
   "source": [
    "# Submit Method\n",
    "assignment_id = \"003_variables-and-functions\"\n",
    "question_id = \"09_function_5\"\n",
    "\n",
    "result = \"done\"\n",
    "\n",
    "submit(student_id, name, assignment_id, result, question_id)"
   ]
  },
  {
   "cell_type": "markdown",
   "metadata": {
    "id": "3PpJJPsfZii8"
   },
   "source": [
    "## Challenge 6\n",
    "\n",
    "Create a function that will receive three arguments and return the multiplication result of those three arguments."
   ]
  },
  {
   "cell_type": "code",
   "execution_count": 18,
   "metadata": {
    "id": "qOAYGXt3Zii8",
    "ExecuteTime": {
     "end_time": "2023-12-04T14:16:48.987019600Z",
     "start_time": "2023-12-04T14:16:48.930925300Z"
    }
   },
   "outputs": [],
   "source": [
    "# Put your code below\n",
    "def mul(a, b, c):\n",
    "    return a + b + c"
   ]
  },
  {
   "cell_type": "markdown",
   "metadata": {
    "id": "w08jShtjZii8"
   },
   "source": [
    "When you are done with the above challenge, then:\n",
    "\n",
    "1. Change the text \"my result\" below with the text \"done\"\n",
    "2. Run the code block by pressing the play button."
   ]
  },
  {
   "cell_type": "code",
   "execution_count": 19,
   "metadata": {
    "id": "aIDjlmz2Zii8",
    "ExecuteTime": {
     "end_time": "2023-12-04T14:16:54.295714700Z",
     "start_time": "2023-12-04T14:16:53.707240500Z"
    }
   },
   "outputs": [
    {
     "data": {
      "text/plain": "'Assignment successfully submitted'"
     },
     "execution_count": 19,
     "metadata": {},
     "output_type": "execute_result"
    }
   ],
   "source": [
    "# Submit Method\n",
    "assignment_id = \"003_variables-and-functions\"\n",
    "question_id = \"10_function_6\"\n",
    "\n",
    "result = \"done\"\n",
    "\n",
    "submit(student_id, name, assignment_id, result, question_id)"
   ]
  },
  {
   "cell_type": "markdown",
   "metadata": {
    "id": "HyAx5xsbZii8"
   },
   "source": [
    "# Positional vs Keyword arguments\n",
    "\n",
    "Consider below function:"
   ]
  },
  {
   "cell_type": "code",
   "execution_count": null,
   "metadata": {
    "id": "KRLmX6eFZii9"
   },
   "outputs": [],
   "source": [
    "def substract(a, b):\n",
    "    return a - b"
   ]
  },
  {
   "cell_type": "markdown",
   "metadata": {
    "id": "lc-g9B8dZii9"
   },
   "source": [
    "As we said previously, we can use it like below:"
   ]
  },
  {
   "cell_type": "code",
   "execution_count": null,
   "metadata": {
    "id": "gy-zlT9LZii9",
    "colab": {
     "base_uri": "https://localhost:8080/"
    },
    "outputId": "0f6037bc-0535-4f28-cb3a-4ecf2c66b4bf"
   },
   "outputs": [
    {
     "output_type": "execute_result",
     "data": {
      "text/plain": [
       "3"
      ]
     },
     "metadata": {},
     "execution_count": 36
    }
   ],
   "source": [
    "substract(5, 2)"
   ]
  },
  {
   "cell_type": "markdown",
   "metadata": {
    "id": "yg65C5RvZii9"
   },
   "source": [
    "This is called **positional arguments**. The arguments are passed to the function according to the position of the parameters in the function definition.\n",
    "\n",
    "Another way to pass arguments is by using the parameter name:"
   ]
  },
  {
   "cell_type": "code",
   "execution_count": null,
   "metadata": {
    "id": "wDzYlQ32Zii9",
    "outputId": "adb0f8e8-f112-4d0d-b72b-b37cd5e9b6bb",
    "colab": {
     "base_uri": "https://localhost:8080/"
    }
   },
   "outputs": [
    {
     "output_type": "execute_result",
     "data": {
      "text/plain": [
       "3"
      ]
     },
     "metadata": {},
     "execution_count": 37
    }
   ],
   "source": [
    "substract(a=5, b=2)"
   ]
  },
  {
   "cell_type": "markdown",
   "metadata": {
    "id": "6ajece8LZii9"
   },
   "source": [
    "This is called **keyword arguments**. The arguments are passed to the function using the parameter name. What makes keyword arguments different from positional arguments is that **the order of the arguments doesn't matter**, which means we can do this and the result will be the same:"
   ]
  },
  {
   "cell_type": "code",
   "execution_count": null,
   "metadata": {
    "id": "AgcWuQIzZii9",
    "outputId": "36fbbe2a-776e-4877-d45b-46492ce92aeb",
    "colab": {
     "base_uri": "https://localhost:8080/",
     "height": 35
    }
   },
   "outputs": [
    {
     "output_type": "execute_result",
     "data": {
      "text/plain": [
       "'John,20,male,London,England'"
      ],
      "application/vnd.google.colaboratory.intrinsic+json": {
       "type": "string"
      }
     },
     "metadata": {},
     "execution_count": 39
    }
   ],
   "source": [
    "substract(b=2, a=5)\n",
    "\n",
    "def identify(name, age, sex, city, country):\n",
    "  return name + \",\" + age + \",\" + sex + \",\" + city + \",\" + country\n",
    "\n",
    "\n",
    "identify(name=\"John\", age=\"20\", city=\"London\", country=\"England\", sex=\"male\")"
   ]
  },
  {
   "cell_type": "markdown",
   "metadata": {
    "id": "QleUHphOZii9"
   },
   "source": [
    "# Challenge"
   ]
  },
  {
   "cell_type": "markdown",
   "metadata": {
    "id": "MFTACxvWZii9"
   },
   "source": [
    "## Challenge 1\n",
    "\n",
    "Return the substraction result of below three arguments"
   ]
  },
  {
   "cell_type": "code",
   "execution_count": 20,
   "metadata": {
    "id": "J9JQtdjsZii9",
    "ExecuteTime": {
     "end_time": "2023-12-04T14:17:10.416881200Z",
     "start_time": "2023-12-04T14:17:10.396502800Z"
    }
   },
   "outputs": [
    {
     "name": "stdout",
     "output_type": "stream",
     "text": [
      "3\n",
      "-2\n",
      "70\n"
     ]
    }
   ],
   "source": [
    "def sub_three(first_number, second_number, third_number):\n",
    "    return first_number - second_number - third_number # Put your code here\n",
    "\n",
    "print(sub_three(10, 5, 2)) # 3\n",
    "print(sub_three(third_number=7, second_number=5, first_number=10)) # -2\n",
    "print(sub_three(second_number=20, third_number=10, first_number=100)) # 70"
   ]
  },
  {
   "cell_type": "markdown",
   "metadata": {
    "id": "cmMz4JN5Zii9"
   },
   "source": [
    "When you are done with the above challenge, then:\n",
    "\n",
    "1. Run the code block below by pressing the play button."
   ]
  },
  {
   "cell_type": "code",
   "execution_count": 21,
   "metadata": {
    "id": "ArrgVYSTZii9",
    "ExecuteTime": {
     "end_time": "2023-12-04T14:17:15.430540300Z",
     "start_time": "2023-12-04T14:17:14.709152300Z"
    }
   },
   "outputs": [
    {
     "data": {
      "text/plain": "'Assignment successfully submitted'"
     },
     "execution_count": 21,
     "metadata": {},
     "output_type": "execute_result"
    }
   ],
   "source": [
    "# Submit Method\n",
    "assignment_id = \"003_variables-and-functions\"\n",
    "question_id = \"11_function_positional_argument_1\"\n",
    "\n",
    "submit(student_id, name, assignment_id, str(sub_three(second_number=2, third_number=3, first_number=1)), question_id)"
   ]
  },
  {
   "cell_type": "markdown",
   "metadata": {
    "id": "_GuRGM91Zii-"
   },
   "source": [
    "## Challenge 2\n",
    "\n",
    "Below is a function call that will receive three arguments and return the concatenation result of those three arguments (Remember to add space between words). Your task is to create the function that will be called by below function call."
   ]
  },
  {
   "cell_type": "code",
   "execution_count": 24,
   "metadata": {
    "id": "ijqlh2BHZii-",
    "ExecuteTime": {
     "end_time": "2023-12-04T14:18:37.273567400Z",
     "start_time": "2023-12-04T14:18:37.255479400Z"
    }
   },
   "outputs": [
    {
     "data": {
      "text/plain": "'You are breathtaking'"
     },
     "execution_count": 24,
     "metadata": {},
     "output_type": "execute_result"
    }
   ],
   "source": [
    "# Put your code below\n",
    "def concat_texts(first, second, third):\n",
    "    return f\"{first} {second} {third}\"\n",
    "\n",
    "\n",
    "concat_texts(\"You\", \"are\", \"breathtaking\") # Should return \"You are breathtaking\"\n",
    "concat_texts(third=\"breathtaking\", first=\"You\", second=\"are\") # Should return \"You are breathtaking\""
   ]
  },
  {
   "cell_type": "markdown",
   "metadata": {
    "id": "9CJTL_m6Zii-"
   },
   "source": [
    "When you are done with the above challenge, then:\n",
    "\n",
    "1. Run the code block below by pressing the play button."
   ]
  },
  {
   "cell_type": "code",
   "execution_count": 25,
   "metadata": {
    "id": "LhpfPq0uZii-",
    "ExecuteTime": {
     "end_time": "2023-12-04T14:18:40.453890800Z",
     "start_time": "2023-12-04T14:18:39.869715Z"
    }
   },
   "outputs": [
    {
     "data": {
      "text/plain": "'Assignment successfully submitted'"
     },
     "execution_count": 25,
     "metadata": {},
     "output_type": "execute_result"
    }
   ],
   "source": [
    "# Submit Method\n",
    "assignment_id = \"003_variables-and-functions\"\n",
    "question_id = \"12_function_positional_argument_2\"\n",
    "\n",
    "submit(student_id, name, assignment_id, concat_texts(first=\"My\", third=\"ring\", second=\"precious\"), question_id)"
   ]
  },
  {
   "cell_type": "markdown",
   "metadata": {
    "id": "QOIfGPrzZii-"
   },
   "source": [
    "# Value returned can be assigned to a variable\n",
    "\n",
    "The value returned by a function can be assigned to a variable, because something returned from a function is basically the datatype of the function. For example:"
   ]
  },
  {
   "cell_type": "code",
   "execution_count": null,
   "metadata": {
    "id": "zwZe350LZii-",
    "colab": {
     "base_uri": "https://localhost:8080/"
    },
    "outputId": "b9f0103b-2d71-407b-b04e-49e1ce4a9d8b"
   },
   "outputs": [
    {
     "output_type": "execute_result",
     "data": {
      "text/plain": [
       "7"
      ]
     },
     "metadata": {},
     "execution_count": 42
    }
   ],
   "source": [
    "def add_two(a, b):\n",
    "    return a + b\n",
    "\n",
    "result = add_two(3, 4)\n",
    "result"
   ]
  },
  {
   "cell_type": "code",
   "source": [
    "result"
   ],
   "metadata": {
    "colab": {
     "base_uri": "https://localhost:8080/"
    },
    "id": "qTjR8y9OO2N4",
    "outputId": "ed32c421-f283-4aa7-eeba-451880afc7e7"
   },
   "execution_count": null,
   "outputs": [
    {
     "output_type": "execute_result",
     "data": {
      "text/plain": [
       "7"
      ]
     },
     "metadata": {},
     "execution_count": 11
    }
   ]
  },
  {
   "cell_type": "markdown",
   "metadata": {
    "id": "GaKWgYfsZii-"
   },
   "source": [
    "# Challenge!"
   ]
  },
  {
   "cell_type": "markdown",
   "metadata": {
    "id": "T4Jpwj3AZii-"
   },
   "source": [
    "## Challenge 1\n",
    "\n",
    "Concat Rudi's name to the result of below `concat_three` function"
   ]
  },
  {
   "cell_type": "code",
   "execution_count": 26,
   "metadata": {
    "id": "X1H3lIaZZii-",
    "ExecuteTime": {
     "end_time": "2023-12-04T14:19:15.514019700Z",
     "start_time": "2023-12-04T14:19:15.484699600Z"
    }
   },
   "outputs": [
    {
     "data": {
      "text/plain": "'Yoda Sam Frodo Rudi'"
     },
     "execution_count": 26,
     "metadata": {},
     "output_type": "execute_result"
    }
   ],
   "source": [
    "def concat_three(a, b, c):\n",
    "    return a + \" \" + b + \" \" + c\n",
    "\n",
    "concat_three(\"Yoda\", \"Sam\", \"Frodo Rudi\") + \"\" # Change this line only, concat Rudi so it will be resulted in \"Yoda Sam Frodo Rudi\""
   ]
  },
  {
   "cell_type": "markdown",
   "metadata": {
    "id": "_864GPTcZii-"
   },
   "source": [
    "When you are done with the above challenge, then:\n",
    "\n",
    "1. Change the text \"my result\" below with the text \"done\"\n",
    "2. Run the code block by pressing the play button."
   ]
  },
  {
   "cell_type": "code",
   "execution_count": 27,
   "metadata": {
    "id": "XDF_-vulZii-",
    "ExecuteTime": {
     "end_time": "2023-12-04T14:19:20.825442200Z",
     "start_time": "2023-12-04T14:19:20.280222100Z"
    }
   },
   "outputs": [
    {
     "data": {
      "text/plain": "'Assignment successfully submitted'"
     },
     "execution_count": 27,
     "metadata": {},
     "output_type": "execute_result"
    }
   ],
   "source": [
    "# Submit Method\n",
    "assignment_id = \"003_variables-and-functions\"\n",
    "question_id = \"13_function_result_as_variable_1\"\n",
    "\n",
    "result = \"done\"\n",
    "\n",
    "submit(student_id, name, assignment_id, result, question_id)"
   ]
  },
  {
   "cell_type": "markdown",
   "metadata": {
    "id": "3umhYnwoZii-"
   },
   "source": [
    "## Challenge 2"
   ]
  },
  {
   "cell_type": "code",
   "execution_count": 29,
   "metadata": {
    "id": "vzufo7KgZii-",
    "ExecuteTime": {
     "end_time": "2023-12-04T14:19:44.307020100Z",
     "start_time": "2023-12-04T14:19:44.281056500Z"
    }
   },
   "outputs": [
    {
     "data": {
      "text/plain": "10"
     },
     "execution_count": 29,
     "metadata": {},
     "output_type": "execute_result"
    }
   ],
   "source": [
    "def add_three(a, b, c, d):\n",
    "    return a + b + c + d\n",
    "\n",
    "add_three(1, 2, 3, 4) # Change this line only, add the result of this function with 4 so it will be resulted in 10"
   ]
  },
  {
   "cell_type": "markdown",
   "metadata": {
    "id": "AVSPs_kmZii-"
   },
   "source": [
    "When you are done with the above challenge, then:\n",
    "\n",
    "1. Change the text \"my result\" below with the text \"done\"\n",
    "2. Run the code block by pressing the play button."
   ]
  },
  {
   "cell_type": "code",
   "execution_count": 30,
   "metadata": {
    "id": "fuSCchnJZii-",
    "ExecuteTime": {
     "end_time": "2023-12-04T14:19:47.374411600Z",
     "start_time": "2023-12-04T14:19:46.764054500Z"
    }
   },
   "outputs": [
    {
     "data": {
      "text/plain": "'Assignment successfully submitted'"
     },
     "execution_count": 30,
     "metadata": {},
     "output_type": "execute_result"
    }
   ],
   "source": [
    "# Submit Method\n",
    "assignment_id = \"003_variables-and-functions\"\n",
    "question_id = \"14_function_result_as_variable_2\"\n",
    "\n",
    "result = \"done\"\n",
    "\n",
    "submit(student_id, name, assignment_id, result, question_id)"
   ]
  },
  {
   "cell_type": "markdown",
   "metadata": {
    "id": "We30wWs9Zii-"
   },
   "source": [
    "## Challenge 3\n",
    "\n",
    "Use two different functions below and sum the result of those two functions"
   ]
  },
  {
   "cell_type": "code",
   "execution_count": 32,
   "metadata": {
    "id": "3IHedy_DZii-",
    "colab": {
     "base_uri": "https://localhost:8080/"
    },
    "outputId": "1993f154-7ce4-406e-f453-f9d43765fbaf",
    "ExecuteTime": {
     "end_time": "2023-12-04T14:20:11.544058700Z",
     "start_time": "2023-12-04T14:20:11.500043900Z"
    }
   },
   "outputs": [
    {
     "data": {
      "text/plain": "11.0"
     },
     "execution_count": 32,
     "metadata": {},
     "output_type": "execute_result"
    }
   ],
   "source": [
    "def divide(a, b):\n",
    "    return a / b\n",
    "\n",
    "def multiply(a, b):\n",
    "    return a * b\n",
    "\n",
    "divide(9, 3) + multiply(2, 4) # Example\n",
    "# Now create the division of 9 and 3, and multiplication of 2 and 4, then add the result of those two operations in this line (use existing functions except for the addition)\n"
   ]
  },
  {
   "cell_type": "markdown",
   "metadata": {
    "id": "BN_llU9xZii-"
   },
   "source": [
    "When you are done with the above challenge, then:\n",
    "\n",
    "1. Change the text \"my result\" below with the output of the calculation above.\n",
    "2. Run the code block by pressing the play button."
   ]
  },
  {
   "cell_type": "code",
   "execution_count": 34,
   "metadata": {
    "id": "eNgtQkLEZii-",
    "ExecuteTime": {
     "end_time": "2023-12-04T14:20:40.615323900Z",
     "start_time": "2023-12-04T14:20:40.036932700Z"
    }
   },
   "outputs": [
    {
     "data": {
      "text/plain": "'Assignment successfully submitted'"
     },
     "execution_count": 34,
     "metadata": {},
     "output_type": "execute_result"
    }
   ],
   "source": [
    "# Submit Method\n",
    "assignment_id = \"003_variables-and-functions\"\n",
    "question_id = \"15_function_result_as_variable_3\"\n",
    "\n",
    "result = \"11.0\"\n",
    "\n",
    "submit(student_id, name, assignment_id, result, question_id)"
   ]
  },
  {
   "cell_type": "markdown",
   "metadata": {
    "id": "RsWGY8z8Zii-"
   },
   "source": [
    "## Challenge 4\n",
    "\n",
    "Now use the variable `result` and `result2`, results of given functions, and sum them together"
   ]
  },
  {
   "cell_type": "code",
   "execution_count": 36,
   "metadata": {
    "id": "EDbR-zCAZii_",
    "ExecuteTime": {
     "end_time": "2023-12-04T14:20:57.404134300Z",
     "start_time": "2023-12-04T14:20:57.340885200Z"
    }
   },
   "outputs": [
    {
     "data": {
      "text/plain": "42"
     },
     "execution_count": 36,
     "metadata": {},
     "output_type": "execute_result"
    }
   ],
   "source": [
    "def multiply_two(a, b):\n",
    "    return a * b\n",
    "\n",
    "result = multiply_two(3, 4)\n",
    "result2 = multiply_two(5, 6)\n",
    "\n",
    "result + result2\n",
    "# Sum the result and result2 variable in this line, output should be 42\n"
   ]
  },
  {
   "cell_type": "markdown",
   "metadata": {
    "id": "q5UL-J2pZii_"
   },
   "source": [
    "When you are done with the above challenge, then:\n",
    "\n",
    "1. Change the text \"my result\" below with the output of the calculation above.\n",
    "2. Run the code block by pressing the play button."
   ]
  },
  {
   "cell_type": "code",
   "execution_count": 37,
   "metadata": {
    "id": "tcdPYQJLZii_",
    "ExecuteTime": {
     "end_time": "2023-12-04T14:21:05.097048900Z",
     "start_time": "2023-12-04T14:21:04.555501600Z"
    }
   },
   "outputs": [
    {
     "data": {
      "text/plain": "'Assignment successfully submitted'"
     },
     "execution_count": 37,
     "metadata": {},
     "output_type": "execute_result"
    }
   ],
   "source": [
    "# Submit Method\n",
    "assignment_id = \"003_variables-and-functions\"\n",
    "question_id = \"16_function_result_as_variable_4\"\n",
    "\n",
    "result = \"42\"\n",
    "\n",
    "submit(student_id, name, assignment_id, result, question_id)"
   ]
  },
  {
   "cell_type": "markdown",
   "metadata": {
    "id": "3I-KPPAPZii_"
   },
   "source": [
    "# Let's have fun, machine learning enthusiasts!"
   ]
  },
  {
   "cell_type": "markdown",
   "metadata": {
    "id": "EIIGrUkKZii_"
   },
   "source": [
    "Let's take a look to several line of code at our \"The basics\" learning section when we're just trying to learn about programming"
   ]
  },
  {
   "cell_type": "code",
   "execution_count": 38,
   "metadata": {
    "id": "guKV4vvUZii_",
    "colab": {
     "base_uri": "https://localhost:8080/",
     "height": 565,
     "referenced_widgets": [
      "959c6691175346e8addf75bef10a7f75",
      "86dc8bf3578341ee97c7d9e0ce1b5789",
      "a976df90ef6448c5a92c6949a15031f8",
      "6226947ea49b43d5901e2754eea12d38",
      "047cba7f61ef4ae896104ce72ac5bb91",
      "fb1b1c6a2c1049ce925244c3995d2200",
      "bf83e5a3684c45e6a2021151932cd400",
      "470fa38c382c49b3aa4eb5e63bbaee23",
      "a16a0b73aed444b38824141bb38d1720",
      "c7609cceae3345928b3cab2c174d7094",
      "83aa211eddc1409abdb31fdcf4ad9bba",
      "f3415991dce64be298d4d0457e83d150",
      "092b487af90c4e7ab23b00c2caf61db7",
      "bf4f1761da324a7aae8f15e8e1c8a7cc",
      "b71de34db6454f2cb3365cd041f48730",
      "fb615645cb69456dba26749060297264",
      "db2cf1c57bca42f080e982f69741c4e6",
      "2f7f980db4944d849c54c570ec236204",
      "7e786e52000342538f32aeb0c785fdde",
      "38cf53807eff48f08dd5f6f3f0711ba6",
      "6973968c266240d98a9857cb4595ff17",
      "74fdc823185b4d249a5d8568eb96b1ff",
      "9f7c2e0d7fd444d7abf15e8c69de69f1",
      "3e7265c5b295477690685e2e733e2123",
      "5e2709389767432ebfaf2e08c766ed4e",
      "fbecc4a67df94ca2aee1e045f802464c",
      "98bd9039163c4616b7054fcfc229c6f9",
      "281bb041c88649349d9e65671abd5738",
      "25d4bcdb695b459c96410ca1b3b529db",
      "3ae4bf8d6bf44435be08263bcd104c9f",
      "ad977bd7c28b4fabbb08ea489d3ed15e",
      "09088e7afcb4411aaf6de7e96246cf42",
      "d9c4c350f1a74ac8b34883ec509763f6",
      "5ec09c82729e40ec95dfa6f12b5ddbb7",
      "bad68ab03a2946efba62905fba40db69",
      "47e51305a0e744b3b4498af70d1ded8f",
      "ec023df1b40b4f869694992dddfe230c",
      "83f9199532e04e71a9d510d2dcfef33a",
      "1a4dc34965e4406e86953775da213e60",
      "43a67cf6547947088dc91bdd33503a6e",
      "ddc40386f5ce46af8b4e3ded2bdf36fc",
      "94f675db8c2f4071b4113e613f06b251",
      "9987fa281b8a4960827b57d33f73f3ae",
      "1a97b15b44ab46ee8420fefa32c49173",
      "2b90c0ac96ae4f3088d80671dd20e41d",
      "52d6121886b64bc68dfcf956b5be53e1",
      "4144dd3c5b32454190d94d90981b17a0",
      "bf1ce5c85bc442599daa35a9d64fcc99",
      "c65d356dd6f34b4c94560f7ea769b983",
      "1e2d7481481f4bd0a9899bbd3b1789f5",
      "6741f0eb4071435e9c5d91b37ed11619",
      "a71d8b69b15f4b538ebe226b5c7a4969",
      "aa768941ee0643ae85cac83c19e72194",
      "05fc2d72be3944e786a8157f44fbbbe8",
      "28df06ed87a84d458c76bfe67ecb3665",
      "93061ac8e9d1496f98f61899ed243803",
      "bcc78db4b2cd420090f55042a4bb7eca",
      "e53f4782266b40f2b2804ee64578a0b9",
      "b543612be687402493ab8d6119f160dd",
      "ddbdba23481f49869ed23e48546a4269",
      "336975c366344d009ea8fc7c0a2e1bf8",
      "e5a565f2117a401c9599080ba880fd84",
      "9584e69e288d4ff0a881fdedf96f1e26",
      "5dd72ac50da244af9be310b34cfb4730",
      "64c0ba94e44c4daba5d837adcade3ba0",
      "fa2b690898784750b8453f9baae6b859",
      "1298ee09d21249f6974e57b7982984d1",
      "adec287df4db442f85ac9741d7af5bdd",
      "883688281c024555ae8a807dc0cd400c",
      "9a3faf1d4a87474aa14186db2f069fc4",
      "cdc7ae8241e34528a44010f98c0c5624",
      "2570116308a847c78266eafb2aa2a47d",
      "71f22e0351574879a3e7d4c673d27b78",
      "9c002fbfd8a7436c9c2e64f89aa69bdb",
      "c1de4c9dc15346488bdbeab05c0ba617",
      "ef6523afbae34bd48cce37e6aed88216",
      "e06c40837ade4839a9ab8d855d0dff22"
     ]
    },
    "outputId": "add91cf2-3920-4eee-e928-e8ac202345ed",
    "ExecuteTime": {
     "end_time": "2023-12-04T14:21:15.507881200Z",
     "start_time": "2023-12-04T14:21:08.786038800Z"
    }
   },
   "outputs": [
    {
     "name": "stdout",
     "output_type": "stream",
     "text": [
      "Requirement already satisfied: transformers in c:\\users\\silve\\conda\\envs\\skill-academy-ml\\lib\\site-packages (4.35.2)\n",
      "Requirement already satisfied: filelock in c:\\users\\silve\\conda\\envs\\skill-academy-ml\\lib\\site-packages (from transformers) (3.13.1)\n",
      "Requirement already satisfied: huggingface-hub<1.0,>=0.16.4 in c:\\users\\silve\\conda\\envs\\skill-academy-ml\\lib\\site-packages (from transformers) (0.19.4)\n",
      "Requirement already satisfied: numpy>=1.17 in c:\\users\\silve\\conda\\envs\\skill-academy-ml\\lib\\site-packages (from transformers) (1.26.2)\n",
      "Requirement already satisfied: packaging>=20.0 in c:\\users\\silve\\conda\\envs\\skill-academy-ml\\lib\\site-packages (from transformers) (23.2)\n",
      "Requirement already satisfied: pyyaml>=5.1 in c:\\users\\silve\\conda\\envs\\skill-academy-ml\\lib\\site-packages (from transformers) (6.0.1)\n",
      "Requirement already satisfied: regex!=2019.12.17 in c:\\users\\silve\\conda\\envs\\skill-academy-ml\\lib\\site-packages (from transformers) (2023.10.3)\n",
      "Requirement already satisfied: requests in c:\\users\\silve\\conda\\envs\\skill-academy-ml\\lib\\site-packages (from transformers) (2.31.0)\n",
      "Requirement already satisfied: tokenizers<0.19,>=0.14 in c:\\users\\silve\\conda\\envs\\skill-academy-ml\\lib\\site-packages (from transformers) (0.15.0)\n",
      "Requirement already satisfied: safetensors>=0.3.1 in c:\\users\\silve\\conda\\envs\\skill-academy-ml\\lib\\site-packages (from transformers) (0.4.1)\n",
      "Requirement already satisfied: tqdm>=4.27 in c:\\users\\silve\\conda\\envs\\skill-academy-ml\\lib\\site-packages (from transformers) (4.66.1)\n",
      "Requirement already satisfied: fsspec>=2023.5.0 in c:\\users\\silve\\conda\\envs\\skill-academy-ml\\lib\\site-packages (from huggingface-hub<1.0,>=0.16.4->transformers) (2023.12.0)\n",
      "Requirement already satisfied: typing-extensions>=3.7.4.3 in c:\\users\\silve\\conda\\envs\\skill-academy-ml\\lib\\site-packages (from huggingface-hub<1.0,>=0.16.4->transformers) (4.8.0)\n",
      "Requirement already satisfied: colorama in c:\\users\\silve\\conda\\envs\\skill-academy-ml\\lib\\site-packages (from tqdm>=4.27->transformers) (0.4.6)\n",
      "Requirement already satisfied: charset-normalizer<4,>=2 in c:\\users\\silve\\conda\\envs\\skill-academy-ml\\lib\\site-packages (from requests->transformers) (3.3.2)\n",
      "Requirement already satisfied: idna<4,>=2.5 in c:\\users\\silve\\conda\\envs\\skill-academy-ml\\lib\\site-packages (from requests->transformers) (3.6)\n",
      "Requirement already satisfied: urllib3<3,>=1.21.1 in c:\\users\\silve\\conda\\envs\\skill-academy-ml\\lib\\site-packages (from requests->transformers) (2.1.0)\n",
      "Requirement already satisfied: certifi>=2017.4.17 in c:\\users\\silve\\conda\\envs\\skill-academy-ml\\lib\\site-packages (from requests->transformers) (2023.11.17)\n",
      "Note: you may need to restart the kernel to use updated packages.\n"
     ]
    },
    {
     "ename": "KeyboardInterrupt",
     "evalue": "",
     "output_type": "error",
     "traceback": [
      "\u001B[1;31m---------------------------------------------------------------------------\u001B[0m",
      "\u001B[1;31mKeyboardInterrupt\u001B[0m                         Traceback (most recent call last)",
      "Cell \u001B[1;32mIn[38], line 2\u001B[0m\n\u001B[0;32m      1\u001B[0m get_ipython()\u001B[38;5;241m.\u001B[39mrun_line_magic(\u001B[38;5;124m'\u001B[39m\u001B[38;5;124mpip\u001B[39m\u001B[38;5;124m'\u001B[39m, \u001B[38;5;124m'\u001B[39m\u001B[38;5;124minstall transformers\u001B[39m\u001B[38;5;124m'\u001B[39m)\n\u001B[1;32m----> 2\u001B[0m \u001B[38;5;28;01mfrom\u001B[39;00m \u001B[38;5;21;01mtransformers\u001B[39;00m \u001B[38;5;28;01mimport\u001B[39;00m pipeline\n\u001B[0;32m      4\u001B[0m classifier \u001B[38;5;241m=\u001B[39m pipeline(task\u001B[38;5;241m=\u001B[39m\u001B[38;5;124m\"\u001B[39m\u001B[38;5;124mtext-classification\u001B[39m\u001B[38;5;124m\"\u001B[39m, model\u001B[38;5;241m=\u001B[39m\u001B[38;5;124m\"\u001B[39m\u001B[38;5;124mSamLowe/roberta-base-go_emotions\u001B[39m\u001B[38;5;124m\"\u001B[39m, top_k\u001B[38;5;241m=\u001B[39m\u001B[38;5;28;01mNone\u001B[39;00m)\n",
      "File \u001B[1;32m<frozen importlib._bootstrap>:1075\u001B[0m, in \u001B[0;36m_handle_fromlist\u001B[1;34m(module, fromlist, import_, recursive)\u001B[0m\n",
      "File \u001B[1;32m~\\Conda\\envs\\skill-academy-ml\\lib\\site-packages\\transformers\\utils\\import_utils.py:1343\u001B[0m, in \u001B[0;36m_LazyModule.__getattr__\u001B[1;34m(self, name)\u001B[0m\n\u001B[0;32m   1341\u001B[0m     value \u001B[38;5;241m=\u001B[39m \u001B[38;5;28mself\u001B[39m\u001B[38;5;241m.\u001B[39m_get_module(name)\n\u001B[0;32m   1342\u001B[0m \u001B[38;5;28;01melif\u001B[39;00m name \u001B[38;5;129;01min\u001B[39;00m \u001B[38;5;28mself\u001B[39m\u001B[38;5;241m.\u001B[39m_class_to_module\u001B[38;5;241m.\u001B[39mkeys():\n\u001B[1;32m-> 1343\u001B[0m     module \u001B[38;5;241m=\u001B[39m \u001B[38;5;28;43mself\u001B[39;49m\u001B[38;5;241;43m.\u001B[39;49m\u001B[43m_get_module\u001B[49m\u001B[43m(\u001B[49m\u001B[38;5;28;43mself\u001B[39;49m\u001B[38;5;241;43m.\u001B[39;49m\u001B[43m_class_to_module\u001B[49m\u001B[43m[\u001B[49m\u001B[43mname\u001B[49m\u001B[43m]\u001B[49m\u001B[43m)\u001B[49m\n\u001B[0;32m   1344\u001B[0m     value \u001B[38;5;241m=\u001B[39m \u001B[38;5;28mgetattr\u001B[39m(module, name)\n\u001B[0;32m   1345\u001B[0m \u001B[38;5;28;01melse\u001B[39;00m:\n",
      "File \u001B[1;32m~\\Conda\\envs\\skill-academy-ml\\lib\\site-packages\\transformers\\utils\\import_utils.py:1353\u001B[0m, in \u001B[0;36m_LazyModule._get_module\u001B[1;34m(self, module_name)\u001B[0m\n\u001B[0;32m   1351\u001B[0m \u001B[38;5;28;01mdef\u001B[39;00m \u001B[38;5;21m_get_module\u001B[39m(\u001B[38;5;28mself\u001B[39m, module_name: \u001B[38;5;28mstr\u001B[39m):\n\u001B[0;32m   1352\u001B[0m     \u001B[38;5;28;01mtry\u001B[39;00m:\n\u001B[1;32m-> 1353\u001B[0m         \u001B[38;5;28;01mreturn\u001B[39;00m \u001B[43mimportlib\u001B[49m\u001B[38;5;241;43m.\u001B[39;49m\u001B[43mimport_module\u001B[49m\u001B[43m(\u001B[49m\u001B[38;5;124;43m\"\u001B[39;49m\u001B[38;5;124;43m.\u001B[39;49m\u001B[38;5;124;43m\"\u001B[39;49m\u001B[43m \u001B[49m\u001B[38;5;241;43m+\u001B[39;49m\u001B[43m \u001B[49m\u001B[43mmodule_name\u001B[49m\u001B[43m,\u001B[49m\u001B[43m \u001B[49m\u001B[38;5;28;43mself\u001B[39;49m\u001B[38;5;241;43m.\u001B[39;49m\u001B[38;5;18;43m__name__\u001B[39;49m\u001B[43m)\u001B[49m\n\u001B[0;32m   1354\u001B[0m     \u001B[38;5;28;01mexcept\u001B[39;00m \u001B[38;5;167;01mException\u001B[39;00m \u001B[38;5;28;01mas\u001B[39;00m e:\n\u001B[0;32m   1355\u001B[0m         \u001B[38;5;28;01mraise\u001B[39;00m \u001B[38;5;167;01mRuntimeError\u001B[39;00m(\n\u001B[0;32m   1356\u001B[0m             \u001B[38;5;124mf\u001B[39m\u001B[38;5;124m\"\u001B[39m\u001B[38;5;124mFailed to import \u001B[39m\u001B[38;5;132;01m{\u001B[39;00m\u001B[38;5;28mself\u001B[39m\u001B[38;5;241m.\u001B[39m\u001B[38;5;18m__name__\u001B[39m\u001B[38;5;132;01m}\u001B[39;00m\u001B[38;5;124m.\u001B[39m\u001B[38;5;132;01m{\u001B[39;00mmodule_name\u001B[38;5;132;01m}\u001B[39;00m\u001B[38;5;124m because of the following error (look up to see its\u001B[39m\u001B[38;5;124m\"\u001B[39m\n\u001B[0;32m   1357\u001B[0m             \u001B[38;5;124mf\u001B[39m\u001B[38;5;124m\"\u001B[39m\u001B[38;5;124m traceback):\u001B[39m\u001B[38;5;130;01m\\n\u001B[39;00m\u001B[38;5;132;01m{\u001B[39;00me\u001B[38;5;132;01m}\u001B[39;00m\u001B[38;5;124m\"\u001B[39m\n\u001B[0;32m   1358\u001B[0m         ) \u001B[38;5;28;01mfrom\u001B[39;00m \u001B[38;5;21;01me\u001B[39;00m\n",
      "File \u001B[1;32m~\\Conda\\envs\\skill-academy-ml\\lib\\importlib\\__init__.py:126\u001B[0m, in \u001B[0;36mimport_module\u001B[1;34m(name, package)\u001B[0m\n\u001B[0;32m    124\u001B[0m             \u001B[38;5;28;01mbreak\u001B[39;00m\n\u001B[0;32m    125\u001B[0m         level \u001B[38;5;241m+\u001B[39m\u001B[38;5;241m=\u001B[39m \u001B[38;5;241m1\u001B[39m\n\u001B[1;32m--> 126\u001B[0m \u001B[38;5;28;01mreturn\u001B[39;00m \u001B[43m_bootstrap\u001B[49m\u001B[38;5;241;43m.\u001B[39;49m\u001B[43m_gcd_import\u001B[49m\u001B[43m(\u001B[49m\u001B[43mname\u001B[49m\u001B[43m[\u001B[49m\u001B[43mlevel\u001B[49m\u001B[43m:\u001B[49m\u001B[43m]\u001B[49m\u001B[43m,\u001B[49m\u001B[43m \u001B[49m\u001B[43mpackage\u001B[49m\u001B[43m,\u001B[49m\u001B[43m \u001B[49m\u001B[43mlevel\u001B[49m\u001B[43m)\u001B[49m\n",
      "File \u001B[1;32m~\\Conda\\envs\\skill-academy-ml\\lib\\site-packages\\transformers\\pipelines\\__init__.py:29\u001B[0m\n\u001B[0;32m     27\u001B[0m \u001B[38;5;28;01mfrom\u001B[39;00m \u001B[38;5;21;01m.\u001B[39;00m\u001B[38;5;21;01m.\u001B[39;00m\u001B[38;5;21;01mfeature_extraction_utils\u001B[39;00m \u001B[38;5;28;01mimport\u001B[39;00m PreTrainedFeatureExtractor\n\u001B[0;32m     28\u001B[0m \u001B[38;5;28;01mfrom\u001B[39;00m \u001B[38;5;21;01m.\u001B[39;00m\u001B[38;5;21;01m.\u001B[39;00m\u001B[38;5;21;01mimage_processing_utils\u001B[39;00m \u001B[38;5;28;01mimport\u001B[39;00m BaseImageProcessor\n\u001B[1;32m---> 29\u001B[0m \u001B[38;5;28;01mfrom\u001B[39;00m \u001B[38;5;21;01m.\u001B[39;00m\u001B[38;5;21;01m.\u001B[39;00m\u001B[38;5;21;01mmodels\u001B[39;00m\u001B[38;5;21;01m.\u001B[39;00m\u001B[38;5;21;01mauto\u001B[39;00m\u001B[38;5;21;01m.\u001B[39;00m\u001B[38;5;21;01mconfiguration_auto\u001B[39;00m \u001B[38;5;28;01mimport\u001B[39;00m AutoConfig\n\u001B[0;32m     30\u001B[0m \u001B[38;5;28;01mfrom\u001B[39;00m \u001B[38;5;21;01m.\u001B[39;00m\u001B[38;5;21;01m.\u001B[39;00m\u001B[38;5;21;01mmodels\u001B[39;00m\u001B[38;5;21;01m.\u001B[39;00m\u001B[38;5;21;01mauto\u001B[39;00m\u001B[38;5;21;01m.\u001B[39;00m\u001B[38;5;21;01mfeature_extraction_auto\u001B[39;00m \u001B[38;5;28;01mimport\u001B[39;00m FEATURE_EXTRACTOR_MAPPING, AutoFeatureExtractor\n\u001B[0;32m     31\u001B[0m \u001B[38;5;28;01mfrom\u001B[39;00m \u001B[38;5;21;01m.\u001B[39;00m\u001B[38;5;21;01m.\u001B[39;00m\u001B[38;5;21;01mmodels\u001B[39;00m\u001B[38;5;21;01m.\u001B[39;00m\u001B[38;5;21;01mauto\u001B[39;00m\u001B[38;5;21;01m.\u001B[39;00m\u001B[38;5;21;01mimage_processing_auto\u001B[39;00m \u001B[38;5;28;01mimport\u001B[39;00m IMAGE_PROCESSOR_MAPPING, AutoImageProcessor\n",
      "File \u001B[1;32m~\\Conda\\envs\\skill-academy-ml\\lib\\site-packages\\transformers\\models\\__init__.py:15\u001B[0m\n\u001B[0;32m      1\u001B[0m \u001B[38;5;66;03m# Copyright 2020 The HuggingFace Team. All rights reserved.\u001B[39;00m\n\u001B[0;32m      2\u001B[0m \u001B[38;5;66;03m#\u001B[39;00m\n\u001B[0;32m      3\u001B[0m \u001B[38;5;66;03m# Licensed under the Apache License, Version 2.0 (the \"License\");\u001B[39;00m\n\u001B[1;32m   (...)\u001B[0m\n\u001B[0;32m     12\u001B[0m \u001B[38;5;66;03m# See the License for the specific language governing permissions and\u001B[39;00m\n\u001B[0;32m     13\u001B[0m \u001B[38;5;66;03m# limitations under the License.\u001B[39;00m\n\u001B[1;32m---> 15\u001B[0m \u001B[38;5;28;01mfrom\u001B[39;00m \u001B[38;5;21;01m.\u001B[39;00m \u001B[38;5;28;01mimport\u001B[39;00m (\n\u001B[0;32m     16\u001B[0m     albert,\n\u001B[0;32m     17\u001B[0m     align,\n\u001B[0;32m     18\u001B[0m     altclip,\n\u001B[0;32m     19\u001B[0m     audio_spectrogram_transformer,\n\u001B[0;32m     20\u001B[0m     auto,\n\u001B[0;32m     21\u001B[0m     autoformer,\n\u001B[0;32m     22\u001B[0m     bark,\n\u001B[0;32m     23\u001B[0m     bart,\n\u001B[0;32m     24\u001B[0m     barthez,\n\u001B[0;32m     25\u001B[0m     bartpho,\n\u001B[0;32m     26\u001B[0m     beit,\n\u001B[0;32m     27\u001B[0m     bert,\n\u001B[0;32m     28\u001B[0m     bert_generation,\n\u001B[0;32m     29\u001B[0m     bert_japanese,\n\u001B[0;32m     30\u001B[0m     bertweet,\n\u001B[0;32m     31\u001B[0m     big_bird,\n\u001B[0;32m     32\u001B[0m     bigbird_pegasus,\n\u001B[0;32m     33\u001B[0m     biogpt,\n\u001B[0;32m     34\u001B[0m     bit,\n\u001B[0;32m     35\u001B[0m     blenderbot,\n\u001B[0;32m     36\u001B[0m     blenderbot_small,\n\u001B[0;32m     37\u001B[0m     blip,\n\u001B[0;32m     38\u001B[0m     blip_2,\n\u001B[0;32m     39\u001B[0m     bloom,\n\u001B[0;32m     40\u001B[0m     bridgetower,\n\u001B[0;32m     41\u001B[0m     bros,\n\u001B[0;32m     42\u001B[0m     byt5,\n\u001B[0;32m     43\u001B[0m     camembert,\n\u001B[0;32m     44\u001B[0m     canine,\n\u001B[0;32m     45\u001B[0m     chinese_clip,\n\u001B[0;32m     46\u001B[0m     clap,\n\u001B[0;32m     47\u001B[0m     clip,\n\u001B[0;32m     48\u001B[0m     clipseg,\n\u001B[0;32m     49\u001B[0m     code_llama,\n\u001B[0;32m     50\u001B[0m     codegen,\n\u001B[0;32m     51\u001B[0m     conditional_detr,\n\u001B[0;32m     52\u001B[0m     convbert,\n\u001B[0;32m     53\u001B[0m     convnext,\n\u001B[0;32m     54\u001B[0m     convnextv2,\n\u001B[0;32m     55\u001B[0m     cpm,\n\u001B[0;32m     56\u001B[0m     cpmant,\n\u001B[0;32m     57\u001B[0m     ctrl,\n\u001B[0;32m     58\u001B[0m     cvt,\n\u001B[0;32m     59\u001B[0m     data2vec,\n\u001B[0;32m     60\u001B[0m     deberta,\n\u001B[0;32m     61\u001B[0m     deberta_v2,\n\u001B[0;32m     62\u001B[0m     decision_transformer,\n\u001B[0;32m     63\u001B[0m     deformable_detr,\n\u001B[0;32m     64\u001B[0m     deit,\n\u001B[0;32m     65\u001B[0m     deprecated,\n\u001B[0;32m     66\u001B[0m     deta,\n\u001B[0;32m     67\u001B[0m     detr,\n\u001B[0;32m     68\u001B[0m     dialogpt,\n\u001B[0;32m     69\u001B[0m     dinat,\n\u001B[0;32m     70\u001B[0m     dinov2,\n\u001B[0;32m     71\u001B[0m     distilbert,\n\u001B[0;32m     72\u001B[0m     dit,\n\u001B[0;32m     73\u001B[0m     donut,\n\u001B[0;32m     74\u001B[0m     dpr,\n\u001B[0;32m     75\u001B[0m     dpt,\n\u001B[0;32m     76\u001B[0m     efficientformer,\n\u001B[0;32m     77\u001B[0m     efficientnet,\n\u001B[0;32m     78\u001B[0m     electra,\n\u001B[0;32m     79\u001B[0m     encodec,\n\u001B[0;32m     80\u001B[0m     encoder_decoder,\n\u001B[0;32m     81\u001B[0m     ernie,\n\u001B[0;32m     82\u001B[0m     ernie_m,\n\u001B[0;32m     83\u001B[0m     esm,\n\u001B[0;32m     84\u001B[0m     falcon,\n\u001B[0;32m     85\u001B[0m     flaubert,\n\u001B[0;32m     86\u001B[0m     flava,\n\u001B[0;32m     87\u001B[0m     fnet,\n\u001B[0;32m     88\u001B[0m     focalnet,\n\u001B[0;32m     89\u001B[0m     fsmt,\n\u001B[0;32m     90\u001B[0m     funnel,\n\u001B[0;32m     91\u001B[0m     fuyu,\n\u001B[0;32m     92\u001B[0m     git,\n\u001B[0;32m     93\u001B[0m     glpn,\n\u001B[0;32m     94\u001B[0m     gpt2,\n\u001B[0;32m     95\u001B[0m     gpt_bigcode,\n\u001B[0;32m     96\u001B[0m     gpt_neo,\n\u001B[0;32m     97\u001B[0m     gpt_neox,\n\u001B[0;32m     98\u001B[0m     gpt_neox_japanese,\n\u001B[0;32m     99\u001B[0m     gpt_sw3,\n\u001B[0;32m    100\u001B[0m     gptj,\n\u001B[0;32m    101\u001B[0m     gptsan_japanese,\n\u001B[0;32m    102\u001B[0m     graphormer,\n\u001B[0;32m    103\u001B[0m     groupvit,\n\u001B[0;32m    104\u001B[0m     herbert,\n\u001B[0;32m    105\u001B[0m     hubert,\n\u001B[0;32m    106\u001B[0m     ibert,\n\u001B[0;32m    107\u001B[0m     idefics,\n\u001B[0;32m    108\u001B[0m     imagegpt,\n\u001B[0;32m    109\u001B[0m     informer,\n\u001B[0;32m    110\u001B[0m     instructblip,\n\u001B[0;32m    111\u001B[0m     jukebox,\n\u001B[0;32m    112\u001B[0m     kosmos2,\n\u001B[0;32m    113\u001B[0m     layoutlm,\n\u001B[0;32m    114\u001B[0m     layoutlmv2,\n\u001B[0;32m    115\u001B[0m     layoutlmv3,\n\u001B[0;32m    116\u001B[0m     layoutxlm,\n\u001B[0;32m    117\u001B[0m     led,\n\u001B[0;32m    118\u001B[0m     levit,\n\u001B[0;32m    119\u001B[0m     lilt,\n\u001B[0;32m    120\u001B[0m     llama,\n\u001B[0;32m    121\u001B[0m     longformer,\n\u001B[0;32m    122\u001B[0m     longt5,\n\u001B[0;32m    123\u001B[0m     luke,\n\u001B[0;32m    124\u001B[0m     lxmert,\n\u001B[0;32m    125\u001B[0m     m2m_100,\n\u001B[0;32m    126\u001B[0m     marian,\n\u001B[0;32m    127\u001B[0m     markuplm,\n\u001B[0;32m    128\u001B[0m     mask2former,\n\u001B[0;32m    129\u001B[0m     maskformer,\n\u001B[0;32m    130\u001B[0m     mbart,\n\u001B[0;32m    131\u001B[0m     mbart50,\n\u001B[0;32m    132\u001B[0m     mega,\n\u001B[0;32m    133\u001B[0m     megatron_bert,\n\u001B[0;32m    134\u001B[0m     megatron_gpt2,\n\u001B[0;32m    135\u001B[0m     mgp_str,\n\u001B[0;32m    136\u001B[0m     mistral,\n\u001B[0;32m    137\u001B[0m     mluke,\n\u001B[0;32m    138\u001B[0m     mobilebert,\n\u001B[0;32m    139\u001B[0m     mobilenet_v1,\n\u001B[0;32m    140\u001B[0m     mobilenet_v2,\n\u001B[0;32m    141\u001B[0m     mobilevit,\n\u001B[0;32m    142\u001B[0m     mobilevitv2,\n\u001B[0;32m    143\u001B[0m     mpnet,\n\u001B[0;32m    144\u001B[0m     mpt,\n\u001B[0;32m    145\u001B[0m     mra,\n\u001B[0;32m    146\u001B[0m     mt5,\n\u001B[0;32m    147\u001B[0m     musicgen,\n\u001B[0;32m    148\u001B[0m     mvp,\n\u001B[0;32m    149\u001B[0m     nat,\n\u001B[0;32m    150\u001B[0m     nezha,\n\u001B[0;32m    151\u001B[0m     nllb,\n\u001B[0;32m    152\u001B[0m     nllb_moe,\n\u001B[0;32m    153\u001B[0m     nougat,\n\u001B[0;32m    154\u001B[0m     nystromformer,\n\u001B[0;32m    155\u001B[0m     oneformer,\n\u001B[0;32m    156\u001B[0m     openai,\n\u001B[0;32m    157\u001B[0m     opt,\n\u001B[0;32m    158\u001B[0m     owlv2,\n\u001B[0;32m    159\u001B[0m     owlvit,\n\u001B[0;32m    160\u001B[0m     pegasus,\n\u001B[0;32m    161\u001B[0m     pegasus_x,\n\u001B[0;32m    162\u001B[0m     perceiver,\n\u001B[0;32m    163\u001B[0m     persimmon,\n\u001B[0;32m    164\u001B[0m     phobert,\n\u001B[0;32m    165\u001B[0m     pix2struct,\n\u001B[0;32m    166\u001B[0m     plbart,\n\u001B[0;32m    167\u001B[0m     poolformer,\n\u001B[0;32m    168\u001B[0m     pop2piano,\n\u001B[0;32m    169\u001B[0m     prophetnet,\n\u001B[0;32m    170\u001B[0m     pvt,\n\u001B[0;32m    171\u001B[0m     qdqbert,\n\u001B[0;32m    172\u001B[0m     rag,\n\u001B[0;32m    173\u001B[0m     realm,\n\u001B[0;32m    174\u001B[0m     reformer,\n\u001B[0;32m    175\u001B[0m     regnet,\n\u001B[0;32m    176\u001B[0m     rembert,\n\u001B[0;32m    177\u001B[0m     resnet,\n\u001B[0;32m    178\u001B[0m     roberta,\n\u001B[0;32m    179\u001B[0m     roberta_prelayernorm,\n\u001B[0;32m    180\u001B[0m     roc_bert,\n\u001B[0;32m    181\u001B[0m     roformer,\n\u001B[0;32m    182\u001B[0m     rwkv,\n\u001B[0;32m    183\u001B[0m     sam,\n\u001B[0;32m    184\u001B[0m     seamless_m4t,\n\u001B[0;32m    185\u001B[0m     segformer,\n\u001B[0;32m    186\u001B[0m     sew,\n\u001B[0;32m    187\u001B[0m     sew_d,\n\u001B[0;32m    188\u001B[0m     speech_encoder_decoder,\n\u001B[0;32m    189\u001B[0m     speech_to_text,\n\u001B[0;32m    190\u001B[0m     speech_to_text_2,\n\u001B[0;32m    191\u001B[0m     speecht5,\n\u001B[0;32m    192\u001B[0m     splinter,\n\u001B[0;32m    193\u001B[0m     squeezebert,\n\u001B[0;32m    194\u001B[0m     swiftformer,\n\u001B[0;32m    195\u001B[0m     swin,\n\u001B[0;32m    196\u001B[0m     swin2sr,\n\u001B[0;32m    197\u001B[0m     swinv2,\n\u001B[0;32m    198\u001B[0m     switch_transformers,\n\u001B[0;32m    199\u001B[0m     t5,\n\u001B[0;32m    200\u001B[0m     table_transformer,\n\u001B[0;32m    201\u001B[0m     tapas,\n\u001B[0;32m    202\u001B[0m     time_series_transformer,\n\u001B[0;32m    203\u001B[0m     timesformer,\n\u001B[0;32m    204\u001B[0m     timm_backbone,\n\u001B[0;32m    205\u001B[0m     transfo_xl,\n\u001B[0;32m    206\u001B[0m     trocr,\n\u001B[0;32m    207\u001B[0m     tvlt,\n\u001B[0;32m    208\u001B[0m     umt5,\n\u001B[0;32m    209\u001B[0m     unispeech,\n\u001B[0;32m    210\u001B[0m     unispeech_sat,\n\u001B[0;32m    211\u001B[0m     upernet,\n\u001B[0;32m    212\u001B[0m     videomae,\n\u001B[0;32m    213\u001B[0m     vilt,\n\u001B[0;32m    214\u001B[0m     vision_encoder_decoder,\n\u001B[0;32m    215\u001B[0m     vision_text_dual_encoder,\n\u001B[0;32m    216\u001B[0m     visual_bert,\n\u001B[0;32m    217\u001B[0m     vit,\n\u001B[0;32m    218\u001B[0m     vit_hybrid,\n\u001B[0;32m    219\u001B[0m     vit_mae,\n\u001B[0;32m    220\u001B[0m     vit_msn,\n\u001B[0;32m    221\u001B[0m     vitdet,\n\u001B[0;32m    222\u001B[0m     vitmatte,\n\u001B[0;32m    223\u001B[0m     vits,\n\u001B[0;32m    224\u001B[0m     vivit,\n\u001B[0;32m    225\u001B[0m     wav2vec2,\n\u001B[0;32m    226\u001B[0m     wav2vec2_conformer,\n\u001B[0;32m    227\u001B[0m     wav2vec2_phoneme,\n\u001B[0;32m    228\u001B[0m     wav2vec2_with_lm,\n\u001B[0;32m    229\u001B[0m     wavlm,\n\u001B[0;32m    230\u001B[0m     whisper,\n\u001B[0;32m    231\u001B[0m     x_clip,\n\u001B[0;32m    232\u001B[0m     xglm,\n\u001B[0;32m    233\u001B[0m     xlm,\n\u001B[0;32m    234\u001B[0m     xlm_prophetnet,\n\u001B[0;32m    235\u001B[0m     xlm_roberta,\n\u001B[0;32m    236\u001B[0m     xlm_roberta_xl,\n\u001B[0;32m    237\u001B[0m     xlnet,\n\u001B[0;32m    238\u001B[0m     xmod,\n\u001B[0;32m    239\u001B[0m     yolos,\n\u001B[0;32m    240\u001B[0m     yoso,\n\u001B[0;32m    241\u001B[0m )\n",
      "File \u001B[1;32m~\\Conda\\envs\\skill-academy-ml\\lib\\site-packages\\transformers\\models\\mt5\\__init__.py:36\u001B[0m\n\u001B[0;32m     33\u001B[0m MT5Tokenizer \u001B[38;5;241m=\u001B[39m T5Tokenizer\n\u001B[0;32m     35\u001B[0m \u001B[38;5;28;01mif\u001B[39;00m is_tokenizers_available():\n\u001B[1;32m---> 36\u001B[0m     \u001B[38;5;28;01mfrom\u001B[39;00m \u001B[38;5;21;01m.\u001B[39;00m\u001B[38;5;21;01m.\u001B[39;00m\u001B[38;5;21;01mt5\u001B[39;00m\u001B[38;5;21;01m.\u001B[39;00m\u001B[38;5;21;01mtokenization_t5_fast\u001B[39;00m \u001B[38;5;28;01mimport\u001B[39;00m T5TokenizerFast\n\u001B[0;32m     37\u001B[0m \u001B[38;5;28;01melse\u001B[39;00m:\n\u001B[0;32m     38\u001B[0m     \u001B[38;5;28;01mfrom\u001B[39;00m \u001B[38;5;21;01m.\u001B[39;00m\u001B[38;5;21;01m.\u001B[39;00m\u001B[38;5;21;01m.\u001B[39;00m\u001B[38;5;21;01mutils\u001B[39;00m\u001B[38;5;21;01m.\u001B[39;00m\u001B[38;5;21;01mdummy_tokenizers_objects\u001B[39;00m \u001B[38;5;28;01mimport\u001B[39;00m T5TokenizerFast\n",
      "File \u001B[1;32m~\\Conda\\envs\\skill-academy-ml\\lib\\site-packages\\transformers\\models\\t5\\tokenization_t5_fast.py:24\u001B[0m\n\u001B[0;32m     21\u001B[0m \u001B[38;5;28;01mfrom\u001B[39;00m \u001B[38;5;21;01mshutil\u001B[39;00m \u001B[38;5;28;01mimport\u001B[39;00m copyfile\n\u001B[0;32m     22\u001B[0m \u001B[38;5;28;01mfrom\u001B[39;00m \u001B[38;5;21;01mtyping\u001B[39;00m \u001B[38;5;28;01mimport\u001B[39;00m List, Optional, Tuple\n\u001B[1;32m---> 24\u001B[0m \u001B[38;5;28;01mfrom\u001B[39;00m \u001B[38;5;21;01m.\u001B[39;00m\u001B[38;5;21;01m.\u001B[39;00m\u001B[38;5;21;01m.\u001B[39;00m\u001B[38;5;21;01mtokenization_utils_fast\u001B[39;00m \u001B[38;5;28;01mimport\u001B[39;00m PreTrainedTokenizerFast\n\u001B[0;32m     25\u001B[0m \u001B[38;5;28;01mfrom\u001B[39;00m \u001B[38;5;21;01m.\u001B[39;00m\u001B[38;5;21;01m.\u001B[39;00m\u001B[38;5;21;01m.\u001B[39;00m\u001B[38;5;21;01mutils\u001B[39;00m \u001B[38;5;28;01mimport\u001B[39;00m is_sentencepiece_available, logging\n\u001B[0;32m     28\u001B[0m \u001B[38;5;28;01mif\u001B[39;00m is_sentencepiece_available():\n",
      "File \u001B[1;32m~\\Conda\\envs\\skill-academy-ml\\lib\\site-packages\\transformers\\tokenization_utils_fast.py:25\u001B[0m\n\u001B[0;32m     22\u001B[0m \u001B[38;5;28;01mfrom\u001B[39;00m \u001B[38;5;21;01mcollections\u001B[39;00m \u001B[38;5;28;01mimport\u001B[39;00m defaultdict\n\u001B[0;32m     23\u001B[0m \u001B[38;5;28;01mfrom\u001B[39;00m \u001B[38;5;21;01mtyping\u001B[39;00m \u001B[38;5;28;01mimport\u001B[39;00m Any, Dict, List, Optional, Tuple, Union\n\u001B[1;32m---> 25\u001B[0m \u001B[38;5;28;01mimport\u001B[39;00m \u001B[38;5;21;01mtokenizers\u001B[39;00m\u001B[38;5;21;01m.\u001B[39;00m\u001B[38;5;21;01mpre_tokenizers\u001B[39;00m \u001B[38;5;28;01mas\u001B[39;00m \u001B[38;5;21;01mpre_tokenizers_fast\u001B[39;00m\n\u001B[0;32m     26\u001B[0m \u001B[38;5;28;01mfrom\u001B[39;00m \u001B[38;5;21;01mtokenizers\u001B[39;00m \u001B[38;5;28;01mimport\u001B[39;00m Encoding \u001B[38;5;28;01mas\u001B[39;00m EncodingFast\n\u001B[0;32m     27\u001B[0m \u001B[38;5;28;01mfrom\u001B[39;00m \u001B[38;5;21;01mtokenizers\u001B[39;00m \u001B[38;5;28;01mimport\u001B[39;00m Tokenizer \u001B[38;5;28;01mas\u001B[39;00m TokenizerFast\n",
      "File \u001B[1;32m~\\Conda\\envs\\skill-academy-ml\\lib\\site-packages\\tokenizers\\__init__.py:94\u001B[0m\n\u001B[0;32m     75\u001B[0m     CONTIGUOUS \u001B[38;5;241m=\u001B[39m \u001B[38;5;124m\"\u001B[39m\u001B[38;5;124mcontiguous\u001B[39m\u001B[38;5;124m\"\u001B[39m\n\u001B[0;32m     78\u001B[0m \u001B[38;5;28;01mfrom\u001B[39;00m \u001B[38;5;21;01m.\u001B[39;00m\u001B[38;5;21;01mtokenizers\u001B[39;00m \u001B[38;5;28;01mimport\u001B[39;00m (\n\u001B[0;32m     79\u001B[0m     AddedToken,\n\u001B[0;32m     80\u001B[0m     Encoding,\n\u001B[1;32m   (...)\u001B[0m\n\u001B[0;32m     92\u001B[0m     __version__,\n\u001B[0;32m     93\u001B[0m )\n\u001B[1;32m---> 94\u001B[0m \u001B[38;5;28;01mfrom\u001B[39;00m \u001B[38;5;21;01m.\u001B[39;00m\u001B[38;5;21;01mimplementations\u001B[39;00m \u001B[38;5;28;01mimport\u001B[39;00m (\n\u001B[0;32m     95\u001B[0m     BertWordPieceTokenizer,\n\u001B[0;32m     96\u001B[0m     ByteLevelBPETokenizer,\n\u001B[0;32m     97\u001B[0m     CharBPETokenizer,\n\u001B[0;32m     98\u001B[0m     SentencePieceBPETokenizer,\n\u001B[0;32m     99\u001B[0m     SentencePieceUnigramTokenizer,\n\u001B[0;32m    100\u001B[0m )\n",
      "File \u001B[1;32m~\\Conda\\envs\\skill-academy-ml\\lib\\site-packages\\tokenizers\\implementations\\__init__.py:2\u001B[0m\n\u001B[0;32m      1\u001B[0m \u001B[38;5;28;01mfrom\u001B[39;00m \u001B[38;5;21;01m.\u001B[39;00m\u001B[38;5;21;01mbase_tokenizer\u001B[39;00m \u001B[38;5;28;01mimport\u001B[39;00m BaseTokenizer\n\u001B[1;32m----> 2\u001B[0m \u001B[38;5;28;01mfrom\u001B[39;00m \u001B[38;5;21;01m.\u001B[39;00m\u001B[38;5;21;01mbert_wordpiece\u001B[39;00m \u001B[38;5;28;01mimport\u001B[39;00m BertWordPieceTokenizer\n\u001B[0;32m      3\u001B[0m \u001B[38;5;28;01mfrom\u001B[39;00m \u001B[38;5;21;01m.\u001B[39;00m\u001B[38;5;21;01mbyte_level_bpe\u001B[39;00m \u001B[38;5;28;01mimport\u001B[39;00m ByteLevelBPETokenizer\n\u001B[0;32m      4\u001B[0m \u001B[38;5;28;01mfrom\u001B[39;00m \u001B[38;5;21;01m.\u001B[39;00m\u001B[38;5;21;01mchar_level_bpe\u001B[39;00m \u001B[38;5;28;01mimport\u001B[39;00m CharBPETokenizer\n",
      "File \u001B[1;32m<frozen importlib._bootstrap>:1027\u001B[0m, in \u001B[0;36m_find_and_load\u001B[1;34m(name, import_)\u001B[0m\n",
      "File \u001B[1;32m<frozen importlib._bootstrap>:1002\u001B[0m, in \u001B[0;36m_find_and_load_unlocked\u001B[1;34m(name, import_)\u001B[0m\n",
      "File \u001B[1;32m<frozen importlib._bootstrap>:945\u001B[0m, in \u001B[0;36m_find_spec\u001B[1;34m(name, path, target)\u001B[0m\n",
      "File \u001B[1;32m<frozen importlib._bootstrap_external>:1439\u001B[0m, in \u001B[0;36mfind_spec\u001B[1;34m(cls, fullname, path, target)\u001B[0m\n",
      "File \u001B[1;32m<frozen importlib._bootstrap_external>:1411\u001B[0m, in \u001B[0;36m_get_spec\u001B[1;34m(cls, fullname, path, target)\u001B[0m\n",
      "File \u001B[1;32m<frozen importlib._bootstrap_external>:1544\u001B[0m, in \u001B[0;36mfind_spec\u001B[1;34m(self, fullname, target)\u001B[0m\n",
      "File \u001B[1;32m<frozen importlib._bootstrap_external>:147\u001B[0m, in \u001B[0;36m_path_stat\u001B[1;34m(path)\u001B[0m\n",
      "\u001B[1;31mKeyboardInterrupt\u001B[0m: "
     ]
    }
   ],
   "source": [
    "%pip install transformers\n",
    "from transformers import pipeline\n",
    "\n",
    "classifier = pipeline(task=\"text-classification\", model=\"SamLowe/roberta-base-go_emotions\", top_k=None)"
   ]
  },
  {
   "cell_type": "markdown",
   "metadata": {
    "id": "8j72VJ7HZii_"
   },
   "source": [
    "Ignore the first two line of code as we'll cover it in later section.\n",
    "\n",
    "Beside the argument of `top_k` being `None` (which we haven't covered yet), you should already understand the gist of above code. Python isn't that hard right?!\n",
    "\n",
    "What's unique about above `pipeline` function is that **this function is returning another function**, a \"trick\" that we might haven't learned yet, but let's just take it as it is for now.\n",
    "\n",
    "Let's use the `classifier` function like below:"
   ]
  },
  {
   "cell_type": "code",
   "execution_count": null,
   "metadata": {
    "id": "FGInx-qIZii_"
   },
   "outputs": [],
   "source": [
    "classifier(\"Mom, thanks for your prayers, I passed the interview on Ruangguru!\")"
   ]
  },
  {
   "cell_type": "markdown",
   "metadata": {
    "id": "jPF0v45PZii_"
   },
   "source": [
    "# Intermezo: Function vs method\n",
    "\n",
    "We've been using the term function a lot, but there's another term that's similar to function, which is method. So what's the difference between function and method?\n",
    "\n",
    "So basically we'll learn more intense about method in OOP section, but to be concise:\n",
    "\n",
    "- Function is written just like we've learned so far (e.g. `function_name(argument)`)\n",
    "- Method is written after a compatible data type (e.g. `\"This is a string\".replace(\"is\", \"was\")`)\n"
   ]
  }
 ],
 "metadata": {
  "kernelspec": {
   "display_name": "Python 3 (ipykernel)",
   "language": "python",
   "name": "python3"
  },
  "language_info": {
   "codemirror_mode": {
    "name": "ipython",
    "version": 3
   },
   "file_extension": ".py",
   "mimetype": "text/x-python",
   "name": "python",
   "nbconvert_exporter": "python",
   "pygments_lexer": "ipython3",
   "version": "3.11.3"
  },
  "colab": {
   "provenance": []
  },
  "widgets": {
   "application/vnd.jupyter.widget-state+json": {
    "959c6691175346e8addf75bef10a7f75": {
     "model_module": "@jupyter-widgets/controls",
     "model_name": "HBoxModel",
     "model_module_version": "1.5.0",
     "state": {
      "_dom_classes": [],
      "_model_module": "@jupyter-widgets/controls",
      "_model_module_version": "1.5.0",
      "_model_name": "HBoxModel",
      "_view_count": null,
      "_view_module": "@jupyter-widgets/controls",
      "_view_module_version": "1.5.0",
      "_view_name": "HBoxView",
      "box_style": "",
      "children": [
       "IPY_MODEL_86dc8bf3578341ee97c7d9e0ce1b5789",
       "IPY_MODEL_a976df90ef6448c5a92c6949a15031f8",
       "IPY_MODEL_6226947ea49b43d5901e2754eea12d38"
      ],
      "layout": "IPY_MODEL_047cba7f61ef4ae896104ce72ac5bb91"
     }
    },
    "86dc8bf3578341ee97c7d9e0ce1b5789": {
     "model_module": "@jupyter-widgets/controls",
     "model_name": "HTMLModel",
     "model_module_version": "1.5.0",
     "state": {
      "_dom_classes": [],
      "_model_module": "@jupyter-widgets/controls",
      "_model_module_version": "1.5.0",
      "_model_name": "HTMLModel",
      "_view_count": null,
      "_view_module": "@jupyter-widgets/controls",
      "_view_module_version": "1.5.0",
      "_view_name": "HTMLView",
      "description": "",
      "description_tooltip": null,
      "layout": "IPY_MODEL_fb1b1c6a2c1049ce925244c3995d2200",
      "placeholder": "​",
      "style": "IPY_MODEL_bf83e5a3684c45e6a2021151932cd400",
      "value": "config.json: 100%"
     }
    },
    "a976df90ef6448c5a92c6949a15031f8": {
     "model_module": "@jupyter-widgets/controls",
     "model_name": "FloatProgressModel",
     "model_module_version": "1.5.0",
     "state": {
      "_dom_classes": [],
      "_model_module": "@jupyter-widgets/controls",
      "_model_module_version": "1.5.0",
      "_model_name": "FloatProgressModel",
      "_view_count": null,
      "_view_module": "@jupyter-widgets/controls",
      "_view_module_version": "1.5.0",
      "_view_name": "ProgressView",
      "bar_style": "success",
      "description": "",
      "description_tooltip": null,
      "layout": "IPY_MODEL_470fa38c382c49b3aa4eb5e63bbaee23",
      "max": 1924,
      "min": 0,
      "orientation": "horizontal",
      "style": "IPY_MODEL_a16a0b73aed444b38824141bb38d1720",
      "value": 1924
     }
    },
    "6226947ea49b43d5901e2754eea12d38": {
     "model_module": "@jupyter-widgets/controls",
     "model_name": "HTMLModel",
     "model_module_version": "1.5.0",
     "state": {
      "_dom_classes": [],
      "_model_module": "@jupyter-widgets/controls",
      "_model_module_version": "1.5.0",
      "_model_name": "HTMLModel",
      "_view_count": null,
      "_view_module": "@jupyter-widgets/controls",
      "_view_module_version": "1.5.0",
      "_view_name": "HTMLView",
      "description": "",
      "description_tooltip": null,
      "layout": "IPY_MODEL_c7609cceae3345928b3cab2c174d7094",
      "placeholder": "​",
      "style": "IPY_MODEL_83aa211eddc1409abdb31fdcf4ad9bba",
      "value": " 1.92k/1.92k [00:00&lt;00:00, 57.8kB/s]"
     }
    },
    "047cba7f61ef4ae896104ce72ac5bb91": {
     "model_module": "@jupyter-widgets/base",
     "model_name": "LayoutModel",
     "model_module_version": "1.2.0",
     "state": {
      "_model_module": "@jupyter-widgets/base",
      "_model_module_version": "1.2.0",
      "_model_name": "LayoutModel",
      "_view_count": null,
      "_view_module": "@jupyter-widgets/base",
      "_view_module_version": "1.2.0",
      "_view_name": "LayoutView",
      "align_content": null,
      "align_items": null,
      "align_self": null,
      "border": null,
      "bottom": null,
      "display": null,
      "flex": null,
      "flex_flow": null,
      "grid_area": null,
      "grid_auto_columns": null,
      "grid_auto_flow": null,
      "grid_auto_rows": null,
      "grid_column": null,
      "grid_gap": null,
      "grid_row": null,
      "grid_template_areas": null,
      "grid_template_columns": null,
      "grid_template_rows": null,
      "height": null,
      "justify_content": null,
      "justify_items": null,
      "left": null,
      "margin": null,
      "max_height": null,
      "max_width": null,
      "min_height": null,
      "min_width": null,
      "object_fit": null,
      "object_position": null,
      "order": null,
      "overflow": null,
      "overflow_x": null,
      "overflow_y": null,
      "padding": null,
      "right": null,
      "top": null,
      "visibility": null,
      "width": null
     }
    },
    "fb1b1c6a2c1049ce925244c3995d2200": {
     "model_module": "@jupyter-widgets/base",
     "model_name": "LayoutModel",
     "model_module_version": "1.2.0",
     "state": {
      "_model_module": "@jupyter-widgets/base",
      "_model_module_version": "1.2.0",
      "_model_name": "LayoutModel",
      "_view_count": null,
      "_view_module": "@jupyter-widgets/base",
      "_view_module_version": "1.2.0",
      "_view_name": "LayoutView",
      "align_content": null,
      "align_items": null,
      "align_self": null,
      "border": null,
      "bottom": null,
      "display": null,
      "flex": null,
      "flex_flow": null,
      "grid_area": null,
      "grid_auto_columns": null,
      "grid_auto_flow": null,
      "grid_auto_rows": null,
      "grid_column": null,
      "grid_gap": null,
      "grid_row": null,
      "grid_template_areas": null,
      "grid_template_columns": null,
      "grid_template_rows": null,
      "height": null,
      "justify_content": null,
      "justify_items": null,
      "left": null,
      "margin": null,
      "max_height": null,
      "max_width": null,
      "min_height": null,
      "min_width": null,
      "object_fit": null,
      "object_position": null,
      "order": null,
      "overflow": null,
      "overflow_x": null,
      "overflow_y": null,
      "padding": null,
      "right": null,
      "top": null,
      "visibility": null,
      "width": null
     }
    },
    "bf83e5a3684c45e6a2021151932cd400": {
     "model_module": "@jupyter-widgets/controls",
     "model_name": "DescriptionStyleModel",
     "model_module_version": "1.5.0",
     "state": {
      "_model_module": "@jupyter-widgets/controls",
      "_model_module_version": "1.5.0",
      "_model_name": "DescriptionStyleModel",
      "_view_count": null,
      "_view_module": "@jupyter-widgets/base",
      "_view_module_version": "1.2.0",
      "_view_name": "StyleView",
      "description_width": ""
     }
    },
    "470fa38c382c49b3aa4eb5e63bbaee23": {
     "model_module": "@jupyter-widgets/base",
     "model_name": "LayoutModel",
     "model_module_version": "1.2.0",
     "state": {
      "_model_module": "@jupyter-widgets/base",
      "_model_module_version": "1.2.0",
      "_model_name": "LayoutModel",
      "_view_count": null,
      "_view_module": "@jupyter-widgets/base",
      "_view_module_version": "1.2.0",
      "_view_name": "LayoutView",
      "align_content": null,
      "align_items": null,
      "align_self": null,
      "border": null,
      "bottom": null,
      "display": null,
      "flex": null,
      "flex_flow": null,
      "grid_area": null,
      "grid_auto_columns": null,
      "grid_auto_flow": null,
      "grid_auto_rows": null,
      "grid_column": null,
      "grid_gap": null,
      "grid_row": null,
      "grid_template_areas": null,
      "grid_template_columns": null,
      "grid_template_rows": null,
      "height": null,
      "justify_content": null,
      "justify_items": null,
      "left": null,
      "margin": null,
      "max_height": null,
      "max_width": null,
      "min_height": null,
      "min_width": null,
      "object_fit": null,
      "object_position": null,
      "order": null,
      "overflow": null,
      "overflow_x": null,
      "overflow_y": null,
      "padding": null,
      "right": null,
      "top": null,
      "visibility": null,
      "width": null
     }
    },
    "a16a0b73aed444b38824141bb38d1720": {
     "model_module": "@jupyter-widgets/controls",
     "model_name": "ProgressStyleModel",
     "model_module_version": "1.5.0",
     "state": {
      "_model_module": "@jupyter-widgets/controls",
      "_model_module_version": "1.5.0",
      "_model_name": "ProgressStyleModel",
      "_view_count": null,
      "_view_module": "@jupyter-widgets/base",
      "_view_module_version": "1.2.0",
      "_view_name": "StyleView",
      "bar_color": null,
      "description_width": ""
     }
    },
    "c7609cceae3345928b3cab2c174d7094": {
     "model_module": "@jupyter-widgets/base",
     "model_name": "LayoutModel",
     "model_module_version": "1.2.0",
     "state": {
      "_model_module": "@jupyter-widgets/base",
      "_model_module_version": "1.2.0",
      "_model_name": "LayoutModel",
      "_view_count": null,
      "_view_module": "@jupyter-widgets/base",
      "_view_module_version": "1.2.0",
      "_view_name": "LayoutView",
      "align_content": null,
      "align_items": null,
      "align_self": null,
      "border": null,
      "bottom": null,
      "display": null,
      "flex": null,
      "flex_flow": null,
      "grid_area": null,
      "grid_auto_columns": null,
      "grid_auto_flow": null,
      "grid_auto_rows": null,
      "grid_column": null,
      "grid_gap": null,
      "grid_row": null,
      "grid_template_areas": null,
      "grid_template_columns": null,
      "grid_template_rows": null,
      "height": null,
      "justify_content": null,
      "justify_items": null,
      "left": null,
      "margin": null,
      "max_height": null,
      "max_width": null,
      "min_height": null,
      "min_width": null,
      "object_fit": null,
      "object_position": null,
      "order": null,
      "overflow": null,
      "overflow_x": null,
      "overflow_y": null,
      "padding": null,
      "right": null,
      "top": null,
      "visibility": null,
      "width": null
     }
    },
    "83aa211eddc1409abdb31fdcf4ad9bba": {
     "model_module": "@jupyter-widgets/controls",
     "model_name": "DescriptionStyleModel",
     "model_module_version": "1.5.0",
     "state": {
      "_model_module": "@jupyter-widgets/controls",
      "_model_module_version": "1.5.0",
      "_model_name": "DescriptionStyleModel",
      "_view_count": null,
      "_view_module": "@jupyter-widgets/base",
      "_view_module_version": "1.2.0",
      "_view_name": "StyleView",
      "description_width": ""
     }
    },
    "f3415991dce64be298d4d0457e83d150": {
     "model_module": "@jupyter-widgets/controls",
     "model_name": "HBoxModel",
     "model_module_version": "1.5.0",
     "state": {
      "_dom_classes": [],
      "_model_module": "@jupyter-widgets/controls",
      "_model_module_version": "1.5.0",
      "_model_name": "HBoxModel",
      "_view_count": null,
      "_view_module": "@jupyter-widgets/controls",
      "_view_module_version": "1.5.0",
      "_view_name": "HBoxView",
      "box_style": "",
      "children": [
       "IPY_MODEL_092b487af90c4e7ab23b00c2caf61db7",
       "IPY_MODEL_bf4f1761da324a7aae8f15e8e1c8a7cc",
       "IPY_MODEL_b71de34db6454f2cb3365cd041f48730"
      ],
      "layout": "IPY_MODEL_fb615645cb69456dba26749060297264"
     }
    },
    "092b487af90c4e7ab23b00c2caf61db7": {
     "model_module": "@jupyter-widgets/controls",
     "model_name": "HTMLModel",
     "model_module_version": "1.5.0",
     "state": {
      "_dom_classes": [],
      "_model_module": "@jupyter-widgets/controls",
      "_model_module_version": "1.5.0",
      "_model_name": "HTMLModel",
      "_view_count": null,
      "_view_module": "@jupyter-widgets/controls",
      "_view_module_version": "1.5.0",
      "_view_name": "HTMLView",
      "description": "",
      "description_tooltip": null,
      "layout": "IPY_MODEL_db2cf1c57bca42f080e982f69741c4e6",
      "placeholder": "​",
      "style": "IPY_MODEL_2f7f980db4944d849c54c570ec236204",
      "value": "model.safetensors: 100%"
     }
    },
    "bf4f1761da324a7aae8f15e8e1c8a7cc": {
     "model_module": "@jupyter-widgets/controls",
     "model_name": "FloatProgressModel",
     "model_module_version": "1.5.0",
     "state": {
      "_dom_classes": [],
      "_model_module": "@jupyter-widgets/controls",
      "_model_module_version": "1.5.0",
      "_model_name": "FloatProgressModel",
      "_view_count": null,
      "_view_module": "@jupyter-widgets/controls",
      "_view_module_version": "1.5.0",
      "_view_name": "ProgressView",
      "bar_style": "success",
      "description": "",
      "description_tooltip": null,
      "layout": "IPY_MODEL_7e786e52000342538f32aeb0c785fdde",
      "max": 498697004,
      "min": 0,
      "orientation": "horizontal",
      "style": "IPY_MODEL_38cf53807eff48f08dd5f6f3f0711ba6",
      "value": 498697004
     }
    },
    "b71de34db6454f2cb3365cd041f48730": {
     "model_module": "@jupyter-widgets/controls",
     "model_name": "HTMLModel",
     "model_module_version": "1.5.0",
     "state": {
      "_dom_classes": [],
      "_model_module": "@jupyter-widgets/controls",
      "_model_module_version": "1.5.0",
      "_model_name": "HTMLModel",
      "_view_count": null,
      "_view_module": "@jupyter-widgets/controls",
      "_view_module_version": "1.5.0",
      "_view_name": "HTMLView",
      "description": "",
      "description_tooltip": null,
      "layout": "IPY_MODEL_6973968c266240d98a9857cb4595ff17",
      "placeholder": "​",
      "style": "IPY_MODEL_74fdc823185b4d249a5d8568eb96b1ff",
      "value": " 499M/499M [00:04&lt;00:00, 119MB/s]"
     }
    },
    "fb615645cb69456dba26749060297264": {
     "model_module": "@jupyter-widgets/base",
     "model_name": "LayoutModel",
     "model_module_version": "1.2.0",
     "state": {
      "_model_module": "@jupyter-widgets/base",
      "_model_module_version": "1.2.0",
      "_model_name": "LayoutModel",
      "_view_count": null,
      "_view_module": "@jupyter-widgets/base",
      "_view_module_version": "1.2.0",
      "_view_name": "LayoutView",
      "align_content": null,
      "align_items": null,
      "align_self": null,
      "border": null,
      "bottom": null,
      "display": null,
      "flex": null,
      "flex_flow": null,
      "grid_area": null,
      "grid_auto_columns": null,
      "grid_auto_flow": null,
      "grid_auto_rows": null,
      "grid_column": null,
      "grid_gap": null,
      "grid_row": null,
      "grid_template_areas": null,
      "grid_template_columns": null,
      "grid_template_rows": null,
      "height": null,
      "justify_content": null,
      "justify_items": null,
      "left": null,
      "margin": null,
      "max_height": null,
      "max_width": null,
      "min_height": null,
      "min_width": null,
      "object_fit": null,
      "object_position": null,
      "order": null,
      "overflow": null,
      "overflow_x": null,
      "overflow_y": null,
      "padding": null,
      "right": null,
      "top": null,
      "visibility": null,
      "width": null
     }
    },
    "db2cf1c57bca42f080e982f69741c4e6": {
     "model_module": "@jupyter-widgets/base",
     "model_name": "LayoutModel",
     "model_module_version": "1.2.0",
     "state": {
      "_model_module": "@jupyter-widgets/base",
      "_model_module_version": "1.2.0",
      "_model_name": "LayoutModel",
      "_view_count": null,
      "_view_module": "@jupyter-widgets/base",
      "_view_module_version": "1.2.0",
      "_view_name": "LayoutView",
      "align_content": null,
      "align_items": null,
      "align_self": null,
      "border": null,
      "bottom": null,
      "display": null,
      "flex": null,
      "flex_flow": null,
      "grid_area": null,
      "grid_auto_columns": null,
      "grid_auto_flow": null,
      "grid_auto_rows": null,
      "grid_column": null,
      "grid_gap": null,
      "grid_row": null,
      "grid_template_areas": null,
      "grid_template_columns": null,
      "grid_template_rows": null,
      "height": null,
      "justify_content": null,
      "justify_items": null,
      "left": null,
      "margin": null,
      "max_height": null,
      "max_width": null,
      "min_height": null,
      "min_width": null,
      "object_fit": null,
      "object_position": null,
      "order": null,
      "overflow": null,
      "overflow_x": null,
      "overflow_y": null,
      "padding": null,
      "right": null,
      "top": null,
      "visibility": null,
      "width": null
     }
    },
    "2f7f980db4944d849c54c570ec236204": {
     "model_module": "@jupyter-widgets/controls",
     "model_name": "DescriptionStyleModel",
     "model_module_version": "1.5.0",
     "state": {
      "_model_module": "@jupyter-widgets/controls",
      "_model_module_version": "1.5.0",
      "_model_name": "DescriptionStyleModel",
      "_view_count": null,
      "_view_module": "@jupyter-widgets/base",
      "_view_module_version": "1.2.0",
      "_view_name": "StyleView",
      "description_width": ""
     }
    },
    "7e786e52000342538f32aeb0c785fdde": {
     "model_module": "@jupyter-widgets/base",
     "model_name": "LayoutModel",
     "model_module_version": "1.2.0",
     "state": {
      "_model_module": "@jupyter-widgets/base",
      "_model_module_version": "1.2.0",
      "_model_name": "LayoutModel",
      "_view_count": null,
      "_view_module": "@jupyter-widgets/base",
      "_view_module_version": "1.2.0",
      "_view_name": "LayoutView",
      "align_content": null,
      "align_items": null,
      "align_self": null,
      "border": null,
      "bottom": null,
      "display": null,
      "flex": null,
      "flex_flow": null,
      "grid_area": null,
      "grid_auto_columns": null,
      "grid_auto_flow": null,
      "grid_auto_rows": null,
      "grid_column": null,
      "grid_gap": null,
      "grid_row": null,
      "grid_template_areas": null,
      "grid_template_columns": null,
      "grid_template_rows": null,
      "height": null,
      "justify_content": null,
      "justify_items": null,
      "left": null,
      "margin": null,
      "max_height": null,
      "max_width": null,
      "min_height": null,
      "min_width": null,
      "object_fit": null,
      "object_position": null,
      "order": null,
      "overflow": null,
      "overflow_x": null,
      "overflow_y": null,
      "padding": null,
      "right": null,
      "top": null,
      "visibility": null,
      "width": null
     }
    },
    "38cf53807eff48f08dd5f6f3f0711ba6": {
     "model_module": "@jupyter-widgets/controls",
     "model_name": "ProgressStyleModel",
     "model_module_version": "1.5.0",
     "state": {
      "_model_module": "@jupyter-widgets/controls",
      "_model_module_version": "1.5.0",
      "_model_name": "ProgressStyleModel",
      "_view_count": null,
      "_view_module": "@jupyter-widgets/base",
      "_view_module_version": "1.2.0",
      "_view_name": "StyleView",
      "bar_color": null,
      "description_width": ""
     }
    },
    "6973968c266240d98a9857cb4595ff17": {
     "model_module": "@jupyter-widgets/base",
     "model_name": "LayoutModel",
     "model_module_version": "1.2.0",
     "state": {
      "_model_module": "@jupyter-widgets/base",
      "_model_module_version": "1.2.0",
      "_model_name": "LayoutModel",
      "_view_count": null,
      "_view_module": "@jupyter-widgets/base",
      "_view_module_version": "1.2.0",
      "_view_name": "LayoutView",
      "align_content": null,
      "align_items": null,
      "align_self": null,
      "border": null,
      "bottom": null,
      "display": null,
      "flex": null,
      "flex_flow": null,
      "grid_area": null,
      "grid_auto_columns": null,
      "grid_auto_flow": null,
      "grid_auto_rows": null,
      "grid_column": null,
      "grid_gap": null,
      "grid_row": null,
      "grid_template_areas": null,
      "grid_template_columns": null,
      "grid_template_rows": null,
      "height": null,
      "justify_content": null,
      "justify_items": null,
      "left": null,
      "margin": null,
      "max_height": null,
      "max_width": null,
      "min_height": null,
      "min_width": null,
      "object_fit": null,
      "object_position": null,
      "order": null,
      "overflow": null,
      "overflow_x": null,
      "overflow_y": null,
      "padding": null,
      "right": null,
      "top": null,
      "visibility": null,
      "width": null
     }
    },
    "74fdc823185b4d249a5d8568eb96b1ff": {
     "model_module": "@jupyter-widgets/controls",
     "model_name": "DescriptionStyleModel",
     "model_module_version": "1.5.0",
     "state": {
      "_model_module": "@jupyter-widgets/controls",
      "_model_module_version": "1.5.0",
      "_model_name": "DescriptionStyleModel",
      "_view_count": null,
      "_view_module": "@jupyter-widgets/base",
      "_view_module_version": "1.2.0",
      "_view_name": "StyleView",
      "description_width": ""
     }
    },
    "9f7c2e0d7fd444d7abf15e8c69de69f1": {
     "model_module": "@jupyter-widgets/controls",
     "model_name": "HBoxModel",
     "model_module_version": "1.5.0",
     "state": {
      "_dom_classes": [],
      "_model_module": "@jupyter-widgets/controls",
      "_model_module_version": "1.5.0",
      "_model_name": "HBoxModel",
      "_view_count": null,
      "_view_module": "@jupyter-widgets/controls",
      "_view_module_version": "1.5.0",
      "_view_name": "HBoxView",
      "box_style": "",
      "children": [
       "IPY_MODEL_3e7265c5b295477690685e2e733e2123",
       "IPY_MODEL_5e2709389767432ebfaf2e08c766ed4e",
       "IPY_MODEL_fbecc4a67df94ca2aee1e045f802464c"
      ],
      "layout": "IPY_MODEL_98bd9039163c4616b7054fcfc229c6f9"
     }
    },
    "3e7265c5b295477690685e2e733e2123": {
     "model_module": "@jupyter-widgets/controls",
     "model_name": "HTMLModel",
     "model_module_version": "1.5.0",
     "state": {
      "_dom_classes": [],
      "_model_module": "@jupyter-widgets/controls",
      "_model_module_version": "1.5.0",
      "_model_name": "HTMLModel",
      "_view_count": null,
      "_view_module": "@jupyter-widgets/controls",
      "_view_module_version": "1.5.0",
      "_view_name": "HTMLView",
      "description": "",
      "description_tooltip": null,
      "layout": "IPY_MODEL_281bb041c88649349d9e65671abd5738",
      "placeholder": "​",
      "style": "IPY_MODEL_25d4bcdb695b459c96410ca1b3b529db",
      "value": "tokenizer_config.json: 100%"
     }
    },
    "5e2709389767432ebfaf2e08c766ed4e": {
     "model_module": "@jupyter-widgets/controls",
     "model_name": "FloatProgressModel",
     "model_module_version": "1.5.0",
     "state": {
      "_dom_classes": [],
      "_model_module": "@jupyter-widgets/controls",
      "_model_module_version": "1.5.0",
      "_model_name": "FloatProgressModel",
      "_view_count": null,
      "_view_module": "@jupyter-widgets/controls",
      "_view_module_version": "1.5.0",
      "_view_name": "ProgressView",
      "bar_style": "success",
      "description": "",
      "description_tooltip": null,
      "layout": "IPY_MODEL_3ae4bf8d6bf44435be08263bcd104c9f",
      "max": 380,
      "min": 0,
      "orientation": "horizontal",
      "style": "IPY_MODEL_ad977bd7c28b4fabbb08ea489d3ed15e",
      "value": 380
     }
    },
    "fbecc4a67df94ca2aee1e045f802464c": {
     "model_module": "@jupyter-widgets/controls",
     "model_name": "HTMLModel",
     "model_module_version": "1.5.0",
     "state": {
      "_dom_classes": [],
      "_model_module": "@jupyter-widgets/controls",
      "_model_module_version": "1.5.0",
      "_model_name": "HTMLModel",
      "_view_count": null,
      "_view_module": "@jupyter-widgets/controls",
      "_view_module_version": "1.5.0",
      "_view_name": "HTMLView",
      "description": "",
      "description_tooltip": null,
      "layout": "IPY_MODEL_09088e7afcb4411aaf6de7e96246cf42",
      "placeholder": "​",
      "style": "IPY_MODEL_d9c4c350f1a74ac8b34883ec509763f6",
      "value": " 380/380 [00:00&lt;00:00, 20.6kB/s]"
     }
    },
    "98bd9039163c4616b7054fcfc229c6f9": {
     "model_module": "@jupyter-widgets/base",
     "model_name": "LayoutModel",
     "model_module_version": "1.2.0",
     "state": {
      "_model_module": "@jupyter-widgets/base",
      "_model_module_version": "1.2.0",
      "_model_name": "LayoutModel",
      "_view_count": null,
      "_view_module": "@jupyter-widgets/base",
      "_view_module_version": "1.2.0",
      "_view_name": "LayoutView",
      "align_content": null,
      "align_items": null,
      "align_self": null,
      "border": null,
      "bottom": null,
      "display": null,
      "flex": null,
      "flex_flow": null,
      "grid_area": null,
      "grid_auto_columns": null,
      "grid_auto_flow": null,
      "grid_auto_rows": null,
      "grid_column": null,
      "grid_gap": null,
      "grid_row": null,
      "grid_template_areas": null,
      "grid_template_columns": null,
      "grid_template_rows": null,
      "height": null,
      "justify_content": null,
      "justify_items": null,
      "left": null,
      "margin": null,
      "max_height": null,
      "max_width": null,
      "min_height": null,
      "min_width": null,
      "object_fit": null,
      "object_position": null,
      "order": null,
      "overflow": null,
      "overflow_x": null,
      "overflow_y": null,
      "padding": null,
      "right": null,
      "top": null,
      "visibility": null,
      "width": null
     }
    },
    "281bb041c88649349d9e65671abd5738": {
     "model_module": "@jupyter-widgets/base",
     "model_name": "LayoutModel",
     "model_module_version": "1.2.0",
     "state": {
      "_model_module": "@jupyter-widgets/base",
      "_model_module_version": "1.2.0",
      "_model_name": "LayoutModel",
      "_view_count": null,
      "_view_module": "@jupyter-widgets/base",
      "_view_module_version": "1.2.0",
      "_view_name": "LayoutView",
      "align_content": null,
      "align_items": null,
      "align_self": null,
      "border": null,
      "bottom": null,
      "display": null,
      "flex": null,
      "flex_flow": null,
      "grid_area": null,
      "grid_auto_columns": null,
      "grid_auto_flow": null,
      "grid_auto_rows": null,
      "grid_column": null,
      "grid_gap": null,
      "grid_row": null,
      "grid_template_areas": null,
      "grid_template_columns": null,
      "grid_template_rows": null,
      "height": null,
      "justify_content": null,
      "justify_items": null,
      "left": null,
      "margin": null,
      "max_height": null,
      "max_width": null,
      "min_height": null,
      "min_width": null,
      "object_fit": null,
      "object_position": null,
      "order": null,
      "overflow": null,
      "overflow_x": null,
      "overflow_y": null,
      "padding": null,
      "right": null,
      "top": null,
      "visibility": null,
      "width": null
     }
    },
    "25d4bcdb695b459c96410ca1b3b529db": {
     "model_module": "@jupyter-widgets/controls",
     "model_name": "DescriptionStyleModel",
     "model_module_version": "1.5.0",
     "state": {
      "_model_module": "@jupyter-widgets/controls",
      "_model_module_version": "1.5.0",
      "_model_name": "DescriptionStyleModel",
      "_view_count": null,
      "_view_module": "@jupyter-widgets/base",
      "_view_module_version": "1.2.0",
      "_view_name": "StyleView",
      "description_width": ""
     }
    },
    "3ae4bf8d6bf44435be08263bcd104c9f": {
     "model_module": "@jupyter-widgets/base",
     "model_name": "LayoutModel",
     "model_module_version": "1.2.0",
     "state": {
      "_model_module": "@jupyter-widgets/base",
      "_model_module_version": "1.2.0",
      "_model_name": "LayoutModel",
      "_view_count": null,
      "_view_module": "@jupyter-widgets/base",
      "_view_module_version": "1.2.0",
      "_view_name": "LayoutView",
      "align_content": null,
      "align_items": null,
      "align_self": null,
      "border": null,
      "bottom": null,
      "display": null,
      "flex": null,
      "flex_flow": null,
      "grid_area": null,
      "grid_auto_columns": null,
      "grid_auto_flow": null,
      "grid_auto_rows": null,
      "grid_column": null,
      "grid_gap": null,
      "grid_row": null,
      "grid_template_areas": null,
      "grid_template_columns": null,
      "grid_template_rows": null,
      "height": null,
      "justify_content": null,
      "justify_items": null,
      "left": null,
      "margin": null,
      "max_height": null,
      "max_width": null,
      "min_height": null,
      "min_width": null,
      "object_fit": null,
      "object_position": null,
      "order": null,
      "overflow": null,
      "overflow_x": null,
      "overflow_y": null,
      "padding": null,
      "right": null,
      "top": null,
      "visibility": null,
      "width": null
     }
    },
    "ad977bd7c28b4fabbb08ea489d3ed15e": {
     "model_module": "@jupyter-widgets/controls",
     "model_name": "ProgressStyleModel",
     "model_module_version": "1.5.0",
     "state": {
      "_model_module": "@jupyter-widgets/controls",
      "_model_module_version": "1.5.0",
      "_model_name": "ProgressStyleModel",
      "_view_count": null,
      "_view_module": "@jupyter-widgets/base",
      "_view_module_version": "1.2.0",
      "_view_name": "StyleView",
      "bar_color": null,
      "description_width": ""
     }
    },
    "09088e7afcb4411aaf6de7e96246cf42": {
     "model_module": "@jupyter-widgets/base",
     "model_name": "LayoutModel",
     "model_module_version": "1.2.0",
     "state": {
      "_model_module": "@jupyter-widgets/base",
      "_model_module_version": "1.2.0",
      "_model_name": "LayoutModel",
      "_view_count": null,
      "_view_module": "@jupyter-widgets/base",
      "_view_module_version": "1.2.0",
      "_view_name": "LayoutView",
      "align_content": null,
      "align_items": null,
      "align_self": null,
      "border": null,
      "bottom": null,
      "display": null,
      "flex": null,
      "flex_flow": null,
      "grid_area": null,
      "grid_auto_columns": null,
      "grid_auto_flow": null,
      "grid_auto_rows": null,
      "grid_column": null,
      "grid_gap": null,
      "grid_row": null,
      "grid_template_areas": null,
      "grid_template_columns": null,
      "grid_template_rows": null,
      "height": null,
      "justify_content": null,
      "justify_items": null,
      "left": null,
      "margin": null,
      "max_height": null,
      "max_width": null,
      "min_height": null,
      "min_width": null,
      "object_fit": null,
      "object_position": null,
      "order": null,
      "overflow": null,
      "overflow_x": null,
      "overflow_y": null,
      "padding": null,
      "right": null,
      "top": null,
      "visibility": null,
      "width": null
     }
    },
    "d9c4c350f1a74ac8b34883ec509763f6": {
     "model_module": "@jupyter-widgets/controls",
     "model_name": "DescriptionStyleModel",
     "model_module_version": "1.5.0",
     "state": {
      "_model_module": "@jupyter-widgets/controls",
      "_model_module_version": "1.5.0",
      "_model_name": "DescriptionStyleModel",
      "_view_count": null,
      "_view_module": "@jupyter-widgets/base",
      "_view_module_version": "1.2.0",
      "_view_name": "StyleView",
      "description_width": ""
     }
    },
    "5ec09c82729e40ec95dfa6f12b5ddbb7": {
     "model_module": "@jupyter-widgets/controls",
     "model_name": "HBoxModel",
     "model_module_version": "1.5.0",
     "state": {
      "_dom_classes": [],
      "_model_module": "@jupyter-widgets/controls",
      "_model_module_version": "1.5.0",
      "_model_name": "HBoxModel",
      "_view_count": null,
      "_view_module": "@jupyter-widgets/controls",
      "_view_module_version": "1.5.0",
      "_view_name": "HBoxView",
      "box_style": "",
      "children": [
       "IPY_MODEL_bad68ab03a2946efba62905fba40db69",
       "IPY_MODEL_47e51305a0e744b3b4498af70d1ded8f",
       "IPY_MODEL_ec023df1b40b4f869694992dddfe230c"
      ],
      "layout": "IPY_MODEL_83f9199532e04e71a9d510d2dcfef33a"
     }
    },
    "bad68ab03a2946efba62905fba40db69": {
     "model_module": "@jupyter-widgets/controls",
     "model_name": "HTMLModel",
     "model_module_version": "1.5.0",
     "state": {
      "_dom_classes": [],
      "_model_module": "@jupyter-widgets/controls",
      "_model_module_version": "1.5.0",
      "_model_name": "HTMLModel",
      "_view_count": null,
      "_view_module": "@jupyter-widgets/controls",
      "_view_module_version": "1.5.0",
      "_view_name": "HTMLView",
      "description": "",
      "description_tooltip": null,
      "layout": "IPY_MODEL_1a4dc34965e4406e86953775da213e60",
      "placeholder": "​",
      "style": "IPY_MODEL_43a67cf6547947088dc91bdd33503a6e",
      "value": "vocab.json: 100%"
     }
    },
    "47e51305a0e744b3b4498af70d1ded8f": {
     "model_module": "@jupyter-widgets/controls",
     "model_name": "FloatProgressModel",
     "model_module_version": "1.5.0",
     "state": {
      "_dom_classes": [],
      "_model_module": "@jupyter-widgets/controls",
      "_model_module_version": "1.5.0",
      "_model_name": "FloatProgressModel",
      "_view_count": null,
      "_view_module": "@jupyter-widgets/controls",
      "_view_module_version": "1.5.0",
      "_view_name": "ProgressView",
      "bar_style": "success",
      "description": "",
      "description_tooltip": null,
      "layout": "IPY_MODEL_ddc40386f5ce46af8b4e3ded2bdf36fc",
      "max": 798293,
      "min": 0,
      "orientation": "horizontal",
      "style": "IPY_MODEL_94f675db8c2f4071b4113e613f06b251",
      "value": 798293
     }
    },
    "ec023df1b40b4f869694992dddfe230c": {
     "model_module": "@jupyter-widgets/controls",
     "model_name": "HTMLModel",
     "model_module_version": "1.5.0",
     "state": {
      "_dom_classes": [],
      "_model_module": "@jupyter-widgets/controls",
      "_model_module_version": "1.5.0",
      "_model_name": "HTMLModel",
      "_view_count": null,
      "_view_module": "@jupyter-widgets/controls",
      "_view_module_version": "1.5.0",
      "_view_name": "HTMLView",
      "description": "",
      "description_tooltip": null,
      "layout": "IPY_MODEL_9987fa281b8a4960827b57d33f73f3ae",
      "placeholder": "​",
      "style": "IPY_MODEL_1a97b15b44ab46ee8420fefa32c49173",
      "value": " 798k/798k [00:00&lt;00:00, 15.2MB/s]"
     }
    },
    "83f9199532e04e71a9d510d2dcfef33a": {
     "model_module": "@jupyter-widgets/base",
     "model_name": "LayoutModel",
     "model_module_version": "1.2.0",
     "state": {
      "_model_module": "@jupyter-widgets/base",
      "_model_module_version": "1.2.0",
      "_model_name": "LayoutModel",
      "_view_count": null,
      "_view_module": "@jupyter-widgets/base",
      "_view_module_version": "1.2.0",
      "_view_name": "LayoutView",
      "align_content": null,
      "align_items": null,
      "align_self": null,
      "border": null,
      "bottom": null,
      "display": null,
      "flex": null,
      "flex_flow": null,
      "grid_area": null,
      "grid_auto_columns": null,
      "grid_auto_flow": null,
      "grid_auto_rows": null,
      "grid_column": null,
      "grid_gap": null,
      "grid_row": null,
      "grid_template_areas": null,
      "grid_template_columns": null,
      "grid_template_rows": null,
      "height": null,
      "justify_content": null,
      "justify_items": null,
      "left": null,
      "margin": null,
      "max_height": null,
      "max_width": null,
      "min_height": null,
      "min_width": null,
      "object_fit": null,
      "object_position": null,
      "order": null,
      "overflow": null,
      "overflow_x": null,
      "overflow_y": null,
      "padding": null,
      "right": null,
      "top": null,
      "visibility": null,
      "width": null
     }
    },
    "1a4dc34965e4406e86953775da213e60": {
     "model_module": "@jupyter-widgets/base",
     "model_name": "LayoutModel",
     "model_module_version": "1.2.0",
     "state": {
      "_model_module": "@jupyter-widgets/base",
      "_model_module_version": "1.2.0",
      "_model_name": "LayoutModel",
      "_view_count": null,
      "_view_module": "@jupyter-widgets/base",
      "_view_module_version": "1.2.0",
      "_view_name": "LayoutView",
      "align_content": null,
      "align_items": null,
      "align_self": null,
      "border": null,
      "bottom": null,
      "display": null,
      "flex": null,
      "flex_flow": null,
      "grid_area": null,
      "grid_auto_columns": null,
      "grid_auto_flow": null,
      "grid_auto_rows": null,
      "grid_column": null,
      "grid_gap": null,
      "grid_row": null,
      "grid_template_areas": null,
      "grid_template_columns": null,
      "grid_template_rows": null,
      "height": null,
      "justify_content": null,
      "justify_items": null,
      "left": null,
      "margin": null,
      "max_height": null,
      "max_width": null,
      "min_height": null,
      "min_width": null,
      "object_fit": null,
      "object_position": null,
      "order": null,
      "overflow": null,
      "overflow_x": null,
      "overflow_y": null,
      "padding": null,
      "right": null,
      "top": null,
      "visibility": null,
      "width": null
     }
    },
    "43a67cf6547947088dc91bdd33503a6e": {
     "model_module": "@jupyter-widgets/controls",
     "model_name": "DescriptionStyleModel",
     "model_module_version": "1.5.0",
     "state": {
      "_model_module": "@jupyter-widgets/controls",
      "_model_module_version": "1.5.0",
      "_model_name": "DescriptionStyleModel",
      "_view_count": null,
      "_view_module": "@jupyter-widgets/base",
      "_view_module_version": "1.2.0",
      "_view_name": "StyleView",
      "description_width": ""
     }
    },
    "ddc40386f5ce46af8b4e3ded2bdf36fc": {
     "model_module": "@jupyter-widgets/base",
     "model_name": "LayoutModel",
     "model_module_version": "1.2.0",
     "state": {
      "_model_module": "@jupyter-widgets/base",
      "_model_module_version": "1.2.0",
      "_model_name": "LayoutModel",
      "_view_count": null,
      "_view_module": "@jupyter-widgets/base",
      "_view_module_version": "1.2.0",
      "_view_name": "LayoutView",
      "align_content": null,
      "align_items": null,
      "align_self": null,
      "border": null,
      "bottom": null,
      "display": null,
      "flex": null,
      "flex_flow": null,
      "grid_area": null,
      "grid_auto_columns": null,
      "grid_auto_flow": null,
      "grid_auto_rows": null,
      "grid_column": null,
      "grid_gap": null,
      "grid_row": null,
      "grid_template_areas": null,
      "grid_template_columns": null,
      "grid_template_rows": null,
      "height": null,
      "justify_content": null,
      "justify_items": null,
      "left": null,
      "margin": null,
      "max_height": null,
      "max_width": null,
      "min_height": null,
      "min_width": null,
      "object_fit": null,
      "object_position": null,
      "order": null,
      "overflow": null,
      "overflow_x": null,
      "overflow_y": null,
      "padding": null,
      "right": null,
      "top": null,
      "visibility": null,
      "width": null
     }
    },
    "94f675db8c2f4071b4113e613f06b251": {
     "model_module": "@jupyter-widgets/controls",
     "model_name": "ProgressStyleModel",
     "model_module_version": "1.5.0",
     "state": {
      "_model_module": "@jupyter-widgets/controls",
      "_model_module_version": "1.5.0",
      "_model_name": "ProgressStyleModel",
      "_view_count": null,
      "_view_module": "@jupyter-widgets/base",
      "_view_module_version": "1.2.0",
      "_view_name": "StyleView",
      "bar_color": null,
      "description_width": ""
     }
    },
    "9987fa281b8a4960827b57d33f73f3ae": {
     "model_module": "@jupyter-widgets/base",
     "model_name": "LayoutModel",
     "model_module_version": "1.2.0",
     "state": {
      "_model_module": "@jupyter-widgets/base",
      "_model_module_version": "1.2.0",
      "_model_name": "LayoutModel",
      "_view_count": null,
      "_view_module": "@jupyter-widgets/base",
      "_view_module_version": "1.2.0",
      "_view_name": "LayoutView",
      "align_content": null,
      "align_items": null,
      "align_self": null,
      "border": null,
      "bottom": null,
      "display": null,
      "flex": null,
      "flex_flow": null,
      "grid_area": null,
      "grid_auto_columns": null,
      "grid_auto_flow": null,
      "grid_auto_rows": null,
      "grid_column": null,
      "grid_gap": null,
      "grid_row": null,
      "grid_template_areas": null,
      "grid_template_columns": null,
      "grid_template_rows": null,
      "height": null,
      "justify_content": null,
      "justify_items": null,
      "left": null,
      "margin": null,
      "max_height": null,
      "max_width": null,
      "min_height": null,
      "min_width": null,
      "object_fit": null,
      "object_position": null,
      "order": null,
      "overflow": null,
      "overflow_x": null,
      "overflow_y": null,
      "padding": null,
      "right": null,
      "top": null,
      "visibility": null,
      "width": null
     }
    },
    "1a97b15b44ab46ee8420fefa32c49173": {
     "model_module": "@jupyter-widgets/controls",
     "model_name": "DescriptionStyleModel",
     "model_module_version": "1.5.0",
     "state": {
      "_model_module": "@jupyter-widgets/controls",
      "_model_module_version": "1.5.0",
      "_model_name": "DescriptionStyleModel",
      "_view_count": null,
      "_view_module": "@jupyter-widgets/base",
      "_view_module_version": "1.2.0",
      "_view_name": "StyleView",
      "description_width": ""
     }
    },
    "2b90c0ac96ae4f3088d80671dd20e41d": {
     "model_module": "@jupyter-widgets/controls",
     "model_name": "HBoxModel",
     "model_module_version": "1.5.0",
     "state": {
      "_dom_classes": [],
      "_model_module": "@jupyter-widgets/controls",
      "_model_module_version": "1.5.0",
      "_model_name": "HBoxModel",
      "_view_count": null,
      "_view_module": "@jupyter-widgets/controls",
      "_view_module_version": "1.5.0",
      "_view_name": "HBoxView",
      "box_style": "",
      "children": [
       "IPY_MODEL_52d6121886b64bc68dfcf956b5be53e1",
       "IPY_MODEL_4144dd3c5b32454190d94d90981b17a0",
       "IPY_MODEL_bf1ce5c85bc442599daa35a9d64fcc99"
      ],
      "layout": "IPY_MODEL_c65d356dd6f34b4c94560f7ea769b983"
     }
    },
    "52d6121886b64bc68dfcf956b5be53e1": {
     "model_module": "@jupyter-widgets/controls",
     "model_name": "HTMLModel",
     "model_module_version": "1.5.0",
     "state": {
      "_dom_classes": [],
      "_model_module": "@jupyter-widgets/controls",
      "_model_module_version": "1.5.0",
      "_model_name": "HTMLModel",
      "_view_count": null,
      "_view_module": "@jupyter-widgets/controls",
      "_view_module_version": "1.5.0",
      "_view_name": "HTMLView",
      "description": "",
      "description_tooltip": null,
      "layout": "IPY_MODEL_1e2d7481481f4bd0a9899bbd3b1789f5",
      "placeholder": "​",
      "style": "IPY_MODEL_6741f0eb4071435e9c5d91b37ed11619",
      "value": "merges.txt: 100%"
     }
    },
    "4144dd3c5b32454190d94d90981b17a0": {
     "model_module": "@jupyter-widgets/controls",
     "model_name": "FloatProgressModel",
     "model_module_version": "1.5.0",
     "state": {
      "_dom_classes": [],
      "_model_module": "@jupyter-widgets/controls",
      "_model_module_version": "1.5.0",
      "_model_name": "FloatProgressModel",
      "_view_count": null,
      "_view_module": "@jupyter-widgets/controls",
      "_view_module_version": "1.5.0",
      "_view_name": "ProgressView",
      "bar_style": "success",
      "description": "",
      "description_tooltip": null,
      "layout": "IPY_MODEL_a71d8b69b15f4b538ebe226b5c7a4969",
      "max": 456356,
      "min": 0,
      "orientation": "horizontal",
      "style": "IPY_MODEL_aa768941ee0643ae85cac83c19e72194",
      "value": 456356
     }
    },
    "bf1ce5c85bc442599daa35a9d64fcc99": {
     "model_module": "@jupyter-widgets/controls",
     "model_name": "HTMLModel",
     "model_module_version": "1.5.0",
     "state": {
      "_dom_classes": [],
      "_model_module": "@jupyter-widgets/controls",
      "_model_module_version": "1.5.0",
      "_model_name": "HTMLModel",
      "_view_count": null,
      "_view_module": "@jupyter-widgets/controls",
      "_view_module_version": "1.5.0",
      "_view_name": "HTMLView",
      "description": "",
      "description_tooltip": null,
      "layout": "IPY_MODEL_05fc2d72be3944e786a8157f44fbbbe8",
      "placeholder": "​",
      "style": "IPY_MODEL_28df06ed87a84d458c76bfe67ecb3665",
      "value": " 456k/456k [00:00&lt;00:00, 21.8MB/s]"
     }
    },
    "c65d356dd6f34b4c94560f7ea769b983": {
     "model_module": "@jupyter-widgets/base",
     "model_name": "LayoutModel",
     "model_module_version": "1.2.0",
     "state": {
      "_model_module": "@jupyter-widgets/base",
      "_model_module_version": "1.2.0",
      "_model_name": "LayoutModel",
      "_view_count": null,
      "_view_module": "@jupyter-widgets/base",
      "_view_module_version": "1.2.0",
      "_view_name": "LayoutView",
      "align_content": null,
      "align_items": null,
      "align_self": null,
      "border": null,
      "bottom": null,
      "display": null,
      "flex": null,
      "flex_flow": null,
      "grid_area": null,
      "grid_auto_columns": null,
      "grid_auto_flow": null,
      "grid_auto_rows": null,
      "grid_column": null,
      "grid_gap": null,
      "grid_row": null,
      "grid_template_areas": null,
      "grid_template_columns": null,
      "grid_template_rows": null,
      "height": null,
      "justify_content": null,
      "justify_items": null,
      "left": null,
      "margin": null,
      "max_height": null,
      "max_width": null,
      "min_height": null,
      "min_width": null,
      "object_fit": null,
      "object_position": null,
      "order": null,
      "overflow": null,
      "overflow_x": null,
      "overflow_y": null,
      "padding": null,
      "right": null,
      "top": null,
      "visibility": null,
      "width": null
     }
    },
    "1e2d7481481f4bd0a9899bbd3b1789f5": {
     "model_module": "@jupyter-widgets/base",
     "model_name": "LayoutModel",
     "model_module_version": "1.2.0",
     "state": {
      "_model_module": "@jupyter-widgets/base",
      "_model_module_version": "1.2.0",
      "_model_name": "LayoutModel",
      "_view_count": null,
      "_view_module": "@jupyter-widgets/base",
      "_view_module_version": "1.2.0",
      "_view_name": "LayoutView",
      "align_content": null,
      "align_items": null,
      "align_self": null,
      "border": null,
      "bottom": null,
      "display": null,
      "flex": null,
      "flex_flow": null,
      "grid_area": null,
      "grid_auto_columns": null,
      "grid_auto_flow": null,
      "grid_auto_rows": null,
      "grid_column": null,
      "grid_gap": null,
      "grid_row": null,
      "grid_template_areas": null,
      "grid_template_columns": null,
      "grid_template_rows": null,
      "height": null,
      "justify_content": null,
      "justify_items": null,
      "left": null,
      "margin": null,
      "max_height": null,
      "max_width": null,
      "min_height": null,
      "min_width": null,
      "object_fit": null,
      "object_position": null,
      "order": null,
      "overflow": null,
      "overflow_x": null,
      "overflow_y": null,
      "padding": null,
      "right": null,
      "top": null,
      "visibility": null,
      "width": null
     }
    },
    "6741f0eb4071435e9c5d91b37ed11619": {
     "model_module": "@jupyter-widgets/controls",
     "model_name": "DescriptionStyleModel",
     "model_module_version": "1.5.0",
     "state": {
      "_model_module": "@jupyter-widgets/controls",
      "_model_module_version": "1.5.0",
      "_model_name": "DescriptionStyleModel",
      "_view_count": null,
      "_view_module": "@jupyter-widgets/base",
      "_view_module_version": "1.2.0",
      "_view_name": "StyleView",
      "description_width": ""
     }
    },
    "a71d8b69b15f4b538ebe226b5c7a4969": {
     "model_module": "@jupyter-widgets/base",
     "model_name": "LayoutModel",
     "model_module_version": "1.2.0",
     "state": {
      "_model_module": "@jupyter-widgets/base",
      "_model_module_version": "1.2.0",
      "_model_name": "LayoutModel",
      "_view_count": null,
      "_view_module": "@jupyter-widgets/base",
      "_view_module_version": "1.2.0",
      "_view_name": "LayoutView",
      "align_content": null,
      "align_items": null,
      "align_self": null,
      "border": null,
      "bottom": null,
      "display": null,
      "flex": null,
      "flex_flow": null,
      "grid_area": null,
      "grid_auto_columns": null,
      "grid_auto_flow": null,
      "grid_auto_rows": null,
      "grid_column": null,
      "grid_gap": null,
      "grid_row": null,
      "grid_template_areas": null,
      "grid_template_columns": null,
      "grid_template_rows": null,
      "height": null,
      "justify_content": null,
      "justify_items": null,
      "left": null,
      "margin": null,
      "max_height": null,
      "max_width": null,
      "min_height": null,
      "min_width": null,
      "object_fit": null,
      "object_position": null,
      "order": null,
      "overflow": null,
      "overflow_x": null,
      "overflow_y": null,
      "padding": null,
      "right": null,
      "top": null,
      "visibility": null,
      "width": null
     }
    },
    "aa768941ee0643ae85cac83c19e72194": {
     "model_module": "@jupyter-widgets/controls",
     "model_name": "ProgressStyleModel",
     "model_module_version": "1.5.0",
     "state": {
      "_model_module": "@jupyter-widgets/controls",
      "_model_module_version": "1.5.0",
      "_model_name": "ProgressStyleModel",
      "_view_count": null,
      "_view_module": "@jupyter-widgets/base",
      "_view_module_version": "1.2.0",
      "_view_name": "StyleView",
      "bar_color": null,
      "description_width": ""
     }
    },
    "05fc2d72be3944e786a8157f44fbbbe8": {
     "model_module": "@jupyter-widgets/base",
     "model_name": "LayoutModel",
     "model_module_version": "1.2.0",
     "state": {
      "_model_module": "@jupyter-widgets/base",
      "_model_module_version": "1.2.0",
      "_model_name": "LayoutModel",
      "_view_count": null,
      "_view_module": "@jupyter-widgets/base",
      "_view_module_version": "1.2.0",
      "_view_name": "LayoutView",
      "align_content": null,
      "align_items": null,
      "align_self": null,
      "border": null,
      "bottom": null,
      "display": null,
      "flex": null,
      "flex_flow": null,
      "grid_area": null,
      "grid_auto_columns": null,
      "grid_auto_flow": null,
      "grid_auto_rows": null,
      "grid_column": null,
      "grid_gap": null,
      "grid_row": null,
      "grid_template_areas": null,
      "grid_template_columns": null,
      "grid_template_rows": null,
      "height": null,
      "justify_content": null,
      "justify_items": null,
      "left": null,
      "margin": null,
      "max_height": null,
      "max_width": null,
      "min_height": null,
      "min_width": null,
      "object_fit": null,
      "object_position": null,
      "order": null,
      "overflow": null,
      "overflow_x": null,
      "overflow_y": null,
      "padding": null,
      "right": null,
      "top": null,
      "visibility": null,
      "width": null
     }
    },
    "28df06ed87a84d458c76bfe67ecb3665": {
     "model_module": "@jupyter-widgets/controls",
     "model_name": "DescriptionStyleModel",
     "model_module_version": "1.5.0",
     "state": {
      "_model_module": "@jupyter-widgets/controls",
      "_model_module_version": "1.5.0",
      "_model_name": "DescriptionStyleModel",
      "_view_count": null,
      "_view_module": "@jupyter-widgets/base",
      "_view_module_version": "1.2.0",
      "_view_name": "StyleView",
      "description_width": ""
     }
    },
    "93061ac8e9d1496f98f61899ed243803": {
     "model_module": "@jupyter-widgets/controls",
     "model_name": "HBoxModel",
     "model_module_version": "1.5.0",
     "state": {
      "_dom_classes": [],
      "_model_module": "@jupyter-widgets/controls",
      "_model_module_version": "1.5.0",
      "_model_name": "HBoxModel",
      "_view_count": null,
      "_view_module": "@jupyter-widgets/controls",
      "_view_module_version": "1.5.0",
      "_view_name": "HBoxView",
      "box_style": "",
      "children": [
       "IPY_MODEL_bcc78db4b2cd420090f55042a4bb7eca",
       "IPY_MODEL_e53f4782266b40f2b2804ee64578a0b9",
       "IPY_MODEL_b543612be687402493ab8d6119f160dd"
      ],
      "layout": "IPY_MODEL_ddbdba23481f49869ed23e48546a4269"
     }
    },
    "bcc78db4b2cd420090f55042a4bb7eca": {
     "model_module": "@jupyter-widgets/controls",
     "model_name": "HTMLModel",
     "model_module_version": "1.5.0",
     "state": {
      "_dom_classes": [],
      "_model_module": "@jupyter-widgets/controls",
      "_model_module_version": "1.5.0",
      "_model_name": "HTMLModel",
      "_view_count": null,
      "_view_module": "@jupyter-widgets/controls",
      "_view_module_version": "1.5.0",
      "_view_name": "HTMLView",
      "description": "",
      "description_tooltip": null,
      "layout": "IPY_MODEL_336975c366344d009ea8fc7c0a2e1bf8",
      "placeholder": "​",
      "style": "IPY_MODEL_e5a565f2117a401c9599080ba880fd84",
      "value": "tokenizer.json: 100%"
     }
    },
    "e53f4782266b40f2b2804ee64578a0b9": {
     "model_module": "@jupyter-widgets/controls",
     "model_name": "FloatProgressModel",
     "model_module_version": "1.5.0",
     "state": {
      "_dom_classes": [],
      "_model_module": "@jupyter-widgets/controls",
      "_model_module_version": "1.5.0",
      "_model_name": "FloatProgressModel",
      "_view_count": null,
      "_view_module": "@jupyter-widgets/controls",
      "_view_module_version": "1.5.0",
      "_view_name": "ProgressView",
      "bar_style": "success",
      "description": "",
      "description_tooltip": null,
      "layout": "IPY_MODEL_9584e69e288d4ff0a881fdedf96f1e26",
      "max": 2108856,
      "min": 0,
      "orientation": "horizontal",
      "style": "IPY_MODEL_5dd72ac50da244af9be310b34cfb4730",
      "value": 2108856
     }
    },
    "b543612be687402493ab8d6119f160dd": {
     "model_module": "@jupyter-widgets/controls",
     "model_name": "HTMLModel",
     "model_module_version": "1.5.0",
     "state": {
      "_dom_classes": [],
      "_model_module": "@jupyter-widgets/controls",
      "_model_module_version": "1.5.0",
      "_model_name": "HTMLModel",
      "_view_count": null,
      "_view_module": "@jupyter-widgets/controls",
      "_view_module_version": "1.5.0",
      "_view_name": "HTMLView",
      "description": "",
      "description_tooltip": null,
      "layout": "IPY_MODEL_64c0ba94e44c4daba5d837adcade3ba0",
      "placeholder": "​",
      "style": "IPY_MODEL_fa2b690898784750b8453f9baae6b859",
      "value": " 2.11M/2.11M [00:00&lt;00:00, 6.51MB/s]"
     }
    },
    "ddbdba23481f49869ed23e48546a4269": {
     "model_module": "@jupyter-widgets/base",
     "model_name": "LayoutModel",
     "model_module_version": "1.2.0",
     "state": {
      "_model_module": "@jupyter-widgets/base",
      "_model_module_version": "1.2.0",
      "_model_name": "LayoutModel",
      "_view_count": null,
      "_view_module": "@jupyter-widgets/base",
      "_view_module_version": "1.2.0",
      "_view_name": "LayoutView",
      "align_content": null,
      "align_items": null,
      "align_self": null,
      "border": null,
      "bottom": null,
      "display": null,
      "flex": null,
      "flex_flow": null,
      "grid_area": null,
      "grid_auto_columns": null,
      "grid_auto_flow": null,
      "grid_auto_rows": null,
      "grid_column": null,
      "grid_gap": null,
      "grid_row": null,
      "grid_template_areas": null,
      "grid_template_columns": null,
      "grid_template_rows": null,
      "height": null,
      "justify_content": null,
      "justify_items": null,
      "left": null,
      "margin": null,
      "max_height": null,
      "max_width": null,
      "min_height": null,
      "min_width": null,
      "object_fit": null,
      "object_position": null,
      "order": null,
      "overflow": null,
      "overflow_x": null,
      "overflow_y": null,
      "padding": null,
      "right": null,
      "top": null,
      "visibility": null,
      "width": null
     }
    },
    "336975c366344d009ea8fc7c0a2e1bf8": {
     "model_module": "@jupyter-widgets/base",
     "model_name": "LayoutModel",
     "model_module_version": "1.2.0",
     "state": {
      "_model_module": "@jupyter-widgets/base",
      "_model_module_version": "1.2.0",
      "_model_name": "LayoutModel",
      "_view_count": null,
      "_view_module": "@jupyter-widgets/base",
      "_view_module_version": "1.2.0",
      "_view_name": "LayoutView",
      "align_content": null,
      "align_items": null,
      "align_self": null,
      "border": null,
      "bottom": null,
      "display": null,
      "flex": null,
      "flex_flow": null,
      "grid_area": null,
      "grid_auto_columns": null,
      "grid_auto_flow": null,
      "grid_auto_rows": null,
      "grid_column": null,
      "grid_gap": null,
      "grid_row": null,
      "grid_template_areas": null,
      "grid_template_columns": null,
      "grid_template_rows": null,
      "height": null,
      "justify_content": null,
      "justify_items": null,
      "left": null,
      "margin": null,
      "max_height": null,
      "max_width": null,
      "min_height": null,
      "min_width": null,
      "object_fit": null,
      "object_position": null,
      "order": null,
      "overflow": null,
      "overflow_x": null,
      "overflow_y": null,
      "padding": null,
      "right": null,
      "top": null,
      "visibility": null,
      "width": null
     }
    },
    "e5a565f2117a401c9599080ba880fd84": {
     "model_module": "@jupyter-widgets/controls",
     "model_name": "DescriptionStyleModel",
     "model_module_version": "1.5.0",
     "state": {
      "_model_module": "@jupyter-widgets/controls",
      "_model_module_version": "1.5.0",
      "_model_name": "DescriptionStyleModel",
      "_view_count": null,
      "_view_module": "@jupyter-widgets/base",
      "_view_module_version": "1.2.0",
      "_view_name": "StyleView",
      "description_width": ""
     }
    },
    "9584e69e288d4ff0a881fdedf96f1e26": {
     "model_module": "@jupyter-widgets/base",
     "model_name": "LayoutModel",
     "model_module_version": "1.2.0",
     "state": {
      "_model_module": "@jupyter-widgets/base",
      "_model_module_version": "1.2.0",
      "_model_name": "LayoutModel",
      "_view_count": null,
      "_view_module": "@jupyter-widgets/base",
      "_view_module_version": "1.2.0",
      "_view_name": "LayoutView",
      "align_content": null,
      "align_items": null,
      "align_self": null,
      "border": null,
      "bottom": null,
      "display": null,
      "flex": null,
      "flex_flow": null,
      "grid_area": null,
      "grid_auto_columns": null,
      "grid_auto_flow": null,
      "grid_auto_rows": null,
      "grid_column": null,
      "grid_gap": null,
      "grid_row": null,
      "grid_template_areas": null,
      "grid_template_columns": null,
      "grid_template_rows": null,
      "height": null,
      "justify_content": null,
      "justify_items": null,
      "left": null,
      "margin": null,
      "max_height": null,
      "max_width": null,
      "min_height": null,
      "min_width": null,
      "object_fit": null,
      "object_position": null,
      "order": null,
      "overflow": null,
      "overflow_x": null,
      "overflow_y": null,
      "padding": null,
      "right": null,
      "top": null,
      "visibility": null,
      "width": null
     }
    },
    "5dd72ac50da244af9be310b34cfb4730": {
     "model_module": "@jupyter-widgets/controls",
     "model_name": "ProgressStyleModel",
     "model_module_version": "1.5.0",
     "state": {
      "_model_module": "@jupyter-widgets/controls",
      "_model_module_version": "1.5.0",
      "_model_name": "ProgressStyleModel",
      "_view_count": null,
      "_view_module": "@jupyter-widgets/base",
      "_view_module_version": "1.2.0",
      "_view_name": "StyleView",
      "bar_color": null,
      "description_width": ""
     }
    },
    "64c0ba94e44c4daba5d837adcade3ba0": {
     "model_module": "@jupyter-widgets/base",
     "model_name": "LayoutModel",
     "model_module_version": "1.2.0",
     "state": {
      "_model_module": "@jupyter-widgets/base",
      "_model_module_version": "1.2.0",
      "_model_name": "LayoutModel",
      "_view_count": null,
      "_view_module": "@jupyter-widgets/base",
      "_view_module_version": "1.2.0",
      "_view_name": "LayoutView",
      "align_content": null,
      "align_items": null,
      "align_self": null,
      "border": null,
      "bottom": null,
      "display": null,
      "flex": null,
      "flex_flow": null,
      "grid_area": null,
      "grid_auto_columns": null,
      "grid_auto_flow": null,
      "grid_auto_rows": null,
      "grid_column": null,
      "grid_gap": null,
      "grid_row": null,
      "grid_template_areas": null,
      "grid_template_columns": null,
      "grid_template_rows": null,
      "height": null,
      "justify_content": null,
      "justify_items": null,
      "left": null,
      "margin": null,
      "max_height": null,
      "max_width": null,
      "min_height": null,
      "min_width": null,
      "object_fit": null,
      "object_position": null,
      "order": null,
      "overflow": null,
      "overflow_x": null,
      "overflow_y": null,
      "padding": null,
      "right": null,
      "top": null,
      "visibility": null,
      "width": null
     }
    },
    "fa2b690898784750b8453f9baae6b859": {
     "model_module": "@jupyter-widgets/controls",
     "model_name": "DescriptionStyleModel",
     "model_module_version": "1.5.0",
     "state": {
      "_model_module": "@jupyter-widgets/controls",
      "_model_module_version": "1.5.0",
      "_model_name": "DescriptionStyleModel",
      "_view_count": null,
      "_view_module": "@jupyter-widgets/base",
      "_view_module_version": "1.2.0",
      "_view_name": "StyleView",
      "description_width": ""
     }
    },
    "1298ee09d21249f6974e57b7982984d1": {
     "model_module": "@jupyter-widgets/controls",
     "model_name": "HBoxModel",
     "model_module_version": "1.5.0",
     "state": {
      "_dom_classes": [],
      "_model_module": "@jupyter-widgets/controls",
      "_model_module_version": "1.5.0",
      "_model_name": "HBoxModel",
      "_view_count": null,
      "_view_module": "@jupyter-widgets/controls",
      "_view_module_version": "1.5.0",
      "_view_name": "HBoxView",
      "box_style": "",
      "children": [
       "IPY_MODEL_adec287df4db442f85ac9741d7af5bdd",
       "IPY_MODEL_883688281c024555ae8a807dc0cd400c",
       "IPY_MODEL_9a3faf1d4a87474aa14186db2f069fc4"
      ],
      "layout": "IPY_MODEL_cdc7ae8241e34528a44010f98c0c5624"
     }
    },
    "adec287df4db442f85ac9741d7af5bdd": {
     "model_module": "@jupyter-widgets/controls",
     "model_name": "HTMLModel",
     "model_module_version": "1.5.0",
     "state": {
      "_dom_classes": [],
      "_model_module": "@jupyter-widgets/controls",
      "_model_module_version": "1.5.0",
      "_model_name": "HTMLModel",
      "_view_count": null,
      "_view_module": "@jupyter-widgets/controls",
      "_view_module_version": "1.5.0",
      "_view_name": "HTMLView",
      "description": "",
      "description_tooltip": null,
      "layout": "IPY_MODEL_2570116308a847c78266eafb2aa2a47d",
      "placeholder": "​",
      "style": "IPY_MODEL_71f22e0351574879a3e7d4c673d27b78",
      "value": "special_tokens_map.json: 100%"
     }
    },
    "883688281c024555ae8a807dc0cd400c": {
     "model_module": "@jupyter-widgets/controls",
     "model_name": "FloatProgressModel",
     "model_module_version": "1.5.0",
     "state": {
      "_dom_classes": [],
      "_model_module": "@jupyter-widgets/controls",
      "_model_module_version": "1.5.0",
      "_model_name": "FloatProgressModel",
      "_view_count": null,
      "_view_module": "@jupyter-widgets/controls",
      "_view_module_version": "1.5.0",
      "_view_name": "ProgressView",
      "bar_style": "success",
      "description": "",
      "description_tooltip": null,
      "layout": "IPY_MODEL_9c002fbfd8a7436c9c2e64f89aa69bdb",
      "max": 280,
      "min": 0,
      "orientation": "horizontal",
      "style": "IPY_MODEL_c1de4c9dc15346488bdbeab05c0ba617",
      "value": 280
     }
    },
    "9a3faf1d4a87474aa14186db2f069fc4": {
     "model_module": "@jupyter-widgets/controls",
     "model_name": "HTMLModel",
     "model_module_version": "1.5.0",
     "state": {
      "_dom_classes": [],
      "_model_module": "@jupyter-widgets/controls",
      "_model_module_version": "1.5.0",
      "_model_name": "HTMLModel",
      "_view_count": null,
      "_view_module": "@jupyter-widgets/controls",
      "_view_module_version": "1.5.0",
      "_view_name": "HTMLView",
      "description": "",
      "description_tooltip": null,
      "layout": "IPY_MODEL_ef6523afbae34bd48cce37e6aed88216",
      "placeholder": "​",
      "style": "IPY_MODEL_e06c40837ade4839a9ab8d855d0dff22",
      "value": " 280/280 [00:00&lt;00:00, 15.5kB/s]"
     }
    },
    "cdc7ae8241e34528a44010f98c0c5624": {
     "model_module": "@jupyter-widgets/base",
     "model_name": "LayoutModel",
     "model_module_version": "1.2.0",
     "state": {
      "_model_module": "@jupyter-widgets/base",
      "_model_module_version": "1.2.0",
      "_model_name": "LayoutModel",
      "_view_count": null,
      "_view_module": "@jupyter-widgets/base",
      "_view_module_version": "1.2.0",
      "_view_name": "LayoutView",
      "align_content": null,
      "align_items": null,
      "align_self": null,
      "border": null,
      "bottom": null,
      "display": null,
      "flex": null,
      "flex_flow": null,
      "grid_area": null,
      "grid_auto_columns": null,
      "grid_auto_flow": null,
      "grid_auto_rows": null,
      "grid_column": null,
      "grid_gap": null,
      "grid_row": null,
      "grid_template_areas": null,
      "grid_template_columns": null,
      "grid_template_rows": null,
      "height": null,
      "justify_content": null,
      "justify_items": null,
      "left": null,
      "margin": null,
      "max_height": null,
      "max_width": null,
      "min_height": null,
      "min_width": null,
      "object_fit": null,
      "object_position": null,
      "order": null,
      "overflow": null,
      "overflow_x": null,
      "overflow_y": null,
      "padding": null,
      "right": null,
      "top": null,
      "visibility": null,
      "width": null
     }
    },
    "2570116308a847c78266eafb2aa2a47d": {
     "model_module": "@jupyter-widgets/base",
     "model_name": "LayoutModel",
     "model_module_version": "1.2.0",
     "state": {
      "_model_module": "@jupyter-widgets/base",
      "_model_module_version": "1.2.0",
      "_model_name": "LayoutModel",
      "_view_count": null,
      "_view_module": "@jupyter-widgets/base",
      "_view_module_version": "1.2.0",
      "_view_name": "LayoutView",
      "align_content": null,
      "align_items": null,
      "align_self": null,
      "border": null,
      "bottom": null,
      "display": null,
      "flex": null,
      "flex_flow": null,
      "grid_area": null,
      "grid_auto_columns": null,
      "grid_auto_flow": null,
      "grid_auto_rows": null,
      "grid_column": null,
      "grid_gap": null,
      "grid_row": null,
      "grid_template_areas": null,
      "grid_template_columns": null,
      "grid_template_rows": null,
      "height": null,
      "justify_content": null,
      "justify_items": null,
      "left": null,
      "margin": null,
      "max_height": null,
      "max_width": null,
      "min_height": null,
      "min_width": null,
      "object_fit": null,
      "object_position": null,
      "order": null,
      "overflow": null,
      "overflow_x": null,
      "overflow_y": null,
      "padding": null,
      "right": null,
      "top": null,
      "visibility": null,
      "width": null
     }
    },
    "71f22e0351574879a3e7d4c673d27b78": {
     "model_module": "@jupyter-widgets/controls",
     "model_name": "DescriptionStyleModel",
     "model_module_version": "1.5.0",
     "state": {
      "_model_module": "@jupyter-widgets/controls",
      "_model_module_version": "1.5.0",
      "_model_name": "DescriptionStyleModel",
      "_view_count": null,
      "_view_module": "@jupyter-widgets/base",
      "_view_module_version": "1.2.0",
      "_view_name": "StyleView",
      "description_width": ""
     }
    },
    "9c002fbfd8a7436c9c2e64f89aa69bdb": {
     "model_module": "@jupyter-widgets/base",
     "model_name": "LayoutModel",
     "model_module_version": "1.2.0",
     "state": {
      "_model_module": "@jupyter-widgets/base",
      "_model_module_version": "1.2.0",
      "_model_name": "LayoutModel",
      "_view_count": null,
      "_view_module": "@jupyter-widgets/base",
      "_view_module_version": "1.2.0",
      "_view_name": "LayoutView",
      "align_content": null,
      "align_items": null,
      "align_self": null,
      "border": null,
      "bottom": null,
      "display": null,
      "flex": null,
      "flex_flow": null,
      "grid_area": null,
      "grid_auto_columns": null,
      "grid_auto_flow": null,
      "grid_auto_rows": null,
      "grid_column": null,
      "grid_gap": null,
      "grid_row": null,
      "grid_template_areas": null,
      "grid_template_columns": null,
      "grid_template_rows": null,
      "height": null,
      "justify_content": null,
      "justify_items": null,
      "left": null,
      "margin": null,
      "max_height": null,
      "max_width": null,
      "min_height": null,
      "min_width": null,
      "object_fit": null,
      "object_position": null,
      "order": null,
      "overflow": null,
      "overflow_x": null,
      "overflow_y": null,
      "padding": null,
      "right": null,
      "top": null,
      "visibility": null,
      "width": null
     }
    },
    "c1de4c9dc15346488bdbeab05c0ba617": {
     "model_module": "@jupyter-widgets/controls",
     "model_name": "ProgressStyleModel",
     "model_module_version": "1.5.0",
     "state": {
      "_model_module": "@jupyter-widgets/controls",
      "_model_module_version": "1.5.0",
      "_model_name": "ProgressStyleModel",
      "_view_count": null,
      "_view_module": "@jupyter-widgets/base",
      "_view_module_version": "1.2.0",
      "_view_name": "StyleView",
      "bar_color": null,
      "description_width": ""
     }
    },
    "ef6523afbae34bd48cce37e6aed88216": {
     "model_module": "@jupyter-widgets/base",
     "model_name": "LayoutModel",
     "model_module_version": "1.2.0",
     "state": {
      "_model_module": "@jupyter-widgets/base",
      "_model_module_version": "1.2.0",
      "_model_name": "LayoutModel",
      "_view_count": null,
      "_view_module": "@jupyter-widgets/base",
      "_view_module_version": "1.2.0",
      "_view_name": "LayoutView",
      "align_content": null,
      "align_items": null,
      "align_self": null,
      "border": null,
      "bottom": null,
      "display": null,
      "flex": null,
      "flex_flow": null,
      "grid_area": null,
      "grid_auto_columns": null,
      "grid_auto_flow": null,
      "grid_auto_rows": null,
      "grid_column": null,
      "grid_gap": null,
      "grid_row": null,
      "grid_template_areas": null,
      "grid_template_columns": null,
      "grid_template_rows": null,
      "height": null,
      "justify_content": null,
      "justify_items": null,
      "left": null,
      "margin": null,
      "max_height": null,
      "max_width": null,
      "min_height": null,
      "min_width": null,
      "object_fit": null,
      "object_position": null,
      "order": null,
      "overflow": null,
      "overflow_x": null,
      "overflow_y": null,
      "padding": null,
      "right": null,
      "top": null,
      "visibility": null,
      "width": null
     }
    },
    "e06c40837ade4839a9ab8d855d0dff22": {
     "model_module": "@jupyter-widgets/controls",
     "model_name": "DescriptionStyleModel",
     "model_module_version": "1.5.0",
     "state": {
      "_model_module": "@jupyter-widgets/controls",
      "_model_module_version": "1.5.0",
      "_model_name": "DescriptionStyleModel",
      "_view_count": null,
      "_view_module": "@jupyter-widgets/base",
      "_view_module_version": "1.2.0",
      "_view_name": "StyleView",
      "description_width": ""
     }
    }
   }
  }
 },
 "nbformat": 4,
 "nbformat_minor": 0
}
