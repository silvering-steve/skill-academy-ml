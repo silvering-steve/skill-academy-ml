{
 "cells": [
  {
   "cell_type": "markdown",
   "metadata": {
    "id": "Q27CUb781eS3"
   },
   "source": [
    "# Different input can lead to different path\n",
    "\n",
    "Below is a function `translate_text` that enable us to translate between two languages.\n"
   ]
  },
  {
   "cell_type": "code",
   "execution_count": 1,
   "metadata": {
    "colab": {
     "base_uri": "https://localhost:8080/"
    },
    "id": "Qbre39WQ1eS8",
    "outputId": "c47b54fc-7bda-4e06-cdd4-e0fd3c5cd143",
    "ExecuteTime": {
     "end_time": "2023-12-04T14:40:21.625200Z",
     "start_time": "2023-12-04T14:40:17.171989100Z"
    }
   },
   "outputs": [
    {
     "name": "stdout",
     "output_type": "stream",
     "text": [
      "Requirement already satisfied: transformers in c:\\users\\silve\\conda\\envs\\skill-academy-ml\\lib\\site-packages (4.35.2)\n",
      "Requirement already satisfied: sentencepiece in c:\\users\\silve\\conda\\envs\\skill-academy-ml\\lib\\site-packages (0.1.99)\n",
      "Requirement already satisfied: filelock in c:\\users\\silve\\conda\\envs\\skill-academy-ml\\lib\\site-packages (from transformers) (3.13.1)\n",
      "Requirement already satisfied: huggingface-hub<1.0,>=0.16.4 in c:\\users\\silve\\conda\\envs\\skill-academy-ml\\lib\\site-packages (from transformers) (0.19.4)\n",
      "Requirement already satisfied: numpy>=1.17 in c:\\users\\silve\\conda\\envs\\skill-academy-ml\\lib\\site-packages (from transformers) (1.26.2)\n",
      "Requirement already satisfied: packaging>=20.0 in c:\\users\\silve\\conda\\envs\\skill-academy-ml\\lib\\site-packages (from transformers) (23.2)\n",
      "Requirement already satisfied: pyyaml>=5.1 in c:\\users\\silve\\conda\\envs\\skill-academy-ml\\lib\\site-packages (from transformers) (6.0.1)\n",
      "Requirement already satisfied: regex!=2019.12.17 in c:\\users\\silve\\conda\\envs\\skill-academy-ml\\lib\\site-packages (from transformers) (2023.10.3)\n",
      "Requirement already satisfied: requests in c:\\users\\silve\\conda\\envs\\skill-academy-ml\\lib\\site-packages (from transformers) (2.31.0)\n",
      "Requirement already satisfied: tokenizers<0.19,>=0.14 in c:\\users\\silve\\conda\\envs\\skill-academy-ml\\lib\\site-packages (from transformers) (0.15.0)\n",
      "Requirement already satisfied: safetensors>=0.3.1 in c:\\users\\silve\\conda\\envs\\skill-academy-ml\\lib\\site-packages (from transformers) (0.4.1)\n",
      "Requirement already satisfied: tqdm>=4.27 in c:\\users\\silve\\conda\\envs\\skill-academy-ml\\lib\\site-packages (from transformers) (4.66.1)\n",
      "Requirement already satisfied: fsspec>=2023.5.0 in c:\\users\\silve\\conda\\envs\\skill-academy-ml\\lib\\site-packages (from huggingface-hub<1.0,>=0.16.4->transformers) (2023.12.0)\n",
      "Requirement already satisfied: typing-extensions>=3.7.4.3 in c:\\users\\silve\\conda\\envs\\skill-academy-ml\\lib\\site-packages (from huggingface-hub<1.0,>=0.16.4->transformers) (4.8.0)\n",
      "Requirement already satisfied: colorama in c:\\users\\silve\\conda\\envs\\skill-academy-ml\\lib\\site-packages (from tqdm>=4.27->transformers) (0.4.6)\n",
      "Requirement already satisfied: charset-normalizer<4,>=2 in c:\\users\\silve\\conda\\envs\\skill-academy-ml\\lib\\site-packages (from requests->transformers) (3.3.2)\n",
      "Requirement already satisfied: idna<4,>=2.5 in c:\\users\\silve\\conda\\envs\\skill-academy-ml\\lib\\site-packages (from requests->transformers) (3.6)\n",
      "Requirement already satisfied: urllib3<3,>=1.21.1 in c:\\users\\silve\\conda\\envs\\skill-academy-ml\\lib\\site-packages (from requests->transformers) (2.1.0)\n",
      "Requirement already satisfied: certifi>=2017.4.17 in c:\\users\\silve\\conda\\envs\\skill-academy-ml\\lib\\site-packages (from requests->transformers) (2023.11.17)\n",
      "Note: you may need to restart the kernel to use updated packages.\n"
     ]
    }
   ],
   "source": [
    "%pip install transformers sentencepiece\n",
    "from transformers import MBartForConditionalGeneration, MBart50TokenizerFast\n",
    "\n",
    "def translate_text(text, src_lang, tgt_lang):\n",
    "    # Load model and tokenizer\n",
    "    model = MBartForConditionalGeneration.from_pretrained('facebook/mbart-large-50-many-to-many-mmt')\n",
    "    tokenizer = MBart50TokenizerFast.from_pretrained('facebook/mbart-large-50-many-to-many-mmt')\n",
    "\n",
    "    # Apply the tokenizer to the input text, using the appropriate source and target language codes\n",
    "    tokenizer.src_lang = src_lang\n",
    "    encoded_text = tokenizer(text, return_tensors=\"pt\")\n",
    "\n",
    "    # Generate translation using the model\n",
    "    translated = model.generate(**encoded_text, forced_bos_token_id=tokenizer.lang_code_to_id[tgt_lang])\n",
    "\n",
    "    # Decode it and return the result\n",
    "    return tokenizer.batch_decode(translated, skip_special_tokens=True)[0]"
   ]
  },
  {
   "cell_type": "markdown",
   "metadata": {
    "id": "Is4vNSFh1eS9"
   },
   "source": [
    "There are several syntax that we haven't introduced yet, but let's only focus on what this `translate_text` function does:\n",
    "\n",
    "It takes a `text` argument (the text that we want to be translated), a `src_lang` argument (the language of the text), and a `tgt_lang` argument (the language that we want to translate to).\n",
    "\n",
    "Below are the available languages that we can use for `src_lang` and `tgt_lang`:\n",
    "\n",
    "```\n",
    "Arabic (ar_AR), Czech (cs_CZ), German (de_DE), English (en_XX), Spanish (es_XX), Estonian (et_EE), Finnish (fi_FI), French (fr_XX), Gujarati (gu_IN), Hindi (hi_IN), Italian (it_IT), Japanese (ja_XX), Kazakh (kk_KZ), Korean (ko_KR), Lithuanian (lt_LT), Latvian (lv_LV), Burmese (my_MM), Nepali (ne_NP), Dutch (nl_XX), Romanian (ro_RO), Russian (ru_RU), Sinhala (si_LK), Turkish (tr_TR), Vietnamese (vi_VN), Chinese (zh_CN), Afrikaans (af_ZA), Azerbaijani (az_AZ), Bengali (bn_IN), Persian (fa_IR), Hebrew (he_IL), Croatian (hr_HR), Indonesian (id_ID), Georgian (ka_GE), Khmer (km_KH), Macedonian (mk_MK), Malayalam (ml_IN), Mongolian (mn_MN), Marathi (mr_IN), Polish (pl_PL), Pashto (ps_AF), Portuguese (pt_XX), Swedish (sv_SE), Swahili (sw_KE), Tamil (ta_IN), Telugu (te_IN), Thai (th_TH), Tagalog (tl_XX), Ukrainian (uk_UA), Urdu (ur_PK), Xhosa (xh_ZA), Galician (gl_ES), Slovene (sl_SI)\n",
    "```\n",
    "\n",
    "Use the countries' code to specify the language. Let's try to have fun!\n"
   ]
  },
  {
   "cell_type": "code",
   "execution_count": 2,
   "metadata": {
    "colab": {
     "base_uri": "https://localhost:8080/",
     "height": 227,
     "referenced_widgets": [
      "f7fcb90e937b4bbebef2b5b23a47bb6f",
      "94ac1594497547b1a60a7631bd85cb0a",
      "0d775948562c441dafb58f0ed1e77ebb",
      "8ce57f6e490c4659a45fe6dbefea2e05",
      "2521d16254424cac8ea64f1562a461ed",
      "885e1894e352458491a3f73878323cf7",
      "4041c036dc714f598d4992b7c566d43e",
      "e8640e2eb3384f5ea18162fc2dec8181",
      "55d5d2c1634e4fcc929eaa5e93792f80",
      "1668d9b3300b4c3c986c78b7a9f7fd87",
      "77257c2d8dce4a8990e2e97b6b59cc50",
      "63df0161bbf24fb3a37304e1ce3d92ce",
      "09b2540216704dd0a713fc886df5bdaf",
      "e91fcf768805441a92b7dcf4cb8b815b",
      "efb3f4c82b174545b28a23d6e905b2fc",
      "9005dad6543c4405be5eb5c269b69638",
      "90d60add83c0451e853c0be4a6a0b111",
      "e1d4a642bce84a919cad59398d348272",
      "1f06b2f1aab044568a35fe8d3124c2e7",
      "7c999653443e430583e3c4dd0e50bf42",
      "8d0c1acf8c9547bda1412ee9b5235c27",
      "8c16fe9e12e94977ba251a32fcba1008",
      "901829a1a3004900a262653aac4d96f8",
      "e03bfb5506bc402c8013c2fee4e310a9",
      "fa8f265b2da148749a41b4a2f6051693",
      "27abf89fda76405c8801644be88c6980",
      "7694fda4f7ac4b2dbcd588990c88bc18",
      "738ccdce4c204a0aba22ec7c77e2f330",
      "e51e993a40e14705b6accb670a123a7b",
      "318cb93b0b3f4439be2b2fe40d8692e2",
      "fd6183b831c6460c8bafcc806bcad5c8",
      "c3ab6350f4fd474293b2de13cbdd49f3",
      "61151de432cd4beb94a11e32939edf06",
      "613149ef9a91491b99672a97c43d4781",
      "e7b6a84204a34f6597f094e77696484b",
      "3fdf42d01fa44052bfbe634967b21374",
      "7e5e361b8db54c7bb33322a5228d3616",
      "f87acdcd3db9443fad1094a40af8ce60",
      "4aca44d9eab7466ba854c48a8c53cfb1",
      "e3b00cf437c2464c8abf7e49eedade0f",
      "df77fe05608940619fe7354674bb1a2e",
      "0700d708d5a64484bfc3e92d5453c5f4",
      "41057aaf84144e96849d04b7a1c77c70",
      "fbd2aadadd794e778cf89cf6e4fa58a2",
      "e1b0ffd9faa04538bc688c300778a820",
      "41780be4b45b43fba47631e3b94bbe97",
      "4c19dc62279644879964bedb4fbd4bdd",
      "f4f13d82b56e4b529a57cfe4c07f318a",
      "028b8d5d1fa04092a1f230f898e41fd3",
      "534d26208fff4427820c093658f3573d",
      "bf638f3be6bd43258f3a73d480e793e5",
      "538f24ba79dc4c4fb92dbdb72b53ff57",
      "d96e2cd01e28494b96f92189ab0667ae",
      "77de3e572d49451b89810f43f34003d9",
      "baa7e9de0a8041c4aeaad3ebdbdaae7f",
      "d1fd23472bc64cbf902345d32d5e7e71",
      "a0610325dedb4a81ae54c43b191acb95",
      "504437deabd7463eaa10fcc99d44f4b0",
      "7459a36aa1434149a76bf5a486c7dafa",
      "d4d8f694d8f5462c9b759acb6848c993",
      "1b41e6fb5ecc468c9d296ba96685df36",
      "7875120bdd6a43ce804e7f3f6bb9aa64",
      "4cf2f599c5af4677aa5c404dd47371fe",
      "93e93c4c236c4414955e6d6ae4a32857",
      "13a3dde5818a4516bf15746fb2ee61b7",
      "366730b14bdc4b1e8b9783beec97bd1b"
     ]
    },
    "id": "lwILdyHU1eS-",
    "outputId": "31bbca45-1700-441a-b991-b6442aa4f37c",
    "ExecuteTime": {
     "end_time": "2023-12-04T14:40:39.883558500Z",
     "start_time": "2023-12-04T14:40:21.627173700Z"
    }
   },
   "outputs": [
    {
     "name": "stdout",
     "output_type": "stream",
     "text": [
      "Translated Text : دعونا نأكل في ذلك المطعم!\n"
     ]
    }
   ],
   "source": [
    "text = \"Let's eat at that restaurant!\"\n",
    "translated_text = translate_text(text, \"en_XX\", \"ar_AR\")\n",
    "print(\"Translated Text : \" + translated_text)"
   ]
  },
  {
   "cell_type": "markdown",
   "metadata": {
    "id": "Sw7CCzhd1eS-"
   },
   "source": [
    "# Challenge!"
   ]
  },
  {
   "cell_type": "markdown",
   "metadata": {
    "id": "yZ3DavWF1eS_"
   },
   "source": [
    "# Requirement alert 🚨🚨\n",
    "\n",
    "Our stakeholder want us to create a function that use that `translate_text` function, the input from the user isn't exactly like \"en_XX\" or \"id_ID\", but instead, it's \"English\" or \"Indonesia\".\n",
    "\n",
    "Oh no! How can we solve this problem?"
   ]
  },
  {
   "cell_type": "markdown",
   "metadata": {
    "id": "6qcfIPdx1eS_"
   },
   "source": [
    "# Conditional To The Rescue!\n",
    "\n",
    "Conditional is a way to make a decision based on a condition. It's like a different path that we can take based on certain condition."
   ]
  },
  {
   "cell_type": "code",
   "execution_count": 3,
   "metadata": {
    "colab": {
     "base_uri": "https://localhost:8080/"
    },
    "id": "jnr5e54K1eTA",
    "outputId": "5c4b846e-80db-4a42-eac4-7359cab41403",
    "ExecuteTime": {
     "end_time": "2023-12-04T14:40:39.903628Z",
     "start_time": "2023-12-04T14:40:39.885562200Z"
    }
   },
   "outputs": [
    {
     "name": "stdout",
     "output_type": "stream",
     "text": [
      "None\n"
     ]
    }
   ],
   "source": [
    "src_lang = \"Sunda\"\n",
    "src_code = None\n",
    "\n",
    "if src_lang == \"Indonesian\":\n",
    "    src_code = \"id_ID\"\n",
    "else:\n",
    "    src_code = None\n",
    "\n",
    "print(src_code)"
   ]
  },
  {
   "cell_type": "markdown",
   "metadata": {
    "id": "DF9M-hzi1eTB"
   },
   "source": [
    "As you can see above that we can create a simple conditional with `if` and `else` keyword. `==` is a comparison operator that will return `True` if the right value is equal to the left value, and `False` if it's not. More about `True` and `False` will be explained in later section.\n",
    "\n",
    "And as you can see above we learn another data type as well called `None`, which will prevent us to get an error if certain variable hasn't yet been defined."
   ]
  },
  {
   "cell_type": "code",
   "execution_count": 4,
   "metadata": {
    "id": "YdGo7krz1eTC",
    "ExecuteTime": {
     "end_time": "2023-12-04T14:40:39.959276600Z",
     "start_time": "2023-12-04T14:40:39.900624500Z"
    }
   },
   "outputs": [
    {
     "name": "stdout",
     "output_type": "stream",
     "text": [
      "Default\n"
     ]
    }
   ],
   "source": [
    "src_lang = \"English\"\n",
    "src_code = None\n",
    "\n",
    "if src_lang == \"Indonesian\":\n",
    "    src_code = \"id_ID\"\n",
    "else:\n",
    "    src_code = \"Default\"\n",
    "\n",
    "print(src_code)"
   ]
  },
  {
   "cell_type": "markdown",
   "metadata": {
    "id": "tLays6_S1eTC"
   },
   "source": [
    "Another common way is to add assignment to a default value if the condition is not fulfilled."
   ]
  },
  {
   "cell_type": "code",
   "execution_count": 5,
   "metadata": {
    "id": "E_GDhdC01eTD",
    "ExecuteTime": {
     "end_time": "2023-12-04T14:40:40.106802400Z",
     "start_time": "2023-12-04T14:40:39.918159400Z"
    }
   },
   "outputs": [
    {
     "ename": "NameError",
     "evalue": "name 'this_variable_is_not_defined' is not defined",
     "output_type": "error",
     "traceback": [
      "\u001B[1;31m---------------------------------------------------------------------------\u001B[0m",
      "\u001B[1;31mNameError\u001B[0m                                 Traceback (most recent call last)",
      "Cell \u001B[1;32mIn[5], line 1\u001B[0m\n\u001B[1;32m----> 1\u001B[0m \u001B[43mthis_variable_is_not_defined\u001B[49m\n",
      "\u001B[1;31mNameError\u001B[0m: name 'this_variable_is_not_defined' is not defined"
     ]
    }
   ],
   "source": [
    "this_variable_is_not_defined"
   ]
  },
  {
   "cell_type": "code",
   "execution_count": null,
   "metadata": {
    "id": "YGqQnSXw1eTD",
    "ExecuteTime": {
     "start_time": "2023-12-04T14:40:40.103799200Z"
    }
   },
   "outputs": [],
   "source": [
    "this_variable_is_not_defined = None\n",
    "this_variable_is_not_defined"
   ]
  },
  {
   "cell_type": "markdown",
   "metadata": {
    "id": "DPNMsHz91eTD"
   },
   "source": [
    "As you can see, using `None` will prevent us to have undefined variable error. It's a good practice to use `None` if we want to create a variable that we don't know the value yet or if the variable is sometimes intended to hold no value, this basically translated to: This variable is exist, but it doesn't have any value. In other programming language, lots of time this is called `null`."
   ]
  },
  {
   "cell_type": "markdown",
   "metadata": {
    "id": "tv5vXDAa1eTD"
   },
   "source": [
    "# Challenge"
   ]
  },
  {
   "cell_type": "markdown",
   "metadata": {
    "id": "t367mPOX1eTE"
   },
   "source": [
    "## Challenge 1\n",
    "\n",
    "Create a conditional that will assign `Great!` to `result` variable if the input is `I'm in love with Python!`, and assign `Oh no!` if the input is anything else."
   ]
  },
  {
   "cell_type": "code",
   "execution_count": 6,
   "metadata": {
    "id": "L8Y6rrJi1eTE",
    "colab": {
     "base_uri": "https://localhost:8080/"
    },
    "outputId": "0653b7f1-793f-4a50-81f7-1e607a12a80b",
    "ExecuteTime": {
     "end_time": "2023-12-04T14:40:53.830110400Z",
     "start_time": "2023-12-04T14:40:53.810978Z"
    }
   },
   "outputs": [
    {
     "name": "stdout",
     "output_type": "stream",
     "text": [
      "Great!\n"
     ]
    }
   ],
   "source": [
    "input = \"I'm in love with Python!\"\n",
    "result = None\n",
    "\n",
    "if input == \"I'm in love with Python!\":\n",
    "    result = \"Great!\"\n",
    "else:\n",
    "    result = \"Oh no!\"\n",
    "\n",
    "print(result)"
   ]
  },
  {
   "cell_type": "markdown",
   "metadata": {
    "id": "FPW0gIiH1eTE"
   },
   "source": [
    "When you are done with the above challenge, then:\n",
    "1. Input your student_id and name in the box below\n",
    "2. Run the code block by pressing the play button."
   ]
  },
  {
   "cell_type": "code",
   "execution_count": 7,
   "metadata": {
    "id": "D-GZ-KTY1eTE",
    "ExecuteTime": {
     "end_time": "2023-12-04T14:40:57.518448500Z",
     "start_time": "2023-12-04T14:40:54.362892300Z"
    }
   },
   "outputs": [
    {
     "name": "stdout",
     "output_type": "stream",
     "text": [
      "Requirement already satisfied: rggrader in c:\\users\\silve\\conda\\envs\\skill-academy-ml\\lib\\site-packages (0.1.6)\n",
      "Requirement already satisfied: requests in c:\\users\\silve\\conda\\envs\\skill-academy-ml\\lib\\site-packages (from rggrader) (2.31.0)\n",
      "Requirement already satisfied: pandas in c:\\users\\silve\\conda\\envs\\skill-academy-ml\\lib\\site-packages (from rggrader) (2.1.3)\n",
      "Requirement already satisfied: Pillow in c:\\users\\silve\\conda\\envs\\skill-academy-ml\\lib\\site-packages (from rggrader) (10.1.0)\n",
      "Requirement already satisfied: numpy<2,>=1.22.4 in c:\\users\\silve\\conda\\envs\\skill-academy-ml\\lib\\site-packages (from pandas->rggrader) (1.26.2)\n",
      "Requirement already satisfied: python-dateutil>=2.8.2 in c:\\users\\silve\\conda\\envs\\skill-academy-ml\\lib\\site-packages (from pandas->rggrader) (2.8.2)\n",
      "Requirement already satisfied: pytz>=2020.1 in c:\\users\\silve\\conda\\envs\\skill-academy-ml\\lib\\site-packages (from pandas->rggrader) (2023.3.post1)\n",
      "Requirement already satisfied: tzdata>=2022.1 in c:\\users\\silve\\conda\\envs\\skill-academy-ml\\lib\\site-packages (from pandas->rggrader) (2023.3)\n",
      "Requirement already satisfied: charset-normalizer<4,>=2 in c:\\users\\silve\\conda\\envs\\skill-academy-ml\\lib\\site-packages (from requests->rggrader) (3.3.2)\n",
      "Requirement already satisfied: idna<4,>=2.5 in c:\\users\\silve\\conda\\envs\\skill-academy-ml\\lib\\site-packages (from requests->rggrader) (3.6)\n",
      "Requirement already satisfied: urllib3<3,>=1.21.1 in c:\\users\\silve\\conda\\envs\\skill-academy-ml\\lib\\site-packages (from requests->rggrader) (2.1.0)\n",
      "Requirement already satisfied: certifi>=2017.4.17 in c:\\users\\silve\\conda\\envs\\skill-academy-ml\\lib\\site-packages (from requests->rggrader) (2023.11.17)\n",
      "Requirement already satisfied: six>=1.5 in c:\\users\\silve\\conda\\envs\\skill-academy-ml\\lib\\site-packages (from python-dateutil>=2.8.2->pandas->rggrader) (1.16.0)\n"
     ]
    },
    {
     "data": {
      "text/plain": "'Assignment successfully submitted'"
     },
     "execution_count": 7,
     "metadata": {},
     "output_type": "execute_result"
    }
   ],
   "source": [
    "!pip install rggrader\n",
    "\n",
    "from rggrader import submit\n",
    "\n",
    "# @title #### Student Identity\n",
    "student_id = \"REA3X5EN\" # @param {type:\"string\"}\n",
    "name = \"Steven Adi Santoso\" # @param {type:\"string\"}\n",
    "\n",
    "# Submit Method\n",
    "assignment_id = \"004_conditional_part_1\"\n",
    "question_id = \"01_basic_conditional_1\"\n",
    "submit(student_id, name, assignment_id, result, question_id)"
   ]
  },
  {
   "cell_type": "markdown",
   "metadata": {
    "id": "RRpu69_g1eTE"
   },
   "source": [
    "## Challenge 2\n",
    "\n",
    "Create a conditional that will assign  `Great!` to `result` variable if the input is `I'm in love with Python!`, and assign `None` if the input is anything else."
   ]
  },
  {
   "cell_type": "code",
   "execution_count": 8,
   "metadata": {
    "id": "MgH6zVEr1eTE",
    "colab": {
     "base_uri": "https://localhost:8080/"
    },
    "outputId": "1a487327-4d29-4875-e819-9adb925026d9",
    "ExecuteTime": {
     "end_time": "2023-12-04T14:40:57.533003400Z",
     "start_time": "2023-12-04T14:40:57.519466100Z"
    }
   },
   "outputs": [
    {
     "name": "stdout",
     "output_type": "stream",
     "text": [
      "None\n"
     ]
    }
   ],
   "source": [
    "input = \"I'm in love with Golang!\"\n",
    "result = None\n",
    "\n",
    "if input == \"I'm in love with Python!\":\n",
    "    result = \"Great!\"\n",
    "else:\n",
    "    result = None\n",
    "# Create the conditional statement\n",
    "\n",
    "print(result)"
   ]
  },
  {
   "cell_type": "markdown",
   "metadata": {
    "id": "qceztJMh1eTF"
   },
   "source": [
    "When you are done with the above challenge, then:\n",
    "\n",
    "1. Change the text \"my result\" below with the text \"done\"\n",
    "2. Run the code block by pressing the play button."
   ]
  },
  {
   "cell_type": "code",
   "execution_count": 9,
   "metadata": {
    "id": "UqFwokv01eTF",
    "ExecuteTime": {
     "end_time": "2023-12-04T14:40:58.126089300Z",
     "start_time": "2023-12-04T14:40:57.535003700Z"
    }
   },
   "outputs": [
    {
     "data": {
      "text/plain": "'Assignment successfully submitted'"
     },
     "execution_count": 9,
     "metadata": {},
     "output_type": "execute_result"
    }
   ],
   "source": [
    "# Submit Method\n",
    "assignment_id = \"004_conditional_part_1\"\n",
    "question_id = \"02_basic_conditional_2\"\n",
    "\n",
    "result = \"done\"\n",
    "\n",
    "submit(student_id, name, assignment_id, result, question_id)"
   ]
  },
  {
   "cell_type": "markdown",
   "metadata": {
    "id": "K9u4MjrY1eTF"
   },
   "source": [
    "# Else if\n",
    "\n",
    "Let's say for now we only want our function to only compatible for 3 languages: English, Indonesian, and Swedish. We can do it like so:"
   ]
  },
  {
   "cell_type": "code",
   "execution_count": 10,
   "metadata": {
    "id": "bmINGISl1eTF",
    "ExecuteTime": {
     "end_time": "2023-12-04T14:40:58.171149300Z",
     "start_time": "2023-12-04T14:40:58.131602300Z"
    }
   },
   "outputs": [],
   "source": [
    "src_lang = \"English\"\n",
    "\n",
    "if src_lang == \"Indonesian\": # kondisi 1\n",
    "    src_code = \"id_ID\"\n",
    "elif src_lang == \"English\": # kondisi 2\n",
    "    src_code = \"en_XX\"\n",
    "elif src_lang == \"Swedish\": # kondisi 3\n",
    "    src_code = \"sv_SE\"\n",
    "else: # kondisi default\n",
    "    src_code = None"
   ]
  },
  {
   "cell_type": "markdown",
   "metadata": {
    "id": "P1lfGBdg1eTF"
   },
   "source": [
    "`elif` is a keyword that is short for `else if`. It's a way to add another condition to our conditional. So basically using `if` we can have two kind of branching:\n",
    "\n",
    "- Using `elif` to add another condition\n",
    "- Using `else` to add a default condition that will be chosen if all the condition above it is `False`\n",
    "\n",
    "So looking at the code above, this is how our code \"think\":\n",
    "- If the `src_lang` is \"Indonesian\", then the `src_code` is \"id_ID\"\n",
    "- If the `src_lang` is \"English\", then the `src_code` is \"en_XX\"\n",
    "- If the `src_lang` is \"Swedish\", then the `src_code` is \"sv_SE\"\n",
    "- If the `src_lang` is anything else, then the `src_code` is `None`"
   ]
  },
  {
   "cell_type": "markdown",
   "metadata": {
    "id": "3Orj3nA21eTF"
   },
   "source": [
    "# Side note: Conditional and function indentation\n",
    "\n",
    "Just to make sure we fully understand how indentation in Python works, remember that if we want to make a conditional inside a function, we need to indent the conditional as well, the indentation should be indented right after the function declaration.\n",
    "\n",
    "```python\n",
    "def my_function():\n",
    "    if \"Imam\" == \"Imam\":\n",
    "      print(\"Hello World\")\n",
    "```"
   ]
  },
  {
   "cell_type": "markdown",
   "metadata": {
    "id": "R4loJutS1eTF"
   },
   "source": [
    "# Challenge Accepted!"
   ]
  },
  {
   "cell_type": "markdown",
   "metadata": {
    "id": "D-DxumvX1eTG"
   },
   "source": [
    "## First challenge\n",
    "\n",
    "Now that you're ready, we'll try to fulfill our stakeholder's requirement. First let's create a basic conditional that will \"decide\" based on `tgt_lang` value.\n",
    "\n",
    "The `tgt_lang` will receive these three languages:\n",
    "- English (en_XX)\n",
    "- Arabic (ar_AR)\n",
    "- Indonesian (id_ID)\n",
    "\n",
    "If the `tgt_lang` isn't one of those three languages, then the function will return `None`."
   ]
  },
  {
   "cell_type": "code",
   "execution_count": 11,
   "metadata": {
    "id": "MaeqfjU21eTG",
    "ExecuteTime": {
     "end_time": "2023-12-04T14:40:58.178661700Z",
     "start_time": "2023-12-04T14:40:58.144675100Z"
    }
   },
   "outputs": [],
   "source": [
    "tgt_lang = \"Arabic\"\n",
    "\n",
    "if tgt_lang == \"Arabic\":\n",
    "    tgt_code = \"ar_AR\"\n",
    "elif tgt_lang == \"English\":\n",
    "    tgt_code = \"en_XX\"\n",
    "elif tgt_lang == \"Indonesian\":\n",
    "    tgt_code = \"id_ID\"\n",
    "    \n",
    "# Do the rest of the code here\n",
    "# The variable name tgt_code here is arbitrary, you can use any name you want"
   ]
  },
  {
   "cell_type": "markdown",
   "metadata": {
    "id": "aKDNtFrM1eTG"
   },
   "source": [
    "When you are done with the above challenge, then:\n",
    "\n",
    "1. Change the text \"my result\" below with the text \"done\"\n",
    "2. Run the code block by pressing the play button."
   ]
  },
  {
   "cell_type": "code",
   "execution_count": 12,
   "metadata": {
    "id": "JuOiKQrB1eTG",
    "ExecuteTime": {
     "end_time": "2023-12-04T14:40:58.705336900Z",
     "start_time": "2023-12-04T14:40:58.158723900Z"
    }
   },
   "outputs": [
    {
     "data": {
      "text/plain": "'Assignment successfully submitted'"
     },
     "execution_count": 12,
     "metadata": {},
     "output_type": "execute_result"
    }
   ],
   "source": [
    "# Submit Method\n",
    "assignment_id = \"004_conditional_part_1\"\n",
    "question_id = \"03_basic_conditional_3\"\n",
    "\n",
    "result = \"done\"\n",
    "\n",
    "submit(student_id, name, assignment_id, result, question_id)"
   ]
  },
  {
   "cell_type": "markdown",
   "metadata": {
    "id": "bd3HEy6-1eTG"
   },
   "source": [
    "# Second challenge\n",
    "\n",
    "Now, integrate above condition in below function and create the function that can retrieve the `text` and `tgt_lang` from the user, and return the translated text. For now we'll just use English for the `src_lang`."
   ]
  },
  {
   "cell_type": "code",
   "execution_count": 14,
   "metadata": {
    "id": "9vWNqtrs1eTG",
    "ExecuteTime": {
     "end_time": "2023-12-04T14:43:59.143674Z",
     "start_time": "2023-12-04T14:43:11.154526900Z"
    }
   },
   "outputs": [
    {
     "data": {
      "text/plain": "'యొక్క ఆ రెస్టారెంట్ లో తినడానికి లెట్!'"
     },
     "execution_count": 14,
     "metadata": {},
     "output_type": "execute_result"
    }
   ],
   "source": [
    "def my_translate_text(text, tgt_lang):\n",
    "    src_code = \"en_XX\"\n",
    "    tgt_code = None\n",
    "    \n",
    "    if tgt_lang == \"Arabic\":\n",
    "        tgt_code = \"ar_AR\"\n",
    "    elif tgt_lang == \"Spanish\":\n",
    "        tgt_code = \"en_XX\"\n",
    "    elif tgt_lang == \"Indonesian\":\n",
    "        tgt_code = \"id_ID\"\n",
    "    # Do the rest of the code here\n",
    "\n",
    "    return translate_text(text, src_code, tgt_code) # Replace None with the correct variables\n",
    "\n",
    "my_translate_text(\"Let's eat at that restaurant!\", \"Arabic\")\n",
    "my_translate_text(\"Let's eat at that restaurant!\", \"Indonesian\")\n",
    "my_translate_text(\"Let's eat at that restaurant!\", \"Spanish\")"
   ]
  },
  {
   "cell_type": "markdown",
   "metadata": {
    "id": "vryr_AXu1eTH"
   },
   "source": [
    "When you are done with the above challenge, then:\n",
    "\n",
    "1. Run the code block by pressing the play button."
   ]
  },
  {
   "cell_type": "code",
   "execution_count": 15,
   "metadata": {
    "id": "E2lhtxhx1eTH",
    "ExecuteTime": {
     "end_time": "2023-12-04T14:44:15.355552700Z",
     "start_time": "2023-12-04T14:43:59.144671600Z"
    }
   },
   "outputs": [
    {
     "data": {
      "text/plain": "'Assignment successfully submitted'"
     },
     "execution_count": 15,
     "metadata": {},
     "output_type": "execute_result"
    }
   ],
   "source": [
    "# Submit Method\n",
    "assignment_id = \"004_conditional_part_1\"\n",
    "question_id = \"04_basic_conditional_4\"\n",
    "\n",
    "submit(student_id, name, assignment_id, my_translate_text(\"Let's go study AI!\", \"Indonesian\"), question_id)"
   ]
  },
  {
   "cell_type": "markdown",
   "metadata": {
    "id": "jj2-WtHG1eTH"
   },
   "source": [
    "# Final challenge\n",
    "\n",
    "For the final challenge, make a complete function that the `src_lang` now is provided as well with three languages that's compatible: \"English\" (en_XX), \"Indonesian\" (id_ID), and \"Swedish\" (sv_SE)."
   ]
  },
  {
   "cell_type": "code",
   "execution_count": 19,
   "metadata": {
    "id": "MN5r9K3R1eTH",
    "ExecuteTime": {
     "end_time": "2023-12-04T14:47:22.692678100Z",
     "start_time": "2023-12-04T14:46:50.955864300Z"
    }
   },
   "outputs": [
    {
     "data": {
      "text/plain": "\"Let's eat in that restaurant!\""
     },
     "execution_count": 19,
     "metadata": {},
     "output_type": "execute_result"
    }
   ],
   "source": [
    "# write the code here\n",
    "def final_challenge_translation(text, src_lang, tgt_lang):\n",
    "    if src_lang == \"English\":\n",
    "        src_code = \"en_XX\"\n",
    "    if src_lang == \"Indonesian\":\n",
    "        src_code = \"id_ID\"\n",
    "    if src_lang == \"Swedish\":\n",
    "        src_code = \"sv_SE\"\n",
    "\n",
    "\n",
    "    if tgt_lang == \"Spanish\":\n",
    "        tgt_code = \"es_XX\"\n",
    "    elif tgt_lang == \"English\":\n",
    "        tgt_code = \"en_XX\"\n",
    "    elif tgt_lang == \"Indonesian\":\n",
    "        tgt_code = \"id_ID\"\n",
    "    # Do the rest of the code here\n",
    "\n",
    "    return translate_text(text, src_code, tgt_code) \n",
    "\n",
    "# implementation example\n",
    "final_challenge_translation(\"Let's eat at that restaurant!\", \"English\", \"Indonesian\")\n",
    "final_challenge_translation(\"Ayo makan di restoran itu!\", \"Indonesian\", \"English\")"
   ]
  },
  {
   "cell_type": "markdown",
   "metadata": {
    "id": "UjRWDeDg1eTH"
   },
   "source": [
    "When you are done with the above challenge, then:\n",
    "\n",
    "1. Run the code block by pressing the play button."
   ]
  },
  {
   "cell_type": "code",
   "execution_count": 20,
   "metadata": {
    "id": "EF9JR2Vg1eTL",
    "ExecuteTime": {
     "end_time": "2023-12-04T14:47:39.082824700Z",
     "start_time": "2023-12-04T14:47:22.694679Z"
    }
   },
   "outputs": [
    {
     "data": {
      "text/plain": "'Assignment successfully submitted'"
     },
     "execution_count": 20,
     "metadata": {},
     "output_type": "execute_result"
    }
   ],
   "source": [
    "# Submit Method\n",
    "assignment_id = \"004_conditional_part_1\"\n",
    "question_id = \"05_basic_conditional_5\"\n",
    "\n",
    "submit(student_id, name, assignment_id, final_challenge_translation(\"Let's learn AI together!\", \"English\", \"Spanish\"), question_id)"
   ]
  }
 ],
 "metadata": {
  "kernelspec": {
   "name": "python3",
   "language": "python",
   "display_name": "Python 3 (ipykernel)"
  },
  "language_info": {
   "codemirror_mode": {
    "name": "ipython",
    "version": 3
   },
   "file_extension": ".py",
   "mimetype": "text/x-python",
   "name": "python",
   "nbconvert_exporter": "python",
   "pygments_lexer": "ipython3",
   "version": "3.11.3"
  },
  "colab": {
   "provenance": [],
   "gpuType": "T4"
  },
  "accelerator": "GPU",
  "widgets": {
   "application/vnd.jupyter.widget-state+json": {
    "f7fcb90e937b4bbebef2b5b23a47bb6f": {
     "model_module": "@jupyter-widgets/controls",
     "model_name": "HBoxModel",
     "model_module_version": "1.5.0",
     "state": {
      "_dom_classes": [],
      "_model_module": "@jupyter-widgets/controls",
      "_model_module_version": "1.5.0",
      "_model_name": "HBoxModel",
      "_view_count": null,
      "_view_module": "@jupyter-widgets/controls",
      "_view_module_version": "1.5.0",
      "_view_name": "HBoxView",
      "box_style": "",
      "children": [
       "IPY_MODEL_94ac1594497547b1a60a7631bd85cb0a",
       "IPY_MODEL_0d775948562c441dafb58f0ed1e77ebb",
       "IPY_MODEL_8ce57f6e490c4659a45fe6dbefea2e05"
      ],
      "layout": "IPY_MODEL_2521d16254424cac8ea64f1562a461ed"
     }
    },
    "94ac1594497547b1a60a7631bd85cb0a": {
     "model_module": "@jupyter-widgets/controls",
     "model_name": "HTMLModel",
     "model_module_version": "1.5.0",
     "state": {
      "_dom_classes": [],
      "_model_module": "@jupyter-widgets/controls",
      "_model_module_version": "1.5.0",
      "_model_name": "HTMLModel",
      "_view_count": null,
      "_view_module": "@jupyter-widgets/controls",
      "_view_module_version": "1.5.0",
      "_view_name": "HTMLView",
      "description": "",
      "description_tooltip": null,
      "layout": "IPY_MODEL_885e1894e352458491a3f73878323cf7",
      "placeholder": "​",
      "style": "IPY_MODEL_4041c036dc714f598d4992b7c566d43e",
      "value": "config.json: 100%"
     }
    },
    "0d775948562c441dafb58f0ed1e77ebb": {
     "model_module": "@jupyter-widgets/controls",
     "model_name": "FloatProgressModel",
     "model_module_version": "1.5.0",
     "state": {
      "_dom_classes": [],
      "_model_module": "@jupyter-widgets/controls",
      "_model_module_version": "1.5.0",
      "_model_name": "FloatProgressModel",
      "_view_count": null,
      "_view_module": "@jupyter-widgets/controls",
      "_view_module_version": "1.5.0",
      "_view_name": "ProgressView",
      "bar_style": "success",
      "description": "",
      "description_tooltip": null,
      "layout": "IPY_MODEL_e8640e2eb3384f5ea18162fc2dec8181",
      "max": 1429,
      "min": 0,
      "orientation": "horizontal",
      "style": "IPY_MODEL_55d5d2c1634e4fcc929eaa5e93792f80",
      "value": 1429
     }
    },
    "8ce57f6e490c4659a45fe6dbefea2e05": {
     "model_module": "@jupyter-widgets/controls",
     "model_name": "HTMLModel",
     "model_module_version": "1.5.0",
     "state": {
      "_dom_classes": [],
      "_model_module": "@jupyter-widgets/controls",
      "_model_module_version": "1.5.0",
      "_model_name": "HTMLModel",
      "_view_count": null,
      "_view_module": "@jupyter-widgets/controls",
      "_view_module_version": "1.5.0",
      "_view_name": "HTMLView",
      "description": "",
      "description_tooltip": null,
      "layout": "IPY_MODEL_1668d9b3300b4c3c986c78b7a9f7fd87",
      "placeholder": "​",
      "style": "IPY_MODEL_77257c2d8dce4a8990e2e97b6b59cc50",
      "value": " 1.43k/1.43k [00:00&lt;00:00, 23.7kB/s]"
     }
    },
    "2521d16254424cac8ea64f1562a461ed": {
     "model_module": "@jupyter-widgets/base",
     "model_name": "LayoutModel",
     "model_module_version": "1.2.0",
     "state": {
      "_model_module": "@jupyter-widgets/base",
      "_model_module_version": "1.2.0",
      "_model_name": "LayoutModel",
      "_view_count": null,
      "_view_module": "@jupyter-widgets/base",
      "_view_module_version": "1.2.0",
      "_view_name": "LayoutView",
      "align_content": null,
      "align_items": null,
      "align_self": null,
      "border": null,
      "bottom": null,
      "display": null,
      "flex": null,
      "flex_flow": null,
      "grid_area": null,
      "grid_auto_columns": null,
      "grid_auto_flow": null,
      "grid_auto_rows": null,
      "grid_column": null,
      "grid_gap": null,
      "grid_row": null,
      "grid_template_areas": null,
      "grid_template_columns": null,
      "grid_template_rows": null,
      "height": null,
      "justify_content": null,
      "justify_items": null,
      "left": null,
      "margin": null,
      "max_height": null,
      "max_width": null,
      "min_height": null,
      "min_width": null,
      "object_fit": null,
      "object_position": null,
      "order": null,
      "overflow": null,
      "overflow_x": null,
      "overflow_y": null,
      "padding": null,
      "right": null,
      "top": null,
      "visibility": null,
      "width": null
     }
    },
    "885e1894e352458491a3f73878323cf7": {
     "model_module": "@jupyter-widgets/base",
     "model_name": "LayoutModel",
     "model_module_version": "1.2.0",
     "state": {
      "_model_module": "@jupyter-widgets/base",
      "_model_module_version": "1.2.0",
      "_model_name": "LayoutModel",
      "_view_count": null,
      "_view_module": "@jupyter-widgets/base",
      "_view_module_version": "1.2.0",
      "_view_name": "LayoutView",
      "align_content": null,
      "align_items": null,
      "align_self": null,
      "border": null,
      "bottom": null,
      "display": null,
      "flex": null,
      "flex_flow": null,
      "grid_area": null,
      "grid_auto_columns": null,
      "grid_auto_flow": null,
      "grid_auto_rows": null,
      "grid_column": null,
      "grid_gap": null,
      "grid_row": null,
      "grid_template_areas": null,
      "grid_template_columns": null,
      "grid_template_rows": null,
      "height": null,
      "justify_content": null,
      "justify_items": null,
      "left": null,
      "margin": null,
      "max_height": null,
      "max_width": null,
      "min_height": null,
      "min_width": null,
      "object_fit": null,
      "object_position": null,
      "order": null,
      "overflow": null,
      "overflow_x": null,
      "overflow_y": null,
      "padding": null,
      "right": null,
      "top": null,
      "visibility": null,
      "width": null
     }
    },
    "4041c036dc714f598d4992b7c566d43e": {
     "model_module": "@jupyter-widgets/controls",
     "model_name": "DescriptionStyleModel",
     "model_module_version": "1.5.0",
     "state": {
      "_model_module": "@jupyter-widgets/controls",
      "_model_module_version": "1.5.0",
      "_model_name": "DescriptionStyleModel",
      "_view_count": null,
      "_view_module": "@jupyter-widgets/base",
      "_view_module_version": "1.2.0",
      "_view_name": "StyleView",
      "description_width": ""
     }
    },
    "e8640e2eb3384f5ea18162fc2dec8181": {
     "model_module": "@jupyter-widgets/base",
     "model_name": "LayoutModel",
     "model_module_version": "1.2.0",
     "state": {
      "_model_module": "@jupyter-widgets/base",
      "_model_module_version": "1.2.0",
      "_model_name": "LayoutModel",
      "_view_count": null,
      "_view_module": "@jupyter-widgets/base",
      "_view_module_version": "1.2.0",
      "_view_name": "LayoutView",
      "align_content": null,
      "align_items": null,
      "align_self": null,
      "border": null,
      "bottom": null,
      "display": null,
      "flex": null,
      "flex_flow": null,
      "grid_area": null,
      "grid_auto_columns": null,
      "grid_auto_flow": null,
      "grid_auto_rows": null,
      "grid_column": null,
      "grid_gap": null,
      "grid_row": null,
      "grid_template_areas": null,
      "grid_template_columns": null,
      "grid_template_rows": null,
      "height": null,
      "justify_content": null,
      "justify_items": null,
      "left": null,
      "margin": null,
      "max_height": null,
      "max_width": null,
      "min_height": null,
      "min_width": null,
      "object_fit": null,
      "object_position": null,
      "order": null,
      "overflow": null,
      "overflow_x": null,
      "overflow_y": null,
      "padding": null,
      "right": null,
      "top": null,
      "visibility": null,
      "width": null
     }
    },
    "55d5d2c1634e4fcc929eaa5e93792f80": {
     "model_module": "@jupyter-widgets/controls",
     "model_name": "ProgressStyleModel",
     "model_module_version": "1.5.0",
     "state": {
      "_model_module": "@jupyter-widgets/controls",
      "_model_module_version": "1.5.0",
      "_model_name": "ProgressStyleModel",
      "_view_count": null,
      "_view_module": "@jupyter-widgets/base",
      "_view_module_version": "1.2.0",
      "_view_name": "StyleView",
      "bar_color": null,
      "description_width": ""
     }
    },
    "1668d9b3300b4c3c986c78b7a9f7fd87": {
     "model_module": "@jupyter-widgets/base",
     "model_name": "LayoutModel",
     "model_module_version": "1.2.0",
     "state": {
      "_model_module": "@jupyter-widgets/base",
      "_model_module_version": "1.2.0",
      "_model_name": "LayoutModel",
      "_view_count": null,
      "_view_module": "@jupyter-widgets/base",
      "_view_module_version": "1.2.0",
      "_view_name": "LayoutView",
      "align_content": null,
      "align_items": null,
      "align_self": null,
      "border": null,
      "bottom": null,
      "display": null,
      "flex": null,
      "flex_flow": null,
      "grid_area": null,
      "grid_auto_columns": null,
      "grid_auto_flow": null,
      "grid_auto_rows": null,
      "grid_column": null,
      "grid_gap": null,
      "grid_row": null,
      "grid_template_areas": null,
      "grid_template_columns": null,
      "grid_template_rows": null,
      "height": null,
      "justify_content": null,
      "justify_items": null,
      "left": null,
      "margin": null,
      "max_height": null,
      "max_width": null,
      "min_height": null,
      "min_width": null,
      "object_fit": null,
      "object_position": null,
      "order": null,
      "overflow": null,
      "overflow_x": null,
      "overflow_y": null,
      "padding": null,
      "right": null,
      "top": null,
      "visibility": null,
      "width": null
     }
    },
    "77257c2d8dce4a8990e2e97b6b59cc50": {
     "model_module": "@jupyter-widgets/controls",
     "model_name": "DescriptionStyleModel",
     "model_module_version": "1.5.0",
     "state": {
      "_model_module": "@jupyter-widgets/controls",
      "_model_module_version": "1.5.0",
      "_model_name": "DescriptionStyleModel",
      "_view_count": null,
      "_view_module": "@jupyter-widgets/base",
      "_view_module_version": "1.2.0",
      "_view_name": "StyleView",
      "description_width": ""
     }
    },
    "63df0161bbf24fb3a37304e1ce3d92ce": {
     "model_module": "@jupyter-widgets/controls",
     "model_name": "HBoxModel",
     "model_module_version": "1.5.0",
     "state": {
      "_dom_classes": [],
      "_model_module": "@jupyter-widgets/controls",
      "_model_module_version": "1.5.0",
      "_model_name": "HBoxModel",
      "_view_count": null,
      "_view_module": "@jupyter-widgets/controls",
      "_view_module_version": "1.5.0",
      "_view_name": "HBoxView",
      "box_style": "",
      "children": [
       "IPY_MODEL_09b2540216704dd0a713fc886df5bdaf",
       "IPY_MODEL_e91fcf768805441a92b7dcf4cb8b815b",
       "IPY_MODEL_efb3f4c82b174545b28a23d6e905b2fc"
      ],
      "layout": "IPY_MODEL_9005dad6543c4405be5eb5c269b69638"
     }
    },
    "09b2540216704dd0a713fc886df5bdaf": {
     "model_module": "@jupyter-widgets/controls",
     "model_name": "HTMLModel",
     "model_module_version": "1.5.0",
     "state": {
      "_dom_classes": [],
      "_model_module": "@jupyter-widgets/controls",
      "_model_module_version": "1.5.0",
      "_model_name": "HTMLModel",
      "_view_count": null,
      "_view_module": "@jupyter-widgets/controls",
      "_view_module_version": "1.5.0",
      "_view_name": "HTMLView",
      "description": "",
      "description_tooltip": null,
      "layout": "IPY_MODEL_90d60add83c0451e853c0be4a6a0b111",
      "placeholder": "​",
      "style": "IPY_MODEL_e1d4a642bce84a919cad59398d348272",
      "value": "model.safetensors: 100%"
     }
    },
    "e91fcf768805441a92b7dcf4cb8b815b": {
     "model_module": "@jupyter-widgets/controls",
     "model_name": "FloatProgressModel",
     "model_module_version": "1.5.0",
     "state": {
      "_dom_classes": [],
      "_model_module": "@jupyter-widgets/controls",
      "_model_module_version": "1.5.0",
      "_model_name": "FloatProgressModel",
      "_view_count": null,
      "_view_module": "@jupyter-widgets/controls",
      "_view_module_version": "1.5.0",
      "_view_name": "ProgressView",
      "bar_style": "success",
      "description": "",
      "description_tooltip": null,
      "layout": "IPY_MODEL_1f06b2f1aab044568a35fe8d3124c2e7",
      "max": 2444578688,
      "min": 0,
      "orientation": "horizontal",
      "style": "IPY_MODEL_7c999653443e430583e3c4dd0e50bf42",
      "value": 2444578688
     }
    },
    "efb3f4c82b174545b28a23d6e905b2fc": {
     "model_module": "@jupyter-widgets/controls",
     "model_name": "HTMLModel",
     "model_module_version": "1.5.0",
     "state": {
      "_dom_classes": [],
      "_model_module": "@jupyter-widgets/controls",
      "_model_module_version": "1.5.0",
      "_model_name": "HTMLModel",
      "_view_count": null,
      "_view_module": "@jupyter-widgets/controls",
      "_view_module_version": "1.5.0",
      "_view_name": "HTMLView",
      "description": "",
      "description_tooltip": null,
      "layout": "IPY_MODEL_8d0c1acf8c9547bda1412ee9b5235c27",
      "placeholder": "​",
      "style": "IPY_MODEL_8c16fe9e12e94977ba251a32fcba1008",
      "value": " 2.44G/2.44G [00:19&lt;00:00, 149MB/s]"
     }
    },
    "9005dad6543c4405be5eb5c269b69638": {
     "model_module": "@jupyter-widgets/base",
     "model_name": "LayoutModel",
     "model_module_version": "1.2.0",
     "state": {
      "_model_module": "@jupyter-widgets/base",
      "_model_module_version": "1.2.0",
      "_model_name": "LayoutModel",
      "_view_count": null,
      "_view_module": "@jupyter-widgets/base",
      "_view_module_version": "1.2.0",
      "_view_name": "LayoutView",
      "align_content": null,
      "align_items": null,
      "align_self": null,
      "border": null,
      "bottom": null,
      "display": null,
      "flex": null,
      "flex_flow": null,
      "grid_area": null,
      "grid_auto_columns": null,
      "grid_auto_flow": null,
      "grid_auto_rows": null,
      "grid_column": null,
      "grid_gap": null,
      "grid_row": null,
      "grid_template_areas": null,
      "grid_template_columns": null,
      "grid_template_rows": null,
      "height": null,
      "justify_content": null,
      "justify_items": null,
      "left": null,
      "margin": null,
      "max_height": null,
      "max_width": null,
      "min_height": null,
      "min_width": null,
      "object_fit": null,
      "object_position": null,
      "order": null,
      "overflow": null,
      "overflow_x": null,
      "overflow_y": null,
      "padding": null,
      "right": null,
      "top": null,
      "visibility": null,
      "width": null
     }
    },
    "90d60add83c0451e853c0be4a6a0b111": {
     "model_module": "@jupyter-widgets/base",
     "model_name": "LayoutModel",
     "model_module_version": "1.2.0",
     "state": {
      "_model_module": "@jupyter-widgets/base",
      "_model_module_version": "1.2.0",
      "_model_name": "LayoutModel",
      "_view_count": null,
      "_view_module": "@jupyter-widgets/base",
      "_view_module_version": "1.2.0",
      "_view_name": "LayoutView",
      "align_content": null,
      "align_items": null,
      "align_self": null,
      "border": null,
      "bottom": null,
      "display": null,
      "flex": null,
      "flex_flow": null,
      "grid_area": null,
      "grid_auto_columns": null,
      "grid_auto_flow": null,
      "grid_auto_rows": null,
      "grid_column": null,
      "grid_gap": null,
      "grid_row": null,
      "grid_template_areas": null,
      "grid_template_columns": null,
      "grid_template_rows": null,
      "height": null,
      "justify_content": null,
      "justify_items": null,
      "left": null,
      "margin": null,
      "max_height": null,
      "max_width": null,
      "min_height": null,
      "min_width": null,
      "object_fit": null,
      "object_position": null,
      "order": null,
      "overflow": null,
      "overflow_x": null,
      "overflow_y": null,
      "padding": null,
      "right": null,
      "top": null,
      "visibility": null,
      "width": null
     }
    },
    "e1d4a642bce84a919cad59398d348272": {
     "model_module": "@jupyter-widgets/controls",
     "model_name": "DescriptionStyleModel",
     "model_module_version": "1.5.0",
     "state": {
      "_model_module": "@jupyter-widgets/controls",
      "_model_module_version": "1.5.0",
      "_model_name": "DescriptionStyleModel",
      "_view_count": null,
      "_view_module": "@jupyter-widgets/base",
      "_view_module_version": "1.2.0",
      "_view_name": "StyleView",
      "description_width": ""
     }
    },
    "1f06b2f1aab044568a35fe8d3124c2e7": {
     "model_module": "@jupyter-widgets/base",
     "model_name": "LayoutModel",
     "model_module_version": "1.2.0",
     "state": {
      "_model_module": "@jupyter-widgets/base",
      "_model_module_version": "1.2.0",
      "_model_name": "LayoutModel",
      "_view_count": null,
      "_view_module": "@jupyter-widgets/base",
      "_view_module_version": "1.2.0",
      "_view_name": "LayoutView",
      "align_content": null,
      "align_items": null,
      "align_self": null,
      "border": null,
      "bottom": null,
      "display": null,
      "flex": null,
      "flex_flow": null,
      "grid_area": null,
      "grid_auto_columns": null,
      "grid_auto_flow": null,
      "grid_auto_rows": null,
      "grid_column": null,
      "grid_gap": null,
      "grid_row": null,
      "grid_template_areas": null,
      "grid_template_columns": null,
      "grid_template_rows": null,
      "height": null,
      "justify_content": null,
      "justify_items": null,
      "left": null,
      "margin": null,
      "max_height": null,
      "max_width": null,
      "min_height": null,
      "min_width": null,
      "object_fit": null,
      "object_position": null,
      "order": null,
      "overflow": null,
      "overflow_x": null,
      "overflow_y": null,
      "padding": null,
      "right": null,
      "top": null,
      "visibility": null,
      "width": null
     }
    },
    "7c999653443e430583e3c4dd0e50bf42": {
     "model_module": "@jupyter-widgets/controls",
     "model_name": "ProgressStyleModel",
     "model_module_version": "1.5.0",
     "state": {
      "_model_module": "@jupyter-widgets/controls",
      "_model_module_version": "1.5.0",
      "_model_name": "ProgressStyleModel",
      "_view_count": null,
      "_view_module": "@jupyter-widgets/base",
      "_view_module_version": "1.2.0",
      "_view_name": "StyleView",
      "bar_color": null,
      "description_width": ""
     }
    },
    "8d0c1acf8c9547bda1412ee9b5235c27": {
     "model_module": "@jupyter-widgets/base",
     "model_name": "LayoutModel",
     "model_module_version": "1.2.0",
     "state": {
      "_model_module": "@jupyter-widgets/base",
      "_model_module_version": "1.2.0",
      "_model_name": "LayoutModel",
      "_view_count": null,
      "_view_module": "@jupyter-widgets/base",
      "_view_module_version": "1.2.0",
      "_view_name": "LayoutView",
      "align_content": null,
      "align_items": null,
      "align_self": null,
      "border": null,
      "bottom": null,
      "display": null,
      "flex": null,
      "flex_flow": null,
      "grid_area": null,
      "grid_auto_columns": null,
      "grid_auto_flow": null,
      "grid_auto_rows": null,
      "grid_column": null,
      "grid_gap": null,
      "grid_row": null,
      "grid_template_areas": null,
      "grid_template_columns": null,
      "grid_template_rows": null,
      "height": null,
      "justify_content": null,
      "justify_items": null,
      "left": null,
      "margin": null,
      "max_height": null,
      "max_width": null,
      "min_height": null,
      "min_width": null,
      "object_fit": null,
      "object_position": null,
      "order": null,
      "overflow": null,
      "overflow_x": null,
      "overflow_y": null,
      "padding": null,
      "right": null,
      "top": null,
      "visibility": null,
      "width": null
     }
    },
    "8c16fe9e12e94977ba251a32fcba1008": {
     "model_module": "@jupyter-widgets/controls",
     "model_name": "DescriptionStyleModel",
     "model_module_version": "1.5.0",
     "state": {
      "_model_module": "@jupyter-widgets/controls",
      "_model_module_version": "1.5.0",
      "_model_name": "DescriptionStyleModel",
      "_view_count": null,
      "_view_module": "@jupyter-widgets/base",
      "_view_module_version": "1.2.0",
      "_view_name": "StyleView",
      "description_width": ""
     }
    },
    "901829a1a3004900a262653aac4d96f8": {
     "model_module": "@jupyter-widgets/controls",
     "model_name": "HBoxModel",
     "model_module_version": "1.5.0",
     "state": {
      "_dom_classes": [],
      "_model_module": "@jupyter-widgets/controls",
      "_model_module_version": "1.5.0",
      "_model_name": "HBoxModel",
      "_view_count": null,
      "_view_module": "@jupyter-widgets/controls",
      "_view_module_version": "1.5.0",
      "_view_name": "HBoxView",
      "box_style": "",
      "children": [
       "IPY_MODEL_e03bfb5506bc402c8013c2fee4e310a9",
       "IPY_MODEL_fa8f265b2da148749a41b4a2f6051693",
       "IPY_MODEL_27abf89fda76405c8801644be88c6980"
      ],
      "layout": "IPY_MODEL_7694fda4f7ac4b2dbcd588990c88bc18"
     }
    },
    "e03bfb5506bc402c8013c2fee4e310a9": {
     "model_module": "@jupyter-widgets/controls",
     "model_name": "HTMLModel",
     "model_module_version": "1.5.0",
     "state": {
      "_dom_classes": [],
      "_model_module": "@jupyter-widgets/controls",
      "_model_module_version": "1.5.0",
      "_model_name": "HTMLModel",
      "_view_count": null,
      "_view_module": "@jupyter-widgets/controls",
      "_view_module_version": "1.5.0",
      "_view_name": "HTMLView",
      "description": "",
      "description_tooltip": null,
      "layout": "IPY_MODEL_738ccdce4c204a0aba22ec7c77e2f330",
      "placeholder": "​",
      "style": "IPY_MODEL_e51e993a40e14705b6accb670a123a7b",
      "value": "generation_config.json: 100%"
     }
    },
    "fa8f265b2da148749a41b4a2f6051693": {
     "model_module": "@jupyter-widgets/controls",
     "model_name": "FloatProgressModel",
     "model_module_version": "1.5.0",
     "state": {
      "_dom_classes": [],
      "_model_module": "@jupyter-widgets/controls",
      "_model_module_version": "1.5.0",
      "_model_name": "FloatProgressModel",
      "_view_count": null,
      "_view_module": "@jupyter-widgets/controls",
      "_view_module_version": "1.5.0",
      "_view_name": "ProgressView",
      "bar_style": "success",
      "description": "",
      "description_tooltip": null,
      "layout": "IPY_MODEL_318cb93b0b3f4439be2b2fe40d8692e2",
      "max": 261,
      "min": 0,
      "orientation": "horizontal",
      "style": "IPY_MODEL_fd6183b831c6460c8bafcc806bcad5c8",
      "value": 261
     }
    },
    "27abf89fda76405c8801644be88c6980": {
     "model_module": "@jupyter-widgets/controls",
     "model_name": "HTMLModel",
     "model_module_version": "1.5.0",
     "state": {
      "_dom_classes": [],
      "_model_module": "@jupyter-widgets/controls",
      "_model_module_version": "1.5.0",
      "_model_name": "HTMLModel",
      "_view_count": null,
      "_view_module": "@jupyter-widgets/controls",
      "_view_module_version": "1.5.0",
      "_view_name": "HTMLView",
      "description": "",
      "description_tooltip": null,
      "layout": "IPY_MODEL_c3ab6350f4fd474293b2de13cbdd49f3",
      "placeholder": "​",
      "style": "IPY_MODEL_61151de432cd4beb94a11e32939edf06",
      "value": " 261/261 [00:00&lt;00:00, 19.0kB/s]"
     }
    },
    "7694fda4f7ac4b2dbcd588990c88bc18": {
     "model_module": "@jupyter-widgets/base",
     "model_name": "LayoutModel",
     "model_module_version": "1.2.0",
     "state": {
      "_model_module": "@jupyter-widgets/base",
      "_model_module_version": "1.2.0",
      "_model_name": "LayoutModel",
      "_view_count": null,
      "_view_module": "@jupyter-widgets/base",
      "_view_module_version": "1.2.0",
      "_view_name": "LayoutView",
      "align_content": null,
      "align_items": null,
      "align_self": null,
      "border": null,
      "bottom": null,
      "display": null,
      "flex": null,
      "flex_flow": null,
      "grid_area": null,
      "grid_auto_columns": null,
      "grid_auto_flow": null,
      "grid_auto_rows": null,
      "grid_column": null,
      "grid_gap": null,
      "grid_row": null,
      "grid_template_areas": null,
      "grid_template_columns": null,
      "grid_template_rows": null,
      "height": null,
      "justify_content": null,
      "justify_items": null,
      "left": null,
      "margin": null,
      "max_height": null,
      "max_width": null,
      "min_height": null,
      "min_width": null,
      "object_fit": null,
      "object_position": null,
      "order": null,
      "overflow": null,
      "overflow_x": null,
      "overflow_y": null,
      "padding": null,
      "right": null,
      "top": null,
      "visibility": null,
      "width": null
     }
    },
    "738ccdce4c204a0aba22ec7c77e2f330": {
     "model_module": "@jupyter-widgets/base",
     "model_name": "LayoutModel",
     "model_module_version": "1.2.0",
     "state": {
      "_model_module": "@jupyter-widgets/base",
      "_model_module_version": "1.2.0",
      "_model_name": "LayoutModel",
      "_view_count": null,
      "_view_module": "@jupyter-widgets/base",
      "_view_module_version": "1.2.0",
      "_view_name": "LayoutView",
      "align_content": null,
      "align_items": null,
      "align_self": null,
      "border": null,
      "bottom": null,
      "display": null,
      "flex": null,
      "flex_flow": null,
      "grid_area": null,
      "grid_auto_columns": null,
      "grid_auto_flow": null,
      "grid_auto_rows": null,
      "grid_column": null,
      "grid_gap": null,
      "grid_row": null,
      "grid_template_areas": null,
      "grid_template_columns": null,
      "grid_template_rows": null,
      "height": null,
      "justify_content": null,
      "justify_items": null,
      "left": null,
      "margin": null,
      "max_height": null,
      "max_width": null,
      "min_height": null,
      "min_width": null,
      "object_fit": null,
      "object_position": null,
      "order": null,
      "overflow": null,
      "overflow_x": null,
      "overflow_y": null,
      "padding": null,
      "right": null,
      "top": null,
      "visibility": null,
      "width": null
     }
    },
    "e51e993a40e14705b6accb670a123a7b": {
     "model_module": "@jupyter-widgets/controls",
     "model_name": "DescriptionStyleModel",
     "model_module_version": "1.5.0",
     "state": {
      "_model_module": "@jupyter-widgets/controls",
      "_model_module_version": "1.5.0",
      "_model_name": "DescriptionStyleModel",
      "_view_count": null,
      "_view_module": "@jupyter-widgets/base",
      "_view_module_version": "1.2.0",
      "_view_name": "StyleView",
      "description_width": ""
     }
    },
    "318cb93b0b3f4439be2b2fe40d8692e2": {
     "model_module": "@jupyter-widgets/base",
     "model_name": "LayoutModel",
     "model_module_version": "1.2.0",
     "state": {
      "_model_module": "@jupyter-widgets/base",
      "_model_module_version": "1.2.0",
      "_model_name": "LayoutModel",
      "_view_count": null,
      "_view_module": "@jupyter-widgets/base",
      "_view_module_version": "1.2.0",
      "_view_name": "LayoutView",
      "align_content": null,
      "align_items": null,
      "align_self": null,
      "border": null,
      "bottom": null,
      "display": null,
      "flex": null,
      "flex_flow": null,
      "grid_area": null,
      "grid_auto_columns": null,
      "grid_auto_flow": null,
      "grid_auto_rows": null,
      "grid_column": null,
      "grid_gap": null,
      "grid_row": null,
      "grid_template_areas": null,
      "grid_template_columns": null,
      "grid_template_rows": null,
      "height": null,
      "justify_content": null,
      "justify_items": null,
      "left": null,
      "margin": null,
      "max_height": null,
      "max_width": null,
      "min_height": null,
      "min_width": null,
      "object_fit": null,
      "object_position": null,
      "order": null,
      "overflow": null,
      "overflow_x": null,
      "overflow_y": null,
      "padding": null,
      "right": null,
      "top": null,
      "visibility": null,
      "width": null
     }
    },
    "fd6183b831c6460c8bafcc806bcad5c8": {
     "model_module": "@jupyter-widgets/controls",
     "model_name": "ProgressStyleModel",
     "model_module_version": "1.5.0",
     "state": {
      "_model_module": "@jupyter-widgets/controls",
      "_model_module_version": "1.5.0",
      "_model_name": "ProgressStyleModel",
      "_view_count": null,
      "_view_module": "@jupyter-widgets/base",
      "_view_module_version": "1.2.0",
      "_view_name": "StyleView",
      "bar_color": null,
      "description_width": ""
     }
    },
    "c3ab6350f4fd474293b2de13cbdd49f3": {
     "model_module": "@jupyter-widgets/base",
     "model_name": "LayoutModel",
     "model_module_version": "1.2.0",
     "state": {
      "_model_module": "@jupyter-widgets/base",
      "_model_module_version": "1.2.0",
      "_model_name": "LayoutModel",
      "_view_count": null,
      "_view_module": "@jupyter-widgets/base",
      "_view_module_version": "1.2.0",
      "_view_name": "LayoutView",
      "align_content": null,
      "align_items": null,
      "align_self": null,
      "border": null,
      "bottom": null,
      "display": null,
      "flex": null,
      "flex_flow": null,
      "grid_area": null,
      "grid_auto_columns": null,
      "grid_auto_flow": null,
      "grid_auto_rows": null,
      "grid_column": null,
      "grid_gap": null,
      "grid_row": null,
      "grid_template_areas": null,
      "grid_template_columns": null,
      "grid_template_rows": null,
      "height": null,
      "justify_content": null,
      "justify_items": null,
      "left": null,
      "margin": null,
      "max_height": null,
      "max_width": null,
      "min_height": null,
      "min_width": null,
      "object_fit": null,
      "object_position": null,
      "order": null,
      "overflow": null,
      "overflow_x": null,
      "overflow_y": null,
      "padding": null,
      "right": null,
      "top": null,
      "visibility": null,
      "width": null
     }
    },
    "61151de432cd4beb94a11e32939edf06": {
     "model_module": "@jupyter-widgets/controls",
     "model_name": "DescriptionStyleModel",
     "model_module_version": "1.5.0",
     "state": {
      "_model_module": "@jupyter-widgets/controls",
      "_model_module_version": "1.5.0",
      "_model_name": "DescriptionStyleModel",
      "_view_count": null,
      "_view_module": "@jupyter-widgets/base",
      "_view_module_version": "1.2.0",
      "_view_name": "StyleView",
      "description_width": ""
     }
    },
    "613149ef9a91491b99672a97c43d4781": {
     "model_module": "@jupyter-widgets/controls",
     "model_name": "HBoxModel",
     "model_module_version": "1.5.0",
     "state": {
      "_dom_classes": [],
      "_model_module": "@jupyter-widgets/controls",
      "_model_module_version": "1.5.0",
      "_model_name": "HBoxModel",
      "_view_count": null,
      "_view_module": "@jupyter-widgets/controls",
      "_view_module_version": "1.5.0",
      "_view_name": "HBoxView",
      "box_style": "",
      "children": [
       "IPY_MODEL_e7b6a84204a34f6597f094e77696484b",
       "IPY_MODEL_3fdf42d01fa44052bfbe634967b21374",
       "IPY_MODEL_7e5e361b8db54c7bb33322a5228d3616"
      ],
      "layout": "IPY_MODEL_f87acdcd3db9443fad1094a40af8ce60"
     }
    },
    "e7b6a84204a34f6597f094e77696484b": {
     "model_module": "@jupyter-widgets/controls",
     "model_name": "HTMLModel",
     "model_module_version": "1.5.0",
     "state": {
      "_dom_classes": [],
      "_model_module": "@jupyter-widgets/controls",
      "_model_module_version": "1.5.0",
      "_model_name": "HTMLModel",
      "_view_count": null,
      "_view_module": "@jupyter-widgets/controls",
      "_view_module_version": "1.5.0",
      "_view_name": "HTMLView",
      "description": "",
      "description_tooltip": null,
      "layout": "IPY_MODEL_4aca44d9eab7466ba854c48a8c53cfb1",
      "placeholder": "​",
      "style": "IPY_MODEL_e3b00cf437c2464c8abf7e49eedade0f",
      "value": "tokenizer_config.json: 100%"
     }
    },
    "3fdf42d01fa44052bfbe634967b21374": {
     "model_module": "@jupyter-widgets/controls",
     "model_name": "FloatProgressModel",
     "model_module_version": "1.5.0",
     "state": {
      "_dom_classes": [],
      "_model_module": "@jupyter-widgets/controls",
      "_model_module_version": "1.5.0",
      "_model_name": "FloatProgressModel",
      "_view_count": null,
      "_view_module": "@jupyter-widgets/controls",
      "_view_module_version": "1.5.0",
      "_view_name": "ProgressView",
      "bar_style": "success",
      "description": "",
      "description_tooltip": null,
      "layout": "IPY_MODEL_df77fe05608940619fe7354674bb1a2e",
      "max": 529,
      "min": 0,
      "orientation": "horizontal",
      "style": "IPY_MODEL_0700d708d5a64484bfc3e92d5453c5f4",
      "value": 529
     }
    },
    "7e5e361b8db54c7bb33322a5228d3616": {
     "model_module": "@jupyter-widgets/controls",
     "model_name": "HTMLModel",
     "model_module_version": "1.5.0",
     "state": {
      "_dom_classes": [],
      "_model_module": "@jupyter-widgets/controls",
      "_model_module_version": "1.5.0",
      "_model_name": "HTMLModel",
      "_view_count": null,
      "_view_module": "@jupyter-widgets/controls",
      "_view_module_version": "1.5.0",
      "_view_name": "HTMLView",
      "description": "",
      "description_tooltip": null,
      "layout": "IPY_MODEL_41057aaf84144e96849d04b7a1c77c70",
      "placeholder": "​",
      "style": "IPY_MODEL_fbd2aadadd794e778cf89cf6e4fa58a2",
      "value": " 529/529 [00:00&lt;00:00, 28.4kB/s]"
     }
    },
    "f87acdcd3db9443fad1094a40af8ce60": {
     "model_module": "@jupyter-widgets/base",
     "model_name": "LayoutModel",
     "model_module_version": "1.2.0",
     "state": {
      "_model_module": "@jupyter-widgets/base",
      "_model_module_version": "1.2.0",
      "_model_name": "LayoutModel",
      "_view_count": null,
      "_view_module": "@jupyter-widgets/base",
      "_view_module_version": "1.2.0",
      "_view_name": "LayoutView",
      "align_content": null,
      "align_items": null,
      "align_self": null,
      "border": null,
      "bottom": null,
      "display": null,
      "flex": null,
      "flex_flow": null,
      "grid_area": null,
      "grid_auto_columns": null,
      "grid_auto_flow": null,
      "grid_auto_rows": null,
      "grid_column": null,
      "grid_gap": null,
      "grid_row": null,
      "grid_template_areas": null,
      "grid_template_columns": null,
      "grid_template_rows": null,
      "height": null,
      "justify_content": null,
      "justify_items": null,
      "left": null,
      "margin": null,
      "max_height": null,
      "max_width": null,
      "min_height": null,
      "min_width": null,
      "object_fit": null,
      "object_position": null,
      "order": null,
      "overflow": null,
      "overflow_x": null,
      "overflow_y": null,
      "padding": null,
      "right": null,
      "top": null,
      "visibility": null,
      "width": null
     }
    },
    "4aca44d9eab7466ba854c48a8c53cfb1": {
     "model_module": "@jupyter-widgets/base",
     "model_name": "LayoutModel",
     "model_module_version": "1.2.0",
     "state": {
      "_model_module": "@jupyter-widgets/base",
      "_model_module_version": "1.2.0",
      "_model_name": "LayoutModel",
      "_view_count": null,
      "_view_module": "@jupyter-widgets/base",
      "_view_module_version": "1.2.0",
      "_view_name": "LayoutView",
      "align_content": null,
      "align_items": null,
      "align_self": null,
      "border": null,
      "bottom": null,
      "display": null,
      "flex": null,
      "flex_flow": null,
      "grid_area": null,
      "grid_auto_columns": null,
      "grid_auto_flow": null,
      "grid_auto_rows": null,
      "grid_column": null,
      "grid_gap": null,
      "grid_row": null,
      "grid_template_areas": null,
      "grid_template_columns": null,
      "grid_template_rows": null,
      "height": null,
      "justify_content": null,
      "justify_items": null,
      "left": null,
      "margin": null,
      "max_height": null,
      "max_width": null,
      "min_height": null,
      "min_width": null,
      "object_fit": null,
      "object_position": null,
      "order": null,
      "overflow": null,
      "overflow_x": null,
      "overflow_y": null,
      "padding": null,
      "right": null,
      "top": null,
      "visibility": null,
      "width": null
     }
    },
    "e3b00cf437c2464c8abf7e49eedade0f": {
     "model_module": "@jupyter-widgets/controls",
     "model_name": "DescriptionStyleModel",
     "model_module_version": "1.5.0",
     "state": {
      "_model_module": "@jupyter-widgets/controls",
      "_model_module_version": "1.5.0",
      "_model_name": "DescriptionStyleModel",
      "_view_count": null,
      "_view_module": "@jupyter-widgets/base",
      "_view_module_version": "1.2.0",
      "_view_name": "StyleView",
      "description_width": ""
     }
    },
    "df77fe05608940619fe7354674bb1a2e": {
     "model_module": "@jupyter-widgets/base",
     "model_name": "LayoutModel",
     "model_module_version": "1.2.0",
     "state": {
      "_model_module": "@jupyter-widgets/base",
      "_model_module_version": "1.2.0",
      "_model_name": "LayoutModel",
      "_view_count": null,
      "_view_module": "@jupyter-widgets/base",
      "_view_module_version": "1.2.0",
      "_view_name": "LayoutView",
      "align_content": null,
      "align_items": null,
      "align_self": null,
      "border": null,
      "bottom": null,
      "display": null,
      "flex": null,
      "flex_flow": null,
      "grid_area": null,
      "grid_auto_columns": null,
      "grid_auto_flow": null,
      "grid_auto_rows": null,
      "grid_column": null,
      "grid_gap": null,
      "grid_row": null,
      "grid_template_areas": null,
      "grid_template_columns": null,
      "grid_template_rows": null,
      "height": null,
      "justify_content": null,
      "justify_items": null,
      "left": null,
      "margin": null,
      "max_height": null,
      "max_width": null,
      "min_height": null,
      "min_width": null,
      "object_fit": null,
      "object_position": null,
      "order": null,
      "overflow": null,
      "overflow_x": null,
      "overflow_y": null,
      "padding": null,
      "right": null,
      "top": null,
      "visibility": null,
      "width": null
     }
    },
    "0700d708d5a64484bfc3e92d5453c5f4": {
     "model_module": "@jupyter-widgets/controls",
     "model_name": "ProgressStyleModel",
     "model_module_version": "1.5.0",
     "state": {
      "_model_module": "@jupyter-widgets/controls",
      "_model_module_version": "1.5.0",
      "_model_name": "ProgressStyleModel",
      "_view_count": null,
      "_view_module": "@jupyter-widgets/base",
      "_view_module_version": "1.2.0",
      "_view_name": "StyleView",
      "bar_color": null,
      "description_width": ""
     }
    },
    "41057aaf84144e96849d04b7a1c77c70": {
     "model_module": "@jupyter-widgets/base",
     "model_name": "LayoutModel",
     "model_module_version": "1.2.0",
     "state": {
      "_model_module": "@jupyter-widgets/base",
      "_model_module_version": "1.2.0",
      "_model_name": "LayoutModel",
      "_view_count": null,
      "_view_module": "@jupyter-widgets/base",
      "_view_module_version": "1.2.0",
      "_view_name": "LayoutView",
      "align_content": null,
      "align_items": null,
      "align_self": null,
      "border": null,
      "bottom": null,
      "display": null,
      "flex": null,
      "flex_flow": null,
      "grid_area": null,
      "grid_auto_columns": null,
      "grid_auto_flow": null,
      "grid_auto_rows": null,
      "grid_column": null,
      "grid_gap": null,
      "grid_row": null,
      "grid_template_areas": null,
      "grid_template_columns": null,
      "grid_template_rows": null,
      "height": null,
      "justify_content": null,
      "justify_items": null,
      "left": null,
      "margin": null,
      "max_height": null,
      "max_width": null,
      "min_height": null,
      "min_width": null,
      "object_fit": null,
      "object_position": null,
      "order": null,
      "overflow": null,
      "overflow_x": null,
      "overflow_y": null,
      "padding": null,
      "right": null,
      "top": null,
      "visibility": null,
      "width": null
     }
    },
    "fbd2aadadd794e778cf89cf6e4fa58a2": {
     "model_module": "@jupyter-widgets/controls",
     "model_name": "DescriptionStyleModel",
     "model_module_version": "1.5.0",
     "state": {
      "_model_module": "@jupyter-widgets/controls",
      "_model_module_version": "1.5.0",
      "_model_name": "DescriptionStyleModel",
      "_view_count": null,
      "_view_module": "@jupyter-widgets/base",
      "_view_module_version": "1.2.0",
      "_view_name": "StyleView",
      "description_width": ""
     }
    },
    "e1b0ffd9faa04538bc688c300778a820": {
     "model_module": "@jupyter-widgets/controls",
     "model_name": "HBoxModel",
     "model_module_version": "1.5.0",
     "state": {
      "_dom_classes": [],
      "_model_module": "@jupyter-widgets/controls",
      "_model_module_version": "1.5.0",
      "_model_name": "HBoxModel",
      "_view_count": null,
      "_view_module": "@jupyter-widgets/controls",
      "_view_module_version": "1.5.0",
      "_view_name": "HBoxView",
      "box_style": "",
      "children": [
       "IPY_MODEL_41780be4b45b43fba47631e3b94bbe97",
       "IPY_MODEL_4c19dc62279644879964bedb4fbd4bdd",
       "IPY_MODEL_f4f13d82b56e4b529a57cfe4c07f318a"
      ],
      "layout": "IPY_MODEL_028b8d5d1fa04092a1f230f898e41fd3"
     }
    },
    "41780be4b45b43fba47631e3b94bbe97": {
     "model_module": "@jupyter-widgets/controls",
     "model_name": "HTMLModel",
     "model_module_version": "1.5.0",
     "state": {
      "_dom_classes": [],
      "_model_module": "@jupyter-widgets/controls",
      "_model_module_version": "1.5.0",
      "_model_name": "HTMLModel",
      "_view_count": null,
      "_view_module": "@jupyter-widgets/controls",
      "_view_module_version": "1.5.0",
      "_view_name": "HTMLView",
      "description": "",
      "description_tooltip": null,
      "layout": "IPY_MODEL_534d26208fff4427820c093658f3573d",
      "placeholder": "​",
      "style": "IPY_MODEL_bf638f3be6bd43258f3a73d480e793e5",
      "value": "sentencepiece.bpe.model: 100%"
     }
    },
    "4c19dc62279644879964bedb4fbd4bdd": {
     "model_module": "@jupyter-widgets/controls",
     "model_name": "FloatProgressModel",
     "model_module_version": "1.5.0",
     "state": {
      "_dom_classes": [],
      "_model_module": "@jupyter-widgets/controls",
      "_model_module_version": "1.5.0",
      "_model_name": "FloatProgressModel",
      "_view_count": null,
      "_view_module": "@jupyter-widgets/controls",
      "_view_module_version": "1.5.0",
      "_view_name": "ProgressView",
      "bar_style": "success",
      "description": "",
      "description_tooltip": null,
      "layout": "IPY_MODEL_538f24ba79dc4c4fb92dbdb72b53ff57",
      "max": 5069051,
      "min": 0,
      "orientation": "horizontal",
      "style": "IPY_MODEL_d96e2cd01e28494b96f92189ab0667ae",
      "value": 5069051
     }
    },
    "f4f13d82b56e4b529a57cfe4c07f318a": {
     "model_module": "@jupyter-widgets/controls",
     "model_name": "HTMLModel",
     "model_module_version": "1.5.0",
     "state": {
      "_dom_classes": [],
      "_model_module": "@jupyter-widgets/controls",
      "_model_module_version": "1.5.0",
      "_model_name": "HTMLModel",
      "_view_count": null,
      "_view_module": "@jupyter-widgets/controls",
      "_view_module_version": "1.5.0",
      "_view_name": "HTMLView",
      "description": "",
      "description_tooltip": null,
      "layout": "IPY_MODEL_77de3e572d49451b89810f43f34003d9",
      "placeholder": "​",
      "style": "IPY_MODEL_baa7e9de0a8041c4aeaad3ebdbdaae7f",
      "value": " 5.07M/5.07M [00:00&lt;00:00, 20.6MB/s]"
     }
    },
    "028b8d5d1fa04092a1f230f898e41fd3": {
     "model_module": "@jupyter-widgets/base",
     "model_name": "LayoutModel",
     "model_module_version": "1.2.0",
     "state": {
      "_model_module": "@jupyter-widgets/base",
      "_model_module_version": "1.2.0",
      "_model_name": "LayoutModel",
      "_view_count": null,
      "_view_module": "@jupyter-widgets/base",
      "_view_module_version": "1.2.0",
      "_view_name": "LayoutView",
      "align_content": null,
      "align_items": null,
      "align_self": null,
      "border": null,
      "bottom": null,
      "display": null,
      "flex": null,
      "flex_flow": null,
      "grid_area": null,
      "grid_auto_columns": null,
      "grid_auto_flow": null,
      "grid_auto_rows": null,
      "grid_column": null,
      "grid_gap": null,
      "grid_row": null,
      "grid_template_areas": null,
      "grid_template_columns": null,
      "grid_template_rows": null,
      "height": null,
      "justify_content": null,
      "justify_items": null,
      "left": null,
      "margin": null,
      "max_height": null,
      "max_width": null,
      "min_height": null,
      "min_width": null,
      "object_fit": null,
      "object_position": null,
      "order": null,
      "overflow": null,
      "overflow_x": null,
      "overflow_y": null,
      "padding": null,
      "right": null,
      "top": null,
      "visibility": null,
      "width": null
     }
    },
    "534d26208fff4427820c093658f3573d": {
     "model_module": "@jupyter-widgets/base",
     "model_name": "LayoutModel",
     "model_module_version": "1.2.0",
     "state": {
      "_model_module": "@jupyter-widgets/base",
      "_model_module_version": "1.2.0",
      "_model_name": "LayoutModel",
      "_view_count": null,
      "_view_module": "@jupyter-widgets/base",
      "_view_module_version": "1.2.0",
      "_view_name": "LayoutView",
      "align_content": null,
      "align_items": null,
      "align_self": null,
      "border": null,
      "bottom": null,
      "display": null,
      "flex": null,
      "flex_flow": null,
      "grid_area": null,
      "grid_auto_columns": null,
      "grid_auto_flow": null,
      "grid_auto_rows": null,
      "grid_column": null,
      "grid_gap": null,
      "grid_row": null,
      "grid_template_areas": null,
      "grid_template_columns": null,
      "grid_template_rows": null,
      "height": null,
      "justify_content": null,
      "justify_items": null,
      "left": null,
      "margin": null,
      "max_height": null,
      "max_width": null,
      "min_height": null,
      "min_width": null,
      "object_fit": null,
      "object_position": null,
      "order": null,
      "overflow": null,
      "overflow_x": null,
      "overflow_y": null,
      "padding": null,
      "right": null,
      "top": null,
      "visibility": null,
      "width": null
     }
    },
    "bf638f3be6bd43258f3a73d480e793e5": {
     "model_module": "@jupyter-widgets/controls",
     "model_name": "DescriptionStyleModel",
     "model_module_version": "1.5.0",
     "state": {
      "_model_module": "@jupyter-widgets/controls",
      "_model_module_version": "1.5.0",
      "_model_name": "DescriptionStyleModel",
      "_view_count": null,
      "_view_module": "@jupyter-widgets/base",
      "_view_module_version": "1.2.0",
      "_view_name": "StyleView",
      "description_width": ""
     }
    },
    "538f24ba79dc4c4fb92dbdb72b53ff57": {
     "model_module": "@jupyter-widgets/base",
     "model_name": "LayoutModel",
     "model_module_version": "1.2.0",
     "state": {
      "_model_module": "@jupyter-widgets/base",
      "_model_module_version": "1.2.0",
      "_model_name": "LayoutModel",
      "_view_count": null,
      "_view_module": "@jupyter-widgets/base",
      "_view_module_version": "1.2.0",
      "_view_name": "LayoutView",
      "align_content": null,
      "align_items": null,
      "align_self": null,
      "border": null,
      "bottom": null,
      "display": null,
      "flex": null,
      "flex_flow": null,
      "grid_area": null,
      "grid_auto_columns": null,
      "grid_auto_flow": null,
      "grid_auto_rows": null,
      "grid_column": null,
      "grid_gap": null,
      "grid_row": null,
      "grid_template_areas": null,
      "grid_template_columns": null,
      "grid_template_rows": null,
      "height": null,
      "justify_content": null,
      "justify_items": null,
      "left": null,
      "margin": null,
      "max_height": null,
      "max_width": null,
      "min_height": null,
      "min_width": null,
      "object_fit": null,
      "object_position": null,
      "order": null,
      "overflow": null,
      "overflow_x": null,
      "overflow_y": null,
      "padding": null,
      "right": null,
      "top": null,
      "visibility": null,
      "width": null
     }
    },
    "d96e2cd01e28494b96f92189ab0667ae": {
     "model_module": "@jupyter-widgets/controls",
     "model_name": "ProgressStyleModel",
     "model_module_version": "1.5.0",
     "state": {
      "_model_module": "@jupyter-widgets/controls",
      "_model_module_version": "1.5.0",
      "_model_name": "ProgressStyleModel",
      "_view_count": null,
      "_view_module": "@jupyter-widgets/base",
      "_view_module_version": "1.2.0",
      "_view_name": "StyleView",
      "bar_color": null,
      "description_width": ""
     }
    },
    "77de3e572d49451b89810f43f34003d9": {
     "model_module": "@jupyter-widgets/base",
     "model_name": "LayoutModel",
     "model_module_version": "1.2.0",
     "state": {
      "_model_module": "@jupyter-widgets/base",
      "_model_module_version": "1.2.0",
      "_model_name": "LayoutModel",
      "_view_count": null,
      "_view_module": "@jupyter-widgets/base",
      "_view_module_version": "1.2.0",
      "_view_name": "LayoutView",
      "align_content": null,
      "align_items": null,
      "align_self": null,
      "border": null,
      "bottom": null,
      "display": null,
      "flex": null,
      "flex_flow": null,
      "grid_area": null,
      "grid_auto_columns": null,
      "grid_auto_flow": null,
      "grid_auto_rows": null,
      "grid_column": null,
      "grid_gap": null,
      "grid_row": null,
      "grid_template_areas": null,
      "grid_template_columns": null,
      "grid_template_rows": null,
      "height": null,
      "justify_content": null,
      "justify_items": null,
      "left": null,
      "margin": null,
      "max_height": null,
      "max_width": null,
      "min_height": null,
      "min_width": null,
      "object_fit": null,
      "object_position": null,
      "order": null,
      "overflow": null,
      "overflow_x": null,
      "overflow_y": null,
      "padding": null,
      "right": null,
      "top": null,
      "visibility": null,
      "width": null
     }
    },
    "baa7e9de0a8041c4aeaad3ebdbdaae7f": {
     "model_module": "@jupyter-widgets/controls",
     "model_name": "DescriptionStyleModel",
     "model_module_version": "1.5.0",
     "state": {
      "_model_module": "@jupyter-widgets/controls",
      "_model_module_version": "1.5.0",
      "_model_name": "DescriptionStyleModel",
      "_view_count": null,
      "_view_module": "@jupyter-widgets/base",
      "_view_module_version": "1.2.0",
      "_view_name": "StyleView",
      "description_width": ""
     }
    },
    "d1fd23472bc64cbf902345d32d5e7e71": {
     "model_module": "@jupyter-widgets/controls",
     "model_name": "HBoxModel",
     "model_module_version": "1.5.0",
     "state": {
      "_dom_classes": [],
      "_model_module": "@jupyter-widgets/controls",
      "_model_module_version": "1.5.0",
      "_model_name": "HBoxModel",
      "_view_count": null,
      "_view_module": "@jupyter-widgets/controls",
      "_view_module_version": "1.5.0",
      "_view_name": "HBoxView",
      "box_style": "",
      "children": [
       "IPY_MODEL_a0610325dedb4a81ae54c43b191acb95",
       "IPY_MODEL_504437deabd7463eaa10fcc99d44f4b0",
       "IPY_MODEL_7459a36aa1434149a76bf5a486c7dafa"
      ],
      "layout": "IPY_MODEL_d4d8f694d8f5462c9b759acb6848c993"
     }
    },
    "a0610325dedb4a81ae54c43b191acb95": {
     "model_module": "@jupyter-widgets/controls",
     "model_name": "HTMLModel",
     "model_module_version": "1.5.0",
     "state": {
      "_dom_classes": [],
      "_model_module": "@jupyter-widgets/controls",
      "_model_module_version": "1.5.0",
      "_model_name": "HTMLModel",
      "_view_count": null,
      "_view_module": "@jupyter-widgets/controls",
      "_view_module_version": "1.5.0",
      "_view_name": "HTMLView",
      "description": "",
      "description_tooltip": null,
      "layout": "IPY_MODEL_1b41e6fb5ecc468c9d296ba96685df36",
      "placeholder": "​",
      "style": "IPY_MODEL_7875120bdd6a43ce804e7f3f6bb9aa64",
      "value": "special_tokens_map.json: 100%"
     }
    },
    "504437deabd7463eaa10fcc99d44f4b0": {
     "model_module": "@jupyter-widgets/controls",
     "model_name": "FloatProgressModel",
     "model_module_version": "1.5.0",
     "state": {
      "_dom_classes": [],
      "_model_module": "@jupyter-widgets/controls",
      "_model_module_version": "1.5.0",
      "_model_name": "FloatProgressModel",
      "_view_count": null,
      "_view_module": "@jupyter-widgets/controls",
      "_view_module_version": "1.5.0",
      "_view_name": "ProgressView",
      "bar_style": "success",
      "description": "",
      "description_tooltip": null,
      "layout": "IPY_MODEL_4cf2f599c5af4677aa5c404dd47371fe",
      "max": 649,
      "min": 0,
      "orientation": "horizontal",
      "style": "IPY_MODEL_93e93c4c236c4414955e6d6ae4a32857",
      "value": 649
     }
    },
    "7459a36aa1434149a76bf5a486c7dafa": {
     "model_module": "@jupyter-widgets/controls",
     "model_name": "HTMLModel",
     "model_module_version": "1.5.0",
     "state": {
      "_dom_classes": [],
      "_model_module": "@jupyter-widgets/controls",
      "_model_module_version": "1.5.0",
      "_model_name": "HTMLModel",
      "_view_count": null,
      "_view_module": "@jupyter-widgets/controls",
      "_view_module_version": "1.5.0",
      "_view_name": "HTMLView",
      "description": "",
      "description_tooltip": null,
      "layout": "IPY_MODEL_13a3dde5818a4516bf15746fb2ee61b7",
      "placeholder": "​",
      "style": "IPY_MODEL_366730b14bdc4b1e8b9783beec97bd1b",
      "value": " 649/649 [00:00&lt;00:00, 37.2kB/s]"
     }
    },
    "d4d8f694d8f5462c9b759acb6848c993": {
     "model_module": "@jupyter-widgets/base",
     "model_name": "LayoutModel",
     "model_module_version": "1.2.0",
     "state": {
      "_model_module": "@jupyter-widgets/base",
      "_model_module_version": "1.2.0",
      "_model_name": "LayoutModel",
      "_view_count": null,
      "_view_module": "@jupyter-widgets/base",
      "_view_module_version": "1.2.0",
      "_view_name": "LayoutView",
      "align_content": null,
      "align_items": null,
      "align_self": null,
      "border": null,
      "bottom": null,
      "display": null,
      "flex": null,
      "flex_flow": null,
      "grid_area": null,
      "grid_auto_columns": null,
      "grid_auto_flow": null,
      "grid_auto_rows": null,
      "grid_column": null,
      "grid_gap": null,
      "grid_row": null,
      "grid_template_areas": null,
      "grid_template_columns": null,
      "grid_template_rows": null,
      "height": null,
      "justify_content": null,
      "justify_items": null,
      "left": null,
      "margin": null,
      "max_height": null,
      "max_width": null,
      "min_height": null,
      "min_width": null,
      "object_fit": null,
      "object_position": null,
      "order": null,
      "overflow": null,
      "overflow_x": null,
      "overflow_y": null,
      "padding": null,
      "right": null,
      "top": null,
      "visibility": null,
      "width": null
     }
    },
    "1b41e6fb5ecc468c9d296ba96685df36": {
     "model_module": "@jupyter-widgets/base",
     "model_name": "LayoutModel",
     "model_module_version": "1.2.0",
     "state": {
      "_model_module": "@jupyter-widgets/base",
      "_model_module_version": "1.2.0",
      "_model_name": "LayoutModel",
      "_view_count": null,
      "_view_module": "@jupyter-widgets/base",
      "_view_module_version": "1.2.0",
      "_view_name": "LayoutView",
      "align_content": null,
      "align_items": null,
      "align_self": null,
      "border": null,
      "bottom": null,
      "display": null,
      "flex": null,
      "flex_flow": null,
      "grid_area": null,
      "grid_auto_columns": null,
      "grid_auto_flow": null,
      "grid_auto_rows": null,
      "grid_column": null,
      "grid_gap": null,
      "grid_row": null,
      "grid_template_areas": null,
      "grid_template_columns": null,
      "grid_template_rows": null,
      "height": null,
      "justify_content": null,
      "justify_items": null,
      "left": null,
      "margin": null,
      "max_height": null,
      "max_width": null,
      "min_height": null,
      "min_width": null,
      "object_fit": null,
      "object_position": null,
      "order": null,
      "overflow": null,
      "overflow_x": null,
      "overflow_y": null,
      "padding": null,
      "right": null,
      "top": null,
      "visibility": null,
      "width": null
     }
    },
    "7875120bdd6a43ce804e7f3f6bb9aa64": {
     "model_module": "@jupyter-widgets/controls",
     "model_name": "DescriptionStyleModel",
     "model_module_version": "1.5.0",
     "state": {
      "_model_module": "@jupyter-widgets/controls",
      "_model_module_version": "1.5.0",
      "_model_name": "DescriptionStyleModel",
      "_view_count": null,
      "_view_module": "@jupyter-widgets/base",
      "_view_module_version": "1.2.0",
      "_view_name": "StyleView",
      "description_width": ""
     }
    },
    "4cf2f599c5af4677aa5c404dd47371fe": {
     "model_module": "@jupyter-widgets/base",
     "model_name": "LayoutModel",
     "model_module_version": "1.2.0",
     "state": {
      "_model_module": "@jupyter-widgets/base",
      "_model_module_version": "1.2.0",
      "_model_name": "LayoutModel",
      "_view_count": null,
      "_view_module": "@jupyter-widgets/base",
      "_view_module_version": "1.2.0",
      "_view_name": "LayoutView",
      "align_content": null,
      "align_items": null,
      "align_self": null,
      "border": null,
      "bottom": null,
      "display": null,
      "flex": null,
      "flex_flow": null,
      "grid_area": null,
      "grid_auto_columns": null,
      "grid_auto_flow": null,
      "grid_auto_rows": null,
      "grid_column": null,
      "grid_gap": null,
      "grid_row": null,
      "grid_template_areas": null,
      "grid_template_columns": null,
      "grid_template_rows": null,
      "height": null,
      "justify_content": null,
      "justify_items": null,
      "left": null,
      "margin": null,
      "max_height": null,
      "max_width": null,
      "min_height": null,
      "min_width": null,
      "object_fit": null,
      "object_position": null,
      "order": null,
      "overflow": null,
      "overflow_x": null,
      "overflow_y": null,
      "padding": null,
      "right": null,
      "top": null,
      "visibility": null,
      "width": null
     }
    },
    "93e93c4c236c4414955e6d6ae4a32857": {
     "model_module": "@jupyter-widgets/controls",
     "model_name": "ProgressStyleModel",
     "model_module_version": "1.5.0",
     "state": {
      "_model_module": "@jupyter-widgets/controls",
      "_model_module_version": "1.5.0",
      "_model_name": "ProgressStyleModel",
      "_view_count": null,
      "_view_module": "@jupyter-widgets/base",
      "_view_module_version": "1.2.0",
      "_view_name": "StyleView",
      "bar_color": null,
      "description_width": ""
     }
    },
    "13a3dde5818a4516bf15746fb2ee61b7": {
     "model_module": "@jupyter-widgets/base",
     "model_name": "LayoutModel",
     "model_module_version": "1.2.0",
     "state": {
      "_model_module": "@jupyter-widgets/base",
      "_model_module_version": "1.2.0",
      "_model_name": "LayoutModel",
      "_view_count": null,
      "_view_module": "@jupyter-widgets/base",
      "_view_module_version": "1.2.0",
      "_view_name": "LayoutView",
      "align_content": null,
      "align_items": null,
      "align_self": null,
      "border": null,
      "bottom": null,
      "display": null,
      "flex": null,
      "flex_flow": null,
      "grid_area": null,
      "grid_auto_columns": null,
      "grid_auto_flow": null,
      "grid_auto_rows": null,
      "grid_column": null,
      "grid_gap": null,
      "grid_row": null,
      "grid_template_areas": null,
      "grid_template_columns": null,
      "grid_template_rows": null,
      "height": null,
      "justify_content": null,
      "justify_items": null,
      "left": null,
      "margin": null,
      "max_height": null,
      "max_width": null,
      "min_height": null,
      "min_width": null,
      "object_fit": null,
      "object_position": null,
      "order": null,
      "overflow": null,
      "overflow_x": null,
      "overflow_y": null,
      "padding": null,
      "right": null,
      "top": null,
      "visibility": null,
      "width": null
     }
    },
    "366730b14bdc4b1e8b9783beec97bd1b": {
     "model_module": "@jupyter-widgets/controls",
     "model_name": "DescriptionStyleModel",
     "model_module_version": "1.5.0",
     "state": {
      "_model_module": "@jupyter-widgets/controls",
      "_model_module_version": "1.5.0",
      "_model_name": "DescriptionStyleModel",
      "_view_count": null,
      "_view_module": "@jupyter-widgets/base",
      "_view_module_version": "1.2.0",
      "_view_name": "StyleView",
      "description_width": ""
     }
    }
   }
  }
 },
 "nbformat": 4,
 "nbformat_minor": 0
}
