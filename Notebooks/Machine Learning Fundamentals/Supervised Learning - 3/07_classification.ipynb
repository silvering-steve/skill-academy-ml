{
  "cells": [
    {
      "cell_type": "markdown",
      "metadata": {
        "id": "mEY9gEkPHmSx"
      },
      "source": [
        "## Classification\n",
        "\n",
        "Having explored how linear regression can help us predict house prices, let's shift our attention to another powerful technique in the field of **supervised learning: classification**. While regression is best used for predicting continuous values like house prices, **classification comes into its own when we need to sort data into specific categories**."
      ]
    },
    {
      "cell_type": "markdown",
      "metadata": {
        "id": "woJSn_xxHmS0"
      },
      "source": [
        "### Introduction to Classification\n",
        "\n",
        "Classification is **a type of supervised learning where the output is a categorical variable**. This means that the algorithm is trained on a labeled dataset, and it uses this training to categorize new, unseen data into specific classes. **The output, or label, is a category**, such as \"spam\" or \"not spam\" for an email classification system, or \"malignant\" or \"benign\" for a tumor classification system.\n",
        "\n",
        "![classification](https://storage.googleapis.com/rg-ai-bootcamp/machine-learning/classification-min.png)\n",
        "\n",
        "By convention, we can refer to these two classes or categories in several general ways. We often define clauses as `no` or `yes` or sometimes as equivalent to `False` or `True` or very commonly use the numbers `0` or `1`. One technology commonly used is to call The `False` or `0` class, The negative class and The `True` class or `1` class, The positive class.\n",
        "\n",
        "| False | True |\n",
        "|:-----:|:----:|\n",
        "| No | Yes |\n",
        "| 0 | 1 |\n",
        "| Negative class | Positive class |\n",
        "\n",
        "There are two main types of classification problems:\n",
        "\n",
        "1. **Binary Classification**: In binary classification, there are **only two possible categories**. The tumors classification example mentioned above is a binary classification problem, where the two categories are \"malignant\" and \"benign\".\n",
        "\n",
        "2. **Multiclass Classification**: In multiclass classification, there are **more than two categories**. For example, a model that classifies news articles into categories like \"sports\", \"politics\", \"technology\", and \"entertainment\" would be a multiclass classification problem."
      ]
    },
    {
      "cell_type": "markdown",
      "metadata": {
        "id": "F8HNLP8xHmS1"
      },
      "source": [
        "\n",
        "\n",
        "Let's take a closer look at the tumor classification example to understand how classification works.\n",
        "\n",
        "Imagine you're a doctor who specializes in diagnosing tumors. Over the years, you've seen thousands of patients and have developed an intuition for diagnosing whether a tumor is malignant (cancerous) or benign (not cancerous) based on certain features such as the size of the tumor, its shape, and the rate at which it's growing.\n",
        "\n",
        "Now, suppose you want to train a machine learning model to do this task. You would start by collecting a dataset of tumors for which you already know the diagnosis. Each tumor in this dataset is labeled either \"malignant\" or \"benign\" - these are your classes. The features of each tumor, such as its size, shape, and growth rate, are your input variables.\n",
        "\n",
        "![tumor-classification](https://storage.googleapis.com/rg-ai-bootcamp/machine-learning/tumor-classification-min.png)\n",
        "\n",
        "You feed this labeled dataset into your classification algorithm, which learns a function that maps the input variables (the features of the tumor) to the output variable (the class label). This function is essentially a decision boundary that separates the different classes based on the input variables.\n",
        "\n",
        "Once the model is trained, you can use it to classify new, unseen tumors. You input the features of the new tumor into the model, and it outputs a class label - either \"malignant\" or \"benign\". The model has essentially learned to mimic your decision-making process based on the training you gave it."
      ]
    },
    {
      "cell_type": "markdown",
      "metadata": {
        "id": "i1ay5wC-HmS2"
      },
      "source": [
        "#### Types of Classification Algorithms\n",
        "\n",
        "There are many algorithms that can be used for classification tasks, each with its own strengths and weaknesses. Some of the most commonly used ones include:\n",
        "\n",
        "1. **Logistic Regression**: Despite its name, logistic regression is used for classification tasks. It uses the logistic function to transform its output into a probability that can be used to predict a class label.\n",
        "\n",
        "2. **Decision Trees**: These are simple yet powerful algorithms that split the feature space into regions. For any new instance, the algorithm checks which region it belongs to and assigns the class label accordingly.\n",
        "\n",
        "3. **Random Forests**: This is a type of ensemble method that combines multiple decision trees to make a more accurate prediction.\n",
        "\n",
        "4. **Support Vector Machines (SVMs)**: SVMs try to find a hyperplane that best separates the classes in the feature space.\n",
        "\n",
        "5. **Neural Networks**: These are powerful and flexible algorithms that can learn complex patterns. They are particularly useful when dealing with high-dimensional data, such as images."
      ]
    },
    {
      "cell_type": "markdown",
      "source": [
        "## Logistic Regression"
      ],
      "metadata": {
        "id": "-Uu1crgh4UWQ"
      }
    },
    {
      "cell_type": "markdown",
      "metadata": {
        "id": "4bdeOjzPHmS2"
      },
      "source": [
        "### Euler Number\n",
        "\n",
        "Before we go deeper, let's learn a bit of Math first.\n",
        "\n",
        "Euler's number, often denoted as `e`, is a special mathematical constant that is approximately equal to `2.71828`. It's named after the Swiss mathematician Leonhard Euler. Euler's number is the base of natural logarithms and has several unique properties that make it fundamental in mathematics, especially in calculus.\n",
        "\n",
        "But where does Euler's number come from? Euler's number arises naturally when dealing with growth phenomena. Let's use a simple compound interest analogy:\n",
        "\n",
        "Suppose you have `$1` and you're getting 100% interest per year.\n",
        "\n",
        "- If the interest is compounded annually (i.e., at the end of the year), after one year you'll have `$2`.\n",
        "\n",
        "- If the interest is compounded semi-annually (twice a year), you would get more than $2. Specifically, you would get `sqrt(2)^2 = 2.25`.\n",
        "\n",
        "As we increase the frequency of compounding, the total amount after 1 year increases.\n",
        "\n",
        "- If we compound quarterly, we get around `$2.4414`.\n",
        "- Compounding monthly gives us around `$2.6130`.\n",
        "- Compounding daily increases the amount to approximately `$2.7146`.\n",
        "\n",
        "As we continue compounding more frequently (every minute, every second, and so on), the limit we reach as the compounding gets infinitely frequent is precisely Euler's number `e` dollars or around `$2.71828`.\n",
        "\n",
        "| Compounded per year `n` | Total Amount after 1 year |\n",
        "| :---------------------: | :-----------------------: |\n",
        "| 1 (annually)            | 2                         |\n",
        "| 2 (semi-annually)       | 2.25                      |\n",
        "| 4 (quarterly)           | 2.4414                    |\n",
        "| 12 (monthly)            | 2.6130                    |\n",
        "| 365 (daily)             | 2.7146                    |\n",
        "| 1,000                   | 2.7169                    |\n",
        "| 10,000                  | 2.7181                    |\n",
        "| 100,000                 | 2.7182                    |\n",
        "| 1,000,000               | 2.71828                   |\n",
        "| ∞ (continuously)        | e ≈ 2.71828               |\n",
        "\n",
        "You can also try using different interest rates in here: [Eulers number](https://docs.google.com/spreadsheets/d/1pfa22C2cU8Zei8_lwcH5JzwSW3MReipF8l3MpD-3s18/edit?usp=sharing)"
      ]
    },
    {
      "cell_type": "markdown",
      "metadata": {
        "id": "IdZWIDolHmS3"
      },
      "source": [
        "As `n` becomes very large, this expression approaches `e`. The mathematical formula is:\n",
        "\n",
        "$$e = (1 + \\frac{1}{n})^n$$\n",
        "\n",
        "\n",
        "If a quantity grows at a rate proportional to its current size—a property known as \"exponential growth\"—then that growth is often described naturally using `e`.\n",
        "\n",
        "Here are a few other examples:\n",
        "\n",
        "- In population biology, if a population of organisms grows without bounds (i.e., has unlimited resources and no competition or predation), the population will grow exponentially over time. This growth can be modeled using `e`.\n",
        "\n",
        "- In physics, certain quantities decay exponentially, like radioactive substances or the damping of a pendulum. The decay is often modeled using `e`.\n",
        "\n",
        "So, while `e` is often associated with growth, it's specifically constant proportional growth (or decay)—in other words, situations where the rate of change of a quantity is proportional to the quantity itself. It helps us model and understand phenomena where things grow proportionally to their current amount, a kind of growth that's common in nature and financial systems."
      ]
    },
    {
      "cell_type": "markdown",
      "metadata": {
        "id": "sU_Br_V3HmS3"
      },
      "source": [
        "In NumPy, you can use Euler's number with the `exp()` function. Here's how you can get the value of `e`:\n",
        "\n",
        "```python\n",
        "import numpy as np\n",
        "print(np.exp())\n",
        "```\n",
        "\n",
        "Here is an example of how `Euler's Number` is used in Numpy with the `exp()` function:"
      ]
    },
    {
      "cell_type": "code",
      "execution_count": null,
      "metadata": {
        "id": "4uf4wdDaHmS4",
        "outputId": "0f305bbd-8673-41a5-fddb-2368d8420504",
        "colab": {
          "base_uri": "https://localhost:8080/"
        }
      },
      "outputs": [
        {
          "output_type": "stream",
          "name": "stdout",
          "text": [
            "2.718281828459045\n",
            "7.38905609893065\n",
            "[ 2.718  7.389 20.086]\n"
          ]
        }
      ],
      "source": [
        "import numpy as np\n",
        "\n",
        "# Input is a single number\n",
        "print(np.exp(1))\n",
        "print(np.exp(2))\n",
        "\n",
        "# Input is an array\n",
        "print(np.exp(np.array([1,2,3])))"
      ]
    },
    {
      "cell_type": "code",
      "source": [
        "2.718281828459045 * 2.718281828459045"
      ],
      "metadata": {
        "colab": {
          "base_uri": "https://localhost:8080/"
        },
        "id": "bL---_r16Svl",
        "outputId": "ffd06952-1c84-412b-d680-edd9927c0619"
      },
      "execution_count": null,
      "outputs": [
        {
          "output_type": "execute_result",
          "data": {
            "text/plain": [
              "7.3890560989306495"
            ]
          },
          "metadata": {},
          "execution_count": 27
        }
      ]
    },
    {
      "cell_type": "markdown",
      "metadata": {
        "id": "80bn9TS2HmS6"
      },
      "source": [
        "We won't go too deep into Euler's number or `e`, we'll focus more on the practical use, for now we'll use `e` as a constant in our machine learning calculation."
      ]
    },
    {
      "cell_type": "markdown",
      "metadata": {
        "id": "Ec7IakUxHmS6"
      },
      "source": [
        "### Sigmoid / Logistic Function\n",
        "\n",
        "Now, we'll take a look at Sigmoid function. Let's see what the it looks like:"
      ]
    },
    {
      "cell_type": "code",
      "source": [
        "y_value = [0, 1, 0, 1, 1, 1]\n",
        "\n",
        "hasil_sigmoid = [0.5, 0.4, 0.9, 0.7, 0.6]\n",
        "threshold_priobability = 0.3\n",
        "hasil_sigmoid = [1, 1, 1, 1, 1]"
      ],
      "metadata": {
        "id": "HsTg2xWA7p4X"
      },
      "execution_count": null,
      "outputs": []
    },
    {
      "cell_type": "code",
      "source": [
        "# Create a sigmoid function\n",
        "def sigmoid(x):\n",
        "    return 1 / (1 + np.exp(-x))"
      ],
      "metadata": {
        "id": "NmPUJVUw6kIw"
      },
      "execution_count": null,
      "outputs": []
    },
    {
      "cell_type": "code",
      "source": [
        "hasil_linear_regresi = 999999999999 #USD\n",
        "\n",
        "sigmoid(hasil_linear_regresi)"
      ],
      "metadata": {
        "colab": {
          "base_uri": "https://localhost:8080/"
        },
        "id": "hvO3Ncug6lOV",
        "outputId": "31f281b7-3a87-4f2f-bb86-0e9b972a81da"
      },
      "execution_count": null,
      "outputs": [
        {
          "output_type": "execute_result",
          "data": {
            "text/plain": [
              "1.0"
            ]
          },
          "metadata": {},
          "execution_count": 30
        }
      ]
    },
    {
      "cell_type": "code",
      "execution_count": null,
      "metadata": {
        "id": "Ik--E37IHmS6",
        "outputId": "bec625cc-b810-45b7-e150-cf01fbd06a4f",
        "colab": {
          "base_uri": "https://localhost:8080/",
          "height": 545
        }
      },
      "outputs": [
        {
          "output_type": "display_data",
          "data": {
            "text/plain": [
              "<Figure size 900x600 with 1 Axes>"
            ],
            "image/png": "[encoded data removed]"
          },
          "metadata": {}
        }
      ],
      "source": [
        "import numpy as np\n",
        "import matplotlib.pyplot as plt\n",
        "\n",
        "# Create a sigmoid function\n",
        "def sigmoid(x):\n",
        "    return 1 / (1 + np.exp(-x))\n",
        "\n",
        "# Generate x values\n",
        "x = np.linspace(-10, 10, 100)\n",
        "\n",
        "# Compute sigmoid(x)\n",
        "y = sigmoid(x)\n",
        "\n",
        "# Create the plot\n",
        "plt.figure(figsize=(9, 6))\n",
        "plt.plot(x, y, label=\"sigmoid function\")\n",
        "plt.title('Sigmoid Function')\n",
        "plt.legend(loc='best')\n",
        "plt.show()"
      ]
    },
    {
      "cell_type": "markdown",
      "source": [
        "binary --> sigmoid\n",
        "multiclass. --> softmax"
      ],
      "metadata": {
        "id": "34zz8mJa86j-"
      }
    },
    {
      "cell_type": "code",
      "source": [
        "hasil_linear_regresi = -1 #USD\n",
        "\n",
        "sigmoid(hasil_linear_regresi)"
      ],
      "metadata": {
        "colab": {
          "base_uri": "https://localhost:8080/"
        },
        "id": "jCIi340l8tmV",
        "outputId": "94f1961e-a91f-4004-82a8-3c462a6d0ac2"
      },
      "execution_count": null,
      "outputs": [
        {
          "output_type": "execute_result",
          "data": {
            "text/plain": [
              "0.2689414213699951"
            ]
          },
          "metadata": {},
          "execution_count": 32
        }
      ]
    },
    {
      "cell_type": "markdown",
      "metadata": {
        "id": "2WS2v4l5HmS7"
      },
      "source": [
        "The mathematical formula for a Sigmoid function is as follows:\n",
        "\n",
        "$$g(z) = \\frac{1}{1+e^{-z}}$$\n",
        "\n",
        "The `sigmoid` function is implemented in python as shown in the cell below."
      ]
    },
    {
      "cell_type": "code",
      "execution_count": null,
      "metadata": {
        "id": "GjqwkJSgHmS7"
      },
      "outputs": [],
      "source": [
        "def sigmoid(z):\n",
        "    \"\"\"\n",
        "    Compute the sigmoid of z\n",
        "\n",
        "    Args:\n",
        "        z (ndarray): A scalar, numpy array of any size.\n",
        "\n",
        "    Returns:\n",
        "        g (ndarray): sigmoid(z), with the same shape as z\n",
        "\n",
        "    \"\"\"\n",
        "\n",
        "    g = 1/(1+np.exp(-z))\n",
        "\n",
        "    return g"
      ]
    },
    {
      "cell_type": "markdown",
      "metadata": {
        "id": "5fjeL0zmHmS7"
      },
      "source": [
        "Let's examine the results this function generates for different `z` values."
      ]
    },
    {
      "cell_type": "code",
      "execution_count": null,
      "metadata": {
        "colab": {
          "base_uri": "https://localhost:8080/"
        },
        "id": "osgwf7rjHmS7",
        "outputId": "627e121d-bc6f-434d-9b7d-511161065cc2"
      },
      "outputs": [
        {
          "output_type": "stream",
          "name": "stdout",
          "text": [
            "Input (z), Output (sigmoid(z))\n",
            "[[-5.     0.007]\n",
            " [-4.     0.018]\n",
            " [-3.     0.047]\n",
            " [-2.     0.119]\n",
            " [-1.     0.269]\n",
            " [ 0.     0.5  ]\n",
            " [ 1.     0.731]\n",
            " [ 2.     0.881]\n",
            " [ 3.     0.953]\n",
            " [ 4.     0.982]]\n"
          ]
        }
      ],
      "source": [
        "import numpy as np\n",
        "import matplotlib.pyplot as plt\n",
        "\n",
        "z_tmp = np.arange(-5,5)\n",
        "y = sigmoid(z_tmp)\n",
        "np.set_printoptions(precision=3)\n",
        "print(\"Input (z), Output (sigmoid(z))\")\n",
        "print(np.c_[z_tmp, y])"
      ]
    },
    {
      "cell_type": "markdown",
      "metadata": {
        "id": "UygF8psUHmS7"
      },
      "source": [
        "The left column represents `z`, while the right column signifies sigmoid(`z`). It's clear to see that the input values for the sigmoid fall between -5 and 5, and the resulting outputs are dispersed from 0 to 1. The value will never touch 0 and 1 but will be very close to 0 and 1.\n",
        "\n",
        "Now, let's attempt to visualize this function through the use of the matplotlib library."
      ]
    },
    {
      "cell_type": "code",
      "execution_count": null,
      "metadata": {
        "colab": {
          "base_uri": "https://localhost:8080/",
          "height": 415,
          "referenced_widgets": [
            "1371d711fcbd45799e7d9f5aedd049d0",
            "520bd86835db4764834b41219c20cf57",
            "3d49b83ce7f3446480d908ad3d049ace",
            "d68ec39137834af78bca8856ceed345b",
            "eb020ddea9d743bc881f02b403dbc937",
            "4b8efd7bd4df4e5084e55f5e52eea11e",
            "7127d4512e25460d8b8737713c5ede2c",
            "0990043814f84dc7ae0d692073a8846a",
            "4da28c0e25134eb1b75e9c7b428d3204",
            "1445266d5d46487e8697fdb4b412e12f"
          ]
        },
        "id": "jPGrYa-THmS8",
        "outputId": "112b510d-f1c1-4f8f-825a-6d989a00b991"
      },
      "outputs": [
        {
          "output_type": "display_data",
          "data": {
            "text/plain": [
              "interactive(children=(FloatSlider(value=-5.0, description='left', max=10.0, min=-10.0), FloatSlider(value=5.0,…"
            ],
            "application/vnd.jupyter.widget-view+json": {
              "version_major": 2,
              "version_minor": 0,
              "model_id": "1371d711fcbd45799e7d9f5aedd049d0"
            }
          },
          "metadata": {}
        },
        {
          "output_type": "execute_result",
          "data": {
            "text/plain": [
              "<function __main__.plot_func(left=-5, right=5)>"
            ]
          },
          "metadata": {},
          "execution_count": 35
        }
      ],
      "source": [
        "import numpy as np\n",
        "import matplotlib.pyplot as plt\n",
        "from ipywidgets import interact\n",
        "\n",
        "def plot_func(left=-5, right=5):\n",
        "    z_tmp = np.arange(left,right)\n",
        "    y = sigmoid(z_tmp)\n",
        "\n",
        "    plt.figure(figsize=(5, 3))\n",
        "    plt.plot(z_tmp, y, c=\"b\")\n",
        "    plt.title('Sigmoid Function')\n",
        "    plt.ylabel('sigmoid(z)')\n",
        "    plt.xlabel('z')\n",
        "    plt.show()\n",
        "\n",
        "interact(plot_func, left=(-10.0, 10.0), right=(-10.0, 10.0))"
      ]
    },
    {
      "cell_type": "markdown",
      "metadata": {
        "id": "vEXsQfyYHmS8"
      },
      "source": [
        "What you can observe here is the behavior of the sigmoid function:\n",
        "- Tends towards `0` when `z` is a significantly **negative value**\n",
        "- Gradually ascends towards `1` when `z` becomes a large **positive value**.\n",
        "\n",
        ">Note: Try changing the number -5,5 in the line above `z_tmp = np.arange(-5,5)` to other numbers and notice the shape of the function.\n",
        "\n",
        "In summary, the Sigmoid function will map any numeric ranges including big ranges `-Infinity` to `Infinity` values to `0` and 1.\n",
        "\n",
        "Now, let's see what we learn Sigmoid function for."
      ]
    },
    {
      "cell_type": "markdown",
      "metadata": {
        "id": "Pf3pOIG3HmS8"
      },
      "source": [
        "### Logistic Regression\n",
        "\n",
        "**Logistic Regression** is a classification algorithm used when the response variable is categorical. For instance, it can be used for cancer detection problems (like our tumor example) where the task is to predict a category - malignant or benign. To build out to the logistic regression algorithm, we'll use **The Sigmoid function**.\n",
        "\n",
        "The Sigmoid function is a fundamental part of logistic regression. It maps any real-valued number into the range [0, 1], which can be interpreted as a probability for binary classification.\n",
        "\n",
        "Let's start with what we know, previously we use linear equation to help us find a model that fits our data. Which is a straight line, then we fine tune the line using parameter `w` and `b`."
      ]
    },
    {
      "cell_type": "markdown",
      "source": [
        "linear regresi\n",
        "y = wx + b\n",
        "\n",
        "logistic regresi\n",
        "y = fungsi_sigmoid(wx + b)"
      ],
      "metadata": {
        "id": "CdlWJZ9G9OlU"
      }
    },
    {
      "cell_type": "code",
      "execution_count": null,
      "metadata": {
        "id": "NdPcoCXoHmS8",
        "outputId": "4efb2079-528a-4707-8b89-8712dd36f6dc",
        "colab": {
          "base_uri": "https://localhost:8080/",
          "height": 545
        }
      },
      "outputs": [
        {
          "output_type": "display_data",
          "data": {
            "text/plain": [
              "<Figure size 900x600 with 1 Axes>"
            ],
            "image/png": "[encoded data removed]"
          },
          "metadata": {}
        }
      ],
      "source": [
        "import numpy as np\n",
        "import matplotlib.pyplot as plt\n",
        "\n",
        "# Generate x values\n",
        "x = np.linspace(-10, 10, 100)\n",
        "\n",
        "# Define slope (m) and y-intercept (b)\n",
        "w = 2\n",
        "b = 1\n",
        "\n",
        "# Compute y = wx + b\n",
        "y = w*x + b\n",
        "\n",
        "# Create the plot\n",
        "plt.figure(figsize=(9, 6))\n",
        "plt.plot(x, y, label=\"linear function\")\n",
        "plt.title('Linear Function')\n",
        "plt.legend(loc='best')\n",
        "plt.show()"
      ]
    },
    {
      "cell_type": "markdown",
      "metadata": {
        "id": "Qoom7FBWHmS8"
      },
      "source": [
        "However in the case of our data, we need to find a model that is a better fit for our data. In the case of our tumor dataset, we need to map it to return only malignant or benign, or simply 1 or 0. Which is known as **binary classification**.\n",
        "\n",
        "Scaling our data to fit the maximum of 1 and minimum of 0 is difficult, isn't it ?\n",
        "\n",
        "We can input our linear equation into the Sigmoid function which will then \"flatten\" the line to \"S\" like curve we see above.\n",
        "\n",
        "If you recall the tumor graph above, the data is clustered around 0 and 1, so it's kind of hard to plot a straight line through the data. The Sigmoid function by flattening the upper and bottom part around 0 and 1."
      ]
    },
    {
      "cell_type": "markdown",
      "metadata": {
        "id": "y-3UFfEpHmS9"
      },
      "source": [
        "We can write our logistic regression model combining our linear equation with sigmoid function as shown below:\n",
        "\n",
        "$$ f(\\mathbf{x}_{(i)}) = g(\\mathbf{w} \\cdot \\mathbf{x}_{(i)} + b )$$\n",
        "\n",
        "where\n",
        "\n",
        "$$g(z) = \\frac{1}{1+e^{-z}}$$\n",
        "\n",
        "and $\\mathbf{w} \\cdot \\mathbf{x}$ is the vector dot product:\n",
        "  \n",
        "  $$\\mathbf{w} \\cdot \\mathbf{x} = w_0 x_0 + w_1 x_1$$\n"
      ]
    },
    {
      "cell_type": "markdown",
      "metadata": {
        "id": "qqfvk8mvHmS9"
      },
      "source": [
        "### Case study\n",
        "\n",
        "After understanding the basics of logistic regression, let's get back to our case example, tumour classification. We have two features for our logistic regression model: tumor size and patient age. Let's call these features $x_1$ to $x_2$. Since this is a binary classification task, the target label $y$ takes only two values, `0` or `1`.\n",
        "\n",
        "|    Tumour Size (cm) ($x_1$)   |   Patient Age ($x_2$)   |  Malignant Status ($y$) |\n",
        "|:----------------------:|:--------------------:|:---------------------:|\n",
        "| 7.1            |       55            |           1             |\n",
        "| 3.2            |       30            |           0             |\n",
        "| 5.8            |       65            |           1             |\n",
        "| 2.0            |       20            |           0             |\n",
        "| 8.4            |       72            |           1             |\n",
        "| 4.2            |       40            |           0             |\n",
        "| 7.6            |       60            |           1             |\n",
        "| 2.5            |       25            |           0             |\n",
        "| 6.8            |       70            |           1             |\n",
        "| 1.7            |       22            |           0             |\n",
        "| 7.5            |       68            |           1             |\n",
        "| 3.1            |       35            |           0             |\n",
        "| 8.2            |       66            |           1             |\n",
        "| 2.2            |       28            |           0             |\n"
      ]
    },
    {
      "cell_type": "markdown",
      "metadata": {
        "id": "HY8aebGBHmS9"
      },
      "source": [
        "For our lesson, we'll focus on using only 1 feature, because it's easier to visualize.\n",
        "\n",
        "Let's take a look at Tumour Size:"
      ]
    },
    {
      "cell_type": "code",
      "execution_count": null,
      "metadata": {
        "id": "cpYQjIVJHmS9",
        "outputId": "2056d9e9-4f20-4c8b-948e-3a3c2da3c1b6",
        "colab": {
          "base_uri": "https://localhost:8080/",
          "height": 472
        }
      },
      "outputs": [
        {
          "output_type": "display_data",
          "data": {
            "text/plain": [
              "<Figure size 640x480 with 1 Axes>"
            ],
            "image/png": "[encoded data removed]"
          },
          "metadata": {}
        }
      ],
      "source": [
        "import numpy as np\n",
        "import pandas as pd\n",
        "\n",
        "#Given data\n",
        "data = {\n",
        "    'Tumour Size (cm)': [7.1, 3.2, 5.8, 2.0, 8.4, 4.2, 7.6, 2.5, 6.8, 1.7, 7.5, 3.1, 8.2, 2.2],\n",
        "    'Patient Age': [55, 30, 65, 20, 72, 40, 60, 25, 70, 22, 68, 35, 66, 28],\n",
        "    'Malignant Status': [1, 0, 1, 0, 1, 0, 1, 0, 1, 0, 1, 0, 1, 0]\n",
        "}\n",
        "\n",
        "# Create a dataframe\n",
        "df = pd.DataFrame(data)\n",
        "\n",
        "# Define your data\n",
        "tumour_size = df['Tumour Size (cm)']\n",
        "malignant_status = df['Malignant Status']\n",
        "patient_age = df['Patient Age']\n",
        "\n",
        "# Create scatter plot\n",
        "plt.scatter(patient_age, malignant_status)\n",
        "plt.xlabel('Tumour Size (cm)')\n",
        "plt.ylabel('Malignant Status')\n",
        "plt.title('Tumour Size vs Malignant Status')\n",
        "plt.show()"
      ]
    },
    {
      "cell_type": "markdown",
      "metadata": {
        "id": "3WZVoNnTHmS9"
      },
      "source": [
        "Now, let's try using linear regression model to this data:"
      ]
    },
    {
      "cell_type": "code",
      "execution_count": null,
      "metadata": {
        "id": "iOJFqu_yHmS9",
        "outputId": "f945080a-aca1-4ad5-9267-ada8bdf8e99a",
        "colab": {
          "base_uri": "https://localhost:8080/",
          "height": 472
        }
      },
      "outputs": [
        {
          "output_type": "display_data",
          "data": {
            "text/plain": [
              "<Figure size 640x480 with 1 Axes>"
            ],
            "image/png": "[encoded data removed]"
          },
          "metadata": {}
        }
      ],
      "source": [
        "# Presumed values of w and b, replace with your own values\n",
        "w = 0.6 #0.60562\n",
        "b = -2.5 #-2.4966\n",
        "\n",
        "# Create input range, using min and max of your data\n",
        "\n",
        "y = w*x + b\n",
        "\n",
        "# Create scatter plot\n",
        "plt.scatter(tumour_size, malignant_status, color='blue')\n",
        "plt.plot(x, y, '-r', label='y=wx+b')\n",
        "plt.title('Fitting Linear Regression')\n",
        "plt.xlabel('Tumour Size (cm)', color='#1C2833')\n",
        "plt.ylabel('Malignant Status', color='#1C2833')\n",
        "plt.ylim([-0.5, 1.5])  # Set the limits of y-axis here\n",
        "plt.legend(loc='best')\n",
        "plt.grid()\n",
        "plt.show()"
      ]
    },
    {
      "cell_type": "markdown",
      "metadata": {
        "id": "ISjv-YM4HmS-"
      },
      "source": [
        "Now let's try plotting the sigmoid function, keep in mind that if the linear regression is wrong, the result will also be wrong.\n",
        "\n",
        "As we can see, the Logistic Regression line is somewhere inside the range of 0 and 1 and will always be inside that range."
      ]
    },
    {
      "cell_type": "code",
      "execution_count": null,
      "metadata": {
        "id": "aVoLNthsHmS-",
        "outputId": "a5d02530-e334-42bc-f7a5-8b4fc313a286",
        "colab": {
          "base_uri": "https://localhost:8080/",
          "height": 472
        }
      },
      "outputs": [
        {
          "output_type": "display_data",
          "data": {
            "text/plain": [
              "<Figure size 640x480 with 1 Axes>"
            ],
            "image/png": "[encoded data removed]"
          },
          "metadata": {}
        }
      ],
      "source": [
        "# Define sigmoid function\n",
        "def sigmoid(z):\n",
        "    return 1 / (1 + np.exp(-z))\n",
        "\n",
        "# Create input range, using min and max of your data\n",
        "y_sigmoid = sigmoid(y)\n",
        "\n",
        "# Create scatter plot\n",
        "plt.scatter(tumour_size, malignant_status, color='blue')\n",
        "plt.plot(x, y, '-r', label='Linear Regression')\n",
        "plt.plot(x, y_sigmoid, '-g', label='Logistic Regression')\n",
        "plt.title('Graph of Linear and Logistic Regression')\n",
        "plt.xlabel('Tumour Size (cm)', color='#1C2833')\n",
        "plt.ylabel('Malignant Status', color='#1C2833')\n",
        "plt.hlines(xmin=0, xmax=8, y=0.5)\n",
        "plt.ylim([-0.5, 1.5])  # Set the limits of y-axis here\n",
        "plt.legend(loc='best')\n",
        "plt.grid()\n",
        "plt.show()"
      ]
    },
    {
      "cell_type": "code",
      "source": [
        "malignant_status\n",
        "1 = \"kanker ganas\"\n",
        "0 = \"kanker jinak\""
      ],
      "metadata": {
        "colab": {
          "base_uri": "https://localhost:8080/"
        },
        "id": "B41L_BAX_URX",
        "outputId": "a4620218-72eb-4161-ba16-5d7775c727e7"
      },
      "execution_count": null,
      "outputs": [
        {
          "output_type": "execute_result",
          "data": {
            "text/plain": [
              "0     1\n",
              "1     0\n",
              "2     1\n",
              "3     0\n",
              "4     1\n",
              "5     0\n",
              "6     1\n",
              "7     0\n",
              "8     1\n",
              "9     0\n",
              "10    1\n",
              "11    0\n",
              "12    1\n",
              "13    0\n",
              "Name: Malignant Status, dtype: int64"
            ]
          },
          "metadata": {},
          "execution_count": 25
        }
      ]
    },
    {
      "cell_type": "code",
      "source": [
        "tumor_size = 0.1\n",
        "sigmoid(tumor_size) --> 0.52497918747894 --> 1\n",
        "\n",
        "threshold = 0.5"
      ],
      "metadata": {
        "colab": {
          "base_uri": "https://localhost:8080/"
        },
        "id": "mhqyy651-6xm",
        "outputId": "91eaba20-e3a9-4950-f2a5-28b609147257"
      },
      "execution_count": null,
      "outputs": [
        {
          "output_type": "execute_result",
          "data": {
            "text/plain": [
              "0.52497918747894"
            ]
          },
          "metadata": {},
          "execution_count": 24
        }
      ]
    },
    {
      "cell_type": "code",
      "source": [],
      "metadata": {
        "id": "d5MYlcTE99B2"
      },
      "execution_count": null,
      "outputs": []
    },
    {
      "cell_type": "markdown",
      "metadata": {
        "id": "7abiC6n0HmS-"
      },
      "source": [
        "Based on the visualization above, we can say that if a patient comes in and he has a tumor of a certain size, and if based on this input, our model would add `0.6`, then what that means is that the model is predicting or the model thinks there is a 60 percent chance that the correct label y will equal `1` for this patient. In other words, the model is telling us that it thinks the patient has a 60 percent chance of the tumor turning malignant.\n",
        "\n",
        "Now, our question is if $y$ has a 60 percent chance of being `1`, what is its chance of being `0`? Don't we know that $y$ must be `0` or `1`?"
      ]
    },
    {
      "cell_type": "markdown",
      "metadata": {
        "id": "oYsb5sBnHmS-"
      },
      "source": [
        "#### Decision Boundaries\n",
        "\n",
        "The decision boundary is a **threshold that determines the class of an output**. This output can be interpreted as the probability that a given input point belongs to a certain class.\n",
        "\n",
        "During the training process, the logistic regression model determines the optimal values for $w$ and $b$ to best separate the classes. The model's output is given by the sigmoid function applied on the weighted sum of the features. This function transforms its input into a value between `0` and `1`, which we interpret as the probability that a given input belongs to a certain class. The decision boundary occurs where the model's predicted probability is `0.5`, indicating an equal uncertainty for both classes."
      ]
    },
    {
      "cell_type": "markdown",
      "metadata": {
        "id": "HWzx_CLjHmS-"
      },
      "source": [
        "The output of the logistic regression model is given by the sigmoid function of the weighted sum of features, i.e.,\n",
        "\n",
        "$$ p(y=1|x;\\mathbf{w},b) = \\sigma(\\mathbf{w}^T \\mathbf{x} + b) $$\n",
        "\n",
        "where:\n",
        "\n",
        "- $\\mathbf{x}$ is the feature vector,\n",
        "- $\\mathbf{w}$ is the weights vector,\n",
        "- $b$ is the bias,\n",
        "- $\\sigma(z)$ is the sigmoid function defined as $\\sigma(z) = \\frac{1}{1+e^{-z}}$\n",
        "\n",
        "The sigmoid function transforms its input into a value between `0` and `1`, which can be interpreted as a probability.\n",
        "\n",
        "The decision boundary in logistic regression is the point where the model outputs a probability of `0.5`. That means the model is equally uncertain about both classes.\n",
        "\n",
        "If we set the sigmoid function equal to `0.5` and solve for $z$, we get:\n",
        "\n",
        "$$ \\frac{1}{1+e^{-z}} = 0.5 $$\n",
        "\n",
        "This simplifies to $z=0$ after some basic algebra. Because $z$ is the input to the sigmoid function, and that input is the linear combination of the features ($\\mathbf{w}^T \\mathbf{x} + b$), we get:\n",
        "\n",
        "$$ \\mathbf{w}^T \\mathbf{x} + b = 0 $$\n",
        "\n",
        "Hence, the decision boundary is the solution to the above equation. This is why the decision boundary equation corresponds to a probability of `0.5`."
      ]
    },
    {
      "cell_type": "markdown",
      "metadata": {
        "id": "UCwuJpIPHmS_"
      },
      "source": [
        "So the equation for decision boundary is:\n",
        "\n",
        "$w \\cdot x + b = 0$\n",
        "\n",
        "Where:\n",
        "- $w$ represents the weights or coefficients corresponding to each feature\n",
        "- $x$ represents the feature values\n",
        "- $b$ is the bias or intercept term\n",
        "\n",
        "The dot product $w \\cdot x$ sums up the product of each feature value with its corresponding weight. This sum, plus the bias, equals zero at the decision boundary. Thus, the decision boundary marks the threshold at which the model's predicted probability changes from favoring one class to favor the other."
      ]
    },
    {
      "cell_type": "markdown",
      "metadata": {
        "id": "s4LI_hRiHmS_"
      },
      "source": [
        "Let's apply it to Python code using scikit-learn:"
      ]
    },
    {
      "cell_type": "code",
      "execution_count": null,
      "metadata": {
        "id": "yGdyydQnHmS_",
        "outputId": "daf6aac8-74c2-4e3c-fc6d-83ca8287d134"
      },
      "outputs": [
        {
          "data": {
            "image/png": "[encoded data removed]",
            "text/plain": [
              "<Figure size 800x600 with 1 Axes>"
            ]
          },
          "metadata": {},
          "output_type": "display_data"
        }
      ],
      "source": [
        "import numpy as np\n",
        "import matplotlib.pyplot as plt\n",
        "from sklearn.linear_model import LogisticRegression\n",
        "\n",
        "# Feature (Tumour Size)\n",
        "X = tumour_size.values.reshape(-1,1)\n",
        "\n",
        "# Target variable (Malignant Status)\n",
        "y = malignant_status\n",
        "\n",
        "model = LogisticRegression()\n",
        "model.fit(X, y)\n",
        "\n",
        "# Calculate the decision boundary\n",
        "decision_boundary = -model.intercept_/model.coef_\n",
        "decision_boundary = decision_boundary[0][0]  # Extract the value from the numpy array\n",
        "\n",
        "# Plot the data along with the decision boundary\n",
        "plt.figure(figsize=(8,6))\n",
        "plt.scatter(X[y==0], y[y==0], color='b', label='0: Benign')\n",
        "plt.scatter(X[y==1], y[y==1], color='r', label='1: Malignant')\n",
        "plt.plot([decision_boundary, decision_boundary], [-1, 2], \"k:\", label=\"Decision Boundary\")\n",
        "plt.plot(x, y_sigmoid, '-g', label='Logistic Regression')\n",
        "plt.xlabel('Tumour Size (cm)')\n",
        "plt.ylabel('Malignant Status')\n",
        "plt.legend()\n",
        "plt.show()"
      ]
    },
    {
      "cell_type": "markdown",
      "metadata": {
        "id": "-Ig2so8LHmS_"
      },
      "source": [
        "Why in the code above, the calculation becomes `decision_boundary = -model.intercept_/model.coef_` ?\n",
        "\n",
        "Keeping in mind the equation for decision boundary is `w.x + b = 0`\n",
        "\n",
        "- `w` is the weight vector\n",
        "- `x` is the input vector\n",
        "- `b` is the bias term\n",
        "\n",
        "In scikit-learn, `model.coef_` corresponds to `w` and `model.intercept_` corresponds to `b` in the above equation.\n",
        "\n",
        "So if we rearrange the equation `w.x + b = 0` to solve for `x` (the decision boundary), we get `x = -b / w`."
      ]
    },
    {
      "cell_type": "markdown",
      "metadata": {
        "id": "IqXrvSeXHmS_"
      },
      "source": [
        "One more thing, to answer the question from earlier, if y = 0.6, then based on the decision boundary above, it will be marked as 1 (malignant)."
      ]
    },
    {
      "cell_type": "markdown",
      "metadata": {
        "id": "G849ptkCHmS_"
      },
      "source": [
        "#### Cost Function for Logistic Regression\n",
        "\n",
        "The question we want you to answer is, given the training set, how can you choose the parameters $w$ and $b$ that will best fit the data? This is where we will again use the cost function.\n",
        "\n",
        "You might remember that the cost function gives you a way to measure how well a certain set of parameters fit the training data. As such, it gives you a way to try to choose better parameters. The cost function measures how well the logistic regression model is doing on the training data. **It quantifies the error between the predicted probabilities (output of the sigmoid function) and the actual class labels in the training data**.\n",
        "\n",
        "Logistic Regression uses a loss function more suited to the task of categorization where the target is 0 or 1 rather than any number.\n",
        "\n",
        "**Loss** is a measure of the difference of a single example to its target value while the  \n",
        "**Cost** is a measure of the losses over the training set"
      ]
    },
    {
      "cell_type": "markdown",
      "metadata": {
        "id": "U_f5Du-dHmTE"
      },
      "source": [
        "In logistic regression, we use the Log Loss or Binary Cross-Entropy Loss as the cost function.\n",
        "\n",
        "Take a look at the following graph plot:\n",
        "\n",
        "![](https://miro.medium.com/max/1200/1*yWzKLQhWITQ4bR2aMSVVuw.png)\n",
        "\n",
        "Source: [Miro on Medium](https://miro.medium.com)\n",
        "\n",
        "Let's break it down:\n",
        "- **h(x)** is the predicted probability of the positive class. This is the output of our logistic regression model, which is the sigmoid of our linear model. The sigmoid function maps any real valued number to the (0, 1) range, which can be used for classification.\n",
        "\n",
        "- **y** is the actual class (0 or 1). In binary classification problems, we have two classes represented as 0 and 1.\n",
        "\n",
        "The cost function consists of two parts:\n",
        "\n",
        "- **-y log(h(x))**: This part of the cost function is used when the actual class (y) is 1. If our model predicts close to 1 (h(x) ~ 1), the cost is low, but if our model predicts close to 0 (h(x) ~ 0), the cost is high.\n",
        "\n",
        "- **-(1 − y) log(1 − h(x))**: This part of the cost function is used when the actual class (y) is 0. If our model predicts close to 0 (h(x) ~ 0), the cost is low, but if our model predicts close to 1 (h(x) ~ 1), the cost is high."
      ]
    },
    {
      "cell_type": "markdown",
      "source": [
        "loss = -y * log(p) - (1-y) * log(1-p)"
      ],
      "metadata": {
        "id": "j8JYh6wLBbIT"
      }
    },
    {
      "cell_type": "markdown",
      "metadata": {
        "id": "SkSosUkQHmTE"
      },
      "source": [
        "Let's plot the first part **-y log(h(x))** where y = 1. With simple math, we substitute y with 1 to get **-1 log(h(x))** which can be written as **-log(h(x))**"
      ]
    },
    {
      "cell_type": "code",
      "execution_count": null,
      "metadata": {
        "id": "_gxC3LszHmTE",
        "outputId": "13cd22cd-4003-4ce6-dfe3-96c967535a6d"
      },
      "outputs": [
        {
          "data": {
            "image/png": "[encoded data removed]",
            "text/plain": [
              "<Figure size 640x480 with 1 Axes>"
            ]
          },
          "metadata": {},
          "output_type": "display_data"
        }
      ],
      "source": [
        "import numpy as np\n",
        "import matplotlib.pyplot as plt\n",
        "\n",
        "# Predicted probability range from 0 to 1\n",
        "h = np.linspace(0.000001, 0.999999)\n",
        "\n",
        "# Cost when y=1\n",
        "cost = -np.log(h)\n",
        "\n",
        "plt.plot(h, cost)\n",
        "plt.xlabel('Predicted Probability')\n",
        "plt.ylabel('Cost')\n",
        "plt.title('Cost Function for y=1')\n",
        "plt.show()"
      ]
    },
    {
      "cell_type": "markdown",
      "metadata": {
        "id": "uQQjfsfgHmTE"
      },
      "source": [
        "We then plot the cost when h(x) is close to 0, let's say 0.000001 to a number close to 1, let's use 0.999999. We can see that as the predicted probability h(x) is closer to 1, the cost went down significantly, which is what we want."
      ]
    },
    {
      "cell_type": "markdown",
      "metadata": {
        "id": "fZeBoC87HmTF"
      },
      "source": [
        "Now, let's plot the second part **-(1 − y) log(1 − h(x))** where y = 0. Again, with simple math, we substitute y with 0 and we get **-(1)log(1 - h(x))** which can be written as follows **-log(1 - h(x))**"
      ]
    },
    {
      "cell_type": "code",
      "execution_count": null,
      "metadata": {
        "id": "dkkZNCF2HmTF",
        "outputId": "f182e377-1d58-4601-d4a3-01f93716e01e"
      },
      "outputs": [
        {
          "data": {
            "image/png": "[encoded data removed]",
            "text/plain": [
              "<Figure size 640x480 with 1 Axes>"
            ]
          },
          "metadata": {},
          "output_type": "display_data"
        }
      ],
      "source": [
        "import numpy as np\n",
        "import matplotlib.pyplot as plt\n",
        "\n",
        "# Predicted probability range from 0 to 1\n",
        "h = np.linspace(0.000001, 0.999999)\n",
        "\n",
        "# Cost when y=1\n",
        "cost = -np.log(1 - h)\n",
        "\n",
        "plt.plot(h, cost)\n",
        "plt.xlabel('Predicted Probability')\n",
        "plt.ylabel('Cost')\n",
        "plt.title('Cost Function for y=0')\n",
        "plt.show()"
      ]
    },
    {
      "cell_type": "markdown",
      "metadata": {
        "id": "ky-pNUpEHmTF"
      },
      "source": [
        "Again, we plot the cost when h(x) is close to 0, let's say 0.000001 to a number close to 1, let's use 0.999999. We can see that as the predicted probability h(x) is closer to 0, the cost went down significantly, which is what we want."
      ]
    },
    {
      "cell_type": "markdown",
      "source": [
        "loss = -y * log(p) - (1-y) * log(1-p)\n",
        "\n",
        "1.   List item\n",
        "\n",
        "1.   List item\n",
        "2.   List item\n",
        "\n",
        "\n",
        "2.   List item\n",
        "\n"
      ],
      "metadata": {
        "id": "POu7x2X9A38Z"
      }
    },
    {
      "cell_type": "markdown",
      "metadata": {
        "id": "gnpSK4wkHmTF"
      },
      "source": [
        "This cost function works well because it \"penalizes\" wrong predictions with a high cost, and rewards correct predictions with a low cost. The goal of our training process is to find the parameters of our model that minimize this cost function.\n",
        "\n",
        "In other words, we adjust the parameters of our model to make our predictions as close as possible to the actual classes, thereby minimizing the cost.\n",
        "\n",
        "Combining them together, we get:\n",
        "\n",
        "$$loss({h}(\\mathbf{x}), y) = -y \\log\\left({h}\\left( \\mathbf{x} \\right) \\right) - \\left( 1 - y\\right) \\log \\left( 1 - {h}\\left( \\mathbf{x} \\right) \\right) $$\n",
        "\n",
        "This formula holds true because when y = 0 (we substitute y with 0):\n",
        "\n",
        "**-0 log(h(x))-(1 − 0) log(1 − h(x))** => **-log(1 - h(x))** which is the same as the second part where y = 0.\n",
        "\n",
        "\n",
        "and when y = 1 (we substitute y with 1):\n",
        "\n",
        "**-1 log(h(x))-(1 − 1) log(1 − h(x))** => **-log(h(x))** which is the same as the first part where y = 1.\n",
        "\n",
        "To get the total cost for all of our training data, we need to find the average of the individual loss function:\n",
        "\n",
        "$$ J(\\mathbf{w},b) = \\frac{1}{m} \\sum_{i=0}^{m-1} \\left[ loss({h}(\\mathbf{x}_{(i)}), y_{(i)}) \\right] $$\n",
        "\n",
        "where **m** is the number of instances in our training set.\n"
      ]
    },
    {
      "cell_type": "markdown",
      "metadata": {
        "id": "mMOy05REHmTF"
      },
      "source": [
        "Now, let's move on to the implementation:\n",
        "\n",
        "Look at the code below, where we use `compute_cost_logistic` to calculate the loss for each example and accumulating the total."
      ]
    },
    {
      "cell_type": "code",
      "source": [
        "import math\n",
        "import numpy as np\n",
        "\n",
        "math.log(2), np.log(2)"
      ],
      "metadata": {
        "colab": {
          "base_uri": "https://localhost:8080/"
        },
        "id": "xitodu-0CKJu",
        "outputId": "f0e77ba1-7902-49f4-ae45-14db0b829a53"
      },
      "execution_count": null,
      "outputs": [
        {
          "output_type": "execute_result",
          "data": {
            "text/plain": [
              "(0.6931471805599453, 0.6931471805599453)"
            ]
          },
          "metadata": {},
          "execution_count": 1
        }
      ]
    },
    {
      "cell_type": "code",
      "execution_count": null,
      "metadata": {
        "id": "qao-JzaaHmTF"
      },
      "outputs": [],
      "source": [
        "def sigmoid(z):\n",
        "    \"\"\"\n",
        "    Compute the sigmoid of z\n",
        "\n",
        "    Parameters\n",
        "    ----------\n",
        "    z : array_like\n",
        "        A scalar or numpy array of any size.\n",
        "\n",
        "    Returns\n",
        "    -------\n",
        "     g : array_like\n",
        "         sigmoid(z)\n",
        "    \"\"\"\n",
        "    g = 1.0/(1.0+np.exp(-z))\n",
        "\n",
        "    return g\n",
        "\n",
        "\n",
        "eps = 1e-7 #added for numerical stability, to avoid getting the value of 0 or 1\n",
        "def compute_cost_logistic(X, y, w, b):\n",
        "    \"\"\"\n",
        "    Computes cost\n",
        "\n",
        "    Args:\n",
        "      X (ndarray (m,n)): Data, m examples with n features\n",
        "      y (ndarray (m,)) : target values\n",
        "      w (ndarray (n,)) : model parameters\n",
        "      b (scalar)       : model parameter\n",
        "\n",
        "    Returns:\n",
        "      cost (scalar): cost\n",
        "    \"\"\"\n",
        "\n",
        "    m = X.shape[0]\n",
        "    cost = 0.0\n",
        "    for i in range(m):\n",
        "        z_i = np.dot(X[i],w) + b\n",
        "        f_wb_i = sigmoid(z_i)\n",
        "\n",
        "        cost += -y[i]*np.log(f_wb_i + eps) - (1-y[i])*np.log(1-f_wb_i + eps)\n",
        "\n",
        "    cost = cost / m\n",
        "    return cost"
      ]
    },
    {
      "cell_type": "code",
      "execution_count": null,
      "metadata": {
        "id": "7Dif_tjCHmTG",
        "outputId": "cc0479dd-cb13-4368-baf0-97269c9b1dd9",
        "colab": {
          "base_uri": "https://localhost:8080/"
        }
      },
      "outputs": [
        {
          "output_type": "stream",
          "name": "stdout",
          "text": [
            "Number of errors: 4.889326376000192\n"
          ]
        }
      ],
      "source": [
        "import numpy as np\n",
        "\n",
        "X_train = np.array([[7.1, 55], [3.2, 30], [5.8, 65], [2.0, 20], [8.4, 72],\n",
        "              [4.2, 40], [7.6, 60], [2.5, 25], [6.8, 70], [1.7, 22],\n",
        "              [7.5, 68], [3.1, 35], [8.2, 66], [2.2, 28]])\n",
        "\n",
        "y_train = np.array([1, 0, 1, 0, 1, 0, 1, 0, 1, 0, 1, 0, 1, 0])\n",
        "\n",
        "w = np.array([1,0.5])\n",
        "b = -7\n",
        "\n",
        "cost = compute_cost_logistic(X_train, y_train, w, b)\n",
        "print(f\"Number of errors: {cost}\")"
      ]
    },
    {
      "cell_type": "markdown",
      "metadata": {
        "id": "InF-0ahHHmTG"
      },
      "source": [
        "Based on the data owned and the value of $w$ and $b$, when viewed from the results of the `compute_cost_logistic` function, the total mistakes we got were `7.9915`.\n",
        "\n",
        "Then, is the best amount? Then how do you do it? In other words we want to get the best $w$ and $b$ values that **make the lines as close as possible to the spread points**.\n",
        "\n",
        "Again, at this stage we can use the Scikit-learn library."
      ]
    },
    {
      "cell_type": "markdown",
      "metadata": {
        "id": "hhtXeEyEHmTG"
      },
      "source": [
        "#### Logistic Regression using Scikit-Learn\n",
        "\n",
        "Just like Linear Regression, for our Logistic Regression model, sklearn provides the `LogisticRegression` class in the `sklearn.linear_model module`.\n",
        "\n",
        "Here's how you can do it:"
      ]
    },
    {
      "cell_type": "code",
      "execution_count": null,
      "metadata": {
        "id": "SyshhpPcHmTG",
        "outputId": "2709941a-c158-4ea5-d8b5-62c41d0cebd8"
      },
      "outputs": [
        {
          "name": "stdout",
          "output_type": "stream",
          "text": [
            "Coefficients: [[0.08773648 0.4661736 ]]\n",
            "Intercept: [-22.63354811]\n"
          ]
        }
      ],
      "source": [
        "import numpy as np\n",
        "from sklearn.linear_model import LogisticRegression\n",
        "\n",
        "# your data\n",
        "x_train = np.array([[7.1, 55], [3.2, 30], [5.8, 65], [2.0, 20], [8.4, 72],\n",
        "              [4.2, 40], [7.6, 60], [2.5, 25], [6.8, 70], [1.7, 22],\n",
        "              [7.5, 68], [3.1, 35], [8.2, 66], [2.2, 28]])\n",
        "y_train = np.array([1, 0, 1, 0, 1, 0, 1, 0, 1, 0, 1, 0, 1, 0])\n",
        "\n",
        "lr_model = LogisticRegression()\n",
        "lr_model.fit(x_train, y_train)\n",
        "\n",
        "coefficient = lr_model.coef_ #w\n",
        "intercept = lr_model.intercept_ #b\n",
        "print(f\"Coefficients: {coefficient}\")\n",
        "print(f\"Intercept: {intercept}\")"
      ]
    },
    {
      "cell_type": "markdown",
      "source": [
        "- activation function (ada di dalam model kita)\n",
        "- linear regresi --> model machine learning"
      ],
      "metadata": {
        "id": "5wYuyhKEDVpn"
      }
    },
    {
      "cell_type": "markdown",
      "metadata": {
        "id": "IkdoiAK0HmTG"
      },
      "source": [
        "From the results of the code above, the $w$ (coefficient) value is `0.08773648` and `0.4661736`, and for $b$ (intercept) is `-22.63354811`. That way we can produce the minimum possible error/loss value. Now we look again at the data we have with the new $w$ and $b$ values and what error/loss we get."
      ]
    },
    {
      "cell_type": "code",
      "execution_count": null,
      "metadata": {
        "id": "qRrkqJuBHmTG",
        "outputId": "291758d1-962c-4065-e53e-820997a185ab"
      },
      "outputs": [
        {
          "name": "stdout",
          "output_type": "stream",
          "text": [
            "Number of errors: 0.004169320992196987\n"
          ]
        }
      ],
      "source": [
        "w = np.array([0.08773648, 0.4661736 ])\n",
        "b = -22.63354811\n",
        "\n",
        "cost = compute_cost_logistic(X_train, y_train, w, b)\n",
        "print(f\"Number of errors: {cost}\")"
      ]
    },
    {
      "cell_type": "markdown",
      "metadata": {
        "id": "ro9zKh-rHmTG"
      },
      "source": [
        "We can see that the error/loss has decreased from `7.9914` to `0.0042`. In this way, the accuracy of tumor classification will increase."
      ]
    },
    {
      "cell_type": "markdown",
      "metadata": {
        "id": "W7FN5wmUHmTH"
      },
      "source": [
        "Besides helping us determine the right values for the $w$ and $b$ parameters, the sklearn library can also help us calculate the accuracy of our data. Let's start with the dataset and the prediction made by this model by calling the `predict` function:"
      ]
    },
    {
      "cell_type": "code",
      "execution_count": null,
      "metadata": {
        "id": "DP87shC4HmTH",
        "outputId": "a921dee5-7c3a-4f8a-a682-5a27e518e5c2"
      },
      "outputs": [
        {
          "name": "stdout",
          "output_type": "stream",
          "text": [
            "Prediction on training set: [1 0 1 0 1 0 1 0 1 0 1 0 1 0]\n"
          ]
        }
      ],
      "source": [
        "y_pred = lr_model.predict(x_train)\n",
        "\n",
        "print(\"Prediction on training set:\", y_pred)"
      ]
    },
    {
      "cell_type": "markdown",
      "metadata": {
        "id": "UOO5YeuvHmTH"
      },
      "source": [
        "Now, we can calculate this accuracy of this model by calling the `score` function. The output of `score` is a scalar in the form of a float number between `0` and `1` indicating the percentage of samples correctly classified by the model.\n",
        "- `1`: the model successfully classified all samples correctly\n",
        "- `0`: the model failed to classify all samples."
      ]
    },
    {
      "cell_type": "code",
      "execution_count": null,
      "metadata": {
        "id": "Bo7JSV9AHmTH",
        "outputId": "bcf8c95c-3e50-47c3-bf84-537fc710aa47"
      },
      "outputs": [
        {
          "name": "stdout",
          "output_type": "stream",
          "text": [
            "Accuracy on training set: 1.0\n"
          ]
        }
      ],
      "source": [
        "print(\"Accuracy on training set:\", lr_model.score(x_train, y_train))"
      ]
    },
    {
      "cell_type": "markdown",
      "metadata": {
        "id": "38BcMGOGHmTH"
      },
      "source": [
        "If you look at the score result (`1`), it means that the model we used successfully predicted all the labels correctly for the given dataset. In other words, the model has 100% accuracy based on the data we used in the `score` method.\n",
        "\n",
        "However, it is necessary to be careful in evaluating this result.\n",
        "\n",
        "1. **Overfitting**: If you see `1` or 100% accuracy on the training dataset, the model may have overfit. That is, the model may have learned the details and noise on the training dataset specifically, at a level where it goes beyond learning the underlying concepts. Overfitting causes the model to be unable to generalize well to new data. We'll cover more on overfitting later on in the course.\n",
        "\n",
        "2. **Evaluation on Training Data**: If you use training data for evaluation (which is done when you call back training data for `score`), then the results tend to be overoptimistic because the model has 'seen' this training data before. It is always important to evaluate the model's performance on validation or testing data sets that the model has not 'seen' to get an unbiased estimate of how the model will perform on data that it has not seen before.\n",
        "\n",
        "3. **Data is Easy to Predict**: In some cases, the data may be simple enough or the patterns clear enough that the model is able to achieve `1` accuracy. However, this tends to apply to simple or synthetic datasets, and rarely to complex and messy real-world data.\n",
        "\n",
        "So while a `1` score may initially seem like a great result, it could be a sign that you need to examine in more detail how your model works and how you test your model."
      ]
    },
    {
      "cell_type": "markdown",
      "source": [
        " classification\n",
        "\n",
        " 1. logistic regresi --> linear model + sigmoid\n",
        " 2. random forest --> tree based\n",
        " 3. KNN atau SVM --> distance based model\n",
        " 4. Light gradient boosting machine --> tree based + boosting"
      ],
      "metadata": {
        "id": "jLb3nrhZEn5U"
      }
    },
    {
      "cell_type": "code",
      "source": [],
      "metadata": {
        "id": "UH3iG2q3E7Xj"
      },
      "execution_count": null,
      "outputs": []
    }
  ],
  "metadata": {
    "kernelspec": {
      "display_name": "Python 3",
      "name": "python3"
    },
    "language_info": {
      "codemirror_mode": {
        "name": "ipython",
        "version": 3
      },
      "file_extension": ".py",
      "mimetype": "text/x-python",
      "name": "python",
      "nbconvert_exporter": "python",
      "pygments_lexer": "ipython3",
      "version": "3.11.3"
    },
    "colab": {
      "provenance": []
    },
    "widgets": {
      "application/vnd.jupyter.widget-state+json": {
        "1371d711fcbd45799e7d9f5aedd049d0": {
          "model_module": "@jupyter-widgets/controls",
          "model_name": "VBoxModel",
          "model_module_version": "1.5.0",
          "state": {
            "_dom_classes": [
              "widget-interact"
            ],
            "_model_module": "@jupyter-widgets/controls",
            "_model_module_version": "1.5.0",
            "_model_name": "VBoxModel",
            "_view_count": null,
            "_view_module": "@jupyter-widgets/controls",
            "_view_module_version": "1.5.0",
            "_view_name": "VBoxView",
            "box_style": "",
            "children": [
              "IPY_MODEL_520bd86835db4764834b41219c20cf57",
              "IPY_MODEL_3d49b83ce7f3446480d908ad3d049ace",
              "IPY_MODEL_d68ec39137834af78bca8856ceed345b"
            ],
            "layout": "IPY_MODEL_eb020ddea9d743bc881f02b403dbc937"
          }
        },
        "520bd86835db4764834b41219c20cf57": {
          "model_module": "@jupyter-widgets/controls",
          "model_name": "FloatSliderModel",
          "model_module_version": "1.5.0",
          "state": {
            "_dom_classes": [],
            "_model_module": "@jupyter-widgets/controls",
            "_model_module_version": "1.5.0",
            "_model_name": "FloatSliderModel",
            "_view_count": null,
            "_view_module": "@jupyter-widgets/controls",
            "_view_module_version": "1.5.0",
            "_view_name": "FloatSliderView",
            "continuous_update": true,
            "description": "left",
            "description_tooltip": null,
            "disabled": false,
            "layout": "IPY_MODEL_4b8efd7bd4df4e5084e55f5e52eea11e",
            "max": 10,
            "min": -10,
            "orientation": "horizontal",
            "readout": true,
            "readout_format": ".2f",
            "step": 0.1,
            "style": "IPY_MODEL_7127d4512e25460d8b8737713c5ede2c",
            "value": -5
          }
        },
        "3d49b83ce7f3446480d908ad3d049ace": {
          "model_module": "@jupyter-widgets/controls",
          "model_name": "FloatSliderModel",
          "model_module_version": "1.5.0",
          "state": {
            "_dom_classes": [],
            "_model_module": "@jupyter-widgets/controls",
            "_model_module_version": "1.5.0",
            "_model_name": "FloatSliderModel",
            "_view_count": null,
            "_view_module": "@jupyter-widgets/controls",
            "_view_module_version": "1.5.0",
            "_view_name": "FloatSliderView",
            "continuous_update": true,
            "description": "right",
            "description_tooltip": null,
            "disabled": false,
            "layout": "IPY_MODEL_0990043814f84dc7ae0d692073a8846a",
            "max": 10,
            "min": -10,
            "orientation": "horizontal",
            "readout": true,
            "readout_format": ".2f",
            "step": 0.1,
            "style": "IPY_MODEL_4da28c0e25134eb1b75e9c7b428d3204",
            "value": 5
          }
        },
        "d68ec39137834af78bca8856ceed345b": {
          "model_module": "@jupyter-widgets/output",
          "model_name": "OutputModel",
          "model_module_version": "1.0.0",
          "state": {
            "_dom_classes": [],
            "_model_module": "@jupyter-widgets/output",
            "_model_module_version": "1.0.0",
            "_model_name": "OutputModel",
            "_view_count": null,
            "_view_module": "@jupyter-widgets/output",
            "_view_module_version": "1.0.0",
            "_view_name": "OutputView",
            "layout": "IPY_MODEL_1445266d5d46487e8697fdb4b412e12f",
            "msg_id": "",
            "outputs": [
              {
                "output_type": "display_data",
                "data": {
                  "text/plain": "<Figure size 500x300 with 1 Axes>",
                  "image/png": "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\n"
                },
                "metadata": {}
              }
            ]
          }
        },
        "eb020ddea9d743bc881f02b403dbc937": {
          "model_module": "@jupyter-widgets/base",
          "model_name": "LayoutModel",
          "model_module_version": "1.2.0",
          "state": {
            "_model_module": "@jupyter-widgets/base",
            "_model_module_version": "1.2.0",
            "_model_name": "LayoutModel",
            "_view_count": null,
            "_view_module": "@jupyter-widgets/base",
            "_view_module_version": "1.2.0",
            "_view_name": "LayoutView",
            "align_content": null,
            "align_items": null,
            "align_self": null,
            "border": null,
            "bottom": null,
            "display": null,
            "flex": null,
            "flex_flow": null,
            "grid_area": null,
            "grid_auto_columns": null,
            "grid_auto_flow": null,
            "grid_auto_rows": null,
            "grid_column": null,
            "grid_gap": null,
            "grid_row": null,
            "grid_template_areas": null,
            "grid_template_columns": null,
            "grid_template_rows": null,
            "height": null,
            "justify_content": null,
            "justify_items": null,
            "left": null,
            "margin": null,
            "max_height": null,
            "max_width": null,
            "min_height": null,
            "min_width": null,
            "object_fit": null,
            "object_position": null,
            "order": null,
            "overflow": null,
            "overflow_x": null,
            "overflow_y": null,
            "padding": null,
            "right": null,
            "top": null,
            "visibility": null,
            "width": null
          }
        },
        "4b8efd7bd4df4e5084e55f5e52eea11e": {
          "model_module": "@jupyter-widgets/base",
          "model_name": "LayoutModel",
          "model_module_version": "1.2.0",
          "state": {
            "_model_module": "@jupyter-widgets/base",
            "_model_module_version": "1.2.0",
            "_model_name": "LayoutModel",
            "_view_count": null,
            "_view_module": "@jupyter-widgets/base",
            "_view_module_version": "1.2.0",
            "_view_name": "LayoutView",
            "align_content": null,
            "align_items": null,
            "align_self": null,
            "border": null,
            "bottom": null,
            "display": null,
            "flex": null,
            "flex_flow": null,
            "grid_area": null,
            "grid_auto_columns": null,
            "grid_auto_flow": null,
            "grid_auto_rows": null,
            "grid_column": null,
            "grid_gap": null,
            "grid_row": null,
            "grid_template_areas": null,
            "grid_template_columns": null,
            "grid_template_rows": null,
            "height": null,
            "justify_content": null,
            "justify_items": null,
            "left": null,
            "margin": null,
            "max_height": null,
            "max_width": null,
            "min_height": null,
            "min_width": null,
            "object_fit": null,
            "object_position": null,
            "order": null,
            "overflow": null,
            "overflow_x": null,
            "overflow_y": null,
            "padding": null,
            "right": null,
            "top": null,
            "visibility": null,
            "width": null
          }
        },
        "7127d4512e25460d8b8737713c5ede2c": {
          "model_module": "@jupyter-widgets/controls",
          "model_name": "SliderStyleModel",
          "model_module_version": "1.5.0",
          "state": {
            "_model_module": "@jupyter-widgets/controls",
            "_model_module_version": "1.5.0",
            "_model_name": "SliderStyleModel",
            "_view_count": null,
            "_view_module": "@jupyter-widgets/base",
            "_view_module_version": "1.2.0",
            "_view_name": "StyleView",
            "description_width": "",
            "handle_color": null
          }
        },
        "0990043814f84dc7ae0d692073a8846a": {
          "model_module": "@jupyter-widgets/base",
          "model_name": "LayoutModel",
          "model_module_version": "1.2.0",
          "state": {
            "_model_module": "@jupyter-widgets/base",
            "_model_module_version": "1.2.0",
            "_model_name": "LayoutModel",
            "_view_count": null,
            "_view_module": "@jupyter-widgets/base",
            "_view_module_version": "1.2.0",
            "_view_name": "LayoutView",
            "align_content": null,
            "align_items": null,
            "align_self": null,
            "border": null,
            "bottom": null,
            "display": null,
            "flex": null,
            "flex_flow": null,
            "grid_area": null,
            "grid_auto_columns": null,
            "grid_auto_flow": null,
            "grid_auto_rows": null,
            "grid_column": null,
            "grid_gap": null,
            "grid_row": null,
            "grid_template_areas": null,
            "grid_template_columns": null,
            "grid_template_rows": null,
            "height": null,
            "justify_content": null,
            "justify_items": null,
            "left": null,
            "margin": null,
            "max_height": null,
            "max_width": null,
            "min_height": null,
            "min_width": null,
            "object_fit": null,
            "object_position": null,
            "order": null,
            "overflow": null,
            "overflow_x": null,
            "overflow_y": null,
            "padding": null,
            "right": null,
            "top": null,
            "visibility": null,
            "width": null
          }
        },
        "4da28c0e25134eb1b75e9c7b428d3204": {
          "model_module": "@jupyter-widgets/controls",
          "model_name": "SliderStyleModel",
          "model_module_version": "1.5.0",
          "state": {
            "_model_module": "@jupyter-widgets/controls",
            "_model_module_version": "1.5.0",
            "_model_name": "SliderStyleModel",
            "_view_count": null,
            "_view_module": "@jupyter-widgets/base",
            "_view_module_version": "1.2.0",
            "_view_name": "StyleView",
            "description_width": "",
            "handle_color": null
          }
        },
        "1445266d5d46487e8697fdb4b412e12f": {
          "model_module": "@jupyter-widgets/base",
          "model_name": "LayoutModel",
          "model_module_version": "1.2.0",
          "state": {
            "_model_module": "@jupyter-widgets/base",
            "_model_module_version": "1.2.0",
            "_model_name": "LayoutModel",
            "_view_count": null,
            "_view_module": "@jupyter-widgets/base",
            "_view_module_version": "1.2.0",
            "_view_name": "LayoutView",
            "align_content": null,
            "align_items": null,
            "align_self": null,
            "border": null,
            "bottom": null,
            "display": null,
            "flex": null,
            "flex_flow": null,
            "grid_area": null,
            "grid_auto_columns": null,
            "grid_auto_flow": null,
            "grid_auto_rows": null,
            "grid_column": null,
            "grid_gap": null,
            "grid_row": null,
            "grid_template_areas": null,
            "grid_template_columns": null,
            "grid_template_rows": null,
            "height": null,
            "justify_content": null,
            "justify_items": null,
            "left": null,
            "margin": null,
            "max_height": null,
            "max_width": null,
            "min_height": null,
            "min_width": null,
            "object_fit": null,
            "object_position": null,
            "order": null,
            "overflow": null,
            "overflow_x": null,
            "overflow_y": null,
            "padding": null,
            "right": null,
            "top": null,
            "visibility": null,
            "width": null
          }
        }
      }
    }
  },
  "nbformat": 4,
  "nbformat_minor": 0
}