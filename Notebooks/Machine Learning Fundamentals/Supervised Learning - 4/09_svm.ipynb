{
  "cells": [
    {
      "cell_type": "markdown",
      "source": [
        "# Webinar 13 - Support Vector Machines (SVM)\n",
        "- 19.30 - 20.30 Materi Sesi 1\n",
        "- 20.30 - 20.40 Break\n",
        "- 20.40 - 21.15 Materi Sesi 2\n",
        "- 21.15 - 21.30 QnA"
      ],
      "metadata": {
        "id": "PTgOgbYPD5mw"
      }
    },
    {
      "cell_type": "markdown",
      "source": [
        "## Recap so Far\n",
        "- AI - Machine Learning - Deep Learning\n",
        "- Math behind Machine Learning\n",
        "- Machine Learning Supervised\n",
        "  - Regression\n",
        "    - Linear Regression\n",
        "  - Classification\n",
        "    - Logistic Regression\n",
        "    - Decision Tree\n",
        "    - KNN\n",
        "    - Support Vector Machines --> Saat Ini\n",
        "***\n",
        "- Machine Learning Unsupervised\n",
        "  - Clustering\n",
        "  - Anomaly Detection\n",
        "  - Dimensionality Reduction"
      ],
      "metadata": {
        "id": "uUb-L50AFL-s"
      }
    },
    {
      "cell_type": "markdown",
      "source": [
        "***"
      ],
      "metadata": {
        "id": "47FBXIUkD5kz"
      }
    },
    {
      "cell_type": "markdown",
      "source": [
        "***"
      ],
      "metadata": {
        "id": "n7KELigRD5iZ"
      }
    },
    {
      "cell_type": "markdown",
      "source": [
        "***"
      ],
      "metadata": {
        "id": "3QNcd2ncD5gU"
      }
    },
    {
      "cell_type": "markdown",
      "source": [
        "***"
      ],
      "metadata": {
        "id": "zugSLd7GD5do"
      }
    },
    {
      "cell_type": "markdown",
      "source": [
        "***"
      ],
      "metadata": {
        "id": "P33YDNEGD5Ng"
      }
    },
    {
      "cell_type": "markdown",
      "metadata": {
        "id": "YuJMqxoZEjp3"
      },
      "source": [
        "# Support Vector Machines\n",
        "\n",
        "Support Vector Machines (SVMs) are a method in machine learning that can be used for classification . Differ from other classification methods we've learned so far, SVMs are based on the idea of finding a hyperplane that best divides a dataset into two classes."
      ]
    },
    {
      "cell_type": "markdown",
      "source": [
        "- classificatiob --> target variabelnya kategorik (0-1, ya-tidak, hujan atau tidak)\n",
        "  - class 0 dan class 1\n",
        "  - clas ya dan class tidak\n",
        "  - class merah dan class biru"
      ],
      "metadata": {
        "id": "v4QWwY07I0KE"
      }
    },
    {
      "cell_type": "markdown",
      "metadata": {
        "id": "3_hVmM4-Ejp7"
      },
      "source": [
        "## Hyperplane\n",
        "\n",
        "SVM is highly related with linear algebra, we're trying \"to manipulate\" the data to find the best hyperplane. So what is a hyperplane? Hyperplane is a \"plane\" that has one less dimension than the original data. For example, if we have a 3D dataset, the hyperplane is a 2D plane. If we have a 2D dataset, the hyperplane is a 1D line.\n",
        "\n",
        "![](https://storage.googleapis.com/rg-ai-bootcamp/machine-learning/HyperplaneLineScene_ManimCE_v0.18.0-min.png)\n",
        "\n",
        "\n",
        "So what's the relation between a hyperplane and SVM? The hyperplane is the boundary that when a point placed on one side of the hyperplane, it's classified as one class, and when it's placed on the other side, it's classified as the other class.\n",
        "\n",
        "![](https://storage.googleapis.com/rg-ai-bootcamp/machine-learning/HyperplaneLineWithPointsScene_ManimCE_v0.18.0-min.gif)\n",
        "\n",
        "\n",
        "As you can see above if we put the vector at (-2, 2) we can see it's classified as the red class, and if we put it at (5, -2) the classifcation is blue, it's because both position is at the different side of the hyperplane."
      ]
    },
    {
      "cell_type": "markdown",
      "source": [
        "- menggunakan bebebrapa metode yang cara kerjanya itu berbeda\n",
        "- logistc regression --> linear model + logistic --> ac 70%\n",
        "- KNN / SVM --> distance based model --> acc 80%\n",
        "- Random forest --> tree based model + ensemble (gabungan) acc 85\n",
        "- Light gradient boosting machine --> LGBM --> tree based + boosting acc --> 90"
      ],
      "metadata": {
        "id": "li8BKMIHJkNd"
      }
    },
    {
      "cell_type": "markdown",
      "source": [
        "regresi --> SSE, MSE, RMSE\n",
        "CLASFICATION --> accuracy, precision, recall, f1 score"
      ],
      "metadata": {
        "id": "-25Af80IKVxg"
      }
    },
    {
      "cell_type": "markdown",
      "metadata": {
        "id": "htl9Yb_gEjp9"
      },
      "source": [
        "# SVM == The art of finding the most optimal hyperplane\n",
        "\n",
        "When we're talking about SVM, we're talking about how can we find the most optimal hyperplane for our dataset to divide the data into two classes (or more, but we'll talk about that later). So what is the most optimal hyperplane? The most optimal hyperplane is the one that has the largest margin between the two support vectors.\n",
        "\n",
        "Margin? Support vector? Understanding how SVM works will be much easier if we understand these two concepts first, let's quickly go through them."
      ]
    },
    {
      "cell_type": "markdown",
      "metadata": {
        "id": "XdQPvGPpEjp9"
      },
      "source": [
        "# Support Vector and Margin\n",
        "\n",
        "Below we have two classes of data, blue and red:\n",
        "\n",
        "$$\n",
        "Blue \\\\\n",
        "3, 0.5 \\\\\n",
        "5, -1 \\\\\n",
        "1, -1 \\\\\n",
        "6, 2 \\\\\n",
        "4, 2 \\\\\n",
        "$$\n",
        "\n",
        "$$\n",
        "Red\\\\\n",
        "-2, -2.5\\\\\n",
        "-2, 3\\\\\n",
        "-5, 1\\\\\n",
        "-3, -2\\\\\n",
        "-4, 2\\\\\n",
        "1, 2\\\\\n",
        "$$\n",
        "\n",
        "And plotted like so:\n",
        "\n",
        "![](https://storage.googleapis.com/rg-ai-bootcamp/machine-learning/HyperplaneLineWithPointsScene2NoLines_ManimCE_v0.18.0-min.png)\n",
        "\n",
        "\n",
        "To moves things forward, when we're inputting above matrix to an SVM model (we'll learn how later), we can have below formula:\n",
        "\n",
        "$$\n",
        "x_{2} = (0.99986773/0.66640213)x_{1} - 0.6665344/0.66640213\n",
        "$$\n",
        "\n",
        "When plotted will make below blue line, a hyperplane for our dataset:"
      ]
    },
    {
      "cell_type": "markdown",
      "metadata": {
        "id": "F6qXxUggEjp-"
      },
      "source": [
        "![](https://storage.googleapis.com/rg-ai-bootcamp/machine-learning/HyperplaneLineWithPointsScene2_ManimCE_v0.18.0-min.png)\n"
      ]
    },
    {
      "cell_type": "markdown",
      "metadata": {
        "id": "MffhWZtuEjp-"
      },
      "source": [
        "Example for x1"
      ]
    },
    {
      "cell_type": "markdown",
      "metadata": {
        "id": "61XgrEcLEjp_"
      },
      "source": [
        "On above plot are two significant concept on how SVM find the most optimal hyperplane, the support vector and the margin.\n",
        "\n",
        "Remember that the **hyperplane** on above plot is the blue line.\n",
        "\n",
        "**Support vector** are the vectors that are closest to the hyperplane, in above plot we can see dotted lines, the vectors that are on the dotted lines are the support vectors (the dotted line basically means that any vectors that are on that would automatically be classified as the support vector).\n",
        "\n",
        "**Margin** is the distance between the support vectors and the hyperplane.\n",
        "\n",
        "Another term to note is **decision boundary**, it's the boundary that separates the two classes, for SVM the hyperplane is the decision boundary.\n",
        "\n",
        "So how SVM find the most optimal hyperplane? It's by finding the support vectors from both classes that when we draw a hyperplane between them, the margin is the largest.\n",
        "\n"
      ]
    },
    {
      "cell_type": "markdown",
      "metadata": {
        "id": "W0z4ICo1Ejp_"
      },
      "source": [
        "# Why the largest margin?\n",
        "\n",
        "![](https://storage.googleapis.com/rg-ai-bootcamp/machine-learning/HyperplaneLineWithPointsScene3_ManimCE_v0.18.0-min.png)\n",
        "\n",
        "Above we learn that SVM is about drawing hyperplane between support vectors, and the most optimal hyperplane is the one that has the largest margin. But what is the largest margin?\n",
        "\n",
        "If you see above plot you can see three different hyperplane: Purple, blue, and green.\n",
        "\n",
        "The problem if we choose the purple line as our hyperplane is that it's too close with the red support vector, it makes the blue decision boundary slightly \"invades\" the red region, and it's bad because it makes the model more prone to misclassification (it's more likely to misclassify red data as blue).\n",
        "\n",
        "And the same thing happens if we choose the green line as our hyperplane, it's too close with the blue support vector, it makes the red decision boundary slightly \"invades\" the blue region, and it's bad because it makes the model more prone to misclassification (it's more likely to misclassify blue data as red).\n",
        "\n",
        "The ideal hyperplane is the blue line, the ideal margin is **the maximum distance between the support vectors of all classes**. It's because the larger the margin, the lower the misclassification rate."
      ]
    },
    {
      "cell_type": "markdown",
      "metadata": {
        "id": "bL1zMzUpEjqA"
      },
      "source": [
        "# Some math of SVM\n",
        "\n",
        "Below is the very basic math for the hyperplane and support vector:\n",
        "\n",
        "$$\n",
        "\\text{Hyperplane}: w \\cdot x + b = 0 \\\\\n",
        "\\text{Support Vector for class 1}: w \\cdot x + b = 1 \\\\\n",
        "\\text{Support Vector for class 0}: w \\cdot x + b = -1 \\\\\n",
        "$$\n",
        "\n",
        "Where $w$ is the weight vector, $x$ is the input vector, and $b$ is the bias. To reiterate $\\cdot$ is the dot product.\n",
        "\n",
        "If above constraint was solved by our SVM model, for inference we can use below formula to classify a vector:\n",
        "\n",
        "$$\n",
        "\\text{Vector that's classified as class 0}: w \\cdot x + b < 0 \\\\\n",
        "\\text{Vector that's classified as class 1}: w \\cdot x + b \\geq 0 \\\\\n",
        "$$\n",
        "\n",
        "And if a vector is between $-1$ and $1$, it's on the margin (the area between the two support vectors).\n"
      ]
    },
    {
      "cell_type": "markdown",
      "metadata": {
        "id": "Y312UFDmEjqA"
      },
      "source": [
        "# Some explanation for the math\n",
        "\n",
        "![](https://storage.googleapis.com/rg-ai-bootcamp/machine-learning/svm-math-min.png)"
      ]
    },
    {
      "cell_type": "markdown",
      "metadata": {
        "id": "YGazJL0hEjqB"
      },
      "source": [
        "Above is the visual representation of the math, where the center line is the hyperplane, the dotted lines are the lines that goes through the support vectors.\n",
        "\n",
        "On training we won't allow for any vectors to be between the two dotted lines (for now we'll use this assumption, later we'll learn that it's a little bit more complicated than that), so we can say that:\n",
        "\n",
        "![](https://storage.googleapis.com/rg-ai-bootcamp/machine-learning/svm-math-2-min.png)"
      ]
    },
    {
      "cell_type": "markdown",
      "metadata": {
        "id": "ESdQFddiEjqB"
      },
      "source": [
        "If there are any vector between the two dotted lines, it means that the hyperplane is not the most optimal hyperplane, because if there are any vector between the two dotted lines, it means that it would be likely that vector would be the better candidate for the support vector rather than the current support vector. So let's move the hyperplane a little bit to the vector that's between the two dotted lines, and we'll get below:\n",
        "\n",
        "![](https://storage.googleapis.com/rg-ai-bootcamp/machine-learning/svm-math-3-min.png)"
      ]
    },
    {
      "cell_type": "markdown",
      "metadata": {
        "id": "VNWfwC4ZEjqB"
      },
      "source": [
        "# Let's train SVM model\n",
        "\n",
        "Wow, we've learned a lot about SVM, before we continue on, let's take some cool down of adding new knowledge and just train an SVM model.\n",
        "\n"
      ]
    },
    {
      "cell_type": "code",
      "execution_count": null,
      "metadata": {
        "id": "0216T8FfEjqB",
        "outputId": "7ad7f666-2000-427b-c7cb-dd78cb2ab325",
        "colab": {
          "base_uri": "https://localhost:8080/"
        }
      },
      "outputs": [
        {
          "output_type": "stream",
          "name": "stdout",
          "text": [
            "Weights: [[ 0.99986773 -0.66640213]]\n",
            "Bias: [-0.6665344]\n",
            "Support Vectors:\n",
            " [[-2.  -2.5]\n",
            " [ 1.   2. ]\n",
            " [ 1.  -1. ]]\n"
          ]
        }
      ],
      "source": [
        "import numpy as np\n",
        "from sklearn import svm\n",
        "\n",
        "X = np.array([[3, 0.5], [5, -1], [1, -1], [6, 2], [4, 2], [-2, -2.5], [-2, 3], [-5, 1], [-3, -2], [-4, 2], [1, 2]])\n",
        "y = np.array([1, 1, 1, 1, 1, 0, 0, 0, 0, 0, 0])  # Blue points (class 1), Red points (class 0) as -1\n",
        "\n",
        "# Create an SVM classifier with a hard margin (What is hard margin?, what is C parameter? We'll learn about it later)\n",
        "clf = svm.SVC(kernel='linear', C=1e5)\n",
        "\n",
        "# Fit the classifier to the data\n",
        "clf.fit(X, y)\n",
        "\n",
        "# You can now use the trained classifier to make predictions on new data\n",
        "# Get the coefficients (weights) of the hyperplane\n",
        "coefficients = clf.coef_\n",
        "print(\"Weights:\", coefficients)\n",
        "\n",
        "# Get the bias (intercept) of the hyperplane\n",
        "intercept_ = clf.intercept_\n",
        "print(\"Bias:\", intercept_)\n",
        "\n",
        "# Get the Support Vectors\n",
        "support_vectors = clf.support_vectors_\n",
        "print(\"Support Vectors:\\n\", support_vectors)\n"
      ]
    },
    {
      "cell_type": "markdown",
      "metadata": {
        "id": "76abjtsyEjqE"
      },
      "source": [
        "## Visualizing our SVM model\n",
        "\n",
        "So if we want to visualize our data in 2D plane for example for our dataset that has two features, we can derive the formula to:\n",
        "\n",
        "$$\n",
        "w \\cdot x + b = 0 \\\\\n",
        "w_1 \\times x_1 + w_2 \\times x_2 + b = 0 \\\\\n",
        "w_2 \\times x_2 = -(w_1 \\times x_1) - b \\\\\n",
        "x_2 = \\frac{-(w_1 \\times x_1) - b}{w_2} \\\\\n",
        "$$\n",
        "\n",
        "If we want to visualize line that goes through the support vectors, we can derive the formula for vector that's classified as class 1:\n",
        "\n",
        "$$\n",
        "w \\cdot x + b = 1 \\\\\n",
        "w_1 \\times x_1 + w_2 \\times x_2 + b = 1 \\\\\n",
        "w_2 \\times x_2 = 1 - (w_1 \\times x_1) - b \\\\\n",
        "x_2 = \\frac{1 - (w_1 \\times x_1) - b}{w_2} \\\\\n",
        "$$\n",
        "\n",
        "And for vectors with class -1:\n",
        "\n",
        "$$\n",
        "w \\cdot x + b = -1 \\\\\n",
        "w_1 \\times x_1 + w_2 \\times x_2 + b = -1 \\\\\n",
        "w_2 \\times x_2 = -1 - (w_1 \\times x_1) - b \\\\\n",
        "x_2 = \\frac{-1 - (w_1 \\times x_1) - b}{w_2}\n",
        "$$"
      ]
    },
    {
      "cell_type": "code",
      "execution_count": null,
      "metadata": {
        "id": "MV8NcWylEjqE",
        "outputId": "56146a16-646d-4f20-f0ea-87ab3b545984",
        "colab": {
          "referenced_widgets": [
            "5b15064c7f734648ae10df048e6c8547",
            "3c919692d19d4f3aa020b35696fbba22",
            "294bd4bd118440fdb91338a8d957b33a",
            "e7317a7d533e4128a3052c6fe367085c",
            "12be47e08240404ab6de3ee3a3ae437c",
            "2fe6d10737094d619d8f069774ac994d",
            "1c49e3d6cd5441b2ad0b48ed480b81d9",
            "ae386e91add3496d8abd24569231f9a6",
            "3e06616d49954829bbe7ce5c7285ad46",
            "91129344c23940b19bce416cb8181edc"
          ],
          "base_uri": "https://localhost:8080/",
          "height": 583
        }
      },
      "outputs": [
        {
          "output_type": "display_data",
          "data": {
            "text/plain": [
              "<Figure size 800x600 with 1 Axes>"
            ],
            "image/png": "[encoded data removed]"
          },
          "metadata": {}
        },
        {
          "output_type": "stream",
          "name": "stdout",
          "text": [
            "The point (2.5, 0.0) is classified as 'Blue' with result 1.8331.\n"
          ]
        }
      ],
      "source": [
        "import numpy as np\n",
        "import matplotlib.pyplot as plt\n",
        "from ipywidgets import interact\n",
        "\n",
        "def classify_point(x):\n",
        "    \"\"\"\n",
        "    Classify a point as 'Blue' or 'Red' using the hyperplane from the SVM.\n",
        "\n",
        "    Args:\n",
        "    x (array-like): The coordinates of the point as a tuple or list.\n",
        "\n",
        "    Returns:\n",
        "    str: 'Blue' if the point is above the hyperplane, 'Red' otherwise.\n",
        "    \"\"\"\n",
        "    w = np.array([coefficients[0][0], coefficients[0][1]])  # Coefficients of the hyperplane\n",
        "    b = intercept_[0]  # Intercept of the hyperplane\n",
        "\n",
        "    # Hyperplane equation using dot product: np.dot(w, x) + b\n",
        "    result = np.dot(w, x) + b\n",
        "\n",
        "    return result\n",
        "\n",
        "# Function to plot the point and the hyperplane\n",
        "def plot_point(x1, x2):\n",
        "    point = np.array([x1, x2])\n",
        "    result = classify_point(point)\n",
        "    classification = 'Blue' if result >= 0 else 'Red'\n",
        "\n",
        "    # Plotting\n",
        "    plt.figure(figsize=(8, 6))\n",
        "    plt.axhline(0, color='grey', lw=1)\n",
        "    plt.axvline(0, color='grey', lw=1)\n",
        "\n",
        "    # Plotting the hyperplane\n",
        "    x_vals = np.linspace(-10, 10, 100)\n",
        "    y_vals = (-(coefficients[0][0] * x_vals) - intercept_[0]) / coefficients[0][1]\n",
        "    plt.plot(x_vals, y_vals, 'green', label='Hyperplane')\n",
        "\n",
        "    #Plotting the line that goes through the support vector with class 1\n",
        "    y_vals_1 = (1-(coefficients[0][0] * x_vals) - intercept_[0]) / coefficients[0][1]\n",
        "    plt.plot(x_vals, y_vals_1, 'purple', label='Line that goes through support vector with class 1', linestyle='--')\n",
        "\n",
        "    #Plotting the line that goes through the support vector with class -1\n",
        "    y_vals_2 = (-1-(coefficients[0][0] * x_vals) - intercept_[0]) / coefficients[0][1]\n",
        "    plt.plot(x_vals, y_vals_2, 'purple', label='Line that goes through support vector with class -1', linestyle='--')\n",
        "\n",
        "    # Plotting the point\n",
        "    plt.scatter(x1, x2, color=classification.lower(), label=f'Point ({x1}, {x2})')\n",
        "    plt.xlim(-10, 10)\n",
        "    plt.ylim(-10, 10)\n",
        "    plt.xlabel('$x_1$')\n",
        "    plt.ylabel('$x_2$')\n",
        "    plt.title('Point Classification with Hyperplane')\n",
        "    plt.legend()\n",
        "    plt.show()\n",
        "\n",
        "    return classification, result\n",
        "\n",
        "# Interactive function\n",
        "def interactive_classification(x1=(-10.0, 10.0), x2=(-10.0, 10.0)):\n",
        "    classification, result = plot_point(x1, x2)\n",
        "    print(f\"The point ({x1}, {x2}) is classified as '{classification}' with result {result:.4f}.\")\n",
        "\n",
        "interact(interactive_classification)"
      ]
    },
    {
      "cell_type": "markdown",
      "metadata": {
        "id": "eCC1tAgqEjqE"
      },
      "source": [
        "# Hard margin\n",
        "\n",
        "Try to place your vector on above interactive plot inside between the two purple lines and check the result. You'll see that every vector that is plotted inside the margin will be resulted to between -1 and 1.\n",
        "\n",
        "Let's remember below properties of SVM\n",
        "\n",
        "$$\n",
        "\\text{Support Vector for class 1}: w \\cdot x + b = 1 \\\\\n",
        "\\text{Support Vector for class 0}: w \\cdot x + b = -1 \\\\\n",
        "$$\n",
        "\n",
        "\n",
        "So for the hard margin SVM we basically have below constraint:\n",
        "\n",
        "If any vector is placed inside the margin during training, such that\n",
        "\n",
        "$$\n",
        "w \\cdot x + b \\gt 1 \\text{ and } w \\cdot x + b \\lt -1\n",
        "$$\n",
        "\n",
        "the SVM model will update the parameters\n",
        "\n",
        "And remember below properties of SVM also:\n",
        "\n",
        "$$\n",
        "\\text{Vector that's classified as class 1}: w \\cdot x + b \\geq 0 \\\\\n",
        "\\text{Vector that's classified as class 0}: w \\cdot x + b < 0 \\\\\n",
        "$$\n",
        "\n",
        "So if a vector that's classified as class 1 having $w \\cdot x + b \\lt 0$ or a vector that's classified as class 0 having $w \\cdot x + b \\geq 0$ the SVM model will update the parameters as there's a misclassification.\n",
        "\n",
        "So basically the hyperplane when we use use hard margin SWM won't be used and will be updated to a new hyperplane that can classify the vector correctly that will fit above constraint (no vector is placed inside the margin).\n",
        "\n",
        "Which will make it less prone to misclassification for the training data, but it will make it more prone to overfitting."
      ]
    },
    {
      "cell_type": "markdown",
      "metadata": {
        "id": "10pPV3FsEjqF"
      },
      "source": [
        "# Margin width\n",
        "\n",
        "Before we continue on learning about hard margin SVM, let's stop a little bit and learn about margin width.\n",
        "\n",
        "![](https://storage.googleapis.com/rg-ai-bootcamp/machine-learning/margin-width-min.png)\n",
        "\n",
        "Margin width is calculated by the distance between the two support vectors, and it's calculated by below formula:\n",
        "\n",
        "$$\n",
        "\\text{Width of the margin} = \\frac{2}{\\|w\\|} \\\\\n",
        "$$\n",
        "\n",
        "How to derive the formula can be checked on supplementary material of SVM as it require some additional knowledge of vector math that will be explained there.\n"
      ]
    },
    {
      "cell_type": "markdown",
      "metadata": {
        "id": "TDerY_Q8EjqF"
      },
      "source": [
        "## Hard margin optimization\n",
        "\n",
        "So basically when we want to do SVM with hard margin, we want to find the parameters $w$ and $b$ that will satisfy below constraint:\n",
        "\n",
        "$$\n",
        "\\text{Hyperplane}: w \\cdot x + b = 0 \\\\\n",
        "\\text{Support Vector for class 1}: w \\cdot x + b = 1 \\\\\n",
        "\\text{Support Vector for class 0}: w \\cdot x + b = -1 \\\\\n",
        "$$\n",
        "\n",
        "And no vector is placed inside the margin, such that $w \\cdot x + b \\gt 1$ and $w \\cdot x + b \\lt -1$.\n",
        "\n",
        "If our hyperplane fulfill above constraint, then we need to find the largest margin by looking below formula:\n",
        "\n",
        "$$\n",
        "\\text{Width of the margin} = \\frac{2}{\\|w\\|} \\\\\n",
        "$$\n",
        "\n",
        "So if we want to find the largest margin, we need to find the smallest $\\|w\\|$ ($w$ vector that has the smallest magnitude) because $\\|w\\|$ is in the denominator of the formula.\n",
        "\n",
        "So on optimizing SVM with hard margin, two things to consider:\n",
        "- Does it fulfill the constraint?\n",
        "- Does it has the smallest $\\|w\\|$?\n",
        "\n",
        "For optimization of SVM normally we don't use gradient descent but we use another method called \"constrained optimization\" (basically like the name suggests, we're optimizing the model with some constraints), but unfortunately it's out of the scope of our learning as it's require a lot of foundation math knowledge such as lagrange multiplier, etc."
      ]
    },
    {
      "cell_type": "markdown",
      "metadata": {
        "id": "F5P_LjoKEjqF"
      },
      "source": [
        "# Real world has outliers\n",
        "\n",
        "Let's be sneaky and add new data that inside the margin of our previous set of data\n",
        "\n",
        "![](https://storage.googleapis.com/rg-ai-bootcamp/machine-learning/HyperplaneLineWithPointsScene4NoLines_ManimCE_v0.18.0-min.png)\n"
      ]
    },
    {
      "cell_type": "code",
      "execution_count": null,
      "metadata": {
        "id": "b6q72HrFEjqF",
        "outputId": "e3fb5cca-a5e9-493e-83aa-076fc06f5406",
        "colab": {
          "base_uri": "https://localhost:8080/"
        }
      },
      "outputs": [
        {
          "output_type": "stream",
          "name": "stdout",
          "text": [
            "Weights: [[ 0.46068003 -0.25749064]]\n",
            "Bias: [0.32359972]\n",
            "Support Vectors:\n",
            " [[-4.75 -3.36]\n",
            " [-1.89  1.76]\n",
            " [ 1.3  -0.3 ]]\n"
          ]
        }
      ],
      "source": [
        "import numpy as np\n",
        "from sklearn import svm\n",
        "\n",
        "X = np.array([\n",
        "    [3.00, 1.00], [3.07, 1.18], [1.48, -2.39], [6.77, -2.18], [5.83, -0.21], [3.67, -3.26],\n",
        "    [3.58, 3.02], [-0.09, -3.42], [1.45, -1.58], [2.79, 1.18], [6.10, -1.52], [6.46, -0.11],\n",
        "    [6.70, -2.54], [1.30, -0.30], [1.75, -3.09], [2.80, 0.97], [3.28, 2.76], [0.59, -1.67],\n",
        "    [6.20, -1.50], [6.52, 0.18], [3.28, 2.76], [0.59, -1.67], [6.20, -1.50], [6.52, 0.18],\n",
        "    [4.06, 0.75], [5.10, -0.73], [4.89, -0.03], [6.31, 0.89], [5.54, 0.30], [4.66, 1.55],\n",
        "    [5.48, -2.17], [4.27, -1.70], [5.65, -1.32], [4.84, -2.93], [5.38, 0.58], [5.00, 1.34],\n",
        "    [4.71, 0.84], [5.96, -0.79], [4.54, 0.30], [5.73, -0.61], [-2.00, 3.00], [-5.80, 3.44],\n",
        "    [-3.69, 3.85], [-1.63, 3.56], [-4.67, -0.32], [-4.58, 1.83], [-3.81, 3.38], [-2.90, 0.41],\n",
        "    [-4.69, -2.15], [-4.75, -3.36], [-2.40, 1.72], [-1.91, 2.53], [-5.73, 1.52], [-5.70, -0.21],\n",
        "    [-5.87, -2.00], [-1.35, 2.96], [-4.71, -2.75], [-6.62, 0.79], [-5.32, 1.10], [-1.89, 1.76]\n",
        "])\n",
        "\n",
        "\n",
        "y = np.array([\n",
        "    1,1, 1,1,1,\n",
        "    1,1, 1,1,1,\n",
        "    1,1, 1,1,1,\n",
        "    1,1, 1,1,1,\n",
        "    1,1, 1,1,1,\n",
        "    1,1, 1,1,1,\n",
        "    1,1, 1,1,1,\n",
        "    1,1, 1,1,1,\n",
        "    -1,-1,-1,-1,-1,\n",
        "    -1,-1,-1,-1,-1,\n",
        "    -1,-1,-1,-1,-1,\n",
        "    -1,-1,-1,-1,-1,\n",
        "])\n",
        "\n",
        "\n",
        "# Create an SVM classifier with a hard margin (What is hard margin?, what is C parameter? We'll learn about it later)\n",
        "clf = svm.SVC(kernel='linear', C=1e5)\n",
        "\n",
        "# Fit the classifier to the data\n",
        "clf.fit(X, y)\n",
        "\n",
        "# You can now use the trained classifier to make predictions on new data\n",
        "# Get the coefficients (weights) of the hyperplane\n",
        "coefficients = clf.coef_\n",
        "print(\"Weights:\", coefficients)\n",
        "\n",
        "# Get the bias (intercept) of the hyperplane\n",
        "intercept_ = clf.intercept_\n",
        "print(\"Bias:\", intercept_)\n",
        "\n",
        "# Get the Support Vectors\n",
        "support_vectors = clf.support_vectors_\n",
        "print(\"Support Vectors:\\n\", support_vectors)\n"
      ]
    },
    {
      "cell_type": "code",
      "source": [
        "len(X), len(y)"
      ],
      "metadata": {
        "colab": {
          "base_uri": "https://localhost:8080/"
        },
        "id": "IWcQKWV5Vp9d",
        "outputId": "a36a59d3-a5ab-424c-b91f-e81c3dadf9ef"
      },
      "execution_count": null,
      "outputs": [
        {
          "output_type": "execute_result",
          "data": {
            "text/plain": [
              "(60, 60)"
            ]
          },
          "metadata": {},
          "execution_count": 12
        }
      ]
    },
    {
      "cell_type": "code",
      "source": [
        "X[0][0]"
      ],
      "metadata": {
        "colab": {
          "base_uri": "https://localhost:8080/"
        },
        "id": "0lBggrqmVt-b",
        "outputId": "057cf1b8-846d-408e-e026-f1024c8ef4fa"
      },
      "execution_count": null,
      "outputs": [
        {
          "output_type": "execute_result",
          "data": {
            "text/plain": [
              "3.0"
            ]
          },
          "metadata": {},
          "execution_count": 15
        }
      ]
    },
    {
      "cell_type": "code",
      "source": [
        "for i in range(len(X)):\n",
        "  plt.scatter(X[i][0], X[i][1], c='blue')"
      ],
      "metadata": {
        "colab": {
          "base_uri": "https://localhost:8080/",
          "height": 430
        },
        "id": "ebl98VmKVhr2",
        "outputId": "caacb4f9-6f5c-4748-bc5f-cce1efb98b75"
      },
      "execution_count": null,
      "outputs": [
        {
          "output_type": "display_data",
          "data": {
            "text/plain": [
              "<Figure size 640x480 with 1 Axes>"
            ],
            "image/png": "[encoded data removed]"
          },
          "metadata": {}
        }
      ]
    },
    {
      "cell_type": "code",
      "source": [
        "# Function to plot the hyperplane\n",
        "def plot_hyperplance(coefficients, intercept_, X):\n",
        "\n",
        "    # Plotting\n",
        "    plt.figure(figsize=(8, 6))\n",
        "    plt.axhline(0, color='grey', lw=1)\n",
        "    plt.axvline(0, color='grey', lw=1)\n",
        "\n",
        "    # Plotting the hyperplane\n",
        "    x_vals = np.linspace(-10, 10, 100)\n",
        "    y_vals = (-(coefficients[0][0] * x_vals) - intercept_[0]) / coefficients[0][1]\n",
        "    plt.plot(x_vals, y_vals, 'green', label='Hyperplane')\n",
        "\n",
        "    #Plotting the line that goes through the support vector with class 1\n",
        "    y_vals_1 = (1-(coefficients[0][0] * x_vals) - intercept_[0]) / coefficients[0][1]\n",
        "    plt.plot(x_vals, y_vals_1, 'red', label='Line that goes through support vector with class 1', linestyle='--')\n",
        "\n",
        "    #Plotting the line that goes through the support vector with class -1\n",
        "    y_vals_2 = (-1-(coefficients[0][0] * x_vals) - intercept_[0]) / coefficients[0][1]\n",
        "    plt.plot(x_vals, y_vals_2, 'purple', label='Line that goes through support vector with class -1', linestyle='--')\n",
        "\n",
        "    # Plotting the point\n",
        "    for i in range(len(X)):\n",
        "      point = np.array([X[i][0], X[i][1]])\n",
        "      result = classify_point(point)\n",
        "      classification = 'Blue' if result >= 0 else 'Red'\n",
        "      plt.scatter(X[i][0], X[i][1], color=classification.lower())\n",
        "    plt.xlim(-10, 10)\n",
        "    plt.ylim(-10, 10)\n",
        "    plt.xlabel('$x_1$')\n",
        "    plt.ylabel('$x_2$')\n",
        "    plt.title('Point Classification with Hyperplane')\n",
        "    plt.legend()\n",
        "    plt.show()"
      ],
      "metadata": {
        "id": "iDVY3qNtU-8_"
      },
      "execution_count": null,
      "outputs": []
    },
    {
      "cell_type": "code",
      "source": [
        "plot_hyperplance(coefficients, intercept_, X)"
      ],
      "metadata": {
        "colab": {
          "base_uri": "https://localhost:8080/",
          "height": 565
        },
        "id": "01zdhOZdVMyM",
        "outputId": "f9af3fd0-862e-4e9a-8d14-6fae8da74750"
      },
      "execution_count": null,
      "outputs": [
        {
          "output_type": "display_data",
          "data": {
            "text/plain": [
              "<Figure size 800x600 with 1 Axes>"
            ],
            "image/png": "[encoded data removed]"
          },
          "metadata": {}
        }
      ]
    },
    {
      "cell_type": "markdown",
      "metadata": {
        "id": "1EB1FOmLEjqG"
      },
      "source": [
        "Now with above trained SVM, we can see below result:\n",
        "\n",
        "![](https://storage.googleapis.com/rg-ai-bootcamp/machine-learning/HyperplaneLineWithPointsScene4_ManimCE_v0.18.0-min.png)\n"
      ]
    },
    {
      "cell_type": "markdown",
      "metadata": {
        "id": "sP6DLH5hEjqG"
      },
      "source": [
        "We can see we have a pretty wide margin for our SVM model, and it's pretty fair to say if we input of a vector while inferencing say fall into (0, -1) for example, it will be classified as blue and if it falls into (-2, 0) it will be classified as red. The margin pretty wide so the likely that's accurate is decent.\n",
        "\n",
        "But, what if on training there is a single outlier like below?\n",
        "\n",
        "![](https://storage.googleapis.com/rg-ai-bootcamp/machine-learning/HyperplaneLineWithPointsScene4Outlier_ManimCE_v0.18.0-min.png)\n"
      ]
    },
    {
      "cell_type": "markdown",
      "metadata": {
        "id": "gPZraq5EEjqG"
      },
      "source": [
        "This red dot seems out of place as when we see it, it seems like it should be classified as blue. But this is the  nature of real world data, it's messy and it's not perfect. Lots of the time we'll have outliers on our dataset. Let's see what will happen if we train our SVM model using hard margin with above dataset."
      ]
    },
    {
      "cell_type": "code",
      "execution_count": null,
      "metadata": {
        "id": "anXcyit9EjqG",
        "outputId": "0656489a-5615-49dd-cb80-338830944f87",
        "colab": {
          "base_uri": "https://localhost:8080/"
        }
      },
      "outputs": [
        {
          "output_type": "stream",
          "name": "stdout",
          "text": [
            "Weights: [[ 1.50867809 -0.78160554]]\n",
            "Bias: [-1.19552197]\n",
            "Support Vectors:\n",
            " [[ 0.   -0.25]\n",
            " [ 1.3  -0.3 ]\n",
            " [ 0.59 -1.67]]\n"
          ]
        }
      ],
      "source": [
        "import numpy as np\n",
        "from sklearn import svm\n",
        "\n",
        "X = np.array([\n",
        "    [3.00, 1.00], [3.07, 1.18], [1.48, -2.39], [6.77, -2.18], [5.83, -0.21], [3.67, -3.26],\n",
        "    [3.58, 3.02], [-0.09, -3.42], [1.45, -1.58], [2.79, 1.18], [6.10, -1.52], [6.46, -0.11],\n",
        "    [6.70, -2.54], [1.30, -0.30], [1.75, -3.09], [2.80, 0.97], [3.28, 2.76], [0.59, -1.67],\n",
        "    [6.20, -1.50], [6.52, 0.18], [3.28, 2.76], [0.59, -1.67], [6.20, -1.50], [6.52, 0.18],\n",
        "    [4.06, 0.75], [5.10, -0.73], [4.89, -0.03], [6.31, 0.89], [5.54, 0.30], [4.66, 1.55],\n",
        "    [5.48, -2.17], [4.27, -1.70], [5.65, -1.32], [4.84, -2.93], [5.38, 0.58], [5.00, 1.34],\n",
        "    [4.71, 0.84], [5.96, -0.79], [4.54, 0.30], [5.73, -0.61], [-2.00, 3.00], [-5.80, 3.44],\n",
        "    [-3.69, 3.85], [-1.63, 3.56], [-4.67, -0.32], [-4.58, 1.83], [-3.81, 3.38], [-2.90, 0.41],\n",
        "    [-4.69, -2.15], [-4.75, -3.36], [-2.40, 1.72], [-1.91, 2.53], [-5.73, 1.52], [-5.70, -0.21],\n",
        "    [-5.87, -2.00], [-1.35, 2.96], [-4.71, -2.75], [-6.62, 0.79], [-5.32, 1.10], [-1.89, 1.76],\n",
        "    [0, -0.25]\n",
        "])\n",
        "\n",
        "\n",
        "y = np.array([\n",
        "    1,1, 1,1,1,\n",
        "    1,1, 1,1,1,\n",
        "    1,1, 1,1,1,\n",
        "    1,1, 1,1,1,\n",
        "    1,1, 1,1,1,\n",
        "    1,1, 1,1,1,\n",
        "    1,1, 1,1,1,\n",
        "    1,1, 1,1,1,\n",
        "    -1,-1,-1,-1,-1,\n",
        "    -1,-1,-1,-1,-1,\n",
        "    -1,-1,-1,-1,-1,\n",
        "    -1,-1,-1,-1,-1,\n",
        "    -1\n",
        "])\n",
        "\n",
        "\n",
        "# Create an SVM classifier with a hard margin (What is hard margin?, what is C parameter? We'll learn about it later)\n",
        "clf = svm.SVC(kernel='linear', C=1e5)\n",
        "\n",
        "# Fit the classifier to the data\n",
        "clf.fit(X, y)\n",
        "\n",
        "# You can now use the trained classifier to make predictions on new data\n",
        "# Get the coefficients (weights) of the hyperplane\n",
        "coefficients = clf.coef_\n",
        "print(\"Weights:\", coefficients)\n",
        "\n",
        "# Get the bias (intercept) of the hyperplane\n",
        "intercept_ = clf.intercept_\n",
        "print(\"Bias:\", intercept_)\n",
        "\n",
        "# Get the Support Vectors\n",
        "support_vectors = clf.support_vectors_\n",
        "print(\"Support Vectors:\\n\", support_vectors)\n"
      ]
    },
    {
      "cell_type": "code",
      "source": [
        "plot_hyperplance(coefficients, intercept_, X)"
      ],
      "metadata": {
        "colab": {
          "base_uri": "https://localhost:8080/",
          "height": 565
        },
        "id": "0hH1Z2PhW_3_",
        "outputId": "3ecc89ef-2a5e-41e1-aa6e-73e66f9f2201"
      },
      "execution_count": null,
      "outputs": [
        {
          "output_type": "display_data",
          "data": {
            "text/plain": [
              "<Figure size 800x600 with 1 Axes>"
            ],
            "image/png": "[encoded data removed]"
          },
          "metadata": {}
        }
      ]
    },
    {
      "cell_type": "markdown",
      "metadata": {
        "id": "n0FmQVRPEjqH"
      },
      "source": [
        "![](https://storage.googleapis.com/rg-ai-bootcamp/machine-learning/HyperplaneLineWithPointsScene4OutlierWithLine_ManimCE_v0.18.0-min.png)\n",
        "\n",
        "\n",
        "Suddenly compared to previous SVM model, the margin is much smaller\n",
        "\n",
        "![](https://storage.googleapis.com/rg-ai-bootcamp/machine-learning/HyperplaneLineWithPointsScene4_ManimCE_v0.18.0-min.png)\n"
      ]
    },
    {
      "cell_type": "markdown",
      "metadata": {
        "id": "dc_DcbVpEjqH"
      },
      "source": [
        "Again if we check the whole red dot, it's really likely that this single vector is an outlier.\n",
        "\n",
        "Even more extreme in real world we can have below dataset:\n",
        "\n",
        "![](https://storage.googleapis.com/rg-ai-bootcamp/machine-learning/HyperplaneLineWithPointsScene4Outlier2_ManimCE_v0.18.0-min.png)\n"
      ]
    },
    {
      "cell_type": "markdown",
      "metadata": {
        "id": "IyYa3ULvEjqH"
      },
      "source": [
        "The red dot feels misclassified entirely, again if we use our feeling, it's really likely that this single vector is an outlier."
      ]
    },
    {
      "cell_type": "code",
      "execution_count": null,
      "metadata": {
        "id": "6Fei_2_HEjqH",
        "outputId": "679ba396-7b20-4c46-a9d0-cf09b037772a",
        "colab": {
          "base_uri": "https://localhost:8080/"
        }
      },
      "outputs": [
        {
          "output_type": "stream",
          "name": "stdout",
          "text": [
            "Weights: [[ 1.37253127 -0.21883034]]\n",
            "Bias: [-0.39184981]\n",
            "Support Vectors:\n",
            " [[ 1.   -1.  ]\n",
            " [-0.09 -3.42]\n",
            " [ 1.3  -0.3 ]\n",
            " [ 1.75 -3.09]\n",
            " [ 0.59 -1.67]]\n"
          ]
        }
      ],
      "source": [
        "import numpy as np\n",
        "from sklearn import svm\n",
        "\n",
        "X = np.array([\n",
        "    [3.00, 1.00], [3.07, 1.18], [1.48, -2.39], [6.77, -2.18], [5.83, -0.21], [3.67, -3.26],\n",
        "    [3.58, 3.02], [-0.09, -3.42], [1.45, -1.58], [2.79, 1.18], [6.10, -1.52], [6.46, -0.11],\n",
        "    [6.70, -2.54], [1.30, -0.30], [1.75, -3.09], [2.80, 0.97], [3.28, 2.76], [0.59, -1.67],\n",
        "    [6.20, -1.50], [6.52, 0.18], [3.28, 2.76], [0.59, -1.67], [6.20, -1.50], [6.52, 0.18],\n",
        "    [4.06, 0.75], [5.10, -0.73], [4.89, -0.03], [6.31, 0.89], [5.54, 0.30], [4.66, 1.55],\n",
        "    [5.48, -2.17], [4.27, -1.70], [5.65, -1.32], [4.84, -2.93], [5.38, 0.58], [5.00, 1.34],\n",
        "    [4.71, 0.84], [5.96, -0.79], [4.54, 0.30], [5.73, -0.61], [-2.00, 3.00], [-5.80, 3.44],\n",
        "    [-3.69, 3.85], [-1.63, 3.56], [-4.67, -0.32], [-4.58, 1.83], [-3.81, 3.38], [-2.90, 0.41],\n",
        "    [-4.69, -2.15], [-4.75, -3.36], [-2.40, 1.72], [-1.91, 2.53], [-5.73, 1.52], [-5.70, -0.21],\n",
        "    [-5.87, -2.00], [-1.35, 2.96], [-4.71, -2.75], [-6.62, 0.79], [-5.32, 1.10], [-1.89, 1.76],\n",
        "    [1, -1]\n",
        "])\n",
        "\n",
        "\n",
        "y = np.array([\n",
        "    1,1, 1,1,1,\n",
        "    1,1, 1,1,1,\n",
        "    1,1, 1,1,1,\n",
        "    1,1, 1,1,1,\n",
        "    1,1, 1,1,1,\n",
        "    1,1, 1,1,1,\n",
        "    1,1, 1,1,1,\n",
        "    1,1, 1,1,1,\n",
        "    -1,-1,-1,-1,-1,\n",
        "    -1,-1,-1,-1,-1,\n",
        "    -1,-1,-1,-1,-1,\n",
        "    -1,-1,-1,-1,-1,\n",
        "    -1\n",
        "])\n",
        "\n",
        "\n",
        "# Create an SVM classifier with a hard margin (What is hard margin?, what is C parameter? We'll learn about it later)\n",
        "clf = svm.SVC(kernel='linear', C=1e7)\n",
        "\n",
        "# Fit the classifier to the data\n",
        "clf.fit(X, y)\n",
        "\n",
        "# You can now use the trained classifier to make predictions on new data\n",
        "# Get the coefficients (weights) of the hyperplane\n",
        "coefficients = clf.coef_\n",
        "print(\"Weights:\", coefficients)\n",
        "\n",
        "# Get the bias (intercept) of the hyperplane\n",
        "intercept_ = clf.intercept_\n",
        "print(\"Bias:\", intercept_)\n",
        "\n",
        "# Get the Support Vectors\n",
        "support_vectors = clf.support_vectors_\n",
        "print(\"Support Vectors:\\n\", support_vectors)\n"
      ]
    },
    {
      "cell_type": "code",
      "source": [
        "plot_hyperplance(coefficients, intercept_, X)"
      ],
      "metadata": {
        "colab": {
          "base_uri": "https://localhost:8080/",
          "height": 565
        },
        "id": "kFJsSv3NcmOq",
        "outputId": "3977f08e-7500-4af0-b7a9-d450b06b0f20"
      },
      "execution_count": null,
      "outputs": [
        {
          "output_type": "display_data",
          "data": {
            "text/plain": [
              "<Figure size 800x600 with 1 Axes>"
            ],
            "image/png": "[encoded data removed]"
          },
          "metadata": {}
        }
      ]
    },
    {
      "cell_type": "markdown",
      "metadata": {
        "id": "X4AY3yoNEjqI"
      },
      "source": [
        "![](https://storage.googleapis.com/rg-ai-bootcamp/machine-learning/HyperplaneLineWithPointsScene4Outlier2WithLine_ManimCE_v0.18.0-min.png)\n"
      ]
    },
    {
      "cell_type": "markdown",
      "metadata": {
        "id": "l2alAOKnEjqI"
      },
      "source": [
        "If we're forced to use hard margin SVM, we'll have above result. Let's iterate first that by default when we're training SVM using scikit learn, it will using soft margin SVM, on above training we use a really high `C` value (which we'll learn in a bit) to force it to use hard margin SVM, but by the nature of scikit we still can found the result even with hard margin SVM (in reality this shouldn't be solvable using hard margin SVM).\n",
        "\n",
        "But as we can see above this outlier make the hyperplane gone very near to the blue region, making the red region very big and can make lots of inputs misclassified as red rather than if we insist of using below hyperplane.\n",
        "\n",
        "\n",
        "![](https://storage.googleapis.com/rg-ai-bootcamp/machine-learning/HyperplaneLineWithPointsScene4Outlier2WithCorrectLine_ManimCE_v0.18.0-min.png)\n"
      ]
    },
    {
      "cell_type": "markdown",
      "metadata": {
        "id": "MyTCHPrLEjqI"
      },
      "source": [
        "If we can ignore the outlier, we can see that the hyperplane is much more balanced and the margin is much wider. So how can we make sure that our SVM model can ignore the outlier?"
      ]
    },
    {
      "cell_type": "markdown",
      "metadata": {
        "id": "a-cieRTxEjqI"
      },
      "source": [
        "# Soft margin\n",
        "\n",
        "Soft margin SVM is a method to allow some misclassification on our SVM model which means that the resulting hyperplane sometimes can ignore having some vectors inside the margin or any vectors that are misclassified.\n",
        "\n",
        "So rather than previously that hard margin SVM is focused only on maximing margin width while still considering given constraint, soft margin SVM is focused on maximizing margin width while letting some misclassification to happen in training where this misclassification is controlled by a parameter called slack variable that we already often see before denoted as `C`.\n",
        "\n",
        "How much do we care about bringing high margin width vs how much do we care about making sure not much misclassification can be goes through the model? To understand better about slack variable let's understand about `hinge loss` first."
      ]
    },
    {
      "cell_type": "markdown",
      "metadata": {
        "id": "YSmqyqmhEjqI"
      },
      "source": [
        "# Hinge loss\n",
        "\n",
        "Hinge loss is basically a loss function that said: \"Given current hyperplane, how bad this hyperplane is at classifying the data?\". So if we have a hyperplane that can classify all the data correctly, the hinge loss will be 0 (this will be the case on a data with no outlier). But if we have a hyperplane that can't classify all the data correctly (some data might be misclassified), the hinge loss will be greater than 0.\n",
        "\n",
        "So let's check the below set of data and given hyperplane:"
      ]
    },
    {
      "cell_type": "markdown",
      "metadata": {
        "id": "F_MX0eiFEjqI"
      },
      "source": [
        "![](https://storage.googleapis.com/rg-ai-bootcamp/machine-learning/HyperplaneLineWithPointsScene4Outlier2HingeLoss_ManimCE_v0.18.0-min.png)"
      ]
    },
    {
      "cell_type": "markdown",
      "metadata": {
        "id": "cAqCkVr3EjqJ"
      },
      "source": [
        "So given hyperplane:\n",
        "\n",
        "$$\n",
        "Weight: 0.46068003, -0.25749064 \\\\\n",
        "Bias: 0.32359972\\\\\n",
        "$$\n",
        "\n",
        "Where:\n",
        "\n",
        "$$\n",
        "Blue: 1 \\\\\n",
        "Red: -1 \\\\\n",
        "$$\n",
        "\n",
        "We want to check the hinge loss for above 3 vectors with this hyperplane:\n",
        "\n",
        "$$\n",
        "A = \\begin{bmatrix} -4 \\\\ 0 \\end{bmatrix} \\\\\n",
        "$$\n",
        "\n",
        "Where we can see is that this vector is placed correctly on the red region.\n",
        "\n",
        "$$\n",
        "B = \\begin{bmatrix} 1 \\\\ 1 \\end{bmatrix} \\\\\n",
        "$$\n",
        "\n",
        "Where we can see is that this vector is placed correctly for their classifcation but inside the margin.\n",
        "\n",
        "$$\n",
        "C = \\begin{bmatrix} 2 \\\\ -1 \\end{bmatrix} \\\\\n",
        "$$\n",
        "\n",
        "Where we can see this vector is on the blue region but it's classification is red."
      ]
    },
    {
      "cell_type": "code",
      "source": [
        "coefficients"
      ],
      "metadata": {
        "colab": {
          "base_uri": "https://localhost:8080/"
        },
        "id": "lQo62f4WfLzq",
        "outputId": "9dfe204d-976b-46b6-d5db-a88763864d34"
      },
      "execution_count": null,
      "outputs": [
        {
          "output_type": "execute_result",
          "data": {
            "text/plain": [
              "array([[ 1.37253127, -0.21883034]])"
            ]
          },
          "metadata": {},
          "execution_count": 27
        }
      ]
    },
    {
      "cell_type": "code",
      "source": [
        "coefficients = [[0.46068003, -1*0.25749064]]\n",
        "intercept_ = [0.32359972]\n",
        "\n",
        "# Plotting\n",
        "plt.figure(figsize=(8, 6))\n",
        "plt.axhline(0, color='grey', lw=1)\n",
        "plt.axvline(0, color='grey', lw=1)\n",
        "\n",
        "# Plotting the hyperplane\n",
        "x_vals = np.linspace(-10, 10, 100)\n",
        "y_vals = (-(coefficients[0][0] * x_vals) - intercept_[0]) / coefficients[0][1]\n",
        "plt.plot(x_vals, y_vals, 'green', label='Hyperplane')\n",
        "\n",
        "#Plotting the line that goes through the support vector with class 1\n",
        "y_vals_1 = (1-(coefficients[0][0] * x_vals) - intercept_[0]) / coefficients[0][1]\n",
        "plt.plot(x_vals, y_vals_1, 'red', label='Line that goes through support vector with class 1', linestyle='--')\n",
        "\n",
        "#Plotting the line that goes through the support vector with class -1\n",
        "y_vals_2 = (-1-(coefficients[0][0] * x_vals) - intercept_[0]) / coefficients[0][1]\n",
        "plt.plot(x_vals, y_vals_2, 'purple', label='Line that goes through support vector with class -1', linestyle='--')\n",
        "\n",
        "# # Plotting the point\n",
        "# for i in range(len(X)):\n",
        "#   point = np.array([X[i][0], X[i][1]])\n",
        "#   result = classify_point(point)\n",
        "#   classification = 'Blue' if result >= 0 else 'Red'\n",
        "#   plt.scatter(X[i][0], X[i][1], color=classification.lower())\n",
        "plt.scatter(-4, 0, color='red', label=\"A\")\n",
        "plt.scatter(1, 1, color='blue', label=\"B\")\n",
        "plt.scatter(2, -1, color='red', label=\"C\")\n",
        "plt.xlim(-10, 10)\n",
        "plt.ylim(-10, 10)\n",
        "plt.xlabel('$x_1$')\n",
        "plt.ylabel('$x_2$')\n",
        "plt.title('Point Classification with Hyperplane')\n",
        "plt.legend()\n",
        "plt.show()"
      ],
      "metadata": {
        "colab": {
          "base_uri": "https://localhost:8080/",
          "height": 565
        },
        "id": "ivsUVC4fe9zS",
        "outputId": "a75260aa-6195-409b-979c-a45d33583c86"
      },
      "execution_count": null,
      "outputs": [
        {
          "output_type": "display_data",
          "data": {
            "text/plain": [
              "<Figure size 800x600 with 1 Axes>"
            ],
            "image/png": "[encoded data removed]"
          },
          "metadata": {}
        }
      ]
    },
    {
      "cell_type": "markdown",
      "metadata": {
        "id": "Fx7xKMsNEjqJ"
      },
      "source": [
        "## Hinge loss formula\n",
        "\n",
        "Below is the hinge loss formula:\n",
        "\n",
        "$$\n",
        "\\text{Hinge Loss} = \\max(0, 1 - y(\\mathbf{w} \\cdot \\mathbf{x} + b))\n",
        "$$\n",
        "\n",
        "Where $y$ is the classification of the vector, $\\mathbf{w}$ is the weight vector, $\\mathbf{x}$ is the input vector, and $b$ is the bias."
      ]
    },
    {
      "cell_type": "markdown",
      "source": [
        "max(0, 0.5) --> errornya 0.5\n",
        "max(0, -0.5) --> 0"
      ],
      "metadata": {
        "id": "7XKLbiNRWZ94"
      }
    },
    {
      "cell_type": "markdown",
      "metadata": {
        "id": "nbvYY9glEjqJ"
      },
      "source": [
        "## Hinge loss for vector A (correctly classified)\n",
        "\n",
        "Let's input vector A to the formula:\n",
        "\n",
        "$$\n",
        "\\text{Hinge Loss} = \\max(0, 1 - -1(w \\cdot x + b)) \\\\\n",
        "$$\n",
        "\n",
        "Where we change the y to -1 because the vector is classified as red, which is -1.\n",
        "\n",
        "For the rest let's just use Numpy to calculate:\n"
      ]
    },
    {
      "cell_type": "code",
      "execution_count": null,
      "metadata": {
        "id": "axsnzYpkEjqJ",
        "outputId": "7591bba6-5472-436e-8e27-1f29d27580db",
        "colab": {
          "base_uri": "https://localhost:8080/"
        }
      },
      "outputs": [
        {
          "output_type": "execute_result",
          "data": {
            "text/plain": [
              "array(0.)"
            ]
          },
          "metadata": {},
          "execution_count": 53
        }
      ],
      "source": [
        "import numpy as np\n",
        "\n",
        "w = np.array([0.46068003, -0.25749064])\n",
        "x = np.array([-4, 0])\n",
        "b = 0.32359972\n",
        "\n",
        "result = 1 - -1 * (w.dot(x) + b)\n",
        "np.where(result > 0, result, 0)"
      ]
    },
    {
      "cell_type": "markdown",
      "metadata": {
        "id": "zZk-1X-_EjqU"
      },
      "source": [
        "As you can see the result is negative, so if we input the result\n",
        "\n",
        "$$\n",
        "\\text{Hinge loss} = \\max(0, -0.5191204)\\\\\n",
        "\\text{Hinge loss} = 0\n",
        "$$\n",
        "\n",
        "As you can see, if the vector is correctly classified, the hinge loss will be 0."
      ]
    },
    {
      "cell_type": "markdown",
      "metadata": {
        "id": "Du9pG1XFEjqU"
      },
      "source": [
        "## Hinge loss for vector B (correctly classified but inside the margin)\n",
        "\n",
        "Let's input vector B to the formula:\n",
        "\n",
        "$$\n",
        "\\text{Hinge Loss} = \\max(0, 1 - 1(w \\cdot x + b)) \\\\\n",
        "$$\n",
        "\n",
        "Where we change the y to 1 because the vector is classified as blue, which is 1.\n",
        "\n",
        "For the rest let's just use Numpy to calculate:"
      ]
    },
    {
      "cell_type": "code",
      "execution_count": null,
      "metadata": {
        "id": "AHcXNjG6EjqU",
        "outputId": "799f1fec-5c71-4138-83eb-2042c0af03ee",
        "colab": {
          "base_uri": "https://localhost:8080/"
        }
      },
      "outputs": [
        {
          "output_type": "execute_result",
          "data": {
            "text/plain": [
              "array(0.47321089)"
            ]
          },
          "metadata": {},
          "execution_count": 54
        }
      ],
      "source": [
        "import numpy as np\n",
        "\n",
        "w = np.array([0.46068003, -0.25749064])\n",
        "x = np.array([1, 1])\n",
        "b = 0.32359972\n",
        "\n",
        "result = 1 - 1.0 * (w.dot(x) + b)\n",
        "np.where(result > 0, result, 0)"
      ]
    },
    {
      "cell_type": "markdown",
      "metadata": {
        "id": "XKw2ijjuEjqV"
      },
      "source": [
        "Now if we input the result\n",
        "\n",
        "$$\n",
        "\\text{Hinge loss} = \\max(0, 0.47321089000000005)\\\\\n",
        "\\text{Hinge loss} = 0.47321089000000005\n",
        "$$\n",
        "\n",
        "Basically if the vector is correctly classified but inside the margin, the hinge loss will be greater than 0 but always less than 1 (if the result is greater than 1, it means the vector is misclassified which we'll learn next).\n",
        "\n",
        "This means that if there is a data that's correctly classified but inside the margin, there is small penalty that we want to inform the SVM model for the current iteration of the hyperplane."
      ]
    },
    {
      "cell_type": "markdown",
      "metadata": {
        "id": "vSUW2lNhEjqV"
      },
      "source": [
        "## Hinge loss for vector C (misclassified)"
      ]
    },
    {
      "cell_type": "markdown",
      "metadata": {
        "id": "qGdjJL7LEjqV"
      },
      "source": [
        "Let's input vector C to the formula:\n",
        "\n",
        "$$\n",
        "\\text{Hinge Loss} = \\max(0, 1 - -1(w \\cdot x + b)) \\\\\n",
        "$$\n",
        "\n",
        "Where we change the y to -1 because the vector is classified as red, which is -1.\n",
        "\n",
        "For the rest let's just use Numpy to calculate:"
      ]
    },
    {
      "cell_type": "code",
      "source": [
        "from scipy.spatial import distance\n",
        "a = [-3]\n",
        "b = [1]\n",
        "dst = distance.euclidean(a, b)\n",
        "dst"
      ],
      "metadata": {
        "colab": {
          "base_uri": "https://localhost:8080/"
        },
        "id": "owANxqLMg-pD",
        "outputId": "d8175605-0aaa-4f29-cbcd-4c5aa49e3e81"
      },
      "execution_count": null,
      "outputs": [
        {
          "output_type": "execute_result",
          "data": {
            "text/plain": [
              "4.0"
            ]
          },
          "metadata": {},
          "execution_count": 40
        }
      ]
    },
    {
      "cell_type": "code",
      "execution_count": null,
      "metadata": {
        "id": "PjBrz1eYEjqV",
        "outputId": "5745d5fc-48e8-4bd3-c79d-4ea504da887c",
        "colab": {
          "base_uri": "https://localhost:8080/"
        }
      },
      "outputs": [
        {
          "output_type": "execute_result",
          "data": {
            "text/plain": [
              "array(2.50245042)"
            ]
          },
          "metadata": {},
          "execution_count": 55
        }
      ],
      "source": [
        "import numpy as np\n",
        "\n",
        "w = np.array([0.46068003, -0.25749064])\n",
        "x = np.array([2, -1])\n",
        "b = 0.32359972\n",
        "\n",
        "result = 1 - -1.0 * (w.dot(x) + b)\n",
        "np.where(result > 0, result, 0)"
      ]
    },
    {
      "cell_type": "markdown",
      "metadata": {
        "id": "xyGbZ3OQEjqW"
      },
      "source": [
        "Now if we input the result\n",
        "\n",
        "$$\n",
        "\\text{Hinge loss} = \\max(0, 2.5024504199999997)\\\\\n",
        "\\text{Hinge loss} = 2.5024504199999997\n",
        "$$\n",
        "\n",
        "So as you can see if any of the vector is misclassified for the current iteration of the hyperplane, the hinge loss will be greater than 1. It means that there is a huge penalty that we want to inform the SVM model that saying \"Hi, you might want to look at this vector because this vector is completely misclassified\"."
      ]
    },
    {
      "cell_type": "markdown",
      "metadata": {
        "id": "0EW7N1kHEjqW"
      },
      "source": [
        "# C parameter\n",
        "\n",
        "$$\n",
        "\\text{Loss function} = \\frac{1}{n} \\sum_{i=1}^{n} \\max(0, 1 - y(\\mathbf{w} \\cdot \\mathbf{x} + b)) + C \\times \\|\\mathbf{w}\\|^2\n",
        "$$\n",
        "\n",
        "Above is the formula for the loss function, compiled between the hinge loss and the loss function for the margin width. Basically if we want to allow as much as misclassification as possible, we can set the $C$ to 0, which means the model won't care about the margin width at all, while if we make it as big as possible, the hinge loss will be really small that it won't have any effect on the loss function, which means the model will care about the margin width as much as possible, granting the similar result as hard margin SVM (which is why we can still get the result on hard margin SVM using scikit learn, because it's still basically soft margin SVM with a really high $C$ value).\n",
        "\n",
        "$C$ value commonly called as the regularization parameter or slack variable, and it's a hyperparameter that we can tune to get the best result for our SVM model."
      ]
    },
    {
      "cell_type": "markdown",
      "source": [
        "semnakin kecil C semakin membiarkan misclassify --> kurang bagus\n",
        "semakin besar C membiarkan soft margin menjadi hard margin --> nggak bagus"
      ],
      "metadata": {
        "id": "Rr_WQVNlYxyL"
      }
    },
    {
      "cell_type": "code",
      "source": [
        "mean_squared_hinge = 1.5\n",
        "C = 0\n",
        "w_distance = 4\n",
        "\n",
        "1.5 + (0*4)"
      ],
      "metadata": {
        "colab": {
          "base_uri": "https://localhost:8080/"
        },
        "id": "uIirbNbWYAWC",
        "outputId": "ee3d81e0-a21d-4e4a-d3bb-3aeddd1384dd"
      },
      "execution_count": null,
      "outputs": [
        {
          "output_type": "execute_result",
          "data": {
            "text/plain": [
              "1.5"
            ]
          },
          "metadata": {},
          "execution_count": 56
        }
      ]
    },
    {
      "cell_type": "markdown",
      "metadata": {
        "id": "1dovdAFEEjqW"
      },
      "source": [
        "# Linearly Separable Data\n",
        "\n",
        "If we get back to this plot:\n",
        "\n",
        "![](https://storage.googleapis.com/rg-ai-bootcamp/machine-learning/HyperplaneLineWithPointsScene2_ManimCE_v0.18.0-min.png)\n",
        "\n",
        "This plot is based on a dataset that is linearly separable, which means we can draw a simple hyperplane (for this case a line) to separate the data into two classes. But what if the data is not linearly separable? What if we have a dataset like this:\n",
        "\n",
        "![](https://storage.googleapis.com/rg-ai-bootcamp/machine-learning/LinearlyInseparable2D_ManimCE_v0.18.0-min.png)"
      ]
    },
    {
      "cell_type": "markdown",
      "metadata": {
        "id": "ApECCnj1EjqW"
      },
      "source": [
        "As you can see from above data we can't draw a hyperplane to separate the data into two classes. Let's reiterate about hyperplane is that it's a plane that has one less dimension than the original data. So for above data, the hyperplane is a line, and we can't just draw a line to separate the data into two classes."
      ]
    },
    {
      "cell_type": "markdown",
      "metadata": {
        "id": "Hg9rlGXKEjqW"
      },
      "source": [
        "# Explicitly adding new dimension\n",
        "\n",
        "Let's try to convert above data into a matrix:\n",
        "\n",
        "$$\n",
        "\\begin{bmatrix}\n",
        "    0 & 1 & -1 & -1 & 0 & 1 & 0 & -1 & -1 & -2 & -2 & 1 & 2 & 2 & 1 & 0 & 1 \\\\\n",
        "    0 & 0 & 0 & -1 & -1 & -1 & -2 & -2 & 1 & -1 & 0 & -2 & -1 & 0 & 1 & 1 & 1 \\\\\n",
        "\\end{bmatrix}\n",
        "$$\n",
        "\n",
        "We can create a new dimension by adding a new row to the matrix, let's try with below formula:\n",
        "\n",
        "$$\n",
        "z(x, y) = (-0.01716201 \\times x) + (1.41217877 \\times y) + (0.81613408 \\times x^2) - (0.01930726 \\times x \\times y) + (1.42907263 \\times y^2) - 3.4407150837988825\n",
        "$$\n",
        "\n",
        "This formula will generate `z` value for each vector in the matrix by using the `x` and `y` value of the vector."
      ]
    },
    {
      "cell_type": "markdown",
      "metadata": {
        "id": "FRJklGBEEjqX"
      },
      "source": [
        "![](https://storage.googleapis.com/rg-ai-bootcamp/machine-learning/DataPlot3D_ManimCE_v0.18.0-min.gif)"
      ]
    },
    {
      "cell_type": "markdown",
      "metadata": {
        "id": "rJc09V_SEjqX"
      },
      "source": [
        "So we can see below how, by transforming existing data into a new dimension, we can draw a hyperplane to separate the data into two classes where above example we now have 3 dimensional data, and the hyperplane is a 2D plane.\n",
        "\n",
        "Note: For above example, we used polynomial regression to get above formula where we target all the red dots to be on 0 axis while blue dots to be on -3 axis"
      ]
    },
    {
      "cell_type": "markdown",
      "metadata": {
        "id": "CjjoQYhBEjqX"
      },
      "source": [
        "# Implicitly adding new dimension - Kernel Trick\n",
        "\n",
        "As you can see above, we can transform a data to higher dimension and it can provide a new \"perspective\" on that data. What if three dimensions is not enough? What if we need more dimensions? What if we need 100 dimensions? 1000 dimensions? 10000 dimensions? It's not practical to do that, right?\n",
        "\n",
        "## Understanding the optimization method on SVM\n",
        "\n",
        "One of the most used optimization method on SVM that can help on how to find the most optimal hyperplane is called dual problem, which can be seen below:\n",
        "\n",
        "$$\n",
        "\\frac{1}{2} \\sum_{i=1}^{N} \\sum_{j=1}^{N} \\alpha_i \\alpha_j y_i y_j K(\\mathbf{x}_i, \\mathbf{x}_j) - \\sum_{i=1}^{N} \\alpha_i\n",
        "$$\n",
        "\n",
        "In this formula:\n",
        "\n",
        "- $N$ is the number of training samples.\n",
        "- $\\alpha_i$ are the Lagrange multipliers (dual variables) associated with each training sample $ \\mathbf{x}_i $.\n",
        "- $y_i$ is the class label of training sample $ \\mathbf{x}_i $ (-1 or 1).\n",
        "- $K(\\mathbf{x}_i, \\mathbf{x}_j)$ is the kernel function that computes the dot product between the feature vectors $ \\mathbf{x}_i $ and $ \\mathbf{x}_j $ in the transformed feature space.\n",
        "\n",
        "Okay, so maybe we've got to go through lots of math to understand what's going on (we need to delve in on constrained optimization which out of scope of our learning), but for now let's focus on the $K(\\mathbf{x}_i, \\mathbf{x}_j)$ part. Why? Because $\\alpha_i$ and $C$ are data that is part of the model output after training, but $K(\\mathbf{x}_i, \\mathbf{x}_j)$ is the kernel function that we are interested because this value is derived from the input data, and as you can see, the kernel function is outputting the dot product between two vectors in a higher dimension.\n",
        "\n",
        "Above optimization method is _only_ using the dot product between all pairs of input data to find the most optimal hyperplane. So if we can find a way to calculate the dot product between two vectors in a higher dimension without actually transforming the data into that dimension we can save lots of computation power and make our model more efficient and faster to train. And that's what above kernel function means: A \"trick\" to fasten the computation by implicitly adding new dimension, mimicking as if we're calculating the dot product in a higher dimension without actually transforming the data into that dimension.\n",
        "\n",
        "## Why can we only use the dot product to find the most optimal hyperplane?\n",
        "\n",
        "Unfortunately, the concept of \"why\" is beyond the scope of our learning, because there are lots of foundational math, especially in the field of quadratic programming, that we need to learn first before we can understand why we only need the dot product.\n"
      ]
    },
    {
      "cell_type": "code",
      "source": [
        "import pandas as pd\n",
        "\n",
        "data = pd.read_csv(r'/content/breast-cancer.csv')"
      ],
      "metadata": {
        "id": "MKSduVvrZZ5G"
      },
      "execution_count": null,
      "outputs": []
    },
    {
      "cell_type": "code",
      "source": [
        "data.shape"
      ],
      "metadata": {
        "colab": {
          "base_uri": "https://localhost:8080/"
        },
        "id": "LFW0rG5NZ3Vg",
        "outputId": "53cc494c-1b35-4d76-9b29-a66add29ea8c"
      },
      "execution_count": null,
      "outputs": [
        {
          "output_type": "execute_result",
          "data": {
            "text/plain": [
              "(569, 32)"
            ]
          },
          "metadata": {},
          "execution_count": 60
        }
      ]
    },
    {
      "cell_type": "code",
      "source": [
        "data.head()"
      ],
      "metadata": {
        "colab": {
          "base_uri": "https://localhost:8080/",
          "height": 273
        },
        "id": "RrMX8m5kZZxp",
        "outputId": "615851fe-596f-4fe2-c1b6-6a5287b4be44"
      },
      "execution_count": null,
      "outputs": [
        {
          "output_type": "execute_result",
          "data": {
            "text/plain": [
              "         id  diagnosis  radius_mean  texture_mean  perimeter_mean  area_mean  \\\n",
              "0    842302          1        17.99         10.38          122.80     1001.0   \n",
              "1    842517          1        20.57         17.77          132.90     1326.0   \n",
              "2  84300903          1        19.69         21.25          130.00     1203.0   \n",
              "3  84348301          1        11.42         20.38           77.58      386.1   \n",
              "4  84358402          1        20.29         14.34          135.10     1297.0   \n",
              "\n",
              "   smoothness_mean  compactness_mean  concavity_mean  concave points_mean  \\\n",
              "0          0.11840           0.27760          0.3001              0.14710   \n",
              "1          0.08474           0.07864          0.0869              0.07017   \n",
              "2          0.10960           0.15990          0.1974              0.12790   \n",
              "3          0.14250           0.28390          0.2414              0.10520   \n",
              "4          0.10030           0.13280          0.1980              0.10430   \n",
              "\n",
              "   ...  radius_worst  texture_worst  perimeter_worst  area_worst  \\\n",
              "0  ...         25.38          17.33           184.60      2019.0   \n",
              "1  ...         24.99          23.41           158.80      1956.0   \n",
              "2  ...         23.57          25.53           152.50      1709.0   \n",
              "3  ...         14.91          26.50            98.87       567.7   \n",
              "4  ...         22.54          16.67           152.20      1575.0   \n",
              "\n",
              "   smoothness_worst  compactness_worst  concavity_worst  concave points_worst  \\\n",
              "0            0.1622             0.6656           0.7119                0.2654   \n",
              "1            0.1238             0.1866           0.2416                0.1860   \n",
              "2            0.1444             0.4245           0.4504                0.2430   \n",
              "3            0.2098             0.8663           0.6869                0.2575   \n",
              "4            0.1374             0.2050           0.4000                0.1625   \n",
              "\n",
              "   symmetry_worst  fractal_dimension_worst  \n",
              "0          0.4601                  0.11890  \n",
              "1          0.2750                  0.08902  \n",
              "2          0.3613                  0.08758  \n",
              "3          0.6638                  0.17300  \n",
              "4          0.2364                  0.07678  \n",
              "\n",
              "[5 rows x 32 columns]"
            ],
            "text/html": [
              "\n",
              "  <div id=\"df-1b076707-5a61-42e2-9545-2732ee5d1bc4\" class=\"colab-df-container\">\n",
              "    <div>\n",
              "<style scoped>\n",
              "    .dataframe tbody tr th:only-of-type {\n",
              "        vertical-align: middle;\n",
              "    }\n",
              "\n",
              "    .dataframe tbody tr th {\n",
              "        vertical-align: top;\n",
              "    }\n",
              "\n",
              "    .dataframe thead th {\n",
              "        text-align: right;\n",
              "    }\n",
              "</style>\n",
              "<table border=\"1\" class=\"dataframe\">\n",
              "  <thead>\n",
              "    <tr style=\"text-align: right;\">\n",
              "      <th></th>\n",
              "      <th>id</th>\n",
              "      <th>diagnosis</th>\n",
              "      <th>radius_mean</th>\n",
              "      <th>texture_mean</th>\n",
              "      <th>perimeter_mean</th>\n",
              "      <th>area_mean</th>\n",
              "      <th>smoothness_mean</th>\n",
              "      <th>compactness_mean</th>\n",
              "      <th>concavity_mean</th>\n",
              "      <th>concave points_mean</th>\n",
              "      <th>...</th>\n",
              "      <th>radius_worst</th>\n",
              "      <th>texture_worst</th>\n",
              "      <th>perimeter_worst</th>\n",
              "      <th>area_worst</th>\n",
              "      <th>smoothness_worst</th>\n",
              "      <th>compactness_worst</th>\n",
              "      <th>concavity_worst</th>\n",
              "      <th>concave points_worst</th>\n",
              "      <th>symmetry_worst</th>\n",
              "      <th>fractal_dimension_worst</th>\n",
              "    </tr>\n",
              "  </thead>\n",
              "  <tbody>\n",
              "    <tr>\n",
              "      <th>0</th>\n",
              "      <td>842302</td>\n",
              "      <td>1</td>\n",
              "      <td>17.99</td>\n",
              "      <td>10.38</td>\n",
              "      <td>122.80</td>\n",
              "      <td>1001.0</td>\n",
              "      <td>0.11840</td>\n",
              "      <td>0.27760</td>\n",
              "      <td>0.3001</td>\n",
              "      <td>0.14710</td>\n",
              "      <td>...</td>\n",
              "      <td>25.38</td>\n",
              "      <td>17.33</td>\n",
              "      <td>184.60</td>\n",
              "      <td>2019.0</td>\n",
              "      <td>0.1622</td>\n",
              "      <td>0.6656</td>\n",
              "      <td>0.7119</td>\n",
              "      <td>0.2654</td>\n",
              "      <td>0.4601</td>\n",
              "      <td>0.11890</td>\n",
              "    </tr>\n",
              "    <tr>\n",
              "      <th>1</th>\n",
              "      <td>842517</td>\n",
              "      <td>1</td>\n",
              "      <td>20.57</td>\n",
              "      <td>17.77</td>\n",
              "      <td>132.90</td>\n",
              "      <td>1326.0</td>\n",
              "      <td>0.08474</td>\n",
              "      <td>0.07864</td>\n",
              "      <td>0.0869</td>\n",
              "      <td>0.07017</td>\n",
              "      <td>...</td>\n",
              "      <td>24.99</td>\n",
              "      <td>23.41</td>\n",
              "      <td>158.80</td>\n",
              "      <td>1956.0</td>\n",
              "      <td>0.1238</td>\n",
              "      <td>0.1866</td>\n",
              "      <td>0.2416</td>\n",
              "      <td>0.1860</td>\n",
              "      <td>0.2750</td>\n",
              "      <td>0.08902</td>\n",
              "    </tr>\n",
              "    <tr>\n",
              "      <th>2</th>\n",
              "      <td>84300903</td>\n",
              "      <td>1</td>\n",
              "      <td>19.69</td>\n",
              "      <td>21.25</td>\n",
              "      <td>130.00</td>\n",
              "      <td>1203.0</td>\n",
              "      <td>0.10960</td>\n",
              "      <td>0.15990</td>\n",
              "      <td>0.1974</td>\n",
              "      <td>0.12790</td>\n",
              "      <td>...</td>\n",
              "      <td>23.57</td>\n",
              "      <td>25.53</td>\n",
              "      <td>152.50</td>\n",
              "      <td>1709.0</td>\n",
              "      <td>0.1444</td>\n",
              "      <td>0.4245</td>\n",
              "      <td>0.4504</td>\n",
              "      <td>0.2430</td>\n",
              "      <td>0.3613</td>\n",
              "      <td>0.08758</td>\n",
              "    </tr>\n",
              "    <tr>\n",
              "      <th>3</th>\n",
              "      <td>84348301</td>\n",
              "      <td>1</td>\n",
              "      <td>11.42</td>\n",
              "      <td>20.38</td>\n",
              "      <td>77.58</td>\n",
              "      <td>386.1</td>\n",
              "      <td>0.14250</td>\n",
              "      <td>0.28390</td>\n",
              "      <td>0.2414</td>\n",
              "      <td>0.10520</td>\n",
              "      <td>...</td>\n",
              "      <td>14.91</td>\n",
              "      <td>26.50</td>\n",
              "      <td>98.87</td>\n",
              "      <td>567.7</td>\n",
              "      <td>0.2098</td>\n",
              "      <td>0.8663</td>\n",
              "      <td>0.6869</td>\n",
              "      <td>0.2575</td>\n",
              "      <td>0.6638</td>\n",
              "      <td>0.17300</td>\n",
              "    </tr>\n",
              "    <tr>\n",
              "      <th>4</th>\n",
              "      <td>84358402</td>\n",
              "      <td>1</td>\n",
              "      <td>20.29</td>\n",
              "      <td>14.34</td>\n",
              "      <td>135.10</td>\n",
              "      <td>1297.0</td>\n",
              "      <td>0.10030</td>\n",
              "      <td>0.13280</td>\n",
              "      <td>0.1980</td>\n",
              "      <td>0.10430</td>\n",
              "      <td>...</td>\n",
              "      <td>22.54</td>\n",
              "      <td>16.67</td>\n",
              "      <td>152.20</td>\n",
              "      <td>1575.0</td>\n",
              "      <td>0.1374</td>\n",
              "      <td>0.2050</td>\n",
              "      <td>0.4000</td>\n",
              "      <td>0.1625</td>\n",
              "      <td>0.2364</td>\n",
              "      <td>0.07678</td>\n",
              "    </tr>\n",
              "  </tbody>\n",
              "</table>\n",
              "<p>5 rows × 32 columns</p>\n",
              "</div>\n",
              "    <div class=\"colab-df-buttons\">\n",
              "\n",
              "  <div class=\"colab-df-container\">\n",
              "    <button class=\"colab-df-convert\" onclick=\"convertToInteractive('df-1b076707-5a61-42e2-9545-2732ee5d1bc4')\"\n",
              "            title=\"Convert this dataframe to an interactive table.\"\n",
              "            style=\"display:none;\">\n",
              "\n",
              "  <svg xmlns=\"http://www.w3.org/2000/svg\" height=\"24px\" viewBox=\"0 -960 960 960\">\n",
              "    <path d=\"M120-120v-720h720v720H120Zm60-500h600v-160H180v160Zm220 220h160v-160H400v160Zm0 220h160v-160H400v160ZM180-400h160v-160H180v160Zm440 0h160v-160H620v160ZM180-180h160v-160H180v160Zm440 0h160v-160H620v160Z\"/>\n",
              "  </svg>\n",
              "    </button>\n",
              "\n",
              "  <style>\n",
              "    .colab-df-container {\n",
              "      display:flex;\n",
              "      gap: 12px;\n",
              "    }\n",
              "\n",
              "    .colab-df-convert {\n",
              "      background-color: #E8F0FE;\n",
              "      border: none;\n",
              "      border-radius: 50%;\n",
              "      cursor: pointer;\n",
              "      display: none;\n",
              "      fill: #1967D2;\n",
              "      height: 32px;\n",
              "      padding: 0 0 0 0;\n",
              "      width: 32px;\n",
              "    }\n",
              "\n",
              "    .colab-df-convert:hover {\n",
              "      background-color: #E2EBFA;\n",
              "      box-shadow: 0px 1px 2px rgba(60, 64, 67, 0.3), 0px 1px 3px 1px rgba(60, 64, 67, 0.15);\n",
              "      fill: #174EA6;\n",
              "    }\n",
              "\n",
              "    .colab-df-buttons div {\n",
              "      margin-bottom: 4px;\n",
              "    }\n",
              "\n",
              "    [theme=dark] .colab-df-convert {\n",
              "      background-color: #3B4455;\n",
              "      fill: #D2E3FC;\n",
              "    }\n",
              "\n",
              "    [theme=dark] .colab-df-convert:hover {\n",
              "      background-color: #434B5C;\n",
              "      box-shadow: 0px 1px 3px 1px rgba(0, 0, 0, 0.15);\n",
              "      filter: drop-shadow(0px 1px 2px rgba(0, 0, 0, 0.3));\n",
              "      fill: #FFFFFF;\n",
              "    }\n",
              "  </style>\n",
              "\n",
              "    <script>\n",
              "      const buttonEl =\n",
              "        document.querySelector('#df-1b076707-5a61-42e2-9545-2732ee5d1bc4 button.colab-df-convert');\n",
              "      buttonEl.style.display =\n",
              "        google.colab.kernel.accessAllowed ? 'block' : 'none';\n",
              "\n",
              "      async function convertToInteractive(key) {\n",
              "        const element = document.querySelector('#df-1b076707-5a61-42e2-9545-2732ee5d1bc4');\n",
              "        const dataTable =\n",
              "          await google.colab.kernel.invokeFunction('convertToInteractive',\n",
              "                                                    [key], {});\n",
              "        if (!dataTable) return;\n",
              "\n",
              "        const docLinkHtml = 'Like what you see? Visit the ' +\n",
              "          '<a target=\"_blank\" href=https://colab.research.google.com/notebooks/data_table.ipynb>data table notebook</a>'\n",
              "          + ' to learn more about interactive tables.';\n",
              "        element.innerHTML = '';\n",
              "        dataTable['output_type'] = 'display_data';\n",
              "        await google.colab.output.renderOutput(dataTable, element);\n",
              "        const docLink = document.createElement('div');\n",
              "        docLink.innerHTML = docLinkHtml;\n",
              "        element.appendChild(docLink);\n",
              "      }\n",
              "    </script>\n",
              "  </div>\n",
              "\n",
              "\n",
              "<div id=\"df-1abfc35e-96a0-4f3c-bff5-ae408d1da907\">\n",
              "  <button class=\"colab-df-quickchart\" onclick=\"quickchart('df-1abfc35e-96a0-4f3c-bff5-ae408d1da907')\"\n",
              "            title=\"Suggest charts\"\n",
              "            style=\"display:none;\">\n",
              "\n",
              "<svg xmlns=\"http://www.w3.org/2000/svg\" height=\"24px\"viewBox=\"0 0 24 24\"\n",
              "     width=\"24px\">\n",
              "    <g>\n",
              "        <path d=\"M19 3H5c-1.1 0-2 .9-2 2v14c0 1.1.9 2 2 2h14c1.1 0 2-.9 2-2V5c0-1.1-.9-2-2-2zM9 17H7v-7h2v7zm4 0h-2V7h2v10zm4 0h-2v-4h2v4z\"/>\n",
              "    </g>\n",
              "</svg>\n",
              "  </button>\n",
              "\n",
              "<style>\n",
              "  .colab-df-quickchart {\n",
              "      --bg-color: #E8F0FE;\n",
              "      --fill-color: #1967D2;\n",
              "      --hover-bg-color: #E2EBFA;\n",
              "      --hover-fill-color: #174EA6;\n",
              "      --disabled-fill-color: #AAA;\n",
              "      --disabled-bg-color: #DDD;\n",
              "  }\n",
              "\n",
              "  [theme=dark] .colab-df-quickchart {\n",
              "      --bg-color: #3B4455;\n",
              "      --fill-color: #D2E3FC;\n",
              "      --hover-bg-color: #434B5C;\n",
              "      --hover-fill-color: #FFFFFF;\n",
              "      --disabled-bg-color: #3B4455;\n",
              "      --disabled-fill-color: #666;\n",
              "  }\n",
              "\n",
              "  .colab-df-quickchart {\n",
              "    background-color: var(--bg-color);\n",
              "    border: none;\n",
              "    border-radius: 50%;\n",
              "    cursor: pointer;\n",
              "    display: none;\n",
              "    fill: var(--fill-color);\n",
              "    height: 32px;\n",
              "    padding: 0;\n",
              "    width: 32px;\n",
              "  }\n",
              "\n",
              "  .colab-df-quickchart:hover {\n",
              "    background-color: var(--hover-bg-color);\n",
              "    box-shadow: 0 1px 2px rgba(60, 64, 67, 0.3), 0 1px 3px 1px rgba(60, 64, 67, 0.15);\n",
              "    fill: var(--button-hover-fill-color);\n",
              "  }\n",
              "\n",
              "  .colab-df-quickchart-complete:disabled,\n",
              "  .colab-df-quickchart-complete:disabled:hover {\n",
              "    background-color: var(--disabled-bg-color);\n",
              "    fill: var(--disabled-fill-color);\n",
              "    box-shadow: none;\n",
              "  }\n",
              "\n",
              "  .colab-df-spinner {\n",
              "    border: 2px solid var(--fill-color);\n",
              "    border-color: transparent;\n",
              "    border-bottom-color: var(--fill-color);\n",
              "    animation:\n",
              "      spin 1s steps(1) infinite;\n",
              "  }\n",
              "\n",
              "  @keyframes spin {\n",
              "    0% {\n",
              "      border-color: transparent;\n",
              "      border-bottom-color: var(--fill-color);\n",
              "      border-left-color: var(--fill-color);\n",
              "    }\n",
              "    20% {\n",
              "      border-color: transparent;\n",
              "      border-left-color: var(--fill-color);\n",
              "      border-top-color: var(--fill-color);\n",
              "    }\n",
              "    30% {\n",
              "      border-color: transparent;\n",
              "      border-left-color: var(--fill-color);\n",
              "      border-top-color: var(--fill-color);\n",
              "      border-right-color: var(--fill-color);\n",
              "    }\n",
              "    40% {\n",
              "      border-color: transparent;\n",
              "      border-right-color: var(--fill-color);\n",
              "      border-top-color: var(--fill-color);\n",
              "    }\n",
              "    60% {\n",
              "      border-color: transparent;\n",
              "      border-right-color: var(--fill-color);\n",
              "    }\n",
              "    80% {\n",
              "      border-color: transparent;\n",
              "      border-right-color: var(--fill-color);\n",
              "      border-bottom-color: var(--fill-color);\n",
              "    }\n",
              "    90% {\n",
              "      border-color: transparent;\n",
              "      border-bottom-color: var(--fill-color);\n",
              "    }\n",
              "  }\n",
              "</style>\n",
              "\n",
              "  <script>\n",
              "    async function quickchart(key) {\n",
              "      const quickchartButtonEl =\n",
              "        document.querySelector('#' + key + ' button');\n",
              "      quickchartButtonEl.disabled = true;  // To prevent multiple clicks.\n",
              "      quickchartButtonEl.classList.add('colab-df-spinner');\n",
              "      try {\n",
              "        const charts = await google.colab.kernel.invokeFunction(\n",
              "            'suggestCharts', [key], {});\n",
              "      } catch (error) {\n",
              "        console.error('Error during call to suggestCharts:', error);\n",
              "      }\n",
              "      quickchartButtonEl.classList.remove('colab-df-spinner');\n",
              "      quickchartButtonEl.classList.add('colab-df-quickchart-complete');\n",
              "    }\n",
              "    (() => {\n",
              "      let quickchartButtonEl =\n",
              "        document.querySelector('#df-1abfc35e-96a0-4f3c-bff5-ae408d1da907 button');\n",
              "      quickchartButtonEl.style.display =\n",
              "        google.colab.kernel.accessAllowed ? 'block' : 'none';\n",
              "    })();\n",
              "  </script>\n",
              "</div>\n",
              "    </div>\n",
              "  </div>\n"
            ]
          },
          "metadata": {},
          "execution_count": 65
        }
      ]
    },
    {
      "cell_type": "code",
      "source": [
        "data['diagnosis'].value_counts()"
      ],
      "metadata": {
        "colab": {
          "base_uri": "https://localhost:8080/"
        },
        "id": "vxJ_ztuDZ0kN",
        "outputId": "560c3d55-0fd9-4562-e3e9-9146abb9a73f"
      },
      "execution_count": null,
      "outputs": [
        {
          "output_type": "execute_result",
          "data": {
            "text/plain": [
              "B    357\n",
              "M    212\n",
              "Name: diagnosis, dtype: int64"
            ]
          },
          "metadata": {},
          "execution_count": 61
        }
      ]
    },
    {
      "cell_type": "code",
      "source": [
        "data['diagnosis'].value_counts() / data.shape[0] * 100"
      ],
      "metadata": {
        "colab": {
          "base_uri": "https://localhost:8080/"
        },
        "id": "nkzGZF9fao9v",
        "outputId": "33592343-1eb2-4fe0-fc95-b924e1835216"
      },
      "execution_count": null,
      "outputs": [
        {
          "output_type": "execute_result",
          "data": {
            "text/plain": [
              "0    62.741652\n",
              "1    37.258348\n",
              "Name: diagnosis, dtype: float64"
            ]
          },
          "metadata": {},
          "execution_count": 72
        }
      ]
    },
    {
      "cell_type": "code",
      "source": [
        "data['diagnosis'] = data['diagnosis'].replace({\n",
        "    'B' : 0,\n",
        "    'M' : 1\n",
        "})"
      ],
      "metadata": {
        "id": "OO40VWvhZ77x"
      },
      "execution_count": null,
      "outputs": []
    },
    {
      "cell_type": "code",
      "source": [
        "from sklearn.model_selection import train_test_split\n",
        "from sklearn.svm import SVC"
      ],
      "metadata": {
        "id": "hZan79TEaI7V"
      },
      "execution_count": null,
      "outputs": []
    },
    {
      "cell_type": "code",
      "source": [
        "X = data.drop(columns=['diagnosis', 'id'])\n",
        "y = data['diagnosis']"
      ],
      "metadata": {
        "id": "4MV--g0YaBis"
      },
      "execution_count": null,
      "outputs": []
    },
    {
      "cell_type": "markdown",
      "source": [
        "data train + valid --> training _ tuning\n",
        "data test --> etsting"
      ],
      "metadata": {
        "id": "4tsudXC9aZ9N"
      }
    },
    {
      "cell_type": "code",
      "source": [
        "x_train, x_test, y_train, y_test = train_test_split(X, y, test_size=0.2, random_state=2024, stratify=y)"
      ],
      "metadata": {
        "id": "Nw0r0NR8aTiS"
      },
      "execution_count": null,
      "outputs": []
    },
    {
      "cell_type": "code",
      "source": [
        "x_train.head()"
      ],
      "metadata": {
        "colab": {
          "base_uri": "https://localhost:8080/",
          "height": 273
        },
        "id": "Re_DYHGiakXw",
        "outputId": "5dc65046-b3f2-4b67-d293-4c79673ef0a3"
      },
      "execution_count": null,
      "outputs": [
        {
          "output_type": "execute_result",
          "data": {
            "text/plain": [
              "     radius_mean  texture_mean  perimeter_mean  area_mean  smoothness_mean  \\\n",
              "463        11.60         18.36           73.88      412.7          0.08508   \n",
              "271        11.29         13.04           72.23      388.0          0.09834   \n",
              "560        14.05         27.15           91.38      600.4          0.09929   \n",
              "502        12.54         16.32           81.25      476.3          0.11580   \n",
              "2          19.69         21.25          130.00     1203.0          0.10960   \n",
              "\n",
              "     compactness_mean  concavity_mean  concave points_mean  symmetry_mean  \\\n",
              "463           0.05855         0.03367              0.01777         0.1516   \n",
              "271           0.07608         0.03265              0.02755         0.1769   \n",
              "560           0.11260         0.04462              0.04304         0.1537   \n",
              "502           0.10850         0.05928              0.03279         0.1943   \n",
              "2             0.15990         0.19740              0.12790         0.2069   \n",
              "\n",
              "     fractal_dimension_mean  ...  radius_worst  texture_worst  \\\n",
              "463                 0.05859  ...         12.77          24.02   \n",
              "271                 0.06270  ...         12.32          16.18   \n",
              "560                 0.06171  ...         15.30          33.17   \n",
              "502                 0.06612  ...         13.57          21.40   \n",
              "2                   0.05999  ...         23.57          25.53   \n",
              "\n",
              "     perimeter_worst  area_worst  smoothness_worst  compactness_worst  \\\n",
              "463            82.68       495.1            0.1342             0.1808   \n",
              "271            78.27       457.5            0.1358             0.1507   \n",
              "560           100.20       706.7            0.1241             0.2264   \n",
              "502            86.67       552.0            0.1580             0.1751   \n",
              "2             152.50      1709.0            0.1444             0.4245   \n",
              "\n",
              "     concavity_worst  concave points_worst  symmetry_worst  \\\n",
              "463           0.1860               0.08288          0.3210   \n",
              "271           0.1275               0.08750          0.2733   \n",
              "560           0.1326               0.10480          0.2250   \n",
              "502           0.1889               0.08411          0.3155   \n",
              "2             0.4504               0.24300          0.3613   \n",
              "\n",
              "     fractal_dimension_worst  \n",
              "463                  0.07863  \n",
              "271                  0.08022  \n",
              "560                  0.08321  \n",
              "502                  0.07538  \n",
              "2                    0.08758  \n",
              "\n",
              "[5 rows x 30 columns]"
            ],
            "text/html": [
              "\n",
              "  <div id=\"df-d101ee1e-31ae-4824-905e-167b0b1ca959\" class=\"colab-df-container\">\n",
              "    <div>\n",
              "<style scoped>\n",
              "    .dataframe tbody tr th:only-of-type {\n",
              "        vertical-align: middle;\n",
              "    }\n",
              "\n",
              "    .dataframe tbody tr th {\n",
              "        vertical-align: top;\n",
              "    }\n",
              "\n",
              "    .dataframe thead th {\n",
              "        text-align: right;\n",
              "    }\n",
              "</style>\n",
              "<table border=\"1\" class=\"dataframe\">\n",
              "  <thead>\n",
              "    <tr style=\"text-align: right;\">\n",
              "      <th></th>\n",
              "      <th>radius_mean</th>\n",
              "      <th>texture_mean</th>\n",
              "      <th>perimeter_mean</th>\n",
              "      <th>area_mean</th>\n",
              "      <th>smoothness_mean</th>\n",
              "      <th>compactness_mean</th>\n",
              "      <th>concavity_mean</th>\n",
              "      <th>concave points_mean</th>\n",
              "      <th>symmetry_mean</th>\n",
              "      <th>fractal_dimension_mean</th>\n",
              "      <th>...</th>\n",
              "      <th>radius_worst</th>\n",
              "      <th>texture_worst</th>\n",
              "      <th>perimeter_worst</th>\n",
              "      <th>area_worst</th>\n",
              "      <th>smoothness_worst</th>\n",
              "      <th>compactness_worst</th>\n",
              "      <th>concavity_worst</th>\n",
              "      <th>concave points_worst</th>\n",
              "      <th>symmetry_worst</th>\n",
              "      <th>fractal_dimension_worst</th>\n",
              "    </tr>\n",
              "  </thead>\n",
              "  <tbody>\n",
              "    <tr>\n",
              "      <th>463</th>\n",
              "      <td>11.60</td>\n",
              "      <td>18.36</td>\n",
              "      <td>73.88</td>\n",
              "      <td>412.7</td>\n",
              "      <td>0.08508</td>\n",
              "      <td>0.05855</td>\n",
              "      <td>0.03367</td>\n",
              "      <td>0.01777</td>\n",
              "      <td>0.1516</td>\n",
              "      <td>0.05859</td>\n",
              "      <td>...</td>\n",
              "      <td>12.77</td>\n",
              "      <td>24.02</td>\n",
              "      <td>82.68</td>\n",
              "      <td>495.1</td>\n",
              "      <td>0.1342</td>\n",
              "      <td>0.1808</td>\n",
              "      <td>0.1860</td>\n",
              "      <td>0.08288</td>\n",
              "      <td>0.3210</td>\n",
              "      <td>0.07863</td>\n",
              "    </tr>\n",
              "    <tr>\n",
              "      <th>271</th>\n",
              "      <td>11.29</td>\n",
              "      <td>13.04</td>\n",
              "      <td>72.23</td>\n",
              "      <td>388.0</td>\n",
              "      <td>0.09834</td>\n",
              "      <td>0.07608</td>\n",
              "      <td>0.03265</td>\n",
              "      <td>0.02755</td>\n",
              "      <td>0.1769</td>\n",
              "      <td>0.06270</td>\n",
              "      <td>...</td>\n",
              "      <td>12.32</td>\n",
              "      <td>16.18</td>\n",
              "      <td>78.27</td>\n",
              "      <td>457.5</td>\n",
              "      <td>0.1358</td>\n",
              "      <td>0.1507</td>\n",
              "      <td>0.1275</td>\n",
              "      <td>0.08750</td>\n",
              "      <td>0.2733</td>\n",
              "      <td>0.08022</td>\n",
              "    </tr>\n",
              "    <tr>\n",
              "      <th>560</th>\n",
              "      <td>14.05</td>\n",
              "      <td>27.15</td>\n",
              "      <td>91.38</td>\n",
              "      <td>600.4</td>\n",
              "      <td>0.09929</td>\n",
              "      <td>0.11260</td>\n",
              "      <td>0.04462</td>\n",
              "      <td>0.04304</td>\n",
              "      <td>0.1537</td>\n",
              "      <td>0.06171</td>\n",
              "      <td>...</td>\n",
              "      <td>15.30</td>\n",
              "      <td>33.17</td>\n",
              "      <td>100.20</td>\n",
              "      <td>706.7</td>\n",
              "      <td>0.1241</td>\n",
              "      <td>0.2264</td>\n",
              "      <td>0.1326</td>\n",
              "      <td>0.10480</td>\n",
              "      <td>0.2250</td>\n",
              "      <td>0.08321</td>\n",
              "    </tr>\n",
              "    <tr>\n",
              "      <th>502</th>\n",
              "      <td>12.54</td>\n",
              "      <td>16.32</td>\n",
              "      <td>81.25</td>\n",
              "      <td>476.3</td>\n",
              "      <td>0.11580</td>\n",
              "      <td>0.10850</td>\n",
              "      <td>0.05928</td>\n",
              "      <td>0.03279</td>\n",
              "      <td>0.1943</td>\n",
              "      <td>0.06612</td>\n",
              "      <td>...</td>\n",
              "      <td>13.57</td>\n",
              "      <td>21.40</td>\n",
              "      <td>86.67</td>\n",
              "      <td>552.0</td>\n",
              "      <td>0.1580</td>\n",
              "      <td>0.1751</td>\n",
              "      <td>0.1889</td>\n",
              "      <td>0.08411</td>\n",
              "      <td>0.3155</td>\n",
              "      <td>0.07538</td>\n",
              "    </tr>\n",
              "    <tr>\n",
              "      <th>2</th>\n",
              "      <td>19.69</td>\n",
              "      <td>21.25</td>\n",
              "      <td>130.00</td>\n",
              "      <td>1203.0</td>\n",
              "      <td>0.10960</td>\n",
              "      <td>0.15990</td>\n",
              "      <td>0.19740</td>\n",
              "      <td>0.12790</td>\n",
              "      <td>0.2069</td>\n",
              "      <td>0.05999</td>\n",
              "      <td>...</td>\n",
              "      <td>23.57</td>\n",
              "      <td>25.53</td>\n",
              "      <td>152.50</td>\n",
              "      <td>1709.0</td>\n",
              "      <td>0.1444</td>\n",
              "      <td>0.4245</td>\n",
              "      <td>0.4504</td>\n",
              "      <td>0.24300</td>\n",
              "      <td>0.3613</td>\n",
              "      <td>0.08758</td>\n",
              "    </tr>\n",
              "  </tbody>\n",
              "</table>\n",
              "<p>5 rows × 30 columns</p>\n",
              "</div>\n",
              "    <div class=\"colab-df-buttons\">\n",
              "\n",
              "  <div class=\"colab-df-container\">\n",
              "    <button class=\"colab-df-convert\" onclick=\"convertToInteractive('df-d101ee1e-31ae-4824-905e-167b0b1ca959')\"\n",
              "            title=\"Convert this dataframe to an interactive table.\"\n",
              "            style=\"display:none;\">\n",
              "\n",
              "  <svg xmlns=\"http://www.w3.org/2000/svg\" height=\"24px\" viewBox=\"0 -960 960 960\">\n",
              "    <path d=\"M120-120v-720h720v720H120Zm60-500h600v-160H180v160Zm220 220h160v-160H400v160Zm0 220h160v-160H400v160ZM180-400h160v-160H180v160Zm440 0h160v-160H620v160ZM180-180h160v-160H180v160Zm440 0h160v-160H620v160Z\"/>\n",
              "  </svg>\n",
              "    </button>\n",
              "\n",
              "  <style>\n",
              "    .colab-df-container {\n",
              "      display:flex;\n",
              "      gap: 12px;\n",
              "    }\n",
              "\n",
              "    .colab-df-convert {\n",
              "      background-color: #E8F0FE;\n",
              "      border: none;\n",
              "      border-radius: 50%;\n",
              "      cursor: pointer;\n",
              "      display: none;\n",
              "      fill: #1967D2;\n",
              "      height: 32px;\n",
              "      padding: 0 0 0 0;\n",
              "      width: 32px;\n",
              "    }\n",
              "\n",
              "    .colab-df-convert:hover {\n",
              "      background-color: #E2EBFA;\n",
              "      box-shadow: 0px 1px 2px rgba(60, 64, 67, 0.3), 0px 1px 3px 1px rgba(60, 64, 67, 0.15);\n",
              "      fill: #174EA6;\n",
              "    }\n",
              "\n",
              "    .colab-df-buttons div {\n",
              "      margin-bottom: 4px;\n",
              "    }\n",
              "\n",
              "    [theme=dark] .colab-df-convert {\n",
              "      background-color: #3B4455;\n",
              "      fill: #D2E3FC;\n",
              "    }\n",
              "\n",
              "    [theme=dark] .colab-df-convert:hover {\n",
              "      background-color: #434B5C;\n",
              "      box-shadow: 0px 1px 3px 1px rgba(0, 0, 0, 0.15);\n",
              "      filter: drop-shadow(0px 1px 2px rgba(0, 0, 0, 0.3));\n",
              "      fill: #FFFFFF;\n",
              "    }\n",
              "  </style>\n",
              "\n",
              "    <script>\n",
              "      const buttonEl =\n",
              "        document.querySelector('#df-d101ee1e-31ae-4824-905e-167b0b1ca959 button.colab-df-convert');\n",
              "      buttonEl.style.display =\n",
              "        google.colab.kernel.accessAllowed ? 'block' : 'none';\n",
              "\n",
              "      async function convertToInteractive(key) {\n",
              "        const element = document.querySelector('#df-d101ee1e-31ae-4824-905e-167b0b1ca959');\n",
              "        const dataTable =\n",
              "          await google.colab.kernel.invokeFunction('convertToInteractive',\n",
              "                                                    [key], {});\n",
              "        if (!dataTable) return;\n",
              "\n",
              "        const docLinkHtml = 'Like what you see? Visit the ' +\n",
              "          '<a target=\"_blank\" href=https://colab.research.google.com/notebooks/data_table.ipynb>data table notebook</a>'\n",
              "          + ' to learn more about interactive tables.';\n",
              "        element.innerHTML = '';\n",
              "        dataTable['output_type'] = 'display_data';\n",
              "        await google.colab.output.renderOutput(dataTable, element);\n",
              "        const docLink = document.createElement('div');\n",
              "        docLink.innerHTML = docLinkHtml;\n",
              "        element.appendChild(docLink);\n",
              "      }\n",
              "    </script>\n",
              "  </div>\n",
              "\n",
              "\n",
              "<div id=\"df-3b90f792-1e26-40ef-9662-c70c3dc0cdf8\">\n",
              "  <button class=\"colab-df-quickchart\" onclick=\"quickchart('df-3b90f792-1e26-40ef-9662-c70c3dc0cdf8')\"\n",
              "            title=\"Suggest charts\"\n",
              "            style=\"display:none;\">\n",
              "\n",
              "<svg xmlns=\"http://www.w3.org/2000/svg\" height=\"24px\"viewBox=\"0 0 24 24\"\n",
              "     width=\"24px\">\n",
              "    <g>\n",
              "        <path d=\"M19 3H5c-1.1 0-2 .9-2 2v14c0 1.1.9 2 2 2h14c1.1 0 2-.9 2-2V5c0-1.1-.9-2-2-2zM9 17H7v-7h2v7zm4 0h-2V7h2v10zm4 0h-2v-4h2v4z\"/>\n",
              "    </g>\n",
              "</svg>\n",
              "  </button>\n",
              "\n",
              "<style>\n",
              "  .colab-df-quickchart {\n",
              "      --bg-color: #E8F0FE;\n",
              "      --fill-color: #1967D2;\n",
              "      --hover-bg-color: #E2EBFA;\n",
              "      --hover-fill-color: #174EA6;\n",
              "      --disabled-fill-color: #AAA;\n",
              "      --disabled-bg-color: #DDD;\n",
              "  }\n",
              "\n",
              "  [theme=dark] .colab-df-quickchart {\n",
              "      --bg-color: #3B4455;\n",
              "      --fill-color: #D2E3FC;\n",
              "      --hover-bg-color: #434B5C;\n",
              "      --hover-fill-color: #FFFFFF;\n",
              "      --disabled-bg-color: #3B4455;\n",
              "      --disabled-fill-color: #666;\n",
              "  }\n",
              "\n",
              "  .colab-df-quickchart {\n",
              "    background-color: var(--bg-color);\n",
              "    border: none;\n",
              "    border-radius: 50%;\n",
              "    cursor: pointer;\n",
              "    display: none;\n",
              "    fill: var(--fill-color);\n",
              "    height: 32px;\n",
              "    padding: 0;\n",
              "    width: 32px;\n",
              "  }\n",
              "\n",
              "  .colab-df-quickchart:hover {\n",
              "    background-color: var(--hover-bg-color);\n",
              "    box-shadow: 0 1px 2px rgba(60, 64, 67, 0.3), 0 1px 3px 1px rgba(60, 64, 67, 0.15);\n",
              "    fill: var(--button-hover-fill-color);\n",
              "  }\n",
              "\n",
              "  .colab-df-quickchart-complete:disabled,\n",
              "  .colab-df-quickchart-complete:disabled:hover {\n",
              "    background-color: var(--disabled-bg-color);\n",
              "    fill: var(--disabled-fill-color);\n",
              "    box-shadow: none;\n",
              "  }\n",
              "\n",
              "  .colab-df-spinner {\n",
              "    border: 2px solid var(--fill-color);\n",
              "    border-color: transparent;\n",
              "    border-bottom-color: var(--fill-color);\n",
              "    animation:\n",
              "      spin 1s steps(1) infinite;\n",
              "  }\n",
              "\n",
              "  @keyframes spin {\n",
              "    0% {\n",
              "      border-color: transparent;\n",
              "      border-bottom-color: var(--fill-color);\n",
              "      border-left-color: var(--fill-color);\n",
              "    }\n",
              "    20% {\n",
              "      border-color: transparent;\n",
              "      border-left-color: var(--fill-color);\n",
              "      border-top-color: var(--fill-color);\n",
              "    }\n",
              "    30% {\n",
              "      border-color: transparent;\n",
              "      border-left-color: var(--fill-color);\n",
              "      border-top-color: var(--fill-color);\n",
              "      border-right-color: var(--fill-color);\n",
              "    }\n",
              "    40% {\n",
              "      border-color: transparent;\n",
              "      border-right-color: var(--fill-color);\n",
              "      border-top-color: var(--fill-color);\n",
              "    }\n",
              "    60% {\n",
              "      border-color: transparent;\n",
              "      border-right-color: var(--fill-color);\n",
              "    }\n",
              "    80% {\n",
              "      border-color: transparent;\n",
              "      border-right-color: var(--fill-color);\n",
              "      border-bottom-color: var(--fill-color);\n",
              "    }\n",
              "    90% {\n",
              "      border-color: transparent;\n",
              "      border-bottom-color: var(--fill-color);\n",
              "    }\n",
              "  }\n",
              "</style>\n",
              "\n",
              "  <script>\n",
              "    async function quickchart(key) {\n",
              "      const quickchartButtonEl =\n",
              "        document.querySelector('#' + key + ' button');\n",
              "      quickchartButtonEl.disabled = true;  // To prevent multiple clicks.\n",
              "      quickchartButtonEl.classList.add('colab-df-spinner');\n",
              "      try {\n",
              "        const charts = await google.colab.kernel.invokeFunction(\n",
              "            'suggestCharts', [key], {});\n",
              "      } catch (error) {\n",
              "        console.error('Error during call to suggestCharts:', error);\n",
              "      }\n",
              "      quickchartButtonEl.classList.remove('colab-df-spinner');\n",
              "      quickchartButtonEl.classList.add('colab-df-quickchart-complete');\n",
              "    }\n",
              "    (() => {\n",
              "      let quickchartButtonEl =\n",
              "        document.querySelector('#df-3b90f792-1e26-40ef-9662-c70c3dc0cdf8 button');\n",
              "      quickchartButtonEl.style.display =\n",
              "        google.colab.kernel.accessAllowed ? 'block' : 'none';\n",
              "    })();\n",
              "  </script>\n",
              "</div>\n",
              "    </div>\n",
              "  </div>\n"
            ]
          },
          "metadata": {},
          "execution_count": 74
        }
      ]
    },
    {
      "cell_type": "code",
      "source": [
        "x_test.head()"
      ],
      "metadata": {
        "colab": {
          "base_uri": "https://localhost:8080/",
          "height": 273
        },
        "id": "JGDsTc-ZalrA",
        "outputId": "1c7a42fc-0259-401d-e37b-800e0f3507b2"
      },
      "execution_count": null,
      "outputs": [
        {
          "output_type": "execute_result",
          "data": {
            "text/plain": [
              "     radius_mean  texture_mean  perimeter_mean  area_mean  smoothness_mean  \\\n",
              "111        12.63         20.76           82.15      480.4          0.09933   \n",
              "161        19.19         15.94          126.30     1157.0          0.08694   \n",
              "76         13.53         10.94           87.91      559.2          0.12910   \n",
              "336        12.99         14.23           84.08      514.3          0.09462   \n",
              "188        11.81         17.39           75.27      428.9          0.10070   \n",
              "\n",
              "     compactness_mean  concavity_mean  concave points_mean  symmetry_mean  \\\n",
              "111           0.12090         0.10650              0.06021         0.1735   \n",
              "161           0.11850         0.11930              0.09667         0.1741   \n",
              "76            0.10470         0.06877              0.06556         0.2403   \n",
              "336           0.09965         0.03738              0.02098         0.1652   \n",
              "188           0.05562         0.02353              0.01553         0.1718   \n",
              "\n",
              "     fractal_dimension_mean  ...  radius_worst  texture_worst  \\\n",
              "111                 0.07070  ...         13.33          25.47   \n",
              "161                 0.05176  ...         22.03          17.81   \n",
              "76                  0.06641  ...         14.08          12.49   \n",
              "336                 0.07238  ...         13.72          16.91   \n",
              "188                 0.05780  ...         12.57          26.48   \n",
              "\n",
              "     perimeter_worst  area_worst  smoothness_worst  compactness_worst  \\\n",
              "111            89.00       527.4            0.1287             0.2250   \n",
              "161           146.60      1495.0            0.1124             0.2016   \n",
              "76             91.36       605.5            0.1451             0.1379   \n",
              "336            87.38       576.0            0.1142             0.1975   \n",
              "188            79.57       489.5            0.1356             0.1000   \n",
              "\n",
              "     concavity_worst  concave points_worst  symmetry_worst  \\\n",
              "111          0.22160               0.11050          0.2226   \n",
              "161          0.22640               0.17770          0.2443   \n",
              "76           0.08539               0.07407          0.2710   \n",
              "336          0.14500               0.05850          0.2432   \n",
              "188          0.08803               0.04306          0.3200   \n",
              "\n",
              "     fractal_dimension_worst  \n",
              "111                  0.08486  \n",
              "161                  0.06251  \n",
              "76                   0.07191  \n",
              "336                  0.10090  \n",
              "188                  0.06576  \n",
              "\n",
              "[5 rows x 30 columns]"
            ],
            "text/html": [
              "\n",
              "  <div id=\"df-86932e69-77d2-4850-84bc-1c7c641afcc2\" class=\"colab-df-container\">\n",
              "    <div>\n",
              "<style scoped>\n",
              "    .dataframe tbody tr th:only-of-type {\n",
              "        vertical-align: middle;\n",
              "    }\n",
              "\n",
              "    .dataframe tbody tr th {\n",
              "        vertical-align: top;\n",
              "    }\n",
              "\n",
              "    .dataframe thead th {\n",
              "        text-align: right;\n",
              "    }\n",
              "</style>\n",
              "<table border=\"1\" class=\"dataframe\">\n",
              "  <thead>\n",
              "    <tr style=\"text-align: right;\">\n",
              "      <th></th>\n",
              "      <th>radius_mean</th>\n",
              "      <th>texture_mean</th>\n",
              "      <th>perimeter_mean</th>\n",
              "      <th>area_mean</th>\n",
              "      <th>smoothness_mean</th>\n",
              "      <th>compactness_mean</th>\n",
              "      <th>concavity_mean</th>\n",
              "      <th>concave points_mean</th>\n",
              "      <th>symmetry_mean</th>\n",
              "      <th>fractal_dimension_mean</th>\n",
              "      <th>...</th>\n",
              "      <th>radius_worst</th>\n",
              "      <th>texture_worst</th>\n",
              "      <th>perimeter_worst</th>\n",
              "      <th>area_worst</th>\n",
              "      <th>smoothness_worst</th>\n",
              "      <th>compactness_worst</th>\n",
              "      <th>concavity_worst</th>\n",
              "      <th>concave points_worst</th>\n",
              "      <th>symmetry_worst</th>\n",
              "      <th>fractal_dimension_worst</th>\n",
              "    </tr>\n",
              "  </thead>\n",
              "  <tbody>\n",
              "    <tr>\n",
              "      <th>111</th>\n",
              "      <td>12.63</td>\n",
              "      <td>20.76</td>\n",
              "      <td>82.15</td>\n",
              "      <td>480.4</td>\n",
              "      <td>0.09933</td>\n",
              "      <td>0.12090</td>\n",
              "      <td>0.10650</td>\n",
              "      <td>0.06021</td>\n",
              "      <td>0.1735</td>\n",
              "      <td>0.07070</td>\n",
              "      <td>...</td>\n",
              "      <td>13.33</td>\n",
              "      <td>25.47</td>\n",
              "      <td>89.00</td>\n",
              "      <td>527.4</td>\n",
              "      <td>0.1287</td>\n",
              "      <td>0.2250</td>\n",
              "      <td>0.22160</td>\n",
              "      <td>0.11050</td>\n",
              "      <td>0.2226</td>\n",
              "      <td>0.08486</td>\n",
              "    </tr>\n",
              "    <tr>\n",
              "      <th>161</th>\n",
              "      <td>19.19</td>\n",
              "      <td>15.94</td>\n",
              "      <td>126.30</td>\n",
              "      <td>1157.0</td>\n",
              "      <td>0.08694</td>\n",
              "      <td>0.11850</td>\n",
              "      <td>0.11930</td>\n",
              "      <td>0.09667</td>\n",
              "      <td>0.1741</td>\n",
              "      <td>0.05176</td>\n",
              "      <td>...</td>\n",
              "      <td>22.03</td>\n",
              "      <td>17.81</td>\n",
              "      <td>146.60</td>\n",
              "      <td>1495.0</td>\n",
              "      <td>0.1124</td>\n",
              "      <td>0.2016</td>\n",
              "      <td>0.22640</td>\n",
              "      <td>0.17770</td>\n",
              "      <td>0.2443</td>\n",
              "      <td>0.06251</td>\n",
              "    </tr>\n",
              "    <tr>\n",
              "      <th>76</th>\n",
              "      <td>13.53</td>\n",
              "      <td>10.94</td>\n",
              "      <td>87.91</td>\n",
              "      <td>559.2</td>\n",
              "      <td>0.12910</td>\n",
              "      <td>0.10470</td>\n",
              "      <td>0.06877</td>\n",
              "      <td>0.06556</td>\n",
              "      <td>0.2403</td>\n",
              "      <td>0.06641</td>\n",
              "      <td>...</td>\n",
              "      <td>14.08</td>\n",
              "      <td>12.49</td>\n",
              "      <td>91.36</td>\n",
              "      <td>605.5</td>\n",
              "      <td>0.1451</td>\n",
              "      <td>0.1379</td>\n",
              "      <td>0.08539</td>\n",
              "      <td>0.07407</td>\n",
              "      <td>0.2710</td>\n",
              "      <td>0.07191</td>\n",
              "    </tr>\n",
              "    <tr>\n",
              "      <th>336</th>\n",
              "      <td>12.99</td>\n",
              "      <td>14.23</td>\n",
              "      <td>84.08</td>\n",
              "      <td>514.3</td>\n",
              "      <td>0.09462</td>\n",
              "      <td>0.09965</td>\n",
              "      <td>0.03738</td>\n",
              "      <td>0.02098</td>\n",
              "      <td>0.1652</td>\n",
              "      <td>0.07238</td>\n",
              "      <td>...</td>\n",
              "      <td>13.72</td>\n",
              "      <td>16.91</td>\n",
              "      <td>87.38</td>\n",
              "      <td>576.0</td>\n",
              "      <td>0.1142</td>\n",
              "      <td>0.1975</td>\n",
              "      <td>0.14500</td>\n",
              "      <td>0.05850</td>\n",
              "      <td>0.2432</td>\n",
              "      <td>0.10090</td>\n",
              "    </tr>\n",
              "    <tr>\n",
              "      <th>188</th>\n",
              "      <td>11.81</td>\n",
              "      <td>17.39</td>\n",
              "      <td>75.27</td>\n",
              "      <td>428.9</td>\n",
              "      <td>0.10070</td>\n",
              "      <td>0.05562</td>\n",
              "      <td>0.02353</td>\n",
              "      <td>0.01553</td>\n",
              "      <td>0.1718</td>\n",
              "      <td>0.05780</td>\n",
              "      <td>...</td>\n",
              "      <td>12.57</td>\n",
              "      <td>26.48</td>\n",
              "      <td>79.57</td>\n",
              "      <td>489.5</td>\n",
              "      <td>0.1356</td>\n",
              "      <td>0.1000</td>\n",
              "      <td>0.08803</td>\n",
              "      <td>0.04306</td>\n",
              "      <td>0.3200</td>\n",
              "      <td>0.06576</td>\n",
              "    </tr>\n",
              "  </tbody>\n",
              "</table>\n",
              "<p>5 rows × 30 columns</p>\n",
              "</div>\n",
              "    <div class=\"colab-df-buttons\">\n",
              "\n",
              "  <div class=\"colab-df-container\">\n",
              "    <button class=\"colab-df-convert\" onclick=\"convertToInteractive('df-86932e69-77d2-4850-84bc-1c7c641afcc2')\"\n",
              "            title=\"Convert this dataframe to an interactive table.\"\n",
              "            style=\"display:none;\">\n",
              "\n",
              "  <svg xmlns=\"http://www.w3.org/2000/svg\" height=\"24px\" viewBox=\"0 -960 960 960\">\n",
              "    <path d=\"M120-120v-720h720v720H120Zm60-500h600v-160H180v160Zm220 220h160v-160H400v160Zm0 220h160v-160H400v160ZM180-400h160v-160H180v160Zm440 0h160v-160H620v160ZM180-180h160v-160H180v160Zm440 0h160v-160H620v160Z\"/>\n",
              "  </svg>\n",
              "    </button>\n",
              "\n",
              "  <style>\n",
              "    .colab-df-container {\n",
              "      display:flex;\n",
              "      gap: 12px;\n",
              "    }\n",
              "\n",
              "    .colab-df-convert {\n",
              "      background-color: #E8F0FE;\n",
              "      border: none;\n",
              "      border-radius: 50%;\n",
              "      cursor: pointer;\n",
              "      display: none;\n",
              "      fill: #1967D2;\n",
              "      height: 32px;\n",
              "      padding: 0 0 0 0;\n",
              "      width: 32px;\n",
              "    }\n",
              "\n",
              "    .colab-df-convert:hover {\n",
              "      background-color: #E2EBFA;\n",
              "      box-shadow: 0px 1px 2px rgba(60, 64, 67, 0.3), 0px 1px 3px 1px rgba(60, 64, 67, 0.15);\n",
              "      fill: #174EA6;\n",
              "    }\n",
              "\n",
              "    .colab-df-buttons div {\n",
              "      margin-bottom: 4px;\n",
              "    }\n",
              "\n",
              "    [theme=dark] .colab-df-convert {\n",
              "      background-color: #3B4455;\n",
              "      fill: #D2E3FC;\n",
              "    }\n",
              "\n",
              "    [theme=dark] .colab-df-convert:hover {\n",
              "      background-color: #434B5C;\n",
              "      box-shadow: 0px 1px 3px 1px rgba(0, 0, 0, 0.15);\n",
              "      filter: drop-shadow(0px 1px 2px rgba(0, 0, 0, 0.3));\n",
              "      fill: #FFFFFF;\n",
              "    }\n",
              "  </style>\n",
              "\n",
              "    <script>\n",
              "      const buttonEl =\n",
              "        document.querySelector('#df-86932e69-77d2-4850-84bc-1c7c641afcc2 button.colab-df-convert');\n",
              "      buttonEl.style.display =\n",
              "        google.colab.kernel.accessAllowed ? 'block' : 'none';\n",
              "\n",
              "      async function convertToInteractive(key) {\n",
              "        const element = document.querySelector('#df-86932e69-77d2-4850-84bc-1c7c641afcc2');\n",
              "        const dataTable =\n",
              "          await google.colab.kernel.invokeFunction('convertToInteractive',\n",
              "                                                    [key], {});\n",
              "        if (!dataTable) return;\n",
              "\n",
              "        const docLinkHtml = 'Like what you see? Visit the ' +\n",
              "          '<a target=\"_blank\" href=https://colab.research.google.com/notebooks/data_table.ipynb>data table notebook</a>'\n",
              "          + ' to learn more about interactive tables.';\n",
              "        element.innerHTML = '';\n",
              "        dataTable['output_type'] = 'display_data';\n",
              "        await google.colab.output.renderOutput(dataTable, element);\n",
              "        const docLink = document.createElement('div');\n",
              "        docLink.innerHTML = docLinkHtml;\n",
              "        element.appendChild(docLink);\n",
              "      }\n",
              "    </script>\n",
              "  </div>\n",
              "\n",
              "\n",
              "<div id=\"df-ff92c2db-cf00-4a1e-b56b-79f1411cd39a\">\n",
              "  <button class=\"colab-df-quickchart\" onclick=\"quickchart('df-ff92c2db-cf00-4a1e-b56b-79f1411cd39a')\"\n",
              "            title=\"Suggest charts\"\n",
              "            style=\"display:none;\">\n",
              "\n",
              "<svg xmlns=\"http://www.w3.org/2000/svg\" height=\"24px\"viewBox=\"0 0 24 24\"\n",
              "     width=\"24px\">\n",
              "    <g>\n",
              "        <path d=\"M19 3H5c-1.1 0-2 .9-2 2v14c0 1.1.9 2 2 2h14c1.1 0 2-.9 2-2V5c0-1.1-.9-2-2-2zM9 17H7v-7h2v7zm4 0h-2V7h2v10zm4 0h-2v-4h2v4z\"/>\n",
              "    </g>\n",
              "</svg>\n",
              "  </button>\n",
              "\n",
              "<style>\n",
              "  .colab-df-quickchart {\n",
              "      --bg-color: #E8F0FE;\n",
              "      --fill-color: #1967D2;\n",
              "      --hover-bg-color: #E2EBFA;\n",
              "      --hover-fill-color: #174EA6;\n",
              "      --disabled-fill-color: #AAA;\n",
              "      --disabled-bg-color: #DDD;\n",
              "  }\n",
              "\n",
              "  [theme=dark] .colab-df-quickchart {\n",
              "      --bg-color: #3B4455;\n",
              "      --fill-color: #D2E3FC;\n",
              "      --hover-bg-color: #434B5C;\n",
              "      --hover-fill-color: #FFFFFF;\n",
              "      --disabled-bg-color: #3B4455;\n",
              "      --disabled-fill-color: #666;\n",
              "  }\n",
              "\n",
              "  .colab-df-quickchart {\n",
              "    background-color: var(--bg-color);\n",
              "    border: none;\n",
              "    border-radius: 50%;\n",
              "    cursor: pointer;\n",
              "    display: none;\n",
              "    fill: var(--fill-color);\n",
              "    height: 32px;\n",
              "    padding: 0;\n",
              "    width: 32px;\n",
              "  }\n",
              "\n",
              "  .colab-df-quickchart:hover {\n",
              "    background-color: var(--hover-bg-color);\n",
              "    box-shadow: 0 1px 2px rgba(60, 64, 67, 0.3), 0 1px 3px 1px rgba(60, 64, 67, 0.15);\n",
              "    fill: var(--button-hover-fill-color);\n",
              "  }\n",
              "\n",
              "  .colab-df-quickchart-complete:disabled,\n",
              "  .colab-df-quickchart-complete:disabled:hover {\n",
              "    background-color: var(--disabled-bg-color);\n",
              "    fill: var(--disabled-fill-color);\n",
              "    box-shadow: none;\n",
              "  }\n",
              "\n",
              "  .colab-df-spinner {\n",
              "    border: 2px solid var(--fill-color);\n",
              "    border-color: transparent;\n",
              "    border-bottom-color: var(--fill-color);\n",
              "    animation:\n",
              "      spin 1s steps(1) infinite;\n",
              "  }\n",
              "\n",
              "  @keyframes spin {\n",
              "    0% {\n",
              "      border-color: transparent;\n",
              "      border-bottom-color: var(--fill-color);\n",
              "      border-left-color: var(--fill-color);\n",
              "    }\n",
              "    20% {\n",
              "      border-color: transparent;\n",
              "      border-left-color: var(--fill-color);\n",
              "      border-top-color: var(--fill-color);\n",
              "    }\n",
              "    30% {\n",
              "      border-color: transparent;\n",
              "      border-left-color: var(--fill-color);\n",
              "      border-top-color: var(--fill-color);\n",
              "      border-right-color: var(--fill-color);\n",
              "    }\n",
              "    40% {\n",
              "      border-color: transparent;\n",
              "      border-right-color: var(--fill-color);\n",
              "      border-top-color: var(--fill-color);\n",
              "    }\n",
              "    60% {\n",
              "      border-color: transparent;\n",
              "      border-right-color: var(--fill-color);\n",
              "    }\n",
              "    80% {\n",
              "      border-color: transparent;\n",
              "      border-right-color: var(--fill-color);\n",
              "      border-bottom-color: var(--fill-color);\n",
              "    }\n",
              "    90% {\n",
              "      border-color: transparent;\n",
              "      border-bottom-color: var(--fill-color);\n",
              "    }\n",
              "  }\n",
              "</style>\n",
              "\n",
              "  <script>\n",
              "    async function quickchart(key) {\n",
              "      const quickchartButtonEl =\n",
              "        document.querySelector('#' + key + ' button');\n",
              "      quickchartButtonEl.disabled = true;  // To prevent multiple clicks.\n",
              "      quickchartButtonEl.classList.add('colab-df-spinner');\n",
              "      try {\n",
              "        const charts = await google.colab.kernel.invokeFunction(\n",
              "            'suggestCharts', [key], {});\n",
              "      } catch (error) {\n",
              "        console.error('Error during call to suggestCharts:', error);\n",
              "      }\n",
              "      quickchartButtonEl.classList.remove('colab-df-spinner');\n",
              "      quickchartButtonEl.classList.add('colab-df-quickchart-complete');\n",
              "    }\n",
              "    (() => {\n",
              "      let quickchartButtonEl =\n",
              "        document.querySelector('#df-ff92c2db-cf00-4a1e-b56b-79f1411cd39a button');\n",
              "      quickchartButtonEl.style.display =\n",
              "        google.colab.kernel.accessAllowed ? 'block' : 'none';\n",
              "    })();\n",
              "  </script>\n",
              "</div>\n",
              "    </div>\n",
              "  </div>\n"
            ]
          },
          "metadata": {},
          "execution_count": 75
        }
      ]
    },
    {
      "cell_type": "code",
      "source": [
        "svm_clf = SVC(probability=True)"
      ],
      "metadata": {
        "id": "ht2OTJsvanLn"
      },
      "execution_count": null,
      "outputs": []
    },
    {
      "cell_type": "code",
      "source": [
        "svm_clf.get_params()"
      ],
      "metadata": {
        "colab": {
          "base_uri": "https://localhost:8080/"
        },
        "id": "YHcD9f6Vaz32",
        "outputId": "e8cb45f5-31ac-4b71-82a3-19735052262e"
      },
      "execution_count": null,
      "outputs": [
        {
          "output_type": "execute_result",
          "data": {
            "text/plain": [
              "{'C': 1.0,\n",
              " 'break_ties': False,\n",
              " 'cache_size': 200,\n",
              " 'class_weight': None,\n",
              " 'coef0': 0.0,\n",
              " 'decision_function_shape': 'ovr',\n",
              " 'degree': 3,\n",
              " 'gamma': 'scale',\n",
              " 'kernel': 'rbf',\n",
              " 'max_iter': -1,\n",
              " 'probability': True,\n",
              " 'random_state': None,\n",
              " 'shrinking': True,\n",
              " 'tol': 0.001,\n",
              " 'verbose': False}"
            ]
          },
          "metadata": {},
          "execution_count": 88
        }
      ]
    },
    {
      "cell_type": "code",
      "source": [
        "svm_clf.fit(x_train, y_train)"
      ],
      "metadata": {
        "colab": {
          "base_uri": "https://localhost:8080/",
          "height": 75
        },
        "id": "yQvhTTIaa_Id",
        "outputId": "7ddb1370-4214-430c-adfe-6c5a87797d5b"
      },
      "execution_count": null,
      "outputs": [
        {
          "output_type": "execute_result",
          "data": {
            "text/plain": [
              "SVC(probability=True)"
            ],
            "text/html": [
              "<style>#sk-container-id-3 {color: black;background-color: white;}#sk-container-id-3 pre{padding: 0;}#sk-container-id-3 div.sk-toggleable {background-color: white;}#sk-container-id-3 label.sk-toggleable__label {cursor: pointer;display: block;width: 100%;margin-bottom: 0;padding: 0.3em;box-sizing: border-box;text-align: center;}#sk-container-id-3 label.sk-toggleable__label-arrow:before {content: \"▸\";float: left;margin-right: 0.25em;color: #696969;}#sk-container-id-3 label.sk-toggleable__label-arrow:hover:before {color: black;}#sk-container-id-3 div.sk-estimator:hover label.sk-toggleable__label-arrow:before {color: black;}#sk-container-id-3 div.sk-toggleable__content {max-height: 0;max-width: 0;overflow: hidden;text-align: left;background-color: #f0f8ff;}#sk-container-id-3 div.sk-toggleable__content pre {margin: 0.2em;color: black;border-radius: 0.25em;background-color: #f0f8ff;}#sk-container-id-3 input.sk-toggleable__control:checked~div.sk-toggleable__content {max-height: 200px;max-width: 100%;overflow: auto;}#sk-container-id-3 input.sk-toggleable__control:checked~label.sk-toggleable__label-arrow:before {content: \"▾\";}#sk-container-id-3 div.sk-estimator input.sk-toggleable__control:checked~label.sk-toggleable__label {background-color: #d4ebff;}#sk-container-id-3 div.sk-label input.sk-toggleable__control:checked~label.sk-toggleable__label {background-color: #d4ebff;}#sk-container-id-3 input.sk-hidden--visually {border: 0;clip: rect(1px 1px 1px 1px);clip: rect(1px, 1px, 1px, 1px);height: 1px;margin: -1px;overflow: hidden;padding: 0;position: absolute;width: 1px;}#sk-container-id-3 div.sk-estimator {font-family: monospace;background-color: #f0f8ff;border: 1px dotted black;border-radius: 0.25em;box-sizing: border-box;margin-bottom: 0.5em;}#sk-container-id-3 div.sk-estimator:hover {background-color: #d4ebff;}#sk-container-id-3 div.sk-parallel-item::after {content: \"\";width: 100%;border-bottom: 1px solid gray;flex-grow: 1;}#sk-container-id-3 div.sk-label:hover label.sk-toggleable__label {background-color: #d4ebff;}#sk-container-id-3 div.sk-serial::before {content: \"\";position: absolute;border-left: 1px solid gray;box-sizing: border-box;top: 0;bottom: 0;left: 50%;z-index: 0;}#sk-container-id-3 div.sk-serial {display: flex;flex-direction: column;align-items: center;background-color: white;padding-right: 0.2em;padding-left: 0.2em;position: relative;}#sk-container-id-3 div.sk-item {position: relative;z-index: 1;}#sk-container-id-3 div.sk-parallel {display: flex;align-items: stretch;justify-content: center;background-color: white;position: relative;}#sk-container-id-3 div.sk-item::before, #sk-container-id-3 div.sk-parallel-item::before {content: \"\";position: absolute;border-left: 1px solid gray;box-sizing: border-box;top: 0;bottom: 0;left: 50%;z-index: -1;}#sk-container-id-3 div.sk-parallel-item {display: flex;flex-direction: column;z-index: 1;position: relative;background-color: white;}#sk-container-id-3 div.sk-parallel-item:first-child::after {align-self: flex-end;width: 50%;}#sk-container-id-3 div.sk-parallel-item:last-child::after {align-self: flex-start;width: 50%;}#sk-container-id-3 div.sk-parallel-item:only-child::after {width: 0;}#sk-container-id-3 div.sk-dashed-wrapped {border: 1px dashed gray;margin: 0 0.4em 0.5em 0.4em;box-sizing: border-box;padding-bottom: 0.4em;background-color: white;}#sk-container-id-3 div.sk-label label {font-family: monospace;font-weight: bold;display: inline-block;line-height: 1.2em;}#sk-container-id-3 div.sk-label-container {text-align: center;}#sk-container-id-3 div.sk-container {/* jupyter's `normalize.less` sets `[hidden] { display: none; }` but bootstrap.min.css set `[hidden] { display: none !important; }` so we also need the `!important` here to be able to override the default hidden behavior on the sphinx rendered scikit-learn.org. See: https://github.com/scikit-learn/scikit-learn/issues/21755 */display: inline-block !important;position: relative;}#sk-container-id-3 div.sk-text-repr-fallback {display: none;}</style><div id=\"sk-container-id-3\" class=\"sk-top-container\"><div class=\"sk-text-repr-fallback\"><pre>SVC(probability=True)</pre><b>In a Jupyter environment, please rerun this cell to show the HTML representation or trust the notebook. <br />On GitHub, the HTML representation is unable to render, please try loading this page with nbviewer.org.</b></div><div class=\"sk-container\" hidden><div class=\"sk-item\"><div class=\"sk-estimator sk-toggleable\"><input class=\"sk-toggleable__control sk-hidden--visually\" id=\"sk-estimator-id-3\" type=\"checkbox\" checked><label for=\"sk-estimator-id-3\" class=\"sk-toggleable__label sk-toggleable__label-arrow\">SVC</label><div class=\"sk-toggleable__content\"><pre>SVC(probability=True)</pre></div></div></div></div></div>"
            ]
          },
          "metadata": {},
          "execution_count": 89
        }
      ]
    },
    {
      "cell_type": "code",
      "source": [
        "y_pred = svm_clf.predict(x_test)"
      ],
      "metadata": {
        "id": "Xd4WHhnPbQD-"
      },
      "execution_count": null,
      "outputs": []
    },
    {
      "cell_type": "code",
      "source": [
        "from sklearn.metrics import roc_auc_score, precision_score, recall_score"
      ],
      "metadata": {
        "id": "jj_HKLn9bWRl"
      },
      "execution_count": null,
      "outputs": []
    },
    {
      "cell_type": "code",
      "source": [
        "print(f\"roc auc {roc_auc_score(y_test, y_pred)}\")\n",
        "print(f\"precision {precision_score(y_test, y_pred)}\")\n",
        "print(f\"recall {recall_score(y_test, y_pred)}\")"
      ],
      "metadata": {
        "colab": {
          "base_uri": "https://localhost:8080/"
        },
        "id": "z4iOEyL_bhlT",
        "outputId": "0efed6d9-b97a-4d33-889f-2219498b0119"
      },
      "execution_count": null,
      "outputs": [
        {
          "output_type": "stream",
          "name": "stdout",
          "text": [
            "roc auc 0.867063492063492\n",
            "precision 0.9411764705882353\n",
            "recall 0.7619047619047619\n"
          ]
        }
      ]
    },
    {
      "cell_type": "code",
      "source": [
        "y_pred_proba = svm_clf.predict_proba(x_test)[:,1]\n",
        "y_pred_proba_2 = np.where(y_pred_proba > 0.38, 1, 0)\n",
        "print(f\"roc auc {roc_auc_score(y_test, y_pred_proba_2)}\")\n",
        "print(f\"precision {precision_score(y_test, y_pred_proba_2)}\")\n",
        "print(f\"recall {recall_score(y_test, y_pred_proba_2)}\")"
      ],
      "metadata": {
        "colab": {
          "base_uri": "https://localhost:8080/"
        },
        "id": "Yynohb0PbsHH",
        "outputId": "1dc859ce-2af3-4fa7-ded7-23b27ca1df68"
      },
      "execution_count": null,
      "outputs": [
        {
          "output_type": "stream",
          "name": "stdout",
          "text": [
            "roc auc 0.8700396825396826\n",
            "precision 0.8717948717948718\n",
            "recall 0.8095238095238095\n"
          ]
        }
      ]
    },
    {
      "cell_type": "code",
      "source": [
        "svm_clf2 = SVC(probability=True, C=5)\n",
        "svm_clf2.fit(x_train, y_train)"
      ],
      "metadata": {
        "id": "gKxoTlAcb4nL"
      },
      "execution_count": null,
      "outputs": []
    }
  ],
  "metadata": {
    "kernelspec": {
      "display_name": "Python 3 (ipykernel)",
      "language": "python",
      "name": "python3"
    },
    "language_info": {
      "codemirror_mode": {
        "name": "ipython",
        "version": 3
      },
      "file_extension": ".py",
      "mimetype": "text/x-python",
      "name": "python",
      "nbconvert_exporter": "python",
      "pygments_lexer": "ipython3",
      "version": "3.11.3"
    },
    "colab": {
      "provenance": []
    },
    "widgets": {
      "application/vnd.jupyter.widget-state+json": {
        "5b15064c7f734648ae10df048e6c8547": {
          "model_module": "@jupyter-widgets/controls",
          "model_name": "VBoxModel",
          "model_module_version": "1.5.0",
          "state": {
            "_dom_classes": [
              "widget-interact"
            ],
            "_model_module": "@jupyter-widgets/controls",
            "_model_module_version": "1.5.0",
            "_model_name": "VBoxModel",
            "_view_count": null,
            "_view_module": "@jupyter-widgets/controls",
            "_view_module_version": "1.5.0",
            "_view_name": "VBoxView",
            "box_style": "",
            "children": [
              "IPY_MODEL_3c919692d19d4f3aa020b35696fbba22",
              "IPY_MODEL_294bd4bd118440fdb91338a8d957b33a",
              "IPY_MODEL_e7317a7d533e4128a3052c6fe367085c"
            ],
            "layout": "IPY_MODEL_12be47e08240404ab6de3ee3a3ae437c"
          }
        },
        "3c919692d19d4f3aa020b35696fbba22": {
          "model_module": "@jupyter-widgets/controls",
          "model_name": "FloatSliderModel",
          "model_module_version": "1.5.0",
          "state": {
            "_dom_classes": [],
            "_model_module": "@jupyter-widgets/controls",
            "_model_module_version": "1.5.0",
            "_model_name": "FloatSliderModel",
            "_view_count": null,
            "_view_module": "@jupyter-widgets/controls",
            "_view_module_version": "1.5.0",
            "_view_name": "FloatSliderView",
            "continuous_update": true,
            "description": "x1",
            "description_tooltip": null,
            "disabled": false,
            "layout": "IPY_MODEL_2fe6d10737094d619d8f069774ac994d",
            "max": 10,
            "min": -10,
            "orientation": "horizontal",
            "readout": true,
            "readout_format": ".2f",
            "step": 0.1,
            "style": "IPY_MODEL_1c49e3d6cd5441b2ad0b48ed480b81d9",
            "value": 2.5
          }
        },
        "294bd4bd118440fdb91338a8d957b33a": {
          "model_module": "@jupyter-widgets/controls",
          "model_name": "FloatSliderModel",
          "model_module_version": "1.5.0",
          "state": {
            "_dom_classes": [],
            "_model_module": "@jupyter-widgets/controls",
            "_model_module_version": "1.5.0",
            "_model_name": "FloatSliderModel",
            "_view_count": null,
            "_view_module": "@jupyter-widgets/controls",
            "_view_module_version": "1.5.0",
            "_view_name": "FloatSliderView",
            "continuous_update": true,
            "description": "x2",
            "description_tooltip": null,
            "disabled": false,
            "layout": "IPY_MODEL_ae386e91add3496d8abd24569231f9a6",
            "max": 10,
            "min": -10,
            "orientation": "horizontal",
            "readout": true,
            "readout_format": ".2f",
            "step": 0.1,
            "style": "IPY_MODEL_3e06616d49954829bbe7ce5c7285ad46",
            "value": 0
          }
        },
        "e7317a7d533e4128a3052c6fe367085c": {
          "model_module": "@jupyter-widgets/output",
          "model_name": "OutputModel",
          "model_module_version": "1.0.0",
          "state": {
            "_dom_classes": [],
            "_model_module": "@jupyter-widgets/output",
            "_model_module_version": "1.0.0",
            "_model_name": "OutputModel",
            "_view_count": null,
            "_view_module": "@jupyter-widgets/output",
            "_view_module_version": "1.0.0",
            "_view_name": "OutputView",
            "layout": "IPY_MODEL_91129344c23940b19bce416cb8181edc",
            "msg_id": "",
            "outputs": [
              {
                "output_type": "display_data",
                "data": {
                  "text/plain": "<Figure size 800x600 with 1 Axes>",
                  "image/png": "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\n"
                },
                "metadata": {}
              },
              {
                "output_type": "stream",
                "name": "stdout",
                "text": [
                  "The point (0.0, 0.0) is classified as 'Red' with result -0.6665.\n"
                ]
              }
            ]
          }
        },
        "12be47e08240404ab6de3ee3a3ae437c": {
          "model_module": "@jupyter-widgets/base",
          "model_name": "LayoutModel",
          "model_module_version": "1.2.0",
          "state": {
            "_model_module": "@jupyter-widgets/base",
            "_model_module_version": "1.2.0",
            "_model_name": "LayoutModel",
            "_view_count": null,
            "_view_module": "@jupyter-widgets/base",
            "_view_module_version": "1.2.0",
            "_view_name": "LayoutView",
            "align_content": null,
            "align_items": null,
            "align_self": null,
            "border": null,
            "bottom": null,
            "display": null,
            "flex": null,
            "flex_flow": null,
            "grid_area": null,
            "grid_auto_columns": null,
            "grid_auto_flow": null,
            "grid_auto_rows": null,
            "grid_column": null,
            "grid_gap": null,
            "grid_row": null,
            "grid_template_areas": null,
            "grid_template_columns": null,
            "grid_template_rows": null,
            "height": null,
            "justify_content": null,
            "justify_items": null,
            "left": null,
            "margin": null,
            "max_height": null,
            "max_width": null,
            "min_height": null,
            "min_width": null,
            "object_fit": null,
            "object_position": null,
            "order": null,
            "overflow": null,
            "overflow_x": null,
            "overflow_y": null,
            "padding": null,
            "right": null,
            "top": null,
            "visibility": null,
            "width": null
          }
        },
        "2fe6d10737094d619d8f069774ac994d": {
          "model_module": "@jupyter-widgets/base",
          "model_name": "LayoutModel",
          "model_module_version": "1.2.0",
          "state": {
            "_model_module": "@jupyter-widgets/base",
            "_model_module_version": "1.2.0",
            "_model_name": "LayoutModel",
            "_view_count": null,
            "_view_module": "@jupyter-widgets/base",
            "_view_module_version": "1.2.0",
            "_view_name": "LayoutView",
            "align_content": null,
            "align_items": null,
            "align_self": null,
            "border": null,
            "bottom": null,
            "display": null,
            "flex": null,
            "flex_flow": null,
            "grid_area": null,
            "grid_auto_columns": null,
            "grid_auto_flow": null,
            "grid_auto_rows": null,
            "grid_column": null,
            "grid_gap": null,
            "grid_row": null,
            "grid_template_areas": null,
            "grid_template_columns": null,
            "grid_template_rows": null,
            "height": null,
            "justify_content": null,
            "justify_items": null,
            "left": null,
            "margin": null,
            "max_height": null,
            "max_width": null,
            "min_height": null,
            "min_width": null,
            "object_fit": null,
            "object_position": null,
            "order": null,
            "overflow": null,
            "overflow_x": null,
            "overflow_y": null,
            "padding": null,
            "right": null,
            "top": null,
            "visibility": null,
            "width": null
          }
        },
        "1c49e3d6cd5441b2ad0b48ed480b81d9": {
          "model_module": "@jupyter-widgets/controls",
          "model_name": "SliderStyleModel",
          "model_module_version": "1.5.0",
          "state": {
            "_model_module": "@jupyter-widgets/controls",
            "_model_module_version": "1.5.0",
            "_model_name": "SliderStyleModel",
            "_view_count": null,
            "_view_module": "@jupyter-widgets/base",
            "_view_module_version": "1.2.0",
            "_view_name": "StyleView",
            "description_width": "",
            "handle_color": null
          }
        },
        "ae386e91add3496d8abd24569231f9a6": {
          "model_module": "@jupyter-widgets/base",
          "model_name": "LayoutModel",
          "model_module_version": "1.2.0",
          "state": {
            "_model_module": "@jupyter-widgets/base",
            "_model_module_version": "1.2.0",
            "_model_name": "LayoutModel",
            "_view_count": null,
            "_view_module": "@jupyter-widgets/base",
            "_view_module_version": "1.2.0",
            "_view_name": "LayoutView",
            "align_content": null,
            "align_items": null,
            "align_self": null,
            "border": null,
            "bottom": null,
            "display": null,
            "flex": null,
            "flex_flow": null,
            "grid_area": null,
            "grid_auto_columns": null,
            "grid_auto_flow": null,
            "grid_auto_rows": null,
            "grid_column": null,
            "grid_gap": null,
            "grid_row": null,
            "grid_template_areas": null,
            "grid_template_columns": null,
            "grid_template_rows": null,
            "height": null,
            "justify_content": null,
            "justify_items": null,
            "left": null,
            "margin": null,
            "max_height": null,
            "max_width": null,
            "min_height": null,
            "min_width": null,
            "object_fit": null,
            "object_position": null,
            "order": null,
            "overflow": null,
            "overflow_x": null,
            "overflow_y": null,
            "padding": null,
            "right": null,
            "top": null,
            "visibility": null,
            "width": null
          }
        },
        "3e06616d49954829bbe7ce5c7285ad46": {
          "model_module": "@jupyter-widgets/controls",
          "model_name": "SliderStyleModel",
          "model_module_version": "1.5.0",
          "state": {
            "_model_module": "@jupyter-widgets/controls",
            "_model_module_version": "1.5.0",
            "_model_name": "SliderStyleModel",
            "_view_count": null,
            "_view_module": "@jupyter-widgets/base",
            "_view_module_version": "1.2.0",
            "_view_name": "StyleView",
            "description_width": "",
            "handle_color": null
          }
        },
        "91129344c23940b19bce416cb8181edc": {
          "model_module": "@jupyter-widgets/base",
          "model_name": "LayoutModel",
          "model_module_version": "1.2.0",
          "state": {
            "_model_module": "@jupyter-widgets/base",
            "_model_module_version": "1.2.0",
            "_model_name": "LayoutModel",
            "_view_count": null,
            "_view_module": "@jupyter-widgets/base",
            "_view_module_version": "1.2.0",
            "_view_name": "LayoutView",
            "align_content": null,
            "align_items": null,
            "align_self": null,
            "border": null,
            "bottom": null,
            "display": null,
            "flex": null,
            "flex_flow": null,
            "grid_area": null,
            "grid_auto_columns": null,
            "grid_auto_flow": null,
            "grid_auto_rows": null,
            "grid_column": null,
            "grid_gap": null,
            "grid_row": null,
            "grid_template_areas": null,
            "grid_template_columns": null,
            "grid_template_rows": null,
            "height": null,
            "justify_content": null,
            "justify_items": null,
            "left": null,
            "margin": null,
            "max_height": null,
            "max_width": null,
            "min_height": null,
            "min_width": null,
            "object_fit": null,
            "object_position": null,
            "order": null,
            "overflow": null,
            "overflow_x": null,
            "overflow_y": null,
            "padding": null,
            "right": null,
            "top": null,
            "visibility": null,
            "width": null
          }
        }
      }
    }
  },
  "nbformat": 4,
  "nbformat_minor": 0
}