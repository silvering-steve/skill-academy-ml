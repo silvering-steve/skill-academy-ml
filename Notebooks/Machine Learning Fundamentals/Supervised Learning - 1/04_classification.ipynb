{
 "cells": [
  {
   "cell_type": "markdown",
   "metadata": {
    "id": "sSFwbZt5byCO"
   },
   "source": [
    "## Classification\n",
    "\n",
    "Having explored how linear regression can help us predict house prices, let's shift our attention to another powerful technique in the field of **supervised learning: classification**. While regression is best used for predicting continuous values like house prices, **classification comes into its own when we need to sort data into specific categories**."
   ]
  },
  {
   "cell_type": "markdown",
   "metadata": {
    "id": "BytWiTpjbyCS"
   },
   "source": [
    "### Introduction to Classification\n",
    "\n",
    "Classification is **a type of supervised learning where the output is a categorical variable**. This means that the algorithm is trained on a labeled dataset, and it uses this training to categorize new, unseen data into specific classes. **The output, or label, is a category**, such as \"spam\" or \"not spam\" for an email classification system, or \"malignant\" or \"benign\" for a tumor classification system.\n",
    "\n",
    "![classification](https://storage.googleapis.com/rg-ai-bootcamp/machine-learning/classification-min.png)\n",
    "\n",
    "By convention, we can refer to these two classes or categories in several general ways. We often define clauses as `no` or `yes` or sometimes as equivalent to `False` or `True` or very commonly use the numbers `0` or `1`. One technology commonly used is to call The `False` or `0` class, The negative class and The `True` class or `1` class, The positive class.\n",
    "\n",
    "| False | True |\n",
    "|:-----:|:----:|\n",
    "| No | Yes |\n",
    "| 0 | 1 |\n",
    "| Negative class | Positive class |\n",
    "\n",
    "There are two main types of classification problems:\n",
    "\n",
    "1. **Binary Classification**: In binary classification, there are **only two possible categories**. The tumors classification example mentioned above is a binary classification problem, where the two categories are \"malignant\" and \"benign\".\n",
    "\n",
    "2. **Multiclass Classification**: In multiclass classification, there are **more than two categories**. For example, a model that classifies news articles into categories like \"sports\", \"politics\", \"technology\", and \"entertainment\" would be a multiclass classification problem."
   ]
  },
  {
   "cell_type": "markdown",
   "metadata": {
    "id": "lDfwxzhHbyCT"
   },
   "source": [
    "\n",
    "\n",
    "Let's take a closer look at the tumor classification example to understand how classification works.\n",
    "\n",
    "Imagine you're a doctor who specializes in diagnosing tumors. Over the years, you've seen thousands of patients and have developed an intuition for diagnosing whether a tumor is malignant (cancerous) or benign (not cancerous) based on certain features such as the size of the tumor, its shape, and the rate at which it's growing.\n",
    "\n",
    "Now, suppose you want to train a machine learning model to do this task. You would start by collecting a dataset of tumors for which you already know the diagnosis. Each tumor in this dataset is labeled either \"malignant\" or \"benign\" - these are your classes. The features of each tumor, such as its size, shape, and growth rate, are your input variables.\n",
    "\n",
    "![tumor-classification](https://storage.googleapis.com/rg-ai-bootcamp/machine-learning/tumor-classification-min.png)\n",
    "\n",
    "You feed this labeled dataset into your classification algorithm, which learns a function that maps the input variables (the features of the tumor) to the output variable (the class label). This function is essentially a decision boundary that separates the different classes based on the input variables.\n",
    "\n",
    "Once the model is trained, you can use it to classify new, unseen tumors. You input the features of the new tumor into the model, and it outputs a class label - either \"malignant\" or \"benign\". The model has essentially learned to mimic your decision-making process based on the training you gave it."
   ]
  },
  {
   "cell_type": "markdown",
   "metadata": {
    "id": "t2j0GWSrbyCU"
   },
   "source": [
    "#### Types of Classification Algorithms\n",
    "\n",
    "There are many algorithms that can be used for classification tasks, each with its own strengths and weaknesses. Some of the most commonly used ones include:\n",
    "\n",
    "1. **Logistic Regression**: Despite its name, logistic regression is used for classification tasks. It uses the logistic function to transform its output into a probability that can be used to predict a class label.\n",
    "\n",
    "2. **Decision Trees**: These are simple yet powerful algorithms that split the feature space into regions. For any new instance, the algorithm checks which region it belongs to and assigns the class label accordingly.\n",
    "\n",
    "3. **Random Forests**: This is a type of ensemble method that combines multiple decision trees to make a more accurate prediction.\n",
    "\n",
    "4. **Support Vector Machines (SVMs)**: SVMs try to find a hyperplane that best separates the classes in the feature space.\n",
    "\n",
    "5. **Neural Networks**: These are powerful and flexible algorithms that can learn complex patterns. They are particularly useful when dealing with high-dimensional data, such as images."
   ]
  },
  {
   "cell_type": "markdown",
   "metadata": {
    "id": "Z6gyn7mUbyCU"
   },
   "source": [
    "### Euler Number\n",
    "\n",
    "**Euler's number**, often denoted as `e`, is a special mathematical constant that is approximately equal to `2.71828`. It's named after the Swiss mathematician Leonhard Euler.\n",
    "\n",
    "In programming and machine learning, `e` is often used in logarithmic and exponential functions, which are common in many algorithms. For example, the natural logarithm (logarithm base `e`) is frequently used in calculations of information theory, like entropy and cross-entropy, which are often used in machine learning for tasks like **classification**.\n",
    "\n",
    "In NumPy, you can use Euler's number with the `exp()` function. Here's how you can get the value of `e`:\n",
    "\n",
    "```python\n",
    "import numpy as np\n",
    "print(np.exp())\n",
    "```\n",
    "\n",
    "And here's how you can compute `e` to the power of a number (which is called the exponential function):"
   ]
  },
  {
   "cell_type": "code",
   "execution_count": 1,
   "metadata": {
    "scrolled": true,
    "id": "ZGCJf7y-byCU",
    "outputId": "4c5d49b2-af68-4ed5-be4a-d689b6d1b195",
    "ExecuteTime": {
     "end_time": "2024-01-08T13:15:05.717072576Z",
     "start_time": "2024-01-08T13:15:05.674203572Z"
    }
   },
   "outputs": [
    {
     "name": "stdout",
     "output_type": "stream",
     "text": [
      "[ 2.71828183  7.3890561  20.08553692]\n",
      "2.718281828459045\n"
     ]
    }
   ],
   "source": [
    "import numpy as np\n",
    "\n",
    "# Input is an array\n",
    "print(np.exp(np.array([1,2,3])))\n",
    "\n",
    "# Input is a single number\n",
    "print(np.exp(1))"
   ]
  },
  {
   "cell_type": "markdown",
   "metadata": {
    "id": "WZhBRqlsbyCW"
   },
   "source": [
    "### Logistic Regression\n",
    "\n",
    "**Logistic Regression** is a classification algorithm used when the response variable is categorical. For instance, it can be used for cancer detection problems (like our tumor example) where the task is to predict a category - malignant or benign. To build out to the logistic regression algorithm, there's an important mathematical function which is called **The Sigmoid function**.\n",
    "\n",
    "The Sigmoid function looks like this:\n",
    "\n",
    "![logistic-curve](https://storage.googleapis.com/rg-ai-bootcamp/machine-learning/logistic-curve-min.png)\n",
    "(Source: [wikipedia.org](https://en.wikipedia.org/wiki/Sigmoid_function))\n",
    "\n",
    "If you recall the tumor graph above, the data is clustered around 0 and 1, so it's kind of hard to plot a straight line through the data. The Sigmoid function by flattening the upper and bottom part around 0 and 1.\n",
    "\n",
    "The formula for a sigmoid function is as follows:\n",
    "\n",
    "$$g(z) = \\frac{1}{1+e^{-z}}$$\n",
    "\n",
    "In the case of logistic regression, `z` (the input to the sigmoid function), is the output of a linear regression model. The `sigmoid` function is implemented in python as shown in the cell below."
   ]
  },
  {
   "cell_type": "code",
   "execution_count": 2,
   "metadata": {
    "id": "wfNsV2CXbyCX",
    "ExecuteTime": {
     "end_time": "2024-01-08T13:15:05.757316361Z",
     "start_time": "2024-01-08T13:15:05.712106702Z"
    }
   },
   "outputs": [],
   "source": [
    "def sigmoid(z):\n",
    "    \"\"\"\n",
    "    Compute the sigmoid of z\n",
    "\n",
    "    Args:\n",
    "        z (ndarray): A scalar, numpy array of any size.\n",
    "\n",
    "    Returns:\n",
    "        g (ndarray): sigmoid(z), with the same shape as z\n",
    "\n",
    "    \"\"\"\n",
    "\n",
    "    g = 1/(1+np.exp(-z))\n",
    "\n",
    "    return g"
   ]
  },
  {
   "cell_type": "markdown",
   "metadata": {
    "id": "p58672GUbyCX"
   },
   "source": [
    "Let's examine the results this function generates for different `z` values."
   ]
  },
  {
   "cell_type": "code",
   "execution_count": 3,
   "metadata": {
    "scrolled": true,
    "id": "WMeFbJnBbyCY",
    "outputId": "f01023f7-7792-42f1-9e5e-e01214220827",
    "ExecuteTime": {
     "end_time": "2024-01-08T13:15:06.022347824Z",
     "start_time": "2024-01-08T13:15:05.757794292Z"
    }
   },
   "outputs": [
    {
     "name": "stdout",
     "output_type": "stream",
     "text": [
      "Input (z), Output (sigmoid(z))\n",
      "[[-5.     0.007]\n",
      " [-4.     0.018]\n",
      " [-3.     0.047]\n",
      " [-2.     0.119]\n",
      " [-1.     0.269]\n",
      " [ 0.     0.5  ]\n",
      " [ 1.     0.731]\n",
      " [ 2.     0.881]\n",
      " [ 3.     0.953]\n",
      " [ 4.     0.982]]\n"
     ]
    }
   ],
   "source": [
    "import numpy as np\n",
    "import matplotlib.pyplot as plt\n",
    "\n",
    "z_tmp = np.arange(-5,5)\n",
    "y = sigmoid(z_tmp)\n",
    "np.set_printoptions(precision=3)\n",
    "print(\"Input (z), Output (sigmoid(z))\")\n",
    "print(np.c_[z_tmp, y])"
   ]
  },
  {
   "cell_type": "markdown",
   "metadata": {
    "id": "nOL22yT9byCY"
   },
   "source": [
    "The left column represents `z`, while the right column signifies sigmoid(`z`). It's clear to see that the input values for the sigmoid fall between -5 and 5, and the resulting outputs are dispersed from 0 to 1.\n",
    "\n",
    "Now, let's attempt to visualize this function through the use of the matplotlib library."
   ]
  },
  {
   "cell_type": "code",
   "execution_count": 4,
   "metadata": {
    "id": "K8SYzTAabyCY",
    "outputId": "354631c6-1596-4df8-f20a-d14345a50732",
    "ExecuteTime": {
     "end_time": "2024-01-08T13:15:06.120940237Z",
     "start_time": "2024-01-08T13:15:06.022264810Z"
    }
   },
   "outputs": [
    {
     "data": {
      "text/plain": "Text(0.5, 0, 'z')"
     },
     "execution_count": 4,
     "metadata": {},
     "output_type": "execute_result"
    },
    {
     "data": {
      "text/plain": "<Figure size 500x300 with 1 Axes>",
      "image/png": "[encoded data removed]"
     },
     "metadata": {},
     "output_type": "display_data"
    }
   ],
   "source": [
    "fig,ax = plt.subplots(1,1,figsize=(5,3))\n",
    "ax.plot(z_tmp, y, c=\"b\")\n",
    "\n",
    "ax.set_title(\"Sigmoid function\")\n",
    "ax.set_ylabel('sigmoid(z)')\n",
    "ax.set_xlabel('z')"
   ]
  },
  {
   "cell_type": "markdown",
   "metadata": {
    "id": "3oGgYzJ6byCY"
   },
   "source": [
    "What you can observe here is the behavior of the sigmoid function:\n",
    "- Tends towards `0` when `z` is a significantly **negative value**\n",
    "- Gradually ascends towards `1` when `z` becomes a large **positive value**.\n",
    "\n",
    "A logistic regression model applies the sigmoid to the familiar linear regression model as shown below:\n",
    "\n",
    "$$ f(\\mathbf{x}^{(i)}) = g(\\mathbf{w} \\cdot \\mathbf{x}^{(i)} + b )$$\n",
    "\n",
    "where\n",
    "\n",
    "$$g(z) = \\frac{1}{1+e^{-z}}$$\n",
    "\n",
    "and $\\mathbf{w} \\cdot \\mathbf{x}$ is the vector dot product:\n",
    "  \n",
    "  $$\\mathbf{w} \\cdot \\mathbf{x} = w_0 x_0 + w_1 x_1$$\n"
   ]
  },
  {
   "cell_type": "markdown",
   "metadata": {
    "id": "PIetW0mfbyCZ"
   },
   "source": [
    "After understanding the basics of logistic regression, let's get back to our case example, tumour classification. Without further ado, let's load the examples and initial values for the parameters."
   ]
  },
  {
   "cell_type": "code",
   "execution_count": 5,
   "metadata": {
    "id": "wPfWm3X8byCZ",
    "outputId": "9cbca766-1517-4a05-a0e7-310fd2a9142f",
    "ExecuteTime": {
     "end_time": "2024-01-08T13:15:06.227072683Z",
     "start_time": "2024-01-08T13:15:06.122182972Z"
    }
   },
   "outputs": [
    {
     "data": {
      "text/plain": "<Figure size 640x480 with 1 Axes>",
      "image/png": "[encoded data removed]"
     },
     "metadata": {},
     "output_type": "display_data"
    }
   ],
   "source": [
    "import numpy as np\n",
    "import matplotlib.pyplot as plt\n",
    "%matplotlib inline\n",
    "\n",
    "# your data\n",
    "x_train = np.array([0, 1, 2, 3, 4, 7, 8, 9, 10, 11])\n",
    "y_train = np.array([0, 0, 0, 0, 0, 1, 1, 1, 1, 1])\n",
    "\n",
    "# weight and bias\n",
    "w_in = 1\n",
    "b_in = -6\n",
    "\n",
    "def sigmoid(z):\n",
    "    g = 1 / (1 + np.exp(-z))\n",
    "    return g\n",
    "\n",
    "# prediction function\n",
    "def z_function(x, w, b):\n",
    "    log_reg = np.dot(w, x) + b\n",
    "    return log_reg\n",
    "\n",
    "# make predictions\n",
    "z = z_function(x_train, w_in, b_in)\n",
    "f_x = sigmoid(z)\n",
    "\n",
    "# create a new figure\n",
    "fig, ax = plt.subplots()\n",
    "\n",
    "# plot the data\n",
    "ax.scatter(x_train, y_train, color='blue', label='Data')\n",
    "\n",
    "# plot the predictions\n",
    "ax.plot(x_train, f_x, color='red', label='Logistic Regression')\n",
    "\n",
    "# setting labels\n",
    "ax.set_xlabel('Growing Rate')\n",
    "ax.set_ylabel('Malignant chance')\n",
    "\n",
    "# setting title\n",
    "ax.set_title('Tumour Classification')\n",
    "\n",
    "# legend positioning\n",
    "ax.legend(loc='best')\n",
    "\n",
    "plt.show()"
   ]
  },
  {
   "cell_type": "markdown",
   "metadata": {
    "id": "UqU9pM0IbyCZ"
   },
   "source": [
    "Based on the visualization above, we can say that if a patient comes in and he has a tumor of a certain size, and if based on this input, our model would add `0.6`, then what that means is that the model is predicting or the model thinks there is a 60 percent chance that the correct label y will equal `1` for this patient. In other words, the model is telling us that it thinks the patient has a 60 percent chance of the tumor turning malignant.\n",
    "\n",
    "Now, our question is if $y$ has a 60 percent chance of being `1`, what is its chance of being `0`? Don't we know that $y$ must be `0` or `1`?"
   ]
  },
  {
   "cell_type": "markdown",
   "metadata": {
    "id": "zNci-t0NbyCZ"
   },
   "source": [
    "#### Decision Boundaries\n",
    "\n",
    "The decision boundary is a **threshold that determines the class of an output**. In logistic regression, we use a function called the sigmoid function, which outputs a value between `0` and `1`. This output can be interpreted as the probability that a given input point belongs to a certain class.\n",
    "\n",
    "The equation of the decision boundary in the Logistic regression for a two-dimensional space (two features) is similar to the equation of a straight line and can be represented as:\n",
    "\n",
    "$$ \\mathbf{w} \\cdot \\mathbf{x}^{(i)} + b = 0 $$\n",
    "\n",
    "Once the logistic regression model is trained, it comes up with the optimal values for $w$ and $b$ such that the line defined by the equation best separates the two classes.\n",
    "\n",
    "For example, in our tumor classification problem, if the output of the sigmoid function is `0.6`, we can interpret this as there being a 60% chance that the tumor is malignant.\n",
    "\n",
    "![decision-boundaries](https://storage.googleapis.com/rg-ai-bootcamp/machine-learning/decision-boundaries-min.png)\n",
    "\n",
    "If we use a threshold of `0.5`, any data point that results in a **probability higher than or equal to `0.5` belongs to class-1 (malignant in our case)**, and any data point that results in a **probability less than `0.5` belongs to class-0 (benign)**. We normally use 0.5 because the Sigmoid function is usually centered around 0.5."
   ]
  },
  {
   "cell_type": "markdown",
   "metadata": {
    "id": "rUs30snkbyCZ"
   },
   "source": [
    "#### Cost Function for Logistic Regression\n",
    "\n",
    "Again, just like linear regression, we also need to calculate the cost function. Let's take an example from our data that we have added new features to our logistic regression model such as tumor size and patient age Let's call these features $x_1$ to $x_2$. Since this is a binary classification task, the target label $y$ takes only two values, `0` or `1`.\n",
    "\n",
    "|    Tumour Size (cm) ($x_1$)   |   Patient Age ($x_2$)   |  Malignant Status ($y$) |\n",
    "|:----------------------:|:--------------------:|:---------------------:|\n",
    "| 7.1            |       55            |           1             |\n",
    "| 3.2            |       30            |           0             |\n",
    "| 5.8            |       65            |           1             |\n",
    "| 2.0            |       20            |           0             |\n",
    "| 8.4            |       72            |           1             |\n",
    "| 4.2            |       40            |           0             |\n",
    "| 7.6            |       60            |           1             |\n",
    "| 2.5            |       25            |           0             |\n",
    "| 6.8            |       70            |           1             |\n",
    "| 1.7            |       22            |           0             |\n",
    "| 7.5            |       68            |           1             |\n",
    "| 3.1            |       35            |           0             |\n",
    "| 8.2            |       66            |           1             |\n",
    "| 2.2            |       28            |           0             |\n",
    "\n",
    "The logistic regression model is defined by this equation.\n",
    "\n",
    "$$ f(\\mathbf{x}^{(i)}) = g(\\mathbf{w} \\cdot \\mathbf{x}^{(i)} + b )$$\n",
    "\n",
    "where\n",
    "\n",
    "$$g(z) = \\frac{1}{1+e^{-z}}$$\n",
    "\n",
    "\n",
    "The question you want you to answer is, given this training set, how can you choose the parameters $w$ and $b$? This is where we will again use the cost function.\n",
    "\n",
    "You might remember that the cost function gives you a way to measure how well a certain set of parameters fit the training data. As such, it gives you a way to try to choose better parameters. The cost function measures how well the logistic regression model is doing on the training data. **It quantifies the error between the predicted probabilities (output of the sigmoid function) and the actual class labels in the training data**.\n",
    "\n",
    "In this dataset, the 'Tumour Size' and 'Patient Age' are the features that our Logistic Regression model will use to learn a function mapping these features to the output variable, 'Malignant Status'. The 'Malignant Status' tells us whether the tumor is malignant (`1`) or not (`0`). We assume that this data has already been collected and labeled as part of a medical research study.\n",
    "\n",
    "For logistic regression, we use a cost function called log loss. For a single training example, the cost is given by:\n",
    "\n",
    "$$ J(\\mathbf{w},b) = \\frac{1}{m} \\sum_{i=0}^{m-1} \\left[ loss(f_{\\mathbf{w},b}(\\mathbf{x}^{(i)}), y^{(i)}) \\right] $$\n",
    "\n",
    "where\n",
    "* $loss(f_{\\mathbf{w},b}(\\mathbf{x}^{(i)}), y^{(i)})$ is the cost for a single data point, which is:\n",
    "\n",
    "    $$loss(f_{\\mathbf{w},b}(\\mathbf{x}^{(i)}), y^{(i)}) = -y^{(i)} \\log\\left(f_{\\mathbf{w},b}\\left( \\mathbf{x}^{(i)} \\right) \\right) - \\left( 1 - y^{(i)}\\right) \\log \\left( 1 - f_{\\mathbf{w},b}\\left( \\mathbf{x}^{(i)} \\right) \\right) $$\n",
    "    \n",
    "*  where m is the number of training examples in the data set and:\n",
    "$$\n",
    "\\begin{align}\n",
    "  f_{\\mathbf{w},b}(\\mathbf{x^{(i)}}) &= g(z^{(i)}) \\\\\n",
    "  z^{(i)} &= \\mathbf{w} \\cdot \\mathbf{x}^{(i)}+ b \\\\\n",
    "  g(z^{(i)}) &= \\frac{1}{1+e^{-z^{(i)}}}\n",
    "\\end{align}\n",
    "$$\n",
    "\n",
    "Look at the code below, where the algorithm for `compute_cost_logistic` loops over all the examples calculating the loss for each example and accumulating the total."
   ]
  },
  {
   "cell_type": "code",
   "execution_count": 6,
   "metadata": {
    "id": "D14HAvMmbyCZ",
    "ExecuteTime": {
     "end_time": "2024-01-08T13:15:06.231393507Z",
     "start_time": "2024-01-08T13:15:06.226283838Z"
    }
   },
   "outputs": [],
   "source": [
    "def sigmoid(z):\n",
    "    \"\"\"\n",
    "    Compute the sigmoid of z\n",
    "\n",
    "    Parameters\n",
    "    ----------\n",
    "    z : array_like\n",
    "        A scalar or numpy array of any size.\n",
    "\n",
    "    Returns\n",
    "    -------\n",
    "     g : array_like\n",
    "         sigmoid(z)\n",
    "    \"\"\"\n",
    "    g = 1.0/(1.0+np.exp(-z))\n",
    "\n",
    "    return g\n",
    "\n",
    "\n",
    "eps = 1e-7\n",
    "def compute_cost_logistic(X, y, w, b):\n",
    "    \"\"\"\n",
    "    Computes cost\n",
    "\n",
    "    Args:\n",
    "      X (ndarray (m,n)): Data, m examples with n features\n",
    "      y (ndarray (m,)) : target values\n",
    "      w (ndarray (n,)) : model parameters\n",
    "      b (scalar)       : model parameter\n",
    "\n",
    "    Returns:\n",
    "      cost (scalar): cost\n",
    "    \"\"\"\n",
    "\n",
    "    m = X.shape[0]\n",
    "    cost = 0.0\n",
    "    for i in range(m):\n",
    "        z_i = np.dot(X[i],w) + b\n",
    "        f_wb_i = sigmoid(z_i)\n",
    "\n",
    "        cost += -y[i]*np.log(f_wb_i + eps) - (1-y[i])*np.log(1-f_wb_i + eps)\n",
    "\n",
    "    cost = cost / m\n",
    "    return cost"
   ]
  },
  {
   "cell_type": "code",
   "execution_count": 7,
   "metadata": {
    "id": "gIC32rY1byCa",
    "outputId": "8f799a16-a181-4838-dfc9-3225bb7e6aef",
    "ExecuteTime": {
     "end_time": "2024-01-08T13:15:06.248168159Z",
     "start_time": "2024-01-08T13:15:06.232561846Z"
    }
   },
   "outputs": [
    {
     "name": "stdout",
     "output_type": "stream",
     "text": [
      "Number of errors: 7.9914896501466695\n"
     ]
    }
   ],
   "source": [
    "import numpy as np\n",
    "\n",
    "X_train = np.array([[7.1, 55], [3.2, 30], [5.8, 65], [2.0, 20], [8.4, 72],\n",
    "              [4.2, 40], [7.6, 60], [2.5, 25], [6.8, 70], [1.7, 22],\n",
    "              [7.5, 68], [3.1, 35], [8.2, 66], [2.2, 28]])\n",
    "\n",
    "y_train = np.array([1, 0, 1, 0, 1, 0, 1, 0, 1, 0, 1, 0, 1, 0])\n",
    "\n",
    "w = np.array([1,1])\n",
    "b = -6\n",
    "\n",
    "cost = compute_cost_logistic(X_train, y_train, w, b)\n",
    "print(f\"Number of errors: {cost}\")"
   ]
  },
  {
   "cell_type": "markdown",
   "metadata": {
    "id": "pV60ISU2byCa"
   },
   "source": [
    "Based on the data owned and the value of $w$ and $b$, when viewed from the results of the `compute_cost_logistic` function, the total mistakes we got were `7.9915`.\n",
    "\n",
    "Then, is the best amount? Then how do you do it? In other words we want to get the best $w$ and $b$ values that **make the lines as close as possible to the spread points**.\n",
    "\n",
    "Again, at this stage we can use the Scikit-learn library."
   ]
  },
  {
   "cell_type": "markdown",
   "metadata": {
    "id": "x3psxqAHbyCa"
   },
   "source": [
    "#### Logistic Regression using Scikit-Learn\n",
    "\n",
    "Just like Linear Regression, for our Logistic Regression model, sklearn provides the `LogisticRegression` class in the `sklearn.linear_model module`.\n",
    "\n",
    "Here's how you can do it:"
   ]
  },
  {
   "cell_type": "code",
   "execution_count": 8,
   "metadata": {
    "id": "-_a7xqLHbyCa",
    "outputId": "f9909c29-2eeb-436c-84f7-ac2335dd75d8",
    "ExecuteTime": {
     "end_time": "2024-01-08T13:15:06.535322149Z",
     "start_time": "2024-01-08T13:15:06.239728217Z"
    }
   },
   "outputs": [
    {
     "name": "stdout",
     "output_type": "stream",
     "text": [
      "Coefficients: [[0.088 0.466]]\n",
      "Intercept: [-22.634]\n"
     ]
    }
   ],
   "source": [
    "import numpy as np\n",
    "from sklearn.linear_model import LogisticRegression\n",
    "\n",
    "# your data\n",
    "x_train = np.array([[7.1, 55], [3.2, 30], [5.8, 65], [2.0, 20], [8.4, 72],\n",
    "              [4.2, 40], [7.6, 60], [2.5, 25], [6.8, 70], [1.7, 22],\n",
    "              [7.5, 68], [3.1, 35], [8.2, 66], [2.2, 28]])\n",
    "y_train = np.array([1, 0, 1, 0, 1, 0, 1, 0, 1, 0, 1, 0, 1, 0])\n",
    "\n",
    "lr_model = LogisticRegression()\n",
    "lr_model.fit(x_train, y_train)\n",
    "\n",
    "coefficient = lr_model.coef_\n",
    "intercept = lr_model.intercept_\n",
    "print(f\"Coefficients: {coefficient}\")\n",
    "print(f\"Intercept: {intercept}\")"
   ]
  },
  {
   "cell_type": "markdown",
   "metadata": {
    "id": "wjJP00Q5byCa"
   },
   "source": [
    "From the results of the code above, the $w$ (coefficient) value is `0.08773648` and `0.4661736`, and for $b$ (intercept) is `-22.63354811`. That way we can produce the minimum possible error/loss value. Now we look again at the data we have with the new $w$ and $b$ values and what error/loss we get."
   ]
  },
  {
   "cell_type": "code",
   "execution_count": 9,
   "metadata": {
    "id": "rLrI7IV0byCa",
    "outputId": "c411143f-746d-4dd4-bb05-ade23a391bba",
    "ExecuteTime": {
     "end_time": "2024-01-08T13:15:06.582614652Z",
     "start_time": "2024-01-08T13:15:06.536905912Z"
    }
   },
   "outputs": [
    {
     "name": "stdout",
     "output_type": "stream",
     "text": [
      "Number of errors: 0.004169320992196987\n"
     ]
    }
   ],
   "source": [
    "w = np.array([0.08773648, 0.4661736 ])\n",
    "b = -22.63354811\n",
    "\n",
    "cost = compute_cost_logistic(X_train, y_train, w, b)\n",
    "print(f\"Number of errors: {cost}\")"
   ]
  },
  {
   "cell_type": "markdown",
   "metadata": {
    "id": "GzJFF3kcbyCa"
   },
   "source": [
    "We can see that the error/loss has decreased from `7.9914` to `0.0042`. In this way, the accuracy of tumor classification will increase."
   ]
  },
  {
   "cell_type": "markdown",
   "metadata": {
    "id": "IioJu0YObyCa"
   },
   "source": [
    "Besides helping us determine the right values for the $w$ and $b$ parameters, the sklearn library can also help us calculate the accuracy of our data. Let's start with the dataset and the prediction made by this model by calling the `predict` function:"
   ]
  },
  {
   "cell_type": "code",
   "execution_count": 10,
   "metadata": {
    "id": "JJX6s5eybyCb",
    "outputId": "0c90eb7d-aac8-488c-db7a-98afcf4ac68f",
    "ExecuteTime": {
     "end_time": "2024-01-08T13:15:06.583273085Z",
     "start_time": "2024-01-08T13:15:06.582375517Z"
    }
   },
   "outputs": [
    {
     "name": "stdout",
     "output_type": "stream",
     "text": [
      "Prediction on training set: [1 0 1 0 1 0 1 0 1 0 1 0 1 0]\n"
     ]
    }
   ],
   "source": [
    "y_pred = lr_model.predict(x_train)\n",
    "\n",
    "print(\"Prediction on training set:\", y_pred)"
   ]
  },
  {
   "cell_type": "markdown",
   "metadata": {
    "id": "UdcV_JkibyCb"
   },
   "source": [
    "Now, we can calculate this accuracy of this model by calling the `score` function. The output of `score` is a scalar in the form of a float number between `0` and `1` indicating the percentage of samples correctly classified by the model.\n",
    "- `1`: the model successfully classified all samples correctly\n",
    "- `0`: the model failed to classify all samples."
   ]
  },
  {
   "cell_type": "code",
   "execution_count": 11,
   "metadata": {
    "id": "2n1vMBf7byCb",
    "outputId": "fcc3a6f5-9bc0-4105-e6fe-f9f252aeb56c",
    "ExecuteTime": {
     "end_time": "2024-01-08T13:15:06.583576929Z",
     "start_time": "2024-01-08T13:15:06.582562133Z"
    }
   },
   "outputs": [
    {
     "name": "stdout",
     "output_type": "stream",
     "text": [
      "Accuracy on training set: 1.0\n"
     ]
    }
   ],
   "source": [
    "print(\"Accuracy on training set:\", lr_model.score(x_train, y_train))"
   ]
  },
  {
   "cell_type": "markdown",
   "metadata": {
    "id": "mmRwl28xbyCb"
   },
   "source": [
    "If you look at the score result (`1`), it means that the model we used successfully predicted all the labels correctly for the given dataset. In other words, the model has 100% accuracy based on the data we used in the `score` method.\n",
    "\n",
    "However, it is necessary to be careful in evaluating this result.\n",
    "\n",
    "1. **Overfitting**: If you see `1` or 100% accuracy on the training dataset, the model may have overfit. That is, the model may have learned the details and noise on the training dataset specifically, at a level where it goes beyond learning the underlying concepts. Overfitting causes the model to be unable to generalize well to new data. We'll cover more on overfitting later on in the course.\n",
    "\n",
    "2. **Evaluation on Training Data**: If you use training data for evaluation (which is done when you call back training data for `score`), then the results tend to be overoptimistic because the model has 'seen' this training data before. It is always important to evaluate the model's performance on validation or testing data sets that the model has not 'seen' to get an unbiased estimate of how the model will perform on data that it has not seen before.\n",
    "\n",
    "3. **Data is Easy to Predict**: In some cases, the data may be simple enough or the patterns clear enough that the model is able to achieve `1` accuracy. However, this tends to apply to simple or synthetic datasets, and rarely to complex and messy real-world data.\n",
    "\n",
    "So while a `1` score may initially seem like a great result, it could be a sign that you need to examine in more detail how your model works and how you test your model."
   ]
  }
 ],
 "metadata": {
  "kernelspec": {
   "display_name": "Python 3 (ipykernel)",
   "language": "python",
   "name": "python3"
  },
  "language_info": {
   "codemirror_mode": {
    "name": "ipython",
    "version": 3
   },
   "file_extension": ".py",
   "mimetype": "text/x-python",
   "name": "python",
   "nbconvert_exporter": "python",
   "pygments_lexer": "ipython3",
   "version": "3.11.3"
  },
  "colab": {
   "provenance": []
  }
 },
 "nbformat": 4,
 "nbformat_minor": 0
}
