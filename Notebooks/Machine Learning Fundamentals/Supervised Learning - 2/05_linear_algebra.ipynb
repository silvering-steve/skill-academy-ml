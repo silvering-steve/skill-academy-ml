{
  "cells": [
    {
      "cell_type": "markdown",
      "metadata": {
        "id": "DkA9UkNFO0fC"
      },
      "source": [
        "# Visualizing linear algebra as vector spaces\n",
        "\n",
        "Learning matrices, dot product, linear transformation, or anything that is related to linear algebra can be a bit abstract and can be daunting. One of the best ways to understand linear algebra is to visualize it because surprisingly, linear algebra can be a lot easier to understand when you can see it.\n"
      ]
    },
    {
      "cell_type": "markdown",
      "metadata": {
        "id": "t-MIi5cJO0fH"
      },
      "source": [
        "# Vector\n",
        "\n",
        "<video controls src=\"https://storage.googleapis.com/rg-ai-bootcamp/machine-learning/SingleVectorScene.mp4\"></video>\n",
        "\n",
        "There should be a video above, if it does not load, click this link: [Single Vector Scene](https://storage.googleapis.com/rg-ai-bootcamp/machine-learning/SingleVectorScene.mp4)\n",
        "\n",
        "A single vector is a single data point that has multiple dimensions and placed in a dimensional space, which a single dimension represents a single feature. A feature is a single property of a data point.\n",
        "\n",
        "For example, if we have a data point of a person's height and weight, we can represent it as a vector of 2 dimensions, where the first dimension is the height (which we can represent as x axis) and the second dimension is the weight (which we can represent as y axis). Each dimension is a feature of the data point.\n",
        "\n",
        "Here is an example for a vector of 3 dimensions (plotted at x = 2, y = 2, z = 2):\n",
        "\n",
        "![](https://storage.googleapis.com/rg-ai-bootcamp/machine-learning/Axes3DExample_ManimCE_v0.18.0-min.gif)"
      ]
    },
    {
      "cell_type": "markdown",
      "metadata": {
        "id": "_wiDysaCO0fH"
      },
      "source": [
        "# Matrix\n",
        "\n",
        "In linear algebra a dataset is represented as a matrix. A matrix is a collection of vectors. Every column in a matrix is a vector and every row is a property of the data, it's commonly called a feature.\n",
        "\n",
        "$\\begin{bmatrix} x \\\\ y \\\\ z \\end{bmatrix}$\n",
        "\n",
        "Above is a single data point of 3 dimensions or 3 features.\n",
        "\n",
        "$\\begin{bmatrix} x_0 & x_1 & \\ldots & x_n \\\\ y_0 & y_1 & \\ldots & y_n \\\\ z_0 & z_1 & \\ldots & z_n \\end{bmatrix}$\n",
        "\n",
        "Above matrix we have 3 dimensions or 3 features, and n data points. For example if we have data for student's evaluation result, every dimension can be the student's score for each subject (for example math for x, physics for y, and chemistry for z), and every row is a student.\n",
        "\n",
        "The concept when we're grouping several vectors into a matrix, it's called an **augmented matrix**."
      ]
    },
    {
      "cell_type": "markdown",
      "metadata": {
        "id": "VydV3wZfO0fI"
      },
      "source": [
        "# No curves\n",
        "\n",
        "In linear algebra, we don't have curves. The vectors will always be straight. Unlike in calculus where we have curves if we're working with polynomial functions."
      ]
    },
    {
      "cell_type": "markdown",
      "metadata": {
        "id": "H1nmQlMaO0fI"
      },
      "source": [
        "## The manipulation of space: Essence of linear algebra\n",
        "\n",
        "Below we have 2 x 1 matrix (2 rows and 1 column) which is a vector of 2 dimensions.\n",
        "\n",
        "$\\begin{bmatrix} x \\\\ y \\end {bmatrix} \\rightarrow \\begin{bmatrix} 2 \\\\ 1 \\end{bmatrix} $\n",
        "\n",
        "Of course you should've already been familiar with matrix multiplication like below formula\n",
        "\n",
        "$\\begin{bmatrix} 0 & -1 \\\\ 1 & 0 \\end{bmatrix} \\begin{bmatrix} 2 \\\\ 1 \\end{bmatrix} = \\begin{bmatrix} -1 \\\\ 2 \\end{bmatrix}$\n",
        "\n",
        "But do you know we can visualize above \"tranformation\" to a \"space manipulation\" like below?\n",
        "\n",
        "<video controls src=\"https://storage.googleapis.com/rg-ai-bootcamp/machine-learning/MatrixMultiplicationScene.mp4\"></video>\n",
        "\n",
        "There should be a video above, if it does not load, click this link: [Matrix Multiplication Scene](https://storage.googleapis.com/rg-ai-bootcamp/machine-learning/MatrixMultiplicationScene.mp4)\n",
        "\n",
        "As you can see, our $\\begin{bmatrix} 2 \\\\ 1 \\end{bmatrix}$ is transformed to $\\begin{bmatrix} -1 \\\\ 2 \\end{bmatrix}$ matrix\n",
        "\n",
        "This $\\begin{bmatrix} 0 & -1 \\\\ 1 & 0 \\end{bmatrix}$ matrix is also known as rotation matrix, and for this matrix it will rotate the vector 90 degrees counter-clockwise.\n"
      ]
    },
    {
      "cell_type": "markdown",
      "metadata": {
        "id": "NjyfLoorO0fJ"
      },
      "source": [
        "## Augmented matrix\n",
        "\n",
        "So if we have lots of data points, we can transform all of them using this very same matrix. For example if we have 6 data points, we can represent them as a matrix of 2 x 6 (2 rows and 6 columns) like below\n",
        "\n",
        "$$\\begin{bmatrix}\n",
        "    0 & -1 \\\\\n",
        "    1 & 0\n",
        "\\end{bmatrix}\n",
        "\\begin{bmatrix}\n",
        "    2 & 3 & -3 & -2 & 4 & 2 \\\\\n",
        "    1 & 3 & 1 & -3 & -3 & 0\n",
        "\\end{bmatrix} =\n",
        "\\begin{bmatrix}\n",
        "    -1 & -3 & -1 & 3 & 3 & 0 \\\\\n",
        "    2 & 3 & -3 & -2 & 4 & 2\n",
        "\\end{bmatrix}\n",
        "$$\n",
        "\n",
        "Every column represents a vector (your data) while every row represents a feature of the data (eg if we have 3 rows we can visualize it as x, y, and z axis).\n",
        "\n",
        "And the visualization of the transformation is like below\n",
        "\n",
        "<video controls src=\"https://storage.googleapis.com/rg-ai-bootcamp/machine-learning/MultipleDataMatrixMultiplicationScene.mp4\"></video>\n",
        "\n",
        "There should be a video above, if it does not load, click this link: [Multiple Data Matrix Multiplication Scene](https://storage.googleapis.com/rg-ai-bootcamp/machine-learning/MultipleDataMatrixMultiplicationScene.mp4)\n"
      ]
    },
    {
      "cell_type": "markdown",
      "metadata": {
        "id": "oL8i_dDKO0fJ"
      },
      "source": [
        "And as you can see that the transformation matrix is placed on the left side of the data matrix (the matrix that contains our data points). So let's visualize below equation where we have 2 linear transformations:\n",
        "\n",
        "$$\n",
        "\\begin{bmatrix}\n",
        "1 & 0.5 \\\\\n",
        "    0 & 1\n",
        "\\end{bmatrix}\n",
        "\\begin{bmatrix}\n",
        "0 & -1 \\\\\n",
        "    1 & 0\n",
        "\\end{bmatrix}\n",
        "\\begin{bmatrix} 2 & 3 & -3 & -2 & 4 & 2 \\\\ 1 & 3 & 1 & -3 & -3 & 0 \\end{bmatrix}\n",
        "=\\\\\n",
        "$$\n",
        "\n",
        "$$\n",
        "\\begin{bmatrix}\n",
        "1 & 0.5 \\\\\n",
        "    0 & 1\n",
        "\\end{bmatrix}\n",
        "\\begin{bmatrix}\n",
        "-1 & -3 & -1 & 3 & 3 & 0 \\\\\n",
        "2 & 3 & -3 & -2 & 4 & 2 \\\\\n",
        "\\end{bmatrix}\n",
        "=\\\\\\\\\n",
        "$$\n",
        "\n",
        "$$\n",
        "\\begin{bmatrix}\n",
        "0 & -1.5 & -2.5 & 2 & 5 & 1 \\\\\n",
        "2 & 3 & -3 & -2 & 4 & 2\n",
        "\\end{bmatrix}\n",
        "$$\n",
        "\n",
        "\n",
        "\n",
        "<video controls src=\"https://storage.googleapis.com/rg-ai-bootcamp/machine-learning/MultipleDataMatrixMultiplicationSceneThenSkew.mp4\"></video>\n",
        "\n",
        "There should be a video above, if it does not load, click this link: [Multiple Data Matrix Multiplication Scene Then Skew](https://storage.googleapis.com/rg-ai-bootcamp/machine-learning/MultipleDataMatrixMultiplicationSceneThenSkew.mp4)\n",
        "\n",
        "Before reading further, please try to follow one of the vector (choose any of vector from the matrix, try to see where it is in the visualization) to get the feel of the transformation.\n",
        "\n",
        "So for matrix transformation, it's done from right to left. First we transform our data matrix with the most right transformation matrix, then we transform the result with the next matrix to the left, and so on. Remember that matrix multiplication is not commutative, so the order of the matrix matters.\n",
        "\n",
        "Why it's done from right to left? Basically it's because it's the convention. We can think about it like we're applying function from right to left. So if we want to multiply matrix A and B and C, we can think about it as $A(B(C))$, we \"run\" the function of $B(C)$ first, given that the result is D, then we run the function of $A(D)$.\n",
        "\n",
        "Additional note is that below matrix\n",
        "\n",
        "$$\n",
        "\\begin{bmatrix} 1 & 0.5 \\\\\n",
        "    0 & 1\n",
        "\\end{bmatrix}\n",
        "$$\n",
        "\n",
        "Is called **shear matrix**, where it will skew our vectors which you can see yourself in the visualization above, right after the 90 degrees rotation matrix applied."
      ]
    },
    {
      "cell_type": "markdown",
      "metadata": {
        "id": "yimrIrwOO0fK"
      },
      "source": [
        "# Intuition of linear transformation\n",
        "\n",
        "![](https://storage.googleapis.com/rg-ai-bootcamp/machine-learning/linear-transformation-1-min.png)"
      ]
    },
    {
      "cell_type": "markdown",
      "metadata": {
        "id": "k7BeYjLLO0fK"
      },
      "source": [
        "Let's try to get some intuition for some of the linear transformation. For example if we have vector $\\begin{bmatrix} 2 \\\\ 1 \\end{bmatrix}$, how can we rotate it 90 degrees counter-clockwise?\n",
        "\n",
        "We can do that by visualizing how he vector end up after the transformation. For our matrix of $\\begin{bmatrix} 2 \\\\ 1 \\end{bmatrix}$, we can see that after the transformation, the vector end up at $\\begin{bmatrix} -1 \\\\ 2 \\end{bmatrix}$.\n",
        "\n",
        "So how do we deduce the transformation matrix from that?\n",
        "\n",
        "As we can see, our previous $\\begin{bmatrix} x \\\\ y \\end{bmatrix}$ is transformed to $\\begin{bmatrix} -y \\\\ x \\end{bmatrix}$. And because transformation matrix rows and columns must match the dimension of the vector that we're transforming, we can define below matrix\n",
        "\n",
        "$$\n",
        "\\begin{bmatrix}\n",
        "a & b \\\\\n",
        "c & d\n",
        "\\end{bmatrix} \\begin{bmatrix} x \\\\ y \\end{bmatrix} = \\begin{bmatrix} -y \\\\ x \\end{bmatrix}\n",
        "$$\n",
        "\n",
        "$a$ can be thought as what value from previous x that we want to put to the new $x$, let's say it's $x'$.\n",
        "\n",
        "$$\n",
        "\\begin{bmatrix}\n",
        "a & b \\\\\n",
        "c & d\n",
        "\\end{bmatrix} \\begin{bmatrix} x \\\\ y \\end{bmatrix} = \\begin{bmatrix} -y \\\\ x \\end{bmatrix} = \\begin{bmatrix} x' \\\\ y' \\end{bmatrix}\n",
        "$$\n",
        "\n",
        "Which as we can see that\n",
        "\n",
        "$$\n",
        "ax + by = -y = x' \\\\\n",
        "cx + dy = x = y'\n",
        "$$\n",
        "\n",
        "As we can see from our transformed matrix which is $\\begin{bmatrix} -y \\\\ x \\end{bmatrix}$, the previous $x$ is not carried over to $x'$ (because as we can see that $x'$ = $-y$), so we can deduce that $a$ is 0.\n",
        "\n",
        "$$\n",
        "0x + by = -y = x' \\\\\n",
        "by = -y \\\\\n",
        "b = -1\n",
        "$$\n",
        "\n",
        "Next for $cx + dy = x = y'$, we can deduce that $y$ is not carried over to $y'$ because $y'$ = $x$, so we can deduce that $d$ is 0.\n",
        "\n",
        "$$\n",
        "cx + 0y = x = y' \\\\\n",
        "cx = x \\\\\n",
        "c = 1\n",
        "$$\n",
        "\n",
        "So now we can deduce that our transformation matrix for 90 degrees counter-clockwise rotation is\n",
        "\n",
        "$$\n",
        "\\begin{bmatrix}\n",
        "0 & -1 \\\\\n",
        "1 & 0\n",
        "\\end{bmatrix}\n",
        "$$"
      ]
    },
    {
      "cell_type": "markdown",
      "metadata": {
        "id": "eZa-0twEO0fL"
      },
      "source": [
        "# Exercise 1\n",
        "\n",
        "![](https://storage.googleapis.com/rg-ai-bootcamp/machine-learning/linear-transformation-2-min.png)\n",
        "\n",
        "Above is a visualization of a linear transformation of 180 degrees rotation. Try to deduce the transformation matrix for this linear transformation.\n",
        "\n",
        "> Note: The submission will be in python list such as `[[a, b], [c, d]]`, where it will be equivalent to $\\begin{bmatrix} a & b \\\\ c & d \\end{bmatrix}$ matrix"
      ]
    },
    {
      "cell_type": "code",
      "execution_count": null,
      "metadata": {
        "id": "qCCXhciSO0fL"
      },
      "outputs": [],
      "source": [
        "!pip install rggrader"
      ]
    },
    {
      "cell_type": "code",
      "execution_count": null,
      "metadata": {
        "id": "9ennIqAVO0fN"
      },
      "outputs": [],
      "source": [
        "from rggrader import submit\n",
        "\n",
        "# @title #### Student Identity\n",
        "student_id = \"your student id\" # @param {type:\"string\"}\n",
        "name = \"your name\" # @param {type:\"string\"}"
      ]
    },
    {
      "cell_type": "code",
      "execution_count": null,
      "metadata": {
        "id": "2Aofvqv4O0fN"
      },
      "outputs": [],
      "source": [
        "assignment_id = \"14_linear-algebra\"\n",
        "question_id = \"01_180_rotation_matrix\"\n",
        "matrix = [[0, 0], [0, 0]]\n",
        "submit(student_id, name, assignment_id, str(matrix), question_id)"
      ]
    },
    {
      "cell_type": "markdown",
      "metadata": {
        "id": "6z-PHIx9O0fN"
      },
      "source": [
        "# Exercise 2\n",
        "\n",
        "![](https://storage.googleapis.com/rg-ai-bootcamp/machine-learning/linear-transformation-3-min.png)\n",
        "\n",
        "Above is the visualization of a linear transformation of 90 degrees clockwise rotation. Try to deduce the transformation matrix for this linear transformation."
      ]
    },
    {
      "cell_type": "code",
      "execution_count": null,
      "metadata": {
        "id": "BXdd_V23O0fN"
      },
      "outputs": [],
      "source": [
        "!pip install rggrader"
      ]
    },
    {
      "cell_type": "code",
      "execution_count": null,
      "metadata": {
        "id": "v9St3YQLO0fN"
      },
      "outputs": [],
      "source": [
        "from rggrader import submit\n",
        "\n",
        "# @title #### Student Identity\n",
        "student_id = \"your student id\" # @param {type:\"string\"}\n",
        "name = \"your name\" # @param {type:\"string\"}"
      ]
    },
    {
      "cell_type": "code",
      "execution_count": null,
      "metadata": {
        "id": "Yh6RauNBO0fO"
      },
      "outputs": [],
      "source": [
        "assignment_id = \"14_linear-algebra\"\n",
        "question_id = \"02_90_rotation_matrix\"\n",
        "matrix = [[0, 0], [0, 0]]\n",
        "submit(student_id, name, assignment_id, str(matrix), question_id)"
      ]
    },
    {
      "cell_type": "markdown",
      "metadata": {
        "id": "gHnlV7KCO0fO"
      },
      "source": [
        "# Vectors vs Points\n",
        "\n",
        "In linear algebra, we're working with vectors, but we can use points to represent vectors visually especially if we're working with lots of vectors - It's just get overwhelming to see bunch of arrows rather than just bunch of dots.\n",
        "\n",
        "<video controls src=\"https://storage.googleapis.com/rg-ai-bootcamp/machine-learning/MultipleDataMatrixMultiplicationWithPoints.mp4\"></video>\n",
        "\n",
        "There should be a video above, if it does not load, click this link: [Multiple Data Matrix Multiplication With Points](https://storage.googleapis.com/rg-ai-bootcamp/machine-learning/MultipleDataMatrixMultiplicationWithPoints.mp4)"
      ]
    },
    {
      "cell_type": "markdown",
      "metadata": {
        "id": "8Z35ppe2O0fO"
      },
      "source": [
        "# Vector length\n",
        "\n",
        "The length of a vector is the distance from the origin of the dimensional space to the vector's position. The length of a vector is also known as the magnitude of a vector.\n",
        "\n",
        "\n"
      ]
    },
    {
      "cell_type": "markdown",
      "metadata": {
        "id": "AlvK7iHQO0fO"
      },
      "source": [
        "## Norm\n",
        "\n",
        "### Manhattan norm\n",
        "![](https://storage.googleapis.com/rg-ai-bootcamp/machine-learning/manhattan-1-min.png)\n",
        "\n",
        "Manhattan norm is how to measure distance between 2 points by \"walking\" through the grid without ever going diagonally. So for above 2 vectors we have (2, 4) and (5, 8), and by counting every step we take to reach the destination, we can calculate the distance between those 2 vectors is 7.\n",
        "\n",
        "Now, let's generalize. Above steps that we've taken basically can be rearranged to below image\n",
        "\n",
        "![](https://storage.googleapis.com/rg-ai-bootcamp/machine-learning/manhattan-2-min.png)\n",
        "\n",
        "And above image can be summarized to below image\n",
        "\n",
        "![](https://storage.googleapis.com/rg-ai-bootcamp/machine-learning/manhattan-3-min.png)\n",
        "\n",
        "So basically on manhattan norm we can calculate the distance from (2, 4) to (5, 8) by walking 3 steps to the right (5 is our destination, and 2 is our origin, 5 - 2 = 3) and 4 steps to the top (8 is our destination, and 4 is our origin, 8 - 4 = 4). So the distance is 3 + 4 = 7. If we formalize it, we have below formula:\n",
        "\n",
        "$$\n",
        "\\text{Manhattan norm} = |a_1 - b_1| + |a_2 - b_2|\n",
        "$$\n",
        "\n",
        "Where `a` is our origin and `b` is our destination and the subscript 1 and 2 is the single data point on that vector (eg $a_1$ is the first data point on vector `a`, for vector of (2, 4) it will be 2, and for vector of (5, 8) it will be 5).\n",
        "\n",
        "This can later be generalized to more than 2 dimensions:\n",
        "\n",
        "$$\n",
        "\\text{Manhattan norm} = \\sum_{i=1}^{n} |a_i - b_i|\n",
        "$$\n",
        "\n",
        "Where `n` is the number of dimensions/features of the vector.\n",
        "\n",
        "Note that the notation for the manhattan norm is $||x||_1$ or $||x||_M$"
      ]
    },
    {
      "cell_type": "markdown",
      "metadata": {
        "id": "wB8xhfnXO0fO"
      },
      "source": [
        "### Euclidean norm\n",
        "\n",
        "![](https://storage.googleapis.com/rg-ai-bootcamp/machine-learning/euclidean-1-min.png)\n",
        "\n",
        "After understanding manhattan norm, euclidean norm can be understood easily. Euclidean norm is basically \"enabling\" us to go diagonally. So for above 2 vectors we have (2, 4) and (5, 8), and by using pythagoras theorem we can calculate the distance between those 2 vectors is\n",
        "\n",
        "$$\n",
        "\\sqrt{(5 - 2)^2 + (8 - 4)^2} = \\sqrt{9 + 16} = \\sqrt{25} = 5\n",
        "$$\n",
        "\n",
        "This pythagoras theorem can held true for any number of dimensions, so we can generalize it to below formula:\n",
        "\n",
        "$$\n",
        "\\text{Euclidean norm} = \\sqrt{\\sum_{i=1}^{n} (a_i - b_i)^2}\n",
        "$$\n",
        "\n",
        "Where `n` is the number of dimensions/features of the vector.\n",
        "\n",
        "Then the notation for the euclidean norm is $||x||_2$, and most of the times if no subscript is given (only $||x||$), it most likely means euclidean norm."
      ]
    },
    {
      "cell_type": "markdown",
      "metadata": {
        "id": "Ycjx_2v4O0fO"
      },
      "source": [
        "# Summarization of manhattan and euclidean norm\n",
        "\n",
        "To summarize between manhattan and euclidean norm, below is the visualization:\n",
        "\n",
        "![](https://storage.googleapis.com/rg-ai-bootcamp/machine-learning/euclidean-manhattan-min.png)"
      ]
    },
    {
      "cell_type": "markdown",
      "metadata": {
        "id": "Hjfihg74O0fP"
      },
      "source": [
        "# Hundreds Of Dimensions And the Amazing Applications\n",
        "\n",
        "Linear algebra allowing us to \"playing\" with higher-dimensional space, so the calculation is not bound to 2 or 3 dimensions. We can have hundreds of dimensions, even thousands of dimensions, even though it's impossible for us to visualize it, because we can just scale the calculation that we have on 2 and 3 dimensions to higher dimensions. For our learning we'll mostly working with 2 dimensions to make it easier to visualize and understand, but every formula is scalable to billions of dimensions.\n",
        "\n",
        "This kind of calculation is basically what is happening in Natural Language Processing (NLP), Computer Vision (CV), Audio Processing, and other fields that are using deep learning. The data is mostly saved as a matrix with hundreds or thousands of dimensions, and then it's processed by calculating it with other matrices, and then the result is converted back to something that we as humans can understand. Amazing isn't it? A really complex machine learning models like GPT is basically just a bunch of matrix multiplications, data transformed in higher dimensional space, and then converted back to something that we can understand, by, again, just a bunch of matrix multiplications."
      ]
    }
  ],
  "metadata": {
    "kernelspec": {
      "display_name": "Python 3 (ipykernel)",
      "language": "python",
      "name": "python3"
    },
    "language_info": {
      "codemirror_mode": {
        "name": "ipython",
        "version": 3
      },
      "file_extension": ".py",
      "mimetype": "text/x-python",
      "name": "python",
      "nbconvert_exporter": "python",
      "pygments_lexer": "ipython3",
      "version": "3.11.3"
    },
    "colab": {
      "provenance": []
    }
  },
  "nbformat": 4,
  "nbformat_minor": 0
}