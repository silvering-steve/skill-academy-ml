{
  "cells": [
    {
      "cell_type": "markdown",
      "metadata": {
        "id": "C5DCPXDf_HVf"
      },
      "source": [
        "# k-Nearest Neighbors (kNN)"
      ]
    },
    {
      "cell_type": "markdown",
      "metadata": {
        "id": "DLeekeFX_HVj"
      },
      "source": [
        "##   Introduction\n",
        "\n",
        "Imagine we're a doctor. We're often faced with the task of identifying whether a tumour is cancerous (malignant) or not cancerous (benign). Normally, we'd have to inspect medical images and rely on years of medical training to make this call. But what if a computer could help do this job?\n",
        "\n",
        "In our previous discussions, we discussed using a logistic regression method to do just this. But sometimes, real-life data isn't so straightforward. Take tumors for instance. Their characteristics can vary a lot. Some are small, some are big. Some are round, others are irregular in shape. When the straight \"line of best fit\" isn't the best fit for our data, we use different methods. One such method is the k-Nearest Neighbors (kNN) algorithm.\n",
        "\n",
        "In simplest term, let's just say that kNN is asking \"k\" neighbours around the prediction data and then make a decision based on the majority of those \"k\" closest data.\n",
        "\n",
        "Let's explore the kNN method in greater depth. We'll learn how to decide how many neighbours ($k$) to consider and how to use kNN to sort out tumours into malignant or benign."
      ]
    },
    {
      "cell_type": "markdown",
      "metadata": {
        "id": "XgVcQJKy_HVj"
      },
      "source": [
        "## What is k-Nearest Neighbors (kNN)?\n",
        "\n",
        "The k-Nearest Neighbors (kNN) is a type of machine learning algorithm. It's like the helpful neighbour we call on when we need advice, but with a twist.\n",
        "\n",
        "In machine learning, we often want our computer (also referred to as a model) to learn from past data to make future decisions or predictions. The kNN algorithm is one such tool that helps in this learning.\n",
        "\n",
        "The concept of kNN is quite simple and is used for both classification and regression tasks.\n",
        "\n",
        "- **Classification**\n",
        "\n",
        "  Classification is like sorting objects into buckets. For example, deciding if an email is 'spam' or 'not spam', or classifying a tumor as 'malignant' or 'benign' are classification problems. Here, the kNN algorithm sorts a new object (like an email or a tumour) into a category based on how similar it is to objects it already knows about.\n",
        "\n",
        "- **Regression**\n",
        "\n",
        "  Regression, on the other hand, is like predicting a number. For example, predicting a house's price based on features like the number of bedrooms, location, and size. Here, the kNN algorithm predicts a new number based on the existing numbers it has seen that are most similar to the new entry.\n",
        "\n",
        "The \"k\" in kNN stands for the number of neighbours the algorithm checks with before making its decision or prediction. If we have \"5\" as our k value, the algorithm looks at the 5 closest neighbours (i.e., the 5 most similar data points) it already knows about to make its prediction. Finally, \"Nearest\" signifies that we consider only the closest or most similar data points to make this prediction."
      ]
    },
    {
      "cell_type": "markdown",
      "metadata": {
        "id": "Qgw0n6Qt_HVk"
      },
      "source": [
        "## How Does kNN Work?\n",
        "\n",
        "![Visualization](https://storage.googleapis.com/rg-ai-bootcamp/machine-learning/knn-visual-min.png)\n",
        "\n",
        "Source: [Youtube](https://youtu.be/Mhv-HxGSgHU?si=V7QlAsw_JM6sBgUa)\n",
        "\n",
        "Let's dive deeper into the k-Nearest Neighbors (kNN) method. Imagine that we are a doctor who examines the scan results of a tumour and decides whether the tumour is dangerous (malignant) or not (benign). We can think of kNN as a way to make decisions based on community wisdom.\n",
        "\n",
        "In this case, the so-called 'crowd' consists of tumours that have been previously examined. These past examples have known classifications—they can be malignant or benign. This is our training data.\n",
        "\n",
        "| Tumour size | Age | Status |\n",
        "|:-----------:|:---:|:------:|\n",
        "| 3.6         | 50  | 0      |\n",
        "| 6.6         | 31  | 1      |\n",
        "| 3.3         | 32  | 0      |\n",
        "| 8.1         | 21  | 1      |\n",
        "| 3.1         | 33  | 0      |\n",
        "| 5.6         | 30  | 1      |\n",
        "| 1.0         | 26  | 0      |\n",
        "| ...         | ..  | .      |\n",
        "| 1.2         | 44  | 0      |\n",
        "\n",
        "But how is our new tumour related to this 'crowd' of tumours?\n",
        "\n",
        "### Distance\n",
        "\n",
        "This is where the concept of 'distance' comes into play. We consider each feature of our tumour – such as tumour size and patient age – as a dimension. These dimensions form a space, and each tumour occupies a point in that space.\n",
        "\n",
        "The 'distance' between two tumours in this multidimensional space shows how similar they are. Two tumours that are small distances apart are very similar, whereas two tumours that are large distances are very different.\n",
        "\n",
        "![distance](https://storage.googleapis.com/rg-ai-bootcamp/machine-learning/distance-min.png)\n",
        "\n",
        "### Measuring distance\n",
        "\n",
        "How do we calculate this distance? There are many ways to calculate distance, one of which is by using Euclidean distance. Euclidean plays a role in measuring the distance between two points. The only difference here is that we can do it in more than two dimensions!\n",
        "\n",
        "![euclidean](https://storage.googleapis.com/rg-ai-bootcamp/machine-learning/euclidean-min.png)\n",
        "\n",
        "(Source: [medium.com/@luigi.fiori.lf0303](https://medium.com/@luigi.fiori.lf0303/distance-metrics-and-k-nearest-neighbor-knn-1b840969c0f4))\n",
        "\n",
        "For example, the Euclidean distance between tumours A and B uses the formula:\n",
        "$$d(x,y) = \\sqrt{\\sum_{i=1}^{m}(x_i - y_i)^2}$$\n",
        "\n",
        "In each dimension, we calculate the difference between the two points' values, which gives us the length of that dimension's \"side\" of the hypothetical triangle. We then square this length and add it to our ongoing sum. Taking the square root of this cumulative sum yields our Euclidean distance.\n",
        "\n",
        "Besides Euclidean, there are also other ways to measure distance, such as **Manhattan Distance** or **Minkowski Distance**, but Euclidean is the most common.\n",
        "\n",
        "### Neighbours\n",
        "\n",
        "Now that we have a way to calculate distance, how do we use it to classify our new tumour?\n",
        "\n",
        "Remember the 'k' in kNN. This is where this comes into play.\n",
        "\n",
        "If k=3, the system will check the 3 tumours 'closest' to the new tumour.\n",
        "\n",
        "If k=6, the system will check the 6 tumours 'closest' to the new tumour.\n",
        "\n",
        "- If more of the 'nearest neighbours' are benign, the system will classify the new tumour as benign.\n",
        "- If more of the 'nearest neighbours' are malignant, it classifies the new tumour as malignant.\n",
        "\n",
        "![k-illustration](https://storage.googleapis.com/rg-ai-bootcamp/machine-learning/k-ilustration-min.png)\n",
        "\n",
        "In other words, our new tumor is classified based on the majority vote of its nearest neighbours."
      ]
    },
    {
      "cell_type": "markdown",
      "metadata": {
        "id": "KXCpPkbh_HVl"
      },
      "source": [
        "## Selecting the Right '$k$'\n",
        "\n",
        "Just as we need the right number of people to make a group decision, we also need the right number of neighbors ($k$) in kNN to make a good classification. But how do we choose the right '$k$'?\n",
        "\n",
        "### Importance of '$k$' in kNN\n",
        "\n",
        "Suppose we go back to analyzing a tumor and ask the opinion of three nearby tumors. If two people say it is benign and one says it is malignant, we will choose the majority and classify it as benign.\n",
        "\n",
        "Now, what if we asked five tumors for their opinions and three said they were benign while two said they were malignant? We still classify this new tumor as benign.\n",
        "\n",
        "Herein lies the problem: what if the three closest tumors are said to be benign, but when we take the five closest tumors, three tumors are said to be malignant?\n",
        "\n",
        "The number of neighbors we ask ($k$) can change our final decision. Therefore, 'k' in kNN is the hyperparameter that we have to choose at the beginning. Hyperparameters are settings in a machine learning algorithm that we must set before the learning process begins.\n",
        "\n",
        "### Selects the optimal '$k$'\n",
        "\n",
        "If we only ask one neighbor ($k=1$), we are essentially letting one tumor decide. This can lead to overfitting. These models may work well on existing tumor data, but may fail on new tumors. Why? Because he is very sensitive to tumors that he already knows about.\n",
        "\n",
        "On the other hand, if we ask for all our tumors (let's say we have a thousand), we will only select the class with the most tumors. This can lead to underfitting, because we don't actually learn any patterns or consider their similarities.\n",
        "\n",
        "So, in the middle is the 'exact' value of '$k$'. But how do we find it? There are several ways to determine the 'correct' value of $k$, including:\n",
        "1. Try different $k$ values and see which produces the most accurate predictions on a portion of our data set aside for validation (called the validation set). This is a common practice.\n",
        "2. We can start from `Sqrt(n)`, where `n` is the total number of data points. Odd 'k' values are chosen to avoid confusion in case of a tie (same number of neighbors from both classes). We should have a small enough 'k' to start the initial predictions before figuring the optimal."
      ]
    },
    {
      "cell_type": "markdown",
      "metadata": {
        "id": "FVQql_G-_HVl"
      },
      "source": [
        "We can also use kNN for clustering:\n",
        "\n",
        "![Clustering](https://storage.googleapis.com/rg-ai-bootcamp/machine-learning/knn-clustering-min.png)"
      ]
    },
    {
      "cell_type": "markdown",
      "metadata": {
        "id": "sOvnA3ag_HVl"
      },
      "source": [
        "## Advantages and Disadvantages of kNN\n",
        "\n",
        "Every tool has its strengths and weaknesses, and k-Nearest Neighbors (kNN) is no exception. Let's understand where kNN shines and where caution needs to be applied.\n",
        "\n",
        "### Advantages of kNN\n",
        "\n",
        "**1. Simplicity:** One of the main advantages of kNN is its simplicity. It's easy to understand and implement. The concept of \"choosing based on the opinion of neighbours\" is straightforward.\n",
        "\n",
        "**2. Effectiveness with Large Datasets:** When it comes to big datasets with lots of examples to learn from, kNN is quite effective. Just as a doctor gets better at diagnosing with more patients, kNN improves with more data.\n",
        "\n",
        "### Disadvantages of kNN\n",
        "\n",
        "**1. Sensitivity to Irrelevant Features:** Imagine we have tumour data with an irrelevant feature, like the patient's favourite colour. kNN does not differentiate important features from less important ones, which can cause misclassifications. We must be careful in selecting relevant features for the model.\n",
        "\n",
        "**2. The Curse of Dimensionality:** Remember how we discussed data being plotted in a space with dimensions? Well, as the number of dimensions (features) increases, the data becomes sparse and distant from each other, making it more challenging for kNN to find meaningful neighbours. This problem is known as the \"curse of dimensionality.\""
      ]
    },
    {
      "cell_type": "markdown",
      "metadata": {
        "id": "VV42-pIR_HVm"
      },
      "source": [
        "## Hands-On Example: Using kNN in Machine Learning"
      ]
    },
    {
      "cell_type": "markdown",
      "metadata": {
        "id": "GQewMmYl_HVm"
      },
      "source": [
        "### Import libraries\n",
        "\n",
        "Before any machine learning wizardry can happen, we need to set our stage first! This involves importing all the necessary Python libraries and functions we'll need for our journey. So, Let's call upon pandas, numpy, scikit-learn and some of its modules."
      ]
    },
    {
      "cell_type": "code",
      "execution_count": null,
      "metadata": {
        "id": "FwXiNTFu_HVn"
      },
      "outputs": [],
      "source": [
        "import pandas as pd\n",
        "import numpy as np\n",
        "from sklearn.model_selection import train_test_split\n",
        "from sklearn.neighbors import KNeighborsClassifier\n",
        "from sklearn.metrics import confusion_matrix\n",
        "from sklearn.metrics import f1_score\n",
        "from sklearn.metrics import accuracy_score"
      ]
    },
    {
      "cell_type": "markdown",
      "metadata": {
        "id": "gMj-QHVB_HVo"
      },
      "source": [
        "### Load dataset\n",
        "\n",
        "Once we've set the stage, our next step is to load the patient data that we will analyze. We'll use the Python library pandas, which provides excellent data reading capabilities."
      ]
    },
    {
      "cell_type": "code",
      "execution_count": null,
      "metadata": {
        "id": "VooB5vb9_HVo",
        "outputId": "8de411ff-fce2-4539-fa59-0975ca5135b7",
        "colab": {
          "base_uri": "https://localhost:8080/",
          "height": 381
        }
      },
      "outputs": [
        {
          "output_type": "stream",
          "name": "stdout",
          "text": [
            "299\n"
          ]
        },
        {
          "output_type": "execute_result",
          "data": {
            "text/plain": [
              "   tumour_size  age  status\n",
              "0          3.6   50       0\n",
              "1          6.6   31       1\n",
              "2          3.3   32       0\n",
              "3          8.1   21       1\n",
              "4          3.1   33       0\n",
              "5          5.6   30       1\n",
              "6          1.0   26       0\n",
              "7          5.3   29       1\n",
              "8          7.6   30       1\n",
              "9          8.0   34       1"
            ],
            "text/html": [
              "\n",
              "  <div id=\"df-505b30e4-e65a-4015-9e94-9ddbd51a2a15\" class=\"colab-df-container\">\n",
              "    <div>\n",
              "<style scoped>\n",
              "    .dataframe tbody tr th:only-of-type {\n",
              "        vertical-align: middle;\n",
              "    }\n",
              "\n",
              "    .dataframe tbody tr th {\n",
              "        vertical-align: top;\n",
              "    }\n",
              "\n",
              "    .dataframe thead th {\n",
              "        text-align: right;\n",
              "    }\n",
              "</style>\n",
              "<table border=\"1\" class=\"dataframe\">\n",
              "  <thead>\n",
              "    <tr style=\"text-align: right;\">\n",
              "      <th></th>\n",
              "      <th>tumour_size</th>\n",
              "      <th>age</th>\n",
              "      <th>status</th>\n",
              "    </tr>\n",
              "  </thead>\n",
              "  <tbody>\n",
              "    <tr>\n",
              "      <th>0</th>\n",
              "      <td>3.6</td>\n",
              "      <td>50</td>\n",
              "      <td>0</td>\n",
              "    </tr>\n",
              "    <tr>\n",
              "      <th>1</th>\n",
              "      <td>6.6</td>\n",
              "      <td>31</td>\n",
              "      <td>1</td>\n",
              "    </tr>\n",
              "    <tr>\n",
              "      <th>2</th>\n",
              "      <td>3.3</td>\n",
              "      <td>32</td>\n",
              "      <td>0</td>\n",
              "    </tr>\n",
              "    <tr>\n",
              "      <th>3</th>\n",
              "      <td>8.1</td>\n",
              "      <td>21</td>\n",
              "      <td>1</td>\n",
              "    </tr>\n",
              "    <tr>\n",
              "      <th>4</th>\n",
              "      <td>3.1</td>\n",
              "      <td>33</td>\n",
              "      <td>0</td>\n",
              "    </tr>\n",
              "    <tr>\n",
              "      <th>5</th>\n",
              "      <td>5.6</td>\n",
              "      <td>30</td>\n",
              "      <td>1</td>\n",
              "    </tr>\n",
              "    <tr>\n",
              "      <th>6</th>\n",
              "      <td>1.0</td>\n",
              "      <td>26</td>\n",
              "      <td>0</td>\n",
              "    </tr>\n",
              "    <tr>\n",
              "      <th>7</th>\n",
              "      <td>5.3</td>\n",
              "      <td>29</td>\n",
              "      <td>1</td>\n",
              "    </tr>\n",
              "    <tr>\n",
              "      <th>8</th>\n",
              "      <td>7.6</td>\n",
              "      <td>30</td>\n",
              "      <td>1</td>\n",
              "    </tr>\n",
              "    <tr>\n",
              "      <th>9</th>\n",
              "      <td>8.0</td>\n",
              "      <td>34</td>\n",
              "      <td>1</td>\n",
              "    </tr>\n",
              "  </tbody>\n",
              "</table>\n",
              "</div>\n",
              "    <div class=\"colab-df-buttons\">\n",
              "\n",
              "  <div class=\"colab-df-container\">\n",
              "    <button class=\"colab-df-convert\" onclick=\"convertToInteractive('df-505b30e4-e65a-4015-9e94-9ddbd51a2a15')\"\n",
              "            title=\"Convert this dataframe to an interactive table.\"\n",
              "            style=\"display:none;\">\n",
              "\n",
              "  <svg xmlns=\"http://www.w3.org/2000/svg\" height=\"24px\" viewBox=\"0 -960 960 960\">\n",
              "    <path d=\"M120-120v-720h720v720H120Zm60-500h600v-160H180v160Zm220 220h160v-160H400v160Zm0 220h160v-160H400v160ZM180-400h160v-160H180v160Zm440 0h160v-160H620v160ZM180-180h160v-160H180v160Zm440 0h160v-160H620v160Z\"/>\n",
              "  </svg>\n",
              "    </button>\n",
              "\n",
              "  <style>\n",
              "    .colab-df-container {\n",
              "      display:flex;\n",
              "      gap: 12px;\n",
              "    }\n",
              "\n",
              "    .colab-df-convert {\n",
              "      background-color: #E8F0FE;\n",
              "      border: none;\n",
              "      border-radius: 50%;\n",
              "      cursor: pointer;\n",
              "      display: none;\n",
              "      fill: #1967D2;\n",
              "      height: 32px;\n",
              "      padding: 0 0 0 0;\n",
              "      width: 32px;\n",
              "    }\n",
              "\n",
              "    .colab-df-convert:hover {\n",
              "      background-color: #E2EBFA;\n",
              "      box-shadow: 0px 1px 2px rgba(60, 64, 67, 0.3), 0px 1px 3px 1px rgba(60, 64, 67, 0.15);\n",
              "      fill: #174EA6;\n",
              "    }\n",
              "\n",
              "    .colab-df-buttons div {\n",
              "      margin-bottom: 4px;\n",
              "    }\n",
              "\n",
              "    [theme=dark] .colab-df-convert {\n",
              "      background-color: #3B4455;\n",
              "      fill: #D2E3FC;\n",
              "    }\n",
              "\n",
              "    [theme=dark] .colab-df-convert:hover {\n",
              "      background-color: #434B5C;\n",
              "      box-shadow: 0px 1px 3px 1px rgba(0, 0, 0, 0.15);\n",
              "      filter: drop-shadow(0px 1px 2px rgba(0, 0, 0, 0.3));\n",
              "      fill: #FFFFFF;\n",
              "    }\n",
              "  </style>\n",
              "\n",
              "    <script>\n",
              "      const buttonEl =\n",
              "        document.querySelector('#df-505b30e4-e65a-4015-9e94-9ddbd51a2a15 button.colab-df-convert');\n",
              "      buttonEl.style.display =\n",
              "        google.colab.kernel.accessAllowed ? 'block' : 'none';\n",
              "\n",
              "      async function convertToInteractive(key) {\n",
              "        const element = document.querySelector('#df-505b30e4-e65a-4015-9e94-9ddbd51a2a15');\n",
              "        const dataTable =\n",
              "          await google.colab.kernel.invokeFunction('convertToInteractive',\n",
              "                                                    [key], {});\n",
              "        if (!dataTable) return;\n",
              "\n",
              "        const docLinkHtml = 'Like what you see? Visit the ' +\n",
              "          '<a target=\"_blank\" href=https://colab.research.google.com/notebooks/data_table.ipynb>data table notebook</a>'\n",
              "          + ' to learn more about interactive tables.';\n",
              "        element.innerHTML = '';\n",
              "        dataTable['output_type'] = 'display_data';\n",
              "        await google.colab.output.renderOutput(dataTable, element);\n",
              "        const docLink = document.createElement('div');\n",
              "        docLink.innerHTML = docLinkHtml;\n",
              "        element.appendChild(docLink);\n",
              "      }\n",
              "    </script>\n",
              "  </div>\n",
              "\n",
              "\n",
              "<div id=\"df-d4cdb76e-bcc7-4060-9139-bf6e35f38cf9\">\n",
              "  <button class=\"colab-df-quickchart\" onclick=\"quickchart('df-d4cdb76e-bcc7-4060-9139-bf6e35f38cf9')\"\n",
              "            title=\"Suggest charts\"\n",
              "            style=\"display:none;\">\n",
              "\n",
              "<svg xmlns=\"http://www.w3.org/2000/svg\" height=\"24px\"viewBox=\"0 0 24 24\"\n",
              "     width=\"24px\">\n",
              "    <g>\n",
              "        <path d=\"M19 3H5c-1.1 0-2 .9-2 2v14c0 1.1.9 2 2 2h14c1.1 0 2-.9 2-2V5c0-1.1-.9-2-2-2zM9 17H7v-7h2v7zm4 0h-2V7h2v10zm4 0h-2v-4h2v4z\"/>\n",
              "    </g>\n",
              "</svg>\n",
              "  </button>\n",
              "\n",
              "<style>\n",
              "  .colab-df-quickchart {\n",
              "      --bg-color: #E8F0FE;\n",
              "      --fill-color: #1967D2;\n",
              "      --hover-bg-color: #E2EBFA;\n",
              "      --hover-fill-color: #174EA6;\n",
              "      --disabled-fill-color: #AAA;\n",
              "      --disabled-bg-color: #DDD;\n",
              "  }\n",
              "\n",
              "  [theme=dark] .colab-df-quickchart {\n",
              "      --bg-color: #3B4455;\n",
              "      --fill-color: #D2E3FC;\n",
              "      --hover-bg-color: #434B5C;\n",
              "      --hover-fill-color: #FFFFFF;\n",
              "      --disabled-bg-color: #3B4455;\n",
              "      --disabled-fill-color: #666;\n",
              "  }\n",
              "\n",
              "  .colab-df-quickchart {\n",
              "    background-color: var(--bg-color);\n",
              "    border: none;\n",
              "    border-radius: 50%;\n",
              "    cursor: pointer;\n",
              "    display: none;\n",
              "    fill: var(--fill-color);\n",
              "    height: 32px;\n",
              "    padding: 0;\n",
              "    width: 32px;\n",
              "  }\n",
              "\n",
              "  .colab-df-quickchart:hover {\n",
              "    background-color: var(--hover-bg-color);\n",
              "    box-shadow: 0 1px 2px rgba(60, 64, 67, 0.3), 0 1px 3px 1px rgba(60, 64, 67, 0.15);\n",
              "    fill: var(--button-hover-fill-color);\n",
              "  }\n",
              "\n",
              "  .colab-df-quickchart-complete:disabled,\n",
              "  .colab-df-quickchart-complete:disabled:hover {\n",
              "    background-color: var(--disabled-bg-color);\n",
              "    fill: var(--disabled-fill-color);\n",
              "    box-shadow: none;\n",
              "  }\n",
              "\n",
              "  .colab-df-spinner {\n",
              "    border: 2px solid var(--fill-color);\n",
              "    border-color: transparent;\n",
              "    border-bottom-color: var(--fill-color);\n",
              "    animation:\n",
              "      spin 1s steps(1) infinite;\n",
              "  }\n",
              "\n",
              "  @keyframes spin {\n",
              "    0% {\n",
              "      border-color: transparent;\n",
              "      border-bottom-color: var(--fill-color);\n",
              "      border-left-color: var(--fill-color);\n",
              "    }\n",
              "    20% {\n",
              "      border-color: transparent;\n",
              "      border-left-color: var(--fill-color);\n",
              "      border-top-color: var(--fill-color);\n",
              "    }\n",
              "    30% {\n",
              "      border-color: transparent;\n",
              "      border-left-color: var(--fill-color);\n",
              "      border-top-color: var(--fill-color);\n",
              "      border-right-color: var(--fill-color);\n",
              "    }\n",
              "    40% {\n",
              "      border-color: transparent;\n",
              "      border-right-color: var(--fill-color);\n",
              "      border-top-color: var(--fill-color);\n",
              "    }\n",
              "    60% {\n",
              "      border-color: transparent;\n",
              "      border-right-color: var(--fill-color);\n",
              "    }\n",
              "    80% {\n",
              "      border-color: transparent;\n",
              "      border-right-color: var(--fill-color);\n",
              "      border-bottom-color: var(--fill-color);\n",
              "    }\n",
              "    90% {\n",
              "      border-color: transparent;\n",
              "      border-bottom-color: var(--fill-color);\n",
              "    }\n",
              "  }\n",
              "</style>\n",
              "\n",
              "  <script>\n",
              "    async function quickchart(key) {\n",
              "      const quickchartButtonEl =\n",
              "        document.querySelector('#' + key + ' button');\n",
              "      quickchartButtonEl.disabled = true;  // To prevent multiple clicks.\n",
              "      quickchartButtonEl.classList.add('colab-df-spinner');\n",
              "      try {\n",
              "        const charts = await google.colab.kernel.invokeFunction(\n",
              "            'suggestCharts', [key], {});\n",
              "      } catch (error) {\n",
              "        console.error('Error during call to suggestCharts:', error);\n",
              "      }\n",
              "      quickchartButtonEl.classList.remove('colab-df-spinner');\n",
              "      quickchartButtonEl.classList.add('colab-df-quickchart-complete');\n",
              "    }\n",
              "    (() => {\n",
              "      let quickchartButtonEl =\n",
              "        document.querySelector('#df-d4cdb76e-bcc7-4060-9139-bf6e35f38cf9 button');\n",
              "      quickchartButtonEl.style.display =\n",
              "        google.colab.kernel.accessAllowed ? 'block' : 'none';\n",
              "    })();\n",
              "  </script>\n",
              "</div>\n",
              "    </div>\n",
              "  </div>\n"
            ]
          },
          "metadata": {},
          "execution_count": 3
        }
      ],
      "source": [
        "dataset = pd.read_csv('https://storage.googleapis.com/rg-ai-bootcamp/machine-learning/patients-data.csv')\n",
        "print(len(dataset))\n",
        "dataset.head(10)"
      ]
    },
    {
      "cell_type": "markdown",
      "metadata": {
        "id": "rjVZiCO4_HVp"
      },
      "source": [
        "### Split dataset\n",
        "\n",
        "Let's now take a third step. We will divide our dataset into two parts - the training set and the testing set. This will allow us to train our model and evaluate its performance on unseen data."
      ]
    },
    {
      "cell_type": "code",
      "execution_count": null,
      "metadata": {
        "id": "zUzEzs6c_HVp",
        "outputId": "6e7535c4-9e7b-41f2-8d07-8b1e71f2ea8a"
      },
      "outputs": [
        {
          "name": "stdout",
          "output_type": "stream",
          "text": [
            "Train set: (239, 2) (239,)\n",
            "Test set: (60, 2) (60,)\n"
          ]
        }
      ],
      "source": [
        "from sklearn.model_selection import train_test_split\n",
        "X = dataset.iloc[:, 0:2]\n",
        "y = dataset.iloc[:, 2]\n",
        "X_train, X_test, y_train, y_test = train_test_split(X, y, random_state=0, test_size=0.2)\n",
        "print ('Train set:', X_train.shape,  y_train.shape)\n",
        "print ('Test set:', X_test.shape,  y_test.shape)"
      ]
    },
    {
      "cell_type": "markdown",
      "metadata": {
        "id": "6yd8rkHv_HVp"
      },
      "source": [
        "### Train Model and Predict\n",
        "\n",
        "After that, we define the model using `KNeighborsClassifier` and fit the train data in the model. Just like Logistic Regression, `sklearn` provides the `KNeighborsClassifier` class in the `sklearn.model_selection` module. Here's how you can do it:"
      ]
    },
    {
      "cell_type": "code",
      "execution_count": null,
      "metadata": {
        "id": "Fs43mCsa_HVp",
        "outputId": "7ce6285d-75f2-4c15-ed58-06f28e222e4c"
      },
      "outputs": [
        {
          "data": {
            "text/html": [
              "<style>#sk-container-id-2 {color: black;}#sk-container-id-2 pre{padding: 0;}#sk-container-id-2 div.sk-toggleable {background-color: white;}#sk-container-id-2 label.sk-toggleable__label {cursor: pointer;display: block;width: 100%;margin-bottom: 0;padding: 0.3em;box-sizing: border-box;text-align: center;}#sk-container-id-2 label.sk-toggleable__label-arrow:before {content: \"▸\";float: left;margin-right: 0.25em;color: #696969;}#sk-container-id-2 label.sk-toggleable__label-arrow:hover:before {color: black;}#sk-container-id-2 div.sk-estimator:hover label.sk-toggleable__label-arrow:before {color: black;}#sk-container-id-2 div.sk-toggleable__content {max-height: 0;max-width: 0;overflow: hidden;text-align: left;background-color: #f0f8ff;}#sk-container-id-2 div.sk-toggleable__content pre {margin: 0.2em;color: black;border-radius: 0.25em;background-color: #f0f8ff;}#sk-container-id-2 input.sk-toggleable__control:checked~div.sk-toggleable__content {max-height: 200px;max-width: 100%;overflow: auto;}#sk-container-id-2 input.sk-toggleable__control:checked~label.sk-toggleable__label-arrow:before {content: \"▾\";}#sk-container-id-2 div.sk-estimator input.sk-toggleable__control:checked~label.sk-toggleable__label {background-color: #d4ebff;}#sk-container-id-2 div.sk-label input.sk-toggleable__control:checked~label.sk-toggleable__label {background-color: #d4ebff;}#sk-container-id-2 input.sk-hidden--visually {border: 0;clip: rect(1px 1px 1px 1px);clip: rect(1px, 1px, 1px, 1px);height: 1px;margin: -1px;overflow: hidden;padding: 0;position: absolute;width: 1px;}#sk-container-id-2 div.sk-estimator {font-family: monospace;background-color: #f0f8ff;border: 1px dotted black;border-radius: 0.25em;box-sizing: border-box;margin-bottom: 0.5em;}#sk-container-id-2 div.sk-estimator:hover {background-color: #d4ebff;}#sk-container-id-2 div.sk-parallel-item::after {content: \"\";width: 100%;border-bottom: 1px solid gray;flex-grow: 1;}#sk-container-id-2 div.sk-label:hover label.sk-toggleable__label {background-color: #d4ebff;}#sk-container-id-2 div.sk-serial::before {content: \"\";position: absolute;border-left: 1px solid gray;box-sizing: border-box;top: 0;bottom: 0;left: 50%;z-index: 0;}#sk-container-id-2 div.sk-serial {display: flex;flex-direction: column;align-items: center;background-color: white;padding-right: 0.2em;padding-left: 0.2em;position: relative;}#sk-container-id-2 div.sk-item {position: relative;z-index: 1;}#sk-container-id-2 div.sk-parallel {display: flex;align-items: stretch;justify-content: center;background-color: white;position: relative;}#sk-container-id-2 div.sk-item::before, #sk-container-id-2 div.sk-parallel-item::before {content: \"\";position: absolute;border-left: 1px solid gray;box-sizing: border-box;top: 0;bottom: 0;left: 50%;z-index: -1;}#sk-container-id-2 div.sk-parallel-item {display: flex;flex-direction: column;z-index: 1;position: relative;background-color: white;}#sk-container-id-2 div.sk-parallel-item:first-child::after {align-self: flex-end;width: 50%;}#sk-container-id-2 div.sk-parallel-item:last-child::after {align-self: flex-start;width: 50%;}#sk-container-id-2 div.sk-parallel-item:only-child::after {width: 0;}#sk-container-id-2 div.sk-dashed-wrapped {border: 1px dashed gray;margin: 0 0.4em 0.5em 0.4em;box-sizing: border-box;padding-bottom: 0.4em;background-color: white;}#sk-container-id-2 div.sk-label label {font-family: monospace;font-weight: bold;display: inline-block;line-height: 1.2em;}#sk-container-id-2 div.sk-label-container {text-align: center;}#sk-container-id-2 div.sk-container {/* jupyter's `normalize.less` sets `[hidden] { display: none; }` but bootstrap.min.css set `[hidden] { display: none !important; }` so we also need the `!important` here to be able to override the default hidden behavior on the sphinx rendered scikit-learn.org. See: https://github.com/scikit-learn/scikit-learn/issues/21755 */display: inline-block !important;position: relative;}#sk-container-id-2 div.sk-text-repr-fallback {display: none;}</style><div id=\"sk-container-id-2\" class=\"sk-top-container\"><div class=\"sk-text-repr-fallback\"><pre>KNeighborsClassifier(metric=&#x27;euclidean&#x27;, n_neighbors=11)</pre><b>In a Jupyter environment, please rerun this cell to show the HTML representation or trust the notebook. <br />On GitHub, the HTML representation is unable to render, please try loading this page with nbviewer.org.</b></div><div class=\"sk-container\" hidden><div class=\"sk-item\"><div class=\"sk-estimator sk-toggleable\"><input class=\"sk-toggleable__control sk-hidden--visually\" id=\"sk-estimator-id-2\" type=\"checkbox\" checked><label for=\"sk-estimator-id-2\" class=\"sk-toggleable__label sk-toggleable__label-arrow\">KNeighborsClassifier</label><div class=\"sk-toggleable__content\"><pre>KNeighborsClassifier(metric=&#x27;euclidean&#x27;, n_neighbors=11)</pre></div></div></div></div></div>"
            ],
            "text/plain": [
              "KNeighborsClassifier(metric='euclidean', n_neighbors=11)"
            ]
          },
          "execution_count": 17,
          "metadata": {},
          "output_type": "execute_result"
        }
      ],
      "source": [
        "k = 11\n",
        "classifier = KNeighborsClassifier(n_neighbors = k, metric='euclidean').fit(X_train,y_train)\n",
        "classifier"
      ]
    },
    {
      "cell_type": "markdown",
      "metadata": {
        "id": "pf_7sYLY_HVq"
      },
      "source": [
        "### Predict the test set results\n",
        "\n",
        "After training the model, the next step is to utilize our trained classifier to predict results on the test set. Let's delve directly into making these predictions and observe the results our model produces."
      ]
    },
    {
      "cell_type": "code",
      "execution_count": null,
      "metadata": {
        "id": "U6McYCHJ_HVq",
        "outputId": "864044f3-69fc-4293-cc7d-1d99fe61f299"
      },
      "outputs": [
        {
          "data": {
            "text/html": [
              "<div>\n",
              "<style scoped>\n",
              "    .dataframe tbody tr th:only-of-type {\n",
              "        vertical-align: middle;\n",
              "    }\n",
              "\n",
              "    .dataframe tbody tr th {\n",
              "        vertical-align: top;\n",
              "    }\n",
              "\n",
              "    .dataframe thead th {\n",
              "        text-align: right;\n",
              "    }\n",
              "</style>\n",
              "<table border=\"1\" class=\"dataframe\">\n",
              "  <thead>\n",
              "    <tr style=\"text-align: right;\">\n",
              "      <th></th>\n",
              "      <th>tumour_size</th>\n",
              "      <th>age</th>\n",
              "    </tr>\n",
              "  </thead>\n",
              "  <tbody>\n",
              "    <tr>\n",
              "      <th>206</th>\n",
              "      <td>4.0</td>\n",
              "      <td>22</td>\n",
              "    </tr>\n",
              "    <tr>\n",
              "      <th>188</th>\n",
              "      <td>2.8</td>\n",
              "      <td>24</td>\n",
              "    </tr>\n",
              "    <tr>\n",
              "      <th>12</th>\n",
              "      <td>5.8</td>\n",
              "      <td>31</td>\n",
              "    </tr>\n",
              "    <tr>\n",
              "      <th>219</th>\n",
              "      <td>8.2</td>\n",
              "      <td>29</td>\n",
              "    </tr>\n",
              "    <tr>\n",
              "      <th>237</th>\n",
              "      <td>5.1</td>\n",
              "      <td>21</td>\n",
              "    </tr>\n",
              "  </tbody>\n",
              "</table>\n",
              "</div>"
            ],
            "text/plain": [
              "     tumour_size  age\n",
              "206          4.0   22\n",
              "188          2.8   24\n",
              "12           5.8   31\n",
              "219          8.2   29\n",
              "237          5.1   21"
            ]
          },
          "execution_count": 18,
          "metadata": {},
          "output_type": "execute_result"
        }
      ],
      "source": [
        "X_test.head()"
      ]
    },
    {
      "cell_type": "code",
      "execution_count": null,
      "metadata": {
        "id": "hYWTBn5x_HVq",
        "outputId": "5fb06867-3259-46a4-addb-704b706ffff3"
      },
      "outputs": [
        {
          "data": {
            "text/plain": [
              "array([0, 0, 1, 1, 0, 1, 0, 1, 0, 0, 0, 0, 1, 0, 1, 0, 1, 1, 1, 1, 0, 0,\n",
              "       0, 1, 0, 0, 1, 1, 0, 1, 0, 0, 1, 1, 1, 1, 0, 0, 0, 1, 0, 1, 1, 1,\n",
              "       1, 1, 0, 0, 1, 0, 1, 0, 0, 0, 0, 1, 0, 0, 0, 1])"
            ]
          },
          "execution_count": 19,
          "metadata": {},
          "output_type": "execute_result"
        }
      ],
      "source": [
        "y_hat = classifier.predict(X_test)\n",
        "y_hat"
      ]
    },
    {
      "cell_type": "markdown",
      "metadata": {
        "id": "RUGPbw8N_HVq"
      },
      "source": [
        "Upon executing our classifier's prediction on the test set, we can see the predicted tumour categories.\n",
        "- 0 represents 'benign'\n",
        "- 1 stands for 'malignant'.\n",
        "\n",
        "This array of 0s and 1s is our model's attempt at diagnosing each analyzed tumour based on the patterns it discovered during the training phase. We will proceed next to evaluate the accuracy of these predictions. It's important to evaluate the model."
      ]
    },
    {
      "cell_type": "markdown",
      "metadata": {
        "id": "WVd_2y0H_HVr"
      },
      "source": [
        "### Evaluate Model\n",
        "\n",
        "Moving on to the next crucial phase, let's use confusion matrix to do that. The confusion matrix will provide us valuable insights into the accuracy of our model's predictions. It allows us to understand the model's performance by showcasing the correctly and incorrectly predicted values. Let's delve into creating our confusion matrix now."
      ]
    },
    {
      "cell_type": "code",
      "execution_count": null,
      "metadata": {
        "id": "6gl-Bpjj_HVr",
        "outputId": "c2769480-7178-4941-c501-8be0ad1a319b"
      },
      "outputs": [
        {
          "name": "stdout",
          "output_type": "stream",
          "text": [
            "[[29  0]\n",
            " [ 3 28]]\n"
          ]
        }
      ],
      "source": [
        "cm = confusion_matrix(y_test, y_hat)\n",
        "print (cm)"
      ]
    },
    {
      "cell_type": "markdown",
      "metadata": {
        "id": "WqOP3b2h_HVr"
      },
      "source": [
        " A confusion matrix is a table used in statistics to evaluate the accuracy of a classification model. It displays the number of correctly and incorrectly predicted observations. Here's how to interpret the matrix:\n",
        "\n",
        "```\n",
        "[[29  0]\n",
        " [ 3 28]]\n",
        "```\n",
        "\n",
        "- The top left value `29` represents the `True Positives (TP)`: These are cases in which we predicted malignant, and it is indeed malignant.\n",
        "\n",
        "- The top right value `0` represents the `False Positives (FP)`: These are cases in which we predicted malignant, but the tumor is not actually malignant. There are none such cases in your result.\n",
        "\n",
        "- The bottom left value `3` represents the `False Negatives (FN)`: These are cases in which we predicted benign, but the tumor is malignant. We have 3 such cases here.\n",
        "\n",
        "- The bottom right value `28` represents the `True Negatives (TN)`: These are cases in which we predicted benign, and the the tumor is indeed benign.\n",
        "\n",
        "In summary, our model performed quite well! Out of the 60 test instances, it correctly predicted 57 (29 + 28 = 57) of them, and misclassified 3. The model successfully identified all negative cases, and only misclassified 3 positive cases."
      ]
    },
    {
      "cell_type": "markdown",
      "metadata": {
        "id": "JrmZxZmh_HVr"
      },
      "source": [
        "After evaluating our model, it is now important to assess how well our model performs. We will calculate the F1 score and accuracy, which is a key evaluation metric in machine learning. The F1 score indicates the balance between precision and recall, while accuracy represents a fraction from the correct predictions our model makes."
      ]
    },
    {
      "cell_type": "code",
      "execution_count": null,
      "metadata": {
        "id": "0WwBv-7y_HVr",
        "outputId": "648bf64f-db3d-4b23-876c-9a3918475110"
      },
      "outputs": [
        {
          "name": "stdout",
          "output_type": "stream",
          "text": [
            "0.9491525423728813\n",
            "0.95\n"
          ]
        }
      ],
      "source": [
        "print(f1_score(y_test, y_hat))\n",
        "print(accuracy_score(y_test, y_hat))"
      ]
    },
    {
      "cell_type": "markdown",
      "metadata": {
        "id": "d_ChGxpI_HVr"
      },
      "source": [
        "The F1 score is `0.9491525423728813` which is quite high. An F1 score is a measure of a model's precision and recall, and it ranges from 0 to 1. A high F1 score, as in this case, indicates that our model has high precision and recall. In other words, when our model predicts that a tumor is malignant, it is usually correct (high precision), and also correctly identifies the majority of malignant tumors (high recall).\n",
        "\n",
        "The model accuracy is `0.95` or 95% indicating the proportion of the total model predictions that are made correctly. Specifically, it makes correct predictions in 95% of cases.\n",
        "\n",
        "Overall, with an F1 score of `0.949` and an accuracy score of `0.95`, our model seems to perform very well in classifying the data in this case. A high value indicates that the model is reliable and likely to make correct predictions. Of course, this assumes that any new data follows a similar distribution to the training data."
      ]
    },
    {
      "cell_type": "markdown",
      "metadata": {
        "id": "KJk_md_K_HVs"
      },
      "source": [
        "### How to find the best $k$\n",
        "\n",
        "Now we come to the most important stage in our analysis when applying the k-Nearest Neighbors (kNN) algorithm, namely determining the optimal number of 'neighbours' (k) for our model. A common solution is to back up some of your data to test the accuracy of the model. we will test different k values from 1 to 20. By calculating the model accuracy for each k, we can determine the most appropriate value of k —the one that allows the model to most accurately predict the class labels\n",
        "\n",
        "We can calculate the accuracy of KNN for different values of $k$."
      ]
    },
    {
      "cell_type": "code",
      "execution_count": null,
      "metadata": {
        "id": "Zzq2VfrH_HVs"
      },
      "outputs": [],
      "source": [
        "import matplotlib.pyplot as plt\n",
        "%matplotlib inline"
      ]
    },
    {
      "cell_type": "code",
      "execution_count": null,
      "metadata": {
        "id": "dkn7pwgG_HVt",
        "outputId": "67f13da4-c4df-4eda-b398-c12f1712e4a9"
      },
      "outputs": [
        {
          "data": {
            "text/plain": [
              "array([0.93333333, 0.86666667, 0.9       , 0.9       , 0.9       ,\n",
              "       0.9       , 0.91666667, 0.93333333, 0.96666667, 0.95      ,\n",
              "       0.95      , 0.95      , 0.93333333, 0.91666667, 0.91666667,\n",
              "       0.91666667, 0.9       , 0.9       , 0.9       ])"
            ]
          },
          "execution_count": 24,
          "metadata": {},
          "output_type": "execute_result"
        }
      ],
      "source": [
        "Ks = 20\n",
        "mean_acc = np.zeros((Ks-1))\n",
        "std_acc = np.zeros((Ks-1))\n",
        "\n",
        "for n in range(1,Ks):\n",
        "    #Train Model and Predict\n",
        "    classifier = KNeighborsClassifier(n_neighbors = n).fit(X_train,y_train)\n",
        "    yhat=classifier.predict(X_test)\n",
        "    mean_acc[n-1] = accuracy_score(y_test, yhat)\n",
        "    std_acc[n-1]=np.std(yhat==y_test)/np.sqrt(yhat.shape[0])\n",
        "\n",
        "mean_acc"
      ]
    },
    {
      "cell_type": "code",
      "execution_count": null,
      "metadata": {
        "id": "Rg7jUZTQ_HVt",
        "outputId": "01d95e4f-89f5-4acd-dad5-a9de111ffcdb"
      },
      "outputs": [
        {
          "data": {
            "image/png": "[encoded data removed]",
            "text/plain": [
              "<Figure size 640x480 with 1 Axes>"
            ]
          },
          "metadata": {},
          "output_type": "display_data"
        }
      ],
      "source": [
        "plt.plot(range(1,Ks),mean_acc,'g')\n",
        "plt.fill_between(range(1,Ks),mean_acc - 1 * std_acc,mean_acc + 1 * std_acc, alpha=0.10)\n",
        "plt.fill_between(range(1,Ks),mean_acc - 3 * std_acc,mean_acc + 3 * std_acc, alpha=0.10,color=\"green\")\n",
        "plt.legend(('Accuracy ', '+/- 1xstd','+/- 3xstd'))\n",
        "plt.ylabel('Accuracy ')\n",
        "plt.xlabel('Number of Neighbors (K)')\n",
        "plt.tight_layout()\n",
        "plt.show()"
      ]
    },
    {
      "cell_type": "code",
      "execution_count": null,
      "metadata": {
        "id": "u-DvbxNY_HVu",
        "outputId": "cad9bf9c-a788-4c49-c3c6-64de84422c37"
      },
      "outputs": [
        {
          "name": "stdout",
          "output_type": "stream",
          "text": [
            "The best accuracy was with 0.9666666666666667 with k= 9\n"
          ]
        }
      ],
      "source": [
        "print( \"The best accuracy was with\", mean_acc.max(), \"with k=\", mean_acc.argmax()+1)"
      ]
    },
    {
      "cell_type": "markdown",
      "metadata": {
        "id": "oXtgQzpn_HVu"
      },
      "source": [
        "The numbers you see in the array represent the accuracy of the model (how close the output is to the expected outcome) for each \"k\". Accuracy is presented as a value between 0 (0%) and 1 (100%).\n",
        "\n",
        "For example, when k=1, the model accuracy was about 93.3%, and when k=2, the accuracy dropped to around 86.7%. As we increased \"k\", we observed that the accuracy fluctuated. The highest accuracy achieved was about 96.7% (k=9).\n",
        "\n",
        "From this experiment, it appears that choosing 9 as the number of nearest neighbors (k=9) would give us the highest accuracy for our model."
      ]
    }
  ],
  "metadata": {
    "kernelspec": {
      "display_name": "Python 3 (ipykernel)",
      "language": "python",
      "name": "python3"
    },
    "language_info": {
      "codemirror_mode": {
        "name": "ipython",
        "version": 3
      },
      "file_extension": ".py",
      "mimetype": "text/x-python",
      "name": "python",
      "nbconvert_exporter": "python",
      "pygments_lexer": "ipython3",
      "version": "3.11.3"
    },
    "colab": {
      "provenance": []
    }
  },
  "nbformat": 4,
  "nbformat_minor": 0
}