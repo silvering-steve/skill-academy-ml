{
  "cells": [
    {
      "cell_type": "markdown",
      "metadata": {
        "id": "QdFfKyqV1PTb"
      },
      "source": [
        "## Scalar\n",
        "\n",
        "Scalar is a single number.\n",
        "\n",
        "Example: `x = 6`\n",
        "\n",
        "## Vector\n",
        "\n",
        "Vector is a one-dimensional array of numbers.\n",
        "\n",
        "Example: `x = [1, 2]` or usually written as\n",
        "\n",
        "$$\n",
        "\\begin{bmatrix}\n",
        "1 \\\\\n",
        "2\n",
        "\\end{bmatrix}\n",
        "$$"
      ]
    },
    {
      "cell_type": "markdown",
      "metadata": {
        "id": "R58xi39k1PTk"
      },
      "source": [
        "### Multiplication of Scalar and Vector\n",
        "\n",
        "Vector can be multiplied by a scalar. For example, if we multiply the vector above by 2, written as\n",
        "\n",
        "$$\n",
        "2 \\begin{bmatrix}\n",
        "1 \\\\\n",
        "2 \\\\\n",
        "3\n",
        "\\end{bmatrix}\n",
        "$$\n",
        "\n",
        "then the result is\n",
        "\n",
        "$$\n",
        "\\begin{bmatrix}\n",
        "2 \\\\\n",
        "4 \\\\\n",
        "6\n",
        "\\end{bmatrix}\n",
        "$$"
      ]
    },
    {
      "cell_type": "markdown",
      "metadata": {
        "id": "rdM6vDOE1PTl"
      },
      "source": [
        "### Addition of Scalar and Vector\n",
        "\n",
        "This operation is not defined. Scalar can't be added to vector."
      ]
    },
    {
      "cell_type": "markdown",
      "metadata": {
        "id": "MO1DnU9b1PTm"
      },
      "source": [
        "### Addition of Vectors\n",
        "\n",
        "Vectors can be added together\n",
        "\n",
        "\n",
        "$$\n",
        "\\begin{bmatrix}\n",
        "1 \\\\\n",
        "2 \\\\\n",
        "3\n",
        "\\end{bmatrix} +\n",
        "\\begin{bmatrix}\n",
        "4 \\\\\n",
        "5 \\\\\n",
        "6\n",
        "\\end{bmatrix} =\n",
        "\\begin{bmatrix}\n",
        "5 \\\\\n",
        "7 \\\\\n",
        "9\n",
        "\\end{bmatrix}\n",
        "$$\n",
        "\n",
        "When the dimension of the vectors are different, the addition is not defined. The following is NOT allowed\n",
        "\n",
        "$$\n",
        "\\begin{bmatrix}\n",
        "1 \\\\\n",
        "2 \\\\\n",
        "3\n",
        "\\end{bmatrix} +\n",
        "\\begin{bmatrix}\n",
        "4 \\\\\n",
        "5 \\\\\n",
        "\\end{bmatrix}\n",
        "$$"
      ]
    },
    {
      "cell_type": "markdown",
      "metadata": {
        "id": "xVmsLovg1PTn"
      },
      "source": [
        "### Vector dot product\n",
        "\n",
        "Vector dot product is a way to multiply vectors together. The result is a scalar.\n",
        "\n",
        "$$\n",
        "\\begin{bmatrix}\n",
        "1 \\\\\n",
        "2 \\\\\n",
        "3\n",
        "\\end{bmatrix} \\cdot\n",
        "\\begin{bmatrix}\n",
        "4 \\\\\n",
        "5 \\\\\n",
        "6\n",
        "\\end{bmatrix} =\n",
        "1 \\times 4 + 2 \\times 5 + 3 \\times 6 = 32\n",
        "$$\n"
      ]
    },
    {
      "cell_type": "markdown",
      "metadata": {
        "id": "yvMGzgij1PTn"
      },
      "source": [
        "\n",
        "## Matrix\n",
        "\n",
        "Matrix is a two-dimensional array of numbers. Matrix is usually written as\n",
        "\n",
        "$$\n",
        "\\begin{bmatrix}\n",
        "1 & 2 & 3 \\\\\n",
        "4 & 5 & 6\n",
        "\\end{bmatrix}\n",
        "$$\n",
        "\n",
        "### Matrix dimension\n",
        "\n",
        "The dimension of a matrix is the number of `rows` x `columns`. The above matrix has dimension of 2 x 3.\n",
        "\n",
        "### Relation to Vector\n",
        "\n",
        "A vector is a matrix with only one column. The following vector is a matrix with dimension of 3 x 1\n",
        "\n",
        "$$\n",
        "\\begin{bmatrix}\n",
        "1 \\\\\n",
        "2 \\\\\n",
        "3\n",
        "\\end{bmatrix}\n",
        "$$\n",
        "\n"
      ]
    },
    {
      "cell_type": "markdown",
      "metadata": {
        "id": "pe9R_1Ai1PTo"
      },
      "source": [
        "\n",
        "### Matrix addition\n",
        "\n",
        "Matrix can be added together if they have the same dimension. For example, the following is allowed\n",
        "\n",
        "$$\n",
        "\\begin{bmatrix}\n",
        "1 & 2 & 3 \\\\\n",
        "4 & 5 & 6\n",
        "\\end{bmatrix} +\n",
        "\\begin{bmatrix}\n",
        "7 & 8 & 9 \\\\\n",
        "10 & 11 & 12\n",
        "\\end{bmatrix} =\n",
        "\\begin{bmatrix}\n",
        "8 & 10 & 12 \\\\\n",
        "14 & 16 & 18\n",
        "\\end{bmatrix}\n",
        "$$"
      ]
    },
    {
      "cell_type": "markdown",
      "metadata": {
        "id": "TdJURN3A1PTo"
      },
      "source": [
        "### Matrix dot product\n",
        "\n",
        "Matrix dot product is defined as follows\n",
        "\n",
        "$$\n",
        "\\begin{bmatrix}\n",
        "x_{00} & x_{01} \\\\\n",
        "x_{10} & x_{11}\n",
        "\\end{bmatrix} \\cdot\n",
        "\\begin{bmatrix}\n",
        "y_{00} \\\\\n",
        "y_{10}\n",
        "\\end{bmatrix} =\n",
        "\\begin{bmatrix}\n",
        "x_{00} y_{00} + x_{01} y_{10} \\\\\n",
        "x_{10} y_{00} + x_{11} y_{10}\n",
        "\\end{bmatrix}\n",
        "$$\n",
        "\n",
        "For example:\n",
        "\n",
        "$$\n",
        "\\begin{bmatrix}\n",
        "1 & 2 \\\\\n",
        "3 & 4\n",
        "\\end{bmatrix} \\cdot\n",
        "\\begin{bmatrix}\n",
        "5 \\\\\n",
        "6\n",
        "\\end{bmatrix} =\n",
        "\\begin{bmatrix}\n",
        "1 \\times 5 + 2 \\times 6 \\\\\n",
        "3 \\times 5 + 4 \\times 6\n",
        "\\end{bmatrix} =\n",
        "\\begin{bmatrix}\n",
        "17 \\\\\n",
        "39\n",
        "\\end{bmatrix}\n",
        "$$\n",
        "\n",
        "If X dimension is `m` x `n` and Y dimension is `n` x `p`, then the result of X dot Y is `m` x `p`.\n",
        "\n",
        "The order of the dot product is important.\n",
        "\n",
        "$$\n",
        "A \\cdot B \\neq B \\cdot A\n",
        "$$\n",
        "\n",
        "For example, if we flip the order of the above dot product, we get\n",
        "\n",
        "$$\n",
        "\\begin{bmatrix}\n",
        "5 \\\\\n",
        "6\n",
        "\\end{bmatrix} \\cdot\n",
        "\\begin{bmatrix}\n",
        "1 & 2 \\\\\n",
        "3 & 4\n",
        "\\end{bmatrix} = undefined\n",
        "$$\n",
        "\n",
        "\n",
        "Matrix dot product is associative:\n",
        "\n",
        "$$\n",
        "A \\cdot (B \\cdot C) = (A \\cdot B) \\cdot C\n",
        "$$"
      ]
    },
    {
      "cell_type": "markdown",
      "metadata": {
        "id": "eGg33lie1PTp"
      },
      "source": [
        "### Matrix Transpose\n",
        "\n",
        "Matrix transpose is a matrix that is flipped over its diagonal. For example, the transpose of the following matrix is\n",
        "\n",
        "$$\n",
        "\\begin{bmatrix}\n",
        "1 & 2 \\\\\n",
        "3 & 4\n",
        "\\end{bmatrix}^T =\n",
        "\\begin{bmatrix}\n",
        "1 & 3 \\\\\n",
        "2 & 4\n",
        "\\end{bmatrix}\n",
        "$$\n",
        "\n",
        "$$\n",
        "\\begin{bmatrix}\n",
        "1 \\\\\n",
        "2 \\\\\n",
        "3\n",
        "\\end{bmatrix}^T =\n",
        "\\begin{bmatrix}\n",
        "1 & 2 & 3\n",
        "\\end{bmatrix}\n",
        "$$"
      ]
    },
    {
      "cell_type": "markdown",
      "metadata": {
        "id": "qbtJzjnR1PTq"
      },
      "source": [
        "### Identity Matrix\n",
        "\n",
        "Identity matrix is a matrix that doesn't change any vector when multiplied by that vector\n",
        "\n",
        "$$\n",
        "I \\cdot \\begin{bmatrix}\n",
        "x_0 \\\\\n",
        "x_1 \\\\\n",
        "x_2\n",
        "\\end{bmatrix} =\n",
        "\\begin{bmatrix}\n",
        "x_0 \\\\\n",
        "x_1 \\\\\n",
        "x_2\n",
        "\\end{bmatrix}\n",
        "$$\n",
        "\n",
        "Example of 2 x 2 identity matrix\n",
        "\n",
        "$$\n",
        "\\begin{bmatrix}\n",
        "1 & 0 \\\\\n",
        "0 & 1\n",
        "\\end{bmatrix}\n",
        "$$\n",
        "\n",
        "Example of 3 x 3 identity matrix\n",
        "\n",
        "$$\n",
        "\\begin{bmatrix}\n",
        "1 & 0 & 0 \\\\\n",
        "0 & 1 & 0 \\\\\n",
        "0 & 0 & 1\n",
        "\\end{bmatrix}\n",
        "$$"
      ]
    },
    {
      "cell_type": "markdown",
      "metadata": {
        "id": "jIOHb1Yg1PTq"
      },
      "source": [
        "### Inverse Matrix\n",
        "\n",
        "Inverse matrix is a matrix that when multiplied by the original matrix, results in an identity matrix:\n",
        "\n",
        "$$\n",
        "A \\cdot A^{-1} = I\n",
        "$$\n",
        "\n"
      ]
    },
    {
      "cell_type": "markdown",
      "metadata": {
        "id": "GAMUOWYh1PTq"
      },
      "source": [
        "## Linear Equation\n",
        "\n",
        "- The price of 2 apples and 1 orange is 5 dollar.\n",
        "- The price of 3 apples and 4 oranges is 10 dollar.\n",
        "- What is the price of 1 apple and 1 orange?\n",
        "\n",
        "$$\n",
        "2x + 1y = 5\n",
        "$$\n",
        "\n",
        "$$\n",
        "3x + 4y = 10\n",
        "$$\n",
        "\n",
        "It can modeled as a matrix equation\n",
        "\n",
        "$$\n",
        "\\begin{bmatrix}\n",
        "2 & 1 \\\\\n",
        "3 & 4\n",
        "\\end{bmatrix} \\cdot\n",
        "\\begin{bmatrix}\n",
        "x \\\\\n",
        "y\n",
        "\\end{bmatrix} =\n",
        "\\begin{bmatrix}\n",
        "5 \\\\\n",
        "10\n",
        "\\end{bmatrix}\n",
        "$$\n",
        "\n",
        "Let's multiple both side with the inverse of the matrix\n",
        "\n",
        "$$\n",
        "\\begin{bmatrix}\n",
        "2 & 1 \\\\\n",
        "3 & 4\n",
        "\\end{bmatrix}^{-1} \\cdot\n",
        "\\begin{bmatrix}\n",
        "2 & 1 \\\\\n",
        "3 & 4\n",
        "\\end{bmatrix} \\cdot\n",
        "\\begin{bmatrix}\n",
        "x \\\\\n",
        "y\n",
        "\\end{bmatrix} =\n",
        "\\begin{bmatrix}\n",
        "2 & 1 \\\\\n",
        "3 & 4\n",
        "\\end{bmatrix}^{-1} \\cdot\n",
        "\\begin{bmatrix}\n",
        "5 \\\\\n",
        "10\n",
        "\\end{bmatrix}\n",
        "$$\n",
        "\n",
        "\n",
        "$$\n",
        "I \\cdot \\begin{bmatrix}\n",
        "x \\\\\n",
        "y\n",
        "\\end{bmatrix} =\n",
        "\\begin{bmatrix}\n",
        "2 & 1 \\\\\n",
        "3 & 4\n",
        "\\end{bmatrix}^{-1} \\cdot\n",
        "\\begin{bmatrix}\n",
        "5 \\\\\n",
        "10\n",
        "\\end{bmatrix}\n",
        "$$\n"
      ]
    },
    {
      "cell_type": "code",
      "execution_count": null,
      "metadata": {
        "id": "shfJgAqz1PTr",
        "outputId": "2e848284-f8b4-4ddc-fc8d-38caa8f49690"
      },
      "outputs": [
        {
          "name": "stdout",
          "output_type": "stream",
          "text": [
            "[[ 0.8 -0.2]\n",
            " [-0.6  0.4]]\n"
          ]
        }
      ],
      "source": [
        "# Find the inverse of a matrix [[2, 1], [3, 4]]\n",
        "\n",
        "import numpy as np\n",
        "\n",
        "A = np.array([[2, 1], [3, 4]])\n",
        "A_inv = np.linalg.inv(A)\n",
        "print(A_inv)\n"
      ]
    },
    {
      "cell_type": "markdown",
      "metadata": {
        "id": "kF9A3a9T1PTt"
      },
      "source": [
        "$$\n",
        "I \\cdot \\begin{bmatrix}\n",
        "x \\\\\n",
        "y\n",
        "\\end{bmatrix} =\n",
        "\\begin{bmatrix}\n",
        "0.8 & -0.2 \\\\\n",
        "-0.6 & 0.4\n",
        "\\end{bmatrix} \\cdot\n",
        "\\begin{bmatrix}\n",
        "5 \\\\\n",
        "10\n",
        "\\end{bmatrix}\n",
        "$$\n",
        "\n",
        "$$\n",
        "\\begin{bmatrix}\n",
        "x \\\\\n",
        "y\n",
        "\\end{bmatrix} =\n",
        "\\begin{bmatrix}\n",
        "2 \\\\\n",
        "1\n",
        "\\end{bmatrix}\n",
        "$$\n"
      ]
    },
    {
      "cell_type": "markdown",
      "metadata": {
        "id": "jnd48YMe1PTt"
      },
      "source": [
        "## Features can be represented as vectors and matrices\n",
        "\n",
        "In machine learning, we can represent features as vectors. For example, if we have a dataset of 100 people, and each person has 3 features: age, height, and weight, then we can represent each person as a vector of 3 elements.\n",
        "\n",
        "$$\n",
        "person = \\begin{bmatrix}\n",
        "age \\\\\n",
        "height \\\\\n",
        "weight\n",
        "\\end{bmatrix}\n",
        "$$\n",
        "\n",
        "and we can represent the whole dataset as a matrix of 100 rows and 3 columns.\n",
        "\n",
        "\n",
        "$$\n",
        "people = \\begin{bmatrix}\n",
        "person_{1}^{T} \\\\\n",
        "person_{2}^{T} \\\\\n",
        "\\vdots \\\\\n",
        "person_{100}^{T}\n",
        "\\end{bmatrix}\n",
        "= \\begin{bmatrix}\n",
        "age_{1} & height_{1} & weight_{1} \\\\\n",
        "age_{2} & height_{2} & weight_{2} \\\\\n",
        "\\vdots & \\vdots & \\vdots \\\\\n",
        "age_{100} & height_{100} & weight_{100}\n",
        "\\end{bmatrix}\n",
        "$$"
      ]
    },
    {
      "cell_type": "markdown",
      "metadata": {
        "id": "QQLxyJr31PTt"
      },
      "source": [
        "## Sigma Notation\n",
        "\n",
        "Sigma notation is a way to write a sum of many terms. For example, the following is a sum of 5 terms\n",
        "\n",
        "$$\n",
        "\\sum_{i=1}^{5} x_{i} = x_{1} + x_{2} + x_{3} + x_{4} + x_{5}\n",
        "$$\n",
        "\n",
        "In a code it's just a for loop\n",
        "\n",
        "```python\n",
        "sum = 0\n",
        "for i in range(1, 6):\n",
        "    sum += x[i]\n",
        "```"
      ]
    },
    {
      "cell_type": "markdown",
      "metadata": {
        "id": "h6eV8acU1PTt"
      },
      "source": [
        "## Product Notation\n",
        "\n",
        "Product notation is a way to write a product of many terms. For example, the following is a product of 5 terms\n",
        "\n",
        "$$\n",
        "\\prod_{i=1}^{5} x_{i} = x_{1} \\times x_{2} \\times x_{3} \\times x_{4} \\times x_{5}\n",
        "$$\n",
        "\n",
        "In a code it's just a for loop\n",
        "\n",
        "```python\n",
        "product = 1\n",
        "for i in range(1, 6):\n",
        "    product *= x[i]\n",
        "```"
      ]
    }
  ],
  "metadata": {
    "kernelspec": {
      "display_name": "Python 3",
      "language": "python",
      "name": "python3"
    },
    "language_info": {
      "codemirror_mode": {
        "name": "ipython",
        "version": 3
      },
      "file_extension": ".py",
      "mimetype": "text/x-python",
      "name": "python",
      "nbconvert_exporter": "python",
      "pygments_lexer": "ipython3",
      "version": "3.11.1"
    },
    "orig_nbformat": 4,
    "colab": {
      "provenance": []
    }
  },
  "nbformat": 4,
  "nbformat_minor": 0
}