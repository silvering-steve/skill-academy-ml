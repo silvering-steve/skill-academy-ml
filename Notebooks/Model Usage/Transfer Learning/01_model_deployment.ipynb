{
  "cells": [
    {
      "cell_type": "markdown",
      "metadata": {
        "id": "ZsSJXEx0e2t7"
      },
      "source": [
        "> Note: Materi ini merupakan materi supplemental, tidak bersifat wajib. Namun akan mendukung kalian menjadi seorang _AI engineer_ yang handal."
      ]
    },
    {
      "cell_type": "markdown",
      "metadata": {
        "id": "AWlFzQ6Mg5Hr"
      },
      "source": [
        "# Model Deployment"
      ]
    },
    {
      "cell_type": "markdown",
      "metadata": {
        "id": "QzOZIm_UhAqF"
      },
      "source": [
        "Model deployment is a crucial step in the machine learning development where the trained model is made accessible for users and integrated into applications.\n",
        "\n",
        "It involves saving the model after training and providing a means for users, frontend (FE), and/or backend (BE) systems to access predictions.\n",
        "In this notebook, we'll cover various aspects of model deployment, including different deployment options and strategies for optimizing models for deployment on CPU deployment"
      ]
    },
    {
      "cell_type": "markdown",
      "metadata": {
        "id": "qB4M2V2whC0w"
      },
      "source": [
        "## Various type of Model Deployment\n",
        "Deploying a machine learning model means making it accessible to users and other systems. This involves creating an interface through which users can provide input data and receive predictions. Here are some common deployment options:\n",
        "\n",
        "*  API (Application Programming Interface): An API serves as a bridge between your model and external applications. Flask and FastAPI are popular frameworks for building APIs in Python.\n",
        "\n",
        "*  Mobile Apps: For mobile deployment, you can use frameworks like **PyTorch Mobile**, **TensorFlow Lite (TFLite)**  **CoreML**. These frameworks allow you to integrate your model into Android or iOS applications, enabling real-time inference on mobile devices.\n",
        "\n",
        "*  PC Apps: When deploying models in desktop applications, the choice of technology depends on the application platform. For Python-based apps, you can use libraries like Tkinter or PyQt. For cross-platform apps, consider using Flutter for a consistent user experience across different operating systems.\n",
        "\n",
        "*  Web Apps: You also can deploy your model using Tensorflow JS to a web app without having to rely on a backend server, With Tensorflow JS you can use both CPU and GPU from user for accelerating the model deployment process. Keep in mind that if we deploy our model to a web app, we'll basically use end-user computing power to process our model, so consider only using this method on simple and small model."
      ]
    },
    {
      "cell_type": "markdown",
      "source": [
        "- inference time -->"
      ],
      "metadata": {
        "id": "Z8ClA9cKfuGS"
      }
    },
    {
      "cell_type": "markdown",
      "metadata": {
        "id": "GSN6LUUTe2uE"
      },
      "source": [
        "# Model Optimization for Deployment"
      ]
    },
    {
      "cell_type": "markdown",
      "metadata": {
        "id": "b3W0QxajhFZU"
      },
      "source": [
        "In this notebook, we'll focus on optimizing models for deployment on CPU environments by quantize model using ONNX (Open Neural Network Exchange) framework"
      ]
    },
    {
      "cell_type": "markdown",
      "metadata": {
        "id": "MHQzFZItVEY-"
      },
      "source": [
        "But before we begin, Why using ONNX instead of Tensofrlow or Pytorch directly?\n",
        "\n",
        "1. **ONNX is faster for inference** using ONNX Runtime to do inference, resulted slightly faster inference time than pytorch in some cases in fp32 weights, but more faster in fp16 weights [example case](https://cloudblogs.microsoft.com/opensource/2022/04/19/scaling-up-pytorch-inference-serving-billions-of-daily-nlp-inferences-with-onnx-runtime/) (will discuss more in the next section about fp32, fp16 and int8 later)\n",
        "\n",
        "2. **Framework Interoperability**: ONNX allows you to train a model in one language and then export and run it in another. This can be very advantageous for teams that use different frameworks or if you want to build a model in one language and then deploy it in another.\n",
        "\n",
        "3. **Portability and Deployment Ease**: ONNX can be used for running models on various platforms including cloud, edge devices, or on-premises servers. This way, you can avoid rewriting and retraining models for all these settings.\n",
        "\n",
        "4. **Broad Support**: Several well-known organizations and software vendors have thrown their support behind ONNX, ensuring that it would not be abandoned anytime soon. These include Microsoft, Facebook, Amazon, Intel, AMD, NVIDIA, IBM, and more.\n"
      ]
    },
    {
      "cell_type": "code",
      "source": [
        "tensorflow, pytorch, sklearn, xgboost, lightgbm, catboost\n",
        "# optimize Inference"
      ],
      "metadata": {
        "id": "-Jeqjh5egIHH"
      },
      "execution_count": null,
      "outputs": []
    },
    {
      "cell_type": "code",
      "source": [
        "tensorflow --> convert --> onnx"
      ],
      "metadata": {
        "id": "_97UE1sogPBL"
      },
      "execution_count": null,
      "outputs": []
    },
    {
      "cell_type": "markdown",
      "metadata": {
        "id": "_jfQcffDBxpn"
      },
      "source": [
        "Install depedencies"
      ]
    },
    {
      "cell_type": "code",
      "execution_count": null,
      "metadata": {
        "colab": {
          "base_uri": "https://localhost:8080/"
        },
        "id": "NFBXktBtwAqS",
        "outputId": "8d8ed07e-b733-4266-dbb9-f1328ea90a35"
      },
      "outputs": [
        {
          "output_type": "stream",
          "name": "stdout",
          "text": [
            "Installing collected packages: sentencepiece, xxhash, onnx, humanfriendly, dill, responses, multiprocess, coloredlogs, onnxruntime, datasets, evaluate, optimum\n",
            "Successfully installed coloredlogs-15.0.1 datasets-2.14.5 dill-0.3.7 evaluate-0.4.0 humanfriendly-10.0 multiprocess-0.70.15 onnx-1.14.1 onnxruntime-1.15.1 optimum-1.13.1 responses-0.18.0 sentencepiece-0.1.99 xxhash-3.3.0\n"
          ]
        }
      ],
      "source": [
        "!pip install torch torchvision torchaudio --index-url https://download.pytorch.org/whl/cpu\n",
        "!pip install transformers\n",
        "!pip install optimum[\"onnxruntime\"]"
      ]
    },
    {
      "cell_type": "markdown",
      "metadata": {
        "id": "X81Z8yUGNjzF"
      },
      "source": [
        "# Accelerate inference using model quantization"
      ]
    },
    {
      "cell_type": "code",
      "source": [
        "float 32, int 32 int 16 --> int8/flowt 8\n",
        "\n",
        "# biaya akan tinggi, karna resource yg dibutuhin tinggi\n",
        "# resource turun > cost turun > bisnis untung"
      ],
      "metadata": {
        "id": "HYVm5jg2gd79"
      },
      "execution_count": null,
      "outputs": []
    },
    {
      "cell_type": "markdown",
      "metadata": {
        "id": "jE7befcDOkNQ"
      },
      "source": [
        "## Create Performance Baseline"
      ]
    },
    {
      "cell_type": "markdown",
      "metadata": {
        "id": "4uGAMWNdNVS_"
      },
      "source": [
        "Before optimizing a model, it's important to establish a baseline for comparison so later we can compare it and see if our optimization has any effect. In this case, we'll measure\n",
        "*  Time taken to generate predictions on the CPU using the original model.\n",
        "*  Model performance, in this case is accuracy\n",
        "\n",
        "Here we are using Fine-tuned model (model from transfer learning) as our baseline model\n",
        "The dataset used for this notebook is [indonlu-smsa](https://huggingface.co/datasets/indonlp/indonlu), which used for sentiment analysis"
      ]
    },
    {
      "cell_type": "code",
      "execution_count": null,
      "metadata": {
        "id": "svrCGu6pNTOm"
      },
      "outputs": [],
      "source": [
        "from transformers import AutoTokenizer, AutoModelForSequenceClassification\n",
        "from transformers import pipeline\n",
        "import time\n",
        "\n",
        "tokenizer = AutoTokenizer.from_pretrained(\"ayameRushia/roberta-base-indonesian-1.5G-sentiment-analysis-smsa\")\n",
        "model = AutoModelForSequenceClassification.from_pretrained(\"ayameRushia/roberta-base-indonesian-1.5G-sentiment-analysis-smsa\")\n",
        "\n",
        "cls = pipeline(\"text-classification\", model=model, tokenizer=tokenizer)"
      ]
    },
    {
      "cell_type": "markdown",
      "metadata": {
        "id": "gZV2VKX3N-if"
      },
      "source": [
        "Download Dataset for Testing from Huggingface dataset, in here we will use dataset from [indonlu-smsa](https://huggingface.co/datasets/indonlp/indonlu)"
      ]
    },
    {
      "cell_type": "code",
      "execution_count": null,
      "metadata": {
        "id": "FC5W7-ZLN-FQ"
      },
      "outputs": [],
      "source": [
        "from datasets import load_dataset\n",
        "\n",
        "dataset = load_dataset(\"indonlp/indonlu\", \"smsa\")\n",
        "\n",
        "# establish testing input and label\n",
        "testing_input = dataset[\"test\"][\"text\"]\n",
        "testing_label = dataset[\"test\"][\"label\"]"
      ]
    },
    {
      "cell_type": "code",
      "execution_count": null,
      "metadata": {
        "id": "btg44DvM2dzP",
        "colab": {
          "base_uri": "https://localhost:8080/"
        },
        "outputId": "33c4999b-64b3-4182-f193-1a8115045db6"
      },
      "outputs": [
        {
          "output_type": "stream",
          "name": "stdout",
          "text": [
            "['meski masa kampanye sudah selesai , bukan berati habis pula upaya mengerek tingkat kedipilihan elektabilitas .', 'tidak enak', 'restoran ini menawarkan makanan sunda . kami memesan ayam goreng , kangkung , sayur asam , ikan gurame goreng , ikan bakar , nasi goreng , karedok , tahu tempe , nasi putih , nasi merah etc minuman yang mereka tawarkan juga cukup variatif . rasa makanan enak dan harga murah . kami 9 dewasa dan 5 anak kecil , hanya menghabiskan 800,000', 'lokasi di alun alun masakan padang ini cukup terkenal dengan kepala ikan kakap gule , biasa saya pesan nasi bungkus padang berisikan rendang , ayam pop dan perkedel . porsi banyak dan mengenyangkan', 'betapa bejad kader gerindra yang anggota dprd mencabuli anak smp , rakyat harus cerdas partai mana yang harus di tengelamkan di 2019']\n",
            "[1, 2, 0, 0, 2]\n"
          ]
        }
      ],
      "source": [
        "# sneak peek to testing data\n",
        "\n",
        "print(testing_input[:5])\n",
        "print(testing_label[:5])"
      ]
    },
    {
      "cell_type": "code",
      "source": [
        "dataset['train']"
      ],
      "metadata": {
        "colab": {
          "base_uri": "https://localhost:8080/",
          "height": 179
        },
        "id": "x1sCwz9Yg-qG",
        "outputId": "0aaa1a79-8afd-4d22-8ed7-dc7b6c8e4322"
      },
      "execution_count": null,
      "outputs": [
        {
          "output_type": "error",
          "ename": "AttributeError",
          "evalue": "ignored",
          "traceback": [
            "\u001b[0;31m---------------------------------------------------------------------------\u001b[0m",
            "\u001b[0;31mAttributeError\u001b[0m                            Traceback (most recent call last)",
            "\u001b[0;32m<ipython-input-8-967886fcc2e7>\u001b[0m in \u001b[0;36m<cell line: 1>\u001b[0;34m()\u001b[0m\n\u001b[0;32m----> 1\u001b[0;31m \u001b[0mdataset\u001b[0m\u001b[0;34m[\u001b[0m\u001b[0;34m'train'\u001b[0m\u001b[0;34m]\u001b[0m\u001b[0;34m[\u001b[0m\u001b[0;34m'label'\u001b[0m\u001b[0;34m]\u001b[0m\u001b[0;34m.\u001b[0m\u001b[0mnames\u001b[0m\u001b[0;34m\u001b[0m\u001b[0;34m\u001b[0m\u001b[0m\n\u001b[0m",
            "\u001b[0;31mAttributeError\u001b[0m: 'list' object has no attribute 'names'"
          ]
        }
      ]
    },
    {
      "cell_type": "markdown",
      "metadata": {
        "id": "3vWwTBBNOW-E"
      },
      "source": [
        "### Measure Accuracy and time taken to inference all testing data"
      ]
    },
    {
      "cell_type": "code",
      "execution_count": null,
      "metadata": {
        "id": "qz4Ybd6kPSq8",
        "colab": {
          "base_uri": "https://localhost:8080/",
          "height": 49,
          "referenced_widgets": [
            "ca0f9717f6344a2d9046564d2fd15ac6",
            "4050be3142da4a5f85b158607966b71d",
            "0da0968067bd483e944bb0291ad83538",
            "f154c1eedf6545c3a1cfb71d7050e02d",
            "5dd8d1a022774a6d8e5be08c6afaf210",
            "d8e177de452c4fc48b0e4df3b991b5e0",
            "c1ab36d93c1d4238bd9fc1bd419295a4",
            "07455e2c5f184ebab566c758f37351f0",
            "24a3d85fae8e4665932871e307868eff",
            "7c5bc2c91ba641f4b9496f67c5233157",
            "fcfb35e663b5401b9a1d6e1104e3ba1b"
          ]
        },
        "outputId": "dab9c083-052a-4b1e-fa3f-e5486f282933"
      },
      "outputs": [
        {
          "output_type": "display_data",
          "data": {
            "text/plain": [
              "Downloading builder script:   0%|          | 0.00/4.20k [00:00<?, ?B/s]"
            ],
            "application/vnd.jupyter.widget-view+json": {
              "version_major": 2,
              "version_minor": 0,
              "model_id": "ca0f9717f6344a2d9046564d2fd15ac6"
            }
          },
          "metadata": {}
        }
      ],
      "source": [
        "import evaluate\n",
        "\n",
        "# We use the evaluate function to evaluate our model on the testing data, and the metrisc we want to use is accuracy\n",
        "precision_metric = evaluate.load(\"accuracy\")"
      ]
    },
    {
      "cell_type": "markdown",
      "metadata": {
        "id": "SISuMwRiPKtP"
      },
      "source": [
        "Measure inference time of the baseline model"
      ]
    },
    {
      "cell_type": "code",
      "execution_count": null,
      "metadata": {
        "id": "YXMCMbd4OWdw",
        "colab": {
          "base_uri": "https://localhost:8080/"
        },
        "outputId": "8f493cfd-8fdf-4f21-950d-85c602793afe"
      },
      "outputs": [
        {
          "output_type": "stream",
          "name": "stdout",
          "text": [
            "Total inference time for vanilla model is 86.715 s\n",
            "average inference time for vanilla model is 0.173 s\n"
          ]
        }
      ],
      "source": [
        "t1 = time.time()\n",
        "result = cls(testing_input)\n",
        "result = [model.config.label2id[x[\"label\"]] for x in result]\n",
        "t2 = time.time()\n",
        "\n",
        "inference_time_vanilla = t2-t1\n",
        "avg_time_vanilla = inference_time_vanilla/len(result)\n",
        "\n",
        "print(f'Total inference time for vanilla model is {inference_time_vanilla:.3f} s')\n",
        "print(f'average inference time for vanilla model is {avg_time_vanilla:.3f} s')"
      ]
    },
    {
      "cell_type": "markdown",
      "metadata": {
        "id": "7piB5K_XPOMw"
      },
      "source": [
        "Measure accuracy of the baseline model"
      ]
    },
    {
      "cell_type": "code",
      "execution_count": null,
      "metadata": {
        "id": "OW7vWmaHPJ2w",
        "colab": {
          "base_uri": "https://localhost:8080/"
        },
        "outputId": "25b53fb0-a2d5-40e2-aa09-3024abc6a124"
      },
      "outputs": [
        {
          "output_type": "stream",
          "name": "stdout",
          "text": [
            "Accuracy of the vanilla model on testing dataset 88.400%\n"
          ]
        }
      ],
      "source": [
        "results_vanilla = precision_metric.compute(\n",
        "    references=testing_label, predictions=result)\n",
        "\n",
        "print(f'Accuracy of the vanilla model on testing dataset {results_vanilla[\"accuracy\"]*100:.3f}%')"
      ]
    },
    {
      "cell_type": "markdown",
      "metadata": {
        "id": "7nL48bmsPd2z"
      },
      "source": [
        "## Now lets try optimize our model"
      ]
    },
    {
      "cell_type": "markdown",
      "metadata": {
        "id": "SRVyggnZ2dzQ"
      },
      "source": [
        "### Quantization Model"
      ]
    },
    {
      "cell_type": "markdown",
      "metadata": {
        "id": "faKH2cdK2dzQ"
      },
      "source": [
        "The optimization process taken in this notebook is called quantization\n",
        "\n",
        "Quantization is a technique to reduce the computational and memory costs of running inference by representing the **weights** and **activations** with low-precision data types like 8-bit integer (int8) instead of the usual 32-bit floating point (float32).\n",
        "\n",
        "Reducing the number of bits means the resulting model requires less memory storage, consumes less energy (in theory), and operations like matrix multiplication can be performed much faster with integer arithmetic. It also allows to run models on embedded devices, which sometimes only support integer data types.\n",
        "\n",
        "While the quantization process substantially reduces the computational and memory load by using low-precision data types like 8-bit integers for representing weights and activations, it's crucial to be aware of its impact on model accuracy. The inherent reduction in precision due to quantization can potentially degrade model performance, as it relies on a degree of approximation. This may not be acceptable for use-cases necessitating high precision."
      ]
    },
    {
      "cell_type": "markdown",
      "metadata": {
        "id": "EGdnp6_xVEZP"
      },
      "source": [
        "There are two ways of doing quantization, we won't be explaining the concept in detail, but rather the difference in their output for both methods :\n",
        "\n",
        "1. Quantization parameters can be computed on a **per-tensor** basis, faster but slightly less accurate and requires less memory.\n",
        "\n",
        "2. Quantization parameters can be computed on a **per-channel** basis, better accuracy, it requires more memory and slower"
      ]
    },
    {
      "cell_type": "markdown",
      "metadata": {
        "id": "u27GQj4nVEZP"
      },
      "source": [
        "#### Quantization Calibration"
      ]
    },
    {
      "cell_type": "markdown",
      "metadata": {
        "id": "Q8-_WyeMVEZP"
      },
      "source": [
        "Calibration is the step during quantization where the float32 ranges are computed. For **weight**s it is quite easy since the actual range is known at quantization-time. But it is less clear for\n",
        "**activations**, and different approaches exist:\n",
        "\n",
        "1. Post training dynamic quantization: the range for each activation is computed on the fly at runtime, This is the simplest approach but slower when compared to static quantization\n",
        "\n",
        "2. Post training static quantization: the range for each activation is computed in advance at quantization-time, typically by passing representative data through the model and recording the activation values. Thus, make the inference time faster"
      ]
    },
    {
      "cell_type": "markdown",
      "metadata": {
        "id": "tX8R0IecVEZP"
      },
      "source": [
        "#### In this notebook we will use per-tensor quantization with post training dynamic quantization\n",
        "Without further ado, let's quantize our model!"
      ]
    },
    {
      "cell_type": "markdown",
      "metadata": {
        "id": "hDmBqbjfBz0J"
      },
      "source": [
        "First we export our model to onnx from pytorch"
      ]
    },
    {
      "cell_type": "code",
      "execution_count": null,
      "metadata": {
        "id": "iPHGaX5RwSd0",
        "colab": {
          "base_uri": "https://localhost:8080/"
        },
        "outputId": "0e28ef28-735c-4bfc-fac4-d8e9de125644"
      },
      "outputs": [
        {
          "output_type": "stream",
          "name": "stderr",
          "text": [
            "Framework not specified. Using pt to export to ONNX.\n",
            "Using the export variant default. Available variants are:\n",
            "\t- default: The default ONNX variant.\n",
            "Using framework PyTorch: 2.0.1+cu118\n",
            "Overriding 1 configuration item(s)\n",
            "\t- use_cache -> False\n"
          ]
        },
        {
          "output_type": "stream",
          "name": "stdout",
          "text": [
            "============= Diagnostic Run torch.onnx.export version 2.0.1+cu118 =============\n",
            "verbose: False, log level: Level.ERROR\n",
            "======================= 0 NONE 0 NOTE 0 WARNING 0 ERROR ========================\n",
            "\n"
          ]
        }
      ],
      "source": [
        "from optimum.onnxruntime import ORTModelForSequenceClassification, ORTQuantizer\n",
        "from optimum.onnxruntime.configuration import AutoQuantizationConfig\n",
        "\n",
        "# Load the model from the hub and export it to the ONNX format\n",
        "model = ORTModelForSequenceClassification.from_pretrained(\n",
        "    \"ayameRushia/roberta-base-indonesian-1.5G-sentiment-analysis-smsa\", export=True)"
      ]
    },
    {
      "cell_type": "markdown",
      "metadata": {
        "id": "f_JR22EeCbMD"
      },
      "source": [
        "\n",
        "#### After exporting the model to onnx we will use ORTQuantizer to quantize our model and add quantization config.\n",
        "\n",
        "##### Load quantizer for our pretrained/fine-tuned model\n",
        "##### Add quantization config based on your CPU type:\n",
        "      - AVX512 (general user CPU, intel and amd)\n",
        "      - ARM (mobile CPU, apple silicon, embedded device such as Jetson Nano from nvidia or raspberry pi)\n",
        "      - AVX2 (older CPU, intel and amd)\n",
        "\n",
        "\n",
        "##### In **Google Colab** we assume that we use AVX512 CPU, so we will use quantization config for AVX512\n",
        "##### Define quantization type and calibration type, which is **dynamic quantization** and **per-tensor quantization**\n",
        "\n",
        "\n"
      ]
    },
    {
      "cell_type": "code",
      "execution_count": null,
      "metadata": {
        "id": "RVvtq9DUwT6Z"
      },
      "outputs": [],
      "source": [
        "quantizer = ORTQuantizer.from_pretrained(model)\n",
        "dqconfig = AutoQuantizationConfig.avx512_vnni(is_static=False, per_channel=False)"
      ]
    },
    {
      "cell_type": "markdown",
      "metadata": {
        "id": "zknq0rB8C3mD"
      },
      "source": [
        "Then, quantize the model using defined quantizer and quantization config"
      ]
    },
    {
      "cell_type": "code",
      "execution_count": null,
      "metadata": {
        "id": "NMbsK1tUC3Fs",
        "colab": {
          "base_uri": "https://localhost:8080/"
        },
        "outputId": "0fd69330-b24f-402d-f21b-1b6a0e026c9d"
      },
      "outputs": [
        {
          "output_type": "stream",
          "name": "stderr",
          "text": [
            "Creating dynamic quantizer: QOperator (mode: IntegerOps, schema: u8/s8, channel-wise: False)\n",
            "Quantizing model...\n",
            "Saving quantized model at: model/model_onnx (external data format: False)\n",
            "Configuration saved in model/model_onnx/ort_config.json\n"
          ]
        }
      ],
      "source": [
        "save_dir = \"model/model_onnx\"\n",
        "\n",
        "model_quantized_path = quantizer.quantize(\n",
        "    save_dir=save_dir,\n",
        "    quantization_config=dqconfig,\n",
        ")"
      ]
    },
    {
      "cell_type": "markdown",
      "metadata": {
        "id": "LjZH4luQVEZS"
      },
      "source": [
        "In hypothesis, after quantizing our model from fp32 to int8, the model size will be reduced and the inference time will be faster\n",
        "Then, lets first compute the size of the model before and after quantization"
      ]
    },
    {
      "cell_type": "code",
      "execution_count": null,
      "metadata": {
        "id": "tjHTbW30Q2uN",
        "colab": {
          "base_uri": "https://localhost:8080/"
        },
        "outputId": "794f5b84-b2d7-411c-97a6-8694b6768e6e"
      },
      "outputs": [
        {
          "output_type": "stream",
          "name": "stdout",
          "text": [
            "Size of the quantized model is 120.984 MB\n"
          ]
        }
      ],
      "source": [
        "import os\n",
        "\n",
        "size_model_q = os.path.getsize(\"/content/model/model_onnx/model_quantized.onnx\")/1024/1024  # divide by 1024 because the result is in bytes, divide by 1024 again to get the result in MB\n",
        "print(f\"Size of the quantized model is {size_model_q:.3f} MB\")"
      ]
    },
    {
      "cell_type": "markdown",
      "metadata": {
        "id": "tTXKIcZTVEZS"
      },
      "source": [
        "The result is pretty good, we reduce the model size from 518 MB (vanilla pytorch) to only 120.98 MB (quantized model)"
      ]
    },
    {
      "cell_type": "markdown",
      "metadata": {
        "id": "VpIosb57C-VG"
      },
      "source": [
        "Now, lets try to measure the inference time of the quantized model\n",
        "\n",
        "Create pipeline using quantized model from optimum (also library from huggingface)"
      ]
    },
    {
      "cell_type": "code",
      "execution_count": null,
      "metadata": {
        "id": "TFEx5T4uwUcK"
      },
      "outputs": [],
      "source": [
        "from optimum.pipelines import pipeline\n",
        "\n",
        "model = ORTModelForSequenceClassification.from_pretrained(\"model/model_onnx\")\n",
        "onnx_clx = pipeline(\"text-classification\", model=model)"
      ]
    },
    {
      "cell_type": "code",
      "execution_count": null,
      "metadata": {
        "id": "qoL5ATxHwuwc"
      },
      "outputs": [],
      "source": [
        "t1_onnx = time.time()\n",
        "result_q = onnx_clx(dataset[\"test\"][\"text\"])\n",
        "result_q = [model.config.label2id[x[\"label\"]] for x in result_q]\n",
        "t2_onnx = time.time()\n",
        "\n",
        "time_onnx = (t2_onnx-t1_onnx)/len(result_q) * 1000"
      ]
    },
    {
      "cell_type": "markdown",
      "metadata": {
        "id": "KxjxLP5pVEZX"
      },
      "source": [
        "After measure the inference time, lets measure its performance using evaluate function"
      ]
    },
    {
      "cell_type": "code",
      "execution_count": null,
      "metadata": {
        "id": "2iwZvwydKc20"
      },
      "outputs": [],
      "source": [
        "import evaluate\n",
        "precision_metric = evaluate.load(\"accuracy\")\n",
        "results_q = precision_metric.compute(references=dataset[\"validation\"][\"label\"], predictions=result_q)\n",
        "print(f'Accuracy of the vanilla model on testing dataset {results_q[\"accuracy\"]*100:.3f}%')"
      ]
    },
    {
      "cell_type": "markdown",
      "metadata": {
        "id": "tDTLesn9VEZY"
      },
      "source": [
        "## Comparison Visualization"
      ]
    },
    {
      "cell_type": "code",
      "execution_count": null,
      "metadata": {
        "id": "ObAOJ67XTtQH",
        "outputId": "adafb3f4-f34e-4307-d30d-044d144adc6d"
      },
      "outputs": [
        {
          "data": {
            "image/png": "[encoded data removed]",
            "text/plain": [
              "<Figure size 800x600 with 1 Axes>"
            ]
          },
          "metadata": {},
          "output_type": "display_data"
        }
      ],
      "source": [
        "import matplotlib.pyplot as plt\n",
        "\n",
        "labels = ['Results (Q)', 'Results']\n",
        "accuracy_values = [results_q['accuracy'], results_vanilla['accuracy']]\n",
        "\n",
        "plt.figure(figsize=(8, 6))\n",
        "plt.bar(labels, accuracy_values, color=['blue', 'green'])\n",
        "plt.ylim(0.9, 1.0)  # Set the y-axis limits to ensure the entire range is visible\n",
        "\n",
        "# Add labels and a title\n",
        "plt.xlabel('Results')\n",
        "plt.ylabel('Accuracy')\n",
        "plt.title('Accuracy Comparison')\n",
        "\n",
        "# Add text labels above the bars\n",
        "for i in range(len(labels)):\n",
        "    plt.text(i, accuracy_values[i] + 0.005, f'{accuracy_values[i]:.5f}', ha='center', fontsize=12)\n",
        "\n",
        "# Show the plot\n",
        "plt.show()"
      ]
    },
    {
      "cell_type": "code",
      "execution_count": null,
      "metadata": {
        "id": "z81kMZF1UYmJ",
        "outputId": "d4dfb169-1d6a-472a-e564-13ea8b03ad32"
      },
      "outputs": [
        {
          "data": {
            "image/png": "[encoded data removed]",
            "text/plain": [
              "<Figure size 800x600 with 1 Axes>"
            ]
          },
          "metadata": {},
          "output_type": "display_data"
        }
      ],
      "source": [
        "import matplotlib.pyplot as plt\n",
        "\n",
        "# Define the inference times\n",
        "time_onnx = (t2_onnx - t1_onnx) / len(result_q)\n",
        "time_vanilla = (t2 - t1) / len(result)\n",
        "\n",
        "# Create a bar chart to visualize the inference times\n",
        "labels = ['ONNX Model', 'Vanilla Model']\n",
        "inference_times = [time_onnx, time_vanilla]\n",
        "\n",
        "plt.figure(figsize=(8, 6))\n",
        "plt.bar(labels, inference_times, color=['blue', 'green'])\n",
        "plt.ylim(0, max(inference_times) * 1.2)  # Set the y-axis limits to ensure the entire range is visible\n",
        "\n",
        "# Add labels and a title\n",
        "plt.xlabel('Model Type')\n",
        "plt.ylabel('Inference Time (per sample)')\n",
        "plt.title('Average Inference Time Comparison (per sample)')\n",
        "\n",
        "# Add text labels above the bars\n",
        "for i in range(len(labels)):\n",
        "    plt.text(i, inference_times[i] + max(inference_times) * 0.02, f'{inference_times[i]:.4f} seconds', ha='center', fontsize=12)\n",
        "\n",
        "# Show the plot\n",
        "plt.show()\n"
      ]
    },
    {
      "cell_type": "code",
      "execution_count": null,
      "metadata": {
        "id": "qhmX-1etdAZD"
      },
      "outputs": [],
      "source": [
        "optimization_percentage = ((time_vanilla - time_onnx) / time_vanilla) * 100\n",
        "print(f'Inference time optimized by {optimization_percentage:.3f}%')"
      ]
    },
    {
      "cell_type": "code",
      "source": [
        "Project #3 - Deep Learning (Deadline, Diperpanjang hingga Senin 5 Februari 2024 Pukul 23.59 WIB)\n",
        "Project #4 - Pytorch (Deadline HARI INI Jumat, 2 Februari 2024 Pukul 23.59 WIB)\n",
        "Project #5 - Pipeline and Gradio (Deadline Rabu, 7 Februari 2024 Pukul 23.59 WIB)\n",
        "Project #6 - Transfer Learning (Deadline Jumat, 16 Februari 2024 Pukul 23.59 WIB)\n",
        "Post Test Course 4 - Model Usage dapat diakses di LMS\n",
        "--> Kelas Saya --> Kelas Skill Academy Pro Live Lainnya\n",
        "--> Course 4: Post Test Model Usage - Mastering AI Bootcamp Batch 2 (Deadline Senin, 5 Februari 2024 Pukul 23.59 WIB)"
      ],
      "metadata": {
        "id": "AlnNsrONOEOr"
      },
      "execution_count": null,
      "outputs": []
    },
    {
      "cell_type": "code",
      "source": [
        "Inference > waktu nya jadi berkurang, resource nya berkurang > performat tidak turun terlalu jauh"
      ],
      "metadata": {
        "id": "5GRjIc0eO28n"
      },
      "execution_count": null,
      "outputs": []
    }
  ],
  "metadata": {
    "colab": {
      "provenance": []
    },
    "kernelspec": {
      "display_name": "Python 3 (ipykernel)",
      "language": "python",
      "name": "python3"
    },
    "language_info": {
      "codemirror_mode": {
        "name": "ipython",
        "version": 3
      },
      "file_extension": ".py",
      "mimetype": "text/x-python",
      "name": "python",
      "nbconvert_exporter": "python",
      "pygments_lexer": "ipython3",
      "version": "3.11.3"
    },
    "widgets": {
      "application/vnd.jupyter.widget-state+json": {
        "ca0f9717f6344a2d9046564d2fd15ac6": {
          "model_module": "@jupyter-widgets/controls",
          "model_name": "HBoxModel",
          "model_module_version": "1.5.0",
          "state": {
            "_dom_classes": [],
            "_model_module": "@jupyter-widgets/controls",
            "_model_module_version": "1.5.0",
            "_model_name": "HBoxModel",
            "_view_count": null,
            "_view_module": "@jupyter-widgets/controls",
            "_view_module_version": "1.5.0",
            "_view_name": "HBoxView",
            "box_style": "",
            "children": [
              "IPY_MODEL_4050be3142da4a5f85b158607966b71d",
              "IPY_MODEL_0da0968067bd483e944bb0291ad83538",
              "IPY_MODEL_f154c1eedf6545c3a1cfb71d7050e02d"
            ],
            "layout": "IPY_MODEL_5dd8d1a022774a6d8e5be08c6afaf210"
          }
        },
        "4050be3142da4a5f85b158607966b71d": {
          "model_module": "@jupyter-widgets/controls",
          "model_name": "HTMLModel",
          "model_module_version": "1.5.0",
          "state": {
            "_dom_classes": [],
            "_model_module": "@jupyter-widgets/controls",
            "_model_module_version": "1.5.0",
            "_model_name": "HTMLModel",
            "_view_count": null,
            "_view_module": "@jupyter-widgets/controls",
            "_view_module_version": "1.5.0",
            "_view_name": "HTMLView",
            "description": "",
            "description_tooltip": null,
            "layout": "IPY_MODEL_d8e177de452c4fc48b0e4df3b991b5e0",
            "placeholder": "​",
            "style": "IPY_MODEL_c1ab36d93c1d4238bd9fc1bd419295a4",
            "value": "Downloading builder script: 100%"
          }
        },
        "0da0968067bd483e944bb0291ad83538": {
          "model_module": "@jupyter-widgets/controls",
          "model_name": "FloatProgressModel",
          "model_module_version": "1.5.0",
          "state": {
            "_dom_classes": [],
            "_model_module": "@jupyter-widgets/controls",
            "_model_module_version": "1.5.0",
            "_model_name": "FloatProgressModel",
            "_view_count": null,
            "_view_module": "@jupyter-widgets/controls",
            "_view_module_version": "1.5.0",
            "_view_name": "ProgressView",
            "bar_style": "success",
            "description": "",
            "description_tooltip": null,
            "layout": "IPY_MODEL_07455e2c5f184ebab566c758f37351f0",
            "max": 4203,
            "min": 0,
            "orientation": "horizontal",
            "style": "IPY_MODEL_24a3d85fae8e4665932871e307868eff",
            "value": 4203
          }
        },
        "f154c1eedf6545c3a1cfb71d7050e02d": {
          "model_module": "@jupyter-widgets/controls",
          "model_name": "HTMLModel",
          "model_module_version": "1.5.0",
          "state": {
            "_dom_classes": [],
            "_model_module": "@jupyter-widgets/controls",
            "_model_module_version": "1.5.0",
            "_model_name": "HTMLModel",
            "_view_count": null,
            "_view_module": "@jupyter-widgets/controls",
            "_view_module_version": "1.5.0",
            "_view_name": "HTMLView",
            "description": "",
            "description_tooltip": null,
            "layout": "IPY_MODEL_7c5bc2c91ba641f4b9496f67c5233157",
            "placeholder": "​",
            "style": "IPY_MODEL_fcfb35e663b5401b9a1d6e1104e3ba1b",
            "value": " 4.20k/4.20k [00:00&lt;00:00, 144kB/s]"
          }
        },
        "5dd8d1a022774a6d8e5be08c6afaf210": {
          "model_module": "@jupyter-widgets/base",
          "model_name": "LayoutModel",
          "model_module_version": "1.2.0",
          "state": {
            "_model_module": "@jupyter-widgets/base",
            "_model_module_version": "1.2.0",
            "_model_name": "LayoutModel",
            "_view_count": null,
            "_view_module": "@jupyter-widgets/base",
            "_view_module_version": "1.2.0",
            "_view_name": "LayoutView",
            "align_content": null,
            "align_items": null,
            "align_self": null,
            "border": null,
            "bottom": null,
            "display": null,
            "flex": null,
            "flex_flow": null,
            "grid_area": null,
            "grid_auto_columns": null,
            "grid_auto_flow": null,
            "grid_auto_rows": null,
            "grid_column": null,
            "grid_gap": null,
            "grid_row": null,
            "grid_template_areas": null,
            "grid_template_columns": null,
            "grid_template_rows": null,
            "height": null,
            "justify_content": null,
            "justify_items": null,
            "left": null,
            "margin": null,
            "max_height": null,
            "max_width": null,
            "min_height": null,
            "min_width": null,
            "object_fit": null,
            "object_position": null,
            "order": null,
            "overflow": null,
            "overflow_x": null,
            "overflow_y": null,
            "padding": null,
            "right": null,
            "top": null,
            "visibility": null,
            "width": null
          }
        },
        "d8e177de452c4fc48b0e4df3b991b5e0": {
          "model_module": "@jupyter-widgets/base",
          "model_name": "LayoutModel",
          "model_module_version": "1.2.0",
          "state": {
            "_model_module": "@jupyter-widgets/base",
            "_model_module_version": "1.2.0",
            "_model_name": "LayoutModel",
            "_view_count": null,
            "_view_module": "@jupyter-widgets/base",
            "_view_module_version": "1.2.0",
            "_view_name": "LayoutView",
            "align_content": null,
            "align_items": null,
            "align_self": null,
            "border": null,
            "bottom": null,
            "display": null,
            "flex": null,
            "flex_flow": null,
            "grid_area": null,
            "grid_auto_columns": null,
            "grid_auto_flow": null,
            "grid_auto_rows": null,
            "grid_column": null,
            "grid_gap": null,
            "grid_row": null,
            "grid_template_areas": null,
            "grid_template_columns": null,
            "grid_template_rows": null,
            "height": null,
            "justify_content": null,
            "justify_items": null,
            "left": null,
            "margin": null,
            "max_height": null,
            "max_width": null,
            "min_height": null,
            "min_width": null,
            "object_fit": null,
            "object_position": null,
            "order": null,
            "overflow": null,
            "overflow_x": null,
            "overflow_y": null,
            "padding": null,
            "right": null,
            "top": null,
            "visibility": null,
            "width": null
          }
        },
        "c1ab36d93c1d4238bd9fc1bd419295a4": {
          "model_module": "@jupyter-widgets/controls",
          "model_name": "DescriptionStyleModel",
          "model_module_version": "1.5.0",
          "state": {
            "_model_module": "@jupyter-widgets/controls",
            "_model_module_version": "1.5.0",
            "_model_name": "DescriptionStyleModel",
            "_view_count": null,
            "_view_module": "@jupyter-widgets/base",
            "_view_module_version": "1.2.0",
            "_view_name": "StyleView",
            "description_width": ""
          }
        },
        "07455e2c5f184ebab566c758f37351f0": {
          "model_module": "@jupyter-widgets/base",
          "model_name": "LayoutModel",
          "model_module_version": "1.2.0",
          "state": {
            "_model_module": "@jupyter-widgets/base",
            "_model_module_version": "1.2.0",
            "_model_name": "LayoutModel",
            "_view_count": null,
            "_view_module": "@jupyter-widgets/base",
            "_view_module_version": "1.2.0",
            "_view_name": "LayoutView",
            "align_content": null,
            "align_items": null,
            "align_self": null,
            "border": null,
            "bottom": null,
            "display": null,
            "flex": null,
            "flex_flow": null,
            "grid_area": null,
            "grid_auto_columns": null,
            "grid_auto_flow": null,
            "grid_auto_rows": null,
            "grid_column": null,
            "grid_gap": null,
            "grid_row": null,
            "grid_template_areas": null,
            "grid_template_columns": null,
            "grid_template_rows": null,
            "height": null,
            "justify_content": null,
            "justify_items": null,
            "left": null,
            "margin": null,
            "max_height": null,
            "max_width": null,
            "min_height": null,
            "min_width": null,
            "object_fit": null,
            "object_position": null,
            "order": null,
            "overflow": null,
            "overflow_x": null,
            "overflow_y": null,
            "padding": null,
            "right": null,
            "top": null,
            "visibility": null,
            "width": null
          }
        },
        "24a3d85fae8e4665932871e307868eff": {
          "model_module": "@jupyter-widgets/controls",
          "model_name": "ProgressStyleModel",
          "model_module_version": "1.5.0",
          "state": {
            "_model_module": "@jupyter-widgets/controls",
            "_model_module_version": "1.5.0",
            "_model_name": "ProgressStyleModel",
            "_view_count": null,
            "_view_module": "@jupyter-widgets/base",
            "_view_module_version": "1.2.0",
            "_view_name": "StyleView",
            "bar_color": null,
            "description_width": ""
          }
        },
        "7c5bc2c91ba641f4b9496f67c5233157": {
          "model_module": "@jupyter-widgets/base",
          "model_name": "LayoutModel",
          "model_module_version": "1.2.0",
          "state": {
            "_model_module": "@jupyter-widgets/base",
            "_model_module_version": "1.2.0",
            "_model_name": "LayoutModel",
            "_view_count": null,
            "_view_module": "@jupyter-widgets/base",
            "_view_module_version": "1.2.0",
            "_view_name": "LayoutView",
            "align_content": null,
            "align_items": null,
            "align_self": null,
            "border": null,
            "bottom": null,
            "display": null,
            "flex": null,
            "flex_flow": null,
            "grid_area": null,
            "grid_auto_columns": null,
            "grid_auto_flow": null,
            "grid_auto_rows": null,
            "grid_column": null,
            "grid_gap": null,
            "grid_row": null,
            "grid_template_areas": null,
            "grid_template_columns": null,
            "grid_template_rows": null,
            "height": null,
            "justify_content": null,
            "justify_items": null,
            "left": null,
            "margin": null,
            "max_height": null,
            "max_width": null,
            "min_height": null,
            "min_width": null,
            "object_fit": null,
            "object_position": null,
            "order": null,
            "overflow": null,
            "overflow_x": null,
            "overflow_y": null,
            "padding": null,
            "right": null,
            "top": null,
            "visibility": null,
            "width": null
          }
        },
        "fcfb35e663b5401b9a1d6e1104e3ba1b": {
          "model_module": "@jupyter-widgets/controls",
          "model_name": "DescriptionStyleModel",
          "model_module_version": "1.5.0",
          "state": {
            "_model_module": "@jupyter-widgets/controls",
            "_model_module_version": "1.5.0",
            "_model_name": "DescriptionStyleModel",
            "_view_count": null,
            "_view_module": "@jupyter-widgets/base",
            "_view_module_version": "1.2.0",
            "_view_name": "StyleView",
            "description_width": ""
          }
        }
      }
    }
  },
  "nbformat": 4,
  "nbformat_minor": 0
}