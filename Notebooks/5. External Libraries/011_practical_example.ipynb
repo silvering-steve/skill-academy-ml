{
  "cells": [
    {
      "cell_type": "markdown",
      "metadata": {
        "id": "pIF7n6kwGXy5"
      },
      "source": [
        "# Let's get practical!\n",
        "\n",
        "Woohoo, after days of learning Python, we can decipher lots of python code now. Check below code out and run it!"
      ]
    },
    {
      "cell_type": "markdown",
      "metadata": {
        "id": "dA7b8s4cGXy9"
      },
      "source": [
        "%pip install gradio\n",
        "%pip install typing-extensions --upgrade"
      ]
    },
    {
      "cell_type": "code",
      "source": [
        "%pip install gradio"
      ],
      "metadata": {
        "id": "lNPMJeJQsK7Z"
      },
      "execution_count": null,
      "outputs": []
    },
    {
      "cell_type": "code",
      "execution_count": null,
      "metadata": {
        "colab": {
          "base_uri": "https://localhost:8080/",
          "height": 626
        },
        "id": "z371cmatGXy-",
        "outputId": "3333aa25-3a56-40fd-b082-7ccbd287a410"
      },
      "outputs": [
        {
          "output_type": "stream",
          "name": "stdout",
          "text": [
            "Setting queue=True in a Colab notebook requires sharing enabled. Setting `share=True` (you can turn this off by setting `share=False` in `launch()` explicitly).\n",
            "\n",
            "Colab notebook detected. To show errors in colab notebook, set debug=True in launch()\n",
            "Running on public URL: https://f1e022475f42df71ee.gradio.live\n",
            "\n",
            "This share link expires in 72 hours. For free permanent hosting and GPU upgrades, run `gradio deploy` from Terminal to deploy to Spaces (https://huggingface.co/spaces)\n"
          ]
        },
        {
          "output_type": "display_data",
          "data": {
            "text/plain": [
              "<IPython.core.display.HTML object>"
            ],
            "text/html": [
              "<div><iframe src=\"https://f1e022475f42df71ee.gradio.live\" width=\"100%\" height=\"500\" allow=\"autoplay; camera; microphone; clipboard-read; clipboard-write;\" frameborder=\"0\" allowfullscreen></iframe></div>"
            ]
          },
          "metadata": {}
        },
        {
          "output_type": "execute_result",
          "data": {
            "text/plain": []
          },
          "metadata": {},
          "execution_count": 3
        }
      ],
      "source": [
        "import gradio as gr\n",
        "\n",
        "def greet(name):\n",
        "    return \"Hello \" + name + \"!\"\n",
        "\n",
        "demo = gr.Interface(fn=greet, inputs=\"text\", outputs=\"text\")\n",
        "\n",
        "demo.launch(show_api=False)"
      ]
    },
    {
      "cell_type": "markdown",
      "metadata": {
        "id": "G_oiDvdxGXy_"
      },
      "source": [
        "Before we try to explain several things that haven't been explained yet, try to experiment with above input: What do you get as an output? And how can above code did that?"
      ]
    },
    {
      "cell_type": "markdown",
      "metadata": {
        "id": "jOlSfEwFGXzA"
      },
      "source": [
        "# % (percentage symbol)\n",
        "\n",
        "Percentage symbol is a special symbol when working in Google Colab, which is used to run a shell command. If you know `ls`, `pwd`, etc. in Linux this `%` command is basically enabling us to run those commands in Google Colab. The majority of our use case though is mostly related to using `pip` command, the command that is used to install Python packages.\n",
        "\n",
        "For us that never interacted with Linux command line before, basically it's a \"different\" coding environment than what is used when we're writing Python code in Google Colab, so it doesn't follow the syntax of Python. But again, as we won't be using it other than installing Python packages, you don't need to worry about it."
      ]
    },
    {
      "cell_type": "markdown",
      "metadata": {
        "id": "en7sDLPqGXzB"
      },
      "source": [
        "# `pip`\n",
        "\n",
        "`pip` is a way to install Python packages, basically installing packages that are available in PyPI (Python Package Index) that you can browse on [https://pypi.org/](https://pypi.org/). A Python package is a way to share Python code, so that other people can use it just by installing it using `pip`.\n",
        "\n",
        "```python\n",
        "%pip install gradio\n",
        "%pip install transformers\n",
        "```\n",
        "\n",
        "`pip` is a command line tool, so it's not a Python code and we should prepend the line for `pip` with `%` symbol. The `install` is a command for `pip` to install a package, and the `gradio` and `transformers` are the name of the package that we want to install.\n",
        "\n",
        "Note that the package will be installed to the running runtime, so as long as the runtime is running, the package will be available, and we only need to install it once in a single notebook. If we restart the runtime, we need to install it again."
      ]
    },
    {
      "cell_type": "markdown",
      "metadata": {
        "id": "TIaJ2NbrGXzB"
      },
      "source": [
        "# Library import\n",
        "\n",
        "After the package is installed, we want to import the \"module\" that is available in the package. A module is a way to group Python code, so that we can use it in our code. For example, we can import `transformers` package that we just installed, and use the `pipeline` module that is available in the package.\n",
        "\n",
        "```python\n",
        "%pip install transformers\n",
        "from transformers import pipeline\n",
        "```\n",
        "\n",
        "If a module has the same name as the package, we can shorten the import by doing like so:\n",
        "\n",
        "```python\n",
        "import transformers\n",
        "```\n",
        "\n",
        "## Multiple module import\n",
        "\n",
        "We can also import multiple modules from a package, by separating the module name with comma.\n",
        "\n",
        "```python\n",
        "from transformers import pipeline, AutoTokenizer, AutoModelForSequenceClassification\n",
        "```\n",
        "\n",
        "## Module alias\n",
        "\n",
        "We can also import a module with an alias, so that we can use the alias instead of the full module name to shorten our code.\n",
        "\n",
        "```python\n",
        "import gradio as gr\n",
        "from transformers import pipeline as hf_pipeline\n",
        "from nltk import word_tokenize as tokenize, pos_tag\n",
        "```"
      ]
    },
    {
      "cell_type": "markdown",
      "metadata": {
        "id": "G0lQQsxAGXzD"
      },
      "source": [
        "# Class\n",
        "\n",
        "We won't teach deep about class in this course, but lots of modules that we import are actually a class (even though it can be anything else such as function, string, etc.). Let's see how it works in `gradio` module.\n"
      ]
    },
    {
      "cell_type": "code",
      "execution_count": null,
      "metadata": {
        "id": "g5dzMwcFGXzD"
      },
      "outputs": [],
      "source": [
        "import gradio as gr\n",
        "\n",
        "gr.Interface(\n",
        "    fn=classify,\n",
        "    inputs=gr.inputs.Textbox(lines=5, label=\"Text\"),\n",
        "    outputs=gr.outputs.Label(num_top_classes=3),\n",
        "    title=\"Toxic Comment Classifier\",\n",
        "    description=\"Identify toxic comments from Wikipedia discussion forums\"\n",
        ").launch()"
      ]
    },
    {
      "cell_type": "markdown",
      "metadata": {
        "id": "4bTm7-EqGXzE"
      },
      "source": [
        "You might notice, like string, above `gr` class has methods that we can call as well. It's basically because string is a class, such that `gr` is also a class."
      ]
    },
    {
      "cell_type": "markdown",
      "metadata": {
        "id": "JQI5cTsHGXzF"
      },
      "source": [
        "# Function as first class citizen\n",
        "\n",
        "In Python, function is a first class citizen, which means that we can pass function as an argument to another function, or return a function from another function. We'll focus on the first one, which is passing a function as an argument to another function."
      ]
    },
    {
      "cell_type": "code",
      "execution_count": null,
      "metadata": {
        "id": "EmkXejupGXzF"
      },
      "outputs": [],
      "source": [
        "def greet(name):\n",
        "    return \"Hello \" + name + \"!\"\n",
        "\n",
        "demo = gr.Interface(fn=greet, inputs=\"text\", outputs=\"text\")"
      ]
    },
    {
      "cell_type": "markdown",
      "metadata": {
        "id": "ftxr22B2GXzG"
      },
      "source": [
        "<!--\n",
        "import gradio as gr\n",
        "\n",
        "def greet(name):\n",
        "    return \"Hello \" + name + \"!\"\n",
        "\n",
        "demo = gr.Interface(fn=greet, inputs=\"text\", outputs=\"text\") -->\n",
        "\n",
        "Before we breakdown the concept of \"Function as first class citizen\", let's breakdown above two other arguments first. The `inputs` is an argument that is used to define the type of input that later the user can pass to the function. The `outputs` is an argument that is used to define the type of output that later the user can get from the function.\n",
        "\n",
        "So if we use `text` as the `inputs`, then, just like what we'll see if we ran above code, the user can input a text to the gradio interface. This text will be passed to the `fn` argument, and because we pass the `greet` function to the `fn` argument, the text will be passed to the `greet` function and then the `greet` can return a value. This value will be converted to `text`, because we use `text` as the `outputs` argument."
      ]
    },
    {
      "cell_type": "markdown",
      "metadata": {
        "id": "L8-yeMkzGXzG"
      },
      "source": [
        "## Other function that receives function as an argument\n",
        "\n",
        "Having understanding of a function being passed as an argument to another function can be crucial, so please enjoy several other examples below and try to understand what is happening."
      ]
    },
    {
      "cell_type": "markdown",
      "metadata": {
        "id": "dafk5fwBGXzG"
      },
      "source": [
        "### `map`\n",
        "\n",
        "`map` is a function that is used to apply a function to each element of a list. For example, if we have a list of numbers, and we want to add 1 to each number, we can use `map` function to do that.\n",
        "\n",
        "Note: We should convert the result of `map` function to a list by using `list` function"
      ]
    },
    {
      "cell_type": "code",
      "execution_count": null,
      "metadata": {
        "id": "aVNyQZqlGXzG",
        "outputId": "bf3e2354-8e2e-45bd-f52e-d5801250c6af"
      },
      "outputs": [
        {
          "name": "stdout",
          "output_type": "stream",
          "text": [
            "[8, 11, 16]\n"
          ]
        }
      ],
      "source": [
        "def add_one(x):\n",
        "    return x + 1\n",
        "\n",
        "numbers = [7, 10, 15]\n",
        "\n",
        "print(list(map(add_one, numbers)))"
      ]
    },
    {
      "cell_type": "markdown",
      "metadata": {
        "id": "8T6XWekXGXzH"
      },
      "source": [
        "## `filter`\n",
        "\n",
        "`filter` is a function that is used to filter a list based on a condition. For example, if we have a list of numbers, and we want to filter the list to only contain even numbers, we can use `filter` function to do that."
      ]
    },
    {
      "cell_type": "code",
      "execution_count": null,
      "metadata": {
        "id": "TbIKL2n8GXzI",
        "outputId": "3e871879-b937-4759-a9fe-b8d0a297081c"
      },
      "outputs": [
        {
          "name": "stdout",
          "output_type": "stream",
          "text": [
            "[4, 20, 100]\n"
          ]
        }
      ],
      "source": [
        "def is_even(number):\n",
        "    return number % 2 == 0\n",
        "    # % is the modulo operator, it will return the remainder of the division\n",
        "    # (e.g. 5 % 2 = 1, because 5 / 2 = 2 with remainder 1)\n",
        "    # if a number is even, the remainder of the division by 2 will be 0\n",
        "\n",
        "numbers = [4, 11, 20, 33, 100]\n",
        "\n",
        "print(list(filter(is_even, numbers)))"
      ]
    },
    {
      "cell_type": "markdown",
      "metadata": {
        "id": "N3HPZZ6QGXzI"
      },
      "source": [
        "# Challenge!"
      ]
    },
    {
      "cell_type": "markdown",
      "metadata": {
        "id": "k_LsZqz8GXzI"
      },
      "source": [
        "## Challenge 1: Multiply by 7\n",
        "\n",
        "Using `map`, iterate below list and multiply each element by 7."
      ]
    },
    {
      "cell_type": "code",
      "execution_count": null,
      "metadata": {
        "id": "kUczRnAsGXzI"
      },
      "outputs": [],
      "source": [
        "def multiply_by_seven(number):\n",
        "    return number # Your code here\n",
        "\n",
        "numbers = [4, 11, 20, 33, 100]\n",
        "\n",
        "print(list(map(multiply_by_seven, numbers)))"
      ]
    },
    {
      "cell_type": "markdown",
      "metadata": {
        "id": "kkVLfFyoGXzJ"
      },
      "source": [
        "When you are done with the above challenge, then:\n",
        "\n",
        "1. Run the code block by pressing the play button."
      ]
    },
    {
      "cell_type": "code",
      "execution_count": null,
      "metadata": {
        "id": "Bsdq6HN8GXzJ"
      },
      "outputs": [],
      "source": [
        "!pip install rggrader\n",
        "\n",
        "from rggrader import submit\n",
        "\n",
        "# @title #### Student Identity\n",
        "student_id = \"your student id\" # @param {type:\"string\"}\n",
        "name = \"your name\" # @param {type:\"string\"}\n",
        "\n",
        "# Submit Method\n",
        "assignment_id = \"011_practical_example\"\n",
        "question_id = \"01_data_map\"\n",
        "\n",
        "submit(student_id, name, assignment_id, str(list(map(multiply_by_seven, numbers))), question_id)"
      ]
    },
    {
      "cell_type": "markdown",
      "metadata": {
        "id": "tzsyY3L8GXzJ"
      },
      "source": [
        "## Challenge 2: Return everyone that's not a student\n",
        "\n",
        "We have list of people, and we want to return everyone that's not a student using `filter` function."
      ]
    },
    {
      "cell_type": "code",
      "execution_count": null,
      "metadata": {
        "id": "s25OWpLJGXzJ"
      },
      "outputs": [],
      "source": [
        "def is_not_student(data):\n",
        "    return data # Your code here\n",
        "\n",
        "data = [\n",
        "    {\n",
        "        \"name\": \"John\",\n",
        "        \"age\": 25,\n",
        "        \"student\": False\n",
        "    },\n",
        "    {\n",
        "        \"name\": \"Jane\",\n",
        "        \"age\": 22,\n",
        "        \"student\": True\n",
        "    },\n",
        "    {\n",
        "        \"name\": \"Bob\",\n",
        "        \"age\": 18,\n",
        "        \"student\": True\n",
        "    },\n",
        "    {\n",
        "        \"name\": \"Alice\",\n",
        "        \"age\": 20,\n",
        "        \"student\": False\n",
        "    }\n",
        "]\n",
        "\n",
        "print(list(filter(is_not_student, data)))"
      ]
    },
    {
      "cell_type": "markdown",
      "metadata": {
        "id": "QnjwQQrWGXzJ"
      },
      "source": [
        "When you are done with the above challenge, then:\n",
        "\n",
        "1. Run the code block by pressing the play button."
      ]
    },
    {
      "cell_type": "code",
      "execution_count": null,
      "metadata": {
        "id": "TWjZfSS-GXzJ"
      },
      "outputs": [],
      "source": [
        "# Submit Method\n",
        "assignment_id = \"011_practical_example\"\n",
        "question_id = \"02_data_filter\"\n",
        "\n",
        "submit(student_id, name, assignment_id, str(list(filter(is_not_student, data))), question_id)"
      ]
    },
    {
      "cell_type": "markdown",
      "metadata": {
        "id": "5JuUnWSrGXzK"
      },
      "source": [
        "## Creating a function that receives function as an argument\n",
        "\n",
        "Below is an example of how to create a function that receives a function as an argument. Because for most of the time we're only using existing function that will receives function as arguments, we won't be delving deep into this topic."
      ]
    },
    {
      "cell_type": "code",
      "execution_count": null,
      "metadata": {
        "id": "l5Vle1sSGXzK"
      },
      "outputs": [],
      "source": [
        "def apply_discount(price, discount_func):\n",
        "    return discount_func(price)\n",
        "\n",
        "def seasonal_discount(price):\n",
        "    return price - price * 0.25  # 25% discount\n",
        "\n",
        "def clearance_discount(price):\n",
        "    return price - price * 0.50  # 50% discount\n",
        "\n",
        "# example usage:\n",
        "original_price = 100\n",
        "print(apply_discount(original_price, seasonal_discount))  # Output: 75.0\n",
        "print(apply_discount(original_price, clearance_discount))  # Output: 50.0"
      ]
    }
  ],
  "metadata": {
    "kernelspec": {
      "display_name": "Python 3 (ipykernel)",
      "language": "python",
      "name": "python3"
    },
    "language_info": {
      "codemirror_mode": {
        "name": "ipython",
        "version": 3
      },
      "file_extension": ".py",
      "mimetype": "text/x-python",
      "name": "python",
      "nbconvert_exporter": "python",
      "pygments_lexer": "ipython3",
      "version": "3.11.3"
    },
    "colab": {
      "provenance": []
    }
  },
  "nbformat": 4,
  "nbformat_minor": 0
}