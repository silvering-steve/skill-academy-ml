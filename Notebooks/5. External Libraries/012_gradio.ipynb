{
  "cells": [
    {
      "cell_type": "markdown",
      "metadata": {
        "id": "j3Ujcsqj3AIy"
      },
      "source": [
        "# Gradio for simple user interface\n",
        "\n",
        "Gradio is a Python library that allows you to quickly create customizable UI components around working with machine learning models. We already meet below code in the last learning:"
      ]
    },
    {
      "cell_type": "code",
      "execution_count": null,
      "metadata": {
        "id": "BlG4N9Ul3AI0"
      },
      "outputs": [],
      "source": [
        "%pip install gradio"
      ]
    },
    {
      "cell_type": "code",
      "execution_count": null,
      "metadata": {
        "id": "MpQw-riR3AI2"
      },
      "outputs": [],
      "source": [
        "import gradio as gr\n",
        "def greet(name):\n",
        "    return \"Hello \" + name + \"!\"\n",
        "\n",
        "gr.Interface(fn=greet, inputs=\"text\", outputs=\"text\").launch()"
      ]
    },
    {
      "cell_type": "markdown",
      "metadata": {
        "id": "Vr6xDOMc3AI2"
      },
      "source": [
        "So now let's try to be more \"machine learning\" and use Gradio to create a simple user interface for a simple machine learning model."
      ]
    },
    {
      "cell_type": "markdown",
      "metadata": {
        "id": "GtK0zIef3AI2"
      },
      "source": [
        "# Challenge!\n"
      ]
    },
    {
      "cell_type": "markdown",
      "metadata": {
        "id": "mKdx_BEi3AI2"
      },
      "source": [
        "From now on, you'll be challenged to:\n",
        "\n",
        "- Try to solve problems with every concept you've learned so far\n",
        "- Learn to read and understand documentation and apply it to your code\n",
        "\n",
        "For the first several case you'll be guided, but later on you'll be challenged to solve the problem on your own. Are you ready?!"
      ]
    },
    {
      "cell_type": "markdown",
      "metadata": {
        "id": "zliPKj3T3AI3"
      },
      "source": [
        "## Be a detective\n",
        "\n",
        "When you're working with third-party libraries, you'll need several skills to make sure that you're doing things correctly:\n",
        "\n",
        "- Understand the input that the library needs (the parameters)\n",
        "- Understand the output that the library gives (the return value)\n",
        "\n",
        "Understand the input will help you to make sure your data is correclty formatted for the library to work with. Understand the output will help you to make sure you're using the library according to your requirements.\n",
        "\n",
        "Identify below output of classifier"
      ]
    },
    {
      "cell_type": "code",
      "execution_count": null,
      "metadata": {
        "id": "5Yfvxf2W3AI3"
      },
      "outputs": [],
      "source": [
        "import gradio as gr\n",
        "from transformers import pipeline\n",
        "\n",
        "# Load the pipeline\n",
        "classifier = pipeline('text-classification', model='SamLowe/roberta-base-go_emotions')\n",
        "\n",
        "# Use the classifier with any text you want or you can try below suggestions\n",
        "# - I am so happy\n",
        "# - I'm really sorry to hear that\n",
        "\n",
        "text = classifier(\"I am so happy\")\n",
        "print(text)"
      ]
    },
    {
      "cell_type": "markdown",
      "metadata": {
        "id": "-JqwhYYe3AI3"
      },
      "source": [
        "Identify the output first, then if you're ready, modify the code below so the output is formatted like so \"label: score\".\n",
        "\n",
        "Note: `score` key is a float, not a string, so you should convert it to string first before concatenating it using `str()` function (e.g. `str(3.14)`)"
      ]
    },
    {
      "cell_type": "code",
      "execution_count": null,
      "metadata": {
        "id": "Tb85mOD73AI4"
      },
      "outputs": [],
      "source": [
        "def map_data_to_string_label(data):\n",
        "    return None # Your answer here\n",
        "\n",
        "print(map_data_to_string_label(classifier(\"I'm really happy!\"))) #The output should be \"joy: 0.9066029787063599\""
      ]
    },
    {
      "cell_type": "markdown",
      "metadata": {
        "id": "TG23xu373AI4"
      },
      "source": [
        "When you are done with the above challenge, then:\n",
        "\n",
        "1. Run the code block by pressing the play button."
      ]
    },
    {
      "cell_type": "code",
      "execution_count": null,
      "metadata": {
        "id": "Y6LlTi7-3AI4"
      },
      "outputs": [],
      "source": [
        "!pip install rggrader\n",
        "\n",
        "from rggrader import submit\n",
        "\n",
        "# @title #### Student Identity\n",
        "student_id = \"your student id\" # @param {type:\"string\"}\n",
        "name = \"your name\" # @param {type:\"string\"}\n",
        "\n",
        "# Submit Method\n",
        "assignment_id = \"012_gradio\"\n",
        "question_id = \"01_map_data_to_string\"\n",
        "\n",
        "submit(student_id, name, assignment_id, str(map_data_to_string_label(classifier(\"I'm sad!\"))), question_id)"
      ]
    },
    {
      "cell_type": "markdown",
      "metadata": {
        "id": "07ZfZej53AI4"
      },
      "source": [
        "After you've successfully modified the code, you should be able to run below Gradio interface without any error."
      ]
    },
    {
      "cell_type": "code",
      "execution_count": null,
      "metadata": {
        "id": "pdfRjhIG3AI4"
      },
      "outputs": [],
      "source": [
        "def classify_input(text):\n",
        "    return map_data_to_string_label(classifier(text))\n",
        "\n",
        "demo = gr.Interface(fn=classify_input, inputs=\"text\", outputs=\"text\").launch()"
      ]
    },
    {
      "cell_type": "markdown",
      "metadata": {
        "id": "znvvgsvD3AI4"
      },
      "source": [
        "Cool right?!"
      ]
    },
    {
      "cell_type": "markdown",
      "metadata": {
        "id": "3cwz8B__3AI4"
      },
      "source": [
        "# The stakeholder wants more! ⚠️⚠️⚠️⚠️\n",
        "\n",
        "The stakeholder is happy with the result, but they want more! They want to be able to know other possible labels and their scores, not just the highest one."
      ]
    },
    {
      "cell_type": "code",
      "execution_count": null,
      "metadata": {
        "id": "v_QNaRc63AI5"
      },
      "outputs": [],
      "source": [
        "print(classifier(\"I'm glad that you like it!\", top_k=3))"
      ]
    },
    {
      "cell_type": "markdown",
      "metadata": {
        "id": "1heGZ0pz3AI5"
      },
      "source": [
        "So to be able to do that, you'll need to modify the code to use the `top_k` (What? Why `top_k`? What is that? Check notes on the bottom of this learning if you want to find out) parameter and we might set it to `3` so we can get the highest 3 labels and their scores.\n",
        "\n",
        "But, if we add `top_k` parameter, you might notice that the output is now different, try it yourself!"
      ]
    },
    {
      "cell_type": "markdown",
      "metadata": {
        "id": "GiE1MZLF3AI5"
      },
      "source": [
        "## Using `label`\n",
        "\n",
        "![image.png](attachment:image.png)\n",
        "\n",
        "Because we want to output more than one score, we might consider to use a Gradio component that can display multiple values properly, like `label` component. As you can see above `label` component can be used to display multiple scores from a list of data, and the scores would be displayed as a bar chart that visually appealing."
      ]
    },
    {
      "cell_type": "markdown",
      "metadata": {
        "id": "fE8H01aW3AI5"
      },
      "source": [
        "## Quick documentation runthrough\n",
        "\n",
        "One skill that you'll need to master as machine learning engineer is to be able to read and understand documentation. For now, please take a look at this link: https://www.gradio.app/docs/label . As we've only a bit time left, let's quickly run through with the explanation:\n",
        "\n",
        "`gr.Interface(fn=classify_input, inputs=\"text\", outputs=\"text\")`\n",
        "\n",
        "First take a look on above code. We have two params that we want to highlight for now: `inputs` and `outputs`. This parameter should have a value of what's called in Gradio as \"Component\". In this case, we're using `text` component for both `inputs` and `outputs`.\n",
        "\n",
        "The list of components can be found in the sidebar of the documentation page.\n",
        "\n",
        "![image.png](https://ik.imagekit.io/ffr6l4jaf5t/REA%20AI/image_UU_iaZNLM.png?updatedAt=1701664900534)\n",
        "\n",
        "When you check at any component, the first thing you want to see is the \"Shortcut\" section. This section will tell you what to write if you want to use any component in `gr.Interface` function (Check the column \"Interface String Shortcut\", that string is what you need to write as either `inputs` or `outputs` parameter value).\n",
        "\n",
        "Note: `text` is a shortcut for `textbox` component\n",
        "\n",
        "![image-2.png](https://ik.imagekit.io/ffr6l4jaf5t/REA%20AI/image_KH46tj99r.png?updatedAt=1701664418224)\n",
        "\n",
        "Another thing that you want to check is the \"Behavior\" section. This section will help you to know the data type that the component will give as the `input` in `fn` function and what data type that we need to give as the `output`.\n",
        "\n",
        "Behavior for `text`\n",
        "![image-4.png](https://ik.imagekit.io/ffr6l4jaf5t/REA%20AI/image_G47j8qAuB.png?updatedAt=1701665053870)\n",
        "\n",
        "Behavior for `label`\n",
        "![image-3.png](https://ik.imagekit.io/ffr6l4jaf5t/REA%20AI/image_aGEiWrlxD.png?updatedAt=1701664711035)\n",
        "\n",
        "If we have `text` as the `inputs` parameter, and `label` as the `outputs` parameter:\n",
        "\n",
        "```python\n",
        "def classify_input(text):\n",
        "    return {\"positive\": 0.9, \"negative\": 0.1}\n",
        "```\n",
        "\n",
        "The `text` parameter in `classify_input` function will be a string (referring to the documentation), and the return value should be a dictionary with the key will act as the label and the value will act as the score."
      ]
    },
    {
      "cell_type": "markdown",
      "metadata": {
        "id": "FhvJhuMe3AI5"
      },
      "source": [
        "# Challenge!\n",
        "\n",
        "Now that you already understand the `Label` component, let's try to make our Gradio interface to display the top 3 labels and their scores from previous classifier. First, make sure you understand the result of the `classifier` when we use `top_k` parameter."
      ]
    },
    {
      "cell_type": "code",
      "execution_count": null,
      "metadata": {
        "id": "2__EzNuv3AI5"
      },
      "outputs": [],
      "source": [
        "print(classifier(\"I'm glad that you like it!\", top_k=3))"
      ]
    },
    {
      "cell_type": "markdown",
      "metadata": {
        "id": "3iS4Gzwp3AI5"
      },
      "source": [
        "Then, make sure that you can modify the output of the classifier to match the requirement of the label component (`Dict[str, float]`, basically a dictionary with string as the key and float as the value, eg: `{\"excited\": 0.9, \"sad\": 0.1}`)."
      ]
    },
    {
      "cell_type": "code",
      "execution_count": null,
      "metadata": {
        "id": "rgyfMKLZ3AI5"
      },
      "outputs": [],
      "source": [
        "def map_data_to_string_label(data):\n",
        "    return None # Your answer here\n",
        "\n",
        "print(map_data_to_string_label(classifier(\"I'm really happy!\")))"
      ]
    },
    {
      "cell_type": "markdown",
      "metadata": {
        "id": "UYWR0ye83AI5"
      },
      "source": [
        "When you are done with the above challenge, then:\n",
        "\n",
        "1. Run the code block by pressing the play button."
      ]
    },
    {
      "cell_type": "code",
      "execution_count": null,
      "metadata": {
        "id": "hlq2r4Gz3AI5"
      },
      "outputs": [],
      "source": [
        "# Submit Method\n",
        "assignment_id = \"012_gradio\"\n",
        "question_id = \"02_map_data_to_label\"\n",
        "\n",
        "submit(student_id, name, assignment_id, str(map_data_to_string_label(classifier(\"I'm sad!\", top_k=3))), question_id)"
      ]
    },
    {
      "cell_type": "markdown",
      "metadata": {
        "id": "nqvXcdRi3AI6"
      },
      "source": [
        "After that combine everything you've learned to make a compatible data for `label` component as the return of `fn` function required by `gr.Interface` below. Good luck!"
      ]
    },
    {
      "cell_type": "code",
      "execution_count": null,
      "metadata": {
        "id": "kC8wLlMi3AI6"
      },
      "outputs": [],
      "source": [
        "def classify_input(text):\n",
        "    return None # Your answer here"
      ]
    },
    {
      "cell_type": "markdown",
      "metadata": {
        "id": "nMK2c0zA3AI6"
      },
      "source": [
        "When you are done with the above challenge, then:\n",
        "\n",
        "1. Run the code block by pressing the play button."
      ]
    },
    {
      "cell_type": "code",
      "execution_count": null,
      "metadata": {
        "id": "gfH8IWqX3AI6"
      },
      "outputs": [],
      "source": [
        "# Submit Method\n",
        "assignment_id = \"012_gradio\"\n",
        "question_id = \"03_classify_input\"\n",
        "\n",
        "submit(student_id, name, assignment_id, str(classify_input(\"I'm sad!\")), question_id)"
      ]
    },
    {
      "cell_type": "code",
      "execution_count": null,
      "metadata": {
        "id": "DgB98Bi03AI6"
      },
      "outputs": [],
      "source": [
        "#Run this code to enable Gradio\n",
        "demo = gr.Interface(fn=classify_input, inputs=\"text\", outputs=\"label\").launch()"
      ]
    }
  ],
  "metadata": {
    "kernelspec": {
      "display_name": "Python 3 (ipykernel)",
      "language": "python",
      "name": "python3"
    },
    "language_info": {
      "codemirror_mode": {
        "name": "ipython",
        "version": 3
      },
      "file_extension": ".py",
      "mimetype": "text/x-python",
      "name": "python",
      "nbconvert_exporter": "python",
      "pygments_lexer": "ipython3",
      "version": "3.11.3"
    },
    "colab": {
      "provenance": []
    }
  },
  "nbformat": 4,
  "nbformat_minor": 0
}