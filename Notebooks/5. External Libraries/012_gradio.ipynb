{
 "cells": [
  {
   "cell_type": "markdown",
   "metadata": {
    "id": "j3Ujcsqj3AIy"
   },
   "source": [
    "# Gradio for simple user interface\n",
    "\n",
    "Gradio is a Python library that allows you to quickly create customizable UI components around working with machine learning models. We already meet below code in the last learning:"
   ]
  },
  {
   "cell_type": "code",
   "execution_count": 1,
   "metadata": {
    "id": "BlG4N9Ul3AI0",
    "ExecuteTime": {
     "end_time": "2023-12-06T14:31:10.909088800Z",
     "start_time": "2023-12-06T14:31:03.229167400Z"
    }
   },
   "outputs": [
    {
     "name": "stdout",
     "output_type": "stream",
     "text": [
      "Requirement already satisfied: gradio in c:\\users\\silve\\conda\\envs\\skill-academy-ml\\lib\\site-packages (4.8.0)\n",
      "Requirement already satisfied: aiofiles<24.0,>=22.0 in c:\\users\\silve\\conda\\envs\\skill-academy-ml\\lib\\site-packages (from gradio) (23.2.1)\n",
      "Requirement already satisfied: altair<6.0,>=4.2.0 in c:\\users\\silve\\conda\\envs\\skill-academy-ml\\lib\\site-packages (from gradio) (5.2.0)\n",
      "Requirement already satisfied: fastapi in c:\\users\\silve\\conda\\envs\\skill-academy-ml\\lib\\site-packages (from gradio) (0.104.1)\n",
      "Requirement already satisfied: ffmpy in c:\\users\\silve\\conda\\envs\\skill-academy-ml\\lib\\site-packages (from gradio) (0.3.1)\n",
      "Requirement already satisfied: gradio-client==0.7.1 in c:\\users\\silve\\conda\\envs\\skill-academy-ml\\lib\\site-packages (from gradio) (0.7.1)\n",
      "Requirement already satisfied: httpx in c:\\users\\silve\\conda\\envs\\skill-academy-ml\\lib\\site-packages (from gradio) (0.25.2)\n",
      "Requirement already satisfied: huggingface-hub>=0.14.0 in c:\\users\\silve\\conda\\envs\\skill-academy-ml\\lib\\site-packages (from gradio) (0.19.4)\n",
      "Requirement already satisfied: importlib-resources<7.0,>=1.3 in c:\\users\\silve\\conda\\envs\\skill-academy-ml\\lib\\site-packages (from gradio) (6.1.1)\n",
      "Requirement already satisfied: jinja2<4.0 in c:\\users\\silve\\conda\\envs\\skill-academy-ml\\lib\\site-packages (from gradio) (3.1.2)\n",
      "Requirement already satisfied: markupsafe~=2.0 in c:\\users\\silve\\conda\\envs\\skill-academy-ml\\lib\\site-packages (from gradio) (2.1.3)\n",
      "Requirement already satisfied: matplotlib~=3.0 in c:\\users\\silve\\conda\\envs\\skill-academy-ml\\lib\\site-packages (from gradio) (3.8.2)\n",
      "Requirement already satisfied: numpy~=1.0 in c:\\users\\silve\\conda\\envs\\skill-academy-ml\\lib\\site-packages (from gradio) (1.26.2)\n",
      "Requirement already satisfied: orjson~=3.0 in c:\\users\\silve\\conda\\envs\\skill-academy-ml\\lib\\site-packages (from gradio) (3.9.10)\n",
      "Requirement already satisfied: packaging in c:\\users\\silve\\conda\\envs\\skill-academy-ml\\lib\\site-packages (from gradio) (23.2)\n",
      "Requirement already satisfied: pandas<3.0,>=1.0 in c:\\users\\silve\\conda\\envs\\skill-academy-ml\\lib\\site-packages (from gradio) (2.1.3)\n",
      "Requirement already satisfied: pillow<11.0,>=8.0 in c:\\users\\silve\\conda\\envs\\skill-academy-ml\\lib\\site-packages (from gradio) (10.1.0)\n",
      "Requirement already satisfied: pydantic>=2.0 in c:\\users\\silve\\conda\\envs\\skill-academy-ml\\lib\\site-packages (from gradio) (2.5.2)\n",
      "Requirement already satisfied: pydub in c:\\users\\silve\\conda\\envs\\skill-academy-ml\\lib\\site-packages (from gradio) (0.25.1)\n",
      "Requirement already satisfied: python-multipart in c:\\users\\silve\\conda\\envs\\skill-academy-ml\\lib\\site-packages (from gradio) (0.0.6)\n",
      "Requirement already satisfied: pyyaml<7.0,>=5.0 in c:\\users\\silve\\conda\\envs\\skill-academy-ml\\lib\\site-packages (from gradio) (6.0.1)\n",
      "Requirement already satisfied: requests~=2.0 in c:\\users\\silve\\conda\\envs\\skill-academy-ml\\lib\\site-packages (from gradio) (2.31.0)\n",
      "Requirement already satisfied: semantic-version~=2.0 in c:\\users\\silve\\conda\\envs\\skill-academy-ml\\lib\\site-packages (from gradio) (2.10.0)\n",
      "Requirement already satisfied: tomlkit==0.12.0 in c:\\users\\silve\\conda\\envs\\skill-academy-ml\\lib\\site-packages (from gradio) (0.12.0)\n",
      "Requirement already satisfied: typer<1.0,>=0.9 in c:\\users\\silve\\conda\\envs\\skill-academy-ml\\lib\\site-packages (from typer[all]<1.0,>=0.9->gradio) (0.9.0)\n",
      "Requirement already satisfied: typing-extensions~=4.0 in c:\\users\\silve\\conda\\envs\\skill-academy-ml\\lib\\site-packages (from gradio) (4.8.0)\n",
      "Requirement already satisfied: uvicorn>=0.14.0 in c:\\users\\silve\\conda\\envs\\skill-academy-ml\\lib\\site-packages (from gradio) (0.24.0.post1)\n",
      "Requirement already satisfied: fsspec in c:\\users\\silve\\conda\\envs\\skill-academy-ml\\lib\\site-packages (from gradio-client==0.7.1->gradio) (2023.12.0)\n",
      "Requirement already satisfied: websockets<12.0,>=10.0 in c:\\users\\silve\\conda\\envs\\skill-academy-ml\\lib\\site-packages (from gradio-client==0.7.1->gradio) (11.0.3)\n",
      "Requirement already satisfied: jsonschema>=3.0 in c:\\users\\silve\\conda\\envs\\skill-academy-ml\\lib\\site-packages (from altair<6.0,>=4.2.0->gradio) (4.20.0)\n",
      "Requirement already satisfied: toolz in c:\\users\\silve\\conda\\envs\\skill-academy-ml\\lib\\site-packages (from altair<6.0,>=4.2.0->gradio) (0.12.0)\n",
      "Requirement already satisfied: filelock in c:\\users\\silve\\conda\\envs\\skill-academy-ml\\lib\\site-packages (from huggingface-hub>=0.14.0->gradio) (3.13.1)\n",
      "Requirement already satisfied: tqdm>=4.42.1 in c:\\users\\silve\\conda\\envs\\skill-academy-ml\\lib\\site-packages (from huggingface-hub>=0.14.0->gradio) (4.66.1)\n",
      "Requirement already satisfied: contourpy>=1.0.1 in c:\\users\\silve\\conda\\envs\\skill-academy-ml\\lib\\site-packages (from matplotlib~=3.0->gradio) (1.2.0)\n",
      "Requirement already satisfied: cycler>=0.10 in c:\\users\\silve\\conda\\envs\\skill-academy-ml\\lib\\site-packages (from matplotlib~=3.0->gradio) (0.12.1)\n",
      "Requirement already satisfied: fonttools>=4.22.0 in c:\\users\\silve\\conda\\envs\\skill-academy-ml\\lib\\site-packages (from matplotlib~=3.0->gradio) (4.46.0)\n",
      "Requirement already satisfied: kiwisolver>=1.3.1 in c:\\users\\silve\\conda\\envs\\skill-academy-ml\\lib\\site-packages (from matplotlib~=3.0->gradio) (1.4.5)\n",
      "Requirement already satisfied: pyparsing>=2.3.1 in c:\\users\\silve\\conda\\envs\\skill-academy-ml\\lib\\site-packages (from matplotlib~=3.0->gradio) (3.1.1)\n",
      "Requirement already satisfied: python-dateutil>=2.7 in c:\\users\\silve\\conda\\envs\\skill-academy-ml\\lib\\site-packages (from matplotlib~=3.0->gradio) (2.8.2)\n",
      "Requirement already satisfied: pytz>=2020.1 in c:\\users\\silve\\conda\\envs\\skill-academy-ml\\lib\\site-packages (from pandas<3.0,>=1.0->gradio) (2023.3.post1)\n",
      "Requirement already satisfied: tzdata>=2022.1 in c:\\users\\silve\\conda\\envs\\skill-academy-ml\\lib\\site-packages (from pandas<3.0,>=1.0->gradio) (2023.3)\n",
      "Requirement already satisfied: annotated-types>=0.4.0 in c:\\users\\silve\\conda\\envs\\skill-academy-ml\\lib\\site-packages (from pydantic>=2.0->gradio) (0.6.0)\n",
      "Requirement already satisfied: pydantic-core==2.14.5 in c:\\users\\silve\\conda\\envs\\skill-academy-ml\\lib\\site-packages (from pydantic>=2.0->gradio) (2.14.5)\n",
      "Requirement already satisfied: charset-normalizer<4,>=2 in c:\\users\\silve\\conda\\envs\\skill-academy-ml\\lib\\site-packages (from requests~=2.0->gradio) (3.3.2)\n",
      "Requirement already satisfied: idna<4,>=2.5 in c:\\users\\silve\\conda\\envs\\skill-academy-ml\\lib\\site-packages (from requests~=2.0->gradio) (3.6)\n",
      "Requirement already satisfied: urllib3<3,>=1.21.1 in c:\\users\\silve\\conda\\envs\\skill-academy-ml\\lib\\site-packages (from requests~=2.0->gradio) (2.1.0)\n",
      "Requirement already satisfied: certifi>=2017.4.17 in c:\\users\\silve\\conda\\envs\\skill-academy-ml\\lib\\site-packages (from requests~=2.0->gradio) (2023.11.17)\n",
      "Requirement already satisfied: click<9.0.0,>=7.1.1 in c:\\users\\silve\\conda\\envs\\skill-academy-ml\\lib\\site-packages (from typer<1.0,>=0.9->typer[all]<1.0,>=0.9->gradio) (8.1.7)\n",
      "Requirement already satisfied: colorama<0.5.0,>=0.4.3 in c:\\users\\silve\\conda\\envs\\skill-academy-ml\\lib\\site-packages (from typer[all]<1.0,>=0.9->gradio) (0.4.6)\n",
      "Requirement already satisfied: shellingham<2.0.0,>=1.3.0 in c:\\users\\silve\\conda\\envs\\skill-academy-ml\\lib\\site-packages (from typer[all]<1.0,>=0.9->gradio) (1.5.4)\n",
      "Requirement already satisfied: rich<14.0.0,>=10.11.0 in c:\\users\\silve\\conda\\envs\\skill-academy-ml\\lib\\site-packages (from typer[all]<1.0,>=0.9->gradio) (13.7.0)\n",
      "Requirement already satisfied: h11>=0.8 in c:\\users\\silve\\conda\\envs\\skill-academy-ml\\lib\\site-packages (from uvicorn>=0.14.0->gradio) (0.14.0)\n",
      "Requirement already satisfied: anyio<4.0.0,>=3.7.1 in c:\\users\\silve\\conda\\envs\\skill-academy-ml\\lib\\site-packages (from fastapi->gradio) (3.7.1)\n",
      "Requirement already satisfied: starlette<0.28.0,>=0.27.0 in c:\\users\\silve\\conda\\envs\\skill-academy-ml\\lib\\site-packages (from fastapi->gradio) (0.27.0)\n",
      "Requirement already satisfied: httpcore==1.* in c:\\users\\silve\\conda\\envs\\skill-academy-ml\\lib\\site-packages (from httpx->gradio) (1.0.2)\n",
      "Requirement already satisfied: sniffio in c:\\users\\silve\\conda\\envs\\skill-academy-ml\\lib\\site-packages (from httpx->gradio) (1.3.0)\n",
      "Requirement already satisfied: exceptiongroup in c:\\users\\silve\\conda\\envs\\skill-academy-ml\\lib\\site-packages (from anyio<4.0.0,>=3.7.1->fastapi->gradio) (1.2.0)\n",
      "Requirement already satisfied: attrs>=22.2.0 in c:\\users\\silve\\conda\\envs\\skill-academy-ml\\lib\\site-packages (from jsonschema>=3.0->altair<6.0,>=4.2.0->gradio) (23.1.0)\n",
      "Requirement already satisfied: jsonschema-specifications>=2023.03.6 in c:\\users\\silve\\conda\\envs\\skill-academy-ml\\lib\\site-packages (from jsonschema>=3.0->altair<6.0,>=4.2.0->gradio) (2023.11.2)\n",
      "Requirement already satisfied: referencing>=0.28.4 in c:\\users\\silve\\conda\\envs\\skill-academy-ml\\lib\\site-packages (from jsonschema>=3.0->altair<6.0,>=4.2.0->gradio) (0.31.1)\n",
      "Requirement already satisfied: rpds-py>=0.7.1 in c:\\users\\silve\\conda\\envs\\skill-academy-ml\\lib\\site-packages (from jsonschema>=3.0->altair<6.0,>=4.2.0->gradio) (0.13.2)\n",
      "Requirement already satisfied: six>=1.5 in c:\\users\\silve\\conda\\envs\\skill-academy-ml\\lib\\site-packages (from python-dateutil>=2.7->matplotlib~=3.0->gradio) (1.16.0)\n",
      "Requirement already satisfied: markdown-it-py>=2.2.0 in c:\\users\\silve\\conda\\envs\\skill-academy-ml\\lib\\site-packages (from rich<14.0.0,>=10.11.0->typer[all]<1.0,>=0.9->gradio) (3.0.0)\n",
      "Requirement already satisfied: pygments<3.0.0,>=2.13.0 in c:\\users\\silve\\conda\\envs\\skill-academy-ml\\lib\\site-packages (from rich<14.0.0,>=10.11.0->typer[all]<1.0,>=0.9->gradio) (2.17.2)\n",
      "Requirement already satisfied: mdurl~=0.1 in c:\\users\\silve\\conda\\envs\\skill-academy-ml\\lib\\site-packages (from markdown-it-py>=2.2.0->rich<14.0.0,>=10.11.0->typer[all]<1.0,>=0.9->gradio) (0.1.2)\n",
      "Note: you may need to restart the kernel to use updated packages.\n"
     ]
    }
   ],
   "source": [
    "%pip install gradio"
   ]
  },
  {
   "cell_type": "code",
   "execution_count": 2,
   "metadata": {
    "id": "MpQw-riR3AI2",
    "ExecuteTime": {
     "end_time": "2023-12-06T14:31:20.916524400Z",
     "start_time": "2023-12-06T14:31:10.914121800Z"
    }
   },
   "outputs": [
    {
     "name": "stdout",
     "output_type": "stream",
     "text": [
      "Running on local URL:  http://127.0.0.1:7860\n",
      "\n",
      "To create a public link, set `share=True` in `launch()`.\n"
     ]
    },
    {
     "data": {
      "text/plain": "<IPython.core.display.HTML object>",
      "text/html": "<div><iframe src=\"http://127.0.0.1:7860/\" width=\"100%\" height=\"500\" allow=\"autoplay; camera; microphone; clipboard-read; clipboard-write;\" frameborder=\"0\" allowfullscreen></iframe></div>"
     },
     "metadata": {},
     "output_type": "display_data"
    },
    {
     "data": {
      "text/plain": ""
     },
     "execution_count": 2,
     "metadata": {},
     "output_type": "execute_result"
    }
   ],
   "source": [
    "import gradio as gr\n",
    "def greet(name):\n",
    "    return \"Hello \" + name + \"!\"\n",
    "\n",
    "gr.Interface(fn=greet, inputs=\"text\", outputs=\"text\").launch()"
   ]
  },
  {
   "cell_type": "markdown",
   "metadata": {
    "id": "Vr6xDOMc3AI2"
   },
   "source": [
    "So now let's try to be more \"machine learning\" and use Gradio to create a simple user interface for a simple machine learning model."
   ]
  },
  {
   "cell_type": "markdown",
   "metadata": {
    "id": "GtK0zIef3AI2"
   },
   "source": [
    "# Challenge!\n"
   ]
  },
  {
   "cell_type": "markdown",
   "metadata": {
    "id": "mKdx_BEi3AI2"
   },
   "source": [
    "From now on, you'll be challenged to:\n",
    "\n",
    "- Try to solve problems with every concept you've learned so far\n",
    "- Learn to read and understand documentation and apply it to your code\n",
    "\n",
    "For the first several case you'll be guided, but later on you'll be challenged to solve the problem on your own. Are you ready?!"
   ]
  },
  {
   "cell_type": "markdown",
   "metadata": {
    "id": "zliPKj3T3AI3"
   },
   "source": [
    "## Be a detective\n",
    "\n",
    "When you're working with third-party libraries, you'll need several skills to make sure that you're doing things correctly:\n",
    "\n",
    "- Understand the input that the library needs (the parameters)\n",
    "- Understand the output that the library gives (the return value)\n",
    "\n",
    "Understand the input will help you to make sure your data is correclty formatted for the library to work with. Understand the output will help you to make sure you're using the library according to your requirements.\n",
    "\n",
    "Identify below output of classifier"
   ]
  },
  {
   "cell_type": "code",
   "execution_count": 3,
   "metadata": {
    "id": "5Yfvxf2W3AI3",
    "ExecuteTime": {
     "end_time": "2023-12-06T14:31:34.541463700Z",
     "start_time": "2023-12-06T14:31:20.914026600Z"
    }
   },
   "outputs": [
    {
     "name": "stdout",
     "output_type": "stream",
     "text": [
      "[{'label': 'joy', 'score': 0.9051515460014343}]\n"
     ]
    }
   ],
   "source": [
    "import gradio as gr\n",
    "from transformers import pipeline\n",
    "\n",
    "# Load the pipeline\n",
    "classifier = pipeline('text-classification', model='SamLowe/roberta-base-go_emotions')\n",
    "\n",
    "# Use the classifier with any text you want or you can try below suggestions\n",
    "# - I am so happy\n",
    "# - I'm really sorry to hear that\n",
    "\n",
    "text = classifier(\"I am so happy\")\n",
    "print(text)"
   ]
  },
  {
   "cell_type": "markdown",
   "metadata": {
    "id": "-JqwhYYe3AI3"
   },
   "source": [
    "Identify the output first, then if you're ready, modify the code below so the output is formatted like so \"label: score\".\n",
    "\n",
    "Note: `score` key is a float, not a string, so you should convert it to string first before concatenating it using `str()` function (e.g. `str(3.14)`)"
   ]
  },
  {
   "cell_type": "code",
   "execution_count": 4,
   "metadata": {
    "id": "Tb85mOD73AI4",
    "ExecuteTime": {
     "end_time": "2023-12-06T14:31:34.699981400Z",
     "start_time": "2023-12-06T14:31:34.542971900Z"
    }
   },
   "outputs": [
    {
     "name": "stdout",
     "output_type": "stream",
     "text": [
      "joy 0.9066030979156494\n"
     ]
    }
   ],
   "source": [
    "def map_data_to_string_label(data):\n",
    "    return f\"{data[0]['label']} {data[0]['score']}\" # Your answer here\n",
    "\n",
    "print(map_data_to_string_label(classifier(\"I'm really happy!\"))) #The output should be \"joy: 0.9066029787063599\""
   ]
  },
  {
   "cell_type": "markdown",
   "metadata": {
    "id": "TG23xu373AI4"
   },
   "source": [
    "When you are done with the above challenge, then:\n",
    "\n",
    "1. Run the code block by pressing the play button."
   ]
  },
  {
   "cell_type": "code",
   "execution_count": 5,
   "metadata": {
    "id": "Y6LlTi7-3AI4",
    "ExecuteTime": {
     "end_time": "2023-12-06T14:31:44.695945700Z",
     "start_time": "2023-12-06T14:31:34.698979700Z"
    }
   },
   "outputs": [
    {
     "name": "stdout",
     "output_type": "stream",
     "text": [
      "Requirement already satisfied: rggrader in c:\\users\\silve\\conda\\envs\\skill-academy-ml\\lib\\site-packages (0.1.6)\n",
      "Requirement already satisfied: requests in c:\\users\\silve\\conda\\envs\\skill-academy-ml\\lib\\site-packages (from rggrader) (2.31.0)\n",
      "Requirement already satisfied: pandas in c:\\users\\silve\\conda\\envs\\skill-academy-ml\\lib\\site-packages (from rggrader) (2.1.3)\n",
      "Requirement already satisfied: Pillow in c:\\users\\silve\\conda\\envs\\skill-academy-ml\\lib\\site-packages (from rggrader) (10.1.0)\n",
      "Requirement already satisfied: numpy<2,>=1.22.4 in c:\\users\\silve\\conda\\envs\\skill-academy-ml\\lib\\site-packages (from pandas->rggrader) (1.26.2)\n",
      "Requirement already satisfied: python-dateutil>=2.8.2 in c:\\users\\silve\\conda\\envs\\skill-academy-ml\\lib\\site-packages (from pandas->rggrader) (2.8.2)\n",
      "Requirement already satisfied: pytz>=2020.1 in c:\\users\\silve\\conda\\envs\\skill-academy-ml\\lib\\site-packages (from pandas->rggrader) (2023.3.post1)\n",
      "Requirement already satisfied: tzdata>=2022.1 in c:\\users\\silve\\conda\\envs\\skill-academy-ml\\lib\\site-packages (from pandas->rggrader) (2023.3)\n",
      "Requirement already satisfied: charset-normalizer<4,>=2 in c:\\users\\silve\\conda\\envs\\skill-academy-ml\\lib\\site-packages (from requests->rggrader) (3.3.2)\n",
      "Requirement already satisfied: idna<4,>=2.5 in c:\\users\\silve\\conda\\envs\\skill-academy-ml\\lib\\site-packages (from requests->rggrader) (3.6)\n",
      "Requirement already satisfied: urllib3<3,>=1.21.1 in c:\\users\\silve\\conda\\envs\\skill-academy-ml\\lib\\site-packages (from requests->rggrader) (2.1.0)\n",
      "Requirement already satisfied: certifi>=2017.4.17 in c:\\users\\silve\\conda\\envs\\skill-academy-ml\\lib\\site-packages (from requests->rggrader) (2023.11.17)\n",
      "Requirement already satisfied: six>=1.5 in c:\\users\\silve\\conda\\envs\\skill-academy-ml\\lib\\site-packages (from python-dateutil>=2.8.2->pandas->rggrader) (1.16.0)\n"
     ]
    },
    {
     "data": {
      "text/plain": "'Assignment successfully submitted'"
     },
     "execution_count": 5,
     "metadata": {},
     "output_type": "execute_result"
    }
   ],
   "source": [
    "!pip install rggrader\n",
    "\n",
    "from rggrader import submit\n",
    "\n",
    "# @title #### Student Identity\n",
    "student_id = \"REA3X5EN\" # @param {type:\"string\"}\n",
    "name = \"Steven Adi Santoso\" # @param {type:\"string\"}\n",
    "\n",
    "# Submit Method\n",
    "assignment_id = \"012_gradio\"\n",
    "question_id = \"01_map_data_to_string\"\n",
    "\n",
    "submit(student_id, name, assignment_id, str(map_data_to_string_label(classifier(\"I'm sad!\"))), question_id)"
   ]
  },
  {
   "cell_type": "markdown",
   "metadata": {
    "id": "07ZfZej53AI4"
   },
   "source": [
    "After you've successfully modified the code, you should be able to run below Gradio interface without any error."
   ]
  },
  {
   "cell_type": "code",
   "execution_count": 6,
   "metadata": {
    "id": "pdfRjhIG3AI4",
    "ExecuteTime": {
     "end_time": "2023-12-06T14:31:45.042708200Z",
     "start_time": "2023-12-06T14:31:44.684422800Z"
    }
   },
   "outputs": [
    {
     "name": "stdout",
     "output_type": "stream",
     "text": [
      "Running on local URL:  http://127.0.0.1:7861\n",
      "\n",
      "To create a public link, set `share=True` in `launch()`.\n"
     ]
    },
    {
     "data": {
      "text/plain": "<IPython.core.display.HTML object>",
      "text/html": "<div><iframe src=\"http://127.0.0.1:7861/\" width=\"100%\" height=\"500\" allow=\"autoplay; camera; microphone; clipboard-read; clipboard-write;\" frameborder=\"0\" allowfullscreen></iframe></div>"
     },
     "metadata": {},
     "output_type": "display_data"
    }
   ],
   "source": [
    "def classify_input(text):\n",
    "    return map_data_to_string_label(classifier(text))\n",
    "\n",
    "demo = gr.Interface(fn=classify_input, inputs=\"text\", outputs=\"text\").launch()"
   ]
  },
  {
   "cell_type": "markdown",
   "metadata": {
    "id": "znvvgsvD3AI4"
   },
   "source": [
    "Cool right?!"
   ]
  },
  {
   "cell_type": "markdown",
   "metadata": {
    "id": "3cwz8B__3AI4"
   },
   "source": [
    "# The stakeholder wants more! ⚠️⚠️⚠️⚠️\n",
    "\n",
    "The stakeholder is happy with the result, but they want more! They want to be able to know other possible labels and their scores, not just the highest one."
   ]
  },
  {
   "cell_type": "code",
   "execution_count": 7,
   "metadata": {
    "id": "v_QNaRc63AI5",
    "ExecuteTime": {
     "end_time": "2023-12-06T14:31:45.262422400Z",
     "start_time": "2023-12-06T14:31:45.043215300Z"
    }
   },
   "outputs": [
    {
     "name": "stdout",
     "output_type": "stream",
     "text": [
      "[{'label': 'joy', 'score': 0.8101622462272644}, {'label': 'approval', 'score': 0.10498494654893875}, {'label': 'love', 'score': 0.09149095416069031}]\n"
     ]
    }
   ],
   "source": [
    "print(classifier(\"I'm glad that you like it!\", top_k=3))"
   ]
  },
  {
   "cell_type": "markdown",
   "metadata": {
    "id": "1heGZ0pz3AI5"
   },
   "source": [
    "So to be able to do that, you'll need to modify the code to use the `top_k` (What? Why `top_k`? What is that? Check notes on the bottom of this learning if you want to find out) parameter and we might set it to `3` so we can get the highest 3 labels and their scores.\n",
    "\n",
    "But, if we add `top_k` parameter, you might notice that the output is now different, try it yourself!"
   ]
  },
  {
   "cell_type": "markdown",
   "metadata": {
    "id": "GiE1MZLF3AI5"
   },
   "source": [
    "## Using `label`\n",
    "\n",
    "![image.png](attachment:image.png)\n",
    "\n",
    "Because we want to output more than one score, we might consider to use a Gradio component that can display multiple values properly, like `label` component. As you can see above `label` component can be used to display multiple scores from a list of data, and the scores would be displayed as a bar chart that visually appealing."
   ]
  },
  {
   "cell_type": "markdown",
   "metadata": {
    "id": "fE8H01aW3AI5"
   },
   "source": [
    "## Quick documentation runthrough\n",
    "\n",
    "One skill that you'll need to master as machine learning engineer is to be able to read and understand documentation. For now, please take a look at this link: https://www.gradio.app/docs/label . As we've only a bit time left, let's quickly run through with the explanation:\n",
    "\n",
    "`gr.Interface(fn=classify_input, inputs=\"text\", outputs=\"text\")`\n",
    "\n",
    "First take a look on above code. We have two params that we want to highlight for now: `inputs` and `outputs`. This parameter should have a value of what's called in Gradio as \"Component\". In this case, we're using `text` component for both `inputs` and `outputs`.\n",
    "\n",
    "The list of components can be found in the sidebar of the documentation page.\n",
    "\n",
    "![image.png](https://ik.imagekit.io/ffr6l4jaf5t/REA%20AI/image_UU_iaZNLM.png?updatedAt=1701664900534)\n",
    "\n",
    "When you check at any component, the first thing you want to see is the \"Shortcut\" section. This section will tell you what to write if you want to use any component in `gr.Interface` function (Check the column \"Interface String Shortcut\", that string is what you need to write as either `inputs` or `outputs` parameter value).\n",
    "\n",
    "Note: `text` is a shortcut for `textbox` component\n",
    "\n",
    "![image-2.png](https://ik.imagekit.io/ffr6l4jaf5t/REA%20AI/image_KH46tj99r.png?updatedAt=1701664418224)\n",
    "\n",
    "Another thing that you want to check is the \"Behavior\" section. This section will help you to know the data type that the component will give as the `input` in `fn` function and what data type that we need to give as the `output`.\n",
    "\n",
    "Behavior for `text`\n",
    "![image-4.png](https://ik.imagekit.io/ffr6l4jaf5t/REA%20AI/image_G47j8qAuB.png?updatedAt=1701665053870)\n",
    "\n",
    "Behavior for `label`\n",
    "![image-3.png](https://ik.imagekit.io/ffr6l4jaf5t/REA%20AI/image_aGEiWrlxD.png?updatedAt=1701664711035)\n",
    "\n",
    "If we have `text` as the `inputs` parameter, and `label` as the `outputs` parameter:\n",
    "\n",
    "```python\n",
    "def classify_input(text):\n",
    "    return {\"positive\": 0.9, \"negative\": 0.1}\n",
    "```\n",
    "\n",
    "The `text` parameter in `classify_input` function will be a string (referring to the documentation), and the return value should be a dictionary with the key will act as the label and the value will act as the score."
   ]
  },
  {
   "cell_type": "markdown",
   "metadata": {
    "id": "FhvJhuMe3AI5"
   },
   "source": [
    "# Challenge!\n",
    "\n",
    "Now that you already understand the `Label` component, let's try to make our Gradio interface to display the top 3 labels and their scores from previous classifier. First, make sure you understand the result of the `classifier` when we use `top_k` parameter."
   ]
  },
  {
   "cell_type": "code",
   "execution_count": 8,
   "metadata": {
    "id": "2__EzNuv3AI5",
    "ExecuteTime": {
     "end_time": "2023-12-06T14:31:45.686728300Z",
     "start_time": "2023-12-06T14:31:45.273468300Z"
    }
   },
   "outputs": [
    {
     "name": "stdout",
     "output_type": "stream",
     "text": [
      "[{'label': 'joy', 'score': 0.8101622462272644}, {'label': 'approval', 'score': 0.10498494654893875}, {'label': 'love', 'score': 0.09149095416069031}]\n"
     ]
    }
   ],
   "source": [
    "print(classifier(\"I'm glad that you like it!\", top_k=3))"
   ]
  },
  {
   "cell_type": "markdown",
   "metadata": {
    "id": "3iS4Gzwp3AI5"
   },
   "source": [
    "Then, make sure that you can modify the output of the classifier to match the requirement of the label component (`Dict[str, float]`, basically a dictionary with string as the key and float as the value, eg: `{\"excited\": 0.9, \"sad\": 0.1}`)."
   ]
  },
  {
   "cell_type": "code",
   "execution_count": 9,
   "metadata": {
    "id": "rgyfMKLZ3AI5",
    "ExecuteTime": {
     "end_time": "2023-12-06T14:31:45.887350400Z",
     "start_time": "2023-12-06T14:31:45.681205900Z"
    }
   },
   "outputs": [
    {
     "name": "stdout",
     "output_type": "stream",
     "text": [
      "{'joy': 0.9066030979156494}\n"
     ]
    }
   ],
   "source": [
    "def map_data_to_string_label(data):\n",
    "    return {k['label']: (k['score']) for k in data}\n",
    "\n",
    "print(map_data_to_string_label(classifier(\"I'm really happy!\")))"
   ]
  },
  {
   "cell_type": "markdown",
   "metadata": {
    "id": "UYWR0ye83AI5"
   },
   "source": [
    "When you are done with the above challenge, then:\n",
    "\n",
    "1. Run the code block by pressing the play button."
   ]
  },
  {
   "cell_type": "code",
   "execution_count": 10,
   "metadata": {
    "id": "hlq2r4Gz3AI5",
    "ExecuteTime": {
     "end_time": "2023-12-06T14:31:47.112497300Z",
     "start_time": "2023-12-06T14:31:45.879818300Z"
    }
   },
   "outputs": [
    {
     "data": {
      "text/plain": "'Assignment successfully submitted'"
     },
     "execution_count": 10,
     "metadata": {},
     "output_type": "execute_result"
    }
   ],
   "source": [
    "# Submit Method\n",
    "assignment_id = \"012_gradio\"\n",
    "question_id = \"02_map_data_to_label\"\n",
    "\n",
    "submit(student_id, name, assignment_id, str(map_data_to_string_label(classifier(\"I'm sad!\", top_k=3))), question_id)"
   ]
  },
  {
   "cell_type": "markdown",
   "metadata": {
    "id": "nqvXcdRi3AI6"
   },
   "source": [
    "After that combine everything you've learned to make a compatible data for `label` component as the return of `fn` function required by `gr.Interface` below. Good luck!"
   ]
  },
  {
   "cell_type": "code",
   "execution_count": 14,
   "metadata": {
    "id": "kC8wLlMi3AI6",
    "ExecuteTime": {
     "end_time": "2023-12-06T14:32:14.910280400Z",
     "start_time": "2023-12-06T14:32:14.860380100Z"
    }
   },
   "outputs": [],
   "source": [
    "def classify_input(text):\n",
    "    return map_data_to_string_label(classifier(text, top_k=3)) # Your answer here"
   ]
  },
  {
   "cell_type": "markdown",
   "metadata": {
    "id": "nMK2c0zA3AI6"
   },
   "source": [
    "When you are done with the above challenge, then:\n",
    "\n",
    "1. Run the code block by pressing the play button."
   ]
  },
  {
   "cell_type": "code",
   "execution_count": 15,
   "metadata": {
    "id": "gfH8IWqX3AI6",
    "ExecuteTime": {
     "end_time": "2023-12-06T14:32:18.441223900Z",
     "start_time": "2023-12-06T14:32:17.143913100Z"
    }
   },
   "outputs": [
    {
     "data": {
      "text/plain": "'Assignment successfully submitted'"
     },
     "execution_count": 15,
     "metadata": {},
     "output_type": "execute_result"
    }
   ],
   "source": [
    "# Submit Method\n",
    "assignment_id = \"012_gradio\"\n",
    "question_id = \"03_classify_input\"\n",
    "\n",
    "submit(student_id, name, assignment_id, str(classify_input(\"I'm sad!\")), question_id)"
   ]
  },
  {
   "cell_type": "code",
   "execution_count": 13,
   "metadata": {
    "id": "DgB98Bi03AI6",
    "ExecuteTime": {
     "end_time": "2023-12-06T14:31:48.391091200Z",
     "start_time": "2023-12-06T14:31:48.052865800Z"
    }
   },
   "outputs": [
    {
     "name": "stdout",
     "output_type": "stream",
     "text": [
      "Running on local URL:  http://127.0.0.1:7862\n",
      "\n",
      "To create a public link, set `share=True` in `launch()`.\n"
     ]
    },
    {
     "data": {
      "text/plain": "<IPython.core.display.HTML object>",
      "text/html": "<div><iframe src=\"http://127.0.0.1:7862/\" width=\"100%\" height=\"500\" allow=\"autoplay; camera; microphone; clipboard-read; clipboard-write;\" frameborder=\"0\" allowfullscreen></iframe></div>"
     },
     "metadata": {},
     "output_type": "display_data"
    }
   ],
   "source": [
    "#Run this code to enable Gradio\n",
    "demo = gr.Interface(fn=classify_input, inputs=\"text\", outputs=\"label\").launch()"
   ]
  }
 ],
 "metadata": {
  "kernelspec": {
   "display_name": "Python 3 (ipykernel)",
   "language": "python",
   "name": "python3"
  },
  "language_info": {
   "codemirror_mode": {
    "name": "ipython",
    "version": 3
   },
   "file_extension": ".py",
   "mimetype": "text/x-python",
   "name": "python",
   "nbconvert_exporter": "python",
   "pygments_lexer": "ipython3",
   "version": "3.11.3"
  },
  "colab": {
   "provenance": []
  }
 },
 "nbformat": 4,
 "nbformat_minor": 0
}
