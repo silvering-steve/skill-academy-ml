{
 "cells": [
  {
   "cell_type": "markdown",
   "metadata": {
    "id": "5YZJxv4fxEDX"
   },
   "source": [
    "# Data Types and comments"
   ]
  },
  {
   "cell_type": "markdown",
   "metadata": {
    "id": "pUlf3GY6xEDu"
   },
   "source": [
    "We've already learned this before:\n",
    "\n",
    "- `\"I'm so excited to meet you guys there!\"` is a data with a data type of string\n",
    "\n",
    "There are several data types in Python, we'll explore three of them for now: `string`, `float` and `int`."
   ]
  },
  {
   "cell_type": "markdown",
   "metadata": {
    "id": "LUA1cseYxEDw"
   },
   "source": [
    "# Google Colab, Jupyter Notebook, and Visual Studio Code will \"print\" the last line of code automatically\n",
    "\n",
    "Before we continue, please check below code"
   ]
  },
  {
   "cell_type": "code",
   "execution_count": null,
   "metadata": {
    "id": "QcAgXYzjxEDx",
    "outputId": "9da10077-0cd8-4577-baae-3d7e3c09c495",
    "colab": {
     "base_uri": "https://localhost:8080/",
     "height": 35
    }
   },
   "outputs": [
    {
     "output_type": "execute_result",
     "data": {
      "text/plain": [
       "'Hi everyone'"
      ],
      "application/vnd.google.colaboratory.intrinsic+json": {
       "type": "string"
      }
     },
     "metadata": {},
     "execution_count": 33
    }
   ],
   "source": [
    "\"Hello!\"\n",
    "\"Hi everyone\""
   ]
  },
  {
   "cell_type": "markdown",
   "metadata": {
    "id": "6BjHGd6NxED5"
   },
   "source": [
    "As you can see above, our result to above two lines of code will only show the result of the last line of code. This concept is called printing, we can print any code in any line by using `print()` like below:"
   ]
  },
  {
   "cell_type": "code",
   "execution_count": null,
   "metadata": {
    "id": "ZxV25pW0xEEA",
    "outputId": "3e80cf71-aca5-4ddb-a80e-7e0dfdbf54e9",
    "colab": {
     "base_uri": "https://localhost:8080/",
     "height": 53
    }
   },
   "outputs": [
    {
     "output_type": "stream",
     "name": "stdout",
     "text": [
      "Yes!\n"
     ]
    },
    {
     "output_type": "execute_result",
     "data": {
      "text/plain": [
       "'Hi!'"
      ],
      "application/vnd.google.colaboratory.intrinsic+json": {
       "type": "string"
      }
     },
     "metadata": {},
     "execution_count": 4
    }
   ],
   "source": [
    "\"Yes!\"\n",
    "print(\"Hello!\")\n",
    "\"Hi!\""
   ]
  },
  {
   "cell_type": "markdown",
   "metadata": {
    "id": "01v9jFsdxEEB"
   },
   "source": [
    "As you can see above we have 3 lines of code, but we only print the second and third line of code. The second line of code is printed because we use `print()`, while the third line of code is printed because it is the last line of code."
   ]
  },
  {
   "cell_type": "markdown",
   "metadata": {
    "id": "-rz_G42pVWdn"
   },
   "source": [
    "# Challenge!\n",
    "\n",
    "## Challenge 1\n",
    "\n",
    "Make sure both of the string below are printed"
   ]
  },
  {
   "cell_type": "code",
   "execution_count": 1,
   "metadata": {
    "id": "TVttzyAHVWdn",
    "ExecuteTime": {
     "end_time": "2023-12-04T13:49:28.616580600Z",
     "start_time": "2023-12-04T13:49:28.597835600Z"
    }
   },
   "outputs": [
    {
     "name": "stdout",
     "output_type": "stream",
     "text": [
      "Halo dunia\n",
      "Hi world\n"
     ]
    }
   ],
   "source": [
    "print(\"Halo dunia\")\n",
    "print(\"Hi world\")"
   ]
  },
  {
   "cell_type": "markdown",
   "metadata": {
    "id": "ijiXFQUDVWdn"
   },
   "source": [
    "When you are done with the above challenge, then:\n",
    "1. Input your student_id and name in the box below\n",
    "2. Change the text \"my result\" below with the text \"done\"\n",
    "3. Run the code block by pressing the play button."
   ]
  },
  {
   "cell_type": "code",
   "execution_count": 11,
   "metadata": {
    "id": "z5svkiRwVWdo",
    "ExecuteTime": {
     "end_time": "2023-12-04T13:53:26.374467600Z",
     "start_time": "2023-12-04T13:53:23.363426300Z"
    }
   },
   "outputs": [
    {
     "name": "stdout",
     "output_type": "stream",
     "text": [
      "Requirement already satisfied: rggrader in c:\\users\\silve\\conda\\envs\\skill-academy-ml\\lib\\site-packages (0.1.6)\n",
      "Requirement already satisfied: requests in c:\\users\\silve\\conda\\envs\\skill-academy-ml\\lib\\site-packages (from rggrader) (2.31.0)\n",
      "Requirement already satisfied: pandas in c:\\users\\silve\\conda\\envs\\skill-academy-ml\\lib\\site-packages (from rggrader) (2.1.3)\n",
      "Requirement already satisfied: Pillow in c:\\users\\silve\\conda\\envs\\skill-academy-ml\\lib\\site-packages (from rggrader) (10.1.0)\n",
      "Requirement already satisfied: numpy<2,>=1.22.4 in c:\\users\\silve\\conda\\envs\\skill-academy-ml\\lib\\site-packages (from pandas->rggrader) (1.26.2)\n",
      "Requirement already satisfied: python-dateutil>=2.8.2 in c:\\users\\silve\\conda\\envs\\skill-academy-ml\\lib\\site-packages (from pandas->rggrader) (2.8.2)\n",
      "Requirement already satisfied: pytz>=2020.1 in c:\\users\\silve\\conda\\envs\\skill-academy-ml\\lib\\site-packages (from pandas->rggrader) (2023.3.post1)\n",
      "Requirement already satisfied: tzdata>=2022.1 in c:\\users\\silve\\conda\\envs\\skill-academy-ml\\lib\\site-packages (from pandas->rggrader) (2023.3)\n",
      "Requirement already satisfied: charset-normalizer<4,>=2 in c:\\users\\silve\\conda\\envs\\skill-academy-ml\\lib\\site-packages (from requests->rggrader) (3.3.2)\n",
      "Requirement already satisfied: idna<4,>=2.5 in c:\\users\\silve\\conda\\envs\\skill-academy-ml\\lib\\site-packages (from requests->rggrader) (3.6)\n",
      "Requirement already satisfied: urllib3<3,>=1.21.1 in c:\\users\\silve\\conda\\envs\\skill-academy-ml\\lib\\site-packages (from requests->rggrader) (2.1.0)\n",
      "Requirement already satisfied: certifi>=2017.4.17 in c:\\users\\silve\\conda\\envs\\skill-academy-ml\\lib\\site-packages (from requests->rggrader) (2023.11.17)\n",
      "Requirement already satisfied: six>=1.5 in c:\\users\\silve\\conda\\envs\\skill-academy-ml\\lib\\site-packages (from python-dateutil>=2.8.2->pandas->rggrader) (1.16.0)\n"
     ]
    },
    {
     "data": {
      "text/plain": "'Assignment successfully submitted'"
     },
     "execution_count": 11,
     "metadata": {},
     "output_type": "execute_result"
    }
   ],
   "source": [
    "!pip install rggrader\n",
    "\n",
    "from rggrader import submit\n",
    "\n",
    "# @title #### Student Identity\n",
    "student_id = \"REA3X5EN\" # @param {type:\"string\"}\n",
    "name = \"Steven Adi Santoso\" # @param {type:\"string\"}\n",
    "\n",
    "result = \"done\"\n",
    "\n",
    "# Submit Method\n",
    "assignment_id = \"002_data_types\"\n",
    "question_id = \"01_using_print\"\n",
    "submit(student_id, name, assignment_id, result, question_id)"
   ]
  },
  {
   "cell_type": "markdown",
   "metadata": {
    "id": "aP64qYkVxEEC"
   },
   "source": [
    "# String\n",
    "\n",
    "A string is a data type that is used to represent text. It is enclosed by either single or double quotes.\n",
    "\n",
    "```python\n",
    "'Thank you for coming to my TED talk'\n",
    "\n",
    "\"I'm so excited to meet you guys there!\"\n",
    "```\n",
    "\n",
    "A string can be manipulated like what we've already seen in previous learning\n",
    "\n",
    "```python\n",
    "\"I'm so {emotion} to meet you guys there!\".replace(\"{emotion}\", \"excited\")\n",
    "```\n",
    "\n",
    "We see above our more complex string from previous learning: `\"I'm so excited to meet you guys there!\"`, then we replace the `{emotion}` with `\"excited\"`."
   ]
  },
  {
   "cell_type": "code",
   "source": [
    "\"aku suka kucing, khususnya kucing oren\".replace(\"kucing\", \"beruang\")"
   ],
   "metadata": {
    "colab": {
     "base_uri": "https://localhost:8080/",
     "height": 35
    },
    "id": "0KiDo4154n3z",
    "outputId": "aeb38fe2-7fbd-4f77-fb6a-38d4f702fc45"
   },
   "execution_count": null,
   "outputs": [
    {
     "output_type": "execute_result",
     "data": {
      "text/plain": [
       "'aku suka kucing, khususnya kucing oren'"
      ],
      "application/vnd.google.colaboratory.intrinsic+json": {
       "type": "string"
      }
     },
     "metadata": {},
     "execution_count": 10
    }
   ]
  },
  {
   "cell_type": "markdown",
   "metadata": {
    "id": "-Z2VvtdBxEEI"
   },
   "source": [
    "# Arguments\n",
    "\n",
    "We'll learn more about method and a concept that's basically similar to method called function later, but for now, let's give a quick brief about methods and arguments.\n",
    "\n",
    "If we see the code below:\n",
    "\n",
    "```python\n",
    "\"I'm so {emotion} to meet you guys there!\".replace(\"{emotion}\", \"excited\")\n",
    "```\n",
    "\n",
    "What's called method is the `.replace()` part, while the `{emotion}` and `\"excited\"` are called arguments.\n",
    "\n",
    "The number of arguments itself can be varied between method, sometimes a method can have no argument, sometimes it can have one, two, or even more arguments."
   ]
  },
  {
   "cell_type": "markdown",
   "metadata": {
    "id": "dnwP-gA1xEEK"
   },
   "source": [
    "# String methods"
   ]
  },
  {
   "cell_type": "markdown",
   "metadata": {
    "id": "VmLy1A8NxEEK"
   },
   "source": [
    "## `.lower()`\n",
    "\n",
    "This method will convert all characters in a string into lowercase"
   ]
  },
  {
   "cell_type": "code",
   "execution_count": null,
   "metadata": {
    "id": "y3cfvwXCxEEM",
    "colab": {
     "base_uri": "https://localhost:8080/",
     "height": 35
    },
    "outputId": "84555efe-b039-4933-8ab9-ec43c9551015"
   },
   "outputs": [
    {
     "output_type": "execute_result",
     "data": {
      "text/plain": [
       "\"i'm not shouting\""
      ],
      "application/vnd.google.colaboratory.intrinsic+json": {
       "type": "string"
      }
     },
     "metadata": {},
     "execution_count": 11
    }
   ],
   "source": [
    "\"I'M NOT SHOUTING\".lower()"
   ]
  },
  {
   "cell_type": "markdown",
   "metadata": {
    "id": "3FeP60d1xEER"
   },
   "source": [
    "## `.strip()`\n",
    "\n",
    "This method will remove all leading and trailing whitespaces from a string"
   ]
  },
  {
   "cell_type": "code",
   "execution_count": null,
   "metadata": {
    "id": "qIjSknRUxEER",
    "outputId": "38b067b5-6325-4d9c-f3c5-5cca3b6fa09b",
    "colab": {
     "base_uri": "https://localhost:8080/",
     "height": 35
    }
   },
   "outputs": [
    {
     "output_type": "execute_result",
     "data": {
      "text/plain": [
       "'Hello dunia'"
      ],
      "application/vnd.google.colaboratory.intrinsic+json": {
       "type": "string"
      }
     },
     "metadata": {},
     "execution_count": 24
    }
   ],
   "source": [
    "\"   Hello dunia      \".strip()"
   ]
  },
  {
   "cell_type": "markdown",
   "metadata": {
    "id": "1Rjj2VFgxEES"
   },
   "source": [
    "## `.replace()`\n",
    "\n",
    "This method will replace all occurrences of a string with another string"
   ]
  },
  {
   "cell_type": "code",
   "execution_count": null,
   "metadata": {
    "id": "Gke9KB3GxEES",
    "outputId": "81b97869-ce11-4185-c96b-5b6884dd1ea4"
   },
   "outputs": [
    {
     "data": {
      "text/plain": [
       "'Bob is a dog'"
      ]
     },
     "execution_count": 2,
     "metadata": {},
     "output_type": "execute_result"
    }
   ],
   "source": [
    "\"Bob is a cat\".replace(\"cat\", \"dog\")"
   ]
  },
  {
   "cell_type": "markdown",
   "metadata": {
    "id": "kJjPQoqsxEEV"
   },
   "source": [
    "If we add an empty string as the second argument, it will remove all occurrences of a string"
   ]
  },
  {
   "cell_type": "code",
   "execution_count": null,
   "metadata": {
    "id": "xp-YUhpvxEEY",
    "outputId": "9cb4e98d-24f3-4634-b76e-be60cf037f1a",
    "colab": {
     "base_uri": "https://localhost:8080/",
     "height": 35
    }
   },
   "outputs": [
    {
     "output_type": "execute_result",
     "data": {
      "text/plain": [
       "'   dog human horse'"
      ],
      "application/vnd.google.colaboratory.intrinsic+json": {
       "type": "string"
      }
     },
     "metadata": {},
     "execution_count": 34
    }
   ],
   "source": [
    "\"cat cat cat dog human horse\".replace(\"cat\", \"\")"
   ]
  },
  {
   "cell_type": "markdown",
   "metadata": {
    "id": "2LB05oQTxEEc"
   },
   "source": [
    "We won't list down every methods here, you can check more on https://www.w3schools.com/python/python_ref_string.asp"
   ]
  },
  {
   "cell_type": "markdown",
   "metadata": {
    "id": "dULvG5pf7yVF"
   },
   "source": [
    "# Challenge!"
   ]
  },
  {
   "cell_type": "markdown",
   "metadata": {
    "id": "mh7ZuzqTVWdp"
   },
   "source": [
    "## Upper\n",
    "\n",
    "Using `.upper()` method, convert the string below into uppercase"
   ]
  },
  {
   "cell_type": "code",
   "execution_count": 3,
   "metadata": {
    "id": "-K30IhM7VWdp",
    "ExecuteTime": {
     "end_time": "2023-12-04T13:50:24.476441700Z",
     "start_time": "2023-12-04T13:50:24.467924700Z"
    }
   },
   "outputs": [
    {
     "data": {
      "text/plain": "'HI MY NAME IS ANDI'"
     },
     "execution_count": 3,
     "metadata": {},
     "output_type": "execute_result"
    }
   ],
   "source": [
    "\"hi my name is andi\".upper()"
   ]
  },
  {
   "cell_type": "markdown",
   "metadata": {
    "id": "bsE8kxLOVWdp"
   },
   "source": [
    "When you are done with the above challenge, then:\n",
    "\n",
    "1. Change the text \"my result\" below with the text \"done\"\n",
    "2. Run the code block by pressing the play button."
   ]
  },
  {
   "cell_type": "code",
   "execution_count": 12,
   "metadata": {
    "id": "OzZ6cXEwVWdp",
    "ExecuteTime": {
     "end_time": "2023-12-04T13:59:16.616140800Z",
     "start_time": "2023-12-04T13:59:16.029324100Z"
    }
   },
   "outputs": [
    {
     "data": {
      "text/plain": "'Assignment successfully submitted'"
     },
     "execution_count": 12,
     "metadata": {},
     "output_type": "execute_result"
    }
   ],
   "source": [
    "# Submit Method\n",
    "assignment_id = \"002_data_types\"\n",
    "question_id = \"02_upper\"\n",
    "\n",
    "result = \"done\"\n",
    "\n",
    "submit(student_id, name, assignment_id, result, question_id)"
   ]
  },
  {
   "cell_type": "markdown",
   "metadata": {
    "id": "retUmbgbVWdp"
   },
   "source": [
    "## Replace\n",
    "\n",
    "Replace below name from \"Ridho\" to \"Fajar\"!"
   ]
  },
  {
   "cell_type": "code",
   "execution_count": 5,
   "metadata": {
    "id": "jPBePnV9VWdp",
    "ExecuteTime": {
     "end_time": "2023-12-04T13:50:55.029318800Z",
     "start_time": "2023-12-04T13:50:55.018776200Z"
    }
   },
   "outputs": [
    {
     "data": {
      "text/plain": "'Hi, my name is Fajar'"
     },
     "execution_count": 5,
     "metadata": {},
     "output_type": "execute_result"
    }
   ],
   "source": [
    "\"Hi, my name is Ridho\".replace(\"Ridho\", \"Fajar\")"
   ]
  },
  {
   "cell_type": "markdown",
   "metadata": {
    "id": "VJ3wyLc3VWdp"
   },
   "source": [
    "When you are done with the above challenge, then:\n",
    "\n",
    "1. Change the text \"my result\" below with the text \"done\"\n",
    "2. Run the code block by pressing the play button."
   ]
  },
  {
   "cell_type": "code",
   "execution_count": 13,
   "metadata": {
    "id": "tpEBsq3oVWdp",
    "ExecuteTime": {
     "end_time": "2023-12-04T13:59:21.133603100Z",
     "start_time": "2023-12-04T13:59:20.545194700Z"
    }
   },
   "outputs": [
    {
     "data": {
      "text/plain": "'Assignment successfully submitted'"
     },
     "execution_count": 13,
     "metadata": {},
     "output_type": "execute_result"
    }
   ],
   "source": [
    "# Submit Method\n",
    "assignment_id = \"002_data_types\"\n",
    "question_id = \"03_replace\"\n",
    "\n",
    "result = \"done\"\n",
    "\n",
    "submit(student_id, name, assignment_id, result, question_id)"
   ]
  },
  {
   "cell_type": "markdown",
   "metadata": {
    "id": "1rbUnmFtVWdp"
   },
   "source": [
    "## String\n",
    "\n",
    "Remove all leading and trailing whitespaces from below string"
   ]
  },
  {
   "cell_type": "code",
   "execution_count": 7,
   "metadata": {
    "id": "D6cnkRmyVWdp",
    "ExecuteTime": {
     "end_time": "2023-12-04T13:51:10.046786600Z",
     "start_time": "2023-12-04T13:51:10.039225300Z"
    }
   },
   "outputs": [
    {
     "data": {
      "text/plain": "'HELLO'"
     },
     "execution_count": 7,
     "metadata": {},
     "output_type": "execute_result"
    }
   ],
   "source": [
    "\"   HELLO   \".strip()"
   ]
  },
  {
   "cell_type": "markdown",
   "metadata": {
    "id": "tHwI-rXQVWdp"
   },
   "source": [
    "When you are done with the above challenge, then:\n",
    "\n",
    "1. Change the text \"my result\" below with the text \"done\"\n",
    "2. Run the code block by pressing the play button."
   ]
  },
  {
   "cell_type": "code",
   "execution_count": 14,
   "metadata": {
    "id": "4G0GKU59VWdp",
    "ExecuteTime": {
     "end_time": "2023-12-04T13:59:25.334099400Z",
     "start_time": "2023-12-04T13:59:24.794730200Z"
    }
   },
   "outputs": [
    {
     "data": {
      "text/plain": "'Assignment successfully submitted'"
     },
     "execution_count": 14,
     "metadata": {},
     "output_type": "execute_result"
    }
   ],
   "source": [
    "# Submit Method\n",
    "assignment_id = \"002_data_types\"\n",
    "question_id = \"04_string\"\n",
    "\n",
    "result = \"done\"\n",
    "\n",
    "submit(student_id, name, assignment_id, result, question_id)"
   ]
  },
  {
   "cell_type": "markdown",
   "metadata": {
    "id": "h2PJVEW_xEEd"
   },
   "source": [
    "## Method chaining\n",
    "\n",
    "We can chain multiple methods together, for example:\n",
    "\n",
    "```python\n",
    "\"I'm so excited to meet you guys there!\".lower().replace(\"excited\", \"happy\")\n",
    "```\n",
    "\n",
    "Will result in:\n",
    "\n",
    "```python\n",
    "\"i'm so happy to meet you guys there!\"\n",
    "```"
   ]
  },
  {
   "cell_type": "markdown",
   "metadata": {
    "id": "04C56jVdVWdq"
   },
   "source": [
    "# Challenge\n",
    "\n",
    "## Challenge 1\n",
    "\n",
    "Replace all occurrences of \"cat\" to \"\" (empty string) and remove all leading whitespaces (the output should be: \"dog human horse\")"
   ]
  },
  {
   "cell_type": "code",
   "execution_count": 9,
   "metadata": {
    "id": "cRPIsOouVWdq",
    "ExecuteTime": {
     "end_time": "2023-12-04T13:51:55.055793800Z",
     "start_time": "2023-12-04T13:51:55.036824Z"
    }
   },
   "outputs": [
    {
     "data": {
      "text/plain": "'dog human horse'"
     },
     "execution_count": 9,
     "metadata": {},
     "output_type": "execute_result"
    }
   ],
   "source": [
    "\"cat cat cat dog human horse\".replace(\"cat\", \"\").strip()"
   ]
  },
  {
   "cell_type": "markdown",
   "metadata": {
    "id": "JYpO9kGnVWdw"
   },
   "source": [
    "When you are done with the above challenge, then:\n",
    "\n",
    "1. Change the text \"my result\" below with the text \"done\"\n",
    "2. Run the code block by pressing the play button."
   ]
  },
  {
   "cell_type": "code",
   "execution_count": 15,
   "metadata": {
    "id": "fxcWWWhOVWdw",
    "ExecuteTime": {
     "end_time": "2023-12-04T13:59:31.002466600Z",
     "start_time": "2023-12-04T13:59:30.452642400Z"
    }
   },
   "outputs": [
    {
     "data": {
      "text/plain": "'Assignment successfully submitted'"
     },
     "execution_count": 15,
     "metadata": {},
     "output_type": "execute_result"
    }
   ],
   "source": [
    "# Submit Method\n",
    "assignment_id = \"002_data_types\"\n",
    "question_id = \"05_method_chain_1\"\n",
    "\n",
    "result = \"done\"\n",
    "\n",
    "submit(student_id, name, assignment_id, result, question_id)"
   ]
  },
  {
   "cell_type": "markdown",
   "metadata": {
    "id": "pRvwSryDVWdw"
   },
   "source": [
    "## Challenge 2\n",
    "\n",
    "Convert below string to \"IT'S SO COOL!\""
   ]
  },
  {
   "cell_type": "code",
   "execution_count": 17,
   "metadata": {
    "id": "VzaCDDO4xEEq",
    "ExecuteTime": {
     "end_time": "2023-12-04T13:59:57.079187300Z",
     "start_time": "2023-12-04T13:59:57.068081400Z"
    }
   },
   "outputs": [
    {
     "data": {
      "text/plain": "\"IT'S SO COOL!\""
     },
     "execution_count": 17,
     "metadata": {},
     "output_type": "execute_result"
    }
   ],
   "source": [
    "\"  It's so cool!    \".strip().upper()"
   ]
  },
  {
   "cell_type": "markdown",
   "metadata": {
    "id": "lpclcu76VWdx"
   },
   "source": [
    "When you are done with the above challenge, then:\n",
    "\n",
    "1. Change the text \"my result\" below with the text \"done\"\n",
    "2. Run the code block by pressing the play button."
   ]
  },
  {
   "cell_type": "code",
   "execution_count": 16,
   "metadata": {
    "id": "NtiYRb1mVWdx",
    "ExecuteTime": {
     "end_time": "2023-12-04T13:59:35.003722500Z",
     "start_time": "2023-12-04T13:59:34.424988100Z"
    }
   },
   "outputs": [
    {
     "data": {
      "text/plain": "'Assignment successfully submitted'"
     },
     "execution_count": 16,
     "metadata": {},
     "output_type": "execute_result"
    }
   ],
   "source": [
    "# Submit Method\n",
    "assignment_id = \"002_data_types\"\n",
    "question_id = \"06_method_chain_2\"\n",
    "\n",
    "result = \"done\"\n",
    "\n",
    "submit(student_id, name, assignment_id, result, question_id)"
   ]
  },
  {
   "cell_type": "markdown",
   "metadata": {
    "id": "GvnlQDReVWdx"
   },
   "source": [
    "## Challenge 3\n",
    "\n",
    "Convert below string to \"I'm not a bird\"\n",
    "\n",
    "Note:\n",
    "\n",
    "- If you want to delete a word from a sentence, make sure you add space before and after the word so it will remove the word and the space before and after it.\n",
    "\n",
    "```python\n",
    "\"I'm so hungry\".replace(\"so\", \"\") # WRONG, it will result in \"I'm  hungry\" (notice the extra space)\n",
    "\"I'm so hungry\".replace(\" so \", \"\") # CORRECT, it will result in \"I'm hungry\"\n",
    "```"
   ]
  },
  {
   "cell_type": "code",
   "execution_count": 18,
   "metadata": {
    "id": "317M157mVWdx",
    "ExecuteTime": {
     "end_time": "2023-12-04T14:00:47.167135400Z",
     "start_time": "2023-12-04T14:00:47.119357600Z"
    }
   },
   "outputs": [
    {
     "data": {
      "text/plain": "\"I'm not a bird\""
     },
     "execution_count": 18,
     "metadata": {},
     "output_type": "execute_result"
    }
   ],
   "source": [
    "\"I'm not a cat\".replace(\"cat\", \"bird\")"
   ]
  },
  {
   "cell_type": "markdown",
   "metadata": {
    "id": "my4qcua6VWdx"
   },
   "source": [
    "When you are done with the above challenge, then:\n",
    "\n",
    "1. Change the text \"my result\" below with the text \"done\"\n",
    "2. Run the code block by pressing the play button."
   ]
  },
  {
   "cell_type": "code",
   "execution_count": 19,
   "metadata": {
    "id": "RUwUxgsqVWdx",
    "ExecuteTime": {
     "end_time": "2023-12-04T14:00:57.351024100Z",
     "start_time": "2023-12-04T14:00:56.735418200Z"
    }
   },
   "outputs": [
    {
     "data": {
      "text/plain": "'Assignment successfully submitted'"
     },
     "execution_count": 19,
     "metadata": {},
     "output_type": "execute_result"
    }
   ],
   "source": [
    "# Submit Method\n",
    "assignment_id = \"002_data_types\"\n",
    "question_id = \"07_method_chain_3\"\n",
    "\n",
    "result = \"done\"\n",
    "\n",
    "submit(student_id, name, assignment_id, result, question_id)"
   ]
  },
  {
   "cell_type": "markdown",
   "metadata": {
    "id": "zSWHGX7RVWdx"
   },
   "source": [
    "# Comment\n",
    "\n",
    "Comment is a text that is ignored by the computer, it's mostly used to explain what a code does."
   ]
  },
  {
   "cell_type": "code",
   "execution_count": null,
   "metadata": {
    "colab": {
     "base_uri": "https://localhost:8080/",
     "height": 35
    },
    "id": "seQgg9fDVWdx",
    "outputId": "dd41deaf-fa35-44c3-eeb4-78bdbbc99af7"
   },
   "outputs": [
    {
     "output_type": "execute_result",
     "data": {
      "text/plain": [
       "'This line will be executed'"
      ],
      "application/vnd.google.colaboratory.intrinsic+json": {
       "type": "string"
      }
     },
     "metadata": {},
     "execution_count": 19
    }
   ],
   "source": [
    "# This is a comment, this line will not be executed\n",
    "# def my_function():\n",
    "#     print(\"Hello from a function\")\n",
    "# above code will not be executed either\n",
    "\n",
    "\"This line will be executed\" # print(\"This line will not be executed\")"
   ]
  },
  {
   "cell_type": "markdown",
   "metadata": {
    "id": "EnxX7SS6xEEe"
   },
   "source": [
    "# String concatenation\n",
    "\n",
    "We can concatenate (combine) two strings together using `+` operator"
   ]
  },
  {
   "cell_type": "code",
   "execution_count": null,
   "metadata": {
    "id": "SfO_hZb_xEEe",
    "outputId": "a6203a02-3855-478b-e770-2eb2a4000877",
    "colab": {
     "base_uri": "https://localhost:8080/",
     "height": 35
    }
   },
   "outputs": [
    {
     "output_type": "execute_result",
     "data": {
      "text/plain": [
       "'Hello world!'"
      ],
      "application/vnd.google.colaboratory.intrinsic+json": {
       "type": "string"
      }
     },
     "metadata": {},
     "execution_count": 22
    }
   ],
   "source": [
    "\"Hello\" + \" \" + \"world!\""
   ]
  },
  {
   "cell_type": "markdown",
   "metadata": {
    "id": "t8Zh3SrQVWdx"
   },
   "source": [
    "# Challenge\n",
    "\n",
    "## Challenge 1\n",
    "\n",
    "Try to concatenate below string with Rudi's name"
   ]
  },
  {
   "cell_type": "code",
   "execution_count": 20,
   "metadata": {
    "colab": {
     "base_uri": "https://localhost:8080/",
     "height": 35
    },
    "id": "G_vb0lM4VWdx",
    "outputId": "ba88eb3c-764f-42c6-d969-c3702f59a8ec",
    "ExecuteTime": {
     "end_time": "2023-12-04T14:01:40.480934800Z",
     "start_time": "2023-12-04T14:01:40.469425500Z"
    }
   },
   "outputs": [
    {
     "data": {
      "text/plain": "'Imam, Andi, Ridho, Rudi'"
     },
     "execution_count": 20,
     "metadata": {},
     "output_type": "execute_result"
    }
   ],
   "source": [
    "\"Imam, Andi, Ridho\" + \", Rudi\" # Convert to \"Imam, Andi, Ridho, Rudi\""
   ]
  },
  {
   "cell_type": "markdown",
   "metadata": {
    "id": "EM6z46liVWdx"
   },
   "source": [
    "When you are done with the above challenge, then:\n",
    "\n",
    "1. Change the text \"my result\" below with the text \"done\"\n",
    "2. Run the code block by pressing the play button."
   ]
  },
  {
   "cell_type": "code",
   "execution_count": 21,
   "metadata": {
    "id": "O_1TGeQlVWdx",
    "ExecuteTime": {
     "end_time": "2023-12-04T14:01:45.094084100Z",
     "start_time": "2023-12-04T14:01:44.509021Z"
    }
   },
   "outputs": [
    {
     "data": {
      "text/plain": "'Assignment successfully submitted'"
     },
     "execution_count": 21,
     "metadata": {},
     "output_type": "execute_result"
    }
   ],
   "source": [
    "# Submit Method\n",
    "assignment_id = \"002_data_types\"\n",
    "question_id = \"08_concat\"\n",
    "\n",
    "result = \"done\"\n",
    "\n",
    "submit(student_id, name, assignment_id, result, question_id)"
   ]
  },
  {
   "cell_type": "markdown",
   "metadata": {
    "id": "AbHz-S75xEEf"
   },
   "source": [
    "# Numbers (integers and floats)\n",
    "\n",
    "Numbers in Python are divided into two types: integers and floats. Integers are whole numbers, while floats are decimal numbers.\n",
    "\n",
    "Below are integers:\n",
    "\n",
    "```python\n",
    "1\n",
    "30\n",
    "70\n",
    "```\n",
    "\n",
    "Below are floats:\n",
    "\n",
    "```python\n",
    "1.0\n",
    "30.0\n",
    "70.0\n",
    "```\n",
    "\n",
    "We can do basic math operations with either integers or floats:"
   ]
  },
  {
   "cell_type": "code",
   "execution_count": null,
   "metadata": {
    "id": "BzkkiW0AxEEg",
    "outputId": "2caa9fc3-6218-4d2a-fa3f-0365754380f2",
    "colab": {
     "base_uri": "https://localhost:8080/"
    }
   },
   "outputs": [
    {
     "output_type": "execute_result",
     "data": {
      "text/plain": [
       "-1"
      ]
     },
     "metadata": {},
     "execution_count": 2
    }
   ],
   "source": [
    "9-5*2"
   ]
  },
  {
   "cell_type": "markdown",
   "metadata": {
    "id": "VLrhaS9UVWdy"
   },
   "source": [
    "# Challenge!\n",
    "\n",
    "## Challenge 1\n",
    "\n",
    "Create a formula of 10 times 2.\n",
    "The output = 20"
   ]
  },
  {
   "cell_type": "code",
   "execution_count": 22,
   "metadata": {
    "colab": {
     "base_uri": "https://localhost:8080/"
    },
    "id": "WNcRBLWjVWdy",
    "outputId": "97a30b38-d500-4d0c-b86f-959fb8e3b088",
    "ExecuteTime": {
     "end_time": "2023-12-04T14:01:58.126281Z",
     "start_time": "2023-12-04T14:01:58.114738300Z"
    }
   },
   "outputs": [
    {
     "data": {
      "text/plain": "20"
     },
     "execution_count": 22,
     "metadata": {},
     "output_type": "execute_result"
    }
   ],
   "source": [
    "#write your code below\n",
    "10*2"
   ]
  },
  {
   "cell_type": "markdown",
   "metadata": {
    "id": "zZM6lAY5VWdy"
   },
   "source": [
    "When you are done with the above challenge, then:\n",
    "\n",
    "1. Change the text \"my result\" below with the formula you created above.\n",
    "2. Run the code block by pressing the play button."
   ]
  },
  {
   "cell_type": "code",
   "execution_count": 23,
   "metadata": {
    "id": "lBghSuzhVWdy",
    "ExecuteTime": {
     "end_time": "2023-12-04T14:02:07.280055800Z",
     "start_time": "2023-12-04T14:02:06.724484600Z"
    }
   },
   "outputs": [
    {
     "data": {
      "text/plain": "'Assignment successfully submitted'"
     },
     "execution_count": 23,
     "metadata": {},
     "output_type": "execute_result"
    }
   ],
   "source": [
    "# Submit Method\n",
    "assignment_id = \"002_data_types\"\n",
    "question_id = \"09_math_1\"\n",
    "\n",
    "result = \"10*2\"\n",
    "\n",
    "submit(student_id, name, assignment_id, result, question_id)"
   ]
  },
  {
   "cell_type": "markdown",
   "metadata": {
    "id": "TKQXnxWWVWdy"
   },
   "source": [
    "## Challenge 2\n",
    "\n",
    "Create a formula of 10 plus 2 then times 3 (remember the order of operations, you might need to use parentheses?)\n",
    "The output = 36"
   ]
  },
  {
   "cell_type": "code",
   "execution_count": 25,
   "metadata": {
    "id": "qFNRol3gVWdy",
    "ExecuteTime": {
     "end_time": "2023-12-04T14:02:32.660050300Z",
     "start_time": "2023-12-04T14:02:32.647537700Z"
    }
   },
   "outputs": [
    {
     "data": {
      "text/plain": "36"
     },
     "execution_count": 25,
     "metadata": {},
     "output_type": "execute_result"
    }
   ],
   "source": [
    "#write your code below\n",
    "(10+2)*3"
   ]
  },
  {
   "cell_type": "markdown",
   "metadata": {
    "id": "UKsvqcGGVWdy"
   },
   "source": [
    "When you are done with the above challenge, then:\n",
    "\n",
    "1. Change the text \"my result\" below with the formula you created above.\n",
    "2. Run the code block by pressing the play button."
   ]
  },
  {
   "cell_type": "code",
   "execution_count": 26,
   "metadata": {
    "id": "BzhzUEHQVWdy",
    "ExecuteTime": {
     "end_time": "2023-12-04T14:02:37.608647400Z",
     "start_time": "2023-12-04T14:02:37.062721400Z"
    }
   },
   "outputs": [
    {
     "data": {
      "text/plain": "'Assignment successfully submitted'"
     },
     "execution_count": 26,
     "metadata": {},
     "output_type": "execute_result"
    }
   ],
   "source": [
    "# Submit Method\n",
    "assignment_id = \"002_data_types\"\n",
    "question_id = \"10_math_2\"\n",
    "\n",
    "result = \"(10+2)*3\"\n",
    "\n",
    "submit(student_id, name, assignment_id, result, question_id)"
   ]
  }
 ],
 "metadata": {
  "colab": {
   "provenance": []
  },
  "kernelspec": {
   "display_name": "Python 3 (ipykernel)",
   "language": "python",
   "name": "python3"
  },
  "language_info": {
   "codemirror_mode": {
    "name": "ipython",
    "version": 3
   },
   "file_extension": ".py",
   "mimetype": "text/x-python",
   "name": "python",
   "nbconvert_exporter": "python",
   "pygments_lexer": "ipython3",
   "version": "3.11.3"
  }
 },
 "nbformat": 4,
 "nbformat_minor": 0
}
