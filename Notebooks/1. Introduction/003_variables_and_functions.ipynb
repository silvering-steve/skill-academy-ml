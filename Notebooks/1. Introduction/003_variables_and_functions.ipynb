{
  "cells": [
    {
      "cell_type": "markdown",
      "metadata": {
        "id": "RoiIRjGHZiiv"
      },
      "source": [
        "# Variable\n",
        "\n",
        "Having to write out the same thing over and over again is tedious and error-prone.\n",
        "\n",
        "Python, like most programming languages, allows us to assign a name to a value. This is called a variable. So we can do below code:"
      ]
    },
    {
      "cell_type": "code",
      "execution_count": null,
      "metadata": {
        "id": "0zxLf9BGZiix",
        "colab": {
          "base_uri": "https://localhost:8080/",
          "height": 35
        },
        "outputId": "4d1383c1-194b-4246-8f4e-76e06c18a773"
      },
      "outputs": [
        {
          "output_type": "execute_result",
          "data": {
            "text/plain": [
              "'Dito'"
            ],
            "application/vnd.google.colaboratory.intrinsic+json": {
              "type": "string"
            }
          },
          "metadata": {},
          "execution_count": 5
        }
      ],
      "source": [
        "\"Dito\"\n",
        "\n",
        "name = \"Dito\""
      ]
    },
    {
      "cell_type": "markdown",
      "metadata": {
        "id": "hF6gZYhQZiiy"
      },
      "source": [
        "And then we can use the variable `name` again when needed"
      ]
    },
    {
      "cell_type": "code",
      "execution_count": null,
      "metadata": {
        "colab": {
          "base_uri": "https://localhost:8080/"
        },
        "id": "Q9Bv9TlEZiiz",
        "outputId": "694d798f-c4bb-4cb7-b88a-dd0488b06714"
      },
      "outputs": [
        {
          "output_type": "execute_result",
          "data": {
            "text/plain": [
              "2"
            ]
          },
          "metadata": {},
          "execution_count": 6
        }
      ],
      "source": [
        "name"
      ]
    },
    {
      "cell_type": "markdown",
      "metadata": {
        "id": "RgnAat7MZiiz"
      },
      "source": [
        "Of course assigning variable can be done for other data types such as string and other data types that we haven't yet covered."
      ]
    },
    {
      "cell_type": "code",
      "execution_count": null,
      "metadata": {
        "id": "h05tVizwZiiz"
      },
      "outputs": [],
      "source": [
        "name = 'John' # string\n",
        "age = 25 # integer\n",
        "weight = 75.5 # float\n",
        "is_adult = True # boolean\n",
        "wife = None # null"
      ]
    },
    {
      "cell_type": "code",
      "source": [
        "weight"
      ],
      "metadata": {
        "colab": {
          "base_uri": "https://localhost:8080/"
        },
        "id": "UA9pcpXVH8FT",
        "outputId": "b623f8fa-c4e6-4bb4-dda6-b755673379ca"
      },
      "execution_count": null,
      "outputs": [
        {
          "output_type": "execute_result",
          "data": {
            "text/plain": [
              "75.5"
            ]
          },
          "metadata": {},
          "execution_count": 8
        }
      ]
    },
    {
      "cell_type": "markdown",
      "metadata": {
        "id": "X5bnEMhUZii0"
      },
      "source": [
        "# `print` won't print out on a line of variable assignment\n",
        "\n",
        "Just to note is that if you're assigning a data to a variable in the last line of code, unlike previously learned, the last line of code will not be automatically printed out. You can put only the variable after you already assigned it to a value though."
      ]
    },
    {
      "cell_type": "code",
      "execution_count": null,
      "metadata": {
        "id": "moIeAL05Zii0"
      },
      "outputs": [],
      "source": [
        "will_not_be_printed = \"This will not be printed as this line is used to assign a value to a variable\""
      ]
    },
    {
      "cell_type": "code",
      "execution_count": null,
      "metadata": {
        "id": "6A_mc7xCZii0"
      },
      "outputs": [],
      "source": [
        "investor_rg = \"Aditira\"\n",
        "investor_rg"
      ]
    },
    {
      "cell_type": "markdown",
      "metadata": {
        "id": "eKswTjh-Zii0"
      },
      "source": [
        "Basic syntax rules for variable names:\n",
        "\n",
        "- Variable names can only contain letters, numbers, and underscores. Variable names can start with a letter or an underscore, but not with a number.\n",
        "- Spaces are not allowed in variable names, so we use underscores instead of spaces. For example, use `student_name` instead of `student name`.\n",
        "- You cannot use Python keywords as variable names such as `print`, `if`, `else`, `elif`, `for`, `while`, `def`, `class`, `try`, `except`, `finally`, `raise`, `import`, `from`, `as`, `with`, `lambda`, `return`, `yield`, `del`, `pass`, `break`, `continue`, `global`, `nonlocal`, `assert`, `in`, `is`, `not`, `or`, `and`, `True`, `False`, `None`, `async`, `await`, etc.\n",
        "\n",
        "Most of the time, developers will only use either this pattern \"my_variable_name\" (snake case) or this pattern \"myVariableName\" (camel case) for variable names and for most of the time developers will only use what's already been standardized by their company or their team."
      ]
    },
    {
      "cell_type": "markdown",
      "metadata": {
        "id": "KH2988HGZii1"
      },
      "source": [
        "# Operation on variables\n",
        "\n",
        "You can operate on variables just like you can operate on values - Eg. If the variable `x` is equal to 5, then `x + 1` will be equal to 6, if the variable `y` is a string, then we can operate on it with string operations such as `y.upper()`."
      ]
    },
    {
      "cell_type": "code",
      "execution_count": null,
      "metadata": {
        "colab": {
          "base_uri": "https://localhost:8080/"
        },
        "id": "bZw8bGpMZii1",
        "outputId": "8edd393e-abaf-4aab-e95b-feacaff3b94b"
      },
      "outputs": [
        {
          "output_type": "stream",
          "name": "stdout",
          "text": [
            "11\n",
            "Dito Anton\n"
          ]
        }
      ],
      "source": [
        "my_number = 10\n",
        "print(my_number + 1)\n",
        "my_name = \"Dito\"\n",
        "last_name = \"Anton\"\n",
        "print(my_name + \" \" + last_name)"
      ]
    },
    {
      "cell_type": "markdown",
      "metadata": {
        "id": "SVbV5V_LZii1"
      },
      "source": [
        "# Challenge\n",
        "\n",
        "## Challenge 1\n",
        "\n",
        "Create a variable with the name `car` and assign the value `Tesla` to it. Then make sure the variable is printed out."
      ]
    },
    {
      "cell_type": "code",
      "execution_count": null,
      "metadata": {
        "colab": {
          "base_uri": "https://localhost:8080/",
          "height": 35
        },
        "id": "Y0iByAipZii1",
        "outputId": "96a651b5-3d62-47c6-a65e-ab24186733f6"
      },
      "outputs": [
        {
          "output_type": "execute_result",
          "data": {
            "text/plain": [
              "'Tesla'"
            ],
            "application/vnd.google.colaboratory.intrinsic+json": {
              "type": "string"
            }
          },
          "metadata": {},
          "execution_count": 19
        }
      ],
      "source": [
        "#write your code below"
      ]
    },
    {
      "cell_type": "markdown",
      "metadata": {
        "id": "ZaDup5TeZii1"
      },
      "source": [
        "When you are done with the above challenge, then:\n",
        "1. Input your student_id and name in the box below\n",
        "3. Run the code block by pressing the play button."
      ]
    },
    {
      "cell_type": "code",
      "execution_count": null,
      "metadata": {
        "id": "Tjc_H8MwZii1"
      },
      "outputs": [],
      "source": [
        "!pip install rggrader\n",
        "\n",
        "from rggrader import submit\n",
        "\n",
        "# @title #### Student Identity\n",
        "student_id = \"your student id\" # @param {type:\"string\"}\n",
        "name = \"your name\" # @param {type:\"string\"}\n",
        "\n",
        "# Submit Method\n",
        "assignment_id = \"003_variables-and-functions\"\n",
        "question_id = \"01_variable_1\"\n",
        "submit(student_id, name, assignment_id, car, question_id)"
      ]
    },
    {
      "cell_type": "markdown",
      "metadata": {
        "id": "pl9z0c7dZii1"
      },
      "source": [
        "## Challenge 2\n",
        "\n",
        "Concatenate below three variables into one variable called `sentence` and print it out. Remember to add space between first_word and second_word."
      ]
    },
    {
      "cell_type": "code",
      "execution_count": null,
      "metadata": {
        "id": "64vzaD3ZZii1"
      },
      "outputs": [],
      "source": [
        "first_word = \"Hello\"\n",
        "second_word = \"World\"\n",
        "third_word = \"!\"\n",
        "\n",
        "sentence = None # Put your code here, replace `None` with the variables.\n",
        "sentence # Put your code here to make sure the `sentence` variable is printed\n",
        "#Expected output: \"Hello World!\""
      ]
    },
    {
      "cell_type": "markdown",
      "metadata": {
        "id": "-ZvJSbpbZii1"
      },
      "source": [
        "When you are done with the above challenge, then:\n",
        "\n",
        "1. Run the code block below by pressing the play button."
      ]
    },
    {
      "cell_type": "code",
      "execution_count": null,
      "metadata": {
        "id": "fHnydvxGZii1"
      },
      "outputs": [],
      "source": [
        "# Submit Method\n",
        "assignment_id = \"003_variables-and-functions\"\n",
        "question_id = \"02_variable_2\"\n",
        "\n",
        "submit(student_id, name, assignment_id, sentence, question_id)"
      ]
    },
    {
      "cell_type": "markdown",
      "metadata": {
        "id": "d163SmuLZii1"
      },
      "source": [
        "## Variable overwriting\n",
        "\n",
        "You can overwrite a variable by assigning a new value to it. For example:\n"
      ]
    },
    {
      "cell_type": "code",
      "execution_count": null,
      "metadata": {
        "colab": {
          "base_uri": "https://localhost:8080/",
          "height": 53
        },
        "id": "RSNTtgQrZii2",
        "outputId": "d25ac33b-e45d-4ac6-8e60-e3630cf91d02"
      },
      "outputs": [
        {
          "output_type": "stream",
          "name": "stdout",
          "text": [
            "Budi\n"
          ]
        },
        {
          "output_type": "execute_result",
          "data": {
            "text/plain": [
              "'Andi'"
            ],
            "application/vnd.google.colaboratory.intrinsic+json": {
              "type": "string"
            }
          },
          "metadata": {},
          "execution_count": 2
        }
      ],
      "source": [
        "name = \"Budi\"\n",
        "print(name)\n",
        "name = \"Andi\"\n",
        "name"
      ]
    },
    {
      "cell_type": "markdown",
      "metadata": {
        "id": "o93zxzgcZii2"
      },
      "source": [
        "This behavior will help if you want to manipulate the value of a variable. For example:"
      ]
    },
    {
      "cell_type": "code",
      "execution_count": null,
      "metadata": {
        "colab": {
          "base_uri": "https://localhost:8080/",
          "height": 89
        },
        "id": "MYpxfKEQZii2",
        "outputId": "eb9a4c1b-f8d3-45ea-a34d-e489bf0d0007"
      },
      "outputs": [
        {
          "output_type": "stream",
          "name": "stdout",
          "text": [
            "baris1=pear orange apple\n",
            "baris2=mango orange apple\n",
            "baris3=mango orange apple\n"
          ]
        },
        {
          "output_type": "execute_result",
          "data": {
            "text/plain": [
              "'mango orange apple'"
            ],
            "application/vnd.google.colaboratory.intrinsic+json": {
              "type": "string"
            }
          },
          "metadata": {},
          "execution_count": 8
        }
      ],
      "source": [
        "fruits = \"pear orange apple\"\n",
        "fruits = fruits.replace(\"pear\", \"mango\") # mango orange apple\n",
        "fruits = fruits.replace(\"orange\", \"banana\") # mango banana apple\n",
        "fruits = fruits.upper() # MANGO BANANA APPLE\n",
        "fruits"
      ]
    },
    {
      "cell_type": "markdown",
      "metadata": {
        "id": "Fz-vIv3jZii2"
      },
      "source": [
        "# Challenge\n",
        "\n",
        "## Challenge 1\n",
        "\n",
        "Try to override below `city` to include `Jakarta` in the end of the string, make sure that the end result is: \"Surabaya, Bandung, Yogyakarta, Jakarta\""
      ]
    },
    {
      "cell_type": "code",
      "execution_count": null,
      "metadata": {
        "id": "BtW1sQ2nZii2"
      },
      "outputs": [],
      "source": [
        "cities = \"Surabaya, Bandung, Yogyakarta\"\n",
        "cities = cities # Change this line of code only\n",
        "cities #Output must be \"Surabaya, Bandung, Yogyakarta, Jakarta\""
      ]
    },
    {
      "cell_type": "markdown",
      "metadata": {
        "id": "jXicjWUaZii2"
      },
      "source": [
        "When you are done with the above challenge, then:\n",
        "\n",
        "1. Run the code block below by pressing the play button."
      ]
    },
    {
      "cell_type": "code",
      "execution_count": null,
      "metadata": {
        "id": "DNbe3ZJbZii2"
      },
      "outputs": [],
      "source": [
        "# Submit Method\n",
        "assignment_id = \"003_variables-and-functions\"\n",
        "question_id = \"03_variable_overwriting_1\"\n",
        "\n",
        "submit(student_id, name, assignment_id, cities, question_id)"
      ]
    },
    {
      "cell_type": "markdown",
      "metadata": {
        "id": "PQ2I7-IoZii2"
      },
      "source": [
        "## Challenge 2\n",
        "\n",
        "Follow the guide on below line of code to finish the challenge"
      ]
    },
    {
      "cell_type": "code",
      "execution_count": null,
      "metadata": {
        "id": "JD0bmK2bZii2"
      },
      "outputs": [],
      "source": [
        "calculation = 5\n",
        "calculation = calculation # Times this variable by 2\n",
        "calculation = calculation # Add 10 to this variable\n",
        "calculation = calculation # Subtract 5 from this variable\n",
        "calculation #Output must be the number 15"
      ]
    },
    {
      "cell_type": "markdown",
      "metadata": {
        "id": "FeUJUz3ZZii2"
      },
      "source": [
        "When you are done with the above challenge, then:\n",
        "\n",
        "1. Run the code block below by pressing the play button."
      ]
    },
    {
      "cell_type": "code",
      "execution_count": null,
      "metadata": {
        "id": "A5raICgkZii2"
      },
      "outputs": [],
      "source": [
        "# Submit Method\n",
        "assignment_id = \"003_variables-and-functions\"\n",
        "question_id = \"04_variable_overwriting_2\"\n",
        "\n",
        "submit(student_id, name, assignment_id, str(calculation), question_id)"
      ]
    },
    {
      "cell_type": "markdown",
      "metadata": {
        "id": "v_qvgdmlZii2"
      },
      "source": [
        "# Function\n",
        "\n",
        "Function is a block of code that can be called to perform a specific task. It can take in input and return output. It is a way to organize your code and make it reusable. The syntax for defining a function is as below:"
      ]
    },
    {
      "cell_type": "code",
      "execution_count": null,
      "metadata": {
        "id": "OngSsvAhZii2",
        "outputId": "fb27a495-ce44-44a5-c027-82f1be220508",
        "colab": {
          "base_uri": "https://localhost:8080/",
          "height": 35
        }
      },
      "outputs": [
        {
          "output_type": "execute_result",
          "data": {
            "text/plain": [
              "'Hello'"
            ],
            "application/vnd.google.colaboratory.intrinsic+json": {
              "type": "string"
            }
          },
          "metadata": {},
          "execution_count": 20
        }
      ],
      "source": [
        "def add(a, b):\n",
        "    return a + b\n",
        "\n",
        "#print(add(2, 3))\n",
        "#add(9, 14)\n",
        "\n",
        "def print_hello():\n",
        "  return \"Hello\"\n",
        "\n",
        "print_hello()"
      ]
    },
    {
      "cell_type": "markdown",
      "metadata": {
        "id": "pOU3sw1rZii2"
      },
      "source": [
        "Python is an indentation-sensitive language. The code inside the function is indented, which you can just use tab to indent.\n",
        "\n",
        "So, as long as:\n",
        "- The code after the function definition is indented, it is considered as part of the function.\n",
        "- Every code after that that's in the same indentation level, as long as it isn't separated by an empty line, is considered as part of the same function\n",
        "\n",
        "So we can have several lines of code like so:"
      ]
    },
    {
      "cell_type": "code",
      "execution_count": null,
      "metadata": {
        "id": "YW2mGnmuZii2",
        "outputId": "2b738f5f-e2fd-4a15-a9b4-610d58c84a85",
        "colab": {
          "base_uri": "https://localhost:8080/"
        }
      },
      "outputs": [
        {
          "output_type": "stream",
          "name": "stdout",
          "text": [
            "HI, I'M A DOG\n",
            "I LIKE DOG\n",
            "WE NEED YOUR DOG\n"
          ]
        }
      ],
      "source": [
        "def several_text_manipulation(text):\n",
        "    data = text.replace('cat', 'dog')\n",
        "    data = data.upper()\n",
        "    return data\n",
        "\n",
        "print(several_text_manipulation(\"Hi, I'm a cat\"))\n",
        "print(several_text_manipulation(\"I like cat\"))\n",
        "print(several_text_manipulation(\"We need your cat\"))"
      ]
    },
    {
      "cell_type": "markdown",
      "metadata": {
        "id": "ZGkpGtdtZii3"
      },
      "source": [
        "So as we can see above, we have a single `text` parameter (we'll cover this term in detail in a bit), then we manipulate that inside the function, after that we return the result, which will make it the output of the function."
      ]
    },
    {
      "cell_type": "code",
      "execution_count": null,
      "metadata": {
        "id": "f79Q2fODZii3",
        "colab": {
          "base_uri": "https://localhost:8080/",
          "height": 35
        },
        "outputId": "92d1706c-5b90-4a6c-e967-a4ecd10ea32f"
      },
      "outputs": [
        {
          "output_type": "execute_result",
          "data": {
            "text/plain": [
              "\"HI, I'M A DOG\""
            ],
            "application/vnd.google.colaboratory.intrinsic+json": {
              "type": "string"
            }
          },
          "metadata": {},
          "execution_count": 29
        }
      ],
      "source": [
        "def several_text_manipulation(text):\n",
        "    data = text.replace('cat', 'dog')\n",
        "    data = data.upper()\n",
        "    return data\n",
        "\n",
        "several_text_manipulation(\"Hi, I'm a cat\")"
      ]
    },
    {
      "cell_type": "markdown",
      "metadata": {
        "id": "rdMo-hiVZii3"
      },
      "source": [
        "This will not work, as the code after the function definition hasn't been indented correctly"
      ]
    },
    {
      "cell_type": "markdown",
      "metadata": {
        "id": "4gsGbbU7Zii6"
      },
      "source": [
        "# Intermezo: Parameters? Arguments?\n",
        "\n",
        "> This section is not mandatory to understand, it's for some of you that might learn outside of this course and might have heard these terms before. For the rest of this course you can pretend that these two terms are interchangeable, and this course will use the term \"parameter\" for both of them.\n",
        "\n",
        "We'll keep hearing these two terms a lot when talking about functions. So what are they and how are they different?\n",
        "\n",
        "## When we're writing the function it's called parameter\n",
        "\n",
        "When we're writing the function, we can define the parameters of that function. The total number of parameters can be differ from one function to another according to the need of the function, sometimes it can be zero, sometimes it can be one, sometimes it can be more than one."
      ]
    },
    {
      "cell_type": "code",
      "execution_count": null,
      "metadata": {
        "id": "WbKefDeyZii6"
      },
      "outputs": [],
      "source": [
        "def sum_three(a, b, c):\n",
        "    return a + b + c"
      ]
    },
    {
      "cell_type": "markdown",
      "metadata": {
        "id": "XnNA7Oq_Zii6"
      },
      "source": [
        "From above examples, what's called as parameter are `a`, `b`, and `c`."
      ]
    },
    {
      "cell_type": "markdown",
      "metadata": {
        "id": "k16qmT2uZii6"
      },
      "source": [
        "## When we're using the function, we're passing arguments\n",
        "\n",
        "Now when we're **using** the function after the function is already defined, we're passing arguments to the function. So if we use the `sum_three` function above, we can use it with `3`, `4`, and `5` as the arguments:"
      ]
    },
    {
      "cell_type": "code",
      "execution_count": null,
      "metadata": {
        "id": "n2z_Cza-Zii6",
        "outputId": "3aff2f7c-00c8-4bd8-db55-8cc50f72ea7e",
        "colab": {
          "base_uri": "https://localhost:8080/"
        }
      },
      "outputs": [
        {
          "output_type": "execute_result",
          "data": {
            "text/plain": [
              "12"
            ]
          },
          "metadata": {},
          "execution_count": 9
        }
      ],
      "source": [
        "sum_three(3, 4, 5)"
      ]
    },
    {
      "cell_type": "markdown",
      "metadata": {
        "id": "AtS5vD1BZii6"
      },
      "source": [
        "Of course we can use variables as the arguments:"
      ]
    },
    {
      "cell_type": "code",
      "execution_count": null,
      "metadata": {
        "id": "LDdNPM1wZii6",
        "outputId": "53042f8a-0754-4c8f-d269-5c237ae10aef",
        "colab": {
          "base_uri": "https://localhost:8080/"
        }
      },
      "outputs": [
        {
          "output_type": "execute_result",
          "data": {
            "text/plain": [
              "12"
            ]
          },
          "metadata": {},
          "execution_count": 32
        }
      ],
      "source": [
        "num_1 = 3\n",
        "num_3 = 5\n",
        "\n",
        "sum_three(num_1, 4, num_3)"
      ]
    },
    {
      "cell_type": "markdown",
      "metadata": {
        "id": "MuylL0fYZii6"
      },
      "source": [
        "Hard to remember between parameters and arguments? For learning you can remember that those two words are really similar, and not knowing which is which is not a big deal,but you'll find those two words used a lot in here and other learning resources, but you can just pretend that they're the same thing."
      ]
    },
    {
      "cell_type": "markdown",
      "metadata": {
        "id": "Nh0DSb8wZii6"
      },
      "source": [
        "# Challenge!"
      ]
    },
    {
      "cell_type": "markdown",
      "metadata": {
        "id": "iIDOn2sdZii6"
      },
      "source": [
        "## Challenge 1\n",
        "\n",
        "Using `.capitalize()` function, modify below function so it will return the capitalized version of the `input` parameter."
      ]
    },
    {
      "cell_type": "code",
      "execution_count": null,
      "metadata": {
        "id": "elvDUfufZii6",
        "outputId": "d0cda091-2a25-423a-afc1-eabf587e3b85",
        "colab": {
          "base_uri": "https://localhost:8080/"
        }
      },
      "outputs": [
        {
          "output_type": "stream",
          "name": "stdout",
          "text": [
            "Hello world\n",
            "My name is andi\n",
            "I am crazy text\n"
          ]
        }
      ],
      "source": [
        "def capitalize_me(input):\n",
        "    return input # Put your code here\n",
        "\n",
        "print(capitalize_me(\"hello world\")) # \"Hello world\"\n",
        "print(capitalize_me(\"My name is Andi\")) # \"My name is andi\"\n",
        "print(capitalize_me(\"I aM CrAzY TeXT\")) # \"I am crazy text\""
      ]
    },
    {
      "cell_type": "markdown",
      "metadata": {
        "id": "peaaH_RVZii6"
      },
      "source": [
        "When you are done with the above challenge, then:\n",
        "\n",
        "1. Run the code block below by pressing the play button."
      ]
    },
    {
      "cell_type": "code",
      "execution_count": null,
      "metadata": {
        "id": "2M7q8-fkZii7"
      },
      "outputs": [],
      "source": [
        "# Submit Method\n",
        "assignment_id = \"003_variables-and-functions\"\n",
        "question_id = \"05_function_1\"\n",
        "\n",
        "submit(student_id, name, assignment_id, capitalize_me(\"ruangguru skill academy bootcamp\"), question_id)"
      ]
    },
    {
      "cell_type": "markdown",
      "metadata": {
        "id": "i8BE9aFFZii7"
      },
      "source": [
        "## Challenge 2\n",
        "\n",
        "From below two input parameters, concatenate them into one string and then make it all uppercase."
      ]
    },
    {
      "cell_type": "code",
      "execution_count": null,
      "metadata": {
        "id": "3FJWH74vZii7"
      },
      "outputs": [],
      "source": [
        "def concat_then_upper(input_one, input_two):\n",
        "    to_return = to_return # Example: Concatenate the two inputs\n",
        "    to_return = to_return # Make the result uppercase\n",
        "    return to_return\n",
        "\n",
        "print(concat_then_upper(\"Hello\", \"World\")) # \"HELLO WORLD\"\n",
        "print(concat_then_upper(\"Ibu\", \"Kota\")) # \"IBU KOTA\"\n",
        "print(concat_then_upper(\"Ini\", \"Kapital\")) # \"INI KAPITAL\""
      ]
    },
    {
      "cell_type": "markdown",
      "metadata": {
        "id": "oB4VqUysZii7"
      },
      "source": [
        "When you are done with the above challenge, then:\n",
        "\n",
        "1. Run the code block below by pressing the play button."
      ]
    },
    {
      "cell_type": "code",
      "execution_count": null,
      "metadata": {
        "id": "-xEsjDVrZii7"
      },
      "outputs": [],
      "source": [
        "# Submit Method\n",
        "assignment_id = \"003_variables-and-functions\"\n",
        "question_id = \"06_function_2\"\n",
        "\n",
        "submit(student_id, name, assignment_id, concat_then_upper(\"Mastering\", \"ai\"), question_id)"
      ]
    },
    {
      "cell_type": "markdown",
      "metadata": {
        "id": "K69cj62FZii7"
      },
      "source": [
        "## Challenge 3\n",
        "\n",
        "From below three input parameters, concatenate them into one string and then make it all uppercase."
      ]
    },
    {
      "cell_type": "code",
      "execution_count": null,
      "metadata": {
        "id": "rwTSOVWTZii7"
      },
      "outputs": [],
      "source": [
        "def concat_then_upper(input_one, input_two, input_three):\n",
        "    to_return = to_return # Concatenate the three inputs\n",
        "    to_return = to_return # Make the result uppercase\n",
        "    return to_return\n",
        "\n",
        "print(concat_then_upper(\"Hello\", \"all of\", \"you\")) # \"HELLO ALL OF YOU\"\n",
        "print(concat_then_upper(\"Ibu\", \"Kota\", \"Indonesia\")) # \"IBU KOTA INDONESIA\"\n",
        "print(concat_then_upper(\"Ini\", \"Kapital\", \"loh\")) # \"INI KAPITAL LOH\""
      ]
    },
    {
      "cell_type": "markdown",
      "metadata": {
        "id": "_5PpUcZkZii7"
      },
      "source": [
        "When you are done with the above challenge, then:\n",
        "\n",
        "1. Run the code block below by pressing the play button."
      ]
    },
    {
      "cell_type": "code",
      "execution_count": null,
      "metadata": {
        "id": "9GKvlWk-Zii7"
      },
      "outputs": [],
      "source": [
        "# Submit Method\n",
        "assignment_id = \"003_variables-and-functions\"\n",
        "question_id = \"07_function_3\"\n",
        "\n",
        "submit(student_id, name, assignment_id, concat_then_upper(\"Mastering\", \"ai\", \"Bootcamp\"), question_id)"
      ]
    },
    {
      "cell_type": "markdown",
      "metadata": {
        "id": "qGNDCa3WZii7"
      },
      "source": [
        "## Challenge 4\n",
        "\n",
        "From below two input parameters, subtract first parameter with the second parameter (first parameter - second parameter) and then return the result."
      ]
    },
    {
      "cell_type": "code",
      "execution_count": null,
      "metadata": {
        "id": "1jUh2QvNZii7"
      },
      "outputs": [],
      "source": [
        "def substract(first, second):\n",
        "    return first# Put your code here\n",
        "\n",
        "print(substract(10, 5)) # 5\n",
        "print(substract(20, 10)) # 10\n",
        "print(substract(100, 50)) # 50"
      ]
    },
    {
      "cell_type": "markdown",
      "metadata": {
        "id": "SP6U3ymOZii7"
      },
      "source": [
        "When you are done with the above challenge, then:\n",
        "\n",
        "1. Run the code block below by pressing the play button."
      ]
    },
    {
      "cell_type": "code",
      "execution_count": null,
      "metadata": {
        "id": "CZ_hnYNSZii7"
      },
      "outputs": [],
      "source": [
        "# Submit Method\n",
        "assignment_id = \"003_variables-and-functions\"\n",
        "question_id = \"08_function_4\"\n",
        "\n",
        "submit(student_id, name, assignment_id, str(substract(1024, 128)), question_id)"
      ]
    },
    {
      "cell_type": "markdown",
      "metadata": {
        "id": "z7JB9DDpZii7"
      },
      "source": [
        "## Challenge 5\n",
        "\n",
        "Create a very basic multiplication function that will receive two arguments and return the multiplication result of those two arguments. Feel free write the name of the function and the parameters as you like (as long as it's following the rules of variable naming)!"
      ]
    },
    {
      "cell_type": "code",
      "execution_count": null,
      "metadata": {
        "id": "b-uuLMiqZii7"
      },
      "outputs": [],
      "source": [
        "# Put your code below"
      ]
    },
    {
      "cell_type": "markdown",
      "metadata": {
        "id": "so45bifXZii7"
      },
      "source": [
        "When you are done with the above challenge, then:\n",
        "\n",
        "1. Change the text \"my result\" below with the text \"done\"\n",
        "2. Run the code block by pressing the play button."
      ]
    },
    {
      "cell_type": "code",
      "execution_count": null,
      "metadata": {
        "id": "hzsh7hhFZii8"
      },
      "outputs": [],
      "source": [
        "# Submit Method\n",
        "assignment_id = \"003_variables-and-functions\"\n",
        "question_id = \"09_function_5\"\n",
        "\n",
        "result = \"my_result\"\n",
        "\n",
        "submit(student_id, name, assignment_id, result, question_id)"
      ]
    },
    {
      "cell_type": "markdown",
      "metadata": {
        "id": "3PpJJPsfZii8"
      },
      "source": [
        "## Challenge 6\n",
        "\n",
        "Create a function that will receive three arguments and return the multiplication result of those three arguments."
      ]
    },
    {
      "cell_type": "code",
      "execution_count": null,
      "metadata": {
        "id": "qOAYGXt3Zii8"
      },
      "outputs": [],
      "source": [
        "# Put your code below\n",
        "def mul(a, b, c):\n",
        "    return"
      ]
    },
    {
      "cell_type": "markdown",
      "metadata": {
        "id": "w08jShtjZii8"
      },
      "source": [
        "When you are done with the above challenge, then:\n",
        "\n",
        "1. Change the text \"my result\" below with the text \"done\"\n",
        "2. Run the code block by pressing the play button."
      ]
    },
    {
      "cell_type": "code",
      "execution_count": null,
      "metadata": {
        "id": "aIDjlmz2Zii8"
      },
      "outputs": [],
      "source": [
        "# Submit Method\n",
        "assignment_id = \"003_variables-and-functions\"\n",
        "question_id = \"10_function_6\"\n",
        "\n",
        "result = \"my result\"\n",
        "\n",
        "submit(student_id, name, assignment_id, result, question_id)"
      ]
    },
    {
      "cell_type": "markdown",
      "metadata": {
        "id": "HyAx5xsbZii8"
      },
      "source": [
        "# Positional vs Keyword arguments\n",
        "\n",
        "Consider below function:"
      ]
    },
    {
      "cell_type": "code",
      "execution_count": null,
      "metadata": {
        "id": "KRLmX6eFZii9"
      },
      "outputs": [],
      "source": [
        "def substract(a, b):\n",
        "    return a - b"
      ]
    },
    {
      "cell_type": "markdown",
      "metadata": {
        "id": "lc-g9B8dZii9"
      },
      "source": [
        "As we said previously, we can use it like below:"
      ]
    },
    {
      "cell_type": "code",
      "execution_count": null,
      "metadata": {
        "id": "gy-zlT9LZii9",
        "colab": {
          "base_uri": "https://localhost:8080/"
        },
        "outputId": "0f6037bc-0535-4f28-cb3a-4ecf2c66b4bf"
      },
      "outputs": [
        {
          "output_type": "execute_result",
          "data": {
            "text/plain": [
              "3"
            ]
          },
          "metadata": {},
          "execution_count": 36
        }
      ],
      "source": [
        "substract(5, 2)"
      ]
    },
    {
      "cell_type": "markdown",
      "metadata": {
        "id": "yg65C5RvZii9"
      },
      "source": [
        "This is called **positional arguments**. The arguments are passed to the function according to the position of the parameters in the function definition.\n",
        "\n",
        "Another way to pass arguments is by using the parameter name:"
      ]
    },
    {
      "cell_type": "code",
      "execution_count": null,
      "metadata": {
        "id": "wDzYlQ32Zii9",
        "outputId": "adb0f8e8-f112-4d0d-b72b-b37cd5e9b6bb",
        "colab": {
          "base_uri": "https://localhost:8080/"
        }
      },
      "outputs": [
        {
          "output_type": "execute_result",
          "data": {
            "text/plain": [
              "3"
            ]
          },
          "metadata": {},
          "execution_count": 37
        }
      ],
      "source": [
        "substract(a=5, b=2)"
      ]
    },
    {
      "cell_type": "markdown",
      "metadata": {
        "id": "6ajece8LZii9"
      },
      "source": [
        "This is called **keyword arguments**. The arguments are passed to the function using the parameter name. What makes keyword arguments different from positional arguments is that **the order of the arguments doesn't matter**, which means we can do this and the result will be the same:"
      ]
    },
    {
      "cell_type": "code",
      "execution_count": null,
      "metadata": {
        "id": "AgcWuQIzZii9",
        "outputId": "36fbbe2a-776e-4877-d45b-46492ce92aeb",
        "colab": {
          "base_uri": "https://localhost:8080/",
          "height": 35
        }
      },
      "outputs": [
        {
          "output_type": "execute_result",
          "data": {
            "text/plain": [
              "'John,20,male,London,England'"
            ],
            "application/vnd.google.colaboratory.intrinsic+json": {
              "type": "string"
            }
          },
          "metadata": {},
          "execution_count": 39
        }
      ],
      "source": [
        "substract(b=2, a=5)\n",
        "\n",
        "def identify(name, age, sex, city, country):\n",
        "  return name + \",\" + age + \",\" + sex + \",\" + city + \",\" + country\n",
        "\n",
        "\n",
        "identify(name=\"John\", age=\"20\", city=\"London\", country=\"England\", sex=\"male\")"
      ]
    },
    {
      "cell_type": "markdown",
      "metadata": {
        "id": "QleUHphOZii9"
      },
      "source": [
        "# Challenge"
      ]
    },
    {
      "cell_type": "markdown",
      "metadata": {
        "id": "MFTACxvWZii9"
      },
      "source": [
        "## Challenge 1\n",
        "\n",
        "Return the substraction result of below three arguments"
      ]
    },
    {
      "cell_type": "code",
      "execution_count": null,
      "metadata": {
        "id": "J9JQtdjsZii9"
      },
      "outputs": [],
      "source": [
        "def sub_three(first_number, second_number, third_number):\n",
        "    return None # Put your code here\n",
        "\n",
        "print(sub_three(10, 5, 2)) # 3\n",
        "print(sub_three(third_number=7, second_number=5, first_number=10)) # -2\n",
        "print(sub_three(second_number=20, third_number=10, first_number=100)) # 70"
      ]
    },
    {
      "cell_type": "markdown",
      "metadata": {
        "id": "cmMz4JN5Zii9"
      },
      "source": [
        "When you are done with the above challenge, then:\n",
        "\n",
        "1. Run the code block below by pressing the play button."
      ]
    },
    {
      "cell_type": "code",
      "execution_count": null,
      "metadata": {
        "id": "ArrgVYSTZii9"
      },
      "outputs": [],
      "source": [
        "# Submit Method\n",
        "assignment_id = \"003_variables-and-functions\"\n",
        "question_id = \"11_function_positional_argument_1\"\n",
        "\n",
        "submit(student_id, name, assignment_id, str(sub_three(second_number=2, third_number=3, first_number=1)), question_id)"
      ]
    },
    {
      "cell_type": "markdown",
      "metadata": {
        "id": "_GuRGM91Zii-"
      },
      "source": [
        "## Challenge 2\n",
        "\n",
        "Below is a function call that will receive three arguments and return the concatenation result of those three arguments (Remember to add space between words). Your task is to create the function that will be called by below function call."
      ]
    },
    {
      "cell_type": "code",
      "execution_count": null,
      "metadata": {
        "id": "ijqlh2BHZii-"
      },
      "outputs": [],
      "source": [
        "# Put your code below\n",
        "\n",
        "concat_texts(\"You\", \"are\", \"breathtaking\") # Should return \"You are breathtaking\"\n",
        "concat_texts(third=\"breathtaking\", first=\"You\", second=\"are\") # Should return \"You are breathtaking\""
      ]
    },
    {
      "cell_type": "markdown",
      "metadata": {
        "id": "9CJTL_m6Zii-"
      },
      "source": [
        "When you are done with the above challenge, then:\n",
        "\n",
        "1. Run the code block below by pressing the play button."
      ]
    },
    {
      "cell_type": "code",
      "execution_count": null,
      "metadata": {
        "id": "LhpfPq0uZii-"
      },
      "outputs": [],
      "source": [
        "# Submit Method\n",
        "assignment_id = \"003_variables-and-functions\"\n",
        "question_id = \"12_function_positional_argument_2\"\n",
        "\n",
        "submit(student_id, name, assignment_id, concat_texts(first=\"My\", third=\"ring\", second=\"precious\"), question_id)"
      ]
    },
    {
      "cell_type": "markdown",
      "metadata": {
        "id": "QOIfGPrzZii-"
      },
      "source": [
        "# Value returned can be assigned to a variable\n",
        "\n",
        "The value returned by a function can be assigned to a variable, because something returned from a function is basically the datatype of the function. For example:"
      ]
    },
    {
      "cell_type": "code",
      "execution_count": null,
      "metadata": {
        "id": "zwZe350LZii-",
        "colab": {
          "base_uri": "https://localhost:8080/"
        },
        "outputId": "b9f0103b-2d71-407b-b04e-49e1ce4a9d8b"
      },
      "outputs": [
        {
          "output_type": "execute_result",
          "data": {
            "text/plain": [
              "7"
            ]
          },
          "metadata": {},
          "execution_count": 42
        }
      ],
      "source": [
        "def add_two(a, b):\n",
        "    return a + b\n",
        "\n",
        "result = add_two(3, 4)\n",
        "result"
      ]
    },
    {
      "cell_type": "code",
      "source": [
        "result"
      ],
      "metadata": {
        "colab": {
          "base_uri": "https://localhost:8080/"
        },
        "id": "qTjR8y9OO2N4",
        "outputId": "ed32c421-f283-4aa7-eeba-451880afc7e7"
      },
      "execution_count": null,
      "outputs": [
        {
          "output_type": "execute_result",
          "data": {
            "text/plain": [
              "7"
            ]
          },
          "metadata": {},
          "execution_count": 11
        }
      ]
    },
    {
      "cell_type": "markdown",
      "metadata": {
        "id": "GaKWgYfsZii-"
      },
      "source": [
        "# Challenge!"
      ]
    },
    {
      "cell_type": "markdown",
      "metadata": {
        "id": "T4Jpwj3AZii-"
      },
      "source": [
        "## Challenge 1\n",
        "\n",
        "Concat Rudi's name to the result of below `concat_three` function"
      ]
    },
    {
      "cell_type": "code",
      "execution_count": null,
      "metadata": {
        "id": "X1H3lIaZZii-"
      },
      "outputs": [],
      "source": [
        "def concat_three(a, b, c):\n",
        "    return a + \" \" + b + \" \" + c\n",
        "\n",
        "concat_three(\"Yoda\", \"Sam\", \"Frodo\") + \"\" # Change this line only, concat Rudi so it will be resulted in \"Yoda Sam Frodo Rudi\""
      ]
    },
    {
      "cell_type": "markdown",
      "metadata": {
        "id": "_864GPTcZii-"
      },
      "source": [
        "When you are done with the above challenge, then:\n",
        "\n",
        "1. Change the text \"my result\" below with the text \"done\"\n",
        "2. Run the code block by pressing the play button."
      ]
    },
    {
      "cell_type": "code",
      "execution_count": null,
      "metadata": {
        "id": "XDF_-vulZii-"
      },
      "outputs": [],
      "source": [
        "# Submit Method\n",
        "assignment_id = \"003_variables-and-functions\"\n",
        "question_id = \"13_function_result_as_variable_1\"\n",
        "\n",
        "result = \"my result\"\n",
        "\n",
        "submit(student_id, name, assignment_id, result, question_id)"
      ]
    },
    {
      "cell_type": "markdown",
      "metadata": {
        "id": "3umhYnwoZii-"
      },
      "source": [
        "## Challenge 2"
      ]
    },
    {
      "cell_type": "code",
      "execution_count": null,
      "metadata": {
        "id": "vzufo7KgZii-"
      },
      "outputs": [],
      "source": [
        "def add_three(a, b, c):\n",
        "    return a + b + c\n",
        "\n",
        "add_three(1, 2, 3) # Change this line only, add the result of this function with 4 so it will be resulted in 10"
      ]
    },
    {
      "cell_type": "markdown",
      "metadata": {
        "id": "AVSPs_kmZii-"
      },
      "source": [
        "When you are done with the above challenge, then:\n",
        "\n",
        "1. Change the text \"my result\" below with the text \"done\"\n",
        "2. Run the code block by pressing the play button."
      ]
    },
    {
      "cell_type": "code",
      "execution_count": null,
      "metadata": {
        "id": "fuSCchnJZii-"
      },
      "outputs": [],
      "source": [
        "# Submit Method\n",
        "assignment_id = \"003_variables-and-functions\"\n",
        "question_id = \"14_function_result_as_variable_2\"\n",
        "\n",
        "result = \"my result\"\n",
        "\n",
        "submit(student_id, name, assignment_id, result, question_id)"
      ]
    },
    {
      "cell_type": "markdown",
      "metadata": {
        "id": "We30wWs9Zii-"
      },
      "source": [
        "## Challenge 3\n",
        "\n",
        "Use two different functions below and sum the result of those two functions"
      ]
    },
    {
      "cell_type": "code",
      "execution_count": null,
      "metadata": {
        "id": "3IHedy_DZii-",
        "colab": {
          "base_uri": "https://localhost:8080/"
        },
        "outputId": "1993f154-7ce4-406e-f453-f9d43765fbaf"
      },
      "outputs": [
        {
          "output_type": "execute_result",
          "data": {
            "text/plain": [
              "11.0"
            ]
          },
          "metadata": {},
          "execution_count": 12
        }
      ],
      "source": [
        "def divide(a, b):\n",
        "    return a / b\n",
        "\n",
        "def multiply(a, b):\n",
        "    return a * b\n",
        "\n",
        "divide(10, 2) + multiply(2, 3) # Example\n",
        "# Now create the division of 9 and 3, and multiplication of 2 and 4, then add the result of those two operations in this line (use existing functions except for the addition)\n"
      ]
    },
    {
      "cell_type": "markdown",
      "metadata": {
        "id": "BN_llU9xZii-"
      },
      "source": [
        "When you are done with the above challenge, then:\n",
        "\n",
        "1. Change the text \"my result\" below with the output of the calculation above.\n",
        "2. Run the code block by pressing the play button."
      ]
    },
    {
      "cell_type": "code",
      "execution_count": null,
      "metadata": {
        "id": "eNgtQkLEZii-"
      },
      "outputs": [],
      "source": [
        "# Submit Method\n",
        "assignment_id = \"003_variables-and-functions\"\n",
        "question_id = \"15_function_result_as_variable_3\"\n",
        "\n",
        "result = \"my result\"\n",
        "\n",
        "submit(student_id, name, assignment_id, result, question_id)"
      ]
    },
    {
      "cell_type": "markdown",
      "metadata": {
        "id": "RsWGY8z8Zii-"
      },
      "source": [
        "## Challenge 4\n",
        "\n",
        "Now use the variable `result` and `result2`, results of given functions, and sum them together"
      ]
    },
    {
      "cell_type": "code",
      "execution_count": null,
      "metadata": {
        "id": "EDbR-zCAZii_"
      },
      "outputs": [],
      "source": [
        "def multiply_two(a, b):\n",
        "    return a * b\n",
        "\n",
        "result = multiply_two(3, 4)\n",
        "result2 = multiply_two(5, 6)\n",
        "\n",
        "# Sum the result and result2 variable in this line, output should be 42\n"
      ]
    },
    {
      "cell_type": "markdown",
      "metadata": {
        "id": "q5UL-J2pZii_"
      },
      "source": [
        "When you are done with the above challenge, then:\n",
        "\n",
        "1. Change the text \"my result\" below with the output of the calculation above.\n",
        "2. Run the code block by pressing the play button."
      ]
    },
    {
      "cell_type": "code",
      "execution_count": null,
      "metadata": {
        "id": "tcdPYQJLZii_"
      },
      "outputs": [],
      "source": [
        "# Submit Method\n",
        "assignment_id = \"003_variables-and-functions\"\n",
        "question_id = \"16_function_result_as_variable_4\"\n",
        "\n",
        "result = \"my result\"\n",
        "\n",
        "submit(student_id, name, assignment_id, result, question_id)"
      ]
    },
    {
      "cell_type": "markdown",
      "metadata": {
        "id": "3I-KPPAPZii_"
      },
      "source": [
        "# Let's have fun, machine learning enthusiasts!"
      ]
    },
    {
      "cell_type": "markdown",
      "metadata": {
        "id": "EIIGrUkKZii_"
      },
      "source": [
        "Let's take a look to several line of code at our \"The basics\" learning section when we're just trying to learn about programming"
      ]
    },
    {
      "cell_type": "code",
      "execution_count": null,
      "metadata": {
        "id": "guKV4vvUZii_",
        "colab": {
          "base_uri": "https://localhost:8080/",
          "height": 565,
          "referenced_widgets": [
            "959c6691175346e8addf75bef10a7f75",
            "86dc8bf3578341ee97c7d9e0ce1b5789",
            "a976df90ef6448c5a92c6949a15031f8",
            "6226947ea49b43d5901e2754eea12d38",
            "047cba7f61ef4ae896104ce72ac5bb91",
            "fb1b1c6a2c1049ce925244c3995d2200",
            "bf83e5a3684c45e6a2021151932cd400",
            "470fa38c382c49b3aa4eb5e63bbaee23",
            "a16a0b73aed444b38824141bb38d1720",
            "c7609cceae3345928b3cab2c174d7094",
            "83aa211eddc1409abdb31fdcf4ad9bba",
            "f3415991dce64be298d4d0457e83d150",
            "092b487af90c4e7ab23b00c2caf61db7",
            "bf4f1761da324a7aae8f15e8e1c8a7cc",
            "b71de34db6454f2cb3365cd041f48730",
            "fb615645cb69456dba26749060297264",
            "db2cf1c57bca42f080e982f69741c4e6",
            "2f7f980db4944d849c54c570ec236204",
            "7e786e52000342538f32aeb0c785fdde",
            "38cf53807eff48f08dd5f6f3f0711ba6",
            "6973968c266240d98a9857cb4595ff17",
            "74fdc823185b4d249a5d8568eb96b1ff",
            "9f7c2e0d7fd444d7abf15e8c69de69f1",
            "3e7265c5b295477690685e2e733e2123",
            "5e2709389767432ebfaf2e08c766ed4e",
            "fbecc4a67df94ca2aee1e045f802464c",
            "98bd9039163c4616b7054fcfc229c6f9",
            "281bb041c88649349d9e65671abd5738",
            "25d4bcdb695b459c96410ca1b3b529db",
            "3ae4bf8d6bf44435be08263bcd104c9f",
            "ad977bd7c28b4fabbb08ea489d3ed15e",
            "09088e7afcb4411aaf6de7e96246cf42",
            "d9c4c350f1a74ac8b34883ec509763f6",
            "5ec09c82729e40ec95dfa6f12b5ddbb7",
            "bad68ab03a2946efba62905fba40db69",
            "47e51305a0e744b3b4498af70d1ded8f",
            "ec023df1b40b4f869694992dddfe230c",
            "83f9199532e04e71a9d510d2dcfef33a",
            "1a4dc34965e4406e86953775da213e60",
            "43a67cf6547947088dc91bdd33503a6e",
            "ddc40386f5ce46af8b4e3ded2bdf36fc",
            "94f675db8c2f4071b4113e613f06b251",
            "9987fa281b8a4960827b57d33f73f3ae",
            "1a97b15b44ab46ee8420fefa32c49173",
            "2b90c0ac96ae4f3088d80671dd20e41d",
            "52d6121886b64bc68dfcf956b5be53e1",
            "4144dd3c5b32454190d94d90981b17a0",
            "bf1ce5c85bc442599daa35a9d64fcc99",
            "c65d356dd6f34b4c94560f7ea769b983",
            "1e2d7481481f4bd0a9899bbd3b1789f5",
            "6741f0eb4071435e9c5d91b37ed11619",
            "a71d8b69b15f4b538ebe226b5c7a4969",
            "aa768941ee0643ae85cac83c19e72194",
            "05fc2d72be3944e786a8157f44fbbbe8",
            "28df06ed87a84d458c76bfe67ecb3665",
            "93061ac8e9d1496f98f61899ed243803",
            "bcc78db4b2cd420090f55042a4bb7eca",
            "e53f4782266b40f2b2804ee64578a0b9",
            "b543612be687402493ab8d6119f160dd",
            "ddbdba23481f49869ed23e48546a4269",
            "336975c366344d009ea8fc7c0a2e1bf8",
            "e5a565f2117a401c9599080ba880fd84",
            "9584e69e288d4ff0a881fdedf96f1e26",
            "5dd72ac50da244af9be310b34cfb4730",
            "64c0ba94e44c4daba5d837adcade3ba0",
            "fa2b690898784750b8453f9baae6b859",
            "1298ee09d21249f6974e57b7982984d1",
            "adec287df4db442f85ac9741d7af5bdd",
            "883688281c024555ae8a807dc0cd400c",
            "9a3faf1d4a87474aa14186db2f069fc4",
            "cdc7ae8241e34528a44010f98c0c5624",
            "2570116308a847c78266eafb2aa2a47d",
            "71f22e0351574879a3e7d4c673d27b78",
            "9c002fbfd8a7436c9c2e64f89aa69bdb",
            "c1de4c9dc15346488bdbeab05c0ba617",
            "ef6523afbae34bd48cce37e6aed88216",
            "e06c40837ade4839a9ab8d855d0dff22"
          ]
        },
        "outputId": "add91cf2-3920-4eee-e928-e8ac202345ed"
      },
      "outputs": [
        {
          "output_type": "stream",
          "name": "stdout",
          "text": [
            "Requirement already satisfied: transformers in /usr/local/lib/python3.10/dist-packages (4.35.2)\n",
            "Requirement already satisfied: filelock in /usr/local/lib/python3.10/dist-packages (from transformers) (3.13.1)\n",
            "Requirement already satisfied: huggingface-hub<1.0,>=0.16.4 in /usr/local/lib/python3.10/dist-packages (from transformers) (0.19.4)\n",
            "Requirement already satisfied: numpy>=1.17 in /usr/local/lib/python3.10/dist-packages (from transformers) (1.23.5)\n",
            "Requirement already satisfied: packaging>=20.0 in /usr/local/lib/python3.10/dist-packages (from transformers) (23.2)\n",
            "Requirement already satisfied: pyyaml>=5.1 in /usr/local/lib/python3.10/dist-packages (from transformers) (6.0.1)\n",
            "Requirement already satisfied: regex!=2019.12.17 in /usr/local/lib/python3.10/dist-packages (from transformers) (2023.6.3)\n",
            "Requirement already satisfied: requests in /usr/local/lib/python3.10/dist-packages (from transformers) (2.31.0)\n",
            "Requirement already satisfied: tokenizers<0.19,>=0.14 in /usr/local/lib/python3.10/dist-packages (from transformers) (0.15.0)\n",
            "Requirement already satisfied: safetensors>=0.3.1 in /usr/local/lib/python3.10/dist-packages (from transformers) (0.4.0)\n",
            "Requirement already satisfied: tqdm>=4.27 in /usr/local/lib/python3.10/dist-packages (from transformers) (4.66.1)\n",
            "Requirement already satisfied: fsspec>=2023.5.0 in /usr/local/lib/python3.10/dist-packages (from huggingface-hub<1.0,>=0.16.4->transformers) (2023.6.0)\n",
            "Requirement already satisfied: typing-extensions>=3.7.4.3 in /usr/local/lib/python3.10/dist-packages (from huggingface-hub<1.0,>=0.16.4->transformers) (4.5.0)\n",
            "Requirement already satisfied: charset-normalizer<4,>=2 in /usr/local/lib/python3.10/dist-packages (from requests->transformers) (3.3.2)\n",
            "Requirement already satisfied: idna<4,>=2.5 in /usr/local/lib/python3.10/dist-packages (from requests->transformers) (3.4)\n",
            "Requirement already satisfied: urllib3<3,>=1.21.1 in /usr/local/lib/python3.10/dist-packages (from requests->transformers) (2.0.7)\n",
            "Requirement already satisfied: certifi>=2017.4.17 in /usr/local/lib/python3.10/dist-packages (from requests->transformers) (2023.7.22)\n"
          ]
        },
        {
          "output_type": "display_data",
          "data": {
            "text/plain": [
              "config.json:   0%|          | 0.00/1.92k [00:00<?, ?B/s]"
            ],
            "application/vnd.jupyter.widget-view+json": {
              "version_major": 2,
              "version_minor": 0,
              "model_id": "959c6691175346e8addf75bef10a7f75"
            }
          },
          "metadata": {}
        },
        {
          "output_type": "display_data",
          "data": {
            "text/plain": [
              "model.safetensors:   0%|          | 0.00/499M [00:00<?, ?B/s]"
            ],
            "application/vnd.jupyter.widget-view+json": {
              "version_major": 2,
              "version_minor": 0,
              "model_id": "f3415991dce64be298d4d0457e83d150"
            }
          },
          "metadata": {}
        },
        {
          "output_type": "display_data",
          "data": {
            "text/plain": [
              "tokenizer_config.json:   0%|          | 0.00/380 [00:00<?, ?B/s]"
            ],
            "application/vnd.jupyter.widget-view+json": {
              "version_major": 2,
              "version_minor": 0,
              "model_id": "9f7c2e0d7fd444d7abf15e8c69de69f1"
            }
          },
          "metadata": {}
        },
        {
          "output_type": "display_data",
          "data": {
            "text/plain": [
              "vocab.json:   0%|          | 0.00/798k [00:00<?, ?B/s]"
            ],
            "application/vnd.jupyter.widget-view+json": {
              "version_major": 2,
              "version_minor": 0,
              "model_id": "5ec09c82729e40ec95dfa6f12b5ddbb7"
            }
          },
          "metadata": {}
        },
        {
          "output_type": "display_data",
          "data": {
            "text/plain": [
              "merges.txt:   0%|          | 0.00/456k [00:00<?, ?B/s]"
            ],
            "application/vnd.jupyter.widget-view+json": {
              "version_major": 2,
              "version_minor": 0,
              "model_id": "2b90c0ac96ae4f3088d80671dd20e41d"
            }
          },
          "metadata": {}
        },
        {
          "output_type": "display_data",
          "data": {
            "text/plain": [
              "tokenizer.json:   0%|          | 0.00/2.11M [00:00<?, ?B/s]"
            ],
            "application/vnd.jupyter.widget-view+json": {
              "version_major": 2,
              "version_minor": 0,
              "model_id": "93061ac8e9d1496f98f61899ed243803"
            }
          },
          "metadata": {}
        },
        {
          "output_type": "display_data",
          "data": {
            "text/plain": [
              "special_tokens_map.json:   0%|          | 0.00/280 [00:00<?, ?B/s]"
            ],
            "application/vnd.jupyter.widget-view+json": {
              "version_major": 2,
              "version_minor": 0,
              "model_id": "1298ee09d21249f6974e57b7982984d1"
            }
          },
          "metadata": {}
        }
      ],
      "source": [
        "%pip install transformers\n",
        "from transformers import pipeline\n",
        "\n",
        "classifier = pipeline(task=\"text-classification\", model=\"SamLowe/roberta-base-go_emotions\", top_k=None)"
      ]
    },
    {
      "cell_type": "markdown",
      "metadata": {
        "id": "8j72VJ7HZii_"
      },
      "source": [
        "Ignore the first two line of code as we'll cover it in later section.\n",
        "\n",
        "Beside the argument of `top_k` being `None` (which we haven't covered yet), you should already understand the gist of above code. Python isn't that hard right?!\n",
        "\n",
        "What's unique about above `pipeline` function is that **this function is returning another function**, a \"trick\" that we might haven't learned yet, but let's just take it as it is for now.\n",
        "\n",
        "Let's use the `classifier` function like below:"
      ]
    },
    {
      "cell_type": "code",
      "execution_count": null,
      "metadata": {
        "id": "FGInx-qIZii_"
      },
      "outputs": [],
      "source": [
        "classifier(\"Mom, thanks for your prayers, I passed the interview on Ruangguru!\")"
      ]
    },
    {
      "cell_type": "markdown",
      "metadata": {
        "id": "jPF0v45PZii_"
      },
      "source": [
        "# Intermezo: Function vs method\n",
        "\n",
        "We've been using the term function a lot, but there's another term that's similar to function, which is method. So what's the difference between function and method?\n",
        "\n",
        "So basically we'll learn more intense about method in OOP section, but to be concise:\n",
        "\n",
        "- Function is written just like we've learned so far (e.g. `function_name(argument)`)\n",
        "- Method is written after a compatible data type (e.g. `\"This is a string\".replace(\"is\", \"was\")`)\n"
      ]
    }
  ],
  "metadata": {
    "kernelspec": {
      "display_name": "Python 3 (ipykernel)",
      "language": "python",
      "name": "python3"
    },
    "language_info": {
      "codemirror_mode": {
        "name": "ipython",
        "version": 3
      },
      "file_extension": ".py",
      "mimetype": "text/x-python",
      "name": "python",
      "nbconvert_exporter": "python",
      "pygments_lexer": "ipython3",
      "version": "3.11.3"
    },
    "colab": {
      "provenance": []
    },
    "widgets": {
      "application/vnd.jupyter.widget-state+json": {
        "959c6691175346e8addf75bef10a7f75": {
          "model_module": "@jupyter-widgets/controls",
          "model_name": "HBoxModel",
          "model_module_version": "1.5.0",
          "state": {
            "_dom_classes": [],
            "_model_module": "@jupyter-widgets/controls",
            "_model_module_version": "1.5.0",
            "_model_name": "HBoxModel",
            "_view_count": null,
            "_view_module": "@jupyter-widgets/controls",
            "_view_module_version": "1.5.0",
            "_view_name": "HBoxView",
            "box_style": "",
            "children": [
              "IPY_MODEL_86dc8bf3578341ee97c7d9e0ce1b5789",
              "IPY_MODEL_a976df90ef6448c5a92c6949a15031f8",
              "IPY_MODEL_6226947ea49b43d5901e2754eea12d38"
            ],
            "layout": "IPY_MODEL_047cba7f61ef4ae896104ce72ac5bb91"
          }
        },
        "86dc8bf3578341ee97c7d9e0ce1b5789": {
          "model_module": "@jupyter-widgets/controls",
          "model_name": "HTMLModel",
          "model_module_version": "1.5.0",
          "state": {
            "_dom_classes": [],
            "_model_module": "@jupyter-widgets/controls",
            "_model_module_version": "1.5.0",
            "_model_name": "HTMLModel",
            "_view_count": null,
            "_view_module": "@jupyter-widgets/controls",
            "_view_module_version": "1.5.0",
            "_view_name": "HTMLView",
            "description": "",
            "description_tooltip": null,
            "layout": "IPY_MODEL_fb1b1c6a2c1049ce925244c3995d2200",
            "placeholder": "​",
            "style": "IPY_MODEL_bf83e5a3684c45e6a2021151932cd400",
            "value": "config.json: 100%"
          }
        },
        "a976df90ef6448c5a92c6949a15031f8": {
          "model_module": "@jupyter-widgets/controls",
          "model_name": "FloatProgressModel",
          "model_module_version": "1.5.0",
          "state": {
            "_dom_classes": [],
            "_model_module": "@jupyter-widgets/controls",
            "_model_module_version": "1.5.0",
            "_model_name": "FloatProgressModel",
            "_view_count": null,
            "_view_module": "@jupyter-widgets/controls",
            "_view_module_version": "1.5.0",
            "_view_name": "ProgressView",
            "bar_style": "success",
            "description": "",
            "description_tooltip": null,
            "layout": "IPY_MODEL_470fa38c382c49b3aa4eb5e63bbaee23",
            "max": 1924,
            "min": 0,
            "orientation": "horizontal",
            "style": "IPY_MODEL_a16a0b73aed444b38824141bb38d1720",
            "value": 1924
          }
        },
        "6226947ea49b43d5901e2754eea12d38": {
          "model_module": "@jupyter-widgets/controls",
          "model_name": "HTMLModel",
          "model_module_version": "1.5.0",
          "state": {
            "_dom_classes": [],
            "_model_module": "@jupyter-widgets/controls",
            "_model_module_version": "1.5.0",
            "_model_name": "HTMLModel",
            "_view_count": null,
            "_view_module": "@jupyter-widgets/controls",
            "_view_module_version": "1.5.0",
            "_view_name": "HTMLView",
            "description": "",
            "description_tooltip": null,
            "layout": "IPY_MODEL_c7609cceae3345928b3cab2c174d7094",
            "placeholder": "​",
            "style": "IPY_MODEL_83aa211eddc1409abdb31fdcf4ad9bba",
            "value": " 1.92k/1.92k [00:00&lt;00:00, 57.8kB/s]"
          }
        },
        "047cba7f61ef4ae896104ce72ac5bb91": {
          "model_module": "@jupyter-widgets/base",
          "model_name": "LayoutModel",
          "model_module_version": "1.2.0",
          "state": {
            "_model_module": "@jupyter-widgets/base",
            "_model_module_version": "1.2.0",
            "_model_name": "LayoutModel",
            "_view_count": null,
            "_view_module": "@jupyter-widgets/base",
            "_view_module_version": "1.2.0",
            "_view_name": "LayoutView",
            "align_content": null,
            "align_items": null,
            "align_self": null,
            "border": null,
            "bottom": null,
            "display": null,
            "flex": null,
            "flex_flow": null,
            "grid_area": null,
            "grid_auto_columns": null,
            "grid_auto_flow": null,
            "grid_auto_rows": null,
            "grid_column": null,
            "grid_gap": null,
            "grid_row": null,
            "grid_template_areas": null,
            "grid_template_columns": null,
            "grid_template_rows": null,
            "height": null,
            "justify_content": null,
            "justify_items": null,
            "left": null,
            "margin": null,
            "max_height": null,
            "max_width": null,
            "min_height": null,
            "min_width": null,
            "object_fit": null,
            "object_position": null,
            "order": null,
            "overflow": null,
            "overflow_x": null,
            "overflow_y": null,
            "padding": null,
            "right": null,
            "top": null,
            "visibility": null,
            "width": null
          }
        },
        "fb1b1c6a2c1049ce925244c3995d2200": {
          "model_module": "@jupyter-widgets/base",
          "model_name": "LayoutModel",
          "model_module_version": "1.2.0",
          "state": {
            "_model_module": "@jupyter-widgets/base",
            "_model_module_version": "1.2.0",
            "_model_name": "LayoutModel",
            "_view_count": null,
            "_view_module": "@jupyter-widgets/base",
            "_view_module_version": "1.2.0",
            "_view_name": "LayoutView",
            "align_content": null,
            "align_items": null,
            "align_self": null,
            "border": null,
            "bottom": null,
            "display": null,
            "flex": null,
            "flex_flow": null,
            "grid_area": null,
            "grid_auto_columns": null,
            "grid_auto_flow": null,
            "grid_auto_rows": null,
            "grid_column": null,
            "grid_gap": null,
            "grid_row": null,
            "grid_template_areas": null,
            "grid_template_columns": null,
            "grid_template_rows": null,
            "height": null,
            "justify_content": null,
            "justify_items": null,
            "left": null,
            "margin": null,
            "max_height": null,
            "max_width": null,
            "min_height": null,
            "min_width": null,
            "object_fit": null,
            "object_position": null,
            "order": null,
            "overflow": null,
            "overflow_x": null,
            "overflow_y": null,
            "padding": null,
            "right": null,
            "top": null,
            "visibility": null,
            "width": null
          }
        },
        "bf83e5a3684c45e6a2021151932cd400": {
          "model_module": "@jupyter-widgets/controls",
          "model_name": "DescriptionStyleModel",
          "model_module_version": "1.5.0",
          "state": {
            "_model_module": "@jupyter-widgets/controls",
            "_model_module_version": "1.5.0",
            "_model_name": "DescriptionStyleModel",
            "_view_count": null,
            "_view_module": "@jupyter-widgets/base",
            "_view_module_version": "1.2.0",
            "_view_name": "StyleView",
            "description_width": ""
          }
        },
        "470fa38c382c49b3aa4eb5e63bbaee23": {
          "model_module": "@jupyter-widgets/base",
          "model_name": "LayoutModel",
          "model_module_version": "1.2.0",
          "state": {
            "_model_module": "@jupyter-widgets/base",
            "_model_module_version": "1.2.0",
            "_model_name": "LayoutModel",
            "_view_count": null,
            "_view_module": "@jupyter-widgets/base",
            "_view_module_version": "1.2.0",
            "_view_name": "LayoutView",
            "align_content": null,
            "align_items": null,
            "align_self": null,
            "border": null,
            "bottom": null,
            "display": null,
            "flex": null,
            "flex_flow": null,
            "grid_area": null,
            "grid_auto_columns": null,
            "grid_auto_flow": null,
            "grid_auto_rows": null,
            "grid_column": null,
            "grid_gap": null,
            "grid_row": null,
            "grid_template_areas": null,
            "grid_template_columns": null,
            "grid_template_rows": null,
            "height": null,
            "justify_content": null,
            "justify_items": null,
            "left": null,
            "margin": null,
            "max_height": null,
            "max_width": null,
            "min_height": null,
            "min_width": null,
            "object_fit": null,
            "object_position": null,
            "order": null,
            "overflow": null,
            "overflow_x": null,
            "overflow_y": null,
            "padding": null,
            "right": null,
            "top": null,
            "visibility": null,
            "width": null
          }
        },
        "a16a0b73aed444b38824141bb38d1720": {
          "model_module": "@jupyter-widgets/controls",
          "model_name": "ProgressStyleModel",
          "model_module_version": "1.5.0",
          "state": {
            "_model_module": "@jupyter-widgets/controls",
            "_model_module_version": "1.5.0",
            "_model_name": "ProgressStyleModel",
            "_view_count": null,
            "_view_module": "@jupyter-widgets/base",
            "_view_module_version": "1.2.0",
            "_view_name": "StyleView",
            "bar_color": null,
            "description_width": ""
          }
        },
        "c7609cceae3345928b3cab2c174d7094": {
          "model_module": "@jupyter-widgets/base",
          "model_name": "LayoutModel",
          "model_module_version": "1.2.0",
          "state": {
            "_model_module": "@jupyter-widgets/base",
            "_model_module_version": "1.2.0",
            "_model_name": "LayoutModel",
            "_view_count": null,
            "_view_module": "@jupyter-widgets/base",
            "_view_module_version": "1.2.0",
            "_view_name": "LayoutView",
            "align_content": null,
            "align_items": null,
            "align_self": null,
            "border": null,
            "bottom": null,
            "display": null,
            "flex": null,
            "flex_flow": null,
            "grid_area": null,
            "grid_auto_columns": null,
            "grid_auto_flow": null,
            "grid_auto_rows": null,
            "grid_column": null,
            "grid_gap": null,
            "grid_row": null,
            "grid_template_areas": null,
            "grid_template_columns": null,
            "grid_template_rows": null,
            "height": null,
            "justify_content": null,
            "justify_items": null,
            "left": null,
            "margin": null,
            "max_height": null,
            "max_width": null,
            "min_height": null,
            "min_width": null,
            "object_fit": null,
            "object_position": null,
            "order": null,
            "overflow": null,
            "overflow_x": null,
            "overflow_y": null,
            "padding": null,
            "right": null,
            "top": null,
            "visibility": null,
            "width": null
          }
        },
        "83aa211eddc1409abdb31fdcf4ad9bba": {
          "model_module": "@jupyter-widgets/controls",
          "model_name": "DescriptionStyleModel",
          "model_module_version": "1.5.0",
          "state": {
            "_model_module": "@jupyter-widgets/controls",
            "_model_module_version": "1.5.0",
            "_model_name": "DescriptionStyleModel",
            "_view_count": null,
            "_view_module": "@jupyter-widgets/base",
            "_view_module_version": "1.2.0",
            "_view_name": "StyleView",
            "description_width": ""
          }
        },
        "f3415991dce64be298d4d0457e83d150": {
          "model_module": "@jupyter-widgets/controls",
          "model_name": "HBoxModel",
          "model_module_version": "1.5.0",
          "state": {
            "_dom_classes": [],
            "_model_module": "@jupyter-widgets/controls",
            "_model_module_version": "1.5.0",
            "_model_name": "HBoxModel",
            "_view_count": null,
            "_view_module": "@jupyter-widgets/controls",
            "_view_module_version": "1.5.0",
            "_view_name": "HBoxView",
            "box_style": "",
            "children": [
              "IPY_MODEL_092b487af90c4e7ab23b00c2caf61db7",
              "IPY_MODEL_bf4f1761da324a7aae8f15e8e1c8a7cc",
              "IPY_MODEL_b71de34db6454f2cb3365cd041f48730"
            ],
            "layout": "IPY_MODEL_fb615645cb69456dba26749060297264"
          }
        },
        "092b487af90c4e7ab23b00c2caf61db7": {
          "model_module": "@jupyter-widgets/controls",
          "model_name": "HTMLModel",
          "model_module_version": "1.5.0",
          "state": {
            "_dom_classes": [],
            "_model_module": "@jupyter-widgets/controls",
            "_model_module_version": "1.5.0",
            "_model_name": "HTMLModel",
            "_view_count": null,
            "_view_module": "@jupyter-widgets/controls",
            "_view_module_version": "1.5.0",
            "_view_name": "HTMLView",
            "description": "",
            "description_tooltip": null,
            "layout": "IPY_MODEL_db2cf1c57bca42f080e982f69741c4e6",
            "placeholder": "​",
            "style": "IPY_MODEL_2f7f980db4944d849c54c570ec236204",
            "value": "model.safetensors: 100%"
          }
        },
        "bf4f1761da324a7aae8f15e8e1c8a7cc": {
          "model_module": "@jupyter-widgets/controls",
          "model_name": "FloatProgressModel",
          "model_module_version": "1.5.0",
          "state": {
            "_dom_classes": [],
            "_model_module": "@jupyter-widgets/controls",
            "_model_module_version": "1.5.0",
            "_model_name": "FloatProgressModel",
            "_view_count": null,
            "_view_module": "@jupyter-widgets/controls",
            "_view_module_version": "1.5.0",
            "_view_name": "ProgressView",
            "bar_style": "success",
            "description": "",
            "description_tooltip": null,
            "layout": "IPY_MODEL_7e786e52000342538f32aeb0c785fdde",
            "max": 498697004,
            "min": 0,
            "orientation": "horizontal",
            "style": "IPY_MODEL_38cf53807eff48f08dd5f6f3f0711ba6",
            "value": 498697004
          }
        },
        "b71de34db6454f2cb3365cd041f48730": {
          "model_module": "@jupyter-widgets/controls",
          "model_name": "HTMLModel",
          "model_module_version": "1.5.0",
          "state": {
            "_dom_classes": [],
            "_model_module": "@jupyter-widgets/controls",
            "_model_module_version": "1.5.0",
            "_model_name": "HTMLModel",
            "_view_count": null,
            "_view_module": "@jupyter-widgets/controls",
            "_view_module_version": "1.5.0",
            "_view_name": "HTMLView",
            "description": "",
            "description_tooltip": null,
            "layout": "IPY_MODEL_6973968c266240d98a9857cb4595ff17",
            "placeholder": "​",
            "style": "IPY_MODEL_74fdc823185b4d249a5d8568eb96b1ff",
            "value": " 499M/499M [00:04&lt;00:00, 119MB/s]"
          }
        },
        "fb615645cb69456dba26749060297264": {
          "model_module": "@jupyter-widgets/base",
          "model_name": "LayoutModel",
          "model_module_version": "1.2.0",
          "state": {
            "_model_module": "@jupyter-widgets/base",
            "_model_module_version": "1.2.0",
            "_model_name": "LayoutModel",
            "_view_count": null,
            "_view_module": "@jupyter-widgets/base",
            "_view_module_version": "1.2.0",
            "_view_name": "LayoutView",
            "align_content": null,
            "align_items": null,
            "align_self": null,
            "border": null,
            "bottom": null,
            "display": null,
            "flex": null,
            "flex_flow": null,
            "grid_area": null,
            "grid_auto_columns": null,
            "grid_auto_flow": null,
            "grid_auto_rows": null,
            "grid_column": null,
            "grid_gap": null,
            "grid_row": null,
            "grid_template_areas": null,
            "grid_template_columns": null,
            "grid_template_rows": null,
            "height": null,
            "justify_content": null,
            "justify_items": null,
            "left": null,
            "margin": null,
            "max_height": null,
            "max_width": null,
            "min_height": null,
            "min_width": null,
            "object_fit": null,
            "object_position": null,
            "order": null,
            "overflow": null,
            "overflow_x": null,
            "overflow_y": null,
            "padding": null,
            "right": null,
            "top": null,
            "visibility": null,
            "width": null
          }
        },
        "db2cf1c57bca42f080e982f69741c4e6": {
          "model_module": "@jupyter-widgets/base",
          "model_name": "LayoutModel",
          "model_module_version": "1.2.0",
          "state": {
            "_model_module": "@jupyter-widgets/base",
            "_model_module_version": "1.2.0",
            "_model_name": "LayoutModel",
            "_view_count": null,
            "_view_module": "@jupyter-widgets/base",
            "_view_module_version": "1.2.0",
            "_view_name": "LayoutView",
            "align_content": null,
            "align_items": null,
            "align_self": null,
            "border": null,
            "bottom": null,
            "display": null,
            "flex": null,
            "flex_flow": null,
            "grid_area": null,
            "grid_auto_columns": null,
            "grid_auto_flow": null,
            "grid_auto_rows": null,
            "grid_column": null,
            "grid_gap": null,
            "grid_row": null,
            "grid_template_areas": null,
            "grid_template_columns": null,
            "grid_template_rows": null,
            "height": null,
            "justify_content": null,
            "justify_items": null,
            "left": null,
            "margin": null,
            "max_height": null,
            "max_width": null,
            "min_height": null,
            "min_width": null,
            "object_fit": null,
            "object_position": null,
            "order": null,
            "overflow": null,
            "overflow_x": null,
            "overflow_y": null,
            "padding": null,
            "right": null,
            "top": null,
            "visibility": null,
            "width": null
          }
        },
        "2f7f980db4944d849c54c570ec236204": {
          "model_module": "@jupyter-widgets/controls",
          "model_name": "DescriptionStyleModel",
          "model_module_version": "1.5.0",
          "state": {
            "_model_module": "@jupyter-widgets/controls",
            "_model_module_version": "1.5.0",
            "_model_name": "DescriptionStyleModel",
            "_view_count": null,
            "_view_module": "@jupyter-widgets/base",
            "_view_module_version": "1.2.0",
            "_view_name": "StyleView",
            "description_width": ""
          }
        },
        "7e786e52000342538f32aeb0c785fdde": {
          "model_module": "@jupyter-widgets/base",
          "model_name": "LayoutModel",
          "model_module_version": "1.2.0",
          "state": {
            "_model_module": "@jupyter-widgets/base",
            "_model_module_version": "1.2.0",
            "_model_name": "LayoutModel",
            "_view_count": null,
            "_view_module": "@jupyter-widgets/base",
            "_view_module_version": "1.2.0",
            "_view_name": "LayoutView",
            "align_content": null,
            "align_items": null,
            "align_self": null,
            "border": null,
            "bottom": null,
            "display": null,
            "flex": null,
            "flex_flow": null,
            "grid_area": null,
            "grid_auto_columns": null,
            "grid_auto_flow": null,
            "grid_auto_rows": null,
            "grid_column": null,
            "grid_gap": null,
            "grid_row": null,
            "grid_template_areas": null,
            "grid_template_columns": null,
            "grid_template_rows": null,
            "height": null,
            "justify_content": null,
            "justify_items": null,
            "left": null,
            "margin": null,
            "max_height": null,
            "max_width": null,
            "min_height": null,
            "min_width": null,
            "object_fit": null,
            "object_position": null,
            "order": null,
            "overflow": null,
            "overflow_x": null,
            "overflow_y": null,
            "padding": null,
            "right": null,
            "top": null,
            "visibility": null,
            "width": null
          }
        },
        "38cf53807eff48f08dd5f6f3f0711ba6": {
          "model_module": "@jupyter-widgets/controls",
          "model_name": "ProgressStyleModel",
          "model_module_version": "1.5.0",
          "state": {
            "_model_module": "@jupyter-widgets/controls",
            "_model_module_version": "1.5.0",
            "_model_name": "ProgressStyleModel",
            "_view_count": null,
            "_view_module": "@jupyter-widgets/base",
            "_view_module_version": "1.2.0",
            "_view_name": "StyleView",
            "bar_color": null,
            "description_width": ""
          }
        },
        "6973968c266240d98a9857cb4595ff17": {
          "model_module": "@jupyter-widgets/base",
          "model_name": "LayoutModel",
          "model_module_version": "1.2.0",
          "state": {
            "_model_module": "@jupyter-widgets/base",
            "_model_module_version": "1.2.0",
            "_model_name": "LayoutModel",
            "_view_count": null,
            "_view_module": "@jupyter-widgets/base",
            "_view_module_version": "1.2.0",
            "_view_name": "LayoutView",
            "align_content": null,
            "align_items": null,
            "align_self": null,
            "border": null,
            "bottom": null,
            "display": null,
            "flex": null,
            "flex_flow": null,
            "grid_area": null,
            "grid_auto_columns": null,
            "grid_auto_flow": null,
            "grid_auto_rows": null,
            "grid_column": null,
            "grid_gap": null,
            "grid_row": null,
            "grid_template_areas": null,
            "grid_template_columns": null,
            "grid_template_rows": null,
            "height": null,
            "justify_content": null,
            "justify_items": null,
            "left": null,
            "margin": null,
            "max_height": null,
            "max_width": null,
            "min_height": null,
            "min_width": null,
            "object_fit": null,
            "object_position": null,
            "order": null,
            "overflow": null,
            "overflow_x": null,
            "overflow_y": null,
            "padding": null,
            "right": null,
            "top": null,
            "visibility": null,
            "width": null
          }
        },
        "74fdc823185b4d249a5d8568eb96b1ff": {
          "model_module": "@jupyter-widgets/controls",
          "model_name": "DescriptionStyleModel",
          "model_module_version": "1.5.0",
          "state": {
            "_model_module": "@jupyter-widgets/controls",
            "_model_module_version": "1.5.0",
            "_model_name": "DescriptionStyleModel",
            "_view_count": null,
            "_view_module": "@jupyter-widgets/base",
            "_view_module_version": "1.2.0",
            "_view_name": "StyleView",
            "description_width": ""
          }
        },
        "9f7c2e0d7fd444d7abf15e8c69de69f1": {
          "model_module": "@jupyter-widgets/controls",
          "model_name": "HBoxModel",
          "model_module_version": "1.5.0",
          "state": {
            "_dom_classes": [],
            "_model_module": "@jupyter-widgets/controls",
            "_model_module_version": "1.5.0",
            "_model_name": "HBoxModel",
            "_view_count": null,
            "_view_module": "@jupyter-widgets/controls",
            "_view_module_version": "1.5.0",
            "_view_name": "HBoxView",
            "box_style": "",
            "children": [
              "IPY_MODEL_3e7265c5b295477690685e2e733e2123",
              "IPY_MODEL_5e2709389767432ebfaf2e08c766ed4e",
              "IPY_MODEL_fbecc4a67df94ca2aee1e045f802464c"
            ],
            "layout": "IPY_MODEL_98bd9039163c4616b7054fcfc229c6f9"
          }
        },
        "3e7265c5b295477690685e2e733e2123": {
          "model_module": "@jupyter-widgets/controls",
          "model_name": "HTMLModel",
          "model_module_version": "1.5.0",
          "state": {
            "_dom_classes": [],
            "_model_module": "@jupyter-widgets/controls",
            "_model_module_version": "1.5.0",
            "_model_name": "HTMLModel",
            "_view_count": null,
            "_view_module": "@jupyter-widgets/controls",
            "_view_module_version": "1.5.0",
            "_view_name": "HTMLView",
            "description": "",
            "description_tooltip": null,
            "layout": "IPY_MODEL_281bb041c88649349d9e65671abd5738",
            "placeholder": "​",
            "style": "IPY_MODEL_25d4bcdb695b459c96410ca1b3b529db",
            "value": "tokenizer_config.json: 100%"
          }
        },
        "5e2709389767432ebfaf2e08c766ed4e": {
          "model_module": "@jupyter-widgets/controls",
          "model_name": "FloatProgressModel",
          "model_module_version": "1.5.0",
          "state": {
            "_dom_classes": [],
            "_model_module": "@jupyter-widgets/controls",
            "_model_module_version": "1.5.0",
            "_model_name": "FloatProgressModel",
            "_view_count": null,
            "_view_module": "@jupyter-widgets/controls",
            "_view_module_version": "1.5.0",
            "_view_name": "ProgressView",
            "bar_style": "success",
            "description": "",
            "description_tooltip": null,
            "layout": "IPY_MODEL_3ae4bf8d6bf44435be08263bcd104c9f",
            "max": 380,
            "min": 0,
            "orientation": "horizontal",
            "style": "IPY_MODEL_ad977bd7c28b4fabbb08ea489d3ed15e",
            "value": 380
          }
        },
        "fbecc4a67df94ca2aee1e045f802464c": {
          "model_module": "@jupyter-widgets/controls",
          "model_name": "HTMLModel",
          "model_module_version": "1.5.0",
          "state": {
            "_dom_classes": [],
            "_model_module": "@jupyter-widgets/controls",
            "_model_module_version": "1.5.0",
            "_model_name": "HTMLModel",
            "_view_count": null,
            "_view_module": "@jupyter-widgets/controls",
            "_view_module_version": "1.5.0",
            "_view_name": "HTMLView",
            "description": "",
            "description_tooltip": null,
            "layout": "IPY_MODEL_09088e7afcb4411aaf6de7e96246cf42",
            "placeholder": "​",
            "style": "IPY_MODEL_d9c4c350f1a74ac8b34883ec509763f6",
            "value": " 380/380 [00:00&lt;00:00, 20.6kB/s]"
          }
        },
        "98bd9039163c4616b7054fcfc229c6f9": {
          "model_module": "@jupyter-widgets/base",
          "model_name": "LayoutModel",
          "model_module_version": "1.2.0",
          "state": {
            "_model_module": "@jupyter-widgets/base",
            "_model_module_version": "1.2.0",
            "_model_name": "LayoutModel",
            "_view_count": null,
            "_view_module": "@jupyter-widgets/base",
            "_view_module_version": "1.2.0",
            "_view_name": "LayoutView",
            "align_content": null,
            "align_items": null,
            "align_self": null,
            "border": null,
            "bottom": null,
            "display": null,
            "flex": null,
            "flex_flow": null,
            "grid_area": null,
            "grid_auto_columns": null,
            "grid_auto_flow": null,
            "grid_auto_rows": null,
            "grid_column": null,
            "grid_gap": null,
            "grid_row": null,
            "grid_template_areas": null,
            "grid_template_columns": null,
            "grid_template_rows": null,
            "height": null,
            "justify_content": null,
            "justify_items": null,
            "left": null,
            "margin": null,
            "max_height": null,
            "max_width": null,
            "min_height": null,
            "min_width": null,
            "object_fit": null,
            "object_position": null,
            "order": null,
            "overflow": null,
            "overflow_x": null,
            "overflow_y": null,
            "padding": null,
            "right": null,
            "top": null,
            "visibility": null,
            "width": null
          }
        },
        "281bb041c88649349d9e65671abd5738": {
          "model_module": "@jupyter-widgets/base",
          "model_name": "LayoutModel",
          "model_module_version": "1.2.0",
          "state": {
            "_model_module": "@jupyter-widgets/base",
            "_model_module_version": "1.2.0",
            "_model_name": "LayoutModel",
            "_view_count": null,
            "_view_module": "@jupyter-widgets/base",
            "_view_module_version": "1.2.0",
            "_view_name": "LayoutView",
            "align_content": null,
            "align_items": null,
            "align_self": null,
            "border": null,
            "bottom": null,
            "display": null,
            "flex": null,
            "flex_flow": null,
            "grid_area": null,
            "grid_auto_columns": null,
            "grid_auto_flow": null,
            "grid_auto_rows": null,
            "grid_column": null,
            "grid_gap": null,
            "grid_row": null,
            "grid_template_areas": null,
            "grid_template_columns": null,
            "grid_template_rows": null,
            "height": null,
            "justify_content": null,
            "justify_items": null,
            "left": null,
            "margin": null,
            "max_height": null,
            "max_width": null,
            "min_height": null,
            "min_width": null,
            "object_fit": null,
            "object_position": null,
            "order": null,
            "overflow": null,
            "overflow_x": null,
            "overflow_y": null,
            "padding": null,
            "right": null,
            "top": null,
            "visibility": null,
            "width": null
          }
        },
        "25d4bcdb695b459c96410ca1b3b529db": {
          "model_module": "@jupyter-widgets/controls",
          "model_name": "DescriptionStyleModel",
          "model_module_version": "1.5.0",
          "state": {
            "_model_module": "@jupyter-widgets/controls",
            "_model_module_version": "1.5.0",
            "_model_name": "DescriptionStyleModel",
            "_view_count": null,
            "_view_module": "@jupyter-widgets/base",
            "_view_module_version": "1.2.0",
            "_view_name": "StyleView",
            "description_width": ""
          }
        },
        "3ae4bf8d6bf44435be08263bcd104c9f": {
          "model_module": "@jupyter-widgets/base",
          "model_name": "LayoutModel",
          "model_module_version": "1.2.0",
          "state": {
            "_model_module": "@jupyter-widgets/base",
            "_model_module_version": "1.2.0",
            "_model_name": "LayoutModel",
            "_view_count": null,
            "_view_module": "@jupyter-widgets/base",
            "_view_module_version": "1.2.0",
            "_view_name": "LayoutView",
            "align_content": null,
            "align_items": null,
            "align_self": null,
            "border": null,
            "bottom": null,
            "display": null,
            "flex": null,
            "flex_flow": null,
            "grid_area": null,
            "grid_auto_columns": null,
            "grid_auto_flow": null,
            "grid_auto_rows": null,
            "grid_column": null,
            "grid_gap": null,
            "grid_row": null,
            "grid_template_areas": null,
            "grid_template_columns": null,
            "grid_template_rows": null,
            "height": null,
            "justify_content": null,
            "justify_items": null,
            "left": null,
            "margin": null,
            "max_height": null,
            "max_width": null,
            "min_height": null,
            "min_width": null,
            "object_fit": null,
            "object_position": null,
            "order": null,
            "overflow": null,
            "overflow_x": null,
            "overflow_y": null,
            "padding": null,
            "right": null,
            "top": null,
            "visibility": null,
            "width": null
          }
        },
        "ad977bd7c28b4fabbb08ea489d3ed15e": {
          "model_module": "@jupyter-widgets/controls",
          "model_name": "ProgressStyleModel",
          "model_module_version": "1.5.0",
          "state": {
            "_model_module": "@jupyter-widgets/controls",
            "_model_module_version": "1.5.0",
            "_model_name": "ProgressStyleModel",
            "_view_count": null,
            "_view_module": "@jupyter-widgets/base",
            "_view_module_version": "1.2.0",
            "_view_name": "StyleView",
            "bar_color": null,
            "description_width": ""
          }
        },
        "09088e7afcb4411aaf6de7e96246cf42": {
          "model_module": "@jupyter-widgets/base",
          "model_name": "LayoutModel",
          "model_module_version": "1.2.0",
          "state": {
            "_model_module": "@jupyter-widgets/base",
            "_model_module_version": "1.2.0",
            "_model_name": "LayoutModel",
            "_view_count": null,
            "_view_module": "@jupyter-widgets/base",
            "_view_module_version": "1.2.0",
            "_view_name": "LayoutView",
            "align_content": null,
            "align_items": null,
            "align_self": null,
            "border": null,
            "bottom": null,
            "display": null,
            "flex": null,
            "flex_flow": null,
            "grid_area": null,
            "grid_auto_columns": null,
            "grid_auto_flow": null,
            "grid_auto_rows": null,
            "grid_column": null,
            "grid_gap": null,
            "grid_row": null,
            "grid_template_areas": null,
            "grid_template_columns": null,
            "grid_template_rows": null,
            "height": null,
            "justify_content": null,
            "justify_items": null,
            "left": null,
            "margin": null,
            "max_height": null,
            "max_width": null,
            "min_height": null,
            "min_width": null,
            "object_fit": null,
            "object_position": null,
            "order": null,
            "overflow": null,
            "overflow_x": null,
            "overflow_y": null,
            "padding": null,
            "right": null,
            "top": null,
            "visibility": null,
            "width": null
          }
        },
        "d9c4c350f1a74ac8b34883ec509763f6": {
          "model_module": "@jupyter-widgets/controls",
          "model_name": "DescriptionStyleModel",
          "model_module_version": "1.5.0",
          "state": {
            "_model_module": "@jupyter-widgets/controls",
            "_model_module_version": "1.5.0",
            "_model_name": "DescriptionStyleModel",
            "_view_count": null,
            "_view_module": "@jupyter-widgets/base",
            "_view_module_version": "1.2.0",
            "_view_name": "StyleView",
            "description_width": ""
          }
        },
        "5ec09c82729e40ec95dfa6f12b5ddbb7": {
          "model_module": "@jupyter-widgets/controls",
          "model_name": "HBoxModel",
          "model_module_version": "1.5.0",
          "state": {
            "_dom_classes": [],
            "_model_module": "@jupyter-widgets/controls",
            "_model_module_version": "1.5.0",
            "_model_name": "HBoxModel",
            "_view_count": null,
            "_view_module": "@jupyter-widgets/controls",
            "_view_module_version": "1.5.0",
            "_view_name": "HBoxView",
            "box_style": "",
            "children": [
              "IPY_MODEL_bad68ab03a2946efba62905fba40db69",
              "IPY_MODEL_47e51305a0e744b3b4498af70d1ded8f",
              "IPY_MODEL_ec023df1b40b4f869694992dddfe230c"
            ],
            "layout": "IPY_MODEL_83f9199532e04e71a9d510d2dcfef33a"
          }
        },
        "bad68ab03a2946efba62905fba40db69": {
          "model_module": "@jupyter-widgets/controls",
          "model_name": "HTMLModel",
          "model_module_version": "1.5.0",
          "state": {
            "_dom_classes": [],
            "_model_module": "@jupyter-widgets/controls",
            "_model_module_version": "1.5.0",
            "_model_name": "HTMLModel",
            "_view_count": null,
            "_view_module": "@jupyter-widgets/controls",
            "_view_module_version": "1.5.0",
            "_view_name": "HTMLView",
            "description": "",
            "description_tooltip": null,
            "layout": "IPY_MODEL_1a4dc34965e4406e86953775da213e60",
            "placeholder": "​",
            "style": "IPY_MODEL_43a67cf6547947088dc91bdd33503a6e",
            "value": "vocab.json: 100%"
          }
        },
        "47e51305a0e744b3b4498af70d1ded8f": {
          "model_module": "@jupyter-widgets/controls",
          "model_name": "FloatProgressModel",
          "model_module_version": "1.5.0",
          "state": {
            "_dom_classes": [],
            "_model_module": "@jupyter-widgets/controls",
            "_model_module_version": "1.5.0",
            "_model_name": "FloatProgressModel",
            "_view_count": null,
            "_view_module": "@jupyter-widgets/controls",
            "_view_module_version": "1.5.0",
            "_view_name": "ProgressView",
            "bar_style": "success",
            "description": "",
            "description_tooltip": null,
            "layout": "IPY_MODEL_ddc40386f5ce46af8b4e3ded2bdf36fc",
            "max": 798293,
            "min": 0,
            "orientation": "horizontal",
            "style": "IPY_MODEL_94f675db8c2f4071b4113e613f06b251",
            "value": 798293
          }
        },
        "ec023df1b40b4f869694992dddfe230c": {
          "model_module": "@jupyter-widgets/controls",
          "model_name": "HTMLModel",
          "model_module_version": "1.5.0",
          "state": {
            "_dom_classes": [],
            "_model_module": "@jupyter-widgets/controls",
            "_model_module_version": "1.5.0",
            "_model_name": "HTMLModel",
            "_view_count": null,
            "_view_module": "@jupyter-widgets/controls",
            "_view_module_version": "1.5.0",
            "_view_name": "HTMLView",
            "description": "",
            "description_tooltip": null,
            "layout": "IPY_MODEL_9987fa281b8a4960827b57d33f73f3ae",
            "placeholder": "​",
            "style": "IPY_MODEL_1a97b15b44ab46ee8420fefa32c49173",
            "value": " 798k/798k [00:00&lt;00:00, 15.2MB/s]"
          }
        },
        "83f9199532e04e71a9d510d2dcfef33a": {
          "model_module": "@jupyter-widgets/base",
          "model_name": "LayoutModel",
          "model_module_version": "1.2.0",
          "state": {
            "_model_module": "@jupyter-widgets/base",
            "_model_module_version": "1.2.0",
            "_model_name": "LayoutModel",
            "_view_count": null,
            "_view_module": "@jupyter-widgets/base",
            "_view_module_version": "1.2.0",
            "_view_name": "LayoutView",
            "align_content": null,
            "align_items": null,
            "align_self": null,
            "border": null,
            "bottom": null,
            "display": null,
            "flex": null,
            "flex_flow": null,
            "grid_area": null,
            "grid_auto_columns": null,
            "grid_auto_flow": null,
            "grid_auto_rows": null,
            "grid_column": null,
            "grid_gap": null,
            "grid_row": null,
            "grid_template_areas": null,
            "grid_template_columns": null,
            "grid_template_rows": null,
            "height": null,
            "justify_content": null,
            "justify_items": null,
            "left": null,
            "margin": null,
            "max_height": null,
            "max_width": null,
            "min_height": null,
            "min_width": null,
            "object_fit": null,
            "object_position": null,
            "order": null,
            "overflow": null,
            "overflow_x": null,
            "overflow_y": null,
            "padding": null,
            "right": null,
            "top": null,
            "visibility": null,
            "width": null
          }
        },
        "1a4dc34965e4406e86953775da213e60": {
          "model_module": "@jupyter-widgets/base",
          "model_name": "LayoutModel",
          "model_module_version": "1.2.0",
          "state": {
            "_model_module": "@jupyter-widgets/base",
            "_model_module_version": "1.2.0",
            "_model_name": "LayoutModel",
            "_view_count": null,
            "_view_module": "@jupyter-widgets/base",
            "_view_module_version": "1.2.0",
            "_view_name": "LayoutView",
            "align_content": null,
            "align_items": null,
            "align_self": null,
            "border": null,
            "bottom": null,
            "display": null,
            "flex": null,
            "flex_flow": null,
            "grid_area": null,
            "grid_auto_columns": null,
            "grid_auto_flow": null,
            "grid_auto_rows": null,
            "grid_column": null,
            "grid_gap": null,
            "grid_row": null,
            "grid_template_areas": null,
            "grid_template_columns": null,
            "grid_template_rows": null,
            "height": null,
            "justify_content": null,
            "justify_items": null,
            "left": null,
            "margin": null,
            "max_height": null,
            "max_width": null,
            "min_height": null,
            "min_width": null,
            "object_fit": null,
            "object_position": null,
            "order": null,
            "overflow": null,
            "overflow_x": null,
            "overflow_y": null,
            "padding": null,
            "right": null,
            "top": null,
            "visibility": null,
            "width": null
          }
        },
        "43a67cf6547947088dc91bdd33503a6e": {
          "model_module": "@jupyter-widgets/controls",
          "model_name": "DescriptionStyleModel",
          "model_module_version": "1.5.0",
          "state": {
            "_model_module": "@jupyter-widgets/controls",
            "_model_module_version": "1.5.0",
            "_model_name": "DescriptionStyleModel",
            "_view_count": null,
            "_view_module": "@jupyter-widgets/base",
            "_view_module_version": "1.2.0",
            "_view_name": "StyleView",
            "description_width": ""
          }
        },
        "ddc40386f5ce46af8b4e3ded2bdf36fc": {
          "model_module": "@jupyter-widgets/base",
          "model_name": "LayoutModel",
          "model_module_version": "1.2.0",
          "state": {
            "_model_module": "@jupyter-widgets/base",
            "_model_module_version": "1.2.0",
            "_model_name": "LayoutModel",
            "_view_count": null,
            "_view_module": "@jupyter-widgets/base",
            "_view_module_version": "1.2.0",
            "_view_name": "LayoutView",
            "align_content": null,
            "align_items": null,
            "align_self": null,
            "border": null,
            "bottom": null,
            "display": null,
            "flex": null,
            "flex_flow": null,
            "grid_area": null,
            "grid_auto_columns": null,
            "grid_auto_flow": null,
            "grid_auto_rows": null,
            "grid_column": null,
            "grid_gap": null,
            "grid_row": null,
            "grid_template_areas": null,
            "grid_template_columns": null,
            "grid_template_rows": null,
            "height": null,
            "justify_content": null,
            "justify_items": null,
            "left": null,
            "margin": null,
            "max_height": null,
            "max_width": null,
            "min_height": null,
            "min_width": null,
            "object_fit": null,
            "object_position": null,
            "order": null,
            "overflow": null,
            "overflow_x": null,
            "overflow_y": null,
            "padding": null,
            "right": null,
            "top": null,
            "visibility": null,
            "width": null
          }
        },
        "94f675db8c2f4071b4113e613f06b251": {
          "model_module": "@jupyter-widgets/controls",
          "model_name": "ProgressStyleModel",
          "model_module_version": "1.5.0",
          "state": {
            "_model_module": "@jupyter-widgets/controls",
            "_model_module_version": "1.5.0",
            "_model_name": "ProgressStyleModel",
            "_view_count": null,
            "_view_module": "@jupyter-widgets/base",
            "_view_module_version": "1.2.0",
            "_view_name": "StyleView",
            "bar_color": null,
            "description_width": ""
          }
        },
        "9987fa281b8a4960827b57d33f73f3ae": {
          "model_module": "@jupyter-widgets/base",
          "model_name": "LayoutModel",
          "model_module_version": "1.2.0",
          "state": {
            "_model_module": "@jupyter-widgets/base",
            "_model_module_version": "1.2.0",
            "_model_name": "LayoutModel",
            "_view_count": null,
            "_view_module": "@jupyter-widgets/base",
            "_view_module_version": "1.2.0",
            "_view_name": "LayoutView",
            "align_content": null,
            "align_items": null,
            "align_self": null,
            "border": null,
            "bottom": null,
            "display": null,
            "flex": null,
            "flex_flow": null,
            "grid_area": null,
            "grid_auto_columns": null,
            "grid_auto_flow": null,
            "grid_auto_rows": null,
            "grid_column": null,
            "grid_gap": null,
            "grid_row": null,
            "grid_template_areas": null,
            "grid_template_columns": null,
            "grid_template_rows": null,
            "height": null,
            "justify_content": null,
            "justify_items": null,
            "left": null,
            "margin": null,
            "max_height": null,
            "max_width": null,
            "min_height": null,
            "min_width": null,
            "object_fit": null,
            "object_position": null,
            "order": null,
            "overflow": null,
            "overflow_x": null,
            "overflow_y": null,
            "padding": null,
            "right": null,
            "top": null,
            "visibility": null,
            "width": null
          }
        },
        "1a97b15b44ab46ee8420fefa32c49173": {
          "model_module": "@jupyter-widgets/controls",
          "model_name": "DescriptionStyleModel",
          "model_module_version": "1.5.0",
          "state": {
            "_model_module": "@jupyter-widgets/controls",
            "_model_module_version": "1.5.0",
            "_model_name": "DescriptionStyleModel",
            "_view_count": null,
            "_view_module": "@jupyter-widgets/base",
            "_view_module_version": "1.2.0",
            "_view_name": "StyleView",
            "description_width": ""
          }
        },
        "2b90c0ac96ae4f3088d80671dd20e41d": {
          "model_module": "@jupyter-widgets/controls",
          "model_name": "HBoxModel",
          "model_module_version": "1.5.0",
          "state": {
            "_dom_classes": [],
            "_model_module": "@jupyter-widgets/controls",
            "_model_module_version": "1.5.0",
            "_model_name": "HBoxModel",
            "_view_count": null,
            "_view_module": "@jupyter-widgets/controls",
            "_view_module_version": "1.5.0",
            "_view_name": "HBoxView",
            "box_style": "",
            "children": [
              "IPY_MODEL_52d6121886b64bc68dfcf956b5be53e1",
              "IPY_MODEL_4144dd3c5b32454190d94d90981b17a0",
              "IPY_MODEL_bf1ce5c85bc442599daa35a9d64fcc99"
            ],
            "layout": "IPY_MODEL_c65d356dd6f34b4c94560f7ea769b983"
          }
        },
        "52d6121886b64bc68dfcf956b5be53e1": {
          "model_module": "@jupyter-widgets/controls",
          "model_name": "HTMLModel",
          "model_module_version": "1.5.0",
          "state": {
            "_dom_classes": [],
            "_model_module": "@jupyter-widgets/controls",
            "_model_module_version": "1.5.0",
            "_model_name": "HTMLModel",
            "_view_count": null,
            "_view_module": "@jupyter-widgets/controls",
            "_view_module_version": "1.5.0",
            "_view_name": "HTMLView",
            "description": "",
            "description_tooltip": null,
            "layout": "IPY_MODEL_1e2d7481481f4bd0a9899bbd3b1789f5",
            "placeholder": "​",
            "style": "IPY_MODEL_6741f0eb4071435e9c5d91b37ed11619",
            "value": "merges.txt: 100%"
          }
        },
        "4144dd3c5b32454190d94d90981b17a0": {
          "model_module": "@jupyter-widgets/controls",
          "model_name": "FloatProgressModel",
          "model_module_version": "1.5.0",
          "state": {
            "_dom_classes": [],
            "_model_module": "@jupyter-widgets/controls",
            "_model_module_version": "1.5.0",
            "_model_name": "FloatProgressModel",
            "_view_count": null,
            "_view_module": "@jupyter-widgets/controls",
            "_view_module_version": "1.5.0",
            "_view_name": "ProgressView",
            "bar_style": "success",
            "description": "",
            "description_tooltip": null,
            "layout": "IPY_MODEL_a71d8b69b15f4b538ebe226b5c7a4969",
            "max": 456356,
            "min": 0,
            "orientation": "horizontal",
            "style": "IPY_MODEL_aa768941ee0643ae85cac83c19e72194",
            "value": 456356
          }
        },
        "bf1ce5c85bc442599daa35a9d64fcc99": {
          "model_module": "@jupyter-widgets/controls",
          "model_name": "HTMLModel",
          "model_module_version": "1.5.0",
          "state": {
            "_dom_classes": [],
            "_model_module": "@jupyter-widgets/controls",
            "_model_module_version": "1.5.0",
            "_model_name": "HTMLModel",
            "_view_count": null,
            "_view_module": "@jupyter-widgets/controls",
            "_view_module_version": "1.5.0",
            "_view_name": "HTMLView",
            "description": "",
            "description_tooltip": null,
            "layout": "IPY_MODEL_05fc2d72be3944e786a8157f44fbbbe8",
            "placeholder": "​",
            "style": "IPY_MODEL_28df06ed87a84d458c76bfe67ecb3665",
            "value": " 456k/456k [00:00&lt;00:00, 21.8MB/s]"
          }
        },
        "c65d356dd6f34b4c94560f7ea769b983": {
          "model_module": "@jupyter-widgets/base",
          "model_name": "LayoutModel",
          "model_module_version": "1.2.0",
          "state": {
            "_model_module": "@jupyter-widgets/base",
            "_model_module_version": "1.2.0",
            "_model_name": "LayoutModel",
            "_view_count": null,
            "_view_module": "@jupyter-widgets/base",
            "_view_module_version": "1.2.0",
            "_view_name": "LayoutView",
            "align_content": null,
            "align_items": null,
            "align_self": null,
            "border": null,
            "bottom": null,
            "display": null,
            "flex": null,
            "flex_flow": null,
            "grid_area": null,
            "grid_auto_columns": null,
            "grid_auto_flow": null,
            "grid_auto_rows": null,
            "grid_column": null,
            "grid_gap": null,
            "grid_row": null,
            "grid_template_areas": null,
            "grid_template_columns": null,
            "grid_template_rows": null,
            "height": null,
            "justify_content": null,
            "justify_items": null,
            "left": null,
            "margin": null,
            "max_height": null,
            "max_width": null,
            "min_height": null,
            "min_width": null,
            "object_fit": null,
            "object_position": null,
            "order": null,
            "overflow": null,
            "overflow_x": null,
            "overflow_y": null,
            "padding": null,
            "right": null,
            "top": null,
            "visibility": null,
            "width": null
          }
        },
        "1e2d7481481f4bd0a9899bbd3b1789f5": {
          "model_module": "@jupyter-widgets/base",
          "model_name": "LayoutModel",
          "model_module_version": "1.2.0",
          "state": {
            "_model_module": "@jupyter-widgets/base",
            "_model_module_version": "1.2.0",
            "_model_name": "LayoutModel",
            "_view_count": null,
            "_view_module": "@jupyter-widgets/base",
            "_view_module_version": "1.2.0",
            "_view_name": "LayoutView",
            "align_content": null,
            "align_items": null,
            "align_self": null,
            "border": null,
            "bottom": null,
            "display": null,
            "flex": null,
            "flex_flow": null,
            "grid_area": null,
            "grid_auto_columns": null,
            "grid_auto_flow": null,
            "grid_auto_rows": null,
            "grid_column": null,
            "grid_gap": null,
            "grid_row": null,
            "grid_template_areas": null,
            "grid_template_columns": null,
            "grid_template_rows": null,
            "height": null,
            "justify_content": null,
            "justify_items": null,
            "left": null,
            "margin": null,
            "max_height": null,
            "max_width": null,
            "min_height": null,
            "min_width": null,
            "object_fit": null,
            "object_position": null,
            "order": null,
            "overflow": null,
            "overflow_x": null,
            "overflow_y": null,
            "padding": null,
            "right": null,
            "top": null,
            "visibility": null,
            "width": null
          }
        },
        "6741f0eb4071435e9c5d91b37ed11619": {
          "model_module": "@jupyter-widgets/controls",
          "model_name": "DescriptionStyleModel",
          "model_module_version": "1.5.0",
          "state": {
            "_model_module": "@jupyter-widgets/controls",
            "_model_module_version": "1.5.0",
            "_model_name": "DescriptionStyleModel",
            "_view_count": null,
            "_view_module": "@jupyter-widgets/base",
            "_view_module_version": "1.2.0",
            "_view_name": "StyleView",
            "description_width": ""
          }
        },
        "a71d8b69b15f4b538ebe226b5c7a4969": {
          "model_module": "@jupyter-widgets/base",
          "model_name": "LayoutModel",
          "model_module_version": "1.2.0",
          "state": {
            "_model_module": "@jupyter-widgets/base",
            "_model_module_version": "1.2.0",
            "_model_name": "LayoutModel",
            "_view_count": null,
            "_view_module": "@jupyter-widgets/base",
            "_view_module_version": "1.2.0",
            "_view_name": "LayoutView",
            "align_content": null,
            "align_items": null,
            "align_self": null,
            "border": null,
            "bottom": null,
            "display": null,
            "flex": null,
            "flex_flow": null,
            "grid_area": null,
            "grid_auto_columns": null,
            "grid_auto_flow": null,
            "grid_auto_rows": null,
            "grid_column": null,
            "grid_gap": null,
            "grid_row": null,
            "grid_template_areas": null,
            "grid_template_columns": null,
            "grid_template_rows": null,
            "height": null,
            "justify_content": null,
            "justify_items": null,
            "left": null,
            "margin": null,
            "max_height": null,
            "max_width": null,
            "min_height": null,
            "min_width": null,
            "object_fit": null,
            "object_position": null,
            "order": null,
            "overflow": null,
            "overflow_x": null,
            "overflow_y": null,
            "padding": null,
            "right": null,
            "top": null,
            "visibility": null,
            "width": null
          }
        },
        "aa768941ee0643ae85cac83c19e72194": {
          "model_module": "@jupyter-widgets/controls",
          "model_name": "ProgressStyleModel",
          "model_module_version": "1.5.0",
          "state": {
            "_model_module": "@jupyter-widgets/controls",
            "_model_module_version": "1.5.0",
            "_model_name": "ProgressStyleModel",
            "_view_count": null,
            "_view_module": "@jupyter-widgets/base",
            "_view_module_version": "1.2.0",
            "_view_name": "StyleView",
            "bar_color": null,
            "description_width": ""
          }
        },
        "05fc2d72be3944e786a8157f44fbbbe8": {
          "model_module": "@jupyter-widgets/base",
          "model_name": "LayoutModel",
          "model_module_version": "1.2.0",
          "state": {
            "_model_module": "@jupyter-widgets/base",
            "_model_module_version": "1.2.0",
            "_model_name": "LayoutModel",
            "_view_count": null,
            "_view_module": "@jupyter-widgets/base",
            "_view_module_version": "1.2.0",
            "_view_name": "LayoutView",
            "align_content": null,
            "align_items": null,
            "align_self": null,
            "border": null,
            "bottom": null,
            "display": null,
            "flex": null,
            "flex_flow": null,
            "grid_area": null,
            "grid_auto_columns": null,
            "grid_auto_flow": null,
            "grid_auto_rows": null,
            "grid_column": null,
            "grid_gap": null,
            "grid_row": null,
            "grid_template_areas": null,
            "grid_template_columns": null,
            "grid_template_rows": null,
            "height": null,
            "justify_content": null,
            "justify_items": null,
            "left": null,
            "margin": null,
            "max_height": null,
            "max_width": null,
            "min_height": null,
            "min_width": null,
            "object_fit": null,
            "object_position": null,
            "order": null,
            "overflow": null,
            "overflow_x": null,
            "overflow_y": null,
            "padding": null,
            "right": null,
            "top": null,
            "visibility": null,
            "width": null
          }
        },
        "28df06ed87a84d458c76bfe67ecb3665": {
          "model_module": "@jupyter-widgets/controls",
          "model_name": "DescriptionStyleModel",
          "model_module_version": "1.5.0",
          "state": {
            "_model_module": "@jupyter-widgets/controls",
            "_model_module_version": "1.5.0",
            "_model_name": "DescriptionStyleModel",
            "_view_count": null,
            "_view_module": "@jupyter-widgets/base",
            "_view_module_version": "1.2.0",
            "_view_name": "StyleView",
            "description_width": ""
          }
        },
        "93061ac8e9d1496f98f61899ed243803": {
          "model_module": "@jupyter-widgets/controls",
          "model_name": "HBoxModel",
          "model_module_version": "1.5.0",
          "state": {
            "_dom_classes": [],
            "_model_module": "@jupyter-widgets/controls",
            "_model_module_version": "1.5.0",
            "_model_name": "HBoxModel",
            "_view_count": null,
            "_view_module": "@jupyter-widgets/controls",
            "_view_module_version": "1.5.0",
            "_view_name": "HBoxView",
            "box_style": "",
            "children": [
              "IPY_MODEL_bcc78db4b2cd420090f55042a4bb7eca",
              "IPY_MODEL_e53f4782266b40f2b2804ee64578a0b9",
              "IPY_MODEL_b543612be687402493ab8d6119f160dd"
            ],
            "layout": "IPY_MODEL_ddbdba23481f49869ed23e48546a4269"
          }
        },
        "bcc78db4b2cd420090f55042a4bb7eca": {
          "model_module": "@jupyter-widgets/controls",
          "model_name": "HTMLModel",
          "model_module_version": "1.5.0",
          "state": {
            "_dom_classes": [],
            "_model_module": "@jupyter-widgets/controls",
            "_model_module_version": "1.5.0",
            "_model_name": "HTMLModel",
            "_view_count": null,
            "_view_module": "@jupyter-widgets/controls",
            "_view_module_version": "1.5.0",
            "_view_name": "HTMLView",
            "description": "",
            "description_tooltip": null,
            "layout": "IPY_MODEL_336975c366344d009ea8fc7c0a2e1bf8",
            "placeholder": "​",
            "style": "IPY_MODEL_e5a565f2117a401c9599080ba880fd84",
            "value": "tokenizer.json: 100%"
          }
        },
        "e53f4782266b40f2b2804ee64578a0b9": {
          "model_module": "@jupyter-widgets/controls",
          "model_name": "FloatProgressModel",
          "model_module_version": "1.5.0",
          "state": {
            "_dom_classes": [],
            "_model_module": "@jupyter-widgets/controls",
            "_model_module_version": "1.5.0",
            "_model_name": "FloatProgressModel",
            "_view_count": null,
            "_view_module": "@jupyter-widgets/controls",
            "_view_module_version": "1.5.0",
            "_view_name": "ProgressView",
            "bar_style": "success",
            "description": "",
            "description_tooltip": null,
            "layout": "IPY_MODEL_9584e69e288d4ff0a881fdedf96f1e26",
            "max": 2108856,
            "min": 0,
            "orientation": "horizontal",
            "style": "IPY_MODEL_5dd72ac50da244af9be310b34cfb4730",
            "value": 2108856
          }
        },
        "b543612be687402493ab8d6119f160dd": {
          "model_module": "@jupyter-widgets/controls",
          "model_name": "HTMLModel",
          "model_module_version": "1.5.0",
          "state": {
            "_dom_classes": [],
            "_model_module": "@jupyter-widgets/controls",
            "_model_module_version": "1.5.0",
            "_model_name": "HTMLModel",
            "_view_count": null,
            "_view_module": "@jupyter-widgets/controls",
            "_view_module_version": "1.5.0",
            "_view_name": "HTMLView",
            "description": "",
            "description_tooltip": null,
            "layout": "IPY_MODEL_64c0ba94e44c4daba5d837adcade3ba0",
            "placeholder": "​",
            "style": "IPY_MODEL_fa2b690898784750b8453f9baae6b859",
            "value": " 2.11M/2.11M [00:00&lt;00:00, 6.51MB/s]"
          }
        },
        "ddbdba23481f49869ed23e48546a4269": {
          "model_module": "@jupyter-widgets/base",
          "model_name": "LayoutModel",
          "model_module_version": "1.2.0",
          "state": {
            "_model_module": "@jupyter-widgets/base",
            "_model_module_version": "1.2.0",
            "_model_name": "LayoutModel",
            "_view_count": null,
            "_view_module": "@jupyter-widgets/base",
            "_view_module_version": "1.2.0",
            "_view_name": "LayoutView",
            "align_content": null,
            "align_items": null,
            "align_self": null,
            "border": null,
            "bottom": null,
            "display": null,
            "flex": null,
            "flex_flow": null,
            "grid_area": null,
            "grid_auto_columns": null,
            "grid_auto_flow": null,
            "grid_auto_rows": null,
            "grid_column": null,
            "grid_gap": null,
            "grid_row": null,
            "grid_template_areas": null,
            "grid_template_columns": null,
            "grid_template_rows": null,
            "height": null,
            "justify_content": null,
            "justify_items": null,
            "left": null,
            "margin": null,
            "max_height": null,
            "max_width": null,
            "min_height": null,
            "min_width": null,
            "object_fit": null,
            "object_position": null,
            "order": null,
            "overflow": null,
            "overflow_x": null,
            "overflow_y": null,
            "padding": null,
            "right": null,
            "top": null,
            "visibility": null,
            "width": null
          }
        },
        "336975c366344d009ea8fc7c0a2e1bf8": {
          "model_module": "@jupyter-widgets/base",
          "model_name": "LayoutModel",
          "model_module_version": "1.2.0",
          "state": {
            "_model_module": "@jupyter-widgets/base",
            "_model_module_version": "1.2.0",
            "_model_name": "LayoutModel",
            "_view_count": null,
            "_view_module": "@jupyter-widgets/base",
            "_view_module_version": "1.2.0",
            "_view_name": "LayoutView",
            "align_content": null,
            "align_items": null,
            "align_self": null,
            "border": null,
            "bottom": null,
            "display": null,
            "flex": null,
            "flex_flow": null,
            "grid_area": null,
            "grid_auto_columns": null,
            "grid_auto_flow": null,
            "grid_auto_rows": null,
            "grid_column": null,
            "grid_gap": null,
            "grid_row": null,
            "grid_template_areas": null,
            "grid_template_columns": null,
            "grid_template_rows": null,
            "height": null,
            "justify_content": null,
            "justify_items": null,
            "left": null,
            "margin": null,
            "max_height": null,
            "max_width": null,
            "min_height": null,
            "min_width": null,
            "object_fit": null,
            "object_position": null,
            "order": null,
            "overflow": null,
            "overflow_x": null,
            "overflow_y": null,
            "padding": null,
            "right": null,
            "top": null,
            "visibility": null,
            "width": null
          }
        },
        "e5a565f2117a401c9599080ba880fd84": {
          "model_module": "@jupyter-widgets/controls",
          "model_name": "DescriptionStyleModel",
          "model_module_version": "1.5.0",
          "state": {
            "_model_module": "@jupyter-widgets/controls",
            "_model_module_version": "1.5.0",
            "_model_name": "DescriptionStyleModel",
            "_view_count": null,
            "_view_module": "@jupyter-widgets/base",
            "_view_module_version": "1.2.0",
            "_view_name": "StyleView",
            "description_width": ""
          }
        },
        "9584e69e288d4ff0a881fdedf96f1e26": {
          "model_module": "@jupyter-widgets/base",
          "model_name": "LayoutModel",
          "model_module_version": "1.2.0",
          "state": {
            "_model_module": "@jupyter-widgets/base",
            "_model_module_version": "1.2.0",
            "_model_name": "LayoutModel",
            "_view_count": null,
            "_view_module": "@jupyter-widgets/base",
            "_view_module_version": "1.2.0",
            "_view_name": "LayoutView",
            "align_content": null,
            "align_items": null,
            "align_self": null,
            "border": null,
            "bottom": null,
            "display": null,
            "flex": null,
            "flex_flow": null,
            "grid_area": null,
            "grid_auto_columns": null,
            "grid_auto_flow": null,
            "grid_auto_rows": null,
            "grid_column": null,
            "grid_gap": null,
            "grid_row": null,
            "grid_template_areas": null,
            "grid_template_columns": null,
            "grid_template_rows": null,
            "height": null,
            "justify_content": null,
            "justify_items": null,
            "left": null,
            "margin": null,
            "max_height": null,
            "max_width": null,
            "min_height": null,
            "min_width": null,
            "object_fit": null,
            "object_position": null,
            "order": null,
            "overflow": null,
            "overflow_x": null,
            "overflow_y": null,
            "padding": null,
            "right": null,
            "top": null,
            "visibility": null,
            "width": null
          }
        },
        "5dd72ac50da244af9be310b34cfb4730": {
          "model_module": "@jupyter-widgets/controls",
          "model_name": "ProgressStyleModel",
          "model_module_version": "1.5.0",
          "state": {
            "_model_module": "@jupyter-widgets/controls",
            "_model_module_version": "1.5.0",
            "_model_name": "ProgressStyleModel",
            "_view_count": null,
            "_view_module": "@jupyter-widgets/base",
            "_view_module_version": "1.2.0",
            "_view_name": "StyleView",
            "bar_color": null,
            "description_width": ""
          }
        },
        "64c0ba94e44c4daba5d837adcade3ba0": {
          "model_module": "@jupyter-widgets/base",
          "model_name": "LayoutModel",
          "model_module_version": "1.2.0",
          "state": {
            "_model_module": "@jupyter-widgets/base",
            "_model_module_version": "1.2.0",
            "_model_name": "LayoutModel",
            "_view_count": null,
            "_view_module": "@jupyter-widgets/base",
            "_view_module_version": "1.2.0",
            "_view_name": "LayoutView",
            "align_content": null,
            "align_items": null,
            "align_self": null,
            "border": null,
            "bottom": null,
            "display": null,
            "flex": null,
            "flex_flow": null,
            "grid_area": null,
            "grid_auto_columns": null,
            "grid_auto_flow": null,
            "grid_auto_rows": null,
            "grid_column": null,
            "grid_gap": null,
            "grid_row": null,
            "grid_template_areas": null,
            "grid_template_columns": null,
            "grid_template_rows": null,
            "height": null,
            "justify_content": null,
            "justify_items": null,
            "left": null,
            "margin": null,
            "max_height": null,
            "max_width": null,
            "min_height": null,
            "min_width": null,
            "object_fit": null,
            "object_position": null,
            "order": null,
            "overflow": null,
            "overflow_x": null,
            "overflow_y": null,
            "padding": null,
            "right": null,
            "top": null,
            "visibility": null,
            "width": null
          }
        },
        "fa2b690898784750b8453f9baae6b859": {
          "model_module": "@jupyter-widgets/controls",
          "model_name": "DescriptionStyleModel",
          "model_module_version": "1.5.0",
          "state": {
            "_model_module": "@jupyter-widgets/controls",
            "_model_module_version": "1.5.0",
            "_model_name": "DescriptionStyleModel",
            "_view_count": null,
            "_view_module": "@jupyter-widgets/base",
            "_view_module_version": "1.2.0",
            "_view_name": "StyleView",
            "description_width": ""
          }
        },
        "1298ee09d21249f6974e57b7982984d1": {
          "model_module": "@jupyter-widgets/controls",
          "model_name": "HBoxModel",
          "model_module_version": "1.5.0",
          "state": {
            "_dom_classes": [],
            "_model_module": "@jupyter-widgets/controls",
            "_model_module_version": "1.5.0",
            "_model_name": "HBoxModel",
            "_view_count": null,
            "_view_module": "@jupyter-widgets/controls",
            "_view_module_version": "1.5.0",
            "_view_name": "HBoxView",
            "box_style": "",
            "children": [
              "IPY_MODEL_adec287df4db442f85ac9741d7af5bdd",
              "IPY_MODEL_883688281c024555ae8a807dc0cd400c",
              "IPY_MODEL_9a3faf1d4a87474aa14186db2f069fc4"
            ],
            "layout": "IPY_MODEL_cdc7ae8241e34528a44010f98c0c5624"
          }
        },
        "adec287df4db442f85ac9741d7af5bdd": {
          "model_module": "@jupyter-widgets/controls",
          "model_name": "HTMLModel",
          "model_module_version": "1.5.0",
          "state": {
            "_dom_classes": [],
            "_model_module": "@jupyter-widgets/controls",
            "_model_module_version": "1.5.0",
            "_model_name": "HTMLModel",
            "_view_count": null,
            "_view_module": "@jupyter-widgets/controls",
            "_view_module_version": "1.5.0",
            "_view_name": "HTMLView",
            "description": "",
            "description_tooltip": null,
            "layout": "IPY_MODEL_2570116308a847c78266eafb2aa2a47d",
            "placeholder": "​",
            "style": "IPY_MODEL_71f22e0351574879a3e7d4c673d27b78",
            "value": "special_tokens_map.json: 100%"
          }
        },
        "883688281c024555ae8a807dc0cd400c": {
          "model_module": "@jupyter-widgets/controls",
          "model_name": "FloatProgressModel",
          "model_module_version": "1.5.0",
          "state": {
            "_dom_classes": [],
            "_model_module": "@jupyter-widgets/controls",
            "_model_module_version": "1.5.0",
            "_model_name": "FloatProgressModel",
            "_view_count": null,
            "_view_module": "@jupyter-widgets/controls",
            "_view_module_version": "1.5.0",
            "_view_name": "ProgressView",
            "bar_style": "success",
            "description": "",
            "description_tooltip": null,
            "layout": "IPY_MODEL_9c002fbfd8a7436c9c2e64f89aa69bdb",
            "max": 280,
            "min": 0,
            "orientation": "horizontal",
            "style": "IPY_MODEL_c1de4c9dc15346488bdbeab05c0ba617",
            "value": 280
          }
        },
        "9a3faf1d4a87474aa14186db2f069fc4": {
          "model_module": "@jupyter-widgets/controls",
          "model_name": "HTMLModel",
          "model_module_version": "1.5.0",
          "state": {
            "_dom_classes": [],
            "_model_module": "@jupyter-widgets/controls",
            "_model_module_version": "1.5.0",
            "_model_name": "HTMLModel",
            "_view_count": null,
            "_view_module": "@jupyter-widgets/controls",
            "_view_module_version": "1.5.0",
            "_view_name": "HTMLView",
            "description": "",
            "description_tooltip": null,
            "layout": "IPY_MODEL_ef6523afbae34bd48cce37e6aed88216",
            "placeholder": "​",
            "style": "IPY_MODEL_e06c40837ade4839a9ab8d855d0dff22",
            "value": " 280/280 [00:00&lt;00:00, 15.5kB/s]"
          }
        },
        "cdc7ae8241e34528a44010f98c0c5624": {
          "model_module": "@jupyter-widgets/base",
          "model_name": "LayoutModel",
          "model_module_version": "1.2.0",
          "state": {
            "_model_module": "@jupyter-widgets/base",
            "_model_module_version": "1.2.0",
            "_model_name": "LayoutModel",
            "_view_count": null,
            "_view_module": "@jupyter-widgets/base",
            "_view_module_version": "1.2.0",
            "_view_name": "LayoutView",
            "align_content": null,
            "align_items": null,
            "align_self": null,
            "border": null,
            "bottom": null,
            "display": null,
            "flex": null,
            "flex_flow": null,
            "grid_area": null,
            "grid_auto_columns": null,
            "grid_auto_flow": null,
            "grid_auto_rows": null,
            "grid_column": null,
            "grid_gap": null,
            "grid_row": null,
            "grid_template_areas": null,
            "grid_template_columns": null,
            "grid_template_rows": null,
            "height": null,
            "justify_content": null,
            "justify_items": null,
            "left": null,
            "margin": null,
            "max_height": null,
            "max_width": null,
            "min_height": null,
            "min_width": null,
            "object_fit": null,
            "object_position": null,
            "order": null,
            "overflow": null,
            "overflow_x": null,
            "overflow_y": null,
            "padding": null,
            "right": null,
            "top": null,
            "visibility": null,
            "width": null
          }
        },
        "2570116308a847c78266eafb2aa2a47d": {
          "model_module": "@jupyter-widgets/base",
          "model_name": "LayoutModel",
          "model_module_version": "1.2.0",
          "state": {
            "_model_module": "@jupyter-widgets/base",
            "_model_module_version": "1.2.0",
            "_model_name": "LayoutModel",
            "_view_count": null,
            "_view_module": "@jupyter-widgets/base",
            "_view_module_version": "1.2.0",
            "_view_name": "LayoutView",
            "align_content": null,
            "align_items": null,
            "align_self": null,
            "border": null,
            "bottom": null,
            "display": null,
            "flex": null,
            "flex_flow": null,
            "grid_area": null,
            "grid_auto_columns": null,
            "grid_auto_flow": null,
            "grid_auto_rows": null,
            "grid_column": null,
            "grid_gap": null,
            "grid_row": null,
            "grid_template_areas": null,
            "grid_template_columns": null,
            "grid_template_rows": null,
            "height": null,
            "justify_content": null,
            "justify_items": null,
            "left": null,
            "margin": null,
            "max_height": null,
            "max_width": null,
            "min_height": null,
            "min_width": null,
            "object_fit": null,
            "object_position": null,
            "order": null,
            "overflow": null,
            "overflow_x": null,
            "overflow_y": null,
            "padding": null,
            "right": null,
            "top": null,
            "visibility": null,
            "width": null
          }
        },
        "71f22e0351574879a3e7d4c673d27b78": {
          "model_module": "@jupyter-widgets/controls",
          "model_name": "DescriptionStyleModel",
          "model_module_version": "1.5.0",
          "state": {
            "_model_module": "@jupyter-widgets/controls",
            "_model_module_version": "1.5.0",
            "_model_name": "DescriptionStyleModel",
            "_view_count": null,
            "_view_module": "@jupyter-widgets/base",
            "_view_module_version": "1.2.0",
            "_view_name": "StyleView",
            "description_width": ""
          }
        },
        "9c002fbfd8a7436c9c2e64f89aa69bdb": {
          "model_module": "@jupyter-widgets/base",
          "model_name": "LayoutModel",
          "model_module_version": "1.2.0",
          "state": {
            "_model_module": "@jupyter-widgets/base",
            "_model_module_version": "1.2.0",
            "_model_name": "LayoutModel",
            "_view_count": null,
            "_view_module": "@jupyter-widgets/base",
            "_view_module_version": "1.2.0",
            "_view_name": "LayoutView",
            "align_content": null,
            "align_items": null,
            "align_self": null,
            "border": null,
            "bottom": null,
            "display": null,
            "flex": null,
            "flex_flow": null,
            "grid_area": null,
            "grid_auto_columns": null,
            "grid_auto_flow": null,
            "grid_auto_rows": null,
            "grid_column": null,
            "grid_gap": null,
            "grid_row": null,
            "grid_template_areas": null,
            "grid_template_columns": null,
            "grid_template_rows": null,
            "height": null,
            "justify_content": null,
            "justify_items": null,
            "left": null,
            "margin": null,
            "max_height": null,
            "max_width": null,
            "min_height": null,
            "min_width": null,
            "object_fit": null,
            "object_position": null,
            "order": null,
            "overflow": null,
            "overflow_x": null,
            "overflow_y": null,
            "padding": null,
            "right": null,
            "top": null,
            "visibility": null,
            "width": null
          }
        },
        "c1de4c9dc15346488bdbeab05c0ba617": {
          "model_module": "@jupyter-widgets/controls",
          "model_name": "ProgressStyleModel",
          "model_module_version": "1.5.0",
          "state": {
            "_model_module": "@jupyter-widgets/controls",
            "_model_module_version": "1.5.0",
            "_model_name": "ProgressStyleModel",
            "_view_count": null,
            "_view_module": "@jupyter-widgets/base",
            "_view_module_version": "1.2.0",
            "_view_name": "StyleView",
            "bar_color": null,
            "description_width": ""
          }
        },
        "ef6523afbae34bd48cce37e6aed88216": {
          "model_module": "@jupyter-widgets/base",
          "model_name": "LayoutModel",
          "model_module_version": "1.2.0",
          "state": {
            "_model_module": "@jupyter-widgets/base",
            "_model_module_version": "1.2.0",
            "_model_name": "LayoutModel",
            "_view_count": null,
            "_view_module": "@jupyter-widgets/base",
            "_view_module_version": "1.2.0",
            "_view_name": "LayoutView",
            "align_content": null,
            "align_items": null,
            "align_self": null,
            "border": null,
            "bottom": null,
            "display": null,
            "flex": null,
            "flex_flow": null,
            "grid_area": null,
            "grid_auto_columns": null,
            "grid_auto_flow": null,
            "grid_auto_rows": null,
            "grid_column": null,
            "grid_gap": null,
            "grid_row": null,
            "grid_template_areas": null,
            "grid_template_columns": null,
            "grid_template_rows": null,
            "height": null,
            "justify_content": null,
            "justify_items": null,
            "left": null,
            "margin": null,
            "max_height": null,
            "max_width": null,
            "min_height": null,
            "min_width": null,
            "object_fit": null,
            "object_position": null,
            "order": null,
            "overflow": null,
            "overflow_x": null,
            "overflow_y": null,
            "padding": null,
            "right": null,
            "top": null,
            "visibility": null,
            "width": null
          }
        },
        "e06c40837ade4839a9ab8d855d0dff22": {
          "model_module": "@jupyter-widgets/controls",
          "model_name": "DescriptionStyleModel",
          "model_module_version": "1.5.0",
          "state": {
            "_model_module": "@jupyter-widgets/controls",
            "_model_module_version": "1.5.0",
            "_model_name": "DescriptionStyleModel",
            "_view_count": null,
            "_view_module": "@jupyter-widgets/base",
            "_view_module_version": "1.2.0",
            "_view_name": "StyleView",
            "description_width": ""
          }
        }
      }
    }
  },
  "nbformat": 4,
  "nbformat_minor": 0
}