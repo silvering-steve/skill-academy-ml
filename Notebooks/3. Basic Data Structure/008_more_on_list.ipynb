{
  "cells": [
    {
      "cell_type": "markdown",
      "metadata": {
        "id": "KddcudgT1OLH"
      },
      "source": [
        "# Appending data\n",
        "\n",
        "We can add new data to an existing list using the append() method. The append() method adds the data to the end of the list."
      ]
    },
    {
      "cell_type": "code",
      "execution_count": null,
      "metadata": {
        "id": "ETImYpy41OLJ",
        "outputId": "f250ed74-113c-45fe-fab5-8d415e069a65"
      },
      "outputs": [
        {
          "name": "stdout",
          "output_type": "stream",
          "text": [
            "['Peter', 'John', 'Mary', 'George', 'Paul']\n",
            "['Peter', 'John', 'Mary', 'George', 'Paul', 'Jill']\n"
          ]
        }
      ],
      "source": [
        "names = [\n",
        "    \"Peter\",\n",
        "    \"John\",\n",
        "    \"Mary\",\n",
        "    \"George\",\n",
        "    \"Paul\",\n",
        "]\n",
        "\n",
        "print(names)\n",
        "names.append(\"Jill\")\n",
        "print(names)"
      ]
    },
    {
      "cell_type": "markdown",
      "metadata": {
        "id": "_6NKK-zU1OLK"
      },
      "source": [
        "# Inserting data at specific index\n",
        "\n",
        "If we want to insert data at a specific index rather than at the end of the list, we can use the insert() method."
      ]
    },
    {
      "cell_type": "code",
      "execution_count": null,
      "metadata": {
        "id": "uX4L-wqj1OLK",
        "outputId": "37bdba86-db1a-42c6-b351-cd5c38c87388"
      },
      "outputs": [
        {
          "name": "stdout",
          "output_type": "stream",
          "text": [
            "['Peter', 'John', 'Mary', 'George', 'Paul']\n",
            "['Peter', 'John', 'Jill', 'Mary', 'George', 'Paul']\n"
          ]
        }
      ],
      "source": [
        "names = [\n",
        "    \"Peter\",\n",
        "    \"John\",\n",
        "    \"Mary\",\n",
        "    \"George\",\n",
        "    \"Paul\",\n",
        "]\n",
        "\n",
        "print(names)\n",
        "names.insert(2, \"Jill\")\n",
        "print(names)"
      ]
    },
    {
      "cell_type": "markdown",
      "metadata": {
        "id": "xKb3bZb51OLK"
      },
      "source": [
        "As you can see above, `Jill` was added to the second index of the list and pushing the name `Mary` to be the third index."
      ]
    },
    {
      "cell_type": "markdown",
      "metadata": {
        "id": "t2zF806I1OLL"
      },
      "source": [
        "# Popping data\n",
        "\n",
        "We can remove the last data from a list using the pop() method. The pop() method returns the data that was removed."
      ]
    },
    {
      "cell_type": "code",
      "execution_count": null,
      "metadata": {
        "id": "m_boMwbn1OLL",
        "outputId": "7c02de88-b65c-4fec-993c-e90c081b3f12"
      },
      "outputs": [
        {
          "name": "stdout",
          "output_type": "stream",
          "text": [
            "['Peter', 'John', 'Mary', 'George', 'Paul']\n",
            "['Peter', 'John', 'Mary', 'George']\n"
          ]
        }
      ],
      "source": [
        "names = [\n",
        "    \"Peter\",\n",
        "    \"John\",\n",
        "    \"Mary\",\n",
        "    \"George\",\n",
        "    \"Paul\",\n",
        "]\n",
        "\n",
        "print(names)\n",
        "names.pop()\n",
        "print(names)"
      ]
    },
    {
      "cell_type": "markdown",
      "metadata": {
        "id": "rPBPOj891OLL"
      },
      "source": [
        "You can specify the index of the data you want to remove too like so:"
      ]
    },
    {
      "cell_type": "code",
      "execution_count": null,
      "metadata": {
        "id": "CFYex41V1OLL",
        "outputId": "3018d3cc-9c4b-4617-c607-71d364ca05a5"
      },
      "outputs": [
        {
          "name": "stdout",
          "output_type": "stream",
          "text": [
            "['Peter', 'John', 'Mary', 'George', 'Paul']\n",
            "['Peter', 'John', 'George', 'Paul']\n"
          ]
        }
      ],
      "source": [
        "names = [\n",
        "    \"Peter\",\n",
        "    \"John\",\n",
        "    \"Mary\",\n",
        "    \"George\",\n",
        "    \"Paul\",\n",
        "]\n",
        "\n",
        "print(names)\n",
        "names.pop(2)\n",
        "print(names)"
      ]
    },
    {
      "cell_type": "markdown",
      "metadata": {
        "id": "xb_I37vZ1OLM"
      },
      "source": [
        "# Challenge!"
      ]
    },
    {
      "cell_type": "markdown",
      "metadata": {
        "id": "qScfbTOa1OLM"
      },
      "source": [
        "# Challenge 1\n",
        "\n",
        "Append new car named `Toyota` to the list of cars."
      ]
    },
    {
      "cell_type": "code",
      "execution_count": null,
      "metadata": {
        "id": "HZeVHIgc1OLM"
      },
      "outputs": [],
      "source": [
        "cars = [\"BMW\", \"Audi\", \"Mercedes\", \"Volkswagen\", \"Porsche\"]\n",
        "\n",
        "# Add your code below!\n",
        "print(cars) # Expected output: ['BMW', 'Audi', 'Mercedes', 'Volkswagen', 'Porsche', 'Toyota']"
      ]
    },
    {
      "cell_type": "markdown",
      "metadata": {
        "id": "VO2OuLmR1OLN"
      },
      "source": [
        "When you are done with the above challenge, then:\n",
        "1. Input your student_id and name in the box below\n",
        "2. Run the code block by pressing the play button."
      ]
    },
    {
      "cell_type": "code",
      "execution_count": null,
      "metadata": {
        "id": "kst6HAX01OLN"
      },
      "outputs": [],
      "source": [
        "!pip install rggrader\n",
        "\n",
        "from rggrader import submit\n",
        "\n",
        "# @title #### Student Identity\n",
        "student_id = \"your student id\" # @param {type:\"string\"}\n",
        "name = \"your name\" # @param {type:\"string\"}\n",
        "\n",
        "# Submit Method\n",
        "assignment_id = \"008_more_on_list\"\n",
        "question_id = \"01_more_list_1\"\n",
        "submit(student_id, name, assignment_id, cars[5], question_id)"
      ]
    },
    {
      "cell_type": "markdown",
      "metadata": {
        "id": "PdMS2cwL1OLN"
      },
      "source": [
        "## Challenge 2\n",
        "\n",
        "Insert a new car named `Honda` between `Mercedes` and `Volkswagen`"
      ]
    },
    {
      "cell_type": "code",
      "execution_count": null,
      "metadata": {
        "id": "hH31ny641OLN"
      },
      "outputs": [],
      "source": [
        "cars = [\"BMW\", \"Audi\", \"Mercedes\", \"Volkswagen\", \"Porsche\"]\n",
        "\n",
        "# Add your code below!\n",
        "\n",
        "print(cars) # Expected output: ['BMW', 'Audi', 'Mercedes', 'Honda', 'Volkswagen', 'Porsche']"
      ]
    },
    {
      "cell_type": "markdown",
      "metadata": {
        "id": "XX5butO51OLN"
      },
      "source": [
        "When you are done with the above challenge, then:\n",
        "1. Run the code block by pressing the play button."
      ]
    },
    {
      "cell_type": "code",
      "execution_count": null,
      "metadata": {
        "id": "jUocdIoq1OLN"
      },
      "outputs": [],
      "source": [
        "# Submit Method\n",
        "assignment_id = \"008_more_on_list\"\n",
        "question_id = \"02_more_list_2\"\n",
        "\n",
        "submit(student_id, name, assignment_id, cars[3], question_id)"
      ]
    },
    {
      "cell_type": "markdown",
      "metadata": {
        "id": "fFCJtOhq1OLN"
      },
      "source": [
        "## Challenge 3\n",
        "\n",
        "Remove \"BMW\" and \"Porche\" from the list of cars."
      ]
    },
    {
      "cell_type": "code",
      "execution_count": null,
      "metadata": {
        "id": "TW3FVYEc1OLO"
      },
      "outputs": [],
      "source": [
        "cars = [\"BMW\", \"Audi\", \"Mercedes\", \"Volkswagen\", \"Porsche\"]\n",
        "\n",
        "# Add your code below!\n",
        "print(cars) # Expected output: ['Audi', 'Mercedes', 'Volkswagen']"
      ]
    },
    {
      "cell_type": "markdown",
      "metadata": {
        "id": "fZV8Rs1a1OLO"
      },
      "source": [
        "When you are done with the above challenge, then:\n",
        "1. Run the code block by pressing the play button."
      ]
    },
    {
      "cell_type": "code",
      "execution_count": null,
      "metadata": {
        "id": "sgItDZG11OLP"
      },
      "outputs": [],
      "source": [
        "# Submit Method\n",
        "assignment_id = \"008_more_on_list\"\n",
        "question_id = \"03_more_list_3\"\n",
        "\n",
        "submit(student_id, name, assignment_id, cars[0], question_id)"
      ]
    },
    {
      "cell_type": "markdown",
      "metadata": {
        "id": "Ij40cyW71OLP"
      },
      "source": [
        "# Filtering data on list by creating a new list\n",
        "\n",
        "We can filter data on a list by creating a new list. Let's say we want to filter out all employees who are not in the `Sales` department. We can do so by creating a new list and adding only the employees who are in the `Sales` department to the new list.\n",
        "\n",
        "How so? Using combination of `for` loop and `if` statement of course!"
      ]
    },
    {
      "cell_type": "code",
      "execution_count": null,
      "metadata": {
        "id": "4Xrc2e-V1OLP",
        "outputId": "b13c2b8a-b177-46f8-f3d4-768f22d9a8ce"
      },
      "outputs": [
        {
          "name": "stdout",
          "output_type": "stream",
          "text": [
            "[1, 3, 5, 7, 9]\n"
          ]
        }
      ],
      "source": [
        "all_numbers = [1, 2, 3, 4, 5, 6, 7, 8, 9]\n",
        "odd_numbers = []\n",
        "\n",
        "for number in all_numbers:\n",
        "    if number % 2 == 1:\n",
        "        odd_numbers.append(number)\n",
        "\n",
        "print(odd_numbers)"
      ]
    },
    {
      "cell_type": "markdown",
      "metadata": {
        "id": "MP5bAR9Z1OLQ"
      },
      "source": [
        "# Challenge!"
      ]
    },
    {
      "cell_type": "markdown",
      "metadata": {
        "id": "p3Q-7Mg21OLQ"
      },
      "source": [
        "## Challenge 1\n",
        "\n",
        "Create a new list of numbers that is greater than 5 from the list of numbers below."
      ]
    },
    {
      "cell_type": "code",
      "execution_count": null,
      "metadata": {
        "id": "HuPaeA7l1OLQ"
      },
      "outputs": [],
      "source": [
        "all_numbers = [1, 2, 3, 4, 5, 6, 7, 8, 9]\n",
        "greater_than_five = []\n",
        "\n",
        "for number in all_numbers:\n",
        "    if True:\n",
        "        greater_than_five.append(number)\n",
        "\n",
        "print(greater_than_five) # Expected output: [6, 7, 8, 9]"
      ]
    },
    {
      "cell_type": "markdown",
      "metadata": {
        "id": "cNLG_h3I1OLQ"
      },
      "source": [
        "When you are done with the above challenge, then:\n",
        "1. Run the code block by pressing the play button."
      ]
    },
    {
      "cell_type": "code",
      "execution_count": null,
      "metadata": {
        "id": "f9Q1HKnj1OLQ"
      },
      "outputs": [],
      "source": [
        "# Submit Method\n",
        "assignment_id = \"008_more_on_list\"\n",
        "question_id = \"04_filter_1\"\n",
        "\n",
        "submit(student_id, name, assignment_id, str(greater_than_five), question_id)"
      ]
    },
    {
      "cell_type": "markdown",
      "metadata": {
        "id": "ERd_0o5R1OLQ"
      },
      "source": [
        "## Challenge 2\n",
        "\n",
        "Get all names that are longer than 5 characters from the list of words below."
      ]
    },
    {
      "cell_type": "code",
      "execution_count": null,
      "metadata": {
        "id": "uVlFQat71OLR"
      },
      "outputs": [],
      "source": [
        "all_names = ['John', 'Ardian', 'Jill', 'Jennifer', 'Pahlevi', 'Ricky']\n",
        "names_more_than_five_characters = []\n",
        "\n",
        "# Add your code below!\n",
        "\n",
        "print(names_more_than_five_characters) # Expected output: ['Ardian', 'Jennifer', 'Pahlevi']"
      ]
    },
    {
      "cell_type": "markdown",
      "metadata": {
        "id": "r21-hT3_1OLR"
      },
      "source": [
        "When you are done with the above challenge, then:\n",
        "1. Run the code block by pressing the play button."
      ]
    },
    {
      "cell_type": "code",
      "execution_count": null,
      "metadata": {
        "id": "s0HCwJue1OLR"
      },
      "outputs": [],
      "source": [
        "# Submit Method\n",
        "assignment_id = \"008_more_on_list\"\n",
        "question_id = \"05_filter_2\"\n",
        "\n",
        "submit(student_id, name, assignment_id, str(names_more_than_five_characters), question_id)"
      ]
    }
  ],
  "metadata": {
    "kernelspec": {
      "display_name": "Python 3",
      "name": "python3"
    },
    "language_info": {
      "codemirror_mode": {
        "name": "ipython",
        "version": 3
      },
      "file_extension": ".py",
      "mimetype": "text/x-python",
      "name": "python",
      "nbconvert_exporter": "python",
      "pygments_lexer": "ipython3",
      "version": "3.11.3"
    },
    "colab": {
      "provenance": []
    }
  },
  "nbformat": 4,
  "nbformat_minor": 0
}