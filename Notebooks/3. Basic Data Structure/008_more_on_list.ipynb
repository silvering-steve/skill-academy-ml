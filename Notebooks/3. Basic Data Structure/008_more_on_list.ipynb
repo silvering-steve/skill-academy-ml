{
 "cells": [
  {
   "cell_type": "markdown",
   "metadata": {
    "id": "KddcudgT1OLH"
   },
   "source": [
    "# Appending data\n",
    "\n",
    "We can add new data to an existing list using the append() method. The append() method adds the data to the end of the list."
   ]
  },
  {
   "cell_type": "code",
   "execution_count": 1,
   "metadata": {
    "id": "ETImYpy41OLJ",
    "outputId": "f250ed74-113c-45fe-fab5-8d415e069a65",
    "ExecuteTime": {
     "end_time": "2023-12-05T03:15:34.101329Z",
     "start_time": "2023-12-05T03:15:34.094824500Z"
    }
   },
   "outputs": [
    {
     "name": "stdout",
     "output_type": "stream",
     "text": [
      "['Peter', 'John', 'Mary', 'George', 'Paul']\n",
      "['Peter', 'John', 'Mary', 'George', 'Paul', 'Jill']\n"
     ]
    }
   ],
   "source": [
    "names = [\n",
    "    \"Peter\",\n",
    "    \"John\",\n",
    "    \"Mary\",\n",
    "    \"George\",\n",
    "    \"Paul\",\n",
    "]\n",
    "\n",
    "print(names)\n",
    "names.append(\"Jill\")\n",
    "print(names)"
   ]
  },
  {
   "cell_type": "markdown",
   "metadata": {
    "id": "_6NKK-zU1OLK"
   },
   "source": [
    "# Inserting data at specific index\n",
    "\n",
    "If we want to insert data at a specific index rather than at the end of the list, we can use the insert() method."
   ]
  },
  {
   "cell_type": "code",
   "execution_count": 2,
   "metadata": {
    "id": "uX4L-wqj1OLK",
    "outputId": "37bdba86-db1a-42c6-b351-cd5c38c87388",
    "ExecuteTime": {
     "end_time": "2023-12-05T03:15:36.901568900Z",
     "start_time": "2023-12-05T03:15:36.895568200Z"
    }
   },
   "outputs": [
    {
     "name": "stdout",
     "output_type": "stream",
     "text": [
      "['Peter', 'John', 'Mary', 'George', 'Paul']\n",
      "['Peter', 'John', 'Jill', 'Mary', 'George', 'Paul']\n"
     ]
    }
   ],
   "source": [
    "names = [\n",
    "    \"Peter\",\n",
    "    \"John\",\n",
    "    \"Mary\",\n",
    "    \"George\",\n",
    "    \"Paul\",\n",
    "]\n",
    "\n",
    "print(names)\n",
    "names.insert(2, \"Jill\")\n",
    "print(names)"
   ]
  },
  {
   "cell_type": "markdown",
   "metadata": {
    "id": "xKb3bZb51OLK"
   },
   "source": [
    "As you can see above, `Jill` was added to the second index of the list and pushing the name `Mary` to be the third index."
   ]
  },
  {
   "cell_type": "markdown",
   "metadata": {
    "id": "t2zF806I1OLL"
   },
   "source": [
    "# Popping data\n",
    "\n",
    "We can remove the last data from a list using the pop() method. The pop() method returns the data that was removed."
   ]
  },
  {
   "cell_type": "code",
   "execution_count": 3,
   "metadata": {
    "id": "m_boMwbn1OLL",
    "outputId": "7c02de88-b65c-4fec-993c-e90c081b3f12",
    "ExecuteTime": {
     "end_time": "2023-12-05T03:15:46.405194800Z",
     "start_time": "2023-12-05T03:15:46.399684600Z"
    }
   },
   "outputs": [
    {
     "name": "stdout",
     "output_type": "stream",
     "text": [
      "['Peter', 'John', 'Mary', 'George', 'Paul']\n",
      "['Peter', 'John', 'Mary', 'George']\n"
     ]
    }
   ],
   "source": [
    "names = [\n",
    "    \"Peter\",\n",
    "    \"John\",\n",
    "    \"Mary\",\n",
    "    \"George\",\n",
    "    \"Paul\",\n",
    "]\n",
    "\n",
    "print(names)\n",
    "names.pop()\n",
    "print(names)"
   ]
  },
  {
   "cell_type": "markdown",
   "metadata": {
    "id": "rPBPOj891OLL"
   },
   "source": [
    "You can specify the index of the data you want to remove too like so:"
   ]
  },
  {
   "cell_type": "code",
   "execution_count": 4,
   "metadata": {
    "id": "CFYex41V1OLL",
    "outputId": "3018d3cc-9c4b-4617-c607-71d364ca05a5",
    "ExecuteTime": {
     "end_time": "2023-12-05T03:15:49.100232800Z",
     "start_time": "2023-12-05T03:15:49.071700800Z"
    }
   },
   "outputs": [
    {
     "name": "stdout",
     "output_type": "stream",
     "text": [
      "['Peter', 'John', 'Mary', 'George', 'Paul']\n",
      "['Peter', 'John', 'George', 'Paul']\n"
     ]
    }
   ],
   "source": [
    "names = [\n",
    "    \"Peter\",\n",
    "    \"John\",\n",
    "    \"Mary\",\n",
    "    \"George\",\n",
    "    \"Paul\",\n",
    "]\n",
    "\n",
    "print(names)\n",
    "names.pop(2)\n",
    "print(names)"
   ]
  },
  {
   "cell_type": "markdown",
   "metadata": {
    "id": "xb_I37vZ1OLM"
   },
   "source": [
    "# Challenge!"
   ]
  },
  {
   "cell_type": "markdown",
   "metadata": {
    "id": "qScfbTOa1OLM"
   },
   "source": [
    "# Challenge 1\n",
    "\n",
    "Append new car named `Toyota` to the list of cars."
   ]
  },
  {
   "cell_type": "code",
   "execution_count": 5,
   "metadata": {
    "id": "HZeVHIgc1OLM",
    "ExecuteTime": {
     "end_time": "2023-12-05T03:16:00.952452800Z",
     "start_time": "2023-12-05T03:16:00.935920800Z"
    }
   },
   "outputs": [
    {
     "name": "stdout",
     "output_type": "stream",
     "text": [
      "['BMW', 'Audi', 'Mercedes', 'Volkswagen', 'Porsche', 'Toyota']\n"
     ]
    }
   ],
   "source": [
    "cars = [\"BMW\", \"Audi\", \"Mercedes\", \"Volkswagen\", \"Porsche\"]\n",
    "\n",
    "# Add your code below!\n",
    "cars.append(\"Toyota\")\n",
    "print(cars) # Expected output: ['BMW', 'Audi', 'Mercedes', 'Volkswagen', 'Porsche', 'Toyota']"
   ]
  },
  {
   "cell_type": "markdown",
   "metadata": {
    "id": "VO2OuLmR1OLN"
   },
   "source": [
    "When you are done with the above challenge, then:\n",
    "1. Input your student_id and name in the box below\n",
    "2. Run the code block by pressing the play button."
   ]
  },
  {
   "cell_type": "code",
   "execution_count": 6,
   "metadata": {
    "id": "kst6HAX01OLN",
    "ExecuteTime": {
     "end_time": "2023-12-05T03:16:09.516406700Z",
     "start_time": "2023-12-05T03:16:07.839741900Z"
    }
   },
   "outputs": [
    {
     "name": "stdout",
     "output_type": "stream",
     "text": [
      "Requirement already satisfied: rggrader in d:\\repositories\\skill-academy-ml\\venv\\lib\\site-packages (0.1.6)\n",
      "Requirement already satisfied: requests in d:\\repositories\\skill-academy-ml\\venv\\lib\\site-packages (from rggrader) (2.31.0)\n",
      "Requirement already satisfied: pandas in d:\\repositories\\skill-academy-ml\\venv\\lib\\site-packages (from rggrader) (2.1.3)\n",
      "Requirement already satisfied: Pillow in d:\\repositories\\skill-academy-ml\\venv\\lib\\site-packages (from rggrader) (10.1.0)\n",
      "Requirement already satisfied: numpy<2,>=1.22.4 in d:\\repositories\\skill-academy-ml\\venv\\lib\\site-packages (from pandas->rggrader) (1.26.2)\n",
      "Requirement already satisfied: python-dateutil>=2.8.2 in d:\\repositories\\skill-academy-ml\\venv\\lib\\site-packages (from pandas->rggrader) (2.8.2)\n",
      "Requirement already satisfied: pytz>=2020.1 in d:\\repositories\\skill-academy-ml\\venv\\lib\\site-packages (from pandas->rggrader) (2023.3.post1)\n",
      "Requirement already satisfied: tzdata>=2022.1 in d:\\repositories\\skill-academy-ml\\venv\\lib\\site-packages (from pandas->rggrader) (2023.3)\n",
      "Requirement already satisfied: charset-normalizer<4,>=2 in d:\\repositories\\skill-academy-ml\\venv\\lib\\site-packages (from requests->rggrader) (3.3.2)\n",
      "Requirement already satisfied: idna<4,>=2.5 in d:\\repositories\\skill-academy-ml\\venv\\lib\\site-packages (from requests->rggrader) (3.6)\n",
      "Requirement already satisfied: urllib3<3,>=1.21.1 in d:\\repositories\\skill-academy-ml\\venv\\lib\\site-packages (from requests->rggrader) (2.1.0)\n",
      "Requirement already satisfied: certifi>=2017.4.17 in d:\\repositories\\skill-academy-ml\\venv\\lib\\site-packages (from requests->rggrader) (2023.11.17)\n",
      "Requirement already satisfied: six>=1.5 in d:\\repositories\\skill-academy-ml\\venv\\lib\\site-packages (from python-dateutil>=2.8.2->pandas->rggrader) (1.16.0)\n"
     ]
    },
    {
     "name": "stderr",
     "output_type": "stream",
     "text": [
      "\n",
      "[notice] A new release of pip is available: 23.2.1 -> 23.3.1\n",
      "[notice] To update, run: python.exe -m pip install --upgrade pip\n"
     ]
    },
    {
     "data": {
      "text/plain": "'Assignment successfully submitted'"
     },
     "execution_count": 6,
     "metadata": {},
     "output_type": "execute_result"
    }
   ],
   "source": [
    "!pip install rggrader\n",
    "\n",
    "from rggrader import submit\n",
    "\n",
    "# @title #### Student Identity\n",
    "student_id = \"REA3X5EN\" # @param {type:\"string\"}\n",
    "name = \"Steven Adi Santoso\" # @param {type:\"string\"}\n",
    "\n",
    "# Submit Method\n",
    "assignment_id = \"008_more_on_list\"\n",
    "question_id = \"01_more_list_1\"\n",
    "submit(student_id, name, assignment_id, cars[5], question_id)"
   ]
  },
  {
   "cell_type": "markdown",
   "metadata": {
    "id": "PdMS2cwL1OLN"
   },
   "source": [
    "## Challenge 2\n",
    "\n",
    "Insert a new car named `Honda` between `Mercedes` and `Volkswagen`"
   ]
  },
  {
   "cell_type": "code",
   "execution_count": 7,
   "metadata": {
    "id": "hH31ny641OLN",
    "ExecuteTime": {
     "end_time": "2023-12-05T03:16:35.893654100Z",
     "start_time": "2023-12-05T03:16:35.879631Z"
    }
   },
   "outputs": [
    {
     "name": "stdout",
     "output_type": "stream",
     "text": [
      "['BMW', 'Audi', 'Mercedes', 'Honda', 'Volkswagen', 'Porsche']\n"
     ]
    }
   ],
   "source": [
    "cars = [\"BMW\", \"Audi\", \"Mercedes\", \"Volkswagen\", \"Porsche\"]\n",
    "\n",
    "# Add your code below!\n",
    "cars.insert(3, \"Honda\")\n",
    "print(cars) # Expected output: ['BMW', 'Audi', 'Mercedes', 'Honda', 'Volkswagen', 'Porsche']"
   ]
  },
  {
   "cell_type": "markdown",
   "metadata": {
    "id": "XX5butO51OLN"
   },
   "source": [
    "When you are done with the above challenge, then:\n",
    "1. Run the code block by pressing the play button."
   ]
  },
  {
   "cell_type": "code",
   "execution_count": 8,
   "metadata": {
    "id": "jUocdIoq1OLN",
    "ExecuteTime": {
     "end_time": "2023-12-05T03:16:40.866431300Z",
     "start_time": "2023-12-05T03:16:40.537219Z"
    }
   },
   "outputs": [
    {
     "data": {
      "text/plain": "'Assignment successfully submitted'"
     },
     "execution_count": 8,
     "metadata": {},
     "output_type": "execute_result"
    }
   ],
   "source": [
    "# Submit Method\n",
    "assignment_id = \"008_more_on_list\"\n",
    "question_id = \"02_more_list_2\"\n",
    "\n",
    "submit(student_id, name, assignment_id, cars[3], question_id)"
   ]
  },
  {
   "cell_type": "markdown",
   "metadata": {
    "id": "fFCJtOhq1OLN"
   },
   "source": [
    "## Challenge 3\n",
    "\n",
    "Remove \"BMW\" and \"Porche\" from the list of cars."
   ]
  },
  {
   "cell_type": "code",
   "execution_count": 10,
   "metadata": {
    "id": "TW3FVYEc1OLO",
    "ExecuteTime": {
     "end_time": "2023-12-05T03:17:34.411330700Z",
     "start_time": "2023-12-05T03:17:34.400318600Z"
    }
   },
   "outputs": [
    {
     "name": "stdout",
     "output_type": "stream",
     "text": [
      "['Audi', 'Mercedes', 'Volkswagen']\n"
     ]
    }
   ],
   "source": [
    "cars = [\"BMW\", \"Audi\", \"Mercedes\", \"Volkswagen\", \"Porsche\"]\n",
    "\n",
    "# Add your code below!\n",
    "cars = cars[1:-1]\n",
    "print(cars) # Expected output: ['Audi', 'Mercedes', 'Volkswagen']"
   ]
  },
  {
   "cell_type": "markdown",
   "metadata": {
    "id": "fZV8Rs1a1OLO"
   },
   "source": [
    "When you are done with the above challenge, then:\n",
    "1. Run the code block by pressing the play button."
   ]
  },
  {
   "cell_type": "code",
   "execution_count": 11,
   "metadata": {
    "id": "sgItDZG11OLP",
    "ExecuteTime": {
     "end_time": "2023-12-05T03:18:14.229380Z",
     "start_time": "2023-12-05T03:18:13.845815900Z"
    }
   },
   "outputs": [
    {
     "data": {
      "text/plain": "'Assignment successfully submitted'"
     },
     "execution_count": 11,
     "metadata": {},
     "output_type": "execute_result"
    }
   ],
   "source": [
    "# Submit Method\n",
    "assignment_id = \"008_more_on_list\"\n",
    "question_id = \"03_more_list_3\"\n",
    "\n",
    "submit(student_id, name, assignment_id, cars[0], question_id)"
   ]
  },
  {
   "cell_type": "markdown",
   "metadata": {
    "id": "Ij40cyW71OLP"
   },
   "source": [
    "# Filtering data on list by creating a new list\n",
    "\n",
    "We can filter data on a list by creating a new list. Let's say we want to filter out all employees who are not in the `Sales` department. We can do so by creating a new list and adding only the employees who are in the `Sales` department to the new list.\n",
    "\n",
    "How so? Using combination of `for` loop and `if` statement of course!"
   ]
  },
  {
   "cell_type": "code",
   "execution_count": 12,
   "metadata": {
    "id": "4Xrc2e-V1OLP",
    "outputId": "b13c2b8a-b177-46f8-f3d4-768f22d9a8ce",
    "ExecuteTime": {
     "end_time": "2023-12-05T03:18:19.558328Z",
     "start_time": "2023-12-05T03:18:19.544325600Z"
    }
   },
   "outputs": [
    {
     "name": "stdout",
     "output_type": "stream",
     "text": [
      "[1, 3, 5, 7, 9]\n"
     ]
    }
   ],
   "source": [
    "all_numbers = [1, 2, 3, 4, 5, 6, 7, 8, 9]\n",
    "odd_numbers = []\n",
    "\n",
    "for number in all_numbers:\n",
    "    if number % 2 == 1:\n",
    "        odd_numbers.append(number)\n",
    "\n",
    "print(odd_numbers)"
   ]
  },
  {
   "cell_type": "markdown",
   "metadata": {
    "id": "MP5bAR9Z1OLQ"
   },
   "source": [
    "# Challenge!"
   ]
  },
  {
   "cell_type": "markdown",
   "metadata": {
    "id": "p3Q-7Mg21OLQ"
   },
   "source": [
    "## Challenge 1\n",
    "\n",
    "Create a new list of numbers that is greater than 5 from the list of numbers below."
   ]
  },
  {
   "cell_type": "code",
   "execution_count": 13,
   "metadata": {
    "id": "HuPaeA7l1OLQ",
    "ExecuteTime": {
     "end_time": "2023-12-05T03:18:35.446665800Z",
     "start_time": "2023-12-05T03:18:35.430818100Z"
    }
   },
   "outputs": [
    {
     "name": "stdout",
     "output_type": "stream",
     "text": [
      "[6, 7, 8, 9]\n"
     ]
    }
   ],
   "source": [
    "all_numbers = [1, 2, 3, 4, 5, 6, 7, 8, 9]\n",
    "greater_than_five = []\n",
    "\n",
    "for number in all_numbers:\n",
    "    if number > 5:\n",
    "        greater_than_five.append(number)\n",
    "\n",
    "print(greater_than_five) # Expected output: [6, 7, 8, 9]"
   ]
  },
  {
   "cell_type": "markdown",
   "metadata": {
    "id": "cNLG_h3I1OLQ"
   },
   "source": [
    "When you are done with the above challenge, then:\n",
    "1. Run the code block by pressing the play button."
   ]
  },
  {
   "cell_type": "code",
   "execution_count": 14,
   "metadata": {
    "id": "f9Q1HKnj1OLQ",
    "ExecuteTime": {
     "end_time": "2023-12-05T03:18:37.444468600Z",
     "start_time": "2023-12-05T03:18:37.111474200Z"
    }
   },
   "outputs": [
    {
     "data": {
      "text/plain": "'Assignment successfully submitted'"
     },
     "execution_count": 14,
     "metadata": {},
     "output_type": "execute_result"
    }
   ],
   "source": [
    "# Submit Method\n",
    "assignment_id = \"008_more_on_list\"\n",
    "question_id = \"04_filter_1\"\n",
    "\n",
    "submit(student_id, name, assignment_id, str(greater_than_five), question_id)"
   ]
  },
  {
   "cell_type": "markdown",
   "metadata": {
    "id": "ERd_0o5R1OLQ"
   },
   "source": [
    "## Challenge 2\n",
    "\n",
    "Get all names that are longer than 5 characters from the list of words below."
   ]
  },
  {
   "cell_type": "code",
   "execution_count": 16,
   "metadata": {
    "id": "uVlFQat71OLR",
    "ExecuteTime": {
     "end_time": "2023-12-05T03:19:23.592211700Z",
     "start_time": "2023-12-05T03:19:23.575700700Z"
    }
   },
   "outputs": [
    {
     "name": "stdout",
     "output_type": "stream",
     "text": [
      "['Ardian', 'Jennifer', 'Pahlevi']\n"
     ]
    }
   ],
   "source": [
    "all_names = ['John', 'Ardian', 'Jill', 'Jennifer', 'Pahlevi', 'Ricky']\n",
    "names_more_than_five_characters = [name for name in all_names if len(name) > 5]\n",
    "\n",
    "# Add your code below!\n",
    "\n",
    "print(names_more_than_five_characters) # Expected output: ['Ardian', 'Jennifer', 'Pahlevi']"
   ]
  },
  {
   "cell_type": "markdown",
   "metadata": {
    "id": "r21-hT3_1OLR"
   },
   "source": [
    "When you are done with the above challenge, then:\n",
    "1. Run the code block by pressing the play button."
   ]
  },
  {
   "cell_type": "code",
   "execution_count": 17,
   "metadata": {
    "id": "s0HCwJue1OLR",
    "ExecuteTime": {
     "end_time": "2023-12-05T03:19:26.902287100Z",
     "start_time": "2023-12-05T03:19:26.543444400Z"
    }
   },
   "outputs": [
    {
     "data": {
      "text/plain": "'Assignment successfully submitted'"
     },
     "execution_count": 17,
     "metadata": {},
     "output_type": "execute_result"
    }
   ],
   "source": [
    "# Submit Method\n",
    "assignment_id = \"008_more_on_list\"\n",
    "question_id = \"05_filter_2\"\n",
    "\n",
    "submit(student_id, name, assignment_id, str(names_more_than_five_characters), question_id)"
   ]
  }
 ],
 "metadata": {
  "kernelspec": {
   "name": "python3",
   "language": "python",
   "display_name": "Python 3 (ipykernel)"
  },
  "language_info": {
   "codemirror_mode": {
    "name": "ipython",
    "version": 3
   },
   "file_extension": ".py",
   "mimetype": "text/x-python",
   "name": "python",
   "nbconvert_exporter": "python",
   "pygments_lexer": "ipython3",
   "version": "3.11.3"
  },
  "colab": {
   "provenance": []
  }
 },
 "nbformat": 4,
 "nbformat_minor": 0
}
