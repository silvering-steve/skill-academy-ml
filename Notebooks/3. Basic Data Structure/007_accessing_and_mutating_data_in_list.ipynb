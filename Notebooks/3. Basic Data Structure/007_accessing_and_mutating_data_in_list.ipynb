{
  "cells": [
    {
      "cell_type": "markdown",
      "metadata": {
        "id": "Rs4p3vBu1Mt_"
      },
      "source": [
        "# Accessing data and mutating data"
      ]
    },
    {
      "cell_type": "code",
      "execution_count": null,
      "metadata": {
        "id": "QXAf8QUg1MuB"
      },
      "outputs": [],
      "source": [
        "texts = [\n",
        "    \"The service at the restaurant was really impressive\",\n",
        "    \"What is the status of my order number #1234?\",\n",
        "    \"I have a proposal for a new feature in your app\",\n",
        "    \"My package arrived late and the item was damaged\",\n",
        "    \"Your team is doing an excellent job\",\n",
        "    \"Could you help clarify the specifications of this product?\",\n",
        "    \"I'm extremely dissatisfied with the customer service\",\n",
        "    \"Have you thought about offering more plant-based options on your menu?\",\n",
        "    \"I really appreciate the speedy response from your customer service team\",\n",
        "    \"I enjoy using your application, great work\"\n",
        "]\n"
      ]
    },
    {
      "cell_type": "markdown",
      "metadata": {
        "id": "-KmR2mRr1MuC"
      },
      "source": [
        "Imagine if we have a requirement of getting only single value from the list. How can we do so?\n",
        "\n",
        "We can use index. Index is the position of the element in our list. Like most other programming languages, Python starts counting from 0. So, the first element in the list has index 0, the second element has index 1, and so on."
      ]
    },
    {
      "cell_type": "code",
      "execution_count": null,
      "metadata": {
        "id": "cCKcNrfY1MuD"
      },
      "outputs": [],
      "source": [
        "print(texts[0])\n",
        "print(texts[3])\n",
        "print(texts[5])"
      ]
    },
    {
      "cell_type": "markdown",
      "metadata": {
        "id": "-ygssWkW1MuE"
      },
      "source": [
        "Please take your time to compare the index, above result, and the list before moving on 😄"
      ]
    },
    {
      "cell_type": "markdown",
      "metadata": {
        "id": "uyWNE4P01MuE"
      },
      "source": [
        "# How to mutate?\n",
        "\n",
        "One of the crucial things to understand about lists is that they are mutable, which means that we can change any of their elements after they have been created. We can do this by assigning new values to specific indexes."
      ]
    },
    {
      "cell_type": "code",
      "execution_count": null,
      "metadata": {
        "id": "nkxGQUIA1MuE"
      },
      "outputs": [],
      "source": [
        "names = [\n",
        "    \"John\",\n",
        "    \"Jane\",\n",
        "    \"Jack\",\n",
        "    \"Jill\",\n",
        "    \"James\",\n",
        "]\n",
        "\n",
        "print(names[0])\n",
        "names[0] = \"Jonathan\"\n",
        "print(names[0])"
      ]
    },
    {
      "cell_type": "markdown",
      "metadata": {
        "id": "-T7xMwBv1MuE"
      },
      "source": [
        "# Mutating several elements at once in a list using for loop\n",
        "\n",
        "We can also mutate several elements at once in a list using for loop. Let's say we want to change all the elements in the list to their multiplied value by 2, we can kinda doing it like below:"
      ]
    },
    {
      "cell_type": "code",
      "execution_count": null,
      "metadata": {
        "id": "8DoQO8rm1MuE"
      },
      "outputs": [],
      "source": [
        "numbers = [\n",
        "    1,\n",
        "    2,\n",
        "    3,\n",
        "    4,\n",
        "    5,\n",
        "]\n",
        "\n",
        "numbers[0] = numbers[0] * 2\n",
        "numbers[1] = numbers[1] * 2\n",
        "numbers[2] = numbers[2] * 2\n",
        "numbers[3] = numbers[3] * 2\n",
        "numbers[4] = numbers[4] * 2\n",
        "\n",
        "print(numbers)"
      ]
    },
    {
      "cell_type": "markdown",
      "metadata": {
        "id": "lyv9TcJR1MuF"
      },
      "source": [
        "But of course it's time consuming to write the same line of code over and over again with only difference is in the index. So, we can use for loop to do so."
      ]
    },
    {
      "cell_type": "code",
      "execution_count": null,
      "metadata": {
        "id": "UBdyZM2b1MuF"
      },
      "outputs": [],
      "source": [
        "numbers = [\n",
        "    1,\n",
        "    2,\n",
        "    3,\n",
        "    4,\n",
        "    5,\n",
        "]\n",
        "\n",
        "for index, number in enumerate(numbers):\n",
        "    numbers[index] = number * 2\n",
        "\n",
        "print(numbers)"
      ]
    },
    {
      "cell_type": "markdown",
      "metadata": {
        "id": "LBr7bn2O1MuG"
      },
      "source": [
        "Above code and the one before that is basically the same, but without the need to write the index over and over again.\n",
        "\n",
        "Here we are using special function called `enumerate`, so we can create a foor loop that iterates over both the indexes and the elements in a list. Just to remind you, if we don't use enumerate, we can only code like this:"
      ]
    },
    {
      "cell_type": "code",
      "execution_count": null,
      "metadata": {
        "id": "Peole5LO1MuG"
      },
      "outputs": [],
      "source": [
        "for number in numbers:\n",
        "    print(number)"
      ]
    },
    {
      "cell_type": "markdown",
      "metadata": {
        "id": "Stek-6Ym1MuG"
      },
      "source": [
        "But because we want to mutate each element in the list, we need to know the index of each element. So, we can use enumerate to do so."
      ]
    },
    {
      "cell_type": "markdown",
      "metadata": {
        "id": "WnUIhdKD1MuG"
      },
      "source": [
        "# Challenge!"
      ]
    },
    {
      "cell_type": "markdown",
      "metadata": {
        "id": "cn_HTSYE1MuG"
      },
      "source": [
        "# Challenge 1\n",
        "\n",
        "Change the fourth name `Rahmat` to `Rahmat Adianto` in the list below."
      ]
    },
    {
      "cell_type": "code",
      "execution_count": null,
      "metadata": {
        "id": "3vCsNCP21MuG"
      },
      "outputs": [],
      "source": [
        "names = [\n",
        "    \"Imran\",\n",
        "    \"Jake\",\n",
        "    \"Fadhil\",\n",
        "    \"Rahmat\",\n",
        "    \"Ricky\"\n",
        "]\n",
        "\n",
        "# Add your code below"
      ]
    },
    {
      "cell_type": "markdown",
      "metadata": {
        "id": "iInEHfQf1MuH"
      },
      "source": [
        "When you are done with the above challenge, then:\n",
        "1. Input your student_id and name in the box below\n",
        "2. Run the code block by pressing the play button."
      ]
    },
    {
      "cell_type": "code",
      "execution_count": null,
      "metadata": {
        "id": "HOGHHVZ81MuH"
      },
      "outputs": [],
      "source": [
        "!pip install rggrader\n",
        "\n",
        "from rggrader import submit\n",
        "\n",
        "# @title #### Student Identity\n",
        "student_id = \"your student id\" # @param {type:\"string\"}\n",
        "name = \"your name\" # @param {type:\"string\"}\n",
        "\n",
        "# Submit Method\n",
        "assignment_id = \"007_accessing_and_mutating_data_in_list\"\n",
        "question_id = \"01_list_1\"\n",
        "submit(student_id, name, assignment_id, names[3], question_id)"
      ]
    },
    {
      "cell_type": "markdown",
      "metadata": {
        "id": "pMWC4qse1MuH"
      },
      "source": [
        "## Challenge 2\n",
        "\n",
        "For the first challenge, we want to get the multiplied by 2 value of each element in the list. So when the list is [1, 2, 3, 4, 5], the result should be [2, 4, 6, 8, 10]."
      ]
    },
    {
      "cell_type": "code",
      "execution_count": null,
      "metadata": {
        "id": "sCqoNHWX1MuH"
      },
      "outputs": [],
      "source": [
        "def multiplied_by_2(numbers):\n",
        "    # Your answer here\n",
        "\n",
        "multiplied_by_2([1, 2, 3, 4, 5]) # Expected output: [2, 4, 6, 8, 10]"
      ]
    },
    {
      "cell_type": "markdown",
      "metadata": {
        "id": "iWtuSDKl1MuH"
      },
      "source": [
        "When you are done with the above challenge, then:\n",
        "\n",
        "1. Run the code block by pressing the play button."
      ]
    },
    {
      "cell_type": "code",
      "execution_count": null,
      "metadata": {
        "id": "xkVfMF1X1MuH"
      },
      "outputs": [],
      "source": [
        "# Submit Method\n",
        "assignment_id = \"007_accessing_and_mutating_data_in_list\"\n",
        "question_id = \"02_list_2\"\n",
        "\n",
        "submit(student_id, name, assignment_id, str(multiplied_by_2([5, 7, 3, 4, 6])), question_id)"
      ]
    },
    {
      "cell_type": "markdown",
      "metadata": {
        "id": "LnlTv6Gd1MuI"
      },
      "source": [
        "## Challenge 3\n",
        "\n",
        "Using `.upper()` method, change the array of string below to uppercase."
      ]
    },
    {
      "cell_type": "code",
      "execution_count": null,
      "metadata": {
        "id": "U-4P-EE71MuI"
      },
      "outputs": [],
      "source": [
        "def change_to_uppercase(texts):\n",
        "    return texts  # Your answer here\n",
        "\n",
        "change_to_uppercase([\"hello\", \"world\"]) # Expected output: [\"HELLO\", \"WORLD\"]"
      ]
    },
    {
      "cell_type": "markdown",
      "metadata": {
        "id": "xS5_fsWO1MuI"
      },
      "source": [
        "When you are done with the above challenge, then:\n",
        "\n",
        "1. Run the code block by pressing the play button."
      ]
    },
    {
      "cell_type": "code",
      "execution_count": null,
      "metadata": {
        "id": "O3aQiNik1MuI"
      },
      "outputs": [],
      "source": [
        "# Submit Method\n",
        "assignment_id = \"007_accessing_and_mutating_data_in_list\"\n",
        "question_id = \"03_list_3\"\n",
        "\n",
        "submit(student_id, name, assignment_id, str(change_to_uppercase([\"mastering\", \"ai\"])), question_id)"
      ]
    }
  ],
  "metadata": {
    "kernelspec": {
      "display_name": "Python 3 (ipykernel)",
      "language": "python",
      "name": "python3"
    },
    "language_info": {
      "codemirror_mode": {
        "name": "ipython",
        "version": 3
      },
      "file_extension": ".py",
      "mimetype": "text/x-python",
      "name": "python",
      "nbconvert_exporter": "python",
      "pygments_lexer": "ipython3",
      "version": "3.11.3"
    },
    "colab": {
      "provenance": []
    }
  },
  "nbformat": 4,
  "nbformat_minor": 0
}