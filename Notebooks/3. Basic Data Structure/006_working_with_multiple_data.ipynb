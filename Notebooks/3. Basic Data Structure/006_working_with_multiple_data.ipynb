{
  "cells": [
    {
      "cell_type": "markdown",
      "metadata": {
        "id": "7z8h8T3H1IMi"
      },
      "source": [
        "# Working with list of data\n",
        "\n",
        "When we're coding, often we need to work with a list of data, for example let's take a look another cool machine learning function below 👀."
      ]
    },
    {
      "cell_type": "code",
      "execution_count": null,
      "metadata": {
        "id": "MYiqNMmx1IMn"
      },
      "outputs": [],
      "source": [
        "%pip install transformers\n",
        "from transformers import pipeline\n",
        "\n",
        "def classify_text(text, candidate_labels):\n",
        "    # Initialize the pipeline for zero-shot classification\n",
        "    classifier = pipeline(\n",
        "        \"zero-shot-classification\",\n",
        "        model=\"facebook/bart-large-mnli\",\n",
        "    )\n",
        "\n",
        "    # Classifying the text\n",
        "    result = classifier(text, candidate_labels)\n",
        "\n",
        "    # Returning the label with the highest score\n",
        "    return result['labels'][0]"
      ]
    },
    {
      "cell_type": "code",
      "execution_count": null,
      "metadata": {
        "id": "IstrL0A51IMp"
      },
      "outputs": [],
      "source": [
        "classify_text(\"Tomorrow seems will be raining\",[\"weather\", \"finance\", \"tech\"] )"
      ]
    },
    {
      "cell_type": "markdown",
      "metadata": {
        "id": "gc4nwtH61IMq"
      },
      "source": [
        "Whoa! New datatype! What is that?\n",
        "\n",
        "It's called a list. A list is a collection of data, and it's denoted by square brackets [ ]. A list might contains several data with several data types, so a list can be a list of numbers, a list of strings, a list of combination between numbers and strings, or even a list of lists!\n",
        "\n",
        "For now please have fun with above code, basically the first argument is the text that you want to classify, and the second argument is the list of possible classification.\n",
        "\n",
        "Try:\n",
        "```python\n",
        "\"Jakarta\", [\"city\", \"country\", \"building\", \"continent\" ]\n",
        "\"Andi\", [\"animal\", \"item\", \"technology\", \"person's name\" ]\n",
        "\"Hello everyone!\",[\"greeting\", \"farewell\" ]\n",
        "\"Algebra\", [\"math\", \"physics\", \"chemistry\", \"biology\", \"geography\", \"history\", \"language\", \"art\", \"music\", \"sport\", \"programming\" ]\n",
        "```"
      ]
    },
    {
      "cell_type": "markdown",
      "metadata": {
        "id": "0m47uFMg1IMq"
      },
      "source": [
        "Note that the list can be varied in length, it can have 1 element, 2 elements, 3 elements, or even 100 elements, or even 0 element! (empty list)"
      ]
    },
    {
      "cell_type": "markdown",
      "metadata": {
        "id": "yIYHq6wy1IMr"
      },
      "source": [
        "# I want to process these texts!\n",
        "\n",
        "Imagine if you have hundreds of text that you want to know the classification like below:\n",
        "\n",
        "- The service at the restaurant was really impressive\n",
        "- What is the status of my order number #1234?\n",
        "- I have a proposal for a new feature in your app\n",
        "- My package arrived late and the item was damaged\n",
        "- Your team is doing an excellent job\n",
        "- Could you help clarify the specifications of this product?\n",
        "- I'm extremely dissatisfied with the customer service\n",
        "- Have you thought about offering more plant-based options on your menu?\n",
        "- I really appreciate the speedy response from your customer service team\n",
        "- I enjoy using your application, great work\n",
        "\n",
        "And we want to classify above list of text into several categories like below:\n",
        "\n",
        "> opinion, complaint, query, suggestion, appreciation\n",
        "\n",
        "Processing list of data like this is a really common task, let's try to see below the basic of how to process this kind of data:"
      ]
    },
    {
      "cell_type": "code",
      "execution_count": null,
      "metadata": {
        "id": "huXM514y1IMr"
      },
      "outputs": [],
      "source": [
        "texts = [\n",
        "    \"The service at the restaurant was really impressive\",\n",
        "    \"What is the status of my order number #1234?\",\n",
        "    \"I have a proposal for a new feature in your app\",\n",
        "    \"My package arrived late and the item was damaged\",\n",
        "    \"Your team is doing an excellent job\",\n",
        "    \"Could you help clarify the specifications of this product?\",\n",
        "    \"I'm extremely dissatisfied with the customer service\",\n",
        "    \"Have you thought about offering more plant-based options on your menu?\",\n",
        "    \"I really appreciate the speedy response from your customer service team\",\n",
        "    \"I enjoy using your application, great work\"\n",
        "]\n",
        "candidate_labels = [\"opinion\", \"complaint\", \"query\", \"suggestion\", \"appreciation\"]\n",
        "\n",
        "for text in texts:\n",
        "    # Classify the text\n",
        "    label = classify_text(text, candidate_labels)\n",
        "\n",
        "    # Print the text and its corresponding label\n",
        "    print(\"Text: \" + text+ \", Label: \" + label)"
      ]
    },
    {
      "cell_type": "markdown",
      "metadata": {
        "id": "pdfXof3o1IMs"
      },
      "source": [
        "As you can see above, we can use what's called a **for loop** to process a list of data. A for loop is a way to repeat a task for every element in a list. Basically every single element in the list will be assigned to a variable, for above example it's `text`, and then we process them in the loop. Like function, for loop is indent-based, so the code that we want to repeat should be indented inside the loop."
      ]
    },
    {
      "cell_type": "markdown",
      "metadata": {
        "id": "mR59Tyrc1IMt"
      },
      "source": [
        "# Challenge!\n",
        "\n",
        "What?! Challenge already?!\n",
        "\n",
        "Because `for loop` can be hard to master, before we dive deeper into the topic, let's try to do several challenges first!"
      ]
    },
    {
      "cell_type": "markdown",
      "metadata": {
        "id": "Frb4bMYg1IMt"
      },
      "source": [
        "## Challenge 1\n",
        "\n",
        "Above we have a list of text, now let's try to do a for loop with a list of numbers!\n",
        "\n",
        "Using below list, create a for loop that will print the number multiplied by 2."
      ]
    },
    {
      "cell_type": "code",
      "execution_count": null,
      "metadata": {
        "id": "j_jJ7Zkc1IMt"
      },
      "outputs": [],
      "source": [
        "number_list = [\n",
        "    8,\n",
        "    9,\n",
        "    34,\n",
        "    56,\n",
        "]\n",
        "\n",
        "for number in number_list:\n",
        "    # Change below code to fulfill the requirements\n",
        "    number = number - 1\n",
        "    print(number)"
      ]
    },
    {
      "cell_type": "markdown",
      "metadata": {
        "id": "Y3KKumxc1IMu"
      },
      "source": [
        "When you are done with the above challenge, then:\n",
        "1. Input your student_id and name in the box below\n",
        "2. Run the code block by pressing the play button."
      ]
    },
    {
      "cell_type": "code",
      "execution_count": null,
      "metadata": {
        "id": "-oEuDIR51IMu"
      },
      "outputs": [],
      "source": [
        "!pip install rggrader\n",
        "\n",
        "from rggrader import submit\n",
        "\n",
        "# @title #### Student Identity\n",
        "student_id = \"your student id\" # @param {type:\"string\"}\n",
        "name = \"your name\" # @param {type:\"string\"}\n",
        "\n",
        "# Submit Method\n",
        "assignment_id = \"006_working_with_multiple_data\"\n",
        "question_id = \"01_for_loop_1\"\n",
        "submit(student_id, name, assignment_id, str(number), question_id)"
      ]
    },
    {
      "cell_type": "markdown",
      "metadata": {
        "id": "hPk3AaYj1IMu"
      },
      "source": [
        "# Challenge 2\n",
        "\n",
        "One of function that we can use to process text is `len()`, it will return the length of a string. For example:"
      ]
    },
    {
      "cell_type": "code",
      "execution_count": null,
      "metadata": {
        "id": "L3qzayuK1IMu",
        "outputId": "b036197e-c2c0-4828-f145-694006c0ade0"
      },
      "outputs": [
        {
          "name": "stdout",
          "output_type": "stream",
          "text": [
            "8\n",
            "20\n",
            "42\n"
          ]
        }
      ],
      "source": [
        "print(len(\"Hi there\"))\n",
        "print(len(\"Thanks for your help\"))\n",
        "print(len(\"I really appreciate your help on this task\"))"
      ]
    },
    {
      "cell_type": "markdown",
      "metadata": {
        "id": "PfVMU3v-1IMv"
      },
      "source": [
        "Now with that in mind, let's try to create a for loop that will print the length of each string in the list below:"
      ]
    },
    {
      "cell_type": "code",
      "execution_count": null,
      "metadata": {
        "id": "wtSrqptz1IMv"
      },
      "outputs": [],
      "source": [
        "text_data = [\n",
        "    \"Hi, how are you?\",\n",
        "    \"I'm doing great. How about you?\",\n",
        "    \"I'm also great!\",\n",
        "]\n",
        "\n",
        "# Write your code here\n",
        "\n",
        "\n",
        "# Expected printed data:\n",
        "# 16\n",
        "# 31\n",
        "# 15"
      ]
    },
    {
      "cell_type": "markdown",
      "metadata": {
        "id": "AeCQ89_x1IMx"
      },
      "source": [
        "When you are done with the above challenge, then:\n",
        "\n",
        "1. Change the text \"my result\" below with the text \"done\"\n",
        "2. Run the code block by pressing the play button."
      ]
    },
    {
      "cell_type": "code",
      "execution_count": null,
      "metadata": {
        "id": "PpjhVZqv1IMx"
      },
      "outputs": [],
      "source": [
        "# Submit Method\n",
        "assignment_id = \"006_working_with_multiple_data\"\n",
        "question_id = \"02_for_loop_2\"\n",
        "\n",
        "result = \"my result\"\n",
        "\n",
        "submit(student_id, name, assignment_id, result, question_id)"
      ]
    },
    {
      "cell_type": "markdown",
      "metadata": {
        "id": "z-MlymxQ1IMx"
      },
      "source": [
        "# Challenge 3\n",
        "\n",
        "One string method that we can use to process text is `split()`, it will split a string into a list of string given a character. For example:"
      ]
    },
    {
      "cell_type": "code",
      "execution_count": null,
      "metadata": {
        "id": "obwzwWCk1IMx",
        "outputId": "83e318c9-195e-481f-9275-fbee59a31489"
      },
      "outputs": [
        {
          "data": {
            "text/plain": [
              "['Imam', 'Andi', 'Budi', 'Chandra']"
            ]
          },
          "execution_count": 3,
          "metadata": {},
          "output_type": "execute_result"
        }
      ],
      "source": [
        "\"Imam,Andi,Budi,Chandra\".split(\",\")"
      ]
    },
    {
      "cell_type": "markdown",
      "metadata": {
        "id": "PKbQEoJ71IMy"
      },
      "source": [
        "So for above word we split each word and feed them into a list of string using comma as the separator.\n",
        "\n",
        "Now split below string, and then get the length of each word using for loop!"
      ]
    },
    {
      "cell_type": "code",
      "execution_count": null,
      "metadata": {
        "id": "5tLu3c_Z1IMy"
      },
      "outputs": [],
      "source": [
        "names = \"Fajar,Levina,Putri,Andi,Budi,Chandra\"\n",
        "\n",
        "# Write your code here\n",
        "\n",
        "# Expected printed data:\n",
        "# 5\n",
        "# 6\n",
        "# 5\n",
        "# 4\n",
        "# 4\n",
        "# 7"
      ]
    },
    {
      "cell_type": "markdown",
      "metadata": {
        "id": "G82zEoST1IMy"
      },
      "source": [
        "When you are done with the above challenge, then:\n",
        "\n",
        "1. Change the text \"my result\" below with the text \"done\"\n",
        "2. Run the code block by pressing the play button."
      ]
    },
    {
      "cell_type": "code",
      "execution_count": null,
      "metadata": {
        "id": "_DbnSXaP1IMy"
      },
      "outputs": [],
      "source": [
        "# Submit Method\n",
        "assignment_id = \"006_working_with_multiple_data\"\n",
        "question_id = \"03_for_loop_3\"\n",
        "\n",
        "result = \"my result\"\n",
        "\n",
        "submit(student_id, name, assignment_id, result, question_id)"
      ]
    }
  ],
  "metadata": {
    "kernelspec": {
      "display_name": "Python 3 (ipykernel)",
      "language": "python",
      "name": "python3"
    },
    "language_info": {
      "codemirror_mode": {
        "name": "ipython",
        "version": 3
      },
      "file_extension": ".py",
      "mimetype": "text/x-python",
      "name": "python",
      "nbconvert_exporter": "python",
      "pygments_lexer": "ipython3",
      "version": "3.11.3"
    },
    "colab": {
      "provenance": []
    }
  },
  "nbformat": 4,
  "nbformat_minor": 0
}