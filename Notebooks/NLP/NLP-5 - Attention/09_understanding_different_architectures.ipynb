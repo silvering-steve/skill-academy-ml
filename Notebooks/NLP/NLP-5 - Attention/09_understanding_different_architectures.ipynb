{
  "cells": [
    {
      "cell_type": "markdown",
      "metadata": {
        "id": "SpPQoeV50Erm"
      },
      "source": [
        "# Understanding Different Transformer Architectures\n",
        "\n",
        "One of the unique aspects of the Transformer architecture is that it has different variants. In this notebook, we will explore the different variants of the Transformer architecture and how they differ from each other.\n"
      ]
    },
    {
      "cell_type": "markdown",
      "metadata": {
        "id": "UlYUT7BhAtnV"
      },
      "source": [
        "# Seq2Seq\n",
        "\n",
        "\n",
        "![Alt text](https://storage.googleapis.com/rg-ai-bootcamp/nlp/image-24.png)\n"
      ]
    },
    {
      "cell_type": "markdown",
      "metadata": {
        "id": "UvlOfzQVAtnW"
      },
      "source": [
        "Let's review our understanding in encoder-decoder architecture from RNN, as it will help our understanding how it's influenced in the Transformer architecture and how can we better understand later when we split the encoder and decoder into different parts."
      ]
    },
    {
      "cell_type": "markdown",
      "metadata": {
        "id": "PqXC30VNAtnX"
      },
      "source": [
        "## The essence of Encoder\n",
        "\n",
        "Encoder is essentially the layer of understanding the input sequence, it's converting the input sequence into a vector that's meaningful, understand pretty well what's the input is about, what the writer intend to, and then giving it's undertanding by writing it into a vector."
      ]
    },
    {
      "cell_type": "markdown",
      "metadata": {
        "id": "NipTP8SRAtnY"
      },
      "source": [
        "## The essence of Decoder\n",
        "\n",
        "Decoder is essentially the layer of generating the output sequence, it's converting the vector that was written by the encoder into a sequence of output."
      ]
    },
    {
      "cell_type": "markdown",
      "metadata": {
        "id": "LdrcPWt6AtnY"
      },
      "source": [
        "## Encoder-Decoder\n",
        "\n",
        "![Alt text](https://storage.googleapis.com/rg-ai-bootcamp/nlp/image-7.png)"
      ]
    },
    {
      "cell_type": "markdown",
      "metadata": {
        "id": "qIHV6y2iAtna"
      },
      "source": [
        "When we classify the Transformer architecture into the encoder and decoder, we can see that from above images is that the encoder is the one on the left, and the decoder is the one on the right. In decoder we can see an additional component called the \"Encoder decoder's Attention\", which is the one that's responsible for bringing the encoder's and decoder's attention together."
      ]
    },
    {
      "cell_type": "markdown",
      "metadata": {
        "id": "t-fQnlDQAtna"
      },
      "source": [
        "## Encoder's attention\n",
        "\n",
        "If we review our understanding of attention, it's basically: If you're currently looking at me, what other words in the sentence that you should be looking also? Because other words can hint you about the contexts that you should know about me."
      ]
    },
    {
      "cell_type": "code",
      "execution_count": null,
      "metadata": {
        "id": "IYJAM5CoAtnb",
        "outputId": "be7c6ef6-f83b-4c96-8ee6-a2e34dd3d624"
      },
      "outputs": [
        {
          "name": "stderr",
          "output_type": "stream",
          "text": [
            "Some weights of the model checkpoint at deepset/tinyroberta-squad2 were not used when initializing RobertaModel: ['qa_outputs.bias', 'qa_outputs.weight']\n",
            "- This IS expected if you are initializing RobertaModel from the checkpoint of a model trained on another task or with another architecture (e.g. initializing a BertForSequenceClassification model from a BertForPreTraining model).\n",
            "- This IS NOT expected if you are initializing RobertaModel from the checkpoint of a model that you expect to be exactly identical (initializing a BertForSequenceClassification model from a BertForSequenceClassification model).\n",
            "Some weights of RobertaModel were not initialized from the model checkpoint at deepset/tinyroberta-squad2 and are newly initialized: ['roberta.pooler.dense.weight', 'roberta.pooler.dense.bias']\n",
            "You should probably TRAIN this model on a down-stream task to be able to use it for predictions and inference.\n"
          ]
        },
        {
          "data": {
            "image/png": "[encoded data removed]",
            "text/plain": [
              "<Figure size 1200x200 with 2 Axes>"
            ]
          },
          "metadata": {},
          "output_type": "display_data"
        }
      ],
      "source": [
        "import torch\n",
        "from transformers import RobertaTokenizerFast, RobertaModel\n",
        "import numpy as np\n",
        "\n",
        "# Load pre-trained model (weights)\n",
        "# Load pre-trained model (weights)\n",
        "model = RobertaModel.from_pretrained('deepset/tinyroberta-squad2', output_attentions=True)\n",
        "\n",
        "# Load pre-trained model tokenizer (vocabulary)\n",
        "tokenizer = RobertaTokenizerFast.from_pretrained('deepset/tinyroberta-squad2')\n",
        "\n",
        "def visualize_self_attention_in_context(sentence_A, sentence_B, target_word):\n",
        "    # Tokenize sentences\n",
        "    inputs = tokenizer.encode_plus(sentence_A, sentence_B, return_tensors='pt', add_special_tokens=True)\n",
        "    input_ids = inputs['input_ids'].to('cpu')\n",
        "\n",
        "    # Model forward pass\n",
        "    model.eval()\n",
        "    with torch.no_grad():\n",
        "        outputs = model(input_ids)\n",
        "\n",
        "    # Attention from all layers and all heads\n",
        "    attentions_layers = np.array([layer[0, :, :, :].detach().numpy() for layer in outputs.attentions])\n",
        "\n",
        "    # Mean attention across all heads for each layer\n",
        "    attentions_heads_mean = attentions_layers.mean(axis=1)\n",
        "\n",
        "    # Mean attention across all layers\n",
        "    attentions_all_mean = attentions_heads_mean.mean(axis=0)\n",
        "\n",
        "    token_list = tokenizer.convert_ids_to_tokens(input_ids[0])\n",
        "    sep_index = token_list.index('</s>')\n",
        "\n",
        "    # Focusing on self-attention within sentence_A (offsetting indices for </s> and <s> tags)\n",
        "    attentions_all_mean_modified = attentions_all_mean[1:sep_index, 1:sep_index]\n",
        "\n",
        "    # Normalize attention scores for each word\n",
        "    attentions_all_mean_modified = (attentions_all_mean_modified - attentions_all_mean_modified.min(axis=1, keepdims=True)) / \\\n",
        "                                   (attentions_all_mean_modified.max(axis=1, keepdims=True) - attentions_all_mean_modified.min(axis=1, keepdims=True))\n",
        "\n",
        "    token_list_A_modified = [t.lstrip('Ġ') for t in token_list[1:sep_index]]\n",
        "\n",
        "    # Extract index of the target word\n",
        "    try:\n",
        "        target_index = token_list_A_modified.index(target_word)\n",
        "    except ValueError:\n",
        "        print(f\"Target word '{target_word}' not found. Please ensure it is part of sentence_A.\")\n",
        "        return\n",
        "\n",
        "    # Selecting attention weights for the target word\n",
        "    target_word_attentions = attentions_all_mean_modified[target_index, :]\n",
        "\n",
        "    # The code below visualizes attention distribution using seaborn as a heat map.\n",
        "    plt.figure(figsize=(12, 2))\n",
        "    sns.heatmap(np.expand_dims(target_word_attentions, axis=0),\n",
        "                xticklabels=token_list_A_modified,\n",
        "                yticklabels=[target_word],\n",
        "                linewidths=0.1,\n",
        "                cmap='coolwarm')\n",
        "    plt.show()\n",
        "\n",
        "# Usage\n",
        "sentence_A = \"I love swimming, I love coding, and my name is Imam\"\n",
        "sentence_B = \"what's my name?\"\n",
        "target_word = \"name\"\n",
        "visualize_self_attention_in_context(sentence_A, sentence_B, target_word)"
      ]
    },
    {
      "cell_type": "markdown",
      "metadata": {
        "id": "J5sK1BtAAtnd"
      },
      "source": [
        "As you can see above, when we're trying to check the attention of the word \"name\", we can see that we're being hinted at the word \"my\", \"is\", and \"Imam\". We can see that if we want to get the whole context of the word \"name\", these words are basically the ones that we should be looking at.\n",
        "\n",
        "- \"my\" is the one that's hinting that the word \"name\" in the sentence is referring to the speaker, not any third person.\n",
        "- \"is\" is the one that's hinting that the word \"name\" is referring to singular, not plural, this hint can be predicted from the word \"my\" as well.\n",
        "- \"Imam\" is the one that's hinting that the word \"name\" is referring to the name \"Imam\", not any other name.\n",
        "\n",
        "So basically the encoder layer is the one that's responsible to create this relationship between the words in the sentence, that later we'll pass to the decoder layer."
      ]
    },
    {
      "cell_type": "markdown",
      "metadata": {
        "id": "hDP7c7bRAtne"
      },
      "source": [
        "\n",
        "## Encoder encode every word at the same time\n",
        "\n",
        "One thing to note is that in the encoder layer, we're encoding every word at the same time, so when we use the same example:\n",
        "\n",
        "> I love swimming, I love coding, and my name is Imam\n",
        "\n",
        "We're encoding the word \"I\" at the same time as the word \"love\", and the word \"love\" at the same time as the word \"swimming\", and so on. This is different from the RNN architecture, where we're encoding the word \"I\" first, then the word \"love\", and so on. This is one of the reason why the Transformer architecture is faster than the RNN architecture, because we're encoding every word at the same time, enabling us to parallelize the computation."
      ]
    },
    {
      "cell_type": "markdown",
      "metadata": {
        "id": "R0Vi4JNnAtne"
      },
      "source": [
        "## Decoder's regressive property\n",
        "\n",
        "The difference between the encoder and decoder is that the decoder is regressive, meaning that it's generating the output sequence one word at a time, from left to right. It's much like the RNN architecture, where we're generating the output sequence one word at a time, the last word will be the input for the next word."
      ]
    },
    {
      "cell_type": "markdown",
      "metadata": {
        "id": "tospqLIvAtne"
      },
      "source": [
        "## Decoder's attention\n",
        "\n",
        "Decoder's attention follow the regressive property, meaning that attention scoring are generated from left to right. The idea of the decoder's attention is simple, based on what we've generated so far, what other words in the output sequence that might give hint to the next word that we're going to generate?"
      ]
    },
    {
      "cell_type": "code",
      "execution_count": null,
      "metadata": {
        "id": "rbRVHJXKAtnf",
        "outputId": "dd584373-cb89-4f0c-f096-8f033469203d",
        "colab": {
          "referenced_widgets": [
            "68396523019747dca2029d2c70e39461",
            "61fb0cdcb2e646aba75d0a5be241a7de",
            "a5dcf15ffe8246e492f5fba5f1bd66c6",
            "259e76aa9c584b879050c9382d78fb91",
            "e707c9850fef4052abece4710aa8d91f",
            "e1b8258173ab4a9d89a27dda000c37fc"
          ]
        }
      },
      "outputs": [
        {
          "data": {
            "application/vnd.jupyter.widget-view+json": {
              "model_id": "68396523019747dca2029d2c70e39461",
              "version_major": 2,
              "version_minor": 0
            },
            "text/plain": [
              "Downloading (…)okenizer_config.json:   0%|          | 0.00/2.32k [00:00<?, ?B/s]"
            ]
          },
          "metadata": {},
          "output_type": "display_data"
        },
        {
          "data": {
            "application/vnd.jupyter.widget-view+json": {
              "model_id": "61fb0cdcb2e646aba75d0a5be241a7de",
              "version_major": 2,
              "version_minor": 0
            },
            "text/plain": [
              "Downloading (…)ve/main/spiece.model:   0%|          | 0.00/792k [00:00<?, ?B/s]"
            ]
          },
          "metadata": {},
          "output_type": "display_data"
        },
        {
          "data": {
            "application/vnd.jupyter.widget-view+json": {
              "model_id": "a5dcf15ffe8246e492f5fba5f1bd66c6",
              "version_major": 2,
              "version_minor": 0
            },
            "text/plain": [
              "Downloading (…)/main/tokenizer.json:   0%|          | 0.00/1.39M [00:00<?, ?B/s]"
            ]
          },
          "metadata": {},
          "output_type": "display_data"
        },
        {
          "data": {
            "application/vnd.jupyter.widget-view+json": {
              "model_id": "259e76aa9c584b879050c9382d78fb91",
              "version_major": 2,
              "version_minor": 0
            },
            "text/plain": [
              "Downloading (…)lve/main/config.json:   0%|          | 0.00/1.21k [00:00<?, ?B/s]"
            ]
          },
          "metadata": {},
          "output_type": "display_data"
        },
        {
          "data": {
            "application/vnd.jupyter.widget-view+json": {
              "model_id": "e707c9850fef4052abece4710aa8d91f",
              "version_major": 2,
              "version_minor": 0
            },
            "text/plain": [
              "Downloading pytorch_model.bin:   0%|          | 0.00/242M [00:00<?, ?B/s]"
            ]
          },
          "metadata": {},
          "output_type": "display_data"
        },
        {
          "data": {
            "application/vnd.jupyter.widget-view+json": {
              "model_id": "e1b8258173ab4a9d89a27dda000c37fc",
              "version_major": 2,
              "version_minor": 0
            },
            "text/plain": [
              "Downloading (…)neration_config.json:   0%|          | 0.00/147 [00:00<?, ?B/s]"
            ]
          },
          "metadata": {},
          "output_type": "display_data"
        }
      ],
      "source": [
        "# Load model directly\n",
        "from transformers import AutoTokenizer, AutoModelForSeq2SeqLM\n",
        "\n",
        "tokenizer = AutoTokenizer.from_pretrained(\"t5-small\")\n",
        "model = AutoModelForSeq2SeqLM.from_pretrained(\"t5-small\", output_attentions=True)"
      ]
    },
    {
      "cell_type": "code",
      "execution_count": null,
      "metadata": {
        "id": "jgpTh1UAAtnf",
        "outputId": "a59c12fc-826a-4c16-e49f-d45acaf1b4a4"
      },
      "outputs": [
        {
          "name": "stdout",
          "output_type": "stream",
          "text": [
            "Tokenized word list:\n",
            "['Ich', 'liebe', 'Schwimm', 'en', ',', '', 'ich', 'liebe', 'Cod', 'ierung', ',', 'und', 'mein', 'Name', 'ist']\n"
          ]
        },
        {
          "data": {
            "image/png": "[encoded data removed]",
            "text/plain": [
              "<Figure size 1200x200 with 2 Axes>"
            ]
          },
          "metadata": {},
          "output_type": "display_data"
        }
      ],
      "source": [
        "def visualize_self_attention_in_context(english_sentence, german_translation_part, target_word):\n",
        "    # Encode input and target sentences\n",
        "    input_ids = tokenizer.encode(\"translate English to German: \"+english_sentence, return_tensors='pt')\n",
        "    decoder_input_ids = tokenizer.encode(german_translation_part, return_tensors='pt')\n",
        "\n",
        "    # Model forward pass\n",
        "    model.eval()\n",
        "    with torch.no_grad():\n",
        "        outputs = model(input_ids=input_ids, decoder_input_ids=decoder_input_ids)\n",
        "\n",
        "    # Attention from all layers and all heads\n",
        "    attentions_layers = np.array([layer[0, :, :, :].detach().numpy() for layer in outputs.decoder_attentions])\n",
        "\n",
        "    # Mean attention across all heads for each layer\n",
        "    attentions_heads_mean = attentions_layers.mean(axis=1)\n",
        "\n",
        "    # Mean attention across all layers\n",
        "    attentions_all_mean = attentions_heads_mean.mean(axis=0)\n",
        "\n",
        "    token_list = tokenizer.convert_ids_to_tokens(decoder_input_ids[0])\n",
        "\n",
        "    # Normalize attention scores for each word\n",
        "    attentions_all_mean = (attentions_all_mean - attentions_all_mean.min(axis=1, keepdims=True)) / \\\n",
        "                          (attentions_all_mean.max(axis=1, keepdims=True) - attentions_all_mean.min(axis=1, keepdims=True))\n",
        "\n",
        "    # Strip the special characters added by the tokenizer\n",
        "    token_list = [t.lstrip('Ġ') for t in token_list]\n",
        "\n",
        "# Exclude </s> from the encoder tokens and attentions\n",
        "    if '</s>' in token_list:\n",
        "        end_index = token_list.index('</s>')\n",
        "        token_list = token_list[:end_index]\n",
        "        attentions_all_mean = attentions_all_mean[:, :end_index]\n",
        "\n",
        "    # Find all indices of the target word\n",
        "    target_indices = [i for i, token in enumerate(token_list) if target_word in token]\n",
        "\n",
        "    # Ensure there's at least one occurrence of the target word\n",
        "    if not target_indices:\n",
        "        print(f\"Target word '{target_word}' not found. Please ensure it is part of german_translation_part.\")\n",
        "        return\n",
        "\n",
        "    # Selecting attention weights for the target word\n",
        "    target_word_attentions = np.mean([attentions_all_mean[i, :] for i in target_indices], axis=0)\n",
        "\n",
        "    print(\"Tokenized word list:\")\n",
        "    print([t.replace('▁', '') for t in token_list])\n",
        "\n",
        "    # The code below visualizes attention distribution using seaborn as a heat map.\n",
        "    plt.figure(figsize=(12, 2))\n",
        "    sns.heatmap(np.expand_dims(target_word_attentions, axis=0),\n",
        "                xticklabels=[t.rstrip('_') for t in token_list],\n",
        "                yticklabels=[target_word],\n",
        "                linewidths=0.1,\n",
        "                cmap='coolwarm')\n",
        "    plt.show()\n",
        "\n",
        "# Usage\n",
        "english_sentence = \"I love swimming, I love coding, and my name is Imam\"\n",
        "german_translation_part = \"Ich liebe Schwimmen, ich liebe Codierung, und mein Name ist\"\n",
        "target_word = \"ist\"\n",
        "visualize_self_attention_in_context(english_sentence, german_translation_part, target_word)"
      ]
    },
    {
      "cell_type": "markdown",
      "metadata": {
        "id": "ZwiY8sodAtng"
      },
      "source": [
        "As you can see above this sentence:\n",
        "\n",
        "> I love swimming, I love coding, and my name is Imam\n",
        "\n",
        "Is already translated into this sentence:\n",
        "\n",
        "> Ich liebe Schwimmen, ich liebe Codierung, und mein Name ist\n",
        "\n",
        "But we're still missing one last translation, the name \"Imam\". So above chart you can see that the model giving hint that the next word should be highly related to \"Name\", \"ist\", but the \"mein\", and \"und\" might not be that needed, but can still give you hint, so it's lower in score.\n",
        "\n",
        "So basically the decoder attention is the one that's responsible to give hints of what might be needed to generate the next word in the output sequence."
      ]
    },
    {
      "cell_type": "markdown",
      "metadata": {
        "id": "VIKXOKWUAtng"
      },
      "source": [
        "# Encoder-decoder attention\n",
        "\n",
        "Encoder-decoder attention purpose is aligning the encoder's and decoder's attention together, so we can get hints what the output should be. Remember again:\n",
        "\n",
        "- Encoder has all words relationship on the input encoded, it's doing it all at the same time.\n",
        "- Then decoder is generating the output sequence one word at a time, first it will go through the decoder's attention, then it will go through this encoder-decoder attention\n",
        "\n",
        "So decoder has basically know what kind of the word should be in the next word, and then encoder-decoder attention will help to check from the encoder's attention, what word should be next, with hints given by the decoder's attention."
      ]
    },
    {
      "cell_type": "code",
      "execution_count": null,
      "metadata": {
        "id": "-xfPgZQbAtng",
        "outputId": "52c8a4b0-26f8-4a62-d750-f43daeb4c281"
      },
      "outputs": [
        {
          "name": "stdout",
          "output_type": "stream",
          "text": [
            "Tokenized word list:\n",
            "['Ich', 'liebe', 'Schwimm', 'en', ',', '', 'ich', 'liebe', 'Cod', 'ierung', ',', 'und', 'mein', '</s>']\n"
          ]
        },
        {
          "data": {
            "image/png": "[encoded data removed]",
            "text/plain": [
              "<Figure size 1200x200 with 2 Axes>"
            ]
          },
          "metadata": {},
          "output_type": "display_data"
        }
      ],
      "source": [
        "import torch\n",
        "from transformers import AutoTokenizer, AutoModelForSeq2SeqLM\n",
        "import numpy as np\n",
        "\n",
        "# Load pre-trained model (weights)\n",
        "model = AutoModelForSeq2SeqLM.from_pretrained('t5-small', output_attentions=True)\n",
        "# Load pre-trained model tokenizer (vocabulary)\n",
        "tokenizer = AutoTokenizer.from_pretrained('t5-small')\n",
        "\n",
        "def visualize_cross_attention_in_context(english_sentence, german_translation_part, target_word):\n",
        "    # Encode input and target sentences\n",
        "    input_text = \"translate English to German: \" + english_sentence\n",
        "    input_ids = tokenizer.encode(input_text, return_tensors='pt')\n",
        "    decoder_input_ids = tokenizer.encode(german_translation_part, return_tensors='pt')\n",
        "\n",
        "    # Model forward pass\n",
        "    model.eval()\n",
        "    with torch.no_grad():\n",
        "        outputs = model(input_ids=input_ids, decoder_input_ids=decoder_input_ids)\n",
        "\n",
        "    # Cross-attention from all layers and all heads\n",
        "    cross_attentions_layers = np.array([layer[0, :, :, :].detach().numpy() for layer in outputs.cross_attentions])\n",
        "\n",
        "    # Mean cross-attention across all heads for each layer\n",
        "    cross_attentions_heads_mean = cross_attentions_layers.mean(axis=1)\n",
        "\n",
        "    # Mean cross-attention across all layers\n",
        "    cross_attentions_all_mean = cross_attentions_heads_mean.mean(axis=0)\n",
        "\n",
        "    encoder_tokens = tokenizer.convert_ids_to_tokens(input_ids[0])\n",
        "    decoder_tokens = tokenizer.convert_ids_to_tokens(decoder_input_ids[0])\n",
        "\n",
        "    task_prefix_token_count = len(tokenizer.encode(\"translate English to German: \", return_tensors='pt')[0])\n",
        "    # Reduce tokens and attentions by the number of tokens in the task prefix\n",
        "    encoder_tokens = encoder_tokens[task_prefix_token_count:]\n",
        "    cross_attentions_all_mean = cross_attentions_all_mean[:, task_prefix_token_count:]\n",
        "\n",
        "    # Exclude </s> from the encoder tokens and attentions\n",
        "    if '</s>' in encoder_tokens:\n",
        "        end_index = encoder_tokens.index('</s>')\n",
        "        encoder_tokens = encoder_tokens[:end_index]\n",
        "        cross_attentions_all_mean = cross_attentions_all_mean[:, :end_index]\n",
        "\n",
        "    # Find all indices of the target word in the German sentence\n",
        "    target_indices = [i for i, token in enumerate(decoder_tokens) if target_word in token]\n",
        "\n",
        "    if not target_indices:\n",
        "        print(f\"Target word '{target_word}' not found. Please make sure it is part of german_translation_part.\")\n",
        "        return\n",
        "\n",
        "    # Selecting attention weights for the target word\n",
        "    target_word_attentions = np.mean([cross_attentions_all_mean[i, :] for i in target_indices], axis=0)\n",
        "\n",
        "    print(\"Tokenized word list:\")\n",
        "    print([t.replace('▁', '') for t in decoder_tokens])\n",
        "\n",
        "    # Visualize cross-attention distribution using seaborn as a heat map\n",
        "    plt.figure(figsize=(12, 2))\n",
        "    sns.heatmap(np.expand_dims(target_word_attentions, axis=0),\n",
        "                xticklabels=encoder_tokens,\n",
        "                yticklabels=[target_word],\n",
        "                linewidths=0.1,\n",
        "                cmap='coolwarm')\n",
        "    plt.show()\n",
        "\n",
        "# Usage\n",
        "english_sentence = \"I love swimming, I love coding, and my name is Imam\"\n",
        "german_translation_part = \"Ich liebe Schwimmen, ich liebe Codierung, und mein\"\n",
        "target_word = \"mein\"\n",
        "visualize_cross_attention_in_context(english_sentence, german_translation_part, target_word)"
      ]
    },
    {
      "cell_type": "markdown",
      "metadata": {
        "id": "css3UOcBAtng"
      },
      "source": [
        "> Ich liebe Schwimmen, ich liebe Codierung, und mein\n",
        "\n",
        "As you can see above we just translated until \"mein\", and on above chart we can see that the decoder's attention is giving hint that the next word should be highly related to the English word \"name\", and \"my\"."
      ]
    },
    {
      "cell_type": "markdown",
      "metadata": {
        "id": "g5oZnJl8Atnh"
      },
      "source": [
        "# Encoder Only Architecture\n",
        "\n",
        "As we already told above, the encoder is the one that's responsible to understand the input sequence. This layer is the one who manage to create relation on the input, and in effect, the layer who really understand the input sequence is this layer.\n",
        "\n",
        "Most of the time if we're using this encoder only architecture, we're using it for task that highly need on understanding the input sequence, understand the relation between the words in the input sequence. Some example of the task that we can use this encoder only architecture is:\n",
        "\n",
        "- Sentiment analysis\n",
        "- Text classification\n",
        "- POS tagging"
      ]
    },
    {
      "cell_type": "markdown",
      "metadata": {
        "id": "mp8q0EZaAtnh"
      },
      "source": [
        "# Decoder Only Architecture\n",
        "\n",
        "The decoder only is more tricky to understand. This layer is mostly used in a text generation task, where we're generating the output sequence one word at a time. This layer basically has no way to \"understand\" the input sequence, and it's only relying on the decoder's attention to give hints on what the next word should be."
      ]
    },
    {
      "cell_type": "code",
      "execution_count": null,
      "metadata": {
        "id": "hezyNMOcAtnh",
        "outputId": "e8ae8fd1-e9d0-4a63-980b-bc53fdad7d55"
      },
      "outputs": [
        {
          "name": "stdout",
          "output_type": "stream",
          "text": [
            "Sentence tokenized:\n",
            "['After', 'Ġseveral', 'Ġmeeting', 'Ġwith', 'Ġthe', 'Ġclient', ',', 'Ġthe', 'Ġteam', 'Ġfinally', 'Ġdecided', 'Ġto', 'Ġaccept', 'Ġthe']\n"
          ]
        },
        {
          "data": {
            "image/png": "[encoded data removed]",
            "text/plain": [
              "<Figure size 1200x200 with 2 Axes>"
            ]
          },
          "metadata": {},
          "output_type": "display_data"
        }
      ],
      "source": [
        "import torch\n",
        "import seaborn as sns\n",
        "import matplotlib.pyplot as plt\n",
        "from transformers import GPT2Model, GPT2Tokenizer\n",
        "import numpy as np\n",
        "\n",
        "# Load pre-trained model (weights) & tokenizer\n",
        "model = GPT2Model.from_pretrained('gpt2', output_attentions=True)\n",
        "tokenizer = GPT2Tokenizer.from_pretrained('gpt2')\n",
        "\n",
        "def visualize_self_attention_in_context(sentence):\n",
        "    # Model forward pass\n",
        "    model.eval()\n",
        "    input_ids = tokenizer.encode(sentence, return_tensors='pt')\n",
        "\n",
        "    with torch.no_grad():\n",
        "        outputs = model(input_ids=input_ids)\n",
        "\n",
        "    # Extract the attention values\n",
        "    attentions_layers = np.array([layer[0, :, :, :].detach().numpy() for layer in outputs.attentions])\n",
        "\n",
        "    # Compute the mean attention values across all heads for each layer\n",
        "    attentions_heads_mean = attentions_layers.mean(axis=1)\n",
        "\n",
        "    # Compute the mean attention values across all layers\n",
        "    attentions_all_mean = attentions_heads_mean.mean(axis=0)\n",
        "\n",
        "    tokens = tokenizer.convert_ids_to_tokens(input_ids[0])\n",
        "\n",
        "    # Compute attention values for the last token (the latest prediction)\n",
        "    attention_for_last_token = attentions_all_mean[-1, :]\n",
        "\n",
        "    # Print out the tokens\n",
        "    print(\"Sentence tokenized:\")\n",
        "    print(tokens)\n",
        "\n",
        "    # Visualize using seaborn\n",
        "    plt.figure(figsize=(12, 2))\n",
        "    sns.heatmap(np.expand_dims(attention_for_last_token, axis=0), xticklabels=tokens, cmap='coolwarm')\n",
        "    plt.show()\n",
        "\n",
        "\n",
        "# Usage\n",
        "sentence = \"After several meeting with the client, the team finally decided to accept the\"\n",
        "visualize_self_attention_in_context(sentence)"
      ]
    },
    {
      "cell_type": "markdown",
      "metadata": {
        "id": "aLmZWNR2Atnh"
      },
      "source": [
        "On above example we see the visualization of the attention score of above GPT-2 model that it think will help the later fully connected layer to generate the next word. For GPT-2, for some reason it gives a hight attention score to the word \"After\" or any word that become the first word of the input. It's likely to make sure the model later understand the need to know the first word by default before caring any other words.\n",
        "\n",
        "Let's try to remove the first word just for the sake of understanding what other words will be given high attention score:"
      ]
    },
    {
      "cell_type": "code",
      "execution_count": null,
      "metadata": {
        "id": "BEJV2eMFAtnh",
        "outputId": "5e425401-3f48-4d85-8ca0-eb6f006570c6"
      },
      "outputs": [
        {
          "name": "stdout",
          "output_type": "stream",
          "text": [
            "Sentence tokenized:\n",
            "['Ġseveral', 'Ġhours', 'Ġof', 'Ġdiscussion', 'Ġwith', 'Ġthe', 'Ġclient', ',', 'Ġthe', 'Ġteam', 'Ġfinally', 'Ġdecided', 'Ġto', 'Ġaccept', 'Ġthe']\n"
          ]
        },
        {
          "data": {
            "image/png": "[encoded data removed]",
            "text/plain": [
              "<Figure size 1200x200 with 2 Axes>"
            ]
          },
          "metadata": {},
          "output_type": "display_data"
        }
      ],
      "source": [
        "import torch\n",
        "import seaborn as sns\n",
        "import matplotlib.pyplot as plt\n",
        "from transformers import GPT2Model, GPT2Tokenizer\n",
        "import numpy as np\n",
        "\n",
        "# Load pre-trained model (weights) & tokenizer\n",
        "model = GPT2Model.from_pretrained('gpt2', output_attentions=True)\n",
        "tokenizer = GPT2Tokenizer.from_pretrained('gpt2')\n",
        "\n",
        "def visualize_self_attention_in_context(sentence):\n",
        "    # Model forward pass\n",
        "    model.eval()\n",
        "    input_ids = tokenizer.encode(sentence, return_tensors='pt')\n",
        "\n",
        "    with torch.no_grad():\n",
        "        outputs = model(input_ids=input_ids)\n",
        "\n",
        "    # Extract the attention values\n",
        "    attentions_layers = np.array([layer[0, :, :, :].detach().numpy() for layer in outputs.attentions])\n",
        "\n",
        "    # Compute the mean attention values across all heads for each layer\n",
        "    attentions_heads_mean = attentions_layers.mean(axis=1)\n",
        "\n",
        "    # Compute the mean attention values across all layers\n",
        "    attentions_all_mean = attentions_heads_mean.mean(axis=0)\n",
        "\n",
        "    tokens = tokenizer.convert_ids_to_tokens(input_ids[0])\n",
        "\n",
        "    # Compute attention values for the last token (the latest prediction)\n",
        "    attention_for_last_token = attentions_all_mean[-1, :]\n",
        "\n",
        "    # Remove the attention to the first word and its corresponding token\n",
        "    attention_for_last_token = attention_for_last_token[1:]\n",
        "    tokens = tokens[1:]\n",
        "\n",
        "    # Print out the tokens\n",
        "    print(\"Sentence tokenized:\")\n",
        "    print(tokens)\n",
        "\n",
        "    # Visualize using seaborn\n",
        "    plt.figure(figsize=(12, 2))\n",
        "    sns.heatmap(np.expand_dims(attention_for_last_token, axis=0), xticklabels=tokens, cmap='coolwarm')\n",
        "    plt.show()\n",
        "\n",
        "\n",
        "# Usage\n",
        "sentence = \"After several hours of discussion with the client, the team finally decided to accept the\"\n",
        "visualize_self_attention_in_context(sentence)"
      ]
    },
    {
      "cell_type": "markdown",
      "metadata": {
        "id": "oD2duwWEAtni"
      },
      "source": [
        "We'll see that the word \"accept\", \"the\", \"to\", and \"client\" are given high attention score. So we can see that just by using this, without having the need of \"understanding\" the input sequence (encoder), we might still be able to generate a good output sequence.\n",
        "\n",
        "Like what's told, this decoder only architecture is mostly used in text generation task, where we're generating the output without having the need to understand the input sequence.\n",
        "\n",
        "But in reality using something like GPT-3, there is a realization that we can still use this decoder only architecture to do some task classification or other task that seemingly need to understand the input sequence, as long as we're using a big enough model, and the task is prepared in a structure of text generation task.\n",
        "\n",
        "Even though technically using decoder-only architecture, the score might not be as good as using architecture that's using encoder, or even if it comes close it can be highly expensive to train or use the model."
      ]
    },
    {
      "cell_type": "markdown",
      "metadata": {
        "id": "iq2zGTm-Atni"
      },
      "source": [
        "## Additional Materials\n",
        "\n",
        "Youtube Videos\n",
        "- [Coding a Transformer from scratch on PyTorch, with full explanation, training and inference.](https://www.youtube.com/watch?v=ISNdQcPhsts)\n",
        "- [Illustrated Guide to Transformers Neural Network: A step by step explanation](https://www.youtube.com/watch?v=4Bdc55j80l8)\n",
        "\n",
        "Paper\n",
        "- [Attention is all you need](https://arxiv.org/abs/1706.03762)\n",
        "- [BERT: Pre-training of Deep Bidirectional Transformers for Language Understanding](https://arxiv.org/abs/1810.04805)\n",
        "- [Language Models are Few-Shot Learners, Paper GPT-3](https://arxiv.org/abs/2005.14165)\n",
        "\n",
        "Excalidraw\n",
        "- [Excalidraw Link](https://excalidraw.com/#room=555d1bd0ae417beed7e2,h4FbRw56K9ACqgOukHN-LQ)\n"
      ]
    }
  ],
  "metadata": {
    "colab": {
      "provenance": []
    },
    "kernelspec": {
      "display_name": "Python 3 (ipykernel)",
      "language": "python",
      "name": "python3"
    },
    "language_info": {
      "codemirror_mode": {
        "name": "ipython",
        "version": 3
      },
      "file_extension": ".py",
      "mimetype": "text/x-python",
      "name": "python",
      "nbconvert_exporter": "python",
      "pygments_lexer": "ipython3",
      "version": "3.8.17"
    }
  },
  "nbformat": 4,
  "nbformat_minor": 0
}