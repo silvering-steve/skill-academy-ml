{
  "cells": [
    {
      "cell_type": "code",
      "execution_count": null,
      "metadata": {
        "id": "VFlR92Gd2hq6"
      },
      "outputs": [],
      "source": [
        "!pip install gensim\n",
        "!pip install transformers"
      ]
    },
    {
      "cell_type": "markdown",
      "metadata": {
        "id": "84UnUsdyhFRt"
      },
      "source": [
        "# Feature extraction\n",
        "\n",
        "In the previous session, we already getting teased at the concept of how our model can know which word is positive, and which is negative. When we're working on a sentiment classification task with Naive Bayes, there is one step before we can pushed our input to Naive Bayes classifier: Feature extraction.\n",
        "\n",
        "Feature extraction, like what we might've done on previous architecture like CNN, is a way to shape our features so our model can learn. In NLP it's basically converting our input of sentences to numbers.\n",
        "\n",
        "Feature extraction can be viewed like word embedding but a lot more simpler, which we'll learn the difference later in \"Word embedding section\""
      ]
    },
    {
      "cell_type": "markdown",
      "metadata": {
        "id": "K4M1jHTZfQBt"
      },
      "source": [
        "# Sheets for the math intution\n",
        "\n",
        "![](https://ik.imagekit.io/ffr6l4jaf5t/REA%20AI/image_SG9wtLLnk.png?updatedAt=1695362767430)\n",
        "\n",
        "For our learning we'll use this sheets to make us learn the math intuition behind what we'll learn later faster.\n",
        "\n",
        "https://docs.google.com/spreadsheets/d/1aGhICbKMUvzXjvHKd69sy0-cBdNqfcCMuz27AOLqZh8/edit?usp=sharing"
      ]
    },
    {
      "cell_type": "markdown",
      "metadata": {
        "id": "BslvE6AECHpc"
      },
      "source": [
        "# Bag-Of-Words\n",
        "\n",
        "Bag-of-words is a way to convert our tokenized input to matrix of numbers. The concept is really simple: Every word is having their own dimension in the matrix and for every sentence in our tokenized dataset will be converted to that matrix by counting how many times the word is occured on that sentenced.\n",
        "\n",
        "It's really simple when we're seeing the example:\n",
        "\n",
        "![](https://ik.imagekit.io/ffr6l4jaf5t/REA%20AI/image_HTrrXdT43.png?updatedAt=1695363358969)\n",
        "\n",
        "So for every word in our training set, it will have their own dedicated dimensions, and we just count in every sentence on how many each words occured.\n",
        "\n",
        "In reality, we can just pushed above scores right to Naive Bayes classifier, but we can too learn a simple update from BoW that can help Naive Bayes works better. The \"upgraded from BoW\" feature extraction method name is TF-IDF."
      ]
    },
    {
      "cell_type": "markdown",
      "metadata": {
        "id": "_VgzTVIeBQDi"
      },
      "source": [
        "# TF-IDF\n",
        "\n",
        "Let's break the name first so we can unmythified this \"scary\" term.\n",
        "\n",
        "TF - Term Frequency IDF - Inverse Document Frequency\n",
        "\n",
        "TF, term frequency, is basically bag-of-words, we count how frequent the term is being use in a single document, basically? Bag-of-words\n",
        "\n",
        "IDF is where the twist is: If a term is being used so often in **the whole dataset**, it will lower the score of that words.\n",
        "\n",
        "> I really like your performance on that stage, your words is so mesmerizing!\n",
        "\n",
        "> I don't like pineapple on pizza, the idea of it even not sounding too exciting\n",
        "\n",
        "If we're already removing stopwords, the concept of TF-IDF will help you further finding the \"neutral\" words that won't help on your text classification tasks. Just like the word \"I\" won't help on our sentiment classification task, but might be not be removed by our stopwords removal process as it's generally can be use for another task.\n",
        "\n",
        "TF-IDF helps us let the model know which words should be higher in their scoring towards classification.\n",
        "\n",
        "The term \"inverse\" in IDF itself is basically because we're inversing the quantity: If a word comes too many times, the score would be lower."
      ]
    },
    {
      "cell_type": "markdown",
      "metadata": {
        "id": "tRuaxqtDHJb7"
      },
      "source": [
        "# TF-IDF Math\n",
        "\n",
        "![](https://ik.imagekit.io/ffr6l4jaf5t/REA%20AI/image_xGBPsufXt.png?updatedAt=1695317984944)\n",
        "\n",
        "For our TF-IDF learning we'll use previous dataset that we use for our Bag-of-words, and let's see how TF-IDF will help us reducing importance of the word \"I'm\" as it's keep occuring throughout the whole dataset.\n",
        "\n",
        "## IDF calculation\n",
        "\n",
        "![](https://ik.imagekit.io/ffr6l4jaf5t/REA%20AI/image_SmK9SlPhX.png?updatedAt=1695319110470)\n",
        "\n",
        "The IDF calculation for a feature is as simple as:\n",
        "\n",
        "```\n",
        " ln(Total number of documents (datasets) / Number of documents with the feature in it)\n",
        "```\n",
        "\n",
        "After you do above steps for every single feature, you can see IDF score.\n",
        "\n",
        "## TF-IDF = TF x IDF\n",
        "\n",
        "![](https://ik.imagekit.io/ffr6l4jaf5t/REA%20AI/image_FleZfOk9F.png?updatedAt=1695320198870)\n",
        "\n",
        "The TF-IDF then can be calculated by simply multiplying the TF for all the inputs to the IDF. Then we'll see below score\n",
        "\n",
        "![](https://ik.imagekit.io/ffr6l4jaf5t/REA%20AI/image_M9prAVdJQn.png?updatedAt=1695320869332)\n",
        "\n",
        "As we can see above that words like \"I'm\", because it's seen basically in every dataset, using this to analyze the sentiment won't be useful. As for other words they're now prioritized by their occurence.\n",
        "\n",
        "Words like \"feeling\" get higher value than \"excited\", simply because our limited dataset has it less than word \"excited\". So, for words like this that rarely occured but in reality shouldn't affect a sentiment, our classification system should move forward to the next step: Using Naive Bayes."
      ]
    },
    {
      "cell_type": "markdown",
      "metadata": {
        "id": "08SI-qxlCYke"
      },
      "source": [
        "# Naive bayes classifier\n",
        "\n",
        "Naive bayes is one of the most simplest way to do a text classification without neural network. The concept is pretty much like what our intuitions: Finding words that can give hints towards any classification, while shouldn't give any classification to \"neutral words\" (words that shouldn't giving hints towards any classification).\n",
        "\n",
        "![](https://ik.imagekit.io/ffr6l4jaf5t/REA%20AI/image_ApIHWVTZc.png?updatedAt=1695355604042)\n",
        "\n",
        "The operation is simple for\n",
        "\n",
        "![](https://ik.imagekit.io/ffr6l4jaf5t/REA%20AI/image_8hwRd_gMH.png?updatedAt=1695355900645)\n",
        "\n",
        "Then we can divide the end score with the percentage of how many is the dataset of every classification is when compared to the total of the entire dataset. As for our current dataset we have 50% data on \"positive\" sentiment, and 50% data on \"negative\" sentiment (balanced dataset).\n",
        "\n",
        "![](https://ik.imagekit.io/ffr6l4jaf5t/REA%20AI/image_rddLANhSv.png?updatedAt=1695356383816)\n",
        "\n",
        "As you can see above using \"Naive bayes classifier\" we can get every words that are can hint that a sentiment is positive, negative, or neutral.\n",
        "\n",
        "Positive words would have higher score on the positive sentiment, negative words would have higher score on the negative sentiment, neutral words would have similar (or if there are difference, the difference won't be significant) score both on positive and negative.\n"
      ]
    },
    {
      "cell_type": "markdown",
      "metadata": {
        "id": "K85fmOZsJfGl"
      },
      "source": [
        "# Let's input our data!\n",
        "\n",
        "We can now try to input a sentence that our Naive Bayes never seen before:\n",
        "\n",
        "> I'm feeling really sad\n",
        "\n",
        "The steps is as simple as extract our features to something like below:\n",
        "\n",
        "![](https://ik.imagekit.io/ffr6l4jaf5t/REA%20AI/image_4RVkRT6-z.png?updatedAt=1695357154011)\n",
        "\n",
        "Then after that we multiply with our TF-IDF for each classification, then we'll get the score for each of word existing in our input.\n",
        "\n",
        "![](https://ik.imagekit.io/ffr6l4jaf5t/REA%20AI/image_sLQhz1jy8.png?updatedAt=1695361458532)\n",
        "\n",
        "After that to know what classification is our sentence is classified into according to our Naive Bayes we can just sum the per feature scores to a single score for each classsification.\n",
        "\n",
        "![](https://ik.imagekit.io/ffr6l4jaf5t/REA%20AI/image__XiuEBA_s.png?updatedAt=1695361865254)\n",
        "\n",
        "So according to our Naive Bayes, the sentence \"I'm feeling really sad\", classified into negative sentiment 💥."
      ]
    },
    {
      "cell_type": "markdown",
      "metadata": {
        "id": "d1ePGxJeErNF"
      },
      "source": [
        "## The \"naive\" part of \"naive bayes\"\n",
        "\n",
        "Naive bayes called naive because it's \"naively\" consider that every word is independent of each other.\n",
        "\n",
        "- I am not happy because she just left me\n",
        "\n",
        "Naive bayes will treat every word as independent, meaning it can't really \"negate\" above \"happy\" word to \"not happy\", as it doesn't really understand between more than a single feature (it can't create relation between \"not\" and \"happy\", and can't create conclusion that the word \"not\" meant to negate the \"happy\" word).\n",
        "\n",
        "There are of course other classification method other than \"Naive bayes\", even our feature extraction can be improved with more complex method that can somewhat make relation between one word and another without using deep learning.\n",
        "\n",
        "But in the end, machine learning without deep learning will make us harder to make sure our model understand context, and relations, between words. This is the part where neural networks really excels at when handling NLP: Understanding complex pattern of human words and also acting upon it.\n",
        "\n",
        "As we can see when learning \"Naive Bayes\", without neural network it's really hard to make a model really understand pattern.\n",
        "\n",
        "So let's try to upgrade our understanding and move on to NLP using deep learning!\n"
      ]
    }
  ],
  "metadata": {
    "colab": {
      "collapsed_sections": [
        "ViRsBE598aAY"
      ],
      "provenance": []
    },
    "kernelspec": {
      "display_name": "Python 3",
      "name": "python3"
    },
    "language_info": {
      "name": "python"
    }
  },
  "nbformat": 4,
  "nbformat_minor": 0
}