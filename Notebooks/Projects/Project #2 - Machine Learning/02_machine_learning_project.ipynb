{
 "cells": [
  {
   "cell_type": "markdown",
   "id": "3ccb0b85-67c6-4dfe-a6f9-138bb5e778ab",
   "metadata": {
    "id": "3ccb0b85-67c6-4dfe-a6f9-138bb5e778ab"
   },
   "source": [
    "# Project: Machine Learning"
   ]
  },
  {
   "cell_type": "markdown",
   "id": "911a145c-7d01-4210-9699-0e1fef80ff19",
   "metadata": {
    "id": "911a145c-7d01-4210-9699-0e1fef80ff19"
   },
   "source": [
    "**Instructions for Students:**\n",
    "\n",
    "Please carefully follow these steps to complete and submit your project:\n",
    "\n",
    "1. **Completing the Project**: You are required to work on and complete all tasks in the provided project. Be disciplined and ensure that you thoroughly engage with each task.\n",
    "   \n",
    "2. **Creating a Google Drive Folder**: Each of you must create a new folder on your Google Drive if you haven't already. This will be the repository for all your completed assignment and project files, aiding you in keeping your work organized and accessible.\n",
    "   \n",
    "3. **Uploading Completed Project**: Upon completion of your project, make sure to upload all necessary files, involving codes, reports, and related documents into the created Google Drive folder. Save this link in the 'Student Identity' section and also provide it as the last parameter in the `submit` function that has been provided.\n",
    "   \n",
    "4. **Sharing Folder Link**: You're required to share the link to your project Google Drive folder. This is crucial for the submission and evaluation of your project.\n",
    "   \n",
    "5. **Setting Permission toPublic**: Please make sure your Google Drive folder is set to public. This allows your instructor to access your solutions and assess your work correctly.\n",
    "\n",
    "Adhering to these procedures will facilitate a smooth project evaluation process for you and the reviewers."
   ]
  },
  {
   "cell_type": "markdown",
   "id": "8018f21d-d661-4ae4-a50d-9fb66feb291d",
   "metadata": {
    "id": "8018f21d-d661-4ae4-a50d-9fb66feb291d"
   },
   "source": [
    "## Student Identity"
   ]
  },
  {
   "cell_type": "code",
   "execution_count": 1,
   "id": "9fc57472-0432-474a-b1f7-c825edfc007a",
   "metadata": {
    "id": "9fc57472-0432-474a-b1f7-c825edfc007a",
    "ExecuteTime": {
     "end_time": "2024-01-20T08:08:23.517540831Z",
     "start_time": "2024-01-20T08:08:21.533762643Z"
    }
   },
   "outputs": [
    {
     "name": "stdout",
     "output_type": "stream",
     "text": [
      "Requirement already satisfied: rggrader in /home/steve/.conda/envs/skill-academy-ml/lib/python3.10/site-packages (0.1.6)\r\n",
      "Requirement already satisfied: requests in /home/steve/.conda/envs/skill-academy-ml/lib/python3.10/site-packages (from rggrader) (2.31.0)\r\n",
      "Requirement already satisfied: pandas in /home/steve/.conda/envs/skill-academy-ml/lib/python3.10/site-packages (from rggrader) (2.1.4)\r\n",
      "Requirement already satisfied: Pillow in /home/steve/.conda/envs/skill-academy-ml/lib/python3.10/site-packages (from rggrader) (10.1.0)\r\n",
      "Requirement already satisfied: numpy<2,>=1.22.4 in /home/steve/.conda/envs/skill-academy-ml/lib/python3.10/site-packages (from pandas->rggrader) (1.26.2)\r\n",
      "Requirement already satisfied: python-dateutil>=2.8.2 in /home/steve/.conda/envs/skill-academy-ml/lib/python3.10/site-packages (from pandas->rggrader) (2.8.2)\r\n",
      "Requirement already satisfied: pytz>=2020.1 in /home/steve/.conda/envs/skill-academy-ml/lib/python3.10/site-packages (from pandas->rggrader) (2023.3.post1)\r\n",
      "Requirement already satisfied: tzdata>=2022.1 in /home/steve/.conda/envs/skill-academy-ml/lib/python3.10/site-packages (from pandas->rggrader) (2023.3)\r\n",
      "Requirement already satisfied: charset-normalizer<4,>=2 in /home/steve/.conda/envs/skill-academy-ml/lib/python3.10/site-packages (from requests->rggrader) (3.3.2)\r\n",
      "Requirement already satisfied: idna<4,>=2.5 in /home/steve/.conda/envs/skill-academy-ml/lib/python3.10/site-packages (from requests->rggrader) (3.6)\r\n",
      "Requirement already satisfied: urllib3<3,>=1.21.1 in /home/steve/.conda/envs/skill-academy-ml/lib/python3.10/site-packages (from requests->rggrader) (2.1.0)\r\n",
      "Requirement already satisfied: certifi>=2017.4.17 in /home/steve/.conda/envs/skill-academy-ml/lib/python3.10/site-packages (from requests->rggrader) (2023.11.17)\r\n",
      "Requirement already satisfied: six>=1.5 in /home/steve/.conda/envs/skill-academy-ml/lib/python3.10/site-packages (from python-dateutil>=2.8.2->pandas->rggrader) (1.16.0)\r\n"
     ]
    }
   ],
   "source": [
    "# @title #### Student Identity\n",
    "student_id = \"REA3X5EN\" # @param {type:\"string\"}\n",
    "name = \"Steven Adi Santoso\" # @param {type:\"string\"}\n",
    "drive_link = \"https://drive.google.com/drive/folders/10NSMcDCiZ-aaZD5lq62Z07iGYbQ18j9S?usp=sharing\"  # @param {type:\"string\"}\n",
    "\n",
    "assignment_id = \"00_ml_project\"\n",
    "\n",
    "# Import grader package\n",
    "!pip install rggrader\n",
    "from rggrader import submit, submit_image"
   ]
  },
  {
   "cell_type": "markdown",
   "id": "d3b9e0f7-75d2-476a-9b29-07c1a3800925",
   "metadata": {
    "id": "d3b9e0f7-75d2-476a-9b29-07c1a3800925"
   },
   "source": [
    "## Project Description\n",
    "\n",
    "In this Machine Learning Project, you will create your own supervised Machine Learning (ML) model. We will use the full FIFA21 Dataset and we will identify players that are above average.\n",
    "\n",
    "We will use the column \"Overall\" with a treshold of 75 to define players that are 'Valuable'. This will become our target output which we need for a supervised ML model. Because we use the \"Overall\" as our target output, you cannot use \"Overall\" in your features, this will be explained further below.\n",
    "\n",
    "This project will provide a comprehensive overview of your abilities in machine learning, from understanding the problem, choosing the right model, training, and optimizing it."
   ]
  },
  {
   "cell_type": "markdown",
   "id": "84fea308-2c09-472c-a5ec-e4ba0900d496",
   "metadata": {
    "id": "84fea308-2c09-472c-a5ec-e4ba0900d496"
   },
   "source": [
    "## Grading Criteria\n",
    "\n",
    "Your score will be awarded based on the following criteria:\n",
    "* 100: The model has an accuracy of more than 80% and an F1 score of more than 85%. This model is excellent and demonstrates a strong understanding of the task.\n",
    "* 90: The model has an accuracy of more than 75% and an F1 score of more than 80%. This model is very good, with some room for improvement.\n",
    "* 80: The model has an accuracy of more than 70% and an F1 score between 70% and 80%. This model is fairly good but needs improvement in balancing precision and recall.\n",
    "* 70: The model has an accuracy of more than 65% and an F1 score between 60% and 70%. This model is below average and needs significant improvement.\n",
    "* 60 or below: The model has an accuracy of less than 65% or an F1 score of less than 60%, or the student did not submit the accuracy and F1 score. This model is poor and needs considerable improvement."
   ]
  },
  {
   "cell_type": "markdown",
   "id": "915df21b-3a7e-444a-999d-c830acdbe7f2",
   "metadata": {
    "id": "915df21b-3a7e-444a-999d-c830acdbe7f2"
   },
   "source": [
    "Rmember to make a copy of this notebook in your Google Drive and work in your own copy.\n",
    "\n",
    "Happy modeling!\n",
    "\n",
    ">Note: If you get the accuracy of 100% and F1 score of 100%, while it may earn you good grades, it's an indication of overfitting."
   ]
  },
  {
   "cell_type": "code",
   "execution_count": 2,
   "id": "62606ca1-5868-4c65-93ef-1d6ee8d8d59a",
   "metadata": {
    "id": "62606ca1-5868-4c65-93ef-1d6ee8d8d59a",
    "ExecuteTime": {
     "end_time": "2024-01-20T08:08:28.498329572Z",
     "start_time": "2024-01-20T08:08:23.523929534Z"
    }
   },
   "outputs": [
    {
     "name": "stdout",
     "output_type": "stream",
     "text": [
      "Requirement already satisfied: scikit-learn in /home/steve/.conda/envs/skill-academy-ml/lib/python3.10/site-packages (1.4.0)\r\n",
      "Requirement already satisfied: numpy<2.0,>=1.19.5 in /home/steve/.conda/envs/skill-academy-ml/lib/python3.10/site-packages (from scikit-learn) (1.26.2)\r\n",
      "Requirement already satisfied: scipy>=1.6.0 in /home/steve/.conda/envs/skill-academy-ml/lib/python3.10/site-packages (from scikit-learn) (1.11.4)\r\n",
      "Requirement already satisfied: joblib>=1.2.0 in /home/steve/.conda/envs/skill-academy-ml/lib/python3.10/site-packages (from scikit-learn) (1.3.2)\r\n",
      "Requirement already satisfied: threadpoolctl>=2.0.0 in /home/steve/.conda/envs/skill-academy-ml/lib/python3.10/site-packages (from scikit-learn) (3.2.0)\r\n",
      "Requirement already satisfied: seaborn in /home/steve/.conda/envs/skill-academy-ml/lib/python3.10/site-packages (0.13.1)\r\n",
      "Requirement already satisfied: numpy!=1.24.0,>=1.20 in /home/steve/.conda/envs/skill-academy-ml/lib/python3.10/site-packages (from seaborn) (1.26.2)\r\n",
      "Requirement already satisfied: pandas>=1.2 in /home/steve/.conda/envs/skill-academy-ml/lib/python3.10/site-packages (from seaborn) (2.1.4)\r\n",
      "Requirement already satisfied: matplotlib!=3.6.1,>=3.4 in /home/steve/.conda/envs/skill-academy-ml/lib/python3.10/site-packages (from seaborn) (3.8.2)\r\n",
      "Requirement already satisfied: contourpy>=1.0.1 in /home/steve/.conda/envs/skill-academy-ml/lib/python3.10/site-packages (from matplotlib!=3.6.1,>=3.4->seaborn) (1.2.0)\r\n",
      "Requirement already satisfied: cycler>=0.10 in /home/steve/.conda/envs/skill-academy-ml/lib/python3.10/site-packages (from matplotlib!=3.6.1,>=3.4->seaborn) (0.12.1)\r\n",
      "Requirement already satisfied: fonttools>=4.22.0 in /home/steve/.conda/envs/skill-academy-ml/lib/python3.10/site-packages (from matplotlib!=3.6.1,>=3.4->seaborn) (4.46.0)\r\n",
      "Requirement already satisfied: kiwisolver>=1.3.1 in /home/steve/.conda/envs/skill-academy-ml/lib/python3.10/site-packages (from matplotlib!=3.6.1,>=3.4->seaborn) (1.4.5)\r\n",
      "Requirement already satisfied: packaging>=20.0 in /home/steve/.conda/envs/skill-academy-ml/lib/python3.10/site-packages (from matplotlib!=3.6.1,>=3.4->seaborn) (23.2)\r\n",
      "Requirement already satisfied: pillow>=8 in /home/steve/.conda/envs/skill-academy-ml/lib/python3.10/site-packages (from matplotlib!=3.6.1,>=3.4->seaborn) (10.1.0)\r\n",
      "Requirement already satisfied: pyparsing>=2.3.1 in /home/steve/.conda/envs/skill-academy-ml/lib/python3.10/site-packages (from matplotlib!=3.6.1,>=3.4->seaborn) (3.1.1)\r\n",
      "Requirement already satisfied: python-dateutil>=2.7 in /home/steve/.conda/envs/skill-academy-ml/lib/python3.10/site-packages (from matplotlib!=3.6.1,>=3.4->seaborn) (2.8.2)\r\n",
      "Requirement already satisfied: pytz>=2020.1 in /home/steve/.conda/envs/skill-academy-ml/lib/python3.10/site-packages (from pandas>=1.2->seaborn) (2023.3.post1)\r\n",
      "Requirement already satisfied: tzdata>=2022.1 in /home/steve/.conda/envs/skill-academy-ml/lib/python3.10/site-packages (from pandas>=1.2->seaborn) (2023.3)\r\n",
      "Requirement already satisfied: six>=1.5 in /home/steve/.conda/envs/skill-academy-ml/lib/python3.10/site-packages (from python-dateutil>=2.7->matplotlib!=3.6.1,>=3.4->seaborn) (1.16.0)\r\n",
      "Requirement already satisfied: matplotlib in /home/steve/.conda/envs/skill-academy-ml/lib/python3.10/site-packages (3.8.2)\r\n",
      "Requirement already satisfied: contourpy>=1.0.1 in /home/steve/.conda/envs/skill-academy-ml/lib/python3.10/site-packages (from matplotlib) (1.2.0)\r\n",
      "Requirement already satisfied: cycler>=0.10 in /home/steve/.conda/envs/skill-academy-ml/lib/python3.10/site-packages (from matplotlib) (0.12.1)\r\n",
      "Requirement already satisfied: fonttools>=4.22.0 in /home/steve/.conda/envs/skill-academy-ml/lib/python3.10/site-packages (from matplotlib) (4.46.0)\r\n",
      "Requirement already satisfied: kiwisolver>=1.3.1 in /home/steve/.conda/envs/skill-academy-ml/lib/python3.10/site-packages (from matplotlib) (1.4.5)\r\n",
      "Requirement already satisfied: numpy<2,>=1.21 in /home/steve/.conda/envs/skill-academy-ml/lib/python3.10/site-packages (from matplotlib) (1.26.2)\r\n",
      "Requirement already satisfied: packaging>=20.0 in /home/steve/.conda/envs/skill-academy-ml/lib/python3.10/site-packages (from matplotlib) (23.2)\r\n",
      "Requirement already satisfied: pillow>=8 in /home/steve/.conda/envs/skill-academy-ml/lib/python3.10/site-packages (from matplotlib) (10.1.0)\r\n",
      "Requirement already satisfied: pyparsing>=2.3.1 in /home/steve/.conda/envs/skill-academy-ml/lib/python3.10/site-packages (from matplotlib) (3.1.1)\r\n",
      "Requirement already satisfied: python-dateutil>=2.7 in /home/steve/.conda/envs/skill-academy-ml/lib/python3.10/site-packages (from matplotlib) (2.8.2)\r\n",
      "Requirement already satisfied: six>=1.5 in /home/steve/.conda/envs/skill-academy-ml/lib/python3.10/site-packages (from python-dateutil>=2.7->matplotlib) (1.16.0)\r\n"
     ]
    }
   ],
   "source": [
    "# Write any package/module installation that you need\n",
    "# pip install goes here, this helps declutter your output below\n",
    "\n",
    "!pip install scikit-learn\n",
    "!pip install seaborn\n",
    "!pip install matplotlib"
   ]
  },
  {
   "cell_type": "code",
   "outputs": [],
   "source": [
    "# Import package\n",
    "\n",
    "# Data preprocessing\n",
    "import pandas as pd\n",
    "import numpy as np\n",
    "\n",
    "# Machine Learning\n",
    "from sklearn.preprocessing import LabelEncoder\n",
    "\n",
    "from sklearn.model_selection import train_test_split\n",
    "\n",
    "from sklearn.ensemble import RandomForestClassifier\n",
    "\n",
    "from sklearn.metrics import classification_report, f1_score, accuracy_score"
   ],
   "metadata": {
    "collapsed": false,
    "ExecuteTime": {
     "end_time": "2024-01-20T08:08:28.820938911Z",
     "start_time": "2024-01-20T08:08:28.505062846Z"
    }
   },
   "id": "ea67c7043064e39e",
   "execution_count": 3
  },
  {
   "cell_type": "markdown",
   "id": "b0837717-de95-4193-9898-e2f4cadfcfc6",
   "metadata": {
    "id": "b0837717-de95-4193-9898-e2f4cadfcfc6"
   },
   "source": [
    "## Load the dataset and clean it\n",
    "\n",
    "In this task, you will prepare and load your dataset. You need to download the full FIFA 21 Dataset from the link here: [Kaggle FIFA Player Stats Database](https://www.kaggle.com/datasets/bryanb/fifa-player-stats-database?resource=download&select=FIFA21_official_data.csv).\n",
    "\n",
    ">Note: Make sure you download FIFA 21 dataset.\n",
    ">\n",
    ">![FIFA21 Dataset](https://storage.googleapis.com/rg-ai-bootcamp/projects/fifa21_dataset-min.png)\n",
    "\n",
    "After you download the dataset, you will then import the dataset then you will clean the data. For example there may be some empty cell in the dataset which you need to fill. Maybe there are also data that you need to convert to numeric value for analysis. Identify the data that is incomplete and fix them.\n",
    "\n",
    "In the code block below, you can use the comments to guide you on what to do."
   ]
  },
  {
   "cell_type": "code",
   "execution_count": 4,
   "id": "3b0e5e58-277e-41ef-9b1c-951e5d150191",
   "metadata": {
    "id": "3b0e5e58-277e-41ef-9b1c-951e5d150191",
    "ExecuteTime": {
     "end_time": "2024-01-20T08:08:28.941374951Z",
     "start_time": "2024-01-20T08:08:28.822740869Z"
    }
   },
   "outputs": [
    {
     "data": {
      "text/plain": "       ID              Name  Age  \\\n0  176580         L. Suárez   33   \n1  192985      K. De Bruyne   29   \n2  212198   Bruno Fernandes   25   \n3  194765      A. Griezmann   29   \n4  224334          M. Acuña   28   \n\n                                              Photo Nationality  \\\n0  https://cdn.sofifa.com/players/176/580/20_60.png     Uruguay   \n1  https://cdn.sofifa.com/players/192/985/20_60.png     Belgium   \n2  https://cdn.sofifa.com/players/212/198/20_60.png    Portugal   \n3  https://cdn.sofifa.com/players/194/765/20_60.png      France   \n4  https://cdn.sofifa.com/players/224/334/20_60.png   Argentina   \n\n                                  Flag  Overall  Potential               Club  \\\n0  https://cdn.sofifa.com/flags/uy.png       87         87    Atlético Madrid   \n1  https://cdn.sofifa.com/flags/be.png       91         91    Manchester City   \n2  https://cdn.sofifa.com/flags/pt.png       87         90  Manchester United   \n3  https://cdn.sofifa.com/flags/fr.png       87         87       FC Barcelona   \n4  https://cdn.sofifa.com/flags/ar.png       83         83         Sevilla FC   \n\n                                       Club Logo  ... SlidingTackle GKDiving  \\\n0  https://cdn.sofifa.com/teams/240/light_30.png  ...          38.0     27.0   \n1   https://cdn.sofifa.com/teams/10/light_30.png  ...          53.0     15.0   \n2   https://cdn.sofifa.com/teams/11/light_30.png  ...          55.0     12.0   \n3  https://cdn.sofifa.com/teams/241/light_30.png  ...          49.0     14.0   \n4  https://cdn.sofifa.com/teams/481/light_30.png  ...          79.0      8.0   \n\n   GKHandling GKKicking  GKPositioning  GKReflexes  Best Position  \\\n0        25.0      31.0           33.0        37.0             ST   \n1        13.0       5.0           10.0        13.0            CAM   \n2        14.0      15.0            8.0        14.0            CAM   \n3         8.0      14.0           13.0        14.0             ST   \n4        14.0      13.0           13.0        14.0             LB   \n\n  Best Overall Rating Release Clause DefensiveAwareness  \n0                87.0         €64.6M               57.0  \n1                91.0          €161M               68.0  \n2                88.0        €124.4M               72.0  \n3                87.0        €103.5M               59.0  \n4                83.0         €46.2M               79.0  \n\n[5 rows x 65 columns]",
      "text/html": "<div>\n<style scoped>\n    .dataframe tbody tr th:only-of-type {\n        vertical-align: middle;\n    }\n\n    .dataframe tbody tr th {\n        vertical-align: top;\n    }\n\n    .dataframe thead th {\n        text-align: right;\n    }\n</style>\n<table border=\"1\" class=\"dataframe\">\n  <thead>\n    <tr style=\"text-align: right;\">\n      <th></th>\n      <th>ID</th>\n      <th>Name</th>\n      <th>Age</th>\n      <th>Photo</th>\n      <th>Nationality</th>\n      <th>Flag</th>\n      <th>Overall</th>\n      <th>Potential</th>\n      <th>Club</th>\n      <th>Club Logo</th>\n      <th>...</th>\n      <th>SlidingTackle</th>\n      <th>GKDiving</th>\n      <th>GKHandling</th>\n      <th>GKKicking</th>\n      <th>GKPositioning</th>\n      <th>GKReflexes</th>\n      <th>Best Position</th>\n      <th>Best Overall Rating</th>\n      <th>Release Clause</th>\n      <th>DefensiveAwareness</th>\n    </tr>\n  </thead>\n  <tbody>\n    <tr>\n      <th>0</th>\n      <td>176580</td>\n      <td>L. Suárez</td>\n      <td>33</td>\n      <td>https://cdn.sofifa.com/players/176/580/20_60.png</td>\n      <td>Uruguay</td>\n      <td>https://cdn.sofifa.com/flags/uy.png</td>\n      <td>87</td>\n      <td>87</td>\n      <td>Atlético Madrid</td>\n      <td>https://cdn.sofifa.com/teams/240/light_30.png</td>\n      <td>...</td>\n      <td>38.0</td>\n      <td>27.0</td>\n      <td>25.0</td>\n      <td>31.0</td>\n      <td>33.0</td>\n      <td>37.0</td>\n      <td>ST</td>\n      <td>87.0</td>\n      <td>€64.6M</td>\n      <td>57.0</td>\n    </tr>\n    <tr>\n      <th>1</th>\n      <td>192985</td>\n      <td>K. De Bruyne</td>\n      <td>29</td>\n      <td>https://cdn.sofifa.com/players/192/985/20_60.png</td>\n      <td>Belgium</td>\n      <td>https://cdn.sofifa.com/flags/be.png</td>\n      <td>91</td>\n      <td>91</td>\n      <td>Manchester City</td>\n      <td>https://cdn.sofifa.com/teams/10/light_30.png</td>\n      <td>...</td>\n      <td>53.0</td>\n      <td>15.0</td>\n      <td>13.0</td>\n      <td>5.0</td>\n      <td>10.0</td>\n      <td>13.0</td>\n      <td>CAM</td>\n      <td>91.0</td>\n      <td>€161M</td>\n      <td>68.0</td>\n    </tr>\n    <tr>\n      <th>2</th>\n      <td>212198</td>\n      <td>Bruno Fernandes</td>\n      <td>25</td>\n      <td>https://cdn.sofifa.com/players/212/198/20_60.png</td>\n      <td>Portugal</td>\n      <td>https://cdn.sofifa.com/flags/pt.png</td>\n      <td>87</td>\n      <td>90</td>\n      <td>Manchester United</td>\n      <td>https://cdn.sofifa.com/teams/11/light_30.png</td>\n      <td>...</td>\n      <td>55.0</td>\n      <td>12.0</td>\n      <td>14.0</td>\n      <td>15.0</td>\n      <td>8.0</td>\n      <td>14.0</td>\n      <td>CAM</td>\n      <td>88.0</td>\n      <td>€124.4M</td>\n      <td>72.0</td>\n    </tr>\n    <tr>\n      <th>3</th>\n      <td>194765</td>\n      <td>A. Griezmann</td>\n      <td>29</td>\n      <td>https://cdn.sofifa.com/players/194/765/20_60.png</td>\n      <td>France</td>\n      <td>https://cdn.sofifa.com/flags/fr.png</td>\n      <td>87</td>\n      <td>87</td>\n      <td>FC Barcelona</td>\n      <td>https://cdn.sofifa.com/teams/241/light_30.png</td>\n      <td>...</td>\n      <td>49.0</td>\n      <td>14.0</td>\n      <td>8.0</td>\n      <td>14.0</td>\n      <td>13.0</td>\n      <td>14.0</td>\n      <td>ST</td>\n      <td>87.0</td>\n      <td>€103.5M</td>\n      <td>59.0</td>\n    </tr>\n    <tr>\n      <th>4</th>\n      <td>224334</td>\n      <td>M. Acuña</td>\n      <td>28</td>\n      <td>https://cdn.sofifa.com/players/224/334/20_60.png</td>\n      <td>Argentina</td>\n      <td>https://cdn.sofifa.com/flags/ar.png</td>\n      <td>83</td>\n      <td>83</td>\n      <td>Sevilla FC</td>\n      <td>https://cdn.sofifa.com/teams/481/light_30.png</td>\n      <td>...</td>\n      <td>79.0</td>\n      <td>8.0</td>\n      <td>14.0</td>\n      <td>13.0</td>\n      <td>13.0</td>\n      <td>14.0</td>\n      <td>LB</td>\n      <td>83.0</td>\n      <td>€46.2M</td>\n      <td>79.0</td>\n    </tr>\n  </tbody>\n</table>\n<p>5 rows × 65 columns</p>\n</div>"
     },
     "execution_count": 4,
     "metadata": {},
     "output_type": "execute_result"
    }
   ],
   "source": [
    "# Load your data\n",
    "df = pd.read_csv(r\"FIFA21_official_data.csv\")\n",
    "df.head()"
   ]
  },
  {
   "cell_type": "code",
   "outputs": [
    {
     "data": {
      "text/plain": "   Age  Overall  Potential   Value   Wage  Special Preferred Foot  \\\n0   33       87         87  €31.5M  €115K     2316          Right   \n1   29       91         91    €87M  €370K     2304          Right   \n2   25       87         90    €63M  €195K     2303          Right   \n3   29       87         87  €50.5M  €290K     2288           Left   \n4   28       83         83    €22M   €41K     2280           Left   \n\n   International Reputation  Weak Foot  Skill Moves  ... Composure  \\\n0                       5.0        4.0          3.0  ...      85.0   \n1                       4.0        5.0          4.0  ...      91.0   \n2                       2.0        4.0          4.0  ...      86.0   \n3                       4.0        3.0          4.0  ...      89.0   \n4                       2.0        3.0          4.0  ...      87.0   \n\n  StandingTackle SlidingTackle  GKDiving  GKHandling  GKKicking  \\\n0           45.0          38.0      27.0        25.0       31.0   \n1           65.0          53.0      15.0        13.0        5.0   \n2           67.0          55.0      12.0        14.0       15.0   \n3           54.0          49.0      14.0         8.0       14.0   \n4           82.0          79.0       8.0        14.0       13.0   \n\n   GKPositioning  GKReflexes  Best Overall Rating  DefensiveAwareness  \n0           33.0        37.0                 87.0                57.0  \n1           10.0        13.0                 91.0                68.0  \n2            8.0        14.0                 88.0                72.0  \n3           13.0        14.0                 87.0                59.0  \n4           13.0        14.0                 83.0                79.0  \n\n[5 rows x 48 columns]",
      "text/html": "<div>\n<style scoped>\n    .dataframe tbody tr th:only-of-type {\n        vertical-align: middle;\n    }\n\n    .dataframe tbody tr th {\n        vertical-align: top;\n    }\n\n    .dataframe thead th {\n        text-align: right;\n    }\n</style>\n<table border=\"1\" class=\"dataframe\">\n  <thead>\n    <tr style=\"text-align: right;\">\n      <th></th>\n      <th>Age</th>\n      <th>Overall</th>\n      <th>Potential</th>\n      <th>Value</th>\n      <th>Wage</th>\n      <th>Special</th>\n      <th>Preferred Foot</th>\n      <th>International Reputation</th>\n      <th>Weak Foot</th>\n      <th>Skill Moves</th>\n      <th>...</th>\n      <th>Composure</th>\n      <th>StandingTackle</th>\n      <th>SlidingTackle</th>\n      <th>GKDiving</th>\n      <th>GKHandling</th>\n      <th>GKKicking</th>\n      <th>GKPositioning</th>\n      <th>GKReflexes</th>\n      <th>Best Overall Rating</th>\n      <th>DefensiveAwareness</th>\n    </tr>\n  </thead>\n  <tbody>\n    <tr>\n      <th>0</th>\n      <td>33</td>\n      <td>87</td>\n      <td>87</td>\n      <td>€31.5M</td>\n      <td>€115K</td>\n      <td>2316</td>\n      <td>Right</td>\n      <td>5.0</td>\n      <td>4.0</td>\n      <td>3.0</td>\n      <td>...</td>\n      <td>85.0</td>\n      <td>45.0</td>\n      <td>38.0</td>\n      <td>27.0</td>\n      <td>25.0</td>\n      <td>31.0</td>\n      <td>33.0</td>\n      <td>37.0</td>\n      <td>87.0</td>\n      <td>57.0</td>\n    </tr>\n    <tr>\n      <th>1</th>\n      <td>29</td>\n      <td>91</td>\n      <td>91</td>\n      <td>€87M</td>\n      <td>€370K</td>\n      <td>2304</td>\n      <td>Right</td>\n      <td>4.0</td>\n      <td>5.0</td>\n      <td>4.0</td>\n      <td>...</td>\n      <td>91.0</td>\n      <td>65.0</td>\n      <td>53.0</td>\n      <td>15.0</td>\n      <td>13.0</td>\n      <td>5.0</td>\n      <td>10.0</td>\n      <td>13.0</td>\n      <td>91.0</td>\n      <td>68.0</td>\n    </tr>\n    <tr>\n      <th>2</th>\n      <td>25</td>\n      <td>87</td>\n      <td>90</td>\n      <td>€63M</td>\n      <td>€195K</td>\n      <td>2303</td>\n      <td>Right</td>\n      <td>2.0</td>\n      <td>4.0</td>\n      <td>4.0</td>\n      <td>...</td>\n      <td>86.0</td>\n      <td>67.0</td>\n      <td>55.0</td>\n      <td>12.0</td>\n      <td>14.0</td>\n      <td>15.0</td>\n      <td>8.0</td>\n      <td>14.0</td>\n      <td>88.0</td>\n      <td>72.0</td>\n    </tr>\n    <tr>\n      <th>3</th>\n      <td>29</td>\n      <td>87</td>\n      <td>87</td>\n      <td>€50.5M</td>\n      <td>€290K</td>\n      <td>2288</td>\n      <td>Left</td>\n      <td>4.0</td>\n      <td>3.0</td>\n      <td>4.0</td>\n      <td>...</td>\n      <td>89.0</td>\n      <td>54.0</td>\n      <td>49.0</td>\n      <td>14.0</td>\n      <td>8.0</td>\n      <td>14.0</td>\n      <td>13.0</td>\n      <td>14.0</td>\n      <td>87.0</td>\n      <td>59.0</td>\n    </tr>\n    <tr>\n      <th>4</th>\n      <td>28</td>\n      <td>83</td>\n      <td>83</td>\n      <td>€22M</td>\n      <td>€41K</td>\n      <td>2280</td>\n      <td>Left</td>\n      <td>2.0</td>\n      <td>3.0</td>\n      <td>4.0</td>\n      <td>...</td>\n      <td>87.0</td>\n      <td>82.0</td>\n      <td>79.0</td>\n      <td>8.0</td>\n      <td>14.0</td>\n      <td>13.0</td>\n      <td>13.0</td>\n      <td>14.0</td>\n      <td>83.0</td>\n      <td>79.0</td>\n    </tr>\n  </tbody>\n</table>\n<p>5 rows × 48 columns</p>\n</div>"
     },
     "execution_count": 5,
     "metadata": {},
     "output_type": "execute_result"
    }
   ],
   "source": [
    "# Dropping unused columns\n",
    "unused_columns = [\"ID\", \"Name\", \"Photo\", \"Nationality\", \"Flag\", \"Club\", \"Club Logo\", \"Real Face\", \"Position\", \"Jersey Number\", \"Joined\", \"Loaned From\", \"Contract Valid Until\",\n",
    "                  \"Marking\", \"Best Position\", \"Release Clause\", \"Body Type\"]\n",
    "df_used_columns = df.drop(columns=unused_columns)\n",
    "df_used_columns.head()"
   ],
   "metadata": {
    "collapsed": false,
    "ExecuteTime": {
     "end_time": "2024-01-20T08:08:28.957606522Z",
     "start_time": "2024-01-20T08:08:28.941953880Z"
    }
   },
   "id": "1959d24276aa4d48",
   "execution_count": 5
  },
  {
   "cell_type": "code",
   "outputs": [
    {
     "data": {
      "text/plain": "Volleys                39\nCurve                  39\nAgility                39\nBalance                39\nJumping                39\nInterceptions           3\nPositioning             3\nVision                 39\nComposure             287\nSlidingTackle          39\nDefensiveAwareness    942\ndtype: int64"
     },
     "execution_count": 6,
     "metadata": {},
     "output_type": "execute_result"
    }
   ],
   "source": [
    "# Check null data\n",
    "null_columns = df_used_columns.isnull().sum()[df.isnull().sum() > 0]\n",
    "null_columns"
   ],
   "metadata": {
    "collapsed": false,
    "ExecuteTime": {
     "end_time": "2024-01-20T08:08:29.034088933Z",
     "start_time": "2024-01-20T08:08:28.956006346Z"
    }
   },
   "id": "e8840cd79e302fce",
   "execution_count": 6
  },
  {
   "cell_type": "code",
   "outputs": [
    {
     "data": {
      "text/plain": "Age                         0\nOverall                     0\nPotential                   0\nValue                       0\nWage                        0\nSpecial                     0\nPreferred Foot              0\nInternational Reputation    0\nWeak Foot                   0\nSkill Moves                 0\nWork Rate                   0\nHeight                      0\nWeight                      0\nCrossing                    0\nFinishing                   0\nHeadingAccuracy             0\nShortPassing                0\nVolleys                     0\nDribbling                   0\nCurve                       0\nFKAccuracy                  0\nLongPassing                 0\nBallControl                 0\nAcceleration                0\nSprintSpeed                 0\nAgility                     0\nReactions                   0\nBalance                     0\nShotPower                   0\nJumping                     0\nStamina                     0\nStrength                    0\nLongShots                   0\nAggression                  0\nInterceptions               0\nPositioning                 0\nVision                      0\nPenalties                   0\nComposure                   0\nStandingTackle              0\nSlidingTackle               0\nGKDiving                    0\nGKHandling                  0\nGKKicking                   0\nGKPositioning               0\nGKReflexes                  0\nBest Overall Rating         0\nDefensiveAwareness          0\ndtype: int64"
     },
     "execution_count": 7,
     "metadata": {},
     "output_type": "execute_result"
    }
   ],
   "source": [
    "# Processing null value\n",
    "df_no_null = df_used_columns.dropna() # I drop the column because the na data is too few\n",
    "df_no_null.isnull().sum()"
   ],
   "metadata": {
    "collapsed": false,
    "ExecuteTime": {
     "end_time": "2024-01-20T08:08:29.223900591Z",
     "start_time": "2024-01-20T08:08:28.978843956Z"
    }
   },
   "id": "b354213c86b64ea2",
   "execution_count": 7
  },
  {
   "cell_type": "code",
   "outputs": [
    {
     "name": "stdout",
     "output_type": "stream",
     "text": [
      "<class 'pandas.core.frame.DataFrame'>\n",
      "Index: 16166 entries, 0 to 17106\n",
      "Data columns (total 48 columns):\n",
      " #   Column                    Non-Null Count  Dtype  \n",
      "---  ------                    --------------  -----  \n",
      " 0   Age                       16166 non-null  int64  \n",
      " 1   Overall                   16166 non-null  int64  \n",
      " 2   Potential                 16166 non-null  int64  \n",
      " 3   Value                     16166 non-null  object \n",
      " 4   Wage                      16166 non-null  object \n",
      " 5   Special                   16166 non-null  int64  \n",
      " 6   Preferred Foot            16166 non-null  object \n",
      " 7   International Reputation  16166 non-null  float64\n",
      " 8   Weak Foot                 16166 non-null  float64\n",
      " 9   Skill Moves               16166 non-null  float64\n",
      " 10  Work Rate                 16166 non-null  object \n",
      " 11  Height                    16166 non-null  object \n",
      " 12  Weight                    16166 non-null  object \n",
      " 13  Crossing                  16166 non-null  float64\n",
      " 14  Finishing                 16166 non-null  float64\n",
      " 15  HeadingAccuracy           16166 non-null  float64\n",
      " 16  ShortPassing              16166 non-null  float64\n",
      " 17  Volleys                   16166 non-null  float64\n",
      " 18  Dribbling                 16166 non-null  float64\n",
      " 19  Curve                     16166 non-null  float64\n",
      " 20  FKAccuracy                16166 non-null  float64\n",
      " 21  LongPassing               16166 non-null  float64\n",
      " 22  BallControl               16166 non-null  float64\n",
      " 23  Acceleration              16166 non-null  float64\n",
      " 24  SprintSpeed               16166 non-null  float64\n",
      " 25  Agility                   16166 non-null  float64\n",
      " 26  Reactions                 16166 non-null  float64\n",
      " 27  Balance                   16166 non-null  float64\n",
      " 28  ShotPower                 16166 non-null  float64\n",
      " 29  Jumping                   16166 non-null  float64\n",
      " 30  Stamina                   16166 non-null  float64\n",
      " 31  Strength                  16166 non-null  float64\n",
      " 32  LongShots                 16166 non-null  float64\n",
      " 33  Aggression                16166 non-null  float64\n",
      " 34  Interceptions             16166 non-null  float64\n",
      " 35  Positioning               16166 non-null  float64\n",
      " 36  Vision                    16166 non-null  float64\n",
      " 37  Penalties                 16166 non-null  float64\n",
      " 38  Composure                 16166 non-null  float64\n",
      " 39  StandingTackle            16166 non-null  float64\n",
      " 40  SlidingTackle             16166 non-null  float64\n",
      " 41  GKDiving                  16166 non-null  float64\n",
      " 42  GKHandling                16166 non-null  float64\n",
      " 43  GKKicking                 16166 non-null  float64\n",
      " 44  GKPositioning             16166 non-null  float64\n",
      " 45  GKReflexes                16166 non-null  float64\n",
      " 46  Best Overall Rating       16166 non-null  float64\n",
      " 47  DefensiveAwareness        16166 non-null  float64\n",
      "dtypes: float64(38), int64(4), object(6)\n",
      "memory usage: 6.0+ MB\n"
     ]
    }
   ],
   "source": [
    "# Checking the column dtypes for later processing\n",
    "df_no_null.info()"
   ],
   "metadata": {
    "collapsed": false,
    "ExecuteTime": {
     "end_time": "2024-01-20T08:08:29.224660370Z",
     "start_time": "2024-01-20T08:08:29.020608228Z"
    }
   },
   "id": "de78d98a06215cab",
   "execution_count": 8
  },
  {
   "cell_type": "code",
   "outputs": [
    {
     "data": {
      "text/plain": "   Age  Overall  Potential     Value    Wage  Special  Preferred Foot  \\\n0   33       87         87  31500000  115000     2316               0   \n1   29       91         91  87000000  370000     2304               0   \n2   25       87         90  63000000  195000     2303               0   \n3   29       87         87  50500000  290000     2288               1   \n4   28       83         83  22000000   41000     2280               1   \n\n   International Reputation  Weak Foot  Skill Moves  ...  Composure  \\\n0                       5.0        4.0          3.0  ...       85.0   \n1                       4.0        5.0          4.0  ...       91.0   \n2                       2.0        4.0          4.0  ...       86.0   \n3                       4.0        3.0          4.0  ...       89.0   \n4                       2.0        3.0          4.0  ...       87.0   \n\n   StandingTackle  SlidingTackle  GKDiving  GKHandling  GKKicking  \\\n0            45.0           38.0      27.0        25.0       31.0   \n1            65.0           53.0      15.0        13.0        5.0   \n2            67.0           55.0      12.0        14.0       15.0   \n3            54.0           49.0      14.0         8.0       14.0   \n4            82.0           79.0       8.0        14.0       13.0   \n\n   GKPositioning  GKReflexes  Best Overall Rating  DefensiveAwareness  \n0           33.0        37.0                 87.0                57.0  \n1           10.0        13.0                 91.0                68.0  \n2            8.0        14.0                 88.0                72.0  \n3           13.0        14.0                 87.0                59.0  \n4           13.0        14.0                 83.0                79.0  \n\n[5 rows x 48 columns]",
      "text/html": "<div>\n<style scoped>\n    .dataframe tbody tr th:only-of-type {\n        vertical-align: middle;\n    }\n\n    .dataframe tbody tr th {\n        vertical-align: top;\n    }\n\n    .dataframe thead th {\n        text-align: right;\n    }\n</style>\n<table border=\"1\" class=\"dataframe\">\n  <thead>\n    <tr style=\"text-align: right;\">\n      <th></th>\n      <th>Age</th>\n      <th>Overall</th>\n      <th>Potential</th>\n      <th>Value</th>\n      <th>Wage</th>\n      <th>Special</th>\n      <th>Preferred Foot</th>\n      <th>International Reputation</th>\n      <th>Weak Foot</th>\n      <th>Skill Moves</th>\n      <th>...</th>\n      <th>Composure</th>\n      <th>StandingTackle</th>\n      <th>SlidingTackle</th>\n      <th>GKDiving</th>\n      <th>GKHandling</th>\n      <th>GKKicking</th>\n      <th>GKPositioning</th>\n      <th>GKReflexes</th>\n      <th>Best Overall Rating</th>\n      <th>DefensiveAwareness</th>\n    </tr>\n  </thead>\n  <tbody>\n    <tr>\n      <th>0</th>\n      <td>33</td>\n      <td>87</td>\n      <td>87</td>\n      <td>31500000</td>\n      <td>115000</td>\n      <td>2316</td>\n      <td>0</td>\n      <td>5.0</td>\n      <td>4.0</td>\n      <td>3.0</td>\n      <td>...</td>\n      <td>85.0</td>\n      <td>45.0</td>\n      <td>38.0</td>\n      <td>27.0</td>\n      <td>25.0</td>\n      <td>31.0</td>\n      <td>33.0</td>\n      <td>37.0</td>\n      <td>87.0</td>\n      <td>57.0</td>\n    </tr>\n    <tr>\n      <th>1</th>\n      <td>29</td>\n      <td>91</td>\n      <td>91</td>\n      <td>87000000</td>\n      <td>370000</td>\n      <td>2304</td>\n      <td>0</td>\n      <td>4.0</td>\n      <td>5.0</td>\n      <td>4.0</td>\n      <td>...</td>\n      <td>91.0</td>\n      <td>65.0</td>\n      <td>53.0</td>\n      <td>15.0</td>\n      <td>13.0</td>\n      <td>5.0</td>\n      <td>10.0</td>\n      <td>13.0</td>\n      <td>91.0</td>\n      <td>68.0</td>\n    </tr>\n    <tr>\n      <th>2</th>\n      <td>25</td>\n      <td>87</td>\n      <td>90</td>\n      <td>63000000</td>\n      <td>195000</td>\n      <td>2303</td>\n      <td>0</td>\n      <td>2.0</td>\n      <td>4.0</td>\n      <td>4.0</td>\n      <td>...</td>\n      <td>86.0</td>\n      <td>67.0</td>\n      <td>55.0</td>\n      <td>12.0</td>\n      <td>14.0</td>\n      <td>15.0</td>\n      <td>8.0</td>\n      <td>14.0</td>\n      <td>88.0</td>\n      <td>72.0</td>\n    </tr>\n    <tr>\n      <th>3</th>\n      <td>29</td>\n      <td>87</td>\n      <td>87</td>\n      <td>50500000</td>\n      <td>290000</td>\n      <td>2288</td>\n      <td>1</td>\n      <td>4.0</td>\n      <td>3.0</td>\n      <td>4.0</td>\n      <td>...</td>\n      <td>89.0</td>\n      <td>54.0</td>\n      <td>49.0</td>\n      <td>14.0</td>\n      <td>8.0</td>\n      <td>14.0</td>\n      <td>13.0</td>\n      <td>14.0</td>\n      <td>87.0</td>\n      <td>59.0</td>\n    </tr>\n    <tr>\n      <th>4</th>\n      <td>28</td>\n      <td>83</td>\n      <td>83</td>\n      <td>22000000</td>\n      <td>41000</td>\n      <td>2280</td>\n      <td>1</td>\n      <td>2.0</td>\n      <td>3.0</td>\n      <td>4.0</td>\n      <td>...</td>\n      <td>87.0</td>\n      <td>82.0</td>\n      <td>79.0</td>\n      <td>8.0</td>\n      <td>14.0</td>\n      <td>13.0</td>\n      <td>13.0</td>\n      <td>14.0</td>\n      <td>83.0</td>\n      <td>79.0</td>\n    </tr>\n  </tbody>\n</table>\n<p>5 rows × 48 columns</p>\n</div>"
     },
     "execution_count": 9,
     "metadata": {},
     "output_type": "execute_result"
    }
   ],
   "source": [
    "# Encoder for categorizing the work rate\n",
    "le = LabelEncoder()\n",
    "le.fit(df_no_null[\"Work Rate\"].unique())\n",
    "\n",
    "# Processing columns\n",
    "df_processed = df_no_null.copy()\n",
    "\n",
    "# Value\n",
    "def convert_money(x):\n",
    "    x = x.replace('€', '')\n",
    "\n",
    "    if \"K\" in x:\n",
    "        return int(float(x.replace(\"K\", \"\")) * 1000)\n",
    "    \n",
    "    if \"M\" in x:\n",
    "        return int(float(x.replace(\"M\", \"\")) * 1000000)\n",
    "    \n",
    "    return 0\n",
    "\n",
    "for col in [\"Value\", \"Wage\"]:\n",
    "    df_processed[col] = df_processed[col].apply(convert_money)\n",
    "\n",
    "# Foot\n",
    "df_processed[\"Preferred Foot\"] = df_processed[\"Preferred Foot\"].apply(lambda x : 0 if x == \"Right\" else 1)\n",
    "\n",
    "# Work Rate\n",
    "df_processed[\"Work Rate\"] = le.transform(df_processed[\"Work Rate\"])\n",
    "\n",
    "# Height\n",
    "def convert_height(x):\n",
    "    feet, inches = map(int, x.split(\"'\")) \n",
    "  \n",
    "    cm = 30.48 * feet + 2.54 * inches\n",
    "    \n",
    "    return round(cm)\n",
    "\n",
    "df_processed[\"Height\"] = df_processed.Height.apply(convert_height)\n",
    "\n",
    "# Weight\n",
    "def convert_weight(x):\n",
    "    kg = int(x.replace(\"lbs\", \"\")) * 0.45359237\n",
    "    \n",
    "    return round(kg)\n",
    "\n",
    "df_processed[\"Weight\"] = df_processed.Weight.apply(convert_weight)\n",
    "\n",
    "df_processed.head()"
   ],
   "metadata": {
    "collapsed": false,
    "ExecuteTime": {
     "end_time": "2024-01-20T08:08:29.227329509Z",
     "start_time": "2024-01-20T08:08:29.020908287Z"
    }
   },
   "id": "d9db2fcc91fbe47b",
   "execution_count": 9
  },
  {
   "cell_type": "markdown",
   "source": [],
   "metadata": {
    "collapsed": false
   },
   "id": "739f0f1bd9de0d96"
  },
  {
   "cell_type": "code",
   "outputs": [
    {
     "name": "stdout",
     "output_type": "stream",
     "text": [
      "<class 'pandas.core.frame.DataFrame'>\n",
      "Index: 16166 entries, 0 to 17106\n",
      "Data columns (total 48 columns):\n",
      " #   Column                    Non-Null Count  Dtype  \n",
      "---  ------                    --------------  -----  \n",
      " 0   Age                       16166 non-null  int64  \n",
      " 1   Overall                   16166 non-null  int64  \n",
      " 2   Potential                 16166 non-null  int64  \n",
      " 3   Value                     16166 non-null  int64  \n",
      " 4   Wage                      16166 non-null  int64  \n",
      " 5   Special                   16166 non-null  int64  \n",
      " 6   Preferred Foot            16166 non-null  int64  \n",
      " 7   International Reputation  16166 non-null  float64\n",
      " 8   Weak Foot                 16166 non-null  float64\n",
      " 9   Skill Moves               16166 non-null  float64\n",
      " 10  Work Rate                 16166 non-null  int64  \n",
      " 11  Height                    16166 non-null  int64  \n",
      " 12  Weight                    16166 non-null  int64  \n",
      " 13  Crossing                  16166 non-null  float64\n",
      " 14  Finishing                 16166 non-null  float64\n",
      " 15  HeadingAccuracy           16166 non-null  float64\n",
      " 16  ShortPassing              16166 non-null  float64\n",
      " 17  Volleys                   16166 non-null  float64\n",
      " 18  Dribbling                 16166 non-null  float64\n",
      " 19  Curve                     16166 non-null  float64\n",
      " 20  FKAccuracy                16166 non-null  float64\n",
      " 21  LongPassing               16166 non-null  float64\n",
      " 22  BallControl               16166 non-null  float64\n",
      " 23  Acceleration              16166 non-null  float64\n",
      " 24  SprintSpeed               16166 non-null  float64\n",
      " 25  Agility                   16166 non-null  float64\n",
      " 26  Reactions                 16166 non-null  float64\n",
      " 27  Balance                   16166 non-null  float64\n",
      " 28  ShotPower                 16166 non-null  float64\n",
      " 29  Jumping                   16166 non-null  float64\n",
      " 30  Stamina                   16166 non-null  float64\n",
      " 31  Strength                  16166 non-null  float64\n",
      " 32  LongShots                 16166 non-null  float64\n",
      " 33  Aggression                16166 non-null  float64\n",
      " 34  Interceptions             16166 non-null  float64\n",
      " 35  Positioning               16166 non-null  float64\n",
      " 36  Vision                    16166 non-null  float64\n",
      " 37  Penalties                 16166 non-null  float64\n",
      " 38  Composure                 16166 non-null  float64\n",
      " 39  StandingTackle            16166 non-null  float64\n",
      " 40  SlidingTackle             16166 non-null  float64\n",
      " 41  GKDiving                  16166 non-null  float64\n",
      " 42  GKHandling                16166 non-null  float64\n",
      " 43  GKKicking                 16166 non-null  float64\n",
      " 44  GKPositioning             16166 non-null  float64\n",
      " 45  GKReflexes                16166 non-null  float64\n",
      " 46  Best Overall Rating       16166 non-null  float64\n",
      " 47  DefensiveAwareness        16166 non-null  float64\n",
      "dtypes: float64(38), int64(10)\n",
      "memory usage: 6.0 MB\n"
     ]
    }
   ],
   "source": [
    "# Rechecking the dtypes\n",
    "df_processed.info()"
   ],
   "metadata": {
    "collapsed": false,
    "ExecuteTime": {
     "end_time": "2024-01-20T08:08:29.227930790Z",
     "start_time": "2024-01-20T08:08:29.068604815Z"
    }
   },
   "id": "f5ee73ce9e38ca2a",
   "execution_count": 10
  },
  {
   "cell_type": "markdown",
   "id": "30ce0c59-0e94-480a-81ae-528e68356a15",
   "metadata": {
    "id": "30ce0c59-0e94-480a-81ae-528e68356a15"
   },
   "source": [
    "## Build and Train your model\n",
    "\n",
    "In this task you will analyze the data and select the features that is best at predicting if the Player is a 'Valuable' player or not.\n",
    "\n",
    "The first step is to **define the target output** that you will use for training. Here's an example of how to create a target output:\n",
    "- `df['OK Player'] = df['Overall'].apply(lambda x: 1 if x >= 50 else 0) #Define the OK Player using treshold of 50.`\n",
    "\n",
    "Next you will **identify the features** that will best predict a 'Valuable' player. You are required to **submit the features you selected** in the Submission section below. Because we use the \"Overall\" as our target output, the use of \"Overall\" in your features is not allowed. You will automatically get 0 if you submit \"Overall\" in your features.\n",
    "\n",
    "Once you identify the features, you will then **split the data** into Training set and Testing/Validation set.\n",
    "\n",
    "Depending on the features you selected, **you may need to scale the features**.\n",
    "\n",
    "Now you will **train your model, choose the algorithm** you are going to use carefully to make sure it gives the best result.\n",
    "\n",
    "Once you have trained your model, you need to test the model effectiveness. **Make predictions against your Testing/Validation set** and evaluate your model. You are required to **submit the Accuracy Score and F1 score** in the Submission section below.\n",
    "\n",
    "In the code block below, you can use the comments to guide you on what to do.\n",
    "\n",
    "We have also provided 3 variables that you must use in your code, `ml_features`, `ml_accuracy` and `ml_f1_score`. You can move the variables around your code, assign values to them, but you cannot delete them."
   ]
  },
  {
   "cell_type": "code",
   "outputs": [
    {
     "name": "stdout",
     "output_type": "stream",
     "text": [
      "\n",
      "Classification report:\n",
      "              precision    recall  f1-score   support\n",
      "\n",
      "           0       0.99      0.98      0.99      1405\n",
      "           1       0.89      0.92      0.91       212\n",
      "\n",
      "    accuracy                           0.98      1617\n",
      "   macro avg       0.94      0.95      0.95      1617\n",
      "weighted avg       0.98      0.98      0.98      1617\n",
      "\n",
      "\n",
      "F1 score        : 0.9074074074074074\n",
      "Accuracy score  : 0.9752628324056896\n"
     ]
    }
   ],
   "source": [
    "# Write your code here\n",
    "np.random.seed(7) # Lucky seven :D, for reproducibility\n",
    "\n",
    "# Define the target output (Good >= 75)\n",
    "df_data = df_processed.copy()\n",
    "\n",
    "# To be honest i can use only the potential or the best overall rating to predict the target (only use 1 column)\n",
    "# And the task telling us to just drop the overall column, but I want to try to use the data without it\n",
    "df_data[\"Target\"] = df_data['Overall'].apply(lambda x: 1 if x >= 75 else 0)\n",
    "df_data.drop(columns=[\"Overall\", \"Potential\", \"Best Overall Rating\"], inplace=True)\n",
    "\n",
    "# The data not balanced, there's more 0 than 1 in 1:100+ ratio\n",
    "y = df_data.Target\n",
    "X = df_data.drop(columns=\"Target\")\n",
    "\n",
    "# Identify the features you will use in your model\n",
    "ml_features = X.columns\n",
    "\n",
    "# I should process the data a bit more\n",
    "# Split data into training set and test set\n",
    "X_train, X_test, y_train, y_test = train_test_split(X, y, test_size=.1, random_state=7, stratify=y)\n",
    "\n",
    "# Train the model\n",
    "model = RandomForestClassifier(n_estimators=5)\n",
    "model.fit(X_train, y_train)\n",
    "\n",
    "# Make predictions using the test set\n",
    "y_pred = model.predict(X_test)\n",
    "\n",
    "# Evaluate the model\n",
    "ml_accuracy = accuracy_score(y_test, y_pred)\n",
    "ml_f1_score = f1_score(y_test, y_pred)\n",
    "\n",
    "print(f\"\"\"\n",
    "Classification report:\n",
    "{classification_report(y_test, y_pred)}\n",
    "\n",
    "F1 score        : {f1_score(y_test, y_pred)}\n",
    "Accuracy score  : {accuracy_score(y_test, y_pred)}\n",
    "\"\"\")"
   ],
   "metadata": {
    "collapsed": false,
    "ExecuteTime": {
     "end_time": "2024-01-20T08:08:29.307284891Z",
     "start_time": "2024-01-20T08:08:29.068773257Z"
    }
   },
   "id": "a0c3a334757c6577",
   "execution_count": 11
  },
  {
   "cell_type": "markdown",
   "source": [
    "## Conclusion\n",
    "\n",
    "The data that I used is already straight forward. You can predict the player \"Ok Value\" by only using the stats column (crossing, shooting, accuracy, etc). For the data cleaning itself I should try to use fill instead of drop. I use drop because it's much faster. And there still a lot of column to use and it needs to be filtered again. I didn't use any standardization because the result is already good enough. There's a lot to try like use bucket for the wage, value, and any other stats or use scaler. And i still didn't know what's special column.\n",
    "\n",
    "I should try to plot the data too. I will help me to see what's the data looks like and gain more information about the columns. I didn't use it because the result was already good but maybe I will add it if I have the time. Sorry :("
   ],
   "metadata": {
    "collapsed": false
   },
   "id": "cd4e637b55b58b0a"
  },
  {
   "cell_type": "markdown",
   "id": "5d59af48-18c0-4e40-80ff-33a85030b205",
   "metadata": {
    "id": "5d59af48-18c0-4e40-80ff-33a85030b205"
   },
   "source": [
    "## Submission\n",
    "\n",
    "Once you are satisfied with the performance of your model, then you run the code block below to submit your project.\n"
   ]
  },
  {
   "cell_type": "code",
   "execution_count": 12,
   "id": "010d7f7f-711d-4f41-82a3-3c2562e59709",
   "metadata": {
    "id": "010d7f7f-711d-4f41-82a3-3c2562e59709",
    "ExecuteTime": {
     "end_time": "2024-01-20T08:08:30.647680875Z",
     "start_time": "2024-01-20T08:08:29.283563209Z"
    }
   },
   "outputs": [
    {
     "data": {
      "text/plain": "'Assignment successfully submitted'"
     },
     "execution_count": 12,
     "metadata": {},
     "output_type": "execute_result"
    }
   ],
   "source": [
    "# Submit Method\n",
    "\n",
    "# Do not change the code below\n",
    "question_id = \"01_ml_project_features\"\n",
    "submit(student_id, name, assignment_id, str(ml_features), question_id, drive_link)\n",
    "question_id = \"02_ml_project_accuracy\"\n",
    "submit(student_id, name, assignment_id, str(ml_accuracy), question_id, drive_link)\n",
    "question_id = \"03_ml_project_f1score\"\n",
    "submit(student_id, name, assignment_id, str(ml_f1_score), question_id, drive_link)"
   ]
  },
  {
   "cell_type": "markdown",
   "id": "aa89b9ff-0d31-416a-b3c4-851c725fadf7",
   "metadata": {
    "id": "aa89b9ff-0d31-416a-b3c4-851c725fadf7"
   },
   "source": [
    "## FIN"
   ]
  }
 ],
 "metadata": {
  "kernelspec": {
   "display_name": "Python 3 (ipykernel)",
   "language": "python",
   "name": "python3"
  },
  "language_info": {
   "codemirror_mode": {
    "name": "ipython",
    "version": 3
   },
   "file_extension": ".py",
   "mimetype": "text/x-python",
   "name": "python",
   "nbconvert_exporter": "python",
   "pygments_lexer": "ipython3",
   "version": "3.11.3"
  },
  "colab": {
   "provenance": []
  }
 },
 "nbformat": 4,
 "nbformat_minor": 5
}
