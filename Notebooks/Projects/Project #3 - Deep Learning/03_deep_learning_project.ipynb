{
 "cells": [
  {
   "cell_type": "markdown",
   "metadata": {
    "id": "3wAdgw0hXaCs"
   },
   "source": [
    "**Instructions for Students:**\n",
    "\n",
    "Please carefully follow these steps to complete and submit your project:\n",
    "\n",
    "1. **Completing the Project**: You are required to work on and complete all tasks in the provided project. Be disciplined and ensure that you thoroughly engage with each task.\n",
    "   \n",
    "2. **Set up a Google Drive Folder**: Each of you must store your work in folder on your Google Drive. Create a new folder if you haven't already. This will be the repository for all your completed project files, aiding you in keeping your work organized and accessible.\n",
    "   \n",
    "3. **Uploading Completed Project**: Upon completion of your project, make sure to upload all necessary files, involving codes, reports, and related documents into the Google Drive folder. Save this link in the 'Student Identity' section and also provide it as the last parameter in the `submit` function that has been provided.\n",
    "   \n",
    "4. **Sharing Folder Link**: You're required to share the link to your project Google Drive folder. This is crucial for the submission and evaluation of your project.\n",
    "   \n",
    "5. **Setting Permission toPublic**: Please make sure your Google Drive folder is set to public. This allows your instructor to access your solutions and assess your work correctly.\n",
    "\n",
    "Adhering to these procedures will facilitate a smooth project process for you and the reviewers."
   ]
  },
  {
   "cell_type": "markdown",
   "metadata": {
    "id": "wveHsdMVXaCw"
   },
   "source": [
    "## Student Identity"
   ]
  },
  {
   "cell_type": "code",
   "execution_count": 4,
   "metadata": {
    "id": "hyNIXl_zXaCx",
    "ExecuteTime": {
     "end_time": "2024-01-27T07:44:00.238970712Z",
     "start_time": "2024-01-27T07:44:00.196390587Z"
    }
   },
   "outputs": [],
   "source": [
    "# @title #### Student Identity\n",
    "student_id = \"REA3X5EN\"  # @param {type:\"string\"}\n",
    "name = \"Steven Adi Santoso\"  # @param {type:\"string\"}\n",
    "drive_link = \"https://drive.google.com/drive/folders/1fva7HaFOYswOOHtWftQaeFYAPnpn7Q4W?usp=sharing\"  # @param {type:\"string\"}"
   ]
  },
  {
   "cell_type": "markdown",
   "metadata": {
    "id": "jtAixAL3XaCz"
   },
   "source": [
    "## Import package"
   ]
  },
  {
   "cell_type": "code",
   "execution_count": 2,
   "metadata": {
    "id": "NAxv2pZqXaCz",
    "ExecuteTime": {
     "end_time": "2024-01-27T07:43:09.961158483Z",
     "start_time": "2024-01-27T07:42:22.604927786Z"
    }
   },
   "outputs": [
    {
     "name": "stdout",
     "output_type": "stream",
     "text": [
      "Requirement already satisfied: fastbook in /home/steve/.conda/envs/skill-academy-ml/lib/python3.10/site-packages (0.0.29)\r\n",
      "Requirement already satisfied: pip in /home/steve/.conda/envs/skill-academy-ml/lib/python3.10/site-packages (from fastbook) (23.3.1)\r\n",
      "Requirement already satisfied: packaging in /home/steve/.conda/envs/skill-academy-ml/lib/python3.10/site-packages (from fastbook) (23.2)\r\n",
      "Requirement already satisfied: fastai>=2.6 in /home/steve/.conda/envs/skill-academy-ml/lib/python3.10/site-packages (from fastbook) (2.7.13)\r\n",
      "Requirement already satisfied: graphviz in /home/steve/.conda/envs/skill-academy-ml/lib/python3.10/site-packages (from fastbook) (0.20.1)\r\n",
      "Requirement already satisfied: pandas in /home/steve/.conda/envs/skill-academy-ml/lib/python3.10/site-packages (from fastbook) (2.1.4)\r\n",
      "Requirement already satisfied: requests in /home/steve/.conda/envs/skill-academy-ml/lib/python3.10/site-packages (from fastbook) (2.31.0)\r\n",
      "Requirement already satisfied: transformers in /home/steve/.conda/envs/skill-academy-ml/lib/python3.10/site-packages (from fastbook) (4.36.2)\r\n",
      "Requirement already satisfied: datasets in /home/steve/.conda/envs/skill-academy-ml/lib/python3.10/site-packages (from fastbook) (2.16.1)\r\n",
      "Requirement already satisfied: ipywidgets<8 in /home/steve/.conda/envs/skill-academy-ml/lib/python3.10/site-packages (from fastbook) (7.8.1)\r\n",
      "Requirement already satisfied: sentencepiece in /home/steve/.conda/envs/skill-academy-ml/lib/python3.10/site-packages (from fastbook) (0.1.99)\r\n",
      "Requirement already satisfied: fastdownload<2,>=0.0.5 in /home/steve/.conda/envs/skill-academy-ml/lib/python3.10/site-packages (from fastai>=2.6->fastbook) (0.0.7)\r\n",
      "Requirement already satisfied: fastcore<1.6,>=1.5.29 in /home/steve/.conda/envs/skill-academy-ml/lib/python3.10/site-packages (from fastai>=2.6->fastbook) (1.5.29)\r\n",
      "Requirement already satisfied: torchvision>=0.11 in /home/steve/.conda/envs/skill-academy-ml/lib/python3.10/site-packages (from fastai>=2.6->fastbook) (0.16.2)\r\n",
      "Requirement already satisfied: matplotlib in /home/steve/.conda/envs/skill-academy-ml/lib/python3.10/site-packages (from fastai>=2.6->fastbook) (3.8.2)\r\n",
      "Requirement already satisfied: pyyaml in /home/steve/.conda/envs/skill-academy-ml/lib/python3.10/site-packages (from fastai>=2.6->fastbook) (6.0.1)\r\n",
      "Requirement already satisfied: fastprogress>=0.2.4 in /home/steve/.conda/envs/skill-academy-ml/lib/python3.10/site-packages (from fastai>=2.6->fastbook) (1.0.3)\r\n",
      "Requirement already satisfied: pillow>=9.0.0 in /home/steve/.conda/envs/skill-academy-ml/lib/python3.10/site-packages (from fastai>=2.6->fastbook) (10.1.0)\r\n",
      "Requirement already satisfied: scikit-learn in /home/steve/.conda/envs/skill-academy-ml/lib/python3.10/site-packages (from fastai>=2.6->fastbook) (1.4.0)\r\n",
      "Requirement already satisfied: scipy in /home/steve/.conda/envs/skill-academy-ml/lib/python3.10/site-packages (from fastai>=2.6->fastbook) (1.11.4)\r\n",
      "Requirement already satisfied: spacy<4 in /home/steve/.conda/envs/skill-academy-ml/lib/python3.10/site-packages (from fastai>=2.6->fastbook) (3.7.2)\r\n",
      "Requirement already satisfied: torch<2.2,>=1.10 in /home/steve/.conda/envs/skill-academy-ml/lib/python3.10/site-packages (from fastai>=2.6->fastbook) (2.1.2)\r\n",
      "Requirement already satisfied: comm>=0.1.3 in /home/steve/.conda/envs/skill-academy-ml/lib/python3.10/site-packages (from ipywidgets<8->fastbook) (0.2.0)\r\n",
      "Requirement already satisfied: ipython-genutils~=0.2.0 in /home/steve/.conda/envs/skill-academy-ml/lib/python3.10/site-packages (from ipywidgets<8->fastbook) (0.2.0)\r\n",
      "Requirement already satisfied: traitlets>=4.3.1 in /home/steve/.conda/envs/skill-academy-ml/lib/python3.10/site-packages (from ipywidgets<8->fastbook) (5.14.0)\r\n",
      "Requirement already satisfied: widgetsnbextension~=3.6.6 in /home/steve/.conda/envs/skill-academy-ml/lib/python3.10/site-packages (from ipywidgets<8->fastbook) (3.6.6)\r\n",
      "Requirement already satisfied: ipython>=4.0.0 in /home/steve/.conda/envs/skill-academy-ml/lib/python3.10/site-packages (from ipywidgets<8->fastbook) (8.18.1)\r\n",
      "Requirement already satisfied: jupyterlab-widgets<3,>=1.0.0 in /home/steve/.conda/envs/skill-academy-ml/lib/python3.10/site-packages (from ipywidgets<8->fastbook) (1.1.7)\r\n",
      "Requirement already satisfied: filelock in /home/steve/.conda/envs/skill-academy-ml/lib/python3.10/site-packages (from datasets->fastbook) (3.13.1)\r\n",
      "Requirement already satisfied: numpy>=1.17 in /home/steve/.conda/envs/skill-academy-ml/lib/python3.10/site-packages (from datasets->fastbook) (1.26.2)\r\n",
      "Requirement already satisfied: pyarrow>=8.0.0 in /home/steve/.conda/envs/skill-academy-ml/lib/python3.10/site-packages (from datasets->fastbook) (14.0.2)\r\n",
      "Requirement already satisfied: pyarrow-hotfix in /home/steve/.conda/envs/skill-academy-ml/lib/python3.10/site-packages (from datasets->fastbook) (0.6)\r\n",
      "Requirement already satisfied: dill<0.3.8,>=0.3.0 in /home/steve/.conda/envs/skill-academy-ml/lib/python3.10/site-packages (from datasets->fastbook) (0.3.7)\r\n",
      "Requirement already satisfied: tqdm>=4.62.1 in /home/steve/.conda/envs/skill-academy-ml/lib/python3.10/site-packages (from datasets->fastbook) (4.66.1)\r\n",
      "Requirement already satisfied: xxhash in /home/steve/.conda/envs/skill-academy-ml/lib/python3.10/site-packages (from datasets->fastbook) (3.4.1)\r\n",
      "Requirement already satisfied: multiprocess in /home/steve/.conda/envs/skill-academy-ml/lib/python3.10/site-packages (from datasets->fastbook) (0.70.15)\r\n",
      "Requirement already satisfied: fsspec<=2023.10.0,>=2023.1.0 in /home/steve/.conda/envs/skill-academy-ml/lib/python3.10/site-packages (from fsspec[http]<=2023.10.0,>=2023.1.0->datasets->fastbook) (2023.10.0)\r\n",
      "Requirement already satisfied: aiohttp in /home/steve/.conda/envs/skill-academy-ml/lib/python3.10/site-packages (from datasets->fastbook) (3.9.1)\r\n",
      "Requirement already satisfied: huggingface-hub>=0.19.4 in /home/steve/.conda/envs/skill-academy-ml/lib/python3.10/site-packages (from datasets->fastbook) (0.19.4)\r\n",
      "Requirement already satisfied: charset-normalizer<4,>=2 in /home/steve/.conda/envs/skill-academy-ml/lib/python3.10/site-packages (from requests->fastbook) (3.3.2)\r\n",
      "Requirement already satisfied: idna<4,>=2.5 in /home/steve/.conda/envs/skill-academy-ml/lib/python3.10/site-packages (from requests->fastbook) (3.6)\r\n",
      "Requirement already satisfied: urllib3<3,>=1.21.1 in /home/steve/.conda/envs/skill-academy-ml/lib/python3.10/site-packages (from requests->fastbook) (2.1.0)\r\n",
      "Requirement already satisfied: certifi>=2017.4.17 in /home/steve/.conda/envs/skill-academy-ml/lib/python3.10/site-packages (from requests->fastbook) (2023.11.17)\r\n",
      "Requirement already satisfied: python-dateutil>=2.8.2 in /home/steve/.conda/envs/skill-academy-ml/lib/python3.10/site-packages (from pandas->fastbook) (2.8.2)\r\n",
      "Requirement already satisfied: pytz>=2020.1 in /home/steve/.conda/envs/skill-academy-ml/lib/python3.10/site-packages (from pandas->fastbook) (2023.3.post1)\r\n",
      "Requirement already satisfied: tzdata>=2022.1 in /home/steve/.conda/envs/skill-academy-ml/lib/python3.10/site-packages (from pandas->fastbook) (2023.3)\r\n",
      "Requirement already satisfied: regex!=2019.12.17 in /home/steve/.conda/envs/skill-academy-ml/lib/python3.10/site-packages (from transformers->fastbook) (2023.12.25)\r\n",
      "Requirement already satisfied: tokenizers<0.19,>=0.14 in /home/steve/.conda/envs/skill-academy-ml/lib/python3.10/site-packages (from transformers->fastbook) (0.15.0)\r\n",
      "Requirement already satisfied: safetensors>=0.3.1 in /home/steve/.conda/envs/skill-academy-ml/lib/python3.10/site-packages (from transformers->fastbook) (0.4.1)\r\n",
      "Requirement already satisfied: attrs>=17.3.0 in /home/steve/.conda/envs/skill-academy-ml/lib/python3.10/site-packages (from aiohttp->datasets->fastbook) (23.1.0)\r\n",
      "Requirement already satisfied: multidict<7.0,>=4.5 in /home/steve/.conda/envs/skill-academy-ml/lib/python3.10/site-packages (from aiohttp->datasets->fastbook) (6.0.4)\r\n",
      "Requirement already satisfied: yarl<2.0,>=1.0 in /home/steve/.conda/envs/skill-academy-ml/lib/python3.10/site-packages (from aiohttp->datasets->fastbook) (1.9.4)\r\n",
      "Requirement already satisfied: frozenlist>=1.1.1 in /home/steve/.conda/envs/skill-academy-ml/lib/python3.10/site-packages (from aiohttp->datasets->fastbook) (1.4.1)\r\n",
      "Requirement already satisfied: aiosignal>=1.1.2 in /home/steve/.conda/envs/skill-academy-ml/lib/python3.10/site-packages (from aiohttp->datasets->fastbook) (1.3.1)\r\n",
      "Requirement already satisfied: async-timeout<5.0,>=4.0 in /home/steve/.conda/envs/skill-academy-ml/lib/python3.10/site-packages (from aiohttp->datasets->fastbook) (4.0.3)\r\n",
      "Requirement already satisfied: typing-extensions>=3.7.4.3 in /home/steve/.conda/envs/skill-academy-ml/lib/python3.10/site-packages (from huggingface-hub>=0.19.4->datasets->fastbook) (4.9.0)\r\n",
      "Requirement already satisfied: decorator in /home/steve/.conda/envs/skill-academy-ml/lib/python3.10/site-packages (from ipython>=4.0.0->ipywidgets<8->fastbook) (5.1.1)\r\n",
      "Requirement already satisfied: jedi>=0.16 in /home/steve/.conda/envs/skill-academy-ml/lib/python3.10/site-packages (from ipython>=4.0.0->ipywidgets<8->fastbook) (0.19.1)\r\n",
      "Requirement already satisfied: matplotlib-inline in /home/steve/.conda/envs/skill-academy-ml/lib/python3.10/site-packages (from ipython>=4.0.0->ipywidgets<8->fastbook) (0.1.6)\r\n",
      "Requirement already satisfied: prompt-toolkit<3.1.0,>=3.0.41 in /home/steve/.conda/envs/skill-academy-ml/lib/python3.10/site-packages (from ipython>=4.0.0->ipywidgets<8->fastbook) (3.0.41)\r\n",
      "Requirement already satisfied: pygments>=2.4.0 in /home/steve/.conda/envs/skill-academy-ml/lib/python3.10/site-packages (from ipython>=4.0.0->ipywidgets<8->fastbook) (2.17.2)\r\n",
      "Requirement already satisfied: stack-data in /home/steve/.conda/envs/skill-academy-ml/lib/python3.10/site-packages (from ipython>=4.0.0->ipywidgets<8->fastbook) (0.6.3)\r\n",
      "Requirement already satisfied: exceptiongroup in /home/steve/.conda/envs/skill-academy-ml/lib/python3.10/site-packages (from ipython>=4.0.0->ipywidgets<8->fastbook) (1.2.0)\r\n",
      "Requirement already satisfied: pexpect>4.3 in /home/steve/.conda/envs/skill-academy-ml/lib/python3.10/site-packages (from ipython>=4.0.0->ipywidgets<8->fastbook) (4.9.0)\r\n",
      "Requirement already satisfied: six>=1.5 in /home/steve/.conda/envs/skill-academy-ml/lib/python3.10/site-packages (from python-dateutil>=2.8.2->pandas->fastbook) (1.16.0)\r\n",
      "Requirement already satisfied: spacy-legacy<3.1.0,>=3.0.11 in /home/steve/.conda/envs/skill-academy-ml/lib/python3.10/site-packages (from spacy<4->fastai>=2.6->fastbook) (3.0.12)\r\n",
      "Requirement already satisfied: spacy-loggers<2.0.0,>=1.0.0 in /home/steve/.conda/envs/skill-academy-ml/lib/python3.10/site-packages (from spacy<4->fastai>=2.6->fastbook) (1.0.5)\r\n",
      "Requirement already satisfied: murmurhash<1.1.0,>=0.28.0 in /home/steve/.conda/envs/skill-academy-ml/lib/python3.10/site-packages (from spacy<4->fastai>=2.6->fastbook) (1.0.10)\r\n",
      "Requirement already satisfied: cymem<2.1.0,>=2.0.2 in /home/steve/.conda/envs/skill-academy-ml/lib/python3.10/site-packages (from spacy<4->fastai>=2.6->fastbook) (2.0.8)\r\n",
      "Requirement already satisfied: preshed<3.1.0,>=3.0.2 in /home/steve/.conda/envs/skill-academy-ml/lib/python3.10/site-packages (from spacy<4->fastai>=2.6->fastbook) (3.0.9)\r\n",
      "Requirement already satisfied: thinc<8.3.0,>=8.1.8 in /home/steve/.conda/envs/skill-academy-ml/lib/python3.10/site-packages (from spacy<4->fastai>=2.6->fastbook) (8.2.2)\r\n",
      "Requirement already satisfied: wasabi<1.2.0,>=0.9.1 in /home/steve/.conda/envs/skill-academy-ml/lib/python3.10/site-packages (from spacy<4->fastai>=2.6->fastbook) (1.1.2)\r\n",
      "Requirement already satisfied: srsly<3.0.0,>=2.4.3 in /home/steve/.conda/envs/skill-academy-ml/lib/python3.10/site-packages (from spacy<4->fastai>=2.6->fastbook) (2.4.8)\r\n",
      "Requirement already satisfied: catalogue<2.1.0,>=2.0.6 in /home/steve/.conda/envs/skill-academy-ml/lib/python3.10/site-packages (from spacy<4->fastai>=2.6->fastbook) (2.0.10)\r\n",
      "Requirement already satisfied: weasel<0.4.0,>=0.1.0 in /home/steve/.conda/envs/skill-academy-ml/lib/python3.10/site-packages (from spacy<4->fastai>=2.6->fastbook) (0.3.4)\r\n",
      "Requirement already satisfied: typer<0.10.0,>=0.3.0 in /home/steve/.conda/envs/skill-academy-ml/lib/python3.10/site-packages (from spacy<4->fastai>=2.6->fastbook) (0.9.0)\r\n",
      "Requirement already satisfied: smart-open<7.0.0,>=5.2.1 in /home/steve/.conda/envs/skill-academy-ml/lib/python3.10/site-packages (from spacy<4->fastai>=2.6->fastbook) (6.4.0)\r\n",
      "Requirement already satisfied: pydantic!=1.8,!=1.8.1,<3.0.0,>=1.7.4 in /home/steve/.conda/envs/skill-academy-ml/lib/python3.10/site-packages (from spacy<4->fastai>=2.6->fastbook) (2.5.2)\r\n",
      "Requirement already satisfied: jinja2 in /home/steve/.conda/envs/skill-academy-ml/lib/python3.10/site-packages (from spacy<4->fastai>=2.6->fastbook) (3.1.2)\r\n",
      "Requirement already satisfied: setuptools in /home/steve/.conda/envs/skill-academy-ml/lib/python3.10/site-packages (from spacy<4->fastai>=2.6->fastbook) (68.0.0)\r\n",
      "Requirement already satisfied: langcodes<4.0.0,>=3.2.0 in /home/steve/.conda/envs/skill-academy-ml/lib/python3.10/site-packages (from spacy<4->fastai>=2.6->fastbook) (3.3.0)\r\n",
      "Requirement already satisfied: sympy in /home/steve/.conda/envs/skill-academy-ml/lib/python3.10/site-packages (from torch<2.2,>=1.10->fastai>=2.6->fastbook) (1.12)\r\n",
      "Requirement already satisfied: networkx in /home/steve/.conda/envs/skill-academy-ml/lib/python3.10/site-packages (from torch<2.2,>=1.10->fastai>=2.6->fastbook) (3.2.1)\r\n",
      "Requirement already satisfied: nvidia-cuda-nvrtc-cu12==12.1.105 in /home/steve/.conda/envs/skill-academy-ml/lib/python3.10/site-packages (from torch<2.2,>=1.10->fastai>=2.6->fastbook) (12.1.105)\r\n",
      "Requirement already satisfied: nvidia-cuda-runtime-cu12==12.1.105 in /home/steve/.conda/envs/skill-academy-ml/lib/python3.10/site-packages (from torch<2.2,>=1.10->fastai>=2.6->fastbook) (12.1.105)\r\n",
      "Requirement already satisfied: nvidia-cuda-cupti-cu12==12.1.105 in /home/steve/.conda/envs/skill-academy-ml/lib/python3.10/site-packages (from torch<2.2,>=1.10->fastai>=2.6->fastbook) (12.1.105)\r\n",
      "Requirement already satisfied: nvidia-cudnn-cu12==8.9.2.26 in /home/steve/.conda/envs/skill-academy-ml/lib/python3.10/site-packages (from torch<2.2,>=1.10->fastai>=2.6->fastbook) (8.9.2.26)\r\n",
      "Requirement already satisfied: nvidia-cublas-cu12==12.1.3.1 in /home/steve/.conda/envs/skill-academy-ml/lib/python3.10/site-packages (from torch<2.2,>=1.10->fastai>=2.6->fastbook) (12.1.3.1)\r\n",
      "Requirement already satisfied: nvidia-cufft-cu12==11.0.2.54 in /home/steve/.conda/envs/skill-academy-ml/lib/python3.10/site-packages (from torch<2.2,>=1.10->fastai>=2.6->fastbook) (11.0.2.54)\r\n",
      "Requirement already satisfied: nvidia-curand-cu12==10.3.2.106 in /home/steve/.conda/envs/skill-academy-ml/lib/python3.10/site-packages (from torch<2.2,>=1.10->fastai>=2.6->fastbook) (10.3.2.106)\r\n",
      "Requirement already satisfied: nvidia-cusolver-cu12==11.4.5.107 in /home/steve/.conda/envs/skill-academy-ml/lib/python3.10/site-packages (from torch<2.2,>=1.10->fastai>=2.6->fastbook) (11.4.5.107)\r\n",
      "Requirement already satisfied: nvidia-cusparse-cu12==12.1.0.106 in /home/steve/.conda/envs/skill-academy-ml/lib/python3.10/site-packages (from torch<2.2,>=1.10->fastai>=2.6->fastbook) (12.1.0.106)\r\n",
      "Requirement already satisfied: nvidia-nccl-cu12==2.18.1 in /home/steve/.conda/envs/skill-academy-ml/lib/python3.10/site-packages (from torch<2.2,>=1.10->fastai>=2.6->fastbook) (2.18.1)\r\n",
      "Requirement already satisfied: nvidia-nvtx-cu12==12.1.105 in /home/steve/.conda/envs/skill-academy-ml/lib/python3.10/site-packages (from torch<2.2,>=1.10->fastai>=2.6->fastbook) (12.1.105)\r\n",
      "Requirement already satisfied: triton==2.1.0 in /home/steve/.conda/envs/skill-academy-ml/lib/python3.10/site-packages (from torch<2.2,>=1.10->fastai>=2.6->fastbook) (2.1.0)\r\n",
      "Requirement already satisfied: nvidia-nvjitlink-cu12 in /home/steve/.conda/envs/skill-academy-ml/lib/python3.10/site-packages (from nvidia-cusolver-cu12==11.4.5.107->torch<2.2,>=1.10->fastai>=2.6->fastbook) (12.3.101)\r\n",
      "Requirement already satisfied: notebook>=4.4.1 in /home/steve/.conda/envs/skill-academy-ml/lib/python3.10/site-packages (from widgetsnbextension~=3.6.6->ipywidgets<8->fastbook) (7.0.6)\r\n",
      "Requirement already satisfied: contourpy>=1.0.1 in /home/steve/.conda/envs/skill-academy-ml/lib/python3.10/site-packages (from matplotlib->fastai>=2.6->fastbook) (1.2.0)\r\n",
      "Requirement already satisfied: cycler>=0.10 in /home/steve/.conda/envs/skill-academy-ml/lib/python3.10/site-packages (from matplotlib->fastai>=2.6->fastbook) (0.12.1)\r\n",
      "Requirement already satisfied: fonttools>=4.22.0 in /home/steve/.conda/envs/skill-academy-ml/lib/python3.10/site-packages (from matplotlib->fastai>=2.6->fastbook) (4.46.0)\r\n",
      "Requirement already satisfied: kiwisolver>=1.3.1 in /home/steve/.conda/envs/skill-academy-ml/lib/python3.10/site-packages (from matplotlib->fastai>=2.6->fastbook) (1.4.5)\r\n",
      "Requirement already satisfied: pyparsing>=2.3.1 in /home/steve/.conda/envs/skill-academy-ml/lib/python3.10/site-packages (from matplotlib->fastai>=2.6->fastbook) (3.1.1)\r\n",
      "Requirement already satisfied: joblib>=1.2.0 in /home/steve/.conda/envs/skill-academy-ml/lib/python3.10/site-packages (from scikit-learn->fastai>=2.6->fastbook) (1.3.2)\r\n",
      "Requirement already satisfied: threadpoolctl>=2.0.0 in /home/steve/.conda/envs/skill-academy-ml/lib/python3.10/site-packages (from scikit-learn->fastai>=2.6->fastbook) (3.2.0)\r\n",
      "Requirement already satisfied: parso<0.9.0,>=0.8.3 in /home/steve/.conda/envs/skill-academy-ml/lib/python3.10/site-packages (from jedi>=0.16->ipython>=4.0.0->ipywidgets<8->fastbook) (0.8.3)\r\n",
      "Requirement already satisfied: jupyter-server<3,>=2.4.0 in /home/steve/.conda/envs/skill-academy-ml/lib/python3.10/site-packages (from notebook>=4.4.1->widgetsnbextension~=3.6.6->ipywidgets<8->fastbook) (2.12.1)\r\n",
      "Requirement already satisfied: jupyterlab-server<3,>=2.22.1 in /home/steve/.conda/envs/skill-academy-ml/lib/python3.10/site-packages (from notebook>=4.4.1->widgetsnbextension~=3.6.6->ipywidgets<8->fastbook) (2.25.2)\r\n",
      "Requirement already satisfied: jupyterlab<5,>=4.0.2 in /home/steve/.conda/envs/skill-academy-ml/lib/python3.10/site-packages (from notebook>=4.4.1->widgetsnbextension~=3.6.6->ipywidgets<8->fastbook) (4.0.9)\r\n",
      "Requirement already satisfied: notebook-shim<0.3,>=0.2 in /home/steve/.conda/envs/skill-academy-ml/lib/python3.10/site-packages (from notebook>=4.4.1->widgetsnbextension~=3.6.6->ipywidgets<8->fastbook) (0.2.3)\r\n",
      "Requirement already satisfied: tornado>=6.2.0 in /home/steve/.conda/envs/skill-academy-ml/lib/python3.10/site-packages (from notebook>=4.4.1->widgetsnbextension~=3.6.6->ipywidgets<8->fastbook) (6.4)\r\n",
      "Requirement already satisfied: ptyprocess>=0.5 in /home/steve/.conda/envs/skill-academy-ml/lib/python3.10/site-packages (from pexpect>4.3->ipython>=4.0.0->ipywidgets<8->fastbook) (0.7.0)\r\n",
      "Requirement already satisfied: wcwidth in /home/steve/.conda/envs/skill-academy-ml/lib/python3.10/site-packages (from prompt-toolkit<3.1.0,>=3.0.41->ipython>=4.0.0->ipywidgets<8->fastbook) (0.2.12)\r\n",
      "Requirement already satisfied: annotated-types>=0.4.0 in /home/steve/.conda/envs/skill-academy-ml/lib/python3.10/site-packages (from pydantic!=1.8,!=1.8.1,<3.0.0,>=1.7.4->spacy<4->fastai>=2.6->fastbook) (0.6.0)\r\n",
      "Requirement already satisfied: pydantic-core==2.14.5 in /home/steve/.conda/envs/skill-academy-ml/lib/python3.10/site-packages (from pydantic!=1.8,!=1.8.1,<3.0.0,>=1.7.4->spacy<4->fastai>=2.6->fastbook) (2.14.5)\r\n",
      "Requirement already satisfied: blis<0.8.0,>=0.7.8 in /home/steve/.conda/envs/skill-academy-ml/lib/python3.10/site-packages (from thinc<8.3.0,>=8.1.8->spacy<4->fastai>=2.6->fastbook) (0.7.11)\r\n",
      "Requirement already satisfied: confection<1.0.0,>=0.0.1 in /home/steve/.conda/envs/skill-academy-ml/lib/python3.10/site-packages (from thinc<8.3.0,>=8.1.8->spacy<4->fastai>=2.6->fastbook) (0.1.4)\r\n",
      "Requirement already satisfied: click<9.0.0,>=7.1.1 in /home/steve/.conda/envs/skill-academy-ml/lib/python3.10/site-packages (from typer<0.10.0,>=0.3.0->spacy<4->fastai>=2.6->fastbook) (8.1.7)\r\n",
      "Requirement already satisfied: cloudpathlib<0.17.0,>=0.7.0 in /home/steve/.conda/envs/skill-academy-ml/lib/python3.10/site-packages (from weasel<0.4.0,>=0.1.0->spacy<4->fastai>=2.6->fastbook) (0.16.0)\r\n",
      "Requirement already satisfied: MarkupSafe>=2.0 in /home/steve/.conda/envs/skill-academy-ml/lib/python3.10/site-packages (from jinja2->spacy<4->fastai>=2.6->fastbook) (2.1.3)\r\n",
      "Requirement already satisfied: executing>=1.2.0 in /home/steve/.conda/envs/skill-academy-ml/lib/python3.10/site-packages (from stack-data->ipython>=4.0.0->ipywidgets<8->fastbook) (2.0.1)\r\n",
      "Requirement already satisfied: asttokens>=2.1.0 in /home/steve/.conda/envs/skill-academy-ml/lib/python3.10/site-packages (from stack-data->ipython>=4.0.0->ipywidgets<8->fastbook) (2.4.1)\r\n",
      "Requirement already satisfied: pure-eval in /home/steve/.conda/envs/skill-academy-ml/lib/python3.10/site-packages (from stack-data->ipython>=4.0.0->ipywidgets<8->fastbook) (0.2.2)\r\n",
      "Requirement already satisfied: mpmath>=0.19 in /home/steve/.conda/envs/skill-academy-ml/lib/python3.10/site-packages (from sympy->torch<2.2,>=1.10->fastai>=2.6->fastbook) (1.3.0)\r\n",
      "Requirement already satisfied: anyio>=3.1.0 in /home/steve/.conda/envs/skill-academy-ml/lib/python3.10/site-packages (from jupyter-server<3,>=2.4.0->notebook>=4.4.1->widgetsnbextension~=3.6.6->ipywidgets<8->fastbook) (3.7.1)\r\n",
      "Requirement already satisfied: argon2-cffi in /home/steve/.conda/envs/skill-academy-ml/lib/python3.10/site-packages (from jupyter-server<3,>=2.4.0->notebook>=4.4.1->widgetsnbextension~=3.6.6->ipywidgets<8->fastbook) (23.1.0)\r\n",
      "Requirement already satisfied: jupyter-client>=7.4.4 in /home/steve/.conda/envs/skill-academy-ml/lib/python3.10/site-packages (from jupyter-server<3,>=2.4.0->notebook>=4.4.1->widgetsnbextension~=3.6.6->ipywidgets<8->fastbook) (8.6.0)\r\n",
      "Requirement already satisfied: jupyter-core!=5.0.*,>=4.12 in /home/steve/.conda/envs/skill-academy-ml/lib/python3.10/site-packages (from jupyter-server<3,>=2.4.0->notebook>=4.4.1->widgetsnbextension~=3.6.6->ipywidgets<8->fastbook) (5.5.0)\r\n",
      "Requirement already satisfied: jupyter-events>=0.9.0 in /home/steve/.conda/envs/skill-academy-ml/lib/python3.10/site-packages (from jupyter-server<3,>=2.4.0->notebook>=4.4.1->widgetsnbextension~=3.6.6->ipywidgets<8->fastbook) (0.9.0)\r\n",
      "Requirement already satisfied: jupyter-server-terminals in /home/steve/.conda/envs/skill-academy-ml/lib/python3.10/site-packages (from jupyter-server<3,>=2.4.0->notebook>=4.4.1->widgetsnbextension~=3.6.6->ipywidgets<8->fastbook) (0.5.0)\r\n",
      "Requirement already satisfied: nbconvert>=6.4.4 in /home/steve/.conda/envs/skill-academy-ml/lib/python3.10/site-packages (from jupyter-server<3,>=2.4.0->notebook>=4.4.1->widgetsnbextension~=3.6.6->ipywidgets<8->fastbook) (7.12.0)\r\n",
      "Requirement already satisfied: nbformat>=5.3.0 in /home/steve/.conda/envs/skill-academy-ml/lib/python3.10/site-packages (from jupyter-server<3,>=2.4.0->notebook>=4.4.1->widgetsnbextension~=3.6.6->ipywidgets<8->fastbook) (5.9.2)\r\n",
      "Requirement already satisfied: overrides in /home/steve/.conda/envs/skill-academy-ml/lib/python3.10/site-packages (from jupyter-server<3,>=2.4.0->notebook>=4.4.1->widgetsnbextension~=3.6.6->ipywidgets<8->fastbook) (7.4.0)\r\n",
      "Requirement already satisfied: prometheus-client in /home/steve/.conda/envs/skill-academy-ml/lib/python3.10/site-packages (from jupyter-server<3,>=2.4.0->notebook>=4.4.1->widgetsnbextension~=3.6.6->ipywidgets<8->fastbook) (0.19.0)\r\n",
      "Requirement already satisfied: pyzmq>=24 in /home/steve/.conda/envs/skill-academy-ml/lib/python3.10/site-packages (from jupyter-server<3,>=2.4.0->notebook>=4.4.1->widgetsnbextension~=3.6.6->ipywidgets<8->fastbook) (25.1.2)\r\n",
      "Requirement already satisfied: send2trash>=1.8.2 in /home/steve/.conda/envs/skill-academy-ml/lib/python3.10/site-packages (from jupyter-server<3,>=2.4.0->notebook>=4.4.1->widgetsnbextension~=3.6.6->ipywidgets<8->fastbook) (1.8.2)\r\n",
      "Requirement already satisfied: terminado>=0.8.3 in /home/steve/.conda/envs/skill-academy-ml/lib/python3.10/site-packages (from jupyter-server<3,>=2.4.0->notebook>=4.4.1->widgetsnbextension~=3.6.6->ipywidgets<8->fastbook) (0.18.0)\r\n",
      "Requirement already satisfied: websocket-client in /home/steve/.conda/envs/skill-academy-ml/lib/python3.10/site-packages (from jupyter-server<3,>=2.4.0->notebook>=4.4.1->widgetsnbextension~=3.6.6->ipywidgets<8->fastbook) (1.7.0)\r\n",
      "Requirement already satisfied: async-lru>=1.0.0 in /home/steve/.conda/envs/skill-academy-ml/lib/python3.10/site-packages (from jupyterlab<5,>=4.0.2->notebook>=4.4.1->widgetsnbextension~=3.6.6->ipywidgets<8->fastbook) (2.0.4)\r\n",
      "Requirement already satisfied: ipykernel in /home/steve/.conda/envs/skill-academy-ml/lib/python3.10/site-packages (from jupyterlab<5,>=4.0.2->notebook>=4.4.1->widgetsnbextension~=3.6.6->ipywidgets<8->fastbook) (6.27.1)\r\n",
      "Requirement already satisfied: jupyter-lsp>=2.0.0 in /home/steve/.conda/envs/skill-academy-ml/lib/python3.10/site-packages (from jupyterlab<5,>=4.0.2->notebook>=4.4.1->widgetsnbextension~=3.6.6->ipywidgets<8->fastbook) (2.2.1)\r\n",
      "Requirement already satisfied: tomli in /home/steve/.conda/envs/skill-academy-ml/lib/python3.10/site-packages (from jupyterlab<5,>=4.0.2->notebook>=4.4.1->widgetsnbextension~=3.6.6->ipywidgets<8->fastbook) (2.0.1)\r\n",
      "Requirement already satisfied: babel>=2.10 in /home/steve/.conda/envs/skill-academy-ml/lib/python3.10/site-packages (from jupyterlab-server<3,>=2.22.1->notebook>=4.4.1->widgetsnbextension~=3.6.6->ipywidgets<8->fastbook) (2.13.1)\r\n",
      "Requirement already satisfied: json5>=0.9.0 in /home/steve/.conda/envs/skill-academy-ml/lib/python3.10/site-packages (from jupyterlab-server<3,>=2.22.1->notebook>=4.4.1->widgetsnbextension~=3.6.6->ipywidgets<8->fastbook) (0.9.14)\r\n",
      "Requirement already satisfied: jsonschema>=4.18.0 in /home/steve/.conda/envs/skill-academy-ml/lib/python3.10/site-packages (from jupyterlab-server<3,>=2.22.1->notebook>=4.4.1->widgetsnbextension~=3.6.6->ipywidgets<8->fastbook) (4.20.0)\r\n",
      "Requirement already satisfied: sniffio>=1.1 in /home/steve/.conda/envs/skill-academy-ml/lib/python3.10/site-packages (from anyio>=3.1.0->jupyter-server<3,>=2.4.0->notebook>=4.4.1->widgetsnbextension~=3.6.6->ipywidgets<8->fastbook) (1.3.0)\r\n",
      "Requirement already satisfied: jsonschema-specifications>=2023.03.6 in /home/steve/.conda/envs/skill-academy-ml/lib/python3.10/site-packages (from jsonschema>=4.18.0->jupyterlab-server<3,>=2.22.1->notebook>=4.4.1->widgetsnbextension~=3.6.6->ipywidgets<8->fastbook) (2023.11.2)\r\n",
      "Requirement already satisfied: referencing>=0.28.4 in /home/steve/.conda/envs/skill-academy-ml/lib/python3.10/site-packages (from jsonschema>=4.18.0->jupyterlab-server<3,>=2.22.1->notebook>=4.4.1->widgetsnbextension~=3.6.6->ipywidgets<8->fastbook) (0.32.0)\r\n",
      "Requirement already satisfied: rpds-py>=0.7.1 in /home/steve/.conda/envs/skill-academy-ml/lib/python3.10/site-packages (from jsonschema>=4.18.0->jupyterlab-server<3,>=2.22.1->notebook>=4.4.1->widgetsnbextension~=3.6.6->ipywidgets<8->fastbook) (0.13.2)\r\n",
      "Requirement already satisfied: platformdirs>=2.5 in /home/steve/.conda/envs/skill-academy-ml/lib/python3.10/site-packages (from jupyter-core!=5.0.*,>=4.12->jupyter-server<3,>=2.4.0->notebook>=4.4.1->widgetsnbextension~=3.6.6->ipywidgets<8->fastbook) (4.1.0)\r\n",
      "Requirement already satisfied: python-json-logger>=2.0.4 in /home/steve/.conda/envs/skill-academy-ml/lib/python3.10/site-packages (from jupyter-events>=0.9.0->jupyter-server<3,>=2.4.0->notebook>=4.4.1->widgetsnbextension~=3.6.6->ipywidgets<8->fastbook) (2.0.7)\r\n",
      "Requirement already satisfied: rfc3339-validator in /home/steve/.conda/envs/skill-academy-ml/lib/python3.10/site-packages (from jupyter-events>=0.9.0->jupyter-server<3,>=2.4.0->notebook>=4.4.1->widgetsnbextension~=3.6.6->ipywidgets<8->fastbook) (0.1.4)\r\n",
      "Requirement already satisfied: rfc3986-validator>=0.1.1 in /home/steve/.conda/envs/skill-academy-ml/lib/python3.10/site-packages (from jupyter-events>=0.9.0->jupyter-server<3,>=2.4.0->notebook>=4.4.1->widgetsnbextension~=3.6.6->ipywidgets<8->fastbook) (0.1.1)\r\n",
      "Requirement already satisfied: beautifulsoup4 in /home/steve/.conda/envs/skill-academy-ml/lib/python3.10/site-packages (from nbconvert>=6.4.4->jupyter-server<3,>=2.4.0->notebook>=4.4.1->widgetsnbextension~=3.6.6->ipywidgets<8->fastbook) (4.12.2)\r\n",
      "Requirement already satisfied: bleach!=5.0.0 in /home/steve/.conda/envs/skill-academy-ml/lib/python3.10/site-packages (from nbconvert>=6.4.4->jupyter-server<3,>=2.4.0->notebook>=4.4.1->widgetsnbextension~=3.6.6->ipywidgets<8->fastbook) (6.1.0)\r\n",
      "Requirement already satisfied: defusedxml in /home/steve/.conda/envs/skill-academy-ml/lib/python3.10/site-packages (from nbconvert>=6.4.4->jupyter-server<3,>=2.4.0->notebook>=4.4.1->widgetsnbextension~=3.6.6->ipywidgets<8->fastbook) (0.7.1)\r\n",
      "Requirement already satisfied: jupyterlab-pygments in /home/steve/.conda/envs/skill-academy-ml/lib/python3.10/site-packages (from nbconvert>=6.4.4->jupyter-server<3,>=2.4.0->notebook>=4.4.1->widgetsnbextension~=3.6.6->ipywidgets<8->fastbook) (0.3.0)\r\n",
      "Requirement already satisfied: mistune<4,>=2.0.3 in /home/steve/.conda/envs/skill-academy-ml/lib/python3.10/site-packages (from nbconvert>=6.4.4->jupyter-server<3,>=2.4.0->notebook>=4.4.1->widgetsnbextension~=3.6.6->ipywidgets<8->fastbook) (3.0.2)\r\n",
      "Requirement already satisfied: nbclient>=0.5.0 in /home/steve/.conda/envs/skill-academy-ml/lib/python3.10/site-packages (from nbconvert>=6.4.4->jupyter-server<3,>=2.4.0->notebook>=4.4.1->widgetsnbextension~=3.6.6->ipywidgets<8->fastbook) (0.9.0)\r\n",
      "Requirement already satisfied: pandocfilters>=1.4.1 in /home/steve/.conda/envs/skill-academy-ml/lib/python3.10/site-packages (from nbconvert>=6.4.4->jupyter-server<3,>=2.4.0->notebook>=4.4.1->widgetsnbextension~=3.6.6->ipywidgets<8->fastbook) (1.5.0)\r\n",
      "Requirement already satisfied: tinycss2 in /home/steve/.conda/envs/skill-academy-ml/lib/python3.10/site-packages (from nbconvert>=6.4.4->jupyter-server<3,>=2.4.0->notebook>=4.4.1->widgetsnbextension~=3.6.6->ipywidgets<8->fastbook) (1.2.1)\r\n",
      "Requirement already satisfied: fastjsonschema in /home/steve/.conda/envs/skill-academy-ml/lib/python3.10/site-packages (from nbformat>=5.3.0->jupyter-server<3,>=2.4.0->notebook>=4.4.1->widgetsnbextension~=3.6.6->ipywidgets<8->fastbook) (2.19.0)\r\n",
      "Requirement already satisfied: argon2-cffi-bindings in /home/steve/.conda/envs/skill-academy-ml/lib/python3.10/site-packages (from argon2-cffi->jupyter-server<3,>=2.4.0->notebook>=4.4.1->widgetsnbextension~=3.6.6->ipywidgets<8->fastbook) (21.2.0)\r\n",
      "Requirement already satisfied: debugpy>=1.6.5 in /home/steve/.conda/envs/skill-academy-ml/lib/python3.10/site-packages (from ipykernel->jupyterlab<5,>=4.0.2->notebook>=4.4.1->widgetsnbextension~=3.6.6->ipywidgets<8->fastbook) (1.8.0)\r\n",
      "Requirement already satisfied: nest-asyncio in /home/steve/.conda/envs/skill-academy-ml/lib/python3.10/site-packages (from ipykernel->jupyterlab<5,>=4.0.2->notebook>=4.4.1->widgetsnbextension~=3.6.6->ipywidgets<8->fastbook) (1.5.8)\r\n",
      "Requirement already satisfied: psutil in /home/steve/.conda/envs/skill-academy-ml/lib/python3.10/site-packages (from ipykernel->jupyterlab<5,>=4.0.2->notebook>=4.4.1->widgetsnbextension~=3.6.6->ipywidgets<8->fastbook) (5.9.6)\r\n",
      "Requirement already satisfied: webencodings in /home/steve/.conda/envs/skill-academy-ml/lib/python3.10/site-packages (from bleach!=5.0.0->nbconvert>=6.4.4->jupyter-server<3,>=2.4.0->notebook>=4.4.1->widgetsnbextension~=3.6.6->ipywidgets<8->fastbook) (0.5.1)\r\n",
      "Requirement already satisfied: fqdn in /home/steve/.conda/envs/skill-academy-ml/lib/python3.10/site-packages (from jsonschema[format-nongpl]>=4.18.0->jupyter-events>=0.9.0->jupyter-server<3,>=2.4.0->notebook>=4.4.1->widgetsnbextension~=3.6.6->ipywidgets<8->fastbook) (1.5.1)\r\n",
      "Requirement already satisfied: isoduration in /home/steve/.conda/envs/skill-academy-ml/lib/python3.10/site-packages (from jsonschema[format-nongpl]>=4.18.0->jupyter-events>=0.9.0->jupyter-server<3,>=2.4.0->notebook>=4.4.1->widgetsnbextension~=3.6.6->ipywidgets<8->fastbook) (20.11.0)\r\n",
      "Requirement already satisfied: jsonpointer>1.13 in /home/steve/.conda/envs/skill-academy-ml/lib/python3.10/site-packages (from jsonschema[format-nongpl]>=4.18.0->jupyter-events>=0.9.0->jupyter-server<3,>=2.4.0->notebook>=4.4.1->widgetsnbextension~=3.6.6->ipywidgets<8->fastbook) (2.4)\r\n",
      "Requirement already satisfied: uri-template in /home/steve/.conda/envs/skill-academy-ml/lib/python3.10/site-packages (from jsonschema[format-nongpl]>=4.18.0->jupyter-events>=0.9.0->jupyter-server<3,>=2.4.0->notebook>=4.4.1->widgetsnbextension~=3.6.6->ipywidgets<8->fastbook) (1.3.0)\r\n",
      "Requirement already satisfied: webcolors>=1.11 in /home/steve/.conda/envs/skill-academy-ml/lib/python3.10/site-packages (from jsonschema[format-nongpl]>=4.18.0->jupyter-events>=0.9.0->jupyter-server<3,>=2.4.0->notebook>=4.4.1->widgetsnbextension~=3.6.6->ipywidgets<8->fastbook) (1.13)\r\n",
      "Requirement already satisfied: cffi>=1.0.1 in /home/steve/.conda/envs/skill-academy-ml/lib/python3.10/site-packages (from argon2-cffi-bindings->argon2-cffi->jupyter-server<3,>=2.4.0->notebook>=4.4.1->widgetsnbextension~=3.6.6->ipywidgets<8->fastbook) (1.16.0)\r\n",
      "Requirement already satisfied: soupsieve>1.2 in /home/steve/.conda/envs/skill-academy-ml/lib/python3.10/site-packages (from beautifulsoup4->nbconvert>=6.4.4->jupyter-server<3,>=2.4.0->notebook>=4.4.1->widgetsnbextension~=3.6.6->ipywidgets<8->fastbook) (2.5)\r\n",
      "Requirement already satisfied: pycparser in /home/steve/.conda/envs/skill-academy-ml/lib/python3.10/site-packages (from cffi>=1.0.1->argon2-cffi-bindings->argon2-cffi->jupyter-server<3,>=2.4.0->notebook>=4.4.1->widgetsnbextension~=3.6.6->ipywidgets<8->fastbook) (2.21)\r\n",
      "Requirement already satisfied: arrow>=0.15.0 in /home/steve/.conda/envs/skill-academy-ml/lib/python3.10/site-packages (from isoduration->jsonschema[format-nongpl]>=4.18.0->jupyter-events>=0.9.0->jupyter-server<3,>=2.4.0->notebook>=4.4.1->widgetsnbextension~=3.6.6->ipywidgets<8->fastbook) (1.3.0)\r\n",
      "Requirement already satisfied: types-python-dateutil>=2.8.10 in /home/steve/.conda/envs/skill-academy-ml/lib/python3.10/site-packages (from arrow>=0.15.0->isoduration->jsonschema[format-nongpl]>=4.18.0->jupyter-events>=0.9.0->jupyter-server<3,>=2.4.0->notebook>=4.4.1->widgetsnbextension~=3.6.6->ipywidgets<8->fastbook) (2.8.19.14)\r\n",
      "Requirement already satisfied: rggrader in /home/steve/.conda/envs/skill-academy-ml/lib/python3.10/site-packages (0.1.6)\r\n",
      "Requirement already satisfied: requests in /home/steve/.conda/envs/skill-academy-ml/lib/python3.10/site-packages (from rggrader) (2.31.0)\r\n",
      "Requirement already satisfied: pandas in /home/steve/.conda/envs/skill-academy-ml/lib/python3.10/site-packages (from rggrader) (2.1.4)\r\n",
      "Requirement already satisfied: Pillow in /home/steve/.conda/envs/skill-academy-ml/lib/python3.10/site-packages (from rggrader) (10.1.0)\r\n",
      "Requirement already satisfied: numpy<2,>=1.22.4 in /home/steve/.conda/envs/skill-academy-ml/lib/python3.10/site-packages (from pandas->rggrader) (1.26.2)\r\n",
      "Requirement already satisfied: python-dateutil>=2.8.2 in /home/steve/.conda/envs/skill-academy-ml/lib/python3.10/site-packages (from pandas->rggrader) (2.8.2)\r\n",
      "Requirement already satisfied: pytz>=2020.1 in /home/steve/.conda/envs/skill-academy-ml/lib/python3.10/site-packages (from pandas->rggrader) (2023.3.post1)\r\n",
      "Requirement already satisfied: tzdata>=2022.1 in /home/steve/.conda/envs/skill-academy-ml/lib/python3.10/site-packages (from pandas->rggrader) (2023.3)\r\n",
      "Requirement already satisfied: charset-normalizer<4,>=2 in /home/steve/.conda/envs/skill-academy-ml/lib/python3.10/site-packages (from requests->rggrader) (3.3.2)\r\n",
      "Requirement already satisfied: idna<4,>=2.5 in /home/steve/.conda/envs/skill-academy-ml/lib/python3.10/site-packages (from requests->rggrader) (3.6)\r\n",
      "Requirement already satisfied: urllib3<3,>=1.21.1 in /home/steve/.conda/envs/skill-academy-ml/lib/python3.10/site-packages (from requests->rggrader) (2.1.0)\r\n",
      "Requirement already satisfied: certifi>=2017.4.17 in /home/steve/.conda/envs/skill-academy-ml/lib/python3.10/site-packages (from requests->rggrader) (2023.11.17)\r\n",
      "Requirement already satisfied: six>=1.5 in /home/steve/.conda/envs/skill-academy-ml/lib/python3.10/site-packages (from python-dateutil>=2.8.2->pandas->rggrader) (1.16.0)\r\n"
     ]
    }
   ],
   "source": [
    "!pip install fastbook\n",
    "\n",
    "!pip install rggrader\n",
    "from rggrader import submit\n",
    "\n",
    "import torch"
   ]
  },
  {
   "cell_type": "markdown",
   "metadata": {
    "id": "3qeQytyUXaC0"
   },
   "source": [
    "\n",
    "## Task 1\n",
    "\n",
    "Given\n",
    "\n",
    "$$\n",
    "X = \\begin{bmatrix}\n",
    "a \\\\\n",
    "b \\\\\n",
    "c \\\\\n",
    "d \\\\\n",
    "e\n",
    "\\end{bmatrix}\n",
    "$$\n",
    "\n",
    "and\n",
    "\n",
    "$$\n",
    "M =\n",
    "\\begin{bmatrix}\n",
    "-2 & 3 & 3 & 3 & -4 \\\\\n",
    "0 & -4 & -1 & 1 & 2 \\\\\n",
    "1 & 5 & 4 & 2 & 0 \\\\\n",
    "-2 & 5 & -5 & 3 & 1 \\\\\n",
    "-3 & 2 & 4 & 3 & 4 \\\\\n",
    "\\end{bmatrix}\n",
    "$$\n",
    "\n",
    "and\n",
    "\n",
    "$$\n",
    "M \\cdot X =\n",
    " =\n",
    "\\begin{bmatrix}\n",
    "-33 \\\\\n",
    "9 \\\\\n",
    "-34 \\\\\n",
    "-38 \\\\\n",
    " -40\n",
    "\\end{bmatrix}\n",
    "$$\n",
    "\n",
    "What is the value of $a + b + c + d + e$?"
   ]
  },
  {
   "cell_type": "code",
   "execution_count": 3,
   "metadata": {
    "id": "bjvNSoRwXaC0",
    "ExecuteTime": {
     "end_time": "2024-01-26T15:52:45.215820226Z",
     "start_time": "2024-01-26T15:52:44.681987870Z"
    }
   },
   "outputs": [
    {
     "name": "stdout",
     "output_type": "stream",
     "text": [
      "The total is tensor([-10.0000])\n"
     ]
    },
    {
     "data": {
      "text/plain": "'Assignment successfully submitted'"
     },
     "execution_count": 3,
     "metadata": {},
     "output_type": "execute_result"
    }
   ],
   "source": [
    "# You may add any code here to derive your variables\n",
    "M = torch.tensor([\n",
    "    [-2, 3, 3, 3, -4],\n",
    "    [0, -4, -1, 1, 2],\n",
    "    [1, 5, 4, 2, 0],\n",
    "    [-2, 5, -5, 3, 1],\n",
    "    [-3, 2, 4, 3, 4]\n",
    "], dtype=torch.float32)\n",
    "\n",
    "y = torch.tensor([\n",
    "    [-33],\n",
    "    [9],\n",
    "    [-34],\n",
    "    [-38],\n",
    "    [-40]\n",
    "], dtype=torch.float32)\n",
    "\n",
    "X = torch.matmul(torch.inverse(M), y)\n",
    "\n",
    "# Please change this\n",
    "a = X[0]\n",
    "b = X[1]\n",
    "c = X[2]\n",
    "d = X[3]\n",
    "e = X[4]\n",
    "total = a + b + c + d + e\n",
    "\n",
    "print(f\"The total is {total}\")\n",
    "\n",
    "assignment_id = \"09-deep-learning-project\"\n",
    "question_id = \"q1_linear_algebra\"\n",
    "submit(student_id, name, assignment_id, str(total), question_id, drive_link)\n"
   ]
  },
  {
   "cell_type": "markdown",
   "metadata": {
    "id": "Ct3mucWTXaC0"
   },
   "source": [
    "## Task 2\n",
    "\n",
    "What is the output of the following Neural Network?"
   ]
  },
  {
   "cell_type": "code",
   "execution_count": 4,
   "metadata": {
    "id": "IDCO6FlEXaC1",
    "outputId": "c1d50483-134b-4649-a4c7-3e4af78d7159",
    "ExecuteTime": {
     "end_time": "2024-01-26T15:52:46.234213212Z",
     "start_time": "2024-01-26T15:52:45.211764608Z"
    }
   },
   "outputs": [
    {
     "data": {
      "image/svg+xml": "<?xml version=\"1.0\" encoding=\"UTF-8\" standalone=\"no\"?>\n<!DOCTYPE svg PUBLIC \"-//W3C//DTD SVG 1.1//EN\"\n \"http://www.w3.org/Graphics/SVG/1.1/DTD/svg11.dtd\">\n<!-- Generated by graphviz version 2.50.0 (0)\n -->\n<!-- Title: G Pages: 1 -->\n<svg width=\"508pt\" height=\"130pt\"\n viewBox=\"0.00 0.00 508.19 130.00\" xmlns=\"http://www.w3.org/2000/svg\" xmlns:xlink=\"http://www.w3.org/1999/xlink\">\n<g id=\"graph0\" class=\"graph\" transform=\"scale(1 1) rotate(0) translate(4 126)\">\n<title>G</title>\n<polygon fill=\"white\" stroke=\"transparent\" points=\"-4,4 -4,-126 504.19,-126 504.19,4 -4,4\"/>\n<!-- z_1 -->\n<g id=\"node1\" class=\"node\">\n<title>z_1</title>\n<polygon fill=\"none\" stroke=\"black\" points=\"230,-120 126,-120 122,-116 122,-70 226,-70 230,-74 230,-120\"/>\n<polyline fill=\"none\" stroke=\"black\" points=\"226,-116 122,-116 \"/>\n<polyline fill=\"none\" stroke=\"black\" points=\"226,-116 226,-70 \"/>\n<polyline fill=\"none\" stroke=\"black\" points=\"226,-116 230,-120 \"/>\n<text text-anchor=\"middle\" x=\"176\" y=\"-91.3\" font-family=\"Times,serif\" font-size=\"14.00\">b = &#45;2, ReLU</text>\n</g>\n<!-- z_3 -->\n<g id=\"node3\" class=\"node\">\n<title>z_3</title>\n<polygon fill=\"none\" stroke=\"black\" points=\"380,-86 280,-86 276,-82 276,-36 376,-36 380,-40 380,-86\"/>\n<polyline fill=\"none\" stroke=\"black\" points=\"376,-82 276,-82 \"/>\n<polyline fill=\"none\" stroke=\"black\" points=\"376,-82 376,-36 \"/>\n<polyline fill=\"none\" stroke=\"black\" points=\"376,-82 380,-86 \"/>\n<text text-anchor=\"middle\" x=\"328\" y=\"-57.3\" font-family=\"Times,serif\" font-size=\"14.00\">b = 4, ReLU</text>\n</g>\n<!-- z_1&#45;&gt;z_3 -->\n<g id=\"edge5\" class=\"edge\">\n<title>z_1&#45;&gt;z_3</title>\n<path fill=\"none\" stroke=\"black\" d=\"M230.31,-82.92C241.89,-80.29 254.22,-77.5 266.07,-74.81\"/>\n<polygon fill=\"black\" stroke=\"black\" points=\"266.9,-78.21 275.88,-72.59 265.35,-71.39 266.9,-78.21\"/>\n<text text-anchor=\"middle\" x=\"253\" y=\"-81.8\" font-family=\"Times,serif\" font-size=\"14.00\">2</text>\n</g>\n<!-- z_2 -->\n<g id=\"node2\" class=\"node\">\n<title>z_2</title>\n<polygon fill=\"none\" stroke=\"black\" points=\"230,-52 126,-52 122,-48 122,-2 226,-2 230,-6 230,-52\"/>\n<polyline fill=\"none\" stroke=\"black\" points=\"226,-48 122,-48 \"/>\n<polyline fill=\"none\" stroke=\"black\" points=\"226,-48 226,-2 \"/>\n<polyline fill=\"none\" stroke=\"black\" points=\"226,-48 230,-52 \"/>\n<text text-anchor=\"middle\" x=\"176\" y=\"-23.3\" font-family=\"Times,serif\" font-size=\"14.00\">b = &#45;6, ReLU</text>\n</g>\n<!-- z_2&#45;&gt;z_3 -->\n<g id=\"edge6\" class=\"edge\">\n<title>z_2&#45;&gt;z_3</title>\n<path fill=\"none\" stroke=\"black\" d=\"M230.31,-39.08C241.89,-41.71 254.22,-44.5 266.07,-47.19\"/>\n<polygon fill=\"black\" stroke=\"black\" points=\"265.35,-50.61 275.88,-49.41 266.9,-43.79 265.35,-50.61\"/>\n<text text-anchor=\"middle\" x=\"253\" y=\"-48.8\" font-family=\"Times,serif\" font-size=\"14.00\">3</text>\n</g>\n<!-- output -->\n<g id=\"node6\" class=\"node\">\n<title>output</title>\n<ellipse fill=\"none\" stroke=\"black\" cx=\"458.6\" cy=\"-61\" rx=\"41.69\" ry=\"18\"/>\n<text text-anchor=\"middle\" x=\"458.6\" y=\"-57.3\" font-family=\"Times,serif\" font-size=\"14.00\">output</text>\n</g>\n<!-- z_3&#45;&gt;output -->\n<g id=\"edge7\" class=\"edge\">\n<title>z_3&#45;&gt;output</title>\n<path fill=\"none\" stroke=\"black\" d=\"M380.19,-61C388.95,-61 398.05,-61 406.8,-61\"/>\n<polygon fill=\"black\" stroke=\"black\" points=\"406.87,-64.5 416.87,-61 406.87,-57.5 406.87,-64.5\"/>\n</g>\n<!-- input_1 -->\n<g id=\"node4\" class=\"node\">\n<title>input_1</title>\n<ellipse fill=\"none\" stroke=\"black\" cx=\"36\" cy=\"-97\" rx=\"36\" ry=\"25\"/>\n<text text-anchor=\"middle\" x=\"36\" y=\"-93.3\" font-family=\"Times,serif\" font-size=\"14.00\">4</text>\n</g>\n<!-- input_1&#45;&gt;z_1 -->\n<g id=\"edge1\" class=\"edge\">\n<title>input_1&#45;&gt;z_1</title>\n<path fill=\"none\" stroke=\"black\" d=\"M72.18,-96.49C84.21,-96.32 98.06,-96.12 111.61,-95.92\"/>\n<polygon fill=\"black\" stroke=\"black\" points=\"111.94,-99.41 121.89,-95.77 111.84,-92.42 111.94,-99.41\"/>\n<text text-anchor=\"middle\" x=\"97\" y=\"-99.8\" font-family=\"Times,serif\" font-size=\"14.00\">4</text>\n</g>\n<!-- input_1&#45;&gt;z_2 -->\n<g id=\"edge3\" class=\"edge\">\n<title>input_1&#45;&gt;z_2</title>\n<path fill=\"none\" stroke=\"black\" d=\"M65.59,-82.5C80.32,-75.03 98.83,-65.64 116.42,-56.72\"/>\n<polygon fill=\"black\" stroke=\"black\" points=\"118.17,-59.75 125.51,-52.11 115,-53.51 118.17,-59.75\"/>\n<text text-anchor=\"middle\" x=\"97\" y=\"-71.8\" font-family=\"Times,serif\" font-size=\"14.00\">0</text>\n</g>\n<!-- input_2 -->\n<g id=\"node5\" class=\"node\">\n<title>input_2</title>\n<ellipse fill=\"none\" stroke=\"black\" cx=\"36\" cy=\"-25\" rx=\"36\" ry=\"25\"/>\n<text text-anchor=\"middle\" x=\"36\" y=\"-21.3\" font-family=\"Times,serif\" font-size=\"14.00\">&#45;3</text>\n</g>\n<!-- input_2&#45;&gt;z_1 -->\n<g id=\"edge2\" class=\"edge\">\n<title>input_2&#45;&gt;z_1</title>\n<path fill=\"none\" stroke=\"black\" d=\"M71.41,-30.61C82.31,-33.32 94.09,-37.28 104,-43 113.8,-48.66 113.19,-53.9 122,-61 123.17,-61.94 124.37,-62.88 125.59,-63.82\"/>\n<polygon fill=\"black\" stroke=\"black\" points=\"123.73,-66.79 133.87,-69.87 127.86,-61.14 123.73,-66.79\"/>\n<text text-anchor=\"middle\" x=\"97\" y=\"-46.8\" font-family=\"Times,serif\" font-size=\"14.00\">2</text>\n</g>\n<!-- input_2&#45;&gt;z_2 -->\n<g id=\"edge4\" class=\"edge\">\n<title>input_2&#45;&gt;z_2</title>\n<path fill=\"none\" stroke=\"black\" d=\"M66.73,-11.64C74.18,-8.89 82.26,-6.41 90,-5 97.11,-3.7 104.51,-3.64 111.84,-4.4\"/>\n<polygon fill=\"black\" stroke=\"black\" points=\"111.35,-7.87 121.76,-5.91 112.4,-0.95 111.35,-7.87\"/>\n<text text-anchor=\"middle\" x=\"97\" y=\"-8.8\" font-family=\"Times,serif\" font-size=\"14.00\">&#45;1</text>\n</g>\n</g>\n</svg>\n",
      "text/plain": "<graphviz.sources.Source at 0x7fcf52baaaa0>"
     },
     "execution_count": 4,
     "metadata": {},
     "output_type": "execute_result"
    }
   ],
   "source": [
    "from fastbook import *\n",
    "\n",
    "# Draw neurons with multiple inputs and weights\n",
    "gv('''\n",
    "z_1[shape=box3d width=1 height=0.7 label=\"b = -2, ReLU\"];\n",
    "z_2[shape=box3d width=1 height=0.7 label=\"b = -6, ReLU\"];\n",
    "z_3[shape=box3d width=1 height=0.7 label=\"b = 4, ReLU\"];\n",
    "input_1[width=1 height=0.7 label=\"4\"];\n",
    "input_2[width=1 height=0.7 label=\"-3\"];\n",
    "input_1 -> z_1 [label=\"4\"]\n",
    "input_2 -> z_1 [label=\"2\"]\n",
    "input_1 -> z_2 [label=\"0\"]\n",
    "input_2 -> z_2 [label=\"-1\"]\n",
    "\n",
    "z_1 -> z_3 [label=\"2\"]\n",
    "z_2 -> z_3 [label=\"3\"]\n",
    "z_3 ->output\n",
    "\n",
    "\n",
    "''')\n"
   ]
  },
  {
   "cell_type": "code",
   "execution_count": 8,
   "metadata": {
    "id": "UKT48q9uXaC2",
    "ExecuteTime": {
     "end_time": "2024-01-27T07:45:24.097421342Z",
     "start_time": "2024-01-27T07:45:23.582555683Z"
    }
   },
   "outputs": [
    {
     "name": "stdout",
     "output_type": "stream",
     "text": [
      "The output is tensor([[20]])\n"
     ]
    },
    {
     "data": {
      "text/plain": "'Assignment successfully submitted'"
     },
     "execution_count": 8,
     "metadata": {},
     "output_type": "execute_result"
    }
   ],
   "source": [
    "# You may add any code here to derive your variables\n",
    "# Input\n",
    "x = torch.tensor([[4], [-3]])\n",
    "\n",
    "# Forward Pass\n",
    "# First layer\n",
    "w_0 = torch.tensor([[4, 2], [0, -1]])\n",
    "b_0 = torch.tensor([[-2], [-6]])\n",
    "a_0 = torch.relu(w_0 @ x + b_0)\n",
    "\n",
    "# Second layer\n",
    "w_1 = torch.tensor([[2, 3]])\n",
    "b_1 = torch.tensor([[4]])\n",
    "a_1 = torch.relu(w_1 @ a_0 + b_1)\n",
    "\n",
    "# Please change this\n",
    "# Output from forward pass\n",
    "output = a_1\n",
    "\n",
    "print(f\"The output is {output}\")\n",
    "\n",
    "assignment_id = \"09-deep-learning-project\"\n",
    "question_id = \"q2_simple_neural_network\"\n",
    "submit(student_id, name, assignment_id, str(output), question_id, drive_link)\n"
   ]
  },
  {
   "cell_type": "markdown",
   "metadata": {
    "id": "g7R_LxICXaC2"
   },
   "source": [
    "## Task 3\n",
    "\n",
    "Given the following Neural Networks:\n",
    "\n",
    "First layer:\n",
    "\n",
    "$$\n",
    "W = \\begin{bmatrix}\n",
    "0.23 & 0.67 & 0.12 \\\\\n",
    "-0.89 & -0.45 & 0.78 \\\\\n",
    "0.34 & 0.56 & -0.90 \\\\\n",
    "-0.12 & 0.34 & 0.56 \\\\\n",
    "0.78 & -0.90 & 0.23 \\\\\n",
    "\\end{bmatrix}\n",
    "$$\n",
    "\n",
    "$$\n",
    "bias = \\begin{bmatrix}\n",
    "0.23 \\\\\n",
    "-0.89 \\\\\n",
    "0.34 \\\\\n",
    "0.12 \\\\\n",
    "-0.78 \\\\\n",
    "\\end{bmatrix}\n",
    "$$\n",
    "\n",
    "Second layer:\n",
    "\n",
    "$$\n",
    "W = \\begin{bmatrix}\n",
    "0.23 & 0.67 & 0.12 & 0.45 & 0.89 \\\\\n",
    "0.12 & 0.34 & 0.56 & 0.78 & 0.90 \\\\\n",
    "\\end{bmatrix}\n",
    "$$\n",
    "\n",
    "$$\n",
    "bias = \\begin{bmatrix}\n",
    "1.96 \\\\\n",
    "-1.08 \\\\\n",
    "\\end{bmatrix}\n",
    "$$\n",
    "\n",
    "Third layer:\n",
    "$$\n",
    "W = \\begin{bmatrix}\n",
    "1.08 & -0.16\n",
    "\\end{bmatrix}\n",
    "$$\n",
    "\n",
    "$$\n",
    "bias = \\begin{bmatrix}\n",
    "-2.8\n",
    "\\end{bmatrix}\n",
    "$$\n",
    "\n",
    "All layers use the ReLU activation function.\n",
    "\n",
    "What is the output given the following inputs?\n",
    "\n",
    "$$\n",
    "X = \\begin{bmatrix}\n",
    "1 \\\\\n",
    "2 \\\\\n",
    "4 \\\\\n",
    "\\end{bmatrix}\n",
    "$$\n"
   ]
  },
  {
   "cell_type": "code",
   "execution_count": 6,
   "metadata": {
    "id": "Vn-iBk3IXaC3",
    "ExecuteTime": {
     "end_time": "2024-01-26T15:52:51.526403097Z",
     "start_time": "2024-01-26T15:52:51.001341384Z"
    }
   },
   "outputs": [
    {
     "name": "stdout",
     "output_type": "stream",
     "text": [
      "The output is tensor([[1.3613]])\n"
     ]
    },
    {
     "data": {
      "text/plain": "'Assignment successfully submitted'"
     },
     "execution_count": 6,
     "metadata": {},
     "output_type": "execute_result"
    }
   ],
   "source": [
    "# You may add any code here to derive your variables\n",
    "# Input\n",
    "X = torch.tensor([[1], [2], [4]], dtype=torch.float32)\n",
    "\n",
    "w_0 = torch.tensor([\n",
    "    [0.23, 0.67, 0.12],\n",
    "    [-0.89, -0.45, 0.78],\n",
    "    [0.34, 0.56, -0.90],\n",
    "    [-0.12, 0.34, 0.56],\n",
    "    [0.78, -0.90, 0.23]\n",
    "], dtype=torch.float32)\n",
    "b_0 = torch.tensor([[0.23], [-0.89], [0.34], [0.12], [-0.78]], dtype=torch.float32)\n",
    "\n",
    "w_1 = torch.tensor([\n",
    "    [0.23, 0.67, 0.12, 0.45, 0.89],\n",
    "    [0.12, 0.34, 0.56, 0.78, 0.90]\n",
    "], dtype=torch.float32)\n",
    "b_1 = torch.tensor([\n",
    "    [1.96], [-1.08]\n",
    "], dtype=torch.float32)\n",
    "\n",
    "w_2 = torch.tensor([\n",
    "    [1.08, -0.16]\n",
    "], dtype=torch.float32)\n",
    "b_2 = torch.tensor([[-2.8]], dtype=torch.float32)\n",
    "\n",
    "# Forward pass\n",
    "a_0 = torch.relu(torch.matmul(w_0, X) + b_0)\n",
    "a_1 = torch.relu(torch.matmul(w_1, a_0) + b_1)\n",
    "a_2 = torch.relu(torch.matmul(w_2, a_1) + b_2)\n",
    "\n",
    "# Please change this\n",
    "# Forward pass output\n",
    "output = a_2\n",
    "\n",
    "print(f\"The output is {output}\")\n",
    "\n",
    "assignment_id = \"09-deep-learning-project\"\n",
    "question_id = \"q3_complex_neural_network\"\n",
    "submit(student_id, name, assignment_id, str(output), question_id, drive_link)\n"
   ]
  },
  {
   "cell_type": "markdown",
   "metadata": {
    "id": "1RK_XAy9XaC3"
   },
   "source": [
    "## Task 4\n",
    "\n",
    "Given [the following sheet (sheet name = Project A)](https://docs.google.com/spreadsheets/d/15JWbRFB4k5CNcfD-2hduHHssXIc1SGhNVSpu_30wVAw/edit#gid=180755192)\n",
    "\n",
    "Make a backpropagation algorithm to train the network. You can refer to AND and NOT sheet. Use sigmoid activation function for all\n",
    "\n",
    "Hint: it needs 1 layer with 1 neuron\n",
    "\n",
    "What is the cost at 10th iteration (the iteration start from 1)?"
   ]
  },
  {
   "cell_type": "code",
   "execution_count": 7,
   "metadata": {
    "id": "GPwJKabAXaC5",
    "ExecuteTime": {
     "end_time": "2024-01-26T15:52:52.612449424Z",
     "start_time": "2024-01-26T15:52:51.528571130Z"
    }
   },
   "outputs": [
    {
     "name": "stdout",
     "output_type": "stream",
     "text": [
      "The cost is 0.12\n"
     ]
    },
    {
     "data": {
      "text/plain": "'Assignment successfully submitted'"
     },
     "execution_count": 7,
     "metadata": {},
     "output_type": "execute_result"
    }
   ],
   "source": [
    "# Please clone the Google Sheet and do your calculation there\n",
    "\n",
    "# Please change this\n",
    "cost = 0.12\n",
    "\n",
    "# Don't forget to fill in the link to your Google Sheet\n",
    "link_to_gsheet = \"https://docs.google.com/spreadsheets/d/1SZCYSkovG_hyC-vS6pKJcLO3Igyxm-IF/edit?usp=sharing&ouid=105574504858862896764&rtpof=true&sd=true\"\n",
    "\n",
    "print(f\"The cost is {cost}\")\n",
    "\n",
    "assignment_id = \"09-deep-learning-project\"\n",
    "\n",
    "question_id = \"q4_cost_function_cost\"\n",
    "submit(student_id, name, assignment_id, str(cost), question_id)\n",
    "\n",
    "question_id = \"q4_cost_function_gsheet\"\n",
    "submit(student_id, name, assignment_id, str(link_to_gsheet), question_id, drive_link)\n"
   ]
  },
  {
   "cell_type": "markdown",
   "metadata": {
    "id": "Tfsng8IQXaC5"
   },
   "source": [
    "## Task 5 (BONUS - OPTIONAL)\n",
    "\n",
    "_This task is optional, it will earn you a distinction, but will not give you additional points._\n",
    "\n",
    "Given [the following sheet (sheet name = Project B)](https://docs.google.com/spreadsheets/d/15JWbRFB4k5CNcfD-2hduHHssXIc1SGhNVSpu_30wVAw/edit#gid=1029811725)\n",
    "\n",
    "Make a backpropagation algorithm to train the network. You can refer to AND and NOT sheet. Use sigmoid activation function for all\n",
    "\n",
    "Hint: it needs 2 layer (1 hidden layer + 1 output layer). The hidden layer has 2 neurons\n",
    "\n",
    "What is the cost at 10th iteration (the iteration start from 1)?"
   ]
  },
  {
   "cell_type": "code",
   "execution_count": 8,
   "metadata": {
    "id": "5seZ2IDrXaC6",
    "ExecuteTime": {
     "end_time": "2024-01-26T15:52:53.537708173Z",
     "start_time": "2024-01-26T15:52:52.617269873Z"
    }
   },
   "outputs": [
    {
     "name": "stdout",
     "output_type": "stream",
     "text": [
      "The cost is 1.0\n"
     ]
    },
    {
     "data": {
      "text/plain": "'Assignment successfully submitted'"
     },
     "execution_count": 8,
     "metadata": {},
     "output_type": "execute_result"
    }
   ],
   "source": [
    "# Please clone the Google Sheet and do your calculation there\n",
    "\n",
    "# Please change this\n",
    "cost = 1.00\n",
    "\n",
    "# Don't forget to fill in the link to your Google Sheet\n",
    "link_to_gsheet = \"https://docs.google.com/spreadsheets/d/1SZCYSkovG_hyC-vS6pKJcLO3Igyxm-IF/edit?usp=sharing&ouid=105574504858862896764&rtpof=true&sd=true\"\n",
    "\n",
    "print(f\"The cost is {cost}\")\n",
    "\n",
    "assignment_id = \"09-deep-learning-project\"\n",
    "\n",
    "question_id = \"q5_cost_function_cost\"\n",
    "submit(student_id, name, assignment_id, str(cost), question_id)\n",
    "\n",
    "question_id = \"q5_cost_function_gsheet\"\n",
    "submit(student_id, name, assignment_id, str(link_to_gsheet), question_id, drive_link)\n"
   ]
  }
 ],
 "metadata": {
  "kernelspec": {
   "display_name": "Python 3 (ipykernel)",
   "language": "python",
   "name": "python3"
  },
  "language_info": {
   "codemirror_mode": {
    "name": "ipython",
    "version": 3
   },
   "file_extension": ".py",
   "mimetype": "text/x-python",
   "name": "python",
   "nbconvert_exporter": "python",
   "pygments_lexer": "ipython3",
   "version": "3.11.3"
  },
  "colab": {
   "provenance": []
  }
 },
 "nbformat": 4,
 "nbformat_minor": 0
}
