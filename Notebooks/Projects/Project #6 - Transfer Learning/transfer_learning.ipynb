{
 "cells": [
  {
   "cell_type": "markdown",
   "metadata": {
    "id": "HJHik0rLajwc"
   },
   "source": [
    "# Transfer Learning - Project"
   ]
  },
  {
   "cell_type": "markdown",
   "metadata": {
    "id": "SltFOXPPajwf"
   },
   "source": [
    "## Student Identity"
   ]
  },
  {
   "cell_type": "code",
   "execution_count": 1,
   "metadata": {
    "id": "FXhN80NMajwg",
    "ExecuteTime": {
     "end_time": "2024-02-07T10:54:16.284724200Z",
     "start_time": "2024-02-07T10:54:16.273909600Z"
    }
   },
   "outputs": [],
   "source": [
    "# @title #### Student Identity\n",
    "student_id = \"REA3X5EN\"  # @param {type:\"string\"}\n",
    "name = \"Steven Adi Santoso\"  # @param {type:\"string\"}\n",
    "drive_link = \"https://drive.google.com/drive/folders/1l47IYqGVXotwnxm0gh-VBgyzKQnwbyRI?usp=sharing\"  # @param {type:\"string\"}"
   ]
  },
  {
   "cell_type": "markdown",
   "metadata": {
    "id": "s6JDOhCEajwi"
   },
   "source": [
    "## Import package"
   ]
  },
  {
   "cell_type": "code",
   "execution_count": 2,
   "metadata": {
    "id": "OB1HfkVAajwi",
    "ExecuteTime": {
     "end_time": "2024-02-07T10:54:20.503922600Z",
     "start_time": "2024-02-07T10:54:17.540711100Z"
    }
   },
   "outputs": [
    {
     "name": "stdout",
     "output_type": "stream",
     "text": [
      "Requirement already satisfied: rggrader in c:\\users\\rusty\\projects\\skill-academy-ml\\venv\\lib\\site-packages (0.1.6)\n",
      "Requirement already satisfied: requests in c:\\users\\rusty\\projects\\skill-academy-ml\\venv\\lib\\site-packages (from rggrader) (2.31.0)\n",
      "Requirement already satisfied: pandas in c:\\users\\rusty\\projects\\skill-academy-ml\\venv\\lib\\site-packages (from rggrader) (2.2.0)\n",
      "Requirement already satisfied: Pillow in c:\\users\\rusty\\projects\\skill-academy-ml\\venv\\lib\\site-packages (from rggrader) (10.2.0)\n",
      "Requirement already satisfied: numpy<2,>=1.23.2 in c:\\users\\rusty\\projects\\skill-academy-ml\\venv\\lib\\site-packages (from pandas->rggrader) (1.26.3)\n",
      "Requirement already satisfied: python-dateutil>=2.8.2 in c:\\users\\rusty\\projects\\skill-academy-ml\\venv\\lib\\site-packages (from pandas->rggrader) (2.8.2)\n",
      "Requirement already satisfied: pytz>=2020.1 in c:\\users\\rusty\\projects\\skill-academy-ml\\venv\\lib\\site-packages (from pandas->rggrader) (2024.1)\n",
      "Requirement already satisfied: tzdata>=2022.7 in c:\\users\\rusty\\projects\\skill-academy-ml\\venv\\lib\\site-packages (from pandas->rggrader) (2023.4)\n",
      "Requirement already satisfied: charset-normalizer<4,>=2 in c:\\users\\rusty\\projects\\skill-academy-ml\\venv\\lib\\site-packages (from requests->rggrader) (3.3.2)\n",
      "Requirement already satisfied: idna<4,>=2.5 in c:\\users\\rusty\\projects\\skill-academy-ml\\venv\\lib\\site-packages (from requests->rggrader) (3.6)\n",
      "Requirement already satisfied: urllib3<3,>=1.21.1 in c:\\users\\rusty\\projects\\skill-academy-ml\\venv\\lib\\site-packages (from requests->rggrader) (2.2.0)\n",
      "Requirement already satisfied: certifi>=2017.4.17 in c:\\users\\rusty\\projects\\skill-academy-ml\\venv\\lib\\site-packages (from requests->rggrader) (2024.2.2)\n",
      "Requirement already satisfied: six>=1.5 in c:\\users\\rusty\\projects\\skill-academy-ml\\venv\\lib\\site-packages (from python-dateutil>=2.8.2->pandas->rggrader) (1.16.0)\n"
     ]
    },
    {
     "name": "stderr",
     "output_type": "stream",
     "text": [
      "\n",
      "[notice] A new release of pip is available: 23.2.1 -> 24.0\n",
      "[notice] To update, run: python.exe -m pip install --upgrade pip\n"
     ]
    }
   ],
   "source": [
    "!pip install rggrader\n",
    "from rggrader import submit, submit_image"
   ]
  },
  {
   "cell_type": "markdown",
   "metadata": {
    "id": "i8QPDcERajwj"
   },
   "source": [
    "## Task 1: Transfer Learning for Emotion Recognition"
   ]
  },
  {
   "cell_type": "markdown",
   "metadata": {
    "id": "nmGaXWMDajwj"
   },
   "source": [
    "In this project, you will use a [Vision Transformer (ViT)](https://huggingface.co/google/vit-base-patch16-224-in21k) model pre-trained on ImageNet-21k and fine-tune it on the [FastJobs/Visual_Emotional_Analysis](https://huggingface.co/datasets/FastJobs/Visual_Emotional_Analysis) dataset for emotion recognition, with the final step being the publication of your trained model to the Hugging Face Model Hub."
   ]
  },
  {
   "cell_type": "markdown",
   "metadata": {
    "id": "ZemppJLgajwj"
   },
   "source": [
    "### Step 1: Environment Setup\n",
    "\n",
    "In this section, we start by installing the necessary packages and logging into Hugging Face's platform:\n",
    "- `transformers`\n",
    "- `datasets`\n",
    "- `evaluate`\n",
    "- `huggingface_hub`"
   ]
  },
  {
   "cell_type": "code",
   "execution_count": 3,
   "metadata": {
    "id": "ih1QBCf-ajwk",
    "ExecuteTime": {
     "end_time": "2024-02-07T10:54:33.780169600Z",
     "start_time": "2024-02-07T10:54:26.079568300Z"
    }
   },
   "outputs": [],
   "source": [
    "# Install necessary packages\n",
    "\n",
    "# Put your code here:\n",
    "!pip install transformers\n",
    "!pip install scikit-learn\n",
    "!pip install datasets \n",
    "!pip install evaluate \n",
    "!pip install accelerate \n",
    "!pip install huggingface_hub\n",
    "!pip install accelerate\n",
    "!pip install gradio\n",
    "\n",
    "import numpy as np\n",
    "\n",
    "import evaluate\n",
    "from huggingface_hub import login\n",
    "\n",
    "from datasets import load_dataset\n",
    "from transformers import (\n",
    "    AutoImageProcessor,\n",
    "    AutoModelForImageClassification,\n",
    "    ViTFeatureExtractor,\n",
    "    TrainingArguments,\n",
    "    Trainer,\n",
    "    DefaultDataCollator\n",
    ")\n",
    "\n",
    "from torchvision.transforms import RandomResizedCrop, Compose, Normalize, ToTensor\n",
    "\n",
    "from PIL import Image\n",
    "\n",
    "import matplotlib.pyplot as plt\n",
    "\n",
    "import gradio as gr\n",
    "# ---- End of your code ----"
   ]
  },
  {
   "cell_type": "markdown",
   "metadata": {
    "id": "3jXUPe_cajwk"
   },
   "source": [
    "After installing, use the Hugging Face's notebook login function to log into Hugging Face's platform. Execute the following commands in your cell:"
   ]
  },
  {
   "cell_type": "code",
   "execution_count": 4,
   "metadata": {
    "id": "M0V96pTvajwl",
    "ExecuteTime": {
     "end_time": "2024-02-07T10:54:33.790560900Z",
     "start_time": "2024-02-07T10:54:33.781194Z"
    }
   },
   "outputs": [
    {
     "data": {
      "text/plain": "VBox(children=(HTML(value='<center> <img\\nsrc=https://huggingface.co/front/assets/huggingface_logo-noborder.sv…",
      "application/vnd.jupyter.widget-view+json": {
       "version_major": 2,
       "version_minor": 0,
       "model_id": "5087c729e5f34f9abf4435b662044f8e"
      }
     },
     "metadata": {},
     "output_type": "display_data"
    }
   ],
   "source": [
    "# Log into Hugging Face's platform\n",
    "\n",
    "# Put your code here:\n",
    "login()\n",
    "# ---- End of your code ----"
   ]
  },
  {
   "cell_type": "markdown",
   "metadata": {
    "id": "9FQiJyOFajwl"
   },
   "source": [
    "### Step 2: Load the Dataset\n",
    "\n",
    "Load the \"FastJobs/Visual_Emotional_Analysis\" dataset and split it into training and test sets with a test size of 0.2.\n",
    "\n",
    "> **Note**: please assign to variable `emotion`"
   ]
  },
  {
   "cell_type": "code",
   "execution_count": 5,
   "metadata": {
    "id": "CU6M0J3uajwl",
    "ExecuteTime": {
     "end_time": "2024-02-07T10:54:48.430070900Z",
     "start_time": "2024-02-07T10:54:34.828624900Z"
    }
   },
   "outputs": [
    {
     "data": {
      "text/plain": "Resolving data files:   0%|          | 0/800 [00:00<?, ?it/s]",
      "application/vnd.jupyter.widget-view+json": {
       "version_major": 2,
       "version_minor": 0,
       "model_id": "8bcc486b9717475fb5ddace7114e731e"
      }
     },
     "metadata": {},
     "output_type": "display_data"
    }
   ],
   "source": [
    "# Load the dataset and split it\n",
    "\n",
    "# Update your code here:\n",
    "emotion = load_dataset(\n",
    "    path=\"FastJobs/Visual_Emotional_Analysis\",\n",
    "    cache_dir=\"./dataset\"\n",
    ")\n",
    "# ---- End of your code ----"
   ]
  },
  {
   "cell_type": "markdown",
   "metadata": {
    "id": "1Vm71eSEajwl"
   },
   "source": [
    "**Label Mapping**"
   ]
  },
  {
   "cell_type": "markdown",
   "metadata": {
    "id": "7pdW0f7Xajwl"
   },
   "source": [
    "> **Note**: no need to change the code below! Just run it to map labels from the dataset."
   ]
  },
  {
   "cell_type": "code",
   "execution_count": 6,
   "metadata": {
    "id": "9F8e5Dosajwl",
    "ExecuteTime": {
     "end_time": "2024-02-07T10:54:48.438163300Z",
     "start_time": "2024-02-07T10:54:48.432116500Z"
    }
   },
   "outputs": [],
   "source": [
    "labels = emotion[\"train\"].features[\"label\"].names\n",
    "label2id, id2label = dict(), dict()\n",
    "for i, label in enumerate(labels):\n",
    "    label2id[label] = str(i)\n",
    "    id2label[str(i)] = label"
   ]
  },
  {
   "cell_type": "markdown",
   "metadata": {
    "id": "eN0QPZH_ajwm"
   },
   "source": [
    "### Step 3: Explore and Visualize the Dataset\n",
    "\n",
    "In this step, you are required to visualize the first instance in the training dataset."
   ]
  },
  {
   "cell_type": "markdown",
   "metadata": {
    "id": "Yvzhuf_Xajwm"
   },
   "source": [
    "> **Note**: no need to change the code below! Just run it to visualize the dataset based on index."
   ]
  },
  {
   "cell_type": "code",
   "execution_count": 7,
   "metadata": {
    "id": "IkcCxcKEajwm",
    "ExecuteTime": {
     "end_time": "2024-02-07T10:54:48.503226300Z",
     "start_time": "2024-02-07T10:54:48.435078400Z"
    }
   },
   "outputs": [
    {
     "data": {
      "text/plain": "<Figure size 640x480 with 1 Axes>",
      "image/png": "[encoded data removed]"
     },
     "metadata": {},
     "output_type": "display_data"
    }
   ],
   "source": [
    "# Define the function to convert label index to label name\n",
    "id2label_view = {str(i): label for i, label in enumerate(labels)}\n",
    "\n",
    "# Use first training example\n",
    "image = emotion['train'][0]['image']  # Explore image by index\n",
    "label_id = str(emotion['train'][0]['label'])\n",
    "label_name = id2label_view[label_id]\n",
    "\n",
    "# Display the image and its corresponding label\n",
    "plt.imshow(image)\n",
    "plt.title(f'Label: {label_name} (ID: {label_id})')\n",
    "plt.axis('off')\n",
    "plt.show()"
   ]
  },
  {
   "cell_type": "markdown",
   "metadata": {
    "id": "FXeHD2myajwm"
   },
   "source": [
    "### Step 4: Preprocess the Data\n",
    "\n",
    "You need to define the transformation function for image preprocessing and apply it to the dataset."
   ]
  },
  {
   "cell_type": "code",
   "execution_count": 8,
   "metadata": {
    "id": "YZig93V-ajwm",
    "ExecuteTime": {
     "end_time": "2024-02-07T10:54:49.081096100Z",
     "start_time": "2024-02-07T10:54:48.505226700Z"
    }
   },
   "outputs": [],
   "source": [
    "# Load the image processor, Define the transforms, Define the transformation function and Apply the transformation function\n",
    "\n",
    "# Put your code here:\n",
    "image_processor = AutoImageProcessor.from_pretrained(\"google/vit-base-patch16-224-in21k\")\n",
    "image_mean = image_processor.image_mean\n",
    "image_std = image_processor.image_std\n",
    "size = image_processor.size[\"height\"]\n",
    "\n",
    "# Create the image transforms\n",
    "_transforms = Compose([\n",
    "    RandomResizedCrop(size),\n",
    "    ToTensor(),\n",
    "    Normalize(mean=image_mean, std=image_std)\n",
    "])\n",
    "\n",
    "# Define the function that will be applied to the dataset\n",
    "def transforms(examples):\n",
    "    examples[\"pixel_values\"] = [_transforms(img.convert(\"RGB\")) for img in examples[\"image\"]]\n",
    "    del examples[\"image\"]\n",
    "    return examples\n",
    "\n",
    "# Apply the function to the dataset\n",
    "emotion.set_transform(transforms)\n",
    "# ---- End of your code ----"
   ]
  },
  {
   "cell_type": "markdown",
   "metadata": {
    "id": "DPCcviqfajwm"
   },
   "source": [
    "### Step 5: Model Setup\n",
    "\n",
    "In this step, define the model architecture with the pre-trained ViT model and load it."
   ]
  },
  {
   "cell_type": "code",
   "execution_count": 9,
   "metadata": {
    "id": "_0tRKy6Aajwm",
    "ExecuteTime": {
     "end_time": "2024-02-07T10:54:50.477782300Z",
     "start_time": "2024-02-07T10:54:49.677109Z"
    }
   },
   "outputs": [
    {
     "name": "stderr",
     "output_type": "stream",
     "text": [
      "Some weights of ViTForImageClassification were not initialized from the model checkpoint at google/vit-base-patch16-224-in21k and are newly initialized: ['classifier.bias', 'classifier.weight']\n",
      "You should probably TRAIN this model on a down-stream task to be able to use it for predictions and inference.\n"
     ]
    }
   ],
   "source": [
    "# Define the model\n",
    "\n",
    "# Put your code here:\n",
    "model = AutoModelForImageClassification.from_pretrained(\n",
    "    \"google/vit-base-patch16-224-in21k\",\n",
    "    cache_dir=\"./checkpoint\",\n",
    "    num_labels=len(id2label),\n",
    "    label2id=label2id,\n",
    "    id2label=id2label\n",
    ")\n",
    "# ---- End of your code ----"
   ]
  },
  {
   "cell_type": "markdown",
   "metadata": {
    "id": "zHwGt5gaajwn"
   },
   "source": [
    "### Step 6: Training Setup\n",
    "\n",
    "Define the training arguments and instantiate the trainer."
   ]
  },
  {
   "cell_type": "code",
   "execution_count": 10,
   "metadata": {
    "id": "ls1gQJXMajwn",
    "ExecuteTime": {
     "end_time": "2024-02-07T10:55:11.776253800Z",
     "start_time": "2024-02-07T10:55:08.997796100Z"
    }
   },
   "outputs": [],
   "source": [
    "# Load accuracy metric\n",
    "\n",
    "# Put your code here:\n",
    "accuracy = evaluate.load(\"accuracy\")\n",
    "# ---- End of your code ----"
   ]
  },
  {
   "cell_type": "code",
   "execution_count": 11,
   "metadata": {
    "id": "6GatrDr7ajwn",
    "ExecuteTime": {
     "end_time": "2024-02-07T10:55:31.119070Z",
     "start_time": "2024-02-07T10:55:31.114494700Z"
    }
   },
   "outputs": [],
   "source": [
    "# Define compute metric function\n",
    "\n",
    "# Put your code here:\n",
    "def compute_metrics(eval_pred):\n",
    "    predictions, labels = eval_pred\n",
    "    predictions = np.argmax(predictions, axis=1)\n",
    "\n",
    "    return accuracy.compute(predictions=predictions, references=labels)\n",
    "\n",
    "# ---- End of your code ----"
   ]
  },
  {
   "cell_type": "code",
   "execution_count": 12,
   "metadata": {
    "id": "NHw1-OcDajwn",
    "ExecuteTime": {
     "end_time": "2024-02-07T10:55:33.642597800Z",
     "start_time": "2024-02-07T10:55:32.932139800Z"
    }
   },
   "outputs": [
    {
     "ename": "ValueError",
     "evalue": "FP16 Mixed precision training with AMP or APEX (`--fp16`) and FP16 half precision evaluation (`--fp16_full_eval`) can only be used on CUDA or NPU devices or certain XPU devices (with IPEX).",
     "output_type": "error",
     "traceback": [
      "\u001B[1;31m---------------------------------------------------------------------------\u001B[0m",
      "\u001B[1;31mValueError\u001B[0m                                Traceback (most recent call last)",
      "Cell \u001B[1;32mIn[12], line 4\u001B[0m\n\u001B[0;32m      1\u001B[0m \u001B[38;5;66;03m# Define training arguments\u001B[39;00m\n\u001B[0;32m      2\u001B[0m \n\u001B[0;32m      3\u001B[0m \u001B[38;5;66;03m# Update your code here:\u001B[39;00m\n\u001B[1;32m----> 4\u001B[0m training_args \u001B[38;5;241m=\u001B[39m \u001B[43mTrainingArguments\u001B[49m\u001B[43m(\u001B[49m\n\u001B[0;32m      5\u001B[0m \u001B[43m    \u001B[49m\u001B[43moutput_dir\u001B[49m\u001B[38;5;241;43m=\u001B[39;49m\u001B[38;5;124;43m\"\u001B[39;49m\u001B[38;5;124;43mmodel/vit-emotions-fp16\u001B[39;49m\u001B[38;5;124;43m\"\u001B[39;49m\u001B[43m,\u001B[49m\n\u001B[0;32m      6\u001B[0m \u001B[43m    \u001B[49m\u001B[43mremove_unused_columns\u001B[49m\u001B[38;5;241;43m=\u001B[39;49m\u001B[38;5;28;43;01mFalse\u001B[39;49;00m\u001B[43m,\u001B[49m\n\u001B[0;32m      7\u001B[0m \u001B[43m    \u001B[49m\u001B[43mevaluation_strategy\u001B[49m\u001B[38;5;241;43m=\u001B[39;49m\u001B[38;5;124;43m\"\u001B[39;49m\u001B[38;5;124;43mepoch\u001B[39;49m\u001B[38;5;124;43m\"\u001B[39;49m\u001B[43m,\u001B[49m\n\u001B[0;32m      8\u001B[0m \u001B[43m    \u001B[49m\u001B[43msave_strategy\u001B[49m\u001B[38;5;241;43m=\u001B[39;49m\u001B[38;5;124;43m\"\u001B[39;49m\u001B[38;5;124;43mepoch\u001B[39;49m\u001B[38;5;124;43m\"\u001B[39;49m\u001B[43m,\u001B[49m\n\u001B[0;32m      9\u001B[0m \u001B[43m    \u001B[49m\u001B[43mfp16\u001B[49m\u001B[38;5;241;43m=\u001B[39;49m\u001B[38;5;28;43;01mTrue\u001B[39;49;00m\u001B[43m,\u001B[49m\n\u001B[0;32m     10\u001B[0m \u001B[43m    \u001B[49m\u001B[43mlearning_rate\u001B[49m\u001B[38;5;241;43m=\u001B[39;49m\u001B[38;5;241;43m5e-5\u001B[39;49m\u001B[43m,\u001B[49m\n\u001B[0;32m     11\u001B[0m \u001B[43m    \u001B[49m\u001B[43mper_device_train_batch_size\u001B[49m\u001B[38;5;241;43m=\u001B[39;49m\u001B[38;5;241;43m16\u001B[39;49m\u001B[43m,\u001B[49m\n\u001B[0;32m     12\u001B[0m \u001B[43m    \u001B[49m\u001B[43mper_device_eval_batch_size\u001B[49m\u001B[38;5;241;43m=\u001B[39;49m\u001B[38;5;241;43m16\u001B[39;49m\u001B[43m,\u001B[49m\n\u001B[0;32m     13\u001B[0m \u001B[43m    \u001B[49m\u001B[43mnum_train_epochs\u001B[49m\u001B[38;5;241;43m=\u001B[39;49m\u001B[38;5;241;43m20\u001B[39;49m\u001B[43m,\u001B[49m\n\u001B[0;32m     14\u001B[0m \u001B[43m    \u001B[49m\u001B[43mload_best_model_at_end\u001B[49m\u001B[38;5;241;43m=\u001B[39;49m\u001B[38;5;28;43;01mTrue\u001B[39;49;00m\u001B[43m,\u001B[49m\n\u001B[0;32m     15\u001B[0m \u001B[43m    \u001B[49m\u001B[43mmetric_for_best_model\u001B[49m\u001B[38;5;241;43m=\u001B[39;49m\u001B[38;5;124;43m\"\u001B[39;49m\u001B[38;5;124;43maccuracy\u001B[39;49m\u001B[38;5;124;43m\"\u001B[39;49m\u001B[43m,\u001B[49m\n\u001B[0;32m     16\u001B[0m \u001B[43m    \u001B[49m\u001B[43mpush_to_hub\u001B[49m\u001B[38;5;241;43m=\u001B[39;49m\u001B[38;5;28;43;01mTrue\u001B[39;49;00m\u001B[43m,\u001B[49m\n\u001B[0;32m     17\u001B[0m \u001B[43m)\u001B[49m\n\u001B[0;32m     18\u001B[0m \u001B[38;5;66;03m# ---- End of your code ----\u001B[39;00m\n",
      "File \u001B[1;32m<string>:121\u001B[0m, in \u001B[0;36m__init__\u001B[1;34m(self, output_dir, overwrite_output_dir, do_train, do_eval, do_predict, evaluation_strategy, prediction_loss_only, per_device_train_batch_size, per_device_eval_batch_size, per_gpu_train_batch_size, per_gpu_eval_batch_size, gradient_accumulation_steps, eval_accumulation_steps, eval_delay, learning_rate, weight_decay, adam_beta1, adam_beta2, adam_epsilon, max_grad_norm, num_train_epochs, max_steps, lr_scheduler_type, lr_scheduler_kwargs, warmup_ratio, warmup_steps, log_level, log_level_replica, log_on_each_node, logging_dir, logging_strategy, logging_first_step, logging_steps, logging_nan_inf_filter, save_strategy, save_steps, save_total_limit, save_safetensors, save_on_each_node, save_only_model, no_cuda, use_cpu, use_mps_device, seed, data_seed, jit_mode_eval, use_ipex, bf16, fp16, fp16_opt_level, half_precision_backend, bf16_full_eval, fp16_full_eval, tf32, local_rank, ddp_backend, tpu_num_cores, tpu_metrics_debug, debug, dataloader_drop_last, eval_steps, dataloader_num_workers, past_index, run_name, disable_tqdm, remove_unused_columns, label_names, load_best_model_at_end, metric_for_best_model, greater_is_better, ignore_data_skip, fsdp, fsdp_min_num_params, fsdp_config, fsdp_transformer_layer_cls_to_wrap, deepspeed, label_smoothing_factor, optim, optim_args, adafactor, group_by_length, length_column_name, report_to, ddp_find_unused_parameters, ddp_bucket_cap_mb, ddp_broadcast_buffers, dataloader_pin_memory, dataloader_persistent_workers, skip_memory_metrics, use_legacy_prediction_loop, push_to_hub, resume_from_checkpoint, hub_model_id, hub_strategy, hub_token, hub_private_repo, hub_always_push, gradient_checkpointing, gradient_checkpointing_kwargs, include_inputs_for_metrics, fp16_backend, push_to_hub_model_id, push_to_hub_organization, push_to_hub_token, mp_parameters, auto_find_batch_size, full_determinism, torchdynamo, ray_scope, ddp_timeout, torch_compile, torch_compile_backend, torch_compile_mode, dispatch_batches, split_batches, include_tokens_per_second, include_num_input_tokens_seen, neftune_noise_alpha)\u001B[0m\n",
      "File \u001B[1;32m~\\Projects\\skill-academy-ml\\venv\\Lib\\site-packages\\transformers\\training_args.py:1489\u001B[0m, in \u001B[0;36mTrainingArguments.__post_init__\u001B[1;34m(self)\u001B[0m\n\u001B[0;32m   1478\u001B[0m         \u001B[38;5;28;01mraise\u001B[39;00m \u001B[38;5;167;01mValueError\u001B[39;00m(\u001B[38;5;124m\"\u001B[39m\u001B[38;5;124m--optim adamw_torch_fused with --fp16 requires PyTorch>2.0\u001B[39m\u001B[38;5;124m\"\u001B[39m)\n\u001B[0;32m   1480\u001B[0m \u001B[38;5;28;01mif\u001B[39;00m (\n\u001B[0;32m   1481\u001B[0m     \u001B[38;5;28mself\u001B[39m\u001B[38;5;241m.\u001B[39mframework \u001B[38;5;241m==\u001B[39m \u001B[38;5;124m\"\u001B[39m\u001B[38;5;124mpt\u001B[39m\u001B[38;5;124m\"\u001B[39m\n\u001B[0;32m   1482\u001B[0m     \u001B[38;5;129;01mand\u001B[39;00m is_torch_available()\n\u001B[1;32m   (...)\u001B[0m\n\u001B[0;32m   1487\u001B[0m     \u001B[38;5;129;01mand\u001B[39;00m (\u001B[38;5;28mself\u001B[39m\u001B[38;5;241m.\u001B[39mfp16 \u001B[38;5;129;01mor\u001B[39;00m \u001B[38;5;28mself\u001B[39m\u001B[38;5;241m.\u001B[39mfp16_full_eval)\n\u001B[0;32m   1488\u001B[0m ):\n\u001B[1;32m-> 1489\u001B[0m     \u001B[38;5;28;01mraise\u001B[39;00m \u001B[38;5;167;01mValueError\u001B[39;00m(\n\u001B[0;32m   1490\u001B[0m         \u001B[38;5;124m\"\u001B[39m\u001B[38;5;124mFP16 Mixed precision training with AMP or APEX (`--fp16`) and FP16 half precision evaluation\u001B[39m\u001B[38;5;124m\"\u001B[39m\n\u001B[0;32m   1491\u001B[0m         \u001B[38;5;124m\"\u001B[39m\u001B[38;5;124m (`--fp16_full_eval`) can only be used on CUDA or NPU devices or certain XPU devices (with IPEX).\u001B[39m\u001B[38;5;124m\"\u001B[39m\n\u001B[0;32m   1492\u001B[0m     )\n\u001B[0;32m   1494\u001B[0m \u001B[38;5;28;01mif\u001B[39;00m (\n\u001B[0;32m   1495\u001B[0m     \u001B[38;5;28mself\u001B[39m\u001B[38;5;241m.\u001B[39mframework \u001B[38;5;241m==\u001B[39m \u001B[38;5;124m\"\u001B[39m\u001B[38;5;124mpt\u001B[39m\u001B[38;5;124m\"\u001B[39m\n\u001B[0;32m   1496\u001B[0m     \u001B[38;5;129;01mand\u001B[39;00m is_torch_available()\n\u001B[1;32m   (...)\u001B[0m\n\u001B[0;32m   1503\u001B[0m     \u001B[38;5;129;01mand\u001B[39;00m (\u001B[38;5;28mself\u001B[39m\u001B[38;5;241m.\u001B[39mbf16 \u001B[38;5;129;01mor\u001B[39;00m \u001B[38;5;28mself\u001B[39m\u001B[38;5;241m.\u001B[39mbf16_full_eval)\n\u001B[0;32m   1504\u001B[0m ):\n\u001B[0;32m   1505\u001B[0m     \u001B[38;5;28;01mraise\u001B[39;00m \u001B[38;5;167;01mValueError\u001B[39;00m(\n\u001B[0;32m   1506\u001B[0m         \u001B[38;5;124m\"\u001B[39m\u001B[38;5;124mBF16 Mixed precision training with AMP (`--bf16`) and BF16 half precision evaluation\u001B[39m\u001B[38;5;124m\"\u001B[39m\n\u001B[0;32m   1507\u001B[0m         \u001B[38;5;124m\"\u001B[39m\u001B[38;5;124m (`--bf16_full_eval`) can only be used on CUDA, XPU (with IPEX), NPU or CPU/TPU/NeuronCore devices.\u001B[39m\u001B[38;5;124m\"\u001B[39m\n\u001B[0;32m   1508\u001B[0m     )\n",
      "\u001B[1;31mValueError\u001B[0m: FP16 Mixed precision training with AMP or APEX (`--fp16`) and FP16 half precision evaluation (`--fp16_full_eval`) can only be used on CUDA or NPU devices or certain XPU devices (with IPEX)."
     ]
    }
   ],
   "source": [
    "# Define training arguments\n",
    "\n",
    "# Update your code here:\n",
    "training_args = TrainingArguments(\n",
    "    output_dir=\"model/vit-emotions-fp16\",\n",
    "    remove_unused_columns=False,\n",
    "    evaluation_strategy=\"epoch\",\n",
    "    save_strategy=\"epoch\",\n",
    "    fp16=True,\n",
    "    learning_rate=5e-5,\n",
    "    per_device_train_batch_size=16,\n",
    "    per_device_eval_batch_size=16,\n",
    "    num_train_epochs=20,\n",
    "    load_best_model_at_end=True,\n",
    "    metric_for_best_model=\"accuracy\",\n",
    "    push_to_hub=True,\n",
    ")\n",
    "# ---- End of your code ----"
   ]
  },
  {
   "cell_type": "markdown",
   "metadata": {
    "id": "f8DKtT97ajwn"
   },
   "source": [
    "To use Hugging Face `Trainer` you need to install the `accelerate` library version `0.20.1` or later. It is used for performance enhancement on PyTorch."
   ]
  },
  {
   "cell_type": "code",
   "execution_count": 13,
   "metadata": {
    "id": "5CfTQPdoajwo",
    "ExecuteTime": {
     "end_time": "2024-02-07T10:56:00.305267300Z",
     "start_time": "2024-02-07T10:56:00.289700Z"
    }
   },
   "outputs": [
    {
     "ename": "NameError",
     "evalue": "name 'training_args' is not defined",
     "output_type": "error",
     "traceback": [
      "\u001B[1;31m---------------------------------------------------------------------------\u001B[0m",
      "\u001B[1;31mNameError\u001B[0m                                 Traceback (most recent call last)",
      "Cell \u001B[1;32mIn[13], line 8\u001B[0m\n\u001B[0;32m      1\u001B[0m \u001B[38;5;66;03m# Instantiate the trainer\u001B[39;00m\n\u001B[0;32m      2\u001B[0m \n\u001B[0;32m      3\u001B[0m \u001B[38;5;66;03m# Update your code here:\u001B[39;00m\n\u001B[0;32m      4\u001B[0m data_collator \u001B[38;5;241m=\u001B[39m DefaultDataCollator()\n\u001B[0;32m      6\u001B[0m trainer \u001B[38;5;241m=\u001B[39m Trainer(\n\u001B[0;32m      7\u001B[0m    model\u001B[38;5;241m=\u001B[39mmodel,\n\u001B[1;32m----> 8\u001B[0m    args\u001B[38;5;241m=\u001B[39m\u001B[43mtraining_args\u001B[49m,\n\u001B[0;32m      9\u001B[0m    data_collator\u001B[38;5;241m=\u001B[39mdata_collator,\n\u001B[0;32m     10\u001B[0m    train_dataset\u001B[38;5;241m=\u001B[39memotion[\u001B[38;5;124m\"\u001B[39m\u001B[38;5;124mtrain\u001B[39m\u001B[38;5;124m\"\u001B[39m],\n\u001B[0;32m     11\u001B[0m    eval_dataset\u001B[38;5;241m=\u001B[39memotion[\u001B[38;5;124m\"\u001B[39m\u001B[38;5;124mtrain\u001B[39m\u001B[38;5;124m\"\u001B[39m],\n\u001B[0;32m     12\u001B[0m    tokenizer\u001B[38;5;241m=\u001B[39mimage_processor,\n\u001B[0;32m     13\u001B[0m    compute_metrics\u001B[38;5;241m=\u001B[39mcompute_metrics,\n\u001B[0;32m     14\u001B[0m )\n\u001B[0;32m     15\u001B[0m \u001B[38;5;66;03m# ---- End of your code ----\u001B[39;00m\n",
      "\u001B[1;31mNameError\u001B[0m: name 'training_args' is not defined"
     ]
    }
   ],
   "source": [
    " # Instantiate the trainer\n",
    "\n",
    "# Update your code here:\n",
    "data_collator = DefaultDataCollator()\n",
    "\n",
    "trainer = Trainer(\n",
    "    model=model,\n",
    "    args=training_args,\n",
    "    data_collator=data_collator,\n",
    "    train_dataset=emotion[\"train\"],\n",
    "    eval_dataset=emotion[\"train\"],\n",
    "    tokenizer=image_processor,\n",
    "    compute_metrics=compute_metrics,\n",
    ")\n",
    "# ---- End of your code ----"
   ]
  },
  {
   "cell_type": "markdown",
   "metadata": {
    "id": "LRo5Pttyajwo"
   },
   "source": [
    "If there are problems when using the Trainer after installing `accelerate` you can restart the Kernel"
   ]
  },
  {
   "cell_type": "markdown",
   "metadata": {
    "id": "KlfrWAJZajwo"
   },
   "source": [
    "### Step 7: Train and Evaluate the Model\n",
    "\n",
    "Now, you are ready to train the model and evaluate it on the test set."
   ]
  },
  {
   "cell_type": "code",
   "execution_count": null,
   "metadata": {
    "id": "7Sc6ghhAajwo"
   },
   "outputs": [],
   "source": [
    "# Train the model\n",
    "\n",
    "# Put your code here:\n",
    "trainer.train()  # I did the training in google colab\n",
    "# ---- End of your code ----"
   ]
  },
  {
   "cell_type": "code",
   "execution_count": null,
   "metadata": {
    "id": "oPs25I0uajwo"
   },
   "outputs": [],
   "source": [
    "# Evaluate the model\n",
    "\n",
    "# Update your code here:\n",
    "eval_result = trainer.evaluate(eval_dataset=emotion[\"train\"])  # 0.80125\n",
    "# ---- End of your code ----\n",
    "\n",
    "# Save the formatted accuracy in a variable\n",
    "accuracy_str = \"{:.4f}\".format(eval_result[\"eval_accuracy\"])"
   ]
  },
  {
   "cell_type": "markdown",
   "metadata": {
    "id": "rWKglrVxajwp"
   },
   "source": [
    "### Step 8: Publishing the Trained Model\n",
    "\n",
    "Finally, make sure to push your trained model to the Hugging Face Model Hub."
   ]
  },
  {
   "cell_type": "markdown",
   "metadata": {
    "id": "nLHqTuD5ajwp"
   },
   "source": [
    "> **Note**: No need to change the code below! Just run to publish your model."
   ]
  },
  {
   "cell_type": "code",
   "execution_count": null,
   "metadata": {
    "id": "gfTeT-Hxajwp"
   },
   "outputs": [],
   "source": [
    "trainer.push_to_hub()"
   ]
  },
  {
   "cell_type": "markdown",
   "metadata": {
    "id": "DBCki8znajwp"
   },
   "source": [
    "Once you've trained your model and pushed it to the Hugging Face Model Hub, you'll have a link that points directly to your model's page. You can share this link with others, and they can use it to directly load your model for their own uses."
   ]
  },
  {
   "cell_type": "markdown",
   "metadata": {
    "id": "EBTj4VEbajwq"
   },
   "source": [
    "The following link is an example of what a trained model's page looks like: https://huggingface.co/aditira/emotion_classification. This is not your model, but rather an example of what your final result might resemble."
   ]
  },
  {
   "cell_type": "markdown",
   "metadata": {
    "id": "ze_qzhv7ajwq"
   },
   "source": [
    "Remember, for this project you should push your output model to your own Hugging Face account. The link for your model will be different and should reflect your own username and model name."
   ]
  },
  {
   "cell_type": "code",
   "execution_count": 14,
   "metadata": {
    "id": "XLNiGE_najwr",
    "ExecuteTime": {
     "end_time": "2024-02-07T10:56:33.356460500Z",
     "start_time": "2024-02-07T10:56:32.100237600Z"
    }
   },
   "outputs": [
    {
     "data": {
      "text/plain": "'Assignment successfully submitted'"
     },
     "execution_count": 14,
     "metadata": {},
     "output_type": "execute_result"
    }
   ],
   "source": [
    "# Submit Method\n",
    "huggingface_model_link = \"https://huggingface.co/silvering/vit-emotions-fp16\"  # Put your model link\n",
    "\n",
    "assignment_id = \"00_transfer_learning\"\n",
    "question_id = \"00_emotion_recognition_huggingface\"\n",
    "submit(student_id, name, assignment_id, huggingface_model_link, question_id, drive_link)\n",
    "\n",
    "question_id = \"01_emotion_recognition_accuracy\"\n",
    "submit(student_id, name, assignment_id, accuracy_str, question_id, drive_link)"
   ]
  },
  {
   "cell_type": "markdown",
   "metadata": {
    "id": "5BA0Vnjyajwr"
   },
   "source": [
    "## Task 2:  Build an Interactive Application with Gradio"
   ]
  },
  {
   "cell_type": "markdown",
   "metadata": {
    "id": "KDjdVz0hajwr"
   },
   "source": [
    "In this task, you will be building an interactive application using Gradio that will use your fine-tuned emotion recognition model along with another pretrained model ('`nateraw/vit-age-classifier`') to guess the emotion and age from an input image.\n",
    "\n",
    "Please make sure to:\n",
    "- Install the necessary package (`gradio`) for creating the web-based interface.\n",
    "- Load your fine-tuned model as well as the pretrained model '`nateraw/vit-age-classifier`'.\n",
    "- Define a function that will take an image as input and return the predicted emotion and age.\n",
    "- Utilize Gradio to create an Interface (UI) for your function, allowing users to upload images and see the predicted emotion and age."
   ]
  },
  {
   "cell_type": "markdown",
   "metadata": {
    "id": "tupRP39dajwr"
   },
   "source": [
    "### Submisssion\n",
    "\n",
    "![Upload colab](https://storage.googleapis.com/rg-ai-bootcamp/project-3-pipeline-and-gradio/upload-colab.png)\n",
    "\n",
    "You need to submit screenshot of your Gradio's app. In Google Colab you can just use the \"Folder\" sidebar and click the upload button. Make sure your screenshot match below requirements:\n",
    "\n",
    "- Image name screenshot is `submission.jpg`\n",
    "- You should upload a person's image to that app\n",
    "- The score should be included at the screenshot"
   ]
  },
  {
   "cell_type": "code",
   "outputs": [
    {
     "name": "stderr",
     "output_type": "stream",
     "text": [
      "C:\\Users\\Rusty\\Projects\\skill-academy-ml\\venv\\Lib\\site-packages\\transformers\\models\\vit\\feature_extraction_vit.py:28: FutureWarning: The class ViTFeatureExtractor is deprecated and will be removed in version 5 of Transformers. Please use ViTImageProcessor instead.\n",
      "  warnings.warn(\n"
     ]
    }
   ],
   "source": [
    "# Load the model\n",
    "\n",
    "# VIT image processor\n",
    "processor = ViTFeatureExtractor.from_pretrained(\n",
    "    'google/vit-base-patch16-224-in21k',\n",
    "    cache_dir='./checkpoint'\n",
    ")\n",
    "\n",
    "# VIT age classifier\n",
    "age_model = AutoModelForImageClassification.from_pretrained(\n",
    "    \"nateraw/vit-age-classifier\",\n",
    "    cache_dir=r'../Project #5 - Pipeline & Gradio/checkpoint'  # I use the model from the last project\n",
    ")\n",
    "\n",
    "# VIT emotions classifier\n",
    "emotions_model = AutoModelForImageClassification.from_pretrained(\n",
    "    \"silvering/vit-emotions-classification-fp16\",\n",
    "    cache_dir='./checkpoint',\n",
    ")\n",
    "\n",
    "# Get the labels\n",
    "age_labels = [\n",
    "    '0-2',\n",
    "    '3-9',\n",
    "    '10-19',\n",
    "    '20-29',\n",
    "    '30-39',\n",
    "    '40-49',\n",
    "    '50-59',\n",
    "    '60-69',\n",
    "    'more than 70'\n",
    "]\n",
    "emotions_labels = emotion[\"train\"].features[\"label\"].names"
   ],
   "metadata": {
    "collapsed": false,
    "ExecuteTime": {
     "end_time": "2024-02-07T10:56:44.092756600Z",
     "start_time": "2024-02-07T10:56:42.830234400Z"
    }
   },
   "execution_count": 15
  },
  {
   "cell_type": "code",
   "execution_count": 16,
   "metadata": {
    "id": "9ith2GxRajwr",
    "ExecuteTime": {
     "end_time": "2024-02-07T10:56:54.443398300Z",
     "start_time": "2024-02-07T10:56:51.846561400Z"
    }
   },
   "outputs": [
    {
     "name": "stdout",
     "output_type": "stream",
     "text": [
      "Running on local URL:  http://127.0.0.1:7860\n",
      "\n",
      "To create a public link, set `share=True` in `launch()`.\n"
     ]
    },
    {
     "data": {
      "text/plain": "<IPython.core.display.HTML object>",
      "text/html": "<div><iframe src=\"http://127.0.0.1:7860/\" width=\"100%\" height=\"500\" allow=\"autoplay; camera; microphone; clipboard-read; clipboard-write;\" frameborder=\"0\" allowfullscreen></iframe></div>"
     },
     "metadata": {},
     "output_type": "display_data"
    },
    {
     "name": "stdout",
     "output_type": "stream",
     "text": [
      "Keyboard interruption in main thread... closing server.\n"
     ]
    },
    {
     "data": {
      "text/plain": ""
     },
     "execution_count": 16,
     "metadata": {},
     "output_type": "execute_result"
    }
   ],
   "source": [
    "# Put your code here:\n",
    "def get_prediction(probability, labels):\n",
    "    probs = probability.logits.softmax(1)\n",
    "    ind = probs.argmax(1)\n",
    "    \n",
    "    return {\n",
    "        'score': probs.tolist()[0][ind],\n",
    "        'label': labels[ind]\n",
    "    }\n",
    "\n",
    "def classify_person(face):\n",
    "    im = Image.fromarray(face)\n",
    "\n",
    "    inputs = processor(im, return_tensors='pt')\n",
    "    \n",
    "    age_output = age_model(**inputs)\n",
    "    emotion_output= emotions_model(**inputs)\n",
    "    \n",
    "    return get_prediction(age_output, age_labels), get_prediction(emotion_output, emotions_labels)\n",
    "\n",
    "\n",
    "demo = gr.Interface(classify_person, gr.Image(), [\"json\", \"json\"])\n",
    "demo.launch(debug=True)\n",
    "# ---- End of your code ----"
   ]
  },
  {
   "cell_type": "markdown",
   "metadata": {
    "id": "NHmTpGTyajwr"
   },
   "source": [
    "Example of Expected Output:\n",
    "\n",
    "![gradio-result](https://storage.googleapis.com/rg-ai-bootcamp/project-4-transfer-learning/gradio_emotion_age_app.png)"
   ]
  },
  {
   "cell_type": "code",
   "execution_count": 17,
   "metadata": {
    "id": "vs_ES11najwr",
    "ExecuteTime": {
     "end_time": "2024-02-07T10:57:09.391566600Z",
     "start_time": "2024-02-07T10:57:03.083262900Z"
    }
   },
   "outputs": [
    {
     "data": {
      "text/plain": "'Assignment successfully submitted'"
     },
     "execution_count": 17,
     "metadata": {},
     "output_type": "execute_result"
    }
   ],
   "source": [
    "# Submit Method\n",
    "question_id = \"01_interactive_application_with_gradio\"\n",
    "submit_image(student_id, question_id, './submission.jpg')"
   ]
  },
  {
   "cell_type": "markdown",
   "metadata": {
    "id": "y72Rd2wbajws"
   },
   "source": [
    "> Note: If your submission for Task-2 did not run (After you run it never changes from \"*\" to a number), stop the Code block that's running the Gradio app, then the submission will run. To stop the Code block, you can click on the Code block and then click the stop button."
   ]
  }
 ],
 "metadata": {
  "language_info": {
   "name": "python"
  },
  "orig_nbformat": 4,
  "colab": {
   "provenance": []
  },
  "kernelspec": {
   "name": "python3",
   "language": "python",
   "display_name": "Python 3 (ipykernel)"
  }
 },
 "nbformat": 4,
 "nbformat_minor": 0
}
