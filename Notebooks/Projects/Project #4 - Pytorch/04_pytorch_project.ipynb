{
 "cells": [
  {
   "cell_type": "markdown",
   "id": "def8e46c-7606-4991-9b29-9223ccacd54b",
   "metadata": {
    "id": "def8e46c-7606-4991-9b29-9223ccacd54b"
   },
   "source": [
    "# Project: Pytorch"
   ]
  },
  {
   "cell_type": "markdown",
   "id": "911a145c-7d01-4210-9699-0e1fef80ff19",
   "metadata": {
    "id": "911a145c-7d01-4210-9699-0e1fef80ff19"
   },
   "source": [
    "**Instructions for Students:**\n",
    "\n",
    "Please carefully follow these steps to complete and submit your project:\n",
    "\n",
    "1. **Completing the Project**: You are required to work on and complete all tasks in the provided project. Be disciplined and ensure that you thoroughly engage with each task.\n",
    "   \n",
    "2. **Creating a Google Drive Folder**: Each of you must create a new folder on your Google Drive if you haven't already. This will be the repository for all your completed assignment and project files, aiding you in keeping your work organized and accessible.\n",
    "   \n",
    "3. **Uploading Completed Project**: Upon completion of your project, make sure to upload all necessary files, involving codes, reports, and related documents into the created Google Drive folder. Save this link in the 'Student Identity' section and also provide it as the last parameter in the `submit` function that has been provided.\n",
    "   \n",
    "4. **Sharing Folder Link**: You're required to share the link to your project Google Drive folder. This is crucial for the submission and evaluation of your project.\n",
    "   \n",
    "5. **Setting Permission toPublic**: Please make sure your Google Drive folder is set to public. This allows your instructor to access your solutions and assess your work correctly.\n",
    "\n",
    "Adhering to these procedures will facilitate a smooth project evaluation process for you and the reviewers."
   ]
  },
  {
   "cell_type": "markdown",
   "id": "8018f21d-d661-4ae4-a50d-9fb66feb291d",
   "metadata": {
    "id": "8018f21d-d661-4ae4-a50d-9fb66feb291d"
   },
   "source": [
    "## Student Identity"
   ]
  },
  {
   "cell_type": "code",
   "execution_count": null,
   "id": "9fc57472-0432-474a-b1f7-c825edfc007a",
   "metadata": {
    "id": "9fc57472-0432-474a-b1f7-c825edfc007a"
   },
   "outputs": [],
   "source": [
    "# @title #### Student Identity\n",
    "student_id = \"REA3X5EN\" # @param {type:\"string\"}\n",
    "name = \"Steven Adi Santoso\" # @param {type:\"string\"}\n",
    "drive_link = \"https://drive.google.com/drive/folders/1dxLrwHb25LKqEZIA4gO9J0tfDuG1-SCZ?usp=sharing\"  # @param {type:\"string\"}\n",
    "\n",
    "assignment_id = \"00_pytorch_project\"\n",
    "\n",
    "# Import grader package\n",
    "!pip install rggrader\n",
    "from rggrader import submit, submit_image"
   ]
  },
  {
   "cell_type": "markdown",
   "id": "d3b9e0f7-75d2-476a-9b29-07c1a3800925",
   "metadata": {
    "id": "d3b9e0f7-75d2-476a-9b29-07c1a3800925"
   },
   "source": [
    "## Project Description\n",
    "\n",
    "In this project, you will use what you learn to create your own Deep Learning model. We'll use a variety of datasets, each with different data types such as images, text, and numerical/categorical data. Your task is to choose one of these datasets and build a deep learning model upon it.\n"
   ]
  },
  {
   "cell_type": "markdown",
   "id": "d333f8fe-3ae6-4060-b597-e9f7d9e37582",
   "metadata": {
    "id": "d333f8fe-3ae6-4060-b597-e9f7d9e37582"
   },
   "source": [
    "## Datasets\n",
    "\n",
    "Choose one from the following datasets for your project:\n",
    "\n",
    "1. **Digits Dataset**: A simplified version of MNIST containing 8x8 images of hand-written digits. [Dataset Link](https://scikit-learn.org/stable/auto_examples/datasets/plot_digits_last_image.html)\n",
    "2. **Dogs vs. Cats Dataset from Kaggle**: A sizable dataset of 25,000 images with equal representation of dogs and cats. [Dataset Link](https://www.kaggle.com/c/dogs-vs-cats)\n",
    "3. **Breast Cancer Wisconsin (Diagnostic) Dataset**: Computed features from a digitized image of a fine needle aspirate (FNA) of a breast mass. [Dataset Link](https://archive.ics.uci.edu/ml/datasets/Breast+Cancer+Wisconsin+%28Diagnostic%29)\n",
    "4. **Spam Text Message Classification Dataset**: A collection of labeled SMS messages, categorized as \"spam\" or \"ham\". [Dataset Link](https://www.kaggle.com/uciml/sms-spam-collection-dataset)\n",
    "5. **German Credit Risk Dataset**: People's data categorized by various attributes to predict credit risk. [Dataset Link](https://archive.ics.uci.edu/ml/datasets/Statlog+%28German+Credit+Data%29)\n"
   ]
  },
  {
   "cell_type": "markdown",
   "id": "84fea308-2c09-472c-a5ec-e4ba0900d496",
   "metadata": {
    "id": "84fea308-2c09-472c-a5ec-e4ba0900d496"
   },
   "source": [
    "\n",
    "## Grading Scheme\n",
    "\n",
    "Your work will be evaluated based on both accuracy and loss value:\n",
    "\n",
    "100: The model has an accuracy of more than 80% and a Loss Value of less than 0.2. This model is excellent and demonstrates a strong understanding of the task.\n",
    "\n",
    "90: The model has an accuracy between 70% - 79% and a Loss Value between 0.2 - 0.3. This model is very good, with some room for improvement.\n",
    "\n",
    "80: The model has an accuracy between 60% - 69% and a Loss Value between 0.3 - 0.4. This model is fairly good but needs improvement in balancing accuracy and loss value.\n",
    "\n",
    "70: The model has an accuracy between 50% - 59% and a Loss Value between 0.4 - 0.5. This model is below average and needs significant improvement.\n",
    "\n",
    "60 or below: The model has an accuracy of less than 50% or a Loss Value of more than 0.5, or the student did not submit the accuracy and Loss Value. This model is poor and needs considerable improvement."
   ]
  },
  {
   "cell_type": "markdown",
   "id": "915df21b-3a7e-444a-999d-c830acdbe7f2",
   "metadata": {
    "id": "915df21b-3a7e-444a-999d-c830acdbe7f2"
   },
   "source": [
    "Rmember to make a copy of this notebook in your Google Drive and work in your own copy.\n",
    "\n",
    "Let's start your deep learning journey! Choose your dataset and delve into the project! Happy modeling!"
   ]
  },
  {
   "cell_type": "markdown",
   "id": "e0b68327-fc7b-43de-9f16-b058d11d775b",
   "metadata": {
    "id": "e0b68327-fc7b-43de-9f16-b058d11d775b"
   },
   "source": [
    "## Project Structure\n",
    "\n",
    "Your project should be organized into five main sections."
   ]
  },
  {
   "cell_type": "markdown",
   "id": "25ecc459-5019-42d8-84a6-8644cecafef3",
   "metadata": {
    "id": "25ecc459-5019-42d8-84a6-8644cecafef3"
   },
   "source": [
    "### 1. Package and Module Installation\n",
    "\n",
    "First, let's pool all package and module that you'll need in the installation section below."
   ]
  },
  {
   "cell_type": "code",
   "execution_count": null,
   "id": "62606ca1-5868-4c65-93ef-1d6ee8d8d59a",
   "metadata": {
    "id": "62606ca1-5868-4c65-93ef-1d6ee8d8d59a"
   },
   "outputs": [],
   "source": [
    "# Write any package/module installation that you need\n",
    "# pip install goes here, this helps declutter your output below\n",
    "\n"
   ]
  },
  {
   "cell_type": "markdown",
   "id": "b0837717-de95-4193-9898-e2f4cadfcfc6",
   "metadata": {
    "id": "b0837717-de95-4193-9898-e2f4cadfcfc6"
   },
   "source": [
    "### 2. Data Loading and Preprocessing\n",
    "\n",
    "Load the chosen dataset and preprocess it for deep learning."
   ]
  },
  {
   "cell_type": "code",
   "execution_count": null,
   "id": "3b0e5e58-277e-41ef-9b1c-951e5d150191",
   "metadata": {
    "id": "3b0e5e58-277e-41ef-9b1c-951e5d150191"
   },
   "outputs": [],
   "source": [
    "# Write your preprocessing here\n",
    "\n",
    "# Load your data\n",
    "\n"
   ]
  },
  {
   "cell_type": "markdown",
   "id": "30ce0c59-0e94-480a-81ae-528e68356a15",
   "metadata": {
    "id": "30ce0c59-0e94-480a-81ae-528e68356a15"
   },
   "source": [
    "### 3. Model Building\n",
    "\n",
    "Define your deep learning model's architecture."
   ]
  },
  {
   "cell_type": "code",
   "execution_count": null,
   "id": "1aa3c3f7-c6c5-4419-9b25-e8d7a8ec345a",
   "metadata": {
    "id": "1aa3c3f7-c6c5-4419-9b25-e8d7a8ec345a"
   },
   "outputs": [],
   "source": [
    "# Write your code here for Model Building here\n",
    "\n",
    "# define your Deep Learning Model here, training is in the next section.\n",
    "\n"
   ]
  },
  {
   "cell_type": "markdown",
   "id": "585b925f-fcf0-4518-81d8-598dba65d646",
   "metadata": {
    "id": "585b925f-fcf0-4518-81d8-598dba65d646"
   },
   "source": [
    "### 4. Model Training\n",
    "\n",
    "Train your model and evaluate its performance using validation data."
   ]
  },
  {
   "cell_type": "code",
   "execution_count": null,
   "id": "ee33d9bc-2b35-4f78-b5d8-3eb65db1e361",
   "metadata": {
    "id": "ee33d9bc-2b35-4f78-b5d8-3eb65db1e361"
   },
   "outputs": [],
   "source": [
    "# Write your code here for Model Training here\n",
    "dl_loss_value = 1\n",
    "\n",
    "#define the iteration\n",
    "\n",
    "#create the training loop\n"
   ]
  },
  {
   "cell_type": "markdown",
   "id": "1d391ec9-ca95-4c56-b4f6-fccf8e0be14a",
   "metadata": {
    "id": "1d391ec9-ca95-4c56-b4f6-fccf8e0be14a"
   },
   "source": [
    "### 5. Model Evaluation\n",
    "Evaluate your model's performance on the test data using the grading scheme defined above."
   ]
  },
  {
   "cell_type": "code",
   "execution_count": null,
   "id": "c8ca8f78-e33c-4552-9f4d-8bed711e661f",
   "metadata": {
    "id": "c8ca8f78-e33c-4552-9f4d-8bed711e661f"
   },
   "outputs": [],
   "source": [
    "# Write your code here for Model Evaluation here\n",
    "dl_accuracy = 0\n",
    "\n",
    "#define the iteration\n",
    "\n",
    "#create the training loop\n"
   ]
  },
  {
   "cell_type": "markdown",
   "id": "5d59af48-18c0-4e40-80ff-33a85030b205",
   "metadata": {
    "id": "5d59af48-18c0-4e40-80ff-33a85030b205"
   },
   "source": [
    "## Submission\n",
    "\n",
    "Once you are satisfied with the performance of your model, then you run the code block below to submit your project.\n"
   ]
  },
  {
   "cell_type": "code",
   "execution_count": null,
   "id": "010d7f7f-711d-4f41-82a3-3c2562e59709",
   "metadata": {
    "id": "010d7f7f-711d-4f41-82a3-3c2562e59709"
   },
   "outputs": [],
   "source": [
    "# Submit Method\n",
    "\n",
    "# Do not change the code below\n",
    "question_id = \"01_dl_project_accuracy\"\n",
    "submit(student_id, name, assignment_id, str(dl_accuracy), question_id, drive_link)\n",
    "question_id = \"02_dl_project_loss_value\"\n",
    "submit(student_id, name, assignment_id, str(dl_loss_value), question_id, drive_link)"
   ]
  },
  {
   "cell_type": "markdown",
   "id": "aa89b9ff-0d31-416a-b3c4-851c725fadf7",
   "metadata": {
    "id": "aa89b9ff-0d31-416a-b3c4-851c725fadf7"
   },
   "source": [
    "## FIN"
   ]
  }
 ],
 "metadata": {
  "kernelspec": {
   "display_name": "Python 3 (ipykernel)",
   "language": "python",
   "name": "python3"
  },
  "language_info": {
   "codemirror_mode": {
    "name": "ipython",
    "version": 3
   },
   "file_extension": ".py",
   "mimetype": "text/x-python",
   "name": "python",
   "nbconvert_exporter": "python",
   "pygments_lexer": "ipython3",
   "version": "3.11.3"
  },
  "colab": {
   "provenance": []
  }
 },
 "nbformat": 4,
 "nbformat_minor": 5
}
