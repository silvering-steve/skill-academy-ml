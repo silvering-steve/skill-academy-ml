{
  "cells": [
    {
      "cell_type": "markdown",
      "metadata": {
        "id": "384IotN5XoUW"
      },
      "source": [
        "# SQL Fundamentals with Python - Tables"
      ]
    },
    {
      "cell_type": "markdown",
      "metadata": {
        "id": "4mY8Mu-8XoUZ"
      },
      "source": [
        "## DML (Data Manipulation Language)\n",
        "\n",
        "### What is DML?\n",
        "\n",
        "_Data Manipulation Language_ (DML) is used to modify data in a database. DML is responsible for all forms of data changes within the database.\n",
        "\n",
        "The most frequently used DML commands are `INSERT`, `UPDATE`, and `DELETE`. Let's discuss these commands by continuing with the example table that was created earlier.\n",
        "\n",
        "The table has the following structure and data:\n",
        "\n",
        "| id  | name  | age | address           | salary  |\n",
        "| --- | ----- | --- | ----------------- | ------- |\n",
        "| 1   | Rizki | 25  | Jl. Kebon Jeruk   | 2000000 |\n",
        "| 2   | Andi  | 27  | Jl. Kebon Sirih   | 3000000 |\n",
        "| 3   | Budi  | 30  | Jl. Kebon Melati  | 4000000 |\n",
        "| 4   | Caca  | 32  | Jl. Kebon Anggrek | 5000000 |\n",
        "| 5   | Deni  | 35  | Jl. Kebon Mawar   | 6000000 |\n",
        "\n",
        "In the DDL material, we have already created a database and this table, let's add the data above into the table that is already created:"
      ]
    },
    {
      "cell_type": "code",
      "execution_count": null,
      "metadata": {
        "vscode": {
          "languageId": "sql"
        },
        "id": "aVjOD8oBXoUa"
      },
      "outputs": [],
      "source": [
        "-- create database\n",
        "CREATE DATABASE db_employee;\n",
        "\n",
        "-- use database\n",
        "USE db_employee;\n",
        "\n",
        "-- create table\n",
        "CREATE TABLE employees (\n",
        "  id SERIAL PRIMARY KEY,\n",
        "  name VARCHAR(50) NOT NULL,\n",
        "  age INT NOT NULL,\n",
        "  address VARCHAR(100),\n",
        "  salary INT\n",
        ");"
      ]
    },
    {
      "cell_type": "markdown",
      "metadata": {
        "id": "ZJFK0xtVXoUc"
      },
      "source": [
        "Try in python using SQLite"
      ]
    },
    {
      "cell_type": "code",
      "execution_count": null,
      "metadata": {
        "id": "LxXl8wWhXoUc"
      },
      "outputs": [],
      "source": [
        "import sqlite3\n",
        "\n",
        "# Connect to the SQLite database\n",
        "# If the database does not exist, it will be created\n",
        "conn = sqlite3.connect('db/sqlite.db')\n",
        "\n",
        "# Create a cursor object\n",
        "cur = conn.cursor()"
      ]
    },
    {
      "cell_type": "code",
      "execution_count": null,
      "metadata": {
        "id": "PlM-7eBmXoUd"
      },
      "outputs": [],
      "source": [
        "# Execute a SQL command: this creates a new table\n",
        "cur.execute('''\n",
        "    CREATE TABLE employees (\n",
        "        id INTEGER,\n",
        "        name TEXT NOT NULL,\n",
        "        age INTEGER NOT NULL,\n",
        "        address TEXT,\n",
        "        salary INTEGER\n",
        "    )\n",
        "''')\n",
        "\n",
        "# Commit the transaction\n",
        "conn.commit()"
      ]
    },
    {
      "cell_type": "markdown",
      "metadata": {
        "id": "jlzrIFifXoUd"
      },
      "source": [
        "We will continue with examples of DML commands.\n",
        "\n",
        "### INSERT\n",
        "\n",
        "We can use the `INSERT` command to add new data into a table. The `INSERT` command has the following structure:\n",
        "\n",
        "```sql\n",
        "INSERT INTO <table-name> VALUES (column1, column2, column3, ...)\n",
        "```\n",
        "\n",
        "Looking at the example above, we can see that the `INSERT` command has two parts, namely the `INSERT INTO` part and the `VALUES` part. The `INSERT INTO` part is used to designate which table we will add data to, where `<table-name>` is the name of the table that we will add data to. The `VALUES` part is used to specify what data we will add into the table.\n",
        "\n",
        "Here is an example of an `INSERT` command that will add new data into the `employees` table:"
      ]
    },
    {
      "cell_type": "code",
      "execution_count": null,
      "metadata": {
        "vscode": {
          "languageId": "sql"
        },
        "id": "e_o8ZQmBXoUd"
      },
      "outputs": [],
      "source": [
        "INSERT INTO employees VALUES (1, 'Rizki', 25, 'Jl. Kebon Jeruk', 2000000);"
      ]
    },
    {
      "cell_type": "markdown",
      "metadata": {
        "id": "bWdJvPh1XoUd"
      },
      "source": [
        "Try in python using SQLite"
      ]
    },
    {
      "cell_type": "code",
      "execution_count": null,
      "metadata": {
        "id": "k5bqWBnqXoUe"
      },
      "outputs": [],
      "source": [
        "cur.execute(\"INSERT INTO employees VALUES (1, 'Rizki', 25, 'Jl. Kebon Jeruk', 2000000)\")\n",
        "conn.commit()"
      ]
    },
    {
      "cell_type": "markdown",
      "metadata": {
        "id": "nXEj5k-ZXoUe"
      },
      "source": [
        "See the table:"
      ]
    },
    {
      "cell_type": "code",
      "execution_count": null,
      "metadata": {
        "id": "FugmAO9ZXoUe",
        "outputId": "99a7d874-1a4a-4bae-d446-2532e974ad20"
      },
      "outputs": [
        {
          "data": {
            "text/html": [
              "<div>\n",
              "<style scoped>\n",
              "    .dataframe tbody tr th:only-of-type {\n",
              "        vertical-align: middle;\n",
              "    }\n",
              "\n",
              "    .dataframe tbody tr th {\n",
              "        vertical-align: top;\n",
              "    }\n",
              "\n",
              "    .dataframe thead th {\n",
              "        text-align: right;\n",
              "    }\n",
              "</style>\n",
              "<table border=\"1\" class=\"dataframe\">\n",
              "  <thead>\n",
              "    <tr style=\"text-align: right;\">\n",
              "      <th></th>\n",
              "      <th>id</th>\n",
              "      <th>name</th>\n",
              "      <th>age</th>\n",
              "      <th>address</th>\n",
              "      <th>salary</th>\n",
              "    </tr>\n",
              "  </thead>\n",
              "  <tbody>\n",
              "    <tr>\n",
              "      <th>0</th>\n",
              "      <td>1</td>\n",
              "      <td>Rizki</td>\n",
              "      <td>25</td>\n",
              "      <td>Jl. Kebon Jeruk</td>\n",
              "      <td>2000000</td>\n",
              "    </tr>\n",
              "  </tbody>\n",
              "</table>\n",
              "</div>"
            ],
            "text/plain": [
              "   id   name  age          address   salary\n",
              "0   1  Rizki   25  Jl. Kebon Jeruk  2000000"
            ]
          },
          "execution_count": 49,
          "metadata": {},
          "output_type": "execute_result"
        }
      ],
      "source": [
        "import pandas as pd\n",
        "\n",
        "pd.read_sql_query(\"SELECT * FROM employees\", conn)"
      ]
    },
    {
      "cell_type": "markdown",
      "metadata": {
        "id": "Usafx_v0XoUf"
      },
      "source": [
        "When adding string data in SQL we must use a single quote (`'`) to mark that the data is a string, like `'Rizky'`. If we do not use a single quote, then the data will be considered invalid.\n",
        "\n",
        "The result will be as follows:\n",
        "\n",
        "| id  | name  | age | address         | salary  |\n",
        "| --- | ----- | --- | --------------- | ------- |\n",
        "| 1   | Rizki | 265 | Jl. Kebon Jeruk | 2000000 |\n",
        "\n",
        "The command above will add new data into the `employees` table, the data will be filled in according to the order of the columns in the table. `1` will be filled into the `id` column, `'Rizki'` will be filled into the `name` column, and `25` will be filled into the `age` column and so forth.\n",
        "\n",
        "If we want to add new data into specific columns, we can add the column name in the `INSERT INTO` section as follows:"
      ]
    },
    {
      "cell_type": "code",
      "execution_count": null,
      "metadata": {
        "vscode": {
          "languageId": "sql"
        },
        "id": "FrSAMWy0XoUf"
      },
      "outputs": [],
      "source": [
        "INSERT INTO employee (id, name, age) VALUES (1, 'Rizki', 25);"
      ]
    },
    {
      "cell_type": "markdown",
      "metadata": {
        "id": "ZCJqxJKaXoUg"
      },
      "source": [
        "Try in python using SQLite"
      ]
    },
    {
      "cell_type": "code",
      "execution_count": null,
      "metadata": {
        "id": "cGCyekJMXoUg"
      },
      "outputs": [],
      "source": [
        "cur.execute(\"INSERT INTO employees (id, name, age) VALUES (1, 'Rizki', 25)\")\n",
        "conn.commit()"
      ]
    },
    {
      "cell_type": "markdown",
      "metadata": {
        "id": "KOUgUhj-XoUh"
      },
      "source": [
        "See the table:"
      ]
    },
    {
      "cell_type": "code",
      "execution_count": null,
      "metadata": {
        "id": "9zafB_F-XoUh",
        "outputId": "fe0a046d-1a4e-4ff4-bbfd-b19eb430d52a"
      },
      "outputs": [
        {
          "data": {
            "text/html": [
              "<div>\n",
              "<style scoped>\n",
              "    .dataframe tbody tr th:only-of-type {\n",
              "        vertical-align: middle;\n",
              "    }\n",
              "\n",
              "    .dataframe tbody tr th {\n",
              "        vertical-align: top;\n",
              "    }\n",
              "\n",
              "    .dataframe thead th {\n",
              "        text-align: right;\n",
              "    }\n",
              "</style>\n",
              "<table border=\"1\" class=\"dataframe\">\n",
              "  <thead>\n",
              "    <tr style=\"text-align: right;\">\n",
              "      <th></th>\n",
              "      <th>id</th>\n",
              "      <th>name</th>\n",
              "      <th>age</th>\n",
              "      <th>address</th>\n",
              "      <th>salary</th>\n",
              "    </tr>\n",
              "  </thead>\n",
              "  <tbody>\n",
              "    <tr>\n",
              "      <th>0</th>\n",
              "      <td>1</td>\n",
              "      <td>Rizki</td>\n",
              "      <td>25</td>\n",
              "      <td>Jl. Kebon Jeruk</td>\n",
              "      <td>2000000.0</td>\n",
              "    </tr>\n",
              "    <tr>\n",
              "      <th>1</th>\n",
              "      <td>1</td>\n",
              "      <td>Rizki</td>\n",
              "      <td>25</td>\n",
              "      <td>None</td>\n",
              "      <td>NaN</td>\n",
              "    </tr>\n",
              "  </tbody>\n",
              "</table>\n",
              "</div>"
            ],
            "text/plain": [
              "   id   name  age          address     salary\n",
              "0   1  Rizki   25  Jl. Kebon Jeruk  2000000.0\n",
              "1   1  Rizki   25             None        NaN"
            ]
          },
          "execution_count": 52,
          "metadata": {},
          "output_type": "execute_result"
        }
      ],
      "source": [
        "import pandas as pd\n",
        "\n",
        "pd.read_sql_query(\"SELECT * FROM employees\", conn)"
      ]
    },
    {
      "cell_type": "markdown",
      "metadata": {
        "id": "KRR5gARmXoUh"
      },
      "source": [
        "The result will be:\n",
        "\n",
        "| id  | name  | age | address | salary |\n",
        "| --- | ----- | --- | ------- | ------ |\n",
        "| 1   | Rizki | 265 | NULL    | NULL   |\n",
        "\n",
        "The example above is adding new data into the `id`, `name`, and `age` columns. Because we are only adding data into the `id`, `name`, and `age` columns, the `address` and `salary` columns will be filled with `NULL` values.\n",
        "\n",
        "Please note, `NULL` data is data that has no value, if we want to set it so that the column cannot be filled with `NULL` data, we can use the `NOT NULL` constraints when creating the column.\n",
        "\n",
        "We can also add `NULL` data into a specific column, just like adding other data:"
      ]
    },
    {
      "cell_type": "code",
      "execution_count": null,
      "metadata": {
        "vscode": {
          "languageId": "sql"
        },
        "id": "qwPOhQAAXoUh"
      },
      "outputs": [],
      "source": [
        "INSERT INTO employee (id, name, age, address, salary) VALUES (1, 'Rizki', 25, NULL, NULL);"
      ]
    },
    {
      "cell_type": "markdown",
      "metadata": {
        "id": "vz8WEuRGXoUh"
      },
      "source": [
        "Try in python using SQLite"
      ]
    },
    {
      "cell_type": "code",
      "execution_count": null,
      "metadata": {
        "id": "fPqU3v0oXoUh"
      },
      "outputs": [],
      "source": [
        "cur.execute(\"INSERT INTO employees (id, name, age, address, salary) VALUES (1, 'Rizki', 25, NULL, NULL)\")\n",
        "conn.commit()"
      ]
    },
    {
      "cell_type": "markdown",
      "metadata": {
        "id": "t_SZk9c9XoUi"
      },
      "source": [
        "See the table:"
      ]
    },
    {
      "cell_type": "code",
      "execution_count": null,
      "metadata": {
        "id": "nelZiWXUXoUi",
        "outputId": "3b9da425-adcb-46e6-efde-951381c6b94c"
      },
      "outputs": [
        {
          "data": {
            "text/html": [
              "<div>\n",
              "<style scoped>\n",
              "    .dataframe tbody tr th:only-of-type {\n",
              "        vertical-align: middle;\n",
              "    }\n",
              "\n",
              "    .dataframe tbody tr th {\n",
              "        vertical-align: top;\n",
              "    }\n",
              "\n",
              "    .dataframe thead th {\n",
              "        text-align: right;\n",
              "    }\n",
              "</style>\n",
              "<table border=\"1\" class=\"dataframe\">\n",
              "  <thead>\n",
              "    <tr style=\"text-align: right;\">\n",
              "      <th></th>\n",
              "      <th>id</th>\n",
              "      <th>name</th>\n",
              "      <th>age</th>\n",
              "      <th>address</th>\n",
              "      <th>salary</th>\n",
              "    </tr>\n",
              "  </thead>\n",
              "  <tbody>\n",
              "    <tr>\n",
              "      <th>0</th>\n",
              "      <td>1</td>\n",
              "      <td>Rizki</td>\n",
              "      <td>25</td>\n",
              "      <td>Jl. Kebon Jeruk</td>\n",
              "      <td>2000000.0</td>\n",
              "    </tr>\n",
              "    <tr>\n",
              "      <th>1</th>\n",
              "      <td>1</td>\n",
              "      <td>Rizki</td>\n",
              "      <td>25</td>\n",
              "      <td>None</td>\n",
              "      <td>NaN</td>\n",
              "    </tr>\n",
              "    <tr>\n",
              "      <th>2</th>\n",
              "      <td>1</td>\n",
              "      <td>Rizki</td>\n",
              "      <td>25</td>\n",
              "      <td>None</td>\n",
              "      <td>NaN</td>\n",
              "    </tr>\n",
              "  </tbody>\n",
              "</table>\n",
              "</div>"
            ],
            "text/plain": [
              "   id   name  age          address     salary\n",
              "0   1  Rizki   25  Jl. Kebon Jeruk  2000000.0\n",
              "1   1  Rizki   25             None        NaN\n",
              "2   1  Rizki   25             None        NaN"
            ]
          },
          "execution_count": 55,
          "metadata": {},
          "output_type": "execute_result"
        }
      ],
      "source": [
        "import pandas as pd\n",
        "\n",
        "pd.read_sql_query(\"SELECT * FROM employees\", conn)"
      ]
    },
    {
      "cell_type": "markdown",
      "metadata": {
        "id": "9_17TIRZXoUi"
      },
      "source": [
        "Finally, we can add more than one data into a table using the `INSERT` command separated by `\",\"`, as follows:"
      ]
    },
    {
      "cell_type": "code",
      "execution_count": null,
      "metadata": {
        "vscode": {
          "languageId": "sql"
        },
        "id": "ed-arWz_XoUi"
      },
      "outputs": [],
      "source": [
        "INSERT INTO employees\n",
        "VALUES (1, 'Rizki', 25, 'Jl. Kebon Jeruk', 2000000),\n",
        "(2, 'Andi', 27, 'Jl. Kebon Sirih', 3000000),\n",
        "(3, 'Budi', 30, 'Jl. Kebon Melati', 4000000),\n",
        "(4, 'Caca', 32, 'Jl. Kebon Anggrek', 5000000),\n",
        "(5, 'Deni', 35, 'Jl. Kebon Mawar', 6000000);"
      ]
    },
    {
      "cell_type": "markdown",
      "metadata": {
        "id": "tH7sxQg6XoUi"
      },
      "source": [
        "It can also be done using specific columns:"
      ]
    },
    {
      "cell_type": "code",
      "execution_count": null,
      "metadata": {
        "vscode": {
          "languageId": "sql"
        },
        "id": "13YRdRLIXoUi"
      },
      "outputs": [],
      "source": [
        "INSERT INTO employees (id, name, age)\n",
        "VALUES (1, 'Rizki', 25),\n",
        "(2, 'Andi', 27),\n",
        "(3, 'Budi', 30),\n",
        "(4, 'Caca', 32),\n",
        "(5, 'Deni', 35);"
      ]
    },
    {
      "cell_type": "markdown",
      "metadata": {
        "id": "XymcgVWdXoUj"
      },
      "source": [
        "As a result, it will add 5 new data into the `employees` table.\n",
        "\n",
        "You can try adding new data into the `employees` table with the above `INSERT` command in this [online SQL compiler](https://onecompiler.com/sqlite) or the SQLite tool you are using."
      ]
    },
    {
      "cell_type": "markdown",
      "metadata": {
        "id": "FR1BioTEXoUj"
      },
      "source": [
        "Try in python using SQLite"
      ]
    },
    {
      "cell_type": "code",
      "execution_count": null,
      "metadata": {
        "id": "BzDyYcWuXoUj"
      },
      "outputs": [],
      "source": [
        "# Insert multiple data rows into the table\n",
        "data = [\n",
        "    (2, 'Andi', 27, 'Jl. Kebon Sirih', 3000000),\n",
        "    (3, 'Budi', 30, 'Jl. Kebon Melati', 4000000),\n",
        "    (4, 'Caca', 32, 'Jl. Kebon Anggrek', 5000000),\n",
        "    (5, 'Deni', 35, 'Jl. Kebon Mawar', 6000000)\n",
        "]\n",
        "\n",
        "cur.executemany(\"INSERT INTO employees VALUES (?, ?, ?, ?, ?)\", data)\n",
        "conn.commit()"
      ]
    },
    {
      "cell_type": "markdown",
      "metadata": {
        "id": "TGEEi0KNXoUj"
      },
      "source": [
        "See the table:"
      ]
    },
    {
      "cell_type": "code",
      "execution_count": null,
      "metadata": {
        "id": "Fz2ajQxnXoUj",
        "outputId": "9e650d17-e2bf-4015-a963-f0257be524c2"
      },
      "outputs": [
        {
          "data": {
            "text/html": [
              "<div>\n",
              "<style scoped>\n",
              "    .dataframe tbody tr th:only-of-type {\n",
              "        vertical-align: middle;\n",
              "    }\n",
              "\n",
              "    .dataframe tbody tr th {\n",
              "        vertical-align: top;\n",
              "    }\n",
              "\n",
              "    .dataframe thead th {\n",
              "        text-align: right;\n",
              "    }\n",
              "</style>\n",
              "<table border=\"1\" class=\"dataframe\">\n",
              "  <thead>\n",
              "    <tr style=\"text-align: right;\">\n",
              "      <th></th>\n",
              "      <th>id</th>\n",
              "      <th>name</th>\n",
              "      <th>age</th>\n",
              "      <th>address</th>\n",
              "      <th>salary</th>\n",
              "    </tr>\n",
              "  </thead>\n",
              "  <tbody>\n",
              "    <tr>\n",
              "      <th>0</th>\n",
              "      <td>1</td>\n",
              "      <td>Rizki</td>\n",
              "      <td>25</td>\n",
              "      <td>Jl. Kebon Jeruk</td>\n",
              "      <td>2000000.0</td>\n",
              "    </tr>\n",
              "    <tr>\n",
              "      <th>1</th>\n",
              "      <td>1</td>\n",
              "      <td>Rizki</td>\n",
              "      <td>25</td>\n",
              "      <td>None</td>\n",
              "      <td>NaN</td>\n",
              "    </tr>\n",
              "    <tr>\n",
              "      <th>2</th>\n",
              "      <td>1</td>\n",
              "      <td>Rizki</td>\n",
              "      <td>25</td>\n",
              "      <td>None</td>\n",
              "      <td>NaN</td>\n",
              "    </tr>\n",
              "    <tr>\n",
              "      <th>3</th>\n",
              "      <td>2</td>\n",
              "      <td>Andi</td>\n",
              "      <td>27</td>\n",
              "      <td>Jl. Kebon Sirih</td>\n",
              "      <td>3000000.0</td>\n",
              "    </tr>\n",
              "    <tr>\n",
              "      <th>4</th>\n",
              "      <td>3</td>\n",
              "      <td>Budi</td>\n",
              "      <td>30</td>\n",
              "      <td>Jl. Kebon Melati</td>\n",
              "      <td>4000000.0</td>\n",
              "    </tr>\n",
              "    <tr>\n",
              "      <th>5</th>\n",
              "      <td>4</td>\n",
              "      <td>Caca</td>\n",
              "      <td>32</td>\n",
              "      <td>Jl. Kebon Anggrek</td>\n",
              "      <td>5000000.0</td>\n",
              "    </tr>\n",
              "    <tr>\n",
              "      <th>6</th>\n",
              "      <td>5</td>\n",
              "      <td>Deni</td>\n",
              "      <td>35</td>\n",
              "      <td>Jl. Kebon Mawar</td>\n",
              "      <td>6000000.0</td>\n",
              "    </tr>\n",
              "  </tbody>\n",
              "</table>\n",
              "</div>"
            ],
            "text/plain": [
              "   id   name  age            address     salary\n",
              "0   1  Rizki   25    Jl. Kebon Jeruk  2000000.0\n",
              "1   1  Rizki   25               None        NaN\n",
              "2   1  Rizki   25               None        NaN\n",
              "3   2   Andi   27    Jl. Kebon Sirih  3000000.0\n",
              "4   3   Budi   30   Jl. Kebon Melati  4000000.0\n",
              "5   4   Caca   32  Jl. Kebon Anggrek  5000000.0\n",
              "6   5   Deni   35    Jl. Kebon Mawar  6000000.0"
            ]
          },
          "execution_count": 58,
          "metadata": {},
          "output_type": "execute_result"
        }
      ],
      "source": [
        "import pandas as pd\n",
        "\n",
        "pd.read_sql_query(\"SELECT * FROM employees\", conn)"
      ]
    },
    {
      "cell_type": "markdown",
      "metadata": {
        "id": "rJBfyfqhXoUk"
      },
      "source": [
        "## UPDATE\n",
        "\n",
        "The `UPDATE` command is used to modify existing data in a table. The `UPDATE` command has the following structure:\n",
        "\n",
        "```sql\n",
        "UPDATE <table-name>\n",
        "SET <column-name> = <new-value>\n",
        "WHERE <condition>;\n",
        "```\n",
        "\n",
        "Where `<table-name>` is the name of the table whose data we will change, `<column-name>` is the name of the column whose data we will change, `<new-value>` is the new value that we will insert into that column, and `<condition>` is the condition that will determine which data we will modify.\n",
        "\n",
        "Here is an example of the `UPDATE` command that will modify the data in the `employees` table:"
      ]
    },
    {
      "cell_type": "code",
      "execution_count": null,
      "metadata": {
        "vscode": {
          "languageId": "sql"
        },
        "id": "-tMHuWliXoUk"
      },
      "outputs": [],
      "source": [
        "UPDATE employees\n",
        "SET name = 'Rizal', age = 26\n",
        "WHERE id = 1;"
      ]
    },
    {
      "cell_type": "markdown",
      "metadata": {
        "id": "R-ZLYT_zXoUk"
      },
      "source": [
        "Try in python using SQLite"
      ]
    },
    {
      "cell_type": "code",
      "execution_count": null,
      "metadata": {
        "id": "lGz6M1VBXoUk"
      },
      "outputs": [],
      "source": [
        "# Update data in the table\n",
        "cur.execute(\"UPDATE employees SET name = 'Rizal', age = 26 WHERE id = 1\")\n",
        "conn.commit()"
      ]
    },
    {
      "cell_type": "markdown",
      "metadata": {
        "id": "W_jc2UvFXoUk"
      },
      "source": [
        "See the table:"
      ]
    },
    {
      "cell_type": "code",
      "execution_count": null,
      "metadata": {
        "id": "4Hv183fLXoUk",
        "outputId": "bf86c30b-b939-40fc-91cb-62bdf5e92eb8"
      },
      "outputs": [
        {
          "data": {
            "text/html": [
              "<div>\n",
              "<style scoped>\n",
              "    .dataframe tbody tr th:only-of-type {\n",
              "        vertical-align: middle;\n",
              "    }\n",
              "\n",
              "    .dataframe tbody tr th {\n",
              "        vertical-align: top;\n",
              "    }\n",
              "\n",
              "    .dataframe thead th {\n",
              "        text-align: right;\n",
              "    }\n",
              "</style>\n",
              "<table border=\"1\" class=\"dataframe\">\n",
              "  <thead>\n",
              "    <tr style=\"text-align: right;\">\n",
              "      <th></th>\n",
              "      <th>id</th>\n",
              "      <th>name</th>\n",
              "      <th>age</th>\n",
              "      <th>address</th>\n",
              "      <th>salary</th>\n",
              "    </tr>\n",
              "  </thead>\n",
              "  <tbody>\n",
              "    <tr>\n",
              "      <th>0</th>\n",
              "      <td>1</td>\n",
              "      <td>Rizal</td>\n",
              "      <td>26</td>\n",
              "      <td>Jl. Kebon Jeruk</td>\n",
              "      <td>2000000.0</td>\n",
              "    </tr>\n",
              "    <tr>\n",
              "      <th>1</th>\n",
              "      <td>1</td>\n",
              "      <td>Rizal</td>\n",
              "      <td>26</td>\n",
              "      <td>None</td>\n",
              "      <td>NaN</td>\n",
              "    </tr>\n",
              "    <tr>\n",
              "      <th>2</th>\n",
              "      <td>1</td>\n",
              "      <td>Rizal</td>\n",
              "      <td>26</td>\n",
              "      <td>None</td>\n",
              "      <td>NaN</td>\n",
              "    </tr>\n",
              "    <tr>\n",
              "      <th>3</th>\n",
              "      <td>2</td>\n",
              "      <td>Andi</td>\n",
              "      <td>27</td>\n",
              "      <td>Jl. Kebon Sirih</td>\n",
              "      <td>3000000.0</td>\n",
              "    </tr>\n",
              "    <tr>\n",
              "      <th>4</th>\n",
              "      <td>3</td>\n",
              "      <td>Budi</td>\n",
              "      <td>30</td>\n",
              "      <td>Jl. Kebon Melati</td>\n",
              "      <td>4000000.0</td>\n",
              "    </tr>\n",
              "    <tr>\n",
              "      <th>5</th>\n",
              "      <td>4</td>\n",
              "      <td>Caca</td>\n",
              "      <td>32</td>\n",
              "      <td>Jl. Kebon Anggrek</td>\n",
              "      <td>5000000.0</td>\n",
              "    </tr>\n",
              "    <tr>\n",
              "      <th>6</th>\n",
              "      <td>5</td>\n",
              "      <td>Deni</td>\n",
              "      <td>35</td>\n",
              "      <td>Jl. Kebon Mawar</td>\n",
              "      <td>6000000.0</td>\n",
              "    </tr>\n",
              "  </tbody>\n",
              "</table>\n",
              "</div>"
            ],
            "text/plain": [
              "   id   name  age            address     salary\n",
              "0   1  Rizal   26    Jl. Kebon Jeruk  2000000.0\n",
              "1   1  Rizal   26               None        NaN\n",
              "2   1  Rizal   26               None        NaN\n",
              "3   2   Andi   27    Jl. Kebon Sirih  3000000.0\n",
              "4   3   Budi   30   Jl. Kebon Melati  4000000.0\n",
              "5   4   Caca   32  Jl. Kebon Anggrek  5000000.0\n",
              "6   5   Deni   35    Jl. Kebon Mawar  6000000.0"
            ]
          },
          "execution_count": 60,
          "metadata": {},
          "output_type": "execute_result"
        }
      ],
      "source": [
        "import pandas as pd\n",
        "\n",
        "pd.read_sql_query(\"SELECT * FROM employees\", conn)"
      ]
    },
    {
      "cell_type": "markdown",
      "metadata": {
        "id": "tOFmrdEIXoUp"
      },
      "source": [
        "In the example above, we are changing the `name` data to `'Rizal'` and the `age` data to `26`, separating the columns we will change with `\",\"`. And the data being modified is the one with `id` = `1`.\n",
        "\n",
        "Data before modification:\n",
        "\n",
        "| id  | name  | age | address          | salary  |\n",
        "| --- | ----- | --- | ---------------- | ------- |\n",
        "| 1   | Rizki | 25  | Jl. Kebon Jeruk  | 2000000 |\n",
        "| 2   | Andi  | 27  | Jl. Kebon Sirih  | 3000000 |\n",
        "| 3   | Budi  | 30  | Jl. Kebon Melati | 4000000 |\n",
        "\n",
        "Data after modification:\n",
        "\n",
        "| id  | name  | age | address          | salary  |\n",
        "| --- | ----- | --- | ---------------- | ------- |\n",
        "| 1   | Rizal | 26  | Jl. Kebon Jeruk  | 2000000 |\n",
        "| 2   | Andi  | 27  | Jl. Kebon Sirih  | 3000000 |\n",
        "| 3   | Budi  | 30  | Jl. Kebon Melati | 4000000 |\n",
        "\n",
        "**ATTENTION !!**\n",
        "\n",
        "Make sure to add `WHERE` so that we do not change all the data in the table. If we do not add `WHERE`, then all the data in the table will be changed. The example above is where we only change data that has `id` = 1, so the `name` and `age` data only changes the data at `id` 1.\n",
        "\n",
        "You can try modifying the data in the `employees` table with the above `UPDATE` command using this [online SQL compiler](https://onecompiler.com/postgresql) or the DBMS tool you are using."
      ]
    },
    {
      "cell_type": "markdown",
      "metadata": {
        "id": "RauhcrffXoUp"
      },
      "source": [
        "### DELETE\n",
        "\n",
        "The `DELETE` command is used to remove existing data from a table. The `DELETE` command has the following structure:\n",
        "\n",
        "```sql\n",
        "DELETE FROM <table-name>\n",
        "WHERE <condition>;\n",
        "```\n",
        "\n",
        "Where `<table-name>` is the name of the table whose data we will delete, and `<condition>` is the condition that will determine which data we will delete.\n",
        "\n",
        "Here is an example of the `DELETE` command that will delete data in the `employees` table:"
      ]
    },
    {
      "cell_type": "code",
      "execution_count": null,
      "metadata": {
        "vscode": {
          "languageId": "sql"
        },
        "id": "f-17kItUXoUp"
      },
      "outputs": [],
      "source": [
        "DELETE FROM employees\n",
        "WHERE id = 1;"
      ]
    },
    {
      "cell_type": "markdown",
      "metadata": {
        "id": "3OCk2hlZXoUq"
      },
      "source": [
        "Try in python using SQLite"
      ]
    },
    {
      "cell_type": "code",
      "execution_count": null,
      "metadata": {
        "id": "CDJRs6r6XoUq"
      },
      "outputs": [],
      "source": [
        "# Delete data from the table\n",
        "cur.execute(\"DELETE FROM employees WHERE id = 1\")\n",
        "conn.commit()"
      ]
    },
    {
      "cell_type": "markdown",
      "metadata": {
        "id": "zpIHTJ72XoUq"
      },
      "source": [
        "See the table:"
      ]
    },
    {
      "cell_type": "code",
      "execution_count": null,
      "metadata": {
        "id": "bMF0IQcgXoUq",
        "outputId": "62145596-5882-4fc4-f770-cd7322619c7e"
      },
      "outputs": [
        {
          "data": {
            "text/html": [
              "<div>\n",
              "<style scoped>\n",
              "    .dataframe tbody tr th:only-of-type {\n",
              "        vertical-align: middle;\n",
              "    }\n",
              "\n",
              "    .dataframe tbody tr th {\n",
              "        vertical-align: top;\n",
              "    }\n",
              "\n",
              "    .dataframe thead th {\n",
              "        text-align: right;\n",
              "    }\n",
              "</style>\n",
              "<table border=\"1\" class=\"dataframe\">\n",
              "  <thead>\n",
              "    <tr style=\"text-align: right;\">\n",
              "      <th></th>\n",
              "      <th>id</th>\n",
              "      <th>name</th>\n",
              "      <th>age</th>\n",
              "      <th>address</th>\n",
              "      <th>salary</th>\n",
              "    </tr>\n",
              "  </thead>\n",
              "  <tbody>\n",
              "    <tr>\n",
              "      <th>0</th>\n",
              "      <td>2</td>\n",
              "      <td>Andi</td>\n",
              "      <td>27</td>\n",
              "      <td>Jl. Kebon Sirih</td>\n",
              "      <td>3000000</td>\n",
              "    </tr>\n",
              "    <tr>\n",
              "      <th>1</th>\n",
              "      <td>3</td>\n",
              "      <td>Budi</td>\n",
              "      <td>30</td>\n",
              "      <td>Jl. Kebon Melati</td>\n",
              "      <td>4000000</td>\n",
              "    </tr>\n",
              "    <tr>\n",
              "      <th>2</th>\n",
              "      <td>4</td>\n",
              "      <td>Caca</td>\n",
              "      <td>32</td>\n",
              "      <td>Jl. Kebon Anggrek</td>\n",
              "      <td>5000000</td>\n",
              "    </tr>\n",
              "    <tr>\n",
              "      <th>3</th>\n",
              "      <td>5</td>\n",
              "      <td>Deni</td>\n",
              "      <td>35</td>\n",
              "      <td>Jl. Kebon Mawar</td>\n",
              "      <td>6000000</td>\n",
              "    </tr>\n",
              "  </tbody>\n",
              "</table>\n",
              "</div>"
            ],
            "text/plain": [
              "   id  name  age            address   salary\n",
              "0   2  Andi   27    Jl. Kebon Sirih  3000000\n",
              "1   3  Budi   30   Jl. Kebon Melati  4000000\n",
              "2   4  Caca   32  Jl. Kebon Anggrek  5000000\n",
              "3   5  Deni   35    Jl. Kebon Mawar  6000000"
            ]
          },
          "execution_count": 62,
          "metadata": {},
          "output_type": "execute_result"
        }
      ],
      "source": [
        "import pandas as pd\n",
        "\n",
        "pd.read_sql_query(\"SELECT * FROM employees\", conn)"
      ]
    },
    {
      "cell_type": "markdown",
      "metadata": {
        "id": "XdSZ53NVXoUq"
      },
      "source": [
        "In the example above, we are deleting data with `id` = `1`.\n",
        "\n",
        "Data before deletion:\n",
        "\n",
        "| id  | name  | age | address          | salary  |\n",
        "| --- | ----- | --- | ---------------- | ------- |\n",
        "| 1   | Rizal | 26  | Jl. Kebon Jeruk  | 2000000 |\n",
        "| 2   | Andi  | 27  | Jl. Kebon Sirih  | 3000000 |\n",
        "| 3   | Budi  | 30  | Jl. Kebon Melati | 4000000 |\n",
        "\n",
        "Data after deletion:\n",
        "\n",
        "| id  | name | age | address          | salary  |\n",
        "| --- | ---- | --- | ---------------- | ------- |\n",
        "| 2   | Andi | 27  | Jl. Kebon Sirih  | 3000000 |\n",
        "| 3   | Budi | 30  | Jl. Kebon Melati | 4000000 |\n",
        "\n",
        "**ATTENTION !!**\n",
        "\n",
        "Make sure to add `WHERE` just like `UPDATE` so we do not delete all the data in the table. If we do not add `WHERE`, then all the data in the table will be deleted. The example above is where we only delete data that has `id` = 1, so the `name` and `age` data only changes the data at `id` 1.\n",
        "\n",
        "You can try deleting data in the `employees` table with the above `DELETE` command using this [online SQL compiler](https://onecompiler.com/postgresql) or the DBMS tool you are using."
      ]
    },
    {
      "cell_type": "code",
      "execution_count": null,
      "metadata": {
        "id": "nUscfN4qXoUq"
      },
      "outputs": [],
      "source": [
        "# Close the connection\n",
        "conn.close()"
      ]
    },
    {
      "cell_type": "markdown",
      "metadata": {
        "id": "pQtRbBJ0XoUr"
      },
      "source": [
        "## DQL (Data Query Language)\n",
        "\n",
        "### What is DQL?\n",
        "\n",
        "Data Query Language (DQL) is used to retrieve data from a table in a database. The purpose of DQL is to obtain data using SQL commands. The SQL command used is `SELECT`.\n",
        "\n",
        "Let's continue with the data we have created in the previous section.\n",
        "\n",
        "| id  | name  | age | address           | salary  |\n",
        "| --- | ----- | --- | ----------------- | ------- |\n",
        "| 1   | Rizki | 25  | Jl. Kebon Jeruk   | 2000000 |\n",
        "| 2   | Andi  | 27  | Jl. Kebon Sirih   | 3000000 |\n",
        "| 3   | Budi  | 30  | Jl. Kebon Melati  | 4000000 |\n",
        "| 4   | Caca  | 32  | Jl. Kebon Anggrek | 5000000 |\n",
        "| 5   | Deni  | 35  | Jl. Kebon Mawar   | 6000000 |\n",
        "\n",
        "Then we try to save this data into the `employees` table with the following SQL command:"
      ]
    },
    {
      "cell_type": "code",
      "execution_count": null,
      "metadata": {
        "vscode": {
          "languageId": "sql"
        },
        "id": "SHH9jZluXoUr"
      },
      "outputs": [],
      "source": [
        "-- create data in table employee\n",
        "INSERT INTO employees (id, name, age, address, salary)\n",
        "VALUES (1, 'Rizki', 25, 'Jl. Kebon Jeruk', 2000000),\n",
        "(2, 'Andi', 27, 'Jl. Kebon Sirih', 3000000),\n",
        "(3, 'Budi', 30, 'Jl. Kebon Melati', 4000000),\n",
        "(4, 'Caca', 32, 'Jl. Kebon Anggrek', 5000000),\n",
        "(5, 'Deni', 35, 'Jl. Kebon Mawar', 6000000);"
      ]
    },
    {
      "cell_type": "code",
      "execution_count": null,
      "metadata": {
        "id": "xm8-D_6kXoUr"
      },
      "outputs": [],
      "source": [
        "import sqlite3\n",
        "\n",
        "# Connect to SQLite database\n",
        "conn = sqlite3.connect('db/sqlite.db')\n",
        "\n",
        "# Create a cursor object\n",
        "c = conn.cursor()"
      ]
    },
    {
      "cell_type": "code",
      "execution_count": null,
      "metadata": {
        "id": "HxT5jPUtXoUr"
      },
      "outputs": [],
      "source": [
        "# Create table\n",
        "c.execute('''\n",
        "CREATE TABLE employees (\n",
        "    id INT,\n",
        "    name TEXT,\n",
        "    age INT,\n",
        "    address TEXT,\n",
        "    salary REAL);\n",
        "''')\n",
        "# Commit the transaction\n",
        "conn.commit()"
      ]
    },
    {
      "cell_type": "code",
      "execution_count": null,
      "metadata": {
        "id": "yweDF3VdXoUr"
      },
      "outputs": [],
      "source": [
        "# Insert data into the table\n",
        "data = [\n",
        "    (1, 'Rizki', 25, 'Jl. Kebon Jeruk', 2000000),\n",
        "    (2, 'Andi', 27, 'Jl. Kebon Sirih', 3000000),\n",
        "    (3, 'Budi', 30, 'Jl. Kebon Melati', 4000000),\n",
        "    (4, 'Caca', 32, 'Jl. Kebon Anggrek', 5000000),\n",
        "    (5, 'Deni', 35, 'Jl. Kebon Mawar', 6000000)\n",
        "]\n",
        "c.executemany('INSERT INTO employees VALUES (?,?,?,?,?)', data)\n",
        "\n",
        "# Commit the transaction\n",
        "conn.commit()"
      ]
    },
    {
      "cell_type": "markdown",
      "metadata": {
        "id": "0w0R5snYXoUs"
      },
      "source": [
        "### SELECT\n",
        "\n",
        "The `SELECT` command is used to retrieve data from a table. The `SELECT` command has a fairly complex syntax. Here is a simple command example to retrieve data from the `employee` table:"
      ]
    },
    {
      "cell_type": "code",
      "execution_count": null,
      "metadata": {
        "vscode": {
          "languageId": "sql"
        },
        "id": "u7rIq8gXXoUs"
      },
      "outputs": [],
      "source": [
        "SELECT * FROM employees;"
      ]
    },
    {
      "cell_type": "markdown",
      "metadata": {
        "id": "mR6uJcScXoUs"
      },
      "source": [
        "Retrieve all data from the `employees` table."
      ]
    },
    {
      "cell_type": "code",
      "execution_count": null,
      "metadata": {
        "id": "jLYCwnIrXoUs",
        "outputId": "09afc1cd-dca4-4ce4-d988-6b63be135244"
      },
      "outputs": [
        {
          "data": {
            "text/html": [
              "<div>\n",
              "<style scoped>\n",
              "    .dataframe tbody tr th:only-of-type {\n",
              "        vertical-align: middle;\n",
              "    }\n",
              "\n",
              "    .dataframe tbody tr th {\n",
              "        vertical-align: top;\n",
              "    }\n",
              "\n",
              "    .dataframe thead th {\n",
              "        text-align: right;\n",
              "    }\n",
              "</style>\n",
              "<table border=\"1\" class=\"dataframe\">\n",
              "  <thead>\n",
              "    <tr style=\"text-align: right;\">\n",
              "      <th></th>\n",
              "      <th>id</th>\n",
              "      <th>name</th>\n",
              "      <th>age</th>\n",
              "      <th>address</th>\n",
              "      <th>salary</th>\n",
              "    </tr>\n",
              "  </thead>\n",
              "  <tbody>\n",
              "    <tr>\n",
              "      <th>0</th>\n",
              "      <td>1</td>\n",
              "      <td>Rizki</td>\n",
              "      <td>25</td>\n",
              "      <td>Jl. Kebon Jeruk</td>\n",
              "      <td>2000000.0</td>\n",
              "    </tr>\n",
              "    <tr>\n",
              "      <th>1</th>\n",
              "      <td>2</td>\n",
              "      <td>Andi</td>\n",
              "      <td>27</td>\n",
              "      <td>Jl. Kebon Sirih</td>\n",
              "      <td>3000000.0</td>\n",
              "    </tr>\n",
              "    <tr>\n",
              "      <th>2</th>\n",
              "      <td>3</td>\n",
              "      <td>Budi</td>\n",
              "      <td>30</td>\n",
              "      <td>Jl. Kebon Melati</td>\n",
              "      <td>4000000.0</td>\n",
              "    </tr>\n",
              "    <tr>\n",
              "      <th>3</th>\n",
              "      <td>4</td>\n",
              "      <td>Caca</td>\n",
              "      <td>32</td>\n",
              "      <td>Jl. Kebon Anggrek</td>\n",
              "      <td>5000000.0</td>\n",
              "    </tr>\n",
              "    <tr>\n",
              "      <th>4</th>\n",
              "      <td>5</td>\n",
              "      <td>Deni</td>\n",
              "      <td>35</td>\n",
              "      <td>Jl. Kebon Mawar</td>\n",
              "      <td>6000000.0</td>\n",
              "    </tr>\n",
              "  </tbody>\n",
              "</table>\n",
              "</div>"
            ],
            "text/plain": [
              "   id   name  age            address     salary\n",
              "0   1  Rizki   25    Jl. Kebon Jeruk  2000000.0\n",
              "1   2   Andi   27    Jl. Kebon Sirih  3000000.0\n",
              "2   3   Budi   30   Jl. Kebon Melati  4000000.0\n",
              "3   4   Caca   32  Jl. Kebon Anggrek  5000000.0\n",
              "4   5   Deni   35    Jl. Kebon Mawar  6000000.0"
            ]
          },
          "execution_count": 81,
          "metadata": {},
          "output_type": "execute_result"
        }
      ],
      "source": [
        "import pandas as pd\n",
        "\n",
        "pd.read_sql_query(\"SELECT * FROM employees\", conn)"
      ]
    },
    {
      "cell_type": "markdown",
      "metadata": {
        "id": "GEUFNQmWXoUs"
      },
      "source": [
        "The command above will retrieve data in the `employees` table. We use `*` to retrieve all columns in the `employee` table. If we want to retrieve data from a specific column, we can write the column name in the `SELECT` command. For example:\n",
        "\n",
        "The results will be as follows:\n",
        "\n",
        "| id  | name  | age | address           | salary  |\n",
        "| --- | ----- | --- | ----------------- | ------- |\n",
        "| 1   | Rizki | 25  | Jl. Kebon Jeruk   | 2000000 |\n",
        "| 2   | Andi  | 27  | Jl. Kebon Sirih   | 3000000 |\n",
        "| 3   | Budi  | 30  | Jl. Kebon Melati  | 4000000 |\n",
        "| 4   | Caca  | 32  | Jl. Kebon Anggrek | 5000000 |\n",
        "| 5   | Deni  | 35  | Jl. Kebon Mawar   | 6000000 |"
      ]
    },
    {
      "cell_type": "code",
      "execution_count": null,
      "metadata": {
        "vscode": {
          "languageId": "sql"
        },
        "id": "ZKCNj3nNXoUs"
      },
      "outputs": [],
      "source": [
        "SELECT id, name, age FROM employees;"
      ]
    },
    {
      "cell_type": "markdown",
      "metadata": {
        "id": "rbkBAGyeXoUs"
      },
      "source": [
        "Retrieve specific columns (`id`, `name`, `age`) from the `employees` table."
      ]
    },
    {
      "cell_type": "code",
      "execution_count": null,
      "metadata": {
        "id": "B-QXkLhdXoUs",
        "outputId": "db250e72-b21d-4d53-ccb5-6f3fe4349e6d"
      },
      "outputs": [
        {
          "data": {
            "text/html": [
              "<div>\n",
              "<style scoped>\n",
              "    .dataframe tbody tr th:only-of-type {\n",
              "        vertical-align: middle;\n",
              "    }\n",
              "\n",
              "    .dataframe tbody tr th {\n",
              "        vertical-align: top;\n",
              "    }\n",
              "\n",
              "    .dataframe thead th {\n",
              "        text-align: right;\n",
              "    }\n",
              "</style>\n",
              "<table border=\"1\" class=\"dataframe\">\n",
              "  <thead>\n",
              "    <tr style=\"text-align: right;\">\n",
              "      <th></th>\n",
              "      <th>id</th>\n",
              "      <th>name</th>\n",
              "      <th>age</th>\n",
              "    </tr>\n",
              "  </thead>\n",
              "  <tbody>\n",
              "    <tr>\n",
              "      <th>0</th>\n",
              "      <td>1</td>\n",
              "      <td>Rizki</td>\n",
              "      <td>25</td>\n",
              "    </tr>\n",
              "    <tr>\n",
              "      <th>1</th>\n",
              "      <td>2</td>\n",
              "      <td>Andi</td>\n",
              "      <td>27</td>\n",
              "    </tr>\n",
              "    <tr>\n",
              "      <th>2</th>\n",
              "      <td>3</td>\n",
              "      <td>Budi</td>\n",
              "      <td>30</td>\n",
              "    </tr>\n",
              "    <tr>\n",
              "      <th>3</th>\n",
              "      <td>4</td>\n",
              "      <td>Caca</td>\n",
              "      <td>32</td>\n",
              "    </tr>\n",
              "    <tr>\n",
              "      <th>4</th>\n",
              "      <td>5</td>\n",
              "      <td>Deni</td>\n",
              "      <td>35</td>\n",
              "    </tr>\n",
              "  </tbody>\n",
              "</table>\n",
              "</div>"
            ],
            "text/plain": [
              "   id   name  age\n",
              "0   1  Rizki   25\n",
              "1   2   Andi   27\n",
              "2   3   Budi   30\n",
              "3   4   Caca   32\n",
              "4   5   Deni   35"
            ]
          },
          "execution_count": 82,
          "metadata": {},
          "output_type": "execute_result"
        }
      ],
      "source": [
        "import pandas as pd\n",
        "\n",
        "pd.read_sql_query(\"SELECT id, name, age FROM employees\", conn)"
      ]
    },
    {
      "cell_type": "markdown",
      "metadata": {
        "id": "zVxbaouBXoUt"
      },
      "source": [
        "The command above will retrieve all data for several columns, we can write the column name separated by `,`. Because in the command it writes the `id`, `name` and `age` columns on the `employee` table, the result will be as follows:\n",
        "\n",
        "| id  | name  | age |\n",
        "| --- | ----- | --- |\n",
        "| 1   | Rizki | 25  |\n",
        "| 2   | Andi  | 27  |\n",
        "| 3   | Budi  | 30  |\n",
        "| 4   | Caca  | 32  |\n",
        "| 5   | Deni  | 35  |\n",
        "\n",
        "#### WHERE\n",
        "\n",
        "The `WHERE` command is used to filter the data to be retrieved. The `WHERE` command must be written after the `SELECT` command. For example:"
      ]
    },
    {
      "cell_type": "code",
      "execution_count": null,
      "metadata": {
        "vscode": {
          "languageId": "sql"
        },
        "id": "2RYEIERhXoUt"
      },
      "outputs": [],
      "source": [
        "SELECT * FROM employees\n",
        "WHERE id = 1;"
      ]
    },
    {
      "cell_type": "markdown",
      "metadata": {
        "id": "BY8pvBsPXoUt"
      },
      "source": [
        "Retrieve data from the `employees` table with `id` equals to 1."
      ]
    },
    {
      "cell_type": "code",
      "execution_count": null,
      "metadata": {
        "id": "Rrn0JcIhXoUt",
        "outputId": "b926a8b6-2c94-4de4-b30b-2f8940b5e861"
      },
      "outputs": [
        {
          "data": {
            "text/html": [
              "<div>\n",
              "<style scoped>\n",
              "    .dataframe tbody tr th:only-of-type {\n",
              "        vertical-align: middle;\n",
              "    }\n",
              "\n",
              "    .dataframe tbody tr th {\n",
              "        vertical-align: top;\n",
              "    }\n",
              "\n",
              "    .dataframe thead th {\n",
              "        text-align: right;\n",
              "    }\n",
              "</style>\n",
              "<table border=\"1\" class=\"dataframe\">\n",
              "  <thead>\n",
              "    <tr style=\"text-align: right;\">\n",
              "      <th></th>\n",
              "      <th>id</th>\n",
              "      <th>name</th>\n",
              "      <th>age</th>\n",
              "      <th>address</th>\n",
              "      <th>salary</th>\n",
              "    </tr>\n",
              "  </thead>\n",
              "  <tbody>\n",
              "    <tr>\n",
              "      <th>0</th>\n",
              "      <td>1</td>\n",
              "      <td>Rizki</td>\n",
              "      <td>25</td>\n",
              "      <td>Jl. Kebon Jeruk</td>\n",
              "      <td>2000000.0</td>\n",
              "    </tr>\n",
              "  </tbody>\n",
              "</table>\n",
              "</div>"
            ],
            "text/plain": [
              "   id   name  age          address     salary\n",
              "0   1  Rizki   25  Jl. Kebon Jeruk  2000000.0"
            ]
          },
          "execution_count": 83,
          "metadata": {},
          "output_type": "execute_result"
        }
      ],
      "source": [
        "import pandas as pd\n",
        "\n",
        "pd.read_sql_query(\"SELECT * FROM employees WHERE id = 1\", conn)"
      ]
    },
    {
      "cell_type": "markdown",
      "metadata": {
        "id": "2ilxGGupXoUt"
      },
      "source": [
        "The command above will retrieve data from the `employees` table with id `1`, so it only gets 1 data that has `id` 1. The result will be as follows:\n",
        "\n",
        "| id  | name  | age | address         | salary  |\n",
        "| --- | ----- | --- | --------------- | ------- |\n",
        "| 1   | Rizki | 25  | Jl. Kebon Jeruk | 2000000 |\n",
        "\n",
        "We can also use the `WHERE` command for logical operations. For example:"
      ]
    },
    {
      "cell_type": "code",
      "execution_count": null,
      "metadata": {
        "vscode": {
          "languageId": "sql"
        },
        "id": "IVUffRRmXoUt"
      },
      "outputs": [],
      "source": [
        "SELECT * FROM employees\n",
        "WHERE age < 30;"
      ]
    },
    {
      "cell_type": "markdown",
      "metadata": {
        "id": "FTw65nxZXoUt"
      },
      "source": [
        "Retrieve data from the `employees` table with `age` less than 30."
      ]
    },
    {
      "cell_type": "code",
      "execution_count": null,
      "metadata": {
        "id": "eJOvsVerXoUt",
        "outputId": "f78c6a24-3ce5-4f81-e7d5-a960875b9ba1"
      },
      "outputs": [
        {
          "data": {
            "text/html": [
              "<div>\n",
              "<style scoped>\n",
              "    .dataframe tbody tr th:only-of-type {\n",
              "        vertical-align: middle;\n",
              "    }\n",
              "\n",
              "    .dataframe tbody tr th {\n",
              "        vertical-align: top;\n",
              "    }\n",
              "\n",
              "    .dataframe thead th {\n",
              "        text-align: right;\n",
              "    }\n",
              "</style>\n",
              "<table border=\"1\" class=\"dataframe\">\n",
              "  <thead>\n",
              "    <tr style=\"text-align: right;\">\n",
              "      <th></th>\n",
              "      <th>id</th>\n",
              "      <th>name</th>\n",
              "      <th>age</th>\n",
              "      <th>address</th>\n",
              "      <th>salary</th>\n",
              "    </tr>\n",
              "  </thead>\n",
              "  <tbody>\n",
              "    <tr>\n",
              "      <th>0</th>\n",
              "      <td>1</td>\n",
              "      <td>Rizki</td>\n",
              "      <td>25</td>\n",
              "      <td>Jl. Kebon Jeruk</td>\n",
              "      <td>2000000.0</td>\n",
              "    </tr>\n",
              "    <tr>\n",
              "      <th>1</th>\n",
              "      <td>2</td>\n",
              "      <td>Andi</td>\n",
              "      <td>27</td>\n",
              "      <td>Jl. Kebon Sirih</td>\n",
              "      <td>3000000.0</td>\n",
              "    </tr>\n",
              "  </tbody>\n",
              "</table>\n",
              "</div>"
            ],
            "text/plain": [
              "   id   name  age          address     salary\n",
              "0   1  Rizki   25  Jl. Kebon Jeruk  2000000.0\n",
              "1   2   Andi   27  Jl. Kebon Sirih  3000000.0"
            ]
          },
          "execution_count": 84,
          "metadata": {},
          "output_type": "execute_result"
        }
      ],
      "source": [
        "import pandas as pd\n",
        "\n",
        "pd.read_sql_query(\"SELECT * FROM employees WHERE age < 30\", conn)"
      ]
    },
    {
      "cell_type": "markdown",
      "metadata": {
        "id": "JAzB6rPaXoUu"
      },
      "source": [
        "The command above will retrieve data from the `employees` table with ages less than 30 years, so it only gets 2 data that has an age less than 30 years. The result will be as follows:\n",
        "\n",
        "| id  | name  | age | address         | salary  |\n",
        "| --- | ----- | --- | --------------- | ------- |\n",
        "| 1   | Rizki | 25  | Jl. Kebon Jeruk | 2000000 |\n",
        "| 2   | Andi  | 27  | Jl. Kebon Sirih | 3000000 |\n",
        "\n",
        "There are logical operations that can be used to combine several conditions namely `AND` and `OR`.\n",
        "\n",
        "- `AND` is used to combine several conditions with `and` logic.\n",
        "- `OR` is used to combine several conditions with `or` logic."
      ]
    },
    {
      "cell_type": "code",
      "execution_count": null,
      "metadata": {
        "vscode": {
          "languageId": "sql"
        },
        "id": "YVfoscilXoUu"
      },
      "outputs": [],
      "source": [
        "SELECT * FROM employees\n",
        "WHERE age < 30 AND salary > 2000000;"
      ]
    },
    {
      "cell_type": "markdown",
      "metadata": {
        "id": "BNFYpNgFXoUu"
      },
      "source": [
        "Retrieve data from the `employees` table with `age` less than 30 and more than 2000000."
      ]
    },
    {
      "cell_type": "code",
      "execution_count": null,
      "metadata": {
        "id": "z2BZK1HsXoUu",
        "outputId": "4160f45f-db8d-4214-8b70-e75dc771d85e"
      },
      "outputs": [
        {
          "data": {
            "text/html": [
              "<div>\n",
              "<style scoped>\n",
              "    .dataframe tbody tr th:only-of-type {\n",
              "        vertical-align: middle;\n",
              "    }\n",
              "\n",
              "    .dataframe tbody tr th {\n",
              "        vertical-align: top;\n",
              "    }\n",
              "\n",
              "    .dataframe thead th {\n",
              "        text-align: right;\n",
              "    }\n",
              "</style>\n",
              "<table border=\"1\" class=\"dataframe\">\n",
              "  <thead>\n",
              "    <tr style=\"text-align: right;\">\n",
              "      <th></th>\n",
              "      <th>id</th>\n",
              "      <th>name</th>\n",
              "      <th>age</th>\n",
              "      <th>address</th>\n",
              "      <th>salary</th>\n",
              "    </tr>\n",
              "  </thead>\n",
              "  <tbody>\n",
              "    <tr>\n",
              "      <th>0</th>\n",
              "      <td>2</td>\n",
              "      <td>Andi</td>\n",
              "      <td>27</td>\n",
              "      <td>Jl. Kebon Sirih</td>\n",
              "      <td>3000000.0</td>\n",
              "    </tr>\n",
              "  </tbody>\n",
              "</table>\n",
              "</div>"
            ],
            "text/plain": [
              "   id  name  age          address     salary\n",
              "0   2  Andi   27  Jl. Kebon Sirih  3000000.0"
            ]
          },
          "execution_count": 88,
          "metadata": {},
          "output_type": "execute_result"
        }
      ],
      "source": [
        "import pandas as pd\n",
        "\n",
        "pd.read_sql_query(\"SELECT * FROM employees WHERE age < 30 AND salary > 2000000\", conn)"
      ]
    },
    {
      "cell_type": "markdown",
      "metadata": {
        "id": "dCjURHTOXoUu"
      },
      "source": [
        "The command above will retrieve data from the `employee` table with an age less than 30 years and a salary more than 2 million, so it only gets 1 data that has an age less than 30 years and a salary more than 2 million. The result will be as follows:\n",
        "\n",
        "| id  | name | age | address         | salary  |\n",
        "| --- | ---- | --- | --------------- | ------- |\n",
        "| 2   | Andi | 27  | Jl. Kebon Sirih | 3000000 |\n",
        "\n",
        "#### IN\n",
        "\n",
        "The `IN` command is used to filter the data to be retrieved based on a dataset that contains several values. This command is combined with the `WHERE` command and must be written after it. For example:"
      ]
    },
    {
      "cell_type": "code",
      "execution_count": null,
      "metadata": {
        "vscode": {
          "languageId": "sql"
        },
        "id": "hCLTFziJXoUu"
      },
      "outputs": [],
      "source": [
        "SELECT * FROM employees\n",
        "WHERE id IN (1, 3, 5);"
      ]
    },
    {
      "cell_type": "markdown",
      "metadata": {
        "id": "w56TSqnrXoUu"
      },
      "source": [
        "Retrieve data from the `employees` table with `id` in (1, 3, 5)."
      ]
    },
    {
      "cell_type": "code",
      "execution_count": null,
      "metadata": {
        "id": "4usgqQg_XoUu",
        "outputId": "e6746af4-8992-46ea-c5ae-573a3466334c"
      },
      "outputs": [
        {
          "data": {
            "text/html": [
              "<div>\n",
              "<style scoped>\n",
              "    .dataframe tbody tr th:only-of-type {\n",
              "        vertical-align: middle;\n",
              "    }\n",
              "\n",
              "    .dataframe tbody tr th {\n",
              "        vertical-align: top;\n",
              "    }\n",
              "\n",
              "    .dataframe thead th {\n",
              "        text-align: right;\n",
              "    }\n",
              "</style>\n",
              "<table border=\"1\" class=\"dataframe\">\n",
              "  <thead>\n",
              "    <tr style=\"text-align: right;\">\n",
              "      <th></th>\n",
              "      <th>id</th>\n",
              "      <th>name</th>\n",
              "      <th>age</th>\n",
              "      <th>address</th>\n",
              "      <th>salary</th>\n",
              "    </tr>\n",
              "  </thead>\n",
              "  <tbody>\n",
              "    <tr>\n",
              "      <th>0</th>\n",
              "      <td>1</td>\n",
              "      <td>Rizki</td>\n",
              "      <td>25</td>\n",
              "      <td>Jl. Kebon Jeruk</td>\n",
              "      <td>2000000.0</td>\n",
              "    </tr>\n",
              "    <tr>\n",
              "      <th>1</th>\n",
              "      <td>3</td>\n",
              "      <td>Budi</td>\n",
              "      <td>30</td>\n",
              "      <td>Jl. Kebon Melati</td>\n",
              "      <td>4000000.0</td>\n",
              "    </tr>\n",
              "    <tr>\n",
              "      <th>2</th>\n",
              "      <td>5</td>\n",
              "      <td>Deni</td>\n",
              "      <td>35</td>\n",
              "      <td>Jl. Kebon Mawar</td>\n",
              "      <td>6000000.0</td>\n",
              "    </tr>\n",
              "  </tbody>\n",
              "</table>\n",
              "</div>"
            ],
            "text/plain": [
              "   id   name  age           address     salary\n",
              "0   1  Rizki   25   Jl. Kebon Jeruk  2000000.0\n",
              "1   3   Budi   30  Jl. Kebon Melati  4000000.0\n",
              "2   5   Deni   35   Jl. Kebon Mawar  6000000.0"
            ]
          },
          "execution_count": 89,
          "metadata": {},
          "output_type": "execute_result"
        }
      ],
      "source": [
        "import pandas as pd\n",
        "\n",
        "pd.read_sql_query(\"SELECT * FROM employees WHERE id IN (1, 3, 5)\", conn)"
      ]
    },
    {
      "cell_type": "markdown",
      "metadata": {
        "id": "7qRcZFiUXoUu"
      },
      "source": [
        "The command above will retrieve data from the `employee` table with id `1`, `3` and `5`, so it will get 3 data that has `id` 1, 3 and 5. The result will be as follows:\n",
        "\n",
        "| id  | name  | age | address          | salary  |\n",
        "| --- | ----- | --- | ---------------- | ------- |\n",
        "| 1   | Rizki | 25  | Jl. Kebon Jeruk  | 2000000 |\n",
        "| 3   | Budi  | 30  | Jl. Kebon Melati | 4000000 |\n",
        "| 5   | Deni  | 35  | Jl. Kebon Mawar  | 6000000 |\n",
        "\n",
        "You can apply the basic `SELECT` command using this [online SQL compiler](https://onecompiler.com/mysql/) or the DBMS tool you are using. Don't forget to add data first before doing the `SELECT` command.\n",
        "\n",
        "#### ORDER BY\n",
        "\n",
        "The `ORDER BY` command is used to sort the data to be retrieved. This command is combined with the `SELECT` command and must be written after it. This command only has two types of sorting namely `ASC` and `DESC`.\n",
        "\n",
        "- `ASC` is used to sort data in ascending order (from small to large).\n",
        "- `DESC` is used to sort data in descending order (from large to small).\n",
        "\n",
        "For example:"
      ]
    },
    {
      "cell_type": "code",
      "execution_count": null,
      "metadata": {
        "vscode": {
          "languageId": "sql"
        },
        "id": "Ej34g6K0XoUv"
      },
      "outputs": [],
      "source": [
        "SELECT * FROM employees\n",
        "ORDER BY age DESC;"
      ]
    },
    {
      "cell_type": "markdown",
      "metadata": {
        "id": "ShdnCIlyXoUv"
      },
      "source": [
        "Retrieve data from the `employees` table and order by `age` in descending order."
      ]
    },
    {
      "cell_type": "code",
      "execution_count": null,
      "metadata": {
        "id": "b7nDATNdXoUv",
        "outputId": "c6c50778-b967-44fa-c496-9b8edc1b079f"
      },
      "outputs": [
        {
          "data": {
            "text/html": [
              "<div>\n",
              "<style scoped>\n",
              "    .dataframe tbody tr th:only-of-type {\n",
              "        vertical-align: middle;\n",
              "    }\n",
              "\n",
              "    .dataframe tbody tr th {\n",
              "        vertical-align: top;\n",
              "    }\n",
              "\n",
              "    .dataframe thead th {\n",
              "        text-align: right;\n",
              "    }\n",
              "</style>\n",
              "<table border=\"1\" class=\"dataframe\">\n",
              "  <thead>\n",
              "    <tr style=\"text-align: right;\">\n",
              "      <th></th>\n",
              "      <th>id</th>\n",
              "      <th>name</th>\n",
              "      <th>age</th>\n",
              "      <th>address</th>\n",
              "      <th>salary</th>\n",
              "    </tr>\n",
              "  </thead>\n",
              "  <tbody>\n",
              "    <tr>\n",
              "      <th>0</th>\n",
              "      <td>5</td>\n",
              "      <td>Deni</td>\n",
              "      <td>35</td>\n",
              "      <td>Jl. Kebon Mawar</td>\n",
              "      <td>6000000.0</td>\n",
              "    </tr>\n",
              "    <tr>\n",
              "      <th>1</th>\n",
              "      <td>4</td>\n",
              "      <td>Caca</td>\n",
              "      <td>32</td>\n",
              "      <td>Jl. Kebon Anggrek</td>\n",
              "      <td>5000000.0</td>\n",
              "    </tr>\n",
              "    <tr>\n",
              "      <th>2</th>\n",
              "      <td>3</td>\n",
              "      <td>Budi</td>\n",
              "      <td>30</td>\n",
              "      <td>Jl. Kebon Melati</td>\n",
              "      <td>4000000.0</td>\n",
              "    </tr>\n",
              "    <tr>\n",
              "      <th>3</th>\n",
              "      <td>2</td>\n",
              "      <td>Andi</td>\n",
              "      <td>27</td>\n",
              "      <td>Jl. Kebon Sirih</td>\n",
              "      <td>3000000.0</td>\n",
              "    </tr>\n",
              "    <tr>\n",
              "      <th>4</th>\n",
              "      <td>1</td>\n",
              "      <td>Rizki</td>\n",
              "      <td>25</td>\n",
              "      <td>Jl. Kebon Jeruk</td>\n",
              "      <td>2000000.0</td>\n",
              "    </tr>\n",
              "  </tbody>\n",
              "</table>\n",
              "</div>"
            ],
            "text/plain": [
              "   id   name  age            address     salary\n",
              "0   5   Deni   35    Jl. Kebon Mawar  6000000.0\n",
              "1   4   Caca   32  Jl. Kebon Anggrek  5000000.0\n",
              "2   3   Budi   30   Jl. Kebon Melati  4000000.0\n",
              "3   2   Andi   27    Jl. Kebon Sirih  3000000.0\n",
              "4   1  Rizki   25    Jl. Kebon Jeruk  2000000.0"
            ]
          },
          "execution_count": 90,
          "metadata": {},
          "output_type": "execute_result"
        }
      ],
      "source": [
        "import pandas as pd\n",
        "\n",
        "pd.read_sql_query(\"SELECT * FROM employees ORDER BY age DESC\", conn)"
      ]
    },
    {
      "cell_type": "markdown",
      "metadata": {
        "id": "Bx9N4b9vXoUv"
      },
      "source": [
        "The command above will retrieve data from the `employee` table and sort it based on the `age` column in descending order (large to small), so it will get 5 data that is sorted based on age in descending order. The result will be as follows:\n",
        "\n",
        "| id  | name  | age | address           | salary  |\n",
        "| --- | ----- | --- | ----------------- | ------- |\n",
        "| 5   | Deni  | 35  | Jl. Kebon Mawar   | 6000000 |\n",
        "| 4   | Caca  | 32  | Jl. Kebon Kamboja | 5000000 |\n",
        "| 3   | Budi  | 30  | Jl. Kebon Melati  | 4000000 |\n",
        "| 2   | Andi  | 27  | Jl. Kebon Sirih   | 3000000 |\n",
        "| 1   | Rizki | 25  | Jl. Kebon Jeruk   | 2000000 |\n",
        "\n",
        "#### LIMIT\n",
        "\n",
        "The `LIMIT` command is used to limit the number of data to be retrieved. The number of data to be retrieved will be determined by the parameter given by taking in order from the top data. This command is combined with the `SELECT` command and must be written after it. For example:"
      ]
    },
    {
      "cell_type": "code",
      "execution_count": null,
      "metadata": {
        "vscode": {
          "languageId": "sql"
        },
        "id": "ml03QHuJXoUv"
      },
      "outputs": [],
      "source": [
        "SELECT * FROM employees\n",
        "LIMIT 2;"
      ]
    },
    {
      "cell_type": "markdown",
      "metadata": {
        "id": "CENgFTFoXoUv"
      },
      "source": [
        "Retrieve 2 records from the `employees` table."
      ]
    },
    {
      "cell_type": "code",
      "execution_count": null,
      "metadata": {
        "id": "TyM5wnMpXoUv",
        "outputId": "ec1abe61-7f30-4608-9ef9-8e48fb10d3ad"
      },
      "outputs": [
        {
          "data": {
            "text/html": [
              "<div>\n",
              "<style scoped>\n",
              "    .dataframe tbody tr th:only-of-type {\n",
              "        vertical-align: middle;\n",
              "    }\n",
              "\n",
              "    .dataframe tbody tr th {\n",
              "        vertical-align: top;\n",
              "    }\n",
              "\n",
              "    .dataframe thead th {\n",
              "        text-align: right;\n",
              "    }\n",
              "</style>\n",
              "<table border=\"1\" class=\"dataframe\">\n",
              "  <thead>\n",
              "    <tr style=\"text-align: right;\">\n",
              "      <th></th>\n",
              "      <th>id</th>\n",
              "      <th>name</th>\n",
              "      <th>age</th>\n",
              "      <th>address</th>\n",
              "      <th>salary</th>\n",
              "    </tr>\n",
              "  </thead>\n",
              "  <tbody>\n",
              "    <tr>\n",
              "      <th>0</th>\n",
              "      <td>1</td>\n",
              "      <td>Rizki</td>\n",
              "      <td>25</td>\n",
              "      <td>Jl. Kebon Jeruk</td>\n",
              "      <td>2000000.0</td>\n",
              "    </tr>\n",
              "    <tr>\n",
              "      <th>1</th>\n",
              "      <td>2</td>\n",
              "      <td>Andi</td>\n",
              "      <td>27</td>\n",
              "      <td>Jl. Kebon Sirih</td>\n",
              "      <td>3000000.0</td>\n",
              "    </tr>\n",
              "  </tbody>\n",
              "</table>\n",
              "</div>"
            ],
            "text/plain": [
              "   id   name  age          address     salary\n",
              "0   1  Rizki   25  Jl. Kebon Jeruk  2000000.0\n",
              "1   2   Andi   27  Jl. Kebon Sirih  3000000.0"
            ]
          },
          "execution_count": 91,
          "metadata": {},
          "output_type": "execute_result"
        }
      ],
      "source": [
        "import pandas as pd\n",
        "\n",
        "pd.read_sql_query(\"SELECT * FROM employee LIMIT 2\", conn)"
      ]
    },
    {
      "cell_type": "markdown",
      "metadata": {
        "id": "CxAx0NVtXoUv"
      },
      "source": [
        "The command above will retrieve data from the `employee` table and limit only 2 data to be retrieved (taken from the top), so it will get 3 data taken from the top data. The result will be as follows:\n",
        "\n",
        "| id  | name  | age | address         | salary  |\n",
        "| --- | ----- | --- | --------------- | ------- |\n",
        "| 1   | Rizki | 25  | Jl. Kebon Jeruk | 2000000 |\n",
        "| 2   | Andi  | 27  | Jl. Kebon Sirih | 3000000 |\n",
        "\n",
        "### Aggregate function\n",
        "\n",
        "<!-- min, max, like, avg, sum, dll refer to w3school SQL https://www.w3schools.com/sql/sql_like.asp -->\n",
        "\n",
        "An aggregate function is a function used to produce a value based on the data in a table. This function will produce one value only.\n",
        "\n",
        "Previously, we have retrieved data from the `employee` table using the `SELECT` command. We can use aggregate functions to get certain values from the data in the table. For example, getting the maximum or average value from the data in the `salary` column of the `employee` table. Or get the smallest value from all data in the `age` column.\n",
        "\n",
        "There are many aggregate functions that can be used, but here we will discuss some functions that are most often used.\n",
        "\n",
        "#### COUNT\n",
        "\n",
        "The `COUNT` function is a function used to count the number of rows in a table. The result of this function will produce one value only. For example:"
      ]
    },
    {
      "cell_type": "code",
      "execution_count": null,
      "metadata": {
        "vscode": {
          "languageId": "sql"
        },
        "id": "6XSwkOD4XoUv"
      },
      "outputs": [],
      "source": [
        "SELECT COUNT(*) FROM employees;"
      ]
    },
    {
      "cell_type": "markdown",
      "metadata": {
        "id": "xhBhRxW9XoUw"
      },
      "source": [
        "Count the number of records in the `employees` table."
      ]
    },
    {
      "cell_type": "code",
      "execution_count": null,
      "metadata": {
        "id": "zRqOTozqXoUw",
        "outputId": "b4f17535-864d-4b41-a548-9784c9c93f11"
      },
      "outputs": [
        {
          "data": {
            "text/html": [
              "<div>\n",
              "<style scoped>\n",
              "    .dataframe tbody tr th:only-of-type {\n",
              "        vertical-align: middle;\n",
              "    }\n",
              "\n",
              "    .dataframe tbody tr th {\n",
              "        vertical-align: top;\n",
              "    }\n",
              "\n",
              "    .dataframe thead th {\n",
              "        text-align: right;\n",
              "    }\n",
              "</style>\n",
              "<table border=\"1\" class=\"dataframe\">\n",
              "  <thead>\n",
              "    <tr style=\"text-align: right;\">\n",
              "      <th></th>\n",
              "      <th>COUNT(*)</th>\n",
              "    </tr>\n",
              "  </thead>\n",
              "  <tbody>\n",
              "    <tr>\n",
              "      <th>0</th>\n",
              "      <td>5</td>\n",
              "    </tr>\n",
              "  </tbody>\n",
              "</table>\n",
              "</div>"
            ],
            "text/plain": [
              "   COUNT(*)\n",
              "0         5"
            ]
          },
          "execution_count": 93,
          "metadata": {},
          "output_type": "execute_result"
        }
      ],
      "source": [
        "import pandas as pd\n",
        "\n",
        "pd.read_sql_query(\"SELECT COUNT(*) FROM employees\", conn)"
      ]
    },
    {
      "cell_type": "markdown",
      "metadata": {
        "id": "D7R5MY0hXoUw"
      },
      "source": [
        "The command above will count the number of rows in the `employee` table in all columns and produce the value `5`, because there are `5` data in the table. The result will be as follows:\n",
        "\n",
        "| COUNT(\\*) |\n",
        "| --------- |\n",
        "| 5         |\n",
        "\n",
        "This function will not total the value of a specific column that has `NULL` data. For example, there is the following table data:\n",
        "\n",
        "| id  | name  | age | address         | salary  |\n",
        "| --- | ----- | --- | --------------- | ------- |\n",
        "| 1   | Rizki | 25  | Jl. Kebon Jeruk | 2000000 |\n",
        "| 2   | Andi  | 27  | NULL            | 3000000 |\n",
        "| 3   | Budi  | 30  | NULL            | 4000000 |"
      ]
    },
    {
      "cell_type": "code",
      "execution_count": null,
      "metadata": {
        "id": "Wxvdx-kpXoUw"
      },
      "outputs": [],
      "source": [
        "c.execute('DELETE FROM employees')\n",
        "\n",
        "data = [\n",
        "    (1, 'Rizki', 25, 'Jl. Kebon Jeruk', 2000000),\n",
        "    (2, 'Andi', 27, None, 3000000),\n",
        "    (3, 'Budi', 30, None, 4000000)\n",
        "]\n",
        "c.executemany('INSERT INTO employees VALUES (?,?,?,?,?)', data)\n",
        "\n",
        "conn.commit()"
      ]
    },
    {
      "cell_type": "markdown",
      "metadata": {
        "id": "DtfA0IG6XoUx"
      },
      "source": [
        "If we use the `COUNT` function on the `address` column, the result will be `1` because there is only one data that has a value in the `address` column. If we use the `COUNT` function on the `salary` column, the result will be `3` because all data has a value in the `salary` column.\n",
        "\n",
        "- using the `COUNT` function for the `address` column\n",
        "\n",
        "  ```sql\n",
        "  SELECT COUNT(address) FROM employees;\n",
        "  ```\n",
        "\n",
        "  The result is as follows:\n",
        "\n",
        "  | COUNT(address) |\n",
        "  | -------------- |\n",
        "  | 1              |\n",
        "\n",
        "- using the `COUNT` function for the `salary` column\n",
        "\n",
        "  ```sql\n",
        "  SELECT COUNT(salary) FROM employees;\n",
        "  ```\n",
        "\n",
        "  The result is as follows:\n",
        "\n",
        "  | COUNT(salary) |\n",
        "  | ------------- |\n",
        "  | 3             |\n",
        "\n",
        "If we look at the results, the column name will become `COUNT(address)` and `COUNT(salary)`. If we want to change the column name, we can use the `AS` command to change the column name. For example:"
      ]
    },
    {
      "cell_type": "code",
      "execution_count": null,
      "metadata": {
        "vscode": {
          "languageId": "sql"
        },
        "id": "UZGUwOUQXoUy"
      },
      "outputs": [],
      "source": [
        "SELECT COUNT(address) AS total_address\n",
        "FROM employees;"
      ]
    },
    {
      "cell_type": "markdown",
      "metadata": {
        "id": "LR2IQHbNXoUy"
      },
      "source": [
        "Try in python using SQLite"
      ]
    },
    {
      "cell_type": "code",
      "execution_count": null,
      "metadata": {
        "id": "ZP-gipV4XoUy",
        "outputId": "00b7b1fc-8570-48f9-cec8-06c2373d694e"
      },
      "outputs": [
        {
          "data": {
            "text/html": [
              "<div>\n",
              "<style scoped>\n",
              "    .dataframe tbody tr th:only-of-type {\n",
              "        vertical-align: middle;\n",
              "    }\n",
              "\n",
              "    .dataframe tbody tr th {\n",
              "        vertical-align: top;\n",
              "    }\n",
              "\n",
              "    .dataframe thead th {\n",
              "        text-align: right;\n",
              "    }\n",
              "</style>\n",
              "<table border=\"1\" class=\"dataframe\">\n",
              "  <thead>\n",
              "    <tr style=\"text-align: right;\">\n",
              "      <th></th>\n",
              "      <th>total_address</th>\n",
              "    </tr>\n",
              "  </thead>\n",
              "  <tbody>\n",
              "    <tr>\n",
              "      <th>0</th>\n",
              "      <td>1</td>\n",
              "    </tr>\n",
              "  </tbody>\n",
              "</table>\n",
              "</div>"
            ],
            "text/plain": [
              "   total_address\n",
              "0              1"
            ]
          },
          "execution_count": 96,
          "metadata": {},
          "output_type": "execute_result"
        }
      ],
      "source": [
        "import pandas as pd\n",
        "\n",
        "pd.read_sql_query(\"SELECT COUNT(address) AS total_address FROM employees\", conn)"
      ]
    },
    {
      "cell_type": "markdown",
      "metadata": {
        "id": "DTvD0OP-XoUz"
      },
      "source": [
        "By using `AS` we can change the column name to `total_address`. The result will be as follows:\n",
        "\n",
        "| total_address |\n",
        "| ------------- |\n",
        "| 1             |\n",
        "\n",
        "#### CONCAT\n",
        "\n",
        "The `CONCAT` function is a function used to combine two or more strings into one. This function will produce one string only.\n",
        "\n",
        "```sql\n",
        "CONCAT(string1, string2, string3, ...)\n",
        "```\n",
        "\n",
        "For example, if there is a `persons` table with columns and data as follows:\n",
        "\n",
        "| id  | salutation | name          | age |\n",
        "| --- | ---------- | ------------- | --- |\n",
        "| 1   | Mr         | Rizki Sanjaya | 25  |\n",
        "| 2   | Mr         | Andi William  | 27  |\n",
        "| 3   | Ms         | Susi Andini   | 30  |\n",
        "\n",
        "We can combine the `salutation` and `name` columns into one column using the `CONCAT` function. For example:"
      ]
    },
    {
      "cell_type": "code",
      "execution_count": null,
      "metadata": {
        "id": "yG5Jl6SkXoUz"
      },
      "outputs": [],
      "source": [
        "c.execute('''\n",
        "CREATE TABLE persons (\n",
        "    id INT,\n",
        "    salutation TEXT,\n",
        "    name TEXT,\n",
        "    age INT);\n",
        "''')\n",
        "conn.commit()"
      ]
    },
    {
      "cell_type": "code",
      "execution_count": null,
      "metadata": {
        "id": "NalaRNY6XoUz"
      },
      "outputs": [],
      "source": [
        "data = [\n",
        "    (1, 'Mr', 'Rizki Sanjaya', 25),\n",
        "    (2, 'Mr', 'Andi William', 27),\n",
        "    (3, 'Mr', 'Susi Andini', 30)\n",
        "]\n",
        "c.executemany('INSERT INTO persons VALUES (?,?,?,?)', data)\n",
        "\n",
        "conn.commit()"
      ]
    },
    {
      "cell_type": "code",
      "execution_count": null,
      "metadata": {
        "id": "QXUabuetXoU0",
        "outputId": "594ebd83-b9f3-48d4-f0e4-7f2d05626585"
      },
      "outputs": [
        {
          "data": {
            "text/html": [
              "<div>\n",
              "<style scoped>\n",
              "    .dataframe tbody tr th:only-of-type {\n",
              "        vertical-align: middle;\n",
              "    }\n",
              "\n",
              "    .dataframe tbody tr th {\n",
              "        vertical-align: top;\n",
              "    }\n",
              "\n",
              "    .dataframe thead th {\n",
              "        text-align: right;\n",
              "    }\n",
              "</style>\n",
              "<table border=\"1\" class=\"dataframe\">\n",
              "  <thead>\n",
              "    <tr style=\"text-align: right;\">\n",
              "      <th></th>\n",
              "      <th>id</th>\n",
              "      <th>salutation</th>\n",
              "      <th>name</th>\n",
              "      <th>age</th>\n",
              "    </tr>\n",
              "  </thead>\n",
              "  <tbody>\n",
              "    <tr>\n",
              "      <th>0</th>\n",
              "      <td>1</td>\n",
              "      <td>Mr</td>\n",
              "      <td>Rizki Sanjaya</td>\n",
              "      <td>25</td>\n",
              "    </tr>\n",
              "    <tr>\n",
              "      <th>1</th>\n",
              "      <td>2</td>\n",
              "      <td>Mr</td>\n",
              "      <td>Andi William</td>\n",
              "      <td>27</td>\n",
              "    </tr>\n",
              "    <tr>\n",
              "      <th>2</th>\n",
              "      <td>3</td>\n",
              "      <td>Mr</td>\n",
              "      <td>Susi Andini</td>\n",
              "      <td>30</td>\n",
              "    </tr>\n",
              "  </tbody>\n",
              "</table>\n",
              "</div>"
            ],
            "text/plain": [
              "   id salutation           name  age\n",
              "0   1         Mr  Rizki Sanjaya   25\n",
              "1   2         Mr   Andi William   27\n",
              "2   3         Mr    Susi Andini   30"
            ]
          },
          "execution_count": 101,
          "metadata": {},
          "output_type": "execute_result"
        }
      ],
      "source": [
        "import pandas as pd\n",
        "\n",
        "pd.read_sql_query(\"SELECT * FROM persons\", conn)"
      ]
    },
    {
      "cell_type": "code",
      "execution_count": null,
      "metadata": {
        "vscode": {
          "languageId": "sql"
        },
        "id": "Pt3gClOiXoU0"
      },
      "outputs": [],
      "source": [
        "SELECT CONCAT(salutation, ' ', name) AS fullname\n",
        "FROM persons;"
      ]
    },
    {
      "cell_type": "markdown",
      "metadata": {
        "id": "oVs6R_d8XoU0"
      },
      "source": [
        "Try in python using SQLite _(`CONCAT` is not supported by SQLite. In SQLite, you can use the `||` operator to concatenate strings.)_"
      ]
    },
    {
      "cell_type": "code",
      "execution_count": null,
      "metadata": {
        "id": "lu5EEPxeXoU0",
        "outputId": "60ebf5fb-9336-4726-a7e8-bfc824a06289"
      },
      "outputs": [
        {
          "data": {
            "text/html": [
              "<div>\n",
              "<style scoped>\n",
              "    .dataframe tbody tr th:only-of-type {\n",
              "        vertical-align: middle;\n",
              "    }\n",
              "\n",
              "    .dataframe tbody tr th {\n",
              "        vertical-align: top;\n",
              "    }\n",
              "\n",
              "    .dataframe thead th {\n",
              "        text-align: right;\n",
              "    }\n",
              "</style>\n",
              "<table border=\"1\" class=\"dataframe\">\n",
              "  <thead>\n",
              "    <tr style=\"text-align: right;\">\n",
              "      <th></th>\n",
              "      <th>fullname</th>\n",
              "    </tr>\n",
              "  </thead>\n",
              "  <tbody>\n",
              "    <tr>\n",
              "      <th>0</th>\n",
              "      <td>Mr Rizki Sanjaya</td>\n",
              "    </tr>\n",
              "    <tr>\n",
              "      <th>1</th>\n",
              "      <td>Mr Andi William</td>\n",
              "    </tr>\n",
              "    <tr>\n",
              "      <th>2</th>\n",
              "      <td>Mr Susi Andini</td>\n",
              "    </tr>\n",
              "  </tbody>\n",
              "</table>\n",
              "</div>"
            ],
            "text/plain": [
              "           fullname\n",
              "0  Mr Rizki Sanjaya\n",
              "1   Mr Andi William\n",
              "2    Mr Susi Andini"
            ]
          },
          "execution_count": 103,
          "metadata": {},
          "output_type": "execute_result"
        }
      ],
      "source": [
        "import pandas as pd\n",
        "\n",
        "pd.read_sql_query(\"SELECT (salutation || ' ' || name) AS fullname FROM persons\", conn)"
      ]
    },
    {
      "cell_type": "markdown",
      "metadata": {
        "id": "zEA8UPpwXoU1"
      },
      "source": [
        "The command above will combine the `salutation` and `name` columns using a space as a separator. The result will be as follows:\n",
        "\n",
        "| fullname         |\n",
        "| ---------------- |\n",
        "| Mr Rizki Sanjaya |\n",
        "| Mr Andi William  |\n",
        "| Ms Susi Andini   |\n",
        "\n",
        "You can try using the aggregate functions explained in this [online SQL compiler](https://onecompiler.com/postgresql) or the DBMS tool you are using.\n",
        "\n",
        "In addition to COUNT, there are other aggregate functions such as MIN, MAX, AVG, SUM, and others that you can read in [W3 School - SQL Aggregate Function](https://www.w3schools.com/sql/sql_count_avg_sum.asp)."
      ]
    },
    {
      "cell_type": "code",
      "execution_count": null,
      "metadata": {
        "id": "H5qyIAhmXoU1"
      },
      "outputs": [],
      "source": [
        "# Close the connection\n",
        "conn.close()"
      ]
    },
    {
      "cell_type": "markdown",
      "metadata": {
        "id": "LDCB_dyVXoU1"
      },
      "source": [
        "Next, we continue into accessing and manipulating data in multiple tables using JOIN and TRANSACTION"
      ]
    }
  ],
  "metadata": {
    "kernelspec": {
      "display_name": "Python 3 (ipykernel)",
      "language": "python",
      "name": "python3"
    },
    "language_info": {
      "codemirror_mode": {
        "name": "ipython",
        "version": 3
      },
      "file_extension": ".py",
      "mimetype": "text/x-python",
      "name": "python",
      "nbconvert_exporter": "python",
      "pygments_lexer": "ipython3",
      "version": "3.11.3"
    },
    "colab": {
      "provenance": []
    }
  },
  "nbformat": 4,
  "nbformat_minor": 0
}