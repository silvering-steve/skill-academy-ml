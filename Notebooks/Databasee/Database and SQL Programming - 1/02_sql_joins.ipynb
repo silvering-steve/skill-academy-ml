{
  "cells": [
    {
      "cell_type": "markdown",
      "metadata": {
        "id": "XLdedZbl6IJt"
      },
      "source": [
        "# SQL Fundamentals with Python - Joins"
      ]
    },
    {
      "cell_type": "markdown",
      "metadata": {
        "id": "LejzqRW56IJx"
      },
      "source": [
        "## Joining Database Table\n",
        "\n",
        "### Key Constraints\n",
        "\n",
        "Previously, you have learned about the concept of _sql constraints_. The _Primary key_ works as an _index_ to find the data we want. The _Foreign key_ works as an _index_ to reference data in the _index_ table based on the _primary key_ of the referenced table.\n",
        "\n",
        "When we want to create a table that has a _foreign key_ from another table, we must create the referenced table first. This is because we cannot create a table that has a _foreign key_ from a table that does not yet exist.\n",
        "\n",
        "### Primary key\n",
        "\n",
        "First, we need to create a _primary key_ as a _unique identifier_ for the table. Suppose there is a `department` table that has the following data:\n",
        "\n",
        "| id  | name      |\n",
        "| --- | --------- |\n",
        "| 1   | IT        |\n",
        "| 2   | HRD       |\n",
        "| 3   | Finance   |\n",
        "| 4   | Marketing |\n",
        "\n",
        "Then there is an `employee` table that has the following data:\n",
        "\n",
        "| id  | name  | age | address           | salary  | department_id |\n",
        "| --- | ----- | --- | ----------------- | ------- | ------------- |\n",
        "| 1   | Rizki | 25  | Jl. Kebon Jeruk   | 2000000 | 2             |\n",
        "| 2   | Andi  | 27  | Jl. Kebon Sirih   | 3000000 | 3             |\n",
        "| 3   | Budi  | 30  | Jl. Kebon Melati  | 4000000 | 1             |\n",
        "| 4   | Caca  | 32  | Jl. Kebon Anggrek | 5000000 | 1             |\n",
        "| 5   | Deni  | 35  | Jl. Kebon Mawar   | 6000000 | 1             |\n",
        "\n",
        "We can conclude that the `employee` table has a _foreign key_ from the `department` table. This is because the `department_id` column in the `employee` table references the `id` column in the `department` table.\n",
        "\n",
        "![join-table-example](https://storage.googleapis.com/rg-ai-bootcamp/database/join-table-example.svg)\n",
        "\n",
        "We can create a _primary key_ on the `id` column because the data is unique by adding `PRIMARY KEY` as _constraints_ on the `id` column when creating the `department` table:"
      ]
    },
    {
      "cell_type": "code",
      "execution_count": null,
      "metadata": {
        "vscode": {
          "languageId": "sql"
        },
        "id": "hBoo0B3V6IJy"
      },
      "outputs": [],
      "source": [
        "CREATE TABLE department (\n",
        "  id INT PRIMARY KEY, -- the `id` column will become the primary key\n",
        "  name VARCHAR(255)\n",
        ");"
      ]
    },
    {
      "cell_type": "markdown",
      "metadata": {
        "id": "qMfeISDw6IJz"
      },
      "source": [
        "When the _command_ is executed, the `department` table will be created with the `id` column as a _primary key_ of type `INT`. Automatically, this data must be unique.\n",
        "\n",
        "### Foreign key\n",
        "\n",
        "Then we can create a _foreign key_ on the `employee` table by adding `FOREIGN KEY` as _constraints_ on the `department_id` column when creating the `employee` table:"
      ]
    },
    {
      "cell_type": "code",
      "execution_count": null,
      "metadata": {
        "vscode": {
          "languageId": "sql"
        },
        "id": "hiMAS9JL6IJz"
      },
      "outputs": [],
      "source": [
        "CREATE TABLE employee (\n",
        "  id INT PRIMARY KEY,\n",
        "  name VARCHAR(255),\n",
        "  age INT,\n",
        "  address VARCHAR(255),\n",
        "  salary INT,\n",
        "  department_id INT FOREIGN KEY REFERENCES department(id)\n",
        "  -- the `department_id` column will become the foreign key"
      ]
    },
    {
      "cell_type": "markdown",
      "metadata": {
        "id": "DgY3GMqw6IJ0"
      },
      "source": [
        "With python, let's create the `department` and `employee` tables, and insert the data into these tables."
      ]
    },
    {
      "cell_type": "code",
      "execution_count": null,
      "metadata": {
        "id": "plKP0Tu46IJ0"
      },
      "outputs": [],
      "source": [
        "import sqlite3\n",
        "\n",
        "# Connect to SQLite database\n",
        "conn = sqlite3.connect('db/sqlite.db')\n",
        "\n",
        "# Create a cursor object\n",
        "c = conn.cursor()\n",
        "\n",
        "# Create table 'department'\n",
        "c.execute('''\n",
        "CREATE TABLE department (\n",
        "    id INT PRIMARY KEY,\n",
        "    name TEXT);\n",
        "''')\n",
        "\n",
        "# Insert data into the 'department' table\n",
        "data = [\n",
        "    (1, 'IT'),\n",
        "    (2, 'HRD'),\n",
        "    (3, 'Finance'),\n",
        "    (4, 'Marketing')\n",
        "]\n",
        "c.executemany('INSERT INTO department VALUES (?,?)', data)\n",
        "\n",
        "# Create table 'employee'\n",
        "c.execute('''\n",
        "CREATE TABLE employee (\n",
        "    id INT PRIMARY KEY,\n",
        "    name TEXT,\n",
        "    age INT,\n",
        "    address TEXT,\n",
        "    salary REAL,\n",
        "    department_id INT,\n",
        "    FOREIGN KEY(department_id) REFERENCES department(id));\n",
        "''')\n",
        "\n",
        "# Insert data into 'employee' table\n",
        "data = [\n",
        "    (1, 'Rizki', 25, 'Jl. Kebon Jeruk', 2000000, 2),\n",
        "    (2, 'Andi', 27, 'Jl. Kebon Sirih', 3000000, 3),\n",
        "    (3, 'Budi', 30, 'Jl. Kebon Melati', 4000000, 1),\n",
        "    (4, 'Caca', 32, 'Jl. Kebon Anggrek', 5000000, 1),\n",
        "    (5, 'Deni', 35, 'Jl. Kebon Mawar', 6000000, 1)\n",
        "]\n",
        "c.executemany('INSERT INTO employee VALUES (?,?,?,?,?,?)', data)\n",
        "\n",
        "# Commit the transaction\n",
        "conn.commit()"
      ]
    },
    {
      "cell_type": "markdown",
      "metadata": {
        "id": "NrO8UP6u6IJ1"
      },
      "source": [
        "Now, let's perform a JOIN operation to combine these tables:"
      ]
    },
    {
      "cell_type": "code",
      "execution_count": null,
      "metadata": {
        "id": "yjfrnk_76IJ1",
        "outputId": "e57f0844-9cfa-4a14-ffe3-3d6ba5fc3392"
      },
      "outputs": [
        {
          "data": {
            "text/html": [
              "<div>\n",
              "<style scoped>\n",
              "    .dataframe tbody tr th:only-of-type {\n",
              "        vertical-align: middle;\n",
              "    }\n",
              "\n",
              "    .dataframe tbody tr th {\n",
              "        vertical-align: top;\n",
              "    }\n",
              "\n",
              "    .dataframe thead th {\n",
              "        text-align: right;\n",
              "    }\n",
              "</style>\n",
              "<table border=\"1\" class=\"dataframe\">\n",
              "  <thead>\n",
              "    <tr style=\"text-align: right;\">\n",
              "      <th></th>\n",
              "      <th>employee_id</th>\n",
              "      <th>employee_name</th>\n",
              "      <th>department_name</th>\n",
              "      <th>age</th>\n",
              "      <th>address</th>\n",
              "      <th>salary</th>\n",
              "    </tr>\n",
              "  </thead>\n",
              "  <tbody>\n",
              "    <tr>\n",
              "      <th>0</th>\n",
              "      <td>1</td>\n",
              "      <td>Rizki</td>\n",
              "      <td>HRD</td>\n",
              "      <td>25</td>\n",
              "      <td>Jl. Kebon Jeruk</td>\n",
              "      <td>2000000.0</td>\n",
              "    </tr>\n",
              "    <tr>\n",
              "      <th>1</th>\n",
              "      <td>2</td>\n",
              "      <td>Andi</td>\n",
              "      <td>Finance</td>\n",
              "      <td>27</td>\n",
              "      <td>Jl. Kebon Sirih</td>\n",
              "      <td>3000000.0</td>\n",
              "    </tr>\n",
              "    <tr>\n",
              "      <th>2</th>\n",
              "      <td>3</td>\n",
              "      <td>Budi</td>\n",
              "      <td>IT</td>\n",
              "      <td>30</td>\n",
              "      <td>Jl. Kebon Melati</td>\n",
              "      <td>4000000.0</td>\n",
              "    </tr>\n",
              "    <tr>\n",
              "      <th>3</th>\n",
              "      <td>4</td>\n",
              "      <td>Caca</td>\n",
              "      <td>IT</td>\n",
              "      <td>32</td>\n",
              "      <td>Jl. Kebon Anggrek</td>\n",
              "      <td>5000000.0</td>\n",
              "    </tr>\n",
              "    <tr>\n",
              "      <th>4</th>\n",
              "      <td>5</td>\n",
              "      <td>Deni</td>\n",
              "      <td>IT</td>\n",
              "      <td>35</td>\n",
              "      <td>Jl. Kebon Mawar</td>\n",
              "      <td>6000000.0</td>\n",
              "    </tr>\n",
              "  </tbody>\n",
              "</table>\n",
              "</div>"
            ],
            "text/plain": [
              "   employee_id employee_name department_name  age            address  \\\n",
              "0            1         Rizki             HRD   25    Jl. Kebon Jeruk   \n",
              "1            2          Andi         Finance   27    Jl. Kebon Sirih   \n",
              "2            3          Budi              IT   30   Jl. Kebon Melati   \n",
              "3            4          Caca              IT   32  Jl. Kebon Anggrek   \n",
              "4            5          Deni              IT   35    Jl. Kebon Mawar   \n",
              "\n",
              "      salary  \n",
              "0  2000000.0  \n",
              "1  3000000.0  \n",
              "2  4000000.0  \n",
              "3  5000000.0  \n",
              "4  6000000.0  "
            ]
          },
          "execution_count": 108,
          "metadata": {},
          "output_type": "execute_result"
        }
      ],
      "source": [
        "import pandas as pd\n",
        "\n",
        "pd.read_sql_query('''\n",
        "SELECT\n",
        "    employee.id AS employee_id,\n",
        "    employee.name AS employee_name,\n",
        "    department.name AS department_name,\n",
        "    employee.age,\n",
        "    employee.address,\n",
        "    employee.salary\n",
        "FROM\n",
        "    employee\n",
        "INNER JOIN department ON employee.department_id = department.id\n",
        "''', conn)"
      ]
    },
    {
      "cell_type": "markdown",
      "metadata": {
        "id": "9BCF06CE6IJ2"
      },
      "source": [
        "This will display employee details along with their respective department names."
      ]
    },
    {
      "cell_type": "markdown",
      "metadata": {
        "id": "gOBD8-jk6IJ2"
      },
      "source": [
        "The way to create a _foreign key_ above is the same as creating a _primary key_. The only difference is we need to add `REFERENCES` to determine which table will be used as an _index_. Thus, the `employee` table has a column that references the data in the `department` table based on the `id` column.\n",
        "\n",
        "### SQL Joins\n",
        "\n",
        "Previously, we have learned how to retrieve data from a table. But, what if we want to retrieve data from two tables? Suppose we want to retrieve data from table `A` and table `B`, and then display both data in one table. To do this, we can use the concept of **join**.\n",
        "\n",
        "---\n",
        "\n",
        "Please note, we **can only** join tables that have a _foreign key_ to the referenced table\n",
        "\n",
        "---\n",
        "\n",
        "Suppose there are 2 tables, `customers` and `orders`. The `customers` table has the following data:\n",
        "\n",
        "| id  | name  | address           |\n",
        "| --- | ----- | ----------------- |\n",
        "| 1   | Rizki | Jl. Kebon Jeruk   |\n",
        "| 2   | Andi  | Jl. Kebon Sirih   |\n",
        "| 3   | Budi  | Jl. Kebon Melati  |\n",
        "| 4   | Caca  | Jl. Kebon Anggrek |\n",
        "\n",
        "The `orders` table has the following data:\n",
        "\n",
        "| id   | customer_id | order_date |\n",
        "| ---- | ----------- | ---------- |\n",
        "| 1001 | 1           | 2020-01-01 |\n",
        "| 1002 | 2           | 2020-01-02 |\n",
        "| 1003 | 3           | 2020-01-03 |\n",
        "| 1004 | 4           | 2020-01-04 |\n",
        "\n",
        "Notice that the `customer_id` column in the `orders` table refers to `id` in the `customers` table. The relationship between the two tables above is the `customer_id` column.\n",
        "\n",
        "We can join the two tables with a table display like the following:\n",
        "\n",
        "| order_id | customer_name | customer_address  | order_date |\n",
        "| -------- | ------------- | ----------------- | ---------- |\n",
        "| 1001     | Rizki         | Jl. Kebon Jeruk   | 2020-01-01 |\n",
        "| 1002     | Andi          | Jl. Kebon Sirih   | 2020-01-02 |\n",
        "| 1003     | Budi          | Jl. Kebon Melati  | 2020-01-03 |\n",
        "| 1004     | Caca          | Jl. Kebon Anggrek | 2020-01-04 |\n",
        "\n",
        "The first column is the `id` data in the `orders` table, the second and third columns are the `name` and `address` data in the `customers` table. Finally, the `order_date` data in the `orders` table. The data was successfully combined because there is a reference in the `orders` table.\n",
        "\n",
        "To perform a join, we can use the `SELECT` command by adding `JOIN` and `ON`:"
      ]
    },
    {
      "cell_type": "code",
      "execution_count": null,
      "metadata": {
        "vscode": {
          "languageId": "sql"
        },
        "id": "eFbZMxi76IJ2"
      },
      "outputs": [],
      "source": [
        "SELECT * FROM <table1> -- query command\n",
        "INNER JOIN <table2>\n",
        "ON <table1>.<key> = <table2>.<key>"
      ]
    },
    {
      "cell_type": "markdown",
      "metadata": {
        "id": "reB1xJcm6IJ3"
      },
      "source": [
        "Where `<table1>` and `<table2>` are the names of the tables to be merged using the `INNER JOIN` command, `<key>` is the column being referenced (_primary key_ or _foreign key_) using the `ON` command and compared with `=`.\n",
        "\n",
        "For example, we can join the `customers` and `orders` tables using `inner join` with the following _query_:"
      ]
    },
    {
      "cell_type": "code",
      "execution_count": null,
      "metadata": {
        "vscode": {
          "languageId": "sql"
        },
        "id": "4EMRpG5t6IJ3"
      },
      "outputs": [],
      "source": [
        "SELECT * FROM orders\n",
        "INNER JOIN customers\n",
        "ON orders.customer_id = customers.id;"
      ]
    },
    {
      "cell_type": "markdown",
      "metadata": {
        "id": "zPjOELB-6IJ3"
      },
      "source": [
        "The result of the _query_ is as follows:\n",
        "\n",
        "| id   | customer_id | order_date | id  | name  | address           |\n",
        "| ---- | ----------- | ---------- | --- | ----- | ----------------- |\n",
        "| 1001 | 1           | 2020-01-01 | 1   | Rizki | Jl. Kebon Jeruk   |\n",
        "| 1002 | 2           | 2020-01-02 | 2   | Andi  | Jl. Kebon Sirih   |\n",
        "| 1003 | 3           | 2020-01-03 | 3   | Budi  | Jl. Kebon Melati  |\n",
        "| 1004 | 4           | 2020-01-04 | 4   | Caca  | Jl. Kebon Anggrek |\n",
        "\n",
        "When joining tables, the columns from the joined table will be on the right. All columns from the `orders` table will be displayed from the left (`id`, `customer_id`, `order_date`) and then display the columns from the `customers` table (`id`, `name`, `address`). We can tidy up the merged columns by selecting to `SELECT` only a few columns using the syntax `table_name.column_name`. For example:"
      ]
    },
    {
      "cell_type": "code",
      "execution_count": null,
      "metadata": {
        "vscode": {
          "languageId": "sql"
        },
        "id": "kvRteOCF6IJ3"
      },
      "outputs": [],
      "source": [
        "SELECT\n",
        "    orders.id AS order_id,\n",
        "    customers.name AS customer_name,\n",
        "    customers.address AS customer_address,\n",
        "    orders.order_date\n",
        "FROM orders\n",
        "INNER JOIN customers\n",
        "ON orders.customer_id = customers.id;"
      ]
    },
    {
      "cell_type": "markdown",
      "metadata": {
        "id": "PGA7fqqG6IJ3"
      },
      "source": [
        "In the `SELECT` command, we take 2 columns in the `orders` table, namely `id` and `order_date`, and 2 columns in the `customers` table, namely `name` and `address`. We rename the `id` column in the `orders` table to `order_id` using `AS`, as well as for `name` and `address` in the `customers` table.\n",
        "\n",
        "The result of the _query_ will be according to what we want:\n",
        "\n",
        "| order_id | customer_name | customer_address  | order_date |\n",
        "| -------- | ------------- | ----------------- | ---------- |\n",
        "| 1001     | Rizki         | Jl. Kebon Jeruk   | 2020-01-01 |\n",
        "| 1002     | Andi          | Jl. Kebon Sirih   | 2020-01-02 |\n",
        "| 1003     | Budi          | Jl. Kebon Melati  | 2020-01-03 |\n",
        "| 1004     | Caca          | Jl. Kebon Anggrek | 2020-01-04 |"
      ]
    },
    {
      "cell_type": "markdown",
      "metadata": {
        "id": "nDcr9Mtt6IJ4"
      },
      "source": [
        "Finally, remember to close the connection to the database after all operations."
      ]
    },
    {
      "cell_type": "code",
      "execution_count": null,
      "metadata": {
        "id": "erqoD3SI6IJ4"
      },
      "outputs": [],
      "source": [
        "# Close the connection\n",
        "conn.close()"
      ]
    },
    {
      "cell_type": "markdown",
      "metadata": {
        "id": "VpQgOtL96IJ4"
      },
      "source": [
        "## Database Transaction\n",
        "\n",
        "### What is a transaction?\n",
        "\n",
        "A _Transaction_ is a set of _SQL Commands_ designed to execute a set of interrelated actions. We can control each action that occurs by determining when the transaction begins and ends. A transaction can be canceled if an error occurs in one of the actions taken.\n",
        "\n",
        "### Why use a transaction?\n",
        "\n",
        "Let's take an example with a sales case study. Each sales process will carry out the process of selecting goods, payment, increasing the total goods sold, and recording the transaction with the selling price. And each of these processes is stored in a _database_ with different tables. The data in the _database_ is as follows:\n",
        "\n",
        "`Products` table with example data:\n",
        "\n",
        "| id  | name      | price | stock |\n",
        "| --- | --------- | ----- | ----- |\n",
        "| 1   | Product A | 10000 | 10    |\n",
        "| 2   | Product B | 20000 | 20    |\n",
        "\n",
        "`Sales` table with example data:\n",
        "\n",
        "| id  | product_id | quantity | total_price |\n",
        "| --- | ---------- | -------- | ----------- |\n",
        "| 1   | 1          | 2        | 20000       |\n",
        "| 2   | 2          | 1        | 20000       |\n",
        "\n",
        "`Transactions` table with example data:\n",
        "\n",
        "| id  | date       | product_id | amount |\n",
        "| --- | ---------- | ---------- | ------ |\n",
        "| 1   | 2020-01-01 | 1          | 15000  |\n",
        "\n",
        "Suppose there is a _customer_ using our application, by purchasing one `Product A` for `Rp. 15,000`. And the _customer_ made the purchase on `2020-01-01`.\n",
        "\n",
        "When a sale occurs, we will reduce the total stock of goods in the `products` table column `stock`, then add the total sales in the `sales` table, and record the sales transaction in the `transactions` table. So, the command process is as follows:\n",
        "\n",
        "```sql\n",
        "-- step 1: get the product data to be searched\n",
        "SELECT * FROM products WHERE id = 1;\n",
        "\n",
        "-- step 2: reduce product stock\n",
        "UPDATE products SET stock = stock - 1 WHERE id = 1;\n",
        "\n",
        "-- step 3: increase total sales\n",
        "INSERT INTO sales (product_id, quantity, total_price) VALUES (1, 1, 10000);\n",
        "\n",
        "-- step 4: record the transaction\n",
        "INSERT INTO transactions (date, product_id, amount) VALUES ('2020-01-01', 1, 15000);\n",
        "\n",
        "-- done\n",
        "```\n",
        "\n",
        "![sql-transaction](https://storage.googleapis.com/rg-ai-bootcamp/database/sql-transaction-1.svg)\n",
        "\n",
        "There are 4 _SQL commands_ run to perform the sales transaction process: get the purchased _product_ data in the `products` table, then perform an _update_ by reducing stock by 1 in the `products` table, add total sales in the `sales` table, and record the sales transaction in the `transactions` table. These commands will always be run if there is a sales process in our application.\n",
        "\n",
        "However, what if when getting the _product_ it turns out the _stock_ is empty, or when recording the transaction an _error_ occurs. This will result in data inconsistency between each table. The _stock_ may have been reduced by 1, and in the `sales` table there is already an addition of 1 sale, but in the `transactions` table no transaction has been recorded. This will confuse us to check these data.\n",
        "\n",
        "![sql-transaction-err](https://storage.googleapis.com/rg-ai-bootcamp/database/sql-transaction-err.svg)\n",
        "\n",
        "To overcome this data inconsistency, we must return or cancel all _SQL commands_ that have previously been performed. Therefore, we need to use a **_transaction_**.\n",
        "\n",
        "With a _transaction_, we can ensure that all commands within a _transaction_ will always be run simultaneously. If there is an _error_, then all commands within a _transaction_ will be canceled.\n",
        "\n",
        "So there are only 2 conditions, that is all commands in the _transaction_ are successfully executed.\n",
        "\n",
        "![sql-transaction-success](https://storage.googleapis.com/rg-ai-bootcamp/database/sql-transaction-done.svg)\n",
        "\n",
        "Or cancel all commands if there is an _error_.\n",
        "\n",
        "![sql-transaction-rollback](https://storage.googleapis.com/rg-ai-bootcamp/database/sql-transaction-rollback.svg)\n",
        "\n",
        "### SQL Transaction\n",
        "\n",
        "To use a _transaction_ in SQL, we need to understand the beginning of the process and the end of the process. The beginning of the process is when we start a _transaction_, and the end of the process is when we end a _transaction_.\n",
        "\n",
        "We use the `BEGIN TRANSACTION` command to start a _transaction_, and the `COMMIT` command is used to complete a _transaction_.\n",
        "\n",
        "```sql\n",
        "BEGIN TRANSACTION;\n",
        "-- SQL command\n",
        "\n",
        "COMMIT;\n",
        "```\n",
        "\n",
        "Based on the example above, we just need to insert 4 _SQL commands_ into the _transaction_.\n",
        "\n",
        "```sql\n",
        "BEGIN TRANSACTION;\n",
        "\n",
        "-- step 1: get the product data to be searched\n",
        "SELECT * FROM products WHERE id = 1;\n",
        "\n",
        "-- step 2: reduce product stock\n",
        "UPDATE products SET stock = stock - 1 WHERE id = 1;\n",
        "\n",
        "-- step 3: increase total sales\n",
        "INSERT INTO sales (product_id, quantity, total_price) VALUES (1, 1, 10000);\n",
        "\n",
        "-- step 4: record the transaction\n",
        "INSERT INTO transactions (date, product_id, amount) VALUES ('2020-01-01', 1, 15000);\n",
        "\n",
        "COMMIT;\n",
        "```\n",
        "\n",
        "We can issue a `ROLLBACK` command to cancel a _transaction_ if there is an _error_ or unmet condition.\n",
        "\n",
        "```sql\n",
        "BEGIN TRANSACTION;\n",
        "-- SQL command\n",
        "\n",
        "ROLLBACK;\n",
        "```\n",
        "\n",
        "You can apply a _transaction_ in an [online SQL compiler](https://onecompiler.com/sqlite) or SQLite/DBMS _tool_ that you use."
      ]
    },
    {
      "cell_type": "code",
      "source": [],
      "metadata": {
        "id": "72BWTILT7hRv"
      },
      "execution_count": null,
      "outputs": []
    }
  ],
  "metadata": {
    "kernelspec": {
      "display_name": "Python 3 (ipykernel)",
      "language": "python",
      "name": "python3"
    },
    "language_info": {
      "codemirror_mode": {
        "name": "ipython",
        "version": 3
      },
      "file_extension": ".py",
      "mimetype": "text/x-python",
      "name": "python",
      "nbconvert_exporter": "python",
      "pygments_lexer": "ipython3",
      "version": "3.11.3"
    },
    "colab": {
      "provenance": []
    }
  },
  "nbformat": 4,
  "nbformat_minor": 0
}