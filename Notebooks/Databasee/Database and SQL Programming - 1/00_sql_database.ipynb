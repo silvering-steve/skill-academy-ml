{
  "cells": [
    {
      "cell_type": "markdown",
      "metadata": {
        "id": "uscPsv1r5Mkx"
      },
      "source": [
        "# SQL Fundamentals with Python - Database"
      ]
    },
    {
      "cell_type": "markdown",
      "metadata": {
        "id": "mylQOA4E5Mk2"
      },
      "source": [
        "## Database\n",
        "\n",
        "### Data vs Information\n",
        "\n",
        "The terms **Data** and **Information** are often used interchangeably, but they actually have distinct meanings.\n",
        "\n",
        "**Data** refers to raw facts or statistics in the form of text, numbers, symbols, etc., that **do not carry specific meaning or purpose**. On the other hand, Information is knowledge derived from study, communication, research, or instructions. Essentially, information is obtained from **analyzing and interpreting** one or more pieces of **data**.\n",
        "\n",
        "For example:\n",
        "\n",
        "- The number of likes on a social media post is a piece of **data**. When combined with other social media engagement statistics, like follows, comments, and shares, it becomes **information** that can tell us which social media platform is performing the best.\n",
        "\n",
        "### Introducing to database\n",
        "\n",
        "A _database_ is a systematic collection of **data**, managed in accordance with interrelated rules, making it easier to transform data into **information**.\n",
        "\n",
        "When managing a database, some essential characteristics to consider are:\n",
        "\n",
        "- Speed of data retrieval\n",
        "- Storage space efficiency\n",
        "- Reduction or elimination of data redundancy\n",
        "- Accuracy in establishing relationships between data based on data type rules, data domains, and data uniqueness.\n",
        "\n",
        "### Database system\n",
        "\n",
        "A _database_, or \"basis data\" in Indonesian, is comprised of a basis (warehouse) and data (real-world facts representing objects) like people, goods, and so forth, manifested in the form of letters, numbers, symbols, or combinations thereof.\n",
        "\n",
        "A database is usually managed by a **DBMS** (Database Management System) that acts as an interface between the database and its users. Users here can be either humans or applications. DBMS can be used by users to view, change, and manage information in the database.\n",
        "\n",
        "![DBMS](https://storage.googleapis.com/rg-ai-bootcamp/database/dbms.jpg)\n",
        "\n",
        "DBMS (Sumber: [digitaloceanspaces.com](https://niagaspace.sgp1.digitaloceanspaces.com/blog/wp-content/uploads/2022/04/21112512/dbms-adalah.jpg))\n",
        "\n",
        "Some of the most popular DBMSs are:\n",
        "\n",
        "- [MySQL](https://www.mysql.com/): A SQL-based relational DBMS with a client-server architecture.\n",
        "- [Elasticsearch](https://www.elastic.co/elasticsearch/): A distributed, RESTful search and analytics engine capable of addressing a growing number of use cases. It centrally stores your data for lightning fast search, fine-tuned relevancy, and powerful analytics that scale with ease.\n",
        "- [SQLite](https://www.sqlite.org/index.html): A relational database management system embedded into applications. SQLite stores all data in a single disk file and is very popular for mobile and desktop applications that require lightweight, local data storage.\n",
        "- And others\n",
        "\n",
        "Data is typically modeled in rows and columns within a table. This structure makes it easier to perform addition, modification, deletion, and other operations. This model is common in relational databases (RDBMSs) that use **SQL** _(Structured Query Language)_.\n",
        "\n",
        "SQL is a programming language used to manipulate, search, access, and perform other operations within a database.\n",
        "\n",
        "But how does this differ from a **Spreadsheet** (like Excel, or Google Sheets)? Both are easy to use but have clear differences:\n",
        "\n",
        "| Differences | Spreadsheet | Database |\n",
        "| ----------- | ----------- | -------- |\n",
        "| Usage | For accounting tasks | Used by large companies to store large amounts of data |\n",
        "| Who can access | Designed for single-user, but can be used by multiple users in turns | Can be accessed by multiple users or applications at once |\n",
        "| Amount of data that can be stored | Data storage is limited | Can store large amounts of data |\n",
        "\n",
        "To illustrate the usage of a database, we will use **SQL** with SQLite as the relational database management system (RDBMS).\n",
        "\n",
        "Up until now, when creating applications in Python, we've been storing data in memory in the form of a list of objects:"
      ]
    },
    {
      "cell_type": "code",
      "execution_count": null,
      "metadata": {
        "id": "rN9hhuaT5Mk3",
        "outputId": "ce59efdd-7f54-4571-c48a-11022d8aca2b",
        "colab": {
          "base_uri": "https://localhost:8080/"
        }
      },
      "outputs": [
        {
          "output_type": "stream",
          "name": "stdout",
          "text": [
            "{'ID': 1, 'username': 'aditira', 'grade': 83}\n",
            "{'ID': 2, 'username': 'gina', 'grade': 77}\n",
            "{'ID': 3, 'username': 'ria', 'grade': 64}\n"
          ]
        }
      ],
      "source": [
        "class StudentRow:\n",
        "    def __init__(self, ID, username, grade):\n",
        "        self.ID = ID\n",
        "        self.username = username\n",
        "        self.grade = grade\n",
        "\n",
        "students = []\n",
        "students.append(StudentRow(1, 'aditira', 83))\n",
        "students.append(StudentRow(2, 'gina', 77))\n",
        "students.append(StudentRow(3, 'ria', 64))\n",
        "\n",
        "for student in students:\n",
        "    print(student.__dict__)"
      ]
    },
    {
      "cell_type": "markdown",
      "metadata": {
        "id": "1vLeRd0T5Mk5"
      },
      "source": [
        "This approach has some challenges, such as the data not being permanently stored when the application is terminated, and the data is hard to process because it requires several lines of Python code to manipulate the data.\n",
        "\n",
        "For example, if we want to get the average `Grade` from the above student list:"
      ]
    },
    {
      "cell_type": "code",
      "execution_count": null,
      "metadata": {
        "id": "mxHrZExF5Mk5",
        "outputId": "3c04e115-bde5-4c06-8988-fb753d9b818a",
        "colab": {
          "base_uri": "https://localhost:8080/"
        }
      },
      "outputs": [
        {
          "output_type": "stream",
          "name": "stdout",
          "text": [
            "Grade Average is  74.66666666666667\n"
          ]
        }
      ],
      "source": [
        "sum_of_grades = sum(student.grade for student in students)\n",
        "average_grade = sum_of_grades / len(students)\n",
        "\n",
        "print(\"Grade Average is \", average_grade)"
      ]
    },
    {
      "cell_type": "markdown",
      "metadata": {
        "id": "kKSvLdtw5Mk6"
      },
      "source": [
        "This requires about **3 lines** of code to get the average Grade. Now let's compare this with using **SQL**.\n",
        "\n",
        "Assuming we already have a `students` table with `id`, `username`, and `grade` columns using SQLite. We can input data with the following SQL command:"
      ]
    },
    {
      "cell_type": "code",
      "execution_count": null,
      "metadata": {
        "id": "ZuTf9-Fn5Mk6",
        "outputId": "c77a04da-7905-4232-c8ab-e3c66c0cbcd2",
        "colab": {
          "base_uri": "https://localhost:8080/"
        }
      },
      "outputs": [
        {
          "output_type": "execute_result",
          "data": {
            "text/plain": [
              "<sqlite3.Cursor at 0x7b16ee1aa0c0>"
            ]
          },
          "metadata": {},
          "execution_count": 3
        }
      ],
      "source": [
        "import sqlite3\n",
        "\n",
        "# Connect to SQLite database in memory\n",
        "conn = sqlite3.connect(':memory:')\n",
        "\n",
        "# Create a cursor object\n",
        "c = conn.cursor()\n",
        "\n",
        "# Create table\n",
        "c.execute(\"\"\"\n",
        "    CREATE TABLE students (\n",
        "        id INTEGER PRIMARY KEY,\n",
        "        username TEXT,\n",
        "        grade INTEGER\n",
        "    )\n",
        "\"\"\")"
      ]
    },
    {
      "cell_type": "markdown",
      "metadata": {
        "id": "ldz2GpwJ5Mk7"
      },
      "source": [
        "```sql\n",
        "INSERT INTO public.students (username, grade) values ('aditira',83),('gina',77),('ria',64);\n",
        "```"
      ]
    },
    {
      "cell_type": "code",
      "execution_count": null,
      "metadata": {
        "id": "r9ZmsNfE5Mk8",
        "outputId": "2ef6d1a0-5369-48b8-80c3-57317c2ad139",
        "colab": {
          "base_uri": "https://localhost:8080/"
        }
      },
      "outputs": [
        {
          "output_type": "execute_result",
          "data": {
            "text/plain": [
              "<sqlite3.Cursor at 0x7b16ee1aa0c0>"
            ]
          },
          "metadata": {},
          "execution_count": 4
        }
      ],
      "source": [
        "# Insert values\n",
        "c.execute(\"\"\"\n",
        "    INSERT INTO students (username, grade)\n",
        "    VALUES\n",
        "        ('aditira',83),\n",
        "        ('gina',77),\n",
        "        ('ria',64)\n",
        "\"\"\")"
      ]
    },
    {
      "cell_type": "markdown",
      "metadata": {
        "id": "ShvBhKnv5Mk8"
      },
      "source": [
        "And we can retrieve the data with this simple SQL command:\n",
        "\n",
        "```sql\n",
        "SELECT * FROM students;\n",
        "```"
      ]
    },
    {
      "cell_type": "code",
      "execution_count": null,
      "metadata": {
        "id": "0doKZDVR5Mk9",
        "outputId": "0e242ece-232c-43d1-f392-94e52366e46b",
        "colab": {
          "base_uri": "https://localhost:8080/",
          "height": 143
        }
      },
      "outputs": [
        {
          "output_type": "execute_result",
          "data": {
            "text/plain": [
              "   id username  grade\n",
              "0   1  aditira     83\n",
              "1   2     gina     77\n",
              "2   3      ria     64"
            ],
            "text/html": [
              "\n",
              "  <div id=\"df-aaf0b132-bcab-42d6-9534-bbad6e7e7486\" class=\"colab-df-container\">\n",
              "    <div>\n",
              "<style scoped>\n",
              "    .dataframe tbody tr th:only-of-type {\n",
              "        vertical-align: middle;\n",
              "    }\n",
              "\n",
              "    .dataframe tbody tr th {\n",
              "        vertical-align: top;\n",
              "    }\n",
              "\n",
              "    .dataframe thead th {\n",
              "        text-align: right;\n",
              "    }\n",
              "</style>\n",
              "<table border=\"1\" class=\"dataframe\">\n",
              "  <thead>\n",
              "    <tr style=\"text-align: right;\">\n",
              "      <th></th>\n",
              "      <th>id</th>\n",
              "      <th>username</th>\n",
              "      <th>grade</th>\n",
              "    </tr>\n",
              "  </thead>\n",
              "  <tbody>\n",
              "    <tr>\n",
              "      <th>0</th>\n",
              "      <td>1</td>\n",
              "      <td>aditira</td>\n",
              "      <td>83</td>\n",
              "    </tr>\n",
              "    <tr>\n",
              "      <th>1</th>\n",
              "      <td>2</td>\n",
              "      <td>gina</td>\n",
              "      <td>77</td>\n",
              "    </tr>\n",
              "    <tr>\n",
              "      <th>2</th>\n",
              "      <td>3</td>\n",
              "      <td>ria</td>\n",
              "      <td>64</td>\n",
              "    </tr>\n",
              "  </tbody>\n",
              "</table>\n",
              "</div>\n",
              "    <div class=\"colab-df-buttons\">\n",
              "\n",
              "  <div class=\"colab-df-container\">\n",
              "    <button class=\"colab-df-convert\" onclick=\"convertToInteractive('df-aaf0b132-bcab-42d6-9534-bbad6e7e7486')\"\n",
              "            title=\"Convert this dataframe to an interactive table.\"\n",
              "            style=\"display:none;\">\n",
              "\n",
              "  <svg xmlns=\"http://www.w3.org/2000/svg\" height=\"24px\" viewBox=\"0 -960 960 960\">\n",
              "    <path d=\"M120-120v-720h720v720H120Zm60-500h600v-160H180v160Zm220 220h160v-160H400v160Zm0 220h160v-160H400v160ZM180-400h160v-160H180v160Zm440 0h160v-160H620v160ZM180-180h160v-160H180v160Zm440 0h160v-160H620v160Z\"/>\n",
              "  </svg>\n",
              "    </button>\n",
              "\n",
              "  <style>\n",
              "    .colab-df-container {\n",
              "      display:flex;\n",
              "      gap: 12px;\n",
              "    }\n",
              "\n",
              "    .colab-df-convert {\n",
              "      background-color: #E8F0FE;\n",
              "      border: none;\n",
              "      border-radius: 50%;\n",
              "      cursor: pointer;\n",
              "      display: none;\n",
              "      fill: #1967D2;\n",
              "      height: 32px;\n",
              "      padding: 0 0 0 0;\n",
              "      width: 32px;\n",
              "    }\n",
              "\n",
              "    .colab-df-convert:hover {\n",
              "      background-color: #E2EBFA;\n",
              "      box-shadow: 0px 1px 2px rgba(60, 64, 67, 0.3), 0px 1px 3px 1px rgba(60, 64, 67, 0.15);\n",
              "      fill: #174EA6;\n",
              "    }\n",
              "\n",
              "    .colab-df-buttons div {\n",
              "      margin-bottom: 4px;\n",
              "    }\n",
              "\n",
              "    [theme=dark] .colab-df-convert {\n",
              "      background-color: #3B4455;\n",
              "      fill: #D2E3FC;\n",
              "    }\n",
              "\n",
              "    [theme=dark] .colab-df-convert:hover {\n",
              "      background-color: #434B5C;\n",
              "      box-shadow: 0px 1px 3px 1px rgba(0, 0, 0, 0.15);\n",
              "      filter: drop-shadow(0px 1px 2px rgba(0, 0, 0, 0.3));\n",
              "      fill: #FFFFFF;\n",
              "    }\n",
              "  </style>\n",
              "\n",
              "    <script>\n",
              "      const buttonEl =\n",
              "        document.querySelector('#df-aaf0b132-bcab-42d6-9534-bbad6e7e7486 button.colab-df-convert');\n",
              "      buttonEl.style.display =\n",
              "        google.colab.kernel.accessAllowed ? 'block' : 'none';\n",
              "\n",
              "      async function convertToInteractive(key) {\n",
              "        const element = document.querySelector('#df-aaf0b132-bcab-42d6-9534-bbad6e7e7486');\n",
              "        const dataTable =\n",
              "          await google.colab.kernel.invokeFunction('convertToInteractive',\n",
              "                                                    [key], {});\n",
              "        if (!dataTable) return;\n",
              "\n",
              "        const docLinkHtml = 'Like what you see? Visit the ' +\n",
              "          '<a target=\"_blank\" href=https://colab.research.google.com/notebooks/data_table.ipynb>data table notebook</a>'\n",
              "          + ' to learn more about interactive tables.';\n",
              "        element.innerHTML = '';\n",
              "        dataTable['output_type'] = 'display_data';\n",
              "        await google.colab.output.renderOutput(dataTable, element);\n",
              "        const docLink = document.createElement('div');\n",
              "        docLink.innerHTML = docLinkHtml;\n",
              "        element.appendChild(docLink);\n",
              "      }\n",
              "    </script>\n",
              "  </div>\n",
              "\n",
              "\n",
              "<div id=\"df-febd2b13-a760-4828-911b-f4f6a341f4cc\">\n",
              "  <button class=\"colab-df-quickchart\" onclick=\"quickchart('df-febd2b13-a760-4828-911b-f4f6a341f4cc')\"\n",
              "            title=\"Suggest charts\"\n",
              "            style=\"display:none;\">\n",
              "\n",
              "<svg xmlns=\"http://www.w3.org/2000/svg\" height=\"24px\"viewBox=\"0 0 24 24\"\n",
              "     width=\"24px\">\n",
              "    <g>\n",
              "        <path d=\"M19 3H5c-1.1 0-2 .9-2 2v14c0 1.1.9 2 2 2h14c1.1 0 2-.9 2-2V5c0-1.1-.9-2-2-2zM9 17H7v-7h2v7zm4 0h-2V7h2v10zm4 0h-2v-4h2v4z\"/>\n",
              "    </g>\n",
              "</svg>\n",
              "  </button>\n",
              "\n",
              "<style>\n",
              "  .colab-df-quickchart {\n",
              "      --bg-color: #E8F0FE;\n",
              "      --fill-color: #1967D2;\n",
              "      --hover-bg-color: #E2EBFA;\n",
              "      --hover-fill-color: #174EA6;\n",
              "      --disabled-fill-color: #AAA;\n",
              "      --disabled-bg-color: #DDD;\n",
              "  }\n",
              "\n",
              "  [theme=dark] .colab-df-quickchart {\n",
              "      --bg-color: #3B4455;\n",
              "      --fill-color: #D2E3FC;\n",
              "      --hover-bg-color: #434B5C;\n",
              "      --hover-fill-color: #FFFFFF;\n",
              "      --disabled-bg-color: #3B4455;\n",
              "      --disabled-fill-color: #666;\n",
              "  }\n",
              "\n",
              "  .colab-df-quickchart {\n",
              "    background-color: var(--bg-color);\n",
              "    border: none;\n",
              "    border-radius: 50%;\n",
              "    cursor: pointer;\n",
              "    display: none;\n",
              "    fill: var(--fill-color);\n",
              "    height: 32px;\n",
              "    padding: 0;\n",
              "    width: 32px;\n",
              "  }\n",
              "\n",
              "  .colab-df-quickchart:hover {\n",
              "    background-color: var(--hover-bg-color);\n",
              "    box-shadow: 0 1px 2px rgba(60, 64, 67, 0.3), 0 1px 3px 1px rgba(60, 64, 67, 0.15);\n",
              "    fill: var(--button-hover-fill-color);\n",
              "  }\n",
              "\n",
              "  .colab-df-quickchart-complete:disabled,\n",
              "  .colab-df-quickchart-complete:disabled:hover {\n",
              "    background-color: var(--disabled-bg-color);\n",
              "    fill: var(--disabled-fill-color);\n",
              "    box-shadow: none;\n",
              "  }\n",
              "\n",
              "  .colab-df-spinner {\n",
              "    border: 2px solid var(--fill-color);\n",
              "    border-color: transparent;\n",
              "    border-bottom-color: var(--fill-color);\n",
              "    animation:\n",
              "      spin 1s steps(1) infinite;\n",
              "  }\n",
              "\n",
              "  @keyframes spin {\n",
              "    0% {\n",
              "      border-color: transparent;\n",
              "      border-bottom-color: var(--fill-color);\n",
              "      border-left-color: var(--fill-color);\n",
              "    }\n",
              "    20% {\n",
              "      border-color: transparent;\n",
              "      border-left-color: var(--fill-color);\n",
              "      border-top-color: var(--fill-color);\n",
              "    }\n",
              "    30% {\n",
              "      border-color: transparent;\n",
              "      border-left-color: var(--fill-color);\n",
              "      border-top-color: var(--fill-color);\n",
              "      border-right-color: var(--fill-color);\n",
              "    }\n",
              "    40% {\n",
              "      border-color: transparent;\n",
              "      border-right-color: var(--fill-color);\n",
              "      border-top-color: var(--fill-color);\n",
              "    }\n",
              "    60% {\n",
              "      border-color: transparent;\n",
              "      border-right-color: var(--fill-color);\n",
              "    }\n",
              "    80% {\n",
              "      border-color: transparent;\n",
              "      border-right-color: var(--fill-color);\n",
              "      border-bottom-color: var(--fill-color);\n",
              "    }\n",
              "    90% {\n",
              "      border-color: transparent;\n",
              "      border-bottom-color: var(--fill-color);\n",
              "    }\n",
              "  }\n",
              "</style>\n",
              "\n",
              "  <script>\n",
              "    async function quickchart(key) {\n",
              "      const quickchartButtonEl =\n",
              "        document.querySelector('#' + key + ' button');\n",
              "      quickchartButtonEl.disabled = true;  // To prevent multiple clicks.\n",
              "      quickchartButtonEl.classList.add('colab-df-spinner');\n",
              "      try {\n",
              "        const charts = await google.colab.kernel.invokeFunction(\n",
              "            'suggestCharts', [key], {});\n",
              "      } catch (error) {\n",
              "        console.error('Error during call to suggestCharts:', error);\n",
              "      }\n",
              "      quickchartButtonEl.classList.remove('colab-df-spinner');\n",
              "      quickchartButtonEl.classList.add('colab-df-quickchart-complete');\n",
              "    }\n",
              "    (() => {\n",
              "      let quickchartButtonEl =\n",
              "        document.querySelector('#df-febd2b13-a760-4828-911b-f4f6a341f4cc button');\n",
              "      quickchartButtonEl.style.display =\n",
              "        google.colab.kernel.accessAllowed ? 'block' : 'none';\n",
              "    })();\n",
              "  </script>\n",
              "</div>\n",
              "    </div>\n",
              "  </div>\n"
            ]
          },
          "metadata": {},
          "execution_count": 5
        }
      ],
      "source": [
        "import pandas as pd\n",
        "\n",
        "# Commit the transaction\n",
        "conn.commit()\n",
        "\n",
        "# Retrieve data and convert into DataFrame\n",
        "pd.read_sql_query(\"SELECT * FROM students\", conn)"
      ]
    },
    {
      "cell_type": "markdown",
      "metadata": {
        "id": "UUBvVvte5Mk9"
      },
      "source": [
        "Quite easy, isn't it! 😎 And to get the average value of student `grades` is even easier, with this simple SQL command:\n",
        "\n",
        "```sql\n",
        "SELECT AVG(grade) FROM students;\n",
        "```"
      ]
    },
    {
      "cell_type": "code",
      "execution_count": null,
      "metadata": {
        "id": "O_yjuZw-5Mk9",
        "outputId": "713c2e7c-e247-488e-c6ae-bb7c0c069a5a",
        "colab": {
          "base_uri": "https://localhost:8080/",
          "height": 81
        }
      },
      "outputs": [
        {
          "output_type": "execute_result",
          "data": {
            "text/plain": [
              "   AVG(grade)\n",
              "0   74.666667"
            ],
            "text/html": [
              "\n",
              "  <div id=\"df-02e0f66f-8d9f-4fc8-801d-fee35f92e33b\" class=\"colab-df-container\">\n",
              "    <div>\n",
              "<style scoped>\n",
              "    .dataframe tbody tr th:only-of-type {\n",
              "        vertical-align: middle;\n",
              "    }\n",
              "\n",
              "    .dataframe tbody tr th {\n",
              "        vertical-align: top;\n",
              "    }\n",
              "\n",
              "    .dataframe thead th {\n",
              "        text-align: right;\n",
              "    }\n",
              "</style>\n",
              "<table border=\"1\" class=\"dataframe\">\n",
              "  <thead>\n",
              "    <tr style=\"text-align: right;\">\n",
              "      <th></th>\n",
              "      <th>AVG(grade)</th>\n",
              "    </tr>\n",
              "  </thead>\n",
              "  <tbody>\n",
              "    <tr>\n",
              "      <th>0</th>\n",
              "      <td>74.666667</td>\n",
              "    </tr>\n",
              "  </tbody>\n",
              "</table>\n",
              "</div>\n",
              "    <div class=\"colab-df-buttons\">\n",
              "\n",
              "  <div class=\"colab-df-container\">\n",
              "    <button class=\"colab-df-convert\" onclick=\"convertToInteractive('df-02e0f66f-8d9f-4fc8-801d-fee35f92e33b')\"\n",
              "            title=\"Convert this dataframe to an interactive table.\"\n",
              "            style=\"display:none;\">\n",
              "\n",
              "  <svg xmlns=\"http://www.w3.org/2000/svg\" height=\"24px\" viewBox=\"0 -960 960 960\">\n",
              "    <path d=\"M120-120v-720h720v720H120Zm60-500h600v-160H180v160Zm220 220h160v-160H400v160Zm0 220h160v-160H400v160ZM180-400h160v-160H180v160Zm440 0h160v-160H620v160ZM180-180h160v-160H180v160Zm440 0h160v-160H620v160Z\"/>\n",
              "  </svg>\n",
              "    </button>\n",
              "\n",
              "  <style>\n",
              "    .colab-df-container {\n",
              "      display:flex;\n",
              "      gap: 12px;\n",
              "    }\n",
              "\n",
              "    .colab-df-convert {\n",
              "      background-color: #E8F0FE;\n",
              "      border: none;\n",
              "      border-radius: 50%;\n",
              "      cursor: pointer;\n",
              "      display: none;\n",
              "      fill: #1967D2;\n",
              "      height: 32px;\n",
              "      padding: 0 0 0 0;\n",
              "      width: 32px;\n",
              "    }\n",
              "\n",
              "    .colab-df-convert:hover {\n",
              "      background-color: #E2EBFA;\n",
              "      box-shadow: 0px 1px 2px rgba(60, 64, 67, 0.3), 0px 1px 3px 1px rgba(60, 64, 67, 0.15);\n",
              "      fill: #174EA6;\n",
              "    }\n",
              "\n",
              "    .colab-df-buttons div {\n",
              "      margin-bottom: 4px;\n",
              "    }\n",
              "\n",
              "    [theme=dark] .colab-df-convert {\n",
              "      background-color: #3B4455;\n",
              "      fill: #D2E3FC;\n",
              "    }\n",
              "\n",
              "    [theme=dark] .colab-df-convert:hover {\n",
              "      background-color: #434B5C;\n",
              "      box-shadow: 0px 1px 3px 1px rgba(0, 0, 0, 0.15);\n",
              "      filter: drop-shadow(0px 1px 2px rgba(0, 0, 0, 0.3));\n",
              "      fill: #FFFFFF;\n",
              "    }\n",
              "  </style>\n",
              "\n",
              "    <script>\n",
              "      const buttonEl =\n",
              "        document.querySelector('#df-02e0f66f-8d9f-4fc8-801d-fee35f92e33b button.colab-df-convert');\n",
              "      buttonEl.style.display =\n",
              "        google.colab.kernel.accessAllowed ? 'block' : 'none';\n",
              "\n",
              "      async function convertToInteractive(key) {\n",
              "        const element = document.querySelector('#df-02e0f66f-8d9f-4fc8-801d-fee35f92e33b');\n",
              "        const dataTable =\n",
              "          await google.colab.kernel.invokeFunction('convertToInteractive',\n",
              "                                                    [key], {});\n",
              "        if (!dataTable) return;\n",
              "\n",
              "        const docLinkHtml = 'Like what you see? Visit the ' +\n",
              "          '<a target=\"_blank\" href=https://colab.research.google.com/notebooks/data_table.ipynb>data table notebook</a>'\n",
              "          + ' to learn more about interactive tables.';\n",
              "        element.innerHTML = '';\n",
              "        dataTable['output_type'] = 'display_data';\n",
              "        await google.colab.output.renderOutput(dataTable, element);\n",
              "        const docLink = document.createElement('div');\n",
              "        docLink.innerHTML = docLinkHtml;\n",
              "        element.appendChild(docLink);\n",
              "      }\n",
              "    </script>\n",
              "  </div>\n",
              "\n",
              "    </div>\n",
              "  </div>\n"
            ]
          },
          "metadata": {},
          "execution_count": 6
        }
      ],
      "source": [
        "import pandas as pd\n",
        "\n",
        "# Commit the transaction\n",
        "conn.commit()\n",
        "\n",
        "# Retrieve data and convert into DataFrame\n",
        "pd.read_sql_query(\"SELECT AVG(grade) FROM students\", conn)"
      ]
    },
    {
      "cell_type": "code",
      "execution_count": null,
      "metadata": {
        "id": "PxQjcOIk5Mk-"
      },
      "outputs": [],
      "source": [
        "# Close the connection\n",
        "conn.close()"
      ]
    },
    {
      "cell_type": "markdown",
      "metadata": {
        "id": "Rh1t8sod5Mk-"
      },
      "source": [
        "So you can see that using a database, our application data is much easier to process and is stored more securely for long-term use."
      ]
    },
    {
      "cell_type": "markdown",
      "metadata": {
        "id": "VtRLGSh45Mk-"
      },
      "source": [
        "## DDL (Data Definition Language)\n",
        "\n",
        "### What is DDL?\n",
        "\n",
        "Before we start using a database, we need to set things up by creating tables, schemas, views, and indexes. This process is referred to as _Data Definition Language_ (DDL).\n",
        "\n",
        "There are several SQL commands used to carry out these tasks, such as `CREATE`, `ALTER`, `DROP`, `TRUNCATE`.\n",
        "\n",
        "Let's consider the following table as an example. This table contains simple employee data:\n",
        "\n",
        "| ID  | name  | age | address           | salary  |\n",
        "| --- | ----- | --- | ----------------- | ------- |\n",
        "| 1   | Rizki | 25  | Jl. Kebon Jeruk   | 2000000 |\n",
        "| 2   | Andi  | 27  | Jl. Kebon Sirih   | 3000000 |\n",
        "| 3   | Budi  | 30  | Jl. Kebon Melati  | 4000000 |\n",
        "| 4   | Caca  | 32  | Jl. Kebon Anggrek | 5000000 |\n",
        "| 5   | Deni  | 35  | Jl. Kebon Mawar   | 6000000 |\n",
        "\n",
        "Next, we will apply DDL to this table.\n",
        "\n",
        "### SQL Data Types\n",
        "\n",
        "To create a table, we need to determine the data types to be used. These data types will limit the kind of data that can be inserted into each column. The data types in SQL are not much different from those in Python. Here are some commonly used data types:\n",
        "\n",
        "| Data type     | Description                                                                   |\n",
        "| ------------- | ----------------------------------------------------------------------------- |\n",
        "| VARCHAR(size) | A character data type with a flexible length, like `string` in Python         |\n",
        "| TEXT          | A character data type with a maximum length of 65535 characters               |\n",
        "| INT / INTEGER | An integer data type                                                          |\n",
        "| FLOAT         | A decimal number data type                                                    |\n",
        "| BOOLEAN       | A boolean data type (`true` / `false`)                                        |\n",
        "| DATE          | A date data type                                                              |\n",
        "| DATETIME      | A date and time data type                                                     |\n",
        "\n",
        "For the `VARCHAR` data type, we need to specify the size (a number from 1 - 255). This size will limit the length of the characters that can be entered into that column. For instance, `VARCHAR(50)` will limit the length of the characters that can be entered into that column to 50 characters. If we enter characters longer than 50, an error will occur.\n",
        "\n",
        "The `VARCHAR` data type can only hold a maximum of 255 characters. If we want to store more than 255 characters, we need to use the `TEXT` data type, which has a maximum length of `65535` characters.\n",
        "\n",
        "For more details, you can check [here](https://www.w3schools.com/sql/sql_datatypes.asp).\n",
        "\n",
        "### CREATE\n",
        "\n",
        "The `CREATE` command is used to create a new object such as a database, table, schema, view, or index.\n",
        "\n",
        "To create a new database, we can use the `CREATE DATABASE` command as follows:\n",
        "\n",
        "```sql\n",
        "CREATE DATABASE <db-name>;\n",
        "```\n",
        "\n",
        "Where `<db-name>` is the name of the database to be created. Don't forget to end each SQL command with a `;`.\n",
        "\n",
        "Example:"
      ]
    },
    {
      "cell_type": "code",
      "execution_count": null,
      "metadata": {
        "vscode": {
          "languageId": "sql"
        },
        "id": "gjfR7YzF5Mk-"
      },
      "outputs": [],
      "source": [
        "CREATE DATABASE db_employee;"
      ]
    },
    {
      "cell_type": "markdown",
      "metadata": {
        "id": "HjjbxCdo5Mk-"
      },
      "source": [
        "With python and SQLite let's import the necessary module and establish a connection to the database."
      ]
    },
    {
      "cell_type": "code",
      "execution_count": null,
      "metadata": {
        "id": "e3JEJRME5Mk-"
      },
      "outputs": [],
      "source": [
        "import sqlite3\n",
        "\n",
        "# Connect to the SQLite database\n",
        "# If the database does not exist, it will be created\n",
        "conn = sqlite3.connect('sqlite.db')\n",
        "\n",
        "# Create a cursor object\n",
        "cur = conn.cursor()"
      ]
    },
    {
      "cell_type": "markdown",
      "metadata": {
        "id": "3Y7--AFH5Mk_"
      },
      "source": [
        "The command above creates a new database named `db_employee`.\n",
        "\n",
        "Next, we can also use `CREATE` to create a new table. We can use `CREATE TABLE` as follows:\n",
        "\n",
        "```sql\n",
        "CREATE TABLE <table-name> (\n",
        "  <column-name> <data-type> <constraints>,\n",
        "  <column-name> <data-type> <constraints>,\n",
        "  ...\n",
        ");\n",
        "```\n",
        "\n",
        "Where `<table-name>` is the name of the table to be created, `<column-name>` is the name of the column, `<data-type>` is the data type to be used, and `<constraints>` are the rules to be applied to that column. To create a column with more than one rule, we can separate them with a comma `,`.\n",
        "\n",
        "Example command to create an employee table:"
      ]
    },
    {
      "cell_type": "code",
      "execution_count": null,
      "metadata": {
        "vscode": {
          "languageId": "sql"
        },
        "id": "FXfzhDkn5Mk_"
      },
      "outputs": [],
      "source": [
        "CREATE TABLE employee (\n",
        "  id INT,\n",
        "  name VARCHAR(255) NOT NULL,\n",
        "  age INT NOT NULL,\n",
        "  address VARCHAR(255),\n",
        "  salary INT\n",
        ");"
      ]
    },
    {
      "cell_type": "markdown",
      "metadata": {
        "id": "Cci-IpZc5Mk_"
      },
      "source": [
        "Let's create an `employee` table."
      ]
    },
    {
      "cell_type": "code",
      "execution_count": null,
      "metadata": {
        "id": "ZNkGtSm15Mk_"
      },
      "outputs": [],
      "source": [
        "# Execute a SQL command: this creates a new table\n",
        "cur.execute('''\n",
        "    CREATE TABLE employee (\n",
        "        id INTEGER,\n",
        "        name TEXT NOT NULL,\n",
        "        age INTEGER NOT NULL,\n",
        "        address TEXT,\n",
        "        salary INTEGER\n",
        "    )\n",
        "''')\n",
        "\n",
        "# Commit the transaction\n",
        "conn.commit()"
      ]
    },
    {
      "cell_type": "markdown",
      "metadata": {
        "id": "W6Oby9s15Mk_"
      },
      "source": [
        "See the table:"
      ]
    },
    {
      "cell_type": "code",
      "execution_count": null,
      "metadata": {
        "id": "50yZOdrD5Mk_",
        "outputId": "95883c43-f465-4f08-a050-c9aee972e045",
        "colab": {
          "base_uri": "https://localhost:8080/",
          "height": 53
        }
      },
      "outputs": [
        {
          "output_type": "execute_result",
          "data": {
            "text/plain": [
              "Empty DataFrame\n",
              "Columns: [id, name, age, address, salary]\n",
              "Index: []"
            ],
            "text/html": [
              "\n",
              "  <div id=\"df-bb440c89-884e-4b4f-844e-1da09f74a7b7\" class=\"colab-df-container\">\n",
              "    <div>\n",
              "<style scoped>\n",
              "    .dataframe tbody tr th:only-of-type {\n",
              "        vertical-align: middle;\n",
              "    }\n",
              "\n",
              "    .dataframe tbody tr th {\n",
              "        vertical-align: top;\n",
              "    }\n",
              "\n",
              "    .dataframe thead th {\n",
              "        text-align: right;\n",
              "    }\n",
              "</style>\n",
              "<table border=\"1\" class=\"dataframe\">\n",
              "  <thead>\n",
              "    <tr style=\"text-align: right;\">\n",
              "      <th></th>\n",
              "      <th>id</th>\n",
              "      <th>name</th>\n",
              "      <th>age</th>\n",
              "      <th>address</th>\n",
              "      <th>salary</th>\n",
              "    </tr>\n",
              "  </thead>\n",
              "  <tbody>\n",
              "  </tbody>\n",
              "</table>\n",
              "</div>\n",
              "    <div class=\"colab-df-buttons\">\n",
              "\n",
              "  <div class=\"colab-df-container\">\n",
              "    <button class=\"colab-df-convert\" onclick=\"convertToInteractive('df-bb440c89-884e-4b4f-844e-1da09f74a7b7')\"\n",
              "            title=\"Convert this dataframe to an interactive table.\"\n",
              "            style=\"display:none;\">\n",
              "\n",
              "  <svg xmlns=\"http://www.w3.org/2000/svg\" height=\"24px\" viewBox=\"0 -960 960 960\">\n",
              "    <path d=\"M120-120v-720h720v720H120Zm60-500h600v-160H180v160Zm220 220h160v-160H400v160Zm0 220h160v-160H400v160ZM180-400h160v-160H180v160Zm440 0h160v-160H620v160ZM180-180h160v-160H180v160Zm440 0h160v-160H620v160Z\"/>\n",
              "  </svg>\n",
              "    </button>\n",
              "\n",
              "  <style>\n",
              "    .colab-df-container {\n",
              "      display:flex;\n",
              "      gap: 12px;\n",
              "    }\n",
              "\n",
              "    .colab-df-convert {\n",
              "      background-color: #E8F0FE;\n",
              "      border: none;\n",
              "      border-radius: 50%;\n",
              "      cursor: pointer;\n",
              "      display: none;\n",
              "      fill: #1967D2;\n",
              "      height: 32px;\n",
              "      padding: 0 0 0 0;\n",
              "      width: 32px;\n",
              "    }\n",
              "\n",
              "    .colab-df-convert:hover {\n",
              "      background-color: #E2EBFA;\n",
              "      box-shadow: 0px 1px 2px rgba(60, 64, 67, 0.3), 0px 1px 3px 1px rgba(60, 64, 67, 0.15);\n",
              "      fill: #174EA6;\n",
              "    }\n",
              "\n",
              "    .colab-df-buttons div {\n",
              "      margin-bottom: 4px;\n",
              "    }\n",
              "\n",
              "    [theme=dark] .colab-df-convert {\n",
              "      background-color: #3B4455;\n",
              "      fill: #D2E3FC;\n",
              "    }\n",
              "\n",
              "    [theme=dark] .colab-df-convert:hover {\n",
              "      background-color: #434B5C;\n",
              "      box-shadow: 0px 1px 3px 1px rgba(0, 0, 0, 0.15);\n",
              "      filter: drop-shadow(0px 1px 2px rgba(0, 0, 0, 0.3));\n",
              "      fill: #FFFFFF;\n",
              "    }\n",
              "  </style>\n",
              "\n",
              "    <script>\n",
              "      const buttonEl =\n",
              "        document.querySelector('#df-bb440c89-884e-4b4f-844e-1da09f74a7b7 button.colab-df-convert');\n",
              "      buttonEl.style.display =\n",
              "        google.colab.kernel.accessAllowed ? 'block' : 'none';\n",
              "\n",
              "      async function convertToInteractive(key) {\n",
              "        const element = document.querySelector('#df-bb440c89-884e-4b4f-844e-1da09f74a7b7');\n",
              "        const dataTable =\n",
              "          await google.colab.kernel.invokeFunction('convertToInteractive',\n",
              "                                                    [key], {});\n",
              "        if (!dataTable) return;\n",
              "\n",
              "        const docLinkHtml = 'Like what you see? Visit the ' +\n",
              "          '<a target=\"_blank\" href=https://colab.research.google.com/notebooks/data_table.ipynb>data table notebook</a>'\n",
              "          + ' to learn more about interactive tables.';\n",
              "        element.innerHTML = '';\n",
              "        dataTable['output_type'] = 'display_data';\n",
              "        await google.colab.output.renderOutput(dataTable, element);\n",
              "        const docLink = document.createElement('div');\n",
              "        docLink.innerHTML = docLinkHtml;\n",
              "        element.appendChild(docLink);\n",
              "      }\n",
              "    </script>\n",
              "  </div>\n",
              "\n",
              "    </div>\n",
              "  </div>\n"
            ]
          },
          "metadata": {},
          "execution_count": 22
        }
      ],
      "source": [
        "import pandas as pd\n",
        "\n",
        "pd.read_sql_query(\"SELECT * FROM employee\", conn)"
      ]
    },
    {
      "cell_type": "markdown",
      "metadata": {
        "id": "ty2AUG1E5MlA"
      },
      "source": [
        "From the example above, we are creating a new table named `employee` that has 5 columns, namely `id`, `name`, `age`, `address`, and `salary`. For the `id` and `age` columns, we use the `INT` data type, which means integer, while for the `name` and `address` columns, we use the `VARCHAR` data type, which means character. The `salary` column also uses the `INT` data type, which means integer.\n",
        "\n",
        "For the `name` and `age` columns, we apply the `NOT NULL` constraint, which means that these columns cannot be empty. If we enter empty data or empty characters `\"\"` into these columns, an error will occur.\n",
        "\n",
        "You can try creating a new table named `employee` as above in an [online SQL compiler](https://onecompiler.com/postgresql) or in your own pgAdmin / DBMS tool.\n",
        "\n",
        "### ALTER\n",
        "\n",
        "The `ALTER` command is used to modify the structure of the database. For example, if we want to add a new column to an existing table, we can use the `ALTER TABLE` command as follows:\n",
        "\n",
        "```sql\n",
        "ALTER TABLE <table-name> ADD <column-name> <data-type> <constraints>;\n",
        "```\n",
        "\n",
        "Where `<table-name>` is the name of the table to be modified, `<column-name>` is the name of the column to be added, `<data-type>` is the data type to be used, and `<constraints>` are the rules to be applied to that column.\n",
        "\n",
        "If we want to add a new column named `email` with data type `VARCHAR(255)` to the `employee` table, we can use the following command:"
      ]
    },
    {
      "cell_type": "code",
      "execution_count": null,
      "metadata": {
        "vscode": {
          "languageId": "sql"
        },
        "id": "iiw8v5bT5MlA"
      },
      "outputs": [],
      "source": [
        "ALTER TABLE employee ADD email VARCHAR(255);"
      ]
    },
    {
      "cell_type": "markdown",
      "metadata": {
        "id": "pvktFDww5MlA"
      },
      "source": [
        "Try in python using SQLite:"
      ]
    },
    {
      "cell_type": "code",
      "execution_count": null,
      "metadata": {
        "id": "Lj4qS-ye5MlA"
      },
      "outputs": [],
      "source": [
        "cur.execute('ALTER TABLE employee ADD COLUMN email TEXT')\n",
        "conn.commit()"
      ]
    },
    {
      "cell_type": "markdown",
      "metadata": {
        "id": "oFD7tg0Z5MlA"
      },
      "source": [
        "See the table:"
      ]
    },
    {
      "cell_type": "code",
      "execution_count": null,
      "metadata": {
        "id": "CSaEm6nm5MlA",
        "outputId": "961b86b3-c734-4c50-81f3-04a8cb3524b3",
        "colab": {
          "base_uri": "https://localhost:8080/",
          "height": 53
        }
      },
      "outputs": [
        {
          "output_type": "execute_result",
          "data": {
            "text/plain": [
              "Empty DataFrame\n",
              "Columns: [id, name, age, address, salary, email]\n",
              "Index: []"
            ],
            "text/html": [
              "\n",
              "  <div id=\"df-d01b9604-5989-4e8d-bbf0-e67228c3d4e1\" class=\"colab-df-container\">\n",
              "    <div>\n",
              "<style scoped>\n",
              "    .dataframe tbody tr th:only-of-type {\n",
              "        vertical-align: middle;\n",
              "    }\n",
              "\n",
              "    .dataframe tbody tr th {\n",
              "        vertical-align: top;\n",
              "    }\n",
              "\n",
              "    .dataframe thead th {\n",
              "        text-align: right;\n",
              "    }\n",
              "</style>\n",
              "<table border=\"1\" class=\"dataframe\">\n",
              "  <thead>\n",
              "    <tr style=\"text-align: right;\">\n",
              "      <th></th>\n",
              "      <th>id</th>\n",
              "      <th>name</th>\n",
              "      <th>age</th>\n",
              "      <th>address</th>\n",
              "      <th>salary</th>\n",
              "      <th>email</th>\n",
              "    </tr>\n",
              "  </thead>\n",
              "  <tbody>\n",
              "  </tbody>\n",
              "</table>\n",
              "</div>\n",
              "    <div class=\"colab-df-buttons\">\n",
              "\n",
              "  <div class=\"colab-df-container\">\n",
              "    <button class=\"colab-df-convert\" onclick=\"convertToInteractive('df-d01b9604-5989-4e8d-bbf0-e67228c3d4e1')\"\n",
              "            title=\"Convert this dataframe to an interactive table.\"\n",
              "            style=\"display:none;\">\n",
              "\n",
              "  <svg xmlns=\"http://www.w3.org/2000/svg\" height=\"24px\" viewBox=\"0 -960 960 960\">\n",
              "    <path d=\"M120-120v-720h720v720H120Zm60-500h600v-160H180v160Zm220 220h160v-160H400v160Zm0 220h160v-160H400v160ZM180-400h160v-160H180v160Zm440 0h160v-160H620v160ZM180-180h160v-160H180v160Zm440 0h160v-160H620v160Z\"/>\n",
              "  </svg>\n",
              "    </button>\n",
              "\n",
              "  <style>\n",
              "    .colab-df-container {\n",
              "      display:flex;\n",
              "      gap: 12px;\n",
              "    }\n",
              "\n",
              "    .colab-df-convert {\n",
              "      background-color: #E8F0FE;\n",
              "      border: none;\n",
              "      border-radius: 50%;\n",
              "      cursor: pointer;\n",
              "      display: none;\n",
              "      fill: #1967D2;\n",
              "      height: 32px;\n",
              "      padding: 0 0 0 0;\n",
              "      width: 32px;\n",
              "    }\n",
              "\n",
              "    .colab-df-convert:hover {\n",
              "      background-color: #E2EBFA;\n",
              "      box-shadow: 0px 1px 2px rgba(60, 64, 67, 0.3), 0px 1px 3px 1px rgba(60, 64, 67, 0.15);\n",
              "      fill: #174EA6;\n",
              "    }\n",
              "\n",
              "    .colab-df-buttons div {\n",
              "      margin-bottom: 4px;\n",
              "    }\n",
              "\n",
              "    [theme=dark] .colab-df-convert {\n",
              "      background-color: #3B4455;\n",
              "      fill: #D2E3FC;\n",
              "    }\n",
              "\n",
              "    [theme=dark] .colab-df-convert:hover {\n",
              "      background-color: #434B5C;\n",
              "      box-shadow: 0px 1px 3px 1px rgba(0, 0, 0, 0.15);\n",
              "      filter: drop-shadow(0px 1px 2px rgba(0, 0, 0, 0.3));\n",
              "      fill: #FFFFFF;\n",
              "    }\n",
              "  </style>\n",
              "\n",
              "    <script>\n",
              "      const buttonEl =\n",
              "        document.querySelector('#df-d01b9604-5989-4e8d-bbf0-e67228c3d4e1 button.colab-df-convert');\n",
              "      buttonEl.style.display =\n",
              "        google.colab.kernel.accessAllowed ? 'block' : 'none';\n",
              "\n",
              "      async function convertToInteractive(key) {\n",
              "        const element = document.querySelector('#df-d01b9604-5989-4e8d-bbf0-e67228c3d4e1');\n",
              "        const dataTable =\n",
              "          await google.colab.kernel.invokeFunction('convertToInteractive',\n",
              "                                                    [key], {});\n",
              "        if (!dataTable) return;\n",
              "\n",
              "        const docLinkHtml = 'Like what you see? Visit the ' +\n",
              "          '<a target=\"_blank\" href=https://colab.research.google.com/notebooks/data_table.ipynb>data table notebook</a>'\n",
              "          + ' to learn more about interactive tables.';\n",
              "        element.innerHTML = '';\n",
              "        dataTable['output_type'] = 'display_data';\n",
              "        await google.colab.output.renderOutput(dataTable, element);\n",
              "        const docLink = document.createElement('div');\n",
              "        docLink.innerHTML = docLinkHtml;\n",
              "        element.appendChild(docLink);\n",
              "      }\n",
              "    </script>\n",
              "  </div>\n",
              "\n",
              "    </div>\n",
              "  </div>\n"
            ]
          },
          "metadata": {},
          "execution_count": 13
        }
      ],
      "source": [
        "import pandas as pd\n",
        "\n",
        "pd.read_sql_query(\"SELECT * FROM employee\", conn)"
      ]
    },
    {
      "cell_type": "markdown",
      "metadata": {
        "id": "ldRGMe9V5MlB"
      },
      "source": [
        "The example above means that we are adding a new column named `email` with the data type `VARCHAR(255)` to the `employee` table.\n",
        "\n",
        "We can also modify an existing column with the `ALTER COLUMN` command as follows:\n",
        "\n",
        "```sql\n",
        "ALTER TABLE <table-name> ALTER COLUMN <column-name> TYPE <data-type> <constraints>;\n",
        "```\n",
        "\n",
        "We can change `salary` to the `FLOAT` data type with the following command:"
      ]
    },
    {
      "cell_type": "code",
      "execution_count": null,
      "metadata": {
        "vscode": {
          "languageId": "sql"
        },
        "id": "29FqgGok5MlB"
      },
      "outputs": [],
      "source": [
        "ALTER TABLE employee ALTER COLUMN salary TYPE FLOAT;"
      ]
    },
    {
      "cell_type": "markdown",
      "metadata": {
        "id": "UZdnf4Q25MlB"
      },
      "source": [
        "We can also rename a column with the `RENAME TO` command as follows:\n",
        "\n",
        "```sql\n",
        "ALTER TABLE <table-name> RENAME TO <new-table-name>;\n",
        "```\n",
        "\n",
        "Where `<table-name>` is the name of the table to be modified, and `<new-table-name>` is the new table name.\n",
        "\n",
        "We can rename the `employee` table to `employees` with the following command:"
      ]
    },
    {
      "cell_type": "code",
      "execution_count": null,
      "metadata": {
        "vscode": {
          "languageId": "sql"
        },
        "id": "DzM-otFY5MlB"
      },
      "outputs": [],
      "source": [
        "ALTER TABLE employee RENAME TO employees;"
      ]
    },
    {
      "cell_type": "markdown",
      "metadata": {
        "id": "ZsXW7CgQ5MlB"
      },
      "source": [
        "Try in python using SQLite:"
      ]
    },
    {
      "cell_type": "code",
      "execution_count": null,
      "metadata": {
        "id": "gOLEVgVX5MlB"
      },
      "outputs": [],
      "source": [
        "cur.execute('ALTER TABLE employee RENAME TO employees')\n",
        "conn.commit()"
      ]
    },
    {
      "cell_type": "markdown",
      "metadata": {
        "id": "OS9EubIF5MlB"
      },
      "source": [
        "See the table:"
      ]
    },
    {
      "cell_type": "code",
      "execution_count": null,
      "metadata": {
        "id": "j5dzr0p35MlD",
        "outputId": "36da103b-7bb6-4f6d-a7cd-745902bc039e",
        "colab": {
          "base_uri": "https://localhost:8080/",
          "height": 53
        }
      },
      "outputs": [
        {
          "output_type": "execute_result",
          "data": {
            "text/plain": [
              "Empty DataFrame\n",
              "Columns: [id, name, age, address, salary, email]\n",
              "Index: []"
            ],
            "text/html": [
              "\n",
              "  <div id=\"df-02f2b91d-8349-486b-a380-28d604016737\" class=\"colab-df-container\">\n",
              "    <div>\n",
              "<style scoped>\n",
              "    .dataframe tbody tr th:only-of-type {\n",
              "        vertical-align: middle;\n",
              "    }\n",
              "\n",
              "    .dataframe tbody tr th {\n",
              "        vertical-align: top;\n",
              "    }\n",
              "\n",
              "    .dataframe thead th {\n",
              "        text-align: right;\n",
              "    }\n",
              "</style>\n",
              "<table border=\"1\" class=\"dataframe\">\n",
              "  <thead>\n",
              "    <tr style=\"text-align: right;\">\n",
              "      <th></th>\n",
              "      <th>id</th>\n",
              "      <th>name</th>\n",
              "      <th>age</th>\n",
              "      <th>address</th>\n",
              "      <th>salary</th>\n",
              "      <th>email</th>\n",
              "    </tr>\n",
              "  </thead>\n",
              "  <tbody>\n",
              "  </tbody>\n",
              "</table>\n",
              "</div>\n",
              "    <div class=\"colab-df-buttons\">\n",
              "\n",
              "  <div class=\"colab-df-container\">\n",
              "    <button class=\"colab-df-convert\" onclick=\"convertToInteractive('df-02f2b91d-8349-486b-a380-28d604016737')\"\n",
              "            title=\"Convert this dataframe to an interactive table.\"\n",
              "            style=\"display:none;\">\n",
              "\n",
              "  <svg xmlns=\"http://www.w3.org/2000/svg\" height=\"24px\" viewBox=\"0 -960 960 960\">\n",
              "    <path d=\"M120-120v-720h720v720H120Zm60-500h600v-160H180v160Zm220 220h160v-160H400v160Zm0 220h160v-160H400v160ZM180-400h160v-160H180v160Zm440 0h160v-160H620v160ZM180-180h160v-160H180v160Zm440 0h160v-160H620v160Z\"/>\n",
              "  </svg>\n",
              "    </button>\n",
              "\n",
              "  <style>\n",
              "    .colab-df-container {\n",
              "      display:flex;\n",
              "      gap: 12px;\n",
              "    }\n",
              "\n",
              "    .colab-df-convert {\n",
              "      background-color: #E8F0FE;\n",
              "      border: none;\n",
              "      border-radius: 50%;\n",
              "      cursor: pointer;\n",
              "      display: none;\n",
              "      fill: #1967D2;\n",
              "      height: 32px;\n",
              "      padding: 0 0 0 0;\n",
              "      width: 32px;\n",
              "    }\n",
              "\n",
              "    .colab-df-convert:hover {\n",
              "      background-color: #E2EBFA;\n",
              "      box-shadow: 0px 1px 2px rgba(60, 64, 67, 0.3), 0px 1px 3px 1px rgba(60, 64, 67, 0.15);\n",
              "      fill: #174EA6;\n",
              "    }\n",
              "\n",
              "    .colab-df-buttons div {\n",
              "      margin-bottom: 4px;\n",
              "    }\n",
              "\n",
              "    [theme=dark] .colab-df-convert {\n",
              "      background-color: #3B4455;\n",
              "      fill: #D2E3FC;\n",
              "    }\n",
              "\n",
              "    [theme=dark] .colab-df-convert:hover {\n",
              "      background-color: #434B5C;\n",
              "      box-shadow: 0px 1px 3px 1px rgba(0, 0, 0, 0.15);\n",
              "      filter: drop-shadow(0px 1px 2px rgba(0, 0, 0, 0.3));\n",
              "      fill: #FFFFFF;\n",
              "    }\n",
              "  </style>\n",
              "\n",
              "    <script>\n",
              "      const buttonEl =\n",
              "        document.querySelector('#df-02f2b91d-8349-486b-a380-28d604016737 button.colab-df-convert');\n",
              "      buttonEl.style.display =\n",
              "        google.colab.kernel.accessAllowed ? 'block' : 'none';\n",
              "\n",
              "      async function convertToInteractive(key) {\n",
              "        const element = document.querySelector('#df-02f2b91d-8349-486b-a380-28d604016737');\n",
              "        const dataTable =\n",
              "          await google.colab.kernel.invokeFunction('convertToInteractive',\n",
              "                                                    [key], {});\n",
              "        if (!dataTable) return;\n",
              "\n",
              "        const docLinkHtml = 'Like what you see? Visit the ' +\n",
              "          '<a target=\"_blank\" href=https://colab.research.google.com/notebooks/data_table.ipynb>data table notebook</a>'\n",
              "          + ' to learn more about interactive tables.';\n",
              "        element.innerHTML = '';\n",
              "        dataTable['output_type'] = 'display_data';\n",
              "        await google.colab.output.renderOutput(dataTable, element);\n",
              "        const docLink = document.createElement('div');\n",
              "        docLink.innerHTML = docLinkHtml;\n",
              "        element.appendChild(docLink);\n",
              "      }\n",
              "    </script>\n",
              "  </div>\n",
              "\n",
              "    </div>\n",
              "  </div>\n"
            ]
          },
          "metadata": {},
          "execution_count": 15
        }
      ],
      "source": [
        "import pandas as pd\n",
        "\n",
        "pd.read_sql_query(\"SELECT * FROM employees\", conn)  # Change table employee to employees"
      ]
    },
    {
      "cell_type": "markdown",
      "metadata": {
        "id": "6CtEXym05MlH"
      },
      "source": [
        "Finally, we can delete a column with the `DROP COLUMN` command as follows:\n",
        "\n",
        "```sql\n",
        "ALTER TABLE <table-name> DROP COLUMN <column-name>;\n",
        "```\n",
        "\n",
        "Where `<table-name>` is the name of the table to be modified, and `<column-name>` is the name of the column to be deleted.\n",
        "\n",
        "We can delete the `email` column of the `employee` table with the following command:"
      ]
    },
    {
      "cell_type": "code",
      "execution_count": null,
      "metadata": {
        "vscode": {
          "languageId": "sql"
        },
        "id": "Dxp1c2lF5MlI"
      },
      "outputs": [],
      "source": [
        "ALTER TABLE employee DROP COLUMN email;"
      ]
    },
    {
      "cell_type": "markdown",
      "metadata": {
        "id": "5X5BCi2V5MlI"
      },
      "source": [
        "Try in python using SQLite:"
      ]
    },
    {
      "cell_type": "code",
      "execution_count": null,
      "metadata": {
        "id": "5N7bZUq65MlI"
      },
      "outputs": [],
      "source": [
        "cur.execute('ALTER TABLE employees DROP COLUMN email')\n",
        "conn.commit()"
      ]
    },
    {
      "cell_type": "markdown",
      "metadata": {
        "id": "v7mr9loB5MlI"
      },
      "source": [
        "See the table:"
      ]
    },
    {
      "cell_type": "code",
      "execution_count": null,
      "metadata": {
        "id": "j3Rt0e1l5MlI",
        "outputId": "970d2e05-8408-4929-9758-825c9ffac06c",
        "colab": {
          "base_uri": "https://localhost:8080/",
          "height": 53
        }
      },
      "outputs": [
        {
          "output_type": "execute_result",
          "data": {
            "text/plain": [
              "Empty DataFrame\n",
              "Columns: [id, name, age, address, salary]\n",
              "Index: []"
            ],
            "text/html": [
              "\n",
              "  <div id=\"df-12f29148-58af-4907-8335-3975749be84b\" class=\"colab-df-container\">\n",
              "    <div>\n",
              "<style scoped>\n",
              "    .dataframe tbody tr th:only-of-type {\n",
              "        vertical-align: middle;\n",
              "    }\n",
              "\n",
              "    .dataframe tbody tr th {\n",
              "        vertical-align: top;\n",
              "    }\n",
              "\n",
              "    .dataframe thead th {\n",
              "        text-align: right;\n",
              "    }\n",
              "</style>\n",
              "<table border=\"1\" class=\"dataframe\">\n",
              "  <thead>\n",
              "    <tr style=\"text-align: right;\">\n",
              "      <th></th>\n",
              "      <th>id</th>\n",
              "      <th>name</th>\n",
              "      <th>age</th>\n",
              "      <th>address</th>\n",
              "      <th>salary</th>\n",
              "    </tr>\n",
              "  </thead>\n",
              "  <tbody>\n",
              "  </tbody>\n",
              "</table>\n",
              "</div>\n",
              "    <div class=\"colab-df-buttons\">\n",
              "\n",
              "  <div class=\"colab-df-container\">\n",
              "    <button class=\"colab-df-convert\" onclick=\"convertToInteractive('df-12f29148-58af-4907-8335-3975749be84b')\"\n",
              "            title=\"Convert this dataframe to an interactive table.\"\n",
              "            style=\"display:none;\">\n",
              "\n",
              "  <svg xmlns=\"http://www.w3.org/2000/svg\" height=\"24px\" viewBox=\"0 -960 960 960\">\n",
              "    <path d=\"M120-120v-720h720v720H120Zm60-500h600v-160H180v160Zm220 220h160v-160H400v160Zm0 220h160v-160H400v160ZM180-400h160v-160H180v160Zm440 0h160v-160H620v160ZM180-180h160v-160H180v160Zm440 0h160v-160H620v160Z\"/>\n",
              "  </svg>\n",
              "    </button>\n",
              "\n",
              "  <style>\n",
              "    .colab-df-container {\n",
              "      display:flex;\n",
              "      gap: 12px;\n",
              "    }\n",
              "\n",
              "    .colab-df-convert {\n",
              "      background-color: #E8F0FE;\n",
              "      border: none;\n",
              "      border-radius: 50%;\n",
              "      cursor: pointer;\n",
              "      display: none;\n",
              "      fill: #1967D2;\n",
              "      height: 32px;\n",
              "      padding: 0 0 0 0;\n",
              "      width: 32px;\n",
              "    }\n",
              "\n",
              "    .colab-df-convert:hover {\n",
              "      background-color: #E2EBFA;\n",
              "      box-shadow: 0px 1px 2px rgba(60, 64, 67, 0.3), 0px 1px 3px 1px rgba(60, 64, 67, 0.15);\n",
              "      fill: #174EA6;\n",
              "    }\n",
              "\n",
              "    .colab-df-buttons div {\n",
              "      margin-bottom: 4px;\n",
              "    }\n",
              "\n",
              "    [theme=dark] .colab-df-convert {\n",
              "      background-color: #3B4455;\n",
              "      fill: #D2E3FC;\n",
              "    }\n",
              "\n",
              "    [theme=dark] .colab-df-convert:hover {\n",
              "      background-color: #434B5C;\n",
              "      box-shadow: 0px 1px 3px 1px rgba(0, 0, 0, 0.15);\n",
              "      filter: drop-shadow(0px 1px 2px rgba(0, 0, 0, 0.3));\n",
              "      fill: #FFFFFF;\n",
              "    }\n",
              "  </style>\n",
              "\n",
              "    <script>\n",
              "      const buttonEl =\n",
              "        document.querySelector('#df-12f29148-58af-4907-8335-3975749be84b button.colab-df-convert');\n",
              "      buttonEl.style.display =\n",
              "        google.colab.kernel.accessAllowed ? 'block' : 'none';\n",
              "\n",
              "      async function convertToInteractive(key) {\n",
              "        const element = document.querySelector('#df-12f29148-58af-4907-8335-3975749be84b');\n",
              "        const dataTable =\n",
              "          await google.colab.kernel.invokeFunction('convertToInteractive',\n",
              "                                                    [key], {});\n",
              "        if (!dataTable) return;\n",
              "\n",
              "        const docLinkHtml = 'Like what you see? Visit the ' +\n",
              "          '<a target=\"_blank\" href=https://colab.research.google.com/notebooks/data_table.ipynb>data table notebook</a>'\n",
              "          + ' to learn more about interactive tables.';\n",
              "        element.innerHTML = '';\n",
              "        dataTable['output_type'] = 'display_data';\n",
              "        await google.colab.output.renderOutput(dataTable, element);\n",
              "        const docLink = document.createElement('div');\n",
              "        docLink.innerHTML = docLinkHtml;\n",
              "        element.appendChild(docLink);\n",
              "      }\n",
              "    </script>\n",
              "  </div>\n",
              "\n",
              "    </div>\n",
              "  </div>\n"
            ]
          },
          "metadata": {},
          "execution_count": 17
        }
      ],
      "source": [
        "import pandas as pd\n",
        "\n",
        "pd.read_sql_query(\"SELECT * FROM employees\", conn)"
      ]
    },
    {
      "cell_type": "markdown",
      "metadata": {
        "id": "MO7PIzSm5MlJ"
      },
      "source": [
        "After running the command above, the `email` column of the `employee` table will be deleted.\n",
        "\n",
        "You can try using the `ALTER` command as above in an [online SQL compiler](https://onecompiler.com/postgresql) or in your own pgAdmin / DBMS tool."
      ]
    },
    {
      "cell_type": "markdown",
      "metadata": {
        "id": "U-dHb96P5MlJ"
      },
      "source": [
        "### DROP\n",
        "\n",
        "The `DROP` command is used to delete records or objects that exist in the database.\n",
        "\n",
        "We can delete the `employee` table that was previously created using `DROP TABLE` as follows:\n",
        "\n",
        "```sql\n",
        "DROP TABLE <table-name>\n",
        "```\n",
        "\n",
        "Where `<table-name>` is the name of the table to be deleted.\n",
        "\n",
        "We can delete the `employee` table with the following command:"
      ]
    },
    {
      "cell_type": "code",
      "execution_count": null,
      "metadata": {
        "vscode": {
          "languageId": "sql"
        },
        "id": "vXdGsUne5MlJ"
      },
      "outputs": [],
      "source": [
        "DROP TABLE employee;"
      ]
    },
    {
      "cell_type": "markdown",
      "metadata": {
        "id": "cRqCchlP5MlJ"
      },
      "source": [
        "Try in python using SQLite:"
      ]
    },
    {
      "cell_type": "code",
      "execution_count": null,
      "metadata": {
        "id": "fFIJ8lk75MlJ"
      },
      "outputs": [],
      "source": [
        "cur.execute('DROP TABLE employees')\n",
        "conn.commit()"
      ]
    },
    {
      "cell_type": "markdown",
      "metadata": {
        "id": "Z9Xn7JfD5MlJ"
      },
      "source": [
        "See the table (expected error):"
      ]
    },
    {
      "cell_type": "code",
      "execution_count": null,
      "metadata": {
        "id": "pBDg2Yvr5MlJ",
        "colab": {
          "base_uri": "https://localhost:8080/",
          "height": 53
        },
        "outputId": "c70bf43e-4bfb-4123-e3eb-3088d4f3fb59"
      },
      "outputs": [
        {
          "output_type": "execute_result",
          "data": {
            "text/plain": [
              "Empty DataFrame\n",
              "Columns: [id, name, age, address, salary]\n",
              "Index: []"
            ],
            "text/html": [
              "\n",
              "  <div id=\"df-6c013a86-0e92-4c8d-9ab6-eff8a2df2738\" class=\"colab-df-container\">\n",
              "    <div>\n",
              "<style scoped>\n",
              "    .dataframe tbody tr th:only-of-type {\n",
              "        vertical-align: middle;\n",
              "    }\n",
              "\n",
              "    .dataframe tbody tr th {\n",
              "        vertical-align: top;\n",
              "    }\n",
              "\n",
              "    .dataframe thead th {\n",
              "        text-align: right;\n",
              "    }\n",
              "</style>\n",
              "<table border=\"1\" class=\"dataframe\">\n",
              "  <thead>\n",
              "    <tr style=\"text-align: right;\">\n",
              "      <th></th>\n",
              "      <th>id</th>\n",
              "      <th>name</th>\n",
              "      <th>age</th>\n",
              "      <th>address</th>\n",
              "      <th>salary</th>\n",
              "    </tr>\n",
              "  </thead>\n",
              "  <tbody>\n",
              "  </tbody>\n",
              "</table>\n",
              "</div>\n",
              "    <div class=\"colab-df-buttons\">\n",
              "\n",
              "  <div class=\"colab-df-container\">\n",
              "    <button class=\"colab-df-convert\" onclick=\"convertToInteractive('df-6c013a86-0e92-4c8d-9ab6-eff8a2df2738')\"\n",
              "            title=\"Convert this dataframe to an interactive table.\"\n",
              "            style=\"display:none;\">\n",
              "\n",
              "  <svg xmlns=\"http://www.w3.org/2000/svg\" height=\"24px\" viewBox=\"0 -960 960 960\">\n",
              "    <path d=\"M120-120v-720h720v720H120Zm60-500h600v-160H180v160Zm220 220h160v-160H400v160Zm0 220h160v-160H400v160ZM180-400h160v-160H180v160Zm440 0h160v-160H620v160ZM180-180h160v-160H180v160Zm440 0h160v-160H620v160Z\"/>\n",
              "  </svg>\n",
              "    </button>\n",
              "\n",
              "  <style>\n",
              "    .colab-df-container {\n",
              "      display:flex;\n",
              "      gap: 12px;\n",
              "    }\n",
              "\n",
              "    .colab-df-convert {\n",
              "      background-color: #E8F0FE;\n",
              "      border: none;\n",
              "      border-radius: 50%;\n",
              "      cursor: pointer;\n",
              "      display: none;\n",
              "      fill: #1967D2;\n",
              "      height: 32px;\n",
              "      padding: 0 0 0 0;\n",
              "      width: 32px;\n",
              "    }\n",
              "\n",
              "    .colab-df-convert:hover {\n",
              "      background-color: #E2EBFA;\n",
              "      box-shadow: 0px 1px 2px rgba(60, 64, 67, 0.3), 0px 1px 3px 1px rgba(60, 64, 67, 0.15);\n",
              "      fill: #174EA6;\n",
              "    }\n",
              "\n",
              "    .colab-df-buttons div {\n",
              "      margin-bottom: 4px;\n",
              "    }\n",
              "\n",
              "    [theme=dark] .colab-df-convert {\n",
              "      background-color: #3B4455;\n",
              "      fill: #D2E3FC;\n",
              "    }\n",
              "\n",
              "    [theme=dark] .colab-df-convert:hover {\n",
              "      background-color: #434B5C;\n",
              "      box-shadow: 0px 1px 3px 1px rgba(0, 0, 0, 0.15);\n",
              "      filter: drop-shadow(0px 1px 2px rgba(0, 0, 0, 0.3));\n",
              "      fill: #FFFFFF;\n",
              "    }\n",
              "  </style>\n",
              "\n",
              "    <script>\n",
              "      const buttonEl =\n",
              "        document.querySelector('#df-6c013a86-0e92-4c8d-9ab6-eff8a2df2738 button.colab-df-convert');\n",
              "      buttonEl.style.display =\n",
              "        google.colab.kernel.accessAllowed ? 'block' : 'none';\n",
              "\n",
              "      async function convertToInteractive(key) {\n",
              "        const element = document.querySelector('#df-6c013a86-0e92-4c8d-9ab6-eff8a2df2738');\n",
              "        const dataTable =\n",
              "          await google.colab.kernel.invokeFunction('convertToInteractive',\n",
              "                                                    [key], {});\n",
              "        if (!dataTable) return;\n",
              "\n",
              "        const docLinkHtml = 'Like what you see? Visit the ' +\n",
              "          '<a target=\"_blank\" href=https://colab.research.google.com/notebooks/data_table.ipynb>data table notebook</a>'\n",
              "          + ' to learn more about interactive tables.';\n",
              "        element.innerHTML = '';\n",
              "        dataTable['output_type'] = 'display_data';\n",
              "        await google.colab.output.renderOutput(dataTable, element);\n",
              "        const docLink = document.createElement('div');\n",
              "        docLink.innerHTML = docLinkHtml;\n",
              "        element.appendChild(docLink);\n",
              "      }\n",
              "    </script>\n",
              "  </div>\n",
              "\n",
              "    </div>\n",
              "  </div>\n"
            ]
          },
          "metadata": {},
          "execution_count": 23
        }
      ],
      "source": [
        "import pandas as pd\n",
        "\n",
        "pd.read_sql_query(\"SELECT * FROM employee\", conn)"
      ]
    },
    {
      "cell_type": "markdown",
      "metadata": {
        "id": "bMDr4KV15MlK"
      },
      "source": [
        "We can also delete a database with the `DROP DATABASE` command as follows:\n",
        "\n",
        "```sql\n",
        "DROP DATABASE <database-name>\n",
        "```\n",
        "\n",
        "Where `<database-name>` is the name of the database to be deleted.\n",
        "\n",
        "We can delete the `db_employee` database with the following command:"
      ]
    },
    {
      "cell_type": "code",
      "execution_count": null,
      "metadata": {
        "vscode": {
          "languageId": "sql"
        },
        "id": "frmi5F165MlK"
      },
      "outputs": [],
      "source": [
        "DROP DATABASE db_employees;"
      ]
    },
    {
      "cell_type": "markdown",
      "metadata": {
        "id": "bIv97QAa5MlK"
      },
      "source": [
        "You can try using the `DROP` command as above in an [online SQL compiler](https://onecompiler.com/postgresql) or in your own pgAdmin / DBMS tool."
      ]
    },
    {
      "cell_type": "markdown",
      "metadata": {
        "id": "TNnJLqkN5MlK"
      },
      "source": [
        "### TRUNCATE\n",
        "\n",
        "The `TRUNCATE` command is used to delete all records (data) within a table.\n",
        "\n",
        "We can delete all records in the `employee` table with the `TRUNCATE TABLE` command as follows:\n",
        "\n",
        "```sql\n",
        "TRUNCATE TABLE <table-name>\n",
        "```\n",
        "\n",
        "Where `<table-name>` is the name of the table whose records will be deleted.\n",
        "\n",
        "We can delete all records in the `employee` table with the following command:"
      ]
    },
    {
      "cell_type": "code",
      "execution_count": null,
      "metadata": {
        "vscode": {
          "languageId": "sql"
        },
        "id": "BaoVI83Q5MlK"
      },
      "outputs": [],
      "source": [
        "TRUNCATE TABLE employee;"
      ]
    },
    {
      "cell_type": "markdown",
      "metadata": {
        "id": "e6Vr5ucJ5MlK"
      },
      "source": [
        "Try in python using SQLite (Insert Data):"
      ]
    },
    {
      "cell_type": "code",
      "execution_count": null,
      "metadata": {
        "id": "af-6B-Iu5MlK",
        "colab": {
          "base_uri": "https://localhost:8080/",
          "height": 211
        },
        "outputId": "e28511d5-925d-46b9-efa4-1843695151c5"
      },
      "outputs": [
        {
          "output_type": "error",
          "ename": "OperationalError",
          "evalue": "no such table: employees",
          "traceback": [
            "\u001b[0;31m---------------------------------------------------------------------------\u001b[0m",
            "\u001b[0;31mOperationalError\u001b[0m                          Traceback (most recent call last)",
            "\u001b[0;32m<ipython-input-20-6bddbf8ec7d4>\u001b[0m in \u001b[0;36m<cell line: 1>\u001b[0;34m()\u001b[0m\n\u001b[0;32m----> 1\u001b[0;31m \u001b[0mcur\u001b[0m\u001b[0;34m.\u001b[0m\u001b[0mexecute\u001b[0m\u001b[0;34m(\u001b[0m\u001b[0;34m\"INSERT INTO employees VALUES (1, 'Rizki', 25, 'Jl. Kebon Jeruk', 2000000)\"\u001b[0m\u001b[0;34m)\u001b[0m\u001b[0;34m\u001b[0m\u001b[0;34m\u001b[0m\u001b[0m\n\u001b[0m\u001b[1;32m      2\u001b[0m \u001b[0mcur\u001b[0m\u001b[0;34m.\u001b[0m\u001b[0mexecute\u001b[0m\u001b[0;34m(\u001b[0m\u001b[0;34m\"INSERT INTO employees VALUES (2, 'Aditira', 22, 'Jl. Cibinong', 19000000)\"\u001b[0m\u001b[0;34m)\u001b[0m\u001b[0;34m\u001b[0m\u001b[0;34m\u001b[0m\u001b[0m\n\u001b[1;32m      3\u001b[0m \u001b[0mconn\u001b[0m\u001b[0;34m.\u001b[0m\u001b[0mcommit\u001b[0m\u001b[0;34m(\u001b[0m\u001b[0;34m)\u001b[0m\u001b[0;34m\u001b[0m\u001b[0;34m\u001b[0m\u001b[0m\n",
            "\u001b[0;31mOperationalError\u001b[0m: no such table: employees"
          ]
        }
      ],
      "source": [
        "cur.execute(\"INSERT INTO employees VALUES (1, 'Rizki', 25, 'Jl. Kebon Jeruk', 2000000)\")\n",
        "cur.execute(\"INSERT INTO employees VALUES (2, 'Aditira', 22, 'Jl. Cibinong', 19000000)\")\n",
        "conn.commit()"
      ]
    },
    {
      "cell_type": "markdown",
      "metadata": {
        "id": "aY3sfh9M5MlL"
      },
      "source": [
        "See the table:"
      ]
    },
    {
      "cell_type": "code",
      "execution_count": null,
      "metadata": {
        "id": "Z4mDNUa35MlL",
        "outputId": "5cbed386-d81a-43c7-f5b5-8acb3009b573"
      },
      "outputs": [
        {
          "data": {
            "text/html": [
              "<div>\n",
              "<style scoped>\n",
              "    .dataframe tbody tr th:only-of-type {\n",
              "        vertical-align: middle;\n",
              "    }\n",
              "\n",
              "    .dataframe tbody tr th {\n",
              "        vertical-align: top;\n",
              "    }\n",
              "\n",
              "    .dataframe thead th {\n",
              "        text-align: right;\n",
              "    }\n",
              "</style>\n",
              "<table border=\"1\" class=\"dataframe\">\n",
              "  <thead>\n",
              "    <tr style=\"text-align: right;\">\n",
              "      <th></th>\n",
              "      <th>id</th>\n",
              "      <th>name</th>\n",
              "      <th>age</th>\n",
              "      <th>address</th>\n",
              "      <th>salary</th>\n",
              "    </tr>\n",
              "  </thead>\n",
              "  <tbody>\n",
              "    <tr>\n",
              "      <th>0</th>\n",
              "      <td>1</td>\n",
              "      <td>Rizki</td>\n",
              "      <td>25</td>\n",
              "      <td>Jl. Kebon Jeruk</td>\n",
              "      <td>2000000</td>\n",
              "    </tr>\n",
              "    <tr>\n",
              "      <th>1</th>\n",
              "      <td>2</td>\n",
              "      <td>Aditira</td>\n",
              "      <td>22</td>\n",
              "      <td>Jl. Cibinong</td>\n",
              "      <td>19000000</td>\n",
              "    </tr>\n",
              "  </tbody>\n",
              "</table>\n",
              "</div>"
            ],
            "text/plain": [
              "   id     name  age          address    salary\n",
              "0   1    Rizki   25  Jl. Kebon Jeruk   2000000\n",
              "1   2  Aditira   22     Jl. Cibinong  19000000"
            ]
          },
          "execution_count": 41,
          "metadata": {},
          "output_type": "execute_result"
        }
      ],
      "source": [
        "import pandas as pd\n",
        "\n",
        "pd.read_sql_query(\"SELECT * FROM employees\", conn)"
      ]
    },
    {
      "cell_type": "markdown",
      "metadata": {
        "id": "g3z4CXBY5MlL"
      },
      "source": [
        "Delete all records:"
      ]
    },
    {
      "cell_type": "code",
      "execution_count": null,
      "metadata": {
        "id": "06lWBCTR5MlL"
      },
      "outputs": [],
      "source": [
        "cur.execute('DELETE FROM employees')\n",
        "conn.commit()"
      ]
    },
    {
      "cell_type": "markdown",
      "metadata": {
        "id": "ed6zpVZX5MlL"
      },
      "source": [
        "See the table:"
      ]
    },
    {
      "cell_type": "code",
      "execution_count": null,
      "metadata": {
        "id": "L7TlhPtl5MlL",
        "outputId": "a2656108-1a4b-4098-aac7-7950c47802d5"
      },
      "outputs": [
        {
          "data": {
            "text/html": [
              "<div>\n",
              "<style scoped>\n",
              "    .dataframe tbody tr th:only-of-type {\n",
              "        vertical-align: middle;\n",
              "    }\n",
              "\n",
              "    .dataframe tbody tr th {\n",
              "        vertical-align: top;\n",
              "    }\n",
              "\n",
              "    .dataframe thead th {\n",
              "        text-align: right;\n",
              "    }\n",
              "</style>\n",
              "<table border=\"1\" class=\"dataframe\">\n",
              "  <thead>\n",
              "    <tr style=\"text-align: right;\">\n",
              "      <th></th>\n",
              "      <th>id</th>\n",
              "      <th>name</th>\n",
              "      <th>age</th>\n",
              "      <th>address</th>\n",
              "      <th>salary</th>\n",
              "    </tr>\n",
              "  </thead>\n",
              "  <tbody>\n",
              "  </tbody>\n",
              "</table>\n",
              "</div>"
            ],
            "text/plain": [
              "Empty DataFrame\n",
              "Columns: [id, name, age, address, salary]\n",
              "Index: []"
            ]
          },
          "execution_count": 43,
          "metadata": {},
          "output_type": "execute_result"
        }
      ],
      "source": [
        "import pandas as pd\n",
        "\n",
        "pd.read_sql_query(\"SELECT * FROM employees\", conn)"
      ]
    },
    {
      "cell_type": "markdown",
      "metadata": {
        "id": "BDW9RhpA5MlM"
      },
      "source": [
        "When the command above is run, all records (rows of data) in the `employee` table will be deleted, resulting in 0 records.\n",
        "\n",
        "You can try using the `TRUNCATE` command as above in an [online SQL compiler](https://onecompiler.com/postgresql) or in your own pgAdmin / DBMS tool."
      ]
    },
    {
      "cell_type": "code",
      "execution_count": null,
      "metadata": {
        "id": "K_ELmT3w5MlM"
      },
      "outputs": [],
      "source": [
        "# Close the connection\n",
        "conn.close()"
      ]
    },
    {
      "cell_type": "markdown",
      "metadata": {
        "id": "M7vLVvOq5MlM"
      },
      "source": [
        "Next we'll go into how to set up and manipulate data in tables."
      ]
    }
  ],
  "metadata": {
    "kernelspec": {
      "display_name": "Python 3 (ipykernel)",
      "language": "python",
      "name": "python3"
    },
    "language_info": {
      "codemirror_mode": {
        "name": "ipython",
        "version": 3
      },
      "file_extension": ".py",
      "mimetype": "text/x-python",
      "name": "python",
      "nbconvert_exporter": "python",
      "pygments_lexer": "ipython3",
      "version": "3.11.3"
    },
    "colab": {
      "provenance": []
    }
  },
  "nbformat": 4,
  "nbformat_minor": 0
}