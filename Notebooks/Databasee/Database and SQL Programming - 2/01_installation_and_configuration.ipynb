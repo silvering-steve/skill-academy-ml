{
  "cells": [
    {
      "cell_type": "markdown",
      "metadata": {
        "id": "GcZqoWmjffZv"
      },
      "source": [
        "## Installation and Configuration\n",
        "\n",
        "![Elasticsearch](https://storage.googleapis.com/rg-ai-bootcamp/database/elasticsearch-min.png)\n",
        "\n",
        "_Elasticsearch (Source: [technocratsid.com](https://www.technocratsid.com/how-to-create-an-elasticsearch-6-4-1-plugin/))_"
      ]
    },
    {
      "cell_type": "markdown",
      "metadata": {
        "id": "wv1b-l9IffZx"
      },
      "source": [
        "### Downloading Elasticsearch\n",
        "\n",
        "Follow these steps to download Elasticsearch:\n",
        "\n",
        "1. **Download Format:** It's recommended to download Elasticsearch in Archive File format (`.tar.gz` for Linux/Mac or `.zip` for Windows) from the official Elastic website at <https://www.elastic.co/elasticsearch/>.\n",
        "2. Follow the website's instructions to download.\n",
        "\n",
        "### Elasticsearch Configuration\n",
        "\n",
        "Upon setup, adjust some configurations:\n",
        "\n",
        "1. **X-Pack:** Disable X-Pack, a paid feature developed by Elastic.\n",
        "2. **Configuration File:** All configurations are in the `config/elasticsearch.yml` file.\n",
        "3. **Configuration Format:** Elasticsearch uses the YAML format for its configuration. Learn more at <https://yaml.org/>.\n",
        "\n",
        "![Elasticsearch Configuration](https://storage.googleapis.com/rg-ai-bootcamp/database/elasticsearch-yml-min.png)\n",
        "\n",
        "Remember to save and restart your Elasticsearch instance after changes!\n",
        "\n",
        "### Running Elasticsearch\n",
        "\n",
        "After download and configuration, you're set to run Elasticsearch:\n",
        "\n",
        "1. **Start Elasticsearch:** Execute the `bin/elasticsearch` file in a terminal to start the server.\n",
        "2. **Access Elasticsearch:** If successful, access Elasticsearch at port 9200 (http://localhost:9200), as per the `http.port` configuration.\n",
        "3. **Stop Elasticsearch:** To stop the application, use `Ctrl + C` in the terminal running the server.\n",
        "\n",
        "Keep Elasticsearch running to interact with it, whether for creating indices, querying data, or other tasks!\n",
        "\n",
        "### Status Elasticsearch\n",
        "\n",
        "You can check the status of your Elasticsearch instance by sending a GET request to its HTTP API. This is usually done by accessing the root path, or home page, of your Elasticsearch instance. If your Elasticsearch server is running locally, the URL will typically be `http://localhost:9200`.\n",
        "\n",
        "When you navigate to this URL, you should see a JSON response with information about your Elasticsearch instance. Here's what the response looks like:\n",
        "\n",
        "![Elasticsearch Running](https://storage.googleapis.com/rg-ai-bootcamp/database/es-running-min.png)"
      ]
    },
    {
      "cell_type": "markdown",
      "metadata": {
        "id": "fzXCUSPkffZx"
      },
      "source": [
        "### Setting Up Elasticsearch on Google Colaboratory"
      ]
    },
    {
      "cell_type": "markdown",
      "metadata": {
        "id": "Z4Qc94rlffZy"
      },
      "source": [
        "Imagine you're a data scientist working on your machine learning project. You're dealing with a large amount of data that needs to be searched and analyzed efficiently. Elasticsearch, a powerful search and analytics engine, comes to mind. But there's a problem: your local machine may not have the resources to handle an Elasticsearch instance and the associated data workload.\n",
        "\n",
        "Here's where Google Colab, a cloud-based Python notebook service, comes in handy. By setting up Elasticsearch on Google Colab, you can leverage the power of cloud computing to handle your data workload, freeing up your local resources. Now let's dive into how to set this up!\n"
      ]
    },
    {
      "cell_type": "markdown",
      "metadata": {
        "id": "89R8vWiYffZy"
      },
      "source": [
        "Now, we need to download and set up the Elasticsearch instance. For our purposes, we'll use the open-source version of Elasticsearch."
      ]
    },
    {
      "cell_type": "code",
      "execution_count": null,
      "metadata": {
        "id": "dXtSAPF_ffZy"
      },
      "outputs": [],
      "source": [
        "%%bash\n",
        "\n",
        "wget -q https://artifacts.elastic.co/downloads/elasticsearch/elasticsearch-oss-7.9.2-linux-x86_64.tar.gz\n",
        "wget -q https://artifacts.elastic.co/downloads/elasticsearch/elasticsearch-oss-7.9.2-linux-x86_64.tar.gz.sha512\n",
        "tar -xzf elasticsearch-oss-7.9.2-linux-x86_64.tar.gz\n",
        "sudo chown -R daemon:daemon elasticsearch-7.9.2/\n",
        "shasum -a 512 -c elasticsearch-oss-7.9.2-linux-x86_64.tar.gz.sha512"
      ]
    },
    {
      "cell_type": "markdown",
      "metadata": {
        "id": "08fcLZDjffZ8"
      },
      "source": [
        "We're ready to start our Elasticsearch instance! We'll run it as a daemon process:"
      ]
    },
    {
      "cell_type": "code",
      "execution_count": null,
      "metadata": {
        "id": "O7m6dfoXffZ8"
      },
      "outputs": [],
      "source": [
        "%%bash --bg\n",
        "\n",
        "sudo -H -u daemon elasticsearch-7.9.2/bin/elasticsearch"
      ]
    },
    {
      "cell_type": "markdown",
      "metadata": {
        "id": "ZTXiVcxfffZ8"
      },
      "source": [
        "It takes a few seconds for the instance to start. Let's pause our script for a bit to let Elasticsearch get up and running:"
      ]
    },
    {
      "cell_type": "code",
      "execution_count": null,
      "metadata": {
        "id": "7ylUJ9DVffZ9"
      },
      "outputs": [],
      "source": [
        "time.sleep(20)"
      ]
    },
    {
      "cell_type": "markdown",
      "metadata": {
        "id": "1X-jBRgxffZ9"
      },
      "source": [
        "Once the instance has started, we can check its availability by looking for `elasticsearch` in the process list:"
      ]
    },
    {
      "cell_type": "code",
      "execution_count": null,
      "metadata": {
        "id": "bTxnNn8pffZ9"
      },
      "outputs": [],
      "source": [
        "%%bash\n",
        "\n",
        "ps -ef | grep elasticsearch"
      ]
    },
    {
      "cell_type": "markdown",
      "metadata": {
        "id": "j-RWgVQpffZ9"
      },
      "source": [
        "Finally, let's make sure our Elasticsearch instance is working correctly by querying the base endpoint:"
      ]
    },
    {
      "cell_type": "code",
      "execution_count": null,
      "metadata": {
        "id": "knnS8UHMffZ9"
      },
      "outputs": [],
      "source": [
        "%%bash\n",
        "\n",
        "curl -sX GET \"localhost:9200/\""
      ]
    },
    {
      "cell_type": "markdown",
      "metadata": {
        "id": "sy3NDM21ffZ-"
      },
      "source": [
        "By setting up Elasticsearch on Google Colab, we've solved our problem! We now have a powerful search and analytics engine at our disposal, without the need for any local resources."
      ]
    }
  ],
  "metadata": {
    "kernelspec": {
      "display_name": "Python 3 (ipykernel)",
      "language": "python",
      "name": "python3"
    },
    "language_info": {
      "codemirror_mode": {
        "name": "ipython",
        "version": 3
      },
      "file_extension": ".py",
      "mimetype": "text/x-python",
      "name": "python",
      "nbconvert_exporter": "python",
      "pygments_lexer": "ipython3",
      "version": "3.11.5"
    },
    "colab": {
      "provenance": []
    }
  },
  "nbformat": 4,
  "nbformat_minor": 0
}