{
  "cells": [
    {
      "cell_type": "markdown",
      "metadata": {
        "id": "vxn0VEPvX3i8"
      },
      "source": [
        "## Data Modeling\n",
        "\n",
        "![Elasticsearch](https://storage.googleapis.com/rg-ai-bootcamp/database/elasticsearch-min.png)\n",
        "\n",
        "_Elasticsearch (Source: [technocratsid.com](https://www.technocratsid.com/how-to-create-an-elasticsearch-6-4-1-plugin/))_"
      ]
    },
    {
      "cell_type": "markdown",
      "metadata": {
        "id": "AlX1gTpOX3i_"
      },
      "source": [
        "Data modeling is a design process that defines the structure, organization, and types of data, optimizing the way data is stored, organized, and accessed. The importance of data modeling lies in its ability to optimize data retrieval, maintain data integrity, and improve overall performance, especially with vast amounts of data.\n",
        "\n"
      ]
    },
    {
      "cell_type": "markdown",
      "metadata": {
        "id": "kuavsVZsX3i_"
      },
      "source": [
        "### Importance of Data Modeling\n",
        "\n",
        "Understanding data modeling in Elasticsearch is crucial:\n",
        "\n",
        "- **Migration Complexity:** Moving from a relational database to Elasticsearch is not a simple data shift due to different data structures and query mechanisms.\n",
        "- **Efficient Searching and Analysis:** To fully use Elasticsearch's capabilities, you need to structure your data for efficient searching and analysis.\n",
        "- **Normalization vs Search-Oriented Modeling:** Unlike database normalization in relational databases, Elasticsearch often involves denormalization to speed up search operations.\n",
        "\n",
        "### Elasticsearch's Schema\n",
        "\n",
        "Elasticsearch provides a flexible yet consistent schema:\n",
        "\n",
        "- **Schemaless Data Insertion:** You can insert data into an index without pre-defining the schema.\n",
        "- **Flexible But Consistent Schema:** Once a schema is formed, existing attributes can't be changed, only new ones can be added. This differs from MongoDB's fully dynamic schema.\n",
        "\n",
        "### Primary Key\n",
        "\n",
        "The primary key in Elasticsearch is unique:\n",
        "\n",
        "- **Mandatory ID:** An ID is required when creating a document to uniquely identify it in an index.\n",
        "- **Fixed ID Field:** The primary key is always the `_id` field.\n",
        "- **Single Field and String Type:** The primary key can't consist of more than one field, and the `_id` type is always a string.\n",
        "\n",
        "### Data Model Perspectives\n",
        "\n",
        "In Elasticsearch, consider these perspectives when creating a schema index:\n",
        "\n",
        "- **Embedded Document:** Used for one-to-one or one-to-many relationships, this model nests documents within another for faster queries.\n",
        "- **Reference Document:** Each document stands alone and references others by their IDs. This is used for many-to-many relationships or large data.\n",
        "\n",
        "![Structure Document](https://storage.googleapis.com/rg-ai-bootcamp/database/structure-document-min.png)\n",
        "\n",
        "![Reference Document](https://storage.googleapis.com/rg-ai-bootcamp/database/reference-document-min.png)\n",
        "\n",
        "### Embedded vs Reference\n",
        "\n",
        "| Use **Embedded** documents | Use **Reference** documents |\n",
        "| -------------------------- | --------------------------- |\n",
        "| If there's a strong dependency between documents or if the embedded document is always needed when retrieving the main one. | If the documents can stand alone, can be manipulated directly, or if the reference document is not always needed when retrieving the main one |\n",
        "\n",
        "The choice depends on your specific use case and data nature."
      ]
    },
    {
      "cell_type": "markdown",
      "metadata": {
        "id": "1I9onHrDX3jA"
      },
      "source": [
        "## Data Types\n",
        "\n",
        "Elasticsearch supports numerous data types. Here are some basic ones:\n",
        "\n",
        "### Basic Data Types\n",
        "\n",
        "| Data Type | Description |\n",
        "|--------------|------------------------------------------------------------------------|\n",
        "| binary | Base64 encoded string |\n",
        "| boolean | True or false |\n",
        "| date | Date and time (up to millisecond) |\n",
        "| date_nanos | Date and time (up to nanosecond) |\n",
        "| ip | IPv4 or IPv6 |\n",
        "| keyword | Structured text (e.g., id, email, hostname, zipcode) |\n",
        "| text | Text |\n",
        "| version | Semantic version data |\n",
        "\n",
        "### Numeric Data Types\n",
        "\n",
        "| Numeric Data Type | Description |\n",
        "|-------------------|-----------------------------------------------------------|\n",
        "| long | 64-bit integer (-$2^{63}$ to $2^{63} - 1$) |\n",
        "| integer | 32-bit integer (-$2^{31}$ to $2^{31} - 1$) |\n",
        "| short | 16-bit integer (-32768 to 32764) |\n",
        "| byte | 8-bit integer (-128 to 127) |\n",
        "| double | 64-bit IEEE 754 floating point |\n",
        "| float | 32-bit IEEE 754 floating point |\n",
        "| half_float | Half of a 16-bit IEEE 754 floating point |\n",
        "| scaled_float | Floating point stored in long |\n",
        "| unsigned_long | 64-bit integer (0 to $2^{64} - 1$) |\n",
        "\n",
        "### Range Data Types\n",
        "\n",
        "| Range Data Type | Description |\n",
        "|-----------------|----------------------------------|\n",
        "| integer_range | Range of min and max integer |\n",
        "| float_range | Range of min and max float |\n",
        "| long_range | Range of min and max long |\n",
        "| double_range | Range of min and max double |\n",
        "| date_range | Range of min and max date |\n",
        "| ip_range | Range of min and max IP |\n",
        "\n",
        "### Other Data Types\n",
        "\n",
        "Includes Geopoint, Geoshape, Point, Shape, Rank, Token, and Completion.\n",
        "\n",
        "Elasticsearch supports many other types, especially for Geospatial data."
      ]
    },
    {
      "cell_type": "markdown",
      "metadata": {
        "id": "bqGF20tGX3jA"
      },
      "source": [
        "## Working with Embedded Data Types\n",
        "\n",
        "When using Elasticsearch, we often work with data in the JSON format, which allows us to have data elements embedded within other elements. These could be objects or arrays. But how does Elasticsearch handle these complex structures?\n",
        "\n",
        "### Behind the scenes: Apache Lucene\n",
        "\n",
        "Elasticsearch works its magic by using a powerful engine called Apache Lucene. When you give Elasticsearch a piece of data, it takes your JSON and transforms it into a format that Lucene can understand.\n",
        "\n",
        "Think of it like a translator. You're speaking in JSON, and Lucene only understands its own language. So Elasticsearch steps in and translates your JSON into 'Lucenese'.\n",
        "\n",
        "But there's a little twist. Lucene's world is more like a simple dictionary: it's all about keys and values, and it doesn't really understand the concept of embedded data types. So when it sees a complex JSON data structure, it needs to flatten it out.\n",
        "\n",
        "Let's look at some examples to illustrate how this transformation happens (images):\n",
        "\n",
        "![](https://storage.googleapis.com/rg-ai-bootcamp/database/es-array-to-lucene-min.png)\n",
        "\n",
        "![](https://storage.googleapis.com/rg-ai-bootcamp/database/es-array-to-lucene-min.png)\n",
        "\n",
        "![](https://storage.googleapis.com/rg-ai-bootcamp/database/es-embedd-object-to-lucene-min.png)\n",
        "\n",
        "![](https://storage.googleapis.com/rg-ai-bootcamp/database/es-array-embed-object-to-lucene-min.png)\n",
        "\n",
        "Remember, this is a simplified explanation. The actual process Elasticsearch uses to transform your data into something Lucene can work with involves some complex steps like indexing. But for now, understanding this basic process can help you see how Elasticsearch handles embedded data types."
      ]
    }
  ],
  "metadata": {
    "kernelspec": {
      "display_name": "Python 3 (ipykernel)",
      "language": "python",
      "name": "python3"
    },
    "language_info": {
      "codemirror_mode": {
        "name": "ipython",
        "version": 3
      },
      "file_extension": ".py",
      "mimetype": "text/x-python",
      "name": "python",
      "nbconvert_exporter": "python",
      "pygments_lexer": "ipython3",
      "version": "3.11.3"
    },
    "colab": {
      "provenance": []
    }
  },
  "nbformat": 4,
  "nbformat_minor": 0
}