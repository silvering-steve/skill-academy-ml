{
  "cells": [
    {
      "cell_type": "markdown",
      "metadata": {
        "id": "O3sozBdDil-p"
      },
      "source": [
        "# Snapshot\n",
        "\n",
        "\n",
        "![Elasticsearch](https://storage.googleapis.com/rg-ai-bootcamp/database/elasticsearch-min.png)\n",
        "\n",
        "_Elasticsearch (Source: [technocratsid.com](https://www.technocratsid.com/how-to-create-an-elasticsearch-6-4-1-plugin/))_"
      ]
    },
    {
      "cell_type": "markdown",
      "metadata": {
        "id": "fV_jRcCTil-w"
      },
      "source": [
        "Let's think of Elasticsearch as a vast library filled with knowledge. The data in your Elasticsearch cluster are like the precious books in this library.\n",
        "\n",
        "A **Snapshot** is like a detailed photocopy of every book in the library. It acts as a backup for your Elasticsearch cluster, ensuring that all the data is safely copied and stored. You might regularly create snapshots to safeguard against accidents such as a coffee spill (hardware failure) or unintentional removal of a book (accidentally deleting an index).\n",
        "\n",
        "Before you can start making photocopies (snapshots), you need a place to store them. That's where the **Snapshot Repository** comes in. It's like a dedicated room in your library where you keep all these photocopies. Elasticsearch supports a wide variety of storage locations for your repositories, such as AWS S3, GCP Storage, Azure Storage, and more. For simplicity's sake, in this lesson we're going to use the easiest method - File Storage, which allows you to store the snapshots on your own computer. To set up a repository, you need to tweak the library's blueprint (change the `elasticsearch.yml` configuration), and then restart the library's operating system (restart Elasticsearch).\n",
        "\n",
        "![Path Repo](https://storage.googleapis.com/rg-ai-bootcamp/database/path-repo-min.png)\n",
        "\n",
        "To create a repository, you use the library's intercom system (Elasticsearch's API) and make an announcement like: \"Please set up a new repository in room `<nama_repository>`.\" In API terms, this would be: `PUT _snapshot/<nama_repository>`."
      ]
    },
    {
      "cell_type": "markdown",
      "metadata": {
        "id": "3xAwB9x_il-x"
      },
      "source": [
        "Before we start practicing, install the elasticsearch package"
      ]
    },
    {
      "cell_type": "code",
      "execution_count": null,
      "metadata": {
        "id": "QeWjBfEmil-x"
      },
      "outputs": [],
      "source": [
        "%pip install elasticsearch"
      ]
    },
    {
      "cell_type": "markdown",
      "metadata": {
        "id": "BM61oqWHil-z"
      },
      "source": [
        "import the packages we need"
      ]
    },
    {
      "cell_type": "code",
      "execution_count": null,
      "metadata": {
        "id": "UsZahV9Vil-0"
      },
      "outputs": [],
      "source": [
        "from elasticsearch import Elasticsearch\n",
        "import time\n",
        "import json"
      ]
    },
    {
      "cell_type": "markdown",
      "metadata": {
        "id": "SxZRzl19il-0"
      },
      "source": [
        "Create a connection to elasticsearch, make sure elasticsearch is running on your computer's localhost or is running on Google Collab."
      ]
    },
    {
      "cell_type": "code",
      "execution_count": null,
      "metadata": {
        "id": "5U9ApSoNil-4"
      },
      "outputs": [],
      "source": [
        "es = Elasticsearch([{'host': 'localhost', 'port': 9200, 'scheme': 'http'}])"
      ]
    },
    {
      "cell_type": "code",
      "execution_count": null,
      "metadata": {
        "id": "e5QF2Fb1il-5",
        "outputId": "30e98056-6016-457d-ef78-7931e47b0ea9"
      },
      "outputs": [
        {
          "name": "stdout",
          "output_type": "stream",
          "text": [
            "{\n",
            "    \"acknowledged\": true\n",
            "}\n"
          ]
        }
      ],
      "source": [
        "# create repository\n",
        "# PUT http://localhost:9200/_snapshot/first_backup\n",
        "response = es.snapshot.create_repository(\n",
        "    name='first_backup',\n",
        "    body={\n",
        "        \"type\": \"fs\",\n",
        "        \"settings\": {\n",
        "            \"location\": \"./snapshot\"\n",
        "        }\n",
        "    }\n",
        ")\n",
        "\n",
        "print(json.dumps(response.body, indent=4))"
      ]
    },
    {
      "cell_type": "code",
      "execution_count": null,
      "metadata": {
        "id": "9ox4gWpdil-9",
        "outputId": "f83c4c6a-243f-4c72-e0b2-1568baa3578c"
      },
      "outputs": [
        {
          "name": "stdout",
          "output_type": "stream",
          "text": [
            "{'first_backup': {'type': 'fs', 'settings': {'location': './snapshot'}}}\n"
          ]
        }
      ],
      "source": [
        "# list repositories\n",
        "# GET http://localhost:9200/_snapshot\n",
        "response = es.snapshot.get_repository()\n",
        "print(response)"
      ]
    },
    {
      "cell_type": "markdown",
      "metadata": {
        "id": "3bmn5Tbyil-9"
      },
      "source": [
        "### Membuat Snapshot\n",
        "\n",
        "Continuing with our library analogy, creating a **Snapshot** is like deciding to make photocopies of all the books or only specific ones.\n",
        "\n",
        "To create a snapshot, you would use the library's intercom (Elasticsearch's API) and make an announcement like: \"Please start making photocopies in room `<nama_repository>` and label them `<nama_snapshot>`.\" In API terms, this would be: `PUT /_snapshot/<nama_repository>/<nama_snapshot>`.\n",
        "\n",
        "You have the freedom to decide whether you want to backup the whole library (all indices) or only specific sections (certain indices). You can specify this in the Request Body.\n",
        "\n",
        "For a more detailed guide on how to make these photocopies (create snapshots), you can visit the library's online handbook at [Elasticsearch's Create Snapshot API documentation](https://www.elastic.co/guide/en/elasticsearch/reference/current/create-snapshot-api.html)."
      ]
    },
    {
      "cell_type": "code",
      "execution_count": null,
      "metadata": {
        "id": "ZiZj0u8_il--",
        "outputId": "933e5b0a-5d15-4c58-8e1d-444d3d27b6a4"
      },
      "outputs": [
        {
          "name": "stdout",
          "output_type": "stream",
          "text": [
            "{\n",
            "    \"accepted\": true\n",
            "}\n"
          ]
        }
      ],
      "source": [
        "# create snapshot\n",
        "# POST http://localhost:9200/_snapshot/first_backup/snapshot1\n",
        "response = es.snapshot.create(repository='first_backup', snapshot='snapshot1')\n",
        "print(json.dumps(response.body, indent=4))"
      ]
    },
    {
      "cell_type": "code",
      "execution_count": null,
      "metadata": {
        "id": "D9GaXPD8il--",
        "outputId": "1b091c1a-3328-405e-a710-3c019162b033"
      },
      "outputs": [
        {
          "name": "stdout",
          "output_type": "stream",
          "text": [
            "{\n",
            "    \"snapshots\": [\n",
            "        {\n",
            "            \"snapshot\": \"snapshot1\",\n",
            "            \"uuid\": \"vUJAwg2MQeC9pdv-Ogla5Q\",\n",
            "            \"repository\": \"first_backup\",\n",
            "            \"version_id\": 8100099,\n",
            "            \"version\": \"8100099\",\n",
            "            \"indices\": [\n",
            "                \"orders\",\n",
            "                \"products\",\n",
            "                \"customers\"\n",
            "            ],\n",
            "            \"data_streams\": [],\n",
            "            \"include_global_state\": true,\n",
            "            \"state\": \"SUCCESS\",\n",
            "            \"start_time\": \"2023-12-13T09:08:54.995Z\",\n",
            "            \"start_time_in_millis\": 1702458534995,\n",
            "            \"end_time\": \"2023-12-13T09:08:55.196Z\",\n",
            "            \"end_time_in_millis\": 1702458535196,\n",
            "            \"duration_in_millis\": 201,\n",
            "            \"failures\": [],\n",
            "            \"shards\": {\n",
            "                \"total\": 3,\n",
            "                \"failed\": 0,\n",
            "                \"successful\": 3\n",
            "            },\n",
            "            \"feature_states\": []\n",
            "        }\n",
            "    ],\n",
            "    \"total\": 1,\n",
            "    \"remaining\": 0\n",
            "}\n"
          ]
        }
      ],
      "source": [
        "# get snapshot\n",
        "# GET http://localhost:9200/_snapshot/first_backup/snapshot1\n",
        "response = es.snapshot.get(repository='first_backup', snapshot='snapshot1')\n",
        "print(json.dumps(response.body, indent=4))"
      ]
    },
    {
      "cell_type": "code",
      "execution_count": null,
      "metadata": {
        "id": "FWulCzkFil--",
        "outputId": "899ff028-b198-4b8c-ee76-a967ac7d37ae"
      },
      "outputs": [
        {
          "name": "stdout",
          "output_type": "stream",
          "text": [
            "{\n",
            "    \"first_backup\": {\n",
            "        \"type\": \"fs\",\n",
            "        \"uuid\": \"Oh7WOZl-T8WXVrq1CbwYhw\",\n",
            "        \"settings\": {\n",
            "            \"location\": \"./snapshot\"\n",
            "        }\n",
            "    }\n",
            "}\n"
          ]
        }
      ],
      "source": [
        "# list snapshot\n",
        "# GET http://localhost:9200/_cat/snapshots?v\n",
        "response = es.snapshot.get_repository(name='first_backup')\n",
        "print(json.dumps(response.body, indent=4))"
      ]
    },
    {
      "cell_type": "markdown",
      "metadata": {
        "id": "19KPcNA9il-_"
      },
      "source": [
        "### Restore\n",
        "\n",
        "Let's imagine that one day, there's an accident in the library and all the books in the 'categories' section get damaged. Thankfully, you have a room filled with photocopies (snapshots) of all the books. You can now **Restore** the 'categories' section using these photocopies.\n",
        "\n",
        "Restoring is like bringing back the damaged books using the photocopies you've made. You don't need to restore the entire library; you can choose to only restore the 'categories' section (specific index).\n",
        "\n",
        "To do this, you would use the library's intercom (Elasticsearch's API) and make an announcement like: \"Please restore the 'categories' section using the photocopies in room `<nama_repository>` labeled `<nama_snapshot>`\". In API terms, this would be: `POST /_snapshot/<nama_repository>/<nama_snapshot>/_restore`.\n",
        "\n",
        "So, even though accidents can happen, thanks to snapshots and the ability to restore, your library can continue to function and serve its readers without losing valuable knowledge."
      ]
    },
    {
      "cell_type": "markdown",
      "metadata": {
        "id": "StJ1YPoHil-_"
      },
      "source": [
        "Restore Snapshot"
      ]
    },
    {
      "cell_type": "code",
      "execution_count": null,
      "metadata": {
        "id": "mQdenQFril-_",
        "outputId": "d045bcbd-14c0-4ae9-bae3-3541ad9f6b39"
      },
      "outputs": [
        {
          "name": "stdout",
          "output_type": "stream",
          "text": [
            "{\n",
            "    \"took\": 369,\n",
            "    \"timed_out\": false,\n",
            "    \"total\": 2000,\n",
            "    \"deleted\": 2000,\n",
            "    \"batches\": 2,\n",
            "    \"version_conflicts\": 0,\n",
            "    \"noops\": 0,\n",
            "    \"retries\": {\n",
            "        \"bulk\": 0,\n",
            "        \"search\": 0\n",
            "    },\n",
            "    \"throttled_millis\": 0,\n",
            "    \"requests_per_second\": -1.0,\n",
            "    \"throttled_until_millis\": 0,\n",
            "    \"failures\": []\n",
            "}\n"
          ]
        }
      ],
      "source": [
        "# delete all customers\n",
        "# POST http://localhost:9200/customers/_delete_by_query\n",
        "response = es.delete_by_query(index='customers', body={\n",
        "    'query': {\n",
        "        'match_all': {}\n",
        "    }\n",
        "})\n",
        "print(json.dumps(response.body, indent=4))"
      ]
    },
    {
      "cell_type": "code",
      "execution_count": null,
      "metadata": {
        "id": "3fOtu7FVil-_",
        "outputId": "8056db0e-b081-476e-f00e-977b34b9f2cd"
      },
      "outputs": [
        {
          "name": "stdout",
          "output_type": "stream",
          "text": [
            "{\n",
            "    \"took\": 67,\n",
            "    \"timed_out\": false,\n",
            "    \"_shards\": {\n",
            "        \"total\": 1,\n",
            "        \"successful\": 1,\n",
            "        \"skipped\": 0,\n",
            "        \"failed\": 0\n",
            "    },\n",
            "    \"hits\": {\n",
            "        \"total\": {\n",
            "            \"value\": 0,\n",
            "            \"relation\": \"eq\"\n",
            "        },\n",
            "        \"max_score\": null,\n",
            "        \"hits\": []\n",
            "    }\n",
            "}\n"
          ]
        }
      ],
      "source": [
        "# search customers\n",
        "# POST http://localhost:9200/customers/_search\n",
        "response = es.search(index='customers', body={\n",
        "    'query': {\n",
        "        'match_all': {}\n",
        "    }\n",
        "})\n",
        "print(json.dumps(response.body, indent=4))"
      ]
    },
    {
      "cell_type": "code",
      "execution_count": null,
      "metadata": {
        "id": "BbN2vywSil_A",
        "outputId": "615eb6ad-3b21-4026-e894-ad4bcdfa3e5f"
      },
      "outputs": [
        {
          "name": "stdout",
          "output_type": "stream",
          "text": [
            "{\n",
            "    \"acknowledged\": true,\n",
            "    \"shards_acknowledged\": true,\n",
            "    \"indices\": {\n",
            "        \"customers\": {\n",
            "            \"closed\": true\n",
            "        }\n",
            "    }\n",
            "}\n"
          ]
        }
      ],
      "source": [
        "# close index customers\n",
        "# POST http://localhost:9200/customers/_close\n",
        "response = es.indices.close(index='customers')\n",
        "print(json.dumps(response.body, indent=4))"
      ]
    },
    {
      "cell_type": "code",
      "execution_count": null,
      "metadata": {
        "id": "JfYr6Gsoil_A"
      },
      "outputs": [],
      "source": [
        "# restore customers from snapshot\n",
        "# POST http://localhost:9200/_snapshot/first_backup/snapshot1/_restore\n",
        "response = es.snapshot.restore(\n",
        "    repository='first_backup',\n",
        "    snapshot='snapshot1',\n",
        "    body={\n",
        "        \"indices\": \"customers\",\n",
        "        \"rename_pattern\": \"customers\",\n",
        "        \"rename_replacement\": \"new_customers\"\n",
        "    }\n",
        ")\n",
        "\n",
        "print(json.dumps(response.body, indent=4))"
      ]
    },
    {
      "cell_type": "code",
      "execution_count": null,
      "metadata": {
        "id": "eX4EcRayil_A",
        "outputId": "3d435e34-c858-4dcc-ee21-14502798c4af"
      },
      "outputs": [
        {
          "name": "stdout",
          "output_type": "stream",
          "text": [
            "{\n",
            "    \"acknowledged\": true,\n",
            "    \"shards_acknowledged\": true\n",
            "}\n"
          ]
        }
      ],
      "source": [
        "# open index customers\n",
        "# POST http://localhost:9200/new_customers/_open\n",
        "response = es.indices.open(index='new_customers')\n",
        "print(json.dumps(response.body, indent=4))"
      ]
    },
    {
      "cell_type": "code",
      "execution_count": null,
      "metadata": {
        "id": "QJGVfsj_il_A",
        "outputId": "9e29f76e-0d16-4b5f-ee7e-dc60b3b17e76"
      },
      "outputs": [
        {
          "name": "stdout",
          "output_type": "stream",
          "text": [
            "{\n",
            "    \"took\": 17,\n",
            "    \"timed_out\": false,\n",
            "    \"_shards\": {\n",
            "        \"total\": 1,\n",
            "        \"successful\": 1,\n",
            "        \"skipped\": 0,\n",
            "        \"failed\": 0\n",
            "    },\n",
            "    \"hits\": {\n",
            "        \"total\": {\n",
            "            \"value\": 2000,\n",
            "            \"relation\": \"eq\"\n",
            "        },\n",
            "        \"max_score\": 1.0,\n",
            "        \"hits\": [\n",
            "            {\n",
            "                \"_index\": \"new_customers\",\n",
            "                \"_id\": \"KbJGYowBtsOVXdO2r74I\",\n",
            "                \"_score\": 1.0,\n",
            "                \"_source\": {\n",
            "                    \"index\": {\n",
            "                        \"_index\": \"customers\",\n",
            "                        \"_id\": \"username1\"\n",
            "                    }\n",
            "                }\n",
            "            },\n",
            "            {\n",
            "                \"_index\": \"new_customers\",\n",
            "                \"_id\": \"KrJGYowBtsOVXdO2r74I\",\n",
            "                \"_score\": 1.0,\n",
            "                \"_source\": {\n",
            "                    \"username\": \"username1\",\n",
            "                    \"first_name\": \"Rollie\",\n",
            "                    \"last_name\": \"Farge\",\n",
            "                    \"email\": \"rfarge0@sphinn.com\",\n",
            "                    \"gender\": \"Male\",\n",
            "                    \"birth_date\": \"1984-11-23\",\n",
            "                    \"address\": {\n",
            "                        \"street\": \"227 Eastwood Pass\",\n",
            "                        \"city\": \"New York City\",\n",
            "                        \"province\": \"New York\",\n",
            "                        \"country\": \"United States\",\n",
            "                        \"zip_code\": \"10131\"\n",
            "                    },\n",
            "                    \"hobbies\": [\n",
            "                        \"Coding\",\n",
            "                        \"Gaming\"\n",
            "                    ],\n",
            "                    \"banks\": [\n",
            "                        {\n",
            "                            \"name\": \"Mandiri\",\n",
            "                            \"account_number\": 8949575\n",
            "                        },\n",
            "                        {\n",
            "                            \"name\": \"Mandiri\",\n",
            "                            \"account_number\": 9256376\n",
            "                        },\n",
            "                        {\n",
            "                            \"name\": \"Mandiri\",\n",
            "                            \"account_number\": 7904606\n",
            "                        }\n",
            "                    ]\n",
            "                }\n",
            "            },\n",
            "            {\n",
            "                \"_index\": \"new_customers\",\n",
            "                \"_id\": \"K7JGYowBtsOVXdO2r74I\",\n",
            "                \"_score\": 1.0,\n",
            "                \"_source\": {\n",
            "                    \"index\": {\n",
            "                        \"_index\": \"customers\",\n",
            "                        \"_id\": \"username2\"\n",
            "                    }\n",
            "                }\n",
            "            },\n",
            "            {\n",
            "                \"_index\": \"new_customers\",\n",
            "                \"_id\": \"LLJGYowBtsOVXdO2r74I\",\n",
            "                \"_score\": 1.0,\n",
            "                \"_source\": {\n",
            "                    \"username\": \"username2\",\n",
            "                    \"first_name\": \"Toinette\",\n",
            "                    \"last_name\": \"Ketteridge\",\n",
            "                    \"email\": \"tketteridge1@squidoo.com\",\n",
            "                    \"gender\": \"Female\",\n",
            "                    \"birth_date\": \"2000-06-07\",\n",
            "                    \"address\": {\n",
            "                        \"street\": \"48 Golf View Point\",\n",
            "                        \"city\": \"Youngstown\",\n",
            "                        \"province\": \"Ohio\",\n",
            "                        \"country\": \"United States\",\n",
            "                        \"zip_code\": \"44505\"\n",
            "                    },\n",
            "                    \"hobbies\": [\n",
            "                        \"Reading\",\n",
            "                        \"Coding\"\n",
            "                    ],\n",
            "                    \"banks\": [\n",
            "                        {\n",
            "                            \"name\": \"BNI\",\n",
            "                            \"account_number\": 7051376\n",
            "                        },\n",
            "                        {\n",
            "                            \"name\": \"BNI\",\n",
            "                            \"account_number\": 9284273\n",
            "                        }\n",
            "                    ]\n",
            "                }\n",
            "            },\n",
            "            {\n",
            "                \"_index\": \"new_customers\",\n",
            "                \"_id\": \"LbJGYowBtsOVXdO2r74I\",\n",
            "                \"_score\": 1.0,\n",
            "                \"_source\": {\n",
            "                    \"index\": {\n",
            "                        \"_index\": \"customers\",\n",
            "                        \"_id\": \"username3\"\n",
            "                    }\n",
            "                }\n",
            "            },\n",
            "            {\n",
            "                \"_index\": \"new_customers\",\n",
            "                \"_id\": \"LrJGYowBtsOVXdO2r74I\",\n",
            "                \"_score\": 1.0,\n",
            "                \"_source\": {\n",
            "                    \"username\": \"username3\",\n",
            "                    \"first_name\": \"Lezlie\",\n",
            "                    \"last_name\": \"Dunbabin\",\n",
            "                    \"email\": \"ldunbabin2@com.com\",\n",
            "                    \"gender\": \"Female\",\n",
            "                    \"birth_date\": \"1978-02-28\",\n",
            "                    \"address\": {\n",
            "                        \"street\": \"4 Westerfield Circle\",\n",
            "                        \"city\": \"Orlando\",\n",
            "                        \"province\": \"Florida\",\n",
            "                        \"country\": \"United States\",\n",
            "                        \"zip_code\": \"32825\"\n",
            "                    },\n",
            "                    \"hobbies\": [\n",
            "                        \"Soccer\",\n",
            "                        \"Reading\"\n",
            "                    ],\n",
            "                    \"banks\": [\n",
            "                        {\n",
            "                            \"name\": \"BSI\",\n",
            "                            \"account_number\": 8176225\n",
            "                        },\n",
            "                        {\n",
            "                            \"name\": \"BRI\",\n",
            "                            \"account_number\": 9600877\n",
            "                        },\n",
            "                        {\n",
            "                            \"name\": \"BSI\",\n",
            "                            \"account_number\": 4487739\n",
            "                        }\n",
            "                    ]\n",
            "                }\n",
            "            },\n",
            "            {\n",
            "                \"_index\": \"new_customers\",\n",
            "                \"_id\": \"L7JGYowBtsOVXdO2r74I\",\n",
            "                \"_score\": 1.0,\n",
            "                \"_source\": {\n",
            "                    \"index\": {\n",
            "                        \"_index\": \"customers\",\n",
            "                        \"_id\": \"username4\"\n",
            "                    }\n",
            "                }\n",
            "            },\n",
            "            {\n",
            "                \"_index\": \"new_customers\",\n",
            "                \"_id\": \"MLJGYowBtsOVXdO2r74I\",\n",
            "                \"_score\": 1.0,\n",
            "                \"_source\": {\n",
            "                    \"username\": \"username4\",\n",
            "                    \"first_name\": \"Jamal\",\n",
            "                    \"last_name\": \"Habard\",\n",
            "                    \"email\": \"jhabard3@yelp.com\",\n",
            "                    \"gender\": \"Male\",\n",
            "                    \"birth_date\": \"1977-10-29\",\n",
            "                    \"address\": {\n",
            "                        \"street\": \"01 Toban Place\",\n",
            "                        \"city\": \"Schenectady\",\n",
            "                        \"province\": \"New York\",\n",
            "                        \"country\": \"United States\",\n",
            "                        \"zip_code\": \"12305\"\n",
            "                    },\n",
            "                    \"hobbies\": [\n",
            "                        \"Gaming\",\n",
            "                        \"Soccer\"\n",
            "                    ],\n",
            "                    \"banks\": [\n",
            "                        {\n",
            "                            \"name\": \"BCA Digital\",\n",
            "                            \"account_number\": 4429076\n",
            "                        },\n",
            "                        {\n",
            "                            \"name\": \"BCA\",\n",
            "                            \"account_number\": 6297767\n",
            "                        }\n",
            "                    ]\n",
            "                }\n",
            "            },\n",
            "            {\n",
            "                \"_index\": \"new_customers\",\n",
            "                \"_id\": \"MbJGYowBtsOVXdO2r74I\",\n",
            "                \"_score\": 1.0,\n",
            "                \"_source\": {\n",
            "                    \"index\": {\n",
            "                        \"_index\": \"customers\",\n",
            "                        \"_id\": \"username5\"\n",
            "                    }\n",
            "                }\n",
            "            },\n",
            "            {\n",
            "                \"_index\": \"new_customers\",\n",
            "                \"_id\": \"MrJGYowBtsOVXdO2r74I\",\n",
            "                \"_score\": 1.0,\n",
            "                \"_source\": {\n",
            "                    \"username\": \"username5\",\n",
            "                    \"first_name\": \"Broddy\",\n",
            "                    \"last_name\": \"Speere\",\n",
            "                    \"email\": \"bspeere4@about.me\",\n",
            "                    \"gender\": \"Male\",\n",
            "                    \"birth_date\": \"1980-10-26\",\n",
            "                    \"address\": {\n",
            "                        \"street\": \"0586 Michigan Drive\",\n",
            "                        \"city\": \"Saint Petersburg\",\n",
            "                        \"province\": \"Florida\",\n",
            "                        \"country\": \"United States\",\n",
            "                        \"zip_code\": \"33715\"\n",
            "                    },\n",
            "                    \"hobbies\": [\n",
            "                        \"Gaming\",\n",
            "                        \"Reading\"\n",
            "                    ],\n",
            "                    \"banks\": [\n",
            "                        {\n",
            "                            \"name\": \"Mandiri\",\n",
            "                            \"account_number\": 1852753\n",
            "                        }\n",
            "                    ]\n",
            "                }\n",
            "            }\n",
            "        ]\n",
            "    }\n",
            "}\n"
          ]
        }
      ],
      "source": [
        "# search customers\n",
        "# POST http://localhost:9200/new_customers/_search\n",
        "response = es.search(index='new_customers', body={\n",
        "    'query': {\n",
        "        'match_all': {}\n",
        "    }\n",
        "})\n",
        "print(json.dumps(response.body, indent=4))"
      ]
    },
    {
      "cell_type": "markdown",
      "metadata": {
        "id": "RKAl85FCil_B"
      },
      "source": [
        "### Close dan Open\n",
        "\n",
        "Continuing our library analogy, the **Close and Open** process is like shutting down the library for renovation and then reopening it.\n",
        "\n",
        "When we decide to restore the 'categories' section (or any other section), the library (Elasticsearch) requires us to close the section (index). This means that all reading and writing activities will be rejected. You won't be able to modify or read any books in the closed section. This is important because it ensures that no changes occur while the restoration is in progress, which could otherwise lead to the books (documents) becoming corrupted.\n",
        "\n",
        "Once the restoration process is complete, we can reopen the section using the Open Index API, allowing users to read and write again.\n",
        "\n",
        "As for the **Deleting a Snapshot** process, imagine that you no longer need the photocopies (snapshots) you've made. You can then decide to dispose of them. You could use the library's intercom (Elasticsearch's API) and make an announcement like: \"Please dispose of the photocopies in room `<nama_repository>` labeled `<nama_snapshot>`.\" In API terms, this would be: `DELETE /_snapshot/<nama_repository>/<nama_snapshot>`.\n",
        "\n",
        "Or, if you want to clean out an entire room of photocopies (repository and all the snapshots within), you could announce: \"Please clear out room `<nama_repository>`.\" In API terms, this would be: `DELETE /_snapshot/<nama_repository>`.\n",
        "\n",
        "So, not only does Elasticsearch allow you to create, restore, and manage snapshots, it also provides a way to dispose of them when they are no longer needed. This keeps your system clean and efficient."
      ]
    },
    {
      "cell_type": "code",
      "execution_count": null,
      "metadata": {
        "id": "yqI93uwTil_B",
        "outputId": "49a81592-9611-4c3c-d729-4e3b6adee772"
      },
      "outputs": [
        {
          "name": "stdout",
          "output_type": "stream",
          "text": [
            "{\n",
            "    \"acknowledged\": true\n",
            "}\n"
          ]
        }
      ],
      "source": [
        "# delete snapshot snapshot1\n",
        "# DELETE http://localhost:9200/_snapshot/first_backup/snapshot1\n",
        "response = es.snapshot.delete(repository='first_backup', snapshot='snapshot1')\n",
        "print(json.dumps(response.body, indent=4))"
      ]
    },
    {
      "cell_type": "code",
      "execution_count": null,
      "metadata": {
        "id": "yY54Aoddil_B",
        "outputId": "abddf76f-749a-49d6-d2dc-758eede7d334"
      },
      "outputs": [
        {
          "name": "stdout",
          "output_type": "stream",
          "text": [
            "{\n",
            "    \"acknowledged\": true\n",
            "}\n"
          ]
        }
      ],
      "source": [
        "# delete repository\n",
        "# DELETE http://localhost:9200/_snapshot/first_backup\n",
        "response = es.snapshot.delete_repository(name='first_backup')\n",
        "print(json.dumps(response.body, indent=4))"
      ]
    }
  ],
  "metadata": {
    "kernelspec": {
      "display_name": "jupyter-ai",
      "language": "python",
      "name": "python3"
    },
    "language_info": {
      "codemirror_mode": {
        "name": "ipython",
        "version": 3
      },
      "file_extension": ".py",
      "mimetype": "text/x-python",
      "name": "python",
      "nbconvert_exporter": "python",
      "pygments_lexer": "ipython3",
      "version": "3.11.5"
    },
    "colab": {
      "provenance": []
    }
  },
  "nbformat": 4,
  "nbformat_minor": 0
}