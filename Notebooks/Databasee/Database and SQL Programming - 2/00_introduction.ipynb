{
  "cells": [
    {
      "cell_type": "markdown",
      "metadata": {
        "id": "EK6FS6BMdj9C"
      },
      "source": [
        "## Introduction to Elasticsearch\n",
        "\n",
        "![Elasticsearch](https://storage.googleapis.com/rg-ai-bootcamp/database/elasticsearch-min.png)\n",
        "\n",
        "_Elasticsearch (Source: [technocratsid.com](https://www.technocratsid.com/how-to-create-an-elasticsearch-6-4-1-plugin/))_"
      ]
    },
    {
      "cell_type": "markdown",
      "metadata": {
        "id": "vR6j6C9Zdj9F"
      },
      "source": [
        "### A Brief Look at Elasticsearch\n",
        "\n",
        "Elasticsearch is a powerful database management system that helps you navigate the complex maze of data. Known for its cutting-edge RESTful API-based search capabilities, Elasticsearch has proven itself as one of the most popular search-oriented databases.\n",
        "\n",
        "What's interesting is that Elasticsearch is open source and free. This means you can use, modify, and even contribute to its development. You can find it on Github at <https://github.com/elastic/elasticsearch>.\n",
        "\n",
        "Want to try it out? Visit the official Elastic website at <https://www.elastic.co/elasticsearch/> to download the application.\n",
        "\n",
        "Elasticsearch promises an exciting adventure in the world of data. Let's embark on this journey!\n",
        "\n",
        "### Elasticsearch in the Market\n",
        "\n",
        "Wondering about Elasticsearch's standing in the database management systems market? Check [db-engines.com](https://db-engines.com/en/ranking/search+engine), a platform that ranks these systems by popularity.\n",
        "\n",
        "![Drabase Engines Rank](https://storage.googleapis.com/rg-ai-bootcamp/database/db-rank-min.png)\n",
        "\n",
        "You'll find Elasticsearch holding a high rank, reflecting its popularity and acceptance globally.\n",
        "\n",
        "### Relational DB vs Elasticsearch: Terminology Comparison\n",
        "\n",
        "If you're from a Relational Database background, venturing into Elasticsearch might seem like stepping into an alien world. But don't worry! Many of the concepts in Elasticsearch have analogs in the relational database realm. Here's a handy chart to help you bridge the gap:\n",
        "\n",
        "| Relational DB | Elasticsearch |\n",
        "|---------------|--------------|\n",
        "| Database      |  Index       |\n",
        "| Table         |   Type      |\n",
        "| Column        | Field / Attribute |\n",
        "| Row, Record   | Document (JSON) |\n",
        "| Join Table    | Embedded Document, Reference |\n",
        "| SQL           | JSON\n",
        "\n",
        "By understanding these key terms, you can navigate the Elasticsearch landscape more confidently. Remember, it's not a whole new world, just a different way of looking at the same concepts. Let's continue our journey through Elasticsearch!"
      ]
    },
    {
      "cell_type": "markdown",
      "metadata": {
        "id": "CxKMl0Fldj9G"
      },
      "source": [
        "### Understanding Elasticsearch Client\n",
        "\n",
        "An Elasticsearch client is a tool or library that facilitates communication with the Elasticsearch server. It simplifies the interaction with Elasticsearch's RESTful API, enabling you to perform various operations on your data with ease.\n",
        "\n",
        "#### How Does It Work?\n",
        "\n",
        "Elasticsearch employs a RESTful API for interaction, making it accessible from any programming language capable of sending HTTP requests. Here's how it works:\n",
        "\n",
        "1. **RESTful API:** All requests and responses in Elasticsearch are made over HTTP. This approach makes it versatile and straightforward to use.\n",
        "2. **Ease of Use:** You can interact with Elasticsearch using any HTTP client, including web browsers, command-line tools such as `curl`, or an HTTP library in your preferred programming language.\n",
        "\n",
        "Keep in mind, all operations in Elasticsearch, including creating and deleting indices, adding, updating, and searching for documents, are performed through this RESTful API!\n",
        "\n",
        "#### Client Applications for Elasticsearch\n",
        "\n",
        "There are multiple client applications that you can use to interact with Elasticsearch:\n",
        "\n",
        "- **Postman:** [Postman](https://www.postman.com/) is a widely-used API client that provides a user-friendly interface for building, testing, and modifying APIs.\n",
        "- **Visual Studio Code REST Client:** The [REST Client](https://marketplace.visualstudio.com/items?itemName=humao.rest-client) extension for Visual Studio Code lets you send HTTP requests and view responses within Visual Studio Code directly.\n",
        "- **curl:** [curl](https://curl.se/) is a command-line tool for transferring data with URLs. It's lightweight and versatile, able to communicate with nearly any network protocol.\n",
        "- **Elasticsearch Python Client:** The [elasticsearch](https://pypi.org/project/elasticsearch/) Python library simplifies creating, reading, updating, and deleting data in Elasticsearch and performing other operations.\n",
        "\n",
        "In this course, we'll frequently use the `elasticsearch` Python client for its ease of use and compatibility with Elasticsearch operations."
      ]
    }
  ],
  "metadata": {
    "kernelspec": {
      "display_name": "Python 3 (ipykernel)",
      "language": "python",
      "name": "python3"
    },
    "language_info": {
      "codemirror_mode": {
        "name": "ipython",
        "version": 3
      },
      "file_extension": ".py",
      "mimetype": "text/x-python",
      "name": "python",
      "nbconvert_exporter": "python",
      "pygments_lexer": "ipython3",
      "version": "3.11.5"
    },
    "colab": {
      "provenance": []
    }
  },
  "nbformat": 4,
  "nbformat_minor": 0
}