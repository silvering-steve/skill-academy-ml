{
 "cells": [
  {
   "cell_type": "markdown",
   "metadata": {
    "id": "V4KYvMH0IhuV"
   },
   "source": [
    "# Let's compile everything that we've learned so far\n",
    "\n",
    "Let's try to learn other machine learning model pipeline called \"Table question answering\" which is a question answering system that answers questions about tables. The best way to understand it is to just refer to below code and run it:\n"
   ]
  },
  {
   "cell_type": "code",
   "execution_count": null,
   "metadata": {
    "id": "MVdUMoFHIhuZ"
   },
   "outputs": [],
   "source": [
    "%pip install transformers\n",
    "%pip install pandas"
   ]
  },
  {
   "cell_type": "code",
   "execution_count": 1,
   "metadata": {
    "id": "nxuNH0XIIhub",
    "ExecuteTime": {
     "end_time": "2023-12-05T06:19:32.355910600Z",
     "start_time": "2023-12-05T06:19:16.599613700Z"
    }
   },
   "outputs": [
    {
     "name": "stderr",
     "output_type": "stream",
     "text": [
      "D:\\Repositories\\skill-academy-ml\\venv\\lib\\site-packages\\transformers\\models\\tapas\\tokenization_tapas.py:2762: FutureWarning: Series.__getitem__ treating keys as positions is deprecated. In a future version, integer keys will always be treated as labels (consistent with DataFrame behavior). To access a value by position, use `ser.iloc[pos]`\n",
      "  text = normalize_for_match(row[col_index].text)\n",
      "D:\\Repositories\\skill-academy-ml\\venv\\lib\\site-packages\\transformers\\models\\tapas\\tokenization_tapas.py:1561: FutureWarning: Series.__getitem__ treating keys as positions is deprecated. In a future version, integer keys will always be treated as labels (consistent with DataFrame behavior). To access a value by position, use `ser.iloc[pos]`\n",
      "  cell = row[col_index]\n"
     ]
    },
    {
     "data": {
      "text/plain": "{'answer': 'House 4',\n 'coordinates': [(3, 0)],\n 'cells': ['House 4'],\n 'aggregator': 'NONE'}"
     },
     "execution_count": 1,
     "metadata": {},
     "output_type": "execute_result"
    }
   ],
   "source": [
    "from transformers import pipeline\n",
    "\n",
    "data = [\n",
    "    {\n",
    "        \"House\": \"House 1\",\n",
    "        \"City\": \"Jakarta\",\n",
    "        \"Price (in million IDR)\": \"5000\",\n",
    "        \"Rooms\": \"2 bed, 2 bath\",\n",
    "        \"Facilities\": \"Pool, Garage, Gym, Garden\",\n",
    "        \"Furnished\": \"Yes\",\n",
    "    },\n",
    "    {\n",
    "        \"House\": \"House 2\",\n",
    "        \"City\": \"Surabaya\",\n",
    "        \"Price (in million IDR)\": \"2000\",\n",
    "        \"Rooms\": \"3 bed, 2 bath\",\n",
    "        \"Facilities\": \"Garage, Library\",\n",
    "        \"Furnished\": \"No\",\n",
    "    },\n",
    "    {\n",
    "        \"House\": \"House 3\",\n",
    "        \"City\": \"Malang\",\n",
    "        \"Price (in million IDR)\": \"1500\",\n",
    "        \"Rooms\": \"2 bed, 1 bath\",\n",
    "        \"Facilities\": \"Pool, Gym, Sauna\",\n",
    "        \"Furnished\": \"No\",\n",
    "    },\n",
    "    {\n",
    "        \"House\": \"House 4\",\n",
    "        \"City\": \"Jakarta\",\n",
    "        \"Price (in million IDR)\": \"5300\",\n",
    "        \"Rooms\": \"1 bed, 1 bath\",\n",
    "        \"Facilities\": \"Gym, Rooftop\",\n",
    "        \"Furnished\": \"Yes\",\n",
    "    },\n",
    "    {\n",
    "        \"House\": \"House 5\",\n",
    "        \"City\": \"Surabaya\",\n",
    "        \"Price (in million IDR)\": \"2200\",\n",
    "        \"Rooms\": \"3 bed, 2 bath\",\n",
    "        \"Facilities\": \"Pool, Garage, Gym, Library\",\n",
    "        \"Furnished\": \"No\",\n",
    "    },\n",
    "    {\n",
    "        \"House\": \"House 6\",\n",
    "        \"City\": \"Malang\",\n",
    "        \"Price (in million IDR)\": \"1600\",\n",
    "        \"Rooms\": \"2 bed, 2 bath\",\n",
    "        \"Facilities\": \"Garage, Gym, Garden\",\n",
    "        \"Furnished\": \"Yes\",\n",
    "    },\n",
    "    {\n",
    "        \"House\": \"House 7\",\n",
    "        \"City\": \"Jakarta\",\n",
    "        \"Price (in million IDR)\": \"4900\",\n",
    "        \"Rooms\": \"4 bed, 3 bath\",\n",
    "        \"Facilities\": \"Pool, Garage, Sauna\",\n",
    "        \"Furnished\": \"Yes\",\n",
    "    },\n",
    "    {\n",
    "        \"House\": \"House 8\",\n",
    "        \"City\": \"Surabaya\",\n",
    "        \"Price (in million IDR)\": \"2100\",\n",
    "        \"Rooms\": \"3 bed, 3 bath\",\n",
    "        \"Facilities\": \"Gym, Garden\",\n",
    "        \"Furnished\": \"No\",\n",
    "    },\n",
    "    {\n",
    "        \"House\": \"House 9\",\n",
    "        \"City\": \"Malang\",\n",
    "        \"Price (in million IDR)\": \"1400\",\n",
    "        \"Rooms\": \"4 bed, 2 bath\",\n",
    "        \"Facilities\": \"Garage, Rooftop\",\n",
    "        \"Furnished\": \"Yes\",\n",
    "    },\n",
    "    {\n",
    "        \"House\": \"House 10\",\n",
    "        \"City\": \"Jakarta\",\n",
    "        \"Price (in million IDR)\": \"5100\",\n",
    "        \"Rooms\": \"3 bed, 1 bath\",\n",
    "        \"Facilities\": \"Pool, Garden, Sauna\",\n",
    "        \"Furnished\": \"No\",\n",
    "    },\n",
    "]\n",
    "\n",
    "# Set up the pipeline:\n",
    "\n",
    "table_qa = pipeline(\"table-question-answering\", model=\"google/tapas-large-finetuned-wtq\")\n",
    "\n",
    "\n",
    "# Ask a question:\n",
    "\n",
    "query = \"Which house is the most expensive?\"\n",
    "table_qa({\"table\": data, \"query\": query})"
   ]
  },
  {
   "cell_type": "markdown",
   "metadata": {
    "id": "5aWhazv5Ihub"
   },
   "source": [
    "As you can see, \"TableQA\" pipeline is basically when we want to ask a machine learning model a question about a set of data. Above table is about several dummy data on houses in several cities.\n",
    "\n",
    "This pipeline will output different things based on given question. Try below questions:\n",
    "\n",
    "- What is the average price of houses in Jakarta?\n",
    "- I want to buy house 7 and house 10, what's the total price?\n",
    "- How many houses in Surabaya that has gym as one of the facility?"
   ]
  },
  {
   "cell_type": "markdown",
   "metadata": {
    "id": "w6yNXsSiIhuc"
   },
   "source": [
    "# Quick Note: Tuple\n",
    "\n",
    "Tuple is a data structure that is similar to list, but it is immutable. It means that you cannot change the value of tuple once it is created (we cannot mutate any of its value). You'll see tuple on the output of coordinates from above code.\n",
    "\n",
    "The syntax of tuple is similar to list, but instead of using square brackets, we use round brackets:"
   ]
  },
  {
   "cell_type": "code",
   "execution_count": 2,
   "metadata": {
    "id": "GAN0FmhMIhuc",
    "outputId": "ea94b0ca-359b-4fa4-a5c7-f94a7bff486b",
    "ExecuteTime": {
     "end_time": "2023-12-05T04:13:29.081485900Z",
     "start_time": "2023-12-05T04:13:28.895377900Z"
    }
   },
   "outputs": [
    {
     "name": "stdout",
     "output_type": "stream",
     "text": [
      "(5, 0)\n",
      "5\n"
     ]
    },
    {
     "ename": "TypeError",
     "evalue": "'tuple' object does not support item assignment",
     "output_type": "error",
     "traceback": [
      "\u001B[1;31m---------------------------------------------------------------------------\u001B[0m",
      "\u001B[1;31mTypeError\u001B[0m                                 Traceback (most recent call last)",
      "Cell \u001B[1;32mIn[2], line 3\u001B[0m\n\u001B[0;32m      1\u001B[0m \u001B[38;5;28mprint\u001B[39m((\u001B[38;5;241m5\u001B[39m, \u001B[38;5;241m0\u001B[39m))\n\u001B[0;32m      2\u001B[0m \u001B[38;5;28mprint\u001B[39m((\u001B[38;5;241m5\u001B[39m, \u001B[38;5;241m0\u001B[39m)[\u001B[38;5;241m0\u001B[39m])\n\u001B[1;32m----> 3\u001B[0m \u001B[43m(\u001B[49m\u001B[38;5;241;43m5\u001B[39;49m\u001B[43m,\u001B[49m\u001B[43m \u001B[49m\u001B[38;5;241;43m0\u001B[39;49m\u001B[43m)\u001B[49m\u001B[43m[\u001B[49m\u001B[38;5;241;43m0\u001B[39;49m\u001B[43m]\u001B[49m \u001B[38;5;241m=\u001B[39m \u001B[38;5;241m3\u001B[39m \u001B[38;5;66;03m# Error\u001B[39;00m\n",
      "\u001B[1;31mTypeError\u001B[0m: 'tuple' object does not support item assignment"
     ]
    }
   ],
   "source": [
    "print((5, 0))\n",
    "print((5, 0)[0])\n",
    "(5, 0)[0] = 3 # Error"
   ]
  },
  {
   "cell_type": "markdown",
   "metadata": {
    "id": "frq4IRt1Ihun"
   },
   "source": [
    "# Different question can lead to different output\n",
    "\n",
    "We're using `TAPAS` model by Google, and it's been fine-tuned on WTQ dataset. Unfortunately we can't dive deeper into learning what each of that mean because it's outside the context of our learning, but check below image:\n",
    "\n",
    "![Tapas for QnA](https://storage.googleapis.com/rg-ai-bootcamp/python-prep/tapas-for-qa-min.png)\n",
    "\n",
    "> This case is also called weak supervision, since the model itself must learn the appropriate aggregation operator (SUM/COUNT/AVERAGE/NONE) given only the answer to the question as supervision.\n",
    "\n",
    "Above image and snippet can be found at https://huggingface.co/docs/transformers/v4.35.0/en/model_doc/tapas#transformers.TFTapasForSequenceClassification, feel free to read it if you're interested (Warning: it's quite technical). To summarize basically TAPAS fine-tuned with WTQ has 4 different output:\n",
    "\n",
    "- `NONE`: No aggregation is needed, the answer is a single cell.\n",
    "- `SUM`: We should sum the values given in the output.\n",
    "- `COUNT`: We should count the number of values given in the output.\n",
    "- `AVERAGE`: We should average the values given in the output."
   ]
  },
  {
   "cell_type": "markdown",
   "metadata": {
    "id": "kZO-3DrTIhun"
   },
   "source": [
    "# Challenge: Start with `count`\n",
    "\n",
    "Let's start with creating the functionality to aggregate `count` first. One of the question that will be answered with `count` aggregation is: \"How many houses in Surabaya that has gym as one of the facility?\". The output can be seen below:\n",
    "\n",
    "```python\n",
    "{'answer': 'COUNT > House 5, House 6, House 8',\n",
    " 'coordinates': [(4, 0), (5, 0), (7, 0)],\n",
    " 'cells': ['House 5', 'House 6', 'House 8'],\n",
    " 'aggregator': 'COUNT'}\n",
    "```\n",
    "\n",
    "We'll create two different function for now:\n",
    "\n",
    "- `aggregate_data`: This function should input above dictionary, and will choose which aggregator to use based on the `aggregator` key. It will return the aggregated value.\n",
    "- `count_aggregator`: This function should input above dictionary, and will count the number of cells in `cells` key. It will return the total count.\n",
    "\n",
    "So you might have to realize that:\n",
    "\n",
    "- For `none` aggregator, you don't need aggregator, just return the `answer` key as it is.\n",
    "- For `count` aggregator, you need to call `count_aggregator` inside the `aggregate_data` function and return the result of `count_aggregator` function."
   ]
  },
  {
   "cell_type": "code",
   "execution_count": 11,
   "metadata": {
    "id": "RkNYf_0oIhup",
    "ExecuteTime": {
     "end_time": "2023-12-05T06:22:57.944089800Z",
     "start_time": "2023-12-05T06:22:57.935583500Z"
    }
   },
   "outputs": [
    {
     "data": {
      "text/plain": "3"
     },
     "execution_count": 11,
     "metadata": {},
     "output_type": "execute_result"
    }
   ],
   "source": [
    "def aggregate_data(data):\n",
    "    match data['aggregator']:\n",
    "        case \"COUNT\":\n",
    "            return count_aggregator(data)\n",
    "        case _:\n",
    "            return data\n",
    "\n",
    "def count_aggregator(data):\n",
    "    return len(data[\"cells\"])  # Your answer here\n",
    "\n",
    "aggregate_data({'answer': 'COUNT > House 5, House 6, House 8',\n",
    " 'coordinates': [( 4, 0), (5, 0), (7, 0)],\n",
    " 'cells': ['House 5', 'House 6', 'House 8'],\n",
    " 'aggregator': 'COUNT'})"
   ]
  },
  {
   "cell_type": "markdown",
   "metadata": {
    "id": "7wia4mfhIhuq"
   },
   "source": [
    "When you are done with the above challenge, then:\n",
    "\n",
    "1. Run the code block by pressing the play button."
   ]
  },
  {
   "cell_type": "code",
   "execution_count": 3,
   "metadata": {
    "id": "r59rfNGpIhur",
    "ExecuteTime": {
     "end_time": "2023-12-05T06:19:37.895885900Z",
     "start_time": "2023-12-05T06:19:32.372361300Z"
    }
   },
   "outputs": [
    {
     "name": "stderr",
     "output_type": "stream",
     "text": [
      "\n",
      "[notice] A new release of pip is available: 23.2.1 -> 23.3.1\n",
      "[notice] To update, run: python.exe -m pip install --upgrade pip\n"
     ]
    },
    {
     "name": "stdout",
     "output_type": "stream",
     "text": [
      "Requirement already satisfied: rggrader in d:\\repositories\\skill-academy-ml\\venv\\lib\\site-packages (0.1.6)\n",
      "Requirement already satisfied: requests in d:\\repositories\\skill-academy-ml\\venv\\lib\\site-packages (from rggrader) (2.31.0)\n",
      "Requirement already satisfied: pandas in d:\\repositories\\skill-academy-ml\\venv\\lib\\site-packages (from rggrader) (2.1.3)\n",
      "Requirement already satisfied: Pillow in d:\\repositories\\skill-academy-ml\\venv\\lib\\site-packages (from rggrader) (10.1.0)\n",
      "Requirement already satisfied: numpy<2,>=1.22.4 in d:\\repositories\\skill-academy-ml\\venv\\lib\\site-packages (from pandas->rggrader) (1.26.2)\n",
      "Requirement already satisfied: python-dateutil>=2.8.2 in d:\\repositories\\skill-academy-ml\\venv\\lib\\site-packages (from pandas->rggrader) (2.8.2)\n",
      "Requirement already satisfied: pytz>=2020.1 in d:\\repositories\\skill-academy-ml\\venv\\lib\\site-packages (from pandas->rggrader) (2023.3.post1)\n",
      "Requirement already satisfied: tzdata>=2022.1 in d:\\repositories\\skill-academy-ml\\venv\\lib\\site-packages (from pandas->rggrader) (2023.3)\n",
      "Requirement already satisfied: charset-normalizer<4,>=2 in d:\\repositories\\skill-academy-ml\\venv\\lib\\site-packages (from requests->rggrader) (3.3.2)\n",
      "Requirement already satisfied: idna<4,>=2.5 in d:\\repositories\\skill-academy-ml\\venv\\lib\\site-packages (from requests->rggrader) (3.6)\n",
      "Requirement already satisfied: urllib3<3,>=1.21.1 in d:\\repositories\\skill-academy-ml\\venv\\lib\\site-packages (from requests->rggrader) (2.1.0)\n",
      "Requirement already satisfied: certifi>=2017.4.17 in d:\\repositories\\skill-academy-ml\\venv\\lib\\site-packages (from requests->rggrader) (2023.11.17)\n",
      "Requirement already satisfied: six>=1.5 in d:\\repositories\\skill-academy-ml\\venv\\lib\\site-packages (from python-dateutil>=2.8.2->pandas->rggrader) (1.16.0)\n"
     ]
    },
    {
     "data": {
      "text/plain": "'Assignment successfully submitted'"
     },
     "execution_count": 3,
     "metadata": {},
     "output_type": "execute_result"
    }
   ],
   "source": [
    "!pip install rggrader\n",
    "\n",
    "from rggrader import submit\n",
    "\n",
    "# @title #### Student Identity\n",
    "student_id = \"REA3X5EN\" # @param {type:\"string\"}\n",
    "name = \"Steven Adi Santoso\" # @param {type:\"string\"}\n",
    "\n",
    "# Submit Method\n",
    "assignment_id = \"013_practical_example_tableqa_part_1\"\n",
    "question_id = \"01_count_aggregator\"\n",
    "\n",
    "data_count = {'answer': 'COUNT > House 1, House 2',\n",
    " 'coordinates': [( 4, 0), (5, 0), (7, 0)],\n",
    " 'cells': ['House 1', 'House 2'],\n",
    " 'aggregator': 'COUNT'}\n",
    "\n",
    "submit(student_id, name, assignment_id, str(count_aggregator(data_count)), question_id)"
   ]
  },
  {
   "cell_type": "markdown",
   "metadata": {
    "id": "mRMZkAiEIhur"
   },
   "source": [
    "# Challenge: Create `sum` and `average` aggregator\n",
    "\n",
    "For `sum` and `average` aggregator, you need to use the `cells` key again, convert the `string` to `int`, and then `sum` or `average` it. Feel free to use `for loop` or `map` function to do it."
   ]
  },
  {
   "cell_type": "code",
   "execution_count": 4,
   "metadata": {
    "id": "6EQcvFldIhur",
    "ExecuteTime": {
     "end_time": "2023-12-05T06:19:37.925414200Z",
     "start_time": "2023-12-05T06:19:37.897885800Z"
    }
   },
   "outputs": [
    {
     "name": "stdout",
     "output_type": "stream",
     "text": [
      "10000\n",
      "5075.0\n"
     ]
    }
   ],
   "source": [
    "def sum_aggregator(data):\n",
    "    return sum(map(int, data['cells'])) # Your answer here\n",
    "\n",
    "def average_aggregator(data):\n",
    "    return sum(map(int, data['cells'])) / len(data['cells']) # Your answer here\n",
    "\n",
    "# Make sure to add additional aggregators to below function\n",
    "def aggregate_data(data):\n",
    "    match data['aggregator']:\n",
    "        case \"COUNT\":\n",
    "            return count_aggregator(data)\n",
    "        case \"SUM\":\n",
    "            return sum_aggregator(data)\n",
    "        case \"AVERAGE\":\n",
    "            return average_aggregator(data)\n",
    "        case _:\n",
    "            return data\n",
    "\n",
    "print(aggregate_data({'answer': 'SUM > 4900, 5100',\n",
    " 'coordinates': [(6, 2), (9, 2)],\n",
    " 'cells': ['4900', '5100'],\n",
    " 'aggregator': 'SUM'}))\n",
    "\n",
    "print(aggregate_data({'answer': 'AVERAGE > 5000, 5300, 4900, 5100',\n",
    " 'coordinates': [(0, 2), (3, 2), (6, 2), (9, 2)],\n",
    " 'cells': ['5000', '5300', '4900', '5100'],\n",
    " 'aggregator': 'AVERAGE'}))"
   ]
  },
  {
   "cell_type": "markdown",
   "metadata": {
    "id": "aXREhkULIhus"
   },
   "source": [
    "When you are done with the above challenge, then:\n",
    "\n",
    "1. Run the code block by pressing the play button."
   ]
  },
  {
   "cell_type": "code",
   "execution_count": 5,
   "metadata": {
    "id": "o53KZR4PIhus",
    "ExecuteTime": {
     "end_time": "2023-12-05T06:19:38.804195300Z",
     "start_time": "2023-12-05T06:19:37.912903400Z"
    }
   },
   "outputs": [
    {
     "data": {
      "text/plain": "'Assignment successfully submitted'"
     },
     "execution_count": 5,
     "metadata": {},
     "output_type": "execute_result"
    }
   ],
   "source": [
    "# Submit Method\n",
    "data_sum = {'answer': 'SUM > 4900, 5300',\n",
    " 'coordinates': [(6, 2), (9, 2)],\n",
    " 'cells': ['4900', '5300'],\n",
    " 'aggregator': 'SUM'}\n",
    "\n",
    "assignment_id = \"013_practical_example_tableqa_part_1\"\n",
    "question_id = \"02_sum_aggregator\"\n",
    "submit(student_id, name, assignment_id, str(sum_aggregator(data_sum)), question_id)\n",
    "\n",
    "#####################################################################################\n",
    "# Submit Method\n",
    "data_avg = {'answer': 'AVERAGE > 5000, 2000, 1500, 5300',\n",
    " 'coordinates': [(0, 2), (3, 2), (6, 2), (9, 2)],\n",
    " 'cells': ['5000', '2000', '1500', '5300'],\n",
    " 'aggregator': 'AVERAGE'}\n",
    "\n",
    "assignment_id = \"013_practical_example_tableqa_part_1\"\n",
    "question_id = \"03_avg_aggregator\"\n",
    "submit(student_id, name, assignment_id, str(average_aggregator(data_avg)), question_id)"
   ]
  },
  {
   "cell_type": "markdown",
   "metadata": {
    "id": "7gClV3tHIhus"
   },
   "source": [
    "# Challenge: Connecting with the pipeline\n",
    "\n",
    "We've created the full functionality for what we need, now we just need to connect it with the pipeline. Now let's see if you can try to connect previous `aggregate_data` function with `table_qa` function!"
   ]
  },
  {
   "cell_type": "code",
   "execution_count": 12,
   "metadata": {
    "id": "DkwGShg8Ihut",
    "ExecuteTime": {
     "end_time": "2023-12-05T06:23:04.934558400Z",
     "start_time": "2023-12-05T06:23:04.224320200Z"
    }
   },
   "outputs": [
    {
     "data": {
      "text/plain": "3"
     },
     "execution_count": 12,
     "metadata": {},
     "output_type": "execute_result"
    }
   ],
   "source": [
    "# Let's try to connect `table_qa` with `aggregate_data`:\n",
    "\n",
    "def answer_table_question(question):\n",
    "    return aggregate_data(table_qa({\"table\": data, \"query\": question})) # Your answer here\n",
    "\n",
    "answer_table_question(\"What is the average price of the houses in Jakarta?\") # The answer should be 5075\n",
    "answer_table_question(\"How many houses are there in Malang?\") # The answer should be 3\n",
    "answer_table_question(\"How many houses in Jakarta has a pool as a facility?\") # The answer should be 3"
   ]
  },
  {
   "cell_type": "markdown",
   "metadata": {
    "id": "KBhW250KIhut"
   },
   "source": [
    "When you are done with the above challenge, then:\n",
    "\n",
    "1. Run the code block by pressing the play button."
   ]
  },
  {
   "cell_type": "code",
   "execution_count": 13,
   "metadata": {
    "id": "h2-BA5I6Ihuu",
    "ExecuteTime": {
     "end_time": "2023-12-05T06:23:08.042934400Z",
     "start_time": "2023-12-05T06:23:07.239354800Z"
    }
   },
   "outputs": [
    {
     "data": {
      "text/plain": "'Assignment successfully submitted'"
     },
     "execution_count": 13,
     "metadata": {},
     "output_type": "execute_result"
    }
   ],
   "source": [
    "# Submit Method\n",
    "assignment_id = \"013_practical_example_tableqa_part_1\"\n",
    "question_id = \"04_answer_table\"\n",
    "submit(student_id, name, assignment_id, str(answer_table_question(\"What is the average price of the houses in Surabaya?\")), question_id)"
   ]
  }
 ],
 "metadata": {
  "kernelspec": {
   "display_name": "Python 3 (ipykernel)",
   "language": "python",
   "name": "python3"
  },
  "language_info": {
   "codemirror_mode": {
    "name": "ipython",
    "version": 3
   },
   "file_extension": ".py",
   "mimetype": "text/x-python",
   "name": "python",
   "nbconvert_exporter": "python",
   "pygments_lexer": "ipython3",
   "version": "3.11.3"
  },
  "colab": {
   "provenance": []
  }
 },
 "nbformat": 4,
 "nbformat_minor": 0
}
