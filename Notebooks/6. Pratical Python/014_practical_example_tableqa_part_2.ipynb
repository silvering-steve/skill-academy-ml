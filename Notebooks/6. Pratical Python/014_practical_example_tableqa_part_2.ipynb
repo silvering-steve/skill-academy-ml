{
  "cells": [
    {
      "cell_type": "markdown",
      "metadata": {
        "id": "2TBbBSzb3LNc"
      },
      "source": [
        "# Showing your data in a table using Gradio\n",
        "\n",
        "After learning using table question answering pipeline and the answer is a text, now let's try to use the pipeline to filter given table data to only show the data that asked by the user.\n",
        "\n",
        "![Using Gradio](https://storage.googleapis.com/rg-ai-bootcamp/python-prep/using_gradio-min.png)\n"
      ]
    },
    {
      "cell_type": "code",
      "execution_count": null,
      "metadata": {
        "id": "eRHCxvKw3LNf"
      },
      "outputs": [],
      "source": [
        "%pip install gradio\n",
        "%pip install transformers\n",
        "%pip install pandas"
      ]
    },
    {
      "cell_type": "code",
      "execution_count": null,
      "metadata": {
        "id": "YCNOGDfG3LNg"
      },
      "outputs": [],
      "source": [
        "data = [\n",
        "    {\n",
        "        \"House\": \"House 1\",\n",
        "        \"City\": \"Jakarta\",\n",
        "        \"Price (in million IDR)\": \"5000\",\n",
        "        \"Rooms\": \"2 bed, 2 bath\",\n",
        "        \"Facilities\": \"Pool, Garage, Gym, Garden\",\n",
        "        \"Furnished\": \"Yes\",\n",
        "    },\n",
        "    {\n",
        "        \"House\": \"House 2\",\n",
        "        \"City\": \"Surabaya\",\n",
        "        \"Price (in million IDR)\": \"2000\",\n",
        "        \"Rooms\": \"3 bed, 2 bath\",\n",
        "        \"Facilities\": \"Garage, Library\",\n",
        "        \"Furnished\": \"No\",\n",
        "    },\n",
        "    {\n",
        "        \"House\": \"House 3\",\n",
        "        \"City\": \"Malang\",\n",
        "        \"Price (in million IDR)\": \"1500\",\n",
        "        \"Rooms\": \"2 bed, 1 bath\",\n",
        "        \"Facilities\": \"Pool, Gym, Sauna\",\n",
        "        \"Furnished\": \"No\",\n",
        "    },\n",
        "    {\n",
        "        \"House\": \"House 4\",\n",
        "        \"City\": \"Jakarta\",\n",
        "        \"Price (in million IDR)\": \"5300\",\n",
        "        \"Rooms\": \"1 bed, 1 bath\",\n",
        "        \"Facilities\": \"Gym, Rooftop\",\n",
        "        \"Furnished\": \"Yes\",\n",
        "    },\n",
        "    {\n",
        "        \"House\": \"House 5\",\n",
        "        \"City\": \"Surabaya\",\n",
        "        \"Price (in million IDR)\": \"2200\",\n",
        "        \"Rooms\": \"3 bed, 2 bath\",\n",
        "        \"Facilities\": \"Pool, Garage, Gym, Library\",\n",
        "        \"Furnished\": \"No\",\n",
        "    },\n",
        "    {\n",
        "        \"House\": \"House 6\",\n",
        "        \"City\": \"Malang\",\n",
        "        \"Price (in million IDR)\": \"1600\",\n",
        "        \"Rooms\": \"2 bed, 2 bath\",\n",
        "        \"Facilities\": \"Garage, Gym, Garden\",\n",
        "        \"Furnished\": \"Yes\",\n",
        "    },\n",
        "    {\n",
        "        \"House\": \"House 7\",\n",
        "        \"City\": \"Jakarta\",\n",
        "        \"Price (in million IDR)\": \"4900\",\n",
        "        \"Rooms\": \"4 bed, 3 bath\",\n",
        "        \"Facilities\": \"Pool, Garage, Sauna\",\n",
        "        \"Furnished\": \"Yes\",\n",
        "    },\n",
        "    {\n",
        "        \"House\": \"House 8\",\n",
        "        \"City\": \"Surabaya\",\n",
        "        \"Price (in million IDR)\": \"2100\",\n",
        "        \"Rooms\": \"3 bed, 3 bath\",\n",
        "        \"Facilities\": \"Gym, Garden\",\n",
        "        \"Furnished\": \"No\",\n",
        "    },\n",
        "    {\n",
        "        \"House\": \"House 9\",\n",
        "        \"City\": \"Malang\",\n",
        "        \"Price (in million IDR)\": \"1400\",\n",
        "        \"Rooms\": \"4 bed, 2 bath\",\n",
        "        \"Facilities\": \"Garage, Rooftop\",\n",
        "        \"Furnished\": \"Yes\",\n",
        "    },\n",
        "    {\n",
        "        \"House\": \"House 10\",\n",
        "        \"City\": \"Jakarta\",\n",
        "        \"Price (in million IDR)\": \"5100\",\n",
        "        \"Rooms\": \"3 bed, 1 bath\",\n",
        "        \"Facilities\": \"Pool, Garden, Sauna\",\n",
        "        \"Furnished\": \"No\",\n",
        "    },\n",
        "]\n"
      ]
    },
    {
      "cell_type": "markdown",
      "metadata": {
        "id": "PBBOXo-T3LNh"
      },
      "source": [
        "# Challenge: Filter by tuple\n",
        "\n",
        "To complete the whole functionality we can use everything that we've learned so far! You'll be guided for some parts, but for most of the parts you'll need to figure it out yourself. Good luck!\n",
        "\n",
        "```python\n",
        "{'answer': 'AVERAGE > 5000, 5300, 4900, 5100',\n",
        " 'coordinates': [(0, 2), (3, 2), (6, 2), (9, 2)],\n",
        " 'cells': ['5000', '5300', '4900', '5100'],\n",
        " 'aggregator': 'AVERAGE'}\n",
        "```\n",
        "\n",
        "For the first part that you need to finish our last challenge is to try to filter all of `data` by the coordinates given by the output of the pipeline. Basically if you're seeing above result at the `coordinates` key, the thing that we're only need to filter the data by is the first element of every tuple.\n",
        "\n",
        "For example `(0, 2)` represent that the coordinate that we need is `data[0]`, for the `2` part is the second key of that data (which is `Price (in million IDR)`) and we can ignore it per our requirement.\n",
        "\n",
        "So:\n",
        "If the tuple == `(0, 2)`, we need to get the data at `data[0]`\n",
        "If the tuple == `(3, 2)`, we need to get the data at `data[3]`\n",
        "If the tuple == `(6, 2)`, we need to get the data at `data[6]`\n",
        "And so on, again, we can ignore the second key of the tuple."
      ]
    },
    {
      "cell_type": "code",
      "execution_count": null,
      "metadata": {
        "id": "g5_fmia-3LNh"
      },
      "outputs": [],
      "source": [
        "def map_coordinates_to_data(coordinates, data):\n",
        "    return None\n",
        "\n",
        "map_coordinates_to_data([(0, 0), (2, 1), (4, 0)], data)\n",
        "\n",
        "# The output should be\n",
        "# [\n",
        "#    {\n",
        "#      \"House\": \"House 1\",\n",
        "#      \"City\": \"Jakarta\",\n",
        "#      \"Price (in million IDR)\": \"5000\",\n",
        "#      \"Rooms\": \"2 bed, 2 bath\",\n",
        "#      \"Facilities\": \"Pool, Garage, Gym, Garden\",\n",
        "#      \"Furnished\": \"Yes\",\n",
        "#    },\n",
        "#    {\n",
        "#      \"House\": \"House 3\",\n",
        "#      \"City\": \"Malang\",\n",
        "#      \"Price (in million IDR)\": \"1500\",\n",
        "#      \"Rooms\": \"2 bed, 1 bath\",\n",
        "#      \"Facilities\": \"Pool, Gym, Sauna\",\n",
        "#      \"Furnished\": \"No\",\n",
        "#    },\n",
        "#    {\n",
        "#      \"House\": \"House 5\",\n",
        "#      \"City\": \"Surabaya\",\n",
        "#      \"Price (in million IDR)\": \"2200\",\n",
        "#      \"Rooms\": \"3 bed, 2 bath\",\n",
        "#      \"Facilities\": \"Pool, Garage, Gym, Library\",\n",
        "#      \"Furnished\": \"No\",\n",
        "#    }"
      ]
    },
    {
      "cell_type": "markdown",
      "metadata": {
        "id": "tKaA2PRc3LNi"
      },
      "source": [
        "When you are done with the above challenge, then:\n",
        "\n",
        "1. Run the code block by pressing the play button."
      ]
    },
    {
      "cell_type": "code",
      "execution_count": null,
      "metadata": {
        "id": "nrFhB9Bj3LNi"
      },
      "outputs": [],
      "source": [
        "!pip install rggrader\n",
        "\n",
        "from rggrader import submit\n",
        "\n",
        "# @title #### Student Identity\n",
        "student_id = \"your student id\" # @param {type:\"string\"}\n",
        "name = \"your name\" # @param {type:\"string\"}\n",
        "\n",
        "# Submit Method\n",
        "assignment_id = \"014_practical_example_tableqa_part_2\"\n",
        "question_id = \"01_map_data\"\n",
        "\n",
        "submit(student_id, name, assignment_id, str(map_coordinates_to_data([(1,1)], data)), question_id)"
      ]
    },
    {
      "cell_type": "markdown",
      "metadata": {
        "id": "dZuBIkDh3LNj"
      },
      "source": [
        "# Challenge: Map dictionary to list\n",
        "\n",
        "On Gradio, if we want to correctly render table it should come in below pattern:\n",
        "\n",
        "```python\n",
        "[\n",
        "    [\"row 1 col 1\", \"row 1 col 2\", \"row 1 col 3\"],\n",
        "    [\"row 2 col 1\", \"row 2 col 2\", \"row 2 col 3\"],\n",
        "    [\"row 3 col 1\", \"row 3 col 2\", \"row 3 col 3\"],\n",
        "]\n",
        "```\n",
        "\n",
        "Now, try to create a function that will map your dictionary data like so:\n",
        "\n",
        "```python\n",
        "[\n",
        "    {\n",
        "      \"House\": \"House 1\",\n",
        "      \"City\": \"Jakarta\",\n",
        "      \"Price (in million IDR)\": \"5000\",\n",
        "      \"Rooms\": \"2 bed, 2 bath\",\n",
        "      \"Facilities\": \"Pool, Garage, Gym, Garden\",\n",
        "      \"Furnished\": \"Yes\",\n",
        "    },\n",
        "    {\n",
        "      \"House\": \"House 3\",\n",
        "      \"City\": \"Malang\",\n",
        "      \"Price (in million IDR)\": \"1500\",\n",
        "      \"Rooms\": \"2 bed, 1 bath\",\n",
        "      \"Facilities\": \"Pool, Gym, Sauna\",\n",
        "      \"Furnished\": \"No\",\n",
        "    },\n",
        "    {\n",
        "      \"House\": \"House 5\",\n",
        "      \"City\": \"Surabaya\",\n",
        "      \"Price (in million IDR)\": \"2200\",\n",
        "      \"Rooms\": \"3 bed, 2 bath\",\n",
        "      \"Facilities\": \"Pool, Garage, Gym, Library\",\n",
        "      \"Furnished\": \"No\",\n",
        "    }\n",
        "]\n",
        "```\n",
        "\n",
        "To the pattern that we need to render the table correctly, like so:\n",
        "\n",
        "```python\n",
        "[\n",
        "    [\"House 1\", \"Jakarta\", \"5000\", \"2 bed, 2 bath\", \"Pool, Garage, Gym, Garden\", \"Yes\"],\n",
        "    [\"House 3\", \"Malang\", \"1500\", \"2 bed, 1 bath\", \"Pool, Gym, Sauna\", \"No\"],\n",
        "    [\"House 5\", \"Surabaya\", \"2200\", \"3 bed, 2 bath\", \"Pool, Garage, Gym, Library\", \"No\"],\n",
        "]\n",
        "```"
      ]
    },
    {
      "cell_type": "code",
      "execution_count": null,
      "metadata": {
        "id": "oqkJRZ373LNj"
      },
      "outputs": [],
      "source": [
        "def map_data_to_table_format(data):\n",
        "    return None # your code here\n",
        "\n",
        "map_data_to_table_format([\n",
        "    {\n",
        "        \"House\": \"House 2\",\n",
        "        \"City\": \"Surabaya\",\n",
        "        \"Price (in million IDR)\": \"2000\",\n",
        "        \"Rooms\": \"3 bed, 2 bath\",\n",
        "        \"Facilities\": \"Garage, Library\",\n",
        "        \"Furnished\": \"No\",\n",
        "    },\n",
        "    {\n",
        "        \"House\": \"House 10\",\n",
        "        \"City\": \"Jakarta\",\n",
        "        \"Price (in million IDR)\": \"5100\",\n",
        "        \"Rooms\": \"3 bed, 1 bath\",\n",
        "        \"Facilities\": \"Pool, Garden, Sauna\",\n",
        "        \"Furnished\": \"No\",\n",
        "    }\n",
        "])"
      ]
    },
    {
      "cell_type": "markdown",
      "metadata": {
        "id": "ukX9Luje3LNj"
      },
      "source": [
        "When you are done with the above challenge, then:\n",
        "\n",
        "1. Run the code block by pressing the play button."
      ]
    },
    {
      "cell_type": "code",
      "execution_count": null,
      "metadata": {
        "id": "Zm-dmM3W3LNj"
      },
      "outputs": [],
      "source": [
        "# Submit Method\n",
        "assignment_id = \"014_practical_example_tableqa_part_2\"\n",
        "question_id = \"02_data_table\"\n",
        "\n",
        "data_table = [\n",
        "    {\n",
        "      \"House\": \"House 1\",\n",
        "      \"City\": \"Jakarta\",\n",
        "      \"Price (in million IDR)\": \"5000\",\n",
        "      \"Rooms\": \"2 bed, 2 bath\",\n",
        "      \"Facilities\": \"Pool, Garage, Gym, Garden\",\n",
        "      \"Furnished\": \"Yes\",\n",
        "    },\n",
        "    {\n",
        "      \"House\": \"House 3\",\n",
        "      \"City\": \"Malang\",\n",
        "      \"Price (in million IDR)\": \"1500\",\n",
        "      \"Rooms\": \"2 bed, 1 bath\",\n",
        "      \"Facilities\": \"Pool, Gym, Sauna\",\n",
        "      \"Furnished\": \"No\",\n",
        "    },\n",
        "    {\n",
        "      \"House\": \"House 5\",\n",
        "      \"City\": \"Surabaya\",\n",
        "      \"Price (in million IDR)\": \"2200\",\n",
        "      \"Rooms\": \"3 bed, 2 bath\",\n",
        "      \"Facilities\": \"Pool, Garage, Gym, Library\",\n",
        "      \"Furnished\": \"No\",\n",
        "    }\n",
        "]\n",
        "\n",
        "submit(student_id, name, assignment_id, str(map_data_to_table_format(data_table)), question_id)"
      ]
    },
    {
      "cell_type": "markdown",
      "metadata": {
        "id": "ILACQVLL3LNk"
      },
      "source": [
        "# Challenge: Create the function\n",
        "\n",
        "For the rest of how to display the table we'll use something called `DataFrame`, it's a complex data structure to manage table data more easily. To ease our learning all needed function is already provided, it's not that hard so feel free to read it yourself on the code block below\n",
        "\n",
        "Now the only thing you need is to fulfill below `table_qa` function, basically you just need to create a function that retrieve argument of string and then this function will pass that string to table QA pipeline and then return the result of the pipeline (Hint: Just copy paste the code from the previous notebook and modify it a little bit)\n",
        "\n",
        "After that you've done! Just run below code and have fun on querying the table to answer any question that you might have on given 10 houses dataset!"
      ]
    },
    {
      "cell_type": "code",
      "execution_count": null,
      "metadata": {
        "id": "-p9meRQq3LNk"
      },
      "outputs": [],
      "source": [
        "from transformers import pipeline\n",
        "import gradio as gr\n",
        "\n",
        "def table_qa(inp):\n",
        "  return None # your code here\n",
        "\n",
        "def data_classifier(inp):\n",
        "  model_answer = table_qa(inp)\n",
        "  data = map_data_to_table_format(map_coordinates_to_data(model_answer, data))\n",
        "  return gr.Dataframe(data, headers=[\"House\", \"City\", \"Price\", \"Rooms\", \"Facilities\", \"Furnished\"], col_count=6)\n",
        "\n",
        "gr.Interface(fn=data_classifier, inputs=\"text\", outputs=\"dataframe\").launch()"
      ]
    },
    {
      "cell_type": "markdown",
      "metadata": {
        "id": "OhqQiNAE3LNk"
      },
      "source": [
        "When you are done with the above challenge, then:\n",
        "\n",
        "1. Run the code block by pressing the play button."
      ]
    },
    {
      "cell_type": "code",
      "execution_count": null,
      "metadata": {
        "id": "DoNKvZkA3LNk"
      },
      "outputs": [],
      "source": [
        "# Submit Method\n",
        "assignment_id = \"014_practical_example_tableqa_part_2\"\n",
        "question_id = \"03_table_qa\"\n",
        "\n",
        "submit(student_id, name, assignment_id, str(table_qa(\"How many houses are there in Malang?\")), question_id)"
      ]
    }
  ],
  "metadata": {
    "kernelspec": {
      "display_name": "Python 3 (ipykernel)",
      "language": "python",
      "name": "python3"
    },
    "language_info": {
      "codemirror_mode": {
        "name": "ipython",
        "version": 3
      },
      "file_extension": ".py",
      "mimetype": "text/x-python",
      "name": "python",
      "nbconvert_exporter": "python",
      "pygments_lexer": "ipython3",
      "version": "3.11.3"
    },
    "colab": {
      "provenance": []
    }
  },
  "nbformat": 4,
  "nbformat_minor": 0
}