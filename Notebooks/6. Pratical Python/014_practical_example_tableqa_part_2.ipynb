{
 "cells": [
  {
   "cell_type": "markdown",
   "metadata": {
    "id": "2TBbBSzb3LNc"
   },
   "source": [
    "# Showing your data in a table using Gradio\n",
    "\n",
    "After learning using table question answering pipeline and the answer is a text, now let's try to use the pipeline to filter given table data to only show the data that asked by the user.\n",
    "\n",
    "![Using Gradio](https://storage.googleapis.com/rg-ai-bootcamp/python-prep/using_gradio-min.png)\n"
   ]
  },
  {
   "cell_type": "code",
   "execution_count": 10,
   "metadata": {
    "id": "eRHCxvKw3LNf",
    "ExecuteTime": {
     "end_time": "2023-12-05T07:48:15.548792800Z",
     "start_time": "2023-12-05T07:48:11.734853200Z"
    }
   },
   "outputs": [
    {
     "name": "stdout",
     "output_type": "stream",
     "text": [
      "Requirement already satisfied: gradio in d:\\repositories\\skill-academy-ml\\venv\\lib\\site-packages (4.8.0)\n",
      "Requirement already satisfied: aiofiles<24.0,>=22.0 in d:\\repositories\\skill-academy-ml\\venv\\lib\\site-packages (from gradio) (23.2.1)\n",
      "Requirement already satisfied: altair<6.0,>=4.2.0 in d:\\repositories\\skill-academy-ml\\venv\\lib\\site-packages (from gradio) (5.2.0)\n",
      "Requirement already satisfied: fastapi in d:\\repositories\\skill-academy-ml\\venv\\lib\\site-packages (from gradio) (0.104.1)\n",
      "Requirement already satisfied: ffmpy in d:\\repositories\\skill-academy-ml\\venv\\lib\\site-packages (from gradio) (0.3.1)\n",
      "Requirement already satisfied: gradio-client==0.7.1 in d:\\repositories\\skill-academy-ml\\venv\\lib\\site-packages (from gradio) (0.7.1)\n",
      "Requirement already satisfied: httpx in d:\\repositories\\skill-academy-ml\\venv\\lib\\site-packages (from gradio) (0.25.2)\n",
      "Requirement already satisfied: huggingface-hub>=0.14.0 in d:\\repositories\\skill-academy-ml\\venv\\lib\\site-packages (from gradio) (0.19.4)\n",
      "Requirement already satisfied: importlib-resources<7.0,>=1.3 in d:\\repositories\\skill-academy-ml\\venv\\lib\\site-packages (from gradio) (6.1.1)\n",
      "Requirement already satisfied: jinja2<4.0 in d:\\repositories\\skill-academy-ml\\venv\\lib\\site-packages (from gradio) (3.1.2)\n",
      "Requirement already satisfied: markupsafe~=2.0 in d:\\repositories\\skill-academy-ml\\venv\\lib\\site-packages (from gradio) (2.1.3)\n",
      "Requirement already satisfied: matplotlib~=3.0 in d:\\repositories\\skill-academy-ml\\venv\\lib\\site-packages (from gradio) (3.8.2)\n",
      "Requirement already satisfied: numpy~=1.0 in d:\\repositories\\skill-academy-ml\\venv\\lib\\site-packages (from gradio) (1.26.2)\n",
      "Requirement already satisfied: orjson~=3.0 in d:\\repositories\\skill-academy-ml\\venv\\lib\\site-packages (from gradio) (3.9.10)\n",
      "Requirement already satisfied: packaging in d:\\repositories\\skill-academy-ml\\venv\\lib\\site-packages (from gradio) (23.2)\n",
      "Requirement already satisfied: pandas<3.0,>=1.0 in d:\\repositories\\skill-academy-ml\\venv\\lib\\site-packages (from gradio) (2.1.3)\n",
      "Requirement already satisfied: pillow<11.0,>=8.0 in d:\\repositories\\skill-academy-ml\\venv\\lib\\site-packages (from gradio) (10.1.0)\n",
      "Requirement already satisfied: pydantic>=2.0 in d:\\repositories\\skill-academy-ml\\venv\\lib\\site-packages (from gradio) (2.5.2)\n",
      "Requirement already satisfied: pydub in d:\\repositories\\skill-academy-ml\\venv\\lib\\site-packages (from gradio) (0.25.1)\n",
      "Requirement already satisfied: python-multipart in d:\\repositories\\skill-academy-ml\\venv\\lib\\site-packages (from gradio) (0.0.6)\n",
      "Requirement already satisfied: pyyaml<7.0,>=5.0 in d:\\repositories\\skill-academy-ml\\venv\\lib\\site-packages (from gradio) (6.0.1)\n",
      "Requirement already satisfied: requests~=2.0 in d:\\repositories\\skill-academy-ml\\venv\\lib\\site-packages (from gradio) (2.31.0)\n",
      "Requirement already satisfied: semantic-version~=2.0 in d:\\repositories\\skill-academy-ml\\venv\\lib\\site-packages (from gradio) (2.10.0)\n",
      "Requirement already satisfied: tomlkit==0.12.0 in d:\\repositories\\skill-academy-ml\\venv\\lib\\site-packages (from gradio) (0.12.0)\n",
      "Requirement already satisfied: typer[all]<1.0,>=0.9 in d:\\repositories\\skill-academy-ml\\venv\\lib\\site-packages (from gradio) (0.9.0)\n",
      "Requirement already satisfied: typing-extensions~=4.0 in d:\\repositories\\skill-academy-ml\\venv\\lib\\site-packages (from gradio) (4.8.0)\n",
      "Requirement already satisfied: uvicorn>=0.14.0 in d:\\repositories\\skill-academy-ml\\venv\\lib\\site-packages (from gradio) (0.24.0.post1)\n",
      "Requirement already satisfied: fsspec in d:\\repositories\\skill-academy-ml\\venv\\lib\\site-packages (from gradio-client==0.7.1->gradio) (2023.12.0)\n",
      "Requirement already satisfied: websockets<12.0,>=10.0 in d:\\repositories\\skill-academy-ml\\venv\\lib\\site-packages (from gradio-client==0.7.1->gradio) (11.0.3)\n",
      "Requirement already satisfied: jsonschema>=3.0 in d:\\repositories\\skill-academy-ml\\venv\\lib\\site-packages (from altair<6.0,>=4.2.0->gradio) (4.20.0)\n",
      "Requirement already satisfied: toolz in d:\\repositories\\skill-academy-ml\\venv\\lib\\site-packages (from altair<6.0,>=4.2.0->gradio) (0.12.0)\n",
      "Requirement already satisfied: filelock in d:\\repositories\\skill-academy-ml\\venv\\lib\\site-packages (from huggingface-hub>=0.14.0->gradio) (3.13.1)\n",
      "Requirement already satisfied: tqdm>=4.42.1 in d:\\repositories\\skill-academy-ml\\venv\\lib\\site-packages (from huggingface-hub>=0.14.0->gradio) (4.66.1)\n",
      "Requirement already satisfied: contourpy>=1.0.1 in d:\\repositories\\skill-academy-ml\\venv\\lib\\site-packages (from matplotlib~=3.0->gradio) (1.2.0)\n",
      "Requirement already satisfied: cycler>=0.10 in d:\\repositories\\skill-academy-ml\\venv\\lib\\site-packages (from matplotlib~=3.0->gradio) (0.12.1)\n",
      "Requirement already satisfied: fonttools>=4.22.0 in d:\\repositories\\skill-academy-ml\\venv\\lib\\site-packages (from matplotlib~=3.0->gradio) (4.46.0)\n",
      "Requirement already satisfied: kiwisolver>=1.3.1 in d:\\repositories\\skill-academy-ml\\venv\\lib\\site-packages (from matplotlib~=3.0->gradio) (1.4.5)\n",
      "Requirement already satisfied: pyparsing>=2.3.1 in d:\\repositories\\skill-academy-ml\\venv\\lib\\site-packages (from matplotlib~=3.0->gradio) (3.1.1)\n",
      "Requirement already satisfied: python-dateutil>=2.7 in d:\\repositories\\skill-academy-ml\\venv\\lib\\site-packages (from matplotlib~=3.0->gradio) (2.8.2)\n",
      "Requirement already satisfied: pytz>=2020.1 in d:\\repositories\\skill-academy-ml\\venv\\lib\\site-packages (from pandas<3.0,>=1.0->gradio) (2023.3.post1)\n",
      "Requirement already satisfied: tzdata>=2022.1 in d:\\repositories\\skill-academy-ml\\venv\\lib\\site-packages (from pandas<3.0,>=1.0->gradio) (2023.3)\n",
      "Requirement already satisfied: annotated-types>=0.4.0 in d:\\repositories\\skill-academy-ml\\venv\\lib\\site-packages (from pydantic>=2.0->gradio) (0.6.0)\n",
      "Requirement already satisfied: pydantic-core==2.14.5 in d:\\repositories\\skill-academy-ml\\venv\\lib\\site-packages (from pydantic>=2.0->gradio) (2.14.5)\n",
      "Requirement already satisfied: charset-normalizer<4,>=2 in d:\\repositories\\skill-academy-ml\\venv\\lib\\site-packages (from requests~=2.0->gradio) (3.3.2)\n",
      "Requirement already satisfied: idna<4,>=2.5 in d:\\repositories\\skill-academy-ml\\venv\\lib\\site-packages (from requests~=2.0->gradio) (3.6)\n",
      "Requirement already satisfied: urllib3<3,>=1.21.1 in d:\\repositories\\skill-academy-ml\\venv\\lib\\site-packages (from requests~=2.0->gradio) (2.1.0)\n",
      "Requirement already satisfied: certifi>=2017.4.17 in d:\\repositories\\skill-academy-ml\\venv\\lib\\site-packages (from requests~=2.0->gradio) (2023.11.17)\n",
      "Requirement already satisfied: click<9.0.0,>=7.1.1 in d:\\repositories\\skill-academy-ml\\venv\\lib\\site-packages (from typer[all]<1.0,>=0.9->gradio) (8.1.7)\n",
      "Requirement already satisfied: colorama<0.5.0,>=0.4.3 in d:\\repositories\\skill-academy-ml\\venv\\lib\\site-packages (from typer[all]<1.0,>=0.9->gradio) (0.4.6)\n",
      "Requirement already satisfied: shellingham<2.0.0,>=1.3.0 in d:\\repositories\\skill-academy-ml\\venv\\lib\\site-packages (from typer[all]<1.0,>=0.9->gradio) (1.5.4)\n",
      "Requirement already satisfied: rich<14.0.0,>=10.11.0 in d:\\repositories\\skill-academy-ml\\venv\\lib\\site-packages (from typer[all]<1.0,>=0.9->gradio) (13.7.0)\n",
      "Requirement already satisfied: h11>=0.8 in d:\\repositories\\skill-academy-ml\\venv\\lib\\site-packages (from uvicorn>=0.14.0->gradio) (0.14.0)\n",
      "Requirement already satisfied: anyio<4.0.0,>=3.7.1 in d:\\repositories\\skill-academy-ml\\venv\\lib\\site-packages (from fastapi->gradio) (3.7.1)\n",
      "Requirement already satisfied: starlette<0.28.0,>=0.27.0 in d:\\repositories\\skill-academy-ml\\venv\\lib\\site-packages (from fastapi->gradio) (0.27.0)\n",
      "Requirement already satisfied: httpcore==1.* in d:\\repositories\\skill-academy-ml\\venv\\lib\\site-packages (from httpx->gradio) (1.0.2)\n",
      "Requirement already satisfied: sniffio in d:\\repositories\\skill-academy-ml\\venv\\lib\\site-packages (from httpx->gradio) (1.3.0)\n",
      "Requirement already satisfied: exceptiongroup in d:\\repositories\\skill-academy-ml\\venv\\lib\\site-packages (from anyio<4.0.0,>=3.7.1->fastapi->gradio) (1.2.0)\n",
      "Requirement already satisfied: attrs>=22.2.0 in d:\\repositories\\skill-academy-ml\\venv\\lib\\site-packages (from jsonschema>=3.0->altair<6.0,>=4.2.0->gradio) (23.1.0)\n",
      "Requirement already satisfied: jsonschema-specifications>=2023.03.6 in d:\\repositories\\skill-academy-ml\\venv\\lib\\site-packages (from jsonschema>=3.0->altair<6.0,>=4.2.0->gradio) (2023.11.2)\n",
      "Requirement already satisfied: referencing>=0.28.4 in d:\\repositories\\skill-academy-ml\\venv\\lib\\site-packages (from jsonschema>=3.0->altair<6.0,>=4.2.0->gradio) (0.31.1)\n",
      "Requirement already satisfied: rpds-py>=0.7.1 in d:\\repositories\\skill-academy-ml\\venv\\lib\\site-packages (from jsonschema>=3.0->altair<6.0,>=4.2.0->gradio) (0.13.2)\n",
      "Requirement already satisfied: six>=1.5 in d:\\repositories\\skill-academy-ml\\venv\\lib\\site-packages (from python-dateutil>=2.7->matplotlib~=3.0->gradio) (1.16.0)\n",
      "Requirement already satisfied: markdown-it-py>=2.2.0 in d:\\repositories\\skill-academy-ml\\venv\\lib\\site-packages (from rich<14.0.0,>=10.11.0->typer[all]<1.0,>=0.9->gradio) (3.0.0)\n",
      "Requirement already satisfied: pygments<3.0.0,>=2.13.0 in d:\\repositories\\skill-academy-ml\\venv\\lib\\site-packages (from rich<14.0.0,>=10.11.0->typer[all]<1.0,>=0.9->gradio) (2.17.2)\n",
      "Requirement already satisfied: mdurl~=0.1 in d:\\repositories\\skill-academy-ml\\venv\\lib\\site-packages (from markdown-it-py>=2.2.0->rich<14.0.0,>=10.11.0->typer[all]<1.0,>=0.9->gradio) (0.1.2)\n",
      "Note: you may need to restart the kernel to use updated packages.\n"
     ]
    },
    {
     "name": "stderr",
     "output_type": "stream",
     "text": [
      "\n",
      "[notice] A new release of pip is available: 23.2.1 -> 23.3.1\n",
      "[notice] To update, run: python.exe -m pip install --upgrade pip\n"
     ]
    },
    {
     "name": "stdout",
     "output_type": "stream",
     "text": [
      "Requirement already satisfied: transformers in d:\\repositories\\skill-academy-ml\\venv\\lib\\site-packages (4.35.2)\n",
      "Requirement already satisfied: filelock in d:\\repositories\\skill-academy-ml\\venv\\lib\\site-packages (from transformers) (3.13.1)\n",
      "Requirement already satisfied: huggingface-hub<1.0,>=0.16.4 in d:\\repositories\\skill-academy-ml\\venv\\lib\\site-packages (from transformers) (0.19.4)\n",
      "Requirement already satisfied: numpy>=1.17 in d:\\repositories\\skill-academy-ml\\venv\\lib\\site-packages (from transformers) (1.26.2)\n",
      "Requirement already satisfied: packaging>=20.0 in d:\\repositories\\skill-academy-ml\\venv\\lib\\site-packages (from transformers) (23.2)\n",
      "Requirement already satisfied: pyyaml>=5.1 in d:\\repositories\\skill-academy-ml\\venv\\lib\\site-packages (from transformers) (6.0.1)\n",
      "Requirement already satisfied: regex!=2019.12.17 in d:\\repositories\\skill-academy-ml\\venv\\lib\\site-packages (from transformers) (2023.10.3)\n",
      "Requirement already satisfied: requests in d:\\repositories\\skill-academy-ml\\venv\\lib\\site-packages (from transformers) (2.31.0)\n",
      "Requirement already satisfied: tokenizers<0.19,>=0.14 in d:\\repositories\\skill-academy-ml\\venv\\lib\\site-packages (from transformers) (0.15.0)\n",
      "Requirement already satisfied: safetensors>=0.3.1 in d:\\repositories\\skill-academy-ml\\venv\\lib\\site-packages (from transformers) (0.4.1)\n",
      "Requirement already satisfied: tqdm>=4.27 in d:\\repositories\\skill-academy-ml\\venv\\lib\\site-packages (from transformers) (4.66.1)\n",
      "Requirement already satisfied: fsspec>=2023.5.0 in d:\\repositories\\skill-academy-ml\\venv\\lib\\site-packages (from huggingface-hub<1.0,>=0.16.4->transformers) (2023.12.0)\n",
      "Requirement already satisfied: typing-extensions>=3.7.4.3 in d:\\repositories\\skill-academy-ml\\venv\\lib\\site-packages (from huggingface-hub<1.0,>=0.16.4->transformers) (4.8.0)\n",
      "Requirement already satisfied: colorama in d:\\repositories\\skill-academy-ml\\venv\\lib\\site-packages (from tqdm>=4.27->transformers) (0.4.6)\n",
      "Requirement already satisfied: charset-normalizer<4,>=2 in d:\\repositories\\skill-academy-ml\\venv\\lib\\site-packages (from requests->transformers) (3.3.2)\n",
      "Requirement already satisfied: idna<4,>=2.5 in d:\\repositories\\skill-academy-ml\\venv\\lib\\site-packages (from requests->transformers) (3.6)\n",
      "Requirement already satisfied: urllib3<3,>=1.21.1 in d:\\repositories\\skill-academy-ml\\venv\\lib\\site-packages (from requests->transformers) (2.1.0)\n",
      "Requirement already satisfied: certifi>=2017.4.17 in d:\\repositories\\skill-academy-ml\\venv\\lib\\site-packages (from requests->transformers) (2023.11.17)\n",
      "Note: you may need to restart the kernel to use updated packages.\n"
     ]
    },
    {
     "name": "stderr",
     "output_type": "stream",
     "text": [
      "\n",
      "[notice] A new release of pip is available: 23.2.1 -> 23.3.1\n",
      "[notice] To update, run: python.exe -m pip install --upgrade pip\n"
     ]
    },
    {
     "name": "stdout",
     "output_type": "stream",
     "text": [
      "Requirement already satisfied: pandas in d:\\repositories\\skill-academy-ml\\venv\\lib\\site-packages (2.1.3)\n",
      "Requirement already satisfied: numpy<2,>=1.22.4 in d:\\repositories\\skill-academy-ml\\venv\\lib\\site-packages (from pandas) (1.26.2)\n",
      "Requirement already satisfied: python-dateutil>=2.8.2 in d:\\repositories\\skill-academy-ml\\venv\\lib\\site-packages (from pandas) (2.8.2)\n",
      "Requirement already satisfied: pytz>=2020.1 in d:\\repositories\\skill-academy-ml\\venv\\lib\\site-packages (from pandas) (2023.3.post1)\n",
      "Requirement already satisfied: tzdata>=2022.1 in d:\\repositories\\skill-academy-ml\\venv\\lib\\site-packages (from pandas) (2023.3)\n",
      "Requirement already satisfied: six>=1.5 in d:\\repositories\\skill-academy-ml\\venv\\lib\\site-packages (from python-dateutil>=2.8.2->pandas) (1.16.0)\n",
      "Note: you may need to restart the kernel to use updated packages.\n"
     ]
    },
    {
     "name": "stderr",
     "output_type": "stream",
     "text": [
      "\n",
      "[notice] A new release of pip is available: 23.2.1 -> 23.3.1\n",
      "[notice] To update, run: python.exe -m pip install --upgrade pip\n"
     ]
    }
   ],
   "source": [
    "%pip install gradio\n",
    "%pip install transformers\n",
    "%pip install pandas"
   ]
  },
  {
   "cell_type": "code",
   "execution_count": 13,
   "metadata": {
    "id": "YCNOGDfG3LNg",
    "ExecuteTime": {
     "end_time": "2023-12-05T07:50:26.739915600Z",
     "start_time": "2023-12-05T07:50:26.729404900Z"
    }
   },
   "outputs": [],
   "source": [
    "data = [\n",
    "    {\n",
    "        \"House\": \"House 1\",\n",
    "        \"City\": \"Jakarta\",\n",
    "        \"Price (in million IDR)\": \"5000\",\n",
    "        \"Rooms\": \"2 bed, 2 bath\",\n",
    "        \"Facilities\": \"Pool, Garage, Gym, Garden\",\n",
    "        \"Furnished\": \"Yes\",\n",
    "    },\n",
    "    {\n",
    "        \"House\": \"House 2\",\n",
    "        \"City\": \"Surabaya\",\n",
    "        \"Price (in million IDR)\": \"2000\",\n",
    "        \"Rooms\": \"3 bed, 2 bath\",\n",
    "        \"Facilities\": \"Garage, Library\",\n",
    "        \"Furnished\": \"No\",\n",
    "    },\n",
    "    {\n",
    "        \"House\": \"House 3\",\n",
    "        \"City\": \"Malang\",\n",
    "        \"Price (in million IDR)\": \"1500\",\n",
    "        \"Rooms\": \"2 bed, 1 bath\",\n",
    "        \"Facilities\": \"Pool, Gym, Sauna\",\n",
    "        \"Furnished\": \"No\",\n",
    "    },\n",
    "    {\n",
    "        \"House\": \"House 4\",\n",
    "        \"City\": \"Jakarta\",\n",
    "        \"Price (in million IDR)\": \"5300\",\n",
    "        \"Rooms\": \"1 bed, 1 bath\",\n",
    "        \"Facilities\": \"Gym, Rooftop\",\n",
    "        \"Furnished\": \"Yes\",\n",
    "    },\n",
    "    {\n",
    "        \"House\": \"House 5\",\n",
    "        \"City\": \"Surabaya\",\n",
    "        \"Price (in million IDR)\": \"2200\",\n",
    "        \"Rooms\": \"3 bed, 2 bath\",\n",
    "        \"Facilities\": \"Pool, Garage, Gym, Library\",\n",
    "        \"Furnished\": \"No\",\n",
    "    },\n",
    "    {\n",
    "        \"House\": \"House 6\",\n",
    "        \"City\": \"Malang\",\n",
    "        \"Price (in million IDR)\": \"1600\",\n",
    "        \"Rooms\": \"2 bed, 2 bath\",\n",
    "        \"Facilities\": \"Garage, Gym, Garden\",\n",
    "        \"Furnished\": \"Yes\",\n",
    "    },\n",
    "    {\n",
    "        \"House\": \"House 7\",\n",
    "        \"City\": \"Jakarta\",\n",
    "        \"Price (in million IDR)\": \"4900\",\n",
    "        \"Rooms\": \"4 bed, 3 bath\",\n",
    "        \"Facilities\": \"Pool, Garage, Sauna\",\n",
    "        \"Furnished\": \"Yes\",\n",
    "    },\n",
    "    {\n",
    "        \"House\": \"House 8\",\n",
    "        \"City\": \"Surabaya\",\n",
    "        \"Price (in million IDR)\": \"2100\",\n",
    "        \"Rooms\": \"3 bed, 3 bath\",\n",
    "        \"Facilities\": \"Gym, Garden\",\n",
    "        \"Furnished\": \"No\",\n",
    "    },\n",
    "    {\n",
    "        \"House\": \"House 9\",\n",
    "        \"City\": \"Malang\",\n",
    "        \"Price (in million IDR)\": \"1400\",\n",
    "        \"Rooms\": \"4 bed, 2 bath\",\n",
    "        \"Facilities\": \"Garage, Rooftop\",\n",
    "        \"Furnished\": \"Yes\",\n",
    "    },\n",
    "    {\n",
    "        \"House\": \"House 10\",\n",
    "        \"City\": \"Jakarta\",\n",
    "        \"Price (in million IDR)\": \"5100\",\n",
    "        \"Rooms\": \"3 bed, 1 bath\",\n",
    "        \"Facilities\": \"Pool, Garden, Sauna\",\n",
    "        \"Furnished\": \"No\",\n",
    "    },\n",
    "]\n"
   ]
  },
  {
   "cell_type": "markdown",
   "metadata": {
    "id": "PBBOXo-T3LNh"
   },
   "source": [
    "# Challenge: Filter by tuple\n",
    "\n",
    "To complete the whole functionality we can use everything that we've learned so far! You'll be guided for some parts, but for most of the parts you'll need to figure it out yourself. Good luck!\n",
    "\n",
    "```python\n",
    "{'answer': 'AVERAGE > 5000, 5300, 4900, 5100',\n",
    " 'coordinates': [(0, 2), (3, 2), (6, 2), (9, 2)],\n",
    " 'cells': ['5000', '5300', '4900', '5100'],\n",
    " 'aggregator': 'AVERAGE'}\n",
    "```\n",
    "\n",
    "For the first part that you need to finish our last challenge is to try to filter all of `data` by the coordinates given by the output of the pipeline. Basically if you're seeing above result at the `coordinates` key, the thing that we're only need to filter the data by is the first element of every tuple.\n",
    "\n",
    "For example `(0, 2)` represent that the coordinate that we need is `data[0]`, for the `2` part is the second key of that data (which is `Price (in million IDR)`) and we can ignore it per our requirement.\n",
    "\n",
    "So:\n",
    "If the tuple == `(0, 2)`, we need to get the data at `data[0]`\n",
    "If the tuple == `(3, 2)`, we need to get the data at `data[3]`\n",
    "If the tuple == `(6, 2)`, we need to get the data at `data[6]`\n",
    "And so on, again, we can ignore the second key of the tuple."
   ]
  },
  {
   "cell_type": "code",
   "execution_count": 2,
   "metadata": {
    "id": "g5_fmia-3LNh",
    "ExecuteTime": {
     "end_time": "2023-12-05T06:26:38.885391600Z",
     "start_time": "2023-12-05T06:26:38.837802500Z"
    }
   },
   "outputs": [
    {
     "data": {
      "text/plain": "[{'House': 'House 1',\n  'City': 'Jakarta',\n  'Price (in million IDR)': '5000',\n  'Rooms': '2 bed, 2 bath',\n  'Facilities': 'Pool, Garage, Gym, Garden',\n  'Furnished': 'Yes'},\n {'House': 'House 3',\n  'City': 'Malang',\n  'Price (in million IDR)': '1500',\n  'Rooms': '2 bed, 1 bath',\n  'Facilities': 'Pool, Gym, Sauna',\n  'Furnished': 'No'},\n {'House': 'House 5',\n  'City': 'Surabaya',\n  'Price (in million IDR)': '2200',\n  'Rooms': '3 bed, 2 bath',\n  'Facilities': 'Pool, Garage, Gym, Library',\n  'Furnished': 'No'}]"
     },
     "execution_count": 2,
     "metadata": {},
     "output_type": "execute_result"
    }
   ],
   "source": [
    "def map_coordinates_to_data(coordinates, data):\n",
    "    return [data[x] for x in [i[0] for i in coordinates]]\n",
    "\n",
    "map_coordinates_to_data([(0, 0), (2, 1), (4, 0)], data)\n",
    "\n",
    "# The output should be\n",
    "# [\n",
    "#    {\n",
    "#      \"House\": \"House 1\",\n",
    "#      \"City\": \"Jakarta\",\n",
    "#      \"Price (in million IDR)\": \"5000\",\n",
    "#      \"Rooms\": \"2 bed, 2 bath\",\n",
    "#      \"Facilities\": \"Pool, Garage, Gym, Garden\",\n",
    "#      \"Furnished\": \"Yes\",\n",
    "#    },\n",
    "#    {\n",
    "#      \"House\": \"House 3\",\n",
    "#      \"City\": \"Malang\",\n",
    "#      \"Price (in million IDR)\": \"1500\",\n",
    "#      \"Rooms\": \"2 bed, 1 bath\",\n",
    "#      \"Facilities\": \"Pool, Gym, Sauna\",\n",
    "#      \"Furnished\": \"No\",\n",
    "#    },\n",
    "#    {\n",
    "#      \"House\": \"House 5\",\n",
    "#      \"City\": \"Surabaya\",\n",
    "#      \"Price (in million IDR)\": \"2200\",\n",
    "#      \"Rooms\": \"3 bed, 2 bath\",\n",
    "#      \"Facilities\": \"Pool, Garage, Gym, Library\",\n",
    "#      \"Furnished\": \"No\",\n",
    "#    }"
   ]
  },
  {
   "cell_type": "markdown",
   "metadata": {
    "id": "tKaA2PRc3LNi"
   },
   "source": [
    "When you are done with the above challenge, then:\n",
    "\n",
    "1. Run the code block by pressing the play button."
   ]
  },
  {
   "cell_type": "code",
   "execution_count": 3,
   "metadata": {
    "id": "nrFhB9Bj3LNi",
    "ExecuteTime": {
     "end_time": "2023-12-05T06:45:50.874002300Z",
     "start_time": "2023-12-05T06:45:48.337907600Z"
    }
   },
   "outputs": [
    {
     "name": "stdout",
     "output_type": "stream",
     "text": [
      "Requirement already satisfied: rggrader in d:\\repositories\\skill-academy-ml\\venv\\lib\\site-packages (0.1.6)\n",
      "Requirement already satisfied: requests in d:\\repositories\\skill-academy-ml\\venv\\lib\\site-packages (from rggrader) (2.31.0)\n",
      "Requirement already satisfied: pandas in d:\\repositories\\skill-academy-ml\\venv\\lib\\site-packages (from rggrader) (2.1.3)\n",
      "Requirement already satisfied: Pillow in d:\\repositories\\skill-academy-ml\\venv\\lib\\site-packages (from rggrader) (10.1.0)\n",
      "Requirement already satisfied: numpy<2,>=1.22.4 in d:\\repositories\\skill-academy-ml\\venv\\lib\\site-packages (from pandas->rggrader) (1.26.2)\n",
      "Requirement already satisfied: python-dateutil>=2.8.2 in d:\\repositories\\skill-academy-ml\\venv\\lib\\site-packages (from pandas->rggrader) (2.8.2)\n",
      "Requirement already satisfied: pytz>=2020.1 in d:\\repositories\\skill-academy-ml\\venv\\lib\\site-packages (from pandas->rggrader) (2023.3.post1)\n",
      "Requirement already satisfied: tzdata>=2022.1 in d:\\repositories\\skill-academy-ml\\venv\\lib\\site-packages (from pandas->rggrader) (2023.3)\n",
      "Requirement already satisfied: charset-normalizer<4,>=2 in d:\\repositories\\skill-academy-ml\\venv\\lib\\site-packages (from requests->rggrader) (3.3.2)\n",
      "Requirement already satisfied: idna<4,>=2.5 in d:\\repositories\\skill-academy-ml\\venv\\lib\\site-packages (from requests->rggrader) (3.6)\n",
      "Requirement already satisfied: urllib3<3,>=1.21.1 in d:\\repositories\\skill-academy-ml\\venv\\lib\\site-packages (from requests->rggrader) (2.1.0)\n",
      "Requirement already satisfied: certifi>=2017.4.17 in d:\\repositories\\skill-academy-ml\\venv\\lib\\site-packages (from requests->rggrader) (2023.11.17)\n",
      "Requirement already satisfied: six>=1.5 in d:\\repositories\\skill-academy-ml\\venv\\lib\\site-packages (from python-dateutil>=2.8.2->pandas->rggrader) (1.16.0)\n"
     ]
    },
    {
     "name": "stderr",
     "output_type": "stream",
     "text": [
      "\n",
      "[notice] A new release of pip is available: 23.2.1 -> 23.3.1\n",
      "[notice] To update, run: python.exe -m pip install --upgrade pip\n"
     ]
    },
    {
     "data": {
      "text/plain": "'Assignment successfully submitted'"
     },
     "execution_count": 3,
     "metadata": {},
     "output_type": "execute_result"
    }
   ],
   "source": [
    "!pip install rggrader\n",
    "\n",
    "from rggrader import submit\n",
    "\n",
    "# @title #### Student Identity\n",
    "student_id = \"REA3X5EN\" # @param {type:\"string\"}\n",
    "name = \"Steven Adi Santoso\" # @param {type:\"string\"}\n",
    "\n",
    "# Submit Method\n",
    "assignment_id = \"014_practical_example_tableqa_part_2\"\n",
    "question_id = \"01_map_data\"\n",
    "\n",
    "submit(student_id, name, assignment_id, str(map_coordinates_to_data([(1,1)], data)), question_id)"
   ]
  },
  {
   "cell_type": "markdown",
   "metadata": {
    "id": "dZuBIkDh3LNj"
   },
   "source": [
    "# Challenge: Map dictionary to list\n",
    "\n",
    "On Gradio, if we want to correctly render table it should come in below pattern:\n",
    "\n",
    "```python\n",
    "[\n",
    "    [\"row 1 col 1\", \"row 1 col 2\", \"row 1 col 3\"],\n",
    "    [\"row 2 col 1\", \"row 2 col 2\", \"row 2 col 3\"],\n",
    "    [\"row 3 col 1\", \"row 3 col 2\", \"row 3 col 3\"],\n",
    "]\n",
    "```\n",
    "\n",
    "Now, try to create a function that will map your dictionary data like so:\n",
    "\n",
    "```python\n",
    "[\n",
    "    {\n",
    "      \"House\": \"House 1\",\n",
    "      \"City\": \"Jakarta\",\n",
    "      \"Price (in million IDR)\": \"5000\",\n",
    "      \"Rooms\": \"2 bed, 2 bath\",\n",
    "      \"Facilities\": \"Pool, Garage, Gym, Garden\",\n",
    "      \"Furnished\": \"Yes\",\n",
    "    },\n",
    "    {\n",
    "      \"House\": \"House 3\",\n",
    "      \"City\": \"Malang\",\n",
    "      \"Price (in million IDR)\": \"1500\",\n",
    "      \"Rooms\": \"2 bed, 1 bath\",\n",
    "      \"Facilities\": \"Pool, Gym, Sauna\",\n",
    "      \"Furnished\": \"No\",\n",
    "    },\n",
    "    {\n",
    "      \"House\": \"House 5\",\n",
    "      \"City\": \"Surabaya\",\n",
    "      \"Price (in million IDR)\": \"2200\",\n",
    "      \"Rooms\": \"3 bed, 2 bath\",\n",
    "      \"Facilities\": \"Pool, Garage, Gym, Library\",\n",
    "      \"Furnished\": \"No\",\n",
    "    }\n",
    "]\n",
    "```\n",
    "\n",
    "To the pattern that we need to render the table correctly, like so:\n",
    "\n",
    "```python\n",
    "[\n",
    "    [\"House 1\", \"Jakarta\", \"5000\", \"2 bed, 2 bath\", \"Pool, Garage, Gym, Garden\", \"Yes\"],\n",
    "    [\"House 3\", \"Malang\", \"1500\", \"2 bed, 1 bath\", \"Pool, Gym, Sauna\", \"No\"],\n",
    "    [\"House 5\", \"Surabaya\", \"2200\", \"3 bed, 2 bath\", \"Pool, Garage, Gym, Library\", \"No\"],\n",
    "]\n",
    "```"
   ]
  },
  {
   "cell_type": "code",
   "execution_count": 7,
   "metadata": {
    "id": "oqkJRZ373LNj",
    "ExecuteTime": {
     "end_time": "2023-12-05T07:40:50.101038300Z",
     "start_time": "2023-12-05T07:40:50.088518700Z"
    }
   },
   "outputs": [
    {
     "data": {
      "text/plain": "[['House 2', 'Surabaya', '2000', '3 bed, 2 bath', 'Garage, Library', 'No'],\n ['House 10', 'Jakarta', '5100', '3 bed, 1 bath', 'Pool, Garden, Sauna', 'No']]"
     },
     "execution_count": 7,
     "metadata": {},
     "output_type": "execute_result"
    }
   ],
   "source": [
    "def map_data_to_table_format(data):\n",
    "    return [list(ls.values()) for ls in data]\n",
    "\n",
    "map_data_to_table_format([\n",
    "    {\n",
    "        \"House\": \"House 2\",\n",
    "        \"City\": \"Surabaya\",\n",
    "        \"Price (in million IDR)\": \"2000\",\n",
    "        \"Rooms\": \"3 bed, 2 bath\",\n",
    "        \"Facilities\": \"Garage, Library\",\n",
    "        \"Furnished\": \"No\",\n",
    "    },\n",
    "    {\n",
    "        \"House\": \"House 10\",\n",
    "        \"City\": \"Jakarta\",\n",
    "        \"Price (in million IDR)\": \"5100\",\n",
    "        \"Rooms\": \"3 bed, 1 bath\",\n",
    "        \"Facilities\": \"Pool, Garden, Sauna\",\n",
    "        \"Furnished\": \"No\",\n",
    "    }\n",
    "])"
   ]
  },
  {
   "cell_type": "markdown",
   "metadata": {
    "id": "ukX9Luje3LNj"
   },
   "source": [
    "When you are done with the above challenge, then:\n",
    "\n",
    "1. Run the code block by pressing the play button."
   ]
  },
  {
   "cell_type": "code",
   "execution_count": 8,
   "metadata": {
    "id": "Zm-dmM3W3LNj",
    "ExecuteTime": {
     "end_time": "2023-12-05T07:40:59.699258400Z",
     "start_time": "2023-12-05T07:40:59.160997400Z"
    }
   },
   "outputs": [
    {
     "data": {
      "text/plain": "'Assignment successfully submitted'"
     },
     "execution_count": 8,
     "metadata": {},
     "output_type": "execute_result"
    }
   ],
   "source": [
    "# Submit Method\n",
    "assignment_id = \"014_practical_example_tableqa_part_2\"\n",
    "question_id = \"02_data_table\"\n",
    "\n",
    "data_table = [\n",
    "    {\n",
    "      \"House\": \"House 1\",\n",
    "      \"City\": \"Jakarta\",\n",
    "      \"Price (in million IDR)\": \"5000\",\n",
    "      \"Rooms\": \"2 bed, 2 bath\",\n",
    "      \"Facilities\": \"Pool, Garage, Gym, Garden\",\n",
    "      \"Furnished\": \"Yes\",\n",
    "    },\n",
    "    {\n",
    "      \"House\": \"House 3\",\n",
    "      \"City\": \"Malang\",\n",
    "      \"Price (in million IDR)\": \"1500\",\n",
    "      \"Rooms\": \"2 bed, 1 bath\",\n",
    "      \"Facilities\": \"Pool, Gym, Sauna\",\n",
    "      \"Furnished\": \"No\",\n",
    "    },\n",
    "    {\n",
    "      \"House\": \"House 5\",\n",
    "      \"City\": \"Surabaya\",\n",
    "      \"Price (in million IDR)\": \"2200\",\n",
    "      \"Rooms\": \"3 bed, 2 bath\",\n",
    "      \"Facilities\": \"Pool, Garage, Gym, Library\",\n",
    "      \"Furnished\": \"No\",\n",
    "    }\n",
    "]\n",
    "\n",
    "submit(student_id, name, assignment_id, str(map_data_to_table_format(data_table)), question_id)"
   ]
  },
  {
   "cell_type": "markdown",
   "metadata": {
    "id": "ILACQVLL3LNk"
   },
   "source": [
    "# Challenge: Create the function\n",
    "\n",
    "For the rest of how to display the table we'll use something called `DataFrame`, it's a complex data structure to manage table data more easily. To ease our learning all needed function is already provided, it's not that hard so feel free to read it yourself on the code block below\n",
    "\n",
    "Now the only thing you need is to fulfill below `table_qa` function, basically you just need to create a function that retrieve argument of string and then this function will pass that string to table QA pipeline and then return the result of the pipeline (Hint: Just copy paste the code from the previous notebook and modify it a little bit)\n",
    "\n",
    "After that you've done! Just run below code and have fun on querying the table to answer any question that you might have on given 10 houses dataset!"
   ]
  },
  {
   "cell_type": "code",
   "execution_count": 33,
   "outputs": [
    {
     "name": "stdout",
     "output_type": "stream",
     "text": [
      "Running on local URL:  http://127.0.0.1:7867\n",
      "\n",
      "To create a public link, set `share=True` in `launch()`.\n"
     ]
    },
    {
     "data": {
      "text/plain": "<IPython.core.display.HTML object>",
      "text/html": "<div><iframe src=\"http://127.0.0.1:7867/\" width=\"100%\" height=\"500\" allow=\"autoplay; camera; microphone; clipboard-read; clipboard-write;\" frameborder=\"0\" allowfullscreen></iframe></div>"
     },
     "metadata": {},
     "output_type": "display_data"
    },
    {
     "data": {
      "text/plain": ""
     },
     "execution_count": 33,
     "metadata": {},
     "output_type": "execute_result"
    }
   ],
   "source": [
    "from transformers import pipeline\n",
    "import gradio as gr\n",
    "\n",
    "def table_qa(inp):\n",
    "    table_qas = pipeline(\"table-question-answering\", model=\"google/tapas-large-finetuned-wtq\")\n",
    "    return table_qas({\"table\": data, \"query\": inp})['coordinates'] # your code here\n",
    "\n",
    "def data_classifier(inp):\n",
    "  model_answer = table_qa(inp)\n",
    "  data_p = map_data_to_table_format(map_coordinates_to_data(model_answer, data))\n",
    "  return gr.Dataframe(data_p, headers=[\"House\", \"City\", \"Price\", \"Rooms\", \"Facilities\", \"Furnished\"], col_count=6)\n",
    "\n",
    "gr.Interface(fn=data_classifier, inputs=\"text\", outputs=\"datafame\").launch()"
   ],
   "metadata": {
    "collapsed": false,
    "ExecuteTime": {
     "end_time": "2023-12-05T08:00:56.652196800Z",
     "start_time": "2023-12-05T08:00:56.552362300Z"
    }
   }
  },
  {
   "cell_type": "markdown",
   "metadata": {
    "id": "OhqQiNAE3LNk"
   },
   "source": [
    "When you are done with the above challenge, then:\n",
    "\n",
    "1. Run the code block by pressing the play button."
   ]
  },
  {
   "cell_type": "code",
   "execution_count": 34,
   "metadata": {
    "id": "DoNKvZkA3LNk",
    "ExecuteTime": {
     "end_time": "2023-12-05T08:01:50.868763500Z",
     "start_time": "2023-12-05T08:01:48.020748300Z"
    }
   },
   "outputs": [
    {
     "data": {
      "text/plain": "'Assignment successfully submitted'"
     },
     "execution_count": 34,
     "metadata": {},
     "output_type": "execute_result"
    }
   ],
   "source": [
    "# Submit Method\n",
    "assignment_id = \"014_practical_example_tableqa_part_2\"\n",
    "question_id = \"03_table_qa\"\n",
    "\n",
    "submit(student_id, name, assignment_id, str(table_qa(\"How many houses are there in Malang?\")), question_id)"
   ]
  }
 ],
 "metadata": {
  "kernelspec": {
   "display_name": "Python 3 (ipykernel)",
   "language": "python",
   "name": "python3"
  },
  "language_info": {
   "codemirror_mode": {
    "name": "ipython",
    "version": 3
   },
   "file_extension": ".py",
   "mimetype": "text/x-python",
   "name": "python",
   "nbconvert_exporter": "python",
   "pygments_lexer": "ipython3",
   "version": "3.11.3"
  },
  "colab": {
   "provenance": []
  }
 },
 "nbformat": 4,
 "nbformat_minor": 0
}
